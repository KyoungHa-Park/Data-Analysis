{
 "cells": [
  {
   "cell_type": "code",
   "execution_count": null,
   "metadata": {},
   "outputs": [],
   "source": []
  },
  {
   "cell_type": "markdown",
   "metadata": {},
   "source": [
    "**Index**\n",
    "+ [x] 1.자동 인코딩\n",
    "+ [x] 2.지정(강제) 인코딩\n",
    "+ [ ] 3.지정(강제) 인코딩(Binary Case)\n",
    "+ [ ] 4.One Hot Encoding\n",
    "+ [ ] 5.Scikit-Learn활용"
   ]
  },
  {
   "cell_type": "code",
   "execution_count": 2,
   "metadata": {},
   "outputs": [],
   "source": [
    "\n",
    "import cx_Oracle as oci\n",
    "import pandas as pd\n"
   ]
  },
  {
   "cell_type": "code",
   "execution_count": 32,
   "metadata": {},
   "outputs": [],
   "source": [
    "# data load\n",
    "# version 2 : test1\n",
    "\n",
    "# 접속정보\n",
    "con_text = open(\"C:/Users/MAEIL/conn_info_MMBSHIP.txt\", 'r', encoding='utf8')\n",
    "con_text = con_text.read()\n",
    "\n",
    "# DB 접속\n",
    "conn = oci.connect(con_text)\n",
    "\n",
    "## query 실행( =자료 추출)\n",
    "df = pd.read_sql(\"select * from temp_pkh_selmun2\" , con = conn)\n"
   ]
  },
  {
   "cell_type": "code",
   "execution_count": 33,
   "metadata": {},
   "outputs": [],
   "source": [
    "del df['CELLNO']"
   ]
  },
  {
   "cell_type": "code",
   "execution_count": null,
   "metadata": {},
   "outputs": [],
   "source": []
  },
  {
   "cell_type": "code",
   "execution_count": 34,
   "metadata": {},
   "outputs": [
    {
     "data": {
      "text/html": [
       "<div>\n",
       "<style scoped>\n",
       "    .dataframe tbody tr th:only-of-type {\n",
       "        vertical-align: middle;\n",
       "    }\n",
       "\n",
       "    .dataframe tbody tr th {\n",
       "        vertical-align: top;\n",
       "    }\n",
       "\n",
       "    .dataframe thead th {\n",
       "        text-align: right;\n",
       "    }\n",
       "</style>\n",
       "<table border=\"1\" class=\"dataframe\">\n",
       "  <thead>\n",
       "    <tr style=\"text-align: right;\">\n",
       "      <th></th>\n",
       "      <th>UNFY_MMB_NO</th>\n",
       "      <th>REG_DTM</th>\n",
       "      <th>Q01</th>\n",
       "      <th>Q01_1</th>\n",
       "      <th>Q02</th>\n",
       "      <th>Q03</th>\n",
       "      <th>Q04</th>\n",
       "      <th>Q05</th>\n",
       "      <th>Q06</th>\n",
       "      <th>Q07</th>\n",
       "      <th>...</th>\n",
       "      <th>ORGANIC_AND_PREMIUM</th>\n",
       "      <th>MEAL_REPLACEMENT</th>\n",
       "      <th>HOME_COOK</th>\n",
       "      <th>PROMOTION_SENSITIVE</th>\n",
       "      <th>WELL_AGING</th>\n",
       "      <th>TASTE_SEEKER</th>\n",
       "      <th>SENSITIVE_TO_CAFFINE</th>\n",
       "      <th>SNS_USER</th>\n",
       "      <th>OH_MY_BABY</th>\n",
       "      <th>FIRST_TAKER</th>\n",
       "    </tr>\n",
       "  </thead>\n",
       "  <tbody>\n",
       "    <tr>\n",
       "      <th>78787</th>\n",
       "      <td>5468987</td>\n",
       "      <td>2020-06-06</td>\n",
       "      <td>아니오</td>\n",
       "      <td>사이트 불안정으로</td>\n",
       "      <td>None</td>\n",
       "      <td>구입해 본 적 있다</td>\n",
       "      <td>None</td>\n",
       "      <td>본인 외 가족</td>\n",
       "      <td>예</td>\n",
       "      <td>두유, 발효유, 치즈, RTD 커피 , 단백질 보충제</td>\n",
       "      <td>...</td>\n",
       "      <td>0</td>\n",
       "      <td>1</td>\n",
       "      <td>1</td>\n",
       "      <td>0</td>\n",
       "      <td>0</td>\n",
       "      <td>1</td>\n",
       "      <td>1</td>\n",
       "      <td>1</td>\n",
       "      <td>1</td>\n",
       "      <td>0</td>\n",
       "    </tr>\n",
       "  </tbody>\n",
       "</table>\n",
       "<p>1 rows × 62 columns</p>\n",
       "</div>"
      ],
      "text/plain": [
       "      UNFY_MMB_NO    REG_DTM  Q01      Q01_1   Q02         Q03   Q04      Q05  \\\n",
       "78787     5468987 2020-06-06  아니오  사이트 불안정으로  None  구입해 본 적 있다  None  본인 외 가족   \n",
       "\n",
       "      Q06                            Q07  ... ORGANIC_AND_PREMIUM  \\\n",
       "78787   예  두유, 발효유, 치즈, RTD 커피 , 단백질 보충제  ...                   0   \n",
       "\n",
       "      MEAL_REPLACEMENT HOME_COOK PROMOTION_SENSITIVE WELL_AGING TASTE_SEEKER  \\\n",
       "78787                1         1                   0          0            1   \n",
       "\n",
       "      SENSITIVE_TO_CAFFINE SNS_USER OH_MY_BABY FIRST_TAKER  \n",
       "78787                    1        1          1           0  \n",
       "\n",
       "[1 rows x 62 columns]"
      ]
     },
     "execution_count": 34,
     "metadata": {},
     "output_type": "execute_result"
    }
   ],
   "source": [
    "df.tail(1)"
   ]
  },
  {
   "cell_type": "code",
   "execution_count": null,
   "metadata": {},
   "outputs": [],
   "source": []
  },
  {
   "cell_type": "code",
   "execution_count": null,
   "metadata": {},
   "outputs": [],
   "source": []
  },
  {
   "cell_type": "markdown",
   "metadata": {},
   "source": [
    "### 1.빠른 인코딩"
   ]
  },
  {
   "cell_type": "code",
   "execution_count": 43,
   "metadata": {},
   "outputs": [],
   "source": [
    "# 빠른 인코딩\n",
    "df[\"Q36_CAT\"] = df[\"Q36\"].astype('category').cat.codes"
   ]
  },
  {
   "cell_type": "code",
   "execution_count": 44,
   "metadata": {
    "scrolled": true
   },
   "outputs": [
    {
     "data": {
      "text/plain": [
       "1인가구             10305\n",
       "기혼 고등자녀           2485\n",
       "기혼 무자녀            6210\n",
       "기혼 성인자녀           3174\n",
       "기혼 자녀 3세이하        5986\n",
       "기혼 자녀 4-7세       11527\n",
       "기혼 자녀 unknown      345\n",
       "기혼 중등자녀           4260\n",
       "기혼 초등자녀          15406\n",
       "미성년응답자             669\n",
       "부모동거 성인          18421\n",
       "Name: Q36, dtype: int64"
      ]
     },
     "execution_count": 44,
     "metadata": {},
     "output_type": "execute_result"
    }
   ],
   "source": [
    "# 변환 전\n",
    "df[\"Q36\"].value_counts().sort_index()"
   ]
  },
  {
   "cell_type": "code",
   "execution_count": null,
   "metadata": {},
   "outputs": [],
   "source": []
  },
  {
   "cell_type": "code",
   "execution_count": 45,
   "metadata": {},
   "outputs": [
    {
     "data": {
      "text/plain": [
       "0     10305\n",
       "1      2485\n",
       "2      6210\n",
       "3      3174\n",
       "4      5986\n",
       "5     11527\n",
       "6       345\n",
       "7      4260\n",
       "8     15406\n",
       "9       669\n",
       "10    18421\n",
       "Name: Q36_CAT, dtype: int64"
      ]
     },
     "execution_count": 45,
     "metadata": {},
     "output_type": "execute_result"
    }
   ],
   "source": [
    "# 변환 전\n",
    "df[\"Q36_CAT\"].value_counts().sort_index()"
   ]
  },
  {
   "cell_type": "code",
   "execution_count": null,
   "metadata": {},
   "outputs": [],
   "source": []
  },
  {
   "cell_type": "markdown",
   "metadata": {},
   "source": [
    "### 2.지정(강제) 인코딩"
   ]
  },
  {
   "cell_type": "code",
   "execution_count": null,
   "metadata": {},
   "outputs": [],
   "source": []
  },
  {
   "cell_type": "code",
   "execution_count": null,
   "metadata": {},
   "outputs": [],
   "source": []
  },
  {
   "cell_type": "code",
   "execution_count": null,
   "metadata": {},
   "outputs": [],
   "source": []
  },
  {
   "cell_type": "code",
   "execution_count": null,
   "metadata": {},
   "outputs": [],
   "source": []
  },
  {
   "cell_type": "markdown",
   "metadata": {},
   "source": [
    "### 3.지정(강제) 인코딩(Binary Case)"
   ]
  },
  {
   "cell_type": "code",
   "execution_count": null,
   "metadata": {},
   "outputs": [],
   "source": []
  },
  {
   "cell_type": "code",
   "execution_count": null,
   "metadata": {},
   "outputs": [],
   "source": []
  },
  {
   "cell_type": "code",
   "execution_count": null,
   "metadata": {},
   "outputs": [],
   "source": []
  },
  {
   "cell_type": "code",
   "execution_count": null,
   "metadata": {},
   "outputs": [],
   "source": []
  },
  {
   "cell_type": "markdown",
   "metadata": {},
   "source": [
    "### 4.One Hot Encoding"
   ]
  },
  {
   "cell_type": "code",
   "execution_count": null,
   "metadata": {},
   "outputs": [],
   "source": []
  },
  {
   "cell_type": "code",
   "execution_count": null,
   "metadata": {},
   "outputs": [],
   "source": []
  },
  {
   "cell_type": "code",
   "execution_count": null,
   "metadata": {},
   "outputs": [],
   "source": [
    "from sklearn.preprocessing import LabelBinarizer\n",
    "\n",
    "lb_style = LabelBinarizer()\n",
    "lb_results = lb_style.fit_transform(obj_df[\"body_style\"])\n",
    "pd.DataFrame(lb_results, columns=lb_style.classes_).head()"
   ]
  },
  {
   "cell_type": "code",
   "execution_count": null,
   "metadata": {},
   "outputs": [],
   "source": []
  },
  {
   "cell_type": "markdown",
   "metadata": {},
   "source": [
    "### 5.Scikit-Learn활용"
   ]
  },
  {
   "cell_type": "code",
   "execution_count": 48,
   "metadata": {},
   "outputs": [],
   "source": [
    "from sklearn.preprocessing import LabelEncoder\n",
    "\n",
    "lb_make = LabelEncoder()\n",
    "df[\"Q05_T\"] = lb_make.fit_transform(df[\"Q05\"])"
   ]
  },
  {
   "cell_type": "code",
   "execution_count": 54,
   "metadata": {},
   "outputs": [
    {
     "data": {
      "text/html": [
       "<div>\n",
       "<style scoped>\n",
       "    .dataframe tbody tr th:only-of-type {\n",
       "        vertical-align: middle;\n",
       "    }\n",
       "\n",
       "    .dataframe tbody tr th {\n",
       "        vertical-align: top;\n",
       "    }\n",
       "\n",
       "    .dataframe thead th {\n",
       "        text-align: right;\n",
       "    }\n",
       "</style>\n",
       "<table border=\"1\" class=\"dataframe\">\n",
       "  <thead>\n",
       "    <tr style=\"text-align: right;\">\n",
       "      <th></th>\n",
       "      <th>Q05</th>\n",
       "      <th>Q05_T</th>\n",
       "    </tr>\n",
       "  </thead>\n",
       "  <tbody>\n",
       "    <tr>\n",
       "      <th>78783</th>\n",
       "      <td>본인</td>\n",
       "      <td>0</td>\n",
       "    </tr>\n",
       "    <tr>\n",
       "      <th>78784</th>\n",
       "      <td>본인 외 가족</td>\n",
       "      <td>1</td>\n",
       "    </tr>\n",
       "    <tr>\n",
       "      <th>78785</th>\n",
       "      <td>본인 외 가족</td>\n",
       "      <td>1</td>\n",
       "    </tr>\n",
       "    <tr>\n",
       "      <th>78786</th>\n",
       "      <td>본인</td>\n",
       "      <td>0</td>\n",
       "    </tr>\n",
       "    <tr>\n",
       "      <th>78787</th>\n",
       "      <td>본인 외 가족</td>\n",
       "      <td>1</td>\n",
       "    </tr>\n",
       "  </tbody>\n",
       "</table>\n",
       "</div>"
      ],
      "text/plain": [
       "           Q05  Q05_T\n",
       "78783      본인       0\n",
       "78784  본인 외 가족      1\n",
       "78785  본인 외 가족      1\n",
       "78786      본인       0\n",
       "78787  본인 외 가족      1"
      ]
     },
     "execution_count": 54,
     "metadata": {},
     "output_type": "execute_result"
    }
   ],
   "source": [
    "# 결과 비교\n",
    "df[[\"Q05\", \"Q05_T\"]].tail(5)"
   ]
  },
  {
   "cell_type": "code",
   "execution_count": null,
   "metadata": {},
   "outputs": [],
   "source": []
  },
  {
   "cell_type": "code",
   "execution_count": null,
   "metadata": {},
   "outputs": [],
   "source": []
  }
 ],
 "metadata": {
  "kernelspec": {
   "display_name": "Python 3",
   "language": "python",
   "name": "python3"
  },
  "language_info": {
   "codemirror_mode": {
    "name": "ipython",
    "version": 3
   },
   "file_extension": ".py",
   "mimetype": "text/x-python",
   "name": "python",
   "nbconvert_exporter": "python",
   "pygments_lexer": "ipython3",
   "version": "3.7.6"
  }
 },
 "nbformat": 4,
 "nbformat_minor": 4
}
