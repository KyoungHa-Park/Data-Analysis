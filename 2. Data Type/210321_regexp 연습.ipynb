{
 "cells": [
  {
   "cell_type": "code",
   "execution_count": null,
   "metadata": {
    "id": "9690wwu1HW34"
   },
   "outputs": [],
   "source": []
  },
  {
   "cell_type": "code",
   "execution_count": 1,
   "metadata": {
    "executionInfo": {
     "elapsed": 2189,
     "status": "ok",
     "timestamp": 1617023895253,
     "user": {
      "displayName": "박경하",
      "photoUrl": "",
      "userId": "14970276928355419245"
     },
     "user_tz": -540
    },
    "id": "Qprl2I-HHW4L"
   },
   "outputs": [],
   "source": [
    "import re"
   ]
  },
  {
   "cell_type": "code",
   "execution_count": 30,
   "metadata": {
    "executionInfo": {
     "elapsed": 876,
     "status": "ok",
     "timestamp": 1617024582011,
     "user": {
      "displayName": "박경하",
      "photoUrl": "",
      "userId": "14970276928355419245"
     },
     "user_tz": -540
    },
    "id": "kXR38AaBHW4N"
   },
   "outputs": [],
   "source": [
    "#############\n",
    "# 예시1 : 라방 내용\n",
    "######\n",
    "text1 = '고딩 청소년도 먹어도 되나요?'\n",
    "text2 = '👍👍👍❤❤❤ 안녕하새요'\n",
    "text3 = '👏응원합니다!!👏🌟🎉🎖'\n",
    "text4 = '네이버 / ㅇㄴㅁ / 101016 > G_12054 / 텍스트'\n",
    "text5 = '네이버 / ㅇㄴㅁ / 101016 > 202016 / 텍스트'"
   ]
  },
  {
   "cell_type": "code",
   "execution_count": null,
   "metadata": {
    "id": "jZCrl090HW4O",
    "outputId": "7d0db586-17f3-4116-f61b-b83821eadd34"
   },
   "outputs": [
    {
     "data": {
      "text/plain": [
       "['안', '녕', '하', '새', '요']"
      ]
     },
     "execution_count": 103,
     "metadata": {
      "tags": []
     },
     "output_type": "execute_result"
    }
   ],
   "source": [
    "# 문자만 : 개별\n",
    "re.findall('\\w', text2)"
   ]
  },
  {
   "cell_type": "code",
   "execution_count": null,
   "metadata": {
    "id": "Td5XovcGHW4T",
    "outputId": "add668c2-3830-4998-b2a8-9fe258f16561"
   },
   "outputs": [
    {
     "data": {
      "text/plain": [
       "'안녕하새요'"
      ]
     },
     "execution_count": 104,
     "metadata": {
      "tags": []
     },
     "output_type": "execute_result"
    }
   ],
   "source": [
    "# 문자만 : 전체\n",
    "re.findall('\\w+', text2)[0]"
   ]
  },
  {
   "cell_type": "code",
   "execution_count": null,
   "metadata": {
    "id": "FjAB45xFHW4U",
    "outputId": "ba37ab75-c57f-4982-e2fb-0c86d6b6bd61"
   },
   "outputs": [
    {
     "data": {
      "text/plain": [
       "'👍👍👍❤❤❤ '"
      ]
     },
     "execution_count": 101,
     "metadata": {
      "tags": []
     },
     "output_type": "execute_result"
    }
   ],
   "source": [
    "# 문자 아님\n",
    "re.findall('^\\W+', text2)[0]"
   ]
  },
  {
   "cell_type": "code",
   "execution_count": null,
   "metadata": {
    "id": "-j5s0wrtHW4V",
    "outputId": "c7f85cd6-5a4e-425c-d31a-83272c932a09"
   },
   "outputs": [
    {
     "data": {
      "text/plain": [
       "'?'"
      ]
     },
     "execution_count": 100,
     "metadata": {
      "tags": []
     },
     "output_type": "execute_result"
    }
   ],
   "source": [
    "# 물음표를 추출\n",
    "re.findall('[\"?\"]+', text1)[0]"
   ]
  },
  {
   "cell_type": "code",
   "execution_count": 26,
   "metadata": {
    "colab": {
     "base_uri": "https://localhost:8080/"
    },
    "executionInfo": {
     "elapsed": 791,
     "status": "ok",
     "timestamp": 1617024545193,
     "user": {
      "displayName": "박경하",
      "photoUrl": "",
      "userId": "14970276928355419245"
     },
     "user_tz": -540
    },
    "id": "rUZ1ALtwI2rV",
    "outputId": "c0e52cd3-d989-4262-b899-4863dd9ab656"
   },
   "outputs": [
    {
     "data": {
      "text/plain": [
       "[('101016', '')]"
      ]
     },
     "execution_count": 26,
     "metadata": {
      "tags": []
     },
     "output_type": "execute_result"
    }
   ],
   "source": [
    "re.findall('(\\d{6})|(\\{6})', text4)"
   ]
  },
  {
   "cell_type": "code",
   "execution_count": 36,
   "metadata": {
    "colab": {
     "base_uri": "https://localhost:8080/"
    },
    "executionInfo": {
     "elapsed": 858,
     "status": "ok",
     "timestamp": 1617024671087,
     "user": {
      "displayName": "박경하",
      "photoUrl": "",
      "userId": "14970276928355419245"
     },
     "user_tz": -540
    },
    "id": "QH9BufMpI2us",
    "outputId": "279a2e64-bb45-4527-c924-d7613c0ed88f"
   },
   "outputs": [
    {
     "data": {
      "text/plain": [
       "['G']"
      ]
     },
     "execution_count": 36,
     "metadata": {
      "tags": []
     },
     "output_type": "execute_result"
    }
   ],
   "source": [
    "re.findall('([A-Z])', text4)"
   ]
  },
  {
   "cell_type": "code",
   "execution_count": 44,
   "metadata": {
    "colab": {
     "base_uri": "https://localhost:8080/"
    },
    "executionInfo": {
     "elapsed": 556,
     "status": "ok",
     "timestamp": 1617024748414,
     "user": {
      "displayName": "박경하",
      "photoUrl": "",
      "userId": "14970276928355419245"
     },
     "user_tz": -540
    },
    "id": "rDU0YwVXLaaK",
    "outputId": "09df39e1-7e76-4d4b-9350-5309f0ff7cfc"
   },
   "outputs": [
    {
     "data": {
      "text/plain": [
       "['101016']"
      ]
     },
     "execution_count": 44,
     "metadata": {
      "tags": []
     },
     "output_type": "execute_result"
    }
   ],
   "source": [
    "re.findall('(\\d{6}) [>]', text5)"
   ]
  },
  {
   "cell_type": "code",
   "execution_count": 43,
   "metadata": {
    "colab": {
     "base_uri": "https://localhost:8080/"
    },
    "executionInfo": {
     "elapsed": 921,
     "status": "ok",
     "timestamp": 1617024740008,
     "user": {
      "displayName": "박경하",
      "photoUrl": "",
      "userId": "14970276928355419245"
     },
     "user_tz": -540
    },
    "id": "Tebatk4NLoD0",
    "outputId": "4409915f-26a9-46bf-d71f-2d7ac2360b95"
   },
   "outputs": [
    {
     "data": {
      "text/plain": [
       "['202016']"
      ]
     },
     "execution_count": 43,
     "metadata": {
      "tags": []
     },
     "output_type": "execute_result"
    }
   ],
   "source": [
    "re.findall('[>] (\\d{6})', text5)"
   ]
  },
  {
   "cell_type": "code",
   "execution_count": 65,
   "metadata": {
    "colab": {
     "base_uri": "https://localhost:8080/"
    },
    "executionInfo": {
     "elapsed": 881,
     "status": "ok",
     "timestamp": 1617024997978,
     "user": {
      "displayName": "박경하",
      "photoUrl": "",
      "userId": "14970276928355419245"
     },
     "user_tz": -540
    },
    "id": "z7539969LoGj",
    "outputId": "73612888-2c78-428a-bf9f-dfe3a026b33b"
   },
   "outputs": [
    {
     "data": {
      "text/plain": [
       "['G_12054']"
      ]
     },
     "execution_count": 65,
     "metadata": {
      "tags": []
     },
     "output_type": "execute_result"
    }
   ],
   "source": [
    "re.findall('[>] ([G_].[0-9]{5})', text4)"
   ]
  },
  {
   "cell_type": "code",
   "execution_count": 73,
   "metadata": {
    "colab": {
     "base_uri": "https://localhost:8080/"
    },
    "executionInfo": {
     "elapsed": 819,
     "status": "ok",
     "timestamp": 1617025066979,
     "user": {
      "displayName": "박경하",
      "photoUrl": "",
      "userId": "14970276928355419245"
     },
     "user_tz": -540
    },
    "id": "CWeTVCQtLoJS",
    "outputId": "b2de6744-d3d2-40e4-ac15-420fbab685af"
   },
   "outputs": [
    {
     "data": {
      "text/plain": [
       "['G_12054']"
      ]
     },
     "execution_count": 73,
     "metadata": {
      "tags": []
     },
     "output_type": "execute_result"
    }
   ],
   "source": [
    "re.findall('[>] ([G_].[0-9]{5})', text4)"
   ]
  },
  {
   "cell_type": "code",
   "execution_count": null,
   "metadata": {
    "id": "YUzLZkCwLoL5"
   },
   "outputs": [],
   "source": []
  },
  {
   "cell_type": "code",
   "execution_count": null,
   "metadata": {
    "id": "VUJK_znwHW4X",
    "outputId": "7398b7a8-12cc-4a9f-c349-9175a4a04485"
   },
   "outputs": [
    {
     "data": {
      "text/plain": [
       "['👏👏🌟🎉🎖']"
      ]
     },
     "execution_count": 4,
     "metadata": {
      "tags": []
     },
     "output_type": "execute_result"
    }
   ],
   "source": [
    "\n",
    "import emoji\n",
    "text_de= emoji.demojize(text3)\n",
    "emojis_list_de= re.findall(r'(:[!_\\-\\w]+:)', text_de)\n",
    "list_emoji= [emoji.emojize(x) for x in emojis_list_de]\n",
    "list_emoji= [''.join(list_emoji)]\n",
    "list_emoji"
   ]
  },
  {
   "cell_type": "code",
   "execution_count": null,
   "metadata": {
    "id": "FgyPRpyyHW4Y"
   },
   "outputs": [],
   "source": []
  },
  {
   "cell_type": "code",
   "execution_count": null,
   "metadata": {
    "id": "XR3wvcFSHW4Z"
   },
   "outputs": [],
   "source": []
  },
  {
   "cell_type": "code",
   "execution_count": null,
   "metadata": {
    "id": "eQ-QTaWZHW4Z"
   },
   "outputs": [],
   "source": [
    "#############\n",
    "# 예시2 : 주문정보 발라내기\n",
    "######\n",
    "text10 = '네이버/교환/ 제품1 > 제품2 / 010-0000-1234'"
   ]
  },
  {
   "cell_type": "code",
   "execution_count": null,
   "metadata": {
    "id": "5l62wwE3HW4a",
    "outputId": "84911023-544c-4410-e02b-b870dd185696"
   },
   "outputs": [
    {
     "data": {
      "text/plain": [
       "['010-0000-1234']"
      ]
     },
     "execution_count": 76,
     "metadata": {
      "tags": []
     },
     "output_type": "execute_result"
    }
   ],
   "source": [
    "p = re.compile(r'\\d+[-]\\d+[-]\\d+')\n",
    "p.findall(text10)"
   ]
  },
  {
   "cell_type": "code",
   "execution_count": null,
   "metadata": {
    "id": "2JM9mp9yHW4b",
    "outputId": "ab5296c7-7e7a-4aab-f2a6-347687fe582b"
   },
   "outputs": [
    {
     "data": {
      "text/plain": [
       "['010-0000-1234']"
      ]
     },
     "execution_count": 79,
     "metadata": {
      "tags": []
     },
     "output_type": "execute_result"
    }
   ],
   "source": [
    "# 휴대전화번호 패턴\n",
    "re.findall('\\d{2,3}[-]\\d+[-]\\d+', text10)"
   ]
  },
  {
   "cell_type": "code",
   "execution_count": null,
   "metadata": {
    "id": "HZfTdggVHW4c",
    "outputId": "4821072a-1cb4-4166-dd80-4ba9d0cdc6f2"
   },
   "outputs": [
    {
     "data": {
      "text/plain": [
       "[]"
      ]
     },
     "execution_count": 105,
     "metadata": {
      "tags": []
     },
     "output_type": "execute_result"
    }
   ],
   "source": [
    "re.findall('\\S+[>]|S+', text10)"
   ]
  },
  {
   "cell_type": "code",
   "execution_count": null,
   "metadata": {
    "id": "91ZvHuE0HW4d",
    "outputId": "25737f4a-b902-45ba-afa1-3abae80ca787"
   },
   "outputs": [
    {
     "data": {
      "text/plain": [
       "[]"
      ]
     },
     "execution_count": 142,
     "metadata": {
      "tags": []
     },
     "output_type": "execute_result"
    }
   ],
   "source": [
    "re.findall('\\d+[>]', text10)"
   ]
  },
  {
   "cell_type": "code",
   "execution_count": null,
   "metadata": {
    "id": "dc0afTBlHW4e"
   },
   "outputs": [],
   "source": []
  },
  {
   "cell_type": "code",
   "execution_count": 3,
   "metadata": {
    "id": "VO9PGpPAHW4e"
   },
   "outputs": [
    {
     "name": "stdout",
     "output_type": "stream",
     "text": [
      "서울 중랑구 중화동\n",
      "서울\n",
      "중랑구\n",
      "중화동\n"
     ]
    }
   ],
   "source": [
    "#############\n",
    "# 예시3 : Text 띄어쓰기 구분\n",
    "######\n",
    "\n",
    "text = '서울 중랑구 중화동'\n",
    "pattern1 = r'^(\\S+)'\n",
    "pattern2 = r'^\\S+\\s+(\\S.*)\\s+'\n",
    "pattern3 = r'^\\S+\\s+\\S+\\s+(\\S.*)'\n",
    "\n",
    "print(text ) \n",
    "print(re.findall(pattern1, text )[0] ) \n",
    "print(re.findall(pattern2, text )[0] ) \n",
    "print(re.findall(pattern3, text )[0] ) \n"
   ]
  },
  {
   "cell_type": "code",
   "execution_count": 10,
   "metadata": {
    "id": "7Q5L8qtvHW4f"
   },
   "outputs": [
    {
     "name": "stdout",
     "output_type": "stream",
     "text": [
      "경기 안산시 단원구 초지동\n",
      "경기\n",
      "안산시 단원구\n",
      "단원구 초지동\n",
      "('경기', '안산')\n"
     ]
    }
   ],
   "source": [
    "import re \n",
    "text = '경기 안산시 단원구 초지동'\n",
    "pattern1 = r'^(\\S+)'\n",
    "pattern2 = r'^\\S+\\s+(\\S.*)\\s+'\n",
    "pattern3 = r'^\\S+\\s+\\S+\\s+(\\S.*)'\n",
    "pattern4 = r'^(\\S+)\\s(\\S.)\\S'\n",
    "\n",
    "print(text ) \n",
    "print(re.findall(pattern1, text )[0] ) \n",
    "print(re.findall(pattern2, text )[0] ) \n",
    "print(re.findall(pattern3, text )[0] ) \n",
    "print(re.findall(pattern4, text )[0] ) "
   ]
  },
  {
   "cell_type": "code",
   "execution_count": null,
   "metadata": {
    "id": "x9gcDbVyHW4g"
   },
   "outputs": [],
   "source": []
  },
  {
   "cell_type": "code",
   "execution_count": null,
   "metadata": {
    "id": "orVAhrRSHW4g"
   },
   "outputs": [],
   "source": [
    "# 자료 불러오기 :Excel \n",
    "import pandas as pd\n",
    "\n",
    "# Excel 불러오기\n",
    "data1 = pd.read_excel('./210317_네이버라이브_유기농궁.xlsx', '가공')"
   ]
  },
  {
   "cell_type": "code",
   "execution_count": null,
   "metadata": {
    "id": "T2jFKuBMHW4h",
    "outputId": "32ef370f-7263-49f3-943f-9d9466e8b507"
   },
   "outputs": [
    {
     "data": {
      "text/html": [
       "<div>\n",
       "<style scoped>\n",
       "    .dataframe tbody tr th:only-of-type {\n",
       "        vertical-align: middle;\n",
       "    }\n",
       "\n",
       "    .dataframe tbody tr th {\n",
       "        vertical-align: top;\n",
       "    }\n",
       "\n",
       "    .dataframe thead th {\n",
       "        text-align: right;\n",
       "    }\n",
       "</style>\n",
       "<table border=\"1\" class=\"dataframe\">\n",
       "  <thead>\n",
       "    <tr style=\"text-align: right;\">\n",
       "      <th></th>\n",
       "      <th>시간</th>\n",
       "      <th>작성자</th>\n",
       "      <th>내용</th>\n",
       "      <th>VIEW</th>\n",
       "      <th>LIKE</th>\n",
       "      <th>성향</th>\n",
       "      <th>소분류</th>\n",
       "      <th>Unnamed: 7</th>\n",
       "      <th>LEN</th>\n",
       "    </tr>\n",
       "  </thead>\n",
       "  <tbody>\n",
       "    <tr>\n",
       "      <th>0</th>\n",
       "      <td>2021-03-17 12:55:29</td>\n",
       "      <td>여니여니</td>\n",
       "      <td>기다리고 있었습니다!!!</td>\n",
       "      <td>3586</td>\n",
       "      <td>143</td>\n",
       "      <td>중립</td>\n",
       "      <td>소통참여</td>\n",
       "      <td>NaN</td>\n",
       "      <td>15</td>\n",
       "    </tr>\n",
       "    <tr>\n",
       "      <th>1</th>\n",
       "      <td>2021-03-17 12:55:30</td>\n",
       "      <td>쿠루쿠루</td>\n",
       "      <td>제 조카도 입이 짧아서 뭘 줘도 잘 안먹드라구요 ㅠ</td>\n",
       "      <td>3590</td>\n",
       "      <td>143</td>\n",
       "      <td>중립</td>\n",
       "      <td>소통참여</td>\n",
       "      <td>NaN</td>\n",
       "      <td>30</td>\n",
       "    </tr>\n",
       "    <tr>\n",
       "      <th>2</th>\n",
       "      <td>2021-03-17 12:55:53</td>\n",
       "      <td>쿠루쿠루</td>\n",
       "      <td>그래도 생우유보단 분유나 킨더밀쉬가 같은 양 먹더라도</td>\n",
       "      <td>3714</td>\n",
       "      <td>144</td>\n",
       "      <td>문의</td>\n",
       "      <td>기타</td>\n",
       "      <td>NaN</td>\n",
       "      <td>31</td>\n",
       "    </tr>\n",
       "    <tr>\n",
       "      <th>3</th>\n",
       "      <td>2021-03-17 12:55:54</td>\n",
       "      <td>자라</td>\n",
       "      <td>안녕하셍ㅇ</td>\n",
       "      <td>3730</td>\n",
       "      <td>144</td>\n",
       "      <td>중립</td>\n",
       "      <td>소통참여</td>\n",
       "      <td>NaN</td>\n",
       "      <td>7</td>\n",
       "    </tr>\n",
       "    <tr>\n",
       "      <th>4</th>\n",
       "      <td>2021-03-17 12:55:56</td>\n",
       "      <td>쿠루쿠루</td>\n",
       "      <td>더 낫지 않을까요</td>\n",
       "      <td>3740</td>\n",
       "      <td>144</td>\n",
       "      <td>문의</td>\n",
       "      <td>기타</td>\n",
       "      <td>NaN</td>\n",
       "      <td>11</td>\n",
       "    </tr>\n",
       "  </tbody>\n",
       "</table>\n",
       "</div>"
      ],
      "text/plain": [
       "                  시간     작성자                               내용    VIEW    LIKE  \\\n",
       "0 2021-03-17 12:55:29   여니여니                    기다리고 있었습니다!!!     3586    143   \n",
       "1 2021-03-17 12:55:30   쿠루쿠루     제 조카도 입이 짧아서 뭘 줘도 잘 안먹드라구요 ㅠ     3590    143   \n",
       "2 2021-03-17 12:55:53   쿠루쿠루    그래도 생우유보단 분유나 킨더밀쉬가 같은 양 먹더라도     3714    144   \n",
       "3 2021-03-17 12:55:54     자라                            안녕하셍ㅇ     3730    144   \n",
       "4 2021-03-17 12:55:56   쿠루쿠루                        더 낫지 않을까요     3740    144   \n",
       "\n",
       "   성향   소분류  Unnamed: 7  LEN  \n",
       "0  중립  소통참여         NaN   15  \n",
       "1  중립  소통참여         NaN   30  \n",
       "2  문의    기타         NaN   31  \n",
       "3  중립  소통참여         NaN    7  \n",
       "4  문의    기타         NaN   11  "
      ]
     },
     "execution_count": 6,
     "metadata": {
      "tags": []
     },
     "output_type": "execute_result"
    }
   ],
   "source": [
    "data1.head()"
   ]
  },
  {
   "cell_type": "code",
   "execution_count": null,
   "metadata": {
    "id": "GPlgzdqsHW4h",
    "outputId": "119147f4-4ee7-4eda-acd8-7117674c10fe"
   },
   "outputs": [
    {
     "data": {
      "text/plain": [
       "array([' 기다리고 있었습니다!!! ', ' 제 조카도 입이 짧아서 뭘 줘도 잘 안먹드라구요 ㅠ ',\n",
       "       ' 그래도 생우유보단 분유나 킨더밀쉬가 같은 양 먹더라도 ', ..., ' 좋네요 ', ' 잘보고 갑니다. ',\n",
       "       ' 대박 '], dtype=object)"
      ]
     },
     "execution_count": 12,
     "metadata": {
      "tags": []
     },
     "output_type": "execute_result"
    }
   ],
   "source": []
  },
  {
   "cell_type": "code",
   "execution_count": null,
   "metadata": {
    "id": "neRRaN0-HW4j"
   },
   "outputs": [],
   "source": [
    "list1 = []\n",
    "\n",
    "for i in range(0, len(data1[' 내용 '])):\n",
    "    temp = data1[' 내용 '][i]\n",
    "    temp = re.findall('^\\W+', temp)[0]\n",
    "    list1.append(temp)\n",
    "    "
   ]
  },
  {
   "cell_type": "code",
   "execution_count": null,
   "metadata": {
    "id": "ARgO0RP-HW4k"
   },
   "outputs": [],
   "source": [
    "data1['특수문자'] = list1"
   ]
  },
  {
   "cell_type": "code",
   "execution_count": null,
   "metadata": {
    "id": "a31XYDRFHW4k"
   },
   "outputs": [],
   "source": [
    "list2 = []\n",
    "\n",
    "for i in range(0, len(data1[' 내용 '])):\n",
    "    temp = data1[' 내용 '][i]\n",
    "    temp = re.findall('[\"?\"]+', temp)\n",
    "    list2.append(temp)"
   ]
  },
  {
   "cell_type": "code",
   "execution_count": null,
   "metadata": {
    "id": "vVXNnLffHW4k"
   },
   "outputs": [],
   "source": [
    "data1['물음표'] = list2"
   ]
  },
  {
   "cell_type": "code",
   "execution_count": null,
   "metadata": {
    "id": "lIrbPRFgHW4m"
   },
   "outputs": [],
   "source": []
  },
  {
   "cell_type": "code",
   "execution_count": null,
   "metadata": {
    "id": "mUlZlHpzHW4m"
   },
   "outputs": [],
   "source": [
    "excel_name = '210322_data.xlsx'\n",
    "data1.to_excel(excel_name, sheet_name= 'Sheet1' )"
   ]
  },
  {
   "cell_type": "code",
   "execution_count": null,
   "metadata": {
    "id": "BkQnkNmXHW4n"
   },
   "outputs": [],
   "source": []
  }
 ],
 "metadata": {
  "colab": {
   "collapsed_sections": [],
   "name": "210321_regexp 연습.ipynb",
   "provenance": []
  },
  "kernelspec": {
   "display_name": "Python 3",
   "language": "python",
   "name": "python3"
  },
  "language_info": {
   "codemirror_mode": {
    "name": "ipython",
    "version": 3
   },
   "file_extension": ".py",
   "mimetype": "text/x-python",
   "name": "python",
   "nbconvert_exporter": "python",
   "pygments_lexer": "ipython3",
   "version": "3.11.4"
  }
 },
 "nbformat": 4,
 "nbformat_minor": 1
}
