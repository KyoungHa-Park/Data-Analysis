{
 "cells": [
  {
   "cell_type": "code",
   "execution_count": 1,
   "metadata": {},
   "outputs": [],
   "source": [
    "import pickle"
   ]
  },
  {
   "cell_type": "code",
   "execution_count": null,
   "metadata": {},
   "outputs": [],
   "source": [
    "import pandas as pd\n",
    "import numpy as np\n",
    "\n",
    "# 테스트 데이터 생성\n",
    "_cnt = 2000000 # 200만건\n",
    "org_df = pd.DataFrame({ \\\n",
    "                     'C1': [10] * _cnt, \\\n",
    "                     'C2': [20] * _cnt, \\\n",
    "                     'MEMO': ['하하'] * _cnt }, index=np.arange(100,100+_cnt)); \n",
    "\n",
    "# # CSV파일 저장\n",
    "# Index정보(index=True), Columns이름정보(header=True)도 함께 저장한다\n",
    "org_df.to_csv(path_or_buf = 'test.csv', sep=str(','), header=True, index=True, mode='w', encoding='CP949')\n",
    "# 저장된 파일을 CSV로딩 c엔진을 통해 CP949인코딩으로 읽는다\n",
    "new_df = pd.read_csv(filepath_or_buffer = 'test.csv', engine='c', sep=',', index_col=0 , encoding='CP949', dtype={'C1':int, 'C2':int, 'MEMO':object})\n",
    "\n",
    "# # 엑셀파일 저장\n",
    "# pip install xlsxwriter\n",
    "writer = pd.ExcelWriter('test.xlsx', engine='xlsxwriter')\n",
    "org_df.to_excel(excel_writer=writer, sheet_name='Sheet1', columns=None , header=True, index=True, startrow=0, startcol=0, encoding='CP949', verbose=True)\n",
    "writer.save()\n",
    "# 엑셀파일 읽기\n",
    "new_df = pd.ExcelFile('test.xlsx').parse(sheet_name=0, engine='xlsxwriter' , encoding='CP949', verbose=True)\n",
    "\n",
    "# Pickle파일 저장\n",
    "org_df.to_pickle('test.pickle')\n",
    "# Pickle파일 읽기\n",
    "new_df = pd.read_pickle('test.pickle'); new_df"
   ]
  },
  {
   "cell_type": "code",
   "execution_count": null,
   "metadata": {},
   "outputs": [],
   "source": []
  },
  {
   "cell_type": "code",
   "execution_count": null,
   "metadata": {},
   "outputs": [],
   "source": []
  },
  {
   "cell_type": "code",
   "execution_count": null,
   "metadata": {},
   "outputs": [],
   "source": []
  }
 ],
 "metadata": {
  "kernelspec": {
   "display_name": "Python 3",
   "language": "python",
   "name": "python3"
  },
  "language_info": {
   "codemirror_mode": {
    "name": "ipython",
    "version": 3
   },
   "file_extension": ".py",
   "mimetype": "text/x-python",
   "name": "python",
   "nbconvert_exporter": "python",
   "pygments_lexer": "ipython3",
   "version": "3.7.6"
  }
 },
 "nbformat": 4,
 "nbformat_minor": 2
}
