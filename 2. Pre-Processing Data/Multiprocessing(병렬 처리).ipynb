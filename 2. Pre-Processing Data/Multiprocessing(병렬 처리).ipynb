{
 "cells": [
  {
   "cell_type": "code",
   "execution_count": null,
   "metadata": {},
   "outputs": [],
   "source": []
  },
  {
   "cell_type": "code",
   "execution_count": 23,
   "metadata": {},
   "outputs": [],
   "source": [
    "from multiprocessing import Process, Queue\n",
    "from threading import Thread\n",
    "import time"
   ]
  },
  {
   "cell_type": "code",
   "execution_count": 24,
   "metadata": {},
   "outputs": [],
   "source": [
    "# 실행 함수 정의\n",
    "def work(id, start, end, result):\n",
    "    total = 0\n",
    "    for i in range(start, end):\n",
    "        total += i\n",
    "    result.append(total)\n",
    "    return\n"
   ]
  },
  {
   "cell_type": "code",
   "execution_count": null,
   "metadata": {},
   "outputs": [],
   "source": []
  },
  {
   "cell_type": "markdown",
   "metadata": {},
   "source": [
    "### 1개 진행"
   ]
  },
  {
   "cell_type": "code",
   "execution_count": 43,
   "metadata": {},
   "outputs": [],
   "source": [
    "if __name__ == \"__main__\":\n",
    "    START, END = 0, 100000000\n",
    "    result = list()\n",
    "    th1 = Thread(target=work, args=(1, START, END, result))\n",
    "    \n",
    "    th1.start()\n",
    "    th1.join()\n",
    "    \n",
    "    result1 = sum(result)\n",
    "    result1_time = time.time() - start\n"
   ]
  },
  {
   "cell_type": "code",
   "execution_count": 44,
   "metadata": {},
   "outputs": [
    {
     "data": {
      "text/plain": [
       "(4999999950000000, 8.64128851890564)"
      ]
     },
     "execution_count": 44,
     "metadata": {},
     "output_type": "execute_result"
    }
   ],
   "source": [
    "result1, result1_time"
   ]
  },
  {
   "cell_type": "code",
   "execution_count": null,
   "metadata": {},
   "outputs": [],
   "source": []
  },
  {
   "cell_type": "markdown",
   "metadata": {},
   "source": [
    "### 2개 분할 진행"
   ]
  },
  {
   "cell_type": "code",
   "execution_count": 51,
   "metadata": {},
   "outputs": [],
   "source": [
    "start = time.time()  # 시작 시간 저장\n",
    "\n",
    "if __name__ == \"__main__\":\n",
    "    START, END = 0, 100000000\n",
    "    result = list()\n",
    "    th1 = Thread(target=work, args=(1, START, END//2, result))\n",
    "    th2 = Thread(target=work, args=(2, END//2, END, result))\n",
    "    \n",
    "    th1.start()\n",
    "    th2.start()\n",
    "    th1.join()\n",
    "    th2.join()\n",
    "    \n",
    "    result2 = sum(result)\n",
    "    result2_time = time.time() - start"
   ]
  },
  {
   "cell_type": "code",
   "execution_count": 52,
   "metadata": {},
   "outputs": [
    {
     "data": {
      "text/plain": [
       "(4999999950000000, 7.307785987854004)"
      ]
     },
     "execution_count": 52,
     "metadata": {},
     "output_type": "execute_result"
    }
   ],
   "source": [
    "result2, result2_time"
   ]
  },
  {
   "cell_type": "code",
   "execution_count": null,
   "metadata": {},
   "outputs": [],
   "source": []
  },
  {
   "cell_type": "code",
   "execution_count": null,
   "metadata": {},
   "outputs": [],
   "source": []
  },
  {
   "cell_type": "markdown",
   "metadata": {},
   "source": [
    "### 3개 분할 진행"
   ]
  },
  {
   "cell_type": "code",
   "execution_count": 57,
   "metadata": {},
   "outputs": [],
   "source": [
    "start = time.time()  # 시작 시간 저장\n",
    "\n",
    "if __name__ == \"__main__\":\n",
    "    START, END = 0, 100000000\n",
    "    result = list()\n",
    "    th1 = Thread(target=work, args=(1, START, END//3, result))\n",
    "    th2 = Thread(target=work, args=(2, END//3, END//3, result))\n",
    "    th3 = Thread(target=work, args=(3, END//3, END, result))\n",
    "    \n",
    "    th1.start()\n",
    "    th2.start()\n",
    "    th3.start()\n",
    "    th1.join()\n",
    "    th2.join()\n",
    "    th3.join()\n",
    "    \n",
    "    result3 = sum(result)\n",
    "    result3_time = time.time() - start"
   ]
  },
  {
   "cell_type": "code",
   "execution_count": 58,
   "metadata": {},
   "outputs": [
    {
     "data": {
      "text/plain": [
       "(4999999950000000, 8.680689573287964)"
      ]
     },
     "execution_count": 58,
     "metadata": {},
     "output_type": "execute_result"
    }
   ],
   "source": [
    "result3, result3_time"
   ]
  },
  {
   "cell_type": "code",
   "execution_count": null,
   "metadata": {},
   "outputs": [],
   "source": []
  },
  {
   "cell_type": "markdown",
   "metadata": {},
   "source": [
    "### 4개 분할 진행"
   ]
  },
  {
   "cell_type": "code",
   "execution_count": 53,
   "metadata": {},
   "outputs": [],
   "source": [
    "start = time.time()  # 시작 시간 저장\n",
    "\n",
    "if __name__ == \"__main__\":\n",
    "    START, END = 0, 100000000\n",
    "    result = list()\n",
    "    th1 = Thread(target=work, args=(1, START, END//4, result))\n",
    "    th2 = Thread(target=work, args=(2, END//4, END//4, result))\n",
    "    th3 = Thread(target=work, args=(3, END//4, END//4, result))\n",
    "    th4 = Thread(target=work, args=(4, END//4, END, result))\n",
    "    \n",
    "    th1.start()\n",
    "    th2.start()\n",
    "    th3.start()\n",
    "    th4.start()\n",
    "    th1.join()\n",
    "    th2.join()\n",
    "    th3.join()\n",
    "    th4.join()\n",
    "    \n",
    "    result4 = sum(result)\n",
    "    result4_time = time.time() - start"
   ]
  },
  {
   "cell_type": "code",
   "execution_count": 54,
   "metadata": {},
   "outputs": [
    {
     "data": {
      "text/plain": [
       "(4999999950000000, 7.892456531524658)"
      ]
     },
     "execution_count": 54,
     "metadata": {},
     "output_type": "execute_result"
    }
   ],
   "source": [
    "result4, result4_time"
   ]
  },
  {
   "cell_type": "code",
   "execution_count": null,
   "metadata": {},
   "outputs": [],
   "source": []
  },
  {
   "cell_type": "markdown",
   "metadata": {},
   "source": [
    "### 5개 분할 진행"
   ]
  },
  {
   "cell_type": "code",
   "execution_count": 77,
   "metadata": {},
   "outputs": [
    {
     "name": "stderr",
     "output_type": "stream",
     "text": [
      "Exception in thread Thread-79:\n",
      "Traceback (most recent call last):\n",
      "  File \"C:\\ProgramData\\Anaconda3\\lib\\threading.py\", line 926, in _bootstrap_inner\n",
      "    self.run()\n",
      "  File \"C:\\ProgramData\\Anaconda3\\lib\\threading.py\", line 870, in run\n",
      "    self._target(*self._args, **self._kwargs)\n",
      "  File \"<ipython-input-72-bdb0ca93ae8e>\", line 7, in work\n",
      "    result.put(total)\n",
      "AttributeError: 'list' object has no attribute 'put'\n",
      "\n",
      "Exception in thread Thread-80:\n",
      "Traceback (most recent call last):\n",
      "  File \"C:\\ProgramData\\Anaconda3\\lib\\threading.py\", line 926, in _bootstrap_inner\n",
      "    self.run()\n",
      "  File \"C:\\ProgramData\\Anaconda3\\lib\\threading.py\", line 870, in run\n",
      "    self._target(*self._args, **self._kwargs)\n",
      "  File \"<ipython-input-72-bdb0ca93ae8e>\", line 7, in work\n",
      "    result.put(total)\n",
      "AttributeError: 'list' object has no attribute 'put'\n",
      "\n",
      "Exception in thread Thread-76:\n",
      "Traceback (most recent call last):\n",
      "  File \"C:\\ProgramData\\Anaconda3\\lib\\threading.py\", line 926, in _bootstrap_inner\n",
      "    self.run()\n",
      "  File \"C:\\ProgramData\\Anaconda3\\lib\\threading.py\", line 870, in run\n",
      "    self._target(*self._args, **self._kwargs)\n",
      "  File \"<ipython-input-72-bdb0ca93ae8e>\", line 7, in work\n",
      "    result.put(total)\n",
      "AttributeError: 'list' object has no attribute 'put'\n",
      "\n",
      "Exception in thread Thread-78:\n",
      "Traceback (most recent call last):\n",
      "  File \"C:\\ProgramData\\Anaconda3\\lib\\threading.py\", line 926, in _bootstrap_inner\n",
      "    self.run()\n",
      "  File \"C:\\ProgramData\\Anaconda3\\lib\\threading.py\", line 870, in run\n",
      "    self._target(*self._args, **self._kwargs)\n",
      "  File \"<ipython-input-72-bdb0ca93ae8e>\", line 7, in work\n",
      "    result.put(total)\n",
      "AttributeError: 'list' object has no attribute 'put'\n",
      "\n",
      "Exception in thread Thread-77:\n",
      "Traceback (most recent call last):\n",
      "  File \"C:\\ProgramData\\Anaconda3\\lib\\threading.py\", line 926, in _bootstrap_inner\n",
      "    self.run()\n",
      "  File \"C:\\ProgramData\\Anaconda3\\lib\\threading.py\", line 870, in run\n",
      "    self._target(*self._args, **self._kwargs)\n",
      "  File \"<ipython-input-72-bdb0ca93ae8e>\", line 7, in work\n",
      "    result.put(total)\n",
      "AttributeError: 'list' object has no attribute 'put'\n",
      "\n"
     ]
    }
   ],
   "source": [
    "start = time.time()  # 시작 시간 저장\n",
    "\n",
    "if __name__ == \"__main__\":\n",
    "    START, END = 0, 100000000\n",
    "    result = list()\n",
    "    th1 = Thread(target=work, args=(1, START,  END//5*1, result))\n",
    "    th2 = Thread(target=work, args=(2, END//5*1, END//5*2, result))\n",
    "    th3 = Thread(target=work, args=(3, END//5*2, END//5*3, result))\n",
    "    th4 = Thread(target=work, args=(4, END//5*3, END//5*4, result))\n",
    "    th5 = Thread(target=work, args=(5, END//5*4, END, result))\n",
    "    \n",
    "    th1.start()\n",
    "    th2.start()\n",
    "    th3.start()\n",
    "    th4.start()\n",
    "    th5.start()\n",
    "    th1.join()\n",
    "    th2.join()\n",
    "    th3.join()\n",
    "    th4.join()\n",
    "    th5.join()\n",
    "\n",
    "    result5 = sum(result)\n",
    "    result5_time = time.time() - start"
   ]
  },
  {
   "cell_type": "code",
   "execution_count": 78,
   "metadata": {},
   "outputs": [
    {
     "data": {
      "text/plain": [
       "(0, 7.268356561660767)"
      ]
     },
     "execution_count": 78,
     "metadata": {},
     "output_type": "execute_result"
    }
   ],
   "source": [
    "result5, result5_time"
   ]
  },
  {
   "cell_type": "code",
   "execution_count": null,
   "metadata": {},
   "outputs": [],
   "source": []
  },
  {
   "cell_type": "markdown",
   "metadata": {},
   "source": [
    "### 결과 비교"
   ]
  },
  {
   "cell_type": "code",
   "execution_count": 79,
   "metadata": {},
   "outputs": [],
   "source": [
    "result_value = [1, 2, 3, 4, 5]\n",
    "result_times = [result1_time, result2_time, result3_time, result4_time, result5_time]"
   ]
  },
  {
   "cell_type": "code",
   "execution_count": 80,
   "metadata": {},
   "outputs": [
    {
     "data": {
      "text/plain": [
       "<matplotlib.axes._subplots.AxesSubplot at 0x2d66a723448>"
      ]
     },
     "execution_count": 80,
     "metadata": {},
     "output_type": "execute_result"
    },
    {
     "data": {
      "image/png": "[encoded data removed]",
      "text/plain": [
       "<Figure size 432x288 with 1 Axes>"
      ]
     },
     "metadata": {
      "needs_background": "light"
     },
     "output_type": "display_data"
    }
   ],
   "source": [
    "import seaborn as sns\n",
    "sns.barplot(x= result_value, y =result_times)"
   ]
  },
  {
   "cell_type": "code",
   "execution_count": null,
   "metadata": {},
   "outputs": [],
   "source": []
  },
  {
   "cell_type": "code",
   "execution_count": null,
   "metadata": {},
   "outputs": [],
   "source": []
  },
  {
   "cell_type": "code",
   "execution_count": 72,
   "metadata": {},
   "outputs": [
    {
     "name": "stdout",
     "output_type": "stream",
     "text": [
      "Result: 0\n"
     ]
    }
   ],
   "source": [
    "from multiprocessing import Process, Queue\n",
    "\n",
    "def work(id, start, end, result):\n",
    "    total = 0\n",
    "    for i in range(start, end):\n",
    "        total += i\n",
    "    result.put(total)\n",
    "    return\n",
    "\n",
    "if __name__ == \"__main__\":\n",
    "    START, END = 0, 100000000\n",
    "    result = Queue()\n",
    "    th1 = Process(target=work, args=(1, START, END//2, result))\n",
    "    th2 = Process(target=work, args=(2, END//2, END, result))\n",
    "    \n",
    "    th1.start()\n",
    "    th2.start()\n",
    "    th1.join()\n",
    "    th2.join()\n",
    "\n",
    "    result.put('STOP')\n",
    "    total = 0\n",
    "    while True:\n",
    "        tmp = result.get()\n",
    "        if tmp == 'STOP':\n",
    "            break\n",
    "        else:\n",
    "            total += tmp\n",
    "#     result_n = sum(total)\n",
    "    print(f\"Result: {total}\")"
   ]
  },
  {
   "cell_type": "code",
   "execution_count": 76,
   "metadata": {},
   "outputs": [
    {
     "data": {
      "text/plain": [
       "50000000"
      ]
     },
     "execution_count": 76,
     "metadata": {},
     "output_type": "execute_result"
    }
   ],
   "source": [
    "END//4*2"
   ]
  },
  {
   "cell_type": "code",
   "execution_count": null,
   "metadata": {},
   "outputs": [],
   "source": []
  }
 ],
 "metadata": {
  "kernelspec": {
   "display_name": "Python 3",
   "language": "python",
   "name": "python3"
  },
  "language_info": {
   "codemirror_mode": {
    "name": "ipython",
    "version": 3
   },
   "file_extension": ".py",
   "mimetype": "text/x-python",
   "name": "python",
   "nbconvert_exporter": "python",
   "pygments_lexer": "ipython3",
   "version": "3.7.6"
  }
 },
 "nbformat": 4,
 "nbformat_minor": 4
}
