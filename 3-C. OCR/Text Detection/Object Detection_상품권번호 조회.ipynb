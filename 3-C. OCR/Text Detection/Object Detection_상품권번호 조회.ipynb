{
 "cells": [
  {
   "cell_type": "code",
   "execution_count": null,
   "metadata": {},
   "outputs": [],
   "source": []
  },
  {
   "cell_type": "markdown",
   "metadata": {
    "colab_type": "text",
    "id": "ZF4Bxh54sDt-"
   },
   "source": [
    "### Imports"
   ]
  },
  {
   "cell_type": "code",
   "execution_count": 1,
   "metadata": {
    "colab": {},
    "colab_type": "code",
    "id": "8BDPFKgssDt_"
   },
   "outputs": [],
   "source": [
    "import hashlib\n",
    "import io\n",
    "import logging\n",
    "import os\n",
    "import random\n",
    "import re\n",
    "\n",
    "import contextlib2\n",
    "from lxml import etree\n",
    "import numpy as np\n",
    "import PIL.Image\n",
    "import tensorflow as tf\n",
    "\n",
    "import argparse\n",
    "\n",
    "from google.cloud import vision\n",
    "\n",
    "import cv2\n",
    "import matplotlib as mpl\n",
    "import matplotlib.pyplot as plt\n",
    "\n",
    "%matplotlib inline  \n",
    "mpl.rc('figure', figsize=(8, 10 ))\n",
    "\n",
    "os.environ[\"GOOGLE_APPLICATION_CREDENTIALS\"]=\"./vision API-06a448b64428.json\""
   ]
  },
  {
   "cell_type": "code",
   "execution_count": null,
   "metadata": {},
   "outputs": [],
   "source": []
  },
  {
   "cell_type": "markdown",
   "metadata": {
    "colab_type": "text",
    "id": "_vcZnwF2sDvZ"
   },
   "source": [
    "## note 실행 : detect_document\n",
    "+ 이미지에서 텍스트 감지하는 API\n",
    "  (참조 : https://cloud.google.com/vision/docs/detecting-fulltext?hl=ko)"
   ]
  },
  {
   "cell_type": "code",
   "execution_count": 2,
   "metadata": {
    "colab": {},
    "colab_type": "code",
    "id": "nlR7KRHvsDvm"
   },
   "outputs": [],
   "source": [
    "# Application : 12글자 이상만 표기\n",
    "def detect_document(path):\n",
    "    \"\"\"Detects document features in an image.\"\"\"\n",
    "    from google.cloud import vision\n",
    "    client = vision.ImageAnnotatorClient()\n",
    "\n",
    "    with io.open(path, 'rb') as image_file:\n",
    "        content = image_file.read()\n",
    "\n",
    "    image = vision.types.Image(content=content)\n",
    "\n",
    "    response = client.document_text_detection(image=image)\n",
    "    for page in response.full_text_annotation.pages:\n",
    "        for block in page.blocks:\n",
    "            for paragraph in block.paragraphs:\n",
    "                for word in paragraph.words:\n",
    "                    word_text = ''.join([symbol.text for symbol in word.symbols])\n",
    "                    if len(word_text)>=12 :\n",
    "                        print('상품권 : {}\\t(정확도: {:.2f})'.format(word_text, word.confidence))"
   ]
  },
  {
   "cell_type": "code",
   "execution_count": 3,
   "metadata": {
    "colab": {},
    "colab_type": "code",
    "id": "vH7W7bHKsDvo",
    "outputId": "020d7533-1f6b-4071-9cd2-e7c681718a06",
    "scrolled": false
   },
   "outputs": [
    {
     "name": "stdout",
     "output_type": "stream",
     "text": [
      "상품권 : M111012932055\t(정확도: 0.98)\n",
      "상품권 : M111012933400\t(정확도: 0.98)\n",
      "상품권 : M111012934165\t(정확도: 0.98)\n",
      "상품권 : M111012935917\t(정확도: 0.98)\n"
     ]
    }
   ],
   "source": [
    "detect_document('./image/IMG_5016.jpg')"
   ]
  },
  {
   "cell_type": "code",
   "execution_count": 13,
   "metadata": {},
   "outputs": [
    {
     "name": "stdout",
     "output_type": "stream",
     "text": [
      "상품권 : M110511910779\t(정확도: 0.98)\n",
      "상품권 : M110511909322\t(정확도: 0.98)\n",
      "상품권 : M110511908953\t(정확도: 0.98)\n",
      "상품권 : M110511907414\t(정확도: 0.94)\n",
      "상품권 : M110511906630\t(정확도: 0.98)\n",
      "상품권 : M110511905106\t(정확도: 0.95)\n",
      "상품권 : M110511904394\t(정확도: 0.90)\n",
      "상품권 : M110511903773\t(정확도: 0.95)\n",
      "상품권 : M110511902910\t(정확도: 0.91)\n",
      "상품권 : M110511901240\t(정확도: 0.97)\n"
     ]
    }
   ],
   "source": [
    "detect_document('./image/IMG_4674.jpg')"
   ]
  },
  {
   "cell_type": "code",
   "execution_count": 14,
   "metadata": {},
   "outputs": [
    {
     "name": "stdout",
     "output_type": "stream",
     "text": [
      "상품권 : M110511920267\t(정확도: 0.98)\n",
      "상품권 : M110511919394\t(정확도: 0.95)\n",
      "상품권 : M110511918605\t(정확도: 0.93)\n",
      "상품권 : M110511917657\t(정확도: 0.98)\n",
      "상품권 : M110511916940\t(정확도: 0.97)\n",
      "상품권 : M110511915853\t(정확도: 0.97)\n",
      "상품권 : M110511914973\t(정확도: 0.98)\n",
      "상품권 : M110511913453\t(정확도: 0.97)\n",
      "상품권 : M110511912318\t(정확도: 0.96)\n",
      "상품권 : M110511911540\t(정확도: 0.98)\n"
     ]
    }
   ],
   "source": [
    "detect_document('./image/IMG_4675.jpg')"
   ]
  },
  {
   "cell_type": "code",
   "execution_count": 15,
   "metadata": {},
   "outputs": [
    {
     "name": "stdout",
     "output_type": "stream",
     "text": [
      "상품권 : M111012673930\t(정확도: 0.89)\n",
      "상품권 : M111012672721\t(정확도: 0.98)\n",
      "상품권 : M111012671119\t(정확도: 0.98)\n",
      "상품권 : M111012670580\t(정확도: 0.90)\n",
      "상품권 : M111012669099\t(정확도: 0.89)\n",
      "상품권 : M111012668397\t(정확도: 0.98)\n",
      "상품권 : M111012667891\t(정확도: 0.98)\n",
      "상품권 : M111012666781\t(정확도: 0.98)\n",
      "상품권 : M111012665364\t(정확도: 0.78)\n",
      "상품권 : M111012664387\t(정확도: 0.98)\n",
      "상품권 : M111012663129\t(정확도: 0.90)\n",
      "상품권 : M111012662076\t(정확도: 0.87)\n",
      "상품권 : M111012661730\t(정확도: 0.97)\n",
      "상품권 : M111012660960\t(정확도: 0.95)\n",
      "상품권 : M111012659197\t(정확도: 0.98)\n"
     ]
    }
   ],
   "source": [
    "detect_document('./image/IMG_4676.jpg')"
   ]
  },
  {
   "cell_type": "code",
   "execution_count": null,
   "metadata": {},
   "outputs": [],
   "source": []
  },
  {
   "cell_type": "code",
   "execution_count": null,
   "metadata": {},
   "outputs": [],
   "source": []
  },
  {
   "cell_type": "code",
   "execution_count": 45,
   "metadata": {},
   "outputs": [],
   "source": [
    "# Vanilla\n",
    "def detect_document(path):\n",
    "    \"\"\"Detects document features in an image.\"\"\"\n",
    "    from google.cloud import vision\n",
    "    client = vision.ImageAnnotatorClient()\n",
    "\n",
    "    with io.open(path, 'rb') as image_file:\n",
    "        content = image_file.read()\n",
    "\n",
    "    image = vision.types.Image(content=content)\n",
    "\n",
    "    response = client.document_text_detection(image=image)\n",
    "#     print(response)\n",
    "    img1 = cv2.imread(path)\n",
    "    b, g, r = cv2.split(img1)   # img파일을 b,g,r로 분리\n",
    "    img1 = cv2.merge([r,g,b])   # b, r을 바꿔서 Merge\n",
    "    height, width, channels = img1.shape\n",
    "\n",
    "    for page in response.full_text_annotation.pages:\n",
    "        for block in page.blocks:\n",
    "            for paragraph in block.paragraphs:\n",
    "                for word in paragraph.words:\n",
    "                    word_text = ''.join([symbol.text for symbol in word.symbols])\n",
    "                    if len(word_text)>=12 :\n",
    "#                         print('상품권 번호 : {}\\t(정확도: {:.10f})'.format(word_text, word.confidence))\n",
    "                        start_x, start_y = word.bounding_box.vertices[0].x, word.bounding_box.vertices[0].y\n",
    "                        end_x, end_y = word.bounding_box.vertices[2].x, word.bounding_box.vertices[2].y\n",
    "                        img1 = cv2.rectangle(img1, \n",
    "                                             (int(round(start_x*width,0)), int(round(start_y*height,0))), \n",
    "                                             (int(round(end_x*  width,0)), int(round(end_y  *height,0))), \n",
    "                                             (0,255,0), 3)\n",
    "                        img1 = cv2.putText(img1, object_.name, (int(round(start_x*width,0)), int(round(start_y*height,0))), \n",
    "                                           cv2.FONT_HERSHEY_PLAIN, 1, (255, 0, 0), 2)\n",
    "    \n",
    "    plt.figure(figsize=(15,15))\n",
    "    plt.imshow(img1)\n",
    "    plt.xticks([]) # x축 눈금\n",
    "    plt.yticks([]) # y축 눈금\n"
   ]
  },
  {
   "cell_type": "code",
   "execution_count": 46,
   "metadata": {},
   "outputs": [
    {
     "ename": "ValueError",
     "evalue": "not enough values to unpack (expected 3, got 0)",
     "output_type": "error",
     "traceback": [
      "\u001b[1;31m---------------------------------------------------------------------------\u001b[0m",
      "\u001b[1;31mValueError\u001b[0m                                Traceback (most recent call last)",
      "\u001b[1;32m<ipython-input-46-65acda15fac5>\u001b[0m in \u001b[0;36m<module>\u001b[1;34m\u001b[0m\n\u001b[1;32m----> 1\u001b[1;33m \u001b[0mdetect_document\u001b[0m\u001b[1;33m(\u001b[0m\u001b[1;34m'./image/200410_상품권_5만원.jpg'\u001b[0m\u001b[1;33m)\u001b[0m\u001b[1;33m\u001b[0m\u001b[1;33m\u001b[0m\u001b[0m\n\u001b[0m",
      "\u001b[1;32m<ipython-input-45-427525b5eb58>\u001b[0m in \u001b[0;36mdetect_document\u001b[1;34m(path)\u001b[0m\n\u001b[0;32m     13\u001b[0m \u001b[1;31m#     print(response)\u001b[0m\u001b[1;33m\u001b[0m\u001b[1;33m\u001b[0m\u001b[1;33m\u001b[0m\u001b[0m\n\u001b[0;32m     14\u001b[0m     \u001b[0mimg1\u001b[0m \u001b[1;33m=\u001b[0m \u001b[0mcv2\u001b[0m\u001b[1;33m.\u001b[0m\u001b[0mimread\u001b[0m\u001b[1;33m(\u001b[0m\u001b[0mpath\u001b[0m\u001b[1;33m)\u001b[0m\u001b[1;33m\u001b[0m\u001b[1;33m\u001b[0m\u001b[0m\n\u001b[1;32m---> 15\u001b[1;33m     \u001b[0mb\u001b[0m\u001b[1;33m,\u001b[0m \u001b[0mg\u001b[0m\u001b[1;33m,\u001b[0m \u001b[0mr\u001b[0m \u001b[1;33m=\u001b[0m \u001b[0mcv2\u001b[0m\u001b[1;33m.\u001b[0m\u001b[0msplit\u001b[0m\u001b[1;33m(\u001b[0m\u001b[0mimg1\u001b[0m\u001b[1;33m)\u001b[0m   \u001b[1;31m# img파일을 b,g,r로 분리\u001b[0m\u001b[1;33m\u001b[0m\u001b[1;33m\u001b[0m\u001b[0m\n\u001b[0m\u001b[0;32m     16\u001b[0m     \u001b[0mimg1\u001b[0m \u001b[1;33m=\u001b[0m \u001b[0mcv2\u001b[0m\u001b[1;33m.\u001b[0m\u001b[0mmerge\u001b[0m\u001b[1;33m(\u001b[0m\u001b[1;33m[\u001b[0m\u001b[0mr\u001b[0m\u001b[1;33m,\u001b[0m\u001b[0mg\u001b[0m\u001b[1;33m,\u001b[0m\u001b[0mb\u001b[0m\u001b[1;33m]\u001b[0m\u001b[1;33m)\u001b[0m   \u001b[1;31m# b, r을 바꿔서 Merge\u001b[0m\u001b[1;33m\u001b[0m\u001b[1;33m\u001b[0m\u001b[0m\n\u001b[0;32m     17\u001b[0m     \u001b[0mheight\u001b[0m\u001b[1;33m,\u001b[0m \u001b[0mwidth\u001b[0m\u001b[1;33m,\u001b[0m \u001b[0mchannels\u001b[0m \u001b[1;33m=\u001b[0m \u001b[0mimg1\u001b[0m\u001b[1;33m.\u001b[0m\u001b[0mshape\u001b[0m\u001b[1;33m\u001b[0m\u001b[1;33m\u001b[0m\u001b[0m\n",
      "\u001b[1;31mValueError\u001b[0m: not enough values to unpack (expected 3, got 0)"
     ]
    }
   ],
   "source": [
    "detect_document('./image/200410_상품권_5만원.jpg')"
   ]
  },
  {
   "cell_type": "code",
   "execution_count": 64,
   "metadata": {},
   "outputs": [
    {
     "data": {
      "text/plain": [
       "[]"
      ]
     },
     "execution_count": 64,
     "metadata": {},
     "output_type": "execute_result"
    }
   ],
   "source": [
    "path = \"./image/200410_상품권_5만원.jpg\"\n",
    "img1 = cv2.imread(path)\n",
    "cv2.split(img1)   # img파일을 b,g,r로 분리\n",
    "# img1 = cv2.merge([r,g,b])   # b, r을 바꿔서 Merge"
   ]
  },
  {
   "cell_type": "code",
   "execution_count": 65,
   "metadata": {},
   "outputs": [
    {
     "name": "stdout",
     "output_type": "stream",
     "text": [
      "None\n"
     ]
    }
   ],
   "source": [
    "print(img1)"
   ]
  },
  {
   "cell_type": "code",
   "execution_count": null,
   "metadata": {},
   "outputs": [],
   "source": []
  },
  {
   "cell_type": "code",
   "execution_count": null,
   "metadata": {},
   "outputs": [],
   "source": []
  },
  {
   "cell_type": "code",
   "execution_count": 13,
   "metadata": {
    "colab": {},
    "colab_type": "code",
    "id": "AGFz_zLcsDva"
   },
   "outputs": [],
   "source": [
    "# Vanilla\n",
    "def detect_document(path):\n",
    "    \"\"\"Detects document features in an image.\"\"\"\n",
    "    from google.cloud import vision\n",
    "    client = vision.ImageAnnotatorClient()\n",
    "\n",
    "    with io.open(path, 'rb') as image_file:\n",
    "        content = image_file.read()\n",
    "\n",
    "    image = vision.types.Image(content=content)\n",
    "\n",
    "    response = client.document_text_detection(image=image)\n",
    "\n",
    "    for page in response.full_text_annotation.pages:\n",
    "        for block in page.blocks:\n",
    "            print('\\nBlock confidence: {}\\n'.format(block.confidence))\n",
    "\n",
    "            for paragraph in block.paragraphs:\n",
    "                print('Paragraph confidence: {}'.format(\n",
    "                    paragraph.confidence))\n",
    "\n",
    "                for word in paragraph.words:\n",
    "                    word_text = ''.join([\n",
    "                        symbol.text for symbol in word.symbols\n",
    "                    ])\n",
    "                    print('Word text: {} (confidence: {})'.format(\n",
    "                        word_text, word.confidence))\n",
    "\n",
    "                    for symbol in word.symbols:\n",
    "                        print('\\tSymbol: {} (confidence: {})'.format(\n",
    "                            symbol.text, symbol.confidence))"
   ]
  },
  {
   "cell_type": "code",
   "execution_count": 48,
   "metadata": {
    "scrolled": false
   },
   "outputs": [],
   "source": [
    "# detect_document('./image/200410_상품권_5만원.jpg')"
   ]
  },
  {
   "cell_type": "code",
   "execution_count": null,
   "metadata": {},
   "outputs": [],
   "source": []
  }
 ],
 "metadata": {
  "colab": {
   "name": "Week1_Object Detection  - GCP Vision API_vf.ipynb",
   "provenance": [],
   "version": "0.3.2"
  },
  "kernelspec": {
   "display_name": "Python 3",
   "language": "python",
   "name": "python3"
  },
  "language_info": {
   "codemirror_mode": {
    "name": "ipython",
    "version": 3
   },
   "file_extension": ".py",
   "mimetype": "text/x-python",
   "name": "python",
   "nbconvert_exporter": "python",
   "pygments_lexer": "ipython3",
   "version": "3.7.6"
  }
 },
 "nbformat": 4,
 "nbformat_minor": 1
}
