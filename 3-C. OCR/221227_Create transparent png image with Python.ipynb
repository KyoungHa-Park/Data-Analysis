{
 "cells": [
  {
   "cell_type": "code",
   "execution_count": null,
   "id": "a3dd6e54",
   "metadata": {},
   "outputs": [],
   "source": [
    "# https://www.geeksforgeeks.org/create-transparent-png-image-with-python-pillow/"
   ]
  },
  {
   "cell_type": "code",
   "execution_count": 1,
   "id": "754ce8ad",
   "metadata": {},
   "outputs": [],
   "source": [
    "from PIL import Image\n"
   ]
  },
  {
   "cell_type": "code",
   "execution_count": null,
   "id": "b8146efc",
   "metadata": {},
   "outputs": [],
   "source": []
  },
  {
   "cell_type": "code",
   "execution_count": 28,
   "id": "75ff833d",
   "metadata": {},
   "outputs": [],
   "source": [
    "img = Image.open('image.jpg')\n",
    "rgba = img.convert('RGBA')\n",
    "datas = rgba.getdata()\n",
    "\n",
    "width, height = img.size"
   ]
  },
  {
   "cell_type": "code",
   "execution_count": 29,
   "id": "c5036445",
   "metadata": {},
   "outputs": [
    {
     "data": {
      "text/plain": [
       "(317, 319)"
      ]
     },
     "execution_count": 29,
     "metadata": {},
     "output_type": "execute_result"
    }
   ],
   "source": [
    "width, height"
   ]
  },
  {
   "cell_type": "code",
   "execution_count": null,
   "id": "8a2be0c3",
   "metadata": {},
   "outputs": [],
   "source": []
  },
  {
   "cell_type": "code",
   "execution_count": 34,
   "id": "cb5dffc6",
   "metadata": {},
   "outputs": [
    {
     "name": "stdout",
     "output_type": "stream",
     "text": [
      "(251, 255, 255, 255)\n",
      "(249, 255, 255, 255)\n",
      "(249, 255, 255, 255)\n",
      "(248, 255, 254, 255)\n",
      "(247, 255, 255, 255)\n",
      "(248, 255, 255, 255)\n",
      "(248, 255, 255, 255)\n",
      "(248, 255, 255, 255)\n",
      "(247, 255, 255, 255)\n",
      "(248, 255, 255, 255)\n"
     ]
    }
   ],
   "source": [
    "for i in range(150, 160):\n",
    "    print(datas[i])"
   ]
  },
  {
   "cell_type": "code",
   "execution_count": 21,
   "id": "7cc1fad7",
   "metadata": {},
   "outputs": [],
   "source": [
    "newData = []\n",
    "\n",
    "for item in datas:\n",
    "    # 배경색이 검인색이면 (0, 0, 0) / 흰색이면 (255, 255, 255)\n",
    "    if item[0] > 235 and item[1] > 235 and item[2] > 235:\n",
    "        newData.append((255, 255, 255, 0))\n",
    "    else:\n",
    "        newData.append(item)"
   ]
  },
  {
   "cell_type": "code",
   "execution_count": 22,
   "id": "63fcc326",
   "metadata": {},
   "outputs": [],
   "source": [
    "rgba.putdata(newData)\n",
    "rgba.save('transparent_image.png', 'PNG')"
   ]
  },
  {
   "cell_type": "code",
   "execution_count": null,
   "id": "41251122",
   "metadata": {},
   "outputs": [],
   "source": []
  }
 ],
 "metadata": {
  "kernelspec": {
   "display_name": "Python 3",
   "language": "python",
   "name": "python3"
  },
  "language_info": {
   "codemirror_mode": {
    "name": "ipython",
    "version": 3
   },
   "file_extension": ".py",
   "mimetype": "text/x-python",
   "name": "python",
   "nbconvert_exporter": "python",
   "pygments_lexer": "ipython3",
   "version": "3.7.6"
  }
 },
 "nbformat": 4,
 "nbformat_minor": 5
}
