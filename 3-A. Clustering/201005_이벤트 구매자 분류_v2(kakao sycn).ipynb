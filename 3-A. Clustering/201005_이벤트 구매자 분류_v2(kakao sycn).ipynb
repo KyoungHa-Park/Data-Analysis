{
 "cells": [
  {
   "cell_type": "code",
   "execution_count": null,
   "metadata": {},
   "outputs": [],
   "source": []
  },
  {
   "cell_type": "markdown",
   "metadata": {},
   "source": [
    "+ **목표** : 카카오싱크 회원과 정회원에 대한 현황 비교\n",
    "\n",
    "\n",
    "+ **비교내용**\n",
    "    + [ ] ~~1.Aqusition : 해당사항 없음~~\n",
    "    + [ ] 2.Activation\n",
    "      + [x] a.가입추이\n",
    "      + [ ] b.가입체널(관계사)\n",
    "      + [ ] c.로그인 횟수\n",
    "    + [ ] 3.Retention\n",
    "      + [ ] a.재방문 비중\n",
    "      + [ ] b.재방문 주기\n",
    "    + [ ] ~~4.Referral : 해당사항 없음~~\n",
    "    + [ ] 5.Revenue\n",
    "      + [ ] a.DS 구매자 비율\n",
    "      + [ ] b.DS 구매자 금액\n",
    "    <!-- + [ ] 적정 분류 수 탐색 -->\n",
    "    \n",
    "    \n",
    "+ **고려사항**\n",
    "    + [ ] Activity 내용은 큰 문제 없음\n",
    "    + [ ] 구매 등 Retention 내용은 정회원으로 귀속되는 바, 별도 자료관리가 필요함\n"
   ]
  },
  {
   "cell_type": "code",
   "execution_count": null,
   "metadata": {},
   "outputs": [],
   "source": []
  },
  {
   "cell_type": "markdown",
   "metadata": {},
   "source": [
    "### 0.import"
   ]
  },
  {
   "cell_type": "code",
   "execution_count": 1,
   "metadata": {},
   "outputs": [],
   "source": [
    "import pandas as pd\n",
    "import seaborn as sns\n",
    "sns.set(style=\"white\")\n",
    "sns.set(style=\"whitegrid\", color_codes=True)\n",
    "\n",
    "import warnings\n",
    "warnings.filterwarnings('ignore')\n",
    "\n",
    "import matplotlib as mpl\n",
    "import matplotlib.pyplot as plt\n",
    "import matplotlib.font_manager as fm\n",
    "from IPython.core.display import Image\n",
    "%matplotlib inline\n",
    "\n",
    "import os\n",
    "# os.environ[\"NLS_LANG\"] = \".KO16MSWIN949\"  #encodring이 CP949(euc-kr)인 경우\n",
    "os.environ[\"NLS_LANG\"] = \".AL32UTF8\"      #encodring이 UTF-8 인 경우\n",
    "path = 'C:/windows/Fonts/malgun.ttf'                           # 폰트:맑은고딕\n",
    "font_name = fm.FontProperties(fname=path, size=24).get_name()  \n",
    "plt.rc('font', family=font_name)"
   ]
  },
  {
   "cell_type": "code",
   "execution_count": null,
   "metadata": {},
   "outputs": [],
   "source": []
  },
  {
   "cell_type": "code",
   "execution_count": 2,
   "metadata": {},
   "outputs": [],
   "source": [
    "###############\n",
    "# DB접속\n",
    "#####\n",
    "\n",
    "import cx_Oracle as oci\n",
    "import pandas as pd\n",
    "\n",
    "# 접속정보\n",
    "con_text = open(\"C:/conn_info.txt\", 'r', encoding='utf8')\n",
    "con_text = con_text.read()\n",
    "\n",
    "# DB 접속\n",
    "conn = oci.connect(con_text)"
   ]
  },
  {
   "cell_type": "code",
   "execution_count": null,
   "metadata": {},
   "outputs": [],
   "source": []
  },
  {
   "cell_type": "markdown",
   "metadata": {},
   "source": [
    "### 1.Aqusition : 해당없음"
   ]
  },
  {
   "cell_type": "code",
   "execution_count": null,
   "metadata": {},
   "outputs": [],
   "source": []
  },
  {
   "cell_type": "markdown",
   "metadata": {},
   "source": [
    "### 2.Activation"
   ]
  },
  {
   "cell_type": "markdown",
   "metadata": {},
   "source": [
    "#### a.가입추이"
   ]
  },
  {
   "cell_type": "code",
   "execution_count": 4,
   "metadata": {},
   "outputs": [],
   "source": [
    "#######\n",
    "#  자료 불러오기\n",
    "###\n",
    "\n",
    "# 카카오싱크 회원\n",
    "f = open(\"./query_SYNC_activate.txt\", 'r'); line = f.read(); f.close()\n",
    "df1 = pd.read_sql(line, con = conn)\n",
    "\n",
    "# 정회원\n",
    "f = open(\"./query_Norm_activate.txt\", 'r'); line = f.read(); f.close()\n",
    "df2 = pd.read_sql(line, con = conn)"
   ]
  },
  {
   "cell_type": "code",
   "execution_count": 5,
   "metadata": {},
   "outputs": [],
   "source": [
    "# data type 변경\n",
    "\n",
    "df1['YYYYMM'] = df1['REG_DTM'].dt.strftime('%Y-%m')\n",
    "df2['YYYYMM'] = df2['REG_DTM'].dt.strftime('%Y-%m')\n",
    "\n",
    "df1['GUBUN'] = 'Kakao'\n",
    "df2['GUBUN'] = '정회원'\n",
    "\n",
    "# df1['REG_DTM'] = df1['REG_DTM'].astype('datetime64[ns]')\n",
    "# df1['YYYYMM'] = df1['REG_DTM'].str[:5]\n",
    "# df1['YYYYMM'] = df1['REG_DTM'].dt.strftime('%Y-%m')"
   ]
  },
  {
   "cell_type": "code",
   "execution_count": 15,
   "metadata": {},
   "outputs": [],
   "source": []
  },
  {
   "cell_type": "code",
   "execution_count": 49,
   "metadata": {},
   "outputs": [],
   "source": [
    "# data1 = pd.concat([df1, df2], axis =0, ignore_index = True ) "
   ]
  },
  {
   "cell_type": "code",
   "execution_count": 25,
   "metadata": {},
   "outputs": [
    {
     "data": {
      "text/html": [
       "<div>\n",
       "<style scoped>\n",
       "    .dataframe tbody tr th:only-of-type {\n",
       "        vertical-align: middle;\n",
       "    }\n",
       "\n",
       "    .dataframe tbody tr th {\n",
       "        vertical-align: top;\n",
       "    }\n",
       "\n",
       "    .dataframe thead th {\n",
       "        text-align: right;\n",
       "    }\n",
       "</style>\n",
       "<table border=\"1\" class=\"dataframe\">\n",
       "  <thead>\n",
       "    <tr style=\"text-align: right;\">\n",
       "      <th></th>\n",
       "      <th>UNFY_MMB_NO</th>\n",
       "      <th>AGE</th>\n",
       "      <th>GENDER</th>\n",
       "      <th>NTRY_PATH_GUBUN</th>\n",
       "      <th>REG_DTM</th>\n",
       "      <th>LOGIN_CNT</th>\n",
       "      <th>LOGIN_AVG</th>\n",
       "      <th>LOGIN_LAST</th>\n",
       "      <th>YYYYMM</th>\n",
       "      <th>GUBUN</th>\n",
       "    </tr>\n",
       "  </thead>\n",
       "  <tbody>\n",
       "    <tr>\n",
       "      <th>0</th>\n",
       "      <td>5390000</td>\n",
       "      <td>33</td>\n",
       "      <td>M</td>\n",
       "      <td>MAEILI</td>\n",
       "      <td>2019-08-19 11:24:09</td>\n",
       "      <td>4</td>\n",
       "      <td>79.1</td>\n",
       "      <td>93</td>\n",
       "      <td>2019-08</td>\n",
       "      <td>Kakao</td>\n",
       "    </tr>\n",
       "    <tr>\n",
       "      <th>1</th>\n",
       "      <td>5600000</td>\n",
       "      <td>55</td>\n",
       "      <td>F</td>\n",
       "      <td>MAEILI</td>\n",
       "      <td>2020-03-26 11:41:43</td>\n",
       "      <td>2</td>\n",
       "      <td>0.0</td>\n",
       "      <td>195</td>\n",
       "      <td>2020-03</td>\n",
       "      <td>Kakao</td>\n",
       "    </tr>\n",
       "    <tr>\n",
       "      <th>2</th>\n",
       "      <td>5640000</td>\n",
       "      <td>38</td>\n",
       "      <td>F</td>\n",
       "      <td>매일다이렉트_카카오싱크</td>\n",
       "      <td>2020-05-06 11:13:11</td>\n",
       "      <td>5</td>\n",
       "      <td>9.6</td>\n",
       "      <td>106</td>\n",
       "      <td>2020-05</td>\n",
       "      <td>Kakao</td>\n",
       "    </tr>\n",
       "    <tr>\n",
       "      <th>3</th>\n",
       "      <td>5650000</td>\n",
       "      <td>35</td>\n",
       "      <td>F</td>\n",
       "      <td>매일다이렉트_카카오싱크</td>\n",
       "      <td>2020-05-06 13:07:23</td>\n",
       "      <td>3</td>\n",
       "      <td>16.0</td>\n",
       "      <td>106</td>\n",
       "      <td>2020-05</td>\n",
       "      <td>Kakao</td>\n",
       "    </tr>\n",
       "    <tr>\n",
       "      <th>4</th>\n",
       "      <td>5660000</td>\n",
       "      <td>43</td>\n",
       "      <td>F</td>\n",
       "      <td>매일다이렉트_카카오싱크</td>\n",
       "      <td>2020-05-06 15:49:32</td>\n",
       "      <td>2</td>\n",
       "      <td>24.0</td>\n",
       "      <td>106</td>\n",
       "      <td>2020-05</td>\n",
       "      <td>Kakao</td>\n",
       "    </tr>\n",
       "  </tbody>\n",
       "</table>\n",
       "</div>"
      ],
      "text/plain": [
       "   UNFY_MMB_NO  AGE GENDER NTRY_PATH_GUBUN             REG_DTM  LOGIN_CNT  \\\n",
       "0      5390000   33      M          MAEILI 2019-08-19 11:24:09          4   \n",
       "1      5600000   55      F          MAEILI 2020-03-26 11:41:43          2   \n",
       "2      5640000   38      F    매일다이렉트_카카오싱크 2020-05-06 11:13:11          5   \n",
       "3      5650000   35      F    매일다이렉트_카카오싱크 2020-05-06 13:07:23          3   \n",
       "4      5660000   43      F    매일다이렉트_카카오싱크 2020-05-06 15:49:32          2   \n",
       "\n",
       "   LOGIN_AVG  LOGIN_LAST   YYYYMM  GUBUN  \n",
       "0       79.1          93  2019-08  Kakao  \n",
       "1        0.0         195  2020-03  Kakao  \n",
       "2        9.6         106  2020-05  Kakao  \n",
       "3       16.0         106  2020-05  Kakao  \n",
       "4       24.0         106  2020-05  Kakao  "
      ]
     },
     "execution_count": 25,
     "metadata": {},
     "output_type": "execute_result"
    }
   ],
   "source": [
    "df1.head()"
   ]
  },
  {
   "cell_type": "code",
   "execution_count": 32,
   "metadata": {},
   "outputs": [],
   "source": [
    "# df1_act2 = pd.crosstab(df1.NTRY_PATH_GUBUN, df1.GUBUN, df1.UNFY_MMB_NO, aggfunc=\"count\")\n",
    "# df1_act2 = pd.crosstab(df2.NTRY_PATH_GUBUN, df2.GUBUN, df2.UNFY_MMB_NO, aggfunc=\"count\")\n",
    "\n",
    "# df1_act3 = pd.crosstab(data1.NTRY_PATH_GUBUN, data1.GUBUN, data1.LOGIN_AVG, aggfunc=\"count\")"
   ]
  },
  {
   "cell_type": "code",
   "execution_count": null,
   "metadata": {},
   "outputs": [],
   "source": [
    "# df2.groupby(by = ['NTRY_PATH_GUBUN'], as_index=False)['UNFY_MMB_NO'].count()"
   ]
  },
  {
   "cell_type": "code",
   "execution_count": null,
   "metadata": {},
   "outputs": [],
   "source": []
  },
  {
   "cell_type": "code",
   "execution_count": 25,
   "metadata": {},
   "outputs": [],
   "source": [
    "# 자료 1차 가공\n",
    "\n",
    "data1_N = df2.groupby(by = ['YYYYMM'], as_index=False)['UNFY_MMB_NO'].count()\n",
    "data1_N['GUBUN'] = '정회원'\n",
    "data1_N.rename(columns = {'UNFY_MMB_NO' : 'COUNT'}, inplace = True)\n",
    "data1_N = data1_N[:-1]\n",
    "\n",
    "data1_K = df1.groupby(by = ['YYYYMM'], as_index=False)['UNFY_MMB_NO'].count()\n",
    "data1_K['GUBUN'] = 'Kakao'\n",
    "data1_K.rename(columns = {'UNFY_MMB_NO' : 'COUNT'}, inplace = True)\n",
    "data1_K = data1_K[:-1]\n",
    "\n",
    "# 자료 merge\n",
    "data1 = pd.concat([data1_K, data1_N], axis =0,ignore_index = True ) \n"
   ]
  },
  {
   "cell_type": "code",
   "execution_count": 51,
   "metadata": {},
   "outputs": [],
   "source": [
    "# df2_act1"
   ]
  },
  {
   "cell_type": "code",
   "execution_count": 48,
   "metadata": {},
   "outputs": [],
   "source": [
    "# df1_act1.head(1)"
   ]
  },
  {
   "cell_type": "code",
   "execution_count": 38,
   "metadata": {
    "scrolled": false
   },
   "outputs": [
    {
     "data": {
      "image/png": "[encoded data removed]",
      "text/plain": [
       "<Figure size 1008x288 with 2 Axes>"
      ]
     },
     "metadata": {
      "needs_background": "light"
     },
     "output_type": "display_data"
    }
   ],
   "source": [
    "df1_act1 = df1.groupby(by = ['YYYYMM'], as_index=False)['UNFY_MMB_NO'].count()[:-1]\n",
    "df1_act1.rename(columns = {'UNFY_MMB_NO' : 'COUNT'}, inplace = True)\n",
    "df1_act1['COUNT'].loc[df1_act1['COUNT'] > df1_act1['COUNT'].quantile(0.99)] = df1_act1['COUNT'].mean()\n",
    "\n",
    "df2_act1 = df2.groupby(by = ['YYYYMM'], as_index=False)['UNFY_MMB_NO'].count()[:-1]\n",
    "df2_act1.rename(columns = {'UNFY_MMB_NO' : 'COUNT'}, inplace = True)\n",
    "\n",
    "# plot 표기\n",
    "mpl.rc('figure', figsize=(14, 4))\n",
    "\n",
    "ax = plt.subplot(1,2,1)\n",
    "sns.lineplot(x= 'YYYYMM', y = 'COUNT', data = df1_act1, lw=2.5)\n",
    "plt.xticks(rotation=90)\n",
    "# plt.legend(loc='upper center', bbox_to_anchor=(0.5, -0.3), fancybox=True, shadow=True, ncol=4)\n",
    "\n",
    "ax = plt.subplot(1,2,2)\n",
    "sns.lineplot(x= 'YYYYMM', y = 'COUNT', data = df2_act1, lw=2.5)\n",
    "plt.xticks(rotation=90)\n",
    "# plt.legend(loc='upper center', bbox_to_anchor=(0.5, -0.3), fancybox=True, shadow=True, ncol=4)\n",
    "\n",
    "plt.show()"
   ]
  },
  {
   "cell_type": "code",
   "execution_count": null,
   "metadata": {},
   "outputs": [],
   "source": []
  },
  {
   "cell_type": "code",
   "execution_count": 74,
   "metadata": {},
   "outputs": [
    {
     "data": {
      "image/png": "[encoded data removed]",
      "text/plain": [
       "<Figure size 1008x288 with 2 Axes>"
      ]
     },
     "metadata": {
      "needs_background": "light"
     },
     "output_type": "display_data"
    }
   ],
   "source": [
    "df1_act2 = df1.groupby(by = ['NTRY_PATH_GUBUN'], as_index=False)['UNFY_MMB_NO'].count()\n",
    "df1_act2.rename(columns = {'UNFY_MMB_NO' : 'COUNT'}, inplace = True)\n",
    "\n",
    "df2_act2 = df2.groupby(by = ['NTRY_PATH_GUBUN'], as_index=False)['UNFY_MMB_NO'].count()\n",
    "df2_act2.rename(columns = {'UNFY_MMB_NO' : 'COUNT'}, inplace = True)\n",
    "\n",
    "# plot 표기\n",
    "mpl.rc('figure', figsize=(14, 4))\n",
    "\n",
    "ax = plt.subplot(1,2,1)\n",
    "sns.barplot(x= 'NTRY_PATH_GUBUN', y = 'COUNT', data = df1_act2, lw=2.5)\n",
    "plt.xticks(rotation=90)\n",
    "plt.xlabel('가입체널')\n",
    "plt.ylabel('인원(명)')\n",
    "# plt.legend(loc='upper center', bbox_to_anchor=(0.5, -0.3), fancybox=True, shadow=True, ncol=4)\n",
    "\n",
    "ax = plt.subplot(1,2,2)\n",
    "sns.barplot(x= 'NTRY_PATH_GUBUN', y = 'COUNT', data = df2_act2, lw=2.5)\n",
    "plt.xticks(rotation=90)\n",
    "plt.xlabel('가입체널')\n",
    "plt.ylabel('인원(명)')\n",
    "# plt.legend(loc='upper center', bbox_to_anchor=(0.5, -0.3), fancybox=True, shadow=True, ncol=4)\n",
    "\n",
    "plt.show()"
   ]
  },
  {
   "cell_type": "code",
   "execution_count": 76,
   "metadata": {},
   "outputs": [],
   "source": [
    "# pd.crosstab(data1.YYYYMM,data1.GUBUN,  data1.COUNT, aggfunc=\"sum\")"
   ]
  },
  {
   "cell_type": "code",
   "execution_count": null,
   "metadata": {},
   "outputs": [],
   "source": [
    "# 가입체널(관계사)"
   ]
  },
  {
   "cell_type": "code",
   "execution_count": 83,
   "metadata": {},
   "outputs": [
    {
     "data": {
      "text/plain": [
       "Index(['UNFY_MMB_NO', 'AGE', 'GENDER', 'NTRY_PATH_GUBUN', 'REG_DTM',\n",
       "       'LOGIN_CNT', 'LOGIN_AVG', 'LOGIN_LAST', 'YYYYMM', 'GUBUN'],\n",
       "      dtype='object')"
      ]
     },
     "execution_count": 83,
     "metadata": {},
     "output_type": "execute_result"
    }
   ],
   "source": [
    "df1.columns"
   ]
  },
  {
   "cell_type": "code",
   "execution_count": 86,
   "metadata": {},
   "outputs": [
    {
     "data": {
      "image/png": "[encoded data removed]",
      "text/plain": [
       "<Figure size 1008x288 with 2 Axes>"
      ]
     },
     "metadata": {
      "needs_background": "light"
     },
     "output_type": "display_data"
    }
   ],
   "source": [
    "# plot 표기\n",
    "mpl.rc('figure', figsize=(14, 4))\n",
    "\n",
    "ax = plt.subplot(1,2,1)\n",
    "sns.boxplot(x=\"NTRY_PATH_GUBUN\", y=\"LOGIN_AVG\", data=df1)\n",
    "plt.xticks(rotation=90)\n",
    "plt.xlabel('가입체널')\n",
    "plt.ylabel('로그인 횟수(Avg.)')\n",
    "# plt.legend(loc='upper center', bbox_to_anchor=(0.5, -0.3), fancybox=True, shadow=True, ncol=4)\n",
    "\n",
    "ax = plt.subplot(1,2,2)\n",
    "sns.boxplot(x=\"NTRY_PATH_GUBUN\", y=\"LOGIN_AVG\", data=df2)\n",
    "plt.xticks(rotation=90)\n",
    "plt.xlabel('가입체널')\n",
    "plt.ylabel('로그인 횟수(Avg.)')\n",
    "# plt.legend(loc='upper center', bbox_to_anchor=(0.5, -0.3), fancybox=True, shadow=True, ncol=4)\n",
    "\n",
    "plt.show()"
   ]
  },
  {
   "cell_type": "code",
   "execution_count": null,
   "metadata": {},
   "outputs": [],
   "source": []
  },
  {
   "cell_type": "code",
   "execution_count": null,
   "metadata": {},
   "outputs": [],
   "source": []
  },
  {
   "cell_type": "code",
   "execution_count": null,
   "metadata": {},
   "outputs": [],
   "source": []
  },
  {
   "cell_type": "code",
   "execution_count": null,
   "metadata": {},
   "outputs": [],
   "source": []
  },
  {
   "cell_type": "code",
   "execution_count": null,
   "metadata": {},
   "outputs": [],
   "source": [
    "data1_K = df1.groupby(by = ['YYYYMM'], as_index=False)['UNFY_MMB_NO'].count()\n",
    "\n",
    "mpl.rc('figure', figsize=(16, 5))\n",
    "\n",
    "ax = plt.subplot(1,2,1)\n",
    "pd.crosstab(data1_K.YYYYMM, data1_K.GUBUN, data1_K.금액, aggfunc=\"count\").plot.bar(ax = ax)\n",
    "# sns.lineplot(x= 'date', y = '금액', hue ='GUBUN', data = data0_M, lw=2.5)\n",
    "plt.legend(loc='upper center', bbox_to_anchor=(0.5, -0.25), fancybox=True, shadow=True, ncol=4)\n",
    "plt.xticks(rotation=90)\n",
    "plt.title('월 충전금액 Trend',fontsize=15)\n",
    "plt.xlabel('월(Month)')\n",
    "plt.ylabel('충전금액(억원)')"
   ]
  },
  {
   "cell_type": "code",
   "execution_count": null,
   "metadata": {},
   "outputs": [],
   "source": []
  },
  {
   "cell_type": "code",
   "execution_count": 4,
   "metadata": {},
   "outputs": [],
   "source": [
    "#######\n",
    "# 이용행태 2 : retension\n",
    "###\n",
    "\n",
    "# query 열기/실행\n",
    "f = open(\"./query_SYNC_retension.txt\", 'r'); line = f.read(); f.close()\n",
    "df_re1 = pd.read_sql(line, con = conn)\n",
    "\n",
    "# f = open(\"./query_SYNC_retension2.txt\", 'r'); line = f.read(); f.close()\n",
    "# df_re2 = pd.read_sql(line, con = conn)"
   ]
  },
  {
   "cell_type": "code",
   "execution_count": 5,
   "metadata": {},
   "outputs": [],
   "source": [
    "# 접속정보\n",
    "con_text = open(\"C:/conn_CRM.txt\", 'r', encoding='utf8')\n",
    "con_text = con_text.read()\n",
    "\n",
    "# DB 접속\n",
    "conn = oci.connect(con_text)\n",
    "\n",
    "f = open(\"./query_SYNC_retension3.txt\", 'r'); line = f.read(); f.close()\n",
    "df_re3 = pd.read_sql(line, con = conn)"
   ]
  },
  {
   "cell_type": "code",
   "execution_count": 6,
   "metadata": {},
   "outputs": [
    {
     "data": {
      "text/html": [
       "<div>\n",
       "<style scoped>\n",
       "    .dataframe tbody tr th:only-of-type {\n",
       "        vertical-align: middle;\n",
       "    }\n",
       "\n",
       "    .dataframe tbody tr th {\n",
       "        vertical-align: top;\n",
       "    }\n",
       "\n",
       "    .dataframe thead th {\n",
       "        text-align: right;\n",
       "    }\n",
       "</style>\n",
       "<table border=\"1\" class=\"dataframe\">\n",
       "  <thead>\n",
       "    <tr style=\"text-align: right;\">\n",
       "      <th></th>\n",
       "      <th>UNFY_MMB_NO</th>\n",
       "      <th>CHANNEL_ALL_CNT</th>\n",
       "      <th>CHANNEL_ONLINE_SUM</th>\n",
       "      <th>CHANNEL_OFFLINE_SUM</th>\n",
       "    </tr>\n",
       "  </thead>\n",
       "  <tbody>\n",
       "    <tr>\n",
       "      <th>59573</th>\n",
       "      <td>6018066</td>\n",
       "      <td>1</td>\n",
       "      <td>0</td>\n",
       "      <td>0</td>\n",
       "    </tr>\n",
       "    <tr>\n",
       "      <th>59574</th>\n",
       "      <td>6018239</td>\n",
       "      <td>1</td>\n",
       "      <td>0</td>\n",
       "      <td>0</td>\n",
       "    </tr>\n",
       "    <tr>\n",
       "      <th>59575</th>\n",
       "      <td>6018538</td>\n",
       "      <td>1</td>\n",
       "      <td>0</td>\n",
       "      <td>0</td>\n",
       "    </tr>\n",
       "    <tr>\n",
       "      <th>59576</th>\n",
       "      <td>6018576</td>\n",
       "      <td>1</td>\n",
       "      <td>0</td>\n",
       "      <td>0</td>\n",
       "    </tr>\n",
       "    <tr>\n",
       "      <th>59577</th>\n",
       "      <td>6018939</td>\n",
       "      <td>1</td>\n",
       "      <td>0</td>\n",
       "      <td>0</td>\n",
       "    </tr>\n",
       "  </tbody>\n",
       "</table>\n",
       "</div>"
      ],
      "text/plain": [
       "       UNFY_MMB_NO  CHANNEL_ALL_CNT  CHANNEL_ONLINE_SUM  CHANNEL_OFFLINE_SUM\n",
       "59573      6018066                1                   0                    0\n",
       "59574      6018239                1                   0                    0\n",
       "59575      6018538                1                   0                    0\n",
       "59576      6018576                1                   0                    0\n",
       "59577      6018939                1                   0                    0"
      ]
     },
     "execution_count": 6,
     "metadata": {},
     "output_type": "execute_result"
    }
   ],
   "source": [
    "df_re1.tail()"
   ]
  },
  {
   "cell_type": "code",
   "execution_count": 7,
   "metadata": {
    "scrolled": true
   },
   "outputs": [],
   "source": [
    "# df2.head()"
   ]
  },
  {
   "cell_type": "code",
   "execution_count": 8,
   "metadata": {},
   "outputs": [],
   "source": [
    "df_all = pd.merge(df0, df1, on ='UNFY_MMB_NO', how ='left')\n",
    "df_all = pd.merge(df_all, df2, on ='UNFY_MMB_NO', how ='left')\n",
    "df_all = pd.merge(df_all, df3, on ='UNFY_MMB_NO', how ='left')\n",
    "df_all = pd.merge(df_all, df_re1, on ='UNFY_MMB_NO', how ='left')\n",
    "df_all = pd.merge(df_all, df_re2, on ='UNFY_MMB_NO', how ='left')\n",
    "df_all = pd.merge(df_all, df_re3, on ='UNFY_MMB_NO', how ='left')"
   ]
  },
  {
   "cell_type": "code",
   "execution_count": 9,
   "metadata": {},
   "outputs": [],
   "source": [
    "df_all.rename(columns = {\"'멸균'\"    : \"EMP_멸균\", \n",
    "                         \"'영유아식'\": \"EMP_영유아식\",\n",
    "                         \"'냉장'\"    : \"EMP_냉장\", \n",
    "                         \"'초콜릿'\"  : \"EMP_초콜릿\", \n",
    "                         \"'일반식품'\": \"EMP_일반식품\", \n",
    "                         \"'커피'\"    : \"EMP_커피\", \n",
    "                         \"'동물식'\"  : \"EMP_동물식\", \n",
    "                         \"'판촉물'\"  : \"EMP_판촉물\", \n",
    "                         \"'성인영양'\": \"EMP_성인영양\", \n",
    "                         \"'기타'\"    : \"EMP_기타\"}, inplace = True)"
   ]
  },
  {
   "cell_type": "code",
   "execution_count": 10,
   "metadata": {},
   "outputs": [],
   "source": [
    "df_all.rename(columns = {\"'direct_멸균'\"    : \"direct_멸균\", \n",
    "                         \"'direct_영유아식'\": \"direct_영유아식\",\n",
    "                         \"'direct_냉장'\"    : \"direct_냉장\", \n",
    "                         \"'direct_초콜릿'\"  : \"direct_초콜릿\", \n",
    "                         \"'direct_일반식품'\": \"direct_일반식품\", \n",
    "                         \"'direct_커피'\"    : \"direct_커피\", \n",
    "                         \"'direct_동물식'\"  : \"direct_동물식\", \n",
    "                         \"'direct_판촉물'\"  : \"direct_판촉물\", \n",
    "                         \"'direct_성인영양'\": \"direct_성인영양\", \n",
    "                         \"'direct_HRM'\"     : \"direct_HRM\", \n",
    "                         \"'direct_디저트'\"  : \"direct_디저트\", \n",
    "                         \"'direct_기타'\"    : \"direct_기타\"}, inplace = True)"
   ]
  },
  {
   "cell_type": "code",
   "execution_count": 11,
   "metadata": {
    "scrolled": false
   },
   "outputs": [
    {
     "data": {
      "text/html": [
       "<div>\n",
       "<style scoped>\n",
       "    .dataframe tbody tr th:only-of-type {\n",
       "        vertical-align: middle;\n",
       "    }\n",
       "\n",
       "    .dataframe tbody tr th {\n",
       "        vertical-align: top;\n",
       "    }\n",
       "\n",
       "    .dataframe thead th {\n",
       "        text-align: right;\n",
       "    }\n",
       "</style>\n",
       "<table border=\"1\" class=\"dataframe\">\n",
       "  <thead>\n",
       "    <tr style=\"text-align: right;\">\n",
       "      <th></th>\n",
       "      <th>UNFY_MMB_NO</th>\n",
       "      <th>AGE</th>\n",
       "      <th>GENDER</th>\n",
       "      <th>NTRY_PATH_GUBUN</th>\n",
       "      <th>REG_DTM</th>\n",
       "      <th>LOGIN_CNT</th>\n",
       "      <th>LOGIN_AVG</th>\n",
       "      <th>LOGIN_LAST</th>\n",
       "      <th>LOGIN_RANGE</th>\n",
       "      <th>LOGIN_CHANNEL</th>\n",
       "      <th>...</th>\n",
       "      <th>direct_냉장</th>\n",
       "      <th>direct_초콜릿</th>\n",
       "      <th>direct_일반식품</th>\n",
       "      <th>direct_커피</th>\n",
       "      <th>direct_동물식</th>\n",
       "      <th>direct_판촉물</th>\n",
       "      <th>direct_성인영양</th>\n",
       "      <th>direct_HRM</th>\n",
       "      <th>direct_디저트</th>\n",
       "      <th>direct_기타</th>\n",
       "    </tr>\n",
       "  </thead>\n",
       "  <tbody>\n",
       "    <tr>\n",
       "      <th>354730</th>\n",
       "      <td>6016213</td>\n",
       "      <td>37.0</td>\n",
       "      <td>M</td>\n",
       "      <td>매일다이렉트_카카오싱크</td>\n",
       "      <td>2020-08-28 08:08:14</td>\n",
       "      <td>2.0</td>\n",
       "      <td>0.0</td>\n",
       "      <td>5.0</td>\n",
       "      <td>1.0</td>\n",
       "      <td>7010</td>\n",
       "      <td>...</td>\n",
       "      <td>NaN</td>\n",
       "      <td>None</td>\n",
       "      <td>None</td>\n",
       "      <td>None</td>\n",
       "      <td>None</td>\n",
       "      <td>None</td>\n",
       "      <td>1.0</td>\n",
       "      <td>NaN</td>\n",
       "      <td>None</td>\n",
       "      <td>NaN</td>\n",
       "    </tr>\n",
       "    <tr>\n",
       "      <th>354731</th>\n",
       "      <td>6016369</td>\n",
       "      <td>48.0</td>\n",
       "      <td>F</td>\n",
       "      <td>매일다이렉트_카카오싱크</td>\n",
       "      <td>2020-08-28 12:45:35</td>\n",
       "      <td>3.0</td>\n",
       "      <td>0.3</td>\n",
       "      <td>4.0</td>\n",
       "      <td>1.0</td>\n",
       "      <td>7010</td>\n",
       "      <td>...</td>\n",
       "      <td>NaN</td>\n",
       "      <td>None</td>\n",
       "      <td>None</td>\n",
       "      <td>None</td>\n",
       "      <td>None</td>\n",
       "      <td>None</td>\n",
       "      <td>1.0</td>\n",
       "      <td>NaN</td>\n",
       "      <td>None</td>\n",
       "      <td>NaN</td>\n",
       "    </tr>\n",
       "    <tr>\n",
       "      <th>354732</th>\n",
       "      <td>6016402</td>\n",
       "      <td>30.0</td>\n",
       "      <td>F</td>\n",
       "      <td>MAEILI_MOBILE</td>\n",
       "      <td>2020-08-28 13:30:45</td>\n",
       "      <td>1.0</td>\n",
       "      <td>0.0</td>\n",
       "      <td>5.0</td>\n",
       "      <td>1.0</td>\n",
       "      <td>7010</td>\n",
       "      <td>...</td>\n",
       "      <td>NaN</td>\n",
       "      <td>None</td>\n",
       "      <td>None</td>\n",
       "      <td>None</td>\n",
       "      <td>None</td>\n",
       "      <td>None</td>\n",
       "      <td>NaN</td>\n",
       "      <td>NaN</td>\n",
       "      <td>None</td>\n",
       "      <td>NaN</td>\n",
       "    </tr>\n",
       "    <tr>\n",
       "      <th>354733</th>\n",
       "      <td>6016408</td>\n",
       "      <td>34.0</td>\n",
       "      <td>F</td>\n",
       "      <td>매일다이렉트_카카오싱크</td>\n",
       "      <td>2020-08-28 13:37:59</td>\n",
       "      <td>1.0</td>\n",
       "      <td>0.0</td>\n",
       "      <td>5.0</td>\n",
       "      <td>1.0</td>\n",
       "      <td>7010</td>\n",
       "      <td>...</td>\n",
       "      <td>NaN</td>\n",
       "      <td>None</td>\n",
       "      <td>None</td>\n",
       "      <td>None</td>\n",
       "      <td>None</td>\n",
       "      <td>None</td>\n",
       "      <td>NaN</td>\n",
       "      <td>NaN</td>\n",
       "      <td>None</td>\n",
       "      <td>NaN</td>\n",
       "    </tr>\n",
       "    <tr>\n",
       "      <th>354734</th>\n",
       "      <td>6016440</td>\n",
       "      <td>32.0</td>\n",
       "      <td>F</td>\n",
       "      <td>MAEILI_MOBILE</td>\n",
       "      <td>2020-08-28 14:24:39</td>\n",
       "      <td>5.0</td>\n",
       "      <td>0.0</td>\n",
       "      <td>5.0</td>\n",
       "      <td>2.0</td>\n",
       "      <td>7010</td>\n",
       "      <td>...</td>\n",
       "      <td>NaN</td>\n",
       "      <td>None</td>\n",
       "      <td>None</td>\n",
       "      <td>None</td>\n",
       "      <td>None</td>\n",
       "      <td>None</td>\n",
       "      <td>NaN</td>\n",
       "      <td>NaN</td>\n",
       "      <td>None</td>\n",
       "      <td>NaN</td>\n",
       "    </tr>\n",
       "  </tbody>\n",
       "</table>\n",
       "<p>5 rows × 36 columns</p>\n",
       "</div>"
      ],
      "text/plain": [
       "        UNFY_MMB_NO   AGE GENDER NTRY_PATH_GUBUN             REG_DTM  \\\n",
       "354730      6016213  37.0      M    매일다이렉트_카카오싱크 2020-08-28 08:08:14   \n",
       "354731      6016369  48.0      F    매일다이렉트_카카오싱크 2020-08-28 12:45:35   \n",
       "354732      6016402  30.0      F   MAEILI_MOBILE 2020-08-28 13:30:45   \n",
       "354733      6016408  34.0      F    매일다이렉트_카카오싱크 2020-08-28 13:37:59   \n",
       "354734      6016440  32.0      F   MAEILI_MOBILE 2020-08-28 14:24:39   \n",
       "\n",
       "        LOGIN_CNT  LOGIN_AVG  LOGIN_LAST  LOGIN_RANGE LOGIN_CHANNEL  ...  \\\n",
       "354730        2.0        0.0         5.0          1.0          7010  ...   \n",
       "354731        3.0        0.3         4.0          1.0          7010  ...   \n",
       "354732        1.0        0.0         5.0          1.0          7010  ...   \n",
       "354733        1.0        0.0         5.0          1.0          7010  ...   \n",
       "354734        5.0        0.0         5.0          2.0          7010  ...   \n",
       "\n",
       "        direct_냉장  direct_초콜릿  direct_일반식품  direct_커피  direct_동물식  direct_판촉물  \\\n",
       "354730        NaN        None         None       None        None        None   \n",
       "354731        NaN        None         None       None        None        None   \n",
       "354732        NaN        None         None       None        None        None   \n",
       "354733        NaN        None         None       None        None        None   \n",
       "354734        NaN        None         None       None        None        None   \n",
       "\n",
       "        direct_성인영양  direct_HRM  direct_디저트  direct_기타  \n",
       "354730          1.0         NaN        None        NaN  \n",
       "354731          1.0         NaN        None        NaN  \n",
       "354732          NaN         NaN        None        NaN  \n",
       "354733          NaN         NaN        None        NaN  \n",
       "354734          NaN         NaN        None        NaN  \n",
       "\n",
       "[5 rows x 36 columns]"
      ]
     },
     "execution_count": 11,
     "metadata": {},
     "output_type": "execute_result"
    }
   ],
   "source": [
    "df_all.tail()"
   ]
  },
  {
   "cell_type": "code",
   "execution_count": 12,
   "metadata": {},
   "outputs": [],
   "source": [
    "# df_all.info()"
   ]
  },
  {
   "cell_type": "code",
   "execution_count": null,
   "metadata": {},
   "outputs": [],
   "source": []
  },
  {
   "cell_type": "code",
   "execution_count": 13,
   "metadata": {},
   "outputs": [
    {
     "data": {
      "text/plain": [
       "Index(['AGE', 'LOGIN_CNT', 'LOGIN_AVG', 'LOGIN_LAST', 'LOGIN_RANGE',\n",
       "       'LOGIN_CHANNEL_CNT', 'CHANNEL_ALL_CNT', 'CHANNEL_ONLINE_SUM',\n",
       "       'CHANNEL_OFFLINE_SUM', 'EMP_멸균', 'EMP_영유아식', 'EMP_냉장', 'EMP_초콜릿',\n",
       "       'EMP_일반식품', 'EMP_커피', 'EMP_동물식', 'EMP_판촉물', 'EMP_성인영양', 'EMP_기타',\n",
       "       'direct_멸균', 'direct_영유아식', 'direct_냉장', 'direct_성인영양', 'direct_HRM',\n",
       "       'direct_기타'],\n",
       "      dtype='object')"
      ]
     },
     "execution_count": 13,
     "metadata": {},
     "output_type": "execute_result"
    }
   ],
   "source": [
    "df_all.select_dtypes(include=['float64']).columns"
   ]
  },
  {
   "cell_type": "code",
   "execution_count": 14,
   "metadata": {},
   "outputs": [
    {
     "data": {
      "text/plain": [
       "Index(['GENDER', 'NTRY_PATH_GUBUN', 'LOGIN_CHANNEL', 'direct_초콜릿',\n",
       "       'direct_일반식품', 'direct_커피', 'direct_동물식', 'direct_판촉물', 'direct_디저트'],\n",
       "      dtype='object')"
      ]
     },
     "execution_count": 14,
     "metadata": {},
     "output_type": "execute_result"
    }
   ],
   "source": [
    "df_all.select_dtypes(include=['object']).columns"
   ]
  },
  {
   "cell_type": "code",
   "execution_count": null,
   "metadata": {},
   "outputs": [],
   "source": []
  },
  {
   "cell_type": "markdown",
   "metadata": {},
   "source": [
    "### 2.EDA"
   ]
  },
  {
   "cell_type": "code",
   "execution_count": 13,
   "metadata": {},
   "outputs": [
    {
     "data": {
      "image/png": "[encoded data removed]",
      "text/plain": [
       "<Figure size 720x432 with 1 Axes>"
      ]
     },
     "metadata": {
      "needs_background": "light"
     },
     "output_type": "display_data"
    }
   ],
   "source": [
    "#누락 자료 확인\n",
    "plt.figure(figsize=(10,6))\n",
    "sns.heatmap(df_all.isnull(), cbar=False)\n",
    "plt.show()"
   ]
  },
  {
   "cell_type": "code",
   "execution_count": 88,
   "metadata": {},
   "outputs": [
    {
     "data": {
      "text/html": [
       "<div>\n",
       "<style scoped>\n",
       "    .dataframe tbody tr th:only-of-type {\n",
       "        vertical-align: middle;\n",
       "    }\n",
       "\n",
       "    .dataframe tbody tr th {\n",
       "        vertical-align: top;\n",
       "    }\n",
       "\n",
       "    .dataframe thead th {\n",
       "        text-align: right;\n",
       "    }\n",
       "</style>\n",
       "<table border=\"1\" class=\"dataframe\">\n",
       "  <thead>\n",
       "    <tr style=\"text-align: right;\">\n",
       "      <th></th>\n",
       "      <th>UNFY_MMB_NO</th>\n",
       "      <th>AGE</th>\n",
       "      <th>LOGIN_CNT</th>\n",
       "      <th>LOGIN_AVG</th>\n",
       "      <th>LOGIN_LAST</th>\n",
       "      <th>LOGIN_RANGE</th>\n",
       "      <th>LOGIN_CHANNEL_CNT</th>\n",
       "    </tr>\n",
       "  </thead>\n",
       "  <tbody>\n",
       "    <tr>\n",
       "      <th>count</th>\n",
       "      <td>3.545750e+05</td>\n",
       "      <td>354571.000000</td>\n",
       "      <td>341196.000000</td>\n",
       "      <td>341196.000000</td>\n",
       "      <td>341196.000000</td>\n",
       "      <td>341196.000000</td>\n",
       "      <td>341196.000000</td>\n",
       "    </tr>\n",
       "    <tr>\n",
       "      <th>mean</th>\n",
       "      <td>5.730713e+06</td>\n",
       "      <td>36.495844</td>\n",
       "      <td>3.509352</td>\n",
       "      <td>8.460876</td>\n",
       "      <td>102.729739</td>\n",
       "      <td>1.025771</td>\n",
       "      <td>3.463209</td>\n",
       "    </tr>\n",
       "    <tr>\n",
       "      <th>std</th>\n",
       "      <td>1.857072e+05</td>\n",
       "      <td>9.132813</td>\n",
       "      <td>5.458901</td>\n",
       "      <td>32.811444</td>\n",
       "      <td>54.893765</td>\n",
       "      <td>0.169394</td>\n",
       "      <td>5.334985</td>\n",
       "    </tr>\n",
       "    <tr>\n",
       "      <th>min</th>\n",
       "      <td>4.568761e+06</td>\n",
       "      <td>1.000000</td>\n",
       "      <td>1.000000</td>\n",
       "      <td>0.000000</td>\n",
       "      <td>0.000000</td>\n",
       "      <td>1.000000</td>\n",
       "      <td>1.000000</td>\n",
       "    </tr>\n",
       "    <tr>\n",
       "      <th>25%</th>\n",
       "      <td>5.667420e+06</td>\n",
       "      <td>31.000000</td>\n",
       "      <td>1.000000</td>\n",
       "      <td>0.000000</td>\n",
       "      <td>78.000000</td>\n",
       "      <td>1.000000</td>\n",
       "      <td>1.000000</td>\n",
       "    </tr>\n",
       "    <tr>\n",
       "      <th>50%</th>\n",
       "      <td>5.760407e+06</td>\n",
       "      <td>36.000000</td>\n",
       "      <td>2.000000</td>\n",
       "      <td>0.000000</td>\n",
       "      <td>109.000000</td>\n",
       "      <td>1.000000</td>\n",
       "      <td>2.000000</td>\n",
       "    </tr>\n",
       "    <tr>\n",
       "      <th>75%</th>\n",
       "      <td>5.852382e+06</td>\n",
       "      <td>41.000000</td>\n",
       "      <td>4.000000</td>\n",
       "      <td>4.300000</td>\n",
       "      <td>112.000000</td>\n",
       "      <td>1.000000</td>\n",
       "      <td>4.000000</td>\n",
       "    </tr>\n",
       "    <tr>\n",
       "      <th>max</th>\n",
       "      <td>6.015924e+06</td>\n",
       "      <td>99.000000</td>\n",
       "      <td>696.000000</td>\n",
       "      <td>654.900000</td>\n",
       "      <td>420.000000</td>\n",
       "      <td>4.000000</td>\n",
       "      <td>599.000000</td>\n",
       "    </tr>\n",
       "  </tbody>\n",
       "</table>\n",
       "</div>"
      ],
      "text/plain": [
       "        UNFY_MMB_NO            AGE      LOGIN_CNT      LOGIN_AVG  \\\n",
       "count  3.545750e+05  354571.000000  341196.000000  341196.000000   \n",
       "mean   5.730713e+06      36.495844       3.509352       8.460876   \n",
       "std    1.857072e+05       9.132813       5.458901      32.811444   \n",
       "min    4.568761e+06       1.000000       1.000000       0.000000   \n",
       "25%    5.667420e+06      31.000000       1.000000       0.000000   \n",
       "50%    5.760407e+06      36.000000       2.000000       0.000000   \n",
       "75%    5.852382e+06      41.000000       4.000000       4.300000   \n",
       "max    6.015924e+06      99.000000     696.000000     654.900000   \n",
       "\n",
       "          LOGIN_LAST    LOGIN_RANGE  LOGIN_CHANNEL_CNT  \n",
       "count  341196.000000  341196.000000      341196.000000  \n",
       "mean      102.729739       1.025771           3.463209  \n",
       "std        54.893765       0.169394           5.334985  \n",
       "min         0.000000       1.000000           1.000000  \n",
       "25%        78.000000       1.000000           1.000000  \n",
       "50%       109.000000       1.000000           2.000000  \n",
       "75%       112.000000       1.000000           4.000000  \n",
       "max       420.000000       4.000000         599.000000  "
      ]
     },
     "execution_count": 88,
     "metadata": {},
     "output_type": "execute_result"
    }
   ],
   "source": [
    "df_all.describe()"
   ]
  },
  {
   "cell_type": "code",
   "execution_count": null,
   "metadata": {},
   "outputs": [],
   "source": []
  },
  {
   "cell_type": "code",
   "execution_count": 89,
   "metadata": {},
   "outputs": [
    {
     "data": {
      "image/png": "[encoded data removed]",
      "text/plain": [
       "<Figure size 432x288 with 1 Axes>"
      ]
     },
     "metadata": {
      "needs_background": "light"
     },
     "output_type": "display_data"
    }
   ],
   "source": [
    "#주요 변수 확인 : 연령대\n",
    "plt.figure(figsize=(6,4))\n",
    "plt.plot(df_all.groupby(df_all['AGE'])['AGE'].count())\n",
    "plt.xticks(rotation=270)\n",
    "plt.show()"
   ]
  },
  {
   "cell_type": "code",
   "execution_count": 90,
   "metadata": {},
   "outputs": [
    {
     "data": {
      "image/png": "[encoded data removed]",
      "text/plain": [
       "<Figure size 576x288 with 1 Axes>"
      ]
     },
     "metadata": {
      "needs_background": "light"
     },
     "output_type": "display_data"
    }
   ],
   "source": [
    "#주요 변수 확인 : 가입경로\n",
    "plt.figure(figsize=(8,4))\n",
    "plt.plot(df_all.groupby(df_all['NTRY_PATH_GUBUN'])['NTRY_PATH_GUBUN'].count().sort_values(ascending=False))\n",
    "plt.xticks(rotation=270)\n",
    "plt.show()"
   ]
  },
  {
   "cell_type": "code",
   "execution_count": null,
   "metadata": {},
   "outputs": [],
   "source": []
  },
  {
   "cell_type": "code",
   "execution_count": null,
   "metadata": {},
   "outputs": [],
   "source": []
  },
  {
   "cell_type": "code",
   "execution_count": 16,
   "metadata": {},
   "outputs": [
    {
     "data": {
      "image/png": "[encoded data removed]",
      "text/plain": [
       "<Figure size 432x288 with 1 Axes>"
      ]
     },
     "metadata": {},
     "output_type": "display_data"
    },
    {
     "data": {
      "text/plain": [
       "GENDER\n",
       "F    289768\n",
       "M     63131\n",
       "Name: GENDER, dtype: int64"
      ]
     },
     "execution_count": 16,
     "metadata": {},
     "output_type": "execute_result"
    }
   ],
   "source": [
    "#주요 변수 확인 : 성별\n",
    "\n",
    "df_all.select_dtypes(include=['object']).columns\n",
    "\n",
    "plt.pie(df_all.groupby(df_all['GENDER'])['GENDER'].count(), startangle=90)\n",
    "plt.show()\n",
    "df_all.groupby(df_all['GENDER'])['GENDER'].count()"
   ]
  },
  {
   "cell_type": "code",
   "execution_count": null,
   "metadata": {},
   "outputs": [],
   "source": []
  },
  {
   "cell_type": "code",
   "execution_count": 20,
   "metadata": {},
   "outputs": [
    {
     "data": {
      "image/png": "[encoded data removed]",
      "text/plain": [
       "<Figure size 432x288 with 1 Axes>"
      ]
     },
     "metadata": {
      "needs_background": "light"
     },
     "output_type": "display_data"
    }
   ],
   "source": [
    "#주요 변수 확인 \n",
    "plt.figure(figsize=(6,4))\n",
    "plt.plot(df_all['LOGIN_AVG'])\n",
    "plt.xticks(rotation=270)\n",
    "plt.show()"
   ]
  },
  {
   "cell_type": "code",
   "execution_count": 22,
   "metadata": {},
   "outputs": [
    {
     "data": {
      "image/png": "[encoded data removed]",
      "text/plain": [
       "<Figure size 432x288 with 1 Axes>"
      ]
     },
     "metadata": {
      "needs_background": "light"
     },
     "output_type": "display_data"
    }
   ],
   "source": [
    "#주요 변수 확인 : 연령대\n",
    "plt.figure(figsize=(6,4))\n",
    "plt.plot(df_all['LOGIN_CNT'])\n",
    "plt.xticks(rotation=270)\n",
    "plt.show()"
   ]
  },
  {
   "cell_type": "code",
   "execution_count": 95,
   "metadata": {},
   "outputs": [
    {
     "name": "stdout",
     "output_type": "stream",
     "text": [
      "EMP_전체     구매율(%) : 12.254%\n",
      "------------------------------------\n",
      "EMP_멸균     구매율(%) : 9.148%\n",
      "EMP_영유아식 구매율(%) : 2.079%\n",
      "EMP_냉장     구매율(%) : 0.292%\n",
      "EMP_초콜릿   구매율(%) : 0.446%\n",
      "EMP_커피     구매율(%) : 0.523%\n",
      "EMP_동물식   구매율(%) : 0.031%\n",
      "EMP_판촉물   구매율(%) : 1.362%\n",
      "EMP_성인영양 구매율(%) : 0.93%\n",
      "EMP_기타     구매율(%) : 0.002%\n"
     ]
    }
   ],
   "source": [
    "print( 'EMP_전체     구매율(%) : {}%'.format(round(df_all.EMP_멸균.count()  /df_all.UNFY_MMB_NO.count()*100,3) ) )\n",
    "print( '------------------------------------')\n",
    "print( 'EMP_멸균     구매율(%) : {}%'.format(round(df_all.EMP_멸균.sum()    /df_all.UNFY_MMB_NO.count()*100,3) ) )\n",
    "print( 'EMP_영유아식 구매율(%) : {}%'.format(round(df_all.EMP_영유아식.sum()/df_all.UNFY_MMB_NO.count()*100,3) ) )\n",
    "print( 'EMP_냉장     구매율(%) : {}%'.format(round(df_all.EMP_냉장.sum()    /df_all.UNFY_MMB_NO.count()*100,3) ) )\n",
    "print( 'EMP_초콜릿   구매율(%) : {}%'.format(round(df_all.EMP_초콜릿.sum()  /df_all.UNFY_MMB_NO.count()*100,3) ) )\n",
    "print( 'EMP_커피     구매율(%) : {}%'.format(round(df_all.EMP_커피.sum()    /df_all.UNFY_MMB_NO.count()*100,3) ) )\n",
    "print( 'EMP_동물식   구매율(%) : {}%'.format(round(df_all.EMP_동물식.sum()  /df_all.UNFY_MMB_NO.count()*100,3) ) )\n",
    "print( 'EMP_판촉물   구매율(%) : {}%'.format(round(df_all.EMP_판촉물.sum()  /df_all.UNFY_MMB_NO.count()*100,3) ) )\n",
    "print( 'EMP_성인영양 구매율(%) : {}%'.format(round(df_all.EMP_성인영양.sum()/df_all.UNFY_MMB_NO.count()*100,3) ) )\n",
    "print( 'EMP_기타     구매율(%) : {}%'.format(round(df_all.EMP_기타.sum()    /df_all.UNFY_MMB_NO.count()*100,3) ) )\n"
   ]
  },
  {
   "cell_type": "code",
   "execution_count": 96,
   "metadata": {},
   "outputs": [
    {
     "name": "stdout",
     "output_type": "stream",
     "text": [
      "direct_전체     구매율(%) : 38.152%\n",
      "------------------------------------\n",
      "direct_멸균     구매율(%) : 0.123%\n",
      "direct_영유아식 구매율(%) : 0.001%\n",
      "direct_냉장     구매율(%) : 0.036%\n",
      "direct_초콜릿   구매율(%) : 0.0%\n",
      "direct_커피     구매율(%) : 0.0%\n",
      "direct_동물식   구매율(%) : 0.0%\n",
      "direct_판촉물   구매율(%) : 0.0%\n",
      "direct_성인영양 구매율(%) : 5.479%\n",
      "direct_HRM      구매율(%) : 0.014%\n",
      "direct_디저트   구매율(%) : 0.0%\n",
      "direct_기타     구매율(%) : 35.707%\n"
     ]
    }
   ],
   "source": [
    "print( 'direct_전체     구매율(%) : {}%'.format(round(df_all.direct_디저트.count()  /df_all.UNFY_MMB_NO.count()*100,3) ) )\n",
    "print( '------------------------------------')\n",
    "print( 'direct_멸균     구매율(%) : {}%'.format(round(df_all.direct_멸균.sum()    /df_all.UNFY_MMB_NO.count()*100,3) ) )\n",
    "print( 'direct_영유아식 구매율(%) : {}%'.format(round(df_all.direct_영유아식.sum()/df_all.UNFY_MMB_NO.count()*100,3) ) )\n",
    "print( 'direct_냉장     구매율(%) : {}%'.format(round(df_all.direct_냉장.sum()    /df_all.UNFY_MMB_NO.count()*100,3) ) )\n",
    "print( 'direct_초콜릿   구매율(%) : {}%'.format(round(df_all.direct_초콜릿.sum()  /df_all.UNFY_MMB_NO.count()*100,3) ) )\n",
    "print( 'direct_커피     구매율(%) : {}%'.format(round(df_all.direct_커피.sum()    /df_all.UNFY_MMB_NO.count()*100,3) ) )\n",
    "print( 'direct_동물식   구매율(%) : {}%'.format(round(df_all.direct_동물식.sum()  /df_all.UNFY_MMB_NO.count()*100,3) ) )\n",
    "print( 'direct_판촉물   구매율(%) : {}%'.format(round(df_all.direct_판촉물.sum()  /df_all.UNFY_MMB_NO.count()*100,3) ) )\n",
    "print( 'direct_성인영양 구매율(%) : {}%'.format(round(df_all.direct_성인영양.sum()/df_all.UNFY_MMB_NO.count()*100,3) ) )\n",
    "print( 'direct_HRM      구매율(%) : {}%'.format(round(df_all.direct_HRM.sum()     /df_all.UNFY_MMB_NO.count()*100,3) ) )\n",
    "print( 'direct_디저트   구매율(%) : {}%'.format(round(df_all.direct_디저트.sum()  /df_all.UNFY_MMB_NO.count()*100,3) ) )\n",
    "print( 'direct_기타     구매율(%) : {}%'.format(round(df_all.direct_기타.sum()    /df_all.UNFY_MMB_NO.count()*100,3) ) )\n"
   ]
  },
  {
   "cell_type": "code",
   "execution_count": null,
   "metadata": {},
   "outputs": [],
   "source": []
  },
  {
   "cell_type": "code",
   "execution_count": 16,
   "metadata": {},
   "outputs": [
    {
     "name": "stderr",
     "output_type": "stream",
     "text": [
      "\n",
      "\n",
      "                                   |                         | [  0%]   00:00  -> (? left)\u001b[A\u001b[A\n",
      "\n",
      "Summarizing dataframe:             |                         | [  0%]   00:00  -> (? left)\u001b[A\u001b[A\n",
      "\n",
      "Summarizing dataframe:             |▌                    | [  3%]   00:01  -> (00:44 left)\u001b[A\u001b[A\n",
      "\n",
      ":UNFY_MMB_NO:                      |▌                    | [  3%]   00:01  -> (00:44 left)\u001b[A\u001b[A\n",
      "\n",
      ":UNFY_MMB_NO:                      |█▏                   | [  5%]   00:02  -> (00:40 left)\u001b[A\u001b[A\n",
      "\n",
      ":AGE:                              |█▏                   | [  5%]   00:02  -> (00:40 left)\u001b[A\u001b[A\n",
      "\n",
      ":AGE:                              |█▋                   | [  8%]   00:03  -> (00:35 left)\u001b[A\u001b[A\n",
      "\n",
      ":GENDER:                           |█▋                   | [  8%]   00:03  -> (00:35 left)\u001b[A\u001b[A\n",
      "\n",
      ":GENDER:                           |██▎                  | [ 11%]   00:03  -> (00:27 left)\u001b[A\u001b[A\n",
      "\n",
      ":NTRY_PATH_GUBUN:                  |██▎                  | [ 11%]   00:03  -> (00:27 left)\u001b[A\u001b[A\n",
      "\n",
      ":NTRY_PATH_GUBUN:                  |██▊                  | [ 14%]   00:03  -> (00:22 left)\u001b[A\u001b[A\n",
      "\n",
      ":REG_DTM:                          |██▊                  | [ 14%]   00:03  -> (00:22 left)\u001b[A\u001b[A"
     ]
    },
    {
     "ename": "KeyboardInterrupt",
     "evalue": "",
     "output_type": "error",
     "traceback": [
      "\u001b[1;31m---------------------------------------------------------------------------\u001b[0m",
      "\u001b[1;31mKeyboardInterrupt\u001b[0m                         Traceback (most recent call last)",
      "\u001b[1;32m<ipython-input-16-a7ac5694d2b8>\u001b[0m in \u001b[0;36m<module>\u001b[1;34m\u001b[0m\n\u001b[0;32m      2\u001b[0m \u001b[1;33m\u001b[0m\u001b[0m\n\u001b[0;32m      3\u001b[0m \u001b[1;31m# feature_config = sv.FeatureConfig(skip=\"UNFY_MMB_NO\")\u001b[0m\u001b[1;33m\u001b[0m\u001b[1;33m\u001b[0m\u001b[1;33m\u001b[0m\u001b[0m\n\u001b[1;32m----> 4\u001b[1;33m \u001b[0madvert_report\u001b[0m \u001b[1;33m=\u001b[0m \u001b[0msv\u001b[0m\u001b[1;33m.\u001b[0m\u001b[0manalyze\u001b[0m\u001b[1;33m(\u001b[0m\u001b[0mdf_all\u001b[0m\u001b[1;33m)\u001b[0m\u001b[1;33m\u001b[0m\u001b[1;33m\u001b[0m\u001b[0m\n\u001b[0m\u001b[0;32m      5\u001b[0m \u001b[1;33m\u001b[0m\u001b[0m\n\u001b[0;32m      6\u001b[0m \u001b[1;31m#display the report\u001b[0m\u001b[1;33m\u001b[0m\u001b[1;33m\u001b[0m\u001b[1;33m\u001b[0m\u001b[0m\n",
      "\u001b[1;32mC:\\ProgramData\\Anaconda3\\lib\\site-packages\\sweetviz\\sv_public.py\u001b[0m in \u001b[0;36manalyze\u001b[1;34m(source, target_feat, feat_cfg, pairwise_analysis)\u001b[0m\n\u001b[0;32m     11\u001b[0m             pairwise_analysis: str = 'auto'):\n\u001b[0;32m     12\u001b[0m     report = sweetviz.DataframeReport(source, target_feat, None,\n\u001b[1;32m---> 13\u001b[1;33m                                       pairwise_analysis, feat_cfg)\n\u001b[0m\u001b[0;32m     14\u001b[0m     \u001b[1;32mreturn\u001b[0m \u001b[0mreport\u001b[0m\u001b[1;33m\u001b[0m\u001b[1;33m\u001b[0m\u001b[0m\n\u001b[0;32m     15\u001b[0m \u001b[1;33m\u001b[0m\u001b[0m\n",
      "\u001b[1;32mC:\\ProgramData\\Anaconda3\\lib\\site-packages\\sweetviz\\dataframe_report.py\u001b[0m in \u001b[0;36m__init__\u001b[1;34m(self, source, target_feature_name, compare, pairwise_analysis, fc)\u001b[0m\n\u001b[0;32m    215\u001b[0m             \u001b[1;31m# start = time.perf_counter()\u001b[0m\u001b[1;33m\u001b[0m\u001b[1;33m\u001b[0m\u001b[1;33m\u001b[0m\u001b[0m\n\u001b[0;32m    216\u001b[0m             \u001b[0mself\u001b[0m\u001b[1;33m.\u001b[0m\u001b[0mprogress_bar\u001b[0m\u001b[1;33m.\u001b[0m\u001b[0mset_description\u001b[0m\u001b[1;33m(\u001b[0m\u001b[1;34m':'\u001b[0m \u001b[1;33m+\u001b[0m \u001b[0mf\u001b[0m\u001b[1;33m.\u001b[0m\u001b[0msource\u001b[0m\u001b[1;33m.\u001b[0m\u001b[0mname\u001b[0m \u001b[1;33m+\u001b[0m \u001b[1;34m''\u001b[0m\u001b[1;33m)\u001b[0m\u001b[1;33m\u001b[0m\u001b[1;33m\u001b[0m\u001b[0m\n\u001b[1;32m--> 217\u001b[1;33m             \u001b[0mself\u001b[0m\u001b[1;33m.\u001b[0m\u001b[0m_features\u001b[0m\u001b[1;33m[\u001b[0m\u001b[0mf\u001b[0m\u001b[1;33m.\u001b[0m\u001b[0msource\u001b[0m\u001b[1;33m.\u001b[0m\u001b[0mname\u001b[0m\u001b[1;33m]\u001b[0m \u001b[1;33m=\u001b[0m \u001b[0msa\u001b[0m\u001b[1;33m.\u001b[0m\u001b[0manalyze_feature_to_dictionary\u001b[0m\u001b[1;33m(\u001b[0m\u001b[0mf\u001b[0m\u001b[1;33m)\u001b[0m\u001b[1;33m\u001b[0m\u001b[1;33m\u001b[0m\u001b[0m\n\u001b[0m\u001b[0;32m    218\u001b[0m             \u001b[0mself\u001b[0m\u001b[1;33m.\u001b[0m\u001b[0mprogress_bar\u001b[0m\u001b[1;33m.\u001b[0m\u001b[0mupdate\u001b[0m\u001b[1;33m(\u001b[0m\u001b[1;36m1\u001b[0m\u001b[1;33m)\u001b[0m\u001b[1;33m\u001b[0m\u001b[1;33m\u001b[0m\u001b[0m\n\u001b[0;32m    219\u001b[0m             \u001b[1;31m# print(f\"DONE FEATURE------> {f.source.name}\"\u001b[0m\u001b[1;33m\u001b[0m\u001b[1;33m\u001b[0m\u001b[1;33m\u001b[0m\u001b[0m\n",
      "\u001b[1;32mC:\\ProgramData\\Anaconda3\\lib\\site-packages\\sweetviz\\series_analyzer.py\u001b[0m in \u001b[0;36manalyze_feature_to_dictionary\u001b[1;34m(to_process)\u001b[0m\n\u001b[0;32m    134\u001b[0m         \u001b[0msweetviz\u001b[0m\u001b[1;33m.\u001b[0m\u001b[0mseries_analyzer_cat\u001b[0m\u001b[1;33m.\u001b[0m\u001b[0manalyze\u001b[0m\u001b[1;33m(\u001b[0m\u001b[0mto_process\u001b[0m\u001b[1;33m,\u001b[0m \u001b[0mreturned_feature_dict\u001b[0m\u001b[1;33m)\u001b[0m\u001b[1;33m\u001b[0m\u001b[1;33m\u001b[0m\u001b[0m\n\u001b[0;32m    135\u001b[0m     \u001b[1;32melif\u001b[0m \u001b[0mreturned_feature_dict\u001b[0m\u001b[1;33m[\u001b[0m\u001b[1;34m\"type\"\u001b[0m\u001b[1;33m]\u001b[0m \u001b[1;33m==\u001b[0m \u001b[0mFeatureType\u001b[0m\u001b[1;33m.\u001b[0m\u001b[0mTYPE_TEXT\u001b[0m\u001b[1;33m:\u001b[0m\u001b[1;33m\u001b[0m\u001b[1;33m\u001b[0m\u001b[0m\n\u001b[1;32m--> 136\u001b[1;33m         \u001b[0msweetviz\u001b[0m\u001b[1;33m.\u001b[0m\u001b[0mseries_analyzer_text\u001b[0m\u001b[1;33m.\u001b[0m\u001b[0manalyze\u001b[0m\u001b[1;33m(\u001b[0m\u001b[0mto_process\u001b[0m\u001b[1;33m,\u001b[0m \u001b[0mreturned_feature_dict\u001b[0m\u001b[1;33m)\u001b[0m\u001b[1;33m\u001b[0m\u001b[1;33m\u001b[0m\u001b[0m\n\u001b[0m\u001b[0;32m    137\u001b[0m     \u001b[1;32melse\u001b[0m\u001b[1;33m:\u001b[0m\u001b[1;33m\u001b[0m\u001b[1;33m\u001b[0m\u001b[0m\n\u001b[0;32m    138\u001b[0m         \u001b[1;32mraise\u001b[0m \u001b[0mValueError\u001b[0m\u001b[1;33m\u001b[0m\u001b[1;33m\u001b[0m\u001b[0m\n",
      "\u001b[1;32mC:\\ProgramData\\Anaconda3\\lib\\site-packages\\sweetviz\\series_analyzer_text.py\u001b[0m in \u001b[0;36manalyze\u001b[1;34m(to_process, feature_dict)\u001b[0m\n\u001b[0;32m     43\u001b[0m         \u001b[0mcompare_dict\u001b[0m\u001b[1;33m[\u001b[0m\u001b[1;34m\"stats\"\u001b[0m\u001b[1;33m]\u001b[0m \u001b[1;33m=\u001b[0m \u001b[0mdict\u001b[0m\u001b[1;33m(\u001b[0m\u001b[1;33m)\u001b[0m\u001b[1;33m\u001b[0m\u001b[1;33m\u001b[0m\u001b[0m\n\u001b[0;32m     44\u001b[0m \u001b[1;33m\u001b[0m\u001b[0m\n\u001b[1;32m---> 45\u001b[1;33m     \u001b[0mdo_detail_text\u001b[0m\u001b[1;33m(\u001b[0m\u001b[0mto_process\u001b[0m\u001b[1;33m,\u001b[0m \u001b[0mfeature_dict\u001b[0m\u001b[1;33m)\u001b[0m\u001b[1;33m\u001b[0m\u001b[1;33m\u001b[0m\u001b[0m\n\u001b[0m\u001b[0;32m     46\u001b[0m \u001b[1;33m\u001b[0m\u001b[0m\n\u001b[0;32m     47\u001b[0m     \u001b[1;32mif\u001b[0m \u001b[0mto_process\u001b[0m\u001b[1;33m.\u001b[0m\u001b[0mis_target\u001b[0m\u001b[1;33m(\u001b[0m\u001b[1;33m)\u001b[0m\u001b[1;33m:\u001b[0m\u001b[1;33m\u001b[0m\u001b[1;33m\u001b[0m\u001b[0m\n",
      "\u001b[1;32mC:\\ProgramData\\Anaconda3\\lib\\site-packages\\sweetviz\\series_analyzer_text.py\u001b[0m in \u001b[0;36mdo_detail_text\u001b[1;34m(to_process, updated_dict)\u001b[0m\n\u001b[0;32m     19\u001b[0m     \u001b[1;32mfor\u001b[0m \u001b[0mitem\u001b[0m \u001b[1;32min\u001b[0m \u001b[0mto_process\u001b[0m\u001b[1;33m.\u001b[0m\u001b[0msource_counts\u001b[0m\u001b[1;33m[\u001b[0m\u001b[1;34m\"value_counts_without_nan\"\u001b[0m\u001b[1;33m]\u001b[0m\u001b[1;33m.\u001b[0m\u001b[0miteritems\u001b[0m\u001b[1;33m(\u001b[0m\u001b[1;33m)\u001b[0m\u001b[1;33m:\u001b[0m\u001b[1;33m\u001b[0m\u001b[1;33m\u001b[0m\u001b[0m\n\u001b[0;32m     20\u001b[0m         \u001b[0mrow\u001b[0m \u001b[1;33m=\u001b[0m \u001b[0mdict\u001b[0m\u001b[1;33m(\u001b[0m\u001b[1;33m)\u001b[0m\u001b[1;33m\u001b[0m\u001b[1;33m\u001b[0m\u001b[0m\n\u001b[1;32m---> 21\u001b[1;33m         \u001b[0mrow\u001b[0m\u001b[1;33m[\u001b[0m\u001b[1;34m\"name\"\u001b[0m\u001b[1;33m]\u001b[0m \u001b[1;33m=\u001b[0m \u001b[0mhtml\u001b[0m\u001b[1;33m.\u001b[0m\u001b[0mescape\u001b[0m\u001b[1;33m(\u001b[0m\u001b[0mstr\u001b[0m\u001b[1;33m(\u001b[0m\u001b[0mitem\u001b[0m\u001b[1;33m[\u001b[0m\u001b[1;36m0\u001b[0m\u001b[1;33m]\u001b[0m\u001b[1;33m)\u001b[0m\u001b[1;33m)\u001b[0m\u001b[1;33m\u001b[0m\u001b[1;33m\u001b[0m\u001b[0m\n\u001b[0m\u001b[0;32m     22\u001b[0m         \u001b[0mrow\u001b[0m\u001b[1;33m[\u001b[0m\u001b[1;34m\"count\"\u001b[0m\u001b[1;33m]\u001b[0m \u001b[1;33m=\u001b[0m \u001b[0mNumWithPercent\u001b[0m\u001b[1;33m(\u001b[0m\u001b[0mitem\u001b[0m\u001b[1;33m[\u001b[0m\u001b[1;36m1\u001b[0m\u001b[1;33m]\u001b[0m\u001b[1;33m,\u001b[0m \u001b[0mnum_values\u001b[0m\u001b[1;33m)\u001b[0m\u001b[1;33m\u001b[0m\u001b[1;33m\u001b[0m\u001b[0m\n\u001b[0;32m     23\u001b[0m         \u001b[1;31m# Defaults to no comparison or target\u001b[0m\u001b[1;33m\u001b[0m\u001b[1;33m\u001b[0m\u001b[1;33m\u001b[0m\u001b[0m\n",
      "\u001b[1;32mC:\\ProgramData\\Anaconda3\\lib\\html\\__init__.py\u001b[0m in \u001b[0;36mescape\u001b[1;34m(s, quote)\u001b[0m\n\u001b[0;32m     10\u001b[0m \u001b[1;33m\u001b[0m\u001b[0m\n\u001b[0;32m     11\u001b[0m \u001b[1;33m\u001b[0m\u001b[0m\n\u001b[1;32m---> 12\u001b[1;33m \u001b[1;32mdef\u001b[0m \u001b[0mescape\u001b[0m\u001b[1;33m(\u001b[0m\u001b[0ms\u001b[0m\u001b[1;33m,\u001b[0m \u001b[0mquote\u001b[0m\u001b[1;33m=\u001b[0m\u001b[1;32mTrue\u001b[0m\u001b[1;33m)\u001b[0m\u001b[1;33m:\u001b[0m\u001b[1;33m\u001b[0m\u001b[1;33m\u001b[0m\u001b[0m\n\u001b[0m\u001b[0;32m     13\u001b[0m     \"\"\"\n\u001b[0;32m     14\u001b[0m     \u001b[0mReplace\u001b[0m \u001b[0mspecial\u001b[0m \u001b[0mcharacters\u001b[0m \u001b[1;34m\"&\"\u001b[0m\u001b[1;33m,\u001b[0m \u001b[1;34m\"<\"\u001b[0m \u001b[1;32mand\u001b[0m \u001b[1;34m\">\"\u001b[0m \u001b[0mto\u001b[0m \u001b[0mHTML\u001b[0m\u001b[1;33m-\u001b[0m\u001b[0msafe\u001b[0m \u001b[0msequences\u001b[0m\u001b[1;33m.\u001b[0m\u001b[1;33m\u001b[0m\u001b[1;33m\u001b[0m\u001b[0m\n",
      "\u001b[1;31mKeyboardInterrupt\u001b[0m: "
     ]
    }
   ],
   "source": [
    "import sweetviz as sv\n",
    "\n",
    "# feature_config = sv.FeatureConfig(skip=\"UNFY_MMB_NO\")\n",
    "advert_report = sv.analyze(df_all)\n",
    "\n",
    "#display the report\n",
    "advert_report.show_html('./sweetviz_Advertising.html')"
   ]
  },
  {
   "cell_type": "code",
   "execution_count": null,
   "metadata": {},
   "outputs": [],
   "source": []
  },
  {
   "cell_type": "code",
   "execution_count": null,
   "metadata": {},
   "outputs": [],
   "source": []
  }
 ],
 "metadata": {
  "kernelspec": {
   "display_name": "Python 3",
   "language": "python",
   "name": "python3"
  },
  "language_info": {
   "codemirror_mode": {
    "name": "ipython",
    "version": 3
   },
   "file_extension": ".py",
   "mimetype": "text/x-python",
   "name": "python",
   "nbconvert_exporter": "python",
   "pygments_lexer": "ipython3",
   "version": "3.7.6"
  }
 },
 "nbformat": 4,
 "nbformat_minor": 4
}
