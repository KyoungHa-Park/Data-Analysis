{
 "cells": [
  {
   "cell_type": "code",
   "execution_count": null,
   "metadata": {
    "colab": {},
    "colab_type": "code",
    "id": "enVGTiG9SeWM"
   },
   "outputs": [],
   "source": [
    "# 보고서 생성 : 이미지 추가\n",
    "# 출처 : https://www.slideshare.net/plusjune/ss-110416117\n",
    "# 슬라이드 내 37page"
   ]
  },
  {
   "attachments": {},
   "cell_type": "markdown",
   "metadata": {
    "colab": {},
    "colab_type": "code",
    "id": "jMSdLSnSSeWP"
   },
   "source": [
    "###  설정 내용\n",
    "+ [x] 이메일 발송 모듈 만들기 \n",
    "+ [x] 이메일 양식(내용) frame 구성하기\n",
    "+ [x] 발송 셋팅\n",
    "  + [x] 이메일 양식 관련 변수 설정\n",
    "    + [x] 발송일자 설정\n",
    "    + [x] 표 붙여넣기\n",
    "      + [ ] 동적 효과 적용\n",
    "      + [ ] 변동 내용 추가\n",
    "    + [ ] 이미지 붙여넣기\n",
    "  + [x] 발송 변수 설정\n",
    "    + [x] mulit 발송\n",
    "    + [x] 첨부파일 추가\n",
    "+ [x] 이메일 발송하기(모듈 실행)"
   ]
  },
  {
   "cell_type": "code",
   "execution_count": null,
   "metadata": {
    "colab": {},
    "colab_type": "code",
    "id": "B1jDPhc0SeWT"
   },
   "outputs": [],
   "source": [
    "## 이메일 발송 모듈 만들기\n",
    "\n",
    "import pandas as pd\n",
    "import os\n",
    "import smtplib\n",
    "from email.mime.multipart import MIMEMultipart\n",
    "from email.mime.base import MIMEBase\n",
    "from email.mime.text import MIMEText\n",
    "from email import encoders\n",
    "from email.header import Header\n",
    "from datetime import datetime, timedelta\n",
    "\n",
    "import sqlite3\n",
    "\n",
    "from jinja2 import Template\n",
    "\n",
    "\n",
    "gmail_user='************'\n",
    "gmail_pwd ='************'\n",
    "\n",
    "def send_gmail(to, subject, html, attach=None):\n",
    "    msg=MIMEMultipart('alternative')\n",
    "    msg['From']=gmail_user\n",
    "    msg['To'] = to\n",
    "    msg['Subject'] = Header(s=subject, charset=\"utf-8\")\n",
    "    msg.attach(MIMEText(html, 'html', _charset=\"utf-8\"))\n",
    "\n",
    "    #첨부파일\n",
    "    if attach:\n",
    "        part=MIMEBase('application','octet-stream')\n",
    "        part.set_payload(open(attach, 'rb').read())\n",
    "        encoders.encode_base64(part)\n",
    "        part.add_header('Content-Disposition','attachment; filename=\"%s\"' % os.path.basename(attach))\n",
    "        msg.attach(part)\n",
    "     \n",
    "    s = smtplib.SMTP(\"smtp.gmail.com\", 587)\n",
    "    s.ehlo()\n",
    "    s.starttls()\n",
    "    s.ehlo()\n",
    "    s.login(gmail_user, gmail_pwd)\n",
    "    s.sendmail(gmail_user, to, msg.as_string())\n",
    "    s.close()"
   ]
  },
  {
   "cell_type": "code",
   "execution_count": null,
   "metadata": {
    "colab": {},
    "colab_type": "code",
    "id": "d-bCgTtBSeWh"
   },
   "outputs": [],
   "source": [
    "# 이메일 양식(내용) frame 구성하기\n",
    "message_tmpl=\"\"\"<html>\n",
    "<!DOCTYPE html>\n",
    "<html>\n",
    "<head lang =\"ko\">\n",
    "  <meta charset =\"UTF-8\">\n",
    "  <title>{{title1}}</title>\n",
    "</head>\n",
    "<body>\n",
    "안녕하세요, CMR팀 박경하 입니다.<br/>\n",
    "<br/>\n",
    "지난주({{d0}} ~{{d1}})온라인상에서의 분유가격 동향결과 공유드립니다.<br/>\n",
    "  \n",
    "  <h3> {{title1}} </h3>\n",
    "  {{headline_text}}\n",
    "  \n",
    "  <h3> {{title2}} </h3>\n",
    "  {{title2_text1}}<br/>\n",
    "  {{ df1_html }}<br/>\n",
    "  {{title2_text2}}<br/>\n",
    "  {{ df2_html }}<br/>\n",
    "\n",
    "  <h3> {{title3}} </h3>\n",
    "  <br/>\n",
    "  \n",
    "<br/><br/>\n",
    "감사합니다.\n",
    "</body>\n",
    "</html>\n",
    "\"\"\""
   ]
  },
  {
   "cell_type": "code",
   "execution_count": null,
   "metadata": {
    "colab": {},
    "colab_type": "code",
    "id": "C1uXTD1U2EpH"
   },
   "outputs": [],
   "source": [
    "# 표 만들기\n",
    "##.db 파일(스키마) 접속\n",
    "con = sqlite3.connect(\"C:/Users/khpark/Google 드라이브/python/분유가격 분석/MONITERING_PRICE_test.db\")\n",
    "cursor = con.cursor()\n"
   ]
  },
  {
   "cell_type": "code",
   "execution_count": null,
   "metadata": {
    "colab": {},
    "colab_type": "code",
    "id": "5wL6qSgf2EpK"
   },
   "outputs": [],
   "source": [
    "STAGE, COMPANY = \"1단계\", \"매일\"\n",
    "\n",
    "s_dt = (datetime.today()- timedelta(8)).strftime('%Y-%m-%d')\n",
    "e_dt = (datetime.today()- timedelta(1)).strftime('%Y-%m-%d')\n",
    "# s_dt = '2018-08-10'\n",
    "# e_dt = '2018-08-20'\n",
    "\n",
    "# query = (\"SELECT A.DATE, B.LINE, min(A.PRICE) as PRICE FROM MILKPOWER_MIN A, MP_PRODUCT B where B.PRODUCT = A.PRODUCT \" +\n",
    "#          'and B.STAGE = '   + \"'\" + STAGE   + \"' \" + \n",
    "#          'and B.COMPANY = ' + \"'\" + COMPANY + \"' \" + \n",
    "#          'and A.DATE between '+ \"'\" + s_dt + \"' and '\" +e_dt+\"' \" +\n",
    "#          \"and B.LINE not in ('저가') \" + \n",
    "#          'group by A.DATE, B.LINE '\n",
    "#         )\n",
    "\n",
    "query = (\"SELECT distinct A.DATE , C.고가, D.중가, E.민감성, F.산양, G.액상, H.스틱 \" +\n",
    "         \"FROM MILKPOWER_MIN A \" + \n",
    "         \"left join (select A.DATE, min(A.PRICE) as 고가   from MILKPOWER_MIN A, MP_PRODUCT B where B.PRODUCT = A.PRODUCT and B.STAGE = '1단계' and B.LINE ='고가'   and B.COMPANY = '매일' group by A.DATE ) C on A.date = C.date \"+\n",
    "         \"left join (select A.DATE, min(A.PRICE) as 중가   from MILKPOWER_MIN A, MP_PRODUCT B where B.PRODUCT = A.PRODUCT and B.STAGE = '1단계' and B.LINE ='중가'   and B.COMPANY = '매일' group by A.DATE ) D on A.date = D.date \"+\n",
    "         \"left join (select A.DATE, min(A.PRICE) as 민감성 from MILKPOWER_MIN A, MP_PRODUCT B where B.PRODUCT = A.PRODUCT and B.STAGE = '1단계' and B.LINE ='민감성' and B.COMPANY = '매일' group by A.DATE ) E on A.date = E.date \"+\n",
    "         \"left join (select A.DATE, min(A.PRICE) as 산양   from MILKPOWER_MIN A, MP_PRODUCT B where B.PRODUCT = A.PRODUCT and B.STAGE = '1단계' and B.LINE ='산양'   and B.COMPANY = '매일' group by A.DATE ) F on A.date = F.date \"+\n",
    "         \"left join (select A.DATE, min(A.PRICE) as 액상   from MILKPOWER_MIN A, MP_PRODUCT B where B.PRODUCT = A.PRODUCT and B.STAGE = '1단계' and B.LINE ='액상'   and B.COMPANY = '매일' group by A.DATE ) G on A.date = G.date \"+\n",
    "         \"left join (select A.DATE, min(A.PRICE) as 스틱   from MILKPOWER_MIN A, MP_PRODUCT B where B.PRODUCT = A.PRODUCT and B.STAGE = '1단계' and B.LINE ='스틱'   and B.COMPANY = '매일' group by A.DATE ) H on A.date = H.date \"+\n",
    "         'where A.DATE between '+ \"'\" + s_dt + \"' and '\" +e_dt+\"' \"\n",
    "        )\n",
    "\n",
    "# query = (\"select A.DATE, min(A.PRICE) as 고가 \" +\n",
    "#          \"from MILKPOWER_MIN A, MP_PRODUCT B \" +\n",
    "#          \"where B.PRODUCT = A.PRODUCT \" +\n",
    "#          \"and B.STAGE = '1단계' and B.LINE ='고가' group by A.DATE \")\n",
    "\n",
    "# 변수지정\n",
    "# STAGE,PACKAGE,VOLUNM,LINE = \"1단계\",\"캔\",\"대\",\"고가\"\n",
    "\n",
    "# 쿼리설정\n",
    "# query = (\"SELECT A.DATE || ' ' || A.TIME as DATE, B.BRAND, min(A.PRICE) as PRICE FROM MILKPOWER_MIN A, MP_PRODUCT B where B.PRODUCT = A.PRODUCT \" +\n",
    "#          'and B.STAGE = '   + \"'\" + STAGE   + \"' \" + \n",
    "#          'and B.TYPE2 = '   + \"'\" + PACKAGE + \"' \" +\n",
    "#          'and B.VOLUNM2 = ' + \"'\" + VOLUNM  + \"' \" +\n",
    "#          'and B.LINE = '    + \"'\" + LINE    + \"' \" +\n",
    "#          \"group by A.DATE, A.TIME, B.BRAND\")\n",
    "\n",
    "# 쿼리실행\n",
    "df = pd.read_sql(query, con)\n",
    "\n",
    "#자료 피벗팅\n",
    "# df = df11.pivot('DATE','LINE','PRICE')\n",
    "# df11 = pd.pivot_table(df11, values = 'PRICE', index = 'DATE', columns= 'LINE')\n"
   ]
  },
  {
   "cell_type": "code",
   "execution_count": null,
   "metadata": {
    "colab": {},
    "colab_type": "code",
    "id": "YJ1gTnNb2EpN",
    "outputId": "091b3d18-7bcd-413d-b299-ffd63afbef52"
   },
   "outputs": [
    {
     "data": {
      "text/html": [
       "<div>\n",
       "<style scoped>\n",
       "    .dataframe tbody tr th:only-of-type {\n",
       "        vertical-align: middle;\n",
       "    }\n",
       "\n",
       "    .dataframe tbody tr th {\n",
       "        vertical-align: top;\n",
       "    }\n",
       "\n",
       "    .dataframe thead th {\n",
       "        text-align: right;\n",
       "    }\n",
       "</style>\n",
       "<table border=\"1\" class=\"dataframe\">\n",
       "  <thead>\n",
       "    <tr style=\"text-align: right;\">\n",
       "      <th></th>\n",
       "      <th>DATE</th>\n",
       "      <th>고가</th>\n",
       "      <th>중가</th>\n",
       "      <th>민감성</th>\n",
       "      <th>산양</th>\n",
       "      <th>액상</th>\n",
       "      <th>스틱</th>\n",
       "    </tr>\n",
       "  </thead>\n",
       "  <tbody>\n",
       "    <tr>\n",
       "      <th>0</th>\n",
       "      <td>2018-08-14</td>\n",
       "      <td>14,790</td>\n",
       "      <td>10,500</td>\n",
       "      <td>19,190</td>\n",
       "      <td>None</td>\n",
       "      <td>7,330</td>\n",
       "      <td>11,670</td>\n",
       "    </tr>\n",
       "    <tr>\n",
       "      <th>1</th>\n",
       "      <td>2018-08-15</td>\n",
       "      <td>14,790</td>\n",
       "      <td>10,500</td>\n",
       "      <td>19,200</td>\n",
       "      <td>None</td>\n",
       "      <td>7,330</td>\n",
       "      <td>11,670</td>\n",
       "    </tr>\n",
       "    <tr>\n",
       "      <th>2</th>\n",
       "      <td>2018-08-16</td>\n",
       "      <td>14,790</td>\n",
       "      <td>10,500</td>\n",
       "      <td>19,200</td>\n",
       "      <td>41,300</td>\n",
       "      <td>7,330</td>\n",
       "      <td>11,670</td>\n",
       "    </tr>\n",
       "    <tr>\n",
       "      <th>3</th>\n",
       "      <td>2018-08-17</td>\n",
       "      <td>14,790</td>\n",
       "      <td>10,500</td>\n",
       "      <td>19,200</td>\n",
       "      <td>41,300</td>\n",
       "      <td>None</td>\n",
       "      <td>11,670</td>\n",
       "    </tr>\n",
       "    <tr>\n",
       "      <th>4</th>\n",
       "      <td>2018-08-18</td>\n",
       "      <td>14,790</td>\n",
       "      <td>10,500</td>\n",
       "      <td>19,200</td>\n",
       "      <td>41,300</td>\n",
       "      <td>10,300</td>\n",
       "      <td>11,670</td>\n",
       "    </tr>\n",
       "    <tr>\n",
       "      <th>5</th>\n",
       "      <td>2018-08-19</td>\n",
       "      <td>14,790</td>\n",
       "      <td>10,930</td>\n",
       "      <td>19,200</td>\n",
       "      <td>41,300</td>\n",
       "      <td>10,300</td>\n",
       "      <td>11,670</td>\n",
       "    </tr>\n",
       "    <tr>\n",
       "      <th>6</th>\n",
       "      <td>2018-08-20</td>\n",
       "      <td>14,790</td>\n",
       "      <td>10,930</td>\n",
       "      <td>19,200</td>\n",
       "      <td>41,300</td>\n",
       "      <td>27,570</td>\n",
       "      <td>11,670</td>\n",
       "    </tr>\n",
       "  </tbody>\n",
       "</table>\n",
       "</div>"
      ],
      "text/plain": [
       "         DATE      고가      중가     민감성      산양      액상      스틱\n",
       "0  2018-08-14  14,790  10,500  19,190    None   7,330  11,670\n",
       "1  2018-08-15  14,790  10,500  19,200    None   7,330  11,670\n",
       "2  2018-08-16  14,790  10,500  19,200  41,300   7,330  11,670\n",
       "3  2018-08-17  14,790  10,500  19,200  41,300    None  11,670\n",
       "4  2018-08-18  14,790  10,500  19,200  41,300  10,300  11,670\n",
       "5  2018-08-19  14,790  10,930  19,200  41,300  10,300  11,670\n",
       "6  2018-08-20  14,790  10,930  19,200  41,300  27,570  11,670"
      ]
     },
     "execution_count": 170,
     "metadata": {
      "tags": []
     },
     "output_type": "execute_result"
    }
   ],
   "source": [
    "df"
   ]
  },
  {
   "cell_type": "code",
   "execution_count": null,
   "metadata": {
    "colab": {},
    "colab_type": "code",
    "id": "iVZnM6Tn2EpR",
    "outputId": "96eaaa84-d3e9-493a-d72c-00cd0e133ea5",
    "scrolled": true
   },
   "outputs": [
    {
     "ename": "TypeError",
     "evalue": "Empty 'DataFrame': no numeric data to plot",
     "output_type": "error",
     "traceback": [
      "\u001b[1;31m---------------------------------------------------------------------------\u001b[0m",
      "\u001b[1;31mTypeError\u001b[0m                                 Traceback (most recent call last)",
      "\u001b[1;32m<ipython-input-167-092def814811>\u001b[0m in \u001b[0;36m<module>\u001b[1;34m()\u001b[0m\n\u001b[0;32m      1\u001b[0m \u001b[1;32mimport\u001b[0m \u001b[0mmatplotlib\u001b[0m\u001b[1;33m.\u001b[0m\u001b[0mpyplot\u001b[0m \u001b[1;32mas\u001b[0m \u001b[0mplt\u001b[0m\u001b[1;33m\u001b[0m\u001b[0m\n\u001b[1;32m----> 2\u001b[1;33m \u001b[0mplt\u001b[0m\u001b[1;33m.\u001b[0m\u001b[0mfigure\u001b[0m\u001b[1;33m(\u001b[0m\u001b[1;33m)\u001b[0m\u001b[1;33m;\u001b[0m \u001b[0mdf\u001b[0m\u001b[1;33m.\u001b[0m\u001b[0mplot\u001b[0m\u001b[1;33m(\u001b[0m\u001b[1;33m)\u001b[0m\u001b[1;33m;\u001b[0m\u001b[1;33m\u001b[0m\u001b[0m\n\u001b[0m",
      "\u001b[1;32m~\\Anaconda3\\lib\\site-packages\\pandas\\plotting\\_core.py\u001b[0m in \u001b[0;36m__call__\u001b[1;34m(self, x, y, kind, ax, subplots, sharex, sharey, layout, figsize, use_index, title, grid, legend, style, logx, logy, loglog, xticks, yticks, xlim, ylim, rot, fontsize, colormap, table, yerr, xerr, secondary_y, sort_columns, **kwds)\u001b[0m\n\u001b[0;32m   2675\u001b[0m                           \u001b[0mfontsize\u001b[0m\u001b[1;33m=\u001b[0m\u001b[0mfontsize\u001b[0m\u001b[1;33m,\u001b[0m \u001b[0mcolormap\u001b[0m\u001b[1;33m=\u001b[0m\u001b[0mcolormap\u001b[0m\u001b[1;33m,\u001b[0m \u001b[0mtable\u001b[0m\u001b[1;33m=\u001b[0m\u001b[0mtable\u001b[0m\u001b[1;33m,\u001b[0m\u001b[1;33m\u001b[0m\u001b[0m\n\u001b[0;32m   2676\u001b[0m                           \u001b[0myerr\u001b[0m\u001b[1;33m=\u001b[0m\u001b[0myerr\u001b[0m\u001b[1;33m,\u001b[0m \u001b[0mxerr\u001b[0m\u001b[1;33m=\u001b[0m\u001b[0mxerr\u001b[0m\u001b[1;33m,\u001b[0m \u001b[0msecondary_y\u001b[0m\u001b[1;33m=\u001b[0m\u001b[0msecondary_y\u001b[0m\u001b[1;33m,\u001b[0m\u001b[1;33m\u001b[0m\u001b[0m\n\u001b[1;32m-> 2677\u001b[1;33m                           sort_columns=sort_columns, **kwds)\n\u001b[0m\u001b[0;32m   2678\u001b[0m     \u001b[0m__call__\u001b[0m\u001b[1;33m.\u001b[0m\u001b[0m__doc__\u001b[0m \u001b[1;33m=\u001b[0m \u001b[0mplot_frame\u001b[0m\u001b[1;33m.\u001b[0m\u001b[0m__doc__\u001b[0m\u001b[1;33m\u001b[0m\u001b[0m\n\u001b[0;32m   2679\u001b[0m \u001b[1;33m\u001b[0m\u001b[0m\n",
      "\u001b[1;32m~\\Anaconda3\\lib\\site-packages\\pandas\\plotting\\_core.py\u001b[0m in \u001b[0;36mplot_frame\u001b[1;34m(data, x, y, kind, ax, subplots, sharex, sharey, layout, figsize, use_index, title, grid, legend, style, logx, logy, loglog, xticks, yticks, xlim, ylim, rot, fontsize, colormap, table, yerr, xerr, secondary_y, sort_columns, **kwds)\u001b[0m\n\u001b[0;32m   1900\u001b[0m                  \u001b[0myerr\u001b[0m\u001b[1;33m=\u001b[0m\u001b[0myerr\u001b[0m\u001b[1;33m,\u001b[0m \u001b[0mxerr\u001b[0m\u001b[1;33m=\u001b[0m\u001b[0mxerr\u001b[0m\u001b[1;33m,\u001b[0m\u001b[1;33m\u001b[0m\u001b[0m\n\u001b[0;32m   1901\u001b[0m                  \u001b[0msecondary_y\u001b[0m\u001b[1;33m=\u001b[0m\u001b[0msecondary_y\u001b[0m\u001b[1;33m,\u001b[0m \u001b[0msort_columns\u001b[0m\u001b[1;33m=\u001b[0m\u001b[0msort_columns\u001b[0m\u001b[1;33m,\u001b[0m\u001b[1;33m\u001b[0m\u001b[0m\n\u001b[1;32m-> 1902\u001b[1;33m                  **kwds)\n\u001b[0m\u001b[0;32m   1903\u001b[0m \u001b[1;33m\u001b[0m\u001b[0m\n\u001b[0;32m   1904\u001b[0m \u001b[1;33m\u001b[0m\u001b[0m\n",
      "\u001b[1;32m~\\Anaconda3\\lib\\site-packages\\pandas\\plotting\\_core.py\u001b[0m in \u001b[0;36m_plot\u001b[1;34m(data, x, y, subplots, ax, kind, **kwds)\u001b[0m\n\u001b[0;32m   1727\u001b[0m         \u001b[0mplot_obj\u001b[0m \u001b[1;33m=\u001b[0m \u001b[0mklass\u001b[0m\u001b[1;33m(\u001b[0m\u001b[0mdata\u001b[0m\u001b[1;33m,\u001b[0m \u001b[0msubplots\u001b[0m\u001b[1;33m=\u001b[0m\u001b[0msubplots\u001b[0m\u001b[1;33m,\u001b[0m \u001b[0max\u001b[0m\u001b[1;33m=\u001b[0m\u001b[0max\u001b[0m\u001b[1;33m,\u001b[0m \u001b[0mkind\u001b[0m\u001b[1;33m=\u001b[0m\u001b[0mkind\u001b[0m\u001b[1;33m,\u001b[0m \u001b[1;33m**\u001b[0m\u001b[0mkwds\u001b[0m\u001b[1;33m)\u001b[0m\u001b[1;33m\u001b[0m\u001b[0m\n\u001b[0;32m   1728\u001b[0m \u001b[1;33m\u001b[0m\u001b[0m\n\u001b[1;32m-> 1729\u001b[1;33m     \u001b[0mplot_obj\u001b[0m\u001b[1;33m.\u001b[0m\u001b[0mgenerate\u001b[0m\u001b[1;33m(\u001b[0m\u001b[1;33m)\u001b[0m\u001b[1;33m\u001b[0m\u001b[0m\n\u001b[0m\u001b[0;32m   1730\u001b[0m     \u001b[0mplot_obj\u001b[0m\u001b[1;33m.\u001b[0m\u001b[0mdraw\u001b[0m\u001b[1;33m(\u001b[0m\u001b[1;33m)\u001b[0m\u001b[1;33m\u001b[0m\u001b[0m\n\u001b[0;32m   1731\u001b[0m     \u001b[1;32mreturn\u001b[0m \u001b[0mplot_obj\u001b[0m\u001b[1;33m.\u001b[0m\u001b[0mresult\u001b[0m\u001b[1;33m\u001b[0m\u001b[0m\n",
      "\u001b[1;32m~\\Anaconda3\\lib\\site-packages\\pandas\\plotting\\_core.py\u001b[0m in \u001b[0;36mgenerate\u001b[1;34m(self)\u001b[0m\n\u001b[0;32m    248\u001b[0m     \u001b[1;32mdef\u001b[0m \u001b[0mgenerate\u001b[0m\u001b[1;33m(\u001b[0m\u001b[0mself\u001b[0m\u001b[1;33m)\u001b[0m\u001b[1;33m:\u001b[0m\u001b[1;33m\u001b[0m\u001b[0m\n\u001b[0;32m    249\u001b[0m         \u001b[0mself\u001b[0m\u001b[1;33m.\u001b[0m\u001b[0m_args_adjust\u001b[0m\u001b[1;33m(\u001b[0m\u001b[1;33m)\u001b[0m\u001b[1;33m\u001b[0m\u001b[0m\n\u001b[1;32m--> 250\u001b[1;33m         \u001b[0mself\u001b[0m\u001b[1;33m.\u001b[0m\u001b[0m_compute_plot_data\u001b[0m\u001b[1;33m(\u001b[0m\u001b[1;33m)\u001b[0m\u001b[1;33m\u001b[0m\u001b[0m\n\u001b[0m\u001b[0;32m    251\u001b[0m         \u001b[0mself\u001b[0m\u001b[1;33m.\u001b[0m\u001b[0m_setup_subplots\u001b[0m\u001b[1;33m(\u001b[0m\u001b[1;33m)\u001b[0m\u001b[1;33m\u001b[0m\u001b[0m\n\u001b[0;32m    252\u001b[0m         \u001b[0mself\u001b[0m\u001b[1;33m.\u001b[0m\u001b[0m_make_plot\u001b[0m\u001b[1;33m(\u001b[0m\u001b[1;33m)\u001b[0m\u001b[1;33m\u001b[0m\u001b[0m\n",
      "\u001b[1;32m~\\Anaconda3\\lib\\site-packages\\pandas\\plotting\\_core.py\u001b[0m in \u001b[0;36m_compute_plot_data\u001b[1;34m(self)\u001b[0m\n\u001b[0;32m    363\u001b[0m         \u001b[1;32mif\u001b[0m \u001b[0mis_empty\u001b[0m\u001b[1;33m:\u001b[0m\u001b[1;33m\u001b[0m\u001b[0m\n\u001b[0;32m    364\u001b[0m             raise TypeError('Empty {0!r}: no numeric data to '\n\u001b[1;32m--> 365\u001b[1;33m                             'plot'.format(numeric_data.__class__.__name__))\n\u001b[0m\u001b[0;32m    366\u001b[0m \u001b[1;33m\u001b[0m\u001b[0m\n\u001b[0;32m    367\u001b[0m         \u001b[0mself\u001b[0m\u001b[1;33m.\u001b[0m\u001b[0mdata\u001b[0m \u001b[1;33m=\u001b[0m \u001b[0mnumeric_data\u001b[0m\u001b[1;33m\u001b[0m\u001b[0m\n",
      "\u001b[1;31mTypeError\u001b[0m: Empty 'DataFrame': no numeric data to plot"
     ]
    },
    {
     "data": {
      "text/plain": [
       "<matplotlib.figure.Figure at 0xc7aeba8>"
      ]
     },
     "metadata": {
      "tags": []
     },
     "output_type": "display_data"
    }
   ],
   "source": [
    "import matplotlib.pyplot as plt\n",
    "plt.figure(); df.plot();"
   ]
  },
  {
   "cell_type": "code",
   "execution_count": null,
   "metadata": {
    "colab": {},
    "colab_type": "code",
    "id": "bTpabFH2SeWn"
   },
   "outputs": [],
   "source": [
    "# Pandas : Table Styles\n",
    "\n",
    "from IPython.display import HTML\n",
    "\n",
    "def hover(hover_color=\"#ffff99\"):\n",
    "    return dict(selector=\"tr:hover\",\n",
    "                props=[(\"background-color\", \"%s\" % hover_color)])\n",
    "\n",
    "styles = [\n",
    "    hover(),\n",
    "    dict(selector=\"th\", props=[(\"font-size\", \"100%\"),\n",
    "                               (\"text-align\", \"center\")]),\n",
    "    dict(selector=\"caption\", props=[(\"caption-side\", \"bottom\")])\n",
    "]\n",
    "df = (df.style.set_table_styles(styles))\n"
   ]
  },
  {
   "cell_type": "code",
   "execution_count": null,
   "metadata": {
    "colab": {},
    "colab_type": "code",
    "id": "DR5CrI562EpX",
    "outputId": "b9ca1c13-71a6-4b3d-d7f9-6b2a21beb1cc"
   },
   "outputs": [
    {
     "data": {
      "text/html": [
       "<style  type=\"text/css\" >\n",
       "    #T_fdee42cc_a5e5_11e8_aac9_bc5ff49b90bb tr:hover {\n",
       "          background-color: #ffff99;\n",
       "    }    #T_fdee42cc_a5e5_11e8_aac9_bc5ff49b90bb th {\n",
       "          font-size: 100%;\n",
       "          text-align: center;\n",
       "    }    #T_fdee42cc_a5e5_11e8_aac9_bc5ff49b90bb caption {\n",
       "          caption-side: bottom;\n",
       "    }</style>  \n",
       "<table id=\"T_fdee42cc_a5e5_11e8_aac9_bc5ff49b90bb\" > \n",
       "<thead>    <tr> \n",
       "        <th class=\"index_name level0\" >LINE</th> \n",
       "        <th class=\"col_heading level0 col0\" >고가</th> \n",
       "        <th class=\"col_heading level0 col1\" >민감성</th> \n",
       "        <th class=\"col_heading level0 col2\" >산양</th> \n",
       "        <th class=\"col_heading level0 col3\" >스틱</th> \n",
       "        <th class=\"col_heading level0 col4\" >액상</th> \n",
       "        <th class=\"col_heading level0 col5\" >중가</th> \n",
       "    </tr>    <tr> \n",
       "        <th class=\"index_name level0\" >DATE</th> \n",
       "        <th class=\"blank\" ></th> \n",
       "        <th class=\"blank\" ></th> \n",
       "        <th class=\"blank\" ></th> \n",
       "        <th class=\"blank\" ></th> \n",
       "        <th class=\"blank\" ></th> \n",
       "        <th class=\"blank\" ></th> \n",
       "    </tr></thead> \n",
       "<tbody>    <tr> \n",
       "        <th id=\"T_fdee42cc_a5e5_11e8_aac9_bc5ff49b90bblevel0_row0\" class=\"row_heading level0 row0\" >2018-08-14</th> \n",
       "        <td id=\"T_fdee42cc_a5e5_11e8_aac9_bc5ff49b90bbrow0_col0\" class=\"data row0 col0\" >14,790</td> \n",
       "        <td id=\"T_fdee42cc_a5e5_11e8_aac9_bc5ff49b90bbrow0_col1\" class=\"data row0 col1\" >19,190</td> \n",
       "        <td id=\"T_fdee42cc_a5e5_11e8_aac9_bc5ff49b90bbrow0_col2\" class=\"data row0 col2\" >None</td> \n",
       "        <td id=\"T_fdee42cc_a5e5_11e8_aac9_bc5ff49b90bbrow0_col3\" class=\"data row0 col3\" >11,670</td> \n",
       "        <td id=\"T_fdee42cc_a5e5_11e8_aac9_bc5ff49b90bbrow0_col4\" class=\"data row0 col4\" >7,330</td> \n",
       "        <td id=\"T_fdee42cc_a5e5_11e8_aac9_bc5ff49b90bbrow0_col5\" class=\"data row0 col5\" >10,500</td> \n",
       "    </tr>    <tr> \n",
       "        <th id=\"T_fdee42cc_a5e5_11e8_aac9_bc5ff49b90bblevel0_row1\" class=\"row_heading level0 row1\" >2018-08-15</th> \n",
       "        <td id=\"T_fdee42cc_a5e5_11e8_aac9_bc5ff49b90bbrow1_col0\" class=\"data row1 col0\" >14,790</td> \n",
       "        <td id=\"T_fdee42cc_a5e5_11e8_aac9_bc5ff49b90bbrow1_col1\" class=\"data row1 col1\" >19,200</td> \n",
       "        <td id=\"T_fdee42cc_a5e5_11e8_aac9_bc5ff49b90bbrow1_col2\" class=\"data row1 col2\" >None</td> \n",
       "        <td id=\"T_fdee42cc_a5e5_11e8_aac9_bc5ff49b90bbrow1_col3\" class=\"data row1 col3\" >11,670</td> \n",
       "        <td id=\"T_fdee42cc_a5e5_11e8_aac9_bc5ff49b90bbrow1_col4\" class=\"data row1 col4\" >7,330</td> \n",
       "        <td id=\"T_fdee42cc_a5e5_11e8_aac9_bc5ff49b90bbrow1_col5\" class=\"data row1 col5\" >10,500</td> \n",
       "    </tr>    <tr> \n",
       "        <th id=\"T_fdee42cc_a5e5_11e8_aac9_bc5ff49b90bblevel0_row2\" class=\"row_heading level0 row2\" >2018-08-16</th> \n",
       "        <td id=\"T_fdee42cc_a5e5_11e8_aac9_bc5ff49b90bbrow2_col0\" class=\"data row2 col0\" >14,790</td> \n",
       "        <td id=\"T_fdee42cc_a5e5_11e8_aac9_bc5ff49b90bbrow2_col1\" class=\"data row2 col1\" >19,200</td> \n",
       "        <td id=\"T_fdee42cc_a5e5_11e8_aac9_bc5ff49b90bbrow2_col2\" class=\"data row2 col2\" >41,300</td> \n",
       "        <td id=\"T_fdee42cc_a5e5_11e8_aac9_bc5ff49b90bbrow2_col3\" class=\"data row2 col3\" >11,670</td> \n",
       "        <td id=\"T_fdee42cc_a5e5_11e8_aac9_bc5ff49b90bbrow2_col4\" class=\"data row2 col4\" >7,330</td> \n",
       "        <td id=\"T_fdee42cc_a5e5_11e8_aac9_bc5ff49b90bbrow2_col5\" class=\"data row2 col5\" >10,500</td> \n",
       "    </tr>    <tr> \n",
       "        <th id=\"T_fdee42cc_a5e5_11e8_aac9_bc5ff49b90bblevel0_row3\" class=\"row_heading level0 row3\" >2018-08-17</th> \n",
       "        <td id=\"T_fdee42cc_a5e5_11e8_aac9_bc5ff49b90bbrow3_col0\" class=\"data row3 col0\" >14,790</td> \n",
       "        <td id=\"T_fdee42cc_a5e5_11e8_aac9_bc5ff49b90bbrow3_col1\" class=\"data row3 col1\" >19,200</td> \n",
       "        <td id=\"T_fdee42cc_a5e5_11e8_aac9_bc5ff49b90bbrow3_col2\" class=\"data row3 col2\" >41,300</td> \n",
       "        <td id=\"T_fdee42cc_a5e5_11e8_aac9_bc5ff49b90bbrow3_col3\" class=\"data row3 col3\" >11,670</td> \n",
       "        <td id=\"T_fdee42cc_a5e5_11e8_aac9_bc5ff49b90bbrow3_col4\" class=\"data row3 col4\" >None</td> \n",
       "        <td id=\"T_fdee42cc_a5e5_11e8_aac9_bc5ff49b90bbrow3_col5\" class=\"data row3 col5\" >10,500</td> \n",
       "    </tr>    <tr> \n",
       "        <th id=\"T_fdee42cc_a5e5_11e8_aac9_bc5ff49b90bblevel0_row4\" class=\"row_heading level0 row4\" >2018-08-18</th> \n",
       "        <td id=\"T_fdee42cc_a5e5_11e8_aac9_bc5ff49b90bbrow4_col0\" class=\"data row4 col0\" >14,790</td> \n",
       "        <td id=\"T_fdee42cc_a5e5_11e8_aac9_bc5ff49b90bbrow4_col1\" class=\"data row4 col1\" >19,200</td> \n",
       "        <td id=\"T_fdee42cc_a5e5_11e8_aac9_bc5ff49b90bbrow4_col2\" class=\"data row4 col2\" >41,300</td> \n",
       "        <td id=\"T_fdee42cc_a5e5_11e8_aac9_bc5ff49b90bbrow4_col3\" class=\"data row4 col3\" >11,670</td> \n",
       "        <td id=\"T_fdee42cc_a5e5_11e8_aac9_bc5ff49b90bbrow4_col4\" class=\"data row4 col4\" >10,300</td> \n",
       "        <td id=\"T_fdee42cc_a5e5_11e8_aac9_bc5ff49b90bbrow4_col5\" class=\"data row4 col5\" >10,500</td> \n",
       "    </tr>    <tr> \n",
       "        <th id=\"T_fdee42cc_a5e5_11e8_aac9_bc5ff49b90bblevel0_row5\" class=\"row_heading level0 row5\" >2018-08-19</th> \n",
       "        <td id=\"T_fdee42cc_a5e5_11e8_aac9_bc5ff49b90bbrow5_col0\" class=\"data row5 col0\" >14,790</td> \n",
       "        <td id=\"T_fdee42cc_a5e5_11e8_aac9_bc5ff49b90bbrow5_col1\" class=\"data row5 col1\" >19,200</td> \n",
       "        <td id=\"T_fdee42cc_a5e5_11e8_aac9_bc5ff49b90bbrow5_col2\" class=\"data row5 col2\" >41,300</td> \n",
       "        <td id=\"T_fdee42cc_a5e5_11e8_aac9_bc5ff49b90bbrow5_col3\" class=\"data row5 col3\" >11,670</td> \n",
       "        <td id=\"T_fdee42cc_a5e5_11e8_aac9_bc5ff49b90bbrow5_col4\" class=\"data row5 col4\" >10,300</td> \n",
       "        <td id=\"T_fdee42cc_a5e5_11e8_aac9_bc5ff49b90bbrow5_col5\" class=\"data row5 col5\" >10,930</td> \n",
       "    </tr>    <tr> \n",
       "        <th id=\"T_fdee42cc_a5e5_11e8_aac9_bc5ff49b90bblevel0_row6\" class=\"row_heading level0 row6\" >2018-08-20</th> \n",
       "        <td id=\"T_fdee42cc_a5e5_11e8_aac9_bc5ff49b90bbrow6_col0\" class=\"data row6 col0\" >14,790</td> \n",
       "        <td id=\"T_fdee42cc_a5e5_11e8_aac9_bc5ff49b90bbrow6_col1\" class=\"data row6 col1\" >19,200</td> \n",
       "        <td id=\"T_fdee42cc_a5e5_11e8_aac9_bc5ff49b90bbrow6_col2\" class=\"data row6 col2\" >41,300</td> \n",
       "        <td id=\"T_fdee42cc_a5e5_11e8_aac9_bc5ff49b90bbrow6_col3\" class=\"data row6 col3\" >11,670</td> \n",
       "        <td id=\"T_fdee42cc_a5e5_11e8_aac9_bc5ff49b90bbrow6_col4\" class=\"data row6 col4\" >27,570</td> \n",
       "        <td id=\"T_fdee42cc_a5e5_11e8_aac9_bc5ff49b90bbrow6_col5\" class=\"data row6 col5\" >10,930</td> \n",
       "    </tr></tbody> \n",
       "</table> "
      ],
      "text/plain": [
       "<pandas.io.formats.style.Styler at 0xc883710>"
      ]
     },
     "execution_count": 131,
     "metadata": {
      "tags": []
     },
     "output_type": "execute_result"
    }
   ],
   "source": [
    "df"
   ]
  },
  {
   "cell_type": "code",
   "execution_count": null,
   "metadata": {
    "colab": {},
    "colab_type": "code",
    "id": "sgcDsTj22EpZ",
    "outputId": "0eeb14ca-2fee-4659-c2ba-071d58747b78"
   },
   "outputs": [
    {
     "ename": "AttributeError",
     "evalue": "'Styler' object has no attribute 'plot'",
     "output_type": "error",
     "traceback": [
      "\u001b[1;31m---------------------------------------------------------------------------\u001b[0m",
      "\u001b[1;31mAttributeError\u001b[0m                            Traceback (most recent call last)",
      "\u001b[1;32m<ipython-input-132-a954b8a460f1>\u001b[0m in \u001b[0;36m<module>\u001b[1;34m()\u001b[0m\n\u001b[1;32m----> 1\u001b[1;33m \u001b[0max\u001b[0m \u001b[1;33m=\u001b[0m \u001b[0mdf\u001b[0m\u001b[1;33m.\u001b[0m\u001b[0mplot\u001b[0m\u001b[1;33m(\u001b[0m\u001b[1;33m)\u001b[0m\u001b[1;33m\u001b[0m\u001b[0m\n\u001b[0m\u001b[0;32m      2\u001b[0m \u001b[0mfig\u001b[0m \u001b[1;33m=\u001b[0m \u001b[0max\u001b[0m\u001b[1;33m.\u001b[0m\u001b[0mget_figure\u001b[0m\u001b[1;33m(\u001b[0m\u001b[1;33m)\u001b[0m\u001b[1;33m\u001b[0m\u001b[0m\n\u001b[0;32m      3\u001b[0m \u001b[0mfig_data\u001b[0m \u001b[1;33m=\u001b[0m \u001b[0mget_fig_base64\u001b[0m\u001b[1;33m(\u001b[0m\u001b[0mfig\u001b[0m\u001b[1;33m)\u001b[0m\u001b[1;33m\u001b[0m\u001b[0m\n",
      "\u001b[1;31mAttributeError\u001b[0m: 'Styler' object has no attribute 'plot'"
     ]
    }
   ],
   "source": [
    "ax = df.plot()\n",
    "fig = ax.get_figure()\n",
    "fig_data = get_fig_base64(fig)"
   ]
  },
  {
   "cell_type": "code",
   "execution_count": null,
   "metadata": {
    "colab": {},
    "colab_type": "code",
    "id": "jieRbyQeSeWk"
   },
   "outputs": [],
   "source": [
    "# 발송일자 설정\n",
    "from datetime import datetime, timedelta\n",
    "import sqlite3\n",
    "\n",
    "now = datetime.today()    # 현재\n",
    "# now = datetime.today()+ timedelta(9)    # 현재 in google\n",
    "date = now.strftime('%Y%m%d')\n",
    "\n",
    "# 그래프 -> 이미지 변환\n",
    "# df_2017_12 = dpr.DataReader()\n",
    "# ax = df_2017_12.plot()\n",
    "# fig = ax.get_figure()\n",
    "# fig_data = get_fig_base64(fig)\n",
    "\n",
    "title1 = \"1. 지난주 자사 분유 가격 변동(3단계 기준)\"\n",
    "headline_text = \"다수의 전문가들은\"\n",
    "title2 = \"2. 주로 라인별 분유 가격 추이(3단계 기준)\"\n",
    "title3 = \"3. 최근 1개월 분유가격 : 첨부 파일 참조\"\n",
    "\n",
    "render_data = {\n",
    "    'd0' : (datetime.today()- timedelta(1)).strftime('%m/%d'),\n",
    "    'd1' : (datetime.today()- timedelta(7)).strftime('%m/%d'),\n",
    "    'title1' : title1,\n",
    "    'title2' : title2,\n",
    "    'headline_text' : headline_text,\n",
    "    'title2_text1' : \" - 궁 일별 단계별 최저가\",\n",
    "#     'df1_html' : fig,\n",
    "    'title2_text2' : \" - 아이엠마더 일별 단계별 최저가\",\n",
    "    'df2_html' : df.to_html(),\n",
    "    'title3' : title3\n",
    "#     'imgae_data' = './image/분유_스틱.png'\n",
    "}\n",
    "\n",
    "t= Template(message_tmpl)\n",
    "html_report = t.render(render_data)\n"
   ]
  },
  {
   "cell_type": "code",
   "execution_count": null,
   "metadata": {
    "colab": {},
    "colab_type": "code",
    "id": "tRnBBRqN2Epg"
   },
   "outputs": [],
   "source": []
  },
  {
   "cell_type": "code",
   "execution_count": null,
   "metadata": {
    "colab": {},
    "colab_type": "code",
    "id": "h--XOHk52Epj"
   },
   "outputs": [],
   "source": [
    "#발송 변수 확인\n",
    "# date\n",
    "# df"
   ]
  },
  {
   "cell_type": "code",
   "execution_count": null,
   "metadata": {
    "colab": {},
    "colab_type": "code",
    "id": "oR_F8Btd2Epm"
   },
   "outputs": [],
   "source": [
    "# 발송 변수 설정\n",
    "\n",
    "# 받는사람 : test 발송\n",
    "to_users = ['박경하(CRM팀) <khpark@maeil.com>']\n",
    "\n",
    "# 받는사람 : mulit 발송\n",
    "# to_users = ['박경하(CRM팀) <khpark@maeil.com>', '박경하(CRM팀) <khpark@maeil.com>']\n",
    "\n",
    "# 메일제목\n",
    "subject = date + \"_분유가격 리포트(발송전용)\"\n",
    "\n",
    "#20180801_분유가격 리포트(발송전용)\n",
    "\n",
    "# 본문\n",
    "html = html_report\n",
    "\n",
    "#첨부파일 추가\n",
    "attach = None\n",
    "\n",
    "# attach = './image/.png'"
   ]
  },
  {
   "cell_type": "code",
   "execution_count": null,
   "metadata": {
    "colab": {},
    "colab_type": "code",
    "id": "tegSTvIKkMOv"
   },
   "outputs": [],
   "source": [
    "# 이메일 발송\n",
    "for to_users in to_users :\n",
    "    send_gmail(to_users, subject, html, attach)"
   ]
  },
  {
   "cell_type": "code",
   "execution_count": null,
   "metadata": {
    "colab": {},
    "colab_type": "code",
    "id": "y_rEVjVASeWq"
   },
   "outputs": [],
   "source": []
  }
 ],
 "metadata": {
  "colab": {
   "collapsed_sections": [],
   "name": "이메일+자동발송_v3.ipynb",
   "provenance": []
  },
  "kernelspec": {
   "display_name": "Python 3",
   "language": "python",
   "name": "python3"
  },
  "language_info": {
   "codemirror_mode": {
    "name": "ipython",
    "version": 3
   },
   "file_extension": ".py",
   "mimetype": "text/x-python",
   "name": "python",
   "nbconvert_exporter": "python",
   "pygments_lexer": "ipython3",
   "version": "3.7.6"
  }
 },
 "nbformat": 4,
 "nbformat_minor": 1
}
