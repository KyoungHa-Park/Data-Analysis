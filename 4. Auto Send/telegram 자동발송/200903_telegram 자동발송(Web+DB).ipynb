{
 "cells": [
  {
   "cell_type": "code",
   "execution_count": 1,
   "metadata": {},
   "outputs": [],
   "source": [
    "import cx_Oracle as oci\n",
    "import pandas as pd\n",
    "from datetime import datetime, timedelta\n",
    "import requests\n",
    "\n",
    "from selenium import webdriver\n",
    "from bs4 import BeautifulSoup"
   ]
  },
  {
   "cell_type": "code",
   "execution_count": 2,
   "metadata": {},
   "outputs": [],
   "source": [
    "#######\n",
    "#0. 자료추출(온라인)\n",
    "###\n",
    "\n",
    "url = 'http://www.tmon.co.kr/deal/4237136106'\n",
    "options = webdriver.ChromeOptions()\n",
    "options.add_argument('headless')\n",
    "options.add_argument('disable-gpu')\n",
    "driver = webdriver.Chrome('C:/Users/MAEIL/Downloads/chromedriver/chromedriver.exe', options=options)\n",
    "\n",
    "# Web parsing\n",
    "driver.get(url)\n",
    "driver.implicitly_wait(5)\n",
    "\n",
    "bsObj = BeautifulSoup(driver.page_source, \"lxml\")\n",
    "\n",
    "saleCount = driver.find_elements_by_xpath('//*[@id=\"view-default-scene-default\"]/section[1]/div[3]/article[1]/div[3]/p[1]/span/span')[0].text.replace('개 구매','')\n",
    "saleCount = int(saleCount)\n",
    "\n",
    "driver.close()"
   ]
  },
  {
   "cell_type": "code",
   "execution_count": 3,
   "metadata": {},
   "outputs": [
    {
     "data": {
      "text/plain": [
       "595"
      ]
     },
     "execution_count": 3,
     "metadata": {},
     "output_type": "execute_result"
    }
   ],
   "source": [
    "# 중간결과 확인 : 온라인 수집정보\n",
    "saleCount"
   ]
  },
  {
   "cell_type": "code",
   "execution_count": 4,
   "metadata": {},
   "outputs": [],
   "source": [
    "#######\n",
    "#1. 자료추출(Oracel SQL)\n",
    "###\n",
    "\n",
    "# DB 접속\n",
    "con_text = open(\"C:/conn_info.txt\", 'r', encoding='utf8')\n",
    "con_text = con_text.read()\n",
    "conn = oci.connect(con_text)\n",
    "\n",
    "df_use1 = pd.read_sql(\"select count(*) from TPR_PRMT_CRD_INFO where crd_kind = '432' and actv_dtm is not null\", con = conn ).values\n",
    "df_use2 = pd.read_sql(\"select count(*) from TPR_PRMT_CRD_INFO where crd_kind = '433' and actv_dtm is not null\", con = conn ).values\n",
    "df_use3 = pd.read_sql(\"select count(*) from TPR_PRMT_CRD_INFO where crd_kind = '434' and actv_dtm is not null\", con = conn ).values\n",
    "\n",
    "sale_cnt = df_use1 + df_use2 + df_use3\n",
    "sale_amt = df_use1*3 + df_use2*5 + df_use3*10\n",
    "\n",
    "# DB 접속종료\n",
    "conn.close()\n",
    "\n",
    "#발송내용 셋팅\n",
    "s_dt = (datetime.today()- timedelta(0)).strftime('%m/%d, %H:%M')\n",
    "\n",
    "text1 = \"**CJ 기프트카드 판매현황**\\n\" \n",
    "text2 = \"- 티몬  판매량 : {}개 (판매율 {}%)\\n\".format(saleCount,round(int(saleCount)/1000*100,1))\n",
    "text3 = \"- MaeilDo 등록 : {}개 (등록율 {}%)\\n\".format(int(sale_cnt),round(int(sale_cnt)/int(saleCount)*100,1))\n",
    "text4 = \"- 총 판매 금액 : {}만원 ({}기준)\\n\\n\".format( int(sale_amt), str(s_dt) )\n",
    "text5 = \"**권종별 등록 내용**\\n\"\n",
    "text6 = \"-  3만원 권종 : {} 개\\n\".format( int(df_use1) )\n",
    "text7 = \"-  5만원 권종 : {} 개\\n\".format( int(df_use2) )\n",
    "text8 = \"- 10만원 권종 : {} 개\".format( int(df_use3) )\n",
    "\n",
    "text = text1 + text2 +text3 + text4 +text5 +text6 + text7 +text8 "
   ]
  },
  {
   "cell_type": "code",
   "execution_count": 5,
   "metadata": {},
   "outputs": [
    {
     "data": {
      "text/plain": [
       "1958"
      ]
     },
     "execution_count": 5,
     "metadata": {},
     "output_type": "execute_result"
    }
   ],
   "source": [
    "int(sale_amt)"
   ]
  },
  {
   "cell_type": "code",
   "execution_count": 10,
   "metadata": {},
   "outputs": [],
   "source": [
    "#######\n",
    "# 2. 텔레그램 셋팅/발송\n",
    "###\n",
    "\n",
    "#발송 대상자\n",
    "chat_id = (\"826340134\",  # 박경하 \n",
    "           \"61792877\" )  # 배유미  \n",
    "#            \"838970099\")  # 김소영  \n",
    "\n",
    "# 발송 내용\n",
    "chat_text = text\n",
    "\n",
    "# maeildo_bot 고유 ID\n",
    "API_TOKEN = '**********************************'  \n",
    "\n",
    "# 텔레그램 발송 API 실행\n",
    "for chat_id in chat_id:\n",
    "    url = \"https://api.telegram.org/bot%s/sendMessage?chat_id=%s&text=%s\" % (API_TOKEN, chat_id,  chat_text)\n",
    "    requests.get(url)      #텔레그램 발송\n"
   ]
  },
  {
   "cell_type": "code",
   "execution_count": 8,
   "metadata": {},
   "outputs": [],
   "source": [
    "exit(0)"
   ]
  },
  {
   "cell_type": "code",
   "execution_count": 2,
   "metadata": {},
   "outputs": [],
   "source": [
    "# url"
   ]
  },
  {
   "cell_type": "code",
   "execution_count": 179,
   "metadata": {},
   "outputs": [
    {
     "name": "stdout",
     "output_type": "stream",
     "text": [
      "**CJ 기프트카드 판매현황**\n",
      "- 티몬  판매량 : 125개 (판매율 12.5%)\n",
      "- MaeilDo 등록 : 64개 (등록율 51.2%)\n",
      "- 총 판매 금액 : 361만원 (09/03, 13:33기준)\n",
      "\n",
      "**권종별 등록 내용**\n",
      "-  3만원 권종 : 22 개\n",
      "-  5만원 권종 : 25 개\n",
      "- 10만원 권종 : 17 개\n"
     ]
    }
   ],
   "source": [
    "#결과물 예시\n",
    "print(text)"
   ]
  }
 ],
 "metadata": {
  "kernelspec": {
   "display_name": "Python 3",
   "language": "python",
   "name": "python3"
  },
  "language_info": {
   "codemirror_mode": {
    "name": "ipython",
    "version": 3
   },
   "file_extension": ".py",
   "mimetype": "text/x-python",
   "name": "python",
   "nbconvert_exporter": "python",
   "pygments_lexer": "ipython3",
   "version": "3.7.3"
  }
 },
 "nbformat": 4,
 "nbformat_minor": 4
}
