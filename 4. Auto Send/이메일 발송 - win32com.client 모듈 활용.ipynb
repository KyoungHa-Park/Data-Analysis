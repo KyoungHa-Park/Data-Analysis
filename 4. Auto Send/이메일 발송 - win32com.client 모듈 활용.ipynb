{
 "cells": [
  {
   "cell_type": "code",
   "execution_count": null,
   "id": "c6449547",
   "metadata": {},
   "outputs": [],
   "source": []
  },
  {
   "cell_type": "markdown",
   "id": "ec1e3ee4",
   "metadata": {},
   "source": [
    "+ 대응 : win32com.client을 이용한 e-mail 발송 [관련링크](https://ybworld.tistory.com/138)\n",
    "+ 이슈\n",
    "  + [ ] Azure Information Protection 에 대한 처리\n",
    "  + [x] AttributeError: module 'win32com.gen_py.00062FFF-0000... : [관련링크](https://medium.com/@RunRyan/python-has-no-attribute-clsidtoclassmap-error-%EB%8C%80%EC%9D%91%EC%B1%85-2eafefafc6a)\n",
    "        "
   ]
  },
  {
   "cell_type": "code",
   "execution_count": null,
   "id": "240a5f47",
   "metadata": {},
   "outputs": [],
   "source": []
  },
  {
   "cell_type": "code",
   "execution_count": null,
   "id": "a15118b9",
   "metadata": {},
   "outputs": [],
   "source": []
  },
  {
   "cell_type": "code",
   "execution_count": null,
   "id": "f758c649",
   "metadata": {},
   "outputs": [],
   "source": []
  },
  {
   "cell_type": "code",
   "execution_count": null,
   "id": "083302cf",
   "metadata": {},
   "outputs": [],
   "source": []
  },
  {
   "cell_type": "code",
   "execution_count": 1,
   "id": "063318ad",
   "metadata": {},
   "outputs": [],
   "source": [
    "####################\n",
    "# test \n",
    "########\n",
    "\n",
    "import win32com.client\n",
    "\n",
    "outlook = win32com.client.Dispatch(\"Outlook.Application\")\n",
    "\n",
    "send_mail = outlook.CreateItem(0)\n",
    "send_mail.To = \"khpark@maeil.com; khpark@maeil.com\" #메일 수신인\n",
    "send_mail.CC = \"khpark@maeil.com\" #메일 수신인\n",
    "\n",
    "send_mail.Subject = \"Outlook 메일 전송 테스트\" #메일 제목\n",
    "send_mail.HTMLBody ='__html_report__'\n",
    "\n",
    "# Attach the file\n",
    "# attachment1 = out_file\n",
    "# send_mail.Attachments.Add(Source=str(os.getcwd().replace('\\\\', '/') +'/'+ attachment1))\n",
    "\n",
    "# Display the email\n",
    "send_mail.Display(True)"
   ]
  },
  {
   "cell_type": "code",
   "execution_count": 2,
   "id": "16131942",
   "metadata": {},
   "outputs": [
    {
     "ename": "AttributeError",
     "evalue": "Outlook.Application.GetDefaultFolder",
     "output_type": "error",
     "traceback": [
      "\u001b[1;31m---------------------------------------------------------------------------\u001b[0m",
      "\u001b[1;31mAttributeError\u001b[0m                            Traceback (most recent call last)",
      "\u001b[1;32m<ipython-input-2-dde8b89c557a>\u001b[0m in \u001b[0;36m<module>\u001b[1;34m\u001b[0m\n\u001b[1;32m----> 1\u001b[1;33m \u001b[0minbox\u001b[0m \u001b[1;33m=\u001b[0m \u001b[0moutlook\u001b[0m\u001b[1;33m.\u001b[0m\u001b[0mGetDefaultFolder\u001b[0m\u001b[1;33m(\u001b[0m\u001b[1;36m6\u001b[0m\u001b[1;33m)\u001b[0m \u001b[1;31m#6 = Inbox (without mails from the subfolder)\u001b[0m\u001b[1;33m\u001b[0m\u001b[1;33m\u001b[0m\u001b[0m\n\u001b[0m\u001b[0;32m      2\u001b[0m \u001b[0mmessages\u001b[0m \u001b[1;33m=\u001b[0m \u001b[0minbox\u001b[0m\u001b[1;33m.\u001b[0m\u001b[0mItems\u001b[0m\u001b[1;33m\u001b[0m\u001b[1;33m\u001b[0m\u001b[0m\n\u001b[0;32m      3\u001b[0m \u001b[0mmessage\u001b[0m \u001b[1;33m=\u001b[0m \u001b[0mmessages\u001b[0m\u001b[1;33m.\u001b[0m\u001b[0mGetLast\u001b[0m\u001b[1;33m(\u001b[0m\u001b[1;33m)\u001b[0m\u001b[1;33m\u001b[0m\u001b[1;33m\u001b[0m\u001b[0m\n\u001b[0;32m      4\u001b[0m \u001b[0mbody_content\u001b[0m \u001b[1;33m=\u001b[0m \u001b[0mmessage\u001b[0m\u001b[1;33m.\u001b[0m\u001b[0mbody\u001b[0m\u001b[1;33m\u001b[0m\u001b[1;33m\u001b[0m\u001b[0m\n",
      "\u001b[1;32mC:\\ProgramData\\Anaconda3\\lib\\site-packages\\win32com\\client\\dynamic.py\u001b[0m in \u001b[0;36m__getattr__\u001b[1;34m(self, attr)\u001b[0m\n\u001b[0;32m    525\u001b[0m \u001b[1;33m\u001b[0m\u001b[0m\n\u001b[0;32m    526\u001b[0m                 \u001b[1;31m# no where else to look.\u001b[0m\u001b[1;33m\u001b[0m\u001b[1;33m\u001b[0m\u001b[1;33m\u001b[0m\u001b[0m\n\u001b[1;32m--> 527\u001b[1;33m                 \u001b[1;32mraise\u001b[0m \u001b[0mAttributeError\u001b[0m\u001b[1;33m(\u001b[0m\u001b[1;34m\"%s.%s\"\u001b[0m \u001b[1;33m%\u001b[0m \u001b[1;33m(\u001b[0m\u001b[0mself\u001b[0m\u001b[1;33m.\u001b[0m\u001b[0m_username_\u001b[0m\u001b[1;33m,\u001b[0m \u001b[0mattr\u001b[0m\u001b[1;33m)\u001b[0m\u001b[1;33m)\u001b[0m\u001b[1;33m\u001b[0m\u001b[1;33m\u001b[0m\u001b[0m\n\u001b[0m\u001b[0;32m    528\u001b[0m \u001b[1;33m\u001b[0m\u001b[0m\n\u001b[0;32m    529\u001b[0m         \u001b[1;32mdef\u001b[0m \u001b[0m__setattr__\u001b[0m\u001b[1;33m(\u001b[0m\u001b[0mself\u001b[0m\u001b[1;33m,\u001b[0m \u001b[0mattr\u001b[0m\u001b[1;33m,\u001b[0m \u001b[0mvalue\u001b[0m\u001b[1;33m)\u001b[0m\u001b[1;33m:\u001b[0m\u001b[1;33m\u001b[0m\u001b[1;33m\u001b[0m\u001b[0m\n",
      "\u001b[1;31mAttributeError\u001b[0m: Outlook.Application.GetDefaultFolder"
     ]
    }
   ],
   "source": [
    "inbox = outlook.GetDefaultFolder(6) #6 = Inbox (without mails from the subfolder)\n",
    "messages = inbox.Items\n",
    "message = messages.GetLast()\n",
    "body_content = message.body "
   ]
  },
  {
   "cell_type": "code",
   "execution_count": 5,
   "id": "cf5d7cb2",
   "metadata": {},
   "outputs": [],
   "source": [
    "outlook=win32com.client.Dispatch(\"Outlook.Application\").GetNamespace(\"MAPI\")\n",
    "inbox = outlook.GetDefaultFolder(6)\n",
    "messages = inbox.Items\n",
    "message = messages.GetLast()\n",
    "body_content = message.HTMLbody"
   ]
  },
  {
   "cell_type": "code",
   "execution_count": 6,
   "id": "ee520947",
   "metadata": {
    "scrolled": false
   },
   "outputs": [
    {
     "data": {
      "text/plain": [
       "'<html xmlns:v=\"urn:schemas-microsoft-com:vml\" xmlns:o=\"urn:schemas-microsoft-com:office:office\" xmlns:w=\"urn:schemas-microsoft-com:office:word\" xmlns:m=\"http://schemas.microsoft.com/office/2004/12/omml\" xmlns=\"http://www.w3.org/TR/REC-html40\">\\r\\n<head>\\r\\n\\r\\n<meta name=\"Generator\" content=\"Microsoft Word 15 (filtered medium)\">\\r\\n<!--[if !mso]><style>v\\\\:* {behavior:url(#default#VML);}\\r\\no\\\\:* {behavior:url(#default#VML);}\\r\\nw\\\\:* {behavior:url(#default#VML);}\\r\\n.shape {behavior:url(#default#VML);}\\r\\n</style><![endif]--><style><!--\\r\\n/* Font Definitions */\\r\\n@font-face\\r\\n\\t{font-family:Wingdings;\\r\\n\\tpanose-1:5 0 0 0 0 0 0 0 0 0;}\\r\\n@font-face\\r\\n\\t{font-family:굴림;\\r\\n\\tpanose-1:2 11 6 0 0 1 1 1 1 1;}\\r\\n@font-face\\r\\n\\t{font-family:\"Cambria Math\";\\r\\n\\tpanose-1:2 4 5 3 5 4 6 3 2 4;}\\r\\n@font-face\\r\\n\\t{font-family:Calibri;\\r\\n\\tpanose-1:2 15 5 2 2 2 4 3 2 4;}\\r\\n@font-face\\r\\n\\t{font-family:\"맑은 고딕\";\\r\\n\\tpanose-1:2 11 5 3 2 0 0 2 0 4;}\\r\\n@font-face\\r\\n\\t{font-family:\"\\\\@맑은 고딕\";}\\r\\n@font-face\\r\\n\\t{font-family:\"\\\\@굴림\";\\r\\n\\tpanose-1:2 11 6 0 0 1 1 1 1 1;}\\r\\n/* Style Definitions */\\r\\np.MsoNormal, li.MsoNormal, div.MsoNormal\\r\\n\\t{margin:0cm;\\r\\n\\ttext-align:justify;\\r\\n\\ttext-justify:inter-ideograph;\\r\\n\\ttext-autospace:none;\\r\\n\\tword-break:break-hangul;\\r\\n\\tfont-size:10.0pt;\\r\\n\\tfont-family:\"맑은 고딕\";}\\r\\np.MsoListParagraph, li.MsoListParagraph, div.MsoListParagraph\\r\\n\\t{mso-style-priority:34;\\r\\n\\tmargin-top:0cm;\\r\\n\\tmargin-right:0cm;\\r\\n\\tmargin-bottom:0cm;\\r\\n\\tmargin-left:40.0pt;\\r\\n\\tmso-para-margin-top:0cm;\\r\\n\\tmso-para-margin-right:0cm;\\r\\n\\tmso-para-margin-bottom:0cm;\\r\\n\\tmso-para-margin-left:4.0gd;\\r\\n\\ttext-align:justify;\\r\\n\\ttext-justify:inter-ideograph;\\r\\n\\ttext-autospace:none;\\r\\n\\tword-break:break-hangul;\\r\\n\\tfont-size:10.0pt;\\r\\n\\tfont-family:\"맑은 고딕\";}\\r\\np.msipfooter522a92b3, li.msipfooter522a92b3, div.msipfooter522a92b3\\r\\n\\t{mso-style-name:msipfooter522a92b3;\\r\\n\\tmso-margin-top-alt:auto;\\r\\n\\tmargin-right:0cm;\\r\\n\\tmso-margin-bottom-alt:auto;\\r\\n\\tmargin-left:0cm;\\r\\n\\tfont-size:12.0pt;\\r\\n\\tfont-family:굴림;}\\r\\nspan.EmailStyle20\\r\\n\\t{mso-style-type:personal-reply;\\r\\n\\tfont-family:\"맑은 고딕\";\\r\\n\\tcolor:windowtext;}\\r\\np.msipheader5877c26a, li.msipheader5877c26a, div.msipheader5877c26a\\r\\n\\t{mso-style-name:msipheader5877c26a;\\r\\n\\tmso-margin-top-alt:auto;\\r\\n\\tmargin-right:0cm;\\r\\n\\tmso-margin-bottom-alt:auto;\\r\\n\\tmargin-left:0cm;\\r\\n\\tfont-size:12.0pt;\\r\\n\\tfont-family:굴림;}\\r\\np.msipfooterf60c54ae, li.msipfooterf60c54ae, div.msipfooterf60c54ae\\r\\n\\t{mso-style-name:msipfooterf60c54ae;\\r\\n\\tmso-margin-top-alt:auto;\\r\\n\\tmargin-right:0cm;\\r\\n\\tmso-margin-bottom-alt:auto;\\r\\n\\tmargin-left:0cm;\\r\\n\\tfont-size:12.0pt;\\r\\n\\tfont-family:굴림;}\\r\\n.MsoChpDefault\\r\\n\\t{mso-style-type:export-only;}\\r\\n@page WordSection1\\r\\n\\t{size:612.0pt 792.0pt;\\r\\n\\tmargin:3.0cm 72.0pt 72.0pt 72.0pt;}\\r\\ndiv.WordSection1\\r\\n\\t{page:WordSection1;}\\r\\n/* List Definitions */\\r\\n@list l0\\r\\n\\t{mso-list-id:246421769;\\r\\n\\tmso-list-template-ids:1654654150;}\\r\\n@list l1\\r\\n\\t{mso-list-id:254896875;\\r\\n\\tmso-list-type:hybrid;\\r\\n\\tmso-list-template-ids:1266343214 1034555346 67698691 67698693 67698689 67698691 67698693 67698689 67698691 67698693;}\\r\\n@list l1:level1\\r\\n\\t{mso-level-number-format:bullet;\\r\\n\\tmso-level-text:-;\\r\\n\\tmso-level-tab-stop:none;\\r\\n\\tmso-level-number-position:left;\\r\\n\\tmargin-left:38.0pt;\\r\\n\\ttext-indent:-18.0pt;\\r\\n\\tfont-family:\"맑은 고딕\";\\r\\n\\tmso-bidi-font-family:\"Times New Roman\";}\\r\\n@list l1:level2\\r\\n\\t{mso-level-number-format:bullet;\\r\\n\\tmso-level-text:\\\\F06E;\\r\\n\\tmso-level-tab-stop:none;\\r\\n\\tmso-level-number-position:left;\\r\\n\\tmargin-left:60.0pt;\\r\\n\\ttext-indent:-20.0pt;\\r\\n\\tfont-family:Wingdings;}\\r\\n@list l1:level3\\r\\n\\t{mso-level-number-format:bullet;\\r\\n\\tmso-level-text:\\\\F075;\\r\\n\\tmso-level-tab-stop:none;\\r\\n\\tmso-level-number-position:left;\\r\\n\\tmargin-left:80.0pt;\\r\\n\\ttext-indent:-20.0pt;\\r\\n\\tfont-family:Wingdings;}\\r\\n@list l1:level4\\r\\n\\t{mso-level-number-format:bullet;\\r\\n\\tmso-level-text:\\\\F06C;\\r\\n\\tmso-level-tab-stop:none;\\r\\n\\tmso-level-number-position:left;\\r\\n\\tmargin-left:100.0pt;\\r\\n\\ttext-indent:-20.0pt;\\r\\n\\tfont-family:Wingdings;}\\r\\n@list l1:level5\\r\\n\\t{mso-level-number-format:bullet;\\r\\n\\tmso-level-text:\\\\F06E;\\r\\n\\tmso-level-tab-stop:none;\\r\\n\\tmso-level-number-position:left;\\r\\n\\tmargin-left:120.0pt;\\r\\n\\ttext-indent:-20.0pt;\\r\\n\\tfont-family:Wingdings;}\\r\\n@list l1:level6\\r\\n\\t{mso-level-number-format:bullet;\\r\\n\\tmso-level-text:\\\\F075;\\r\\n\\tmso-level-tab-stop:none;\\r\\n\\tmso-level-number-position:left;\\r\\n\\tmargin-left:140.0pt;\\r\\n\\ttext-indent:-20.0pt;\\r\\n\\tfont-family:Wingdings;}\\r\\n@list l1:level7\\r\\n\\t{mso-level-number-format:bullet;\\r\\n\\tmso-level-text:\\\\F06C;\\r\\n\\tmso-level-tab-stop:none;\\r\\n\\tmso-level-number-position:left;\\r\\n\\tmargin-left:160.0pt;\\r\\n\\ttext-indent:-20.0pt;\\r\\n\\tfont-family:Wingdings;}\\r\\n@list l1:level8\\r\\n\\t{mso-level-number-format:bullet;\\r\\n\\tmso-level-text:\\\\F06E;\\r\\n\\tmso-level-tab-stop:none;\\r\\n\\tmso-level-number-position:left;\\r\\n\\tmargin-left:180.0pt;\\r\\n\\ttext-indent:-20.0pt;\\r\\n\\tfont-family:Wingdings;}\\r\\n@list l1:level9\\r\\n\\t{mso-level-number-format:bullet;\\r\\n\\tmso-level-text:\\\\F075;\\r\\n\\tmso-level-tab-stop:none;\\r\\n\\tmso-level-number-position:left;\\r\\n\\tmargin-left:200.0pt;\\r\\n\\ttext-indent:-20.0pt;\\r\\n\\tfont-family:Wingdings;}\\r\\n@list l2\\r\\n\\t{mso-list-id:499124752;\\r\\n\\tmso-list-template-ids:1625044206;}\\r\\n@list l2:level2\\r\\n\\t{mso-level-number-format:bullet;\\r\\n\\tmso-level-text:\\\\F0B7;\\r\\n\\tmso-level-tab-stop:72.0pt;\\r\\n\\tmso-level-number-position:left;\\r\\n\\ttext-indent:-18.0pt;\\r\\n\\tmso-ansi-font-size:10.0pt;\\r\\n\\tfont-family:Symbol;}\\r\\n@list l2:level3\\r\\n\\t{mso-level-number-format:bullet;\\r\\n\\tmso-level-text:\\\\F0B7;\\r\\n\\tmso-level-tab-stop:108.0pt;\\r\\n\\tmso-level-number-position:left;\\r\\n\\ttext-indent:-18.0pt;\\r\\n\\tmso-ansi-font-size:10.0pt;\\r\\n\\tfont-family:Symbol;}\\r\\n@list l3\\r\\n\\t{mso-list-id:1098329197;\\r\\n\\tmso-list-template-ids:-140865358;}\\r\\n@list l3:level1\\r\\n\\t{mso-level-start-at:2;\\r\\n\\tmso-level-tab-stop:36.0pt;\\r\\n\\tmso-level-number-position:left;\\r\\n\\ttext-indent:-18.0pt;}\\r\\n@list l4\\r\\n\\t{mso-list-id:1254783822;\\r\\n\\tmso-list-type:hybrid;\\r\\n\\tmso-list-template-ids:941272062 248786866 67698691 -1389320862 1509043134 67698713 67698715 67698703 67698713 67698715;}\\r\\n@list l4:level1\\r\\n\\t{mso-level-tab-stop:none;\\r\\n\\tmso-level-number-position:left;\\r\\n\\tmargin-left:38.0pt;\\r\\n\\ttext-indent:-18.0pt;}\\r\\n@list l4:level2\\r\\n\\t{mso-level-number-format:bullet;\\r\\n\\tmso-level-text:\\\\F06E;\\r\\n\\tmso-level-tab-stop:none;\\r\\n\\tmso-level-number-position:left;\\r\\n\\tmargin-left:60.0pt;\\r\\n\\ttext-indent:-20.0pt;\\r\\n\\tfont-family:Wingdings;}\\r\\n@list l4:level3\\r\\n\\t{mso-level-number-format:bullet;\\r\\n\\tmso-level-text:-;\\r\\n\\tmso-level-tab-stop:none;\\r\\n\\tmso-level-number-position:left;\\r\\n\\tmargin-left:78.0pt;\\r\\n\\ttext-indent:-18.0pt;\\r\\n\\tfont-family:\"맑은 고딕\";\\r\\n\\tmso-bidi-font-family:\"Times New Roman\";}\\r\\n@list l4:level4\\r\\n\\t{mso-level-number-format:bullet;\\r\\n\\tmso-level-text:\\\\F0E8;\\r\\n\\tmso-level-tab-stop:none;\\r\\n\\tmso-level-number-position:left;\\r\\n\\tmargin-left:98.0pt;\\r\\n\\ttext-indent:-18.0pt;\\r\\n\\tfont-family:Wingdings;\\r\\n\\tmso-fareast-font-family:\"맑은 고딕\";\\r\\n\\tmso-bidi-font-family:\"Times New Roman\";}\\r\\n@list l4:level5\\r\\n\\t{mso-level-number-format:alpha-upper;\\r\\n\\tmso-level-tab-stop:none;\\r\\n\\tmso-level-number-position:left;\\r\\n\\tmargin-left:120.0pt;\\r\\n\\ttext-indent:-20.0pt;}\\r\\n@list l4:level6\\r\\n\\t{mso-level-number-format:roman-lower;\\r\\n\\tmso-level-tab-stop:none;\\r\\n\\tmso-level-number-position:right;\\r\\n\\tmargin-left:140.0pt;\\r\\n\\ttext-indent:-20.0pt;}\\r\\n@list l4:level7\\r\\n\\t{mso-level-tab-stop:none;\\r\\n\\tmso-level-number-position:left;\\r\\n\\tmargin-left:160.0pt;\\r\\n\\ttext-indent:-20.0pt;}\\r\\n@list l4:level8\\r\\n\\t{mso-level-number-format:alpha-upper;\\r\\n\\tmso-level-tab-stop:none;\\r\\n\\tmso-level-number-position:left;\\r\\n\\tmargin-left:180.0pt;\\r\\n\\ttext-indent:-20.0pt;}\\r\\n@list l4:level9\\r\\n\\t{mso-level-number-format:roman-lower;\\r\\n\\tmso-level-tab-stop:none;\\r\\n\\tmso-level-number-position:right;\\r\\n\\tmargin-left:200.0pt;\\r\\n\\ttext-indent:-20.0pt;}\\r\\n@list l5\\r\\n\\t{mso-list-id:1515681487;\\r\\n\\tmso-list-template-ids:1157504026;}\\r\\n@list l5:level1\\r\\n\\t{mso-level-number-format:bullet;\\r\\n\\tmso-level-text:\\\\F0B7;\\r\\n\\tmso-level-tab-stop:36.0pt;\\r\\n\\tmso-level-number-position:left;\\r\\n\\ttext-indent:-18.0pt;\\r\\n\\tmso-ansi-font-size:10.0pt;\\r\\n\\tfont-family:Symbol;}\\r\\n@list l5:level2\\r\\n\\t{mso-level-number-format:bullet;\\r\\n\\tmso-level-text:\\\\F0B7;\\r\\n\\tmso-level-tab-stop:72.0pt;\\r\\n\\tmso-level-number-position:left;\\r\\n\\ttext-indent:-18.0pt;\\r\\n\\tmso-ansi-font-size:10.0pt;\\r\\n\\tfont-family:Symbol;}\\r\\n@list l5:level3\\r\\n\\t{mso-level-number-format:bullet;\\r\\n\\tmso-level-text:\\\\F0B7;\\r\\n\\tmso-level-tab-stop:108.0pt;\\r\\n\\tmso-level-number-position:left;\\r\\n\\ttext-indent:-18.0pt;\\r\\n\\tmso-ansi-font-size:10.0pt;\\r\\n\\tfont-family:Symbol;}\\r\\n@list l5:level4\\r\\n\\t{mso-level-number-format:bullet;\\r\\n\\tmso-level-text:\\\\F0B7;\\r\\n\\tmso-level-tab-stop:144.0pt;\\r\\n\\tmso-level-number-position:left;\\r\\n\\ttext-indent:-18.0pt;\\r\\n\\tmso-ansi-font-size:10.0pt;\\r\\n\\tfont-family:Symbol;}\\r\\n@list l5:level5\\r\\n\\t{mso-level-number-format:bullet;\\r\\n\\tmso-level-text:\\\\F0B7;\\r\\n\\tmso-level-tab-stop:180.0pt;\\r\\n\\tmso-level-number-position:left;\\r\\n\\ttext-indent:-18.0pt;\\r\\n\\tmso-ansi-font-size:10.0pt;\\r\\n\\tfont-family:Symbol;}\\r\\n@list l5:level6\\r\\n\\t{mso-level-number-format:bullet;\\r\\n\\tmso-level-text:\\\\F0B7;\\r\\n\\tmso-level-tab-stop:216.0pt;\\r\\n\\tmso-level-number-position:left;\\r\\n\\ttext-indent:-18.0pt;\\r\\n\\tmso-ansi-font-size:10.0pt;\\r\\n\\tfont-family:Symbol;}\\r\\n@list l5:level7\\r\\n\\t{mso-level-number-format:bullet;\\r\\n\\tmso-level-text:\\\\F0B7;\\r\\n\\tmso-level-tab-stop:252.0pt;\\r\\n\\tmso-level-number-position:left;\\r\\n\\ttext-indent:-18.0pt;\\r\\n\\tmso-ansi-font-size:10.0pt;\\r\\n\\tfont-family:Symbol;}\\r\\n@list l5:level8\\r\\n\\t{mso-level-number-format:bullet;\\r\\n\\tmso-level-text:\\\\F0B7;\\r\\n\\tmso-level-tab-stop:288.0pt;\\r\\n\\tmso-level-number-position:left;\\r\\n\\ttext-indent:-18.0pt;\\r\\n\\tmso-ansi-font-size:10.0pt;\\r\\n\\tfont-family:Symbol;}\\r\\n@list l5:level9\\r\\n\\t{mso-level-number-format:bullet;\\r\\n\\tmso-level-text:\\\\F0B7;\\r\\n\\tmso-level-tab-stop:324.0pt;\\r\\n\\tmso-level-number-position:left;\\r\\n\\ttext-indent:-18.0pt;\\r\\n\\tmso-ansi-font-size:10.0pt;\\r\\n\\tfont-family:Symbol;}\\r\\n@list l6\\r\\n\\t{mso-list-id:1624464588;\\r\\n\\tmso-list-template-ids:-2108400552;}\\r\\n@list l6:level1\\r\\n\\t{mso-level-start-at:4;\\r\\n\\tmso-level-tab-stop:36.0pt;\\r\\n\\tmso-level-number-position:left;\\r\\n\\ttext-indent:-18.0pt;}\\r\\n@list l7\\r\\n\\t{mso-list-id:1817451293;\\r\\n\\tmso-list-template-ids:-1322107870;}\\r\\n@list l7:level1\\r\\n\\t{mso-level-start-at:3;\\r\\n\\tmso-level-tab-stop:36.0pt;\\r\\n\\tmso-level-number-position:left;\\r\\n\\ttext-indent:-18.0pt;}\\r\\nol\\r\\n\\t{margin-bottom:0cm;}\\r\\nul\\r\\n\\t{margin-bottom:0cm;}\\r\\n--></style><!--[if gte mso 9]><xml>\\r\\n<o:shapedefaults v:ext=\"edit\" spidmax=\"1026\" />\\r\\n</xml><![endif]--><!--[if gte mso 9]><xml>\\r\\n<o:shapelayout v:ext=\"edit\">\\r\\n<o:idmap v:ext=\"edit\" data=\"1\" />\\r\\n</o:shapelayout></xml><![endif]-->\\r\\n</head>\\r\\n<body lang=\"KO\" link=\"#0563C1\" vlink=\"#954F72\" style=\"word-wrap:break-word\">\\r\\n<div class=\"WordSection1\">\\r\\n<p class=\"msipheader5877c26a\" style=\"margin:0cm\"><span lang=\"EN-US\" style=\"font-size:10.0pt;font-family:&quot;Calibri&quot;,sans-serif;color:#737373\">khpark@maeil.com</span><span lang=\"EN-US\"><o:p></o:p></span></p>\\r\\n<p class=\"MsoNormal\" align=\"left\" style=\"text-align:left;text-autospace:ideograph-numeric ideograph-other;word-break:keep-all\">\\r\\n<span lang=\"EN-US\" style=\"font-size:12.0pt;font-family:굴림\"><o:p>&nbsp;</o:p></span></p>\\r\\n<p class=\"MsoNormal\" align=\"left\" style=\"text-align:left;text-autospace:ideograph-other;word-break:keep-all\">\\r\\n<span lang=\"EN-US\" style=\"font-size:12.0pt;font-family:굴림\"><o:p>&nbsp;</o:p></span></p>\\r\\n<p class=\"MsoNormal\">안녕하세요<span lang=\"EN-US\">,<o:p></o:p></span></p>\\r\\n<p class=\"MsoNormal\"><span lang=\"EN-US\"><o:p>&nbsp;</o:p></span></p>\\r\\n<p class=\"MsoNormal\"><span lang=\"EN-US\">03/17, (Friday) </span>기준<span lang=\"EN-US\">, [</span>셀렉스 프로핏<span lang=\"EN-US\">+</span>너츠바<span lang=\"EN-US\">]\\r\\n</span>모니터링 내용 공유드립니다<span lang=\"EN-US\">.<o:p></o:p></span></p>\\r\\n<p class=\"MsoNormal\"><span lang=\"EN-US\"><o:p>&nbsp;</o:p></span></p>\\r\\n<p class=\"MsoNormal\" style=\"text-indent:20.0pt\"><b><span lang=\"EN-US\">&lt; Summary &gt;<o:p></o:p></span></b></p>\\r\\n<ul style=\"margin-top:0cm\" type=\"disc\">\\r\\n<li class=\"MsoListParagraph\" style=\"color:#7F7F7F;margin-left:2.0pt;mso-para-margin-left:0gd;mso-list:l1 level1 lfo3\">\\r\\n<span style=\"color:windowtext;background:aqua;mso-highlight:aqua\">제품</span><span lang=\"EN-US\" style=\"color:windowtext\"> :</span><span lang=\"EN-US\">\\r\\n</span><span lang=\"EN-US\" style=\"color:windowtext\">()</span><span lang=\"EN-US\"><o:p></o:p></span></li><li class=\"MsoListParagraph\" style=\"margin-left:2.0pt;mso-para-margin-left:0gd;mso-list:l1 level1 lfo3\">\\r\\n<span style=\"background:yellow;mso-highlight:yellow\">홍보</span><span lang=\"EN-US\"> :\\r\\n<span style=\"color:#7F7F7F\">(</span></span><span style=\"color:#7F7F7F\">이슈 없음<span lang=\"EN-US\">)</span></span><span lang=\"EN-US\"><o:p></o:p></span></li><li class=\"MsoListParagraph\" style=\"color:#7F7F7F;margin-left:2.0pt;mso-para-margin-left:0gd;mso-list:l1 level1 lfo3\">\\r\\n<span style=\"color:windowtext;background:lime;mso-highlight:lime\">배송</span><span lang=\"EN-US\" style=\"color:windowtext\"> :\\r\\n</span><span lang=\"EN-US\">(</span>이슈 없음<span lang=\"EN-US\">) <o:p></o:p></span></li></ul>\\r\\n<p class=\"MsoNormal\"><span lang=\"EN-US\"><o:p>&nbsp;</o:p></span></p>\\r\\n<ol style=\"margin-top:0cm\" start=\"1\" type=\"1\">\\r\\n<li class=\"MsoListParagraph\" style=\"margin-left:2.0pt;mso-para-margin-left:0gd;mso-list:l4 level1 lfo6\">\\r\\n<b>주요 현황<span lang=\"EN-US\"> : </span>최근<span lang=\"EN-US\"> 90</span>일<span lang=\"EN-US\"> /\\r\\n</span>최근<span lang=\"EN-US\"> 7</span>일</b><span lang=\"EN-US\"><o:p></o:p></span></li></ol>\\r\\n<p class=\"MsoListParagraph\" style=\"margin-left:60.0pt;mso-para-margin-left:0gd;text-indent:-20.0pt;mso-list:l4 level2 lfo6\">\\r\\n<![if !supportLists]><span lang=\"EN-US\" style=\"font-family:Wingdings\"><span style=\"mso-list:Ignore\">n<span style=\"font:7.0pt &quot;Times New Roman&quot;\">&nbsp;\\r\\n</span></span></span><![endif]>리뷰현황 <span lang=\"EN-US\"><o:p></o:p></span></p>\\r\\n<p class=\"MsoListParagraph\" style=\"margin-left:60.0pt;mso-para-margin-left:0gd\"><span lang=\"EN-US\">{{image1}}<o:p></o:p></span></p>\\r\\n<p class=\"MsoListParagraph\" style=\"margin-left:60.0pt;mso-para-margin-left:0gd\"><span lang=\"EN-US\"><o:p>&nbsp;</o:p></span></p>\\r\\n<p class=\"MsoListParagraph\" style=\"margin-left:60.0pt;mso-para-margin-left:0gd;text-indent:-20.0pt;mso-list:l4 level2 lfo6\">\\r\\n<![if !supportLists]><span lang=\"EN-US\" style=\"font-family:Wingdings\"><span style=\"mso-list:Ignore\">n<span style=\"font:7.0pt &quot;Times New Roman&quot;\">&nbsp;\\r\\n</span></span></span><![endif]>리뷰현황<span lang=\"EN-US\"> : </span>주요 키워드 시각화<span lang=\"EN-US\"><o:p></o:p></span></p>\\r\\n<ol style=\"margin-top:0cm\" start=\"1\" type=\"1\">\\r\\n<ul style=\"margin-top:0cm\" type=\"disc\">\\r\\n<ul style=\"margin-top:0cm\" type=\"disc\">\\r\\n<li class=\"MsoListParagraph\" style=\"margin-left:-30.0pt;mso-para-margin-left:0gd;mso-list:l4 level3 lfo6\">\\r\\n너츠바 관련 리뷰가 다수이다 보니<span lang=\"EN-US\">, [</span>간식<span lang=\"EN-US\">], [</span>아침<span lang=\"EN-US\">], [</span>견과<span lang=\"EN-US\">]</span>키워드에 대한 연관단어가 다수로 확인됨<span lang=\"EN-US\"><o:p></o:p></span></li><li class=\"MsoListParagraph\" style=\"margin-left:-30.0pt;mso-para-margin-left:0gd;mso-list:l4 level3 lfo6\">\\r\\n그 외 프로핏과 관련된<span lang=\"EN-US\"> [</span>단백질<span lang=\"EN-US\">]</span>에 대한 연관단어도 일부 확인되나<span lang=\"EN-US\">,\\r\\n</span>성분 관점에서는 그 이상 언급되지 않는 것으로 보여짐<span lang=\"EN-US\">.<o:p></o:p></span></li></ul>\\r\\n</ul>\\r\\n</ol>\\r\\n<p class=\"MsoListParagraph\" style=\"margin-left:60.0pt;mso-para-margin-left:0gd\"><span lang=\"EN-US\">{{image2}}<o:p></o:p></span></p>\\r\\n<p class=\"MsoNormal\" style=\"margin-left:20.0pt;text-indent:40.0pt\"><span lang=\"EN-US\" style=\"color:black\">*\\r\\n</span><span style=\"color:black\">키워드<span lang=\"EN-US\">(</span>중심<span lang=\"EN-US\">,\\r\\n</span>회색<span lang=\"EN-US\">)</span>와 연관단어 간 빈도가 높을수록<span lang=\"EN-US\">, </span>\\r\\n선이 굵게 표기됨<span lang=\"EN-US\"><o:p></o:p></span></span></p>\\r\\n<p class=\"MsoNormal\" style=\"margin-left:40.0pt\"><b><span lang=\"EN-US\"><o:p>&nbsp;</o:p></span></b></p>\\r\\n<ol style=\"margin-top:0cm\" start=\"2\" type=\"1\">\\r\\n<li class=\"MsoListParagraph\" style=\"margin-left:2.0pt;mso-para-margin-left:0gd;mso-list:l4 level1 lfo6\">\\r\\n<b><span lang=\"EN-US\">Buzz</span>자료<span lang=\"EN-US\"> : </span>최근<span lang=\"EN-US\"> 7</span>일<span lang=\"EN-US\"><o:p></o:p></span></b></li></ol>\\r\\n<p class=\"MsoListParagraph\" style=\"margin-left:60.0pt;mso-para-margin-left:0gd;text-indent:-20.0pt;mso-list:l4 level2 lfo6\">\\r\\n<![if !supportLists]><span lang=\"EN-US\" style=\"font-family:Wingdings\"><span style=\"mso-list:Ignore\">n<span style=\"font:7.0pt &quot;Times New Roman&quot;\">&nbsp;\\r\\n</span></span></span><![endif]><span lang=\"EN-US\">[product1] : Text1<o:p></o:p></span></p>\\r\\n<table class=\"MsoNormalTable\" border=\"1\" cellspacing=\"0\" cellpadding=\"0\" width=\"1062\" style=\"width:796.85pt;margin-left:60.35pt;border-collapse:collapse\">\\r\\n<tbody>\\r\\n<tr style=\"height:3.95pt\">\\r\\n<td width=\"116\" valign=\"top\" style=\"width:86.85pt;background:#4472C4;padding:.75pt .75pt .75pt .75pt;height:3.95pt\">\\r\\n<p class=\"MsoNormal\" align=\"center\" style=\"text-align:center\"><b><span lang=\"EN-US\" style=\"font-size:9.0pt;color:white\">DATE</span></b><span lang=\"EN-US\" style=\"font-size:9.0pt;color:white\"><o:p></o:p></span></p>\\r\\n</td>\\r\\n<td width=\"91\" valign=\"top\" style=\"width:68.6pt;background:#4472C4;padding:.75pt .75pt .75pt .75pt;height:3.95pt\">\\r\\n<p class=\"MsoNormal\" align=\"center\" style=\"text-align:center\"><b><span lang=\"EN-US\" style=\"font-size:9.0pt;color:white\">GUBUN</span></b><span lang=\"EN-US\" style=\"font-size:9.0pt;color:white\"><o:p></o:p></span></p>\\r\\n</td>\\r\\n<td width=\"109\" valign=\"top\" style=\"width:81.5pt;background:#4472C4;padding:.75pt .75pt .75pt .75pt;height:3.95pt\">\\r\\n<p class=\"MsoNormal\" align=\"center\" style=\"text-align:center\"><b><span lang=\"EN-US\" style=\"font-size:9.0pt;color:white\">NAME</span></b><span lang=\"EN-US\" style=\"font-size:9.0pt;color:white\"><o:p></o:p></span></p>\\r\\n</td>\\r\\n<td width=\"586\" valign=\"top\" style=\"width:439.4pt;background:#4472C4;padding:.75pt .75pt .75pt .75pt;height:3.95pt\">\\r\\n<p class=\"MsoNormal\" align=\"center\" style=\"text-align:center\"><b><span lang=\"EN-US\" style=\"font-size:9.0pt;color:white\">TEXT</span></b><span lang=\"EN-US\" style=\"font-size:9.0pt;color:white\"><o:p></o:p></span></p>\\r\\n</td>\\r\\n<td width=\"95\" valign=\"top\" style=\"width:70.9pt;background:#4472C4;padding:.75pt .75pt .75pt .75pt;height:3.95pt\">\\r\\n<p class=\"MsoNormal\" align=\"center\" style=\"text-align:center\"><b><span lang=\"EN-US\" style=\"font-size:9.0pt;color:white\">KEYWORD</span></b><span lang=\"EN-US\" style=\"font-size:9.0pt;color:white\"><o:p></o:p></span></p>\\r\\n</td>\\r\\n<td width=\"66\" valign=\"top\" style=\"width:49.6pt;background:#4472C4;padding:0cm 0cm 0cm 0cm;height:3.95pt\">\\r\\n<p class=\"MsoNormal\" align=\"center\" style=\"text-align:center\"><b><span lang=\"EN-US\" style=\"font-size:9.0pt;color:white\">RT_COUNT<o:p></o:p></span></b></p>\\r\\n</td>\\r\\n</tr>\\r\\n<tr style=\"height:13.0pt\">\\r\\n<td width=\"116\" valign=\"top\" style=\"width:86.85pt;padding:.75pt .75pt .75pt .75pt;height:13.0pt\">\\r\\n<p class=\"MsoNormal\" align=\"center\" style=\"text-align:center\"><span lang=\"EN-US\" style=\"font-size:9.0pt;color:black\"><o:p>&nbsp;</o:p></span></p>\\r\\n</td>\\r\\n<td width=\"91\" valign=\"top\" style=\"width:68.6pt;padding:.75pt .75pt .75pt .75pt;height:13.0pt\">\\r\\n<p class=\"MsoNormal\" align=\"center\" style=\"text-align:center;text-autospace:ideograph-other;word-break:keep-all\">\\r\\n<span lang=\"EN-US\" style=\"font-size:9.0pt;color:black\"><o:p>&nbsp;</o:p></span></p>\\r\\n</td>\\r\\n<td width=\"109\" valign=\"top\" style=\"width:81.5pt;padding:.75pt .75pt .75pt .75pt;height:13.0pt\">\\r\\n<p class=\"MsoNormal\" align=\"center\" style=\"text-align:center\"><span lang=\"EN-US\" style=\"font-size:9.0pt;color:black\"><o:p>&nbsp;</o:p></span></p>\\r\\n</td>\\r\\n<td width=\"586\" valign=\"top\" style=\"width:439.4pt;padding:.75pt .75pt .75pt .75pt;height:13.0pt\">\\r\\n<p class=\"MsoNormal\" style=\"text-autospace:ideograph-other;word-break:keep-all\"><span lang=\"EN-US\" style=\"font-size:9.0pt;color:black\"><o:p>&nbsp;</o:p></span></p>\\r\\n</td>\\r\\n<td width=\"95\" valign=\"top\" style=\"width:70.9pt;padding:.75pt .75pt .75pt .75pt;height:13.0pt\">\\r\\n<p class=\"MsoNormal\" align=\"center\" style=\"text-align:center;text-autospace:ideograph-other;word-break:keep-all\">\\r\\n<span lang=\"EN-US\" style=\"font-size:9.0pt;color:black\"><o:p>&nbsp;</o:p></span></p>\\r\\n</td>\\r\\n<td width=\"66\" valign=\"top\" style=\"width:49.6pt;padding:0cm 0cm 0cm 0cm;height:13.0pt\">\\r\\n<p class=\"MsoNormal\" align=\"center\" style=\"text-align:center;text-autospace:ideograph-other;word-break:keep-all\">\\r\\n<span lang=\"EN-US\" style=\"font-size:9.0pt;color:black\"><o:p>&nbsp;</o:p></span></p>\\r\\n</td>\\r\\n</tr>\\r\\n<tr style=\"height:13.0pt\">\\r\\n<td width=\"116\" valign=\"top\" style=\"width:86.85pt;padding:.75pt .75pt .75pt .75pt;height:13.0pt\">\\r\\n<p class=\"MsoNormal\" align=\"center\" style=\"text-align:center\"><span lang=\"EN-US\" style=\"font-size:9.0pt;color:black\"><o:p>&nbsp;</o:p></span></p>\\r\\n</td>\\r\\n<td width=\"91\" valign=\"top\" style=\"width:68.6pt;padding:.75pt .75pt .75pt .75pt;height:13.0pt\">\\r\\n<p class=\"MsoNormal\" align=\"center\" style=\"text-align:center;text-autospace:ideograph-other;word-break:keep-all\">\\r\\n<span lang=\"EN-US\" style=\"font-size:9.0pt;color:black\"><o:p>&nbsp;</o:p></span></p>\\r\\n</td>\\r\\n<td width=\"109\" valign=\"top\" style=\"width:81.5pt;padding:.75pt .75pt .75pt .75pt;height:13.0pt\">\\r\\n<p class=\"MsoNormal\" align=\"center\" style=\"text-align:center\"><span lang=\"EN-US\" style=\"font-size:9.0pt;color:black\"><o:p>&nbsp;</o:p></span></p>\\r\\n</td>\\r\\n<td width=\"586\" valign=\"top\" style=\"width:439.4pt;padding:.75pt .75pt .75pt .75pt;height:13.0pt\">\\r\\n<p class=\"MsoNormal\" style=\"text-autospace:ideograph-other;word-break:keep-all\"><span lang=\"EN-US\" style=\"font-size:9.0pt;color:black\"><o:p>&nbsp;</o:p></span></p>\\r\\n</td>\\r\\n<td width=\"95\" valign=\"top\" style=\"width:70.9pt;padding:.75pt .75pt .75pt .75pt;height:13.0pt\">\\r\\n<p class=\"MsoNormal\" align=\"center\" style=\"text-align:center;text-autospace:ideograph-other;word-break:keep-all\">\\r\\n<span lang=\"EN-US\" style=\"font-size:9.0pt;color:black\"><o:p>&nbsp;</o:p></span></p>\\r\\n</td>\\r\\n<td width=\"66\" valign=\"top\" style=\"width:49.6pt;padding:0cm 0cm 0cm 0cm;height:13.0pt\">\\r\\n<p class=\"MsoNormal\" align=\"center\" style=\"text-align:center;text-autospace:ideograph-other;word-break:keep-all\">\\r\\n<span lang=\"EN-US\" style=\"font-size:9.0pt;color:black\"><o:p>&nbsp;</o:p></span></p>\\r\\n</td>\\r\\n</tr>\\r\\n</tbody>\\r\\n</table>\\r\\n<p class=\"MsoListParagraph\" style=\"margin-left:38.0pt;mso-para-margin-left:0gd\"><b><span lang=\"EN-US\"><o:p>&nbsp;</o:p></span></b></p>\\r\\n<ol style=\"margin-top:0cm\" start=\"3\" type=\"1\">\\r\\n<li class=\"MsoListParagraph\" style=\"margin-left:2.0pt;mso-para-margin-left:0gd;mso-list:l4 level1 lfo6\">\\r\\n<b>제품별 사후평가<span lang=\"EN-US\"> : </span>주요 리뷰<span lang=\"EN-US\">/CS, </span>최근<span lang=\"EN-US\"> 7</span>일<span lang=\"EN-US\"><o:p></o:p></span></b></li></ol>\\r\\n<p class=\"MsoListParagraph\" style=\"margin-left:60.0pt;mso-para-margin-left:0gd;text-indent:-20.0pt;mso-list:l4 level2 lfo6\">\\r\\n<![if !supportLists]><span lang=\"EN-US\" style=\"font-family:Wingdings\"><span style=\"mso-list:Ignore\">n<span style=\"font:7.0pt &quot;Times New Roman&quot;\">&nbsp;\\r\\n</span></span></span><![endif]><span lang=\"EN-US\">[product2] : Text2<o:p></o:p></span></p>\\r\\n<table class=\"MsoNormalTable\" border=\"1\" cellspacing=\"0\" cellpadding=\"0\" width=\"1148\" style=\"width:860.9pt;margin-left:60.35pt;border-collapse:collapse\">\\r\\n<tbody>\\r\\n<tr style=\"height:6.75pt\">\\r\\n<td width=\"75\" style=\"width:56.55pt;background:#4472C4;padding:0cm 0cm 0cm 0cm;height:6.75pt\">\\r\\n<p class=\"MsoNormal\" align=\"center\" style=\"text-align:center\"><b><span style=\"font-size:9.0pt;color:white\">구분<span lang=\"EN-US\"><o:p></o:p></span></span></b></p>\\r\\n</td>\\r\\n<td width=\"75\" style=\"width:56.5pt;background:#4472C4;padding:0cm 0cm 0cm 0cm;height:6.75pt\">\\r\\n<p class=\"MsoNormal\" align=\"center\" style=\"text-align:center\"><b><span style=\"font-size:9.0pt;color:white\">유형<span lang=\"EN-US\"><o:p></o:p></span></span></b></p>\\r\\n</td>\\r\\n<td width=\"79\" style=\"width:59.0pt;background:#4472C4;padding:.75pt .75pt .75pt .75pt;height:6.75pt\">\\r\\n<p class=\"MsoNormal\" align=\"center\" style=\"text-align:center\"><b><span lang=\"EN-US\" style=\"font-size:9.0pt;color:white\">USER</span></b><span lang=\"EN-US\" style=\"font-size:9.0pt\"><o:p></o:p></span></p>\\r\\n</td>\\r\\n<td width=\"80\" style=\"width:60.25pt;background:#4472C4;padding:.75pt .75pt .75pt .75pt;height:6.75pt\">\\r\\n<p class=\"MsoNormal\" align=\"center\" style=\"text-align:center\"><b><span lang=\"EN-US\" style=\"font-size:9.0pt;color:white\">REG_DTM</span></b><span lang=\"EN-US\" style=\"font-size:9.0pt\"><o:p></o:p></span></p>\\r\\n</td>\\r\\n<td width=\"110\" style=\"width:82.6pt;background:#4472C4;padding:.75pt .75pt .75pt .75pt;height:6.75pt\">\\r\\n<p class=\"MsoNormal\" align=\"center\" style=\"text-align:center\"><b><span lang=\"EN-US\" style=\"font-size:9.0pt;color:white\">CHANNEL</span></b><span lang=\"EN-US\" style=\"font-size:9.0pt\"><o:p></o:p></span></p>\\r\\n</td>\\r\\n<td width=\"236\" style=\"width:177.2pt;background:#4472C4;padding:.75pt .75pt .75pt .75pt;height:6.75pt\">\\r\\n<p class=\"MsoNormal\" align=\"center\" style=\"text-align:center\"><b><span lang=\"EN-US\" style=\"font-size:9.0pt;color:white\">PRODUCT</span></b><span lang=\"EN-US\" style=\"font-size:9.0pt\"><o:p></o:p></span></p>\\r\\n</td>\\r\\n<td width=\"452\" style=\"width:338.8pt;background:#4472C4;padding:.75pt .75pt .75pt .75pt;height:6.75pt\">\\r\\n<p class=\"MsoNormal\" align=\"center\" style=\"text-align:center\"><b><span style=\"font-size:9.0pt;color:white\">내용</span></b><span lang=\"EN-US\" style=\"font-size:9.0pt;color:black\"><o:p></o:p></span></p>\\r\\n</td>\\r\\n<td width=\"40\" style=\"width:30.0pt;background:#4472C4;padding:.75pt .75pt .75pt .75pt;height:6.75pt\">\\r\\n<p class=\"MsoNormal\" align=\"center\" style=\"text-align:center\"><b><span lang=\"EN-US\" style=\"font-size:9.0pt;color:white\">SCORE</span></b><span lang=\"EN-US\" style=\"font-size:9.0pt\"><o:p></o:p></span></p>\\r\\n</td>\\r\\n</tr>\\r\\n<tr style=\"height:13.5pt\">\\r\\n<td width=\"75\" valign=\"top\" style=\"width:56.55pt;padding:0cm 0cm 0cm 0cm;height:13.5pt\">\\r\\n<p class=\"MsoNormal\" align=\"center\" style=\"text-align:center\"><span lang=\"EN-US\" style=\"font-size:9.0pt\"><o:p>&nbsp;</o:p></span></p>\\r\\n</td>\\r\\n<td width=\"75\" valign=\"top\" style=\"width:56.5pt;padding:0cm 0cm 0cm 0cm;height:13.5pt\">\\r\\n<p class=\"MsoNormal\" align=\"center\" style=\"text-align:center\"><b><span lang=\"EN-US\" style=\"font-size:9.0pt\"><o:p>&nbsp;</o:p></span></b></p>\\r\\n</td>\\r\\n<td width=\"79\" valign=\"top\" style=\"width:59.0pt;padding:0cm 4.95pt 0cm 4.95pt;height:13.5pt\">\\r\\n<p class=\"MsoNormal\" align=\"center\" style=\"text-align:center\"><span lang=\"EN-US\" style=\"font-size:9.0pt;color:black\"><o:p>&nbsp;</o:p></span></p>\\r\\n</td>\\r\\n<td width=\"80\" valign=\"top\" style=\"width:60.25pt;padding:0cm 4.95pt 0cm 4.95pt;height:13.5pt\">\\r\\n<p class=\"MsoNormal\" align=\"center\" style=\"text-align:center\"><span lang=\"EN-US\" style=\"font-size:9.0pt;color:black\"><o:p>&nbsp;</o:p></span></p>\\r\\n</td>\\r\\n<td width=\"110\" valign=\"top\" style=\"width:82.6pt;padding:0cm 4.95pt 0cm 4.95pt;height:13.5pt\">\\r\\n<p class=\"MsoNormal\" align=\"center\" style=\"text-align:center\"><span lang=\"EN-US\" style=\"font-size:9.0pt;color:black\"><o:p>&nbsp;</o:p></span></p>\\r\\n</td>\\r\\n<td width=\"236\" valign=\"top\" style=\"width:177.2pt;padding:0cm 4.95pt 0cm 4.95pt;height:13.5pt\">\\r\\n<p class=\"MsoNormal\"><span lang=\"EN-US\" style=\"font-size:9.0pt;color:black\"><o:p>&nbsp;</o:p></span></p>\\r\\n</td>\\r\\n<td width=\"452\" valign=\"top\" style=\"width:338.8pt;padding:0cm 4.95pt 0cm 4.95pt;height:13.5pt\">\\r\\n<p class=\"MsoNormal\"><span lang=\"EN-US\" style=\"font-size:9.0pt;color:black\"><o:p>&nbsp;</o:p></span></p>\\r\\n</td>\\r\\n<td width=\"40\" valign=\"top\" style=\"width:30.0pt;padding:0cm 4.95pt 0cm 4.95pt;height:13.5pt\">\\r\\n<p class=\"MsoNormal\" align=\"center\" style=\"text-align:center\"><span lang=\"EN-US\" style=\"font-size:9.0pt;color:black\"><o:p>&nbsp;</o:p></span></p>\\r\\n</td>\\r\\n</tr>\\r\\n<tr style=\"height:13.5pt\">\\r\\n<td width=\"75\" valign=\"top\" style=\"width:56.55pt;padding:0cm 0cm 0cm 0cm;height:13.5pt\">\\r\\n<p class=\"MsoNormal\" align=\"center\" style=\"text-align:center\"><span lang=\"EN-US\" style=\"font-size:9.0pt\"><o:p>&nbsp;</o:p></span></p>\\r\\n</td>\\r\\n<td width=\"75\" valign=\"top\" style=\"width:56.5pt;padding:0cm 0cm 0cm 0cm;height:13.5pt\">\\r\\n<p class=\"MsoNormal\" align=\"center\" style=\"text-align:center\"><b><span lang=\"EN-US\" style=\"font-size:9.0pt\"><o:p>&nbsp;</o:p></span></b></p>\\r\\n</td>\\r\\n<td width=\"79\" valign=\"top\" style=\"width:59.0pt;padding:0cm 4.95pt 0cm 4.95pt;height:13.5pt\">\\r\\n<p class=\"MsoNormal\" align=\"center\" style=\"text-align:center\"><span lang=\"EN-US\" style=\"font-size:9.0pt;color:black\"><o:p>&nbsp;</o:p></span></p>\\r\\n</td>\\r\\n<td width=\"80\" valign=\"top\" style=\"width:60.25pt;padding:0cm 4.95pt 0cm 4.95pt;height:13.5pt\">\\r\\n<p class=\"MsoNormal\" align=\"center\" style=\"text-align:center\"><span lang=\"EN-US\" style=\"font-size:9.0pt;color:black\"><o:p>&nbsp;</o:p></span></p>\\r\\n</td>\\r\\n<td width=\"110\" valign=\"top\" style=\"width:82.6pt;padding:0cm 4.95pt 0cm 4.95pt;height:13.5pt\">\\r\\n<p class=\"MsoNormal\" align=\"center\" style=\"text-align:center\"><span lang=\"EN-US\" style=\"font-size:9.0pt;color:black\"><o:p>&nbsp;</o:p></span></p>\\r\\n</td>\\r\\n<td width=\"236\" valign=\"top\" style=\"width:177.2pt;padding:0cm 4.95pt 0cm 4.95pt;height:13.5pt\">\\r\\n<p class=\"MsoNormal\"><span lang=\"EN-US\" style=\"font-size:9.0pt;color:black\"><o:p>&nbsp;</o:p></span></p>\\r\\n</td>\\r\\n<td width=\"452\" valign=\"top\" style=\"width:338.8pt;padding:0cm 4.95pt 0cm 4.95pt;height:13.5pt\">\\r\\n<p class=\"MsoNormal\"><span lang=\"EN-US\" style=\"font-size:9.0pt;color:black\"><o:p>&nbsp;</o:p></span></p>\\r\\n</td>\\r\\n<td width=\"40\" valign=\"top\" style=\"width:30.0pt;padding:0cm 4.95pt 0cm 4.95pt;height:13.5pt\">\\r\\n<p class=\"MsoNormal\" align=\"center\" style=\"text-align:center\"><span lang=\"EN-US\" style=\"font-size:9.0pt;color:black\"><o:p>&nbsp;</o:p></span></p>\\r\\n</td>\\r\\n</tr>\\r\\n</tbody>\\r\\n</table>\\r\\n<p class=\"MsoListParagraph\" style=\"margin-left:60.0pt;mso-para-margin-left:0gd\"><span lang=\"EN-US\"><o:p>&nbsp;</o:p></span></p>\\r\\n<p class=\"MsoListParagraph\" style=\"margin-left:60.0pt;mso-para-margin-left:0gd;text-indent:-20.0pt;mso-list:l4 level2 lfo6\">\\r\\n<![if !supportLists]><span lang=\"EN-US\" style=\"font-family:Wingdings\"><span style=\"mso-list:Ignore\">n<span style=\"font:7.0pt &quot;Times New Roman&quot;\">&nbsp;\\r\\n</span></span></span><![endif]><span lang=\"EN-US\">[product3] : Text3<o:p></o:p></span></p>\\r\\n<table class=\"MsoNormalTable\" border=\"1\" cellspacing=\"0\" cellpadding=\"0\" width=\"1148\" style=\"width:860.9pt;margin-left:60.35pt;border-collapse:collapse\">\\r\\n<tbody>\\r\\n<tr style=\"height:6.75pt\">\\r\\n<td width=\"75\" style=\"width:56.4pt;background:#4472C4;padding:0cm 0cm 0cm 0cm;height:6.75pt\">\\r\\n<p class=\"MsoNormal\" align=\"center\" style=\"text-align:center\"><b><span style=\"font-size:9.0pt;color:white\">구분<span lang=\"EN-US\"><o:p></o:p></span></span></b></p>\\r\\n</td>\\r\\n<td width=\"75\" style=\"width:56.6pt;background:#4472C4;padding:0cm 0cm 0cm 0cm;height:6.75pt\">\\r\\n<p class=\"MsoNormal\" align=\"center\" style=\"text-align:center\"><b><span style=\"font-size:9.0pt;color:white\">유형<span lang=\"EN-US\"><o:p></o:p></span></span></b></p>\\r\\n</td>\\r\\n<td width=\"75\" style=\"width:56.6pt;background:#4472C4;padding:.75pt .75pt .75pt .75pt;height:6.75pt\">\\r\\n<p class=\"MsoNormal\" align=\"center\" style=\"text-align:center\"><b><span lang=\"EN-US\" style=\"font-size:9.0pt;color:white\">USER</span></b><span lang=\"EN-US\" style=\"font-size:9.0pt\"><o:p></o:p></span></p>\\r\\n</td>\\r\\n<td width=\"80\" style=\"width:60.2pt;background:#4472C4;padding:.75pt .75pt .75pt .75pt;height:6.75pt\">\\r\\n<p class=\"MsoNormal\" align=\"center\" style=\"text-align:center\"><b><span lang=\"EN-US\" style=\"font-size:9.0pt;color:white\">REG_DTM</span></b><span lang=\"EN-US\" style=\"font-size:9.0pt\"><o:p></o:p></span></p>\\r\\n</td>\\r\\n<td width=\"113\" style=\"width:85.1pt;background:#4472C4;padding:.75pt .75pt .75pt .75pt;height:6.75pt\">\\r\\n<p class=\"MsoNormal\" align=\"center\" style=\"text-align:center\"><b><span lang=\"EN-US\" style=\"font-size:9.0pt;color:white\">CHANNEL</span></b><span lang=\"EN-US\" style=\"font-size:9.0pt\"><o:p></o:p></span></p>\\r\\n</td>\\r\\n<td width=\"236\" style=\"width:177.2pt;background:#4472C4;padding:.75pt .75pt .75pt .75pt;height:6.75pt\">\\r\\n<p class=\"MsoNormal\" align=\"center\" style=\"text-align:center\"><b><span lang=\"EN-US\" style=\"font-size:9.0pt;color:white\">PRODUCT</span></b><span lang=\"EN-US\" style=\"font-size:9.0pt\"><o:p></o:p></span></p>\\r\\n</td>\\r\\n<td width=\"452\" style=\"width:338.8pt;background:#4472C4;padding:.75pt .75pt .75pt .75pt;height:6.75pt\">\\r\\n<p class=\"MsoNormal\" align=\"center\" style=\"text-align:center\"><b><span style=\"font-size:9.0pt;color:white\">내용</span></b><span lang=\"EN-US\" style=\"font-size:9.0pt;color:black\"><o:p></o:p></span></p>\\r\\n</td>\\r\\n<td width=\"40\" style=\"width:30.0pt;background:#4472C4;padding:.75pt .75pt .75pt .75pt;height:6.75pt\">\\r\\n<p class=\"MsoNormal\" align=\"center\" style=\"text-align:center\"><b><span lang=\"EN-US\" style=\"font-size:9.0pt;color:white\">SCORE</span></b><span lang=\"EN-US\" style=\"font-size:9.0pt\"><o:p></o:p></span></p>\\r\\n</td>\\r\\n</tr>\\r\\n<tr style=\"height:13.5pt\">\\r\\n<td width=\"75\" valign=\"top\" style=\"width:56.4pt;padding:0cm 0cm 0cm 0cm;height:13.5pt\">\\r\\n<p class=\"MsoNormal\" align=\"center\" style=\"text-align:center\"><span lang=\"EN-US\" style=\"font-size:9.0pt;color:black\"><o:p>&nbsp;</o:p></span></p>\\r\\n</td>\\r\\n<td width=\"75\" valign=\"top\" style=\"width:56.6pt;padding:0cm 0cm 0cm 0cm;height:13.5pt\">\\r\\n<p class=\"MsoNormal\" align=\"center\" style=\"text-align:center\"><b><span lang=\"EN-US\" style=\"font-size:9.0pt;color:black\"><o:p>&nbsp;</o:p></span></b></p>\\r\\n</td>\\r\\n<td width=\"75\" valign=\"top\" style=\"width:56.6pt;padding:0cm 4.95pt 0cm 4.95pt;height:13.5pt\">\\r\\n<p class=\"MsoNormal\" align=\"center\" style=\"text-align:center\"><span lang=\"EN-US\" style=\"font-size:9.0pt;color:black\"><o:p>&nbsp;</o:p></span></p>\\r\\n</td>\\r\\n<td width=\"80\" valign=\"top\" style=\"width:60.2pt;padding:0cm 4.95pt 0cm 4.95pt;height:13.5pt\">\\r\\n<p class=\"MsoNormal\" align=\"center\" style=\"text-align:center\"><span lang=\"EN-US\" style=\"font-size:9.0pt;color:black\"><o:p>&nbsp;</o:p></span></p>\\r\\n</td>\\r\\n<td width=\"113\" valign=\"top\" style=\"width:85.1pt;padding:0cm 4.95pt 0cm 4.95pt;height:13.5pt\">\\r\\n<p class=\"MsoNormal\" align=\"center\" style=\"text-align:center\"><span lang=\"EN-US\" style=\"font-size:9.0pt;color:black\"><o:p>&nbsp;</o:p></span></p>\\r\\n</td>\\r\\n<td width=\"236\" valign=\"top\" style=\"width:177.2pt;padding:0cm 4.95pt 0cm 4.95pt;height:13.5pt\">\\r\\n<p class=\"MsoNormal\"><span lang=\"EN-US\" style=\"font-size:9.0pt;color:black\"><o:p>&nbsp;</o:p></span></p>\\r\\n</td>\\r\\n<td width=\"452\" valign=\"top\" style=\"width:338.8pt;padding:0cm 4.95pt 0cm 4.95pt;height:13.5pt\">\\r\\n<p class=\"MsoNormal\"><span lang=\"EN-US\" style=\"font-size:9.0pt;color:black;background:yellow;mso-highlight:yellow\"><o:p>&nbsp;</o:p></span></p>\\r\\n</td>\\r\\n<td width=\"40\" valign=\"top\" style=\"width:30.0pt;padding:0cm 4.95pt 0cm 4.95pt;height:13.5pt\">\\r\\n<p class=\"MsoNormal\" align=\"center\" style=\"text-align:center\"><span lang=\"EN-US\" style=\"font-size:9.0pt;color:black\"><o:p>&nbsp;</o:p></span></p>\\r\\n</td>\\r\\n</tr>\\r\\n<tr style=\"height:13.5pt\">\\r\\n<td width=\"75\" valign=\"top\" style=\"width:56.4pt;padding:0cm 0cm 0cm 0cm;height:13.5pt\">\\r\\n<p class=\"MsoNormal\" align=\"center\" style=\"text-align:center\"><span lang=\"EN-US\" style=\"font-size:9.0pt;color:black\"><o:p>&nbsp;</o:p></span></p>\\r\\n</td>\\r\\n<td width=\"75\" valign=\"top\" style=\"width:56.6pt;padding:0cm 0cm 0cm 0cm;height:13.5pt\">\\r\\n<p class=\"MsoNormal\" align=\"center\" style=\"text-align:center\"><b><span lang=\"EN-US\" style=\"font-size:9.0pt;color:black\"><o:p>&nbsp;</o:p></span></b></p>\\r\\n</td>\\r\\n<td width=\"75\" valign=\"top\" style=\"width:56.6pt;padding:0cm 4.95pt 0cm 4.95pt;height:13.5pt\">\\r\\n<p class=\"MsoNormal\" align=\"center\" style=\"text-align:center\"><span lang=\"EN-US\" style=\"font-size:9.0pt;color:black\"><o:p>&nbsp;</o:p></span></p>\\r\\n</td>\\r\\n<td width=\"80\" valign=\"top\" style=\"width:60.2pt;padding:0cm 4.95pt 0cm 4.95pt;height:13.5pt\">\\r\\n<p class=\"MsoNormal\" align=\"center\" style=\"text-align:center\"><span lang=\"EN-US\" style=\"font-size:9.0pt;color:black\"><o:p>&nbsp;</o:p></span></p>\\r\\n</td>\\r\\n<td width=\"113\" valign=\"top\" style=\"width:85.1pt;padding:0cm 4.95pt 0cm 4.95pt;height:13.5pt\">\\r\\n<p class=\"MsoNormal\" align=\"center\" style=\"text-align:center\"><span lang=\"EN-US\" style=\"font-size:9.0pt;color:black\"><o:p>&nbsp;</o:p></span></p>\\r\\n</td>\\r\\n<td width=\"236\" valign=\"top\" style=\"width:177.2pt;padding:0cm 4.95pt 0cm 4.95pt;height:13.5pt\">\\r\\n<p class=\"MsoNormal\"><span lang=\"EN-US\" style=\"font-size:9.0pt;color:black\"><o:p>&nbsp;</o:p></span></p>\\r\\n</td>\\r\\n<td width=\"452\" valign=\"top\" style=\"width:338.8pt;padding:0cm 4.95pt 0cm 4.95pt;height:13.5pt\">\\r\\n<p class=\"MsoNormal\"><span lang=\"EN-US\" style=\"font-size:9.0pt;color:black;background:lime;mso-highlight:lime\"><o:p>&nbsp;</o:p></span></p>\\r\\n</td>\\r\\n<td width=\"40\" valign=\"top\" style=\"width:30.0pt;padding:0cm 4.95pt 0cm 4.95pt;height:13.5pt\">\\r\\n<p class=\"MsoNormal\" align=\"center\" style=\"text-align:center\"><span lang=\"EN-US\" style=\"font-size:9.0pt;color:black\"><o:p>&nbsp;</o:p></span></p>\\r\\n</td>\\r\\n</tr>\\r\\n</tbody>\\r\\n</table>\\r\\n<p class=\"MsoListParagraph\" style=\"margin-left:60.0pt;mso-para-margin-left:0gd\"><span lang=\"EN-US\"><o:p>&nbsp;</o:p></span></p>\\r\\n<p class=\"MsoListParagraph\" style=\"margin-left:60.0pt;mso-para-margin-left:0gd\"><span lang=\"EN-US\"><o:p>&nbsp;</o:p></span></p>\\r\\n<ol style=\"margin-top:0cm\" start=\"4\" type=\"1\">\\r\\n<li class=\"MsoListParagraph\" style=\"margin-left:2.0pt;mso-para-margin-left:0gd;mso-list:l4 level1 lfo6\">\\r\\n<b>기타 참조사항 </b><span lang=\"EN-US\">: [</span>프리바이오틱스<span lang=\"EN-US\"> + </span>콜라겐<span lang=\"EN-US\">]\\r\\n</span>의 이번주 리뷰 추이<b><span lang=\"EN-US\"><o:p></o:p></span></b></li></ol>\\r\\n<p class=\"MsoListParagraph\" style=\"margin-left:38.0pt;mso-para-margin-left:0gd\"><span lang=\"EN-US\">{{image3}}<b><o:p></o:p></b></span></p>\\r\\n<p class=\"MsoListParagraph\" style=\"margin-left:38.0pt;mso-para-margin-left:0gd\"><span lang=\"EN-US\"><o:p>&nbsp;</o:p></span></p>\\r\\n<p class=\"MsoListParagraph\" style=\"margin-left:38.0pt;mso-para-margin-left:0gd\"><span lang=\"EN-US\"><o:p>&nbsp;</o:p></span></p>\\r\\n<p class=\"MsoNormal\">감사합니다<span lang=\"EN-US\">.<o:p></o:p></span></p>\\r\\n<p class=\"MsoNormal\"><span lang=\"EN-US\"><o:p>&nbsp;</o:p></span></p>\\r\\n<p class=\"MsoNormal\"><span lang=\"EN-US\"><o:p>&nbsp;</o:p></span></p>\\r\\n<p class=\"MsoNormal\"><b><span lang=\"EN-US\" style=\"color:#002060\"><img width=\"248\" height=\"85\" style=\"width:2.5833in;height:.8854in\" id=\"그림_x0020_1\" src=\"cid:image003.png@01D95C09.DAC90B10\" alt=\"이메일 서명_50주년\"></span><span lang=\"EN-US\" style=\"color:#002060\"><o:p></o:p></span></b></p>\\r\\n<p class=\"MsoNormal\"><b><span lang=\"EN-US\" style=\"font-size:8.0pt;color:#002060\"><o:p>&nbsp;</o:p></span></b></p>\\r\\n<p class=\"MsoNormal\"><b><span style=\"font-size:8.0pt;color:#002060\">박경하<span lang=\"EN-US\"> |\\r\\n</span>고객정보전략딤당<span lang=\"EN-US\"><o:p></o:p></span></span></b></p>\\r\\n<p class=\"MsoNormal\"><b><span lang=\"EN-US\" style=\"font-size:4.0pt;color:#002060\"><o:p>&nbsp;</o:p></span></b></p>\\r\\n<p class=\"MsoNormal\"><span lang=\"EN-US\" style=\"font-size:8.0pt;color:#333333\">Office. 02-2127-9810 | Fax. 02-3675-6291 | Mobile. 010-2992-0640<o:p></o:p></span></p>\\r\\n<p class=\"MsoNormal\"><span style=\"font-size:8.0pt;color:#333333\">매일유업주식회사<span lang=\"EN-US\"> | 110-150\\r\\n</span>서울시 종로구 종로<span lang=\"EN-US\">1</span>길<span lang=\"EN-US\"> 50(</span>중학동<span lang=\"EN-US\">)\\r\\n</span>더케이트윈타워<span lang=\"EN-US\">A</span>동<span lang=\"EN-US\"> 4</span>층<span lang=\"EN-US\"><o:p></o:p></span></span></p>\\r\\n<p class=\"MsoNormal\"><span lang=\"EN-US\"><o:p>&nbsp;</o:p></span></p>\\r\\n<p class=\"MsoNormal\" align=\"left\" style=\"mso-margin-top-alt:auto;mso-margin-bottom-alt:auto;text-align:left;text-autospace:ideograph-other;word-break:keep-all\">\\r\\n<span lang=\"EN-US\" style=\"font-size:12.0pt;font-family:굴림\"><o:p>&nbsp;</o:p></span></p>\\r\\n<p class=\"msipfooter522a92b3\" align=\"right\" style=\"margin:0cm;text-align:right\"><span style=\"font-size:10.0pt;color:#737373\">매일유업</span><span style=\"font-size:10.0pt;font-family:&quot;Calibri&quot;,sans-serif;color:#737373\">\\r\\n</span><span style=\"font-size:10.0pt;color:#737373\">문서</span><span lang=\"EN-US\" style=\"font-size:10.0pt;font-family:&quot;Calibri&quot;,sans-serif;color:#737373\"> \\\\\\r\\n</span><span style=\"font-size:10.0pt;color:#737373\">일반</span><span lang=\"EN-US\" style=\"font-size:10.0pt;font-family:&quot;Calibri&quot;,sans-serif;color:#737373\">(</span><span style=\"font-size:10.0pt;color:#737373\">전체권한</span><span lang=\"EN-US\" style=\"font-size:10.0pt;font-family:&quot;Calibri&quot;,sans-serif;color:#737373\">)\\r\\n 2023-03-17 </span><span style=\"font-size:10.0pt;color:#737373\">오후</span><span lang=\"EN-US\" style=\"font-size:10.0pt;font-family:&quot;Calibri&quot;,sans-serif;color:#737373\"> 5:19</span><span lang=\"EN-US\"><o:p></o:p></span></p>\\r\\n<p class=\"MsoNormal\" align=\"left\" style=\"mso-margin-top-alt:auto;mso-margin-bottom-alt:auto;text-align:left;text-autospace:ideograph-numeric ideograph-other;word-break:keep-all\">\\r\\n<span lang=\"EN-US\" style=\"font-size:12.0pt;font-family:굴림\"><o:p>&nbsp;</o:p></span></p>\\r\\n<p class=\"msipfooterf60c54ae\" align=\"right\" style=\"margin:0cm;text-align:right\"><span style=\"font-size:10.0pt;color:#737373\">매일유업</span><span style=\"font-size:10.0pt;font-family:&quot;Calibri&quot;,sans-serif;color:#737373\">\\r\\n</span><span style=\"font-size:10.0pt;color:#737373\">문서</span><span lang=\"EN-US\" style=\"font-size:10.0pt;font-family:&quot;Calibri&quot;,sans-serif;color:#737373\"> \\\\\\r\\n</span><span style=\"font-size:10.0pt;color:#737373\">일반</span><span lang=\"EN-US\" style=\"font-size:10.0pt;font-family:&quot;Calibri&quot;,sans-serif;color:#737373\">(</span><span style=\"font-size:10.0pt;color:#737373\">전체권한</span><span lang=\"EN-US\" style=\"font-size:10.0pt;font-family:&quot;Calibri&quot;,sans-serif;color:#737373\">)\\r\\n 2023-03-21 </span><span style=\"font-size:10.0pt;color:#737373\">오후</span><span lang=\"EN-US\" style=\"font-size:10.0pt;font-family:&quot;Calibri&quot;,sans-serif;color:#737373\"> 3:28</span><span lang=\"EN-US\"><o:p></o:p></span></p>\\r\\n</div>\\r\\n<div style=\"background-color:white; border:1px dotted #003333; padding:.8em\">\\r\\n<p style=\"font-size:9pt; color:#999999; line-height:10pt; font-family:\\'Cambria\\',\\'times roman\\',serif\">\\r\\n상기 메일은 지정된 수신자만을 위한 것으로 영업기밀이 포함되어 있을 수 있습니다. 본 메일을 복사, 사용하거나 타인에게 무단 공개,배포 하는 것은 부정경쟁방지 및 영업비밀의 보호에 관한 법률로 엄격히 금지되어 있습니다. 본 메일을 잘못 수신한 경우, 발신인 또는 당사에 알려주시고, 본 메일을 즉시 삭제 하시기 바랍니다. 협조 감사합니다.\\r\\n<br>\\r\\nThis e-mail may contain trade secrets or privileged, undisclosed, or otherwise confidential information. If you have received this e-mail in error, you are hereby notified that any review, copying, or distribution of it is strictly prohibited. Please inform\\r\\n us immediately and destroy the original transmittal. Thank you for your cooperation.</p>\\r\\n</div>\\r\\n</body>\\r\\n</html>\\r\\n'"
      ]
     },
     "execution_count": 6,
     "metadata": {},
     "output_type": "execute_result"
    }
   ],
   "source": [
    "message.HTMLbody"
   ]
  },
  {
   "cell_type": "code",
   "execution_count": null,
   "id": "eba94cd9",
   "metadata": {},
   "outputs": [],
   "source": []
  },
  {
   "cell_type": "code",
   "execution_count": 33,
   "id": "8b0dba30",
   "metadata": {},
   "outputs": [],
   "source": [
    "send_mail.HTMLBody = message.HTMLbody\n",
    "\n",
    "# Attach the file\n",
    "# attachment1 = out_file\n",
    "# send_mail.Attachments.Add(Source=str(os.getcwd().replace('\\\\', '/') +'/'+ attachment1))\n",
    "\n",
    "# Display the email\n",
    "send_mail.Display(True)"
   ]
  },
  {
   "cell_type": "code",
   "execution_count": null,
   "id": "2c385a7a",
   "metadata": {},
   "outputs": [],
   "source": []
  },
  {
   "cell_type": "code",
   "execution_count": null,
   "id": "e2a6f0eb",
   "metadata": {},
   "outputs": [],
   "source": []
  },
  {
   "cell_type": "code",
   "execution_count": 2,
   "id": "9eb0886d",
   "metadata": {},
   "outputs": [],
   "source": [
    "# import os\n",
    "# os.listdir()"
   ]
  },
  {
   "cell_type": "code",
   "execution_count": 5,
   "id": "1924151c",
   "metadata": {},
   "outputs": [
    {
     "name": "stdout",
     "output_type": "stream",
     "text": [
      "C:\\Users\\MAEIL\\AppData\\Local\\Temp\\gen_py\\3.7\\00020905-0000-0000-C000-000000000046x0x8x7\\_Application.py\n"
     ]
    }
   ],
   "source": [
    "from win32com.client.gencache import EnsureDispatch\n",
    "import sys\n",
    "xl = EnsureDispatch(\"Word.Application\")\n",
    "print(sys.modules[xl.__module__].__file__)"
   ]
  },
  {
   "cell_type": "code",
   "execution_count": null,
   "id": "c8b1c299",
   "metadata": {
    "scrolled": true
   },
   "outputs": [],
   "source": []
  },
  {
   "cell_type": "code",
   "execution_count": 1,
   "id": "08550ae3",
   "metadata": {
    "scrolled": true
   },
   "outputs": [],
   "source": []
  },
  {
   "cell_type": "code",
   "execution_count": null,
   "id": "1855758c",
   "metadata": {},
   "outputs": [],
   "source": []
  },
  {
   "cell_type": "code",
   "execution_count": null,
   "id": "54557f99",
   "metadata": {},
   "outputs": [],
   "source": []
  },
  {
   "cell_type": "code",
   "execution_count": 9,
   "id": "0046b84c",
   "metadata": {},
   "outputs": [],
   "source": []
  },
  {
   "cell_type": "code",
   "execution_count": null,
   "id": "c82fb4de",
   "metadata": {},
   "outputs": [],
   "source": [
    "### dealing with pop up window\n",
    "# app.wait_cpu_usage_lower(threshold=5)\n",
    "app = Application(backend = 'uia').connect(title='Microsoft Azure Information Protection', timeout=5).wait_cpu_usage_lower(threshold=5)\n",
    "app = Application(backend = 'uia').connect(title='Microsoft Azure Information Protection').wait_cpu_usage_lower(threshold=5)\n",
    "dlg = app.window(title_re=\"Microsoft Azure Information Protection\")\n",
    "dlg.child_window(auto_id='General').click_input()\n",
    "dlg.child_window(auto_id='OkButton').click_input()"
   ]
  },
  {
   "cell_type": "code",
   "execution_count": null,
   "id": "f539478d",
   "metadata": {},
   "outputs": [],
   "source": [
    "directory_name = \"C:/Users/MAEIL/OneDrive - 매일유업/auto_send\""
   ]
  },
  {
   "cell_type": "code",
   "execution_count": null,
   "id": "fc379b03",
   "metadata": {},
   "outputs": [],
   "source": []
  },
  {
   "cell_type": "code",
   "execution_count": null,
   "id": "e1fc61d6",
   "metadata": {},
   "outputs": [],
   "source": []
  },
  {
   "cell_type": "code",
   "execution_count": null,
   "id": "f93d5482",
   "metadata": {},
   "outputs": [],
   "source": []
  },
  {
   "cell_type": "code",
   "execution_count": null,
   "id": "823aadcc",
   "metadata": {},
   "outputs": [],
   "source": []
  },
  {
   "cell_type": "code",
   "execution_count": null,
   "id": "3b76e2b9",
   "metadata": {},
   "outputs": [],
   "source": []
  },
  {
   "cell_type": "code",
   "execution_count": null,
   "id": "eac6bb7b",
   "metadata": {},
   "outputs": [],
   "source": []
  },
  {
   "cell_type": "code",
   "execution_count": null,
   "id": "cdb86653",
   "metadata": {},
   "outputs": [],
   "source": [
    "### dealing with pop up window\n",
    "app = Application(backend = 'uia').connect(title='Microsoft Azure Information Protection')\n",
    "dlg = app.window(title_re=\"Microsoft Azure Information Protection\")\n",
    "dlg.child_window(auto_id='General').click_input()\n",
    "dlg.child_window(auto_id='OkButton').click_input()"
   ]
  },
  {
   "cell_type": "code",
   "execution_count": null,
   "id": "04a5747e",
   "metadata": {},
   "outputs": [],
   "source": []
  },
  {
   "cell_type": "code",
   "execution_count": null,
   "id": "ffd3359b",
   "metadata": {
    "scrolled": false
   },
   "outputs": [],
   "source": []
  },
  {
   "cell_type": "code",
   "execution_count": null,
   "id": "cdf0b07a",
   "metadata": {},
   "outputs": [],
   "source": []
  }
 ],
 "metadata": {
  "kernelspec": {
   "display_name": "Python 3",
   "language": "python",
   "name": "python3"
  },
  "language_info": {
   "codemirror_mode": {
    "name": "ipython",
    "version": 3
   },
   "file_extension": ".py",
   "mimetype": "text/x-python",
   "name": "python",
   "nbconvert_exporter": "python",
   "pygments_lexer": "ipython3",
   "version": "3.7.6"
  }
 },
 "nbformat": 4,
 "nbformat_minor": 5
}
