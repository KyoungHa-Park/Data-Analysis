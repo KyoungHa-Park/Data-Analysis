{
 "cells": [
  {
   "cell_type": "code",
   "execution_count": null,
   "id": "b9881e74",
   "metadata": {},
   "outputs": [],
   "source": []
  },
  {
   "cell_type": "markdown",
   "id": "da5e5302",
   "metadata": {},
   "source": [
    "**주요 내용:short**\n",
    "1. 쿠폰별 사용겟수/금액(당월)\n",
    "2. 쿠폰사용 건수(일별)\n",
    "3. 매장별 쿠폰사용겟수\n",
    "4. 매장별 회원가입자수(누적)\n",
    "5. 매장별 회원가입자수(일별)\n",
    "\n",
    "\n",
    "\n",
    "---\n",
    "\n",
    "**주요 내용**\n",
    "1. 쿠폰별 사용겟수/금액(당월)\n",
    "2. 쿠폰사용 건수(일별)\n",
    "3. 매장별 쿠폰사용겟수\n",
    "4. 매장별 회원가입자수(누적)\n",
    "5. 매장별 회원가입자수(일별)\n"
   ]
  },
  {
   "cell_type": "code",
   "execution_count": null,
   "id": "768e017e",
   "metadata": {},
   "outputs": [],
   "source": []
  },
  {
   "cell_type": "code",
   "execution_count": 1,
   "id": "3f4983f8",
   "metadata": {},
   "outputs": [],
   "source": [
    "###############\n",
    "# 1. import\n",
    "#####\n",
    "\n",
    "import pandas as pd\n",
    "from datetime import datetime, timedelta\n",
    "import re\n",
    "import time \n",
    "\n",
    "# local only\n",
    "import os\n",
    "import cx_Oracle as oci\n",
    "import pandas as pd\n",
    "import matplotlib.pyplot as plt\n",
    "\n",
    "import numpy as np\n",
    "\n",
    "import matplotlib as mpl\n",
    "import matplotlib.pyplot as plt\n",
    "import matplotlib.font_manager as fm\n",
    "\n",
    "path = 'C:/windows/Fonts/malgun.ttf'                           # 폰트:맑은고딕\n",
    "font_name = fm.FontProperties(fname=path, size=24).get_name()  \n",
    "plt.rc('font', family=font_name)\n",
    "\n",
    "# import send_email as se\n",
    "from jinja2 import Template\n"
   ]
  },
  {
   "cell_type": "code",
   "execution_count": null,
   "id": "3cfa4c56",
   "metadata": {},
   "outputs": [],
   "source": []
  },
  {
   "cell_type": "code",
   "execution_count": 2,
   "id": "7409db10",
   "metadata": {},
   "outputs": [],
   "source": [
    "###############\n",
    "# 1.데이터 불러오기\n",
    "#####\n",
    "# DB접속 : 접속정보 읽기\n",
    "con_text = open(\"C:/Users/MAEIL/conn_info_MMBSHIP.txt\", 'r', encoding='utf8')\n",
    "con_text = con_text.read()\n",
    "\n",
    "# DB 접속 : 실제 접속\n",
    "conn = oci.connect(con_text[1:], encoding='UTF-8', nencoding='UTF-8')"
   ]
  },
  {
   "cell_type": "code",
   "execution_count": 3,
   "id": "af6732b2",
   "metadata": {},
   "outputs": [],
   "source": [
    "\n",
    "###############\n",
    "# 2.데이터 정렬\n",
    "#####\n",
    "query = '''select (case when B.coopco_Cd = '7060' then 'ILP' else 'CJK' end) as 브랜드\n",
    "        , (select stor_nm from mmbship.tc_afltstor where b.stor_no = stor_no) as 매장명\n",
    "        , (select cpn_nm from mmbship.tpm_cpn where A.cpn_cd = cpn_cd) as 쿠폰명\n",
    "        , apv_dt as 사용일자\n",
    "        , dc_amt as 할인금액\n",
    "        , (select tot_sel_amt from tp_trsc_ptcl where B.apv_no = apv_no) as 총결제금액\n",
    "        , 1 as 사용겟수\n",
    "        from mmbship.TPM_CPN_use B, mmbship.TPM_CPN_ISSU A \n",
    "        where A.CPN_ISSU_CD = B.CPN_ISSU_CD\n",
    "        and B.can_apv_dt is null\n",
    "        and a.cpn_st_cd ='2'\n",
    "        and coopco_Cd in (7060)\n",
    "        and to_date(apv_dt, 'YYYYMMDD') between TRUNC(sysdate,'MM') and LAST_DAY(sysdate)\n",
    "        '''\n",
    "\n",
    "df = pd.read_sql(query, con = conn )\n"
   ]
  },
  {
   "cell_type": "code",
   "execution_count": null,
   "id": "bc8e1455",
   "metadata": {},
   "outputs": [],
   "source": []
  },
  {
   "cell_type": "code",
   "execution_count": 4,
   "id": "4a356c8a",
   "metadata": {},
   "outputs": [],
   "source": [
    "###############\n",
    "# 2.데이터 정렬\n",
    "#####\n",
    "query = '''select (case when B.use_coopco_cd = '7060' then 'ILP' else 'CJK' end) as 브랜드\n",
    "            , B.cpn_nm  as 쿠폰명\n",
    "            , 1 as 쿠폰발급겟수\n",
    "            from mmbship.TPM_CPN_ISSU A,  mmbship.tpm_cpn B\n",
    "            where A.unfy_mmb_no is not null\n",
    "            and A.cpn_cd = B.cpn_cd\n",
    "            and B.use_coopco_cd = '7060'\n",
    "            and to_date(issu_dt, 'YYYYMMDD') between TRUNC(sysdate,'MM') and LAST_DAY(sysdate)\n",
    "        '''\n",
    "dft = pd.read_sql(query, con = conn )\n"
   ]
  },
  {
   "cell_type": "code",
   "execution_count": 5,
   "id": "1f116739",
   "metadata": {},
   "outputs": [],
   "source": [
    "df0 = pd.pivot_table(dft, values=['쿠폰발급겟수'], index=['브랜드', '쿠폰명'],  aggfunc=np.sum)\n",
    "df0 = df0.reset_index()"
   ]
  },
  {
   "cell_type": "code",
   "execution_count": 6,
   "id": "28d1f364",
   "metadata": {},
   "outputs": [],
   "source": [
    "# 기준 테이블 작성\n",
    "df_brand = pd.DataFrame()\n",
    "df_brand['브랜드'] = 'ILP'\n",
    "df_brand = df_brand.set_index(['브랜드'])\n",
    "\n",
    "# 1.쿠폰별 사용겟수/금액\n",
    "df1 = pd.pivot_table(df, values=['사용겟수', '할인금액', '총결제금액'], index=['브랜드', '쿠폰명'],  aggfunc=np.sum)\n",
    "df1 = df1.reset_index()"
   ]
  },
  {
   "cell_type": "code",
   "execution_count": 7,
   "id": "0ba5cd73",
   "metadata": {},
   "outputs": [],
   "source": [
    "df1 = pd.merge(df0, df1, on = ['쿠폰명','브랜드'], how = 'left' )"
   ]
  },
  {
   "cell_type": "code",
   "execution_count": 8,
   "id": "c5070960",
   "metadata": {},
   "outputs": [
    {
     "data": {
      "text/html": [
       "<div>\n",
       "<style scoped>\n",
       "    .dataframe tbody tr th:only-of-type {\n",
       "        vertical-align: middle;\n",
       "    }\n",
       "\n",
       "    .dataframe tbody tr th {\n",
       "        vertical-align: top;\n",
       "    }\n",
       "\n",
       "    .dataframe thead th {\n",
       "        text-align: right;\n",
       "    }\n",
       "</style>\n",
       "<table border=\"1\" class=\"dataframe\">\n",
       "  <thead>\n",
       "    <tr style=\"text-align: right;\">\n",
       "      <th></th>\n",
       "      <th>브랜드</th>\n",
       "      <th>쿠폰명</th>\n",
       "      <th>쿠폰발급겟수</th>\n",
       "      <th>사용겟수</th>\n",
       "      <th>총결제금액</th>\n",
       "      <th>할인금액</th>\n",
       "    </tr>\n",
       "  </thead>\n",
       "  <tbody>\n",
       "    <tr>\n",
       "      <th>0</th>\n",
       "      <td>ILP</td>\n",
       "      <td>[더키친 일뽀르노] 신규가입자 쿠폰(마르게리타 무료)</td>\n",
       "      <td>119</td>\n",
       "      <td>57.0</td>\n",
       "      <td>6083900.0</td>\n",
       "      <td>1254000.0</td>\n",
       "    </tr>\n",
       "    <tr>\n",
       "      <th>1</th>\n",
       "      <td>ILP</td>\n",
       "      <td>[더키친 일뽀르노] 재방문 쿠폰(신메뉴 20%할인)</td>\n",
       "      <td>82</td>\n",
       "      <td>6.0</td>\n",
       "      <td>647800.0</td>\n",
       "      <td>55960.0</td>\n",
       "    </tr>\n",
       "    <tr>\n",
       "      <th>2</th>\n",
       "      <td>ILP</td>\n",
       "      <td>[더키친 일뽀르노] 첫방문 쿠폰(1만원 할인)</td>\n",
       "      <td>50</td>\n",
       "      <td>NaN</td>\n",
       "      <td>NaN</td>\n",
       "      <td>NaN</td>\n",
       "    </tr>\n",
       "  </tbody>\n",
       "</table>\n",
       "</div>"
      ],
      "text/plain": [
       "   브랜드                            쿠폰명  쿠폰발급겟수  사용겟수      총결제금액       할인금액\n",
       "0  ILP  [더키친 일뽀르노] 신규가입자 쿠폰(마르게리타 무료)     119  57.0  6083900.0  1254000.0\n",
       "1  ILP   [더키친 일뽀르노] 재방문 쿠폰(신메뉴 20%할인)      82   6.0   647800.0    55960.0\n",
       "2  ILP      [더키친 일뽀르노] 첫방문 쿠폰(1만원 할인)      50   NaN        NaN        NaN"
      ]
     },
     "execution_count": 8,
     "metadata": {},
     "output_type": "execute_result"
    }
   ],
   "source": [
    "df1"
   ]
  },
  {
   "cell_type": "code",
   "execution_count": null,
   "id": "0d0e8736",
   "metadata": {},
   "outputs": [],
   "source": []
  },
  {
   "cell_type": "code",
   "execution_count": null,
   "id": "7901102f",
   "metadata": {},
   "outputs": [],
   "source": []
  },
  {
   "cell_type": "code",
   "execution_count": null,
   "id": "43399801",
   "metadata": {},
   "outputs": [],
   "source": []
  },
  {
   "cell_type": "code",
   "execution_count": null,
   "id": "1b92d43b",
   "metadata": {},
   "outputs": [],
   "source": [
    "# 2.일별 쿠폰사용 겟수\n",
    "df2 = pd.pivot_table(df, values='사용겟수', columns=['사용일자'], index=['브랜드'],  aggfunc=np.sum)\n",
    "df2 = pd.merge(df_brand, df2, left_index=True, right_on=['브랜드'], how='outer').fillna(0)\n"
   ]
  },
  {
   "cell_type": "code",
   "execution_count": 64,
   "id": "05110313",
   "metadata": {},
   "outputs": [],
   "source": [
    "from datetime import datetime, timedelta\n",
    "import pandas as pd\n",
    "import requests\n",
    "from google.cloud import bigquery\n",
    "import pandas_gbq\n",
    "from dateutil.relativedelta import relativedelta\n",
    "\n",
    "# 접속 정보 \n",
    "os.environ[\"GOOGLE_APPLICATION_CREDENTIALS\"]=\"C:/Users/MAEIL/OneDrive - 매일유업/auto_send/boxwood-chassis-356100-a2ec31483acb.json\"\n",
    "client = bigquery.Client()\n",
    "\n",
    "sql = \"\"\"select distinct FORMAT_DATETIME(\"%y/%m/%d\", tm) as REG_DTM, minTa, maxTa \n",
    "        from `boxwood-chassis-356100`.openAPI.weather_daily\n",
    "        where stnId = '108'\n",
    "        and EXTRACT(MONTH FROM tm)  = EXTRACT(MONTH FROM current_date())\"\"\"\n",
    "\n",
    "df2_tempeture = client.query(sql).to_dataframe()\n"
   ]
  },
  {
   "cell_type": "code",
   "execution_count": 68,
   "id": "59367461",
   "metadata": {},
   "outputs": [
    {
     "data": {
      "text/html": [
       "<div>\n",
       "<style scoped>\n",
       "    .dataframe tbody tr th:only-of-type {\n",
       "        vertical-align: middle;\n",
       "    }\n",
       "\n",
       "    .dataframe tbody tr th {\n",
       "        vertical-align: top;\n",
       "    }\n",
       "\n",
       "    .dataframe thead th {\n",
       "        text-align: right;\n",
       "    }\n",
       "</style>\n",
       "<table border=\"1\" class=\"dataframe\">\n",
       "  <thead>\n",
       "    <tr style=\"text-align: right;\">\n",
       "      <th></th>\n",
       "      <th>REG_DTM</th>\n",
       "      <th>minTa</th>\n",
       "      <th>maxTa</th>\n",
       "    </tr>\n",
       "  </thead>\n",
       "  <tbody>\n",
       "    <tr>\n",
       "      <th>0</th>\n",
       "      <td>23/03/04</td>\n",
       "      <td>4</td>\n",
       "      <td>14</td>\n",
       "    </tr>\n",
       "    <tr>\n",
       "      <th>1</th>\n",
       "      <td>23/03/01</td>\n",
       "      <td>3</td>\n",
       "      <td>9</td>\n",
       "    </tr>\n",
       "    <tr>\n",
       "      <th>2</th>\n",
       "      <td>23/03/02</td>\n",
       "      <td>-2</td>\n",
       "      <td>7</td>\n",
       "    </tr>\n",
       "    <tr>\n",
       "      <th>3</th>\n",
       "      <td>23/03/03</td>\n",
       "      <td>-2</td>\n",
       "      <td>10</td>\n",
       "    </tr>\n",
       "  </tbody>\n",
       "</table>\n",
       "</div>"
      ],
      "text/plain": [
       "    REG_DTM  minTa  maxTa\n",
       "0  23/03/04      4     14\n",
       "1  23/03/01      3      9\n",
       "2  23/03/02     -2      7\n",
       "3  23/03/03     -2     10"
      ]
     },
     "execution_count": 68,
     "metadata": {},
     "output_type": "execute_result"
    }
   ],
   "source": [
    "df2_tempeture"
   ]
  },
  {
   "cell_type": "code",
   "execution_count": null,
   "id": "10caaa4f",
   "metadata": {},
   "outputs": [],
   "source": []
  },
  {
   "cell_type": "code",
   "execution_count": 73,
   "id": "e4812dc0",
   "metadata": {},
   "outputs": [],
   "source": [
    "df2_ = pd.pivot_table(df2_tempeture, values=['minTa', 'maxTa'], columns=['REG_DTM'], aggfunc=np.sum)"
   ]
  },
  {
   "cell_type": "code",
   "execution_count": 74,
   "id": "fc20fd66",
   "metadata": {},
   "outputs": [
    {
     "data": {
      "text/html": [
       "<div>\n",
       "<style scoped>\n",
       "    .dataframe tbody tr th:only-of-type {\n",
       "        vertical-align: middle;\n",
       "    }\n",
       "\n",
       "    .dataframe tbody tr th {\n",
       "        vertical-align: top;\n",
       "    }\n",
       "\n",
       "    .dataframe thead th {\n",
       "        text-align: right;\n",
       "    }\n",
       "</style>\n",
       "<table border=\"1\" class=\"dataframe\">\n",
       "  <thead>\n",
       "    <tr style=\"text-align: right;\">\n",
       "      <th>REG_DTM</th>\n",
       "      <th>23/03/01</th>\n",
       "      <th>23/03/02</th>\n",
       "      <th>23/03/03</th>\n",
       "      <th>23/03/04</th>\n",
       "    </tr>\n",
       "  </thead>\n",
       "  <tbody>\n",
       "    <tr>\n",
       "      <th>maxTa</th>\n",
       "      <td>9</td>\n",
       "      <td>7</td>\n",
       "      <td>10</td>\n",
       "      <td>14</td>\n",
       "    </tr>\n",
       "    <tr>\n",
       "      <th>minTa</th>\n",
       "      <td>3</td>\n",
       "      <td>-2</td>\n",
       "      <td>-2</td>\n",
       "      <td>4</td>\n",
       "    </tr>\n",
       "  </tbody>\n",
       "</table>\n",
       "</div>"
      ],
      "text/plain": [
       "REG_DTM  23/03/01  23/03/02  23/03/03  23/03/04\n",
       "maxTa           9         7        10        14\n",
       "minTa           3        -2        -2         4"
      ]
     },
     "execution_count": 74,
     "metadata": {},
     "output_type": "execute_result"
    }
   ],
   "source": [
    "df2_"
   ]
  },
  {
   "cell_type": "code",
   "execution_count": 77,
   "id": "271e6386",
   "metadata": {},
   "outputs": [
    {
     "data": {
      "text/html": [
       "<div>\n",
       "<style scoped>\n",
       "    .dataframe tbody tr th:only-of-type {\n",
       "        vertical-align: middle;\n",
       "    }\n",
       "\n",
       "    .dataframe tbody tr th {\n",
       "        vertical-align: top;\n",
       "    }\n",
       "\n",
       "    .dataframe thead th {\n",
       "        text-align: right;\n",
       "    }\n",
       "</style>\n",
       "<table border=\"1\" class=\"dataframe\">\n",
       "  <thead>\n",
       "    <tr style=\"text-align: right;\">\n",
       "      <th></th>\n",
       "      <th>maxTa</th>\n",
       "    </tr>\n",
       "    <tr>\n",
       "      <th>REG_DTM</th>\n",
       "      <th></th>\n",
       "    </tr>\n",
       "  </thead>\n",
       "  <tbody>\n",
       "    <tr>\n",
       "      <th>23/03/01</th>\n",
       "      <td>9</td>\n",
       "    </tr>\n",
       "    <tr>\n",
       "      <th>23/03/02</th>\n",
       "      <td>7</td>\n",
       "    </tr>\n",
       "    <tr>\n",
       "      <th>23/03/03</th>\n",
       "      <td>10</td>\n",
       "    </tr>\n",
       "    <tr>\n",
       "      <th>23/03/04</th>\n",
       "      <td>14</td>\n",
       "    </tr>\n",
       "  </tbody>\n",
       "</table>\n",
       "</div>"
      ],
      "text/plain": [
       "          maxTa\n",
       "REG_DTM        \n",
       "23/03/01      9\n",
       "23/03/02      7\n",
       "23/03/03     10\n",
       "23/03/04     14"
      ]
     },
     "execution_count": 77,
     "metadata": {},
     "output_type": "execute_result"
    }
   ],
   "source": [
    "df2_.iloc[[0]].T[0:]"
   ]
  },
  {
   "cell_type": "code",
   "execution_count": 78,
   "id": "7912132c",
   "metadata": {},
   "outputs": [
    {
     "data": {
      "text/html": [
       "<div>\n",
       "<style scoped>\n",
       "    .dataframe tbody tr th:only-of-type {\n",
       "        vertical-align: middle;\n",
       "    }\n",
       "\n",
       "    .dataframe tbody tr th {\n",
       "        vertical-align: top;\n",
       "    }\n",
       "\n",
       "    .dataframe thead th {\n",
       "        text-align: right;\n",
       "    }\n",
       "</style>\n",
       "<table border=\"1\" class=\"dataframe\">\n",
       "  <thead>\n",
       "    <tr style=\"text-align: right;\">\n",
       "      <th></th>\n",
       "      <th>minTa</th>\n",
       "    </tr>\n",
       "    <tr>\n",
       "      <th>REG_DTM</th>\n",
       "      <th></th>\n",
       "    </tr>\n",
       "  </thead>\n",
       "  <tbody>\n",
       "    <tr>\n",
       "      <th>23/03/01</th>\n",
       "      <td>3</td>\n",
       "    </tr>\n",
       "    <tr>\n",
       "      <th>23/03/02</th>\n",
       "      <td>-2</td>\n",
       "    </tr>\n",
       "    <tr>\n",
       "      <th>23/03/03</th>\n",
       "      <td>-2</td>\n",
       "    </tr>\n",
       "    <tr>\n",
       "      <th>23/03/04</th>\n",
       "      <td>4</td>\n",
       "    </tr>\n",
       "  </tbody>\n",
       "</table>\n",
       "</div>"
      ],
      "text/plain": [
       "          minTa\n",
       "REG_DTM        \n",
       "23/03/01      3\n",
       "23/03/02     -2\n",
       "23/03/03     -2\n",
       "23/03/04      4"
      ]
     },
     "execution_count": 78,
     "metadata": {},
     "output_type": "execute_result"
    }
   ],
   "source": [
    "df2_.iloc[[1]].T[0:]"
   ]
  },
  {
   "cell_type": "code",
   "execution_count": null,
   "id": "b26d417a",
   "metadata": {},
   "outputs": [],
   "source": []
  },
  {
   "cell_type": "code",
   "execution_count": 79,
   "id": "80dd72de",
   "metadata": {},
   "outputs": [
    {
     "data": {
      "text/plain": [
       "Text(0.5, 1.0, '일별 쿠폰사용 추이')"
      ]
     },
     "execution_count": 79,
     "metadata": {},
     "output_type": "execute_result"
    },
    {
     "name": "stderr",
     "output_type": "stream",
     "text": [
      "C:\\Users\\MAEIL\\AppData\\Roaming\\Python\\Python37\\site-packages\\matplotlib\\backends\\backend_agg.py:211: RuntimeWarning: Glyph 8722 missing from current font.\n",
      "  font.set_text(s, 0.0, flags=flags)\n",
      "C:\\Users\\MAEIL\\AppData\\Roaming\\Python\\Python37\\site-packages\\matplotlib\\backends\\backend_agg.py:180: RuntimeWarning: Glyph 8722 missing from current font.\n",
      "  font.set_text(s, 0, flags=flags)\n"
     ]
    },
    {
     "data": {
      "image/png": "[encoded data removed]",
      "text/plain": [
       "<Figure size 720x288 with 1 Axes>"
      ]
     },
     "metadata": {},
     "output_type": "display_data"
    }
   ],
   "source": [
    "fig = plt.figure( facecolor='#eeeeee')\n",
    "plt.plot(df2_.iloc[[0]].T[0:], marker=\"s\", color = '#4a1968', markerfacecolor ='w', label='max', markersize  = 8)\n",
    "plt.plot(df2_.iloc[[1]].T[0:], marker=\"s\", color = 'red', markerfacecolor ='w', label='min', markersize  = 8)\n",
    "lgd = plt.legend(loc='upper left', bbox_to_anchor=(1, 1), fancybox=True, shadow=True, ncol=1,fontsize='large')\n",
    "plt.xticks(rotation=90)\n",
    "plt.title('일별 쿠폰사용 추이',fontsize='x-large')"
   ]
  },
  {
   "cell_type": "code",
   "execution_count": null,
   "id": "51b2bb2e",
   "metadata": {},
   "outputs": [],
   "source": []
  },
  {
   "cell_type": "code",
   "execution_count": 80,
   "id": "85dcf83f",
   "metadata": {},
   "outputs": [
    {
     "data": {
      "text/html": [
       "<div>\n",
       "<style scoped>\n",
       "    .dataframe tbody tr th:only-of-type {\n",
       "        vertical-align: middle;\n",
       "    }\n",
       "\n",
       "    .dataframe tbody tr th {\n",
       "        vertical-align: top;\n",
       "    }\n",
       "\n",
       "    .dataframe thead th {\n",
       "        text-align: right;\n",
       "    }\n",
       "</style>\n",
       "<table border=\"1\" class=\"dataframe\">\n",
       "  <thead>\n",
       "    <tr style=\"text-align: right;\">\n",
       "      <th>브랜드</th>\n",
       "      <th>ILP</th>\n",
       "    </tr>\n",
       "  </thead>\n",
       "  <tbody>\n",
       "    <tr>\n",
       "      <th>20230301</th>\n",
       "      <td>6</td>\n",
       "    </tr>\n",
       "    <tr>\n",
       "      <th>20230302</th>\n",
       "      <td>8</td>\n",
       "    </tr>\n",
       "    <tr>\n",
       "      <th>20230303</th>\n",
       "      <td>15</td>\n",
       "    </tr>\n",
       "    <tr>\n",
       "      <th>20230304</th>\n",
       "      <td>13</td>\n",
       "    </tr>\n",
       "    <tr>\n",
       "      <th>20230305</th>\n",
       "      <td>15</td>\n",
       "    </tr>\n",
       "    <tr>\n",
       "      <th>20230306</th>\n",
       "      <td>6</td>\n",
       "    </tr>\n",
       "  </tbody>\n",
       "</table>\n",
       "</div>"
      ],
      "text/plain": [
       "브랜드       ILP\n",
       "20230301    6\n",
       "20230302    8\n",
       "20230303   15\n",
       "20230304   13\n",
       "20230305   15\n",
       "20230306    6"
      ]
     },
     "execution_count": 80,
     "metadata": {},
     "output_type": "execute_result"
    }
   ],
   "source": [
    "df2.iloc[[0]].T[0:]"
   ]
  },
  {
   "cell_type": "code",
   "execution_count": 9,
   "id": "9bf00a16",
   "metadata": {},
   "outputs": [
    {
     "data": {
      "image/png": "[encoded data removed]",
      "text/plain": [
       "<Figure size 720x288 with 1 Axes>"
      ]
     },
     "metadata": {},
     "output_type": "display_data"
    }
   ],
   "source": [
    "\n",
    "date2 = datetime.today().strftime('%Y%m%d')\n",
    "image_name = date2[2:] +'_ILP_graph.png'\n",
    "\n",
    "mpl.rc('figure', figsize=(10, 4))\n",
    "fig = plt.figure( facecolor='#eeeeee')\n",
    "plt.plot(df2.iloc[[0]].T[0:], marker=\"s\", color = '#4a1968', markerfacecolor ='w', label='크리스탈 제이드', markersize  = 8)\n",
    "lgd = plt.legend(loc='upper left', bbox_to_anchor=(1, 1), fancybox=True, shadow=True, ncol=1,fontsize='large')\n",
    "plt.xticks(rotation=90)\n",
    "plt.title('일별 쿠폰사용 추이',fontsize='x-large')\n",
    "\n",
    "plt.savefig(image_name, bbox_extra_artists=(lgd,), bbox_inches='tight', dpi=70)\n"
   ]
  },
  {
   "cell_type": "code",
   "execution_count": 10,
   "id": "e6b0db88",
   "metadata": {},
   "outputs": [],
   "source": [
    "# 3.매장별 쿠폰사용 겟수\n",
    "df3 = pd.pivot_table(df, values=['사용겟수'], index=['브랜드', '매장명'],  aggfunc=np.sum)\n",
    "pd.options.display.float_format = '{:0,.0f}'.format"
   ]
  },
  {
   "cell_type": "code",
   "execution_count": null,
   "id": "ee49d6f6",
   "metadata": {},
   "outputs": [],
   "source": []
  },
  {
   "cell_type": "code",
   "execution_count": null,
   "id": "5ead2cbd",
   "metadata": {},
   "outputs": [],
   "source": []
  },
  {
   "cell_type": "code",
   "execution_count": 11,
   "id": "6dc70529",
   "metadata": {},
   "outputs": [],
   "source": [
    "# 4.매장별 회원가입자수(합계)\n",
    "query = '''\n",
    "        select trunc(reg_dtm) as reg_dtm\n",
    "        , (case when ntry_path = '7061' then '청담점' \n",
    "                when ntry_path = '7062' then '광화문점' \n",
    "                when ntry_path = '7063' then '신세계 강남점' \n",
    "                when ntry_path = '7064' then '신세계 대구점' \n",
    "                when ntry_path = '7065' then '신세계 센텀점' \n",
    "                when ntry_path = '7066' then '용인 에버랜드점' \n",
    "                when ntry_path = '7067' then '역삼 센터필드점'\n",
    "            else '' end) as 매장명\n",
    "        , count(*) as 회원가입\n",
    "        from tm_mmb_info\n",
    "        where ntry_path in ('7061', '7062', '7063', '7064', '7065', '7066', '7067')\n",
    "        group by trunc(reg_dtm), ntry_path\n",
    "        '''\n",
    "df_member = pd.read_sql(query, con = conn )\n",
    "df4 = pd.DataFrame(df_member.groupby('매장명')['회원가입'].sum()).reset_index()\n"
   ]
  },
  {
   "cell_type": "code",
   "execution_count": 8,
   "id": "63c64fb2",
   "metadata": {},
   "outputs": [
    {
     "data": {
      "text/html": [
       "<div>\n",
       "<style scoped>\n",
       "    .dataframe tbody tr th:only-of-type {\n",
       "        vertical-align: middle;\n",
       "    }\n",
       "\n",
       "    .dataframe tbody tr th {\n",
       "        vertical-align: top;\n",
       "    }\n",
       "\n",
       "    .dataframe thead th {\n",
       "        text-align: right;\n",
       "    }\n",
       "</style>\n",
       "<table border=\"1\" class=\"dataframe\">\n",
       "  <thead>\n",
       "    <tr style=\"text-align: right;\">\n",
       "      <th></th>\n",
       "      <th>매장명</th>\n",
       "      <th>회원가입</th>\n",
       "    </tr>\n",
       "  </thead>\n",
       "  <tbody>\n",
       "    <tr>\n",
       "      <th>0</th>\n",
       "      <td>광화문점</td>\n",
       "      <td>7</td>\n",
       "    </tr>\n",
       "    <tr>\n",
       "      <th>1</th>\n",
       "      <td>신세계 강남점</td>\n",
       "      <td>5</td>\n",
       "    </tr>\n",
       "    <tr>\n",
       "      <th>2</th>\n",
       "      <td>신세계 센텀점</td>\n",
       "      <td>5</td>\n",
       "    </tr>\n",
       "    <tr>\n",
       "      <th>3</th>\n",
       "      <td>역삼 센터필드점</td>\n",
       "      <td>1</td>\n",
       "    </tr>\n",
       "    <tr>\n",
       "      <th>4</th>\n",
       "      <td>용인 에버랜드점</td>\n",
       "      <td>2</td>\n",
       "    </tr>\n",
       "    <tr>\n",
       "      <th>5</th>\n",
       "      <td>청담점</td>\n",
       "      <td>13</td>\n",
       "    </tr>\n",
       "  </tbody>\n",
       "</table>\n",
       "</div>"
      ],
      "text/plain": [
       "        매장명  회원가입\n",
       "0      광화문점     7\n",
       "1   신세계 강남점     5\n",
       "2   신세계 센텀점     5\n",
       "3  역삼 센터필드점     1\n",
       "4  용인 에버랜드점     2\n",
       "5       청담점    13"
      ]
     },
     "execution_count": 8,
     "metadata": {},
     "output_type": "execute_result"
    }
   ],
   "source": [
    "df4"
   ]
  },
  {
   "cell_type": "code",
   "execution_count": null,
   "id": "ff83a02a",
   "metadata": {},
   "outputs": [],
   "source": []
  },
  {
   "cell_type": "code",
   "execution_count": 21,
   "id": "2edb69c9",
   "metadata": {},
   "outputs": [],
   "source": [
    "# 4.매장별 회원가입자수(합계)\n",
    "query = '''\n",
    "        /*쿠폰 유형별 발급 현황*/\n",
    "        select M.cpn_NM, trunc(C.upd_dtm) as 발급일자, 1 as CNT\n",
    "        from tpm_cpn_issu C, tpm_cpn M\n",
    "        where C.cpn_cd = M.cpn_cd\n",
    "        and C.unfy_mmb_no is not null\n",
    "        and M.use_coopco_cd = 7060\n",
    "        and to_char(C.upd_dtm , 'YYYYMM') = to_char(sysdate, 'YYYYMM')\n",
    "        '''\n",
    "df_coupon = pd.read_sql(query, con = conn )\n"
   ]
  },
  {
   "cell_type": "code",
   "execution_count": 22,
   "id": "70636e15",
   "metadata": {},
   "outputs": [
    {
     "data": {
      "text/html": [
       "<div>\n",
       "<style scoped>\n",
       "    .dataframe tbody tr th:only-of-type {\n",
       "        vertical-align: middle;\n",
       "    }\n",
       "\n",
       "    .dataframe tbody tr th {\n",
       "        vertical-align: top;\n",
       "    }\n",
       "\n",
       "    .dataframe thead th {\n",
       "        text-align: right;\n",
       "    }\n",
       "</style>\n",
       "<table border=\"1\" class=\"dataframe\">\n",
       "  <thead>\n",
       "    <tr style=\"text-align: right;\">\n",
       "      <th></th>\n",
       "      <th>CPN_NM</th>\n",
       "      <th>발급일자</th>\n",
       "      <th>CNT</th>\n",
       "    </tr>\n",
       "  </thead>\n",
       "  <tbody>\n",
       "    <tr>\n",
       "      <th>408</th>\n",
       "      <td>[더키친 일뽀르노] 재방문 쿠폰(신메뉴 20%할인)</td>\n",
       "      <td>2023-02-09</td>\n",
       "      <td>1</td>\n",
       "    </tr>\n",
       "    <tr>\n",
       "      <th>409</th>\n",
       "      <td>[더키친 일뽀르노] 재방문 쿠폰(신메뉴 20%할인)</td>\n",
       "      <td>2023-02-09</td>\n",
       "      <td>1</td>\n",
       "    </tr>\n",
       "  </tbody>\n",
       "</table>\n",
       "</div>"
      ],
      "text/plain": [
       "                           CPN_NM       발급일자  CNT\n",
       "408  [더키친 일뽀르노] 재방문 쿠폰(신메뉴 20%할인) 2023-02-09    1\n",
       "409  [더키친 일뽀르노] 재방문 쿠폰(신메뉴 20%할인) 2023-02-09    1"
      ]
     },
     "execution_count": 22,
     "metadata": {},
     "output_type": "execute_result"
    }
   ],
   "source": [
    "df_coupon.tail(2)"
   ]
  },
  {
   "cell_type": "code",
   "execution_count": 25,
   "id": "fa9b7c8a",
   "metadata": {},
   "outputs": [],
   "source": [
    "df5 = pd.pivot_table(df_coupon, values = 'CNT', columns=['CPN_NM'], index=['발급일자'],  aggfunc='count')\n"
   ]
  },
  {
   "cell_type": "code",
   "execution_count": 28,
   "id": "ddce1be4",
   "metadata": {},
   "outputs": [
    {
     "data": {
      "text/plain": [
       "Index(['[더키친 일뽀르노] 신규가입자 쿠폰(마르게리타 무료)', '[더키친 일뽀르노] 재방문 쿠폰(신메뉴 20%할인)',\n",
       "       '[더키친 일뽀르노] 첫방문 쿠폰(1만원 할인)'],\n",
       "      dtype='object', name='CPN_NM')"
      ]
     },
     "execution_count": 28,
     "metadata": {},
     "output_type": "execute_result"
    }
   ],
   "source": [
    "df5.columns"
   ]
  },
  {
   "cell_type": "code",
   "execution_count": 67,
   "id": "7783b6bc",
   "metadata": {},
   "outputs": [
    {
     "data": {
      "image/png": "[encoded data removed]",
      "text/plain": [
       "<Figure size 720x288 with 1 Axes>"
      ]
     },
     "metadata": {},
     "output_type": "display_data"
    }
   ],
   "source": [
    "fig = plt.figure( facecolor='#eeeeee')\n",
    "plt.plot(df5,'o-',  label=df5.columns )\n",
    "plt.legend(list(df5.columns), loc='upper right', bbox_to_anchor=(1.65, 1), fancybox=True, shadow=True, ncol=1,fontsize='large')\n",
    "plt.xticks(rotation=90)\n",
    "plt.title('일별 쿠폰사용 추이',fontsize='x-large')\n",
    "plt.show()"
   ]
  },
  {
   "cell_type": "code",
   "execution_count": null,
   "id": "a054e448",
   "metadata": {},
   "outputs": [],
   "source": []
  },
  {
   "cell_type": "code",
   "execution_count": 9,
   "id": "a5f0c90a",
   "metadata": {},
   "outputs": [],
   "source": [
    "###############\n",
    "# 3.이메일 발송\n",
    "#####\n",
    "\n",
    "# 이미지 파일 조작\n",
    "import io\n",
    "import base64\n",
    "from PIL import Image\n",
    "\n",
    "# 이미지 파일을 엽니다.\n",
    "img = Image.open(\"./\"+ image_name)\n",
    "\n",
    "# 스트림에 이미지 데이터를 저장합니다.\n",
    "bytearr = io.BytesIO()\n",
    "img.save(bytearr, format=\"png\")\n",
    "\n",
    "# 이미지 바이너리를 읽고 base64로 인코딩합니다.\n",
    "imgbytearr = bytearr.getvalue()\n",
    "encoded_image = base64.b64encode(imgbytearr).decode(\"utf-8\")\n",
    "\n",
    "# 이미지 파일 삭제\n",
    "os.remove(\"./\"+ image_name)\n"
   ]
  },
  {
   "cell_type": "code",
   "execution_count": null,
   "id": "f4ca8fe9",
   "metadata": {},
   "outputs": [],
   "source": []
  },
  {
   "cell_type": "code",
   "execution_count": 11,
   "id": "6a7dad91",
   "metadata": {},
   "outputs": [],
   "source": [
    "# 이메일 양식(내용) frame 구성하기\n",
    "message_tmpl=\"\"\"\n",
    "<html>\n",
    "    <!DOCTYPE html>\n",
    "    <html>\n",
    "    <head lang =\"ko\">\n",
    "      <meta charset =\"UTF-8\">\n",
    "      <title>{{title1}}</title>\n",
    "    </head>\n",
    "    <style type=\"text/css\">\n",
    "        table, th, td {\n",
    "            font-size: 8pt;\n",
    "            border-collapse: collapse;\n",
    "            font-family: Malgun Gothic;\n",
    "            white-space: nowrap;\n",
    "            border: 1px solid #bcbcbc;\n",
    "            }\n",
    "        thead tr {\n",
    "            background-color: #0d47a1;\n",
    "            color: #ffffff;\n",
    "            }\n",
    "    </STYLE>\n",
    "    <BODY style=\"FONT-SIZE: 10pt; font-family: Malgun Gothic\">\n",
    "    안녕하세요,<br>\n",
    "    <br>\n",
    "    {{send_date}}일 기준, 일뽀르노 브랜드별 쿠폰사용 내용 공유드립니다.<br>\n",
    "    <br>\n",
    "    <b>1. 당월 쿠폰운영 List </b><br>\n",
    "    {{ df1_html }}<br>\n",
    "    <b>2. 일별 쿠폰사용 추이</b><br>\n",
    "    <img src=\"data:image/png;base64,{{encoded_image}}\"/><br>\n",
    "    <br>\n",
    "    <b>3. 매장별 쿠폰 사용 현황</b><br>\n",
    "    {{ df3_html }}<br>\n",
    "    <br>\n",
    "    <SPAN style=\"COLOR: #808080\">{{add_text1}}</SPAN><br>\n",
    "    <SPAN style=\"COLOR: #808080\">{{add_text2}}</SPAN><br>\n",
    "    <br>\n",
    "    감사합니다.<br>\n",
    "    <br>\n",
    "    </BODY>\n",
    "</html>\"\"\"\n",
    "\n",
    "# 이메일 양식(내용) 변동 내용 정의\n",
    "render_data = {\n",
    "    'send_date' : (datetime.today()).strftime('%Y-%m-%d'),\n",
    "    'df1_html' : df1.to_html(),\n",
    "    'df3_html' : df3.to_html(),\n",
    "    'encoded_image' : encoded_image,\n",
    "    'add_text1' : \"*  본 메일은 발신전용입니다.\",\n",
    "    'add_text2' : \"** (내용/기술문의 : 고객정보전략담당, 박경하 )\"\n",
    "}\n",
    "\n",
    "t= Template(message_tmpl)\n",
    "html_report = t.render(render_data)\n"
   ]
  },
  {
   "cell_type": "code",
   "execution_count": null,
   "id": "56f89e72",
   "metadata": {},
   "outputs": [],
   "source": []
  },
  {
   "cell_type": "code",
   "execution_count": 13,
   "id": "3d66e63a",
   "metadata": {},
   "outputs": [],
   "source": [
    "\n",
    "\n",
    "# 발송 변수 설정\n",
    "\n",
    "to_users = 'junlee@maeil.com; jmseo@maeil.com; sijung@maeil.com;'\n",
    "to_cc = 'khpark@maeil.com; mj@maeil.com; yhkee@maeil.com'\n",
    "\n",
    "\n",
    "# 메일제목\n",
    "now = datetime.today()    # 현재\n",
    "date = now.strftime('%Y%m%d')\n",
    "\n",
    "subject = \"[자동발송] 일뽀르노 쿠폰사용 현황_v2\"\n",
    "\n",
    "# 본문\n",
    "html = html_report\n",
    "\n",
    "# 첨부파일 추가\n",
    "attach = None\n",
    "\n",
    "\n",
    "#메일 발송\n",
    "import win32com.client\n",
    "\n",
    "outlook = win32com.client.Dispatch(\"Outlook.Application\")\n",
    "send_mail = outlook.CreateItem(0)\n",
    "\n",
    "send_mail.To = to_users #메일 수신인\n",
    "send_mail.CC = to_cc #메일 수신인\n",
    "\n",
    "send_mail.Subject = subject #메일 제목\n",
    "send_mail.HTMLBody =html_report\n",
    "# if attach:\n",
    "#     for file in attach:\n",
    "#         new_Mail.Attachments.Add(attach)\n",
    " \n",
    "# send_mail.Send()\n",
    "send_mail.Display(True)\n",
    "\n"
   ]
  },
  {
   "cell_type": "code",
   "execution_count": null,
   "id": "555e7b9d",
   "metadata": {},
   "outputs": [],
   "source": []
  },
  {
   "cell_type": "code",
   "execution_count": 149,
   "id": "df95f5f4",
   "metadata": {},
   "outputs": [],
   "source": [
    "###############\n",
    "# 4.매장별 회원가입자수(합계)\n",
    "#####\n",
    "query = '''\n",
    "        select trunc(reg_dtm) as 일자\n",
    "        , unfy_mmb_no\n",
    "        , (case when ntry_path = '7061' then '청담점' \n",
    "                when ntry_path = '7062' then '광화문점' \n",
    "                when ntry_path = '7063' then '신세계 강남점' \n",
    "                when ntry_path = '7064' then '신세계 대구점' \n",
    "                when ntry_path = '7065' then '신세계 센텀점' \n",
    "                when ntry_path = '7066' then '용인 에버랜드점' \n",
    "                when ntry_path = '7067' then '역삼 센터필드점'\n",
    "            else '' end) as 매장명\n",
    "        , count(*) as 회원가입자수\n",
    "        from tm_mmb_info\n",
    "        where ntry_path in ('7061', '7062', '7063', '7064', '7065', '7066', '7067')\n",
    "        and unfy_mmb_no not in ('6768277', '6768289', '6768311', '6768345', '4264108', '6756977')\n",
    "        group by trunc(reg_dtm), unfy_mmb_no, ntry_path\n",
    "        '''\n",
    "df_member = pd.read_sql(query, con = conn )"
   ]
  },
  {
   "cell_type": "code",
   "execution_count": 135,
   "id": "bfa16dd4",
   "metadata": {},
   "outputs": [],
   "source": []
  },
  {
   "cell_type": "code",
   "execution_count": 136,
   "id": "a1280a0a",
   "metadata": {},
   "outputs": [],
   "source": []
  },
  {
   "cell_type": "code",
   "execution_count": null,
   "id": "b808c7db",
   "metadata": {},
   "outputs": [],
   "source": []
  },
  {
   "cell_type": "code",
   "execution_count": 116,
   "id": "6194edca",
   "metadata": {},
   "outputs": [],
   "source": []
  },
  {
   "cell_type": "code",
   "execution_count": null,
   "id": "34417930",
   "metadata": {},
   "outputs": [],
   "source": []
  },
  {
   "cell_type": "code",
   "execution_count": null,
   "id": "4c823fef",
   "metadata": {},
   "outputs": [],
   "source": []
  },
  {
   "cell_type": "markdown",
   "id": "e07eb353",
   "metadata": {},
   "source": [
    "## 1.일별 쿠폰사용+회원가입 현황"
   ]
  },
  {
   "cell_type": "code",
   "execution_count": 32,
   "id": "72c36bb6",
   "metadata": {},
   "outputs": [],
   "source": [
    "date_start = pd.to_datetime(datetime.today()) - pd.offsets.MonthEnd(1)\n",
    "date_end = pd.to_datetime(datetime.today(), format='%Y.%m') + pd.offsets.MonthEnd(0)\n",
    "date2 = datetime.today().strftime('%Y%m%d')\n",
    "\n",
    "datelist = pd.date_range(start=date_start,end=date_end, freq='D', normalize = True).tolist()"
   ]
  },
  {
   "cell_type": "code",
   "execution_count": null,
   "id": "35898578",
   "metadata": {},
   "outputs": [],
   "source": [
    "report01 = pd.DataFrame()\n",
    "report01['일자']= datelist[1:]"
   ]
  },
  {
   "cell_type": "code",
   "execution_count": 150,
   "id": "61fa260e",
   "metadata": {},
   "outputs": [],
   "source": [
    "df1_temp = pd.pivot_table(df_coupon, values='쿠폰사용겟수', index=['일자'],  aggfunc=np.sum).reset_index()\n",
    "df2_temp = pd.pivot_table(df_member, values='회원가입자수', index=['일자'],  aggfunc=np.sum).reset_index()"
   ]
  },
  {
   "cell_type": "code",
   "execution_count": null,
   "id": "89783a28",
   "metadata": {},
   "outputs": [],
   "source": []
  },
  {
   "cell_type": "code",
   "execution_count": 151,
   "id": "18806be0",
   "metadata": {},
   "outputs": [],
   "source": [
    "report01 = pd.merge(report01, df1_temp, on = '일자', how = 'left')\n",
    "report01 = pd.merge(report01, df2_temp, on = '일자', how = 'left')"
   ]
  },
  {
   "cell_type": "code",
   "execution_count": null,
   "id": "5e62a9e8",
   "metadata": {},
   "outputs": [],
   "source": []
  },
  {
   "cell_type": "code",
   "execution_count": null,
   "id": "05168a46",
   "metadata": {},
   "outputs": [],
   "source": []
  },
  {
   "cell_type": "code",
   "execution_count": 176,
   "id": "3d82d09a",
   "metadata": {},
   "outputs": [
    {
     "name": "stderr",
     "output_type": "stream",
     "text": [
      "C:\\Users\\MAEIL\\AppData\\Roaming\\Python\\Python37\\site-packages\\matplotlib\\cbook\\__init__.py:1402: FutureWarning: Support for multi-dimensional indexing (e.g. `obj[:, None]`) is deprecated and will be removed in a future version.  Convert to a numpy array before indexing instead.\n",
      "  x[:, None]\n",
      "C:\\Users\\MAEIL\\AppData\\Roaming\\Python\\Python37\\site-packages\\matplotlib\\axes\\_base.py:276: FutureWarning: Support for multi-dimensional indexing (e.g. `obj[:, None]`) is deprecated and will be removed in a future version.  Convert to a numpy array before indexing instead.\n",
      "  x = x[:, np.newaxis]\n",
      "C:\\Users\\MAEIL\\AppData\\Roaming\\Python\\Python37\\site-packages\\matplotlib\\axes\\_base.py:278: FutureWarning: Support for multi-dimensional indexing (e.g. `obj[:, None]`) is deprecated and will be removed in a future version.  Convert to a numpy array before indexing instead.\n",
      "  y = y[:, np.newaxis]\n",
      "C:\\Users\\MAEIL\\AppData\\Roaming\\Python\\Python37\\site-packages\\matplotlib\\cbook\\__init__.py:1402: FutureWarning: Support for multi-dimensional indexing (e.g. `obj[:, None]`) is deprecated and will be removed in a future version.  Convert to a numpy array before indexing instead.\n",
      "  x[:, None]\n",
      "C:\\Users\\MAEIL\\AppData\\Roaming\\Python\\Python37\\site-packages\\matplotlib\\axes\\_base.py:276: FutureWarning: Support for multi-dimensional indexing (e.g. `obj[:, None]`) is deprecated and will be removed in a future version.  Convert to a numpy array before indexing instead.\n",
      "  x = x[:, np.newaxis]\n",
      "C:\\Users\\MAEIL\\AppData\\Roaming\\Python\\Python37\\site-packages\\matplotlib\\axes\\_base.py:278: FutureWarning: Support for multi-dimensional indexing (e.g. `obj[:, None]`) is deprecated and will be removed in a future version.  Convert to a numpy array before indexing instead.\n",
      "  y = y[:, np.newaxis]\n"
     ]
    },
    {
     "data": {
      "image/png": "[encoded data removed]",
      "text/plain": [
       "<Figure size 720x288 with 1 Axes>"
      ]
     },
     "metadata": {
      "needs_background": "light"
     },
     "output_type": "display_data"
    }
   ],
   "source": [
    "plt.plot(report01['일자'], report01['쿠폰사용겟수'].fillna(0),  )\n",
    "plt.plot(report01['일자'], report01['회원가입자수'].fillna(0),  )\n",
    "plt.show()"
   ]
  },
  {
   "cell_type": "code",
   "execution_count": null,
   "id": "47e3bdec",
   "metadata": {},
   "outputs": [],
   "source": []
  },
  {
   "cell_type": "code",
   "execution_count": null,
   "id": "d645be71",
   "metadata": {},
   "outputs": [],
   "source": []
  },
  {
   "cell_type": "code",
   "execution_count": 34,
   "id": "c18ebdca",
   "metadata": {},
   "outputs": [
    {
     "data": {
      "image/png": "[encoded data removed]",
      "text/plain": [
       "<Figure size 720x288 with 1 Axes>"
      ]
     },
     "metadata": {},
     "output_type": "display_data"
    }
   ],
   "source": [
    "date2 = datetime.today().strftime('%Y%m%d')\n",
    "image_name = date2[2:] +'_ILP_graph.png'\n",
    "\n",
    "mpl.rc('figure', figsize=(10, 4))\n",
    "fig = plt.figure( facecolor='#eeeeee')\n",
    "plt.plot(df2.iloc[[0]].T[0:], marker=\"s\", color = '#207191', markerfacecolor ='w', label='더키친 일뽀르노', markersize  = 8)\n",
    "lgd = plt.legend(loc='upper left', bbox_to_anchor=(1, 1), fancybox=True, shadow=True, ncol=1,fontsize='large')\n",
    "plt.xticks(rotation=90)\n",
    "plt.title('일별 쿠폰사용 추이',fontsize='x-large')\n",
    "# plt.savefig(image_name, bbox_extra_artists=(lgd,), bbox_inches='tight', dpi=70)\n",
    "plt.show()"
   ]
  },
  {
   "cell_type": "code",
   "execution_count": 69,
   "id": "04782fad",
   "metadata": {},
   "outputs": [
    {
     "data": {
      "text/html": [
       "<div>\n",
       "<style scoped>\n",
       "    .dataframe tbody tr th:only-of-type {\n",
       "        vertical-align: middle;\n",
       "    }\n",
       "\n",
       "    .dataframe tbody tr th {\n",
       "        vertical-align: top;\n",
       "    }\n",
       "\n",
       "    .dataframe thead th {\n",
       "        text-align: right;\n",
       "    }\n",
       "</style>\n",
       "<table border=\"1\" class=\"dataframe\">\n",
       "  <thead>\n",
       "    <tr style=\"text-align: right;\">\n",
       "      <th></th>\n",
       "      <th>20230204</th>\n",
       "    </tr>\n",
       "    <tr>\n",
       "      <th>브랜드</th>\n",
       "      <th></th>\n",
       "    </tr>\n",
       "  </thead>\n",
       "  <tbody>\n",
       "    <tr>\n",
       "      <th>ILP</th>\n",
       "      <td>1</td>\n",
       "    </tr>\n",
       "  </tbody>\n",
       "</table>\n",
       "</div>"
      ],
      "text/plain": [
       "     20230204\n",
       "브랜드          \n",
       "ILP         1"
      ]
     },
     "execution_count": 69,
     "metadata": {},
     "output_type": "execute_result"
    }
   ],
   "source": [
    "df2"
   ]
  },
  {
   "cell_type": "code",
   "execution_count": null,
   "id": "cc4768db",
   "metadata": {},
   "outputs": [],
   "source": []
  },
  {
   "cell_type": "code",
   "execution_count": null,
   "id": "2a9c3f5b",
   "metadata": {},
   "outputs": [],
   "source": []
  },
  {
   "cell_type": "code",
   "execution_count": null,
   "id": "d87d9bf1",
   "metadata": {},
   "outputs": [],
   "source": []
  },
  {
   "cell_type": "code",
   "execution_count": 16,
   "id": "ea1f65d2",
   "metadata": {},
   "outputs": [],
   "source": [
    "###############\n",
    "# 2. 쿠폰 발급/사용(누적)\n",
    "#####\n",
    "query = '''\n",
    "        select I.cpn_cd, M.cpn_nm as \"쿠폰명\", '쿠폰발급' as gubun, count(*) AS CNT\n",
    "        from  tpm_cpn_issu I, tpm_cpn M\n",
    "        where I.cpn_cd in ( 'CP230125003', 'CP230125002', 'CP230125001' )\n",
    "        and I.cpn_cd = M.cpn_Cd\n",
    "        and I.unfy_mmb_no is not null\n",
    "        and I.unfy_mmb_no not in ('6768277', '6768289', '6768311', '6768345', '4264108', '6756977')\n",
    "        group by I.cpn_cd, M.cpn_nm\n",
    "        union all\n",
    "        select I.cpn_cd, M.cpn_nm as \"쿠폰명\", '쿠폰사용' AS gubun , count(*) CNT from  tpm_cpn_issu I, tpm_cpn M\n",
    "        where I.cpn_cd in ( 'CP230125003', 'CP230125002', 'CP230125001' )\n",
    "        and I.cpn_cd = M.cpn_Cd\n",
    "        and I.cpn_st_Cd = '2' and I.can_apv_no is null\n",
    "        group by I.cpn_cd, M.cpn_nm\n",
    "        '''\n",
    "df_coupon_all = pd.read_sql(query, con = conn )\n",
    "\n",
    "report_02 = pd.pivot_table(df_coupon_all, values='CNT', columns =['GUBUN'], index=['쿠폰명'],  aggfunc=np.sum).reset_index()\n",
    "report_02 = report_02[['쿠폰명','쿠폰발급','쿠폰사용']].fillna(0)"
   ]
  },
  {
   "cell_type": "code",
   "execution_count": 18,
   "id": "dc3966b1",
   "metadata": {},
   "outputs": [
    {
     "data": {
      "text/html": [
       "<div>\n",
       "<style scoped>\n",
       "    .dataframe tbody tr th:only-of-type {\n",
       "        vertical-align: middle;\n",
       "    }\n",
       "\n",
       "    .dataframe tbody tr th {\n",
       "        vertical-align: top;\n",
       "    }\n",
       "\n",
       "    .dataframe thead th {\n",
       "        text-align: right;\n",
       "    }\n",
       "</style>\n",
       "<table border=\"1\" class=\"dataframe\">\n",
       "  <thead>\n",
       "    <tr style=\"text-align: right;\">\n",
       "      <th>GUBUN</th>\n",
       "      <th>쿠폰명</th>\n",
       "      <th>쿠폰발급</th>\n",
       "      <th>쿠폰사용</th>\n",
       "    </tr>\n",
       "  </thead>\n",
       "  <tbody>\n",
       "    <tr>\n",
       "      <th>0</th>\n",
       "      <td>[더키친 일뽀르노] 신규가입자 쿠폰(마르게리타 무료)</td>\n",
       "      <td>6</td>\n",
       "      <td>0</td>\n",
       "    </tr>\n",
       "    <tr>\n",
       "      <th>1</th>\n",
       "      <td>[더키친 일뽀르노] 재방문 쿠폰(신메뉴 20%할인)</td>\n",
       "      <td>50</td>\n",
       "      <td>1</td>\n",
       "    </tr>\n",
       "    <tr>\n",
       "      <th>2</th>\n",
       "      <td>[더키친 일뽀르노] 첫방문 쿠폰(1만원 할인)</td>\n",
       "      <td>274</td>\n",
       "      <td>0</td>\n",
       "    </tr>\n",
       "  </tbody>\n",
       "</table>\n",
       "</div>"
      ],
      "text/plain": [
       "GUBUN                            쿠폰명  쿠폰발급  쿠폰사용\n",
       "0      [더키친 일뽀르노] 신규가입자 쿠폰(마르게리타 무료)     6     0\n",
       "1       [더키친 일뽀르노] 재방문 쿠폰(신메뉴 20%할인)    50     1\n",
       "2          [더키친 일뽀르노] 첫방문 쿠폰(1만원 할인)   274     0"
      ]
     },
     "execution_count": 18,
     "metadata": {},
     "output_type": "execute_result"
    }
   ],
   "source": [
    "report_02"
   ]
  },
  {
   "cell_type": "code",
   "execution_count": 193,
   "id": "a3902ac9",
   "metadata": {},
   "outputs": [],
   "source": []
  },
  {
   "cell_type": "code",
   "execution_count": null,
   "id": "82e0d616",
   "metadata": {},
   "outputs": [],
   "source": []
  },
  {
   "cell_type": "code",
   "execution_count": null,
   "id": "16dc1c2f",
   "metadata": {},
   "outputs": [],
   "source": []
  },
  {
   "cell_type": "markdown",
   "id": "fb61fa8a",
   "metadata": {},
   "source": [
    "## 3.회원 가입자 수"
   ]
  },
  {
   "cell_type": "code",
   "execution_count": 62,
   "id": "209bf4c7",
   "metadata": {},
   "outputs": [],
   "source": []
  },
  {
   "cell_type": "code",
   "execution_count": 61,
   "id": "8a0c99e1",
   "metadata": {},
   "outputs": [
    {
     "data": {
      "text/html": [
       "<div>\n",
       "<style scoped>\n",
       "    .dataframe tbody tr th:only-of-type {\n",
       "        vertical-align: middle;\n",
       "    }\n",
       "\n",
       "    .dataframe tbody tr th {\n",
       "        vertical-align: top;\n",
       "    }\n",
       "\n",
       "    .dataframe thead th {\n",
       "        text-align: right;\n",
       "    }\n",
       "</style>\n",
       "<table border=\"1\" class=\"dataframe\">\n",
       "  <thead>\n",
       "    <tr style=\"text-align: right;\">\n",
       "      <th></th>\n",
       "      <th>REG_DTM</th>\n",
       "      <th>UNFY_MMB_NO</th>\n",
       "      <th>매장명</th>\n",
       "      <th>회원가입</th>\n",
       "    </tr>\n",
       "  </thead>\n",
       "  <tbody>\n",
       "    <tr>\n",
       "      <th>5</th>\n",
       "      <td>2023-02-04</td>\n",
       "      <td>6783264</td>\n",
       "      <td>광화문점</td>\n",
       "      <td>1</td>\n",
       "    </tr>\n",
       "    <tr>\n",
       "      <th>6</th>\n",
       "      <td>2023-02-05</td>\n",
       "      <td>6783775</td>\n",
       "      <td>용인 에버랜드점</td>\n",
       "      <td>1</td>\n",
       "    </tr>\n",
       "  </tbody>\n",
       "</table>\n",
       "</div>"
      ],
      "text/plain": [
       "     REG_DTM  UNFY_MMB_NO       매장명  회원가입\n",
       "5 2023-02-04      6783264      광화문점     1\n",
       "6 2023-02-05      6783775  용인 에버랜드점     1"
      ]
     },
     "execution_count": 61,
     "metadata": {},
     "output_type": "execute_result"
    }
   ],
   "source": [
    "df_member.tail(2)"
   ]
  },
  {
   "cell_type": "code",
   "execution_count": null,
   "id": "4dc7a4e3",
   "metadata": {},
   "outputs": [],
   "source": []
  },
  {
   "cell_type": "code",
   "execution_count": null,
   "id": "a311c26b",
   "metadata": {},
   "outputs": [],
   "source": []
  },
  {
   "cell_type": "code",
   "execution_count": null,
   "id": "0a7f66b0",
   "metadata": {},
   "outputs": [],
   "source": []
  },
  {
   "cell_type": "code",
   "execution_count": 67,
   "id": "b09a72d7",
   "metadata": {},
   "outputs": [],
   "source": [
    "# 3.매장별 쿠폰사용 겟수\n",
    "df_report02 = pd.pivot_table(df_member, values=['회원가입자수'], index=['REG_DTM'],  aggfunc=np.sum).reset_index()"
   ]
  },
  {
   "cell_type": "code",
   "execution_count": 68,
   "id": "279a88f3",
   "metadata": {},
   "outputs": [
    {
     "data": {
      "text/html": [
       "<div>\n",
       "<style scoped>\n",
       "    .dataframe tbody tr th:only-of-type {\n",
       "        vertical-align: middle;\n",
       "    }\n",
       "\n",
       "    .dataframe tbody tr th {\n",
       "        vertical-align: top;\n",
       "    }\n",
       "\n",
       "    .dataframe thead th {\n",
       "        text-align: right;\n",
       "    }\n",
       "</style>\n",
       "<table border=\"1\" class=\"dataframe\">\n",
       "  <thead>\n",
       "    <tr style=\"text-align: right;\">\n",
       "      <th></th>\n",
       "      <th>REG_DTM</th>\n",
       "      <th>회원가입자수</th>\n",
       "    </tr>\n",
       "  </thead>\n",
       "  <tbody>\n",
       "    <tr>\n",
       "      <th>0</th>\n",
       "      <td>2023-02-03</td>\n",
       "      <td>3</td>\n",
       "    </tr>\n",
       "    <tr>\n",
       "      <th>1</th>\n",
       "      <td>2023-02-04</td>\n",
       "      <td>3</td>\n",
       "    </tr>\n",
       "    <tr>\n",
       "      <th>2</th>\n",
       "      <td>2023-02-05</td>\n",
       "      <td>1</td>\n",
       "    </tr>\n",
       "  </tbody>\n",
       "</table>\n",
       "</div>"
      ],
      "text/plain": [
       "     REG_DTM  회원가입자수\n",
       "0 2023-02-03       3\n",
       "1 2023-02-04       3\n",
       "2 2023-02-05       1"
      ]
     },
     "execution_count": 68,
     "metadata": {},
     "output_type": "execute_result"
    }
   ],
   "source": [
    "df_report02"
   ]
  },
  {
   "cell_type": "code",
   "execution_count": null,
   "id": "4752e0eb",
   "metadata": {},
   "outputs": [],
   "source": []
  },
  {
   "cell_type": "code",
   "execution_count": 21,
   "id": "f9d79dc8",
   "metadata": {},
   "outputs": [],
   "source": [
    "###############\n",
    "# 4.매장별 회원가입자수(합계)\n",
    "#####\n",
    "query = '''\n",
    "        select trunc(reg_dtm) as reg_dtm\n",
    "        , (case when ntry_path = '7061' then '청담점' \n",
    "                when ntry_path = '7062' then '광화문점' \n",
    "                when ntry_path = '7063' then '신세계 강남점' \n",
    "                when ntry_path = '7064' then '신세계 대구점' \n",
    "                when ntry_path = '7065' then '신세계 센텀점' \n",
    "                when ntry_path = '7066' then '용인 에버랜드점' \n",
    "                when ntry_path = '7067' then '역삼 센터필드점'\n",
    "            else '' end) as 매장명\n",
    "        , count(*) as 회원가입\n",
    "        from tm_mmb_info\n",
    "        where ntry_path in  ('7061', '7062', '7063', '7064', '7065', '7066', '7067')\n",
    "        and unfy_mmb_no not in ('6768277', '6768289', '6768311', '6768345', '4264108', '6756977')\n",
    "        group by trunc(reg_dtm), ntry_path\n",
    "        '''\n",
    "df_member = pd.read_sql(query, con = conn )"
   ]
  },
  {
   "cell_type": "code",
   "execution_count": 22,
   "id": "6cf7d913",
   "metadata": {},
   "outputs": [
    {
     "data": {
      "text/html": [
       "<div>\n",
       "<style scoped>\n",
       "    .dataframe tbody tr th:only-of-type {\n",
       "        vertical-align: middle;\n",
       "    }\n",
       "\n",
       "    .dataframe tbody tr th {\n",
       "        vertical-align: top;\n",
       "    }\n",
       "\n",
       "    .dataframe thead th {\n",
       "        text-align: right;\n",
       "    }\n",
       "</style>\n",
       "<table border=\"1\" class=\"dataframe\">\n",
       "  <thead>\n",
       "    <tr style=\"text-align: right;\">\n",
       "      <th></th>\n",
       "      <th>REG_DTM</th>\n",
       "      <th>매장명</th>\n",
       "      <th>회원가입</th>\n",
       "    </tr>\n",
       "  </thead>\n",
       "  <tbody>\n",
       "    <tr>\n",
       "      <th>0</th>\n",
       "      <td>2023-02-03</td>\n",
       "      <td>청담점</td>\n",
       "      <td>1</td>\n",
       "    </tr>\n",
       "    <tr>\n",
       "      <th>1</th>\n",
       "      <td>2023-02-03</td>\n",
       "      <td>신세계 센텀점</td>\n",
       "      <td>1</td>\n",
       "    </tr>\n",
       "    <tr>\n",
       "      <th>2</th>\n",
       "      <td>2023-02-03</td>\n",
       "      <td>용인 에버랜드점</td>\n",
       "      <td>1</td>\n",
       "    </tr>\n",
       "    <tr>\n",
       "      <th>3</th>\n",
       "      <td>2023-02-04</td>\n",
       "      <td>청담점</td>\n",
       "      <td>2</td>\n",
       "    </tr>\n",
       "    <tr>\n",
       "      <th>4</th>\n",
       "      <td>2023-02-04</td>\n",
       "      <td>광화문점</td>\n",
       "      <td>1</td>\n",
       "    </tr>\n",
       "    <tr>\n",
       "      <th>5</th>\n",
       "      <td>2023-02-05</td>\n",
       "      <td>용인 에버랜드점</td>\n",
       "      <td>1</td>\n",
       "    </tr>\n",
       "  </tbody>\n",
       "</table>\n",
       "</div>"
      ],
      "text/plain": [
       "     REG_DTM       매장명  회원가입\n",
       "0 2023-02-03       청담점     1\n",
       "1 2023-02-03   신세계 센텀점     1\n",
       "2 2023-02-03  용인 에버랜드점     1\n",
       "3 2023-02-04       청담점     2\n",
       "4 2023-02-04      광화문점     1\n",
       "5 2023-02-05  용인 에버랜드점     1"
      ]
     },
     "execution_count": 22,
     "metadata": {},
     "output_type": "execute_result"
    }
   ],
   "source": [
    "df_member"
   ]
  },
  {
   "cell_type": "code",
   "execution_count": null,
   "id": "40186a55",
   "metadata": {},
   "outputs": [],
   "source": []
  },
  {
   "cell_type": "code",
   "execution_count": null,
   "id": "0a2718bf",
   "metadata": {},
   "outputs": [],
   "source": [
    "df2 = pd.pivot_table(df, values='사용겟수', columns=['사용일자'], index=['브랜드'],  aggfunc=np.sum)\n"
   ]
  },
  {
   "cell_type": "code",
   "execution_count": null,
   "id": "77575bd3",
   "metadata": {},
   "outputs": [],
   "source": []
  },
  {
   "cell_type": "code",
   "execution_count": null,
   "id": "814bb3c7",
   "metadata": {},
   "outputs": [],
   "source": []
  },
  {
   "cell_type": "markdown",
   "id": "b252ba27",
   "metadata": {},
   "source": [
    "## 4.신규가입 및 쿠폰사용 현황"
   ]
  },
  {
   "cell_type": "code",
   "execution_count": 53,
   "id": "953ef401",
   "metadata": {},
   "outputs": [],
   "source": [
    "###############\n",
    "# 4.매장별 회원가입자수(합계)\n",
    "#####\n",
    "query = '''\n",
    "        select trunc(reg_dtm) as reg_dtm\n",
    "        , unfy_mmb_no\n",
    "        , (case when ntry_path = '7061' then '청담점' \n",
    "                when ntry_path = '7062' then '광화문점' \n",
    "                when ntry_path = '7063' then '신세계 강남점' \n",
    "                when ntry_path = '7064' then '신세계 대구점' \n",
    "                when ntry_path = '7065' then '신세계 센텀점' \n",
    "                when ntry_path = '7066' then '용인 에버랜드점' \n",
    "                when ntry_path = '7067' then '역삼 센터필드점'\n",
    "            else '' end) as 매장명\n",
    "        , count(*) as 회원가입\n",
    "        from tm_mmb_info\n",
    "        where ntry_path in ('7061', '7062', '7063', '7064', '7065', '7066', '7067')\n",
    "        and unfy_mmb_no not in ('6768277', '6768289', '6768311', '6768345', '4264108', '6756977')\n",
    "        group by trunc(reg_dtm), unfy_mmb_no, ntry_path\n",
    "        '''\n",
    "df_member = pd.read_sql(query, con = conn )"
   ]
  },
  {
   "cell_type": "code",
   "execution_count": 54,
   "id": "94815949",
   "metadata": {},
   "outputs": [
    {
     "data": {
      "text/html": [
       "<div>\n",
       "<style scoped>\n",
       "    .dataframe tbody tr th:only-of-type {\n",
       "        vertical-align: middle;\n",
       "    }\n",
       "\n",
       "    .dataframe tbody tr th {\n",
       "        vertical-align: top;\n",
       "    }\n",
       "\n",
       "    .dataframe thead th {\n",
       "        text-align: right;\n",
       "    }\n",
       "</style>\n",
       "<table border=\"1\" class=\"dataframe\">\n",
       "  <thead>\n",
       "    <tr style=\"text-align: right;\">\n",
       "      <th></th>\n",
       "      <th>REG_DTM</th>\n",
       "      <th>UNFY_MMB_NO</th>\n",
       "      <th>매장명</th>\n",
       "      <th>회원가입</th>\n",
       "    </tr>\n",
       "  </thead>\n",
       "  <tbody>\n",
       "    <tr>\n",
       "      <th>0</th>\n",
       "      <td>2023-02-03</td>\n",
       "      <td>6782507</td>\n",
       "      <td>신세계 센텀점</td>\n",
       "      <td>1</td>\n",
       "    </tr>\n",
       "    <tr>\n",
       "      <th>1</th>\n",
       "      <td>2023-02-03</td>\n",
       "      <td>6782684</td>\n",
       "      <td>청담점</td>\n",
       "      <td>1</td>\n",
       "    </tr>\n",
       "    <tr>\n",
       "      <th>2</th>\n",
       "      <td>2023-02-03</td>\n",
       "      <td>6782751</td>\n",
       "      <td>용인 에버랜드점</td>\n",
       "      <td>1</td>\n",
       "    </tr>\n",
       "    <tr>\n",
       "      <th>3</th>\n",
       "      <td>2023-02-04</td>\n",
       "      <td>6783247</td>\n",
       "      <td>청담점</td>\n",
       "      <td>1</td>\n",
       "    </tr>\n",
       "    <tr>\n",
       "      <th>4</th>\n",
       "      <td>2023-02-04</td>\n",
       "      <td>6783252</td>\n",
       "      <td>청담점</td>\n",
       "      <td>1</td>\n",
       "    </tr>\n",
       "    <tr>\n",
       "      <th>5</th>\n",
       "      <td>2023-02-04</td>\n",
       "      <td>6783264</td>\n",
       "      <td>광화문점</td>\n",
       "      <td>1</td>\n",
       "    </tr>\n",
       "    <tr>\n",
       "      <th>6</th>\n",
       "      <td>2023-02-05</td>\n",
       "      <td>6783775</td>\n",
       "      <td>용인 에버랜드점</td>\n",
       "      <td>1</td>\n",
       "    </tr>\n",
       "  </tbody>\n",
       "</table>\n",
       "</div>"
      ],
      "text/plain": [
       "     REG_DTM  UNFY_MMB_NO       매장명  회원가입\n",
       "0 2023-02-03      6782507   신세계 센텀점     1\n",
       "1 2023-02-03      6782684       청담점     1\n",
       "2 2023-02-03      6782751  용인 에버랜드점     1\n",
       "3 2023-02-04      6783247       청담점     1\n",
       "4 2023-02-04      6783252       청담점     1\n",
       "5 2023-02-04      6783264      광화문점     1\n",
       "6 2023-02-05      6783775  용인 에버랜드점     1"
      ]
     },
     "execution_count": 54,
     "metadata": {},
     "output_type": "execute_result"
    }
   ],
   "source": [
    "df_member"
   ]
  },
  {
   "cell_type": "code",
   "execution_count": 55,
   "id": "f6c25d4b",
   "metadata": {},
   "outputs": [],
   "source": [
    "ㅇㄹ = pd.DataFrame(df_member.groupby('매장명')['회원가입'].sum()).reset_index()"
   ]
  },
  {
   "cell_type": "code",
   "execution_count": 56,
   "id": "45e7d14b",
   "metadata": {},
   "outputs": [
    {
     "data": {
      "text/html": [
       "<div>\n",
       "<style scoped>\n",
       "    .dataframe tbody tr th:only-of-type {\n",
       "        vertical-align: middle;\n",
       "    }\n",
       "\n",
       "    .dataframe tbody tr th {\n",
       "        vertical-align: top;\n",
       "    }\n",
       "\n",
       "    .dataframe thead th {\n",
       "        text-align: right;\n",
       "    }\n",
       "</style>\n",
       "<table border=\"1\" class=\"dataframe\">\n",
       "  <thead>\n",
       "    <tr style=\"text-align: right;\">\n",
       "      <th></th>\n",
       "      <th>매장명</th>\n",
       "      <th>회원가입</th>\n",
       "    </tr>\n",
       "  </thead>\n",
       "  <tbody>\n",
       "    <tr>\n",
       "      <th>0</th>\n",
       "      <td>광화문점</td>\n",
       "      <td>1</td>\n",
       "    </tr>\n",
       "    <tr>\n",
       "      <th>1</th>\n",
       "      <td>신세계 센텀점</td>\n",
       "      <td>1</td>\n",
       "    </tr>\n",
       "    <tr>\n",
       "      <th>2</th>\n",
       "      <td>용인 에버랜드점</td>\n",
       "      <td>2</td>\n",
       "    </tr>\n",
       "    <tr>\n",
       "      <th>3</th>\n",
       "      <td>청담점</td>\n",
       "      <td>3</td>\n",
       "    </tr>\n",
       "  </tbody>\n",
       "</table>\n",
       "</div>"
      ],
      "text/plain": [
       "        매장명  회원가입\n",
       "0      광화문점     1\n",
       "1   신세계 센텀점     1\n",
       "2  용인 에버랜드점     2\n",
       "3       청담점     3"
      ]
     },
     "execution_count": 56,
     "metadata": {},
     "output_type": "execute_result"
    }
   ],
   "source": [
    "df4"
   ]
  },
  {
   "cell_type": "code",
   "execution_count": 57,
   "id": "3aaa828f",
   "metadata": {},
   "outputs": [],
   "source": [
    "df_temp = pd.merge(df3, df4, on='매장명', how='outer').fillna('')"
   ]
  },
  {
   "cell_type": "code",
   "execution_count": 59,
   "id": "0588a7d6",
   "metadata": {},
   "outputs": [
    {
     "data": {
      "text/html": [
       "<div>\n",
       "<style scoped>\n",
       "    .dataframe tbody tr th:only-of-type {\n",
       "        vertical-align: middle;\n",
       "    }\n",
       "\n",
       "    .dataframe tbody tr th {\n",
       "        vertical-align: top;\n",
       "    }\n",
       "\n",
       "    .dataframe thead th {\n",
       "        text-align: right;\n",
       "    }\n",
       "</style>\n",
       "<table border=\"1\" class=\"dataframe\">\n",
       "  <thead>\n",
       "    <tr style=\"text-align: right;\">\n",
       "      <th></th>\n",
       "      <th>매장명</th>\n",
       "      <th>회원가입</th>\n",
       "      <th>사용겟수</th>\n",
       "    </tr>\n",
       "  </thead>\n",
       "  <tbody>\n",
       "    <tr>\n",
       "      <th>0</th>\n",
       "      <td>광화문점</td>\n",
       "      <td>1</td>\n",
       "      <td>1</td>\n",
       "    </tr>\n",
       "    <tr>\n",
       "      <th>1</th>\n",
       "      <td>신세계 센텀점</td>\n",
       "      <td>1</td>\n",
       "      <td></td>\n",
       "    </tr>\n",
       "    <tr>\n",
       "      <th>2</th>\n",
       "      <td>용인 에버랜드점</td>\n",
       "      <td>2</td>\n",
       "      <td></td>\n",
       "    </tr>\n",
       "    <tr>\n",
       "      <th>3</th>\n",
       "      <td>청담점</td>\n",
       "      <td>3</td>\n",
       "      <td></td>\n",
       "    </tr>\n",
       "  </tbody>\n",
       "</table>\n",
       "</div>"
      ],
      "text/plain": [
       "        매장명  회원가입 사용겟수\n",
       "0      광화문점     1    1\n",
       "1   신세계 센텀점     1     \n",
       "2  용인 에버랜드점     2     \n",
       "3       청담점     3     "
      ]
     },
     "execution_count": 59,
     "metadata": {},
     "output_type": "execute_result"
    }
   ],
   "source": [
    "df_temp[['매장명', '회원가입', '사용겟수']]"
   ]
  },
  {
   "cell_type": "code",
   "execution_count": null,
   "id": "452e8d8c",
   "metadata": {},
   "outputs": [],
   "source": []
  },
  {
   "cell_type": "code",
   "execution_count": null,
   "id": "156f27b2",
   "metadata": {},
   "outputs": [],
   "source": []
  },
  {
   "cell_type": "markdown",
   "id": "8f4b45c3",
   "metadata": {},
   "source": [
    "## 5.매장별 회원가입자수(일별)"
   ]
  },
  {
   "cell_type": "code",
   "execution_count": null,
   "id": "8a6dff2f",
   "metadata": {},
   "outputs": [],
   "source": []
  },
  {
   "cell_type": "code",
   "execution_count": 29,
   "id": "fe869d1a",
   "metadata": {},
   "outputs": [
    {
     "data": {
      "text/html": [
       "<div>\n",
       "<style scoped>\n",
       "    .dataframe tbody tr th:only-of-type {\n",
       "        vertical-align: middle;\n",
       "    }\n",
       "\n",
       "    .dataframe tbody tr th {\n",
       "        vertical-align: top;\n",
       "    }\n",
       "\n",
       "    .dataframe thead th {\n",
       "        text-align: right;\n",
       "    }\n",
       "</style>\n",
       "<table border=\"1\" class=\"dataframe\">\n",
       "  <thead>\n",
       "    <tr style=\"text-align: right;\">\n",
       "      <th></th>\n",
       "      <th>브랜드</th>\n",
       "      <th>매장명</th>\n",
       "      <th>쿠폰명</th>\n",
       "      <th>사용일자</th>\n",
       "      <th>할인금액</th>\n",
       "      <th>총결제금액</th>\n",
       "      <th>사용겟수</th>\n",
       "    </tr>\n",
       "  </thead>\n",
       "  <tbody>\n",
       "    <tr>\n",
       "      <th>0</th>\n",
       "      <td>ILP</td>\n",
       "      <td>광화문점</td>\n",
       "      <td>[더키친 일뽀르노] 재방문 쿠폰(신메뉴 20%할인)</td>\n",
       "      <td>20230204</td>\n",
       "      <td>4600</td>\n",
       "      <td>23000</td>\n",
       "      <td>1</td>\n",
       "    </tr>\n",
       "  </tbody>\n",
       "</table>\n",
       "</div>"
      ],
      "text/plain": [
       "   브랜드   매장명                           쿠폰명      사용일자  할인금액  총결제금액  사용겟수\n",
       "0  ILP  광화문점  [더키친 일뽀르노] 재방문 쿠폰(신메뉴 20%할인)  20230204  4600  23000     1"
      ]
     },
     "execution_count": 29,
     "metadata": {},
     "output_type": "execute_result"
    }
   ],
   "source": [
    "df"
   ]
  },
  {
   "cell_type": "code",
   "execution_count": 26,
   "id": "37aef201",
   "metadata": {},
   "outputs": [
    {
     "ename": "KeyError",
     "evalue": "'CNT'",
     "output_type": "error",
     "traceback": [
      "\u001b[1;31m---------------------------------------------------------------------------\u001b[0m",
      "\u001b[1;31mKeyError\u001b[0m                                  Traceback (most recent call last)",
      "\u001b[1;32m<ipython-input-26-0866e8e73f55>\u001b[0m in \u001b[0;36m<module>\u001b[1;34m\u001b[0m\n\u001b[1;32m----> 1\u001b[1;33m \u001b[0mreport_05\u001b[0m \u001b[1;33m=\u001b[0m\u001b[0mpd\u001b[0m\u001b[1;33m.\u001b[0m\u001b[0mpivot_table\u001b[0m\u001b[1;33m(\u001b[0m\u001b[0mdf_member\u001b[0m\u001b[1;33m,\u001b[0m \u001b[0mvalues\u001b[0m\u001b[1;33m=\u001b[0m\u001b[1;34m'CNT'\u001b[0m\u001b[1;33m,\u001b[0m \u001b[0mindex\u001b[0m\u001b[1;33m=\u001b[0m\u001b[1;33m[\u001b[0m\u001b[1;34m'REG_DTM'\u001b[0m\u001b[1;33m,\u001b[0m\u001b[1;34m'CHANNEL'\u001b[0m\u001b[1;33m]\u001b[0m\u001b[1;33m,\u001b[0m  \u001b[0maggfunc\u001b[0m\u001b[1;33m=\u001b[0m\u001b[1;34m'sum'\u001b[0m\u001b[1;33m)\u001b[0m\u001b[1;33m.\u001b[0m\u001b[0mfillna\u001b[0m\u001b[1;33m(\u001b[0m\u001b[1;36m0\u001b[0m\u001b[1;33m)\u001b[0m\u001b[1;33m\u001b[0m\u001b[1;33m\u001b[0m\u001b[0m\n\u001b[0m",
      "\u001b[1;32m~\\AppData\\Roaming\\Python\\Python37\\site-packages\\pandas\\core\\reshape\\pivot.py\u001b[0m in \u001b[0;36mpivot_table\u001b[1;34m(data, values, index, columns, aggfunc, fill_value, margins, dropna, margins_name, observed, sort)\u001b[0m\n\u001b[0;32m    104\u001b[0m         \u001b[0mmargins_name\u001b[0m\u001b[1;33m,\u001b[0m\u001b[1;33m\u001b[0m\u001b[1;33m\u001b[0m\u001b[0m\n\u001b[0;32m    105\u001b[0m         \u001b[0mobserved\u001b[0m\u001b[1;33m,\u001b[0m\u001b[1;33m\u001b[0m\u001b[1;33m\u001b[0m\u001b[0m\n\u001b[1;32m--> 106\u001b[1;33m         \u001b[0msort\u001b[0m\u001b[1;33m,\u001b[0m\u001b[1;33m\u001b[0m\u001b[1;33m\u001b[0m\u001b[0m\n\u001b[0m\u001b[0;32m    107\u001b[0m     )\n\u001b[0;32m    108\u001b[0m     \u001b[1;32mreturn\u001b[0m \u001b[0mtable\u001b[0m\u001b[1;33m.\u001b[0m\u001b[0m__finalize__\u001b[0m\u001b[1;33m(\u001b[0m\u001b[0mdata\u001b[0m\u001b[1;33m,\u001b[0m \u001b[0mmethod\u001b[0m\u001b[1;33m=\u001b[0m\u001b[1;34m\"pivot_table\"\u001b[0m\u001b[1;33m)\u001b[0m\u001b[1;33m\u001b[0m\u001b[1;33m\u001b[0m\u001b[0m\n",
      "\u001b[1;32m~\\AppData\\Roaming\\Python\\Python37\\site-packages\\pandas\\core\\reshape\\pivot.py\u001b[0m in \u001b[0;36m__internal_pivot_table\u001b[1;34m(data, values, index, columns, aggfunc, fill_value, margins, dropna, margins_name, observed, sort)\u001b[0m\n\u001b[0;32m    139\u001b[0m         \u001b[1;32mfor\u001b[0m \u001b[0mi\u001b[0m \u001b[1;32min\u001b[0m \u001b[0mvalues\u001b[0m\u001b[1;33m:\u001b[0m\u001b[1;33m\u001b[0m\u001b[1;33m\u001b[0m\u001b[0m\n\u001b[0;32m    140\u001b[0m             \u001b[1;32mif\u001b[0m \u001b[0mi\u001b[0m \u001b[1;32mnot\u001b[0m \u001b[1;32min\u001b[0m \u001b[0mdata\u001b[0m\u001b[1;33m:\u001b[0m\u001b[1;33m\u001b[0m\u001b[1;33m\u001b[0m\u001b[0m\n\u001b[1;32m--> 141\u001b[1;33m                 \u001b[1;32mraise\u001b[0m \u001b[0mKeyError\u001b[0m\u001b[1;33m(\u001b[0m\u001b[0mi\u001b[0m\u001b[1;33m)\u001b[0m\u001b[1;33m\u001b[0m\u001b[1;33m\u001b[0m\u001b[0m\n\u001b[0m\u001b[0;32m    142\u001b[0m \u001b[1;33m\u001b[0m\u001b[0m\n\u001b[0;32m    143\u001b[0m         \u001b[0mto_filter\u001b[0m \u001b[1;33m=\u001b[0m \u001b[1;33m[\u001b[0m\u001b[1;33m]\u001b[0m\u001b[1;33m\u001b[0m\u001b[1;33m\u001b[0m\u001b[0m\n",
      "\u001b[1;31mKeyError\u001b[0m: 'CNT'"
     ]
    }
   ],
   "source": [
    "report_05 =pd.pivot_table(df_member, values='CNT', index=['REG_DTM','CHANNEL'],  aggfunc='sum').fillna(0)"
   ]
  },
  {
   "cell_type": "code",
   "execution_count": 27,
   "id": "52e11f86",
   "metadata": {},
   "outputs": [],
   "source": [
    "# report_05.index[:]['CHANNEL']"
   ]
  },
  {
   "cell_type": "code",
   "execution_count": 147,
   "id": "8ca9c07b",
   "metadata": {},
   "outputs": [
    {
     "data": {
      "text/plain": [
       "<Figure size 720x288 with 0 Axes>"
      ]
     },
     "metadata": {},
     "output_type": "display_data"
    }
   ],
   "source": [
    "fig = plt.figure(figsize=(10, 4), facecolor='#eeeeee' )\n",
    "\n",
    "# 그래프 \n",
    "ax1 = plt.subplot2grid((1, 1), (0, 0))\n",
    "# plt.subplots_adjust(left=0.125, bottom=0.1,  right=0.9, top=0.9, wspace=0.2, hspace=0.5)\n",
    "plt.plot(report_05,'.-',  label=report_05.columns )\n",
    "ax1.legend(list(report_05.columns), loc='upper right', bbox_to_anchor=(1.4, 0.8), fancybox=True, shadow=True, fontsize='large')\n",
    "plt.grid(True, axis='y')\n",
    "plt.xticks(rotation=90)\n",
    "plt.title('일별 리뷰 수(제품별 Trend)',fontsize='x-large')\n",
    "plt.ylabel('리뷰 수(건)')\n",
    "plt.show()"
   ]
  },
  {
   "cell_type": "code",
   "execution_count": null,
   "id": "4bd747ef",
   "metadata": {},
   "outputs": [],
   "source": []
  }
 ],
 "metadata": {
  "kernelspec": {
   "display_name": "Python 3",
   "language": "python",
   "name": "python3"
  },
  "language_info": {
   "codemirror_mode": {
    "name": "ipython",
    "version": 3
   },
   "file_extension": ".py",
   "mimetype": "text/x-python",
   "name": "python",
   "nbconvert_exporter": "python",
   "pygments_lexer": "ipython3",
   "version": "3.7.6"
  }
 },
 "nbformat": 4,
 "nbformat_minor": 5
}
