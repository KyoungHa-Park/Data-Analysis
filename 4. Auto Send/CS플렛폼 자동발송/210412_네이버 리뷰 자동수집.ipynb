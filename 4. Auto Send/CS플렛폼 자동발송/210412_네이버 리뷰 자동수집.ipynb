{
 "cells": [
  {
   "cell_type": "code",
   "execution_count": 1,
   "metadata": {},
   "outputs": [],
   "source": [
    "## 월요일에는 주말(2일) 분량이 발송됨\n",
    "## 때문에, 연휴가 있는 경우, 수정이 필요(대응 내용으로 matching 되지 않음)\n",
    "\n",
    "\n",
    "###############\n",
    "# 1. import\n",
    "#####\n",
    "\n",
    "import pandas as pd\n",
    "import numpy as np\n",
    "from datetime import datetime, timedelta\n",
    "import re\n",
    "import time \n",
    "\n",
    "from bs4 import BeautifulSoup\n",
    "from selenium import webdriver\n",
    "from skimage import io\n",
    "\n",
    "# local only\n",
    "import os\n",
    "from os import listdir\n",
    "\n",
    "import pymysql\n",
    "\n",
    "import matplotlib as mpl\n",
    "import matplotlib.pyplot as plt\n",
    "import matplotlib.font_manager as fm\n",
    "\n",
    "path = 'C:/windows/Fonts/malgun.ttf'                           # 폰트:맑은고딕\n",
    "font_name = fm.FontProperties(fname=path, size=24).get_name()  \n",
    "plt.rc('font', family=font_name)\n",
    "\n",
    "import send_email as se\n",
    "from jinja2 import Template"
   ]
  },
  {
   "cell_type": "code",
   "execution_count": 2,
   "metadata": {},
   "outputs": [],
   "source": [
    "# 시간기록\n",
    "from datetime import datetime, timedelta\n",
    "import time \n",
    "from dateutil.relativedelta import relativedelta\n",
    "\n",
    "\n",
    "start = (datetime.today().replace(day=1)-timedelta(days=1) ).strftime('%Y/%m/%d')\n",
    "end = ((datetime.today()+relativedelta(months=0)).replace(day=1)-timedelta(days=1)).strftime('%Y/%m/%d')\n",
    "\n",
    "monthly_date = [d.strftime('%m/%d') for d in pd.date_range(start, end, freq='D')]\n"
   ]
  },
  {
   "cell_type": "code",
   "execution_count": 3,
   "metadata": {},
   "outputs": [
    {
     "data": {
      "text/plain": [
       "['07/31']"
      ]
     },
     "execution_count": 3,
     "metadata": {},
     "output_type": "execute_result"
    }
   ],
   "source": [
    "monthly_date"
   ]
  },
  {
   "cell_type": "code",
   "execution_count": null,
   "metadata": {},
   "outputs": [],
   "source": []
  },
  {
   "cell_type": "code",
   "execution_count": null,
   "metadata": {},
   "outputs": [],
   "source": []
  },
  {
   "cell_type": "code",
   "execution_count": 9,
   "metadata": {},
   "outputs": [],
   "source": [
    "##########\n",
    "# 크롬 드라이버 자동 설치/실행 \n",
    "#####\n",
    "import chromedriver_autoinstaller\n",
    "\n",
    "chrome_ver = chromedriver_autoinstaller.get_chrome_version().split('.')[0]  #크롬드라이버 버전 확인\n",
    "\n",
    "chromedriver_autoinstaller.install(True)\n",
    "\n",
    "# -*- coding=utf-8 -*-\n",
    "options = webdriver.ChromeOptions()\n",
    "# options.add_argument('headless')\n",
    "# options.add_argument('disable-gpu')\n",
    "# driver = webdriver.Chrome('C:/Users/MAEIL/Downloads/chromedriver/chromedriver.exe', options=options)\n",
    "# driver = webdriver.Chrome('C:/Users/MAEIL/Downloads/chromedriver/chromedriver.exe')\n",
    "\n",
    "try:\n",
    "    driver = webdriver.Chrome(f'C:/Users/MAEIL/Downloads/{chrome_ver}/chromedriver.exe')\n",
    "except:\n",
    "    driver = webdriver.Chrome(f'C:/Users/MAEIL/Downloads/chromedriver/chromedriver.exe')   \n",
    "    \n",
    "\n",
    "driver.implicitly_wait(3)\n",
    "driver.maximize_window()"
   ]
  },
  {
   "cell_type": "code",
   "execution_count": 8,
   "metadata": {},
   "outputs": [],
   "source": [
    "# driver.close()"
   ]
  },
  {
   "cell_type": "code",
   "execution_count": 10,
   "metadata": {},
   "outputs": [],
   "source": [
    "\n",
    "##########\n",
    "# Web 드라이버 실행/page접속 \n",
    "#####\n",
    "\n",
    "url = 'https://sell.smartstore.naver.com/'\n",
    "\n",
    "driver.get(url)\n",
    "driver.implicitly_wait(5)"
   ]
  },
  {
   "cell_type": "code",
   "execution_count": 12,
   "metadata": {},
   "outputs": [],
   "source": [
    "# 화면이동\n",
    "driver.find_elements_by_xpath('/html/body/ui-view[1]/div[2]/div[2]/div/div[1]/div[2]/button[1]')[0].click() \n",
    "driver.implicitly_wait(5)"
   ]
  },
  {
   "cell_type": "code",
   "execution_count": 13,
   "metadata": {},
   "outputs": [],
   "source": [
    "# 로그인조건 이동\n",
    "driver.find_elements_by_xpath('//*[@id=\"root\"]/div/div[1]/div/div/div[4]/div[1]/ul/li[2]/button/span')[0].click()\n",
    "driver.implicitly_wait(5)"
   ]
  },
  {
   "cell_type": "code",
   "execution_count": 14,
   "metadata": {},
   "outputs": [],
   "source": [
    "# 새로은 페이지로 전환\n",
    "driver.switch_to.window(driver.window_handles[-1])\n"
   ]
  },
  {
   "cell_type": "code",
   "execution_count": 7,
   "metadata": {},
   "outputs": [],
   "source": [
    "\n",
    "# ID/PW 넣기\n",
    "driver.find_element_by_name('id').send_keys('***********')  #사용자 ID\n",
    "driver.find_element_by_name('pw').send_keys('***********') #사용자 PASSWORD\n"
   ]
  },
  {
   "cell_type": "code",
   "execution_count": 16,
   "metadata": {},
   "outputs": [],
   "source": [
    "# IP보안 확인\n",
    "status = driver.find_elements_by_xpath('//*[@id=\"login_keep_wrap\"]/div[2]/span/label')[0].text\n",
    "if status =='on':\n",
    "    driver.find_elements_by_xpath('//*[@id=\"login_keep_wrap\"]/div[2]/span/label')[0].click() \n",
    "    driver.implicitly_wait(5)\n",
    "\n",
    "# 로그인 진행\n",
    "driver.find_elements_by_xpath('//*[@id=\"log.login\"]')[0].click() \n",
    "driver.implicitly_wait(10)"
   ]
  },
  {
   "cell_type": "code",
   "execution_count": null,
   "metadata": {},
   "outputs": [],
   "source": []
  },
  {
   "cell_type": "code",
   "execution_count": 8,
   "metadata": {},
   "outputs": [],
   "source": []
  },
  {
   "cell_type": "code",
   "execution_count": 5,
   "metadata": {},
   "outputs": [],
   "source": [
    "\n",
    "##########\n",
    "# Web 드라이버 실행/page접속 \n",
    "#####\n",
    "\n",
    "url = 'https://sell.smartstore.naver.com/'\n",
    "\n",
    "driver.get(url)\n",
    "driver.implicitly_wait(5)\n",
    "\n",
    "# 화면이동\n",
    "driver.find_elements_by_xpath('/html/body/ui-view[1]/div[2]/div[2]/div/div[1]/div[2]/a[2]')[0].click() \n",
    "driver.implicitly_wait(5)\n",
    "\n",
    "# 로그인조건 이동\n",
    "driver.find_elements_by_xpath('/html/body/ui-view[1]/div[3]/div/div/div/form/div[1]/ul/li[2]/a')[0].click() \n",
    "driver.implicitly_wait(5)\n",
    "\n",
    "# ID/PW 넣기\n",
    "driver.find_element_by_name('id').send_keys('xyzmagic')  #사용자 ID\n",
    "driver.find_element_by_name('pw').send_keys('Pkhunm4y6!!') #사용자 PASSWORD\n",
    "\n",
    "# 로그인 진행\n",
    "driver.find_elements_by_xpath('//*[@id=\"log.login\"]')[0].click() \n",
    "driver.implicitly_wait(10)"
   ]
  },
  {
   "cell_type": "code",
   "execution_count": 7,
   "metadata": {},
   "outputs": [],
   "source": [
    "# 리뷰관리 페이지 이동\n",
    "driver.find_elements_by_xpath('//*[@id=\"seller-lnb\"]/div/div[1]/ul/li[5]/a')[0].click()\n",
    "time.sleep(1)\n",
    "driver.find_elements_by_xpath('//*[@id=\"seller-lnb\"]/div/div[1]/ul/li[5]/ul/li[3]/a')[0].click()\n",
    "time.sleep(1)\n",
    "\n",
    "# 리뷰조건 : 전체 제외\n",
    "driver.find_elements_by_xpath('//*[@id=\"seller-content\"]/div/div[1]/form/div/div[1]/div/ul/li[6]/div/div[1]/div[1]/div[2]/div/label[1]/span')[0].click()\n",
    "\n",
    "# 리뷰조건 : 평점 3,4,5, 제외\n",
    "driver.find_elements_by_xpath('//*[@id=\"seller-content\"]/div/div[1]/form/div/div[1]/div/ul/li[6]/div/div[1]/div[1]/div[2]/div/label[4]/span')[0].click()\n",
    "driver.find_elements_by_xpath('//*[@id=\"seller-content\"]/div/div[1]/form/div/div[1]/div/ul/li[6]/div/div[1]/div[1]/div[2]/div/label[5]/span')[0].click()\n",
    "driver.find_elements_by_xpath('//*[@id=\"seller-content\"]/div/div[1]/form/div/div[1]/div/ul/li[6]/div/div[1]/div[1]/div[2]/div/label[6]/span')[0].click()\n",
    "\n",
    "# 리뷰조건 : 블라인드 제외\n",
    "driver.find_elements_by_xpath('//*[@id=\"seller-content\"]/div/div[1]/form/div/div[1]/div/ul/li[6]/div/div[3]/div/div[2]/div/label[1]/span')[0].click()\n",
    "driver.find_elements_by_xpath('//*[@id=\"seller-content\"]/div/div[1]/form/div/div[1]/div/ul/li[6]/div/div[3]/div/div[2]/div/label[3]/span')[0].click()\n",
    "\n",
    "# 답글여부 : 미답변\n",
    "driver.find_elements_by_xpath('//*[@id=\"seller-content\"]/div/div[1]/form/div/div[1]/div/ul/li[6]/div/div[1]/div[2]/div[2]/div')[0].click()\n",
    "driver.find_elements_by_xpath('//*[@id=\"seller-content\"]/div/div[1]/form/div/div[1]/div/ul/li[6]/div/div[1]/div[2]/div[2]/div/div[2]/div/div[3]')[0].click()\n",
    "driver.implicitly_wait(5)\n",
    "time.sleep(2)"
   ]
  },
  {
   "cell_type": "code",
   "execution_count": 11,
   "metadata": {},
   "outputs": [],
   "source": []
  },
  {
   "cell_type": "code",
   "execution_count": 8,
   "metadata": {},
   "outputs": [],
   "source": [
    "# 검색버튼 클릭\n",
    "driver.find_elements_by_xpath('//*[@id=\"seller-content\"]/div/div[1]/form/div/div[2]/div/button[1]')[0].click()\n",
    "driver.implicitly_wait(5)\n",
    "time.sleep(2)"
   ]
  },
  {
   "cell_type": "code",
   "execution_count": 9,
   "metadata": {},
   "outputs": [],
   "source": [
    "# Excel 다운로그 클릭\n",
    "driver.find_elements_by_xpath('//*[@id=\"seller-content\"]/div/div[2]/div/div[1]/div[2]/div/div/button/span[1]')[0].click()\n",
    "time.sleep(2)"
   ]
  },
  {
   "cell_type": "code",
   "execution_count": 7,
   "metadata": {},
   "outputs": [],
   "source": [
    "driver.close()"
   ]
  },
  {
   "cell_type": "code",
   "execution_count": 8,
   "metadata": {},
   "outputs": [],
   "source": [
    "from os import listdir\n",
    "# 경로 설정\n",
    "directory_name = r'C:/Users/MAEIL/Downloads/'\n",
    "\n",
    "# 파일명 가져오기\n",
    "file_names = listdir(directory_name)\n",
    "\n",
    "for i in range(0, len( file_names)):\n",
    "    text = re.findall(r'review_(.*?).xlsx',file_names[i])\n",
    "    if len(text) == 1:\n",
    "        file_name = 'review_' + str(text[0]) + '.xlsx'\n",
    "        break"
   ]
  },
  {
   "cell_type": "code",
   "execution_count": 9,
   "metadata": {},
   "outputs": [
    {
     "name": "stderr",
     "output_type": "stream",
     "text": [
      "C:\\ProgramData\\Anaconda3\\lib\\site-packages\\openpyxl\\styles\\stylesheet.py:214: UserWarning: Workbook contains no default style, apply openpyxl's default\n",
      "  warn(\"Workbook contains no default style, apply openpyxl's default\")\n"
     ]
    }
   ],
   "source": [
    "df1 = pd.read_excel(directory_name + file_name , 0, header = 0)\n",
    "\n",
    "df1 = df1[['상품번호', '상품명', '구매자평점', '리뷰상세내용', '등록자', '리뷰등록일']]\n",
    "df1['수집체널'] = '네이버'\n",
    "\n",
    "naver_count = len(df1)"
   ]
  },
  {
   "cell_type": "code",
   "execution_count": null,
   "metadata": {},
   "outputs": [],
   "source": []
  },
  {
   "cell_type": "code",
   "execution_count": 10,
   "metadata": {},
   "outputs": [],
   "source": [
    "###############\n",
    "# 2.자료 추출\n",
    "#####\n",
    "\n",
    "# DB연결\n",
    "conn = pymysql.connect(host = '**.***.*.*', user ='__USER_ID__', password = \"__PASSWORD__\", database='__DATABASE__')\n",
    "\n",
    "# cursor 설정\n",
    "cursor = conn.cursor(pymysql.cursors.DictCursor)\n",
    "\n",
    "\n",
    "#자료 불러오기 : 전날 부정리뷰 겟수\n",
    "sql= '''select DATE_FORMAT (CURDATE(), '%a') as week'''\n",
    "cursor.execute(sql)\n",
    "gubun = cursor.fetchall()\n",
    "gubun = pd.DataFrame(gubun)\n",
    "gubun = gubun['week'][0]\n",
    "\n",
    "if gubun =='Mon':\n",
    "    sql_cnt= '''select count(distinct CONTENTS) as CNT\n",
    "            FROM MAEIL_REVIEW A\n",
    "            where GRADE in (1,2)\n",
    "            and COMPANY_CODE not in (13358)\n",
    "            and WRITE_DT between DATE_SUB(CURDATE(), INTERVAL 3 DAY) and (CURDATE())\n",
    "            '''\n",
    "    sql= '''select PRODUCT_NO as \"상품번호\"\n",
    "        , GROUP_CONCAT( distinct (SELECT concat(  '(', code, ') ' , code_nm) FROM JT_CODE B WHERE A.PRODUCT_CODE = B.CODE AND B.CODE_GRP_ID = 'PRODUCT') SEPARATOR ', ') as \"상품명\"\n",
    "        , A.GRADE as \"구매자평점\" \n",
    "        , A.CONTENTS as 리뷰상세내용\n",
    "        , A.WRITER as \"등록자\" \n",
    "        , A.WRITE_DT as 리뷰등록일 \n",
    "        , (SELECT CODE_NM FROM JT_CODE B WHERE A.COMPANY_CODE = B.CODE AND B.CODE_GRP_ID = 'DEALER_ID') as 수집체널 \n",
    "        FROM MAEIL_REVIEW A\n",
    "        where GRADE in (1,2)\n",
    "        and A.COMPANY_CODE in (13261)\n",
    "        and WRITE_DT between DATE_SUB(CURDATE(), INTERVAL 3 DAY) and (CURDATE())\n",
    "        and PRODUCT_CODE not like 'G_%'\n",
    "        group by A.COMPANY_CODE, A.WRITER, A.CONTENTS, A.WRITE_DT, A.GRADE, A.PRODUCT_NO\n",
    "        order by A.COMPANY_CODE, A.GRADE desc\n",
    "        '''\n",
    "else:\n",
    "    sql_cnt= '''select count(distinct CONTENTS) as CNT\n",
    "            FROM MAEIL_REVIEW A\n",
    "            where GRADE in (1,2)\n",
    "            and COMPANY_CODE not in (13358)\n",
    "            and WRITE_DT between DATE_SUB(CURDATE(), INTERVAL 1 DAY) and (CURDATE())\n",
    "            '''\n",
    "    sql= '''select PRODUCT_NO as \"상품번호\"\n",
    "        , GROUP_CONCAT( distinct (SELECT concat(  '(', code, ') ' , code_nm) FROM JT_CODE B WHERE A.PRODUCT_CODE = B.CODE AND B.CODE_GRP_ID = 'PRODUCT') SEPARATOR ', ') as \"상품명\"\n",
    "        , A.GRADE as \"구매자평점\" \n",
    "        , A.CONTENTS as 리뷰내용상세\n",
    "        , A.WRITER as \"등록자\" \n",
    "        , A.WRITE_DT as 리뷰등록일 \n",
    "        , (SELECT CODE_NM FROM JT_CODE B WHERE A.COMPANY_CODE = B.CODE AND B.CODE_GRP_ID = 'DEALER_ID') as 수집체널 \n",
    "        FROM MAEIL_REVIEW A\n",
    "        where GRADE in (1,2)\n",
    "        and A.COMPANY_CODE in (13261)\n",
    "        and WRITE_DT between DATE_SUB(CURDATE(), INTERVAL 1 DAY) and (CURDATE())\n",
    "        and PRODUCT_CODE not like 'G_%'\n",
    "        group by A.COMPANY_CODE, A.WRITER, A.CONTENTS, A.WRITE_DT, A.GRADE, A.PRODUCT_NO\n",
    "        order by A.COMPANY_CODE, A.GRADE desc\n",
    "        '''\n",
    "        \n",
    "cursor.execute(sql_cnt)\n",
    "result0 = cursor.fetchall()\n",
    "result0 = pd.DataFrame(result0)\n",
    "result0 = len(result0)\n",
    "\n",
    "cursor.execute(sql)\n",
    "result5 = cursor.fetchall()\n",
    "# result = cursor.fetchmany(3)\n",
    "result5 = pd.DataFrame(result5)\n",
    "\n",
    "kakao_count = len(result5)\n",
    "\n",
    "result = pd.concat([df1, result5], sort=False)\n",
    "\n",
    "if len(result) == 0:\n",
    "    result = df = pd.DataFrame({ '수집체널': ['(해당사항 없음)'], '내용': ['(해당사항 없음)'] })\n"
   ]
  },
  {
   "cell_type": "code",
   "execution_count": null,
   "metadata": {},
   "outputs": [],
   "source": []
  },
  {
   "cell_type": "code",
   "execution_count": null,
   "metadata": {},
   "outputs": [],
   "source": []
  },
  {
   "cell_type": "code",
   "execution_count": null,
   "metadata": {},
   "outputs": [],
   "source": []
  },
  {
   "cell_type": "code",
   "execution_count": null,
   "metadata": {},
   "outputs": [],
   "source": []
  },
  {
   "cell_type": "code",
   "execution_count": null,
   "metadata": {},
   "outputs": [],
   "source": []
  },
  {
   "cell_type": "code",
   "execution_count": 11,
   "metadata": {},
   "outputs": [],
   "source": [
    "\n",
    "###############\n",
    "# 3.이메일 발송\n",
    "#####\n",
    "\n",
    "# 이메일 양식(내용) frame 구성하기\n",
    "message_tmpl=\"\"\"\n",
    "<html>\n",
    "    <!DOCTYPE html>\n",
    "    <html>\n",
    "    <head lang =\"ko\">\n",
    "      <meta charset =\"UTF-8\">\n",
    "      <title>{{title1}}</title>\n",
    "    </head>\n",
    "    <BODY style=\"FONT-SIZE: 10pt; font-family: 맑은고딕, Malgun Gothic, dotum, gulim, sans-serif\">\n",
    "    안녕하세요,<br>\n",
    "    <br>\n",
    "    {{send_date}}시 기준, 직영채널의 부정리뷰 현황 내용 공유드립니다.<br>\n",
    "    <br>\n",
    "    <b>1. 전체 직영 채널 부정 리뷰 : {{count1}} 개</b><br>\n",
    "    <br>\n",
    "    <b>2. 관리 가능 채널 부정 리뷰 : {{count2}} 개</b><br>\n",
    "    &nbsp;&nbsp;- 네이버  : {{ count3 }} 개<br>\n",
    "    &nbsp;&nbsp;- 카카오 톡스토어  : {{ count4 }} 개<br>\n",
    "    <br>\n",
    "    <b>3. 부정리뷰 List</b><br>\n",
    "    {{ df_html }}<br>\n",
    "    <br>\n",
    "    <SPAN style=\"COLOR: #808080\">{{add_text1}}</SPAN><br>\n",
    "    <SPAN style=\"COLOR: #808080\">{{add_text2}}</SPAN><br>\n",
    "    <br>\n",
    "    감사합니다.<br>\n",
    "    <br>\n",
    "    </BODY>\n",
    "</html>\"\"\"\n",
    "\n",
    "# 이메일 양식(내용) 변동 내용 정의\n",
    "render_data = {\n",
    "    'send_date' : (datetime.today()).strftime('%Y-%m-%d, %H'),\n",
    "    'df_html' : result.to_html(),\n",
    "    'count1' : int(result0) + int(naver_count) ,\n",
    "    'count2' : int(naver_count) + int(kakao_count),\n",
    "    'count3' : naver_count,\n",
    "    'count4' : kakao_count,\n",
    "    'add_text1' : \"*  본 메일은 발신전용입니다.\",\n",
    "    'add_text2' : \"** (내용/기술문의 : 고객정보전략담당, 박경하 )\"\n",
    "}\n",
    "\n",
    "\n",
    "t= Template(message_tmpl)\n",
    "html_report = t.render(render_data)\n",
    "\n"
   ]
  },
  {
   "cell_type": "code",
   "execution_count": 12,
   "metadata": {},
   "outputs": [],
   "source": [
    "\n",
    "# 발송 변수 설정\n",
    "\n",
    "# 받는사람 : test 발송\n",
    "to_users = ['khpark@maeil.com']\n",
    "\n",
    "# 받는사람 : mulit 발송\n",
    "# to_users = ['khpark@maeil.com', '********@maeil.com',]\n",
    "\n",
    "\n",
    "# 메일제목\n",
    "now = datetime.today()    # 현재\n",
    "date = now.strftime('%Y%m%d')\n",
    "\n",
    "subject = \"[자동발송] 네이버 고객 부정리뷰 관리 List(TEST_v5)\"\n",
    "\n",
    "# 본문\n",
    "html = html_report\n",
    "\n",
    "# 첨부파일 추가\n",
    "attach = directory_name + file_name\n",
    "graph=None\n"
   ]
  },
  {
   "cell_type": "code",
   "execution_count": 13,
   "metadata": {},
   "outputs": [],
   "source": [
    "###############\n",
    "# 3.이메일 발송\n",
    "#####\n",
    "import pandas as pd\n",
    "import os\n",
    "import smtplib\n",
    "# from email.headerregistry import Address\n",
    "from email.mime.multipart import MIMEMultipart\n",
    "from email.mime.base import MIMEBase\n",
    "from email.mime.text import MIMEText\n",
    "from email.mime.image import MIMEImage\n",
    "from email import encoders\n",
    "from email.header import Header\n",
    "from datetime import datetime, timedelta\n",
    "\n",
    "from jinja2 import Template\n",
    "\n",
    "gmail_user= 'khpark@maeil.com'\n",
    "gmail_pwd = 'maeil02!@'\n",
    "\n",
    "def send_email(to, subject, html, graph=None, attach=None):\n",
    "    msg=MIMEMultipart('related')\n",
    "    msg['From']=gmail_user\n",
    "    msg['To'] = \", \".join(to)\n",
    "    msg['Subject'] = Header(s=subject, charset=\"utf-8\")\n",
    "    msg.attach(MIMEText(html, 'html', _charset=\"utf-8\"))\n",
    "\n",
    "    # 이미지 내용 추가(1장만 가능한 format)\n",
    "    if graph:\n",
    "        fp = open(graph, 'rb')\n",
    "        msgImage = MIMEImage(fp.read())\n",
    "        fp.close()\n",
    "        msgImage.add_header('Content-ID', '<image1>')\n",
    "        msg.attach(msgImage)\n",
    "\n",
    "    #첨부파일\n",
    "    if attach:\n",
    "        part=MIMEBase('application','octet-stream')\n",
    "        part.set_payload(open(attach, 'rb').read())\n",
    "        encoders.encode_base64(part)\n",
    "        part.add_header('Content-Disposition','attachment; filename=\"%s\"' % os.path.basename(attach))\n",
    "        msg.attach(part)\n",
    "     \n",
    "    s = smtplib.SMTP(\"mail.maeil.com\", 25)\n",
    "    s.ehlo()\n",
    "    s.starttls()\n",
    "    s.ehlo()\n",
    "    s.login(gmail_user, gmail_pwd)\n",
    "    s.sendmail(gmail_user, to, msg.as_string())\n",
    "    s.close()\n"
   ]
  },
  {
   "cell_type": "code",
   "execution_count": 14,
   "metadata": {},
   "outputs": [],
   "source": [
    "#메일 발송\n",
    "send_email(to_users, subject, html, graph, attach)\n",
    "# os.remove(attach)"
   ]
  },
  {
   "cell_type": "code",
   "execution_count": null,
   "metadata": {},
   "outputs": [],
   "source": []
  },
  {
   "cell_type": "code",
   "execution_count": null,
   "metadata": {},
   "outputs": [],
   "source": []
  },
  {
   "cell_type": "code",
   "execution_count": null,
   "metadata": {},
   "outputs": [],
   "source": []
  },
  {
   "cell_type": "code",
   "execution_count": null,
   "metadata": {},
   "outputs": [],
   "source": []
  },
  {
   "cell_type": "code",
   "execution_count": null,
   "metadata": {},
   "outputs": [],
   "source": []
  }
 ],
 "metadata": {
  "kernelspec": {
   "display_name": "Python 3",
   "language": "python",
   "name": "python3"
  },
  "language_info": {
   "codemirror_mode": {
    "name": "ipython",
    "version": 3
   },
   "file_extension": ".py",
   "mimetype": "text/x-python",
   "name": "python",
   "nbconvert_exporter": "python",
   "pygments_lexer": "ipython3",
   "version": "3.7.6"
  }
 },
 "nbformat": 4,
 "nbformat_minor": 4
}
