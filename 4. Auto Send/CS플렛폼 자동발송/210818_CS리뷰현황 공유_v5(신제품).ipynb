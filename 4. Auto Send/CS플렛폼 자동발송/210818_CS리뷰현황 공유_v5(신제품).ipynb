{
 "cells": [
  {
   "cell_type": "code",
   "execution_count": null,
   "metadata": {},
   "outputs": [],
   "source": []
  },
  {
   "cell_type": "markdown",
   "metadata": {},
   "source": [
    "1. 데이터 불러오기/변환\n",
    "2. Overview\n",
    "  + [ ] 수집 체널 List\n",
    "3. 당월자료 Summary : Graph\n",
    "  + [ ] 유형별 수집자료 : 수치, 비율, 전월대비 증/감율\n",
    "  + [x] Trend\n",
    "  + [x] 비율\n",
    "  + [ ] Wordcloud(A/B/C) : color 설정\n",
    "  + [ ] 연관단어(keyword 기준)\n",
    "3. 이메일 양식 작성"
   ]
  },
  {
   "cell_type": "code",
   "execution_count": null,
   "metadata": {},
   "outputs": [],
   "source": []
  },
  {
   "cell_type": "code",
   "execution_count": 15,
   "metadata": {},
   "outputs": [],
   "source": [
    "# DB접속\n",
    "import pymysql\n",
    "import pandas as pd\n",
    "import numpy as np\n",
    "import os\n",
    "\n",
    "# 한글정제 KoNLPy\n",
    "from ckonlpy.tag import Twitter\n",
    "twitter = Twitter()\n",
    "\n",
    "# 그래프\n",
    "import matplotlib as mpl\n",
    "import matplotlib.pyplot as plt\n",
    "import matplotlib.font_manager as fm\n",
    "path = 'C:/windows/Fonts/malgun.ttf'                           # 폰트:맑은고딕\n",
    "font_name = fm.FontProperties(fname=path, size=24).get_name()  \n",
    "plt.rc('font', family=font_name)\n",
    "from matplotlib.font_manager import FontProperties\n",
    "\n",
    "prop = FontProperties(fname='/System/Library/Fonts/Apple Color Emoji.ttc')\n",
    "plt.rcParams['font.family'] = prop.get_family()\n",
    "\n",
    "# 시간기록\n",
    "from datetime import datetime, timedelta\n",
    "import time \n",
    "\n",
    "# 내용공유(e-mail, 회사) \n",
    "# import send_email as se\n",
    "from jinja2 import Template\n",
    "\n",
    "import warnings\n",
    "warnings.filterwarnings(\"ignore\")"
   ]
  },
  {
   "cell_type": "code",
   "execution_count": null,
   "metadata": {},
   "outputs": [],
   "source": []
  },
  {
   "cell_type": "code",
   "execution_count": 2,
   "metadata": {},
   "outputs": [],
   "source": []
  },
  {
   "cell_type": "code",
   "execution_count": null,
   "metadata": {},
   "outputs": [],
   "source": []
  },
  {
   "cell_type": "code",
   "execution_count": null,
   "metadata": {},
   "outputs": [],
   "source": []
  },
  {
   "cell_type": "markdown",
   "metadata": {},
   "source": [
    "### I.데이터 불러오기"
   ]
  },
  {
   "cell_type": "code",
   "execution_count": 4,
   "metadata": {},
   "outputs": [],
   "source": [
    "df_new = pd.read_excel('./kakaomakers.xlsx',0)\n",
    "\n",
    "# 날자 타입 변경\n",
    "df_new['DATE'] = pd.to_datetime(df_new['DATE'])\n",
    "df_new['DATE'] = df_new['DATE'].dt.strftime('%m/%d')\n",
    "\n",
    "# 날짜기준 정렬\n",
    "df_new.sort_values(by=['DATE'], inplace=True, ascending=False)\n",
    "\n",
    "# 상품 정렬\n",
    "product_list = ['[매일유업] 소화가 잘되는 우유 국산 5곡 미숫가루 190ml x 24팩',\n",
    "                '매일유업 소화가 잘되는 우유 국산 5곡 미숫가루 190ml x 24팩' ]\n",
    "\n",
    "category_list = ['소잘 미숫가루',\n",
    "                 '소잘 미숫가루']\n",
    "\n",
    "df_category = pd.DataFrame({'PRODUCT' : product_list, 'CATEGORY' :category_list})\n",
    "\n",
    "# merge\n",
    "df_new = df_new.join(df_category.set_index('PRODUCT')['CATEGORY'], on='PRODUCT')\n",
    "df_new = df_new[df_new.columns[1:]]\n",
    "\n",
    "df_new['TEXT'] = df_new['TEXT'].str.replace('\\n', ' ')\n",
    "\n",
    "\n",
    "# 자료 분리\n",
    "df_QnA    = df_new[df_new['GUBUN']=='문의']\n",
    "df_review = df_new[df_new['GUBUN']=='제품후기']"
   ]
  },
  {
   "cell_type": "code",
   "execution_count": 12,
   "metadata": {},
   "outputs": [],
   "source": [
    "df_review = df_review.dropna().reset_index()"
   ]
  },
  {
   "cell_type": "code",
   "execution_count": 14,
   "metadata": {},
   "outputs": [
    {
     "data": {
      "text/html": [
       "<div>\n",
       "<style scoped>\n",
       "    .dataframe tbody tr th:only-of-type {\n",
       "        vertical-align: middle;\n",
       "    }\n",
       "\n",
       "    .dataframe tbody tr th {\n",
       "        vertical-align: top;\n",
       "    }\n",
       "\n",
       "    .dataframe thead th {\n",
       "        text-align: right;\n",
       "    }\n",
       "</style>\n",
       "<table border=\"1\" class=\"dataframe\">\n",
       "  <thead>\n",
       "    <tr style=\"text-align: right;\">\n",
       "      <th></th>\n",
       "      <th>level_0</th>\n",
       "      <th>index</th>\n",
       "      <th>USER</th>\n",
       "      <th>PRODUCT</th>\n",
       "      <th>TEXT</th>\n",
       "      <th>DATE</th>\n",
       "      <th>SCORE</th>\n",
       "      <th>CHANNEL</th>\n",
       "      <th>GUBUN</th>\n",
       "      <th>CATEGORY</th>\n",
       "    </tr>\n",
       "  </thead>\n",
       "  <tbody>\n",
       "    <tr>\n",
       "      <th>798</th>\n",
       "      <td>798</td>\n",
       "      <td>346</td>\n",
       "      <td>허사장님</td>\n",
       "      <td>[매일유업] 소화가 잘되는 우유 국산 5곡 미숫가루 190ml x 24팩</td>\n",
       "      <td>주문하고 먹어보고 싶어서 너무 기다렸는데 오늘 왔네요! 배송온거 뜯자마자 한팩 마시...</td>\n",
       "      <td>08/03</td>\n",
       "      <td>4.0</td>\n",
       "      <td>카카오메이커스</td>\n",
       "      <td>제품후기</td>\n",
       "      <td>소잘 미숫가루</td>\n",
       "    </tr>\n",
       "    <tr>\n",
       "      <th>799</th>\n",
       "      <td>799</td>\n",
       "      <td>1139</td>\n",
       "      <td>김희정</td>\n",
       "      <td>[매일유업] 소화가 잘되는 우유 국산 5곡 미숫가루 190ml x 24팩</td>\n",
       "      <td>유통기한이 10/30</td>\n",
       "      <td>08/03</td>\n",
       "      <td>1.0</td>\n",
       "      <td>카카오메이커스</td>\n",
       "      <td>제품후기</td>\n",
       "      <td>소잘 미숫가루</td>\n",
       "    </tr>\n",
       "  </tbody>\n",
       "</table>\n",
       "</div>"
      ],
      "text/plain": [
       "     level_0  index  USER                                   PRODUCT  \\\n",
       "798      798    346  허사장님  [매일유업] 소화가 잘되는 우유 국산 5곡 미숫가루 190ml x 24팩   \n",
       "799      799   1139   김희정  [매일유업] 소화가 잘되는 우유 국산 5곡 미숫가루 190ml x 24팩   \n",
       "\n",
       "                                                  TEXT   DATE  SCORE  CHANNEL  \\\n",
       "798  주문하고 먹어보고 싶어서 너무 기다렸는데 오늘 왔네요! 배송온거 뜯자마자 한팩 마시...  08/03    4.0  카카오메이커스   \n",
       "799                                        유통기한이 10/30  08/03    1.0  카카오메이커스   \n",
       "\n",
       "    GUBUN CATEGORY  \n",
       "798  제품후기  소잘 미숫가루  \n",
       "799  제품후기  소잘 미숫가루  "
      ]
     },
     "execution_count": 14,
     "metadata": {},
     "output_type": "execute_result"
    }
   ],
   "source": [
    "df_review.tail(2)"
   ]
  },
  {
   "cell_type": "code",
   "execution_count": 118,
   "metadata": {},
   "outputs": [],
   "source": []
  },
  {
   "cell_type": "code",
   "execution_count": 16,
   "metadata": {},
   "outputs": [],
   "source": [
    "###############\n",
    "# Text 정제\n",
    "#####\n",
    "\n",
    "# 사전에 고유 명사 추가\n",
    "twitter.add_dictionary('셀렉스', 'Noun')\n",
    "twitter.add_dictionary('어메이징', 'Noun')\n",
    "twitter.add_dictionary('오트', 'Noun')\n",
    "twitter.add_dictionary('어메이징 오트', 'Noun')\n",
    "twitter.add_dictionary('무설탕', 'Noun')\n",
    "twitter.add_dictionary('프로틴', 'Noun')\n",
    "twitter.add_dictionary('보냉백', 'Noun')\n",
    "twitter.add_dictionary('라방', 'Noun')\n",
    "twitter.add_dictionary('재구매', 'Noun')\n",
    "twitter.add_dictionary('유통기한', 'Noun')\n",
    "twitter.add_dictionary('사은품', 'Noun')\n",
    "twitter.add_dictionary('팥빙수', 'Noun')\n",
    "twitter.add_dictionary('의향', 'Noun')\n",
    "\n",
    "\n",
    "def tokenize(doc):\n",
    "    result = ['/'.join(t) for t in twitter.pos(doc, norm=True, stem=True)] # ex '더빙/Norm', '나다/Verb'\n",
    "    return result \n",
    "\n",
    "def listToString(s):  \n",
    "    str1 = \"\"  \n",
    "    for ele in s:  \n",
    "        str1 += \" \" + ele.strip()  \n",
    "    return str1\n"
   ]
  },
  {
   "cell_type": "code",
   "execution_count": null,
   "metadata": {},
   "outputs": [],
   "source": []
  },
  {
   "cell_type": "code",
   "execution_count": 19,
   "metadata": {},
   "outputs": [],
   "source": [
    "#토큰화 : 전체리뷰자료\n",
    "df_temp1 = df_review['TEXT'].replace(\"[^ㄱ-ㅎㅏ-ㅣ가-힣 ]\",\"\")\n",
    "\n",
    "# regex to konlpy\n",
    "token_all = [tokenize(row) for row in df_temp1 ]  \n",
    "\n",
    "data_trim2 = []\n",
    "for i in range(len(df_temp1)):\n",
    "    t = ' '.join(token_all[i])\n",
    "    data_trim2.append(t.replace(\"[^ㄱ-ㅎㅏ-ㅣ가-힣 ]\",\"\"))\n",
    "    \n",
    "df_temp1 = pd.DataFrame(data_trim2)\n",
    "df_temp1 = df_temp1[0].str.replace(\"[^ㄱ-ㅎㅏ-ㅣ가-힣 ]\",\"\")\n",
    "\n",
    "df_review['token'] = df_temp1\n",
    "df_review['token_attribution'] = token_all\n",
    "\n"
   ]
  },
  {
   "cell_type": "code",
   "execution_count": 20,
   "metadata": {},
   "outputs": [
    {
     "data": {
      "text/html": [
       "<div>\n",
       "<style scoped>\n",
       "    .dataframe tbody tr th:only-of-type {\n",
       "        vertical-align: middle;\n",
       "    }\n",
       "\n",
       "    .dataframe tbody tr th {\n",
       "        vertical-align: top;\n",
       "    }\n",
       "\n",
       "    .dataframe thead th {\n",
       "        text-align: right;\n",
       "    }\n",
       "</style>\n",
       "<table border=\"1\" class=\"dataframe\">\n",
       "  <thead>\n",
       "    <tr style=\"text-align: right;\">\n",
       "      <th></th>\n",
       "      <th>level_0</th>\n",
       "      <th>index</th>\n",
       "      <th>USER</th>\n",
       "      <th>PRODUCT</th>\n",
       "      <th>TEXT</th>\n",
       "      <th>DATE</th>\n",
       "      <th>SCORE</th>\n",
       "      <th>CHANNEL</th>\n",
       "      <th>GUBUN</th>\n",
       "      <th>CATEGORY</th>\n",
       "      <th>token</th>\n",
       "      <th>token_attribution</th>\n",
       "    </tr>\n",
       "  </thead>\n",
       "  <tbody>\n",
       "    <tr>\n",
       "      <th>798</th>\n",
       "      <td>798</td>\n",
       "      <td>346</td>\n",
       "      <td>허사장님</td>\n",
       "      <td>[매일유업] 소화가 잘되는 우유 국산 5곡 미숫가루 190ml x 24팩</td>\n",
       "      <td>주문하고 먹어보고 싶어서 너무 기다렸는데 오늘 왔네요! 배송온거 뜯자마자 한팩 마시...</td>\n",
       "      <td>08/03</td>\n",
       "      <td>4.0</td>\n",
       "      <td>카카오메이커스</td>\n",
       "      <td>제품후기</td>\n",
       "      <td>소잘 미숫가루</td>\n",
       "      <td>주문 하고 먹다 어보 고 싶다 어서 너무 기다리다 오늘 오다  배송 오다 뜯다 자마...</td>\n",
       "      <td>[주문/Noun, 하고/Josa, 먹다/Verb, 어보/Noun, 고/Josa, 싶...</td>\n",
       "    </tr>\n",
       "    <tr>\n",
       "      <th>799</th>\n",
       "      <td>799</td>\n",
       "      <td>1139</td>\n",
       "      <td>김희정</td>\n",
       "      <td>[매일유업] 소화가 잘되는 우유 국산 5곡 미숫가루 190ml x 24팩</td>\n",
       "      <td>유통기한이 10/30</td>\n",
       "      <td>08/03</td>\n",
       "      <td>1.0</td>\n",
       "      <td>카카오메이커스</td>\n",
       "      <td>제품후기</td>\n",
       "      <td>소잘 미숫가루</td>\n",
       "      <td>유통기한 이</td>\n",
       "      <td>[유통기한/Noun, 이/Josa, 10/30/Number]</td>\n",
       "    </tr>\n",
       "  </tbody>\n",
       "</table>\n",
       "</div>"
      ],
      "text/plain": [
       "     level_0  index  USER                                   PRODUCT  \\\n",
       "798      798    346  허사장님  [매일유업] 소화가 잘되는 우유 국산 5곡 미숫가루 190ml x 24팩   \n",
       "799      799   1139   김희정  [매일유업] 소화가 잘되는 우유 국산 5곡 미숫가루 190ml x 24팩   \n",
       "\n",
       "                                                  TEXT   DATE  SCORE  CHANNEL  \\\n",
       "798  주문하고 먹어보고 싶어서 너무 기다렸는데 오늘 왔네요! 배송온거 뜯자마자 한팩 마시...  08/03    4.0  카카오메이커스   \n",
       "799                                        유통기한이 10/30  08/03    1.0  카카오메이커스   \n",
       "\n",
       "    GUBUN CATEGORY                                              token  \\\n",
       "798  제품후기  소잘 미숫가루  주문 하고 먹다 어보 고 싶다 어서 너무 기다리다 오늘 오다  배송 오다 뜯다 자마...   \n",
       "799  제품후기  소잘 미숫가루                                            유통기한 이    \n",
       "\n",
       "                                     token_attribution  \n",
       "798  [주문/Noun, 하고/Josa, 먹다/Verb, 어보/Noun, 고/Josa, 싶...  \n",
       "799                  [유통기한/Noun, 이/Josa, 10/30/Number]  "
      ]
     },
     "execution_count": 20,
     "metadata": {},
     "output_type": "execute_result"
    }
   ],
   "source": [
    "df_review.tail(2)"
   ]
  },
  {
   "cell_type": "code",
   "execution_count": 22,
   "metadata": {},
   "outputs": [],
   "source": [
    "# Excel 자료 저장 v2\n",
    "now = datetime.today()    # 현재\n",
    "date = now.strftime('%Y%m%d')\n",
    "\n",
    "writer = pd.ExcelWriter('./'+ date+ '_kakaomakers.xlsx')\n",
    "df_review.to_excel(writer, 'Sheet1')\n",
    "writer.save()"
   ]
  },
  {
   "cell_type": "code",
   "execution_count": null,
   "metadata": {},
   "outputs": [],
   "source": []
  },
  {
   "cell_type": "code",
   "execution_count": 4,
   "metadata": {},
   "outputs": [],
   "source": [
    "report_channel = df_review['CHANNEL'].unique()\n",
    "report_porduct = df_review['CATEGORY'].unique()\n",
    "\n",
    "def report_head(category_text, gubun_text):\n",
    "    report_temp = df_new[(df_new['CATEGORY'] ==category_text) & (df_new['GUBUN'] ==gubun_text) ].head(10)\n",
    "    report_temp = report_temp[['USER', 'DATE', 'CHANNEL', 'TEXT', 'SCORE']]\n",
    "    report_temp['SCORE'] = report_temp['SCORE'].fillna('-')\n",
    "    return report_temp\n",
    "\n",
    "def report_head_neg(category_text, gubun_text):\n",
    "    report_temp = df_new[(df_new['CATEGORY'] ==category_text) & (df_new['GUBUN'] ==gubun_text) ]\n",
    "    report_temp = report_temp[report_temp['SCORE'] <=2].head(10)\n",
    "    report_temp = report_temp[['USER', 'DATE', 'CHANNEL', 'TEXT', 'SCORE']]\n",
    "    report_temp['SCORE'] = report_temp['SCORE'].fillna('-')\n",
    "    return report_temp\n",
    "\n",
    "def report_head_pos(category_text, gubun_text):\n",
    "    report_temp = df_new[(df_new['CATEGORY'] ==category_text) & (df_new['GUBUN'] ==gubun_text) ]\n",
    "    report_temp = report_temp[report_temp['SCORE'] >=3].head(10)\n",
    "    report_temp = report_temp[['USER', 'DATE', 'CHANNEL', 'TEXT', 'SCORE']]\n",
    "    report_temp['SCORE'] = report_temp['SCORE'].fillna('-')\n",
    "    return report_temp\n",
    "\n",
    "\n",
    "def report_trend(category_text, image_name):\n",
    "    report_temp = df_new[(df_new['CATEGORY'] ==category_text) ]\n",
    "    report_temp = report_temp[['USER', 'DATE', 'CATEGORY', 'GUBUN']]\n",
    "    \n",
    "    fig = plt.figure(figsize=(7, 4))\n",
    "    ax = plt.subplot(1,1,1)\n",
    "    report_temp.pivot_table(values='USER', index=['DATE'], columns='GUBUN', aggfunc='count').plot.bar(stacked=True, ax = ax)\n",
    "    plt.legend(loc='best', fancybox=True, shadow=True, ncol=1)\n",
    "    plt.title('{} : 작성 추이'.format(category_text),fontsize=15)\n",
    "    plt.ylabel('작성 건 수')\n",
    "    plt.savefig(image_name, bbox_inches='tight', dpi=70)\n",
    "    return"
   ]
  },
  {
   "cell_type": "code",
   "execution_count": 6,
   "metadata": {},
   "outputs": [
    {
     "data": {
      "image/png": "[encoded data removed]",
      "text/plain": [
       "<Figure size 504x288 with 1 Axes>"
      ]
     },
     "metadata": {
      "needs_background": "light"
     },
     "output_type": "display_data"
    },
    {
     "data": {
      "image/png": "[encoded data removed]",
      "text/plain": [
       "<Figure size 504x288 with 1 Axes>"
      ]
     },
     "metadata": {
      "needs_background": "light"
     },
     "output_type": "display_data"
    },
    {
     "data": {
      "image/png": "[encoded data removed]",
      "text/plain": [
       "<Figure size 504x288 with 1 Axes>"
      ]
     },
     "metadata": {
      "needs_background": "light"
     },
     "output_type": "display_data"
    },
    {
     "data": {
      "image/png": "[encoded data removed]",
      "text/plain": [
       "<Figure size 504x288 with 1 Axes>"
      ]
     },
     "metadata": {
      "needs_background": "light"
     },
     "output_type": "display_data"
    },
    {
     "data": {
      "image/png": "[encoded data removed]",
      "text/plain": [
       "<Figure size 504x288 with 1 Axes>"
      ]
     },
     "metadata": {
      "needs_background": "light"
     },
     "output_type": "display_data"
    }
   ],
   "source": [
    "REPORT_01_RVW = report_head('소잘 미숫가루', '제품후기')\n",
    "REPORT_01_NEG = report_head_neg('소잘 미숫가루', '제품후기')\n",
    "REPORT_01_POS = report_head_pos('소잘 미숫가루', '제품후기')\n",
    "REPORT_01_QNA = report_head('소잘 미숫가루', '문의')\n",
    "REPORT_01     = report_trend('소잘 미숫가루', 'VoC_REPORT_01.png')\n",
    "\n",
    "REPORT_02_RVW = report_head('누룽지죽 / 소고기버섯', '제품후기')\n",
    "REPORT_02_NEG = report_head_neg('누룽지죽 / 소고기버섯', '제품후기')\n",
    "REPORT_02_POS = report_head_pos('누룽지죽 / 소고기버섯', '제품후기')\n",
    "REPORT_02_QNA = report_head('누룽지죽 / 소고기버섯', '문의')\n",
    "REPORT_02     = report_trend('누룽지죽 / 소고기버섯', 'VoC_REPORT_02.png')\n",
    "\n",
    "REPORT_03_RVW = report_head('어메이징 오트', '제품후기')\n",
    "REPORT_03_NEG = report_head_neg('어메이징 오트', '제품후기')\n",
    "REPORT_03_POS = report_head_pos('어메이징 오트', '제품후기')\n",
    "REPORT_03_QNA = report_head('어메이징 오트', '문의')\n",
    "REPORT_03     = report_trend('어메이징 오트', 'VoC_REPORT_03.png')\n",
    "\n",
    "REPORT_04_RVW = report_head('프로바이오틱스', '제품후기')\n",
    "REPORT_04_NEG = report_head_neg('프로바이오틱스', '제품후기')\n",
    "REPORT_04_POS = report_head_pos('프로바이오틱스', '제품후기')\n",
    "REPORT_04_QNA = report_head('프로바이오틱스', '문의')\n",
    "REPORT_04     = report_trend('프로바이오틱스', 'VoC_REPORT_04.png')\n",
    "\n",
    "REPORT_05_RVW = report_head('셀렉스 프리바이오틱스', '제품후기')\n",
    "REPORT_05_NEG = report_head_neg('셀렉스 프리바이오틱스', '제품후기')\n",
    "REPORT_05_POS = report_head_pos('셀렉스 프리바이오틱스', '제품후기')\n",
    "REPORT_05_QNA = report_head('셀렉스 프리바이오틱스', '문의')\n",
    "REPORT_05     = report_trend('셀렉스 프리바이오틱스', 'VoC_REPORT_05.png')\n"
   ]
  },
  {
   "cell_type": "code",
   "execution_count": null,
   "metadata": {},
   "outputs": [],
   "source": []
  },
  {
   "cell_type": "code",
   "execution_count": null,
   "metadata": {},
   "outputs": [],
   "source": []
  },
  {
   "cell_type": "code",
   "execution_count": 182,
   "metadata": {},
   "outputs": [],
   "source": [
    "category_text = '소잘 미숫가루'\n",
    "report_temp = df_new[(df_new['CATEGORY'] ==category_text) ]\n",
    "report_temp = report_temp[['USER', 'DATE', 'CATEGORY', 'GUBUN']]"
   ]
  },
  {
   "cell_type": "code",
   "execution_count": 195,
   "metadata": {},
   "outputs": [
    {
     "data": {
      "text/plain": [
       "<matplotlib.axes._subplots.AxesSubplot at 0x27e8ecab9c8>"
      ]
     },
     "execution_count": 195,
     "metadata": {},
     "output_type": "execute_result"
    },
    {
     "data": {
      "image/png": "[encoded data removed]",
      "text/plain": [
       "<Figure size 1152x360 with 1 Axes>"
      ]
     },
     "metadata": {
      "needs_background": "light"
     },
     "output_type": "display_data"
    }
   ],
   "source": [
    "report_temp.pivot_table(values='USER', index=['DATE'], columns='GUBUN', aggfunc='count').plot()"
   ]
  },
  {
   "cell_type": "code",
   "execution_count": 206,
   "metadata": {},
   "outputs": [
    {
     "data": {
      "image/png": "[encoded data removed]",
      "text/plain": [
       "<Figure size 504x288 with 1 Axes>"
      ]
     },
     "metadata": {
      "needs_background": "light"
     },
     "output_type": "display_data"
    }
   ],
   "source": [
    "fig = plt.figure(figsize=(7, 4))\n",
    "ax = plt.subplot(1,1,1)\n",
    "report_temp.pivot_table(values='USER', index=['DATE'], columns='GUBUN', aggfunc='count').plot.bar(stacked=True, ax = ax)\n",
    "plt.legend(loc='best', fancybox=True, shadow=True, ncol=1)\n",
    "plt.title('사용후기 작성 추이',fontsize=15)\n",
    "plt.ylabel('작성 건 수')\n",
    "plt.show()"
   ]
  },
  {
   "cell_type": "code",
   "execution_count": 93,
   "metadata": {},
   "outputs": [
    {
     "data": {
      "text/html": [
       "<div>\n",
       "<style scoped>\n",
       "    .dataframe tbody tr th:only-of-type {\n",
       "        vertical-align: middle;\n",
       "    }\n",
       "\n",
       "    .dataframe tbody tr th {\n",
       "        vertical-align: top;\n",
       "    }\n",
       "\n",
       "    .dataframe thead th {\n",
       "        text-align: right;\n",
       "    }\n",
       "</style>\n",
       "<table border=\"1\" class=\"dataframe\">\n",
       "  <thead>\n",
       "    <tr style=\"text-align: right;\">\n",
       "      <th></th>\n",
       "      <th>USER</th>\n",
       "      <th>DATE</th>\n",
       "      <th>CHANNEL</th>\n",
       "      <th>TEXT</th>\n",
       "      <th>SCORE</th>\n",
       "    </tr>\n",
       "  </thead>\n",
       "  <tbody>\n",
       "    <tr>\n",
       "      <th>0</th>\n",
       "      <td>spring</td>\n",
       "      <td>08/30</td>\n",
       "      <td>카카오메이커스</td>\n",
       "      <td>물에 타먹으라고 하였는데 찬물에도 잘 녹는지 여부와 꼭 물에 타먹어야 되는지 등 \\...</td>\n",
       "      <td>-</td>\n",
       "    </tr>\n",
       "    <tr>\n",
       "      <th>1</th>\n",
       "      <td>meon</td>\n",
       "      <td>08/27</td>\n",
       "      <td>카카오메이커스</td>\n",
       "      <td>콤부차에 타서먹어도 되나요?</td>\n",
       "      <td>-</td>\n",
       "    </tr>\n",
       "    <tr>\n",
       "      <th>2</th>\n",
       "      <td>지운</td>\n",
       "      <td>08/25</td>\n",
       "      <td>카카오메이커스</td>\n",
       "      <td>꼭물에타서먹어야하나요?다른분말형유산균처럼복용해도되나요?</td>\n",
       "      <td>-</td>\n",
       "    </tr>\n",
       "    <tr>\n",
       "      <th>3</th>\n",
       "      <td>양정호</td>\n",
       "      <td>08/25</td>\n",
       "      <td>카카오메이커스</td>\n",
       "      <td>식후혈당 억제에 대한,제품의 설명이 부족해 보입니다.\\n좀 더 자세히 설명 부탁드립...</td>\n",
       "      <td>-</td>\n",
       "    </tr>\n",
       "    <tr>\n",
       "      <th>4</th>\n",
       "      <td>jieun</td>\n",
       "      <td>08/24</td>\n",
       "      <td>카카오메이커스</td>\n",
       "      <td>이제품  프로바이오틱스랑 같이먹어도 되나요</td>\n",
       "      <td>-</td>\n",
       "    </tr>\n",
       "    <tr>\n",
       "      <th>5</th>\n",
       "      <td>이정희</td>\n",
       "      <td>08/24</td>\n",
       "      <td>카카오메이커스</td>\n",
       "      <td>유산균은 위산에 약하기 때문에 음식과 같이 먹으면 안된다고 알고있는데 이 제품은 샐...</td>\n",
       "      <td>-</td>\n",
       "    </tr>\n",
       "    <tr>\n",
       "      <th>6</th>\n",
       "      <td>mina</td>\n",
       "      <td>08/24</td>\n",
       "      <td>카카오메이커스</td>\n",
       "      <td>10회 먹을수있는 분량인거에요?\\n적정복욕량은 하루에 한번인가요?</td>\n",
       "      <td>-</td>\n",
       "    </tr>\n",
       "    <tr>\n",
       "      <th>7</th>\n",
       "      <td>mina</td>\n",
       "      <td>08/24</td>\n",
       "      <td>카카오메이커스</td>\n",
       "      <td>이거 저번에나온거 그거 개별포장되어서 나온거맞죠?</td>\n",
       "      <td>-</td>\n",
       "    </tr>\n",
       "    <tr>\n",
       "      <th>8</th>\n",
       "      <td>크롬</td>\n",
       "      <td>08/24</td>\n",
       "      <td>카카오메이커스</td>\n",
       "      <td>지난번에 카카오 메이커스에서 팔았던 깡통에 들어있는걸로 구매해서 먹었는데 좋아서 이...</td>\n",
       "      <td>-</td>\n",
       "    </tr>\n",
       "  </tbody>\n",
       "</table>\n",
       "</div>"
      ],
      "text/plain": [
       "     USER   DATE  CHANNEL                                               TEXT  \\\n",
       "0  spring  08/30  카카오메이커스  물에 타먹으라고 하였는데 찬물에도 잘 녹는지 여부와 꼭 물에 타먹어야 되는지 등 \\...   \n",
       "1    meon  08/27  카카오메이커스                                    콤부차에 타서먹어도 되나요?   \n",
       "2      지운  08/25  카카오메이커스                     꼭물에타서먹어야하나요?다른분말형유산균처럼복용해도되나요?   \n",
       "3     양정호  08/25  카카오메이커스  식후혈당 억제에 대한,제품의 설명이 부족해 보입니다.\\n좀 더 자세히 설명 부탁드립...   \n",
       "4   jieun  08/24  카카오메이커스                            이제품  프로바이오틱스랑 같이먹어도 되나요   \n",
       "5     이정희  08/24  카카오메이커스  유산균은 위산에 약하기 때문에 음식과 같이 먹으면 안된다고 알고있는데 이 제품은 샐...   \n",
       "6    mina  08/24  카카오메이커스               10회 먹을수있는 분량인거에요?\\n적정복욕량은 하루에 한번인가요?   \n",
       "7    mina  08/24  카카오메이커스                        이거 저번에나온거 그거 개별포장되어서 나온거맞죠?   \n",
       "8      크롬  08/24  카카오메이커스  지난번에 카카오 메이커스에서 팔았던 깡통에 들어있는걸로 구매해서 먹었는데 좋아서 이...   \n",
       "\n",
       "  SCORE  \n",
       "0     -  \n",
       "1     -  \n",
       "2     -  \n",
       "3     -  \n",
       "4     -  \n",
       "5     -  \n",
       "6     -  \n",
       "7     -  \n",
       "8     -  "
      ]
     },
     "execution_count": 93,
     "metadata": {},
     "output_type": "execute_result"
    }
   ],
   "source": [
    "report_head('매일유업 셀렉스 썬화이버 프리바이오틱스 125g (12.5g x 10개입)', '문의')"
   ]
  },
  {
   "cell_type": "code",
   "execution_count": 148,
   "metadata": {},
   "outputs": [
    {
     "data": {
      "text/html": [
       "<div>\n",
       "<style scoped>\n",
       "    .dataframe tbody tr th:only-of-type {\n",
       "        vertical-align: middle;\n",
       "    }\n",
       "\n",
       "    .dataframe tbody tr th {\n",
       "        vertical-align: top;\n",
       "    }\n",
       "\n",
       "    .dataframe thead th {\n",
       "        text-align: right;\n",
       "    }\n",
       "</style>\n",
       "<table border=\"1\" class=\"dataframe\">\n",
       "  <thead>\n",
       "    <tr style=\"text-align: right;\">\n",
       "      <th></th>\n",
       "      <th>USER</th>\n",
       "      <th>DATE</th>\n",
       "      <th>CHANNEL</th>\n",
       "      <th>TEXT</th>\n",
       "      <th>SCORE</th>\n",
       "    </tr>\n",
       "  </thead>\n",
       "  <tbody>\n",
       "    <tr>\n",
       "      <th>45</th>\n",
       "      <td>김캔지</td>\n",
       "      <td>08/27</td>\n",
       "      <td>카카오메이커스</td>\n",
       "      <td>오늘 주문했습니다.\\n유통기한 언제까지인가요?</td>\n",
       "      <td>-</td>\n",
       "    </tr>\n",
       "    <tr>\n",
       "      <th>44</th>\n",
       "      <td>어피치</td>\n",
       "      <td>08/27</td>\n",
       "      <td>카카오메이커스</td>\n",
       "      <td>생각보다 유통기한이 짧아서 ㅠ 3박스를 두고 먹기가 부담되네요 이렇게 짫을꺼라 생각...</td>\n",
       "      <td>-</td>\n",
       "    </tr>\n",
       "    <tr>\n",
       "      <th>48</th>\n",
       "      <td>이다애</td>\n",
       "      <td>08/27</td>\n",
       "      <td>카카오메이커스</td>\n",
       "      <td>다음 판매예정은 언제인지 알수잇을까요?? \\n이번에 하나 시켜서 맘에드는데 다음 판...</td>\n",
       "      <td>-</td>\n",
       "    </tr>\n",
       "    <tr>\n",
       "      <th>47</th>\n",
       "      <td>김민희</td>\n",
       "      <td>08/27</td>\n",
       "      <td>카카오메이커스</td>\n",
       "      <td>지금 주문했는데 유통기한긴걸로 제품 잘 보내주세용 한달이하로 짧으면 안될거같아요ㅠㅠ</td>\n",
       "      <td>-</td>\n",
       "    </tr>\n",
       "    <tr>\n",
       "      <th>46</th>\n",
       "      <td>권선희</td>\n",
       "      <td>08/27</td>\n",
       "      <td>카카오메이커스</td>\n",
       "      <td>유효기간 긴걸로 주세요</td>\n",
       "      <td>-</td>\n",
       "    </tr>\n",
       "    <tr>\n",
       "      <th>49</th>\n",
       "      <td>근이</td>\n",
       "      <td>08/26</td>\n",
       "      <td>카카오메이커스</td>\n",
       "      <td>최근 생산된 하자없는 최상의 상품으로 급배송 부탁드립니다</td>\n",
       "      <td>-</td>\n",
       "    </tr>\n",
       "    <tr>\n",
       "      <th>50</th>\n",
       "      <td>도보람</td>\n",
       "      <td>08/25</td>\n",
       "      <td>카카오메이커스</td>\n",
       "      <td>24x2개 주문했는데 제주도라서 배송이 조금 걱정이 되네요ㅠㅠㅠ 꼼꼼히 잘 부탁드려요!!</td>\n",
       "      <td>-</td>\n",
       "    </tr>\n",
       "    <tr>\n",
       "      <th>51</th>\n",
       "      <td>예솔</td>\n",
       "      <td>08/24</td>\n",
       "      <td>카카오메이커스</td>\n",
       "      <td>안녕하세요\\n정보 보니 정제수가 제일 많이 들어간 것 같은데\\n원유는 얼마나 들어있...</td>\n",
       "      <td>-</td>\n",
       "    </tr>\n",
       "    <tr>\n",
       "      <th>53</th>\n",
       "      <td>서은영</td>\n",
       "      <td>08/23</td>\n",
       "      <td>카카오메이커스</td>\n",
       "      <td>유당0프로에 락토리면 우유가 안들어간건가요??\\n우유가 안맞는 체질이라 괜찮을까요???</td>\n",
       "      <td>-</td>\n",
       "    </tr>\n",
       "    <tr>\n",
       "      <th>55</th>\n",
       "      <td>섹시희재</td>\n",
       "      <td>08/23</td>\n",
       "      <td>카카오메이커스</td>\n",
       "      <td>우유를 먹으면 설사를 하는데 설사나 그런거는 없겠죠?\\n먹고나서 혹시라도 안좋을까봐...</td>\n",
       "      <td>-</td>\n",
       "    </tr>\n",
       "  </tbody>\n",
       "</table>\n",
       "</div>"
      ],
      "text/plain": [
       "    USER   DATE  CHANNEL                                               TEXT  \\\n",
       "45   김캔지  08/27  카카오메이커스                          오늘 주문했습니다.\\n유통기한 언제까지인가요?   \n",
       "44   어피치  08/27  카카오메이커스  생각보다 유통기한이 짧아서 ㅠ 3박스를 두고 먹기가 부담되네요 이렇게 짫을꺼라 생각...   \n",
       "48   이다애  08/27  카카오메이커스  다음 판매예정은 언제인지 알수잇을까요?? \\n이번에 하나 시켜서 맘에드는데 다음 판...   \n",
       "47   김민희  08/27  카카오메이커스     지금 주문했는데 유통기한긴걸로 제품 잘 보내주세용 한달이하로 짧으면 안될거같아요ㅠㅠ   \n",
       "46   권선희  08/27  카카오메이커스                                       유효기간 긴걸로 주세요   \n",
       "49    근이  08/26  카카오메이커스                   최근 생산된 하자없는 최상의 상품으로 급배송 부탁드립니다    \n",
       "50   도보람  08/25  카카오메이커스  24x2개 주문했는데 제주도라서 배송이 조금 걱정이 되네요ㅠㅠㅠ 꼼꼼히 잘 부탁드려요!!   \n",
       "51    예솔  08/24  카카오메이커스  안녕하세요\\n정보 보니 정제수가 제일 많이 들어간 것 같은데\\n원유는 얼마나 들어있...   \n",
       "53   서은영  08/23  카카오메이커스   유당0프로에 락토리면 우유가 안들어간건가요??\\n우유가 안맞는 체질이라 괜찮을까요???   \n",
       "55  섹시희재  08/23  카카오메이커스  우유를 먹으면 설사를 하는데 설사나 그런거는 없겠죠?\\n먹고나서 혹시라도 안좋을까봐...   \n",
       "\n",
       "   SCORE  \n",
       "45     -  \n",
       "44     -  \n",
       "48     -  \n",
       "47     -  \n",
       "46     -  \n",
       "49     -  \n",
       "50     -  \n",
       "51     -  \n",
       "53     -  \n",
       "55     -  "
      ]
     },
     "execution_count": 148,
     "metadata": {},
     "output_type": "execute_result"
    }
   ],
   "source": [
    "report_head('소잘 미숫가루', '문의')"
   ]
  },
  {
   "cell_type": "code",
   "execution_count": 134,
   "metadata": {},
   "outputs": [],
   "source": [
    "# df_QnA.pivot_table(values='USER', index=['DATE'], columns='CHANNEL', aggfunc='count')"
   ]
  },
  {
   "cell_type": "code",
   "execution_count": null,
   "metadata": {},
   "outputs": [],
   "source": []
  },
  {
   "cell_type": "code",
   "execution_count": 7,
   "metadata": {},
   "outputs": [],
   "source": [
    "\n",
    "#폴더 내용 불러오기\n",
    "from glob import glob\n",
    "import os \n",
    "path = ''\n",
    "list_of_images = glob(os.path.join(path, \"VoC_REPORT_*.png\") )\n"
   ]
  },
  {
   "cell_type": "code",
   "execution_count": null,
   "metadata": {},
   "outputs": [],
   "source": []
  },
  {
   "cell_type": "code",
   "execution_count": null,
   "metadata": {},
   "outputs": [],
   "source": []
  },
  {
   "cell_type": "code",
   "execution_count": null,
   "metadata": {},
   "outputs": [],
   "source": []
  },
  {
   "cell_type": "code",
   "execution_count": null,
   "metadata": {},
   "outputs": [],
   "source": []
  },
  {
   "cell_type": "code",
   "execution_count": null,
   "metadata": {},
   "outputs": [],
   "source": []
  },
  {
   "cell_type": "code",
   "execution_count": 19,
   "metadata": {},
   "outputs": [],
   "source": [
    "###############\n",
    "# Text 정제\n",
    "#####\n",
    "\n",
    "# 사전에 고유 명사 추가\n",
    "twitter.add_dictionary('셀렉스', 'Noun')\n",
    "twitter.add_dictionary('무설탕', 'Noun')\n",
    "twitter.add_dictionary('프로틴', 'Noun')\n",
    "twitter.add_dictionary('보냉백', 'Noun')\n",
    "twitter.add_dictionary('라방', 'Noun')\n",
    "twitter.add_dictionary('재구매', 'Noun')\n",
    "twitter.add_dictionary('유통기한', 'Noun')\n",
    "twitter.add_dictionary('사은품', 'Noun')\n",
    "twitter.add_dictionary('언스위트', 'Noun')\n",
    "twitter.add_dictionary('팥빙수', 'Noun')\n",
    "\n",
    "def tokenize(doc):\n",
    "    result = ['/'.join(t) for t in twitter.pos(doc, norm=True, stem=True)] # ex '더빙/Norm', '나다/Verb'\n",
    "    return result \n",
    "\n",
    "def listToString(s):  \n",
    "    str1 = \"\"  \n",
    "    for ele in s:  \n",
    "        str1 += \" \" + ele.strip()  \n",
    "    return str1\n"
   ]
  },
  {
   "cell_type": "code",
   "execution_count": 97,
   "metadata": {},
   "outputs": [],
   "source": [
    "#토큰화 : 전체리뷰자료\n",
    "df_temp1 = df_review_all['문의상세내용'].replace(\"[^ㄱ-ㅎㅏ-ㅣ가-힣 ]\",\"\")\n",
    "\n",
    "# regex to konlpy\n",
    "token_all = [tokenize(row) for row in df_temp1 ]  \n",
    "\n",
    "data_trim2 = []\n",
    "for i in range(len(df_temp1)):\n",
    "    t = ' '.join(token_all[i])\n",
    "    data_trim2.append(t.replace(\"[^ㄱ-ㅎㅏ-ㅣ가-힣 ]\",\"\"))\n",
    "    \n",
    "df_temp1 = pd.DataFrame(data_trim2)\n",
    "df_temp1 = df_temp1[0].str.replace(\"[^ㄱ-ㅎㅏ-ㅣ가-힣 ]\",\"\")\n",
    "\n",
    "df_review_all['token'] = df_temp1\n",
    "df_review_all['token_attribution'] = token_all"
   ]
  },
  {
   "cell_type": "code",
   "execution_count": 22,
   "metadata": {},
   "outputs": [
    {
     "data": {
      "text/html": [
       "<div>\n",
       "<style scoped>\n",
       "    .dataframe tbody tr th:only-of-type {\n",
       "        vertical-align: middle;\n",
       "    }\n",
       "\n",
       "    .dataframe tbody tr th {\n",
       "        vertical-align: top;\n",
       "    }\n",
       "\n",
       "    .dataframe thead th {\n",
       "        text-align: right;\n",
       "    }\n",
       "</style>\n",
       "<table border=\"1\" class=\"dataframe\">\n",
       "  <thead>\n",
       "    <tr style=\"text-align: right;\">\n",
       "      <th></th>\n",
       "      <th>문의내용</th>\n",
       "      <th>문의상세내용</th>\n",
       "      <th>문의등록일</th>\n",
       "      <th>수집채널</th>\n",
       "      <th>category2</th>\n",
       "      <th>token</th>\n",
       "      <th>token_attribution</th>\n",
       "    </tr>\n",
       "  </thead>\n",
       "  <tbody>\n",
       "    <tr>\n",
       "      <th>0</th>\n",
       "      <td>기타</td>\n",
       "      <td>주소변경으로 글 남깁니다1:1도 안되고 어디로 연락드리나요?</td>\n",
       "      <td>08/02</td>\n",
       "      <td>17 카카오 메이커스</td>\n",
       "      <td>음료</td>\n",
       "      <td>주소 변경 으로 글 남기다  도 안되다 어디 로 연락 드 리나 요</td>\n",
       "      <td>[주소/Noun, 변경/Noun, 으로/Josa, 글/Noun, 남기다/Verb, ...</td>\n",
       "    </tr>\n",
       "    <tr>\n",
       "      <th>1</th>\n",
       "      <td>기타</td>\n",
       "      <td>오리지날만 주문했는데 로우슈거도 같이 오나요?</td>\n",
       "      <td>08/03</td>\n",
       "      <td>17 카카오 메이커스</td>\n",
       "      <td>음료</td>\n",
       "      <td>오리 지 날 만 주문 하다 로우 슈거 도 같이 오다</td>\n",
       "      <td>[오리/Noun, 지/Josa, 날/Noun, 만/Josa, 주문/Noun, 하다/...</td>\n",
       "    </tr>\n",
       "    <tr>\n",
       "      <th>2</th>\n",
       "      <td>기타</td>\n",
       "      <td>제가 다른 지역에 있어서 이번 배송 건 반품 신청부탁드립니다\\n주문 번호 20210...</td>\n",
       "      <td>08/03</td>\n",
       "      <td>26 셀렉스 몰</td>\n",
       "      <td>스포츠RTD</td>\n",
       "      <td>제 가 다른 지역 에 있다 어서 이번 배송 건 반품 신청 부탁 드립 니 다 주문 번...</td>\n",
       "      <td>[제/Noun, 가/Josa, 다른/Noun, 지역/Noun, 에/Josa, 있다/...</td>\n",
       "    </tr>\n",
       "    <tr>\n",
       "      <th>3</th>\n",
       "      <td>기타</td>\n",
       "      <td>안녕하세요 저분자 가수분해 단백질인가요</td>\n",
       "      <td>08/05</td>\n",
       "      <td>17 카카오 메이커스</td>\n",
       "      <td>음료</td>\n",
       "      <td>안녕 하다 저분자 가수분해 단백질 인가요</td>\n",
       "      <td>[안녕/Noun, 하다/Verb, 저분자/Noun, 가수분해/Noun, 단백질/No...</td>\n",
       "    </tr>\n",
       "    <tr>\n",
       "      <th>4</th>\n",
       "      <td>기타</td>\n",
       "      <td>이건 고무 끈 같은 게 나왔는 데 이게 뭔가요\\n오후 01:12\\n이거 조금 먹었는...</td>\n",
       "      <td>08/05</td>\n",
       "      <td>26 셀렉스 몰</td>\n",
       "      <td>스포츠RTD</td>\n",
       "      <td>이건 고무 끈 같다 게 나오다 데 이 게 뭔가 요 오후  이 거 조금 먹다 괜찮다 ...</td>\n",
       "      <td>[이건/Noun, 고무/Noun, 끈/Noun, 같다/Adjective, 게/Nou...</td>\n",
       "    </tr>\n",
       "  </tbody>\n",
       "</table>\n",
       "</div>"
      ],
      "text/plain": [
       "  문의내용                                             문의상세내용  문의등록일         수집채널  \\\n",
       "0   기타                  주소변경으로 글 남깁니다1:1도 안되고 어디로 연락드리나요?  08/02  17 카카오 메이커스   \n",
       "1   기타                          오리지날만 주문했는데 로우슈거도 같이 오나요?  08/03  17 카카오 메이커스   \n",
       "2   기타  제가 다른 지역에 있어서 이번 배송 건 반품 신청부탁드립니다\\n주문 번호 20210...  08/03     26 셀렉스 몰   \n",
       "3   기타                              안녕하세요 저분자 가수분해 단백질인가요  08/05  17 카카오 메이커스   \n",
       "4   기타  이건 고무 끈 같은 게 나왔는 데 이게 뭔가요\\n오후 01:12\\n이거 조금 먹었는...  08/05     26 셀렉스 몰   \n",
       "\n",
       "  category2                                              token  \\\n",
       "0        음료              주소 변경 으로 글 남기다  도 안되다 어디 로 연락 드 리나 요    \n",
       "1        음료                      오리 지 날 만 주문 하다 로우 슈거 도 같이 오다    \n",
       "2    스포츠RTD  제 가 다른 지역 에 있다 어서 이번 배송 건 반품 신청 부탁 드립 니 다 주문 번...   \n",
       "3        음료                             안녕 하다 저분자 가수분해 단백질 인가요   \n",
       "4    스포츠RTD  이건 고무 끈 같다 게 나오다 데 이 게 뭔가 요 오후  이 거 조금 먹다 괜찮다 ...   \n",
       "\n",
       "                                   token_attribution  \n",
       "0  [주소/Noun, 변경/Noun, 으로/Josa, 글/Noun, 남기다/Verb, ...  \n",
       "1  [오리/Noun, 지/Josa, 날/Noun, 만/Josa, 주문/Noun, 하다/...  \n",
       "2  [제/Noun, 가/Josa, 다른/Noun, 지역/Noun, 에/Josa, 있다/...  \n",
       "3  [안녕/Noun, 하다/Verb, 저분자/Noun, 가수분해/Noun, 단백질/No...  \n",
       "4  [이건/Noun, 고무/Noun, 끈/Noun, 같다/Adjective, 게/Nou...  "
      ]
     },
     "execution_count": 22,
     "metadata": {},
     "output_type": "execute_result"
    }
   ],
   "source": [
    "df_review_all.head()"
   ]
  },
  {
   "cell_type": "code",
   "execution_count": 98,
   "metadata": {},
   "outputs": [],
   "source": [
    "##########\n",
    "#데이터 불리하기\n",
    "###\n",
    "\n",
    "# 당월 부정/긍정/중립 리뷰\n",
    "df_review_gitar   = df_review_all[(df_review_all['문의내용']=='기타')]\n",
    "df_review_delivery= df_review_all[(df_review_all['문의내용']=='배송')]\n",
    "df_review_product = df_review_all[(df_review_all['문의내용']=='상품')]\n"
   ]
  },
  {
   "cell_type": "code",
   "execution_count": null,
   "metadata": {},
   "outputs": [],
   "source": []
  },
  {
   "cell_type": "code",
   "execution_count": 68,
   "metadata": {},
   "outputs": [],
   "source": [
    "# print('<<기간 내 리뷰수>>' )\n",
    "# print(' - 긍정(54   ) : {:,.0f}'.format(len(df_review_pos)) )\n",
    "# print(' - 중립(  3  ) : {:,.0f}'.format(len(df_review_nue)) )\n",
    "# print(' - 부정(   21) : {:,.0f}'.format(len(df_review_neg)) )"
   ]
  },
  {
   "cell_type": "code",
   "execution_count": 69,
   "metadata": {},
   "outputs": [],
   "source": [
    "# print('<<기간 내 리뷰수 비중>>' )\n",
    "# print(' - 긍정(54   ) : {:,.1f}%'.format(len(df_review_pos)/len(df_review_all)*100 ) )\n",
    "# print(' - 중립(  3  ) : {:,.1f}%'.format(len(df_review_nue)/len(df_review_all)*100 ) )\n",
    "# print(' - 부정(   21) : {:,.1f}%'.format(len(df_review_neg)/len(df_review_all)*100 ) )"
   ]
  },
  {
   "cell_type": "code",
   "execution_count": 25,
   "metadata": {},
   "outputs": [],
   "source": [
    "# print('<<기간 내 리뷰 증감률>>' )\n",
    "# print(' - 전체(54321) : {:,.1f}%'.format( (len(df_review_all)-len(df_review_all_before))/len(df_review_all_before)*100 ) )\n",
    "# print(' - 긍정(54   ) : {:,.1f}%'.format( (len(df_review_pos)-len(df_review_pos_before))/len(df_review_pos_before)*100 ) )\n",
    "# print(' - 중립(  3  ) : {:,.1f}%'.format( (len(df_review_nue)-len(df_review_nue_before))/len(df_review_nue_before)*100 ) )\n",
    "# print(' - 부정(   21) : {:,.1f}%'.format( (len(df_review_neg)-len(df_review_neg_before))/len(df_review_neg_before)*100 ) )"
   ]
  },
  {
   "cell_type": "code",
   "execution_count": 26,
   "metadata": {},
   "outputs": [],
   "source": [
    "# df_review_neg.head(2)"
   ]
  },
  {
   "cell_type": "code",
   "execution_count": null,
   "metadata": {},
   "outputs": [],
   "source": []
  },
  {
   "cell_type": "code",
   "execution_count": null,
   "metadata": {},
   "outputs": [],
   "source": []
  },
  {
   "cell_type": "code",
   "execution_count": null,
   "metadata": {},
   "outputs": [],
   "source": []
  },
  {
   "cell_type": "markdown",
   "metadata": {},
   "source": [
    "### III.데이터 리포팅"
   ]
  },
  {
   "cell_type": "code",
   "execution_count": 18,
   "metadata": {},
   "outputs": [],
   "source": [
    "message_tmpl=\"\"\"\n",
    "<html>\n",
    "    <!DOCTYPE html>\n",
    "    <html>\n",
    "    <head lang =\"ko\">\n",
    "      <meta charset =\"UTF-8\">\n",
    "      <title>{{title1}}</title>\n",
    "    </head>\n",
    "    <BODY style=\"FONT-SIZE: 10pt; font-family: Malgun Gothic, NanumGothic, gulim, sans-serif\">\n",
    "    안녕하세요,<br>\n",
    "    <br>\n",
    "    {{send_date}}기준, 신제품 VoC 모니터링 현황 내용 공유드립니다.<br>\n",
    "    - 채널 : {{channel}}<br>\n",
    "    - 제품 : {{category}}<br>\n",
    "    <br>\n",
    "    <OL>\n",
    "    <LI>\n",
    "    <DIV><b>채널 Trend 전반</b></DIV>\n",
    "    <img src={{ image_file0 }} ><br>\n",
    "    <LI>\n",
    "    <DIV><b>[소잘 미숫가루] 제품</b></DIV>\n",
    "        <OL>\n",
    "        <LI>\n",
    "        <DIV>작성 추이</DIV>\n",
    "        <img src={{ image_file1 }} >\n",
    "        <LI><DIV>긍정리뷰 : 최근 10개</DIV>\n",
    "        {{ df1_r_pos_html }}</li>\n",
    "        <LI><DIV>부정리뷰 : 최근 10개</DIV>\n",
    "        {{ df1_r_neg_html }}\n",
    "        <LI><DIV>문의하기 : 최근 10개</DIV>\n",
    "        {{ df1_Q_html }}\n",
    "        </LI>\n",
    "        </OL>\n",
    "    <LI>\n",
    "    <DIV><b>[누룽지죽 / 소고기버섯] 제품</b></DIV>\n",
    "        <OL>\n",
    "        <LI>\n",
    "        <DIV>작성 추이</DIV>\n",
    "        <img src={{ image_file2 }} >\n",
    "        <LI><DIV>긍정리뷰 : 최근 10개</DIV>\n",
    "        {{ df2_r_pos_html }}</li>\n",
    "        <LI><DIV>부정리뷰 : 최근 10개</DIV>\n",
    "        {{ df2_r_neg_html }}\n",
    "        <LI><DIV>문의하기 : 최근 10개</DIV>\n",
    "        {{ df2_Q_html }}\n",
    "        </LI>\n",
    "        </OL>\n",
    "    <LI>\n",
    "    <DIV><b>[어메이징 오트] 제품</b></DIV>\n",
    "        <OL>\n",
    "        <LI>\n",
    "        <DIV>작성 추이</DIV>\n",
    "        <img src={{ image_file3 }} >\n",
    "        <LI><DIV>긍정리뷰 : 최근 10개</DIV><br>\n",
    "        {{ df3_r_pos_html }}</li>\n",
    "        <LI><DIV>부정리뷰 : 최근 10개</DIV>\n",
    "        {{ df3_r_neg_html }}\n",
    "        <LI><DIV>문의하기 : 최근 10개</DIV>\n",
    "        {{ df3_Q_html }}\n",
    "        </LI>\n",
    "        </OL>\n",
    "    <LI>\n",
    "    <DIV><b>[프로바이오틱스] 제품</b></DIV>\n",
    "        <OL>\n",
    "        <LI>\n",
    "        <DIV>작성 추이</DIV>\n",
    "        <img src={{ image_file4 }} >\n",
    "        <LI><DIV>긍정리뷰 : 최근 10개</DIV>\n",
    "        {{ df4_r_pos_html }}</li>\n",
    "        <LI><DIV>부정리뷰 : 최근 10개</DIV>\n",
    "        {{ df4_r_neg_html }}\n",
    "        <LI><DIV>문의하기 : 최근 10개</DIV>\n",
    "        {{ df4_Q_html }}\n",
    "        </LI>\n",
    "        </OL>\n",
    "    <LI>\n",
    "    <DIV><b>[셀렉스 프리바이오틱스] 제품</b></DIV>\n",
    "        <OL>\n",
    "        <LI>\n",
    "        <DIV>작성 추이</DIV>\n",
    "        <img src={{ image_file5 }} >\n",
    "        <LI><DIV>긍정리뷰 : 최근 10개</DIV>\n",
    "        {{ df5_r_pos_html }}</li>\n",
    "        <LI><DIV>부정리뷰 : 최근 10개</DIV>\n",
    "        {{ df5_r_neg_html }}\n",
    "        <LI><DIV>문의하기 : 최근 10개</DIV>\n",
    "        {{ df5_Q_html }}\n",
    "        </LI>\n",
    "        </OL>\n",
    "    </LI>\n",
    "    </OL>\n",
    "    </LI>\n",
    "    </OL>\n",
    "    <br>\n",
    "    <br>\n",
    "    <SPAN style=\"COLOR: #808080\">{{add_text1}}</SPAN><br>\n",
    "    <SPAN style=\"COLOR: #808080\">{{add_text2}}</SPAN><br>\n",
    "    <br>\n",
    "    <br>\n",
    "    감사합니다.<br>\n",
    "    <br>\n",
    "    </BODY>\n",
    "</html>\"\"\"\n",
    "\n",
    "# 이메일 양식(내용) 변동 내용 정의\n",
    "render_data = {\n",
    "    'send_date' : (datetime.today()).strftime('%m/%d'),\n",
    "    'send_weekday' : (datetime.today()).strftime('%Y, %W')+'주',\n",
    "    'category' : df_review['CATEGORY'].unique(),\n",
    "    'channel'  : df_review['CHANNEL'].unique()[0],\n",
    "#     'image_file0': list_of_images[0],\n",
    "#     'image_file1': list_of_images[1],\n",
    "#     'image_file2': list_of_images[2],\n",
    "#     'image_file3': list_of_images[3],\n",
    "#     'image_file4': list_of_images[4],\n",
    "#     'image_file5': list_of_images[5],\n",
    "    'df1_r_pos_html' : REPORT_01_POS.to_html(index = False),\n",
    "    'df1_r_neg_html' : REPORT_01_NEG.to_html(index = False),\n",
    "    'df1_Q_html'     : REPORT_01_QNA.to_html(index = False),\n",
    "    'df2_r_pos_html' : REPORT_02_POS.to_html(index = False),\n",
    "    'df2_r_neg_html' : REPORT_02_NEG.to_html(index = False),\n",
    "    'df2_Q_html'     : REPORT_02_QNA.to_html(index = False),\n",
    "    'df3_r_pos_html' : REPORT_03_POS.to_html(index = False),\n",
    "    'df3_r_neg_html' : REPORT_03_NEG.to_html(index = False),\n",
    "    'df3_Q_html'     : REPORT_03_QNA.to_html(index = False),\n",
    "    'df4_r_pos_html' : REPORT_04_POS.to_html(index = False),\n",
    "    'df4_r_neg_html' : REPORT_04_NEG.to_html(index = False),\n",
    "    'df4_Q_html'     : REPORT_04_QNA.to_html(index = False),\n",
    "    'df5_r_pos_html' : REPORT_05_POS.to_html(index = False),\n",
    "    'df5_r_neg_html' : REPORT_05_NEG.to_html(index = False),\n",
    "    'df5_Q_html'     : REPORT_05_QNA.to_html(index = False),\n",
    "    'add_text1' : \"**  본 메일은 발신전용입니다.\",\n",
    "    'add_text2' : \"*** (내용/기술문의 : 고객정보전략담당, 박경하 )\"\n",
    "}\n",
    "\n",
    "t= Template(message_tmpl)\n",
    "html_report = t.render(render_data)"
   ]
  },
  {
   "cell_type": "code",
   "execution_count": 19,
   "metadata": {
    "scrolled": false
   },
   "outputs": [
    {
     "data": {
      "text/plain": [
       "'\\n<html>\\n    <!DOCTYPE html>\\n    <html>\\n    <head lang =\"ko\">\\n      <meta charset =\"UTF-8\">\\n      <title></title>\\n    </head>\\n    <BODY style=\"FONT-SIZE: 10pt; font-family: Malgun Gothic, NanumGothic, gulim, sans-serif\">\\n    안녕하세요,<br>\\n    <br>\\n    09/03기준, 신제품 VoC 모니터링 현황 내용 공유드립니다.<br>\\n    - 채널 : 카카오메이커스<br>\\n    - 제품 : [\\'소잘 미숫가루\\' \\'누룽지죽 / 소고기버섯\\' \\'어메이징 오트\\' \\'프로바이오틱스\\' \\'셀렉스 프리바이오틱스\\']<br>\\n    <br>\\n    <OL>\\n    <LI>\\n    <DIV><b>채널 Trend 전반</b></DIV>\\n    <img src= ><br>\\n    <LI>\\n    <DIV><b>[소잘 미숫가루] 제품</b></DIV>\\n        <OL>\\n        <LI>\\n        <DIV>작성 추이</DIV>\\n        <img src= >\\n        <LI><DIV>긍정리뷰 : 최근 10개</DIV>\\n        <table border=\"1\" class=\"dataframe\">\\n  <thead>\\n    <tr style=\"text-align: right;\">\\n      <th>USER</th>\\n      <th>DATE</th>\\n      <th>CHANNEL</th>\\n      <th>TEXT</th>\\n      <th>SCORE</th>\\n    </tr>\\n  </thead>\\n  <tbody>\\n    <tr>\\n      <td>하진</td>\\n      <td>08/31</td>\\n      <td>카카오메이커스</td>\\n      <td>부모님댁에도 같이 시켰는데 좋아하시네요\\\\n재입고뜨면 또 시키려고요 \\\\n아침대용으로 먹기 좋은것 같아요</td>\\n      <td>4.0</td>\\n    </tr>\\n    <tr>\\n      <td>Regi🐤</td>\\n      <td>08/31</td>\\n      <td>카카오메이커스</td>\\n      <td>입맛 까다로운 딸이 넘넘 맛있다고 냉장고에 넣어두고 날마다 꺼내 먹어요. 다시 재구매했어요. 선한 기업 매일유업이라 더욱 좋아요.</td>\\n      <td>4.0</td>\\n    </tr>\\n    <tr>\\n      <td>유승배</td>\\n      <td>08/31</td>\\n      <td>카카오메이커스</td>\\n      <td>배송빠르고 맛이있습니다</td>\\n      <td>4.0</td>\\n    </tr>\\n    <tr>\\n      <td>전옥희♡</td>\\n      <td>08/31</td>\\n      <td>카카오메이커스</td>\\n      <td>맛도 건강에도 아주 훌륭합니다!!!!!</td>\\n      <td>4.0</td>\\n    </tr>\\n    <tr>\\n      <td>조창현</td>\\n      <td>08/31</td>\\n      <td>카카오메이커스</td>\\n      <td>진짜 맛잇네요 재구매의사 100퍼</td>\\n      <td>4.0</td>\\n    </tr>\\n    <tr>\\n      <td>Regi🐤</td>\\n      <td>08/31</td>\\n      <td>카카오메이커스</td>\\n      <td>구수하고 부드럽고 맛있습니다.</td>\\n      <td>4.0</td>\\n    </tr>\\n    <tr>\\n      <td>Na.R</td>\\n      <td>08/31</td>\\n      <td>카카오메이커스</td>\\n      <td>깔끔하고 맛있어요. 아침대용이나 출출할때 정말 좋습니다. 쟁여두고 먹어요.</td>\\n      <td>4.0</td>\\n    </tr>\\n    <tr>\\n      <td>김윤진</td>\\n      <td>08/31</td>\\n      <td>카카오메이커스</td>\\n      <td>달달하고 고소해서 엄마가 무척 좋아하시네요~ ^^</td>\\n      <td>3.0</td>\\n    </tr>\\n    <tr>\\n      <td>김하연</td>\\n      <td>08/31</td>\\n      <td>카카오메이커스</td>\\n      <td>많이 달지도 않고 미숫가루의 텁텁한 맛도 없고\\\\n 맛있어요\\\\n 제가 우유를 못마시는데 유당 0%라 소화도 잘되고\\\\n\\\\n신랑도  잘 먹어요  아침 출근에 빈속보단 이거 하나 마시고 가면 좋네요 재구매의사 완전 있어요</td>\\n      <td>4.0</td>\\n    </tr>\\n    <tr>\\n      <td>김지희</td>\\n      <td>08/31</td>\\n      <td>카카오메이커스</td>\\n      <td>예전에 먹던 미숫가루 맛이나네요~\\\\n근데 좀 연한맛이 나는데\\\\n그래도 맛나요\\\\n냉장고에 넣어두고 시원하게 마시면\\\\n더 맛나구요~</td>\\n      <td>3.0</td>\\n    </tr>\\n  </tbody>\\n</table></li>\\n        <LI><DIV>부정리뷰 : 최근 10개</DIV>\\n        <table border=\"1\" class=\"dataframe\">\\n  <thead>\\n    <tr style=\"text-align: right;\">\\n      <th>USER</th>\\n      <th>DATE</th>\\n      <th>CHANNEL</th>\\n      <th>TEXT</th>\\n      <th>SCORE</th>\\n    </tr>\\n  </thead>\\n  <tbody>\\n    <tr>\\n      <td>유성의</td>\\n      <td>08/30</td>\\n      <td>카카오메이커스</td>\\n      <td>배송이 느리긴했지만 기다릴만했어요 맛이,,,, 분명 미숫가루랬는데,, 곡물 가루맛 보다는 왜 검은콩두유 맛이 나는거죠ㅠㅠㅠ 두유 안 좋아해서 이걸로 시켜본건데,, 맛 자체도 밍밍하기도 하구요 가격대비 너무 아쉬워요ㅠㅠ</td>\\n      <td>2.0</td>\\n    </tr>\\n    <tr>\\n      <td>김서</td>\\n      <td>08/29</td>\\n      <td>카카오메이커스</td>\\n      <td>하나가 터져서 왔네요. 포장 신경써 주세욤~!</td>\\n      <td>2.0</td>\\n    </tr>\\n    <tr>\\n      <td>박경미</td>\\n      <td>08/29</td>\\n      <td>카카오메이커스</td>\\n      <td>생각보다  단맛이 있어요. 당유 0%라 구매 했는데  맛은 아니더라구요.그래서  마시고  나면 입맛이  텁텁하네요.</td>\\n      <td>2.0</td>\\n    </tr>\\n    <tr>\\n      <td>JEONG</td>\\n      <td>08/29</td>\\n      <td>카카오메이커스</td>\\n      <td>아.. 매일에서 제품출시 전 사전 설문할때부터 관심가지고 기대하고 있던 제품이라 가격이 좋아 얼른 구매했는데. 맛이 실망이네요...기대했던 고소하고 진하고 맛있는 미숫가루 맛은 아니에요. 물론 미숫가루가 아니라 미숫가루맛 우유다보니 그럴테지만.. 한상자 다 먹으려면 쉽지 않겠어요</td>\\n      <td>2.0</td>\\n    </tr>\\n    <tr>\\n      <td>남기성 010 6320 2622</td>\\n      <td>08/29</td>\\n      <td>카카오메이커스</td>\\n      <td>그냥 그래요. 허접</td>\\n      <td>1.0</td>\\n    </tr>\\n    <tr>\\n      <td>어피치</td>\\n      <td>08/28</td>\\n      <td>카카오메이커스</td>\\n      <td>유통기한이 짧아 3박스구매  후회되네요</td>\\n      <td>1.0</td>\\n    </tr>\\n    <tr>\\n      <td>이은경</td>\\n      <td>08/27</td>\\n      <td>카카오메이커스</td>\\n      <td>아무리 입맛이 다 다르다지만\\\\n이걸 미숫가루라고 맛있다고 올리신분들...ㅋ\\\\n다섯가지 곡물 살짝 담갔다 뺀맛</td>\\n      <td>1.0</td>\\n    </tr>\\n    <tr>\\n      <td>♧ SooIn ♧</td>\\n      <td>08/27</td>\\n      <td>카카오메이커스</td>\\n      <td>너무 달아요 ㅠㅠㅠ</td>\\n      <td>2.0</td>\\n    </tr>\\n    <tr>\\n      <td>MI SUK</td>\\n      <td>08/27</td>\\n      <td>카카오메이커스</td>\\n      <td>달아도너무달고 미수가루맛도 너무 안나네요 ㅠㅠ 후기작성한거 보거 \\\\n구매했는데 폭망한 제품입니다.</td>\\n      <td>1.0</td>\\n    </tr>\\n    <tr>\\n      <td>yam</td>\\n      <td>08/27</td>\\n      <td>카카오메이커스</td>\\n      <td>맛이 심플하고 달지 않습니다. 약간 농도가 약한게 흠.</td>\\n      <td>2.0</td>\\n    </tr>\\n  </tbody>\\n</table>\\n        <LI><DIV>문의하기 : 최근 10개</DIV>\\n        <table border=\"1\" class=\"dataframe\">\\n  <thead>\\n    <tr style=\"text-align: right;\">\\n      <th>USER</th>\\n      <th>DATE</th>\\n      <th>CHANNEL</th>\\n      <th>TEXT</th>\\n      <th>SCORE</th>\\n    </tr>\\n  </thead>\\n  <tbody>\\n    <tr>\\n      <td>김캔지</td>\\n      <td>08/27</td>\\n      <td>카카오메이커스</td>\\n      <td>오늘 주문했습니다.\\\\n유통기한 언제까지인가요?</td>\\n      <td>-</td>\\n    </tr>\\n    <tr>\\n      <td>어피치</td>\\n      <td>08/27</td>\\n      <td>카카오메이커스</td>\\n      <td>생각보다 유통기한이 짧아서 ㅠ 3박스를 두고 먹기가 부담되네요 이렇게 짫을꺼라 생각몬했는데요\\\\n후회되네요</td>\\n      <td>-</td>\\n    </tr>\\n    <tr>\\n      <td>이다애</td>\\n      <td>08/27</td>\\n      <td>카카오메이커스</td>\\n      <td>다음 판매예정은 언제인지 알수잇을까요?? \\\\n이번에 하나 시켜서 맘에드는데 다음 판매예정이 없으면 이번에 더 시켜야하나 해서요ㅠ</td>\\n      <td>-</td>\\n    </tr>\\n    <tr>\\n      <td>김민희</td>\\n      <td>08/27</td>\\n      <td>카카오메이커스</td>\\n      <td>지금 주문했는데 유통기한긴걸로 제품 잘 보내주세용 한달이하로 짧으면 안될거같아요ㅠㅠ</td>\\n      <td>-</td>\\n    </tr>\\n    <tr>\\n      <td>권선희</td>\\n      <td>08/27</td>\\n      <td>카카오메이커스</td>\\n      <td>유효기간 긴걸로 주세요</td>\\n      <td>-</td>\\n    </tr>\\n    <tr>\\n      <td>근이</td>\\n      <td>08/26</td>\\n      <td>카카오메이커스</td>\\n      <td>최근 생산된 하자없는 최상의 상품으로 급배송 부탁드립니다</td>\\n      <td>-</td>\\n    </tr>\\n    <tr>\\n      <td>도보람</td>\\n      <td>08/25</td>\\n      <td>카카오메이커스</td>\\n      <td>24x2개 주문했는데 제주도라서 배송이 조금 걱정이 되네요ㅠㅠㅠ 꼼꼼히 잘 부탁드려요!!</td>\\n      <td>-</td>\\n    </tr>\\n    <tr>\\n      <td>예솔</td>\\n      <td>08/24</td>\\n      <td>카카오메이커스</td>\\n      <td>안녕하세요\\\\n정보 보니 정제수가 제일 많이 들어간 것 같은데\\\\n원유는 얼마나 들어있는지 알 수 있을까요?</td>\\n      <td>-</td>\\n    </tr>\\n    <tr>\\n      <td>서은영</td>\\n      <td>08/23</td>\\n      <td>카카오메이커스</td>\\n      <td>유당0프로에 락토리면 우유가 안들어간건가요??\\\\n우유가 안맞는 체질이라 괜찮을까요???</td>\\n      <td>-</td>\\n    </tr>\\n    <tr>\\n      <td>섹시희재</td>\\n      <td>08/23</td>\\n      <td>카카오메이커스</td>\\n      <td>우유를 먹으면 설사를 하는데 설사나 그런거는 없겠죠?\\\\n먹고나서 혹시라도 안좋을까봐 걱정이 됩니다  ㅠ</td>\\n      <td>-</td>\\n    </tr>\\n  </tbody>\\n</table>\\n        </LI>\\n        </OL>\\n    <LI>\\n    <DIV><b>[누룽지죽 / 소고기버섯] 제품</b></DIV>\\n        <OL>\\n        <LI>\\n        <DIV>작성 추이</DIV>\\n        <img src= >\\n        <LI><DIV>긍정리뷰 : 최근 10개</DIV>\\n        <table border=\"1\" class=\"dataframe\">\\n  <thead>\\n    <tr style=\"text-align: right;\">\\n      <th>USER</th>\\n      <th>DATE</th>\\n      <th>CHANNEL</th>\\n      <th>TEXT</th>\\n      <th>SCORE</th>\\n    </tr>\\n  </thead>\\n  <tbody>\\n    <tr>\\n      <td>승희</td>\\n      <td>08/30</td>\\n      <td>카카오메이커스</td>\\n      <td>남편은 씹히는 고기가 별로 없는것같다며~~ㅜ.ㅜ 저는 매우 만족~ 넘 맛있어서 또 주문했습니다~~ㅎ</td>\\n      <td>4.0</td>\\n    </tr>\\n    <tr>\\n      <td>전혜정</td>\\n      <td>08/30</td>\\n      <td>카카오메이커스</td>\\n      <td>양도 적당하고 맛도 개인적으로는 인스턴트 맛 많이 안나고 맛있었습니다!</td>\\n      <td>4.0</td>\\n    </tr>\\n    <tr>\\n      <td>유리김</td>\\n      <td>08/30</td>\\n      <td>카카오메이커스</td>\\n      <td>다른 대기업 완제품보다는 맛있는것 같아요~</td>\\n      <td>4.0</td>\\n    </tr>\\n    <tr>\\n      <td>짱시환</td>\\n      <td>08/30</td>\\n      <td>카카오메이커스</td>\\n      <td>감사히 잘 받았습니다 ~</td>\\n      <td>4.0</td>\\n    </tr>\\n    <tr>\\n      <td>쩡</td>\\n      <td>08/29</td>\\n      <td>카카오메이커스</td>\\n      <td>배송도빠르고 깔끔한포장~\\\\n생각보다 맛있어서 하나더주문넣었어요\\\\n유통기한도기네요^^</td>\\n      <td>4.0</td>\\n    </tr>\\n    <tr>\\n      <td>서희진 Agnes</td>\\n      <td>08/29</td>\\n      <td>카카오메이커스</td>\\n      <td>자극적이지 않고 간편하고 좋네요</td>\\n      <td>4.0</td>\\n    </tr>\\n    <tr>\\n      <td>권대희</td>\\n      <td>08/28</td>\\n      <td>카카오메이커스</td>\\n      <td>애들 줄라고샀는데, 애들이 버섯이랑 야채가 많이 씹혀서 그런지 안먹는다고.. ㅎ 제가 먹는데 맛은 괜찮아요</td>\\n      <td>3.0</td>\\n    </tr>\\n    <tr>\\n      <td>Sunny</td>\\n      <td>08/27</td>\\n      <td>카카오메이커스</td>\\n      <td>소고기버섯 누룽지죽 시아버지 아침대용으로 드시라고 택배보내 드렸더니 아주 좋아하셨어요. 고소하고 끈기도 있다고 하시니 재구매할께요.</td>\\n      <td>4.0</td>\\n    </tr>\\n    <tr>\\n      <td>한은선</td>\\n      <td>08/26</td>\\n      <td>카카오메이커스</td>\\n      <td>상하키친 스프를 즐겨먹었는데, 이것 역시 맛있다고 잘 먹네요~ 바쁜아침 간편하게 잘 먹었습니다~</td>\\n      <td>4.0</td>\\n    </tr>\\n    <tr>\\n      <td>\\'윤미\\'</td>\\n      <td>08/26</td>\\n      <td>카카오메이커스</td>\\n      <td>아이들이 굉장히 맛있답니다^^\\\\n재구매 꼭 하겠습니다.</td>\\n      <td>4.0</td>\\n    </tr>\\n  </tbody>\\n</table></li>\\n        <LI><DIV>부정리뷰 : 최근 10개</DIV>\\n        <table border=\"1\" class=\"dataframe\">\\n  <thead>\\n    <tr style=\"text-align: right;\">\\n      <th>USER</th>\\n      <th>DATE</th>\\n      <th>CHANNEL</th>\\n      <th>TEXT</th>\\n      <th>SCORE</th>\\n    </tr>\\n  </thead>\\n  <tbody>\\n    <tr>\\n      <td>Lee Hae Rim :)</td>\\n      <td>08/25</td>\\n      <td>카카오메이커스</td>\\n      <td>누룽지 죽? 이라기엔 누룽지가 아니고 완전히 퍼진 밥알 이네요</td>\\n      <td>2.0</td>\\n    </tr>\\n    <tr>\\n      <td>soo</td>\\n      <td>08/20</td>\\n      <td>카카오메이커스</td>\\n      <td>들깨향을 좋아해서 구입했는데..들깨향이 전혀 안나고 버섯과 닭고기향만 가득 ㅠㅠ\\\\n소고기버섯은 괜찮았어요</td>\\n      <td>2.0</td>\\n    </tr>\\n  </tbody>\\n</table>\\n        <LI><DIV>문의하기 : 최근 10개</DIV>\\n        <table border=\"1\" class=\"dataframe\">\\n  <thead>\\n    <tr style=\"text-align: right;\">\\n      <th>USER</th>\\n      <th>DATE</th>\\n      <th>CHANNEL</th>\\n      <th>TEXT</th>\\n      <th>SCORE</th>\\n    </tr>\\n  </thead>\\n  <tbody>\\n    <tr>\\n      <td>민화</td>\\n      <td>08/27</td>\\n      <td>카카오메이커스</td>\\n      <td>혹시 제품 안데워서 먹어도 괜찮을까요?</td>\\n      <td>-</td>\\n    </tr>\\n    <tr>\\n      <td>김소연</td>\\n      <td>08/26</td>\\n      <td>카카오메이커스</td>\\n      <td>너무 맛있는데 다시 주문 할 수 있나요?</td>\\n      <td>-</td>\\n    </tr>\\n    <tr>\\n      <td>eesohn</td>\\n      <td>08/19</td>\\n      <td>카카오메이커스</td>\\n      <td>들깨닭고기 1박스, 소고기버섯 2박스 주문했는데, \\\\n들깨 1박스만 오고 소고기 2박스는 안 왔습니다.\\\\n배송 정보에는 배송 완료라고 뜨고요.\\\\n확인 부탁드립니다!\\\\n</td>\\n      <td>-</td>\\n    </tr>\\n    <tr>\\n      <td>접니다저요</td>\\n      <td>08/17</td>\\n      <td>카카오메이커스</td>\\n      <td>아니 제품 사진에 떡하니\\\\n350g x 6 이라 적혀있구만 몇 그램인지 묻는 댕청이들이\\\\n뭐이리 많냐 ㅋㅋ 난독증 최고다 정말 ㅋㅋ</td>\\n      <td>-</td>\\n    </tr>\\n    <tr>\\n      <td>보라돌이ᆢ</td>\\n      <td>08/17</td>\\n      <td>카카오메이커스</td>\\n      <td>다들 바라는데 옵션에 썩어서도 올리시죠? 그게 더 판매량을 높일꺼 같은데</td>\\n      <td>-</td>\\n    </tr>\\n    <tr>\\n      <td>안주환</td>\\n      <td>08/16</td>\\n      <td>카카오메이커스</td>\\n      <td>유통기한 알려주세요..</td>\\n      <td>-</td>\\n    </tr>\\n    <tr>\\n      <td>안진희</td>\\n      <td>08/15</td>\\n      <td>카카오메이커스</td>\\n      <td>2종류 믹스해서 사고 싶은데 불가한가요??? ㅠ</td>\\n      <td>-</td>\\n    </tr>\\n    <tr>\\n      <td>김선혜</td>\\n      <td>08/14</td>\\n      <td>카카오메이커스</td>\\n      <td>두종류 섞어판매 부탁드려요</td>\\n      <td>-</td>\\n    </tr>\\n    <tr>\\n      <td>Hoo마미Hyun</td>\\n      <td>08/14</td>\\n      <td>카카오메이커스</td>\\n      <td>두제품 알레르기정보 궁금해요</td>\\n      <td>-</td>\\n    </tr>\\n    <tr>\\n      <td>이상미</td>\\n      <td>08/14</td>\\n      <td>카카오메이커스</td>\\n      <td>두 가지맛 섞어서 파는 옵션은 없나요?구매하려고 담으려고 보니 각6팩씩 따로 팔고 있네요.</td>\\n      <td>-</td>\\n    </tr>\\n  </tbody>\\n</table>\\n        </LI>\\n        </OL>\\n    <LI>\\n    <DIV><b>[어메이징 오트] 제품</b></DIV>\\n        <OL>\\n        <LI>\\n        <DIV>작성 추이</DIV>\\n        <img src= >\\n        <LI><DIV>긍정리뷰 : 최근 10개</DIV><br>\\n        <table border=\"1\" class=\"dataframe\">\\n  <thead>\\n    <tr style=\"text-align: right;\">\\n      <th>USER</th>\\n      <th>DATE</th>\\n      <th>CHANNEL</th>\\n      <th>TEXT</th>\\n      <th>SCORE</th>\\n    </tr>\\n  </thead>\\n  <tbody>\\n    <tr>\\n      <td>경수니~^^</td>\\n      <td>08/30</td>\\n      <td>카카오메이커스</td>\\n      <td>아주 달지않아서 좋아요</td>\\n      <td>3.0</td>\\n    </tr>\\n    <tr>\\n      <td>dwdhmom</td>\\n      <td>08/30</td>\\n      <td>카카오메이커스</td>\\n      <td>언스위트라 달지 않고 칼로리 부담없이 마실 수 있어서 좋아요.</td>\\n      <td>4.0</td>\\n    </tr>\\n    <tr>\\n      <td>코로나19소멸발원🙏</td>\\n      <td>08/30</td>\\n      <td>카카오메이커스</td>\\n      <td>맛은부드러운데,싱거워요.근데뭐딱히크게기대는안했기때문에 괜찮아요.꾸준히 잘먹고,다먹은후에 재구매는 그때가봐서...</td>\\n      <td>3.0</td>\\n    </tr>\\n    <tr>\\n      <td>오혜숙</td>\\n      <td>08/30</td>\\n      <td>카카오메이커스</td>\\n      <td>우유를 먹어줘야하긴 한데 먹고나면 하루종일 소화가 안돼서 다른걸로 바꾸려고 했었거든요\\\\n그러다 귀리두유라고하길래 내용을 봤더니 괜찮겠다 싶어서 주문했어요\\\\n밍밍하지않을까 생각했는데 달지않고 고소해요\\\\n그리구 속이 너무 편하네요</td>\\n      <td>4.0</td>\\n    </tr>\\n    <tr>\\n      <td>건강하게</td>\\n      <td>08/30</td>\\n      <td>카카오메이커스</td>\\n      <td>다이어트중이라 공복해결에는 도움될거같아요 하지만 고소한맛이 오리지널일거같아요 담엔 오리지널오 주문 ㅎㅎㅎ 이번건 너무 묽은 느낌 ㅋㅋㅋ</td>\\n      <td>4.0</td>\\n    </tr>\\n    <tr>\\n      <td>이주연</td>\\n      <td>08/29</td>\\n      <td>카카오메이커스</td>\\n      <td>달진 읺아 좋긴 해요 오트밀이라  해도 3번이나 갈아서  그런지 걸쭉함은 전혀 없네요  매일에서  나오는두유도 집에있는데 전 그게 더좋네요 ㅋ</td>\\n      <td>3.0</td>\\n    </tr>\\n    <tr>\\n      <td>무인도</td>\\n      <td>08/29</td>\\n      <td>카카오메이커스</td>\\n      <td>귀리라는 게 특별한 향이 없어서그런가,\\\\n두유보다 밋밋한 맛.\\\\n이것저것 넣은 것보다는 나을 거라 생각합니다.\\\\n근데 좀 더 걸죽할 줄 알았는데 그렇진 않았어요.</td>\\n      <td>3.0</td>\\n    </tr>\\n    <tr>\\n      <td>최지원</td>\\n      <td>08/29</td>\\n      <td>카카오메이커스</td>\\n      <td>금방왔어요!! 아몬드브리즈보다 고소하고 닝닝하지 않아 좋아요👍</td>\\n      <td>4.0</td>\\n    </tr>\\n    <tr>\\n      <td>vella</td>\\n      <td>08/29</td>\\n      <td>카카오메이커스</td>\\n      <td>아무거나 못 먹는 알러지 체질이라 사과산 이런거 무첨가 제품이라 구매해 봤네요 평소 달달한거 좋아하면 슴슴해서 맛없다 느끼겠네요 꾸준히 먹어보고 후기 올릴께요</td>\\n      <td>4.0</td>\\n    </tr>\\n    <tr>\\n      <td>문영옥</td>\\n      <td>08/29</td>\\n      <td>카카오메이커스</td>\\n      <td>고소하고 맛이 제입맛에 딱입니다.\\\\n배송도 빠르고, 우유대신 지속가능한 오트밀밀크너무 좋아요</td>\\n      <td>4.0</td>\\n    </tr>\\n  </tbody>\\n</table></li>\\n        <LI><DIV>부정리뷰 : 최근 10개</DIV>\\n        <table border=\"1\" class=\"dataframe\">\\n  <thead>\\n    <tr style=\"text-align: right;\">\\n      <th>USER</th>\\n      <th>DATE</th>\\n      <th>CHANNEL</th>\\n      <th>TEXT</th>\\n      <th>SCORE</th>\\n    </tr>\\n  </thead>\\n  <tbody>\\n    <tr>\\n      <td>김재란</td>\\n      <td>08/29</td>\\n      <td>카카오메이커스</td>\\n      <td>양도많고\\\\n맛도 괜찮은데\\\\n좀 싱겁네요\\\\n진한맛을 기대했는데 아쉽네요</td>\\n      <td>2.0</td>\\n    </tr>\\n    <tr>\\n      <td>남기성 010 6320 2622</td>\\n      <td>08/29</td>\\n      <td>카카오메이커스</td>\\n      <td>반품이 너무 까다로워서 불편하네  ㅠ</td>\\n      <td>1.0</td>\\n    </tr>\\n  </tbody>\\n</table>\\n        <LI><DIV>문의하기 : 최근 10개</DIV>\\n        <table border=\"1\" class=\"dataframe\">\\n  <thead>\\n    <tr style=\"text-align: right;\">\\n      <th>USER</th>\\n      <th>DATE</th>\\n      <th>CHANNEL</th>\\n      <th>TEXT</th>\\n      <th>SCORE</th>\\n    </tr>\\n  </thead>\\n  <tbody>\\n    <tr>\\n      <td>.</td>\\n      <td>08/30</td>\\n      <td>카카오메이커스</td>\\n      <td>대두 알러지가 있습니다 \\\\n대두성분은 표기 된것이 없던데... 안들어간걸까요..???</td>\\n      <td>-</td>\\n    </tr>\\n    <tr>\\n      <td>.</td>\\n      <td>08/30</td>\\n      <td>카카오메이커스</td>\\n      <td>안녕하세요 유당불내증을 가진 사람도 섭취해도 될까요?</td>\\n      <td>-</td>\\n    </tr>\\n    <tr>\\n      <td>KEY</td>\\n      <td>08/30</td>\\n      <td>카카오메이커스</td>\\n      <td>오트가 귀리잖아요?\\\\n굳이 우리 귀리라는 우리말이 있는데 외래어를 쓰는 이유는 무엇인가요?</td>\\n      <td>-</td>\\n    </tr>\\n    <tr>\\n      <td>김현주</td>\\n      <td>08/30</td>\\n      <td>카카오메이커스</td>\\n      <td>성분표시가 없네요. 성분표시 올려주시면 감사하겠습니다 🙏</td>\\n      <td>-</td>\\n    </tr>\\n    <tr>\\n      <td>강지연(성민주pf)</td>\\n      <td>08/30</td>\\n      <td>카카오메이커스</td>\\n      <td>언스위트 주문했는데 바뀌지않도록 꼭 확인배송 부탁드립니다.</td>\\n      <td>-</td>\\n    </tr>\\n    <tr>\\n      <td>이현정</td>\\n      <td>08/30</td>\\n      <td>카카오메이커스</td>\\n      <td>안녕하세요, 마이너피겨스 오트음료를 먹고 있습니다. 캡슐 커피와 함께 먹고 있는데요, 마이너피겨스와 차이가 있을까요?</td>\\n      <td>-</td>\\n    </tr>\\n    <tr>\\n      <td>ㅈㅇ</td>\\n      <td>08/30</td>\\n      <td>카카오메이커스</td>\\n      <td>시중 편의점같은 곳에도 판매중인가요? 먹어보고 구입하고 싶어서요...!</td>\\n      <td>-</td>\\n    </tr>\\n    <tr>\\n      <td>덕질하는은영</td>\\n      <td>08/30</td>\\n      <td>카카오메이커스</td>\\n      <td>두유와 소잘우유만 먹는데 탈안나고 오트도 괜찮을까요? 오트는 처음 접해서 궁금해요</td>\\n      <td>-</td>\\n    </tr>\\n    <tr>\\n      <td>정수아</td>\\n      <td>08/30</td>\\n      <td>카카오메이커스</td>\\n      <td>맛은 우유 맛과 많이 상이한가요?</td>\\n      <td>-</td>\\n    </tr>\\n    <tr>\\n      <td>이승연</td>\\n      <td>08/30</td>\\n      <td>카카오메이커스</td>\\n      <td>메이커스 딜 종료 후, 정식판매 출시 되나요? 재구매 한 박스 더 할지 아니면 다 먹은 뒤에 정식판매된다면 그 때 살까하고요~</td>\\n      <td>-</td>\\n    </tr>\\n  </tbody>\\n</table>\\n        </LI>\\n        </OL>\\n    <LI>\\n    <DIV><b>[프로바이오틱스] 제품</b></DIV>\\n        <OL>\\n        <LI>\\n        <DIV>작성 추이</DIV>\\n        <img src= >\\n        <LI><DIV>긍정리뷰 : 최근 10개</DIV>\\n        <table border=\"1\" class=\"dataframe\">\\n  <thead>\\n    <tr style=\"text-align: right;\">\\n      <th>USER</th>\\n      <th>DATE</th>\\n      <th>CHANNEL</th>\\n      <th>TEXT</th>\\n      <th>SCORE</th>\\n    </tr>\\n  </thead>\\n  <tbody>\\n    <tr>\\n      <td>kim woo cheol</td>\\n      <td>08/29</td>\\n      <td>카카오메이커스</td>\\n      <td>용기 통이 매우 작더군요\\\\n효과는 모르겠습니다</td>\\n      <td>3.0</td>\\n    </tr>\\n    <tr>\\n      <td>서형전</td>\\n      <td>08/28</td>\\n      <td>카카오메이커스</td>\\n      <td>달지않고 고소합니다\\\\n잘 먹겠어요</td>\\n      <td>3.0</td>\\n    </tr>\\n    <tr>\\n      <td>버럭다름 한결mom ♡</td>\\n      <td>08/28</td>\\n      <td>카카오메이커스</td>\\n      <td>좋음 굿굿</td>\\n      <td>4.0</td>\\n    </tr>\\n    <tr>\\n      <td>심선향</td>\\n      <td>08/25</td>\\n      <td>카카오메이커스</td>\\n      <td>약병도 손에 쏙 들어오는 크기에 가격도 저렴 좋습니다</td>\\n      <td>4.0</td>\\n    </tr>\\n    <tr>\\n      <td>황지희</td>\\n      <td>08/24</td>\\n      <td>카카오메이커스</td>\\n      <td>일주일 복용하니 장이 가벼워짐을 바로알겠네요</td>\\n      <td>4.0</td>\\n    </tr>\\n    <tr>\\n      <td>최지아</td>\\n      <td>08/24</td>\\n      <td>카카오메이커스</td>\\n      <td>통이너무이뻐요\\\\n목넘김솧아요</td>\\n      <td>4.0</td>\\n    </tr>\\n    <tr>\\n      <td>김봉희</td>\\n      <td>08/24</td>\\n      <td>카카오메이커스</td>\\n      <td>아직 먹는 중이라 확실한 효과는 잘 모르겠어요. 하지만 매일유업 인지도를 믿고 구매했으니 효과가 있으리라 믿어요</td>\\n      <td>3.0</td>\\n    </tr>\\n    <tr>\\n      <td>이명숙</td>\\n      <td>08/23</td>\\n      <td>카카오메이커스</td>\\n      <td>넘 잘 먹고있어요\\\\n통이 작아서 들고다니기도 편하고 \\\\n먹고나면 장도 편안해요\\\\n오늘 재주문 했답니다ㅎㅎ\\\\n첨 살때 2통 할껄 후회했어요</td>\\n      <td>4.0</td>\\n    </tr>\\n    <tr>\\n      <td>규민이네</td>\\n      <td>08/22</td>\\n      <td>카카오메이커스</td>\\n      <td>장건강한사람입니다~\\\\n캡슐형태라 간편하다싶어 구매\\\\n부드러워져요^^</td>\\n      <td>4.0</td>\\n    </tr>\\n    <tr>\\n      <td>jisung</td>\\n      <td>08/21</td>\\n      <td>카카오메이커스</td>\\n      <td>복용중 입니다\\\\n효과는 아직요\\\\n화장실은 잘 가요</td>\\n      <td>3.0</td>\\n    </tr>\\n  </tbody>\\n</table></li>\\n        <LI><DIV>부정리뷰 : 최근 10개</DIV>\\n        <table border=\"1\" class=\"dataframe\">\\n  <thead>\\n    <tr style=\"text-align: right;\">\\n      <th>USER</th>\\n      <th>DATE</th>\\n      <th>CHANNEL</th>\\n      <th>TEXT</th>\\n      <th>SCORE</th>\\n    </tr>\\n  </thead>\\n  <tbody>\\n    <tr>\\n      <td>정현정</td>\\n      <td>08/06</td>\\n      <td>카카오메이커스</td>\\n      <td>빠른배송은 감사했읍니다.하지만 제품을 이틀 복용하면서 복통증세로 아직도 고생중입니다\\\\n다른유산균을 먹었을때는 이런증상이 없었는데\\\\n지금은 복용을 중단한상태지만 아직도 복통증세가 부분적으로 남아있어 저한테는 조금 안맞는 제품인듯하여 솔직한 후기를 남겨봅니다</td>\\n      <td>2.0</td>\\n    </tr>\\n    <tr>\\n      <td>김호성</td>\\n      <td>08/06</td>\\n      <td>카카오메이커스</td>\\n      <td>설사하고있어요.</td>\\n      <td>1.0</td>\\n    </tr>\\n    <tr>\\n      <td>정동빈</td>\\n      <td>08/01</td>\\n      <td>카카오메이커스</td>\\n      <td>택배 박스가 너무 크고 허술해서 받자마자 실망했어요   이왕이면 보기도 좋고  제품도 좋아서   나중에 재구매 할수 있었으면 합니다</td>\\n      <td>2.0</td>\\n    </tr>\\n  </tbody>\\n</table>\\n        <LI><DIV>문의하기 : 최근 10개</DIV>\\n        <table border=\"1\" class=\"dataframe\">\\n  <thead>\\n    <tr style=\"text-align: right;\">\\n      <th>USER</th>\\n      <th>DATE</th>\\n      <th>CHANNEL</th>\\n      <th>TEXT</th>\\n      <th>SCORE</th>\\n    </tr>\\n  </thead>\\n  <tbody>\\n    <tr>\\n      <td>rin mom</td>\\n      <td>08/11</td>\\n      <td>카카오메이커스</td>\\n      <td>재입고 언제 될 예정인가요?</td>\\n      <td>-</td>\\n    </tr>\\n    <tr>\\n      <td>안남경</td>\\n      <td>08/02</td>\\n      <td>카카오메이커스</td>\\n      <td>냉장보관하면 효과 그대로 보장되나요? 습기차거나 하지 않나요?</td>\\n      <td>-</td>\\n    </tr>\\n    <tr>\\n      <td>안남경</td>\\n      <td>08/02</td>\\n      <td>카카오메이커스</td>\\n      <td>아니...6개월치를 샀는데요 냉장보관하면 된다고해서 다시 여쭤보는건데요...말씀이 틀리며 어쩌나요...</td>\\n      <td>-</td>\\n    </tr>\\n    <tr>\\n      <td>안남경</td>\\n      <td>08/02</td>\\n      <td>카카오메이커스</td>\\n      <td>그러면 미개봉은 냉장보관인거죠? 습기차거나 하지 않나요? 그리고 냉장보관 됐던 제품 매일 먹을 때마다 냉장보관 해야하나요?</td>\\n      <td>-</td>\\n    </tr>\\n    <tr>\\n      <td>홍윤화</td>\\n      <td>07/31</td>\\n      <td>카카오메이커스</td>\\n      <td>프리바이오틱스도 같이 들어있는 건가요?</td>\\n      <td>-</td>\\n    </tr>\\n    <tr>\\n      <td>김소연</td>\\n      <td>07/31</td>\\n      <td>카카오메이커스</td>\\n      <td>벌써 매진이에요???구매하려고 들어가보니까.....언제 재구매 가능한 가요?</td>\\n      <td>-</td>\\n    </tr>\\n    <tr>\\n      <td>현지\"이준이안\"</td>\\n      <td>07/31</td>\\n      <td>카카오메이커스</td>\\n      <td>가루형 먹다가 이걸로 바꿔보려합니다. 유산균은 보통 아침공복에 먹는 사람들이 많던데 유산균 종류마다 다른건가요, 아니면 원래 유산균은 식후 섭취가 더 생존률이 높은건가요? 검색해도 여러가지 의견이 많네요.</td>\\n      <td>-</td>\\n    </tr>\\n    <tr>\\n      <td>Su봉</td>\\n      <td>07/30</td>\\n      <td>카카오메이커스</td>\\n      <td>안녕하세요.\\\\n제가 지금 셀렉스 썬화이바 프리바이오틱스 구입해서 먹는 중인데 물에 매일 타서 먹고 있는데 좀 먹기 힘들어서요ㅜ 이 제품은 캡슐로 된거라 먹기 편할 것 같은데 성분이 같은지 궁금해요. 지금 먹고 있는 제품에 너무 만족해서 캡슐 제품이 성분이 같다면 바꿔 먹어보려고 하는데 성분이 같은지 궁금합니다.</td>\\n      <td>-</td>\\n    </tr>\\n    <tr>\\n      <td>안남경</td>\\n      <td>07/30</td>\\n      <td>카카오메이커스</td>\\n      <td>혼자 6개월치 주문했는데 장기간 보관해도 괜찮나요? 그동안 영양제를 1년치 사두곤 했는데 유통기한이 충분히 남았는데도 색이 변질되고 곰팡이 핀 것 처럼 변하더라구요...이건 괜찮을까요? 캡슐이라 내용물이 안보이는데 불안해서요...그리고 이것 저것 검색하다가 좋을거라 믿고 구매합니다..근데 보장균수는 타제품보다 너무 적은 것 같은데요...면역에 확실히 효과있는거지요?</td>\\n      <td>-</td>\\n    </tr>\\n    <tr>\\n      <td>안남경</td>\\n      <td>07/30</td>\\n      <td>카카오메이커스</td>\\n      <td>보장균수가 10억이면 시중에 나온 제품어 비해 적은 균수가 아닌가요? 시중에 너무 많은 제품 중 고르는게 너무 어려운데 이 제품이 다른 제품보다 면역에 효과가 좋은가요?</td>\\n      <td>-</td>\\n    </tr>\\n  </tbody>\\n</table>\\n        </LI>\\n        </OL>\\n    <LI>\\n    <DIV><b>[셀렉스 프리바이오틱스] 제품</b></DIV>\\n        <OL>\\n        <LI>\\n        <DIV>작성 추이</DIV>\\n        <img src= >\\n        <LI><DIV>긍정리뷰 : 최근 10개</DIV>\\n        <table border=\"1\" class=\"dataframe\">\\n  <thead>\\n    <tr style=\"text-align: right;\">\\n      <th>USER</th>\\n      <th>DATE</th>\\n      <th>CHANNEL</th>\\n      <th>TEXT</th>\\n      <th>SCORE</th>\\n    </tr>\\n  </thead>\\n  <tbody>\\n    <tr>\\n      <td>박경미</td>\\n      <td>08/29</td>\\n      <td>카카오메이커스</td>\\n      <td>변비에  도움은 확실하게  됩니다.  그외는  더 먹어봐야  할듯~~</td>\\n      <td>3.0</td>\\n    </tr>\\n    <tr>\\n      <td>김 은경</td>\\n      <td>08/29</td>\\n      <td>카카오메이커스</td>\\n      <td>매일유업이라 믿고 샀어여.. 임산부라 변비땜에 무서워서 ㅜㅅ ㅜ 커피나 물에 타도 되어서 산건데 생갇보다 풀리지는 않네요.. ㅋㅋㅋㅋ그래도 기대해봅니다.. 유산균만 먹을때 보다 좋아지길!!</td>\\n      <td>4.0</td>\\n    </tr>\\n    <tr>\\n      <td>Ariel</td>\\n      <td>08/27</td>\\n      <td>카카오메이커스</td>\\n      <td>빠른배송이에요</td>\\n      <td>4.0</td>\\n    </tr>\\n    <tr>\\n      <td>주연</td>\\n      <td>08/27</td>\\n      <td>카카오메이커스</td>\\n      <td>지난번 캔으로 먹고 너무 좋아서 기다렸다가 구매했어요\\\\n휴대도 되고 타먹기도 편해서 소포장이라 좋네요\\\\n\\\\n지난번에는 어른만 먹었는데 이제 애기도 같이 먹고 있어요 \\\\n애기들 유산균 너무 달아서 오히려 걱정이었는데 이건 맛이 강하지 않아서 밥에 섞여 먹이지 너무 좋아요</td>\\n      <td>4.0</td>\\n    </tr>\\n    <tr>\\n      <td>⛱</td>\\n      <td>08/26</td>\\n      <td>카카오메이커스</td>\\n      <td>안먹어봤는데 기대되네요~</td>\\n      <td>4.0</td>\\n    </tr>\\n    <tr>\\n      <td>쑤~~니</td>\\n      <td>08/26</td>\\n      <td>카카오메이커스</td>\\n      <td>아직 복용을하지 않아 호과는 모르겠으나  배송은 빨라서 좋았습니다</td>\\n      <td>3.0</td>\\n    </tr>\\n    <tr>\\n      <td>남미진</td>\\n      <td>08/26</td>\\n      <td>카카오메이커스</td>\\n      <td>아직 먹어보진 않았지만 효과가 있길 바래요.</td>\\n      <td>3.0</td>\\n    </tr>\\n    <tr>\\n      <td>앨리스</td>\\n      <td>08/26</td>\\n      <td>카카오메이커스</td>\\n      <td>캔으로된제품을 재구매해서 먹는중인데.\\\\n아주 만족입니다.\\\\n하지만 한가지 아쉬운점은 휴대가 불편했었는데\\\\n이번에 구매한 제품은 언제 어디서나 자유롭게 먹을수 있어 좋아요.</td>\\n      <td>4.0</td>\\n    </tr>\\n  </tbody>\\n</table></li>\\n        <LI><DIV>부정리뷰 : 최근 10개</DIV>\\n        <table border=\"1\" class=\"dataframe\">\\n  <thead>\\n    <tr style=\"text-align: right;\">\\n      <th>USER</th>\\n      <th>DATE</th>\\n      <th>CHANNEL</th>\\n      <th>TEXT</th>\\n      <th>SCORE</th>\\n    </tr>\\n  </thead>\\n  <tbody>\\n    <tr>\\n      <td>이상훈</td>\\n      <td>08/28</td>\\n      <td>카카오메이커스</td>\\n      <td>글쎄요 언제 먹어야 하는건지....\\\\n대중화가 목표가 아닐수도 식전, 식후, 공복상태 등 .... 언제 먹어야 하는지 잘 모르겠네요....\\\\n\\\\n친절한 설명이나 그런것이 아쉽고\\\\n좀 고가입니다ㅠㅠ</td>\\n      <td>2.0</td>\\n    </tr>\\n  </tbody>\\n</table>\\n        <LI><DIV>문의하기 : 최근 10개</DIV>\\n        <table border=\"1\" class=\"dataframe\">\\n  <thead>\\n    <tr style=\"text-align: right;\">\\n      <th>USER</th>\\n      <th>DATE</th>\\n      <th>CHANNEL</th>\\n      <th>TEXT</th>\\n      <th>SCORE</th>\\n    </tr>\\n  </thead>\\n  <tbody>\\n    <tr>\\n      <td>spring</td>\\n      <td>08/30</td>\\n      <td>카카오메이커스</td>\\n      <td>물에 타먹으라고 하였는데 찬물에도 잘 녹는지 여부와 꼭 물에 타먹어야 되는지 등 \\\\n그냥 분말을 먹는건 안되는 지 등\\\\n자세하게 알려주시기 바랍니다.</td>\\n      <td>-</td>\\n    </tr>\\n    <tr>\\n      <td>meon</td>\\n      <td>08/27</td>\\n      <td>카카오메이커스</td>\\n      <td>콤부차에 타서먹어도 되나요?</td>\\n      <td>-</td>\\n    </tr>\\n    <tr>\\n      <td>지운</td>\\n      <td>08/25</td>\\n      <td>카카오메이커스</td>\\n      <td>꼭물에타서먹어야하나요?다른분말형유산균처럼복용해도되나요?</td>\\n      <td>-</td>\\n    </tr>\\n    <tr>\\n      <td>양정호</td>\\n      <td>08/25</td>\\n      <td>카카오메이커스</td>\\n      <td>식후혈당 억제에 대한,제품의 설명이 부족해 보입니다.\\\\n좀 더 자세히 설명 부탁드립니다 ~\\\\n(예를 들어, 관련 논문 or 실험결과)</td>\\n      <td>-</td>\\n    </tr>\\n    <tr>\\n      <td>jieun</td>\\n      <td>08/24</td>\\n      <td>카카오메이커스</td>\\n      <td>이제품  프로바이오틱스랑 같이먹어도 되나요</td>\\n      <td>-</td>\\n    </tr>\\n    <tr>\\n      <td>이정희</td>\\n      <td>08/24</td>\\n      <td>카카오메이커스</td>\\n      <td>유산균은 위산에 약하기 때문에 음식과 같이 먹으면 안된다고 알고있는데 이 제품은 샐러드에 넣어 먹어도 되고 커피에 타서 먹어도. 된다니위산같은 산에 강한 유산균이 들어있는 건가요?  정말 가능하다면 사서 샐러드등에 뿌러 먹고싶어요. 보통 프리나 포스트 바이오틱스와 어떤 점이 다른가요?</td>\\n      <td>-</td>\\n    </tr>\\n    <tr>\\n      <td>mina</td>\\n      <td>08/24</td>\\n      <td>카카오메이커스</td>\\n      <td>10회 먹을수있는 분량인거에요?\\\\n적정복욕량은 하루에 한번인가요?</td>\\n      <td>-</td>\\n    </tr>\\n    <tr>\\n      <td>mina</td>\\n      <td>08/24</td>\\n      <td>카카오메이커스</td>\\n      <td>이거 저번에나온거 그거 개별포장되어서 나온거맞죠?</td>\\n      <td>-</td>\\n    </tr>\\n    <tr>\\n      <td>크롬</td>\\n      <td>08/24</td>\\n      <td>카카오메이커스</td>\\n      <td>지난번에 카카오 메이커스에서 팔았던 깡통에 들어있는걸로 구매해서 먹었는데 좋아서 이번꺼도 주문 했거든요 근데 원산지가 지난번껀 인도산이라고 되어있었고 이번껀 외국산(아시아)라고 되어 있는데 다른건가봐요? 혹시 일본산인지 궁금합니다.</td>\\n      <td>-</td>\\n    </tr>\\n  </tbody>\\n</table>\\n        </LI>\\n        </OL>\\n    </LI>\\n    </OL>\\n    </LI>\\n    </OL>\\n    <br>\\n    <br>\\n    <SPAN style=\"COLOR: #808080\">**  본 메일은 발신전용입니다.</SPAN><br>\\n    <SPAN style=\"COLOR: #808080\">*** (내용/기술문의 : 고객정보전략담당, 박경하 )</SPAN><br>\\n    <br>\\n    <br>\\n    감사합니다.<br>\\n    <br>\\n    </BODY>\\n</html>'"
      ]
     },
     "execution_count": 19,
     "metadata": {},
     "output_type": "execute_result"
    }
   ],
   "source": [
    "html_report"
   ]
  },
  {
   "cell_type": "code",
   "execution_count": 101,
   "metadata": {},
   "outputs": [],
   "source": [
    "trend_review_all = pd.pivot_table(df_review_all, index = '문의등록일', values = '문의상세내용', columns = '문의내용', aggfunc = 'count').fillna(0)\n",
    "\n",
    "trend_gitar = pd.pivot_table(df_review_gitar, index = '문의등록일', values = '문의상세내용', aggfunc = 'count').fillna(0)\n",
    "trend_delivery = pd.pivot_table(df_review_delivery, index = '문의등록일', values = '문의상세내용', aggfunc = 'count').fillna(0)\n",
    "trend_product = pd.pivot_table(df_review_product, index = '문의등록일', values = '문의상세내용', aggfunc = 'count').fillna(0)\n"
   ]
  },
  {
   "cell_type": "code",
   "execution_count": null,
   "metadata": {},
   "outputs": [],
   "source": []
  },
  {
   "cell_type": "code",
   "execution_count": null,
   "metadata": {},
   "outputs": [],
   "source": []
  },
  {
   "cell_type": "code",
   "execution_count": null,
   "metadata": {},
   "outputs": [],
   "source": []
  },
  {
   "cell_type": "code",
   "execution_count": null,
   "metadata": {},
   "outputs": [],
   "source": []
  },
  {
   "cell_type": "code",
   "execution_count": null,
   "metadata": {},
   "outputs": [],
   "source": []
  },
  {
   "cell_type": "code",
   "execution_count": null,
   "metadata": {},
   "outputs": [],
   "source": []
  },
  {
   "cell_type": "code",
   "execution_count": null,
   "metadata": {},
   "outputs": [],
   "source": []
  },
  {
   "cell_type": "code",
   "execution_count": null,
   "metadata": {},
   "outputs": [],
   "source": []
  },
  {
   "cell_type": "code",
   "execution_count": null,
   "metadata": {},
   "outputs": [],
   "source": []
  },
  {
   "cell_type": "code",
   "execution_count": null,
   "metadata": {},
   "outputs": [],
   "source": []
  },
  {
   "cell_type": "code",
   "execution_count": null,
   "metadata": {},
   "outputs": [],
   "source": []
  },
  {
   "cell_type": "code",
   "execution_count": null,
   "metadata": {},
   "outputs": [],
   "source": []
  },
  {
   "cell_type": "code",
   "execution_count": null,
   "metadata": {},
   "outputs": [],
   "source": []
  },
  {
   "cell_type": "code",
   "execution_count": null,
   "metadata": {},
   "outputs": [],
   "source": []
  }
 ],
 "metadata": {
  "kernelspec": {
   "display_name": "Python 3",
   "language": "python",
   "name": "python3"
  },
  "language_info": {
   "codemirror_mode": {
    "name": "ipython",
    "version": 3
   },
   "file_extension": ".py",
   "mimetype": "text/x-python",
   "name": "python",
   "nbconvert_exporter": "python",
   "pygments_lexer": "ipython3",
   "version": "3.7.6"
  }
 },
 "nbformat": 4,
 "nbformat_minor": 4
}
