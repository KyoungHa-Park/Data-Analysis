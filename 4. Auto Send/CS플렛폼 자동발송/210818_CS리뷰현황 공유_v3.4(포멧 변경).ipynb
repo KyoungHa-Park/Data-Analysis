{
 "cells": [
  {
   "cell_type": "code",
   "execution_count": null,
   "metadata": {},
   "outputs": [],
   "source": []
  },
  {
   "attachments": {},
   "cell_type": "markdown",
   "metadata": {},
   "source": [
    "1. 데이터 불러오기/변환\n",
    "2. Overview\n",
    "  + [ ] 수집 체널 List\n",
    "3. 당월자료 Summary : Graph\n",
    "  + [ ] 유형별 수집자료 : 수치, 비율, 전월대비 증/감율\n",
    "  + [x] Trend\n",
    "  + [x] 비율\n",
    "  + [ ] Wordcloud(A/B/C) : color 설정\n",
    "  + [ ] 연관단어(keyword 기준)\n",
    "3. 이메일 양식 작성"
   ]
  },
  {
   "cell_type": "code",
   "execution_count": null,
   "metadata": {},
   "outputs": [],
   "source": []
  },
  {
   "cell_type": "code",
   "execution_count": 1,
   "metadata": {},
   "outputs": [
    {
     "name": "stderr",
     "output_type": "stream",
     "text": [
      "C:\\ProgramData\\Anaconda3\\lib\\site-packages\\konlpy\\tag\\_okt.py:16: UserWarning: \"Twitter\" has changed to \"Okt\" since KoNLPy v0.4.5.\n",
      "  warn('\"Twitter\" has changed to \"Okt\" since KoNLPy v0.4.5.')\n"
     ]
    }
   ],
   "source": [
    "# DB접속\n",
    "import pymysql\n",
    "import pandas as pd\n",
    "import numpy as np\n",
    "import os\n",
    "\n",
    "# from konlpy.tag import Okt\n",
    "# okt = Okt(\"C:/Program Files/Java/jdk-12.0.1/bin/server/jvm.dll\")\n",
    "\n",
    "# 한글정제 KoNLPy\n",
    "from ckonlpy.tag import Twitter\n",
    "twitter = Twitter()\n",
    "\n",
    "# 그래프\n",
    "import matplotlib as mpl\n",
    "import matplotlib.pyplot as plt\n",
    "import matplotlib.font_manager as fm\n",
    "path = 'C:/windows/Fonts/malgun.ttf'                           # 폰트:맑은고딕\n",
    "font_name = fm.FontProperties(fname=path, size=24).get_name()  \n",
    "plt.rc('font', family=font_name)\n",
    "from matplotlib.font_manager import FontProperties\n",
    "\n",
    "prop = FontProperties(fname='/System/Library/Fonts/Apple Color Emoji.ttc')\n",
    "plt.rcParams['font.family'] = prop.get_family()\n",
    "\n",
    "\n",
    "# 분석1 : Trend 탐식 시, 이상치 확인\n",
    "from sklearn.neighbors import LocalOutlierFactor\n",
    "\n",
    "# 분석2 : wordcloud 준비\n",
    "from wordcloud import WordCloud\n",
    "\n",
    "# 분석3 : text rank 도출\n",
    "import itertools\n",
    "import nltk\n",
    "\n",
    "# 시간기록\n",
    "from datetime import datetime, timedelta\n",
    "import time \n",
    "\n",
    "# 내용공유(e-mail, 회사) \n",
    "# import send_email as se\n",
    "from jinja2 import Template\n",
    "\n",
    "import warnings\n",
    "warnings.filterwarnings(\"ignore\")"
   ]
  },
  {
   "cell_type": "code",
   "execution_count": null,
   "metadata": {},
   "outputs": [],
   "source": []
  },
  {
   "cell_type": "code",
   "execution_count": 2,
   "metadata": {},
   "outputs": [],
   "source": [
    "# 제품군 정보\n",
    "category_group = '셀렉스'\n",
    "category_en = 'selex'\n",
    "category = [['코어프로틴분말', '비리다'],\n",
    "            ['코어프로틴분말', '냄새'],\n",
    "            ['코어프로틴분말', '맛없다'],\n",
    "            ['코어프로틴분말', '녹다'],\n",
    "            ['밀크세라마이드', '달다'],\n",
    "            ['밀크세라마이드', '비싸다'],\n",
    "            ['밀크세라마이드', '비리다'],\n",
    "            ['밀크세라마이드', '효과'],\n",
    "            ['밀크세라마이드', '맛없다'],\n",
    "            ['밀크세라마이드', '뭉치다'],\n",
    "            ['슬림25', '녹다'],\n",
    "            ['슬림25', '안 녹다'],\n",
    "            ['코어프로틴바', '식감'],\n",
    "            ['코어프로틴바', '딱딱'],\n",
    "            ['스포츠RTD', '냄새'],\n",
    "            ['스포츠RTD', '향']]\n"
   ]
  },
  {
   "cell_type": "code",
   "execution_count": 2,
   "metadata": {},
   "outputs": [],
   "source": [
    "category_group = '상하목장'\n",
    "category_en = 'sangha'\n",
    "category = [['상하 우유',  '비리다'],\n",
    "            ['상하 우유',  '냄새'  ],\n",
    "            ['상하 우유',  '맛없다'],\n",
    "            ['상하 우유',  '녹다'  ],\n",
    "            ['아이스크림', '녹다'  ],\n",
    "            ['아이스크림', '달다'  ],\n",
    "            ['아이스크림', '파손'  ] ]"
   ]
  },
  {
   "cell_type": "code",
   "execution_count": 2,
   "metadata": {},
   "outputs": [],
   "source": [
    "category_group = '아몬드브리즈'\n",
    "category_en = 'almond'\n",
    "category = [['아몬드브리즈', '비리다'],\n",
    "            ['아몬드브리즈', '냄새'  ],\n",
    "            ['아몬드브리즈', '맛없다'],\n",
    "            ['아몬드브리즈', '밍밍']\n",
    "           ]\n"
   ]
  },
  {
   "cell_type": "code",
   "execution_count": 44,
   "metadata": {},
   "outputs": [],
   "source": [
    "category_group = '두유'\n",
    "category_en = 'soymilk'\n",
    "category = [['두유', '비리다'],\n",
    "            ['두유', '냄새'  ], \n",
    "            ['두유', '맛없다'],\n",
    "            ['두유', '밍밍'  ],\n",
    "            ['두유', '달다'  ]\n",
    "           ]\n"
   ]
  },
  {
   "cell_type": "code",
   "execution_count": 126,
   "metadata": {},
   "outputs": [
    {
     "data": {
      "text/plain": [
       "'상하목장'"
      ]
     },
     "execution_count": 126,
     "metadata": {},
     "output_type": "execute_result"
    }
   ],
   "source": [
    "category_group"
   ]
  },
  {
   "attachments": {},
   "cell_type": "markdown",
   "metadata": {},
   "source": [
    "### I.데이터 불러오기"
   ]
  },
  {
   "cell_type": "code",
   "execution_count": 52,
   "metadata": {},
   "outputs": [],
   "source": [
    "# 제품군 정보\n",
    "df_product = pd.read_excel('./PRODUCT.xlsx','Sheet1')\n",
    "df_product['PRODUCT_CODE'] = df_product['PRODUCT_CODE'].astype(object)\n",
    "df_product = df_product[df_product['category1'] == category_group ]"
   ]
  },
  {
   "cell_type": "code",
   "execution_count": 53,
   "metadata": {},
   "outputs": [],
   "source": [
    "query_values = tuple(df_product.PRODUCT_CODE.to_list())\n",
    "query_values = str(query_values)"
   ]
  },
  {
   "cell_type": "code",
   "execution_count": 54,
   "metadata": {},
   "outputs": [],
   "source": [
    "# query_values"
   ]
  },
  {
   "cell_type": "code",
   "execution_count": 55,
   "metadata": {},
   "outputs": [],
   "source": [
    "#########\n",
    "# rawdata 불러오기\n",
    "###\n",
    "\n",
    "# DB연결\n",
    "conn = pymysql.connect(host = '**.***.*.*', user ='__USER_ID__', password = \"__PASSWORD__\", database='__DATABASE__')\n",
    "\n",
    "# cursor 설정\n",
    "cursor = conn.cursor(pymysql.cursors.DictCursor)\n"
   ]
  },
  {
   "cell_type": "code",
   "execution_count": 56,
   "metadata": {},
   "outputs": [],
   "source": [
    "# 쿼리실행: 전체리뷰\n",
    "sql= '''select PRODUCT_CODE\n",
    "        , (SELECT code_nm FROM JT_CODE B WHERE A.PRODUCT_CODE = B.CODE AND B.CODE_GRP_ID = 'PRODUCT')\"상품명\"\n",
    "        , A.GRADE as \"구매자평점\" \n",
    "        , trim(A.CONTENTS) as 리뷰상세내용\n",
    "        , (STR_TO_DATE(A.WRITE_DT, '%Y%m%d'))  as 리뷰등록일 \n",
    "        , (SELECT CODE_NM FROM JT_CODE B WHERE A.COMPANY_CODE = B.CODE AND B.CODE_GRP_ID = 'DEALER_ID') as 수집채널 \n",
    "        FROM MAEIL_REVIEW A\n",
    "        where GRADE in (1,2,3,4,5)\n",
    "        and PRODUCT_CODE in ''' + query_values + '''and DATE_FORMAT(substr(A.WRITE_DT, 1,8), '%Y/%m/%d') between LAST_DAY(NOW() - interval 1 month) + interval 1 DAY and DATE_ADD(curdate(),INTERVAL -1 day)\n",
    "        group by A.COMPANY_CODE, A.WRITER, A.CONTENTS, A.WRITE_DT, A.GRADE, A.PRODUCT_CODE\n",
    "        order by A.WRITE_DT desc\n",
    "        '''\n",
    "cursor.execute(sql)\n",
    "df_review_all = cursor.fetchall()\n",
    "df_review_all = pd.DataFrame(df_review_all)\n",
    "df_review_all['리뷰등록일'] = pd.to_datetime(df_review_all['리뷰등록일'])\n",
    "df_review_all = df_review_all.replace('25 카카오 톡스토어(20.12.2~미사용)', '25 카카오톡')\n",
    "\n",
    "df_review_all = df_review_all.join(df_product.set_index('상품명')['category2'], on='상품명')\n",
    "df_review_all = df_review_all[df_review_all.columns[2:]].drop_duplicates().reset_index(drop=True)\n",
    "\n",
    "df_review_all['리뷰등록일'] = df_review_all['리뷰등록일'].dt.strftime('%m/%d')"
   ]
  },
  {
   "cell_type": "code",
   "execution_count": 57,
   "metadata": {},
   "outputs": [],
   "source": [
    "df_review_all['리뷰상세내용'] = df_review_all['리뷰상세내용'].dropna()"
   ]
  },
  {
   "cell_type": "code",
   "execution_count": null,
   "metadata": {},
   "outputs": [],
   "source": []
  },
  {
   "cell_type": "code",
   "execution_count": null,
   "metadata": {},
   "outputs": [],
   "source": []
  },
  {
   "cell_type": "code",
   "execution_count": 59,
   "metadata": {},
   "outputs": [],
   "source": [
    "# # Excel 자료 저장 v2\n",
    "# now = datetime.today()    # 현재\n",
    "# date = now.strftime('%Y%m%d')\n",
    "\n",
    "# writer = pd.ExcelWriter('./'+ date+ '_review_all.xlsx')\n",
    "# df_review_all.to_excel(writer, 'Sheet1')\n",
    "# writer.save()"
   ]
  },
  {
   "cell_type": "code",
   "execution_count": 60,
   "metadata": {},
   "outputs": [],
   "source": [
    "if category_group == '상하목장':\n",
    "    df_review_2 = pd.read_excel('./kurly_review.xlsx','Sheet1')\n",
    "    df_review_2 = df_review_2[['구매자평점', '리뷰상세내용', '리뷰등록일', '수집채널', 'category2']]\n",
    "    df_review_2['리뷰등록일'] = pd.to_datetime(df_review_2['리뷰등록일'])\n",
    "    df_review_2['리뷰등록일'] = df_review_2['리뷰등록일'].dt.strftime('%m/%d')\n",
    "    df_review_2['구매자평점'] = df_review_2['구매자평점'].astype('int')\n",
    "\n",
    "    df_review_all= pd.concat([df_review_all,df_review_2],axis=0, ignore_index=True)\n",
    "    df_review_all['구매자평점'] = df_review_all['구매자평점'].apply(str)\n",
    "else:\n",
    "    pass"
   ]
  },
  {
   "cell_type": "code",
   "execution_count": 61,
   "metadata": {},
   "outputs": [],
   "source": [
    "# df_review_all.groupby('수집채널').count()"
   ]
  },
  {
   "cell_type": "code",
   "execution_count": null,
   "metadata": {},
   "outputs": [],
   "source": []
  },
  {
   "cell_type": "code",
   "execution_count": null,
   "metadata": {},
   "outputs": [],
   "source": []
  },
  {
   "cell_type": "code",
   "execution_count": null,
   "metadata": {},
   "outputs": [],
   "source": []
  },
  {
   "cell_type": "code",
   "execution_count": null,
   "metadata": {},
   "outputs": [],
   "source": []
  },
  {
   "cell_type": "code",
   "execution_count": null,
   "metadata": {},
   "outputs": [],
   "source": []
  },
  {
   "cell_type": "code",
   "execution_count": null,
   "metadata": {},
   "outputs": [],
   "source": []
  },
  {
   "cell_type": "code",
   "execution_count": 65,
   "metadata": {},
   "outputs": [],
   "source": [
    "###############\n",
    "# Text 정제\n",
    "#####\n",
    "\n",
    "# 사전에 고유 명사 추가\n",
    "twitter.add_dictionary('셀렉스', 'Noun')\n",
    "twitter.add_dictionary('무설탕', 'Noun')\n",
    "twitter.add_dictionary('프로틴', 'Noun')\n",
    "twitter.add_dictionary('보냉백', 'Noun')\n",
    "twitter.add_dictionary('라방', 'Noun')\n",
    "twitter.add_dictionary('재구매', 'Noun')\n",
    "twitter.add_dictionary('유통기한', 'Noun')\n",
    "twitter.add_dictionary('사은품', 'Noun')\n",
    "twitter.add_dictionary('언스위트', 'Noun')\n",
    "twitter.add_dictionary('팥빙수', 'Noun')\n",
    "\n",
    "def tokenize(doc):\n",
    "    try:\n",
    "        result = ['/'.join(t) for t in twitter.pos(doc, norm=True, stem=True)] # ex '더빙/Norm', '나다/Verb'\n",
    "    except:\n",
    "        result = ''\n",
    "    return result \n",
    "\n",
    "def listToString(s):  \n",
    "    str1 = \"\"  \n",
    "    for ele in s:  \n",
    "        str1 += \" \" + ele.strip()  \n",
    "    return str1\n"
   ]
  },
  {
   "cell_type": "code",
   "execution_count": 66,
   "metadata": {},
   "outputs": [],
   "source": [
    "#토큰화 : 전체리뷰자료\n",
    "df_temp1 = df_review_all['리뷰상세내용'].replace(\"[^ㄱ-ㅎㅏ-ㅣ가-힣 ]\",\"\")\n",
    "\n",
    "# regex to konlpy\n",
    "token_all = [tokenize(row) for row in df_temp1 ]\n",
    "\n",
    "data_trim2 = []\n",
    "for i in range(len(df_temp1)):\n",
    "    t = ' '.join(token_all[i])\n",
    "    data_trim2.append(t.replace(\"[^ㄱ-ㅎㅏ-ㅣ가-힣 ]\",\"\"))\n",
    "    \n",
    "df_temp1 = pd.DataFrame(data_trim2)\n",
    "df_temp1 = df_temp1[0].str.replace(\"[^ㄱ-ㅎㅏ-ㅣ가-힣 ]\",\"\")\n",
    "\n",
    "df_review_all['token'] = df_temp1\n",
    "df_review_all['token_attribution'] = token_all"
   ]
  },
  {
   "cell_type": "code",
   "execution_count": 63,
   "metadata": {},
   "outputs": [],
   "source": [
    "# writer = pd.ExcelWriter('./_review_temp.xlsx')\n",
    "# df_temp1.to_excel(writer, 'Sheet1')\n",
    "# writer.save()"
   ]
  },
  {
   "cell_type": "code",
   "execution_count": 30,
   "metadata": {},
   "outputs": [
    {
     "data": {
      "text/html": [
       "<div>\n",
       "<style scoped>\n",
       "    .dataframe tbody tr th:only-of-type {\n",
       "        vertical-align: middle;\n",
       "    }\n",
       "\n",
       "    .dataframe tbody tr th {\n",
       "        vertical-align: top;\n",
       "    }\n",
       "\n",
       "    .dataframe thead th {\n",
       "        text-align: right;\n",
       "    }\n",
       "</style>\n",
       "<table border=\"1\" class=\"dataframe\">\n",
       "  <thead>\n",
       "    <tr style=\"text-align: right;\">\n",
       "      <th></th>\n",
       "      <th>구매자평점</th>\n",
       "      <th>리뷰상세내용</th>\n",
       "      <th>리뷰등록일</th>\n",
       "      <th>수집채널</th>\n",
       "      <th>category2</th>\n",
       "      <th>token</th>\n",
       "    </tr>\n",
       "  </thead>\n",
       "  <tbody>\n",
       "    <tr>\n",
       "      <th>13672</th>\n",
       "      <td>5</td>\n",
       "      <td>\\n깔끔한 맛? 좋아요. 상하버터~</td>\n",
       "      <td>09/08</td>\n",
       "      <td>마켓컬리</td>\n",
       "      <td>버터</td>\n",
       "      <td>NaN</td>\n",
       "    </tr>\n",
       "    <tr>\n",
       "      <th>13673</th>\n",
       "      <td>5</td>\n",
       "      <td>\\n버터를 적게 사용하는 사람에게는 소량씩 살 수 있어서 좋네요.</td>\n",
       "      <td>09/08</td>\n",
       "      <td>마켓컬리</td>\n",
       "      <td>버터</td>\n",
       "      <td>NaN</td>\n",
       "    </tr>\n",
       "    <tr>\n",
       "      <th>13674</th>\n",
       "      <td>5</td>\n",
       "      <td>\\n좋은제품 감사합니다~!!5656</td>\n",
       "      <td>09/08</td>\n",
       "      <td>마켓컬리</td>\n",
       "      <td>버터</td>\n",
       "      <td>NaN</td>\n",
       "    </tr>\n",
       "    <tr>\n",
       "      <th>13675</th>\n",
       "      <td>4</td>\n",
       "      <td>\\n생각보다 작은데 애기 먹이려고 산거라 괜찮네요 맛있어요</td>\n",
       "      <td>09/08</td>\n",
       "      <td>마켓컬리</td>\n",
       "      <td>버터</td>\n",
       "      <td>NaN</td>\n",
       "    </tr>\n",
       "    <tr>\n",
       "      <th>13676</th>\n",
       "      <td>5</td>\n",
       "      <td>\\n재구매에요 과하게 느끼하지 않고 깔끔한 느낌이라 제 입맛에는 괜찮았구요 제가 우...</td>\n",
       "      <td>09/08</td>\n",
       "      <td>마켓컬리</td>\n",
       "      <td>버터</td>\n",
       "      <td>NaN</td>\n",
       "    </tr>\n",
       "  </tbody>\n",
       "</table>\n",
       "</div>"
      ],
      "text/plain": [
       "      구매자평점                                             리뷰상세내용  리뷰등록일  수집채널  \\\n",
       "13672     5                                \\n깔끔한 맛? 좋아요. 상하버터~  09/08  마켓컬리   \n",
       "13673     5               \\n버터를 적게 사용하는 사람에게는 소량씩 살 수 있어서 좋네요.  09/08  마켓컬리   \n",
       "13674     5                                \\n좋은제품 감사합니다~!!5656  09/08  마켓컬리   \n",
       "13675     4                   \\n생각보다 작은데 애기 먹이려고 산거라 괜찮네요 맛있어요  09/08  마켓컬리   \n",
       "13676     5  \\n재구매에요 과하게 느끼하지 않고 깔끔한 느낌이라 제 입맛에는 괜찮았구요 제가 우...  09/08  마켓컬리   \n",
       "\n",
       "      category2 token  \n",
       "13672        버터   NaN  \n",
       "13673        버터   NaN  \n",
       "13674        버터   NaN  \n",
       "13675        버터   NaN  \n",
       "13676        버터   NaN  "
      ]
     },
     "execution_count": 30,
     "metadata": {},
     "output_type": "execute_result"
    }
   ],
   "source": [
    "df_review_all.tail()"
   ]
  },
  {
   "cell_type": "code",
   "execution_count": 122,
   "metadata": {},
   "outputs": [],
   "source": []
  },
  {
   "cell_type": "code",
   "execution_count": 131,
   "metadata": {},
   "outputs": [],
   "source": [
    "#토큰화 : 전체리뷰자료\n",
    "df_temp1 = df_review_all_before['리뷰상세내용'].replace(\"[^ㄱ-ㅎㅏ-ㅣ가-힣 ]\",\"\")\n",
    "\n",
    "# regex to konlpy\n",
    "token_all = [tokenize(row) for row in df_temp1 ]  \n",
    "\n",
    "data_trim2 = []\n",
    "for i in range(len(df_temp1)):\n",
    "    t = ' '.join(token_all[i])\n",
    "    data_trim2.append(t.replace(\"[^ㄱ-ㅎㅏ-ㅣ가-힣 ]\",\"\"))\n",
    "    \n",
    "df_temp1 = pd.DataFrame(data_trim2)\n",
    "df_temp1 = df_temp1[0].str.replace(\"[^ㄱ-ㅎㅏ-ㅣ가-힣 ]\",\"\")\n",
    "\n",
    "df_review_all_before['token'] = df_temp1\n",
    "df_review_all_before['token_attribution'] = token_all"
   ]
  },
  {
   "cell_type": "code",
   "execution_count": 8,
   "metadata": {},
   "outputs": [
    {
     "ename": "NameError",
     "evalue": "name 'df_review_all_before' is not defined",
     "output_type": "error",
     "traceback": [
      "\u001b[1;31m---------------------------------------------------------------------------\u001b[0m",
      "\u001b[1;31mNameError\u001b[0m                                 Traceback (most recent call last)",
      "\u001b[1;32m<ipython-input-8-b333631cd37c>\u001b[0m in \u001b[0;36m<module>\u001b[1;34m\u001b[0m\n\u001b[0;32m      9\u001b[0m \u001b[1;33m\u001b[0m\u001b[0m\n\u001b[0;32m     10\u001b[0m \u001b[1;31m# 전월 부정/긍정/중립 리뷰\u001b[0m\u001b[1;33m\u001b[0m\u001b[1;33m\u001b[0m\u001b[1;33m\u001b[0m\u001b[0m\n\u001b[1;32m---> 11\u001b[1;33m \u001b[0mdf_review_neg_before\u001b[0m\u001b[1;33m=\u001b[0m \u001b[0mdf_review_all_before\u001b[0m\u001b[1;33m[\u001b[0m\u001b[1;33m(\u001b[0m\u001b[0mdf_review_all_before\u001b[0m\u001b[1;33m[\u001b[0m\u001b[1;34m'구매자평점'\u001b[0m\u001b[1;33m]\u001b[0m\u001b[1;33m==\u001b[0m\u001b[1;34m'1'\u001b[0m\u001b[1;33m)\u001b[0m\u001b[1;33m|\u001b[0m\u001b[1;33m(\u001b[0m\u001b[0mdf_review_all_before\u001b[0m\u001b[1;33m[\u001b[0m\u001b[1;34m'구매자평점'\u001b[0m\u001b[1;33m]\u001b[0m\u001b[1;33m==\u001b[0m\u001b[1;34m'2'\u001b[0m\u001b[1;33m)\u001b[0m\u001b[1;33m]\u001b[0m\u001b[1;33m\u001b[0m\u001b[1;33m\u001b[0m\u001b[0m\n\u001b[0m\u001b[0;32m     12\u001b[0m \u001b[0mdf_review_pos_before\u001b[0m\u001b[1;33m=\u001b[0m \u001b[0mdf_review_all_before\u001b[0m\u001b[1;33m[\u001b[0m\u001b[1;33m(\u001b[0m\u001b[0mdf_review_all_before\u001b[0m\u001b[1;33m[\u001b[0m\u001b[1;34m'구매자평점'\u001b[0m\u001b[1;33m]\u001b[0m\u001b[1;33m==\u001b[0m\u001b[1;34m'4'\u001b[0m\u001b[1;33m)\u001b[0m\u001b[1;33m|\u001b[0m\u001b[1;33m(\u001b[0m\u001b[0mdf_review_all_before\u001b[0m\u001b[1;33m[\u001b[0m\u001b[1;34m'구매자평점'\u001b[0m\u001b[1;33m]\u001b[0m\u001b[1;33m==\u001b[0m\u001b[1;34m'5'\u001b[0m\u001b[1;33m)\u001b[0m\u001b[1;33m]\u001b[0m\u001b[1;33m\u001b[0m\u001b[1;33m\u001b[0m\u001b[0m\n\u001b[0;32m     13\u001b[0m \u001b[0mdf_review_nue_before\u001b[0m\u001b[1;33m=\u001b[0m \u001b[0mdf_review_all_before\u001b[0m\u001b[1;33m[\u001b[0m\u001b[1;33m(\u001b[0m\u001b[0mdf_review_all_before\u001b[0m\u001b[1;33m[\u001b[0m\u001b[1;34m'구매자평점'\u001b[0m\u001b[1;33m]\u001b[0m\u001b[1;33m==\u001b[0m\u001b[1;34m'3'\u001b[0m\u001b[1;33m)\u001b[0m\u001b[1;33m]\u001b[0m\u001b[1;33m\u001b[0m\u001b[1;33m\u001b[0m\u001b[0m\n",
      "\u001b[1;31mNameError\u001b[0m: name 'df_review_all_before' is not defined"
     ]
    }
   ],
   "source": [
    "##########\n",
    "#데이터 불리하기\n",
    "###\n",
    "\n",
    "# 당월 부정/긍정/중립 리뷰\n",
    "df_review_neg= df_review_all[(df_review_all['구매자평점']=='1')|(df_review_all['구매자평점']=='2')]\n",
    "df_review_pos= df_review_all[(df_review_all['구매자평점']=='4')|(df_review_all['구매자평점']=='5')]\n",
    "df_review_nue= df_review_all[(df_review_all['구매자평점']=='3')]\n",
    "\n",
    "# 전월 부정/긍정/중립 리뷰\n",
    "df_review_neg_before= df_review_all_before[(df_review_all_before['구매자평점']=='1')|(df_review_all_before['구매자평점']=='2')]\n",
    "df_review_pos_before= df_review_all_before[(df_review_all_before['구매자평점']=='4')|(df_review_all_before['구매자평점']=='5')]\n",
    "df_review_nue_before= df_review_all_before[(df_review_all_before['구매자평점']=='3')]\n"
   ]
  },
  {
   "cell_type": "code",
   "execution_count": null,
   "metadata": {},
   "outputs": [],
   "source": []
  },
  {
   "cell_type": "code",
   "execution_count": 68,
   "metadata": {},
   "outputs": [],
   "source": [
    "# print('<<기간 내 리뷰수>>' )\n",
    "# print(' - 긍정(54   ) : {:,.0f}'.format(len(df_review_pos)) )\n",
    "# print(' - 중립(  3  ) : {:,.0f}'.format(len(df_review_nue)) )\n",
    "# print(' - 부정(   21) : {:,.0f}'.format(len(df_review_neg)) )"
   ]
  },
  {
   "cell_type": "code",
   "execution_count": 69,
   "metadata": {},
   "outputs": [],
   "source": [
    "# print('<<기간 내 리뷰수 비중>>' )\n",
    "# print(' - 긍정(54   ) : {:,.1f}%'.format(len(df_review_pos)/len(df_review_all)*100 ) )\n",
    "# print(' - 중립(  3  ) : {:,.1f}%'.format(len(df_review_nue)/len(df_review_all)*100 ) )\n",
    "# print(' - 부정(   21) : {:,.1f}%'.format(len(df_review_neg)/len(df_review_all)*100 ) )"
   ]
  },
  {
   "cell_type": "code",
   "execution_count": 133,
   "metadata": {},
   "outputs": [
    {
     "name": "stdout",
     "output_type": "stream",
     "text": [
      "<<기간 내 리뷰 증감률>>\n",
      " - 전체(54321) : 86.0%\n",
      " - 긍정(54   ) : 84.3%\n",
      " - 중립(  3  ) : 136.0%\n",
      " - 부정(   21) : 488.9%\n"
     ]
    }
   ],
   "source": [
    "print('<<기간 내 리뷰 증감률>>' )\n",
    "print(' - 전체(54321) : {:,.1f}%'.format( (len(df_review_all)-len(df_review_all_before))/len(df_review_all_before)*100 ) )\n",
    "print(' - 긍정(54   ) : {:,.1f}%'.format( (len(df_review_pos)-len(df_review_pos_before))/len(df_review_pos_before)*100 ) )\n",
    "print(' - 중립(  3  ) : {:,.1f}%'.format( (len(df_review_nue)-len(df_review_nue_before))/len(df_review_nue_before)*100 ) )\n",
    "print(' - 부정(   21) : {:,.1f}%'.format( (len(df_review_neg)-len(df_review_neg_before))/len(df_review_neg_before)*100 ) )"
   ]
  },
  {
   "cell_type": "code",
   "execution_count": 134,
   "metadata": {},
   "outputs": [
    {
     "data": {
      "text/html": [
       "<div>\n",
       "<style scoped>\n",
       "    .dataframe tbody tr th:only-of-type {\n",
       "        vertical-align: middle;\n",
       "    }\n",
       "\n",
       "    .dataframe tbody tr th {\n",
       "        vertical-align: top;\n",
       "    }\n",
       "\n",
       "    .dataframe thead th {\n",
       "        text-align: right;\n",
       "    }\n",
       "</style>\n",
       "<table border=\"1\" class=\"dataframe\">\n",
       "  <thead>\n",
       "    <tr style=\"text-align: right;\">\n",
       "      <th></th>\n",
       "      <th>구매자평점</th>\n",
       "      <th>리뷰상세내용</th>\n",
       "      <th>리뷰등록일</th>\n",
       "      <th>수집채널</th>\n",
       "      <th>category2</th>\n",
       "      <th>token</th>\n",
       "      <th>token_attribution</th>\n",
       "    </tr>\n",
       "  </thead>\n",
       "  <tbody>\n",
       "    <tr>\n",
       "      <th>272</th>\n",
       "      <td>1</td>\n",
       "      <td>맛도 별로도 오리지널만 있는줄 알았는데 바나나 맛잇네요ㅠ. 바나나 한박스 다 버렸어...</td>\n",
       "      <td>08/15</td>\n",
       "      <td>3 네이버</td>\n",
       "      <td>아몬드브리즈</td>\n",
       "      <td>맛 도 별로 도 오리 지 널 만 있다 알다 바나나 맛 잇다 ㅠ  바나나 하다 박스 ...</td>\n",
       "      <td>[맛/Noun, 도/Josa, 별로/Noun, 도/Josa, 오리/Noun, 지/J...</td>\n",
       "    </tr>\n",
       "    <tr>\n",
       "      <th>353</th>\n",
       "      <td>2</td>\n",
       "      <td>스쿼트밴드 이미지 있을 때 구입했는데 밴드가 안왔어요..</td>\n",
       "      <td>08/15</td>\n",
       "      <td>3 네이버</td>\n",
       "      <td>아몬드브리즈</td>\n",
       "      <td>스쿼트 밴드 이미지 있다 때 구입 하다 밴드 가 안 오다 어요</td>\n",
       "      <td>[스쿼트/Noun, 밴드/Noun, 이미지/Noun, 있다/Adjective, 때/...</td>\n",
       "    </tr>\n",
       "  </tbody>\n",
       "</table>\n",
       "</div>"
      ],
      "text/plain": [
       "    구매자평점                                             리뷰상세내용  리뷰등록일   수집채널  \\\n",
       "272     1  맛도 별로도 오리지널만 있는줄 알았는데 바나나 맛잇네요ㅠ. 바나나 한박스 다 버렸어...  08/15  3 네이버   \n",
       "353     2                    스쿼트밴드 이미지 있을 때 구입했는데 밴드가 안왔어요..  08/15  3 네이버   \n",
       "\n",
       "    category2                                              token  \\\n",
       "272    아몬드브리즈  맛 도 별로 도 오리 지 널 만 있다 알다 바나나 맛 잇다 ㅠ  바나나 하다 박스 ...   \n",
       "353    아몬드브리즈                스쿼트 밴드 이미지 있다 때 구입 하다 밴드 가 안 오다 어요    \n",
       "\n",
       "                                     token_attribution  \n",
       "272  [맛/Noun, 도/Josa, 별로/Noun, 도/Josa, 오리/Noun, 지/J...  \n",
       "353  [스쿼트/Noun, 밴드/Noun, 이미지/Noun, 있다/Adjective, 때/...  "
      ]
     },
     "execution_count": 134,
     "metadata": {},
     "output_type": "execute_result"
    }
   ],
   "source": [
    "df_review_neg.head(2)"
   ]
  },
  {
   "cell_type": "code",
   "execution_count": null,
   "metadata": {},
   "outputs": [],
   "source": []
  },
  {
   "cell_type": "code",
   "execution_count": null,
   "metadata": {},
   "outputs": [],
   "source": []
  },
  {
   "cell_type": "code",
   "execution_count": null,
   "metadata": {},
   "outputs": [],
   "source": []
  },
  {
   "attachments": {},
   "cell_type": "markdown",
   "metadata": {},
   "source": [
    "### III.데이터 리포팅"
   ]
  },
  {
   "cell_type": "code",
   "execution_count": 9,
   "metadata": {},
   "outputs": [],
   "source": [
    "from dateutil.relativedelta import relativedelta\n",
    "\n",
    "\n",
    "#당월 날짜 생성\n",
    "start = (datetime.today().replace(day=1)).strftime('%Y-%m-%d')\n",
    "end = ((datetime.today()+relativedelta(months=1)).replace(day=1)-timedelta(days=1)).strftime('%Y-%m-%d')\n",
    "\n",
    "monthly_date = [d.strftime('%Y-%m-%d') for d in pd.date_range(start, end, freq='D')]\n",
    "\n",
    "REPORT = pd.DataFrame()\n",
    "REPORT['리뷰등록일'] = monthly_date"
   ]
  },
  {
   "cell_type": "code",
   "execution_count": 10,
   "metadata": {},
   "outputs": [
    {
     "data": {
      "text/html": [
       "<div>\n",
       "<style scoped>\n",
       "    .dataframe tbody tr th:only-of-type {\n",
       "        vertical-align: middle;\n",
       "    }\n",
       "\n",
       "    .dataframe tbody tr th {\n",
       "        vertical-align: top;\n",
       "    }\n",
       "\n",
       "    .dataframe thead th {\n",
       "        text-align: right;\n",
       "    }\n",
       "</style>\n",
       "<table border=\"1\" class=\"dataframe\">\n",
       "  <thead>\n",
       "    <tr style=\"text-align: right;\">\n",
       "      <th></th>\n",
       "      <th>리뷰등록일</th>\n",
       "    </tr>\n",
       "  </thead>\n",
       "  <tbody>\n",
       "    <tr>\n",
       "      <th>0</th>\n",
       "      <td>2021-09-01</td>\n",
       "    </tr>\n",
       "    <tr>\n",
       "      <th>1</th>\n",
       "      <td>2021-09-02</td>\n",
       "    </tr>\n",
       "    <tr>\n",
       "      <th>2</th>\n",
       "      <td>2021-09-03</td>\n",
       "    </tr>\n",
       "    <tr>\n",
       "      <th>3</th>\n",
       "      <td>2021-09-04</td>\n",
       "    </tr>\n",
       "    <tr>\n",
       "      <th>4</th>\n",
       "      <td>2021-09-05</td>\n",
       "    </tr>\n",
       "  </tbody>\n",
       "</table>\n",
       "</div>"
      ],
      "text/plain": [
       "        리뷰등록일\n",
       "0  2021-09-01\n",
       "1  2021-09-02\n",
       "2  2021-09-03\n",
       "3  2021-09-04\n",
       "4  2021-09-05"
      ]
     },
     "execution_count": 10,
     "metadata": {},
     "output_type": "execute_result"
    }
   ],
   "source": [
    "REPORT.head()"
   ]
  },
  {
   "cell_type": "code",
   "execution_count": 11,
   "metadata": {},
   "outputs": [],
   "source": [
    "trend_review_all = pd.pivot_table(df_review_all, index = '리뷰등록일', values = '리뷰상세내용', columns = '구매자평점', aggfunc = 'count').fillna(0)\n",
    "\n",
    "trend_review_pos = pd.pivot_table(df_review_pos, index = '리뷰등록일', values = '리뷰상세내용', aggfunc = 'count').fillna(0)\n",
    "trend_review_nue = pd.pivot_table(df_review_nue, index = '리뷰등록일', values = '리뷰상세내용', aggfunc = 'count').fillna(0)\n",
    "trend_review_neg = pd.pivot_table(df_review_neg, index = '리뷰등록일', values = '리뷰상세내용', aggfunc = 'count').fillna(0)\n"
   ]
  },
  {
   "cell_type": "code",
   "execution_count": 12,
   "metadata": {},
   "outputs": [],
   "source": [
    "trend_review_pos.index = trend_review_pos.index.map(str)"
   ]
  },
  {
   "cell_type": "code",
   "execution_count": 13,
   "metadata": {},
   "outputs": [
    {
     "data": {
      "text/plain": [
       "Index(['09/01'], dtype='object', name='리뷰등록일')"
      ]
     },
     "execution_count": 13,
     "metadata": {},
     "output_type": "execute_result"
    }
   ],
   "source": [
    "trend_review_pos.index"
   ]
  },
  {
   "cell_type": "code",
   "execution_count": 14,
   "metadata": {},
   "outputs": [
    {
     "data": {
      "text/plain": [
       "Index(['09/01'], dtype='object', name='리뷰등록일')"
      ]
     },
     "execution_count": 14,
     "metadata": {},
     "output_type": "execute_result"
    }
   ],
   "source": [
    "trend_review_pos.index.astype(str, copy = False)"
   ]
  },
  {
   "cell_type": "code",
   "execution_count": 15,
   "metadata": {
    "scrolled": false
   },
   "outputs": [],
   "source": [
    "\n",
    "REPORT_01 = pd.merge(REPORT, trend_review_pos, left_on=['리뷰등록일'], right_on=trend_review_pos.index, how='outer')\n",
    "REPORT_01.rename(columns = { '리뷰상세내용' : '긍정리뷰' }, inplace = True)\n",
    "\n",
    "REPORT_01 = pd.merge(REPORT_01, trend_review_nue, left_on=['리뷰등록일'], right_on=trend_review_nue.index, how='outer')\n",
    "REPORT_01.rename(columns = { '리뷰상세내용' : '중립리뷰' }, inplace = True)\n",
    "\n",
    "REPORT_01 = pd.merge(REPORT_01, trend_review_neg, left_on=['리뷰등록일'], right_on=trend_review_neg.index, how='outer')\n",
    "REPORT_01.rename(columns = { '리뷰상세내용' : '부정리뷰' }, inplace = True)\n",
    "# REPORT_01 = REPORT_01.fillna('')\n",
    "\n",
    "# REPORT_01['리뷰등록일'] = REPORT_01['리뷰등록일'].str.slice(start=-5)\n",
    "# REPORT_01['리뷰등록일'] = REPORT_01['리뷰등록일'].str.replace('-', '/')"
   ]
  },
  {
   "cell_type": "code",
   "execution_count": null,
   "metadata": {},
   "outputs": [],
   "source": []
  },
  {
   "cell_type": "code",
   "execution_count": 142,
   "metadata": {},
   "outputs": [],
   "source": [
    "###############\n",
    "# 리포트용 자료 만들기 : 2.Trend &  Wordcloud\n",
    "#####\n",
    "\n",
    "# word cloud 생성 모듈\n",
    "def wordcloud_gen(dataset, color):\n",
    "    text = dataset.to_list()\n",
    "    text_all = listToString(text)\n",
    "    wc1 = WordCloud(font_path= path, stopwords = stopword, width = 600, height = 600, background_color=\"white\", repeat=True, colormap = color)\n",
    "    return wc1.generate(text_all)"
   ]
  },
  {
   "cell_type": "code",
   "execution_count": 151,
   "metadata": {},
   "outputs": [],
   "source": [
    "stopword = ['먹다', '하다', '좋다'  , '예요', '이에요', '있다', '맛있다', '같다', '없다', '보통', '최고', '주문', '보다', '매일',\n",
    "         '구매', '에서', '먹이다', '않다', '자다'  , '들다', '사다'  , '되다', '으로', 'ㅠㅠ', 'ㅜㅜ', '말다', '이다', '받다',\n",
    "         '아직', '이다', '보이다', '이나', '오다'  , '이라', '우유'  , '배달', '배송', '가정', '제품', '신청', '문의', '되어다',\n",
    "         '넘다', 'ㅋㅋ', 'ㅋㅋㅋ', 'ㅎㅎ', '진짜'  , '너무', '이', '는', '요', '은', '에', '기', '다', '도', '원', '구', '개', '랑','가',\n",
    "         '도', '임시', '이미지', '확인', '후', '을', '안' ,'되다', '하', '심', '고객', '님', '어요', '좀', '것', '니', '어보', '타',\n",
    "         '생각', '지만', '잘', '제', '니다', '네', '해', '그래도', '엄청', '하고', '번', '그', '나다', '시', '다가', '한', '해서', '로',\n",
    "         '더', '못', '에는', '던데', '일단', '나요', '아하', '이적','이고', '려고', '이라고', '고', '어서','를', '그냥', '만', '짧다',\n",
    "         '유통기한', '인데', '박스', '까지', '일', '월', '두', '팩','어요', '요','다', '한', '있다', '라', '나', '게', '거', '데',\n",
    "         '더니','달', '보', '이번', '이네', '내주', '하나', '수', '저', '이렇다', '이렇게', 'ㅠ', '때', '늘', '또', '편', '늘','감사',\n",
    "         '항상', '여', '아해', '들', '중', '열', '영', '분', '세', '뭐', '루', '알', '용', '통', '함', '무', '생', '물', '리', '새',\n",
    "         '적', 'hellip', '빠르다', '도착', '배송', '택배', '두유', '아주', '지', '아몬드브리즈', '아몬드 브리즈', '브리', '즈', '아주',\n",
    "         '씩', '오리', '널', '에요', '에도', '네요','잇다', '알다', '포장', '옵션', '상품', '많이', '대하'\n",
    "         ]"
   ]
  },
  {
   "cell_type": "code",
   "execution_count": 18,
   "metadata": {},
   "outputs": [
    {
     "ename": "NameError",
     "evalue": "name 'df_review_all_before' is not defined",
     "output_type": "error",
     "traceback": [
      "\u001b[1;31m---------------------------------------------------------------------------\u001b[0m",
      "\u001b[1;31mNameError\u001b[0m                                 Traceback (most recent call last)",
      "\u001b[1;32m<ipython-input-18-7116beb3cc1c>\u001b[0m in \u001b[0;36m<module>\u001b[1;34m\u001b[0m\n\u001b[0;32m      2\u001b[0m \u001b[0mreview_all_count\u001b[0m  \u001b[1;33m=\u001b[0m \u001b[0mlen\u001b[0m\u001b[1;33m(\u001b[0m\u001b[0mdf_review_all\u001b[0m\u001b[1;33m)\u001b[0m\u001b[1;33m\u001b[0m\u001b[1;33m\u001b[0m\u001b[0m\n\u001b[0;32m      3\u001b[0m \u001b[0mreview_all_ratio\u001b[0m  \u001b[1;33m=\u001b[0m \u001b[0mlen\u001b[0m\u001b[1;33m(\u001b[0m\u001b[0mdf_review_all\u001b[0m\u001b[1;33m)\u001b[0m\u001b[1;33m/\u001b[0m\u001b[0mlen\u001b[0m\u001b[1;33m(\u001b[0m\u001b[0mdf_review_all\u001b[0m\u001b[1;33m)\u001b[0m\u001b[1;33m*\u001b[0m\u001b[1;36m100\u001b[0m\u001b[1;33m\u001b[0m\u001b[1;33m\u001b[0m\u001b[0m\n\u001b[1;32m----> 4\u001b[1;33m \u001b[0mreview_all_change\u001b[0m \u001b[1;33m=\u001b[0m \u001b[1;33m(\u001b[0m\u001b[0mlen\u001b[0m\u001b[1;33m(\u001b[0m\u001b[0mdf_review_all\u001b[0m\u001b[1;33m)\u001b[0m\u001b[1;33m-\u001b[0m\u001b[0mlen\u001b[0m\u001b[1;33m(\u001b[0m\u001b[0mdf_review_all_before\u001b[0m\u001b[1;33m)\u001b[0m\u001b[1;33m)\u001b[0m \u001b[1;33m/\u001b[0m\u001b[0mlen\u001b[0m\u001b[1;33m(\u001b[0m\u001b[0mdf_review_all_before\u001b[0m\u001b[1;33m)\u001b[0m\u001b[1;33m*\u001b[0m\u001b[1;36m100\u001b[0m\u001b[1;33m\u001b[0m\u001b[1;33m\u001b[0m\u001b[0m\n\u001b[0m",
      "\u001b[1;31mNameError\u001b[0m: name 'df_review_all_before' is not defined"
     ]
    }
   ],
   "source": [
    "# 전월동기 대비 증감율 자료\n",
    "review_all_count  = len(df_review_all)\n",
    "review_all_ratio  = len(df_review_all)/len(df_review_all)*100\n",
    "review_all_change = (len(df_review_all)-len(df_review_all_before)) /len(df_review_all_before)*100"
   ]
  },
  {
   "cell_type": "code",
   "execution_count": 19,
   "metadata": {},
   "outputs": [
    {
     "data": {
      "text/plain": [
       "'09/01'"
      ]
     },
     "execution_count": 19,
     "metadata": {},
     "output_type": "execute_result"
    }
   ],
   "source": [
    "termA_start"
   ]
  },
  {
   "cell_type": "code",
   "execution_count": 20,
   "metadata": {},
   "outputs": [
    {
     "ename": "NameError",
     "evalue": "name 'df_review_all_before' is not defined",
     "output_type": "error",
     "traceback": [
      "\u001b[1;31m---------------------------------------------------------------------------\u001b[0m",
      "\u001b[1;31mNameError\u001b[0m                                 Traceback (most recent call last)",
      "\u001b[1;32m<ipython-input-20-87b5de198138>\u001b[0m in \u001b[0;36m<module>\u001b[1;34m\u001b[0m\n\u001b[0;32m      6\u001b[0m \u001b[0mtermA_start\u001b[0m \u001b[1;33m=\u001b[0m \u001b[1;33m(\u001b[0m\u001b[0mdf_review_all\u001b[0m\u001b[1;33m.\u001b[0m\u001b[0m리뷰등록일\u001b[0m\u001b[1;33m.\u001b[0m\u001b[0mmin\u001b[0m\u001b[1;33m(\u001b[0m\u001b[1;33m)\u001b[0m\u001b[1;33m)\u001b[0m\u001b[1;33m\u001b[0m\u001b[1;33m\u001b[0m\u001b[0m\n\u001b[0;32m      7\u001b[0m \u001b[0mtermA_end\u001b[0m   \u001b[1;33m=\u001b[0m \u001b[1;33m(\u001b[0m\u001b[0mdf_review_all\u001b[0m\u001b[1;33m.\u001b[0m\u001b[0m리뷰등록일\u001b[0m\u001b[1;33m.\u001b[0m\u001b[0mmax\u001b[0m\u001b[1;33m(\u001b[0m\u001b[1;33m)\u001b[0m\u001b[1;33m)\u001b[0m\u001b[1;33m\u001b[0m\u001b[1;33m\u001b[0m\u001b[0m\n\u001b[1;32m----> 8\u001b[1;33m \u001b[0mtermB_start\u001b[0m \u001b[1;33m=\u001b[0m \u001b[1;33m(\u001b[0m\u001b[0mdf_review_all_before\u001b[0m\u001b[1;33m.\u001b[0m\u001b[0m리뷰등록일\u001b[0m\u001b[1;33m.\u001b[0m\u001b[0mmin\u001b[0m\u001b[1;33m(\u001b[0m\u001b[1;33m)\u001b[0m\u001b[1;33m)\u001b[0m\u001b[1;33m\u001b[0m\u001b[1;33m\u001b[0m\u001b[0m\n\u001b[0m\u001b[0;32m      9\u001b[0m \u001b[0mtermB_end\u001b[0m   \u001b[1;33m=\u001b[0m \u001b[1;33m(\u001b[0m\u001b[0mdf_review_all_before\u001b[0m\u001b[1;33m.\u001b[0m\u001b[0m리뷰등록일\u001b[0m\u001b[1;33m.\u001b[0m\u001b[0mmax\u001b[0m\u001b[1;33m(\u001b[0m\u001b[1;33m)\u001b[0m\u001b[1;33m)\u001b[0m\u001b[1;33m\u001b[0m\u001b[1;33m\u001b[0m\u001b[0m\n\u001b[0;32m     10\u001b[0m \u001b[1;33m\u001b[0m\u001b[0m\n",
      "\u001b[1;31mNameError\u001b[0m: name 'df_review_all_before' is not defined"
     ]
    }
   ],
   "source": [
    "###############\n",
    "# 리포트용 자료 만들기 : 주요단어 Rank\n",
    "#####\n",
    "\n",
    "# 날짜 지정\n",
    "termA_start = (df_review_all.리뷰등록일.min())\n",
    "termA_end   = (df_review_all.리뷰등록일.max())\n",
    "termB_start = (df_review_all_before.리뷰등록일.min())\n",
    "termB_end   = (df_review_all_before.리뷰등록일.max())\n",
    "\n",
    "# 자료가공\n",
    "df_review_pos_termA = df_review_pos[df_review_pos.리뷰등록일.between(termA_start, termA_end)]\n",
    "df_review_pos_termB = df_review_pos_before[df_review_pos_before.리뷰등록일.between(termB_start, termB_end)]\n",
    "\n",
    "df_review_nue_termA = df_review_nue[df_review_nue.리뷰등록일.between(termA_start, termA_end)]\n",
    "df_review_nue_termB = df_review_nue_before[df_review_nue_before.리뷰등록일.between(termB_start, termB_end)]\n",
    "\n",
    "df_review_neg_termA = df_review_neg[df_review_neg.리뷰등록일.between(termA_start, termA_end)]\n",
    "df_review_neg_termB = df_review_neg_before[df_review_neg_before.리뷰등록일.between(termB_start, termB_end)]\n"
   ]
  },
  {
   "cell_type": "code",
   "execution_count": 17,
   "metadata": {},
   "outputs": [
    {
     "ename": "NameError",
     "evalue": "name 'df_review_pos_termA' is not defined",
     "output_type": "error",
     "traceback": [
      "\u001b[1;31m---------------------------------------------------------------------------\u001b[0m",
      "\u001b[1;31mNameError\u001b[0m                                 Traceback (most recent call last)",
      "\u001b[1;32m<ipython-input-17-6d5ab2411614>\u001b[0m in \u001b[0;36m<module>\u001b[1;34m\u001b[0m\n\u001b[1;32m----> 1\u001b[1;33m \u001b[0mdf_review_pos_termA\u001b[0m\u001b[1;33m\u001b[0m\u001b[1;33m\u001b[0m\u001b[0m\n\u001b[0m",
      "\u001b[1;31mNameError\u001b[0m: name 'df_review_pos_termA' is not defined"
     ]
    }
   ],
   "source": [
    "df_review_pos_termA"
   ]
  },
  {
   "cell_type": "code",
   "execution_count": 149,
   "metadata": {},
   "outputs": [],
   "source": [
    "\n",
    "list_pos_termA = list(itertools.chain(*df_review_pos_termA.token_attribution))\n",
    "list_pos_termB = list(itertools.chain(*df_review_pos_termB.token_attribution))\n",
    "\n",
    "list_nue_termA = list(itertools.chain(*df_review_nue_termA.token_attribution))\n",
    "list_nue_termB = list(itertools.chain(*df_review_nue_termB.token_attribution))\n",
    "\n",
    "list_neg_termA = list(itertools.chain(*df_review_neg_termA.token_attribution))\n",
    "list_neg_termB = list(itertools.chain(*df_review_neg_termB.token_attribution))\n",
    "\n",
    "\n",
    "def wordrank(dataset):\n",
    "    ko = nltk.Text(dataset)\n",
    "    \n",
    "    data = ko.vocab().items()\n",
    "    reviw_word_all = pd.DataFrame.from_dict(data)\n",
    "    reviw_word_all.rename(columns = { 1 : 'count' }, inplace = True)\n",
    "    reviw_word_all = reviw_word_all.sort_values('count', ascending=False)\n",
    "    reviw_word_all['속성'] =reviw_word_all[0].str.split('/').str[1]\n",
    "    reviw_word_all['내용'] =reviw_word_all[0].str.split('/').str[0]\n",
    "\n",
    "    # stopword 내용 삭제\n",
    "    reviw_word_all = reviw_word_all[~reviw_word_all.내용.isin(stopword)]\n",
    "\n",
    "    # 일부 속성 삭제\n",
    "    reviw_word_all = reviw_word_all[(reviw_word_all['속성']!=  'Punctuation')]\n",
    "    reviw_word_all = reviw_word_all[(reviw_word_all['속성']!=  'Josa')]\n",
    "    reviw_word_all = reviw_word_all[(reviw_word_all['속성']!=  'Foreign')]\n",
    "    reviw_word_all = reviw_word_all[(reviw_word_all['속성']!=  'KoreanParticle')]\n",
    "    reviw_word_all = reviw_word_all[(reviw_word_all['속성']!=  'Number')]\n",
    "    reviw_word_all = reviw_word_all[(reviw_word_all['속성']!=  'Adverb')]\n",
    "    reviw_word_all = reviw_word_all[(reviw_word_all['속성']!=  'Exclamation')]\n",
    "\n",
    "    # top15 만 지정\n",
    "    reviw_word_all = reviw_word_all[['속성', '내용', 'count']]\n",
    "\n",
    "    return reviw_word_all\n"
   ]
  },
  {
   "cell_type": "code",
   "execution_count": null,
   "metadata": {},
   "outputs": [],
   "source": []
  },
  {
   "cell_type": "code",
   "execution_count": 21,
   "metadata": {
    "scrolled": false
   },
   "outputs": [
    {
     "ename": "AttributeError",
     "evalue": "'DataFrame' object has no attribute '부정리뷰'",
     "output_type": "error",
     "traceback": [
      "\u001b[1;31m---------------------------------------------------------------------------\u001b[0m",
      "\u001b[1;31mAttributeError\u001b[0m                            Traceback (most recent call last)",
      "\u001b[1;32m<ipython-input-21-7fc6f1fa0895>\u001b[0m in \u001b[0;36m<module>\u001b[1;34m\u001b[0m\n\u001b[0;32m     36\u001b[0m \u001b[0mplt\u001b[0m\u001b[1;33m.\u001b[0m\u001b[0mplot\u001b[0m\u001b[1;33m(\u001b[0m\u001b[0mREPORT_01\u001b[0m\u001b[1;33m.\u001b[0m\u001b[0m리뷰등록일\u001b[0m\u001b[1;33m,\u001b[0m \u001b[0mREPORT_01\u001b[0m\u001b[1;33m.\u001b[0m\u001b[0m긍정리뷰\u001b[0m\u001b[1;33m,\u001b[0m \u001b[0mmarker\u001b[0m\u001b[1;33m=\u001b[0m\u001b[1;34m\"o\"\u001b[0m\u001b[1;33m,\u001b[0m \u001b[0mcolor\u001b[0m\u001b[1;33m=\u001b[0m \u001b[1;34m'blue'\u001b[0m\u001b[1;33m,\u001b[0m \u001b[0mlabel\u001b[0m\u001b[1;33m=\u001b[0m\u001b[1;34m'긍정'\u001b[0m\u001b[1;33m)\u001b[0m\u001b[1;33m\u001b[0m\u001b[1;33m\u001b[0m\u001b[0m\n\u001b[0;32m     37\u001b[0m \u001b[0mplt\u001b[0m\u001b[1;33m.\u001b[0m\u001b[0mplot\u001b[0m\u001b[1;33m(\u001b[0m\u001b[0mREPORT_01\u001b[0m\u001b[1;33m.\u001b[0m\u001b[0m리뷰등록일\u001b[0m\u001b[1;33m,\u001b[0m \u001b[0mREPORT_01\u001b[0m\u001b[1;33m.\u001b[0m\u001b[0m중립리뷰\u001b[0m\u001b[1;33m,\u001b[0m \u001b[0mmarker\u001b[0m\u001b[1;33m=\u001b[0m\u001b[1;34m\"o\"\u001b[0m\u001b[1;33m,\u001b[0m \u001b[0mcolor\u001b[0m\u001b[1;33m=\u001b[0m \u001b[1;34m'gray'\u001b[0m\u001b[1;33m,\u001b[0m \u001b[0mlabel\u001b[0m\u001b[1;33m=\u001b[0m\u001b[1;34m'중립'\u001b[0m\u001b[1;33m)\u001b[0m\u001b[1;33m\u001b[0m\u001b[1;33m\u001b[0m\u001b[0m\n\u001b[1;32m---> 38\u001b[1;33m \u001b[0mplt\u001b[0m\u001b[1;33m.\u001b[0m\u001b[0mplot\u001b[0m\u001b[1;33m(\u001b[0m\u001b[0mREPORT_01\u001b[0m\u001b[1;33m.\u001b[0m\u001b[0m리뷰등록일\u001b[0m\u001b[1;33m,\u001b[0m \u001b[0mREPORT_01\u001b[0m\u001b[1;33m.\u001b[0m\u001b[0m부정리뷰\u001b[0m\u001b[1;33m,\u001b[0m \u001b[0mmarker\u001b[0m\u001b[1;33m=\u001b[0m\u001b[1;34m\"o\"\u001b[0m\u001b[1;33m,\u001b[0m \u001b[0mcolor\u001b[0m\u001b[1;33m=\u001b[0m \u001b[1;34m'red'\u001b[0m\u001b[1;33m,\u001b[0m  \u001b[0mlabel\u001b[0m\u001b[1;33m=\u001b[0m\u001b[1;34m'부정'\u001b[0m\u001b[1;33m)\u001b[0m\u001b[1;33m\u001b[0m\u001b[1;33m\u001b[0m\u001b[0m\n\u001b[0m\u001b[0;32m     39\u001b[0m \u001b[0mlgd\u001b[0m \u001b[1;33m=\u001b[0m \u001b[0mplt\u001b[0m\u001b[1;33m.\u001b[0m\u001b[0mlegend\u001b[0m\u001b[1;33m(\u001b[0m\u001b[0mloc\u001b[0m\u001b[1;33m=\u001b[0m\u001b[1;34m'best'\u001b[0m\u001b[1;33m,\u001b[0m\u001b[0mfancybox\u001b[0m\u001b[1;33m=\u001b[0m\u001b[1;32mTrue\u001b[0m\u001b[1;33m,\u001b[0m \u001b[0mshadow\u001b[0m\u001b[1;33m=\u001b[0m\u001b[1;32mTrue\u001b[0m\u001b[1;33m)\u001b[0m\u001b[1;33m\u001b[0m\u001b[1;33m\u001b[0m\u001b[0m\n\u001b[0;32m     40\u001b[0m \u001b[0mplt\u001b[0m\u001b[1;33m.\u001b[0m\u001b[0mtitle\u001b[0m\u001b[1;33m(\u001b[0m\u001b[1;34m'일별 리뷰건수'\u001b[0m\u001b[1;33m,\u001b[0m\u001b[0mfontsize\u001b[0m\u001b[1;33m=\u001b[0m\u001b[1;34m'x-large'\u001b[0m\u001b[1;33m)\u001b[0m\u001b[1;33m\u001b[0m\u001b[1;33m\u001b[0m\u001b[0m\n",
      "\u001b[1;32mC:\\ProgramData\\Anaconda3\\lib\\site-packages\\pandas\\core\\generic.py\u001b[0m in \u001b[0;36m__getattr__\u001b[1;34m(self, name)\u001b[0m\n\u001b[0;32m   5463\u001b[0m             \u001b[1;32mif\u001b[0m \u001b[0mself\u001b[0m\u001b[1;33m.\u001b[0m\u001b[0m_info_axis\u001b[0m\u001b[1;33m.\u001b[0m\u001b[0m_can_hold_identifiers_and_holds_name\u001b[0m\u001b[1;33m(\u001b[0m\u001b[0mname\u001b[0m\u001b[1;33m)\u001b[0m\u001b[1;33m:\u001b[0m\u001b[1;33m\u001b[0m\u001b[1;33m\u001b[0m\u001b[0m\n\u001b[0;32m   5464\u001b[0m                 \u001b[1;32mreturn\u001b[0m \u001b[0mself\u001b[0m\u001b[1;33m[\u001b[0m\u001b[0mname\u001b[0m\u001b[1;33m]\u001b[0m\u001b[1;33m\u001b[0m\u001b[1;33m\u001b[0m\u001b[0m\n\u001b[1;32m-> 5465\u001b[1;33m             \u001b[1;32mreturn\u001b[0m \u001b[0mobject\u001b[0m\u001b[1;33m.\u001b[0m\u001b[0m__getattribute__\u001b[0m\u001b[1;33m(\u001b[0m\u001b[0mself\u001b[0m\u001b[1;33m,\u001b[0m \u001b[0mname\u001b[0m\u001b[1;33m)\u001b[0m\u001b[1;33m\u001b[0m\u001b[1;33m\u001b[0m\u001b[0m\n\u001b[0m\u001b[0;32m   5466\u001b[0m \u001b[1;33m\u001b[0m\u001b[0m\n\u001b[0;32m   5467\u001b[0m     \u001b[1;32mdef\u001b[0m \u001b[0m__setattr__\u001b[0m\u001b[1;33m(\u001b[0m\u001b[0mself\u001b[0m\u001b[1;33m,\u001b[0m \u001b[0mname\u001b[0m\u001b[1;33m:\u001b[0m \u001b[0mstr\u001b[0m\u001b[1;33m,\u001b[0m \u001b[0mvalue\u001b[0m\u001b[1;33m)\u001b[0m \u001b[1;33m->\u001b[0m \u001b[1;32mNone\u001b[0m\u001b[1;33m:\u001b[0m\u001b[1;33m\u001b[0m\u001b[1;33m\u001b[0m\u001b[0m\n",
      "\u001b[1;31mAttributeError\u001b[0m: 'DataFrame' object has no attribute '부정리뷰'"
     ]
    },
    {
     "data": {
      "image/png": "[encoded data removed]",
      "text/plain": [
       "<Figure size 1008x2160 with 1 Axes>"
      ]
     },
     "metadata": {
      "needs_background": "light"
     },
     "output_type": "display_data"
    }
   ],
   "source": [
    "fig = plt.figure(figsize=(14, 30))\n",
    "\n",
    "###############\n",
    "# 당월 리뷰내용 요약\n",
    "#####\n",
    "# ax1 = plt.subplot2grid((7, 4), (0, 0))\n",
    "# plt.xticks([]); plt.yticks([]); plt.grid(False)\n",
    "# plt.axis([0, 2, 0, 2])\n",
    "# plt.text(1, 1, ha = 'center', va = 'center', fontsize =16, \n",
    "#          s='{}월 리뷰누계\\n: {:,.0f}개\\n(전월동기 : {:,.0f}%)\\n\\n(비중 : {:,.0f}%)'.format(datetime.now().strftime('%m'), review_all_count, review_all_change, review_all_ratio ) )\n",
    "\n",
    "# ax2 = plt.subplot2grid((7, 4), (0, 1))\n",
    "# plt.xticks([]); plt.yticks([]); plt.grid(False)\n",
    "# plt.axis([0, 2, 0, 2])\n",
    "# plt.text(1, 1, ha = 'center', va = 'center', fontsize =20, c = 'blue', \n",
    "#          s='{}월 긍정리뷰\\n: {:,.0f}개\\n(비중 : {:,.1f}%)'.format(datetime.now().strftime('%m'), len(df_review_pos),len(df_review_pos)/len(df_review_all)*100 ) )\n",
    "\n",
    "# ax3 = plt.subplot2grid((7, 4), (0, 2))\n",
    "# plt.xticks([]); plt.yticks([]); plt.grid(False)\n",
    "# plt.axis([0, 2, 0, 2])\n",
    "# plt.text(1, 1, ha = 'center', va = 'center', fontsize =20, c = 'gray',\n",
    "#          s='{}월 중립리뷰\\n: {:,.0f}개\\n(비중 : {:,.1f}%)'.format(datetime.now().strftime('%m'), len(df_review_nue),len(df_review_nue)/len(df_review_all)*100 ) )\n",
    "\n",
    "# ax4 = plt.subplot2grid((7, 4), (0, 3))\n",
    "# plt.xticks([]); plt.yticks([]); plt.grid(False)\n",
    "# plt.axis([0, 2, 0, 2])\n",
    "# plt.text(1, 1, ha = 'center', va = 'center', fontsize =20, c = 'red',\n",
    "#          s='{}월 부정리뷰\\n: {:,.0f}개\\n(비중 : {:,.1f}%)'.format(datetime.now().strftime('%m'), len(df_review_neg),len(df_review_neg)/len(df_review_all)*100 ) )\n",
    "\n",
    "\n",
    "###############\n",
    "# 일별 리뷰내용 추이\n",
    "#####\n",
    "ax5 = plt.subplot2grid((7, 4), (1, 0), colspan=4)\n",
    "plt.subplots_adjust(left=0.125, bottom=0.1,  right=0.9, top=0.9, wspace=0.2, hspace=0.5)\n",
    "plt.plot(REPORT_01.리뷰등록일, REPORT_01.긍정리뷰, marker=\"o\", color= 'blue', label='긍정')\n",
    "plt.plot(REPORT_01.리뷰등록일, REPORT_01.중립리뷰, marker=\"o\", color= 'gray', label='중립')\n",
    "plt.plot(REPORT_01.리뷰등록일, REPORT_01.부정리뷰, marker=\"o\", color= 'red',  label='부정')\n",
    "lgd = plt.legend(loc='best',fancybox=True, shadow=True)\n",
    "plt.title('일별 리뷰건수',fontsize='x-large')\n",
    "plt.xticks(rotation=45)\n",
    "plt.xlim(-1,31)\n",
    "\n",
    "\n",
    "###############\n",
    "# 일별 리뷰내용 비율\n",
    "#####\n",
    "ax6 = plt.subplot2grid((7, 4), (2, 0), colspan=4)\n",
    "plt.subplots_adjust(left=0.125, bottom=0.1,  right=0.9, top=0.9, wspace=0.2, hspace=0.5)\n",
    "pd.crosstab(df_review_all.리뷰등록일, df_review_all.구매자평점, normalize='index').plot.bar(stacked=True,  ax = ax6)\n",
    "lgd = plt.legend(loc='best',fancybox=True, shadow=True)\n",
    "plt.title('일별 리뷰 비중',fontsize='x-large')\n",
    "plt.xlim(-1,31)\n",
    "plt.xticks(rotation=45)\n",
    "\n",
    "###############\n",
    "# word cloud\n",
    "#####\n",
    "\n",
    "ax7 = plt.subplot2grid((7, 4), (3, 0))\n",
    "plt.subplots_adjust(left=0.125, bottom=0.1,  right=0.9, top=0.9, wspace=0.2, hspace=0.3)\n",
    "plt.xticks([]); plt.yticks([]); plt.grid(False)\n",
    "plt.imshow(wordcloud_gen(df_review_all['token'], None), cmap=plt.cm.binary)\n",
    "plt.title('전체리뷰',fontsize='large')\n",
    "\n",
    "ax8 = plt.subplot2grid((7, 4), (3, 1))\n",
    "plt.xticks([]); plt.yticks([]); plt.grid(False)\n",
    "plt.imshow(wordcloud_gen(df_review_pos['token'], 'Blues_r'), cmap=plt.cm.binary)\n",
    "plt.title('긍정리뷰',fontsize='large')\n",
    "\n",
    "ax9 = plt.subplot2grid((7, 4), (3, 2))\n",
    "plt.xticks([]); plt.yticks([]); plt.grid(False)\n",
    "plt.imshow(wordcloud_gen(df_review_nue['token'], 'gray'), cmap=plt.cm.binary)\n",
    "plt.title('중립리뷰',fontsize='large')\n",
    "\n",
    "ax10 = plt.subplot2grid((7, 4), (3, 3))\n",
    "plt.xticks([]); plt.yticks([]); plt.grid(False)\n",
    "try:\n",
    "    plt.imshow(wordcloud_gen(df_review_neg['token'], 'Reds'), cmap=plt.cm.binary)\n",
    "except:\n",
    "    pass\n",
    "plt.title('부정점수',fontsize='large')\n",
    "\n",
    "plt.savefig('./image.png', bbox_inches='tight', dpi=200)\n",
    "\n",
    "# ax11 = plt.subplot2grid((7, 4), (4, 0))\n",
    "\n",
    "\n",
    "plt.show()"
   ]
  },
  {
   "cell_type": "code",
   "execution_count": null,
   "metadata": {},
   "outputs": [],
   "source": []
  },
  {
   "cell_type": "code",
   "execution_count": null,
   "metadata": {},
   "outputs": [],
   "source": []
  },
  {
   "cell_type": "code",
   "execution_count": null,
   "metadata": {},
   "outputs": [],
   "source": []
  },
  {
   "cell_type": "code",
   "execution_count": null,
   "metadata": {},
   "outputs": [],
   "source": []
  },
  {
   "cell_type": "code",
   "execution_count": null,
   "metadata": {},
   "outputs": [],
   "source": []
  },
  {
   "cell_type": "code",
   "execution_count": 559,
   "metadata": {},
   "outputs": [],
   "source": [
    "###############\n",
    "# 리포트용 자료 만들기 : 5.키워드별 rawdata\n",
    "#####\n",
    "\n",
    "data_by_keyword = pd.DataFrame()\n",
    "\n",
    "category_count = []\n",
    "for text1 ,text2 in category :\n",
    "    df_sort = df_review_all[(df_review_all['token'].str.contains(str(text2)))]\n",
    "    df_sort = df_sort[(df_sort['category2'].str.contains(str(text1)))][['리뷰등록일','수집채널','리뷰상세내용','구매자평점', 'category2']]\n",
    "    df_sort = df_sort.drop_duplicates()\n",
    "    if len(df_sort) > 0:\n",
    "        df_sort['키워드'] = text2\n",
    "        category_count.append(len(df_sort))\n",
    "        data_by_keyword = pd.concat([df_sort, data_by_keyword]) \n",
    "    else:\n",
    "        category_count.append(int(0))\n",
    "        \n",
    "report_05 = pd.DataFrame(category)\n",
    "report_05 = report_05.rename(columns={0: \"Category\", 1: \"키워드\"})\n",
    "report_05['리뷰개수'] = category_count"
   ]
  },
  {
   "cell_type": "code",
   "execution_count": 560,
   "metadata": {},
   "outputs": [
    {
     "data": {
      "text/html": [
       "<div>\n",
       "<style scoped>\n",
       "    .dataframe tbody tr th:only-of-type {\n",
       "        vertical-align: middle;\n",
       "    }\n",
       "\n",
       "    .dataframe tbody tr th {\n",
       "        vertical-align: top;\n",
       "    }\n",
       "\n",
       "    .dataframe thead th {\n",
       "        text-align: right;\n",
       "    }\n",
       "</style>\n",
       "<table border=\"1\" class=\"dataframe\">\n",
       "  <thead>\n",
       "    <tr style=\"text-align: right;\">\n",
       "      <th></th>\n",
       "      <th>Category</th>\n",
       "      <th>키워드</th>\n",
       "      <th>리뷰개수</th>\n",
       "    </tr>\n",
       "  </thead>\n",
       "  <tbody>\n",
       "    <tr>\n",
       "      <th>0</th>\n",
       "      <td>아몬드브리즈</td>\n",
       "      <td>비리다</td>\n",
       "      <td>3</td>\n",
       "    </tr>\n",
       "    <tr>\n",
       "      <th>1</th>\n",
       "      <td>아몬드브리즈</td>\n",
       "      <td>냄새</td>\n",
       "      <td>1</td>\n",
       "    </tr>\n",
       "    <tr>\n",
       "      <th>2</th>\n",
       "      <td>아몬드브리즈</td>\n",
       "      <td>맛없다</td>\n",
       "      <td>12</td>\n",
       "    </tr>\n",
       "    <tr>\n",
       "      <th>3</th>\n",
       "      <td>아몬드브리즈</td>\n",
       "      <td>밍밍</td>\n",
       "      <td>50</td>\n",
       "    </tr>\n",
       "    <tr>\n",
       "      <th>4</th>\n",
       "      <td>두유</td>\n",
       "      <td>비리다</td>\n",
       "      <td>19</td>\n",
       "    </tr>\n",
       "    <tr>\n",
       "      <th>5</th>\n",
       "      <td>두유</td>\n",
       "      <td>냄새</td>\n",
       "      <td>2</td>\n",
       "    </tr>\n",
       "    <tr>\n",
       "      <th>6</th>\n",
       "      <td>두유</td>\n",
       "      <td>맛없다</td>\n",
       "      <td>13</td>\n",
       "    </tr>\n",
       "    <tr>\n",
       "      <th>7</th>\n",
       "      <td>두유</td>\n",
       "      <td>밍밍</td>\n",
       "      <td>37</td>\n",
       "    </tr>\n",
       "    <tr>\n",
       "      <th>8</th>\n",
       "      <td>두유</td>\n",
       "      <td>달다</td>\n",
       "      <td>80</td>\n",
       "    </tr>\n",
       "  </tbody>\n",
       "</table>\n",
       "</div>"
      ],
      "text/plain": [
       "  Category  키워드  리뷰개수\n",
       "0   아몬드브리즈  비리다     3\n",
       "1   아몬드브리즈   냄새     1\n",
       "2   아몬드브리즈  맛없다    12\n",
       "3   아몬드브리즈   밍밍    50\n",
       "4       두유  비리다    19\n",
       "5       두유   냄새     2\n",
       "6       두유  맛없다    13\n",
       "7       두유   밍밍    37\n",
       "8       두유   달다    80"
      ]
     },
     "execution_count": 560,
     "metadata": {},
     "output_type": "execute_result"
    }
   ],
   "source": [
    "report_05"
   ]
  },
  {
   "cell_type": "code",
   "execution_count": 561,
   "metadata": {},
   "outputs": [
    {
     "data": {
      "text/html": [
       "<div>\n",
       "<style scoped>\n",
       "    .dataframe tbody tr th:only-of-type {\n",
       "        vertical-align: middle;\n",
       "    }\n",
       "\n",
       "    .dataframe tbody tr th {\n",
       "        vertical-align: top;\n",
       "    }\n",
       "\n",
       "    .dataframe thead th {\n",
       "        text-align: right;\n",
       "    }\n",
       "</style>\n",
       "<table border=\"1\" class=\"dataframe\">\n",
       "  <thead>\n",
       "    <tr style=\"text-align: right;\">\n",
       "      <th></th>\n",
       "      <th>리뷰등록일</th>\n",
       "      <th>수집채널</th>\n",
       "      <th>리뷰상세내용</th>\n",
       "      <th>구매자평점</th>\n",
       "      <th>category2</th>\n",
       "      <th>키워드</th>\n",
       "    </tr>\n",
       "  </thead>\n",
       "  <tbody>\n",
       "    <tr>\n",
       "      <th>482</th>\n",
       "      <td>2021-07-22</td>\n",
       "      <td>3 네이버</td>\n",
       "      <td>자주 먹던건데, 단백질 두유보단 더 달아요</td>\n",
       "      <td>5</td>\n",
       "      <td>두유</td>\n",
       "      <td>달다</td>\n",
       "    </tr>\n",
       "    <tr>\n",
       "      <th>485</th>\n",
       "      <td>2021-07-22</td>\n",
       "      <td>3 네이버</td>\n",
       "      <td>다른 제품은 너무 달아서 바꿔봤는데 많이 달지 않고 건강하게 꾸준히 먹을 수 있을 ...</td>\n",
       "      <td>5</td>\n",
       "      <td>두유</td>\n",
       "      <td>달다</td>\n",
       "    </tr>\n",
       "    <tr>\n",
       "      <th>512</th>\n",
       "      <td>2021-07-22</td>\n",
       "      <td>3 네이버</td>\n",
       "      <td>맛있어요~ \\n완전 달진 않으나 고소한 맛이 👍</td>\n",
       "      <td>5</td>\n",
       "      <td>두유</td>\n",
       "      <td>달다</td>\n",
       "    </tr>\n",
       "    <tr>\n",
       "      <th>657</th>\n",
       "      <td>2021-07-22</td>\n",
       "      <td>3 네이버</td>\n",
       "      <td>많이 비리지 않고 적당히 달아서 괜찮았어요!</td>\n",
       "      <td>5</td>\n",
       "      <td>두유</td>\n",
       "      <td>달다</td>\n",
       "    </tr>\n",
       "    <tr>\n",
       "      <th>662</th>\n",
       "      <td>2021-07-22</td>\n",
       "      <td>3 네이버</td>\n",
       "      <td>처음먹어보는 고단백 두유인데 생각보다 늦게 하지 않고 적당히 달아요</td>\n",
       "      <td>5</td>\n",
       "      <td>두유</td>\n",
       "      <td>달다</td>\n",
       "    </tr>\n",
       "    <tr>\n",
       "      <th>...</th>\n",
       "      <td>...</td>\n",
       "      <td>...</td>\n",
       "      <td>...</td>\n",
       "      <td>...</td>\n",
       "      <td>...</td>\n",
       "      <td>...</td>\n",
       "    </tr>\n",
       "    <tr>\n",
       "      <th>7992</th>\n",
       "      <td>2021-08-04</td>\n",
       "      <td>3 네이버</td>\n",
       "      <td>맛있어요 누가맛없다했는데 두유맛임</td>\n",
       "      <td>5</td>\n",
       "      <td>아몬드브리즈</td>\n",
       "      <td>맛없다</td>\n",
       "    </tr>\n",
       "    <tr>\n",
       "      <th>1192</th>\n",
       "      <td>2021-07-23</td>\n",
       "      <td>3 네이버</td>\n",
       "      <td>사은품과 같이 배송되었어요\\n드라이백만 구입하려해도 몇만원하는데^^\\n품질도 좋고 ...</td>\n",
       "      <td>5</td>\n",
       "      <td>아몬드브리즈</td>\n",
       "      <td>냄새</td>\n",
       "    </tr>\n",
       "    <tr>\n",
       "      <th>578</th>\n",
       "      <td>2021-07-22</td>\n",
       "      <td>3 네이버</td>\n",
       "      <td>두유에서 비린맛 나서 싫으신분들이면 좋아할꺼같아요 ㅎㅎ 묵직한 느낌은 없고 가벼운느...</td>\n",
       "      <td>5</td>\n",
       "      <td>아몬드브리즈</td>\n",
       "      <td>비리다</td>\n",
       "    </tr>\n",
       "    <tr>\n",
       "      <th>5496</th>\n",
       "      <td>2021-07-30</td>\n",
       "      <td>3 네이버</td>\n",
       "      <td>비린내 없고 깔끔한 맛이 너무 좋아요!!</td>\n",
       "      <td>5</td>\n",
       "      <td>아몬드브리즈</td>\n",
       "      <td>비리다</td>\n",
       "    </tr>\n",
       "    <tr>\n",
       "      <th>7906</th>\n",
       "      <td>2021-08-04</td>\n",
       "      <td>3 네이버</td>\n",
       "      <td>직영이라 회전율이 높고 포장도 박스포장 한번 더 되어와서 좋아요. 유당불내증이라 우...</td>\n",
       "      <td>5</td>\n",
       "      <td>아몬드브리즈</td>\n",
       "      <td>비리다</td>\n",
       "    </tr>\n",
       "  </tbody>\n",
       "</table>\n",
       "<p>217 rows × 6 columns</p>\n",
       "</div>"
      ],
      "text/plain": [
       "          리뷰등록일   수집채널                                             리뷰상세내용  \\\n",
       "482  2021-07-22  3 네이버                            자주 먹던건데, 단백질 두유보단 더 달아요   \n",
       "485  2021-07-22  3 네이버  다른 제품은 너무 달아서 바꿔봤는데 많이 달지 않고 건강하게 꾸준히 먹을 수 있을 ...   \n",
       "512  2021-07-22  3 네이버                         맛있어요~ \\n완전 달진 않으나 고소한 맛이 👍   \n",
       "657  2021-07-22  3 네이버                           많이 비리지 않고 적당히 달아서 괜찮았어요!   \n",
       "662  2021-07-22  3 네이버              처음먹어보는 고단백 두유인데 생각보다 늦게 하지 않고 적당히 달아요   \n",
       "...         ...    ...                                                ...   \n",
       "7992 2021-08-04  3 네이버                                 맛있어요 누가맛없다했는데 두유맛임   \n",
       "1192 2021-07-23  3 네이버  사은품과 같이 배송되었어요\\n드라이백만 구입하려해도 몇만원하는데^^\\n품질도 좋고 ...   \n",
       "578  2021-07-22  3 네이버  두유에서 비린맛 나서 싫으신분들이면 좋아할꺼같아요 ㅎㅎ 묵직한 느낌은 없고 가벼운느...   \n",
       "5496 2021-07-30  3 네이버                             비린내 없고 깔끔한 맛이 너무 좋아요!!   \n",
       "7906 2021-08-04  3 네이버  직영이라 회전율이 높고 포장도 박스포장 한번 더 되어와서 좋아요. 유당불내증이라 우...   \n",
       "\n",
       "     구매자평점 category2  키워드  \n",
       "482      5        두유   달다  \n",
       "485      5        두유   달다  \n",
       "512      5        두유   달다  \n",
       "657      5        두유   달다  \n",
       "662      5        두유   달다  \n",
       "...    ...       ...  ...  \n",
       "7992     5    아몬드브리즈  맛없다  \n",
       "1192     5    아몬드브리즈   냄새  \n",
       "578      5    아몬드브리즈  비리다  \n",
       "5496     5    아몬드브리즈  비리다  \n",
       "7906     5    아몬드브리즈  비리다  \n",
       "\n",
       "[217 rows x 6 columns]"
      ]
     },
     "execution_count": 561,
     "metadata": {},
     "output_type": "execute_result"
    }
   ],
   "source": [
    "data_by_keyword"
   ]
  },
  {
   "cell_type": "code",
   "execution_count": 56,
   "metadata": {},
   "outputs": [],
   "source": [
    "# df_review_neg.head()"
   ]
  },
  {
   "cell_type": "code",
   "execution_count": 59,
   "metadata": {},
   "outputs": [],
   "source": [
    "remove_word = ['빠르다', '도착', '배송']\n",
    "pattern = '|'.join(remove_word)\n",
    "REPORT_02 = df_review_nue.loc[ ~df_review_nue['token'].str.contains(pattern, case=False) ].head(10)\n"
   ]
  },
  {
   "cell_type": "code",
   "execution_count": 60,
   "metadata": {},
   "outputs": [
    {
     "data": {
      "text/html": [
       "<div>\n",
       "<style scoped>\n",
       "    .dataframe tbody tr th:only-of-type {\n",
       "        vertical-align: middle;\n",
       "    }\n",
       "\n",
       "    .dataframe tbody tr th {\n",
       "        vertical-align: top;\n",
       "    }\n",
       "\n",
       "    .dataframe thead th {\n",
       "        text-align: right;\n",
       "    }\n",
       "</style>\n",
       "<table border=\"1\" class=\"dataframe\">\n",
       "  <thead>\n",
       "    <tr style=\"text-align: right;\">\n",
       "      <th></th>\n",
       "      <th>구매자평점</th>\n",
       "      <th>리뷰상세내용</th>\n",
       "      <th>리뷰등록일</th>\n",
       "      <th>수집채널</th>\n",
       "      <th>category2</th>\n",
       "      <th>token</th>\n",
       "      <th>token_attribution</th>\n",
       "    </tr>\n",
       "  </thead>\n",
       "  <tbody>\n",
       "    <tr>\n",
       "      <th>69</th>\n",
       "      <td>3</td>\n",
       "      <td>항상 먹는 두유376시</td>\n",
       "      <td>2021-08-10</td>\n",
       "      <td>3 네이버</td>\n",
       "      <td>두유</td>\n",
       "      <td>항상 먹다 두유 시</td>\n",
       "      <td>[항상/Noun, 먹다/Verb, 두유/Noun, 376시/Number]</td>\n",
       "    </tr>\n",
       "    <tr>\n",
       "      <th>78</th>\n",
       "      <td>3</td>\n",
       "      <td>입맛에 안맞았어요 ㅠㅠㅠ</td>\n",
       "      <td>2021-08-10</td>\n",
       "      <td>3 네이버</td>\n",
       "      <td>두유</td>\n",
       "      <td>입맛 에 안 맞다 어요 ㅠㅠㅠ</td>\n",
       "      <td>[입맛/Noun, 에/Josa, 안/VerbPrefix, 맞다/Verb, 어요/No...</td>\n",
       "    </tr>\n",
       "    <tr>\n",
       "      <th>153</th>\n",
       "      <td>3</td>\n",
       "      <td>세번째 구매입니다. 맛있어요</td>\n",
       "      <td>2021-08-10</td>\n",
       "      <td>3 네이버</td>\n",
       "      <td>두유</td>\n",
       "      <td>세번 째다 구 매입 니 다  맛있다 어요</td>\n",
       "      <td>[세번/Noun, 째다/Verb, 구/Noun, 매입/Noun, 니/Josa, 다/...</td>\n",
       "    </tr>\n",
       "    <tr>\n",
       "      <th>164</th>\n",
       "      <td>3</td>\n",
       "      <td>저렴하게 잘샀어요. 많이 달지 않고 단백하고 고소해요</td>\n",
       "      <td>2021-08-10</td>\n",
       "      <td>3 네이버</td>\n",
       "      <td>두유</td>\n",
       "      <td>저렴 하다 잘 사다 어요  많이 달 지 않다 단백 하고 고소 해 요</td>\n",
       "      <td>[저렴/Noun, 하다/Verb, 잘/VerbPrefix, 사다/Verb, 어요/N...</td>\n",
       "    </tr>\n",
       "    <tr>\n",
       "      <th>203</th>\n",
       "      <td>3</td>\n",
       "      <td>맛있어요\\n게다가 건강한 맛</td>\n",
       "      <td>2021-08-10</td>\n",
       "      <td>3 네이버</td>\n",
       "      <td>두유</td>\n",
       "      <td>맛있다 어요 게다가 건강 한 맛</td>\n",
       "      <td>[맛있다/Adjective, 어요/Noun, 게다가/Noun, 건강/Noun, 한/...</td>\n",
       "    </tr>\n",
       "    <tr>\n",
       "      <th>234</th>\n",
       "      <td>3</td>\n",
       "      <td>단맛이 생각보다는 적습니다. 단백하고 맛있어요</td>\n",
       "      <td>2021-08-10</td>\n",
       "      <td>3 네이버</td>\n",
       "      <td>두유</td>\n",
       "      <td>단맛 이 생각 보다는 적다  단백 하고 맛있다 어요</td>\n",
       "      <td>[단맛/Noun, 이/Josa, 생각/Noun, 보다는/Josa, 적다/Verb, ...</td>\n",
       "    </tr>\n",
       "    <tr>\n",
       "      <th>252</th>\n",
       "      <td>3</td>\n",
       "      <td>골고루 먹고 있는데 고단백은 첨인데 아들 운동후 괜찮을것 같네요</td>\n",
       "      <td>2021-08-10</td>\n",
       "      <td>3 네이버</td>\n",
       "      <td>두유</td>\n",
       "      <td>골 고루 먹다 있다 고 단백 은 첨 인데 아들 운동 후 괜찮다 같다</td>\n",
       "      <td>[골/Noun, 고루/Noun, 먹다/Verb, 있다/Adjective, 고/Nou...</td>\n",
       "    </tr>\n",
       "    <tr>\n",
       "      <th>374</th>\n",
       "      <td>3</td>\n",
       "      <td>가성비 대비 괜찮았고 달지 않네요.</td>\n",
       "      <td>2021-08-09</td>\n",
       "      <td>3 네이버</td>\n",
       "      <td>두유</td>\n",
       "      <td>가성 비 대비 괜찮다 달 지 않다</td>\n",
       "      <td>[가성/Noun, 비/Noun, 대비/Noun, 괜찮다/Adjective, 달/No...</td>\n",
       "    </tr>\n",
       "    <tr>\n",
       "      <th>375</th>\n",
       "      <td>3</td>\n",
       "      <td>떨어지지 않게 시켜먹습니다</td>\n",
       "      <td>2021-08-09</td>\n",
       "      <td>3 네이버</td>\n",
       "      <td>두유</td>\n",
       "      <td>떨다 지지 않다 시키다 먹다</td>\n",
       "      <td>[떨다/Verb, 지지/Noun, 않다/Verb, 시키다/Verb, 먹다/Verb]</td>\n",
       "    </tr>\n",
       "    <tr>\n",
       "      <th>457</th>\n",
       "      <td>3</td>\n",
       "      <td>너무 싱거워요 물탄듯한 맛이에요!  아쉽네요!</td>\n",
       "      <td>2021-08-09</td>\n",
       "      <td>3 네이버</td>\n",
       "      <td>두유</td>\n",
       "      <td>너무 싱겁다 물탄 듯 한 맛 이에요  아쉽다</td>\n",
       "      <td>[너무/Adverb, 싱겁다/Adjective, 물탄/Noun, 듯/Noun, 한/...</td>\n",
       "    </tr>\n",
       "  </tbody>\n",
       "</table>\n",
       "</div>"
      ],
      "text/plain": [
       "    구매자평점                               리뷰상세내용      리뷰등록일   수집채널 category2  \\\n",
       "69      3                         항상 먹는 두유376시 2021-08-10  3 네이버        두유   \n",
       "78      3                        입맛에 안맞았어요 ㅠㅠㅠ 2021-08-10  3 네이버        두유   \n",
       "153     3                      세번째 구매입니다. 맛있어요 2021-08-10  3 네이버        두유   \n",
       "164     3        저렴하게 잘샀어요. 많이 달지 않고 단백하고 고소해요 2021-08-10  3 네이버        두유   \n",
       "203     3                      맛있어요\\n게다가 건강한 맛 2021-08-10  3 네이버        두유   \n",
       "234     3            단맛이 생각보다는 적습니다. 단백하고 맛있어요 2021-08-10  3 네이버        두유   \n",
       "252     3  골고루 먹고 있는데 고단백은 첨인데 아들 운동후 괜찮을것 같네요 2021-08-10  3 네이버        두유   \n",
       "374     3                  가성비 대비 괜찮았고 달지 않네요. 2021-08-09  3 네이버        두유   \n",
       "375     3                       떨어지지 않게 시켜먹습니다 2021-08-09  3 네이버        두유   \n",
       "457     3            너무 싱거워요 물탄듯한 맛이에요!  아쉽네요! 2021-08-09  3 네이버        두유   \n",
       "\n",
       "                                     token  \\\n",
       "69                              항상 먹다 두유 시   \n",
       "78                        입맛 에 안 맞다 어요 ㅠㅠㅠ   \n",
       "153                 세번 째다 구 매입 니 다  맛있다 어요   \n",
       "164  저렴 하다 잘 사다 어요  많이 달 지 않다 단백 하고 고소 해 요   \n",
       "203                      맛있다 어요 게다가 건강 한 맛   \n",
       "234           단맛 이 생각 보다는 적다  단백 하고 맛있다 어요   \n",
       "252  골 고루 먹다 있다 고 단백 은 첨 인데 아들 운동 후 괜찮다 같다   \n",
       "374                    가성 비 대비 괜찮다 달 지 않다    \n",
       "375                        떨다 지지 않다 시키다 먹다   \n",
       "457              너무 싱겁다 물탄 듯 한 맛 이에요  아쉽다    \n",
       "\n",
       "                                     token_attribution  \n",
       "69            [항상/Noun, 먹다/Verb, 두유/Noun, 376시/Number]  \n",
       "78   [입맛/Noun, 에/Josa, 안/VerbPrefix, 맞다/Verb, 어요/No...  \n",
       "153  [세번/Noun, 째다/Verb, 구/Noun, 매입/Noun, 니/Josa, 다/...  \n",
       "164  [저렴/Noun, 하다/Verb, 잘/VerbPrefix, 사다/Verb, 어요/N...  \n",
       "203  [맛있다/Adjective, 어요/Noun, 게다가/Noun, 건강/Noun, 한/...  \n",
       "234  [단맛/Noun, 이/Josa, 생각/Noun, 보다는/Josa, 적다/Verb, ...  \n",
       "252  [골/Noun, 고루/Noun, 먹다/Verb, 있다/Adjective, 고/Nou...  \n",
       "374  [가성/Noun, 비/Noun, 대비/Noun, 괜찮다/Adjective, 달/No...  \n",
       "375     [떨다/Verb, 지지/Noun, 않다/Verb, 시키다/Verb, 먹다/Verb]  \n",
       "457  [너무/Adverb, 싱겁다/Adjective, 물탄/Noun, 듯/Noun, 한/...  "
      ]
     },
     "execution_count": 60,
     "metadata": {},
     "output_type": "execute_result"
    }
   ],
   "source": [
    "REPORT_02"
   ]
  },
  {
   "cell_type": "code",
   "execution_count": null,
   "metadata": {},
   "outputs": [],
   "source": []
  },
  {
   "cell_type": "code",
   "execution_count": 562,
   "metadata": {},
   "outputs": [],
   "source": [
    "##########\n",
    "# Excel 파일 생성(using XlsxWriter)\n",
    "###\n",
    "\n",
    "date2 = datetime.today().strftime('%Y%m%d')\n",
    "date2 = date2[2:]\n",
    "excel_name = date2 + '_report.xlsx'\n",
    "writer = pd.ExcelWriter(excel_name, engine='xlsxwriter')\n",
    "\n",
    "# 1.키워드별 리뷰내용\n",
    "data_by_keyword.to_excel(writer, sheet_name='1.키워드기준 리뷰')\n",
    "\n",
    "# 2.부정리뷰\n",
    "df_review_neg.to_excel(writer, sheet_name='2.부정리뷰)')\n",
    "\n",
    "writer.save()"
   ]
  },
  {
   "cell_type": "code",
   "execution_count": 654,
   "metadata": {},
   "outputs": [],
   "source": [
    "writer.close()"
   ]
  },
  {
   "cell_type": "code",
   "execution_count": null,
   "metadata": {},
   "outputs": [],
   "source": []
  }
 ],
 "metadata": {
  "kernelspec": {
   "display_name": "Python 3",
   "language": "python",
   "name": "python3"
  },
  "language_info": {
   "codemirror_mode": {
    "name": "ipython",
    "version": 3
   },
   "file_extension": ".py",
   "mimetype": "text/x-python",
   "name": "python",
   "nbconvert_exporter": "python",
   "pygments_lexer": "ipython3",
   "version": "3.7.6"
  }
 },
 "nbformat": 4,
 "nbformat_minor": 4
}
