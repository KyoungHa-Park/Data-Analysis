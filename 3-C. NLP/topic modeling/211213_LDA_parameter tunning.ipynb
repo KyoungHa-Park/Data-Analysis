{
 "cells": [
  {
   "cell_type": "code",
   "execution_count": null,
   "metadata": {},
   "outputs": [],
   "source": [
    "# 참조 : https://coredottoday.github.io/2018/09/17/%EB%AA%A8%EB%8D%B8-%ED%8C%8C%EB%9D%BC%EB%AF%B8%ED%84%B0-%ED%8A%9C%EB%8B%9D/"
   ]
  },
  {
   "cell_type": "code",
   "execution_count": null,
   "metadata": {},
   "outputs": [],
   "source": []
  },
  {
   "attachments": {},
   "cell_type": "markdown",
   "metadata": {},
   "source": [
    "+ **목표** : 리뷰&블로그 내용&CS 자료에 대한 이슈 발굴\n",
    "\n",
    "\n",
    "+ **방향**\n",
    "  + unsupervised learning\n",
    "  + LDA를 통한 분류 진행\n",
    "  + 1제품에 대해, 전 기간 대상 변화 확인 $\\to$ 주차별(weekly) 변화 확인  \n",
    "\n",
    "\n",
    "+ **확인내용** \n",
    "  1. [x] 최적화 : parameter tunning을 통한 개선가능 여부\n",
    "      + topic 수에 대한 최적화 : 세부 지표별 검증 방법\n",
    "          + Perlexity : 예측 정확성, 값이 작으면 토픽모델이 문서를 잘 반영된다\n",
    "          + Coherences : 주제의 일관성, 높을수록 의미론적 일관성 높음  \n",
    "             $\\to$ max(perplexities) / min(coherences)\n",
    "  2. [ ] 토큰화 : 명사단일 ~ 전체유형으로 자료로 변환해 가면서, 이슈발굴에 유의미한 corpus 대상 결정\n",
    "  3. [ ] 시각화 : 특정 키워드에 대한 도출가능 여부(필요해?)\n",
    "  4. [ ] 기간별 정렬 : 기간별로 topic유형의 변화 및 주요 text에 대한 trend 추이 점검  \n",
    "      $\\to$ 네이버 검색추이와 비교(단, 단일검색에 대한 추이만 확인가능) \n"
   ]
  },
  {
   "cell_type": "code",
   "execution_count": null,
   "metadata": {},
   "outputs": [],
   "source": []
  },
  {
   "cell_type": "code",
   "execution_count": 89,
   "metadata": {},
   "outputs": [],
   "source": [
    "# DB접속\n",
    "import pymysql\n",
    "import pandas as pd\n",
    "import numpy as np\n",
    "import re\n",
    "import warnings\n",
    "import json\n",
    "from glob import glob\n",
    "import os \n",
    "from google.cloud import bigquery\n",
    "\n",
    "\n",
    "# 그래프\n",
    "import matplotlib as mpl\n",
    "import matplotlib.pyplot as plt\n",
    "import matplotlib.font_manager as fm\n",
    "path = 'C:/windows/Fonts/malgun.ttf'                           # 폰트:맑은고딕\n",
    "font_name = fm.FontProperties(fname=path, size=24).get_name()  \n",
    "plt.rc('font', family=font_name)\n",
    "\n",
    "# 한글정제 KoNLPy\n",
    "from ckonlpy.tag import Twitter\n",
    "twitter = Twitter()\n",
    "\n",
    "# gemsime\n",
    "import gensim\n",
    "from gensim.models.coherencemodel import CoherenceModel\n",
    "from gensim.models.ldamodel import LdaModel\n",
    "from gensim.corpora.dictionary import Dictionary\n",
    "from gensim import corpora, models, similarities\n",
    "\n",
    "from gensim.models import Phrases\n",
    "\n",
    "import pyLDAvis.gensim\n",
    "\n",
    "\n",
    "# 시간기록\n",
    "from datetime import datetime, timedelta\n",
    "import time \n",
    "from dateutil.relativedelta import relativedelta\n",
    "\n",
    "import warnings\n",
    "warnings.filterwarnings(\"ignore\")\n"
   ]
  },
  {
   "cell_type": "code",
   "execution_count": null,
   "metadata": {},
   "outputs": [],
   "source": []
  },
  {
   "cell_type": "code",
   "execution_count": null,
   "metadata": {},
   "outputs": [],
   "source": []
  },
  {
   "attachments": {},
   "cell_type": "markdown",
   "metadata": {},
   "source": [
    "### 1.데이터 불러오기 : 리뷰"
   ]
  },
  {
   "cell_type": "code",
   "execution_count": 11,
   "metadata": {},
   "outputs": [],
   "source": [
    "#########\n",
    "# 2.자료 추출 : BigQuery\n",
    "###\n",
    "\n",
    "\n",
    "category_keyword = '어메이징'\n",
    "\n",
    "start_dt = datetime.strptime('20210915', \"%Y%m%d\").date().strftime('%Y-%m-%d')\n",
    "end_dt   = datetime.strptime('20211130', \"%Y%m%d\").date().strftime('%Y-%m-%d')\n",
    "\n",
    "# 접속 정보 \n",
    "os.environ[\"GOOGLE_APPLICATION_CREDENTIALS\"]=\"./**************************.json\"\n",
    "client = bigquery.Client()\n",
    "\n",
    "# 쿼리실행\n",
    "sql = \"\"\"SELECT USER\n",
    "         , FORMAT_DATETIME('%Y-%m-%d', CAST(A.DATE AS DATETIME)) as REG_DTM\n",
    "         , FORMAT_DATETIME('%Y-%WW', CAST(A.DATE AS DATETIME)) as WEEK\n",
    "         , CHANNEL\n",
    "         , PRODUCT\n",
    "         , REVIEW\n",
    "         , SCORE\n",
    "         FROM `thermal-rain-234004.review.review_all` A\n",
    "         where PRODUCT like '%\"\"\"+category_keyword+\"\"\"%'\n",
    "         and CAST(A.DATE AS DATETIME) between PARSE_DATE('%Y-%m-%d', '\"\"\"+start_dt+\"\"\"') and  PARSE_DATE('%Y-%m-%d', '\"\"\"+end_dt+\"\"\"')\n",
    "         order by CAST(A.DATE AS DATETIME) desc\"\"\"\n",
    "df3A = client.query(sql).to_dataframe()\n",
    "df3A = df3A.replace('kakaomakers', '카카오 선물하기')"
   ]
  },
  {
   "cell_type": "code",
   "execution_count": null,
   "metadata": {},
   "outputs": [],
   "source": []
  },
  {
   "cell_type": "code",
   "execution_count": 12,
   "metadata": {},
   "outputs": [],
   "source": [
    "###############\n",
    "# 2.자료 추출 : MySQL\n",
    "#####\n",
    "\n",
    "\n",
    "start_dtm = datetime.strptime('20211001', \"%Y%m%d\").date().strftime('\"%Y%m%d\"')\n",
    "end_dtm   = datetime.strptime('20211130', \"%Y%m%d\").date().strftime('\"%Y%m%d\"')\n",
    "category_keyword = '어메이징'\n",
    "\n",
    "\n",
    "# 접속 정보 \n",
    "conn = pymysql.connect(host = '**.***.*.*', user ='__USER_ID__', password = \"__PASSWORD__\", database='__DATABASE__')\n",
    "cursor = conn.cursor(pymysql.cursors.DictCursor) \n",
    "\n",
    "# 관련 함수 \n",
    "def MySQL_query(start_dtm, end_dtm, category_keyword ):\n",
    "    sql= '''select A.WRITER as USER\n",
    "            , (STR_TO_DATE(A.WRITE_DT, '%Y%m%d'))  as REG_DTM \n",
    "            , DATE_FORMAT(STR_TO_DATE(A.WRITE_DT, '%Y%m%d'),'%Y-%uW' )  as WEEK \n",
    "            , (SELECT CODE_NM FROM JT_CODE B WHERE A.COMPANY_CODE = B.CODE AND B.CODE_GRP_ID = 'DEALER_ID') as CHANNEL \n",
    "            , group_concat(distinct B.CODE_NM order by CODE_NM asc) as PRODUCT\n",
    "            , A.GRADE as SCORE\n",
    "            , trim(A.CONTENTS) as REVIEW\n",
    "            FROM MAEIL_REVIEW A, JT_CODE B\n",
    "            where A.GRADE in (1,2,3,4,5)\n",
    "            and CAST(STR_TO_DATE(A.WRITE_DT, '%Y%m%d') AS DATETIME) between '''+start_dtm+''' and '''+end_dtm+'''\n",
    "            and A.PRODUCT_CODE = B.CODE \n",
    "            AND B.CODE_NM like '%'''+category_keyword +'''%'\n",
    "            and B.CODE not like'G_%'\n",
    "            group by A.WRITER, A.WRITE_DT, A.COMPANY_CODE, GRADE, CONTENTS\n",
    "            order by A.WRITE_DT desc\n",
    "            '''\n",
    "    cursor.execute(sql)\n",
    "    df_t = cursor.fetchall()\n",
    "    df_t = pd.DataFrame(df_t)\n",
    "    df_t['SCORE'] = df_t['SCORE'].astype(float)\n",
    "    df_t['REG_DTM'] = pd.to_datetime(df_t['REG_DTM'],format = '%Y-%m-%d')\n",
    "    df_t['REVIEW'] = df_t['REVIEW'].str.replace('\\n', ' ')\n",
    "    df_t['lenght'] = df_t['REVIEW'].str.len()\n",
    "    return df_t\n"
   ]
  },
  {
   "cell_type": "code",
   "execution_count": 13,
   "metadata": {},
   "outputs": [],
   "source": [
    "df3B = MySQL_query(start_dtm, end_dtm, category_keyword)\n",
    "\n",
    "df3B = df3B[df3B.lenght != 0]\n",
    "df3B = df3B.reset_index(drop=True)"
   ]
  },
  {
   "cell_type": "code",
   "execution_count": 14,
   "metadata": {},
   "outputs": [],
   "source": [
    "df3 = pd.concat([df3A, df3B])\n",
    "df3 = df3.reset_index(drop=True)"
   ]
  },
  {
   "cell_type": "code",
   "execution_count": 180,
   "metadata": {},
   "outputs": [
    {
     "data": {
      "text/html": [
       "<div>\n",
       "<style scoped>\n",
       "    .dataframe tbody tr th:only-of-type {\n",
       "        vertical-align: middle;\n",
       "    }\n",
       "\n",
       "    .dataframe tbody tr th {\n",
       "        vertical-align: top;\n",
       "    }\n",
       "\n",
       "    .dataframe thead th {\n",
       "        text-align: right;\n",
       "    }\n",
       "</style>\n",
       "<table border=\"1\" class=\"dataframe\">\n",
       "  <thead>\n",
       "    <tr style=\"text-align: right;\">\n",
       "      <th></th>\n",
       "      <th>USER</th>\n",
       "      <th>REG_DTM</th>\n",
       "      <th>WEEK</th>\n",
       "      <th>CHANNEL</th>\n",
       "      <th>PRODUCT</th>\n",
       "      <th>REVIEW</th>\n",
       "      <th>SCORE</th>\n",
       "      <th>lenght</th>\n",
       "      <th>token</th>\n",
       "      <th>token_attribution</th>\n",
       "      <th>token_attribution2</th>\n",
       "    </tr>\n",
       "  </thead>\n",
       "  <tbody>\n",
       "    <tr>\n",
       "      <th>1250</th>\n",
       "      <td>os76****</td>\n",
       "      <td>2021-10-01 00:00:00</td>\n",
       "      <td>2021-39W</td>\n",
       "      <td>3 네이버</td>\n",
       "      <td>어메이징 오트 [ 언스위트 ] [ 190ML ],어메이징 오트 [ 오리지널 ] [ ...</td>\n",
       "      <td>오트 밀크라기보단 달지 않은 두유같아요 그래도 맛있음</td>\n",
       "      <td>5.0</td>\n",
       "      <td>29.0</td>\n",
       "      <td>오트 밀크 라기보단 달 지 않다 두유 같다 그래도 맛있다</td>\n",
       "      <td>[오트/Noun, 밀크/Noun, 라기보단/Josa, 달/Noun, 지/Josa, ...</td>\n",
       "      <td>오트/Noun 밀크/Noun 라기보단/Josa 달/Noun 지/Josa 않다/Ver...</td>\n",
       "    </tr>\n",
       "    <tr>\n",
       "      <th>1251</th>\n",
       "      <td>sm0*****</td>\n",
       "      <td>2021-10-01 00:00:00</td>\n",
       "      <td>2021-39W</td>\n",
       "      <td>2 11번가</td>\n",
       "      <td>어메이징 오트 [ 오리지널 ] [ 190ML ]</td>\n",
       "      <td>신랑이좋아해요</td>\n",
       "      <td>4.0</td>\n",
       "      <td>7.0</td>\n",
       "      <td>신랑 이 좋다 아해 요</td>\n",
       "      <td>[신랑/Noun, 이/Josa, 좋다/Adjective, 아해/Noun, 요/Josa]</td>\n",
       "      <td>신랑/Noun 이/Josa 좋다/Adjective 아해/Noun 요/Josa</td>\n",
       "    </tr>\n",
       "    <tr>\n",
       "      <th>1252</th>\n",
       "      <td>ssun****</td>\n",
       "      <td>2021-10-01 00:00:00</td>\n",
       "      <td>2021-39W</td>\n",
       "      <td>3 네이버</td>\n",
       "      <td>어메이징 오트 [ 언스위트 ] [ 190ML ],어메이징 오트 [ 오리지널 ] [ ...</td>\n",
       "      <td>생각보다 좀 묽어요 ^^;;</td>\n",
       "      <td>4.0</td>\n",
       "      <td>15.0</td>\n",
       "      <td>생각 보다 좀 묽다 어요</td>\n",
       "      <td>[생각/Noun, 보다/Josa, 좀/Noun, 묽다/Adjective, 어요/No...</td>\n",
       "      <td>생각/Noun 보다/Josa 좀/Noun 묽다/Adjective 어요/Noun ^^...</td>\n",
       "    </tr>\n",
       "    <tr>\n",
       "      <th>1253</th>\n",
       "      <td>tngu****</td>\n",
       "      <td>2021-10-01 00:00:00</td>\n",
       "      <td>2021-39W</td>\n",
       "      <td>3 네이버</td>\n",
       "      <td>어메이징 오트 [ 언스위트 ] [ 190ML ],어메이징 오트 [ 오리지널 ] [ ...</td>\n",
       "      <td>배송도 빠르고 맛도 있네요 밍밍하는 분들이 있어서 걱정했는데 약간 그렇긴한데 크게 ...</td>\n",
       "      <td>5.0</td>\n",
       "      <td>61.0</td>\n",
       "      <td>배송 도 빠르다 맛 도 있다 밍밍 하다 분 들 이 있다 어서 걱정 하다 약간 그렇다...</td>\n",
       "      <td>[배송/Noun, 도/Josa, 빠르다/Adjective, 맛/Noun, 도/Jos...</td>\n",
       "      <td>배송/Noun 도/Josa 빠르다/Adjective 맛/Noun 도/Josa 있다/...</td>\n",
       "    </tr>\n",
       "    <tr>\n",
       "      <th>1254</th>\n",
       "      <td>wkd******</td>\n",
       "      <td>2021-10-01 00:00:00</td>\n",
       "      <td>2021-39W</td>\n",
       "      <td>2 11번가</td>\n",
       "      <td>어메이징 오트 [ 오리지널 ] [ 190ML ]</td>\n",
       "      <td>맛은 조금 없다고하시는데 그래도 건강생각해어 부모님 챙겨드리려고 구매했어요~</td>\n",
       "      <td>4.0</td>\n",
       "      <td>42.0</td>\n",
       "      <td>맛 은 조금 없다 고하 시 는 데 그래도 건강 생각 해 어 부모님 챙기다 드리다 려...</td>\n",
       "      <td>[맛/Noun, 은/Josa, 조금/Noun, 없다/Adjective, 고하/Nou...</td>\n",
       "      <td>맛/Noun 은/Josa 조금/Noun 없다/Adjective 고하/Noun 시/N...</td>\n",
       "    </tr>\n",
       "  </tbody>\n",
       "</table>\n",
       "</div>"
      ],
      "text/plain": [
       "           USER              REG_DTM      WEEK CHANNEL  \\\n",
       "1250   os76****  2021-10-01 00:00:00  2021-39W   3 네이버   \n",
       "1251   sm0*****  2021-10-01 00:00:00  2021-39W  2 11번가   \n",
       "1252   ssun****  2021-10-01 00:00:00  2021-39W   3 네이버   \n",
       "1253   tngu****  2021-10-01 00:00:00  2021-39W   3 네이버   \n",
       "1254  wkd******  2021-10-01 00:00:00  2021-39W  2 11번가   \n",
       "\n",
       "                                                PRODUCT  \\\n",
       "1250  어메이징 오트 [ 언스위트 ] [ 190ML ],어메이징 오트 [ 오리지널 ] [ ...   \n",
       "1251                         어메이징 오트 [ 오리지널 ] [ 190ML ]   \n",
       "1252  어메이징 오트 [ 언스위트 ] [ 190ML ],어메이징 오트 [ 오리지널 ] [ ...   \n",
       "1253  어메이징 오트 [ 언스위트 ] [ 190ML ],어메이징 오트 [ 오리지널 ] [ ...   \n",
       "1254                         어메이징 오트 [ 오리지널 ] [ 190ML ]   \n",
       "\n",
       "                                                 REVIEW  SCORE  lenght  \\\n",
       "1250                      오트 밀크라기보단 달지 않은 두유같아요 그래도 맛있음    5.0    29.0   \n",
       "1251                                            신랑이좋아해요    4.0     7.0   \n",
       "1252                                    생각보다 좀 묽어요 ^^;;    4.0    15.0   \n",
       "1253  배송도 빠르고 맛도 있네요 밍밍하는 분들이 있어서 걱정했는데 약간 그렇긴한데 크게 ...    5.0    61.0   \n",
       "1254         맛은 조금 없다고하시는데 그래도 건강생각해어 부모님 챙겨드리려고 구매했어요~    4.0    42.0   \n",
       "\n",
       "                                                  token  \\\n",
       "1250                    오트 밀크 라기보단 달 지 않다 두유 같다 그래도 맛있다   \n",
       "1251                                       신랑 이 좋다 아해 요   \n",
       "1252                                     생각 보다 좀 묽다 어요    \n",
       "1253  배송 도 빠르다 맛 도 있다 밍밍 하다 분 들 이 있다 어서 걱정 하다 약간 그렇다...   \n",
       "1254  맛 은 조금 없다 고하 시 는 데 그래도 건강 생각 해 어 부모님 챙기다 드리다 려...   \n",
       "\n",
       "                                      token_attribution  \\\n",
       "1250  [오트/Noun, 밀크/Noun, 라기보단/Josa, 달/Noun, 지/Josa, ...   \n",
       "1251   [신랑/Noun, 이/Josa, 좋다/Adjective, 아해/Noun, 요/Josa]   \n",
       "1252  [생각/Noun, 보다/Josa, 좀/Noun, 묽다/Adjective, 어요/No...   \n",
       "1253  [배송/Noun, 도/Josa, 빠르다/Adjective, 맛/Noun, 도/Jos...   \n",
       "1254  [맛/Noun, 은/Josa, 조금/Noun, 없다/Adjective, 고하/Nou...   \n",
       "\n",
       "                                     token_attribution2  \n",
       "1250  오트/Noun 밀크/Noun 라기보단/Josa 달/Noun 지/Josa 않다/Ver...  \n",
       "1251         신랑/Noun 이/Josa 좋다/Adjective 아해/Noun 요/Josa  \n",
       "1252  생각/Noun 보다/Josa 좀/Noun 묽다/Adjective 어요/Noun ^^...  \n",
       "1253  배송/Noun 도/Josa 빠르다/Adjective 맛/Noun 도/Josa 있다/...  \n",
       "1254  맛/Noun 은/Josa 조금/Noun 없다/Adjective 고하/Noun 시/N...  "
      ]
     },
     "execution_count": 180,
     "metadata": {},
     "output_type": "execute_result"
    }
   ],
   "source": [
    "df3.tail()"
   ]
  },
  {
   "cell_type": "code",
   "execution_count": 138,
   "metadata": {},
   "outputs": [
    {
     "data": {
      "text/plain": [
       "WEEK\n",
       "2021-37W     23\n",
       "2021-38W     21\n",
       "2021-39W     93\n",
       "2021-40W    149\n",
       "2021-41W    130\n",
       "2021-42W    126\n",
       "2021-43W    205\n",
       "2021-44W    120\n",
       "2021-45W    142\n",
       "2021-46W    120\n",
       "2021-47W    108\n",
       "2021-48W     18\n",
       "Name: USER, dtype: int64"
      ]
     },
     "execution_count": 138,
     "metadata": {},
     "output_type": "execute_result"
    }
   ],
   "source": [
    "df3.groupby('WEEK')['USER'].count()"
   ]
  },
  {
   "cell_type": "code",
   "execution_count": null,
   "metadata": {},
   "outputs": [],
   "source": []
  },
  {
   "cell_type": "code",
   "execution_count": null,
   "metadata": {},
   "outputs": [],
   "source": []
  },
  {
   "cell_type": "code",
   "execution_count": null,
   "metadata": {},
   "outputs": [],
   "source": []
  },
  {
   "cell_type": "code",
   "execution_count": 56,
   "metadata": {},
   "outputs": [],
   "source": [
    "###############\n",
    "# Text 정제\n",
    "#####\n",
    "\n",
    "# 사전에 고유 명사 추가\n",
    "twitter.add_dictionary('콜드브루', 'Noun')\n",
    "twitter.add_dictionary('무설탕', 'Noun')\n",
    "twitter.add_dictionary('오트밀크', 'Noun')\n",
    "twitter.add_dictionary('종이빨대', 'Noun')\n",
    "twitter.add_dictionary('프로틴', 'Noun')\n",
    "twitter.add_dictionary('보냉백', 'Noun')\n",
    "twitter.add_dictionary('라방', 'Noun')\n",
    "twitter.add_dictionary('재구매', 'Noun')\n",
    "twitter.add_dictionary('유통기한', 'Noun')\n",
    "twitter.add_dictionary('서울우유', 'Noun')\n",
    "twitter.add_dictionary('매일두유', 'Noun')\n",
    "twitter.add_dictionary('사은품', 'Noun')\n",
    "twitter.add_dictionary('어메이징 오트', 'Noun')\n",
    "twitter.add_dictionary('언스위트', 'Noun')\n",
    "twitter.add_dictionary('아몬드브리즈', 'Noun')\n",
    "twitter.add_dictionary('아몬드 브리즈', 'Noun')\n",
    "twitter.add_dictionary('오리지널', 'Noun')\n",
    "twitter.add_dictionary('오리지날', 'Noun')\n",
    "twitter.add_dictionary('재구매', 'Noun')\n",
    "twitter.add_dictionary('언스윗트', 'Noun')\n",
    "twitter.add_dictionary('의향', 'Noun')\n",
    "twitter.add_dictionary('2FL', 'Noun')\n",
    "\n",
    "\n",
    "def tokenize(doc):\n",
    "    result = ['/'.join(t) for t in twitter.pos(doc, norm=True, stem=True)] # ex '더빙/Norm', '나다/Verb'\n",
    "    return result \n",
    "\n",
    "def listToString(s):  \n",
    "    str1 = \"\"  \n",
    "    for ele in s:  \n",
    "        str1 += \" \" + ele.strip()  \n",
    "    return str1\n"
   ]
  },
  {
   "cell_type": "code",
   "execution_count": 57,
   "metadata": {},
   "outputs": [],
   "source": [
    "# #토큰화 : 전체리뷰자료\n",
    "# df_temp1 = df3['REVIEW'].replace(\"[^ㄱ-ㅎㅏ-ㅣ가-힣 ]\",\"\")\n",
    "# # regex to konlpy\n",
    "# # token_all = [list(dict.fromkeys(tokenize(row))) for row in df_temp1]\n",
    "# token_all = [list(tokenize(row)) for row in df_temp1]\n",
    "\n",
    "# data_trim2 = []\n",
    "# for i in range(len(df_temp1)):\n",
    "#     t = ' '.join(token_all[i])\n",
    "#     data_trim2.append(t.replace(\"[^ㄱ-ㅎㅏ-ㅣ가-힣 ]\",\"\"))\n",
    "    \n",
    "# df_temp1 = pd.DataFrame(data_trim2)\n",
    "# df_temp1 = df_temp1[0].str.replace(\"[^ㄱ-ㅎㅏ-ㅣ가-힣 ]\",\"\")\n",
    "\n",
    "# df3['token'] = df_temp1\n",
    "# df3['token_attribution'] = token_all\n",
    "# # df1['lenght'] = df['token_attribution'].str.len()\n",
    "# df3['token_attribution2'] = data_trim2"
   ]
  },
  {
   "cell_type": "code",
   "execution_count": null,
   "metadata": {},
   "outputs": [],
   "source": []
  },
  {
   "cell_type": "code",
   "execution_count": 71,
   "metadata": {},
   "outputs": [],
   "source": [
    "def tokenize_korean_text(text):\n",
    "    text = re.sub(r'[^,.?!\\w\\s]','', text)\n",
    "    Okt_morphs = twitter.pos(text)\n",
    "    words = []\n",
    "    for word, pos in Okt_morphs:\n",
    "        if pos == 'Adjective' or pos == 'Verb' or pos == 'Noun':\n",
    "            words.append(word)\n",
    "    ## word를 이어붙인 string 형태가 아닌 word의 list를 return해주는 게 sklearn lda 준비 과정과의 차이\n",
    "    return words\n",
    "\n",
    "tokenized_list = []\n",
    "\n",
    "for text in df3['REVIEW']:\n",
    "    tokenized_list.append(tokenize_korean_text(text))"
   ]
  },
  {
   "cell_type": "code",
   "execution_count": 81,
   "metadata": {},
   "outputs": [],
   "source": [
    "# text가 비어있는 list 제거\n",
    "for text in tokenized_list:\n",
    "    if len(text) <= 0 :\n",
    "        del tokenized_list[tokenized_list.index(text)]\n",
    "#         del tokenized_list[i]"
   ]
  },
  {
   "cell_type": "code",
   "execution_count": 90,
   "metadata": {},
   "outputs": [],
   "source": [
    "bigram = Phrases(tokenized_list, min_count=4, threshold=10)\n",
    "bigram_mod = Phraser(bigram)"
   ]
  },
  {
   "cell_type": "code",
   "execution_count": 91,
   "metadata": {},
   "outputs": [],
   "source": [
    "words_bigram = [bigram_mod[doc] for doc in tokenized_list]"
   ]
  },
  {
   "cell_type": "code",
   "execution_count": 92,
   "metadata": {},
   "outputs": [],
   "source": [
    "dictionary = corpora.Dictionary(tokenized_list)\n",
    "corpus = [dictionary.doc2bow(text) for text in words_bigram]"
   ]
  },
  {
   "cell_type": "code",
   "execution_count": 187,
   "metadata": {},
   "outputs": [
    {
     "data": {
      "text/plain": [
       "2750"
      ]
     },
     "execution_count": 187,
     "metadata": {},
     "output_type": "execute_result"
    }
   ],
   "source": [
    "# 사전에 등록된 단어 수\n",
    "len(dictionary)"
   ]
  },
  {
   "cell_type": "code",
   "execution_count": 74,
   "metadata": {},
   "outputs": [],
   "source": []
  },
  {
   "cell_type": "code",
   "execution_count": null,
   "metadata": {},
   "outputs": [],
   "source": []
  },
  {
   "cell_type": "code",
   "execution_count": null,
   "metadata": {},
   "outputs": [],
   "source": []
  },
  {
   "attachments": {},
   "cell_type": "markdown",
   "metadata": {},
   "source": [
    "### 1. Parameter 최적화"
   ]
  },
  {
   "cell_type": "code",
   "execution_count": null,
   "metadata": {},
   "outputs": [],
   "source": [
    " "
   ]
  },
  {
   "cell_type": "code",
   "execution_count": null,
   "metadata": {},
   "outputs": [],
   "source": []
  },
  {
   "cell_type": "code",
   "execution_count": 206,
   "metadata": {},
   "outputs": [
    {
     "name": "stdout",
     "output_type": "stream",
     "text": [
      "epoch 1 0.3235461711883545\n",
      "Cpherence -3.6464179646395247\n",
      "Perplexity:  -15.760071607941105 \n",
      "\n",
      "epoch 5 2.1912789344787598\n",
      "Cpherence -3.9566239218347117\n",
      "Perplexity:  -16.085489643804653 \n",
      "\n",
      "epoch 10 3.431104898452759\n",
      "Cpherence -3.667980351364828\n",
      "Perplexity:  -15.46938401788684 \n",
      "\n",
      "epoch 15 4.184823036193848\n",
      "Cpherence -3.9976133670932823\n",
      "Perplexity:  -15.843677386471851 \n",
      "\n",
      "epoch 20 7.221015214920044\n",
      "Cpherence -3.4169115074899947\n",
      "Perplexity:  -16.761539792325255 \n",
      "\n",
      "epoch 25 8.957480907440186\n",
      "Cpherence -3.889898052329462\n",
      "Perplexity:  -16.471903825499098 \n",
      "\n",
      "epoch 30 21.10311794281006\n",
      "Cpherence -3.5517797548861694\n",
      "Perplexity:  -16.80535397932776 \n",
      "\n",
      "epoch 35 12.596894979476929\n",
      "Cpherence -3.660479207337876\n",
      "Perplexity:  -16.25344929975307 \n",
      "\n",
      "epoch 40 11.786682605743408\n",
      "Cpherence -3.4370449235747906\n",
      "Perplexity:  -16.140419667156458 \n",
      "\n",
      "epoch 45 11.711755514144897\n",
      "Cpherence -3.7647297902935914\n",
      "Perplexity:  -16.763284166122435 \n",
      "\n",
      "epoch 50 18.73894691467285\n",
      "Cpherence -3.7434691841180414\n",
      "Perplexity:  -15.846294492823208 \n",
      "\n",
      "epoch 55 16.749045848846436\n",
      "Cpherence -3.451403955518034\n",
      "Perplexity:  -16.31954014451879 \n",
      "\n",
      "epoch 60 23.917430877685547\n",
      "Cpherence -3.7537396200043913\n",
      "Perplexity:  -16.131486000060296 \n",
      "\n",
      "epoch 65 16.01368737220764\n",
      "Cpherence -3.639950428528561\n",
      "Perplexity:  -16.94797989397161 \n",
      "\n",
      "epoch 70 17.44966959953308\n",
      "Cpherence -3.6388710689858925\n",
      "Perplexity:  -16.034060653652315 \n",
      "\n",
      "epoch 75 23.228403091430664\n",
      "Cpherence -3.552163074058454\n",
      "Perplexity:  -16.227103970120343 \n",
      "\n",
      "epoch 80 17.18161153793335\n",
      "Cpherence -3.745581207984464\n",
      "Perplexity:  -16.430773700185522 \n",
      "\n",
      "epoch 85 28.342787981033325\n",
      "Cpherence -3.67386479643266\n",
      "Perplexity:  -14.66295434061811 \n",
      "\n",
      "epoch 90 30.133445501327515\n",
      "Cpherence -3.3155758455310673\n",
      "Perplexity:  -16.333531383497945 \n",
      "\n",
      "epoch 95 25.4656982421875\n",
      "Cpherence -3.8838285538939634\n",
      "Perplexity:  -16.614936848303074 \n",
      "\n",
      "epoch 100 41.77031469345093\n",
      "Cpherence -3.4552923006506493\n",
      "Perplexity:  -15.963926058585491 \n",
      "\n",
      "epoch 105 35.10348153114319\n",
      "Cpherence -3.2814537258439413\n",
      "Perplexity:  -16.446701438341538 \n",
      "\n",
      "epoch 110 47.766435623168945\n",
      "Cpherence -4.224902462009785\n",
      "Perplexity:  -16.046682620871866 \n",
      "\n",
      "epoch 115 24.9390926361084\n",
      "Cpherence -3.5651828885256607\n",
      "Perplexity:  -16.069909711301662 \n",
      "\n",
      "epoch 120 29.99275779724121\n",
      "Cpherence -3.7044693493514034\n",
      "Perplexity:  -15.752169304420965 \n",
      "\n",
      "epoch 125 42.042317628860474\n",
      "Cpherence -3.814505812855075\n",
      "Perplexity:  -16.453544135321287 \n",
      "\n",
      "epoch 130 37.518808126449585\n",
      "Cpherence -3.280589981552\n",
      "Perplexity:  -16.232734039143782 \n",
      "\n",
      "epoch 135 59.59701704978943\n",
      "Cpherence -3.5911346632472863\n",
      "Perplexity:  -16.23591925854234 \n",
      "\n",
      "epoch 140 49.911959409713745\n",
      "Cpherence -3.4128097617283477\n",
      "Perplexity:  -16.751966677598002 \n",
      "\n",
      "epoch 145 55.48898673057556\n",
      "Cpherence -3.3349718314581636\n",
      "Perplexity:  -16.248951928983086 \n",
      "\n",
      "epoch 150 84.97515678405762\n",
      "Cpherence -3.4032457425712215\n",
      "Perplexity:  -16.445152995693316 \n",
      "\n",
      "epoch 155 60.79211091995239\n",
      "Cpherence -3.1717652660998157\n",
      "Perplexity:  -16.964753154671197 \n",
      "\n",
      "epoch 160 55.88143515586853\n",
      "Cpherence -3.2352908426555245\n",
      "Perplexity:  -16.4617684740282 \n",
      "\n",
      "epoch 165 69.45254611968994\n",
      "Cpherence -3.2130638200401878\n",
      "Perplexity:  -16.235006487664453 \n",
      "\n",
      "epoch 170 78.08818221092224\n",
      "Cpherence -3.8893978760495247\n",
      "Perplexity:  -16.24520715514282 \n",
      "\n",
      "epoch 175 69.55132532119751\n",
      "Cpherence -3.300393591711819\n",
      "Perplexity:  -16.15594692310283 \n",
      "\n",
      "epoch 180 66.8128604888916\n",
      "Cpherence -3.3120394420026265\n",
      "Perplexity:  -16.24835304192344 \n",
      "\n",
      "epoch 185 73.10933136940002\n",
      "Cpherence -4.034545145614908\n",
      "Perplexity:  -16.000578758382836 \n",
      "\n",
      "epoch 190 75.63089680671692\n",
      "Cpherence -3.1986473182921404\n",
      "Perplexity:  -16.465894202668043 \n",
      "\n",
      "epoch 195 63.41000318527222\n",
      "Cpherence -3.3654173080291936\n",
      "Perplexity:  -16.224281431089018 \n",
      "\n"
     ]
    }
   ],
   "source": [
    "# passes에 대한 조정 / topic 수 고정\n",
    "\n",
    "coherences=[]\n",
    "perplexities=[]\n",
    "passes=[]\n",
    "warnings.filterwarnings('ignore')\n",
    "\n",
    "for i in range(0, 200, 5):\n",
    "    ntopics, nwords = 100, 2000\n",
    "    if i==0:\n",
    "        p=1\n",
    "    else:\n",
    "        p=i\n",
    "    tic = time.time()\n",
    "    lda4 = LdaModel(corpus, id2word=dictionary, num_topics=ntopics,  chunksize = nwords, iterations=2000, passes=p)\n",
    "    print('epoch',p,time.time() - tic)\n",
    "    # tfidf, corpus 무슨 차이?\n",
    "    # lda = models.ldamodel.LdaModel(corpus, id2word=dictionary, num_topics=ntopics, iterations=200000)\n",
    "\n",
    "    cm = CoherenceModel(model=lda4, corpus=corpus, coherence='u_mass')\n",
    "    coherence = cm.get_coherence()\n",
    "    print(\"Cpherence\",coherence)\n",
    "    coherences.append(coherence)\n",
    "    print('Perplexity: ', lda4.log_perplexity(corpus),'\\n')\n",
    "    perplexities.append(lda4.log_perplexity(corpus))"
   ]
  },
  {
   "cell_type": "code",
   "execution_count": 216,
   "metadata": {},
   "outputs": [
    {
     "name": "stdout",
     "output_type": "stream",
     "text": [
      "[(5, 1), (8, 1), (50, 1)]\n"
     ]
    }
   ],
   "source": [
    "print(corpus[1])"
   ]
  },
  {
   "cell_type": "code",
   "execution_count": 213,
   "metadata": {},
   "outputs": [
    {
     "data": {
      "image/png": "[encoded data removed]",
      "text/plain": [
       "<Figure size 1008x288 with 2 Axes>"
      ]
     },
     "metadata": {
      "needs_background": "light"
     },
     "output_type": "display_data"
    }
   ],
   "source": [
    "# epoch = [1,5,10,15,20,25,30,35,40,45]\n",
    "epoch = []\n",
    "for i in range(0, 200, 5):\n",
    "    if i==0:\n",
    "        i=1\n",
    "    epoch.append(i)\n",
    "\n",
    "\n",
    "fig = plt.figure(figsize=(14, 4))\n",
    "\n",
    "plt.subplot(1,2,1)\n",
    "plt.plot(epoch, coherences, marker=\"o\", color= 'blue', label='coherences')\n",
    "plt.title('[Coherences] Trend via passes',fontsize='x-large')\n",
    "\n",
    "plt.subplot(1,2,2)\n",
    "plt.plot(epoch, perplexities, marker=\"o\", color= 'orange', label='perplexities')\n",
    "plt.title('[Perplexities] Trend via passes',fontsize='x-large')\n",
    "\n",
    "plt.show()"
   ]
  },
  {
   "cell_type": "code",
   "execution_count": 217,
   "metadata": {},
   "outputs": [],
   "source": []
  },
  {
   "cell_type": "code",
   "execution_count": null,
   "metadata": {},
   "outputs": [],
   "source": []
  },
  {
   "cell_type": "code",
   "execution_count": null,
   "metadata": {},
   "outputs": [],
   "source": []
  },
  {
   "cell_type": "code",
   "execution_count": 183,
   "metadata": {},
   "outputs": [],
   "source": [
    "num_topics = 10      # 가설로 잡은 토픽의 갯수\n",
    "chunksize = 2000     # 훈련 덩어리당 문서의 개수\n",
    "passes = 10          # 학습 빈도, epochs과 같은 용어임, 최적화 결과수치를 사용함 \n",
    "iterations = 400     # 각각 문서에 대해서 루프 횟수"
   ]
  },
  {
   "cell_type": "code",
   "execution_count": 184,
   "metadata": {},
   "outputs": [],
   "source": [
    "ldamodel = gensim.models.ldamodel.LdaModel(corpus, id2word=dictionary, \n",
    "                                           num_topics = num_topics,\n",
    "                                           chunksize = chunksize,\n",
    "                                           passes=passes,\n",
    "                                           iterations = iterations)\n"
   ]
  },
  {
   "cell_type": "code",
   "execution_count": 185,
   "metadata": {
    "scrolled": true
   },
   "outputs": [
    {
     "data": {
      "text/plain": [
       "[(0, '0.007*\"달\" + 0.007*\"합니다\" + 0.007*\"잘\" + 0.007*\"담\"'),\n",
       " (1, '0.014*\"어요\" + 0.009*\"저렴\" + 0.007*\"좋아요\" + 0.006*\"입니다\"'),\n",
       " (2, '0.060*\"좋아요\" + 0.013*\"우유\" + 0.011*\"어요\" + 0.008*\"대용\"'),\n",
       " (3, '0.024*\"어요\" + 0.015*\"좋아요\" + 0.011*\"굿\" + 0.011*\"했\"'),\n",
       " (4, '0.020*\"맛\" + 0.008*\"좋습니다\" + 0.008*\"같아요\" + 0.005*\"합니다\"'),\n",
       " (5, '0.031*\"맛\" + 0.015*\"생각\" + 0.015*\"고소\" + 0.007*\"요\"'),\n",
       " (6, '0.014*\"어요\" + 0.009*\"달\" + 0.009*\"있\" + 0.009*\"건강\"'),\n",
       " (7, '0.011*\"종이\" + 0.009*\"때\" + 0.009*\"빨대\" + 0.009*\"종류\"'),\n",
       " (8, '0.015*\"두유\" + 0.010*\"어요\" + 0.008*\"구매\" + 0.008*\"기사\"'),\n",
       " (9, '0.012*\"고소\" + 0.011*\"잘\" + 0.009*\"아몬드\" + 0.009*\"도착\"')]"
      ]
     },
     "execution_count": 185,
     "metadata": {},
     "output_type": "execute_result"
    }
   ],
   "source": [
    "topics = ldamodel.print_topics(num_words=4)\n",
    "topics"
   ]
  },
  {
   "cell_type": "code",
   "execution_count": 158,
   "metadata": {},
   "outputs": [
    {
     "name": "stdout",
     "output_type": "stream",
     "text": [
      "Cpherence -12.89426410128561\n",
      "\n",
      "Perplexity:  -7.813557610519884\n"
     ]
    }
   ],
   "source": [
    "from gensim import corpora, models, similarities\n",
    "cm = CoherenceModel(model=ldamodel, corpus=corpus, coherence='u_mass')\n",
    "coherence = cm.get_coherence()\n",
    "print(\"Cpherence\",coherence)\n",
    "print('\\nPerplexity: ', ldamodel.log_perplexity(corpus))"
   ]
  },
  {
   "cell_type": "code",
   "execution_count": null,
   "metadata": {},
   "outputs": [],
   "source": []
  },
  {
   "cell_type": "code",
   "execution_count": 159,
   "metadata": {},
   "outputs": [
    {
     "data": {
      "text/html": [
       "\n",
       "<link rel=\"stylesheet\" type=\"text/css\" href=\"https://cdn.rawgit.com/bmabey/pyLDAvis/files/ldavis.v1.0.0.css\">\n",
       "\n",
       "\n",
       "<div id=\"ldavis_el1092825454330102481420918318\"></div>\n",
       "<script type=\"text/javascript\">\n",
       "\n",
       "var ldavis_el1092825454330102481420918318_data = {\"mdsDat\": {\"x\": [0.11052272111572681, 0.025414825830885494, -0.007684590606354279, -0.018898067631994545, -0.008740608513577294, -0.025803109090261202, -0.02790990889351693, -0.01766394970287706, -0.009262483868196308, -0.01997482863983465], \"y\": [0.03412488209717921, -0.09693057720926486, 0.005011619588329484, 0.0029911459836973833, -0.004530990133789934, 0.02656099312872942, 0.0061466588584557025, 0.00770510682825594, 0.011042669283614973, 0.007878491574792826], \"topics\": [1, 2, 3, 4, 5, 6, 7, 8, 9, 10], \"cluster\": [1, 1, 1, 1, 1, 1, 1, 1, 1, 1], \"Freq\": [21.96831854588752, 18.970659737759895, 12.994763701500393, 10.430966169606668, 9.803005659113118, 9.729506563756788, 5.516054405680423, 4.530665329293723, 4.2062851394209755, 1.849774747980499]}, \"tinfo\": {\"Term\": [\"\\uc88b\\uc544\\uc694\", \"\\ub9db\", \"\\uace0\\uc18c\", \"\\ud569\\ub2c8\\ub2e4\", \"\\uc0dd\\uac01\", \"\\uc5b4\\uc694\", \"\\uac74\\uac15\", \"\\uc694\", \"\\ub450\\uc720\", \"\\uc624\\ud2b8\", \"\\ubc1b\\uc558\", \"\\uc798\", \"\\ud588\", \"\\ube68\\ub300\", \"\\uc885\\uc774\", \"\\ubd24\\ub294\\ub370\", \"\\ub300\\uc6a9\", \"\\ub9cc\\uc871\", \"\\uc800\\ub834\", \"\\uc8fc\\ubb38\", \"\\uad7f\", \"\\uac10\\uc0ac\", \"\\uba39\\uace0\", \"\\uae54\", \"\\ub054\", \"\\ubc0d\\ubc0d\", \"\\ubc30\\uc1a1\", \"\\uc624\\ud2b8\\ubc00\", \"\\uba39\", \"\\uc88b\\uc2b5\\ub2c8\\ub2e4\", \"\\uc800\\ub834\", \"\\ud558\\uac8c\", \"\\uc544\\ud558\", \"\\ud558\\uc9c0\", \"\\uadf8\\ub7ec\", \"\\ucc0c\", \"\\uc0c0\", \"\\uace0\\ub9d9\\uc2b5\\ub2c8\\ub2e4\", \"\\uc624\\ud2b8\\ubc00\", \"\\uc5b4\\ubcf4\", \"\\ud588\", \"\\uae54\\ub054\\ud568\\uc740\", \"\\uae40\\uc774\\ub098\", \"\\ube44\\uc2f8\\uc11c\", \"\\uc218\\uc785\", \"\\ubaa9\", \"\\uba74\", \"\\uba39\\uc73c\\uba74\", \"\\uc62c\\ub9ac\\uace0\\ub2f9\", \"\\uc774\\ub098\", \"\\uc801\", \"\\ub0b8\\uac83\\ub3c4\", \"\\uc88b\\uc558\\uad6c\\uc694\", \"\\ud504\\ub77d\\ud1a0\", \"\\ube44\\uc2b7\\ud55c\\ub370\", \"\\ubc18\\uc801\", \"\\ud560\", \"\\ub35c\\ud569\\ub2c8\\ub2e4\", \"\\uc544\\uc9c1\", \"\\uc88b\\uc740\\ub370\", \"\\ub54c\", \"\\ub3c4\\ucc29\", \"\\uc77c\\ubc18\", \"\\uc54a\\uace0\", \"\\uc785\\ub2c8\\ub2e4\", \"\\uc804\", \"\\uc608\\uc815\", \"\\ub9e4\\uc77c\", \"\\uba39\", \"\\uc5b4\\uc694\", \"\\ud588\\uc2b5\\ub2c8\\ub2e4\", \"\\uba39\\uc5b4\", \"\\uc88b\", \"\\uc9c0\\uc9c0\", \"\\uc6b0\\uc720\", \"\\uc798\", \"\\uad6c\\uc785\", \"\\uba39\\uc744\", \"\\ub450\\uc720\", \"\\ub370\", \"\\ub9db\", \"\\uc544\\uce68\", \"\\uc885\\uc774\", \"\\ube68\\ub300\", \"\\uae30\\uc0ac\", \"\\uc885\\ub958\", \"\\uac19\\uc740\", \"\\uc2dc\\uac04\", \"\\uc2dc\\uc791\", \"\\ub2e4\\ub978\", \"\\ub2e8\", \"\\ub538\", \"\\uc6b4\\ub3d9\", \"\\ud06c\\uac8c\", \"\\ubaa8\\ub974\\uaca0\", \"\\uba40\\uc5c8\", \"\\uc624\\ub798\", \"\\ub4a4\", \"\\uc2dc\\uc2a4\\ud15c\", \"\\ubc14\\ub85c\", \"\\uc624\\ub294\", \"\\ud0dd\\ubc30\", \"\\uc8fc\\uc2dc\", \"\\uae4c\\uc9c0\", \"\\uae38\\uc774\", \"\\uac78\\ub9ac\\ub124\\uc694\", \"\\uc1fc\\ud551\\ubab0\", \"\\uc624\\uae30\", \"\\ud55c\\ucc38\", \"\\ub2d8\", \"\\ub0a0\", \"\\uac00\\uc838\\ub2e4\", \"\\uad1c\\ucc2e\\uc558\", \"\\uac15\\ud558\", \"\\ud141\\ud141\", \"\\uc5b4\\uc11c\", \"\\uace0\\uc694\", \"\\uba39\\uae30\", \"\\uc788\", \"\\uc544\\ubaac\\ub4dc\", \"\\ub118\", \"\\ubc30\\uc1a1\", \"\\ub9db\", \"\\uc798\", \"\\uc88b\\uc544\\uc694\", \"\\uc5b4\\uc694\", \"\\ub370\", \"\\uc694\", \"\\uc624\\ud2b8\", \"\\uba39\\uace0\", \"\\ub300\\uc6a9\", \"\\ub2ec\", \"\\uc6b0\\uc720\", \"\\uba39\", \"\\uc0dd\\uac01\", \"\\uc54a\\uc544\\uc11c\", \"\\ud588\\ub294\\ub370\", \"\\ubc0d\\ubc0d\", \"\\uac74\\uac15\", \"\\ub420\\uac83\", \"\\ub109\\ub109\\ud558\\uad6c\\uc694\", \"\\ub9cc\", \"\\ubab8\", \"\\ubb3c\\ud0c4\", \"\\uc18d\\uc774\", \"\\uc774\\uc5c8\\uc73c\\uba74\", \"\\uc815\\ucc29\", \"\\uc88b\\uc558\\uaca0\", \"\\ud070\", \"\\ub9c8\\uc168\\uc2b5\\ub2c8\\ub2e4\", \"\\ubc88\\ucc3d\", \"\\ud558\\uc138\\uc694\", \"\\uace0\\uace0\", \"\\ub2f4\\ubc31\\ud558\", \"\\ub3c4\\uc6c0\", \"\\ud3b8\\ud574\\uc694\", \"\\ub3c4\\uc885\\uc774\", \"\\uc2f6\\uc5b4\", \"\\ub420\\uae4c\", \"\\ubd84\\ub9ac\\uc218\\uac70\", \"\\ube68\\ub77c\\uc694\", \"\\uc654\\uae38\\ub798\", \"\\uc0c8\", \"\\ub85c\\ub098\", \"\\ube0c\", \"\\ub9ac\\uc988\", \"\\uc838\\uc694\", \"\\uc0dd\\uac01\", \"\\ubd24\\ub294\\ub370\", \"\\uc88b\\uc2b5\\ub2c8\\ub2e4\", \"\\ub9db\", \"\\uc694\", \"\\ube68\\ub300\", \"\\uc870\\uae08\", \"\\uace0\\uc18c\", \"\\uad6c\\ub9e4\", \"\\uc885\\uc774\", \"\\uc5b4\\uc694\", \"\\ub2ec\", \"\\ub2f4\", \"\\ud569\\ub2c8\\ub2e4\", \"\\uc774\\uc81c\", \"\\uac19\\ub124\\uc694\", \"\\ud558\\ub2c8\", \"\\ub450\\uc720\", \"\\uc2dc\\ucf1c\", \"\\ubd88\\ud3b8\", \"\\uc81c\\ud488\", \"\\uba39\\uc744\", \"\\uc54a\\uace0\", \"\\uc544\\uc8fc\", \"\\uac10\\uc0ac\", \"\\ube60\\ub978\", \"\\uc694\\uc998\", \"\\ubd80\\ubaa8\\ub2d8\", \"\\uae34\\ud558\", \"\\ub098\\uc774\", \"\\ub418\\ub124\\uc694\", \"\\ub4dc\\ub2c8\", \"\\ub9c8\\uc168\", \"\\ub9cc\\ud07c\", \"\\ubc8c\\uc368\", \"\\uc591\", \"\\uc5f0\\ud558\", \"\\ucc3e\\uac8c\", \"\\uac00\\uba74\", \"\\uc5b4\\ub3c4\", \"\\uac70\\ubd80\", \"\\ub4e4\\uc5b4\", \"\\ud30c\\uc6b0\\ub354\", \"\\uba39\\ub294\\ub370\", \"\\ud0c0\", \"\\uac10\", \"\\ub9db\\ub098\\uc6a4\", \"\\ub2e8\\ubc31\\uc9c8\", \"\\ud3ec\\uc7a5\", \"\\uccab\", \"\\uc2e0\\uc0c1\", \"\\uc774\\ud3b8\", \"\\uc18d\", \"\\ubc30\\uace0\\ud50c\", \"\\uba39\\uc74c\", \"\\ud558\\ub098\", \"\\uc88b\\uad6c\\uc694\", \"\\ud569\\ub2c8\\ub2e4\", \"\\uc5c6\", \"\\uc5b4\\uc694\", \"\\uc870\\uae08\", \"\\ub2e8\\ub9db\", \"\\uc8fc\\ubb38\", \"\\uad6c\\ub9e4\", \"\\ubc30\\uc1a1\", \"\\ud588\", \"\\uace0\\uc18c\", \"\\uc694\", \"\\uba39\\uaca0\\uc2b5\\ub2c8\\ub2e4\", \"\\ub354\", \"\\ub77c\\ub5bc\", \"\\uac83\", \"\\ub450\\uc720\", \"\\ubc00\\ud06c\", \"\\uc88b\\uc740\", \"\\uba39\", \"\\uc800\", \"\\ud55c\\ubc88\", \"\\ud329\", \"\\uc88b\\uc544\\uc694\", \"\\uad7f\", \"\\ubc1b\\uc558\", \"\\ub9db\\uc788\\ub124\\uc694\", \"\\uc77c\\ub2e8\", \"\\uc0ac\\uc57c\\uaca0\\ub2e4\", \"\\ub9e4\\ud558\", \"\\ub9db\\uc788\\ub2e4\", \"\\ubd80\\ub4dc\\ub7fd\\uace0\", \"\\uc74c\\ubc88\", \"\\ubd80\\ub4dc\\ub7fd\\ub2e4\", \"\\ub192\\uc544\\uc694\", \"\\ud568\\ub7c9\", \"\\uce7c\\uc298\", \"\\uc88b\\uc744\\uac83\", \"\\ub9cc\\ud574\", \"\\ub2dd\\ub2dd\\ud558\", \"\\uc57d\\uac04\", \"\\uad1c\\ucc2e\", \"\\uc1fc\\ud551\", \"\\ubc31\", \"\\uba39\\uc744\\uc218\\uc788\\uc5b4\", \"\\ub07c\\ub2c8\", \"\\ubd80\\ub2f4\", \"\\uc120\\ubb3c\", \"\\uad18\\uc558\\ub124\", \"\\ub9db\\uc788\\uc5b4\\uc6a9\", \"\\uc624\\uace0\", \"\\ub2f4\", \"\\ud588\\ub294\\ub370\", \"\\uace0\\uc18c\", \"\\uc544\\uce68\", \"\\uc5b4\\uc694\", \"\\ub2ec\", \"\\uad6c\\uc785\", \"\\ub9db\", \"\\uad6c\", \"\\uac19\\uc544\\uc694\", \"\\ub824\\uace0\", \"\\uc788\\uace0\", \"\\ub9c8\\ub2e4\", \"\\uc6a9\", \"\\ub109\", \"\\ud300\", \"\\uc800\\ud76c\", \"\\uc8fc\\ub2c8\", \"\\uc7a5\\ub300\", \"\\uc788\\uc2b5\\ub2c8\\ub2e4\", \"\\ud568\", \"\\uc778\\uc99d\", \"\\uc6b0\\ub9ac\", \"\\uc4f0\\uc2dc\", \"\\uc2e0\\uacbd\", \"\\uc138\", \"\\uc0ac\\uc9c4\", \"\\ube44\", \"\\uc88b\\uaca0\\ub124\\uc694\", \"\\ubd10\\uc8fc\\uc138\\uc694\", \"\\ubcf4\\uace0\", \"\\ubd99\\uc774\", \"\\ub9c8\\ucf00\\ud305\", \"\\ub098\\ub220\", \"\\ubc15\", \"\\uc2e4\\ub54c\", \"\\ub4dc\\ub7ec\\uc6b4\", \"\\ud300\\uc6d0\", \"\\uc5b4\\ub5a4\", \"\\ub0ae\\uc544\\uc694\", \"\\uad81\\uae08\", \"\\ud558\\uc600\\ub294\\ub370\", \"\\uc88b\\uc744\\ub4ef\", \"\\ubc0b\\ubc0b\\ud55c\\uac83\\uc774\", \"\\uce7c\\ub85c\\ub9ac\", \"\\uc77c\\uae4c\", \"\\uc88b\\uc740\", \"\\uba39\\uace0\", \"\\ub300\\uc6a9\", \"\\ud569\\ub2c8\\ub2e4\", \"\\uc544\\uce68\", \"\\uc798\", \"\\ub9db\", \"\\uc870\\uae08\", \"\\uac78\", \"\\ubcf4\\ub2c8\", \"\\uc18c\", \"\\uc74c\\ub8cc\", \"\\uc624\\ud2b8\", \"\\ubc88\\uac08\\uc544\", \"\\uc801\\ub2f9\", \"\\ub2ec\\ub2ec\", \"\\ud558\\ub124\\uc694\", \"\\ud14c\\uc774\\ud504\", \"\\uc81c\\ub300\\ub85c\", \"\\uc654\\ub294\\ub370\", \"\\uc1a1\\uc911\", \"\\ubc30\", \"\\ub418\\uc5c8\\ub124\\uc694\", \"\\ub2f9\", \"\\ub109\\ub109\\ud574\\uc694\", \"\\ubd99\\uc778\", \"\\uace1\\ubb3c\", \"\\ud0c0\\uc11c\", \"\\ub2f4\\ubc31\\ud55c\", \"\\uac00\\ub8e8\", \"\\uba39\\uc73c\", \"\\ub4e0\\ub4e0\\ud574\\uc694\", \"\\uc5b4\\uba54\\uc774\\uc9d5\", \"\\uc601\\uc591\\uac00\", \"\\uc2dd\\uc774\\uc12c\\uc720\", \"\\ub531\\uc785\\ub2c8\\ub2f9\", \"\\ub9db\\uc788\\ub294\\ub370\", \"\\uc790\\uc8fc\", \"\\ub9e4\\ubc88\", \"\\uc624\\ud2b8\", \"\\uc2dd\", \"\\uac74\\uc9c0\", \"\\uac00\\ubccd\\uac8c\", \"\\uc190\", \"\\uace0\\uc18c\", \"\\ubc30\\uc1a1\", \"\\ub2e4\\uc774\\uc5b4\\ud2b8\", \"\\ub9e4\\uc77c\", \"\\ud569\\ub2c8\\ub2e4\", \"\\uc0dd\\uac01\", \"\\ub054\", \"\\uae54\", \"\\uce5c\\uad6c\", \"\\ubabb\", \"\\uba39\\uae34\", \"\\uba39\\uaca0\", \"\\ub9db\\uc788\\uac8c\", \"\\ub300\\uc694\", \"\\ub098\\uc11c\", \"\\ub9de\\uc544\\uc694\", \"\\ud560\\uac83\", \"\\uc544\\ud0c0\", \"\\ucd94\\uac00\", \"\\ub7f0\\uce6d\\ub54c\", \"\\ud560\\uac8c\\uc694\", \"\\ub610\", \"\\ucf69\", \"\\uac80\\uc740\", \"\\uac78\", \"\\uac19\\ub124\\uc694\", \"\\uc774\\uc81c\", \"\\uc785\\ub9db\", \"\\uac08\", \"\\uc8fc\\ubb38\", \"\\ub2f4\", \"\\uc81c\", \"\\ud588\\ub294\\ub370\", \"\\uad6c\\uc785\", \"\\uc885\\uc774\", \"\\ub05d\\ub098\\ub294\", \"\\ube68\\ub300\", \"\\ub9db\", \"\\uc798\", \"\\ud50c\\ub77c\\uc2a4\\ud2f1\", \"\\uc9c8\\ub824\\uc11c\", \"\\uc6ec\\uc77c\", \"\\uc4f0\", \"\\uba78\\uade0\", \"\\ube44\\uc2b7\\ud574\\uc694\", \"\\ud574\", \"\\uc0ac\\ub2e4\", \"\\uc758\\uc0ac\", \"\\ubc1b\\uc558\\uc2b5\\ub2c8\\ub2e4\", \"\\ub9e4\\ubc88\", \"\\ubd24\\ub294\\ub370\", \"\\uc788\\uc74c\", \"\\ubc14\\uafd4\", \"\\ub9e4\\uc77c\\uc720\\uc5c5\", \"\\ub354\\ub2c8\", \"\\uac70\\uc758\", \"\\ub2e4\\uac00\", \"\\ucc98\\uc74c\", \"\\uba39\\uc744\\ub9cc\", \"\\uadf8\\ub0e5\", \"\\ub9db\\uc788\\ub124\\uc694\", \"\\ub450\\uc720\", \"\\uc885\\uc774\", \"\\ube68\\ub300\", \"\\uc624\\ud2b8\", \"\\uad6c\\ub9e4\", \"\\uacc1\", \"\\ub4e4\\uac70\", \"\\uac00\\uae30\", \"\\uc6b0\\uc720\", \"\\ubd80\\ub300\", \"\\ub8f0\", \"\\uba39\", \"\\ub9db\", \"\\ud588\\uc2a8\\ub370\", \"\\ub9f9\\ubb3c\", \"\\uc74c\", \"\\ub9cc\\uc871\", \"\\uadf8\\ub0e5\", \"\\uac19\\uc544\\uc694\", \"\\ud569\\ub2c8\\ub2e4\", \"\\ub9db\\uc788\", \"\\uae30\\ub2e4\\ub824\\uc694\", \"\\ud558\\ub098\\uc694\", \"\\uae08\\ubc29\", \"\\uba39\\uc744\\uc904\", \"\\uc5c6\\uc5b4\\uc84c\", \"\\uc601\\uc591\\uba74\", \"\\uaf08\\ub294\\ub370\", \"\\uc740\\uc9c0\", \"\\ucc28\\uac11\\uac8c\", \"\\ub8f0\", \"\\ubd80\\ub300\", \"\\uc8a0\", \"\\uac89\\ub3c4\", \"\\ub05d\\ub098\\ub294\", \"\\ub098\\uc654\\ub2e4\\uae38\\ub798\", \"\\uac81\\ub2c8\\ub2e4\", \"\\uc0c1\\ud574\", \"\\ub9db\\uc788\\ub294\\uac70\", \"\\ub824\", \"\\uc54c\\ub7ec\\uc9c0\", \"\\uc5bc\\ub989\", \"\\uc5c6\\uac70\\ub4e0\\uc694\", \"\\uc0dd\\uac01\", \"\\ub450\\uc720\", \"\\uc0c1\\uc628\", \"\\uc694\", \"\\ub4dc\\ub838\", \"\\uc88b\\uc544\\uc694\", \"\\ub9db\", \"\\uc5b4\\uc694\", \"\\ub9d0\\uc544\\uba39\\uc5c8\\uc5c8\\ub294\\ub370\", \"\\uc624\\ubb18\", \"\\ub4e0\", \"\\ub4e4\\uc5b4\\uc788\\ub294\", \"\\ub808\\ub180\\ub77c\", \"\\ub9cc\\ub4e0\", \"\\uc5b4\\uc6b0\\ub7ec\\uc9c4\\ub2e4\\ub294\"], \"Freq\": [9.0, 10.0, 3.0, 2.0, 2.0, 11.0, 2.0, 3.0, 3.0, 1.0, 1.0, 4.0, 2.0, 3.0, 2.0, 1.0, 2.0, 0.0, 1.0, 2.0, 1.0, 1.0, 2.0, 0.0, 0.0, 1.0, 2.0, 2.0, 3.0, 1.0, 1.7526102928862153, 1.3252604408287645, 0.8977958953722041, 0.8977956999831084, 0.8977948207321783, 0.8977948207321783, 0.8977188143739948, 0.8977072864173552, 1.7528738727761626, 1.3253343956014443, 1.7528033373126555, 0.4702516800119178, 0.4702516800119178, 0.4702516800119178, 0.4702516800119178, 0.4702516800119178, 0.4702516800119178, 0.4702516800119178, 0.4702516800119178, 0.4702516800119178, 0.4702516800119178, 0.4702516800119178, 0.4702516800119178, 0.4702516800119178, 0.4702516800119178, 0.4702516800119178, 0.4702516311646439, 0.47025153347009613, 0.47025153347009613, 0.47025153347009613, 1.752883056063655, 1.3252679633089446, 0.47025153347009613, 2.180439727478785, 0.8978004870159503, 0.8977981423468032, 0.8977980446522554, 1.3253456304744407, 2.1800593049096766, 4.920061944506022, 0.8977973607904209, 0.8977969700122297, 0.8977967746231341, 0.8977951138158217, 1.752880711394508, 2.180348871549337, 0.8977981423468032, 0.8977981423468032, 1.3253484636163266, 0.8977951138158217, 2.2291302993209423, 0.8978038086305753, 0.897799216986829, 0.8977968723176819, 1.2163029985729488, 1.2163024923903694, 0.8239371750651441, 0.8239371750651441, 0.8239371750651441, 0.8239370063376176, 0.8239369219738544, 0.8239368376100911, 0.8239368376100911, 0.8239352346985896, 0.43156671155036147, 0.43156671155036147, 0.43156671155036147, 0.43156671155036147, 0.43156671155036147, 0.43156671155036147, 0.43156671155036147, 0.43156671155036147, 0.43156671155036147, 0.43156671155036147, 0.43156671155036147, 0.43156671155036147, 0.43156671155036147, 0.4315666693684798, 0.4315666693684798, 0.4315666693684798, 0.4315666693684798, 0.4315666693684798, 0.4315662897315453, 0.4315662897315453, 0.4315662897315453, 0.4315662897315453, 0.4315662897315453, 0.823936078336222, 1.2163054451220825, 1.216304517120687, 0.8239352346985896, 1.2160844964261759, 3.394189738481423, 1.6086674722605419, 2.467163756751412, 2.3935963617545895, 0.8239373437926705, 1.2163095789464808, 0.823931016510428, 0.8239365001550382, 0.8239330412407456, 0.8239365001550382, 0.823930257236559, 0.8242246867702413, 0.43223057000324017, 0.4315693690089033, 0.4315678504611651, 0.9609420343032327, 1.569455546443382, 0.3409880336341999, 0.3409880336341999, 0.3409880336341999, 0.3409880336341999, 0.3409880336341999, 0.3409880336341999, 0.3409880336341999, 0.3409880336341999, 0.3409880336341999, 0.3409880336341999, 0.34098754243141316, 0.34098754243141316, 0.34098754243141316, 0.3409873112771606, 0.3409873112771606, 0.3409873112771606, 0.3409873112771606, 0.3409873112771606, 0.3409873112771606, 0.3409873112771606, 0.3409873112771606, 0.34098725348859743, 0.34098725348859743, 0.34098725348859743, 0.34098725348859743, 0.34098722459431585, 0.34098722459431585, 0.34098710901718954, 1.5805233276342545, 0.651000992902134, 0.960983699857261, 3.0769273112104814, 1.271084642212585, 0.961016523761128, 0.6510070607012642, 0.9610290060907676, 0.6510089677238481, 0.6510007617478814, 1.1243862942778695, 0.6510115104206265, 0.3410374717499714, 0.3409914720537071, 0.34098890046264707, 0.34098890046264707, 0.3409886404141129, 0.3409886982026761, 0.3409885537312682, 0.3409883225770156, 0.3409883514712972, 0.34098829368273403, 0.3409881492113262, 0.3409881492113262, 0.823442446556403, 0.5578396131042034, 0.29219185366040124, 0.29219185366040124, 0.29219185366040124, 0.29219185366040124, 0.29219185366040124, 0.29219185366040124, 0.29219185366040124, 0.29219185366040124, 0.29219185366040124, 0.29219185366040124, 0.29219185366040124, 0.29219185366040124, 0.2921917608860252, 0.2921917608860252, 0.2921917608860252, 0.2921917608860252, 0.2921917608860252, 0.2921917608860252, 0.2921917376924312, 0.2921917376924312, 0.2921917376924312, 0.2921917376924312, 0.2921909723038288, 0.2921909723038288, 0.2921909723038288, 0.2921908099486707, 0.2921908099486707, 0.2921908099486707, 0.2921908099486707, 0.5578436024023736, 0.2921908099486707, 1.0891089232305735, 0.5578394739426393, 1.6204447525845718, 0.5578322375413074, 0.5578415613661005, 0.5578423963354849, 0.557842489109861, 0.5578402161376478, 0.557838778134819, 0.5578436024023736, 0.557860580113191, 0.29219530950590916, 0.2921933380504181, 0.2921933380504181, 0.2921928741785378, 0.2921924335002516, 0.2921923407258755, 0.2921921783707174, 0.2921921087899354, 0.29219201601555933, 0.2921918768539953, 0.5237079816639638, 6.169969783970519, 0.7730584507930819, 1.0224566560164376, 0.5236577606771494, 0.27431282806307083, 0.27431282806307083, 0.27431282806307083, 0.27431282806307083, 0.27431278446846424, 0.27431278446846424, 0.27431278446846424, 0.2743122613331849, 0.2743122613331849, 0.2743122613331849, 0.2743122613331849, 0.2743122613331849, 0.2743122613331849, 0.27431184718442214, 0.27431184718442214, 0.27431112787341305, 0.27431110607610976, 0.27431053934622385, 0.27431053934622385, 0.2743104957516172, 0.27430801085904044, 0.27430801085904044, 0.2743045014932084, 0.2742715657679147, 0.5236645614357806, 0.5237054095821739, 1.0224886544576892, 0.5912602659037328, 1.0385678275919876, 0.5236998730671345, 0.32194610442105176, 0.3308165605955761, 0.2743135909686865, 0.27431317681992373, 0.27431298064419396, 0.27431276267116095, 0.2743122831304882, 0.53062739491389, 0.5284200473119929, 0.2779383403063991, 0.2779383403063991, 0.2779383403063991, 0.2779383403063991, 0.2779383403063991, 0.2779383403063991, 0.2779383403063991, 0.2779383403063991, 0.2779383403063991, 0.2779383403063991, 0.2779383403063991, 0.2779383403063991, 0.2779383403063991, 0.2779383403063991, 0.2779383403063991, 0.2779383403063991, 0.2779383403063991, 0.2779383403063991, 0.2779383403063991, 0.2779383186725234, 0.2779383186725234, 0.2779383186725234, 0.2779383186725234, 0.2779375831207508, 0.2779375831207508, 0.2779375831207508, 0.2779375831207508, 0.2779375831207508, 0.2779375831207508, 0.2779375831207508, 0.2779375831207508, 0.5306265295588634, 0.7833174663135373, 0.7833140914289334, 0.7833770892748713, 0.46217699022113246, 0.530626226684604, 0.5306302505854779, 0.27793972487444163, 0.277939248929177, 0.27793901095654466, 0.2779386864484097, 0.2779387080822854, 0.2779386864484097, 0.2779384917435287, 0.34142873557635395, 0.3414171082358094, 0.17883789266248723, 0.17883789266248723, 0.17883789266248723, 0.17883789266248723, 0.17883789266248723, 0.17883789266248723, 0.17883789266248723, 0.17883789266248723, 0.17883789266248723, 0.1788378681322329, 0.1788372180804936, 0.1788372180804936, 0.1788372180804936, 0.1788372180804936, 0.1788372180804936, 0.1788372180804936, 0.1788366293543901, 0.17883523112989422, 0.17882706255520786, 0.1788254435584232, 0.1788254435584232, 0.17882457273439506, 0.17882606907990817, 0.5040093003136633, 0.1788370218384591, 0.17883779454146997, 0.17883696051282333, 0.17882377550112988, 0.5040184255682679, 0.1788382974116834, 0.17883680106617028, 0.17883426218484885, 0.17883402914743288, 0.17883357533772806, 0.4269873211412863, 0.4269873211412863, 0.1515221370253198, 0.1515221370253198, 0.1515221370253198, 0.1515221370253198, 0.1515221370253198, 0.1515221370253198, 0.1515221370253198, 0.1515219959881668, 0.1515215527285431, 0.1515215527285431, 0.1515212706542371, 0.1515212706542371, 0.15151877228181257, 0.15151877228181257, 0.15152215717348452, 0.15152215717348452, 0.15152106917258995, 0.15152114976524883, 0.15152114976524883, 0.1515219959881668, 0.1515216937656961, 0.28927798006538286, 0.15152216724756687, 0.1515219254695903, 0.15152212695123743, 0.1252073041301136, 0.1515204949498956, 0.01377551806691481, 0.1515198199863777, 0.3283551641944823, 0.1515187924299773, 0.1425315954746204, 0.1425315954746204, 0.1425315954746204, 0.1425315954746204, 0.1425315954746204, 0.14253140841837222, 0.14253140841837222, 0.14253140841837222, 0.14252796658340583, 0.1425222146037745, 0.14253138971274742, 0.27211454016507036, 0.1425287802780854, 0.14253209117367807, 0.14253247463898683, 0.1425315954746204, 0.14253140841837222, 0.14253185735336785, 0.14253157676899558, 0.14253142712399705, 0.14252465568781317, 0.14253346603710212, 0.4016976064420817, 0.2721160740263054, 0.27211601790943096, 0.14253136165431018, 0.1425316983555569, 0.012958116999429543, 0.012958116999429543, 0.012958116999429543, 0.14253124006774887, 0.012958116999429543, 0.012958116999429543, 0.14253221276023936, 0.1425242441640672, 0.06794021565036842, 0.06794021565036842, 0.06794021565036842, 0.12970698027953492, 0.06794113697011352, 0.0679406721972064, 0.0679297973337867, 0.006176715228267531, 0.006176715228267531, 0.006176715228267531, 0.006176715228267531, 0.006176715228267531, 0.006176715228267531, 0.006176715228267531, 0.006176715228267531, 0.006176715228267531, 0.006176715228267531, 0.006176715228267531, 0.006176715228267531, 0.006176715228267531, 0.006176715228267531, 0.006176715228267531, 0.006176715228267531, 0.006176715228267531, 0.006176715228267531, 0.006176715228267531, 0.006176715228267531, 0.006176715228267531, 0.006176715228267531, 0.006176715228267531, 0.06793930255669249, 0.06793873084488639, 0.006176715228267531, 0.06792980555985585, 0.006176715228267531, 0.006176718313043463, 0.006176716256526175, 0.006176716256526175, 0.006176715228267531, 0.006176715228267531, 0.006176715228267531, 0.006176715228267531, 0.006176715228267531, 0.006176715228267531, 0.006176715228267531], \"Total\": [9.0, 10.0, 3.0, 2.0, 2.0, 11.0, 2.0, 3.0, 3.0, 1.0, 1.0, 4.0, 2.0, 3.0, 2.0, 1.0, 2.0, 0.0, 1.0, 2.0, 1.0, 1.0, 2.0, 0.0, 0.0, 1.0, 2.0, 2.0, 3.0, 1.0, 1.9489666240024581, 1.5214609352926451, 1.0939750708001916, 1.0939748754110958, 1.0939739961601658, 1.0939739961601658, 1.0939196669378186, 1.0939492068601042, 2.2590390418838067, 1.7708864205397181, 2.4803062845579404, 0.6664308554399055, 0.6664308554399055, 0.6664308554399055, 0.6664308554399055, 0.6664308554399055, 0.6664308554399055, 0.6664308554399055, 0.6664308554399055, 0.6664308554399055, 0.6664308554399055, 0.6664308554399055, 0.6664308554399055, 0.6664308554399055, 0.6664308554399055, 0.6664308554399055, 0.6664308065926315, 0.6664307088980838, 0.6664307088980838, 0.6664307088980838, 2.5246668860991237, 1.913820502967668, 0.6664307088980838, 3.328279098144592, 1.3433482614800798, 1.346644276082524, 1.3466441783879761, 2.0764230337505376, 3.805808406077841, 11.42413636588088, 1.486301656846821, 1.4863024893431966, 1.4863051201401694, 1.4863038811516731, 3.438939881357032, 4.589109504619427, 1.5024160396198079, 1.6533360372857107, 3.351917188596436, 1.8786752304859697, 10.244131675238929, 2.6521159141182604, 2.503208584413531, 3.0658896901054993, 1.4159994700468013, 1.4159989638642219, 1.0236336465389964, 1.0236336465389964, 1.0236336465389964, 1.02363347781147, 1.0236333934477067, 1.0236333090839433, 1.0236333090839433, 1.023631706172442, 0.631263183024214, 0.631263183024214, 0.631263183024214, 0.631263183024214, 0.631263183024214, 0.631263183024214, 0.631263183024214, 0.631263183024214, 0.631263183024214, 0.631263183024214, 0.631263183024214, 0.631263183024214, 0.631263183024214, 0.6312631408423324, 0.6312631408423324, 0.6312631408423324, 0.6312631408423324, 0.6312631408423324, 0.6312627612053979, 0.6312627612053979, 0.6312627612053979, 0.6312627612053979, 0.6312627612053979, 1.2892597771247767, 1.9916124663516386, 1.9916120702395304, 1.4511297852825327, 2.4197506487024074, 10.244131675238929, 4.589109504619427, 9.577682657615204, 11.42413636588088, 1.8786752304859697, 3.6362188766117645, 1.89363005637863, 2.3572937587816583, 2.3717499553834864, 2.997438054435332, 3.438939881357032, 3.805808406077841, 2.671407047657894, 0.8806327175319367, 1.2677771683489518, 1.1689604121868709, 2.470216738783943, 0.5489198790038736, 0.5489198790038736, 0.5489198790038736, 0.5489198790038736, 0.5489198790038736, 0.5489198790038736, 0.5489198790038736, 0.5489198790038736, 0.5489198790038736, 0.5489198790038736, 0.548919387801087, 0.548919387801087, 0.548919387801087, 0.5489191566468343, 0.5489191566468343, 0.5489191566468343, 0.5489191566468343, 0.5489191566468343, 0.5489191566468343, 0.5489191566468343, 0.5489191566468343, 0.5489190988582712, 0.5489190988582712, 0.5489190988582712, 0.5489190988582712, 0.5489190699639896, 0.5489190699639896, 0.5489189543868633, 2.671407047657894, 1.1180892614374487, 1.8490908465253009, 10.244131675238929, 3.6362188766117645, 3.0658896901054993, 1.642877565936499, 3.5778537212934367, 2.1999426654894076, 2.503208584413531, 11.42413636588088, 2.997438054435332, 1.185441360419701, 2.5939042300583512, 0.6866663775306548, 0.6866663775306548, 1.2257876726014745, 3.351917188596436, 1.1389940110042427, 0.976416928180385, 1.2290854986548048, 1.6533360372857107, 3.328279098144592, 0.7982922119694905, 1.0358511396734866, 0.7702078839764613, 0.5045601245326591, 0.5045601245326591, 0.5045601245326591, 0.5045601245326591, 0.5045601245326591, 0.5045601245326591, 0.5045601245326591, 0.5045601245326591, 0.5045601245326591, 0.5045601245326591, 0.5045601245326591, 0.5045601245326591, 0.504560031758283, 0.504560031758283, 0.504560031758283, 0.504560031758283, 0.504560031758283, 0.504560031758283, 0.504560008564689, 0.504560008564689, 0.504560008564689, 0.504560008564689, 0.5045592431760866, 0.5045592431760866, 0.5045592431760866, 0.5045590808209285, 0.5045590808209285, 0.5045590808209285, 0.5045590808209285, 1.019582870014137, 0.5045590808209285, 2.5939042300583512, 1.1625377163596955, 11.42413636588088, 1.642877565936499, 1.7570645950596855, 2.118209454175698, 2.1999426654894076, 2.4197506487024074, 2.4803062845579404, 3.5778537212934367, 3.6362188766117645, 0.8968781555361754, 1.5770537087162604, 1.184722952738895, 1.1847251879945533, 3.351917188596436, 0.8968878835025084, 1.0099182794037551, 3.805808406077841, 0.814546569510289, 0.9320580802945221, 0.7377016836357643, 9.577682657615204, 1.239743045028735, 1.6639855699419113, 0.8672528209636572, 0.4883065300348713, 0.4883065300348713, 0.4883065300348713, 0.4883065300348713, 0.4883064864402647, 0.4883064864402647, 0.4883064864402647, 0.4883059633049854, 0.4883059633049854, 0.4883059633049854, 0.4883059633049854, 0.4883059633049854, 0.4883059633049854, 0.4883055491562226, 0.4883055491562226, 0.4883048298452135, 0.4883048080479102, 0.4883042413180243, 0.4883042413180243, 0.48830419772341765, 0.4883017128308409, 0.4883017128308409, 0.48829820346500885, 0.4882810543089101, 1.185441360419701, 1.2677771683489518, 3.5778537212934367, 2.6521159141182604, 11.42413636588088, 2.997438054435332, 1.5024160396198079, 10.244131675238929, 0.7539314123135917, 1.0683603074511843, 0.7982925607185242, 1.0783815443089257, 1.1333030273841587, 0.7442915695401693, 0.745477654936233, 0.49160251493267837, 0.49160251493267837, 0.49160251493267837, 0.49160251493267837, 0.49160251493267837, 0.49160251493267837, 0.49160251493267837, 0.49160251493267837, 0.49160251493267837, 0.49160251493267837, 0.49160251493267837, 0.49160251493267837, 0.49160251493267837, 0.49160251493267837, 0.49160251493267837, 0.49160251493267837, 0.49160251493267837, 0.49160251493267837, 0.49160251493267837, 0.4916024932988027, 0.4916024932988027, 0.4916024932988027, 0.4916024932988027, 0.4916017577470301, 0.4916017577470301, 0.4916017577470301, 0.4916017577470301, 0.4916017577470301, 0.4916017577470301, 0.4916017577470301, 0.4916017577470301, 1.0099182794037551, 2.3572937587816583, 2.3717499553834864, 2.5939042300583512, 2.6521159141182604, 4.589109504619427, 10.244131675238929, 1.642877565936499, 0.6293489746611314, 0.9190978942310156, 0.801588710282937, 1.229086935545319, 1.89363005637863, 0.7572296617485702, 0.5641026902752903, 0.564101147091185, 0.4015118473614235, 0.4015118473614235, 0.4015118473614235, 0.4015118473614235, 0.4015118473614235, 0.4015118473614235, 0.4015118473614235, 0.4015118473614235, 0.4015118473614235, 0.40151182283116915, 0.4015111727794299, 0.4015111727794299, 0.4015111727794299, 0.4015111727794299, 0.4015111727794299, 0.4015111727794299, 0.40151058405332635, 0.4015091858288305, 0.4015101229653345, 0.4015098614511474, 0.4015098753030107, 0.4015097424055152, 0.5310832522040516, 1.89363005637863, 0.7114976347855275, 0.7938422269677841, 0.7938414773029007, 0.7938400059371443, 3.5778537212934367, 2.4197506487024074, 0.9641665717158839, 2.0764230337505376, 2.5939042300583512, 2.671407047657894, 0.6522702442721855, 0.6522702627267587, 0.37667949298276765, 0.37667949298276765, 0.37667949298276765, 0.37667949298276765, 0.37667949298276765, 0.37667949298276765, 0.37667949298276765, 0.37667935194561464, 0.37667890868599097, 0.37667890868599097, 0.37667862661168494, 0.37667862661168494, 0.37667770854375004, 0.37667770854375004, 0.6260520574789724, 0.6260520574789724, 0.6293489746611314, 0.6866663775306548, 0.6866663775306548, 0.769008775125952, 0.8041741979968008, 2.118209454175698, 1.185441360419701, 1.1965062663936301, 1.2677771683489518, 1.5024160396198079, 2.503208584413531, 0.23893287402436267, 3.0658896901054993, 10.244131675238929, 4.589109504619427, 0.3685063524995535, 0.3685063524995535, 0.3685063524995535, 0.3685063524995535, 0.3685063524995535, 0.36850616544330533, 0.36850616544330533, 0.36850616544330533, 0.3685027292976611, 0.3684969861602558, 0.5310832522040516, 1.1180892614374487, 0.6211627408767015, 0.6784906748071492, 0.7608302853801333, 0.760836661499405, 0.7608359682605773, 0.7960023976665185, 0.7960023613185158, 0.7960035305499124, 0.8577657346165111, 0.8672528209636572, 3.351917188596436, 2.503208584413531, 3.0658896901054993, 1.89363005637863, 2.1999426654894076, 0.23893287402436267, 0.23893287402436267, 0.23893287402436267, 3.438939881357032, 0.23893287402436267, 0.23893287402436267, 3.805808406077841, 10.244131675238929, 0.3006963744464636, 0.3006963744464636, 0.3006963744464636, 0.7547921529873041, 0.8577657346165111, 1.0683603074511843, 2.5939042300583512, 0.23893287402436267, 0.23893287402436267, 0.23893287402436267, 0.23893287402436267, 0.23893287402436267, 0.23893287402436267, 0.23893287402436267, 0.23893287402436267, 0.23893287402436267, 0.23893287402436267, 0.23893287402436267, 0.23893287402436267, 0.23893287402436267, 0.23893287402436267, 0.23893287402436267, 0.23893287402436267, 0.23893287402436267, 0.23893287402436267, 0.23893287402436267, 0.23893287402436267, 0.23893287402436267, 0.23893287402436267, 0.23893287402436267, 2.671407047657894, 3.351917188596436, 0.23893287402436267, 3.6362188766117645, 0.23893287402436267, 9.577682657615204, 10.244131675238929, 11.42413636588088, 0.23893287402436267, 0.23893287402436267, 0.23893287402436267, 0.23893287402436267, 0.23893287402436267, 0.23893287402436267, 0.23893287402436267], \"Category\": [\"Default\", \"Default\", \"Default\", \"Default\", \"Default\", \"Default\", \"Default\", \"Default\", \"Default\", \"Default\", \"Default\", \"Default\", \"Default\", \"Default\", \"Default\", \"Default\", \"Default\", \"Default\", \"Default\", \"Default\", \"Default\", \"Default\", \"Default\", \"Default\", \"Default\", \"Default\", \"Default\", \"Default\", \"Default\", \"Default\", \"Topic1\", \"Topic1\", \"Topic1\", \"Topic1\", \"Topic1\", \"Topic1\", \"Topic1\", \"Topic1\", \"Topic1\", \"Topic1\", \"Topic1\", \"Topic1\", \"Topic1\", \"Topic1\", \"Topic1\", \"Topic1\", \"Topic1\", \"Topic1\", \"Topic1\", \"Topic1\", \"Topic1\", \"Topic1\", \"Topic1\", \"Topic1\", \"Topic1\", \"Topic1\", \"Topic1\", \"Topic1\", \"Topic1\", \"Topic1\", \"Topic1\", \"Topic1\", \"Topic1\", \"Topic1\", \"Topic1\", \"Topic1\", \"Topic1\", \"Topic1\", \"Topic1\", \"Topic1\", \"Topic1\", \"Topic1\", \"Topic1\", \"Topic1\", \"Topic1\", \"Topic1\", \"Topic1\", \"Topic1\", \"Topic1\", \"Topic1\", \"Topic1\", \"Topic1\", \"Topic1\", \"Topic1\", \"Topic2\", \"Topic2\", \"Topic2\", \"Topic2\", \"Topic2\", \"Topic2\", \"Topic2\", \"Topic2\", \"Topic2\", \"Topic2\", \"Topic2\", \"Topic2\", \"Topic2\", \"Topic2\", \"Topic2\", \"Topic2\", \"Topic2\", \"Topic2\", \"Topic2\", \"Topic2\", \"Topic2\", \"Topic2\", \"Topic2\", \"Topic2\", \"Topic2\", \"Topic2\", \"Topic2\", \"Topic2\", \"Topic2\", \"Topic2\", \"Topic2\", \"Topic2\", \"Topic2\", \"Topic2\", \"Topic2\", \"Topic2\", \"Topic2\", \"Topic2\", \"Topic2\", \"Topic2\", \"Topic2\", \"Topic2\", \"Topic2\", \"Topic2\", \"Topic2\", \"Topic2\", \"Topic2\", \"Topic2\", \"Topic2\", \"Topic2\", \"Topic2\", \"Topic2\", \"Topic2\", \"Topic3\", \"Topic3\", \"Topic3\", \"Topic3\", \"Topic3\", \"Topic3\", \"Topic3\", \"Topic3\", \"Topic3\", \"Topic3\", \"Topic3\", \"Topic3\", \"Topic3\", \"Topic3\", \"Topic3\", \"Topic3\", \"Topic3\", \"Topic3\", \"Topic3\", \"Topic3\", \"Topic3\", \"Topic3\", \"Topic3\", \"Topic3\", \"Topic3\", \"Topic3\", \"Topic3\", \"Topic3\", \"Topic3\", \"Topic3\", \"Topic3\", \"Topic3\", \"Topic3\", \"Topic3\", \"Topic3\", \"Topic3\", \"Topic3\", \"Topic3\", \"Topic3\", \"Topic3\", \"Topic3\", \"Topic3\", \"Topic3\", \"Topic3\", \"Topic3\", \"Topic3\", \"Topic3\", \"Topic3\", \"Topic3\", \"Topic3\", \"Topic3\", \"Topic3\", \"Topic3\", \"Topic3\", \"Topic4\", \"Topic4\", \"Topic4\", \"Topic4\", \"Topic4\", \"Topic4\", \"Topic4\", \"Topic4\", \"Topic4\", \"Topic4\", \"Topic4\", \"Topic4\", \"Topic4\", \"Topic4\", \"Topic4\", \"Topic4\", \"Topic4\", \"Topic4\", \"Topic4\", \"Topic4\", \"Topic4\", \"Topic4\", \"Topic4\", \"Topic4\", \"Topic4\", \"Topic4\", \"Topic4\", \"Topic4\", \"Topic4\", \"Topic4\", \"Topic4\", \"Topic4\", \"Topic4\", \"Topic4\", \"Topic4\", \"Topic4\", \"Topic4\", \"Topic4\", \"Topic4\", \"Topic4\", \"Topic4\", \"Topic4\", \"Topic4\", \"Topic4\", \"Topic4\", \"Topic4\", \"Topic4\", \"Topic4\", \"Topic4\", \"Topic4\", \"Topic4\", \"Topic4\", \"Topic4\", \"Topic4\", \"Topic5\", \"Topic5\", \"Topic5\", \"Topic5\", \"Topic5\", \"Topic5\", \"Topic5\", \"Topic5\", \"Topic5\", \"Topic5\", \"Topic5\", \"Topic5\", \"Topic5\", \"Topic5\", \"Topic5\", \"Topic5\", \"Topic5\", \"Topic5\", \"Topic5\", \"Topic5\", \"Topic5\", \"Topic5\", \"Topic5\", \"Topic5\", \"Topic5\", \"Topic5\", \"Topic5\", \"Topic5\", \"Topic5\", \"Topic5\", \"Topic5\", \"Topic5\", \"Topic5\", \"Topic5\", \"Topic5\", \"Topic5\", \"Topic5\", \"Topic5\", \"Topic5\", \"Topic5\", \"Topic5\", \"Topic5\", \"Topic6\", \"Topic6\", \"Topic6\", \"Topic6\", \"Topic6\", \"Topic6\", \"Topic6\", \"Topic6\", \"Topic6\", \"Topic6\", \"Topic6\", \"Topic6\", \"Topic6\", \"Topic6\", \"Topic6\", \"Topic6\", \"Topic6\", \"Topic6\", \"Topic6\", \"Topic6\", \"Topic6\", \"Topic6\", \"Topic6\", \"Topic6\", \"Topic6\", \"Topic6\", \"Topic6\", \"Topic6\", \"Topic6\", \"Topic6\", \"Topic6\", \"Topic6\", \"Topic6\", \"Topic6\", \"Topic6\", \"Topic6\", \"Topic6\", \"Topic6\", \"Topic6\", \"Topic6\", \"Topic6\", \"Topic6\", \"Topic6\", \"Topic6\", \"Topic6\", \"Topic6\", \"Topic6\", \"Topic7\", \"Topic7\", \"Topic7\", \"Topic7\", \"Topic7\", \"Topic7\", \"Topic7\", \"Topic7\", \"Topic7\", \"Topic7\", \"Topic7\", \"Topic7\", \"Topic7\", \"Topic7\", \"Topic7\", \"Topic7\", \"Topic7\", \"Topic7\", \"Topic7\", \"Topic7\", \"Topic7\", \"Topic7\", \"Topic7\", \"Topic7\", \"Topic7\", \"Topic7\", \"Topic7\", \"Topic7\", \"Topic7\", \"Topic7\", \"Topic7\", \"Topic7\", \"Topic7\", \"Topic7\", \"Topic7\", \"Topic7\", \"Topic8\", \"Topic8\", \"Topic8\", \"Topic8\", \"Topic8\", \"Topic8\", \"Topic8\", \"Topic8\", \"Topic8\", \"Topic8\", \"Topic8\", \"Topic8\", \"Topic8\", \"Topic8\", \"Topic8\", \"Topic8\", \"Topic8\", \"Topic8\", \"Topic8\", \"Topic8\", \"Topic8\", \"Topic8\", \"Topic8\", \"Topic8\", \"Topic8\", \"Topic8\", \"Topic8\", \"Topic8\", \"Topic8\", \"Topic8\", \"Topic8\", \"Topic8\", \"Topic8\", \"Topic9\", \"Topic9\", \"Topic9\", \"Topic9\", \"Topic9\", \"Topic9\", \"Topic9\", \"Topic9\", \"Topic9\", \"Topic9\", \"Topic9\", \"Topic9\", \"Topic9\", \"Topic9\", \"Topic9\", \"Topic9\", \"Topic9\", \"Topic9\", \"Topic9\", \"Topic9\", \"Topic9\", \"Topic9\", \"Topic9\", \"Topic9\", \"Topic9\", \"Topic9\", \"Topic9\", \"Topic9\", \"Topic9\", \"Topic9\", \"Topic9\", \"Topic9\", \"Topic9\", \"Topic9\", \"Topic9\", \"Topic10\", \"Topic10\", \"Topic10\", \"Topic10\", \"Topic10\", \"Topic10\", \"Topic10\", \"Topic10\", \"Topic10\", \"Topic10\", \"Topic10\", \"Topic10\", \"Topic10\", \"Topic10\", \"Topic10\", \"Topic10\", \"Topic10\", \"Topic10\", \"Topic10\", \"Topic10\", \"Topic10\", \"Topic10\", \"Topic10\", \"Topic10\", \"Topic10\", \"Topic10\", \"Topic10\", \"Topic10\", \"Topic10\", \"Topic10\", \"Topic10\", \"Topic10\", \"Topic10\", \"Topic10\", \"Topic10\", \"Topic10\", \"Topic10\", \"Topic10\", \"Topic10\", \"Topic10\", \"Topic10\", \"Topic10\", \"Topic10\", \"Topic10\", \"Topic10\"], \"logprob\": [30.0, 29.0, 28.0, 27.0, 26.0, 25.0, 24.0, 23.0, 22.0, 21.0, 20.0, 19.0, 18.0, 17.0, 16.0, 15.0, 14.0, 13.0, 12.0, 11.0, 10.0, 9.0, 8.0, 7.0, 6.0, 5.0, 4.0, 3.0, 2.0, 1.0, -4.784999847412109, -5.064499855041504, -5.453999996185303, -5.453999996185303, -5.453999996185303, -5.453999996185303, -5.453999996185303, -5.454100131988525, -4.784900188446045, -5.064499855041504, -4.784900188446045, -6.100599765777588, -6.100599765777588, -6.100599765777588, -6.100599765777588, -6.100599765777588, -6.100599765777588, -6.100599765777588, -6.100599765777588, -6.100599765777588, -6.100599765777588, -6.100599765777588, -6.100599765777588, -6.100599765777588, -6.100599765777588, -6.100599765777588, -6.100599765777588, -6.100599765777588, -6.100599765777588, -6.100599765777588, -4.784900188446045, -5.064499855041504, -6.100599765777588, -4.5665998458862305, -5.453999996185303, -5.453999996185303, -5.453999996185303, -5.064499855041504, -4.566800117492676, -3.7527999877929688, -5.453999996185303, -5.453999996185303, -5.453999996185303, -5.453999996185303, -4.784900188446045, -4.566699981689453, -5.453999996185303, -5.453999996185303, -5.064499855041504, -5.453999996185303, -4.54449987411499, -5.45389986038208, -5.453999996185303, -5.453999996185303, -5.003600120544434, -5.003600120544434, -5.393099784851074, -5.393099784851074, -5.393099784851074, -5.393099784851074, -5.393099784851074, -5.393099784851074, -5.393099784851074, -5.393099784851074, -6.03980016708374, -6.03980016708374, -6.03980016708374, -6.03980016708374, -6.03980016708374, -6.03980016708374, -6.03980016708374, -6.03980016708374, -6.03980016708374, -6.03980016708374, -6.03980016708374, -6.03980016708374, -6.03980016708374, -6.03980016708374, -6.03980016708374, -6.03980016708374, -6.03980016708374, -6.03980016708374, -6.03980016708374, -6.03980016708374, -6.03980016708374, -6.03980016708374, -6.03980016708374, -5.393099784851074, -5.003600120544434, -5.003600120544434, -5.393099784851074, -5.003799915313721, -3.977400064468384, -4.723999977111816, -4.29640007019043, -4.326600074768066, -5.393099784851074, -5.003600120544434, -5.393099784851074, -5.393099784851074, -5.393099784851074, -5.393099784851074, -5.393099784851074, -5.3927001953125, -6.0381999015808105, -6.03980016708374, -6.03980016708374, -4.860899925231934, -4.3703999519348145, -5.896999835968018, -5.896999835968018, -5.896999835968018, -5.896999835968018, -5.896999835968018, -5.896999835968018, -5.896999835968018, -5.896999835968018, -5.896999835968018, -5.896999835968018, -5.896999835968018, -5.896999835968018, -5.896999835968018, -5.896999835968018, -5.896999835968018, -5.896999835968018, -5.896999835968018, -5.896999835968018, -5.896999835968018, -5.896999835968018, -5.896999835968018, -5.896999835968018, -5.896999835968018, -5.896999835968018, -5.896999835968018, -5.896999835968018, -5.896999835968018, -5.896999835968018, -4.36329984664917, -5.25029993057251, -4.860899925231934, -3.697200059890747, -4.581200122833252, -4.860899925231934, -5.25029993057251, -4.860799789428711, -5.25029993057251, -5.25029993057251, -4.70389986038208, -5.25029993057251, -5.896900177001953, -5.896999835968018, -5.896999835968018, -5.896999835968018, -5.896999835968018, -5.896999835968018, -5.896999835968018, -5.896999835968018, -5.896999835968018, -5.896999835968018, -5.896999835968018, -5.896999835968018, -4.795599937438965, -5.184999942779541, -5.831699848175049, -5.831699848175049, -5.831699848175049, -5.831699848175049, -5.831699848175049, -5.831699848175049, -5.831699848175049, -5.831699848175049, -5.831699848175049, -5.831699848175049, -5.831699848175049, -5.831699848175049, -5.831699848175049, -5.831699848175049, -5.831699848175049, -5.831699848175049, -5.831699848175049, -5.831699848175049, -5.831699848175049, -5.831699848175049, -5.831699848175049, -5.831699848175049, -5.831699848175049, -5.831699848175049, -5.831699848175049, -5.831699848175049, -5.831699848175049, -5.831699848175049, -5.831699848175049, -5.184999942779541, -5.831699848175049, -4.515999794006348, -5.184999942779541, -4.118599891662598, -5.184999942779541, -5.184999942779541, -5.184999942779541, -5.184999942779541, -5.184999942779541, -5.184999942779541, -5.184999942779541, -5.184999942779541, -5.831699848175049, -5.831699848175049, -5.831699848175049, -5.831699848175049, -5.831699848175049, -5.831699848175049, -5.831699848175049, -5.831699848175049, -5.831699848175049, -5.831699848175049, -5.186100006103516, -2.7195000648498535, -4.796599864959717, -4.517000198364258, -5.186100006103516, -5.832699775695801, -5.832699775695801, -5.832699775695801, -5.832699775695801, -5.832699775695801, -5.832699775695801, -5.832699775695801, -5.832699775695801, -5.832699775695801, -5.832699775695801, -5.832699775695801, -5.832699775695801, -5.832699775695801, -5.832699775695801, -5.832699775695801, -5.832699775695801, -5.832699775695801, -5.832699775695801, -5.832699775695801, -5.832699775695801, -5.832699775695801, -5.832699775695801, -5.832699775695801, -5.832900047302246, -5.186100006103516, -5.186100006103516, -4.517000198364258, -5.064700126647949, -4.501399993896484, -5.186100006103516, -5.672599792480469, -5.645400047302246, -5.832699775695801, -5.832699775695801, -5.832699775695801, -5.832699775695801, -5.832699775695801, -5.16540002822876, -5.169600009918213, -5.812099933624268, -5.812099933624268, -5.812099933624268, -5.812099933624268, -5.812099933624268, -5.812099933624268, -5.812099933624268, -5.812099933624268, -5.812099933624268, -5.812099933624268, -5.812099933624268, -5.812099933624268, -5.812099933624268, -5.812099933624268, -5.812099933624268, -5.812099933624268, -5.812099933624268, -5.812099933624268, -5.812099933624268, -5.812099933624268, -5.812099933624268, -5.812099933624268, -5.812099933624268, -5.812099933624268, -5.812099933624268, -5.812099933624268, -5.812099933624268, -5.812099933624268, -5.812099933624268, -5.812099933624268, -5.812099933624268, -5.16540002822876, -4.775899887084961, -4.775899887084961, -4.7758002281188965, -5.303500175476074, -5.16540002822876, -5.16540002822876, -5.812099933624268, -5.812099933624268, -5.812099933624268, -5.812099933624268, -5.812099933624268, -5.812099933624268, -5.812099933624268, -5.03879976272583, -5.038899898529053, -5.685500144958496, -5.685500144958496, -5.685500144958496, -5.685500144958496, -5.685500144958496, -5.685500144958496, -5.685500144958496, -5.685500144958496, -5.685500144958496, -5.685500144958496, -5.685500144958496, -5.685500144958496, -5.685500144958496, -5.685500144958496, -5.685500144958496, -5.685500144958496, -5.685500144958496, -5.685500144958496, -5.685500144958496, -5.685500144958496, -5.685500144958496, -5.6855998039245605, -5.685500144958496, -4.649400234222412, -5.685500144958496, -5.685500144958496, -5.685500144958496, -5.6855998039245605, -4.6493000984191895, -5.685500144958496, -5.685500144958496, -5.685500144958496, -5.685500144958496, -5.685500144958496, -4.6184000968933105, -4.6184000968933105, -5.654399871826172, -5.654399871826172, -5.654399871826172, -5.654399871826172, -5.654399871826172, -5.654399871826172, -5.654399871826172, -5.654399871826172, -5.654399871826172, -5.654399871826172, -5.654399871826172, -5.654399871826172, -5.6545000076293945, -5.6545000076293945, -5.654399871826172, -5.654399871826172, -5.654399871826172, -5.654399871826172, -5.654399871826172, -5.654399871826172, -5.654399871826172, -5.007800102233887, -5.654399871826172, -5.654399871826172, -5.654399871826172, -5.845200061798096, -5.654399871826172, -8.052300453186035, -5.654399871826172, -4.881100177764893, -5.6545000076293945, -5.641300201416016, -5.641300201416016, -5.641300201416016, -5.641300201416016, -5.641300201416016, -5.641300201416016, -5.641300201416016, -5.641300201416016, -5.641300201416016, -5.64139986038208, -5.641300201416016, -4.994699954986572, -5.641300201416016, -5.641300201416016, -5.641300201416016, -5.641300201416016, -5.641300201416016, -5.641300201416016, -5.641300201416016, -5.641300201416016, -5.64139986038208, -5.641300201416016, -4.605199813842773, -4.99459981918335, -4.99459981918335, -5.641300201416016, -5.641300201416016, -8.039199829101562, -8.039199829101562, -8.039199829101562, -5.641300201416016, -8.039199829101562, -8.039199829101562, -5.641300201416016, -5.64139986038208, -5.560699939727783, -5.560699939727783, -5.560699939727783, -4.914100170135498, -5.560699939727783, -5.560699939727783, -5.5609002113342285, -7.958600044250488, -7.958600044250488, -7.958600044250488, -7.958600044250488, -7.958600044250488, -7.958600044250488, -7.958600044250488, -7.958600044250488, -7.958600044250488, -7.958600044250488, -7.958600044250488, -7.958600044250488, -7.958600044250488, -7.958600044250488, -7.958600044250488, -7.958600044250488, -7.958600044250488, -7.958600044250488, -7.958600044250488, -7.958600044250488, -7.958600044250488, -7.958600044250488, -7.958600044250488, -5.560699939727783, -5.560800075531006, -7.958600044250488, -5.5609002113342285, -7.958600044250488, -7.958600044250488, -7.958600044250488, -7.958600044250488, -7.958600044250488, -7.958600044250488, -7.958600044250488, -7.958600044250488, -7.958600044250488, -7.958600044250488, -7.958600044250488], \"loglift\": [30.0, 29.0, 28.0, 27.0, 26.0, 25.0, 24.0, 23.0, 22.0, 21.0, 20.0, 19.0, 18.0, 17.0, 16.0, 15.0, 14.0, 13.0, 12.0, 11.0, 10.0, 9.0, 8.0, 7.0, 6.0, 5.0, 4.0, 3.0, 2.0, 1.0, 1.4094, 1.3775, 1.3179, 1.3179, 1.3179, 1.3179, 1.3179, 1.3179, 1.2619, 1.2258, 1.1684, 1.1669, 1.1669, 1.1669, 1.1669, 1.1669, 1.1669, 1.1669, 1.1669, 1.1669, 1.1669, 1.1669, 1.1669, 1.1669, 1.1669, 1.1669, 1.1669, 1.1669, 1.1669, 1.1669, 1.1507, 1.1481, 1.1669, 1.0926, 1.1126, 1.1101, 1.1101, 1.0666, 0.9584, 0.6732, 1.0115, 1.0115, 1.0115, 1.0115, 0.8417, 0.7714, 1.0007, 0.905, 0.5877, 0.7772, -0.0095, 0.4324, 0.4902, 0.2874, 1.5103, 1.5103, 1.4453, 1.4453, 1.4453, 1.4453, 1.4453, 1.4453, 1.4453, 1.4453, 1.282, 1.282, 1.282, 1.282, 1.282, 1.282, 1.282, 1.282, 1.282, 1.282, 1.282, 1.282, 1.282, 1.282, 1.282, 1.282, 1.282, 1.282, 1.282, 1.282, 1.282, 1.282, 1.282, 1.2145, 1.1691, 1.1691, 1.0963, 0.9742, 0.5576, 0.614, 0.3059, 0.0993, 0.838, 0.5672, 0.8301, 0.6111, 0.605, 0.3709, 0.2334, 0.1324, -0.1591, 0.9491, 0.5847, 1.8447, 1.587, 1.5645, 1.5645, 1.5645, 1.5645, 1.5645, 1.5645, 1.5645, 1.5645, 1.5645, 1.5645, 1.5645, 1.5645, 1.5645, 1.5645, 1.5645, 1.5645, 1.5645, 1.5645, 1.5645, 1.5645, 1.5645, 1.5645, 1.5645, 1.5645, 1.5645, 1.5645, 1.5645, 1.5645, 1.5158, 1.4998, 1.3861, 0.8379, 0.9895, 0.8805, 1.1149, 0.7261, 0.823, 0.6938, -0.2779, 0.5136, 0.7947, 0.0116, 1.3406, 1.3406, 0.7611, -0.2448, 0.8346, 0.9886, 0.7584, 0.4619, -0.2377, 1.19, 2.0309, 1.9378, 1.7141, 1.7141, 1.7141, 1.7141, 1.7141, 1.7141, 1.7141, 1.7141, 1.7141, 1.7141, 1.7141, 1.7141, 1.7141, 1.7141, 1.7141, 1.7141, 1.7141, 1.7141, 1.7141, 1.7141, 1.7141, 1.7141, 1.7141, 1.7141, 1.7141, 1.7141, 1.7141, 1.7141, 1.7141, 1.6573, 1.7141, 1.3926, 1.5261, 0.3074, 1.1802, 1.1131, 0.9261, 0.8883, 0.793, 0.7683, 0.402, 0.3858, 1.1389, 0.5745, 0.8605, 0.8605, -0.1795, 1.1389, 1.0202, -0.3065, 1.2352, 1.1004, 1.9799, 1.8827, 1.8502, 1.8355, 1.818, 1.7458, 1.7458, 1.7458, 1.7458, 1.7458, 1.7458, 1.7458, 1.7458, 1.7458, 1.7458, 1.7458, 1.7458, 1.7458, 1.7458, 1.7458, 1.7458, 1.7458, 1.7458, 1.7458, 1.7458, 1.7458, 1.7458, 1.7458, 1.7457, 1.5055, 1.4384, 1.07, 0.8216, -0.0754, 0.5779, 0.782, -1.1104, 1.3115, 0.9629, 1.2543, 0.9535, 0.9039, 1.9916, 1.9859, 1.7597, 1.7597, 1.7597, 1.7597, 1.7597, 1.7597, 1.7597, 1.7597, 1.7597, 1.7597, 1.7597, 1.7597, 1.7597, 1.7597, 1.7597, 1.7597, 1.7597, 1.7597, 1.7597, 1.7597, 1.7597, 1.7597, 1.7597, 1.7597, 1.7597, 1.7597, 1.7597, 1.7597, 1.7597, 1.7597, 1.7597, 1.6864, 1.2283, 1.2222, 1.1327, 0.5828, 0.1726, -0.6304, 0.5532, 1.5127, 1.134, 1.2708, 0.8434, 0.4112, 1.3277, 2.3954, 2.3954, 2.0887, 2.0887, 2.0887, 2.0887, 2.0887, 2.0887, 2.0887, 2.0887, 2.0887, 2.0887, 2.0887, 2.0887, 2.0887, 2.0887, 2.0887, 2.0887, 2.0887, 2.0887, 2.0887, 2.0887, 2.0887, 2.0887, 1.809, 1.5739, 1.5166, 1.4071, 1.4071, 1.407, 0.9376, 0.2926, 1.2127, 0.4456, 0.223, 0.1936, 2.6706, 2.6706, 2.1836, 2.1836, 2.1836, 2.1836, 2.1836, 2.1836, 2.1836, 2.1836, 2.1836, 2.1836, 2.1836, 2.1836, 2.1836, 2.1836, 1.6756, 1.6756, 1.6703, 1.5832, 1.5832, 1.4699, 1.4252, 1.1034, 1.0372, 1.0279, 0.97, 0.6094, 0.2897, 0.241, 0.0869, -0.3461, -0.3164, 2.2187, 2.2187, 2.2187, 2.2187, 2.2187, 2.2187, 2.2187, 2.2187, 2.2187, 2.2187, 1.8532, 1.7554, 1.6965, 1.6083, 1.4937, 1.4937, 1.4937, 1.4486, 1.4486, 1.4485, 1.3738, 1.3628, 1.047, 0.9495, 0.7467, 0.5819, 0.432, 0.2541, 0.2541, 0.2541, -0.0148, 0.2541, 0.2541, -0.1161, -1.1064, 2.5026, 2.5026, 2.5026, 2.2289, 1.4544, 1.2349, 0.3477, 0.3347, 0.3347, 0.3347, 0.3347, 0.3347, 0.3347, 0.3347, 0.3347, 0.3347, 0.3347, 0.3347, 0.3347, 0.3347, 0.3347, 0.3347, 0.3347, 0.3347, 0.3347, 0.3347, 0.3347, 0.3347, 0.3347, 0.3347, 0.3184, 0.0914, 0.3347, 0.0099, 0.3347, -3.3563, -3.4236, -3.5326, 0.3347, 0.3347, 0.3347, 0.3347, 0.3347, 0.3347, 0.3347]}, \"token.table\": {\"Topic\": [4, 2, 3, 1, 3, 4, 5, 7, 3, 4, 1, 5, 1, 2, 6, 2, 2, 2, 4, 1, 2, 3, 5, 5, 2, 6, 1, 2, 1, 1, 2, 1, 1, 2, 3, 6, 5, 1, 1, 2, 2, 6, 2, 1, 1, 3, 5, 2, 4, 3, 4, 1, 3, 1, 3, 2, 2, 2, 1, 5, 1, 1, 1, 1, 2, 3, 4, 5, 4, 1, 2, 7, 1, 2, 3, 4, 6, 1, 2, 2, 1, 2, 1, 2, 6, 1, 1, 3, 4, 2, 1, 3, 1, 3, 1, 2, 5, 6, 4, 1, 1, 2, 5, 1, 4, 1, 4, 6, 1, 4, 5, 1], \"Freq\": [0.9653896797518731, 0.9769120069285491, 0.8096455540110117, 0.9141192239356698, 0.27949717285772324, 0.27949717285772324, 0.27949717285772324, 0.27949717285772324, 0.45455730082744505, 0.45455730082744505, 0.6655945980535817, 0.8066187618554632, 0.9140985101199725, 0.7062149535740633, 1.3414218298542275, 0.6891182374878354, 0.9769121679548832, 0.9769122484680703, 0.5691310398101961, 0.33361823725440876, 0.33361823725440876, 0.33361823725440876, 0.33361823725440876, 0.8435676646594766, 0.42162960632935303, 0.42162960632935303, 0.532289979541234, 0.532289979541234, 0.5225150417446928, 0.2983367260390865, 0.9769123289812707, 0.7921837177855217, 0.19523372633272532, 0.292850589499088, 0.292850589499088, 0.09761686316636266, 1.15306629834751, 0.48159743161476626, 0.5255125289034567, 0.26275626445172834, 0.4242152664574309, 0.4242152664574309, 0.7756388725863572, 0.6728105531478348, 0.6048377204925047, 0.8554609630699276, 0.6009667499910527, 0.41326572245625826, 0.41326572245625826, 0.8943829750357949, 1.2983507710115332, 0.32616959547738633, 0.32616959547738633, 0.9141439085735377, 0.7486691336512953, 0.9769120069285491, 0.9769120069285491, 0.5021058141507098, 0.37705742598828546, 0.37705742598828546, 0.9140976121773476, 0.6009111438746033, 0.5646889537360771, 0.43766984565528383, 0.17506793826211353, 0.08753396913105677, 0.17506793826211353, 0.08753396913105677, 0.8601871456965225, 0.7425866580413747, 0.5280862524501727, 0.5280862524501727, 0.885332197858876, 0.2750109478920592, 0.2750109478920592, 0.2750109478920592, 1.3435594878735626, 0.5815745750143165, 0.29078728750715827, 0.9769123289812707, 0.7444086010117852, 0.5021057142868076, 0.43581439884726814, 0.43581439884726814, 0.21790719942363407, 1.0261848383492265, 0.7425866041691911, 0.6086880853047405, 0.6086880853047405, 0.7062152060274308, 0.39948728453018106, 0.39948728453018106, 0.6728093622564475, 0.5408063113173369, 0.1044093895933064, 0.2088187791866128, 0.6264563375598383, 0.9901791267610179, 0.4720968448274395, 0.6728099231128583, 0.9140985101199725, 0.9769138587345975, 1.3555614988859697, 0.6572630139909936, 0.9807932532116145, 0.914097775439512, 0.38551924485566086, 0.38551924485566086, 0.8063520269459203, 0.40317601347296017, 0.788782149549449, 0.6728109299975439], \"Term\": [\"\\uac10\\uc0ac\", \"\\uac19\\uc740\", \"\\uac74\\uac15\", \"\\uace0\\ub9d9\\uc2b5\\ub2c8\\ub2e4\", \"\\uace0\\uc18c\", \"\\uace0\\uc18c\", \"\\uace0\\uc18c\", \"\\uace0\\uc18c\", \"\\uad6c\\ub9e4\", \"\\uad6c\\ub9e4\", \"\\uad6c\\uc785\", \"\\uad7f\", \"\\uadf8\\ub7ec\", \"\\uae30\\uc0ac\", \"\\ub109\", \"\\ub118\", \"\\ub2e4\\ub978\", \"\\ub2e8\", \"\\ub2e8\\ub9db\", \"\\ub2ec\", \"\\ub2ec\", \"\\ub2ec\", \"\\ub2ec\", \"\\ub2f4\", \"\\ub300\\uc6a9\", \"\\ub300\\uc6a9\", \"\\ub370\", \"\\ub370\", \"\\ub3c4\\ucc29\", \"\\ub450\\uc720\", \"\\ub538\", \"\\ub54c\", \"\\ub9db\", \"\\ub9db\", \"\\ub9db\", \"\\ub9db\", \"\\ub9db\\uc788\\ub124\\uc694\", \"\\ub9e4\\uc77c\", \"\\uba39\", \"\\uba39\", \"\\uba39\\uace0\", \"\\uba39\\uace0\", \"\\uba39\\uae30\", \"\\uba39\\uc5b4\", \"\\uba39\\uc744\", \"\\ubc0d\\ubc0d\", \"\\ubc1b\\uc558\", \"\\ubc30\\uc1a1\", \"\\ubc30\\uc1a1\", \"\\ubd24\\ub294\\ub370\", \"\\ube60\\ub978\", \"\\ube68\\ub300\", \"\\ube68\\ub300\", \"\\uc0c0\", \"\\uc0dd\\uac01\", \"\\uc2dc\\uac04\", \"\\uc2dc\\uc791\", \"\\uc544\\ubaac\\ub4dc\", \"\\uc544\\uce68\", \"\\uc544\\uce68\", \"\\uc544\\ud558\", \"\\uc54a\\uace0\", \"\\uc5b4\\ubcf4\", \"\\uc5b4\\uc694\", \"\\uc5b4\\uc694\", \"\\uc5b4\\uc694\", \"\\uc5b4\\uc694\", \"\\uc5b4\\uc694\", \"\\uc5c6\", \"\\uc608\\uc815\", \"\\uc624\\ud2b8\", \"\\uc624\\ud2b8\", \"\\uc624\\ud2b8\\ubc00\", \"\\uc694\", \"\\uc694\", \"\\uc694\", \"\\uc6a9\", \"\\uc6b0\\uc720\", \"\\uc6b0\\uc720\", \"\\uc6b4\\ub3d9\", \"\\uc785\\ub2c8\\ub2e4\", \"\\uc788\", \"\\uc798\", \"\\uc798\", \"\\uc798\", \"\\uc800\\ub834\", \"\\uc804\", \"\\uc870\\uae08\", \"\\uc870\\uae08\", \"\\uc885\\ub958\", \"\\uc885\\uc774\", \"\\uc885\\uc774\", \"\\uc88b\", \"\\uc88b\\uc2b5\\ub2c8\\ub2e4\", \"\\uc88b\\uc544\\uc694\", \"\\uc88b\\uc544\\uc694\", \"\\uc88b\\uc544\\uc694\", \"\\uc88b\\uc740\", \"\\uc8fc\\ubb38\", \"\\uc9c0\\uc9c0\", \"\\ucc0c\", \"\\ud06c\\uac8c\", \"\\ud329\", \"\\ud558\\uac8c\", \"\\ud558\\ub098\", \"\\ud558\\uc9c0\", \"\\ud569\\ub2c8\\ub2e4\", \"\\ud569\\ub2c8\\ub2e4\", \"\\ud588\", \"\\ud588\", \"\\ud588\\ub294\\ub370\", \"\\ud588\\uc2b5\\ub2c8\\ub2e4\"]}, \"R\": 30, \"lambda.step\": 0.01, \"plot.opts\": {\"xlab\": \"PC1\", \"ylab\": \"PC2\"}, \"topic.order\": [2, 7, 8, 1, 4, 9, 6, 3, 10, 5]};\n",
       "\n",
       "function LDAvis_load_lib(url, callback){\n",
       "  var s = document.createElement('script');\n",
       "  s.src = url;\n",
       "  s.async = true;\n",
       "  s.onreadystatechange = s.onload = callback;\n",
       "  s.onerror = function(){console.warn(\"failed to load library \" + url);};\n",
       "  document.getElementsByTagName(\"head\")[0].appendChild(s);\n",
       "}\n",
       "\n",
       "if(typeof(LDAvis) !== \"undefined\"){\n",
       "   // already loaded: just create the visualization\n",
       "   !function(LDAvis){\n",
       "       new LDAvis(\"#\" + \"ldavis_el1092825454330102481420918318\", ldavis_el1092825454330102481420918318_data);\n",
       "   }(LDAvis);\n",
       "}else if(typeof define === \"function\" && define.amd){\n",
       "   // require.js is available: use it to load d3/LDAvis\n",
       "   require.config({paths: {d3: \"https://cdnjs.cloudflare.com/ajax/libs/d3/3.5.5/d3.min\"}});\n",
       "   require([\"d3\"], function(d3){\n",
       "      window.d3 = d3;\n",
       "      LDAvis_load_lib(\"https://cdn.rawgit.com/bmabey/pyLDAvis/files/ldavis.v1.0.0.js\", function(){\n",
       "        new LDAvis(\"#\" + \"ldavis_el1092825454330102481420918318\", ldavis_el1092825454330102481420918318_data);\n",
       "      });\n",
       "    });\n",
       "}else{\n",
       "    // require.js not available: dynamically load d3 & LDAvis\n",
       "    LDAvis_load_lib(\"https://cdnjs.cloudflare.com/ajax/libs/d3/3.5.5/d3.min.js\", function(){\n",
       "         LDAvis_load_lib(\"https://cdn.rawgit.com/bmabey/pyLDAvis/files/ldavis.v1.0.0.js\", function(){\n",
       "                 new LDAvis(\"#\" + \"ldavis_el1092825454330102481420918318\", ldavis_el1092825454330102481420918318_data);\n",
       "            })\n",
       "         });\n",
       "}\n",
       "</script>"
      ],
      "text/plain": [
       "<IPython.core.display.HTML object>"
      ]
     },
     "execution_count": 159,
     "metadata": {},
     "output_type": "execute_result"
    }
   ],
   "source": [
    "import pyLDAvis.gensim\n",
    "pyLDAvis.enable_notebook()\n",
    "vis = pyLDAvis.gensim.prepare(ldamodel, corpus, dictionary)\n",
    "pyLDAvis.display(vis)"
   ]
  },
  {
   "cell_type": "code",
   "execution_count": null,
   "metadata": {},
   "outputs": [],
   "source": []
  },
  {
   "cell_type": "code",
   "execution_count": 225,
   "metadata": {},
   "outputs": [],
   "source": [
    "def get_keyword(keyword, gubun):\n",
    "    df3.loc[(df3['token'].str.contains(str(keyword))), 'KEYWORD'] = keyword\n",
    "    df3.loc[(df3['KEYWORD'] ==keyword), 'GROUP'] = gubun\n",
    "    \n",
    "get_keyword('아침', '아침')"
   ]
  },
  {
   "cell_type": "code",
   "execution_count": 227,
   "metadata": {},
   "outputs": [
    {
     "data": {
      "text/plain": [
       "WEEK\n",
       "2021-38W     2\n",
       "2021-39W     6\n",
       "2021-40W    17\n",
       "2021-41W    11\n",
       "2021-42W     4\n",
       "2021-43W    13\n",
       "2021-44W    10\n",
       "2021-45W    10\n",
       "2021-46W     7\n",
       "2021-47W     8\n",
       "Name: REVIEW, dtype: int64"
      ]
     },
     "execution_count": 227,
     "metadata": {},
     "output_type": "execute_result"
    }
   ],
   "source": [
    "df3[df3['GROUP']=='아침'].groupby(['WEEK'])['REVIEW'].count()"
   ]
  },
  {
   "cell_type": "code",
   "execution_count": 228,
   "metadata": {},
   "outputs": [
    {
     "data": {
      "text/plain": [
       "WEEK\n",
       "2021-37W     23\n",
       "2021-38W     21\n",
       "2021-39W     93\n",
       "2021-40W    149\n",
       "2021-41W    130\n",
       "2021-42W    126\n",
       "2021-43W    205\n",
       "2021-44W    120\n",
       "2021-45W    142\n",
       "2021-46W    120\n",
       "2021-47W    108\n",
       "2021-48W     18\n",
       "Name: REVIEW, dtype: int64"
      ]
     },
     "execution_count": 228,
     "metadata": {},
     "output_type": "execute_result"
    }
   ],
   "source": [
    "df3.groupby(['WEEK'])['REVIEW'].count()"
   ]
  },
  {
   "cell_type": "code",
   "execution_count": null,
   "metadata": {},
   "outputs": [],
   "source": []
  },
  {
   "cell_type": "code",
   "execution_count": null,
   "metadata": {},
   "outputs": [],
   "source": []
  },
  {
   "cell_type": "code",
   "execution_count": 160,
   "metadata": {},
   "outputs": [],
   "source": [
    "df3_t0 = df3[df3['WEEK']=='2021-47W']\n",
    "\n",
    "tokenized_list_t0 = []\n",
    "\n",
    "for text in df3_t0['REVIEW']:\n",
    "    tokenized_list_t0.append(tokenize_korean_text(text))\n",
    "    \n",
    "# text가 비어있는 list 제거\n",
    "for text in tokenized_list_t0:\n",
    "    if len(text) <= 0 :\n",
    "        del tokenized_list_t0[tokenized_list_t0.index(text)]\n",
    "\n",
    "bigram_t0 = Phrases(tokenized_list_t0, min_count=4, threshold=10)\n",
    "bigram_mod_t0 = Phraser(bigram)\n",
    "\n",
    "words_bigram_t0 = [bigram_mod[doc] for doc in tokenized_list_t0]\n",
    "\n",
    "corpus_t0 = [dictionary.doc2bow(text) for text in words_bigram_t0]\n",
    "\n",
    "ldamodel_t0 = gensim.models.ldamodel.LdaModel(corpus_t0, id2word=dictionary, \n",
    "                                           num_topics = num_topics,\n",
    "                                           chunksize = chunksize,\n",
    "                                           passes=passes,\n",
    "                                           iterations = iterations)"
   ]
  },
  {
   "cell_type": "code",
   "execution_count": 164,
   "metadata": {},
   "outputs": [
    {
     "data": {
      "text/plain": [
       "[(0, '0.007*\"잘\" + 0.007*\"팩\" + 0.007*\"구\" + 0.007*\"했\"'),\n",
       " (1, '0.016*\"맛\" + 0.013*\"어요\" + 0.011*\"있\" + 0.011*\"아몬드\"'),\n",
       " (2, '0.015*\"어요\" + 0.011*\"우유\" + 0.009*\"먹\" + 0.006*\"요\"'),\n",
       " (3, '0.011*\"맛\" + 0.011*\"때\" + 0.008*\"종이\" + 0.008*\"어요\"'),\n",
       " (4, '0.051*\"좋아요\" + 0.016*\"어요\" + 0.011*\"않고\" + 0.011*\"좋습니다\"'),\n",
       " (5, '0.019*\"맛\" + 0.017*\"좋아요\" + 0.009*\"아침\" + 0.006*\"만족\"'),\n",
       " (6, '0.014*\"맛\" + 0.012*\"생각\" + 0.009*\"합니다\" + 0.009*\"두유\"'),\n",
       " (7, '0.007*\"빨대\" + 0.007*\"종이\" + 0.007*\"구입\" + 0.004*\"맛있네요\"'),\n",
       " (8, '0.009*\"좋아요\" + 0.009*\"맛\" + 0.006*\"시켜\" + 0.006*\"전\"'),\n",
       " (9, '0.015*\"어요\" + 0.012*\"받았\" + 0.012*\"요\" + 0.009*\"고소\"')]"
      ]
     },
     "execution_count": 164,
     "metadata": {},
     "output_type": "execute_result"
    }
   ],
   "source": [
    "topics_t0 = ldamodel_t0.print_topics(num_words=4)\n",
    "topics_t0"
   ]
  },
  {
   "cell_type": "code",
   "execution_count": 165,
   "metadata": {},
   "outputs": [
    {
     "name": "stdout",
     "output_type": "stream",
     "text": [
      "Coherence -11.275135793760864\n",
      "\n",
      "Perplexity:  -7.8511726027067885\n"
     ]
    }
   ],
   "source": [
    "# 평가 수치 확인/출력\n",
    "cm = CoherenceModel(model=ldamodel_t0, corpus=corpus, coherence='u_mass')\n",
    "coherence = cm.get_coherence()\n",
    "print(\"Coherence\",coherence)\n",
    "print('\\nPerplexity: ', ldamodel_t0.log_perplexity(corpus_t0))"
   ]
  },
  {
   "cell_type": "code",
   "execution_count": 166,
   "metadata": {},
   "outputs": [
    {
     "data": {
      "text/html": [
       "\n",
       "<link rel=\"stylesheet\" type=\"text/css\" href=\"https://cdn.rawgit.com/bmabey/pyLDAvis/files/ldavis.v1.0.0.css\">\n",
       "\n",
       "\n",
       "<div id=\"ldavis_el1092825454809585369121740899\"></div>\n",
       "<script type=\"text/javascript\">\n",
       "\n",
       "var ldavis_el1092825454809585369121740899_data = {\"mdsDat\": {\"x\": [-0.09019125932405787, 0.07731770550817614, 0.00035617447696170175, 0.010125314671010474, 0.012786667489438948, 0.014304607385898453, -0.007371180450909398, -0.009838855374311041, -0.0037649821541185322, -0.0037241922280890167], \"y\": [0.06038558460040083, 0.07454878307429971, -0.030790882609021117, -0.010108893704498809, -0.027216803989960403, -0.010905690634758833, -0.017310514820061785, -0.004512612997809209, -0.01705857456713754, -0.01703039435145296], \"topics\": [1, 2, 3, 4, 5, 6, 7, 8, 9, 10], \"cluster\": [1, 1, 1, 1, 1, 1, 1, 1, 1, 1], \"Freq\": [21.24986747403468, 17.670064818166615, 11.718902656750096, 11.196290720068568, 8.400981449713834, 8.214407569790277, 7.7585852136729665, 5.984712582490298, 4.38021976024479, 3.4259677550678713]}, \"tinfo\": {\"Term\": [\"\\uc88b\\uc544\\uc694\", \"\\ub9db\", \"\\uc88b\\uc2b5\\ub2c8\\ub2e4\", \"\\uc0dd\\uac01\", \"\\uc54a\\uace0\", \"\\ubc1b\\uc558\", \"\\uc544\\ubaac\\ub4dc\", \"\\uc788\", \"\\uc885\\uc774\", \"\\uc798\", \"\\ub54c\", \"\\uc694\", \"\\uc544\\uce68\", \"\\uc8fc\\ubb38\", \"\\ud569\\ub2c8\\ub2e4\", \"\\ub3c4\\ucc29\", \"\\ud588\", \"\\uace0\\uc18c\", \"\\uc6b0\\uc720\", \"\\uc5b4\\uc694\", \"\\uad6c\\ub9e4\", \"\\ub2ec\", \"\\ube68\\ub300\", \"\\uba39\", \"\\ub450\\uc720\", \"\\uad6c\\uc785\", \"\\uc800\\ub834\", \"\\uac10\\uc0ac\", \"\\uba39\\uace0\", \"\\ubd24\\ub294\\ub370\", \"\\uae30\\uc0ac\", \"\\uc885\\ub958\", \"\\uc2dc\\uc791\", \"\\uac19\\uc740\", \"\\uc2dc\\uac04\", \"\\ub2e4\\ub978\", \"\\uc6b4\\ub3d9\", \"\\ub538\", \"\\uc18c\", \"\\uc9c4\", \"\\ub4a4\", \"\\uc624\\uae30\", \"\\uae4c\\uc9c0\", \"\\ud55c\\ucc38\", \"\\ud0dd\\ubc30\", \"\\uac00\\uc838\\ub2e4\", \"\\uc8fc\\uc2dc\", \"\\uac78\\ub9ac\\ub124\\uc694\", \"\\uc2dc\\uc2a4\\ud15c\", \"\\uae38\\uc774\", \"\\uc624\\ub798\", \"\\ub0a0\", \"\\ub2d8\", \"\\uba40\\uc5c8\", \"\\ubaa8\\ub974\\uaca0\", \"\\ubc14\\ub85c\", \"\\uc1fc\\ud551\\ubab0\", \"\\uc624\\ub294\", \"\\ub4dc\\ub7ec\\uc6b4\", \"\\ud300\", \"\\ub370\", \"\\ub2e4\\uc774\\uc5b4\\ud2b8\", \"\\uc6b0\\uc720\", \"\\ud558\\ub098\", \"\\uba39\", \"\\uc8fc\\ubb38\", \"\\uad6c\\ub9e4\", \"\\uc624\\ud2b8\", \"\\uc5b4\\uc694\", \"\\uc870\\uae08\", \"\\uc694\", \"\\uc624\\ud2b8\\ubc00\", \"\\ub9e4\\uc77c\", \"\\ubc30\\uc1a1\", \"\\ube68\\ub300\", \"\\uc0dd\\uac01\", \"\\ud569\\ub2c8\\ub2e4\", \"\\ub9db\", \"\\ub450\\uc720\", \"\\uace0\\uc18c\", \"\\uc88b\\uc2b5\\ub2c8\\ub2e4\", \"\\ub3c4\\ucc29\", \"\\ud588\\uc2b5\\ub2c8\\ub2e4\", \"\\uc544\\ud558\", \"\\ucc0c\", \"\\uadf8\\ub7ec\", \"\\uc0c0\", \"\\uc88b\\uc544\\uc694\", \"\\uc800\\ub834\", \"\\uc54a\\uace0\", \"\\ud558\\uac8c\", \"\\ud504\\ub77d\\ud1a0\", \"\\uc88b\\uc558\\uad6c\\uc694\", \"\\uba74\", \"\\uc801\", \"\\ud560\", \"\\uc62c\\ub9ac\\uace0\\ub2f9\", \"\\uc218\\uc785\", \"\\ube44\\uc2f8\\uc11c\", \"\\ubc18\\uc801\", \"\\ubaa9\", \"\\uc774\\ub098\", \"\\uba39\\uc73c\\uba74\", \"\\uae54\\ub054\\ud568\\uc740\", \"\\uae40\\uc774\\ub098\", \"\\ube44\\uc2b7\\ud55c\\ub370\", \"\\ub0b8\\uac83\\ub3c4\", \"\\ucd5c\\uadfc\", \"\\ud588\\ub2f5\\ub2c8\\ub2e4\", \"\\uc774\\ub0b4\", \"\\uc785\\ub2c8\\ub2e4\", \"\\ub4e4\", \"\\ub2ec\", \"\\uc88b\", \"\\uc9c0\\uc9c0\", \"\\uac83\", \"\\uc81c\\ud488\", \"\\uc2dd\\uc0ac\", \"\\uc798\", \"\\ub118\", \"\\uc88b\\uc740\", \"\\ub300\\uc6a9\", \"\\uad7f\", \"\\uc5b4\\uc694\", \"\\uc624\\ud2b8\\ubc00\", \"\\ub9e4\\uc77c\", \"\\ub450\\uc720\", \"\\ub9db\", \"\\uc0dd\\uac01\", \"\\uace0\\uc18c\", \"\\uac10\\uc0ac\", \"\\ube60\\ub978\", \"\\ub9db\\uc788\\ub124\\uc694\", \"\\ub54c\", \"\\ud558\\ub2c8\", \"\\uad1c\\ucc2e\\uace0\", \"\\ub098\\ub294\\uac83\", \"\\ub0c4\\uc0c8\", \"\\ub35c\\ud569\\ub2c8\\ub2e4\", \"\\ub8e8\", \"\\uba39\\uc73c\\ub2c8\", \"\\ub300\\ub85c\", \"\\uc544\\uc9c1\", \"\\uc54a\\ub294\", \"\\uc774\\ube68\", \"\\uc775\\uc219\", \"\\uc77c\\ubc18\", \"\\uc885\", \"\\uc88b\\uc740\\ub370\", \"\\ud314\", \"\\uba3c\\uc9c0\", \"\\ud558\\uc138\\uc694\", \"\\ubc88\\ucc3d\", \"\\ub9c8\\uc168\\uc2b5\\ub2c8\\ub2e4\", \"\\ucca8\", \"\\ub3c4\", \"\\uc548\", \"\\uac19\\uc558\\ub294\\ub370\", \"\\uc544\\ubb34\", \"\\uc2ec\\uc2ec\", \"\\ub098\\ub294\\uac70\", \"\\ub77c\\ub5bc\", \"\\uc885\\uc774\", \"\\uad7f\", \"\\ud588\", \"\\ud569\\ub2c8\\ub2e4\", \"\\uace0\\uc18c\", \"\\ub9db\", \"\\uac74\\uac15\", \"\\uc544\\uce68\", \"\\ubc30\\uc1a1\", \"\\ube68\\ub300\", \"\\uc0dd\\uac01\", \"\\uc5b4\\uc694\", \"\\ub300\\uc6a9\", \"\\uad6c\\uc785\", \"\\uac70\", \"\\uc2dd\\uc0ac\", \"\\uba39\\uc744\", \"\\ub109\", \"\\ud558\\uc9c0\", \"\\uac19\\uace0\", \"\\uc544\\uc8fc\", \"\\ub2e8\", \"\\ubc00\\ud06c\", \"\\ucd5c\\uace0\", \"\\uc788\", \"\\uc544\\ubaac\\ub4dc\", \"\\uac15\\ud558\", \"\\uad1c\\ucc2e\\uc558\", \"\\ud141\\ud141\", \"\\uc5b4\\uc11c\", \"\\uace0\\uc694\", \"\\ub290\\uaef4\", \"\\ub290\\uaef4\\uc84c\\ub294\\ub370\", \"\\ub2e8\\ubc31\\uc9c8\", \"\\ub9db\\ub098\\uc6a4\", \"\\uac00\\uba74\", \"\\uc5b4\\ub3c4\", \"\\ub4e4\\uc5b4\", \"\\ud0c0\", \"\\ud30c\\uc6b0\\ub354\", \"\\uac70\\ubd80\", \"\\uba39\\ub294\\ub370\", \"\\uac10\", \"\\uc54a\\uad6c\\uc694\", \"\\ubc25\", \"\\uc2e0\\ub791\", \"\\uc74d\\ub2c8\", \"\\uc88b\\uc778\\uc694\", \"\\uc838\\uc694\", \"\\uc0c0\\ub294\\ub370\", \"\\ud6a8\\uacfc\", \"\\uc0b4\\ube7c\", \"\\uba39\\uace0\", \"\\ub9db\", \"\\uc5b4\\uc694\", \"\\uac74\\uac15\", \"\\uace0\\uc18c\", \"\\uc798\", \"\\uc54a\\uc544\\uc11c\", \"\\uc5c6\", \"\\uc624\\ud2b8\", \"\\uc870\\uae08\", \"\\uba39\", \"\\ud06c\\uac8c\", \"\\uba39\\uae30\", \"\\ub300\\uc6a9\", \"\\uac00\\ubccd\\uac8c\", \"\\ubc0d\\ubc0d\", \"\\uc88b\\ub124\\uc694\", \"\\ub2ec\", \"\\uc6b0\\uc720\", \"\\uc81c\", \"\\uae54\", \"\\ub054\", \"\\ub9cc\\uc871\", \"\\ud55c\\ub3d9\", \"\\uc6c0\\uc9c1\", \"\\uc653\\ub124\", \"\\uc548\\uc548\", \"\\uc1a1\\uc7a5\", \"\\ubd88\\ub9cc\\uc871\", \"\\ub728\", \"\\uace0\\ub3c4\", \"\\uaca8\\uc6b0\", \"\\ub098\\uc11c\", \"\\uba39\\uaca0\", \"\\ub300\\uc694\", \"\\uce5c\\uad6c\", \"\\ubabb\", \"\\uba39\\uae34\", \"\\ub9db\\uc788\\uac8c\", \"\\uc88b\\uc744\\uac83\", \"\\ub9cc\\ud574\", \"\\ud568\\ub7c9\", \"\\ub192\\uc544\\uc694\", \"\\ub2dd\\ub2dd\\ud558\", \"\\uce7c\\uc298\", \"\\ub098\\uac11\\ub2c8\\ub2e4\", \"\\uba39\\uc744\\uac8c\\uc694\", \"\\uc624\", \"\\ub098\\uac8c\", \"\\ub385\", \"\\uc0c0\\ub294\", \"\\ub9c8\\ub2e4\", \"\\uc544\\uce68\", \"\\ud588\\ub294\\ub370\", \"\\ub9db\", \"\\uc88b\\uc544\\uc694\", \"\\ud569\\ub2c8\\ub2e4\", \"\\ubc30\\uc1a1\", \"\\uac19\\uc544\\uc694\", \"\\uac00\\uaca9\", \"\\uace0\\ub9d9\\uc2b5\\ub2c8\\ub2e4\", \"\\uc138\\ud2b8\", \"\\uc5ed\\uc2dc\", \"\\uad1c\\ucc2e\\uc544\\uc11c\", \"\\uad7f\\uad7f\", \"\\uc2dc\\ucf30\", \"\\uc800\\ubc88\", \"\\uc55e\", \"\\ub9db\\uc788\\ub294\\ub370\", \"\\uc2dd\\uc774\\uc12c\\uc720\", \"\\uc790\\uc8fc\", \"\\ub531\\uc785\\ub2c8\\ub2f9\", \"\\ud588\\uc744\", \"\\ube44\\uad50\", \"\\uc880\", \"\\uc5c6\\uace0\", \"\\ud655\\uc2e4\", \"\\ub098\\uba74\", \"\\uc88b\\uc544\\uc11c\", \"\\ub2e4\\uc74c\", \"\\ubd80\\ub2f4\", \"\\ub07c\\ub2c8\", \"\\uba39\\uc744\\uc218\\uc788\\uc5b4\", \"\\uc2fc\", \"\\uc0b0\\uac70\", \"\\uac19\\uc544\\uc6a9\", \"\\uc624\\uace0\", \"\\uc6b4\", \"\\uc0ac\\uc90c\", \"\\ub3d9\\uc0dd\", \"\\uc2dc\\ucf1c\", \"\\ud558\\ub8e8\", \"\\uc804\", \"\\uc608\\uc815\", \"\\uc544\\uce68\", \"\\ub9db\", \"\\uc88b\\uc544\\uc694\", \"\\uc5b4\\uc694\", \"\\uba39\", \"\\uc5b4\\ubcf4\", \"\\ub2e8\\ub9db\", \"\\ubc0d\\ubc0d\", \"\\uc54a\\uace0\", \"\\uba39\\uc744\", \"\\uc785\\ub2c8\\ub2e4\", \"\\ubd88\\ud3b8\", \"\\ud558\\uc9c0\", \"\\uba39\\ub294\", \"\\ub2ec\\ub2ec\", \"\\uc624\\ud2b8\", \"\\ub300\\uc6a9\", \"\\uc774\\uc81c\", \"\\uac19\\ub124\\uc694\", \"\\ubb3c\\ud0c4\", \"\\ud070\", \"\\uc88b\\uc558\\uaca0\", \"\\uc815\\ucc29\", \"\\ubab8\", \"\\ub420\\uac83\", \"\\ub109\\ub109\\ud558\\uad6c\\uc694\", \"\\uc774\\uc5c8\\uc73c\\uba74\", \"\\ub9cc\", \"\\uc18d\\uc774\", \"\\ubc30\\uace0\\ud50c\", \"\\uba39\\uc74c\", \"\\uc18d\", \"\\uc774\\ud3b8\", \"\\uc88b\\uad6c\\uc694\", \"\\ud504\\ub85c\", \"\\ud588\\uc2a8\\ub370\", \"\\uc74c\", \"\\ub9f9\\ubb3c\", \"\\ub2f4\\ubc31\\ud55c\", \"\\ud560\\uac83\", \"\\uc544\\ud0c0\", \"\\ubd24\\ub294\\ub370\", \"\\uadf8\\ub0e5\", \"\\ubc14\\uafd4\", \"\\ubd88\\ud3b8\", \"\\uad1c\\ucc2e\\uc544\\uc694\", \"\\uc88b\\ub124\\uc694\", \"\\uc0dd\\uac01\", \"\\ud569\\ub2c8\\ub2e4\", \"\\ub450\\uc720\", \"\\ub9db\", \"\\uc870\\uae08\", \"\\uace0\\uc18c\", \"\\uc694\", \"\\ub2ec\", \"\\uba39\\uace0\", \"\\ub2e8\\ub9db\", \"\\uc6b0\\uc720\", \"\\uc5c6\", \"\\uba39\\uc744\", \"\\uc624\\ud2b8\\ubc00\", \"\\uc2dc\\ucf1c\", \"\\ubc1b\\uc558\", \"\\ud574\", \"\\ube44\\uc2b7\\ud574\\uc694\", \"\\uc0ac\\ub2e4\", \"\\uc790\", \"\\uc8fc\\uba39\", \"\\uc57d\\uac04\", \"\\uad1c\\ucc2e\", \"\\ubc31\", \"\\uc1fc\\ud551\", \"\\uc88b\\uaca0\\uc8e0\", \"\\ub824\\uad6c\", \"\\ucd94\\uac00\", \"\\ub7f0\\uce6d\\ub54c\", \"\\uc601\\uc591\\uac00\", \"\\ub9db\\uc788\\uace0\", \"\\uc788\\uace0\", \"\\ub9e4\\ubc88\", \"\\uc5ec\", \"\\uc544\\uc8fc\", \"\\uba39\\uc744\\ub9cc\", \"\\ucc98\\uc74c\", \"\\uac70\\uc758\", \"\\ub9cc\\uc871\", \"\\ubd24\\ub294\\ub370\", \"\\uc694\", \"\\ud558\\ub2c8\", \"\\ub2f4\", \"\\ud558\\uac8c\", \"\\uc5b4\\ubcf4\", \"\\uc8fc\\ubb38\", \"\\uad6c\\ub9e4\", \"\\uace0\\uc18c\", \"\\uc5b4\\uc694\", \"\\ub450\\uc720\", \"\\ud588\", \"\\ub2e8\\ub9db\", \"\\uc800\\ub834\", \"\\ud329\", \"\\uad6c\", \"\\ubd80\\ub4dc\\ub7fd\\uace0\", \"\\uc77c\\ub2e8\", \"\\ub9db\\uc788\\ub2e4\", \"\\ub9e4\\ud558\", \"\\uc74c\\ubc88\", \"\\ubd80\\ub4dc\\ub7fd\\ub2e4\", \"\\uc0ac\\uc57c\\uaca0\\ub2e4\", \"\\ub9de\\uc544\\uc694\", \"\\ud560\\uac70\", \"\\ub9e4\\uc785\", \"\\ubc1b\\uc558\\uc2b5\\ub2c8\\ub2e4\", \"\\ub450\\ubc88\\uc9f8\", \"\\uac80\\uc740\", \"\\ucf69\", \"\\ub824\\uace0\", \"\\uc785\\ub9db\", \"\\uc2f8\\uac8c\", \"\\ub054\", \"\\uae54\", \"\\ud588\", \"\\uad6c\\uc785\", \"\\uc81c\", \"\\ub2f4\", \"\\uac19\\uc544\\uc694\", \"\\uc5b4\\ubcf4\", \"\\ud588\\ub294\\ub370\", \"\\uc798\", \"\\uc8fc\\ubb38\", \"\\uc5b4\\uc694\", \"\\uba39\", \"\\uace0\\uc18c\", \"\\ud50c\\ub77c\\uc2a4\\ud2f1\", \"\\uc4f0\", \"\\uc6ec\\uc77c\", \"\\uc9c8\\ub824\\uc11c\", \"\\uba78\\uade0\", \"\\ub610\", \"\\ud560\\uac8c\\uc694\", \"\\uad6c\\uc785\", \"\\ub450\\ubc88\\uc9f8\", \"\\ubc14\\uafd4\", \"\\ub9e4\\uc77c\\uc720\\uc5c5\", \"\\ub2e4\\uac00\", \"\\ub354\\ub2c8\", \"\\ub9db\\uc788\\ub124\\uc694\", \"\\ubd24\\ub294\\ub370\", \"\\uc885\\uc774\", \"\\ub2f4\", \"\\ube68\\ub300\", \"\\uc624\\ud2b8\", \"\\ub2ec\", \"\\ub824\", \"\\uaf08\\ub294\\ub370\", \"\\ub8f0\", \"\\ubd80\\ub300\", \"\\uc8a0\", \"\\uac89\\ub3c4\", \"\\ub05d\\ub098\\ub294\", \"\\ub4e4\\uac70\", \"\\uc601\\uc591\\uba74\", \"\\uacc1\", \"\\uc54a\\uace0\", \"\\uc740\\uc9c0\", \"\\uc0ac\\ubb34\\uc2e4\", \"\\uba39\", \"\\uba39\\uc744\\uc904\", \"\\uc5c6\\uc5b4\\uc84c\", \"\\uc6b0\\uc720\", \"\\uace0\\ub9d9\\uc2b5\\ub2c8\\ub2e4\", \"\\uc9c1\\uc6d0\", \"\\ub054\", \"\\uae54\", \"\\uc88b\\uc544\\uc694\", \"\\ub9db\", \"\\ub4e0\"], \"Freq\": [11.0, 8.0, 2.0, 2.0, 2.0, 1.0, 1.0, 1.0, 2.0, 3.0, 1.0, 3.0, 2.0, 2.0, 3.0, 1.0, 1.0, 3.0, 3.0, 9.0, 2.0, 2.0, 2.0, 3.0, 3.0, 0.0, 1.0, 1.0, 2.0, 0.0, 1.3106386176626887, 1.31063795616585, 0.887840645148184, 0.887840645148184, 0.887840645148184, 0.8878403616495387, 0.8878401726504419, 0.8878401726504419, 0.8878398891517968, 0.8878398891517968, 0.4650375696580654, 0.4650375224082912, 0.4650375224082912, 0.4650375224082912, 0.4650375224082912, 0.4650375224082912, 0.4650375224082912, 0.4650375224082912, 0.4650375224082912, 0.4650375224082912, 0.4650375224082912, 0.4650375224082912, 0.4650375224082912, 0.4650375224082912, 0.4650375224082912, 0.4650375224082912, 0.4650375224082912, 0.4650375224082912, 0.4650374279087428, 0.4650374279087428, 1.3106386176626887, 0.8878415901436679, 2.1562506276149267, 0.8878424406396036, 1.733462294054359, 1.3106478786184321, 1.3106400351559149, 1.310642208645528, 3.001861314573487, 0.8878560485745733, 1.3106609195561116, 0.887838282659474, 0.8878360146703123, 0.8878513235971534, 0.8878427241382488, 0.8878345026775378, 0.887858316563735, 1.3106162212697177, 0.8878492446070885, 0.8878299666992145, 1.8966929389786964, 1.5253721131219313, 1.1534061460217375, 0.7813311099756391, 0.7813301670164526, 0.7813301670164526, 0.7813291454773339, 8.594768094783428, 1.1534026099247883, 1.8974469920081654, 0.7813300098565882, 0.4092506519142183, 0.4092506519142183, 0.4092506519142183, 0.4092506519142183, 0.4092506519142183, 0.4092506519142183, 0.4092506519142183, 0.4092506519142183, 0.4092506519142183, 0.4092506519142183, 0.4092506519142183, 0.4092506519142183, 0.4092506519142183, 0.4092506519142183, 0.4092506519142183, 0.4092506519142183, 0.40925029830452336, 0.40925029830452336, 0.40925029830452336, 0.7813288311576051, 0.40925029830452336, 1.525339581029997, 0.7813316600351645, 0.7813302455963849, 0.7813293026371984, 0.7813297741167916, 0.7813267880793676, 1.831020546435111, 0.7813293812171305, 0.7813274952987576, 1.1534103893380767, 0.7813192444058756, 2.621350944566949, 0.7813322886746222, 0.7813335459535375, 0.7813385750691989, 0.957897074449919, 0.449317027038443, 0.45286856494448574, 0.8659438018978012, 0.595982957717483, 0.6061301637911395, 1.183448493169667, 0.6061444953406326, 0.31749161047578306, 0.31749161047578306, 0.31749161047578306, 0.31749161047578306, 0.31749161047578306, 0.31749161047578306, 0.31749161047578306, 0.31749161047578306, 0.31749161047578306, 0.31749161047578306, 0.31749161047578306, 0.31749161047578306, 0.31749161047578306, 0.31749161047578306, 0.31749161047578306, 0.31749161047578306, 0.31749108932852876, 0.31749108932852876, 0.31749106327116605, 0.31749054212391176, 0.31749054212391176, 0.31749054212391176, 0.31749054212391176, 0.31749054212391176, 0.31749054212391176, 0.31749054212391176, 0.6061417853749103, 0.8947998295975773, 0.6061404303920491, 0.6061579930545188, 0.8659448963070352, 0.8947903447175491, 1.1834597499503599, 0.6061527294672504, 0.6061476743388838, 0.5959846253886968, 0.6061482997155889, 0.6061441305375546, 0.8947955561900921, 0.3174941119826037, 0.3174936168927121, 0.3174927048850171, 0.3174924964261154, 0.3174922879672136, 0.31749207950831193, 0.3174917147052339, 0.3174917407625966, 0.3174915062463322, 0.5908911695865403, 0.5908907712614522, 0.5908905223082721, 1.153667857383318, 1.1536652682702448, 0.3095028754787876, 0.3095028754787876, 0.3095028754787876, 0.3095028256881515, 0.3095028256881515, 0.3095028256881515, 0.3095028256881515, 0.3095027012115615, 0.3095027012115615, 0.3095027012115615, 0.3095027012115615, 0.3095027012115615, 0.3095027012115615, 0.3095027012115615, 0.3095027012115615, 0.3095027012115615, 0.3095027012115615, 0.3095026016302895, 0.3095026016302895, 0.3095026016302895, 0.3095026016302895, 0.3095026016302895, 0.3095021286192473, 0.3095021286192473, 0.3095021037239293, 0.3095021037239293, 0.8722868327084237, 1.7164682455228397, 1.4350864241977692, 0.5908993850414832, 0.5909006298073836, 0.5909042147331769, 0.3095064106139448, 0.30950601228885666, 0.30950491689486426, 0.3095047675229562, 0.3095044438838221, 0.3095044189885041, 0.3095038961868259, 0.3095035725476918, 0.30950367212896385, 0.3095035725476918, 0.30950349786173775, 0.3095031991179217, 0.3095029999553776, 0.3095028256881515, 0.4703886762230534, 0.470388564143914, 0.4708006791395788, 0.24659846526742146, 0.24659846526742146, 0.24659846526742146, 0.24659846526742146, 0.24659846526742146, 0.24659846526742146, 0.24659846526742146, 0.24659846526742146, 0.24659846526742146, 0.24659822242928603, 0.24659822242928603, 0.24659822242928603, 0.24659822242928603, 0.24659822242928603, 0.24659822242928603, 0.24659822242928603, 0.24659809167029004, 0.24659809167029004, 0.2465980543105769, 0.2465980543105769, 0.2465980543105769, 0.2465980543105769, 0.24659706427817865, 0.2465965786019078, 0.2465965786019078, 0.2465965786019078, 0.2465965786019078, 0.2465965786019078, 0.47079548613945216, 0.6949909379035308, 0.47079339399551623, 1.5323858943888367, 1.3674768329271294, 0.2610822282970032, 0.246599660778242, 0.246599530019246, 0.24659923114154086, 0.45759784396865627, 0.24377503759350122, 0.24377503759350122, 0.24377501932849777, 0.24377501932849777, 0.24377501932849777, 0.24377501932849777, 0.24377501932849777, 0.24377463576342517, 0.24377463576342517, 0.24377463576342517, 0.24377461749842172, 0.2437743252583664, 0.2437743252583664, 0.2437743252583664, 0.2437743252583664, 0.24377419740334222, 0.24377419740334222, 0.24377419740334222, 0.24377414260833186, 0.24377286405808987, 0.24377286405808987, 0.24377286405808987, 0.24377284579308642, 0.24377284579308642, 0.24377284579308642, 0.24377213345795162, 0.24377209692794471, 0.24377209692794471, 0.24377209692794471, 0.46540514663615873, 0.24377209692794471, 0.4654049274561172, 0.4654049274561172, 0.46540196852555726, 0.6870202783759818, 0.6870505982817197, 0.46538695469271596, 0.24377682756383995, 0.24377640746876045, 0.24377602390368788, 0.24377532983355651, 0.24377531156855306, 0.2437752202435358, 0.2437752202435358, 0.24377492800348047, 0.2437749645334874, 0.24377481841345974, 0.24377485494346665, 0.2437747453534459, 0.24377472708844244, 0.4488147666892664, 0.4488146976833961, 0.2350857657431336, 0.2350857657431336, 0.2350857657431336, 0.2350857657431336, 0.2350857657431336, 0.2350857657431336, 0.2350857657431336, 0.2350857657431336, 0.2350857657431336, 0.2350857657431336, 0.23508493767269056, 0.23508493767269056, 0.23508493767269056, 0.23508493767269056, 0.23508493767269056, 0.23508457539187172, 0.23508436837426094, 0.23508436837426094, 0.23508436837426094, 0.23508431661985826, 0.23508400609344213, 0.23508400609344213, 0.4488161468066715, 0.4488112818928185, 0.23508393708757186, 0.235085869251939, 0.2350846271462744, 0.23508409235077993, 0.8532187353997358, 0.662567936941456, 0.6625408176344457, 1.0450733412646165, 0.2350898198380111, 0.2350889227616978, 0.2350888710072951, 0.23508790492511153, 0.2350868698370577, 0.23508671457384964, 0.2350864903047713, 0.23508655931064157, 0.2350863867959659, 0.23508564498286066, 0.23508555872552286, 0.7059426395843127, 0.1893896953872166, 0.1893896953872166, 0.1893896687728089, 0.18938940262873197, 0.18938940262873197, 0.18938926955669352, 0.18938926955669352, 0.18938881711176275, 0.18938881711176275, 0.1893884578172589, 0.1893884578172589, 0.1893884578172589, 0.1893884578172589, 0.1893869274888166, 0.18938477172179355, 0.3615730963582512, 0.18938970869442043, 0.18938962885119737, 0.18938901671982045, 0.18938962885119737, 0.18938985507366274, 0.1893896687728089, 0.18937899639532435, 0.18938875057574353, 0.691714790147364, 0.18938817836597813, 0.18938338777259356, 0.18938899010541274, 0.18938655488710893, 0.3615726705277281, 0.3615770352905896, 0.5135620969038781, 0.8781360475726394, 0.3615786587694588, 0.18939069342750506, 0.18939037405461273, 0.18938916309906276, 0.2813395689576604, 0.28133925729168713, 0.14736367807550832, 0.14736367807550832, 0.14736367807550832, 0.14736367807550832, 0.14736367807550832, 0.14736367807550832, 0.14736367807550832, 0.1473633566699734, 0.1473629281292602, 0.1473629281292602, 0.14735399695121404, 0.14736303526443847, 0.14736348328427504, 0.14736348328427504, 0.14736383390849495, 0.1473632495347951, 0.14736343458646672, 0.14736340536778172, 0.1473633858886584, 0.281319330148522, 0.14736080490481737, 0.14736315213917844, 0.147365022135018, 0.14736337614909673, 0.1473645351569348, 0.1473639605227966, 0.30531636342540347, 0.14736005495856921, 0.15468424428835092, 0.14736468125035976, 0.1473644767195648, 0.11954613852818627, 0.11954613852818627, 0.11954613852818627, 0.11954613852818627, 0.11954613852818627, 0.11952958515489047, 0.11952956991938812, 0.22822505223856243, 0.11954520916254334, 0.11954646609148664, 0.11954686221454756, 0.1195463442074679, 0.11954615376368861, 0.11954783728669753, 0.11954611567493276, 0.22823329464533007, 0.11954563575660895, 0.22823413259795894, 0.11954716692459443, 0.1195425658028868, 0.010868399855928319, 0.010868399855928319, 0.010868399855928319, 0.010868399855928319, 0.010868399855928319, 0.010868399855928319, 0.010868399855928319, 0.010868399855928319, 0.010868399855928319, 0.010868399855928319, 0.11954186496977902, 0.010868399855928319, 0.010868399855928319, 0.11954746401689012, 0.010868399855928319, 0.010868399855928319, 0.11954624517670268, 0.014691895810645193, 0.010868399855928319, 0.011062444927083716, 0.011062383985074344, 0.010906874260439188, 0.010903279634105107, 0.010868399855928319], \"Total\": [11.0, 8.0, 2.0, 2.0, 2.0, 1.0, 1.0, 1.0, 2.0, 3.0, 1.0, 3.0, 2.0, 2.0, 3.0, 1.0, 1.0, 3.0, 3.0, 9.0, 2.0, 2.0, 2.0, 3.0, 3.0, 0.0, 1.0, 1.0, 2.0, 0.0, 1.512288279149444, 1.5122876176526054, 1.089490306634939, 1.089490306634939, 1.089490306634939, 1.0894900231362938, 1.089489834137197, 1.089489834137197, 1.089489550638552, 1.089489550638552, 0.6666872311448208, 0.6666871838950466, 0.6666871838950466, 0.6666871838950466, 0.6666871838950466, 0.6666871838950466, 0.6666871838950466, 0.6666871838950466, 0.6666871838950466, 0.6666871838950466, 0.6666871838950466, 0.6666871838950466, 0.6666871838950466, 0.6666871838950466, 0.6666871838950466, 0.6666871838950466, 0.6666871838950466, 0.6666871838950466, 0.6666870893954981, 0.6666870893954981, 1.8843308052042143, 1.3032016964667577, 3.3336758586119655, 1.3136693877299226, 3.0770640518523376, 2.3626585493005074, 2.3668791478766704, 2.4959755063923805, 9.94381038977866, 1.808746391820004, 3.530431174047312, 2.0473257211899587, 2.1222358165735864, 2.480501085570835, 2.8249979864286465, 2.910740568062517, 3.184524361702753, 8.646620244064236, 3.5535585793647777, 3.7778555877094355, 2.1039253817589127, 1.7321316764494497, 1.3601279259372245, 0.9880528898911264, 0.9880519469319399, 0.9880519469319399, 0.9880509253928211, 11.092882643552544, 1.5322952975477113, 2.723150222648017, 1.160222513968046, 0.6159724318297055, 0.6159724318297055, 0.6159724318297055, 0.6159724318297055, 0.6159724318297055, 0.6159724318297055, 0.6159724318297055, 0.6159724318297055, 0.6159724318297055, 0.6159724318297055, 0.6159724318297055, 0.6159724318297055, 0.6159724318297055, 0.6159724318297055, 0.6159724318297055, 0.6159724318297055, 0.6159720782200105, 0.6159720782200105, 0.6159720782200105, 1.209663110369292, 0.6159720782200105, 2.6245248923510993, 1.2694174144446246, 1.269416398330933, 1.2694154055811107, 1.2766776128422135, 1.276676294476003, 3.8253639332587315, 1.4108093434310236, 1.4108071267642315, 2.3759092391588843, 1.5653166969496606, 9.94381038977866, 2.0473257211899587, 2.1222358165735864, 3.5535585793647777, 8.646620244064236, 2.910740568062517, 3.7778555877094355, 1.1015767438272126, 0.8171050777240167, 0.9298740828070728, 1.8338305159277606, 0.9933788756977132, 0.5325560783763276, 0.5325560783763276, 0.5325560783763276, 0.5325560783763276, 0.5325560783763276, 0.5325560783763276, 0.5325560783763276, 0.5325560783763276, 0.5325560783763276, 0.5325560783763276, 0.5325560783763276, 0.5325560783763276, 0.5325560783763276, 0.5325560783763276, 0.5325560783763276, 0.5325560783763276, 0.5325555572290732, 0.5325555572290732, 0.5325555311717105, 0.5325550100244563, 0.5325550100244563, 0.5325550100244563, 0.5325550100244563, 0.5325550100244563, 0.5325550100244563, 0.5325550100244563, 1.1025704767226077, 2.0464740541039497, 1.5653166969496606, 1.6840643880176034, 3.184524361702753, 3.7778555877094355, 8.646620244064236, 2.203058657560326, 2.218384927039459, 2.480501085570835, 2.8249979864286465, 2.910740568062517, 9.94381038977866, 2.3759092391588843, 0.8838828682083852, 0.904595966293552, 1.276676294476003, 1.1920602475596145, 0.7567259647497857, 0.7541684261919299, 0.8139203574243402, 0.7047267249572551, 0.8066819545629613, 0.8066815562378732, 0.8066813072846931, 1.7414912280530848, 1.7922064393323287, 0.5252936604552086, 0.5252936604552086, 0.5252936604552086, 0.5252936106645726, 0.5252936106645726, 0.5252936106645726, 0.5252936106645726, 0.5252934861879826, 0.5252934861879826, 0.5252934861879826, 0.5252934861879826, 0.5252934861879826, 0.5252934861879826, 0.5252934861879826, 0.5252934861879826, 0.5252934861879826, 0.5252934861879826, 0.5252933866067105, 0.5252933866067105, 0.5252933866067105, 0.5252933866067105, 0.5252933866067105, 0.5252929135956683, 0.5252929135956683, 0.5252928887003503, 0.5252928887003503, 2.1703294878174546, 8.646620244064236, 9.94381038977866, 2.203058657560326, 3.7778555877094355, 3.8253639332587315, 0.8973258522871014, 1.161752397269174, 2.4959755063923805, 1.808746391820004, 3.0770640518523376, 0.8973321508445087, 1.3200915311399368, 2.3759092391588843, 0.7390054884916165, 1.1696556515041252, 0.7390056765052092, 2.6245248923510993, 3.3336758586119655, 1.0313022868189636, 0.8260583904035317, 0.8260583570821245, 0.8644711993273573, 0.46810824199587964, 0.46810824199587964, 0.46810824199587964, 0.46810824199587964, 0.46810824199587964, 0.46810824199587964, 0.46810824199587964, 0.46810824199587964, 0.46810824199587964, 0.46810799915774415, 0.46810799915774415, 0.46810799915774415, 0.46810799915774415, 0.46810799915774415, 0.46810799915774415, 0.46810799915774415, 0.4681078683987482, 0.4681078683987482, 0.4681078310390351, 0.4681078310390351, 0.4681078310390351, 0.4681078310390351, 0.4681068410066368, 0.46810635533036593, 0.46810635533036593, 0.46810635533036593, 0.46810635533036593, 0.46810635533036593, 0.9736691128852932, 2.218384927039459, 1.2490285408128312, 8.646620244064236, 11.092882643552544, 3.184524361702753, 2.480501085570835, 1.187821903071832, 1.0617623468280046, 0.6831878682230429, 0.4655415544916768, 0.4655415544916768, 0.46554153622667327, 0.46554153622667327, 0.46554153622667327, 0.46554153622667327, 0.46554153622667327, 0.4655411526616007, 0.4655411526616007, 0.4655411526616007, 0.4655411343965973, 0.4655408421565419, 0.4655408421565419, 0.4655408421565419, 0.4655408421565419, 0.4655407143015178, 0.4655407143015178, 0.4655407143015178, 0.46554065950650736, 0.46553938095626546, 0.46553938095626546, 0.46553938095626546, 0.46553936269126195, 0.46553936269126195, 0.46553936269126195, 0.4655386503561272, 0.4655386138261203, 0.4655386138261203, 0.4655386138261203, 0.9008845235761277, 0.4655386138261203, 1.0592143240187577, 1.0592143240187577, 2.218384927039459, 8.646620244064236, 11.092882643552544, 9.94381038977866, 3.0770640518523376, 1.1944344175806942, 1.6462112669877653, 1.1696556515041252, 2.723150222648017, 1.1920602475596145, 1.209663110369292, 0.6792546154698655, 0.7541684261919299, 0.7541666905727767, 0.8375828763572938, 2.4959755063923805, 2.3759092391588843, 0.6713713058510483, 0.6713712368451781, 0.4576423049049156, 0.4576423049049156, 0.4576423049049156, 0.4576423049049156, 0.4576423049049156, 0.4576423049049156, 0.4576423049049156, 0.4576423049049156, 0.4576423049049156, 0.4576423049049156, 0.45764147683447254, 0.45764147683447254, 0.45764147683447254, 0.45764147683447254, 0.45764147683447254, 0.4576411145536537, 0.4576409075360429, 0.4576409075360429, 0.4576409075360429, 0.4576408557816402, 0.4576405452552241, 0.4576405452552241, 0.9522208864537595, 1.0434118500261729, 0.5663185424849122, 0.6792546154698655, 0.739004144989309, 0.7390056765052092, 2.910740568062517, 3.184524361702753, 3.5535585793647777, 8.646620244064236, 1.808746391820004, 3.7778555877094355, 3.530431174047312, 2.6245248923510993, 2.1703294878174546, 1.6462112669877653, 3.3336758586119655, 1.161752397269174, 1.1920602475596145, 2.0473257211899587, 0.9008845235761277, 1.1568283666837793, 0.416100667323286, 0.416100667323286, 0.4161006407088783, 0.41610037456480137, 0.41610037456480137, 0.4161002414927629, 0.4161002414927629, 0.4160997890478322, 0.4160997890478322, 0.4160994297533283, 0.4160994297533283, 0.4160994297533283, 0.4160994297533283, 0.416097899424886, 0.416095750005122, 0.9603270265387179, 0.6377125406515688, 0.640277774311691, 0.7047267249572551, 0.7881434804517319, 0.838857072067396, 0.8388581142606714, 0.8644711993273573, 0.9522208864537595, 3.530431174047312, 0.9933788756977132, 1.0814977013007507, 1.160222513968046, 1.1944344175806942, 2.3626585493005074, 2.3668791478766704, 3.7778555877094355, 9.94381038977866, 3.5535585793647777, 1.6840643880176034, 1.6462112669877653, 1.5322952975477113, 0.5118713725739871, 0.5118710609080138, 0.377895481691835, 0.377895481691835, 0.377895481691835, 0.377895481691835, 0.377895481691835, 0.377895481691835, 0.377895481691835, 0.37789516028630005, 0.37789473174558685, 0.37789473174558685, 0.377885813986934, 0.4865716481873802, 0.602073506496994, 0.602073506496994, 0.6592590145311624, 0.6592594259701829, 0.8006443957943272, 0.8260583570821245, 0.8260583904035317, 1.6840643880176034, 0.8838828682083852, 1.0313022868189636, 1.0814977013007507, 1.187821903071832, 1.1944344175806942, 1.2490285408128312, 3.8253639332587315, 2.3626585493005074, 9.94381038977866, 3.0770640518523376, 3.7778555877094355, 0.3526069765177694, 0.3526069765177694, 0.3526069765177694, 0.3526069765177694, 0.3526069765177694, 0.3526022778484498, 0.35260226261294747, 0.8838828682083852, 0.4865716481873802, 0.5663185424849122, 0.7246440970241887, 0.7753630492565213, 0.7753649378028068, 0.9298740828070728, 0.9522208864537595, 2.0464740541039497, 1.0814977013007507, 2.8249979864286465, 2.4959755063923805, 2.6245248923510993, 0.24392923784551143, 0.24392923784551143, 0.24392923784551143, 0.24392923784551143, 0.24392923784551143, 0.24392923784551143, 0.24392923784551143, 0.24392923784551143, 0.24392923784551143, 0.24392923784551143, 2.723150222648017, 0.24392923784551143, 0.24392923784551143, 3.0770640518523376, 0.24392923784551143, 0.24392923784551143, 3.3336758586119655, 0.6831878682230429, 0.24392923784551143, 0.8260583570821245, 0.8260583904035317, 11.092882643552544, 8.646620244064236, 0.24392923784551143], \"Category\": [\"Default\", \"Default\", \"Default\", \"Default\", \"Default\", \"Default\", \"Default\", \"Default\", \"Default\", \"Default\", \"Default\", \"Default\", \"Default\", \"Default\", \"Default\", \"Default\", \"Default\", \"Default\", \"Default\", \"Default\", \"Default\", \"Default\", \"Default\", \"Default\", \"Default\", \"Default\", \"Default\", \"Default\", \"Default\", \"Default\", \"Topic1\", \"Topic1\", \"Topic1\", \"Topic1\", \"Topic1\", \"Topic1\", \"Topic1\", \"Topic1\", \"Topic1\", \"Topic1\", \"Topic1\", \"Topic1\", \"Topic1\", \"Topic1\", \"Topic1\", \"Topic1\", \"Topic1\", \"Topic1\", \"Topic1\", \"Topic1\", \"Topic1\", \"Topic1\", \"Topic1\", \"Topic1\", \"Topic1\", \"Topic1\", \"Topic1\", \"Topic1\", \"Topic1\", \"Topic1\", \"Topic1\", \"Topic1\", \"Topic1\", \"Topic1\", \"Topic1\", \"Topic1\", \"Topic1\", \"Topic1\", \"Topic1\", \"Topic1\", \"Topic1\", \"Topic1\", \"Topic1\", \"Topic1\", \"Topic1\", \"Topic1\", \"Topic1\", \"Topic1\", \"Topic1\", \"Topic1\", \"Topic2\", \"Topic2\", \"Topic2\", \"Topic2\", \"Topic2\", \"Topic2\", \"Topic2\", \"Topic2\", \"Topic2\", \"Topic2\", \"Topic2\", \"Topic2\", \"Topic2\", \"Topic2\", \"Topic2\", \"Topic2\", \"Topic2\", \"Topic2\", \"Topic2\", \"Topic2\", \"Topic2\", \"Topic2\", \"Topic2\", \"Topic2\", \"Topic2\", \"Topic2\", \"Topic2\", \"Topic2\", \"Topic2\", \"Topic2\", \"Topic2\", \"Topic2\", \"Topic2\", \"Topic2\", \"Topic2\", \"Topic2\", \"Topic2\", \"Topic2\", \"Topic2\", \"Topic2\", \"Topic2\", \"Topic2\", \"Topic2\", \"Topic2\", \"Topic2\", \"Topic2\", \"Topic2\", \"Topic2\", \"Topic2\", \"Topic2\", \"Topic3\", \"Topic3\", \"Topic3\", \"Topic3\", \"Topic3\", \"Topic3\", \"Topic3\", \"Topic3\", \"Topic3\", \"Topic3\", \"Topic3\", \"Topic3\", \"Topic3\", \"Topic3\", \"Topic3\", \"Topic3\", \"Topic3\", \"Topic3\", \"Topic3\", \"Topic3\", \"Topic3\", \"Topic3\", \"Topic3\", \"Topic3\", \"Topic3\", \"Topic3\", \"Topic3\", \"Topic3\", \"Topic3\", \"Topic3\", \"Topic3\", \"Topic3\", \"Topic3\", \"Topic3\", \"Topic3\", \"Topic3\", \"Topic3\", \"Topic3\", \"Topic3\", \"Topic3\", \"Topic3\", \"Topic3\", \"Topic3\", \"Topic3\", \"Topic3\", \"Topic3\", \"Topic3\", \"Topic3\", \"Topic3\", \"Topic3\", \"Topic3\", \"Topic3\", \"Topic3\", \"Topic4\", \"Topic4\", \"Topic4\", \"Topic4\", \"Topic4\", \"Topic4\", \"Topic4\", \"Topic4\", \"Topic4\", \"Topic4\", \"Topic4\", \"Topic4\", \"Topic4\", \"Topic4\", \"Topic4\", \"Topic4\", \"Topic4\", \"Topic4\", \"Topic4\", \"Topic4\", \"Topic4\", \"Topic4\", \"Topic4\", \"Topic4\", \"Topic4\", \"Topic4\", \"Topic4\", \"Topic4\", \"Topic4\", \"Topic4\", \"Topic4\", \"Topic4\", \"Topic4\", \"Topic4\", \"Topic4\", \"Topic4\", \"Topic4\", \"Topic4\", \"Topic4\", \"Topic4\", \"Topic4\", \"Topic4\", \"Topic4\", \"Topic4\", \"Topic4\", \"Topic4\", \"Topic4\", \"Topic4\", \"Topic4\", \"Topic4\", \"Topic4\", \"Topic5\", \"Topic5\", \"Topic5\", \"Topic5\", \"Topic5\", \"Topic5\", \"Topic5\", \"Topic5\", \"Topic5\", \"Topic5\", \"Topic5\", \"Topic5\", \"Topic5\", \"Topic5\", \"Topic5\", \"Topic5\", \"Topic5\", \"Topic5\", \"Topic5\", \"Topic5\", \"Topic5\", \"Topic5\", \"Topic5\", \"Topic5\", \"Topic5\", \"Topic5\", \"Topic5\", \"Topic5\", \"Topic5\", \"Topic5\", \"Topic5\", \"Topic5\", \"Topic5\", \"Topic5\", \"Topic5\", \"Topic5\", \"Topic5\", \"Topic5\", \"Topic5\", \"Topic5\", \"Topic6\", \"Topic6\", \"Topic6\", \"Topic6\", \"Topic6\", \"Topic6\", \"Topic6\", \"Topic6\", \"Topic6\", \"Topic6\", \"Topic6\", \"Topic6\", \"Topic6\", \"Topic6\", \"Topic6\", \"Topic6\", \"Topic6\", \"Topic6\", \"Topic6\", \"Topic6\", \"Topic6\", \"Topic6\", \"Topic6\", \"Topic6\", \"Topic6\", \"Topic6\", \"Topic6\", \"Topic6\", \"Topic6\", \"Topic6\", \"Topic6\", \"Topic6\", \"Topic6\", \"Topic6\", \"Topic6\", \"Topic6\", \"Topic6\", \"Topic6\", \"Topic6\", \"Topic6\", \"Topic6\", \"Topic6\", \"Topic6\", \"Topic6\", \"Topic6\", \"Topic6\", \"Topic6\", \"Topic6\", \"Topic6\", \"Topic6\", \"Topic6\", \"Topic7\", \"Topic7\", \"Topic7\", \"Topic7\", \"Topic7\", \"Topic7\", \"Topic7\", \"Topic7\", \"Topic7\", \"Topic7\", \"Topic7\", \"Topic7\", \"Topic7\", \"Topic7\", \"Topic7\", \"Topic7\", \"Topic7\", \"Topic7\", \"Topic7\", \"Topic7\", \"Topic7\", \"Topic7\", \"Topic7\", \"Topic7\", \"Topic7\", \"Topic7\", \"Topic7\", \"Topic7\", \"Topic7\", \"Topic7\", \"Topic7\", \"Topic7\", \"Topic7\", \"Topic7\", \"Topic7\", \"Topic7\", \"Topic7\", \"Topic7\", \"Topic7\", \"Topic7\", \"Topic7\", \"Topic7\", \"Topic7\", \"Topic7\", \"Topic7\", \"Topic8\", \"Topic8\", \"Topic8\", \"Topic8\", \"Topic8\", \"Topic8\", \"Topic8\", \"Topic8\", \"Topic8\", \"Topic8\", \"Topic8\", \"Topic8\", \"Topic8\", \"Topic8\", \"Topic8\", \"Topic8\", \"Topic8\", \"Topic8\", \"Topic8\", \"Topic8\", \"Topic8\", \"Topic8\", \"Topic8\", \"Topic8\", \"Topic8\", \"Topic8\", \"Topic8\", \"Topic8\", \"Topic8\", \"Topic8\", \"Topic8\", \"Topic8\", \"Topic8\", \"Topic8\", \"Topic8\", \"Topic8\", \"Topic8\", \"Topic8\", \"Topic9\", \"Topic9\", \"Topic9\", \"Topic9\", \"Topic9\", \"Topic9\", \"Topic9\", \"Topic9\", \"Topic9\", \"Topic9\", \"Topic9\", \"Topic9\", \"Topic9\", \"Topic9\", \"Topic9\", \"Topic9\", \"Topic9\", \"Topic9\", \"Topic9\", \"Topic9\", \"Topic9\", \"Topic9\", \"Topic9\", \"Topic9\", \"Topic9\", \"Topic9\", \"Topic9\", \"Topic9\", \"Topic9\", \"Topic9\", \"Topic9\", \"Topic9\", \"Topic9\", \"Topic10\", \"Topic10\", \"Topic10\", \"Topic10\", \"Topic10\", \"Topic10\", \"Topic10\", \"Topic10\", \"Topic10\", \"Topic10\", \"Topic10\", \"Topic10\", \"Topic10\", \"Topic10\", \"Topic10\", \"Topic10\", \"Topic10\", \"Topic10\", \"Topic10\", \"Topic10\", \"Topic10\", \"Topic10\", \"Topic10\", \"Topic10\", \"Topic10\", \"Topic10\", \"Topic10\", \"Topic10\", \"Topic10\", \"Topic10\", \"Topic10\", \"Topic10\", \"Topic10\", \"Topic10\", \"Topic10\", \"Topic10\", \"Topic10\", \"Topic10\", \"Topic10\", \"Topic10\", \"Topic10\", \"Topic10\", \"Topic10\", \"Topic10\"], \"logprob\": [30.0, 29.0, 28.0, 27.0, 26.0, 25.0, 24.0, 23.0, 22.0, 21.0, 20.0, 19.0, 18.0, 17.0, 16.0, 15.0, 14.0, 13.0, 12.0, 11.0, 10.0, 9.0, 8.0, 7.0, 6.0, 5.0, 4.0, 3.0, 2.0, 1.0, -5.042399883270264, -5.042399883270264, -5.4319000244140625, -5.4319000244140625, -5.4319000244140625, -5.4319000244140625, -5.4319000244140625, -5.4319000244140625, -5.4319000244140625, -5.4319000244140625, -6.078499794006348, -6.078499794006348, -6.078499794006348, -6.078499794006348, -6.078499794006348, -6.078499794006348, -6.078499794006348, -6.078499794006348, -6.078499794006348, -6.078499794006348, -6.078499794006348, -6.078499794006348, -6.078499794006348, -6.078499794006348, -6.078499794006348, -6.078499794006348, -6.078499794006348, -6.078499794006348, -6.078499794006348, -6.078499794006348, -5.042399883270264, -5.4319000244140625, -4.54449987411499, -5.4319000244140625, -4.762800216674805, -5.042399883270264, -5.042399883270264, -5.042399883270264, -4.213699817657471, -5.43179988861084, -5.042399883270264, -5.4319000244140625, -5.4319000244140625, -5.43179988861084, -5.4319000244140625, -5.4319000244140625, -5.43179988861084, -5.042399883270264, -5.43179988861084, -5.4319000244140625, -4.48829984664917, -4.706200122833252, -4.9857001304626465, -5.375199794769287, -5.375199794769287, -5.375199794769287, -5.375199794769287, -2.977299928665161, -4.9857001304626465, -4.4878997802734375, -5.375199794769287, -6.0218000411987305, -6.0218000411987305, -6.0218000411987305, -6.0218000411987305, -6.0218000411987305, -6.0218000411987305, -6.0218000411987305, -6.0218000411987305, -6.0218000411987305, -6.0218000411987305, -6.0218000411987305, -6.0218000411987305, -6.0218000411987305, -6.0218000411987305, -6.0218000411987305, -6.0218000411987305, -6.0218000411987305, -6.0218000411987305, -6.0218000411987305, -5.375199794769287, -6.0218000411987305, -4.706200122833252, -5.375199794769287, -5.375199794769287, -5.375199794769287, -5.375199794769287, -5.375199794769287, -4.523499965667725, -5.375199794769287, -5.375199794769287, -4.9857001304626465, -5.375199794769287, -4.164700031280518, -5.375199794769287, -5.375199794769287, -5.375199794769287, -5.17140007019043, -5.928400039672852, -5.920599937438965, -4.861700057983398, -5.235300064086914, -5.218400001525879, -4.549300193786621, -5.218400001525879, -5.864999771118164, -5.864999771118164, -5.864999771118164, -5.864999771118164, -5.864999771118164, -5.864999771118164, -5.864999771118164, -5.864999771118164, -5.864999771118164, -5.864999771118164, -5.864999771118164, -5.864999771118164, -5.864999771118164, -5.864999771118164, -5.864999771118164, -5.864999771118164, -5.864999771118164, -5.864999771118164, -5.864999771118164, -5.865099906921387, -5.865099906921387, -5.865099906921387, -5.865099906921387, -5.865099906921387, -5.865099906921387, -5.865099906921387, -5.218400001525879, -4.82889986038208, -5.218400001525879, -5.218400001525879, -4.861700057983398, -4.82889986038208, -4.549300193786621, -5.218400001525879, -5.218400001525879, -5.235300064086914, -5.218400001525879, -5.218400001525879, -4.82889986038208, -5.864999771118164, -5.864999771118164, -5.864999771118164, -5.864999771118164, -5.864999771118164, -5.864999771118164, -5.864999771118164, -5.864999771118164, -5.864999771118164, -5.198200225830078, -5.198200225830078, -5.198200225830078, -4.529200077056885, -4.529200077056885, -5.844900131225586, -5.844900131225586, -5.844900131225586, -5.844900131225586, -5.844900131225586, -5.844900131225586, -5.844900131225586, -5.844900131225586, -5.844900131225586, -5.844900131225586, -5.844900131225586, -5.844900131225586, -5.844900131225586, -5.844900131225586, -5.844900131225586, -5.844900131225586, -5.844900131225586, -5.844900131225586, -5.844900131225586, -5.844900131225586, -5.844900131225586, -5.844900131225586, -5.844900131225586, -5.844900131225586, -5.844900131225586, -5.844900131225586, -4.808800220489502, -4.131899833679199, -4.3109002113342285, -5.198200225830078, -5.198200225830078, -5.198200225830078, -5.844900131225586, -5.844900131225586, -5.844900131225586, -5.844900131225586, -5.844900131225586, -5.844900131225586, -5.844900131225586, -5.844900131225586, -5.844900131225586, -5.844900131225586, -5.844900131225586, -5.844900131225586, -5.844900131225586, -5.844900131225586, -5.139100074768066, -5.139100074768066, -5.138199806213379, -5.784900188446045, -5.784900188446045, -5.784900188446045, -5.784900188446045, -5.784900188446045, -5.784900188446045, -5.784900188446045, -5.784900188446045, -5.784900188446045, -5.784900188446045, -5.784900188446045, -5.784900188446045, -5.784900188446045, -5.784900188446045, -5.784900188446045, -5.784900188446045, -5.784900188446045, -5.784900188446045, -5.784900188446045, -5.784900188446045, -5.784900188446045, -5.784900188446045, -5.784900188446045, -5.784900188446045, -5.784900188446045, -5.784900188446045, -5.784900188446045, -5.784900188446045, -5.138199806213379, -4.748700141906738, -5.138199806213379, -3.9581000804901123, -4.071899890899658, -5.727799892425537, -5.784900188446045, -5.784900188446045, -5.784900188446045, -5.144199848175049, -5.773900032043457, -5.773900032043457, -5.773900032043457, -5.773900032043457, -5.773900032043457, -5.773900032043457, -5.773900032043457, -5.773900032043457, -5.773900032043457, -5.773900032043457, -5.773900032043457, -5.773900032043457, -5.773900032043457, -5.773900032043457, -5.773900032043457, -5.773900032043457, -5.773900032043457, -5.773900032043457, -5.773900032043457, -5.773900032043457, -5.773900032043457, -5.773900032043457, -5.773900032043457, -5.773900032043457, -5.773900032043457, -5.77400016784668, -5.77400016784668, -5.77400016784668, -5.77400016784668, -5.127299785614014, -5.77400016784668, -5.127299785614014, -5.127299785614014, -5.127299785614014, -4.737800121307373, -4.737800121307373, -5.127299785614014, -5.773900032043457, -5.773900032043457, -5.773900032043457, -5.773900032043457, -5.773900032043457, -5.773900032043457, -5.773900032043457, -5.773900032043457, -5.773900032043457, -5.773900032043457, -5.773900032043457, -5.773900032043457, -5.773900032043457, -5.106500148773193, -5.106500148773193, -5.7530999183654785, -5.7530999183654785, -5.7530999183654785, -5.7530999183654785, -5.7530999183654785, -5.7530999183654785, -5.7530999183654785, -5.7530999183654785, -5.7530999183654785, -5.7530999183654785, -5.7530999183654785, -5.7530999183654785, -5.7530999183654785, -5.7530999183654785, -5.7530999183654785, -5.753200054168701, -5.753200054168701, -5.753200054168701, -5.753200054168701, -5.753200054168701, -5.753200054168701, -5.753200054168701, -5.106500148773193, -5.106500148773193, -5.753200054168701, -5.7530999183654785, -5.753200054168701, -5.753200054168701, -4.464099884033203, -4.7170000076293945, -4.7170000076293945, -4.261300086975098, -5.7530999183654785, -5.7530999183654785, -5.7530999183654785, -5.7530999183654785, -5.7530999183654785, -5.7530999183654785, -5.7530999183654785, -5.7530999183654785, -5.7530999183654785, -5.7530999183654785, -5.7530999183654785, -4.394000053405762, -5.709700107574463, -5.709700107574463, -5.709700107574463, -5.709700107574463, -5.709700107574463, -5.709700107574463, -5.709700107574463, -5.709700107574463, -5.709700107574463, -5.709700107574463, -5.709700107574463, -5.709700107574463, -5.709700107574463, -5.709700107574463, -5.709700107574463, -5.063000202178955, -5.709700107574463, -5.709700107574463, -5.709700107574463, -5.709700107574463, -5.709700107574463, -5.709700107574463, -5.709799766540527, -5.709700107574463, -4.414299964904785, -5.709700107574463, -5.709700107574463, -5.709700107574463, -5.709700107574463, -5.063000202178955, -5.063000202178955, -4.712100028991699, -4.1757001876831055, -5.063000202178955, -5.709700107574463, -5.709700107574463, -5.709700107574463, -5.001800060272217, -5.001800060272217, -5.648499965667725, -5.648499965667725, -5.648499965667725, -5.648499965667725, -5.648499965667725, -5.648499965667725, -5.648499965667725, -5.648499965667725, -5.648499965667725, -5.648499965667725, -5.648600101470947, -5.648499965667725, -5.648499965667725, -5.648499965667725, -5.648499965667725, -5.648499965667725, -5.648499965667725, -5.648499965667725, -5.648499965667725, -5.0019001960754395, -5.648499965667725, -5.648499965667725, -5.648499965667725, -5.648499965667725, -5.648499965667725, -5.648499965667725, -4.920000076293945, -5.648499965667725, -5.599999904632568, -5.648499965667725, -5.648499965667725, -5.611999988555908, -5.611999988555908, -5.611999988555908, -5.611999988555908, -5.611999988555908, -5.612100124359131, -5.612100124359131, -4.9653000831604, -5.611999988555908, -5.611999988555908, -5.611999988555908, -5.611999988555908, -5.611999988555908, -5.611999988555908, -5.611999988555908, -4.9653000831604, -5.611999988555908, -4.9653000831604, -5.611999988555908, -5.611999988555908, -8.00979995727539, -8.00979995727539, -8.00979995727539, -8.00979995727539, -8.00979995727539, -8.00979995727539, -8.00979995727539, -8.00979995727539, -8.00979995727539, -8.00979995727539, -5.611999988555908, -8.00979995727539, -8.00979995727539, -5.611999988555908, -8.00979995727539, -8.00979995727539, -5.611999988555908, -7.708399772644043, -8.00979995727539, -7.992099761962891, -7.992099761962891, -8.00629997253418, -8.006600379943848, -8.00979995727539], \"loglift\": [30.0, 29.0, 28.0, 27.0, 26.0, 25.0, 24.0, 23.0, 22.0, 21.0, 20.0, 19.0, 18.0, 17.0, 16.0, 15.0, 14.0, 13.0, 12.0, 11.0, 10.0, 9.0, 8.0, 7.0, 6.0, 5.0, 4.0, 3.0, 2.0, 1.0, 1.4057, 1.4057, 1.3441, 1.3441, 1.3441, 1.3441, 1.3441, 1.3441, 1.3441, 1.3441, 1.1886, 1.1886, 1.1886, 1.1886, 1.1886, 1.1886, 1.1886, 1.1886, 1.1886, 1.1886, 1.1886, 1.1886, 1.1886, 1.1886, 1.1886, 1.1886, 1.1886, 1.1886, 1.1886, 1.1886, 1.1858, 1.165, 1.1131, 1.157, 0.975, 0.9596, 0.9578, 0.9047, 0.3511, 0.8372, 0.5579, 0.7133, 0.6774, 0.5214, 0.3914, 0.3614, 0.2716, -0.3379, 0.1619, 0.1007, 1.6296, 1.6062, 1.5684, 1.4986, 1.4986, 1.4986, 1.4986, 1.4781, 1.4492, 1.372, 1.3379, 1.3244, 1.3244, 1.3244, 1.3244, 1.3244, 1.3244, 1.3244, 1.3244, 1.3244, 1.3244, 1.3244, 1.3244, 1.3244, 1.3244, 1.3244, 1.3244, 1.3244, 1.3244, 1.3244, 1.2962, 1.3244, 1.1906, 1.248, 1.248, 1.248, 1.2423, 1.2423, 0.9965, 1.1424, 1.1424, 1.0106, 1.0384, 0.4, 0.77, 0.7341, 0.2186, -0.4669, -0.1351, -0.388, 1.9033, 1.8284, 1.716, 1.706, 1.65, 1.6267, 1.6267, 1.6267, 1.6267, 1.6267, 1.6267, 1.6267, 1.6267, 1.6267, 1.6267, 1.6267, 1.6267, 1.6267, 1.6267, 1.6267, 1.6267, 1.6267, 1.6267, 1.6267, 1.6267, 1.6267, 1.6267, 1.6267, 1.6267, 1.6267, 1.6267, 1.5457, 1.3167, 1.1952, 1.1221, 0.8417, 0.7036, 0.1552, 0.8535, 0.8466, 0.718, 0.6048, 0.5749, -0.2641, 0.1313, 1.1201, 1.0969, 0.7524, 0.821, 1.2754, 1.2788, 1.2026, 1.3466, 1.8783, 1.8783, 1.8783, 1.7778, 1.7491, 1.6606, 1.6606, 1.6606, 1.6606, 1.6606, 1.6606, 1.6606, 1.6606, 1.6606, 1.6606, 1.6606, 1.6606, 1.6606, 1.6606, 1.6606, 1.6606, 1.6606, 1.6606, 1.6606, 1.6606, 1.6606, 1.6606, 1.6606, 1.6606, 1.6606, 1.6606, 1.2781, 0.5727, 0.2539, 0.8736, 0.3343, 0.3218, 1.1251, 0.8669, 0.1021, 0.4242, -0.1072, 1.1251, 0.7391, 0.1514, 1.3193, 0.8601, 1.3193, 0.0519, -0.1873, 0.986, 1.9137, 1.9137, 1.8691, 1.8359, 1.8359, 1.8359, 1.8359, 1.8359, 1.8359, 1.8359, 1.8359, 1.8359, 1.8359, 1.8359, 1.8359, 1.8359, 1.8359, 1.8359, 1.8359, 1.8359, 1.8359, 1.8359, 1.8359, 1.8359, 1.8359, 1.8359, 1.8359, 1.8359, 1.8359, 1.8359, 1.8359, 1.7502, 1.3162, 1.5011, 0.7465, 0.3835, -0.0244, 0.1684, 0.9047, 1.0169, 2.0985, 1.8523, 1.8523, 1.8523, 1.8523, 1.8523, 1.8523, 1.8523, 1.8523, 1.8523, 1.8523, 1.8523, 1.8523, 1.8523, 1.8523, 1.8523, 1.8523, 1.8523, 1.8523, 1.8523, 1.8523, 1.8523, 1.8523, 1.8523, 1.8523, 1.8523, 1.8523, 1.8523, 1.8523, 1.8523, 1.8388, 1.8523, 1.6769, 1.6769, 0.9376, -0.0333, -0.2824, -0.5626, -0.0362, 0.9101, 0.5893, 0.9311, 0.086, 0.9121, 0.8974, 1.4745, 1.3699, 1.3699, 1.265, 0.1731, 0.2224, 2.1537, 2.1537, 1.8902, 1.8902, 1.8902, 1.8902, 1.8902, 1.8902, 1.8902, 1.8902, 1.8902, 1.8902, 1.8902, 1.8902, 1.8902, 1.8902, 1.8902, 1.8902, 1.8902, 1.8902, 1.8902, 1.8902, 1.8902, 1.8902, 1.8042, 1.7127, 1.6772, 1.4953, 1.411, 1.411, 1.3292, 0.9864, 0.8767, 0.4433, 0.5159, -0.2206, -0.1528, 0.1437, 0.3337, 0.6101, -0.0955, 0.9586, 0.9329, 0.392, 1.2129, 2.3221, 2.0288, 2.0288, 2.0288, 2.0288, 2.0288, 2.0288, 2.0288, 2.0288, 2.0288, 2.0288, 2.0288, 2.0288, 2.0288, 2.0288, 2.0288, 1.8392, 1.6019, 1.5979, 1.502, 1.3901, 1.3277, 1.3277, 1.2976, 1.201, 1.186, 1.1586, 1.0736, 1.0034, 0.9743, 0.9389, 0.9371, 0.8204, 0.3891, 0.5307, 0.6308, 0.6535, 0.7252, 2.5296, 2.5296, 2.1864, 2.1864, 2.1864, 2.1864, 2.1864, 2.1864, 2.1864, 2.1864, 2.1864, 2.1864, 2.1863, 1.9336, 1.7206, 1.7206, 1.6299, 1.6299, 1.4356, 1.4043, 1.4043, 1.3386, 1.3366, 1.1824, 1.1349, 1.0411, 1.0356, 0.9909, 0.6, 0.3534, -1.0352, 0.0893, -0.1159, 2.2921, 2.2921, 2.2921, 2.2921, 2.2921, 2.292, 2.292, 2.0198, 1.9701, 1.8183, 1.5718, 1.5042, 1.5042, 1.3225, 1.2987, 1.1803, 1.1714, 0.8579, 0.3351, 0.2848, 0.2628, 0.2628, 0.2628, 0.2628, 0.2628, 0.2628, 0.2628, 0.2628, 0.2628, 0.2628, 0.2479, 0.2628, 0.2628, 0.1258, 0.2628, 0.2628, 0.0457, -0.4657, 0.2628, -0.9393, -0.9393, -3.5509, -3.3021, 0.2628]}, \"token.table\": {\"Topic\": [3, 1, 3, 4, 2, 1, 3, 4, 8, 1, 2, 3, 2, 1, 2, 1, 1, 4, 2, 2, 1, 2, 1, 2, 7, 1, 3, 3, 1, 2, 3, 4, 5, 6, 7, 3, 1, 2, 1, 4, 4, 8, 1, 3, 3, 1, 3, 2, 1, 3, 7, 1, 1, 1, 2, 4, 3, 5, 2, 2, 1, 2, 3, 4, 8, 1, 1, 2, 1, 8, 1, 1, 2, 4, 2, 4, 2, 2, 1, 1, 3, 2, 2, 2, 5, 6, 2, 1, 2, 1, 2, 4, 2, 1, 3, 1, 3, 7, 3, 2], \"Freq\": [0.9077896802048452, 0.9178603920659525, 0.45391437788924016, 0.45391437788924016, 0.7877641909838189, 0.2647004303852476, 0.2647004303852476, 0.2647004303852476, 0.2647004303852476, 0.42249727912686247, 0.6388483569802228, 0.6388483569802228, 1.0120925353218124, 0.6612495869917273, 0.708812997770518, 0.9178606309044661, 0.7673409286614662, 1.239645927795389, 0.762042686593977, 0.4208914985128045, 0.5306923801479885, 1.1546466283092467, 0.28140805270719826, 0.28140805270719826, 0.28140805270719826, 0.9178607901302108, 0.5453066634645274, 0.9069715007901368, 0.11565212438773216, 0.11565212438773216, 0.11565212438773216, 0.23130424877546432, 0.23130424877546432, 0.11565212438773216, 0.11565212438773216, 1.0754144227584377, 0.47120117010112955, 0.47120117010112955, 0.6499702204106007, 0.46075953241810697, 1.2396465399106278, 0.8644324679439257, 0.4031443508801654, 0.4031443508801654, 1.2238328059169856, 0.35398255319261196, 0.35398255319261196, 1.012093581717388, 0.3435551800707654, 0.3435551800707654, 0.3435551800707654, 0.9178610289689314, 0.9178603920659525, 0.9178603920659525, 0.7832839102024984, 0.5579714356860259, 0.45077839639604295, 0.45077839639604295, 1.012091569420125, 0.734443507143422, 0.3016952136460415, 0.3016952136460415, 0.10056507121534716, 0.10056507121534716, 0.10056507121534716, 0.40064495722771515, 0.48844206354168895, 0.48844206354168895, 0.28325152104681667, 0.28325152104681667, 0.5999383517846678, 0.9178607901302108, 0.82667644522508, 0.5742205208337218, 0.5228260722101414, 0.2614130361050707, 0.6526157207428634, 0.7832831013412558, 0.552869105653765, 0.6612498762320188, 0.488645335128791, 0.7877629443404982, 0.9506040553244195, 0.811331038937027, 0.09014789321522522, 0.09014789321522522, 0.7088141114608333, 0.4232520184924993, 0.7877635749111405, 0.9178610289689314, 1.0120925353218124, 1.239646922482959, 0.8619036331056245, 0.7612265379252258, 1.0066652557893747, 0.31401863713967754, 0.31401863713967754, 0.31401863713967754, 0.5938015239293494, 0.7352249600425851], \"Term\": [\"\\uac10\\uc0ac\", \"\\uac19\\uc740\", \"\\uac74\\uac15\", \"\\uac74\\uac15\", \"\\uac83\", \"\\uace0\\uc18c\", \"\\uace0\\uc18c\", \"\\uace0\\uc18c\", \"\\uace0\\uc18c\", \"\\uad6c\\ub9e4\", \"\\uad7f\", \"\\uad7f\", \"\\uadf8\\ub7ec\", \"\\uae30\\uc0ac\", \"\\ub118\", \"\\ub2e4\\ub978\", \"\\ub2e4\\uc774\\uc5b4\\ud2b8\", \"\\ub2e8\", \"\\ub2ec\", \"\\ub300\\uc6a9\", \"\\ub370\", \"\\ub3c4\\ucc29\", \"\\ub450\\uc720\", \"\\ub450\\uc720\", \"\\ub450\\uc720\", \"\\ub538\", \"\\ub54c\", \"\\ub77c\\ub5bc\", \"\\ub9db\", \"\\ub9db\", \"\\ub9db\", \"\\ub9db\", \"\\ub9db\", \"\\ub9db\", \"\\ub9db\", \"\\ub9db\\uc788\\ub124\\uc694\", \"\\ub9e4\\uc77c\", \"\\ub9e4\\uc77c\", \"\\uba39\", \"\\uba39\\uace0\", \"\\ubc00\\ud06c\", \"\\ubc1b\\uc558\", \"\\ubc30\\uc1a1\", \"\\ubc30\\uc1a1\", \"\\ube60\\ub978\", \"\\ube68\\ub300\", \"\\ube68\\ub300\", \"\\uc0c0\", \"\\uc0dd\\uac01\", \"\\uc0dd\\uac01\", \"\\uc0dd\\uac01\", \"\\uc18c\", \"\\uc2dc\\uac04\", \"\\uc2dc\\uc791\", \"\\uc2dd\\uc0ac\", \"\\uc544\\ubaac\\ub4dc\", \"\\uc544\\uce68\", \"\\uc544\\uce68\", \"\\uc544\\ud558\", \"\\uc54a\\uace0\", \"\\uc5b4\\uc694\", \"\\uc5b4\\uc694\", \"\\uc5b4\\uc694\", \"\\uc5b4\\uc694\", \"\\uc5b4\\uc694\", \"\\uc624\\ud2b8\", \"\\uc624\\ud2b8\\ubc00\", \"\\uc624\\ud2b8\\ubc00\", \"\\uc694\", \"\\uc694\", \"\\uc6b0\\uc720\", \"\\uc6b4\\ub3d9\", \"\\uc785\\ub2c8\\ub2e4\", \"\\uc788\", \"\\uc798\", \"\\uc798\", \"\\uc800\\ub834\", \"\\uc81c\\ud488\", \"\\uc870\\uae08\", \"\\uc885\\ub958\", \"\\uc885\\uc774\", \"\\uc88b\", \"\\uc88b\\uc2b5\\ub2c8\\ub2e4\", \"\\uc88b\\uc544\\uc694\", \"\\uc88b\\uc544\\uc694\", \"\\uc88b\\uc544\\uc694\", \"\\uc88b\\uc740\", \"\\uc8fc\\ubb38\", \"\\uc9c0\\uc9c0\", \"\\uc9c4\", \"\\ucc0c\", \"\\ucd5c\\uace0\", \"\\ud558\\uac8c\", \"\\ud558\\ub098\", \"\\ud558\\ub2c8\", \"\\ud569\\ub2c8\\ub2e4\", \"\\ud569\\ub2c8\\ub2e4\", \"\\ud569\\ub2c8\\ub2e4\", \"\\ud588\", \"\\ud588\\uc2b5\\ub2c8\\ub2e4\"]}, \"R\": 30, \"lambda.step\": 0.01, \"plot.opts\": {\"xlab\": \"PC1\", \"ylab\": \"PC2\"}, \"topic.order\": [3, 5, 4, 2, 6, 9, 7, 10, 1, 8]};\n",
       "\n",
       "function LDAvis_load_lib(url, callback){\n",
       "  var s = document.createElement('script');\n",
       "  s.src = url;\n",
       "  s.async = true;\n",
       "  s.onreadystatechange = s.onload = callback;\n",
       "  s.onerror = function(){console.warn(\"failed to load library \" + url);};\n",
       "  document.getElementsByTagName(\"head\")[0].appendChild(s);\n",
       "}\n",
       "\n",
       "if(typeof(LDAvis) !== \"undefined\"){\n",
       "   // already loaded: just create the visualization\n",
       "   !function(LDAvis){\n",
       "       new LDAvis(\"#\" + \"ldavis_el1092825454809585369121740899\", ldavis_el1092825454809585369121740899_data);\n",
       "   }(LDAvis);\n",
       "}else if(typeof define === \"function\" && define.amd){\n",
       "   // require.js is available: use it to load d3/LDAvis\n",
       "   require.config({paths: {d3: \"https://cdnjs.cloudflare.com/ajax/libs/d3/3.5.5/d3.min\"}});\n",
       "   require([\"d3\"], function(d3){\n",
       "      window.d3 = d3;\n",
       "      LDAvis_load_lib(\"https://cdn.rawgit.com/bmabey/pyLDAvis/files/ldavis.v1.0.0.js\", function(){\n",
       "        new LDAvis(\"#\" + \"ldavis_el1092825454809585369121740899\", ldavis_el1092825454809585369121740899_data);\n",
       "      });\n",
       "    });\n",
       "}else{\n",
       "    // require.js not available: dynamically load d3 & LDAvis\n",
       "    LDAvis_load_lib(\"https://cdnjs.cloudflare.com/ajax/libs/d3/3.5.5/d3.min.js\", function(){\n",
       "         LDAvis_load_lib(\"https://cdn.rawgit.com/bmabey/pyLDAvis/files/ldavis.v1.0.0.js\", function(){\n",
       "                 new LDAvis(\"#\" + \"ldavis_el1092825454809585369121740899\", ldavis_el1092825454809585369121740899_data);\n",
       "            })\n",
       "         });\n",
       "}\n",
       "</script>"
      ],
      "text/plain": [
       "<IPython.core.display.HTML object>"
      ]
     },
     "execution_count": 166,
     "metadata": {},
     "output_type": "execute_result"
    }
   ],
   "source": [
    "# 시각화 결과 출력/저장\n",
    "import pyLDAvis.gensim\n",
    "pyLDAvis.enable_notebook()\n",
    "vis = pyLDAvis.gensim.prepare(ldamodel_t0, corpus_t0, dictionary)\n",
    "pyLDAvis.display(vis)"
   ]
  },
  {
   "cell_type": "code",
   "execution_count": null,
   "metadata": {},
   "outputs": [],
   "source": []
  },
  {
   "cell_type": "code",
   "execution_count": null,
   "metadata": {},
   "outputs": [],
   "source": []
  },
  {
   "cell_type": "code",
   "execution_count": 167,
   "metadata": {},
   "outputs": [],
   "source": [
    "df3_t1 = df3[df3['WEEK']=='2021-46W']\n",
    "\n",
    "tokenized_list_t1 = []\n",
    "\n",
    "for text in df3_t1['REVIEW']:\n",
    "    tokenized_list_t1.append(tokenize_korean_text(text))\n",
    "    \n",
    "# text가 비어있는 list 제거\n",
    "for text in tokenized_list_t1:\n",
    "    if len(text) <= 0 :\n",
    "        del tokenized_list_t1[tokenized_list_t1.index(text)]\n",
    "\n",
    "bigram_t1 = Phrases(tokenized_list_t1, min_count=4, threshold=10)\n",
    "bigram_mod_t1 = Phraser(bigram)\n",
    "\n",
    "words_bigram_t1 = [bigram_mod[doc] for doc in tokenized_list_t1]\n",
    "\n",
    "corpus_t1 = [dictionary.doc2bow(text) for text in words_bigram_t1]\n",
    "\n",
    "ldamodel_t1 = gensim.models.ldamodel.LdaModel(corpus_t1, id2word=dictionary, \n",
    "                                           num_topics = num_topics,\n",
    "                                           chunksize = chunksize,\n",
    "                                           passes=passes,\n",
    "                                           iterations = iterations)"
   ]
  },
  {
   "cell_type": "code",
   "execution_count": 168,
   "metadata": {},
   "outputs": [
    {
     "data": {
      "text/plain": [
       "[(0, '0.016*\"좋아요\" + 0.005*\"오트\" + 0.005*\"라떼\" + 0.005*\"것\"'),\n",
       " (1, '0.021*\"맛\" + 0.013*\"건강\" + 0.006*\"있\" + 0.006*\"어보\"'),\n",
       " (2, '0.016*\"우유\" + 0.008*\"어요\" + 0.008*\"매일유업\" + 0.008*\"건강\"'),\n",
       " (3, '0.059*\"좋아요\" + 0.010*\"했\" + 0.010*\"구매\" + 0.010*\"어요\"'),\n",
       " (4, '0.007*\"아몬드\" + 0.007*\"처음\" + 0.007*\"선물\" + 0.007*\"잘\"'),\n",
       " (5, '0.023*\"맛\" + 0.010*\"종이\" + 0.008*\"어요\" + 0.008*\"빨대\"'),\n",
       " (6, '0.011*\"좋아요\" + 0.011*\"달\" + 0.006*\"매번\" + 0.006*\"오트\"'),\n",
       " (7, '0.022*\"어요\" + 0.013*\"구매\" + 0.011*\"잘\" + 0.009*\"했\"'),\n",
       " (8, '0.016*\"합니다\" + 0.008*\"맛\" + 0.008*\"만족\" + 0.006*\"두유\"'),\n",
       " (9, '0.028*\"맛\" + 0.016*\"요\" + 0.012*\"두유\" + 0.010*\"것\"')]"
      ]
     },
     "execution_count": 168,
     "metadata": {},
     "output_type": "execute_result"
    }
   ],
   "source": [
    "topics_t1 = ldamodel_t1.print_topics(num_words=4)\n",
    "topics_t1"
   ]
  },
  {
   "cell_type": "code",
   "execution_count": 179,
   "metadata": {},
   "outputs": [
    {
     "name": "stdout",
     "output_type": "stream",
     "text": [
      "text count 120\n",
      "Cpherence -12.892132298573932\n",
      "\n",
      "Perplexity:  -7.832391368744356\n"
     ]
    }
   ],
   "source": [
    "# 평가 수치 확인/출력\n",
    "cm = CoherenceModel(model=ldamodel_t1, corpus=corpus_t1, coherence='u_mass')\n",
    "coherence = cm.get_coherence()\n",
    "print('text count',len(df3_t1))\n",
    "print(\"\\nCpherence\",coherence)\n",
    "print('\\nPerplexity: ', ldamodel_t1.log_perplexity(corpus_t1))"
   ]
  },
  {
   "cell_type": "code",
   "execution_count": 170,
   "metadata": {},
   "outputs": [
    {
     "data": {
      "text/html": [
       "\n",
       "<link rel=\"stylesheet\" type=\"text/css\" href=\"https://cdn.rawgit.com/bmabey/pyLDAvis/files/ldavis.v1.0.0.css\">\n",
       "\n",
       "\n",
       "<div id=\"ldavis_el1092825453930778321845650668\"></div>\n",
       "<script type=\"text/javascript\">\n",
       "\n",
       "var ldavis_el1092825453930778321845650668_data = {\"mdsDat\": {\"x\": [-0.08321949709022568, 0.07159406793451907, 0.050223187355572456, -0.03389788071785069, 0.006198569031268156, -0.023435779800451886, -0.011351390889421864, 0.01200177613741702, 0.006769660421954218, 0.005117287617219126], \"y\": [0.07403319618049599, 0.06015512277217258, 0.012267822468954494, -0.017949211767362326, -0.007138430039348182, -0.02887592461064354, -0.03879814414189598, -0.02238613755150615, -0.008667344374691324, -0.022640948936175437], \"topics\": [1, 2, 3, 4, 5, 6, 7, 8, 9, 10], \"cluster\": [1, 1, 1, 1, 1, 1, 1, 1, 1, 1], \"Freq\": [18.032034829530417, 14.841325395986308, 10.586670741691366, 10.049292016241237, 9.788889567643814, 8.797746436158729, 8.674857818615788, 8.080560995019544, 8.002437993313295, 3.1461842057995]}, \"tinfo\": {\"Term\": [\"\\uc88b\\uc544\\uc694\", \"\\ub9db\", \"\\uc6b0\\uc720\", \"\\ud569\\ub2c8\\ub2e4\", \"\\uac74\\uac15\", \"\\uc5b4\\uc694\", \"\\uc798\", \"\\uad6c\\ub9e4\", \"\\ub2ec\", \"\\uc694\", \"\\ud588\", \"\\ub9e4\\uc77c\\uc720\\uc5c5\", \"\\uac19\\uc544\\uc694\", \"\\uc885\\uc774\", \"\\ucc98\\uc74c\", \"\\ub300\\uc6a9\", \"\\uc800\\ub834\", \"\\uc624\\ud2b8\", \"\\ubc30\\uc1a1\", \"\\uac83\", \"\\uc544\\ubaac\\ub4dc\", \"\\ub9cc\\uc871\", \"\\uae54\\ub054\\ud55c\", \"\\uc880\", \"\\uc0dd\\uac01\", \"\\ube68\\ub300\", \"\\uc5b4\\ubcf4\", \"\\ub4ef\", \"\\uc5b4\\uba54\\uc774\\uc9d5\", \"\\uc81c\\ud488\", \"\\uc544\\uce68\\uc2dd\\uc0ac\", \"\\uc54a\\uace0\", \"\\ub2e8\\ub9db\", \"\\uc88b\\uc744\", \"\\ub300\\uccb4\", \"\\uba74\\uc11c\", \"\\ub290\\uaef4\", \"\\ub290\\uaef4\\uc838\\uc694\", \"\\ub9db\\uc788\\ub2f5\\ub2c8\\ub2e4\", \"\\uc0c0\", \"\\uac19\\uc544\\uc694\", \"\\uac78\\ucb49\", \"\\uc4f0\\uae30\", \"\\uac19\\uc740\", \"\\ud558\\uae30\", \"\\ub098\\uc11c\", \"\\uc740\\ud55c\", \"\\uc740\", \"\\uc55e\", \"\\ube44\\uc2b7\\ud55c\", \"\\uac00\\uae4c\\uc6cc\\uc11c\", \"\\ub35c\\ud558\", \"\\ub77c\\uc774\\ud2b8\", \"\\ub4e0\\ub4e0\\ud55c\", \"\\ub2e8\\ub3c5\", \"\\ub18d\\ub3c4\", \"\\uace1\\ubb3c\", \"\\uc2dc\\ub108\\uc9c0\", \"\\ud6a8\\uacfc\", \"\\ub418\\ub124\\uc694\", \"\\ud568\", \"\\uc9c0\\uc9c0\", \"\\uc88b\\uc2b5\\ub2c8\\ub2e4\", \"\\uc9c4\\ud558\", \"\\uc694\", \"\\uac83\", \"\\ub300\\uc6a9\", \"\\ub9db\", \"\\ub450\\uc720\", \"\\ub2ec\", \"\\ub370\", \"\\uc6b0\\uc720\", \"\\uc544\\uc8fc\", \"\\uc5b4\\uba54\\uc774\\uc9d5\", \"\\uc624\\ud2b8\", \"\\ub2e4\\uc774\\uc5b4\\ud2b8\", \"\\uba39\\uae30\", \"\\uc5b4\\ubcf4\", \"\\uc5b4\\uc694\", \"\\uace0\\uc18c\", \"\\uc8fc\\ubb38\", \"\\uad6c\\ub9e4\", \"\\uac74\\uac15\", \"\\uc544\\ubaac\\ub4dc\", \"\\uba39\", \"\\ubab8\", \"\\uc654\", \"\\ub2a6\\uc5c8\", \"\\uc800\\ub834\", \"\\ubc30\\uc1a1\", \"\\ubd24\", \"\\uc74c\\ubcf4\", \"\\ub354\\ub2c8\", \"\\ud558\\ub124\\uc694\", \"\\ucc98\", \"\\uc8fc\\ub85c\", \"\\uc88b\\uc740\\uac00\", \"\\uc548\\uc88b\\uc740\", \"\\uad81\\uae08\", \"\\uc544\\ub9c8\", \"\\uc2f1\\uac81\\ub2e4\\uace0\", \"\\uc2f1\\uac70\\uc6b4\\uac83\", \"\\uc0bc\\uc721\", \"\\ubd10\\uc694\", \"\\ub9db\\uc5c6\\ub2e4\", \"\\ub098\\uc05c\\uac8c\", \"\\uadf8\\ub7f0\\ub4ef\", \"\\uad6c\\ub4e4\", \"\\uc804\", \"\\uc2eb\", \"\\ub123\\uc9c0\\ub9d0\", \"\\uc0c8\\uace0\", \"\\ucb48\\uae00\\ucb48\\uae00\", \"\\ucb49\\ucb49\", \"\\uc785\\ub2c8\\ub2e4\\uc774\\uac70\", \"\\ubcc4\\ub85c\", \"\\ub300\\uc2e0\", \"\\uac00\\uaca9\", \"\\uc798\", \"\\uc5b4\\uc694\", \"\\uad6c\\ub9e4\", \"\\uc880\", \"\\uad6c\\uc785\", \"\\ud588\", \"\\uba39\", \"\\ud558\\uac8c\", \"\\uc544\\uc8fc\", \"\\uc81c\\ud488\", \"\\uc5b4\\ubcf4\", \"\\ub9e4\\uc77c\", \"\\uc694\", \"\\uc6b0\\uc720\", \"\\uc885\\uc774\", \"\\uc88b\\uc544\\uc694\", \"\\ub35c\", \"\\ub2f9\", \"\\uc774\\ub098\", \"\\uac70\", \"\\ub123\\uc5b4\", \"\\uc74c\\ub8cc\", \"\\ub9db\\uc788\\uace0\", \"\\uc88b\\uc544\\uc694\", \"\\uc694\\uc998\", \"\\ud574\", \"\\ucd9c\\uadfc\\uae38\", \"\\ud479\", \"\\ud329\", \"\\uc54a\\uc744\\uae4c\", \"\\uc11c\\uc694\", \"\\ube60\\uc838\\uc11c\", \"\\ub4e4\\uc774\", \"\\uc218\", \"\\uc918\\uc11c\", \"\\uc120\\ud0dd\", \"\\ub9db\\uc788\\uad6c\\uc694\", \"\\ub2e4\\uc591\", \"\\ud143\\ud143\\ud568\", \"\\ud588\\uc2b5\\ub2c8\\ub2e4\", \"\\uae38\\uace0\", \"\\uc88b\\uc544\", \"\\uac14\", \"\\ub2e4\\uc8fc\", \"\\ub9c8\\uc2dc\\uba74\", \"\\uc9c8\", \"\\ud5c8\\uae30\", \"\\uc774\\ub4ed\", \"\\uc7ac\\ucc28\", \"\\ud2b8\", \"\\uc800\\uc808\\ub85c\", \"\\uc561\", \"\\ucd94\\uac00\", \"\\ud588\", \"\\uc8fc\\ubb38\", \"\\uad6c\\ub9e4\", \"\\uc5b4\\uc11c\", \"\\uc544\\uce68\", \"\\ub2f4\", \"\\uc5b4\\uc694\", \"\\ub300\\uc6a9\", \"\\ub354\", \"\\uc6b0\\uc720\", \"\\uac10\\uc0ac\", \"\\ud569\\ub2c8\\ub2e4\", \"\\uba39\\uc73c\\uba74\", \"\\uac74\", \"\\uac15\\ud558\", \"\\uc2f8\\uac8c\", \"\\ub9c8\\uc2dc\\ub294\\ub370\", \"\\uae54\\ub054\\ud55c\", \"\\ub0a0\", \"\\uad7f\", \"\\uac70\\ubd80\", \"\\ub192\\uc544\\uc11c\", \"\\ud568\\ub7c9\", \"\\uc788\\uace0\", \"\\uc9c0\\uba74\", \"\\ub5a8\\uc5b4\", \"\\uac10\", \"\\uba39\\uc744\\uc218\", \"\\uba39\\uc5b4\\uc57c\\uaca0\", \"\\uce7c\\uc298\", \"\\ub77c\\uc11c\", \"\\uc548\\ub098\", \"\\ub0a8\", \"\\uc6d0\\ub798\", \"\\uc77c\\ubc18\", \"\\ub9d8\", \"\\ub9db\\uc788\\uc74c\", \"\\ud0c8\", \"\\uae00\\uad6c\", \"\\ubfd0\\uc774\", \"\\ub2e8\\ubc31\", \"\\ud560\\ub9cc\", \"\\uacc4\\uc18d\", \"\\uc548\\ub418\\uc5b4\", \"\\ubc1b\\uc544\", \"\\ucfe0\\ud3f0\", \"\\ud560\\uc778\", \"\\uc774\\uc608\", \"\\uc0c0\\ub294\\ub370\", \"\\ub9ac\\uc988\", \"\\ube0c\", \"\\uc885\\uc774\", \"\\ube68\\ub300\", \"\\ub9db\", \"\\uc88b\\ub124\\uc694\", \"\\uc624\\ud2b8\", \"\\uc5b4\\uba54\\uc774\\uc9d5\", \"\\ub9e4\\uc77c\\uc720\\uc5c5\", \"\\ucc98\\uc74c\", \"\\ub054\", \"\\uae54\", \"\\uad6c\\ub9e4\", \"\\uc544\\ubaac\\ub4dc\", \"\\uc5b4\\uc694\", \"\\ub450\\uc720\", \"\\ub2f4\", \"\\uace0\\uc18c\", \"\\uac70\\uc758\", \"\\ub610\", \"\\uc0dd\\uac01\", \"\\uc608\\uc815\", \"\\ub450\", \"\\uac00\\uc9c0\", \"\\ub098\\uc624\\ub294\", \"\\uc785\\ub2c8\\ub2e4\", \"\\uba39\\ub294\", \"\\ube0c\\ub79c\\ub4dc\", \"\\uc88b\\uaca0\\ub124\\uc694\", \"\\ud2c0\", \"\\uc5ed\\uc2dc\", \"\\uc544\\ud574\", \"\\ud53c\\ub098\", \"\\ud788\\ub4e0\", \"\\uc0ac\\uba39\\uc5b4\\ub294\\ub370\", \"\\ub370\\uc774\", \"\\uc774\\ubc88\", \"\\uba39\\uace0\\uc2f6\\uc5c8\", \"\\uba39\\uac8c\\uc694\", \"\\uc785\", \"\\ub9de\\uc558\\uc73c\\uba74\", \"\\uba39\\uc9c0\", \"\\uc54a\\uc558\\ub294\\ub370\", \"\\ubd24\\ub294\\ub370\", \"\\uc885\\ub958\", \"\\uba39\\uc5b4\", \"\\ubc31\\ubc30\", \"\\ud07d\\ub2c8\\ub2e4\", \"\\ub294\", \"\\uc0ac\\uc774\\uc988\", \"\\uace0\\ub9d9\\uc2b5\\ub2c8\\ub2e4\", \"\\uc368\\ub3c4\", \"\\ubc30\", \"\\ud30c\\uc11c\", \"\\uc5c6\\ub294\\ub4ef\", \"\\ub2ec\\uae30\", \"\\uac00\\ubccd\\uac8c\", \"\\uc824\", \"\\ub4ef\", \"\\uc88b\\uace0\", \"\\uba39\\uace0\", \"\\uc785\\ub2c8\\ub2e4\", \"\\ub77c\\ub5bc\", \"\\uc88b\\uc544\\uc694\", \"\\uac83\", \"\\uc624\\ud2b8\", \"\\uc694\", \"\\uc6b0\\uc720\", \"\\ub9db\", \"\\ucee4\\ud53c\", \"\\ubc30\\uc1a1\", \"\\ub9e4\\uc77c\", \"\\ub2e4\\uc774\\uc5b4\\ud2b8\", \"\\uc911\\uc778\", \"\\uc544\\uc9c1\", \"\\ube60\\ub978\", \"\\ub2e4\\ub978\", \"\\uc624\\ud2b8\\ubc00\", \"\\uba39\\ub294\\uac8c\", \"\\ub9cc\\ub4e4\\uc5b4\", \"\\uc800\", \"\\uc250\\uc774\\ud06c\", \"\\uae30\\ub300\", \"\\uba39\\ub294\", \"\\ucd94\\ucc9c\", \"\\uc5ec\", \"\\uc88b\\uc544\\ud569\\ub2c8\\ub2e4\", \"\\ubaa8\\ub450\", \"\\uc790\\ub9c8\\uc790\", \"\\ud0c0\\uc0ac\", \"\\ube44\\ud574\", \"\\ubc18\\ud55c\", \"\\ub418\", \"\\uc800\\ud76c\", \"\\ub118\\uae40\", \"\\ubaa9\", \"\\ucd9c\\uc2dc\", \"\\uc0ac\\uace0\", \"\\uc560\\uc815\", \"\\uc644\\uc804\", \"\\ub9e4\\ub825\", \"\\uac00\\uc871\", \"\\uc6d0\\ud55c\", \"\\uaca0\\uc8e0\", \"\\uadf8\", \"\\uc124\\ud0d5\", \"\\uc2f1\\uac70\\uc6b4\", \"\\ub9cc\\ud07c\", \"\\uba39\\uc73c\\ub824\", \"\\uce74\\ud398\\ub77c\\ub5bc\", \"\\uc74c\", \"\\ub2e4\\ub974\", \"\\ub9cc\\ub4e4\", \"\\uc0c1\\ud488\", \"\\uc84c\", \"\\ubd80\\uc11c\", \"\\uba39\\uc2b5\\ub2c8\\ub2e4\", \"\\uba40\\uca61\\ud574\\uc694\", \"\\uac74\\uac15\", \"\\uc88b\", \"\\ub9db\", \"\\uc788\", \"\\uc0dd\\uac01\", \"\\uc5b4\\ubcf4\", \"\\ub370\", \"\\uc88b\\uc544\\uc694\", \"\\uc5b4\\uc694\", \"\\uc81c\\ud488\", \"\\uba39\", \"\\ucc98\\uc74c\", \"\\uc694\", \"\\uae54\", \"\\ub054\", \"\\ub450\", \"\\uac00\\uc9c0\", \"\\uc624\\ud2b8\\ubc00\", \"\\ube68\\ub300\", \"\\uc5b4\\uc11c\", \"\\ubc15\\uc2a4\", \"\\uc88b\\uc2b5\\ub2c8\\ub2e4\", \"\\uc885\\uc774\", \"\\uace0\\uc694\", \"\\uc880\\ub354\", \"\\ud06c\\uac8c\", \"\\uc88b\\ub2e4\", \"\\ud558\\ub2c8\", \"\\ud558\\ub098\", \"\\uc784\", \"\\ub9cc\\uc871\", \"\\ud569\\ub2c8\\ub2e4\", \"\\ucc38\\uace0\", \"\\ucca8\\uac00\", \"\\uae30\\uc874\", \"\\ud5a5\\ub8cc\", \"\\ub290\\ub07c\\ud55c\\ub4ef\", \"\\uac04\\ud3b8\", \"\\ub2e8\\ubc31\\uc9c8\", \"\\ubcf4\\ucda9\", \"\\ud569\\uc131\", \"\\ub2e8\\uc810\", \"\\ud558\\uc138\\uc694\", \"\\ub41c\\uac83\\uc740\", \"\\ubb35\", \"\\uc7a5\\uc810\", \"\\uc9c1\\ud558\", \"\\ud558\\ub294\", \"\\uc788\\uc74c\", \"\\uc758\\uc0ac\", \"\\uc54a\\uc544\", \"\\uc5c6\\ub2e4\", \"\\ub098\\uc9c0\", \"\\ud750\\ub9b0\", \"\\uac10\\uc0ac\", \"\\ubc0d\\ubc0d\", \"\\uc880\", \"\\ub9db\", \"\\ub450\\uc720\", \"\\uc88b\\uc544\\uc694\", \"\\uc694\", \"\\uba39\\ub358\", \"\\ub54c\", \"\\ud558\\uac8c\", \"\\uba39\\uae30\", \"\\ub9e4\\uc77c\", \"\\uc624\", \"\\uc57d\\uac04\", \"\\ud2b8\\ub294\", \"\\uae54\", \"\\ub054\", \"\\uac70\", \"\\ub2e8\", \"\\uc785\\ub2c8\\ub2e4\", \"\\ud560\", \"\\ubd80\\uac10\", \"\\uc8fc\", \"\\uc0c9\\ub2e4\\ub974\\uace0\", \"\\uae4c\\uc9c0\", \"\\uc88b\\uc544\\uc11c\", \"\\uad6c\\uc131\", \"\\ubc18\", \"\\ubc1b\\uc73c\\ub2c8\", \"\\uc788\\ub294\", \"\\uc885\\uc774\\uac00\\ubc29\", \"\\ubc1b\", \"\\ud488\", \"\\uc88b\\uad6c\\uc694\", \"\\ud37d\\ud37d\\ud574\", \"\\ub298\", \"\\ub4dc\\ub9bd\", \"\\ubd80\\ubaa8\\ub2d8\", \"\\ubb38\\ud574\", \"\\ubb38\\ud558\", \"\\uad49\\uc7a5\\ud788\", \"\\ubb34\\ub9db\", \"\\uac20\\ucc2e\", \"\\uba39\\uc5c8\\ub294\\ub370\", \"\\uac78\\uc2dc\", \"\\ubd84\", \"\\ub7ec\\ud558\", \"\\ub9de\\uc73c\\uc2e4\\ub4ef\", \"\\uac00\", \"\\ucc28\\ub098\\uc694\", \"\\uad1c\", \"\\ud540\\ub780\\ub4dc\", \"\\ub418\\uace0\", \"\\ub9e4\\ubc88\", \"\\ub2ec\", \"\\ub35c\", \"\\uc0dd\\uac01\", \"\\uc88b\\uc544\\uc694\", \"\\uc624\\ud2b8\", \"\\uc81c\\ud488\", \"\\uad7f\\uad7f\", \"\\uc54a\\uc544\\uc11c\", \"\\uc154\", \"\\ub2e4\\uac00\", \"\\ube14\", \"\\uc720\\uc800\", \"\\ud2f0\\uc288\", \"\\ub9ac\", \"\\uc785\\ub2c8\\ub2e4\", \"\\uc544\\ud558\", \"\\uc2a4\", \"\\ud504\\ub808\", \"\\ud0d4\\ub294\\ub370\", \"\\uc5ec\\uae30\", \"\\ucf1c\\uc11c\", \"\\uc5d0\\uc2a4\", \"\\ub123\\uc73c\\uba74\", \"\\ub0ab\\ub124\\uc694\", \"\\ub3d4\", \"\\ubd88\\ub9ac\", \"\\uc798\\ubabb\", \"\\uc99d\\ub55c\", \"\\ucc3e\\uc558\", \"\\uba39\\ub294\\ub370\", \"\\ub41c\", \"\\ub098\\uc640\\uc11c\", \"\\uc544\\uc27d\\ub124\\uc694\", \"\\ud63c\\ud569\", \"\\uc720\\ub2f9\", \"\\ub9c8\\uc2dc\\ub294\", \"\\ubb34\\uc870\\uac74\", \"\\ub9c8\\uc168\", \"\\uc2f1\\uac70\\uc6cc\\uc11c\", \"\\uc2ec\\uc2ec\", \"\\uac70\\ud488\", \"\\ub9c8\\uc2e4\", \"\\ub2f9\\ub958\", \"\\uc801\\uc5b4\", \"\\ud558\\uba74\", \"\\ub4e0\\ub4e0\\ud574\\uc694\", \"\\uc2dc\\ub9ac\\uc5bc\", \"\\ubbff\\uace0\", \"\\ub9e4\\uc77c\\uc720\\uc5c5\", \"\\uc6b0\\uc720\", \"\\uac74\\uac15\", \"\\uc624\\ud2b8\\ubc00\", \"\\uace0\\uc18c\", \"\\uc5b4\\uc694\", \"\\uc798\", \"\\uc88b\\uc544\\uc694\", \"\\ub9db\", \"\\uc131\\ubd84\", \"\\ub0a8\\ud3b8\", \"\\uac04\\uc2dd\", \"\\ub9ce\\uc544\\uc11c\", \"\\ube0c\\ub9ac\", \"\\ub354\", \"\\uc544\\ubaac\\ub4dc\", \"\\uc18c\\ud654\", \"\\ubabb\", \"\\uc81c\\uc785\", \"\\uba39\", \"\\ub2e4\\uac00\", \"\\uc120\\ubb3c\", \"\\ubd05\\ub2c8\\ub2e4\", \"\\uad1c\\ucc2e\\uc744\", \"\\uc2dc\\ucf1c\", \"\\ub9c8\\uc2dc\\ub294\\ub300\", \"\\ub55c\", \"\\uc88b\\uc73c\\uc2dc\\ub370\\uc694\", \"\\uc5c4\\ub9c8\", \"\\ub07c\\ub2c8\", \"\\uc0c0\\uc5b4\\uc6a9\", \"\\ub9c8\\uc2dc\\uaca0\\uc2b5\\ub2c8\\ub2e4\", \"\\ub118\", \"\\ud2b8\\ub294\", \"\\uc624\", \"\\uba39\\ub358\", \"\\uc774\", \"\\ucc98\\uc74c\", \"\\ud6e8\", \"\\ube0c\\ub9ac\", \"\\ub4ef\", \"\\ub2e4\\uac00\", \"\\uc544\\ubaac\\ub4dc\", \"\\uac70\", \"\\ub2e4\\uc774\\uc5b4\\ud2b8\", \"\\uc798\", \"\\uc81c\\ud488\", \"\\ub300\\uc6a9\", \"\\ucc44\\uc6cc\", \"\\ud0a4\", \"\\uad1c\\ucc2e\\uc740\\ub370\", \"\\uba39\", \"\\uacc1\", \"\\uac00\\uae30\", \"\\uc9c4\\ud589\", \"\\uc5bc\\ub989\", \"\\uc720\\uc775\", \"\\ubc30\\uc1a1\", \"\\uc21c\"], \"Freq\": [12.0, 14.0, 6.0, 2.0, 3.0, 9.0, 4.0, 5.0, 2.0, 6.0, 4.0, 2.0, 3.0, 3.0, 2.0, 2.0, 2.0, 4.0, 2.0, 3.0, 3.0, 1.0, 1.0, 2.0, 1.0, 2.0, 2.0, 1.0, 2.0, 2.0, 1.35270558427814, 1.3525032209008265, 0.9163383037914812, 0.9163383037914812, 0.9163383037914812, 0.9163380002464152, 0.9163373931562833, 0.9163344588873122, 0.9163326376169164, 0.910590981512403, 2.225424057362961, 0.47996358645070625, 0.47996358645070625, 0.47996358645070625, 0.47996358645070625, 0.47996358645070625, 0.47996358645070625, 0.47996358645070625, 0.47996358645070625, 0.47996358645070625, 0.47996358645070625, 0.47996358645070625, 0.47996358645070625, 0.47996358645070625, 0.47996358645070625, 0.47996358645070625, 0.47996358645070625, 0.47996292876972996, 0.47996292876972996, 0.47996292876972996, 0.916346297144885, 0.47996292876972996, 0.9163350659774442, 0.47996292876972996, 3.5006743507025724, 2.225460887497632, 1.3527150953568736, 6.15283501306247, 2.661849618502286, 1.3524941145488474, 1.3527129705414118, 2.2254542095061804, 0.9163362801577081, 0.9163357742492648, 1.3520787637169116, 0.916340732152009, 0.9163434640576027, 0.9163341553422463, 1.8112685858969768, 0.9163755386529069, 0.9163377978830379, 0.9163592484010331, 0.9163522668645159, 0.916337190792906, 0.9163355718858874, 0.8183028388765226, 0.8182994244817764, 0.8181651804737085, 1.597484375530923, 1.5975085261279078, 0.42861555143930335, 0.42861555143930335, 0.42861555143930335, 0.42861555143930335, 0.42861555143930335, 0.42861555143930335, 0.42861555143930335, 0.42861555143930335, 0.42861555143930335, 0.42861555143930335, 0.42861555143930335, 0.42861555143930335, 0.42861555143930335, 0.42861555143930335, 0.42861555143930335, 0.42861555143930335, 0.42861555143930335, 0.42861555143930335, 0.42861555143930335, 0.4286147186600969, 0.4286147186600969, 0.4286147186600969, 0.42861467702113665, 0.42861467702113665, 0.42861467702113665, 0.8183059201595861, 0.818301589707713, 0.8181812531123915, 1.987298828352956, 3.9155539440854783, 2.3770348333737483, 1.2079922082617578, 0.8183036716557289, 1.5975814775863866, 1.207994956433139, 0.8181650139178672, 0.8183026723206813, 0.8183131653386817, 0.8182987582584114, 0.8183106670010625, 1.2079918751500753, 1.207976302178916, 0.8183039214894908, 0.8182490413397906, 0.42861750847043834, 0.42861692552499386, 0.4286165091353907, 0.4286162593016287, 0.4286162593016287, 0.4286161760237081, 0.6603137814059652, 7.539627899794092, 0.34586539038291014, 0.34586539038291014, 0.3458653309787867, 0.3458653309787867, 0.3458653309787867, 0.3458653309787867, 0.3458653309787867, 0.3458653309787867, 0.3458649745540461, 0.3458649745540461, 0.3458649745540461, 0.3458649745540461, 0.3458649745540461, 0.3458649745540461, 0.3458646181293054, 0.3458644696189968, 0.3458644696189968, 0.3458644399169351, 0.34586387557776244, 0.34586387557776244, 0.3458634597488983, 0.3458634597488983, 0.3458634597488983, 0.34585276700667905, 0.34584629195722405, 0.3458455791077427, 0.34584450983352083, 0.3458440940046567, 0.660316989228631, 1.2891957718253386, 0.974764637700143, 1.2891841286171442, 0.6603172268451247, 0.6603201970512967, 0.5637539232606379, 1.2891831781511691, 0.6600797885637331, 0.6603206128801609, 0.6603065935070289, 0.3790858395262955, 0.3547686427876789, 0.3458661329344532, 0.34586568740352736, 0.34586568740352736, 0.3458654794890953, 0.3458651527664164, 0.9495792845817586, 0.6432548261498929, 0.3369313263271847, 0.3369313263271847, 0.3369313263271847, 0.3369313263271847, 0.3369313263271847, 0.3369312981327977, 0.3369312981327977, 0.3369312981327977, 0.3369312981327977, 0.3369312981327977, 0.3369312981327977, 0.3369312981327977, 0.33693070605067116, 0.33693067785628417, 0.33693067785628417, 0.33693067785628417, 0.33693062146751024, 0.33693062146751024, 0.33693062146751024, 0.33693019855170553, 0.33693019855170553, 0.33693019855170553, 0.33693019855170553, 0.33693019855170553, 0.33693019855170553, 0.336929606469579, 0.336929606469579, 0.336929606469579, 0.336929606469579, 0.6432583222538784, 0.6432587169752961, 0.6432586041977482, 1.2559151335459637, 0.9495895473386189, 2.78754994401311, 0.643260239472193, 0.949588194008044, 0.6432565178131118, 0.6432598447507752, 0.6432539239295096, 0.6432612544701242, 0.6432612544701242, 0.949586727899921, 0.6432623258568294, 0.9498430712663347, 0.6432664422373283, 0.4309980640462166, 0.3369331871567253, 0.33693276424092067, 0.3369329052128555, 0.3369327078521467, 0.3369325668802118, 0.33693248229705086, 0.33693248229705086, 0.33693194660369824, 0.33693191840931125, 0.3369317774373764, 0.6319017634533781, 0.6319013240325868, 0.330983357139368, 0.330983357139368, 0.330983357139368, 0.330983357139368, 0.330983357139368, 0.330983357139368, 0.330983357139368, 0.330983357139368, 0.3309831099651729, 0.3309831099651729, 0.3309831099651729, 0.3309831099651729, 0.3309831099651729, 0.3309831099651729, 0.3309828627909778, 0.3309828627909778, 0.3309828627909778, 0.3309828627909778, 0.33098261561678277, 0.33098261561678277, 0.33098261561678277, 0.33098261561678277, 0.33098261561678277, 0.33098206634079375, 0.3309820388769943, 0.33098148960100526, 0.33098148960100526, 0.3309806107594228, 0.6319030267881528, 0.6319030267881528, 0.6318976438834604, 0.6319032464985485, 0.6318987973630373, 0.6319067069372793, 1.835648497343559, 0.6319032464985485, 0.6319105518692026, 0.6318923708339655, 0.6319003902634055, 0.6318287097468366, 0.33098530706912904, 0.3309849775035356, 0.3309848676483378, 0.33098475779314, 0.33098445569134605, 0.3309843458361482, 0.3309843458361482, 0.3309841535895521, 0.3309841535895521, 0.330983906415357, 0.33098376909635974, 0.33098382402395865, 0.33098360431356305, 0.33098360431356305, 0.3309837141687608, 0.3309836592411619, 0.5873975844746905, 0.3076735637903178, 0.3076735637903178, 0.3076735637903178, 0.3076735637903178, 0.3076735637903178, 0.3076735637903178, 0.3076735637903178, 0.3076735637903178, 0.3076735637903178, 0.3076735637903178, 0.3076735637903178, 0.3076735637903178, 0.3076735637903178, 0.3076735637903178, 0.30767353910727874, 0.30767353910727874, 0.30767262583483274, 0.3076725764687546, 0.3076725764687546, 0.3076725764687546, 0.3076725764687546, 0.3076725764687546, 0.3076722062231684, 0.3076722062231684, 0.3076722062231684, 0.3076722062231684, 0.3076722062231684, 0.30767200875885575, 0.30767200875885575, 0.30767200875885575, 0.30767200875885575, 0.30767200875885575, 1.4266326623265801, 0.5873995097517387, 2.2657653549323653, 0.5874023236181939, 0.5874000034125203, 0.5874006451715365, 0.5873973870103778, 0.5873606092821484, 0.30769084191767393, 0.30767697004971084, 0.3076754890673661, 0.30767524223697523, 0.3076751928708971, 0.3076749213574672, 0.3076749213574672, 0.30767477325923276, 0.30767477325923276, 0.3076748226253109, 0.3076748226253109, 0.3076745757949201, 0.3076740327680603, 0.3076740327680603, 0.3076740574510994, 0.30767385998678676, 0.5806243270492656, 0.5806242296962191, 0.5806242296962191, 0.580624034990126, 0.5806239376370794, 0.5806232074892305, 0.857046863703803, 1.6787298438414056, 0.30412514920884315, 0.30412514920884315, 0.30412514920884315, 0.30412514920884315, 0.30412514920884315, 0.30412514920884315, 0.30412514920884315, 0.30412514920884315, 0.30412514920884315, 0.30412514920884315, 0.30412514920884315, 0.3041251248705815, 0.3041251248705815, 0.3041251248705815, 0.3041251248705815, 0.3041251248705815, 0.3041251005323199, 0.3041251005323199, 0.3041251005323199, 0.3041251005323199, 0.3041251005323199, 0.3041251005323199, 0.5514078502830715, 0.5806253979327776, 0.5806215524874394, 0.857122117608775, 0.5806317258808024, 0.3378517979149332, 0.32559290758909204, 0.3041281671532858, 0.3041274613436984, 0.3041270475932506, 0.3041267311958494, 0.30412639046018647, 0.30412587935669216, 0.304125757665384, 0.30412585501843054, 0.30412566031233745, 0.30412566031233745, 0.30412556295929094, 0.30412556295929094, 0.3041253925914595, 0.30412536825319786, 0.30412514920884315, 0.5511498632737128, 0.28868703029203685, 0.28868703029203685, 0.28868703029203685, 0.28868703029203685, 0.28868703029203685, 0.28868703029203685, 0.28868703029203685, 0.28868703029203685, 0.28868703029203685, 0.28868703029203685, 0.28868703029203685, 0.28868671289947956, 0.28868671289947956, 0.28868671289947956, 0.28868671289947956, 0.28868671289947956, 0.28868671289947956, 0.2886862141397467, 0.2886862141397467, 0.2886862141397467, 0.28868610078526197, 0.28868605544346804, 0.28868605544346804, 0.28868605544346804, 0.28868605544346804, 0.28868605544346804, 0.28868605544346804, 0.2886860327725711, 0.2886858740762925, 0.2886858740762925, 0.5511526744649344, 1.0760439260067194, 0.5511017102885951, 0.5511451023853537, 1.0760795646567218, 0.5511519036544382, 0.2886894787489072, 0.2886876650771514, 0.28868755172266664, 0.288687370355491, 0.28868725700100634, 0.2886872796719033, 0.2886872796719033, 0.2886872796719033, 0.2886872796719033, 0.2886871209756246, 0.28868680358306736, 0.2866664521816625, 0.2866664521816625, 0.2866664521816625, 0.2866664521816625, 0.2866664072782338, 0.2866664072782338, 0.2866664072782338, 0.2866664072782338, 0.28666598069566157, 0.28666598069566157, 0.28666598069566157, 0.28666598069566157, 0.28666598069566157, 0.28666598069566157, 0.28666598069566157, 0.28666598069566157, 0.28666598069566157, 0.28666598069566157, 0.28666598069566157, 0.28666559901651795, 0.28666559901651795, 0.2866654194028033, 0.2866654194028033, 0.2866654194028033, 0.28666512753051704, 0.28666512753051704, 0.2866644315273728, 0.2866644315273728, 0.2866628599073698, 0.2866628599073698, 0.2866628599073698, 0.5472919242711598, 0.8079175759743719, 1.5897909837131439, 0.807869708919422, 0.547296504420883, 0.5472897240031556, 0.80795278026244, 0.547281641385997, 0.547265610861966, 0.5472745915476976, 0.2868745346700656, 0.28683061911683766, 0.2867979294207743, 0.28666777683280786, 0.28666728289509263, 0.28666728289509263, 0.28666669915052007, 0.28666669915052007, 0.28666674405394876, 0.28666658689194846, 0.28666658689194846, 0.2866664521816625, 0.2593245041728158, 0.1358325379828319, 0.1358325379828319, 0.1358325379828319, 0.13583245854015935, 0.13583245854015935, 0.1358320171919785, 0.1358320171919785, 0.13583200836501486, 0.1358307549361812, 0.13582934262200247, 0.13583252032890467, 0.13583371196899297, 0.13583371196899297, 0.13582950150734757, 0.13583258211764998, 0.259327911380772, 0.13583289106137658, 0.13583258211764998, 0.13583240557837764, 0.13583231730874146, 0.25932875876927924, 0.13583216725035996, 0.13583287340744934, 0.25932019661457056, 0.13582526456481134, 0.13583045481941824, 0.012349093122849973, 0.012349093122849973, 0.012349093122849973, 0.13583200836501486, 0.012349093122849973, 0.012349093122849973, 0.012349093122849973, 0.012349093122849973, 0.012349093122849973, 0.012368832420238885, 0.012349093122849973], \"Total\": [12.0, 14.0, 6.0, 2.0, 3.0, 9.0, 4.0, 5.0, 2.0, 6.0, 4.0, 2.0, 3.0, 3.0, 2.0, 2.0, 2.0, 4.0, 2.0, 3.0, 3.0, 1.0, 1.0, 2.0, 1.0, 2.0, 2.0, 1.0, 2.0, 2.0, 1.6041207533773083, 1.6040565414300352, 1.1677534728906493, 1.1677534728906493, 1.1677534728906493, 1.1677531693455834, 1.1677525622554514, 1.1677496279864805, 1.1677478067160847, 1.1659485167809502, 3.1289377185163314, 0.7313787555498743, 0.7313787555498743, 0.7313787555498743, 0.7313787555498743, 0.7313787555498743, 0.7313787555498743, 0.7313787555498743, 0.7313787555498743, 0.7313787555498743, 0.7313787555498743, 0.7313787555498743, 0.7313787555498743, 0.7313787555498743, 0.7313787555498743, 0.7313787555498743, 0.7313787555498743, 0.731378097868898, 0.731378097868898, 0.731378097868898, 1.4301920045330268, 0.731378097868898, 1.447452145928729, 0.731378097868898, 6.3629937984603835, 3.9320101603896482, 2.3564644453540016, 14.003408096180701, 5.496893978376759, 2.9601773141495746, 3.1305625683648577, 6.4402773644771605, 1.9470860351147987, 2.042813648642516, 4.039193632609859, 2.17812443828136, 2.321979816784233, 2.5065085194926593, 9.478714471328816, 2.97583298050422, 3.107906369864943, 5.944972341180464, 3.939097400867769, 3.1450172139191466, 3.5779251220117088, 1.0743866242661755, 1.0743832098714294, 1.0743521692877054, 2.16812092131954, 2.4310430659253073, 0.684699336828956, 0.684699336828956, 0.684699336828956, 0.684699336828956, 0.684699336828956, 0.684699336828956, 0.684699336828956, 0.684699336828956, 0.684699336828956, 0.684699336828956, 0.684699336828956, 0.684699336828956, 0.684699336828956, 0.684699336828956, 0.684699336828956, 0.684699336828956, 0.684699336828956, 0.684699336828956, 0.684699336828956, 0.6846985040497497, 0.6846985040497497, 0.6846985040497497, 0.6846984624107895, 0.6846984624107895, 0.6846984624107895, 1.3752760204135899, 1.3752773749682032, 1.3887666021941079, 4.198731448730984, 9.478714471328816, 5.944972341180464, 2.7139736520415747, 1.6494095038695988, 4.155010902412131, 3.5779251220117088, 1.9276877993755168, 1.9470860351147987, 2.31504403141205, 2.5065085194926593, 2.708798312835994, 6.3629937984603835, 6.4402773644771605, 3.1567237707349975, 12.828829968717544, 1.9256368423791956, 0.9643985490653151, 0.9855897127987323, 1.6615296858180792, 0.9453027142584133, 1.9205407046720897, 0.9239211200873072, 12.828829968717544, 0.6094727290642521, 0.6094727290642521, 0.6094726696601287, 0.6094726696601287, 0.6094726696601287, 0.6094726696601287, 0.6094726696601287, 0.6094726696601287, 0.6094723132353881, 0.6094723132353881, 0.6094723132353881, 0.6094723132353881, 0.6094723132353881, 0.6094723132353881, 0.6094719568106474, 0.6094718083003388, 0.6094718083003388, 0.6094717785982771, 0.6094712142591043, 0.6094712142591043, 0.6094707984302403, 0.6094707984302403, 0.6094707984302403, 0.6094779041794413, 0.6094803710617214, 0.6094806700291265, 0.6094811248040901, 0.609481259150658, 1.3602448371610503, 4.155010902412131, 3.107906369864943, 5.944972341180464, 1.94083836638121, 2.0123306371263174, 1.5286094370547734, 9.478714471328816, 2.3564644453540016, 2.4833273327350596, 6.4402773644771605, 1.1664514978477691, 2.836405754891578, 1.259721856923574, 0.8891728388786642, 0.8891728388786642, 0.9991067932272089, 0.870075497790605, 1.213998977027941, 0.9076745185960751, 0.6013510187733668, 0.6013510187733668, 0.6013510187733668, 0.6013510187733668, 0.6013510187733668, 0.6013509905789798, 0.6013509905789798, 0.6013509905789798, 0.6013509905789798, 0.6013509905789798, 0.6013509905789798, 0.6013509905789798, 0.6013503984968533, 0.6013503703024663, 0.6013503703024663, 0.6013503703024663, 0.6013503139136924, 0.6013503139136924, 0.6013503139136924, 0.6013498909978876, 0.6013498909978876, 0.6013498909978876, 0.6013498909978876, 0.6013498909978876, 0.6013498909978876, 0.6013492989157612, 0.6013492989157612, 0.6013492989157612, 0.6013492989157612, 1.187376198413276, 1.3439999810802865, 1.3439998683027385, 3.1567237707349975, 2.4607125480932175, 14.003408096180701, 1.8741805903914184, 4.039193632609859, 2.042813648642516, 2.1258532922998326, 2.147144717841314, 2.162616509432876, 2.162616509432876, 5.944972341180464, 3.1450172139191466, 9.478714471328816, 5.496893978376759, 1.5286094370547734, 2.97583298050422, 1.2918874024004958, 1.4273201473641626, 1.9865692701393203, 0.9022376404215634, 1.1416548463513632, 1.1416548463513632, 0.8619544882307267, 1.7420760226632552, 1.3385682777839691, 0.8968622231096602, 0.8968617836888689, 0.5959438167956502, 0.5959438167956502, 0.5959438167956502, 0.5959438167956502, 0.5959438167956502, 0.5959438167956502, 0.5959438167956502, 0.5959438167956502, 0.5959435696214551, 0.5959435696214551, 0.5959435696214551, 0.5959435696214551, 0.5959435696214551, 0.5959435696214551, 0.59594332244726, 0.59594332244726, 0.59594332244726, 0.59594332244726, 0.595943075273065, 0.595943075273065, 0.595943075273065, 0.595943075273065, 0.595943075273065, 0.595942525997076, 0.5959424985332765, 0.5959419492572875, 0.5959419492572875, 0.595941070415705, 1.2865078284989555, 1.3266427598551893, 1.333186150826625, 1.7228282730476159, 1.7420760226632552, 1.863368385281552, 12.828829968717544, 3.9320101603896482, 4.039193632609859, 6.3629937984603835, 6.4402773644771605, 14.003408096180701, 1.5086324524120314, 2.4310430659253073, 2.708798312835994, 2.17812443828136, 1.3119681341676235, 0.9855870655989349, 0.8724147469960652, 1.032267955584194, 2.4240957529807736, 0.9103638569886405, 0.8565465839957732, 0.85838413970786, 0.8565467559886913, 0.8583835119213193, 1.3385682777839691, 0.9855880445623613, 0.8544773344111585, 0.5747533137267858, 0.5747533137267858, 0.5747533137267858, 0.5747533137267858, 0.5747533137267858, 0.5747533137267858, 0.5747533137267858, 0.5747533137267858, 0.5747533137267858, 0.5747533137267858, 0.5747533137267858, 0.5747533137267858, 0.5747533137267858, 0.5747533137267858, 0.5747532890437468, 0.5747532890437468, 0.5747523757713008, 0.5747523264052227, 0.5747523264052227, 0.5747523264052227, 0.5747523264052227, 0.5747523264052227, 0.5747519561596364, 0.5747519561596364, 0.5747519561596364, 0.5747519561596364, 0.5747519561596364, 0.5747517586953238, 0.5747517586953238, 0.5747517586953238, 0.5747517586953238, 0.5747517586953238, 3.939097400867769, 1.417810737179989, 14.003408096180701, 1.605221527010126, 1.9865692701393203, 2.5065085194926593, 3.1305625683648577, 12.828829968717544, 9.478714471328816, 2.31504403141205, 3.5779251220117088, 2.147144717841314, 6.3629937984603835, 2.162616509432876, 2.162616509432876, 1.1416548463513632, 1.1416548463513632, 2.4240957529807736, 2.4607125480932175, 1.94083836638121, 0.9643912126916359, 1.447452145928729, 3.1567237707349975, 0.8810516854575047, 0.8480266620114297, 0.8480265646583832, 0.8480265646583832, 0.8480263699522902, 0.8480262725992436, 0.8480255424513946, 1.4308203667769817, 2.836405754891578, 0.5715274841710072, 0.5715274841710072, 0.5715274841710072, 0.5715274841710072, 0.5715274841710072, 0.5715274841710072, 0.5715274841710072, 0.5715274841710072, 0.5715274841710072, 0.5715274841710072, 0.5715274841710072, 0.5715274598327456, 0.5715274598327456, 0.5715274598327456, 0.5715274598327456, 0.5715274598327456, 0.5715274354944839, 0.5715274354944839, 0.5715274354944839, 0.5715274354944839, 0.5715274354944839, 0.5715274354944839, 1.1664514978477691, 1.5001105240197843, 2.7139736520415747, 14.003408096180701, 5.496893978376759, 12.828829968717544, 6.3629937984603835, 1.0846555023882298, 1.408988670977087, 1.9276877993755168, 2.321979816784233, 2.708798312835994, 1.0013026195494774, 1.0078423286139284, 1.0013025670168285, 2.162616509432876, 2.162616509432876, 1.6615296858180792, 0.8339675725818986, 1.7420760226632552, 1.3222748246169873, 0.8859571182294883, 0.8199557850901421, 0.5574929521084662, 0.5574929521084662, 0.5574929521084662, 0.5574929521084662, 0.5574929521084662, 0.5574929521084662, 0.5574929521084662, 0.5574929521084662, 0.5574929521084662, 0.5574929521084662, 0.5574929521084662, 0.5574926347159088, 0.5574926347159088, 0.5574926347159088, 0.5574926347159088, 0.5574926347159088, 0.5574926347159088, 0.557492135956176, 0.557492135956176, 0.557492135956176, 0.5574920226016913, 0.5574919772598973, 0.5574919772598973, 0.5574919772598973, 0.5574919772598973, 0.5574919772598973, 0.5574919772598973, 0.5574919545890004, 0.5574917958927218, 0.5574917958927218, 1.2095996904969795, 2.9601773141495746, 1.9256368423791956, 1.9865692701393203, 12.828829968717544, 4.039193632609859, 2.31504403141205, 0.837186690437091, 1.2534320206654086, 0.8719118029208848, 1.3312284390142204, 0.8583840753433923, 0.8583840753433923, 0.8583840753433923, 0.8583840753433923, 1.7420760226632552, 0.8371931059031903, 0.5556560681361179, 0.5556560681361179, 0.5556560681361179, 0.5556560681361179, 0.5556560232326893, 0.5556560232326893, 0.5556560232326893, 0.5556560232326893, 0.555655596650117, 0.555655596650117, 0.555655596650117, 0.555655596650117, 0.555655596650117, 0.555655596650117, 0.555655596650117, 0.555655596650117, 0.555655596650117, 0.555655596650117, 0.555655596650117, 0.5556552149709734, 0.5556552149709734, 0.5556550353572588, 0.5556550353572588, 0.5556550353572588, 0.5556547434849725, 0.5556547434849725, 0.5556540474818282, 0.5556540474818282, 0.5556524758618252, 0.5556524758618252, 0.5556524758618252, 1.1171733753136561, 2.1258532922998326, 6.4402773644771605, 3.939097400867769, 2.4240957529807736, 2.97583298050422, 9.478714471328816, 4.198731448730984, 12.828829968717544, 14.003408096180701, 0.9918390738179913, 0.9918678573080631, 0.9918784755030902, 0.9919741583158602, 1.259730604109917, 2.4833273327350596, 3.1450172139191466, 0.9919814281228864, 0.8700764152645781, 0.8565475435860544, 3.5779251220117088, 1.3312284390142204, 0.5420272829023776, 0.41853531671239375, 0.41853531671239375, 0.41853531671239375, 0.4185352372697212, 0.4185352372697212, 0.4185347959215403, 0.4185347959215403, 0.4185347870945767, 0.4185335336657431, 0.4185321213515643, 0.6982357536112774, 1.0013025670168285, 1.0013026195494774, 1.0846555023882298, 1.1090727738699437, 2.147144717841314, 1.1611565303689992, 1.259730604109917, 1.3266427598551893, 1.3312284390142204, 3.1450172139191466, 1.6615296858180792, 2.17812443828136, 4.198731448730984, 2.31504403141205, 2.3564644453540016, 0.29505187185241183, 0.29505187185241183, 0.29505187185241183, 3.5779251220117088, 0.29505187185241183, 0.29505187185241183, 0.29505187185241183, 0.29505187185241183, 0.29505187185241183, 2.4310430659253073, 0.29505187185241183], \"Category\": [\"Default\", \"Default\", \"Default\", \"Default\", \"Default\", \"Default\", \"Default\", \"Default\", \"Default\", \"Default\", \"Default\", \"Default\", \"Default\", \"Default\", \"Default\", \"Default\", \"Default\", \"Default\", \"Default\", \"Default\", \"Default\", \"Default\", \"Default\", \"Default\", \"Default\", \"Default\", \"Default\", \"Default\", \"Default\", \"Default\", \"Topic1\", \"Topic1\", \"Topic1\", \"Topic1\", \"Topic1\", \"Topic1\", \"Topic1\", \"Topic1\", \"Topic1\", \"Topic1\", \"Topic1\", \"Topic1\", \"Topic1\", \"Topic1\", \"Topic1\", \"Topic1\", \"Topic1\", \"Topic1\", \"Topic1\", \"Topic1\", \"Topic1\", \"Topic1\", \"Topic1\", \"Topic1\", \"Topic1\", \"Topic1\", \"Topic1\", \"Topic1\", \"Topic1\", \"Topic1\", \"Topic1\", \"Topic1\", \"Topic1\", \"Topic1\", \"Topic1\", \"Topic1\", \"Topic1\", \"Topic1\", \"Topic1\", \"Topic1\", \"Topic1\", \"Topic1\", \"Topic1\", \"Topic1\", \"Topic1\", \"Topic1\", \"Topic1\", \"Topic1\", \"Topic1\", \"Topic1\", \"Topic1\", \"Topic1\", \"Topic1\", \"Topic1\", \"Topic1\", \"Topic2\", \"Topic2\", \"Topic2\", \"Topic2\", \"Topic2\", \"Topic2\", \"Topic2\", \"Topic2\", \"Topic2\", \"Topic2\", \"Topic2\", \"Topic2\", \"Topic2\", \"Topic2\", \"Topic2\", \"Topic2\", \"Topic2\", \"Topic2\", \"Topic2\", \"Topic2\", \"Topic2\", \"Topic2\", \"Topic2\", \"Topic2\", \"Topic2\", \"Topic2\", \"Topic2\", \"Topic2\", \"Topic2\", \"Topic2\", \"Topic2\", \"Topic2\", \"Topic2\", \"Topic2\", \"Topic2\", \"Topic2\", \"Topic2\", \"Topic2\", \"Topic2\", \"Topic2\", \"Topic2\", \"Topic2\", \"Topic2\", \"Topic2\", \"Topic2\", \"Topic2\", \"Topic2\", \"Topic2\", \"Topic2\", \"Topic2\", \"Topic2\", \"Topic2\", \"Topic2\", \"Topic2\", \"Topic2\", \"Topic3\", \"Topic3\", \"Topic3\", \"Topic3\", \"Topic3\", \"Topic3\", \"Topic3\", \"Topic3\", \"Topic3\", \"Topic3\", \"Topic3\", \"Topic3\", \"Topic3\", \"Topic3\", \"Topic3\", \"Topic3\", \"Topic3\", \"Topic3\", \"Topic3\", \"Topic3\", \"Topic3\", \"Topic3\", \"Topic3\", \"Topic3\", \"Topic3\", \"Topic3\", \"Topic3\", \"Topic3\", \"Topic3\", \"Topic3\", \"Topic3\", \"Topic3\", \"Topic3\", \"Topic3\", \"Topic3\", \"Topic3\", \"Topic3\", \"Topic3\", \"Topic3\", \"Topic3\", \"Topic3\", \"Topic3\", \"Topic3\", \"Topic3\", \"Topic3\", \"Topic3\", \"Topic3\", \"Topic3\", \"Topic4\", \"Topic4\", \"Topic4\", \"Topic4\", \"Topic4\", \"Topic4\", \"Topic4\", \"Topic4\", \"Topic4\", \"Topic4\", \"Topic4\", \"Topic4\", \"Topic4\", \"Topic4\", \"Topic4\", \"Topic4\", \"Topic4\", \"Topic4\", \"Topic4\", \"Topic4\", \"Topic4\", \"Topic4\", \"Topic4\", \"Topic4\", \"Topic4\", \"Topic4\", \"Topic4\", \"Topic4\", \"Topic4\", \"Topic4\", \"Topic4\", \"Topic4\", \"Topic4\", \"Topic4\", \"Topic4\", \"Topic4\", \"Topic4\", \"Topic4\", \"Topic4\", \"Topic4\", \"Topic4\", \"Topic4\", \"Topic4\", \"Topic4\", \"Topic4\", \"Topic4\", \"Topic4\", \"Topic4\", \"Topic4\", \"Topic4\", \"Topic4\", \"Topic4\", \"Topic4\", \"Topic4\", \"Topic4\", \"Topic4\", \"Topic4\", \"Topic4\", \"Topic4\", \"Topic5\", \"Topic5\", \"Topic5\", \"Topic5\", \"Topic5\", \"Topic5\", \"Topic5\", \"Topic5\", \"Topic5\", \"Topic5\", \"Topic5\", \"Topic5\", \"Topic5\", \"Topic5\", \"Topic5\", \"Topic5\", \"Topic5\", \"Topic5\", \"Topic5\", \"Topic5\", \"Topic5\", \"Topic5\", \"Topic5\", \"Topic5\", \"Topic5\", \"Topic5\", \"Topic5\", \"Topic5\", \"Topic5\", \"Topic5\", \"Topic5\", \"Topic5\", \"Topic5\", \"Topic5\", \"Topic5\", \"Topic5\", \"Topic5\", \"Topic5\", \"Topic5\", \"Topic5\", \"Topic5\", \"Topic5\", \"Topic5\", \"Topic5\", \"Topic5\", \"Topic5\", \"Topic5\", \"Topic5\", \"Topic5\", \"Topic5\", \"Topic5\", \"Topic5\", \"Topic5\", \"Topic5\", \"Topic5\", \"Topic5\", \"Topic5\", \"Topic5\", \"Topic6\", \"Topic6\", \"Topic6\", \"Topic6\", \"Topic6\", \"Topic6\", \"Topic6\", \"Topic6\", \"Topic6\", \"Topic6\", \"Topic6\", \"Topic6\", \"Topic6\", \"Topic6\", \"Topic6\", \"Topic6\", \"Topic6\", \"Topic6\", \"Topic6\", \"Topic6\", \"Topic6\", \"Topic6\", \"Topic6\", \"Topic6\", \"Topic6\", \"Topic6\", \"Topic6\", \"Topic6\", \"Topic6\", \"Topic6\", \"Topic6\", \"Topic6\", \"Topic6\", \"Topic6\", \"Topic6\", \"Topic6\", \"Topic6\", \"Topic6\", \"Topic6\", \"Topic6\", \"Topic6\", \"Topic6\", \"Topic6\", \"Topic6\", \"Topic6\", \"Topic6\", \"Topic6\", \"Topic6\", \"Topic6\", \"Topic6\", \"Topic6\", \"Topic6\", \"Topic6\", \"Topic6\", \"Topic6\", \"Topic6\", \"Topic6\", \"Topic7\", \"Topic7\", \"Topic7\", \"Topic7\", \"Topic7\", \"Topic7\", \"Topic7\", \"Topic7\", \"Topic7\", \"Topic7\", \"Topic7\", \"Topic7\", \"Topic7\", \"Topic7\", \"Topic7\", \"Topic7\", \"Topic7\", \"Topic7\", \"Topic7\", \"Topic7\", \"Topic7\", \"Topic7\", \"Topic7\", \"Topic7\", \"Topic7\", \"Topic7\", \"Topic7\", \"Topic7\", \"Topic7\", \"Topic7\", \"Topic7\", \"Topic7\", \"Topic7\", \"Topic7\", \"Topic7\", \"Topic7\", \"Topic7\", \"Topic7\", \"Topic7\", \"Topic7\", \"Topic7\", \"Topic7\", \"Topic7\", \"Topic7\", \"Topic7\", \"Topic7\", \"Topic7\", \"Topic7\", \"Topic7\", \"Topic7\", \"Topic7\", \"Topic7\", \"Topic8\", \"Topic8\", \"Topic8\", \"Topic8\", \"Topic8\", \"Topic8\", \"Topic8\", \"Topic8\", \"Topic8\", \"Topic8\", \"Topic8\", \"Topic8\", \"Topic8\", \"Topic8\", \"Topic8\", \"Topic8\", \"Topic8\", \"Topic8\", \"Topic8\", \"Topic8\", \"Topic8\", \"Topic8\", \"Topic8\", \"Topic8\", \"Topic8\", \"Topic8\", \"Topic8\", \"Topic8\", \"Topic8\", \"Topic8\", \"Topic8\", \"Topic8\", \"Topic8\", \"Topic8\", \"Topic8\", \"Topic8\", \"Topic8\", \"Topic8\", \"Topic8\", \"Topic8\", \"Topic8\", \"Topic8\", \"Topic8\", \"Topic8\", \"Topic8\", \"Topic8\", \"Topic8\", \"Topic8\", \"Topic9\", \"Topic9\", \"Topic9\", \"Topic9\", \"Topic9\", \"Topic9\", \"Topic9\", \"Topic9\", \"Topic9\", \"Topic9\", \"Topic9\", \"Topic9\", \"Topic9\", \"Topic9\", \"Topic9\", \"Topic9\", \"Topic9\", \"Topic9\", \"Topic9\", \"Topic9\", \"Topic9\", \"Topic9\", \"Topic9\", \"Topic9\", \"Topic9\", \"Topic9\", \"Topic9\", \"Topic9\", \"Topic9\", \"Topic9\", \"Topic9\", \"Topic9\", \"Topic9\", \"Topic9\", \"Topic9\", \"Topic9\", \"Topic9\", \"Topic9\", \"Topic9\", \"Topic9\", \"Topic9\", \"Topic9\", \"Topic9\", \"Topic9\", \"Topic9\", \"Topic9\", \"Topic9\", \"Topic9\", \"Topic9\", \"Topic9\", \"Topic9\", \"Topic9\", \"Topic9\", \"Topic10\", \"Topic10\", \"Topic10\", \"Topic10\", \"Topic10\", \"Topic10\", \"Topic10\", \"Topic10\", \"Topic10\", \"Topic10\", \"Topic10\", \"Topic10\", \"Topic10\", \"Topic10\", \"Topic10\", \"Topic10\", \"Topic10\", \"Topic10\", \"Topic10\", \"Topic10\", \"Topic10\", \"Topic10\", \"Topic10\", \"Topic10\", \"Topic10\", \"Topic10\", \"Topic10\", \"Topic10\", \"Topic10\", \"Topic10\", \"Topic10\", \"Topic10\", \"Topic10\", \"Topic10\", \"Topic10\", \"Topic10\", \"Topic10\", \"Topic10\"], \"logprob\": [30.0, 29.0, 28.0, 27.0, 26.0, 25.0, 24.0, 23.0, 22.0, 21.0, 20.0, 19.0, 18.0, 17.0, 16.0, 15.0, 14.0, 13.0, 12.0, 11.0, 10.0, 9.0, 8.0, 7.0, 6.0, 5.0, 4.0, 3.0, 2.0, 1.0, -5.079100131988525, -5.0792999267578125, -5.468599796295166, -5.468599796295166, -5.468599796295166, -5.468599796295166, -5.468599796295166, -5.468599796295166, -5.468599796295166, -5.474899768829346, -4.581299781799316, -6.115300178527832, -6.115300178527832, -6.115300178527832, -6.115300178527832, -6.115300178527832, -6.115300178527832, -6.115300178527832, -6.115300178527832, -6.115300178527832, -6.115300178527832, -6.115300178527832, -6.115300178527832, -6.115300178527832, -6.115300178527832, -6.115300178527832, -6.115300178527832, -6.115300178527832, -6.115300178527832, -6.115300178527832, -5.468599796295166, -6.115300178527832, -5.468599796295166, -6.115300178527832, -4.128300189971924, -4.581299781799316, -5.079100131988525, -3.564300060272217, -4.402200222015381, -5.0792999267578125, -5.079100131988525, -4.581299781799316, -5.468599796295166, -5.468599796295166, -5.079599857330322, -5.468599796295166, -5.468599796295166, -5.468599796295166, -4.787199974060059, -5.468500137329102, -5.468599796295166, -5.468599796295166, -5.468599796295166, -5.468599796295166, -5.468599796295166, -5.38700008392334, -5.38700008392334, -5.387199878692627, -4.7179999351501465, -4.7179999351501465, -6.033699989318848, -6.033699989318848, -6.033699989318848, -6.033699989318848, -6.033699989318848, -6.033699989318848, -6.033699989318848, -6.033699989318848, -6.033699989318848, -6.033699989318848, -6.033699989318848, -6.033699989318848, -6.033699989318848, -6.033699989318848, -6.033699989318848, -6.033699989318848, -6.033699989318848, -6.033699989318848, -6.033699989318848, -6.033699989318848, -6.033699989318848, -6.033699989318848, -6.033699989318848, -6.033699989318848, -6.033699989318848, -5.38700008392334, -5.38700008392334, -5.387199878692627, -4.49970006942749, -3.821500062942505, -4.3206000328063965, -4.997499942779541, -5.38700008392334, -4.7179999351501465, -4.997499942779541, -5.387199878692627, -5.38700008392334, -5.38700008392334, -5.38700008392334, -5.38700008392334, -4.997499942779541, -4.997499942779541, -5.38700008392334, -5.3871002197265625, -6.033699989318848, -6.033699989318848, -6.033699989318848, -6.033699989318848, -6.033699989318848, -6.033699989318848, -5.263700008392334, -2.8285000324249268, -5.910399913787842, -5.910399913787842, -5.910399913787842, -5.910399913787842, -5.910399913787842, -5.910399913787842, -5.910399913787842, -5.910399913787842, -5.910399913787842, -5.910399913787842, -5.910399913787842, -5.910399913787842, -5.910399913787842, -5.910399913787842, -5.910399913787842, -5.910399913787842, -5.910399913787842, -5.910399913787842, -5.910399913787842, -5.910399913787842, -5.910399913787842, -5.910399913787842, -5.910399913787842, -5.910399913787842, -5.910399913787842, -5.910399913787842, -5.910399913787842, -5.910399913787842, -5.263700008392334, -4.594600200653076, -4.874199867248535, -4.594699859619141, -5.263700008392334, -5.263700008392334, -5.421800136566162, -4.594699859619141, -5.264100074768066, -5.263700008392334, -5.263700008392334, -5.818699836730957, -5.884900093078613, -5.910399913787842, -5.910399913787842, -5.910399913787842, -5.910399913787842, -5.910399913787842, -4.848299980163574, -5.237800121307373, -5.884399890899658, -5.884399890899658, -5.884399890899658, -5.884399890899658, -5.884399890899658, -5.884399890899658, -5.884399890899658, -5.884399890899658, -5.884399890899658, -5.884399890899658, -5.884399890899658, -5.884399890899658, -5.884399890899658, -5.884399890899658, -5.884399890899658, -5.884399890899658, -5.884399890899658, -5.884399890899658, -5.884399890899658, -5.884399890899658, -5.884399890899658, -5.884399890899658, -5.884399890899658, -5.884399890899658, -5.884399890899658, -5.884399890899658, -5.884399890899658, -5.884399890899658, -5.884399890899658, -5.237800121307373, -5.237800121307373, -5.237800121307373, -4.568699836730957, -4.848299980163574, -3.771399974822998, -5.237800121307373, -4.848299980163574, -5.237800121307373, -5.237800121307373, -5.237800121307373, -5.237800121307373, -5.237800121307373, -4.848299980163574, -5.237800121307373, -4.8480000495910645, -5.237800121307373, -5.638199806213379, -5.884399890899658, -5.884399890899658, -5.884399890899658, -5.884399890899658, -5.884399890899658, -5.884399890899658, -5.884399890899658, -5.884399890899658, -5.884399890899658, -5.884399890899658, -5.229300022125244, -5.229300022125244, -5.875999927520752, -5.875999927520752, -5.875999927520752, -5.875999927520752, -5.875999927520752, -5.875999927520752, -5.875999927520752, -5.875999927520752, -5.875999927520752, -5.875999927520752, -5.875999927520752, -5.875999927520752, -5.875999927520752, -5.875999927520752, -5.875999927520752, -5.875999927520752, -5.875999927520752, -5.875999927520752, -5.875999927520752, -5.875999927520752, -5.875999927520752, -5.875999927520752, -5.875999927520752, -5.875999927520752, -5.875999927520752, -5.875999927520752, -5.875999927520752, -5.875999927520752, -5.229300022125244, -5.229300022125244, -5.229300022125244, -5.229300022125244, -5.229300022125244, -5.229300022125244, -4.162899971008301, -5.229300022125244, -5.229300022125244, -5.229300022125244, -5.229300022125244, -5.229400157928467, -5.875999927520752, -5.875999927520752, -5.875999927520752, -5.875999927520752, -5.875999927520752, -5.875999927520752, -5.875999927520752, -5.875999927520752, -5.875999927520752, -5.875999927520752, -5.875999927520752, -5.875999927520752, -5.875999927520752, -5.875999927520752, -5.875999927520752, -5.875999927520752, -5.1956000328063965, -5.842299938201904, -5.842299938201904, -5.842299938201904, -5.842299938201904, -5.842299938201904, -5.842299938201904, -5.842299938201904, -5.842299938201904, -5.842299938201904, -5.842299938201904, -5.842299938201904, -5.842299938201904, -5.842299938201904, -5.842299938201904, -5.842299938201904, -5.842299938201904, -5.842299938201904, -5.842299938201904, -5.842299938201904, -5.842299938201904, -5.842299938201904, -5.842299938201904, -5.842299938201904, -5.842299938201904, -5.842299938201904, -5.842299938201904, -5.842299938201904, -5.842299938201904, -5.842299938201904, -5.842299938201904, -5.842299938201904, -5.842299938201904, -4.308199882507324, -5.1956000328063965, -3.845599889755249, -5.1956000328063965, -5.1956000328063965, -5.1956000328063965, -5.1956000328063965, -5.195700168609619, -5.842199802398682, -5.842299938201904, -5.842299938201904, -5.842299938201904, -5.842299938201904, -5.842299938201904, -5.842299938201904, -5.842299938201904, -5.842299938201904, -5.842299938201904, -5.842299938201904, -5.842299938201904, -5.842299938201904, -5.842299938201904, -5.842299938201904, -5.842299938201904, -5.1930999755859375, -5.1930999755859375, -5.1930999755859375, -5.1930999755859375, -5.1930999755859375, -5.1930999755859375, -4.803800106048584, -4.131499767303467, -5.839799880981445, -5.839799880981445, -5.839799880981445, -5.839799880981445, -5.839799880981445, -5.839799880981445, -5.839799880981445, -5.839799880981445, -5.839799880981445, -5.839799880981445, -5.839799880981445, -5.839799880981445, -5.839799880981445, -5.839799880981445, -5.839799880981445, -5.839799880981445, -5.839799880981445, -5.839799880981445, -5.839799880981445, -5.839799880981445, -5.839799880981445, -5.839799880981445, -5.244800090789795, -5.1930999755859375, -5.1930999755859375, -4.803699970245361, -5.1930999755859375, -5.734600067138672, -5.771599769592285, -5.839799880981445, -5.839799880981445, -5.839799880981445, -5.839799880981445, -5.839799880981445, -5.839799880981445, -5.839799880981445, -5.839799880981445, -5.839799880981445, -5.839799880981445, -5.839799880981445, -5.839799880981445, -5.839799880981445, -5.839799880981445, -5.839799880981445, -5.174300193786621, -5.820899963378906, -5.820899963378906, -5.820899963378906, -5.820899963378906, -5.820899963378906, -5.820899963378906, -5.820899963378906, -5.820899963378906, -5.820899963378906, -5.820899963378906, -5.820899963378906, -5.820899963378906, -5.820899963378906, -5.820899963378906, -5.820899963378906, -5.820899963378906, -5.820899963378906, -5.820899963378906, -5.820899963378906, -5.820899963378906, -5.820899963378906, -5.820899963378906, -5.820899963378906, -5.820899963378906, -5.820899963378906, -5.820899963378906, -5.820899963378906, -5.820899963378906, -5.820899963378906, -5.820899963378906, -5.174300193786621, -4.505199909210205, -5.1743998527526855, -5.174300193786621, -4.505199909210205, -5.174300193786621, -5.820899963378906, -5.820899963378906, -5.820899963378906, -5.820899963378906, -5.820899963378906, -5.820899963378906, -5.820899963378906, -5.820899963378906, -5.820899963378906, -5.820899963378906, -5.820899963378906, -5.81820011138916, -5.81820011138916, -5.81820011138916, -5.81820011138916, -5.81820011138916, -5.81820011138916, -5.81820011138916, -5.81820011138916, -5.81820011138916, -5.81820011138916, -5.81820011138916, -5.81820011138916, -5.81820011138916, -5.81820011138916, -5.81820011138916, -5.81820011138916, -5.81820011138916, -5.81820011138916, -5.81820011138916, -5.81820011138916, -5.81820011138916, -5.818299770355225, -5.818299770355225, -5.818299770355225, -5.818299770355225, -5.818299770355225, -5.818299770355225, -5.818299770355225, -5.818299770355225, -5.818299770355225, -5.818299770355225, -5.171599864959717, -4.782100200653076, -4.105199813842773, -4.782199859619141, -5.171599864959717, -5.171599864959717, -4.782100200653076, -5.171599864959717, -5.171599864959717, -5.171599864959717, -5.817500114440918, -5.817699909210205, -5.817800045013428, -5.81820011138916, -5.81820011138916, -5.81820011138916, -5.81820011138916, -5.81820011138916, -5.81820011138916, -5.81820011138916, -5.81820011138916, -5.81820011138916, -4.984899997711182, -5.6315999031066895, -5.6315999031066895, -5.6315999031066895, -5.6315999031066895, -5.6315999031066895, -5.6315999031066895, -5.6315999031066895, -5.6315999031066895, -5.6315999031066895, -5.6315999031066895, -5.6315999031066895, -5.6315999031066895, -5.6315999031066895, -5.6315999031066895, -5.6315999031066895, -4.984899997711182, -5.6315999031066895, -5.6315999031066895, -5.6315999031066895, -5.6315999031066895, -4.984899997711182, -5.6315999031066895, -5.6315999031066895, -4.984899997711182, -5.6315999031066895, -5.6315999031066895, -8.029399871826172, -8.029399871826172, -8.029399871826172, -5.6315999031066895, -8.029399871826172, -8.029399871826172, -8.029399871826172, -8.029399871826172, -8.029399871826172, -8.027799606323242, -8.029399871826172], \"loglift\": [30.0, 29.0, 28.0, 27.0, 26.0, 25.0, 24.0, 23.0, 22.0, 21.0, 20.0, 19.0, 18.0, 17.0, 16.0, 15.0, 14.0, 13.0, 12.0, 11.0, 10.0, 9.0, 8.0, 7.0, 6.0, 5.0, 4.0, 3.0, 2.0, 1.0, 1.5426, 1.5424, 1.4706, 1.4706, 1.4706, 1.4706, 1.4706, 1.4706, 1.4706, 1.4658, 1.3723, 1.2918, 1.2918, 1.2918, 1.2918, 1.2918, 1.2918, 1.2918, 1.2918, 1.2918, 1.2918, 1.2918, 1.2918, 1.2918, 1.2918, 1.2918, 1.2918, 1.2918, 1.2918, 1.2918, 1.2679, 1.2918, 1.2558, 1.2918, 1.1155, 1.1438, 1.158, 0.8906, 0.9879, 0.9297, 0.8739, 0.6504, 0.9593, 0.9113, 0.6186, 0.8472, 0.7832, 0.7068, 0.058, 0.5352, 0.4917, -0.1569, 0.2547, 0.4798, 0.3509, 1.6355, 1.6355, 1.6353, 1.6023, 1.4879, 1.4393, 1.4393, 1.4393, 1.4393, 1.4393, 1.4393, 1.4393, 1.4393, 1.4393, 1.4393, 1.4393, 1.4393, 1.4393, 1.4393, 1.4393, 1.4393, 1.4393, 1.4393, 1.4393, 1.4393, 1.4393, 1.4393, 1.4393, 1.4393, 1.4393, 1.3886, 1.3886, 1.3787, 1.1597, 1.0237, 0.9911, 1.0983, 1.2068, 0.9519, 0.8219, 1.0507, 1.0409, 0.8678, 0.7883, 0.7107, 0.2462, 0.2341, 0.5577, -0.8445, 0.4053, 1.0968, 1.0751, 0.5528, 1.1168, 0.408, 1.9097, 1.7141, 1.679, 1.679, 1.679, 1.679, 1.679, 1.679, 1.679, 1.679, 1.679, 1.679, 1.679, 1.679, 1.679, 1.679, 1.679, 1.679, 1.679, 1.679, 1.679, 1.679, 1.679, 1.679, 1.679, 1.679, 1.679, 1.679, 1.679, 1.679, 1.5229, 1.0753, 1.0861, 0.717, 1.1674, 1.1313, 1.2481, 0.2505, 0.973, 0.9209, -0.032, 1.1216, 0.1667, 0.953, 1.3013, 1.3013, 1.1848, 1.323, 2.052, 1.9533, 1.7184, 1.7184, 1.7184, 1.7184, 1.7184, 1.7184, 1.7184, 1.7184, 1.7184, 1.7184, 1.7184, 1.7184, 1.7184, 1.7184, 1.7184, 1.7184, 1.7184, 1.7184, 1.7184, 1.7184, 1.7184, 1.7184, 1.7184, 1.7184, 1.7184, 1.7184, 1.7184, 1.7184, 1.7184, 1.6847, 1.5608, 1.5608, 1.376, 1.3455, 0.6835, 1.2283, 0.8499, 1.1421, 1.1023, 1.0923, 1.0851, 1.0851, 0.4634, 0.7106, -0.0028, 0.1523, 1.0317, 0.1193, 0.9537, 0.854, 0.5234, 1.3127, 1.0773, 1.0773, 1.3583, 0.6547, 0.9182, 1.9738, 1.9738, 1.7358, 1.7358, 1.7358, 1.7358, 1.7358, 1.7358, 1.7358, 1.7358, 1.7358, 1.7358, 1.7358, 1.7358, 1.7358, 1.7358, 1.7358, 1.7358, 1.7358, 1.7358, 1.7358, 1.7358, 1.7358, 1.7358, 1.7358, 1.7358, 1.7358, 1.7358, 1.7358, 1.7358, 1.613, 1.5823, 1.5773, 1.3209, 1.3098, 1.2425, 0.3796, 0.4958, 0.4689, 0.0144, 0.0023, -0.7745, 0.807, 0.3299, 0.2217, 0.4398, 0.9467, 1.2328, 1.3547, 1.1865, 0.3328, 1.3121, 1.3731, 1.3709, 1.3731, 1.3709, 0.9266, 1.2328, 2.0559, 1.8058, 1.8058, 1.8058, 1.8058, 1.8058, 1.8058, 1.8058, 1.8058, 1.8058, 1.8058, 1.8058, 1.8058, 1.8058, 1.8058, 1.8058, 1.8058, 1.8058, 1.8058, 1.8058, 1.8058, 1.8058, 1.8058, 1.8058, 1.8058, 1.8058, 1.8058, 1.8058, 1.8058, 1.8058, 1.8058, 1.8058, 1.8058, 1.415, 1.5495, 0.6093, 1.4254, 1.2122, 0.9797, 0.7574, -0.6531, -0.997, 0.4125, -0.0228, 0.4878, -0.5985, 0.4806, 0.4806, 1.1195, 1.1195, 0.3665, 0.3515, 0.5888, 1.2882, 0.8822, 0.1024, 1.3786, 2.0659, 2.0659, 2.0659, 2.0659, 2.0659, 2.0659, 1.9322, 1.9202, 1.8139, 1.8139, 1.8139, 1.8139, 1.8139, 1.8139, 1.8139, 1.8139, 1.8139, 1.8139, 1.8139, 1.8139, 1.8139, 1.8139, 1.8139, 1.8139, 1.8139, 1.8139, 1.8139, 1.8139, 1.8139, 1.8139, 1.6955, 1.4956, 0.9027, -0.3487, 0.1969, -1.1921, -0.5279, 1.1732, 0.9116, 0.5981, 0.412, 0.2579, 1.2531, 1.2466, 1.2531, 0.4831, 0.4831, 0.7467, 1.436, 0.6993, 0.9751, 1.3755, 2.1185, 1.8576, 1.8576, 1.8576, 1.8576, 1.8576, 1.8576, 1.8576, 1.8576, 1.8576, 1.8576, 1.8576, 1.8576, 1.8576, 1.8576, 1.8576, 1.8576, 1.8576, 1.8576, 1.8576, 1.8576, 1.8576, 1.8576, 1.8576, 1.8576, 1.8576, 1.8576, 1.8576, 1.8576, 1.8576, 1.8576, 1.7297, 1.5038, 1.2646, 1.2335, 0.0373, 0.5239, 0.4339, 1.451, 1.0474, 1.4104, 0.9872, 1.426, 1.426, 1.426, 1.426, 0.7182, 1.451, 1.8636, 1.8636, 1.8636, 1.8636, 1.8636, 1.8636, 1.8636, 1.8636, 1.8636, 1.8636, 1.8636, 1.8636, 1.8636, 1.8636, 1.8636, 1.8636, 1.8636, 1.8636, 1.8636, 1.8636, 1.8636, 1.8636, 1.8636, 1.8636, 1.8636, 1.8636, 1.8636, 1.8636, 1.8636, 1.8636, 1.8636, 1.8118, 1.558, 1.1265, 0.9411, 1.0372, 0.8321, 0.0631, 0.4878, -0.6291, -0.7167, 1.2849, 1.2847, 1.2846, 1.2841, 1.0451, 0.3664, 0.1302, 1.284, 1.4152, 1.4308, 0.0012, 0.9899, 2.7217, 2.3336, 2.3336, 2.3336, 2.3336, 2.3336, 2.3336, 2.3336, 2.3336, 2.3336, 2.3336, 1.8218, 1.4614, 1.4614, 1.3814, 1.3591, 1.3452, 1.3132, 1.2317, 1.18, 1.1765, 0.9635, 0.9549, 0.6842, 0.6745, 0.6232, 0.6055, 0.2854, 0.2854, 0.2854, 0.1879, 0.2854, 0.2854, 0.2854, 0.2854, 0.2854, -1.8219, 0.2854]}, \"token.table\": {\"Topic\": [2, 7, 1, 1, 6, 9, 1, 5, 1, 9, 1, 2, 3, 4, 2, 4, 4, 4, 4, 1, 1, 2, 1, 1, 1, 8, 3, 2, 1, 3, 1, 3, 8, 1, 6, 1, 4, 7, 5, 5, 4, 7, 1, 4, 5, 6, 7, 9, 3, 1, 8, 2, 4, 9, 1, 2, 5, 1, 1, 2, 9, 7, 2, 2, 4, 5, 4, 1, 4, 6, 8, 1, 4, 1, 2, 3, 1, 1, 1, 4, 1, 2, 6, 3, 1, 2, 3, 4, 9, 6, 1, 4, 5, 8, 9, 2, 1, 2, 5, 1, 2, 3, 5, 9, 7, 5, 6, 1, 2, 9, 2, 2, 5, 2, 7, 7, 2, 4, 6, 5, 5, 4, 7, 1, 2, 3, 5, 6, 8, 9, 1, 8, 1, 3, 4, 3, 7, 2, 7, 7, 1, 7, 2, 3], \"Freq\": [0.7200633990046299, 0.8573009695174721, 0.6391945701457915, 0.2538652635955901, 0.2538652635955901, 0.2538652635955901, 0.5086456846291076, 0.2543228423145538, 0.33604036468154264, 0.33604036468154264, 0.1682093612232744, 0.3364187224465488, 0.1682093612232744, 0.1682093612232744, 0.6062775785236771, 0.4624028326974345, 0.8237239231026011, 0.4624028326974345, 1.1017165068671613, 0.8563457981788142, 0.8563479499661869, 0.9307934852153733, 0.4591105918581244, 0.8563451303849318, 0.3378176014051674, 0.3378176014051674, 0.6541893408212472, 0.7271260461353262, 0.42436456105739134, 0.42436456105739134, 0.8563451303849318, 0.4026855367869008, 0.5193087180262208, 0.3194314051107804, 0.3194314051107804, 0.5457627547122356, 0.18192091823741185, 0.18192091823741185, 0.753782427538485, 0.5366625343108962, 0.7440476295217023, 0.6988997523515595, 0.4284671244878198, 0.2142335622439099, 0.07141118741463663, 0.14282237482927326, 0.07141118741463663, 0.07141118741463663, 1.082343479609497, 0.8563492855637884, 0.8267197882541928, 0.36916738882380784, 0.47039934675744266, 0.47039934675744266, 0.2794915952399094, 0.2794915952399094, 0.5804409038580723, 0.43066696479081573, 0.8563453529827768, 0.9307636351886056, 0.8951162121270938, 0.666617548499254, 0.8226921308112479, 0.727126762305699, 0.7440476919561335, 1.1149984626766123, 0.40638635373111354, 0.8576708024475086, 0.8421930651265606, 0.5033803829704206, 0.5033803829704206, 0.31796328349944236, 0.31796328349944236, 0.5135879883916074, 0.5135879883916074, 0.4969362298374769, 0.6233944657187463, 0.6234194208070049, 0.48952091183868723, 0.48952091183868723, 0.3989613409342847, 0.3989613409342847, 0.3989613409342847, 0.5152412572431521, 0.21099907651502672, 0.42199815303005345, 0.10549953825751336, 0.10549953825751336, 0.10549953825751336, 1.1703060569641965, 0.24757416726116852, 0.24757416726116852, 0.24757416726116852, 0.24757416726116852, 0.41252495854190435, 0.9307665931596876, 0.6286349046839959, 0.15715872617099896, 0.15715872617099896, 0.31054563131573537, 0.15527281565786769, 0.15527281565786769, 0.15527281565786769, 0.31054563131573537, 1.1792097642593307, 0.5740277616996402, 0.6229669756937491, 0.23816717315946412, 0.47633434631892824, 0.23816717315946412, 0.9224577745335256, 0.4319572269172154, 0.7772980294777988, 0.36846341498111246, 0.36846341498111246, 1.1792082074732244, 0.3167841321026212, 0.3167841321026212, 0.7053127570390598, 1.1149990089742867, 0.7500827992999799, 0.5335665117474897, 1.179208342845766, 0.6908691267015047, 0.07794943127615298, 0.6235954502092238, 0.15589886255230595, 0.07794943127615298, 0.07794943127615298, 0.07794943127615298, 0.8563451303849318, 1.2195779555236197, 0.32176001494004336, 0.32176001494004336, 0.4657347926717186, 0.7351617684409575, 1.179208342845766, 0.5187562012499921, 1.1792087489635779, 1.1792086135909428, 0.6992068175674852, 0.7051177344958004, 0.481346510748968, 0.240673255374484], \"Term\": [\"\\uac00\\uaca9\", \"\\uac10\\uc0ac\", \"\\uac19\\uc544\\uc694\", \"\\uac74\\uac15\", \"\\uac74\\uac15\", \"\\uac74\\uac15\", \"\\uac83\", \"\\uac83\", \"\\uace0\\uc18c\", \"\\uace0\\uc18c\", \"\\uad6c\\ub9e4\", \"\\uad6c\\ub9e4\", \"\\uad6c\\ub9e4\", \"\\uad6c\\ub9e4\", \"\\uad6c\\uc785\", \"\\uae54\", \"\\uae54\\ub054\\ud55c\", \"\\ub054\", \"\\ub0a0\", \"\\ub290\\uaef4\", \"\\ub290\\uaef4\\uc838\\uc694\", \"\\ub2a6\\uc5c8\", \"\\ub2e4\\uc774\\uc5b4\\ud2b8\", \"\\ub2e8\\ub9db\", \"\\ub2ec\", \"\\ub2ec\", \"\\ub2f4\", \"\\ub300\\uc2e0\", \"\\ub300\\uc6a9\", \"\\ub300\\uc6a9\", \"\\ub300\\uccb4\", \"\\ub354\", \"\\ub35c\", \"\\ub370\", \"\\ub370\", \"\\ub450\\uc720\", \"\\ub450\\uc720\", \"\\ub450\\uc720\", \"\\ub4ef\", \"\\ub77c\\ub5bc\", \"\\ub9ac\\uc988\", \"\\ub9cc\\uc871\", \"\\ub9db\", \"\\ub9db\", \"\\ub9db\", \"\\ub9db\", \"\\ub9db\", \"\\ub9db\", \"\\ub9db\\uc788\\uace0\", \"\\ub9db\\uc788\\ub2f5\\ub2c8\\ub2e4\", \"\\ub9e4\\ubc88\", \"\\ub9e4\\uc77c\", \"\\ub9e4\\uc77c\\uc720\\uc5c5\", \"\\ub9e4\\uc77c\\uc720\\uc5c5\", \"\\uba39\", \"\\uba39\", \"\\uba39\\uace0\", \"\\uba39\\uae30\", \"\\uba74\\uc11c\", \"\\ubab8\", \"\\ubbff\\uace0\", \"\\ubc0d\\ubc0d\", \"\\ubc30\\uc1a1\", \"\\ubcc4\\ub85c\", \"\\ube0c\", \"\\ube0c\\ub79c\\ub4dc\", \"\\ube68\\ub300\", \"\\uc0c0\", \"\\uc0c0\\ub294\\ub370\", \"\\uc0dd\\uac01\", \"\\uc0dd\\uac01\", \"\\uc544\\ubaac\\ub4dc\", \"\\uc544\\ubaac\\ub4dc\", \"\\uc544\\uc8fc\", \"\\uc544\\uc8fc\", \"\\uc544\\uce68\", \"\\uc544\\uce68\\uc2dd\\uc0ac\", \"\\uc54a\\uace0\", \"\\uc5b4\\uba54\\uc774\\uc9d5\", \"\\uc5b4\\uba54\\uc774\\uc9d5\", \"\\uc5b4\\ubcf4\", \"\\uc5b4\\ubcf4\", \"\\uc5b4\\ubcf4\", \"\\uc5b4\\uc11c\", \"\\uc5b4\\uc694\", \"\\uc5b4\\uc694\", \"\\uc5b4\\uc694\", \"\\uc5b4\\uc694\", \"\\uc5b4\\uc694\", \"\\uc5ec\", \"\\uc624\\ud2b8\", \"\\uc624\\ud2b8\", \"\\uc624\\ud2b8\", \"\\uc624\\ud2b8\", \"\\uc624\\ud2b8\\ubc00\", \"\\uc654\", \"\\uc694\", \"\\uc694\", \"\\uc694\", \"\\uc6b0\\uc720\", \"\\uc6b0\\uc720\", \"\\uc6b0\\uc720\", \"\\uc6b0\\uc720\", \"\\uc6b0\\uc720\", \"\\uc784\", \"\\uc785\\ub2c8\\ub2e4\", \"\\uc788\", \"\\uc798\", \"\\uc798\", \"\\uc798\", \"\\uc800\\ub834\", \"\\uc81c\\ud488\", \"\\uc824\", \"\\uc880\", \"\\uc880\", \"\\uc880\\ub354\", \"\\uc885\\uc774\", \"\\uc885\\uc774\", \"\\uc88b\", \"\\uc88b\\uaca0\\ub124\\uc694\", \"\\uc88b\\uace0\", \"\\uc88b\\ub124\\uc694\", \"\\uc88b\\ub2e4\", \"\\uc88b\\uc2b5\\ub2c8\\ub2e4\", \"\\uc88b\\uc544\\uc694\", \"\\uc88b\\uc544\\uc694\", \"\\uc88b\\uc544\\uc694\", \"\\uc88b\\uc544\\uc694\", \"\\uc88b\\uc544\\uc694\", \"\\uc88b\\uc544\\uc694\", \"\\uc88b\\uc744\", \"\\uc8fc\", \"\\uc8fc\\ubb38\", \"\\uc8fc\\ubb38\", \"\\ucc98\\uc74c\", \"\\ucd94\\uac00\", \"\\ud06c\\uac8c\", \"\\ud558\\uac8c\", \"\\ud558\\ub098\", \"\\ud558\\ub2c8\", \"\\ud568\", \"\\ud569\\ub2c8\\ub2e4\", \"\\ud588\", \"\\ud588\"]}, \"R\": 30, \"lambda.step\": 0.01, \"plot.opts\": {\"xlab\": \"PC1\", \"ylab\": \"PC2\"}, \"topic.order\": [10, 8, 4, 6, 1, 2, 9, 7, 3, 5]};\n",
       "\n",
       "function LDAvis_load_lib(url, callback){\n",
       "  var s = document.createElement('script');\n",
       "  s.src = url;\n",
       "  s.async = true;\n",
       "  s.onreadystatechange = s.onload = callback;\n",
       "  s.onerror = function(){console.warn(\"failed to load library \" + url);};\n",
       "  document.getElementsByTagName(\"head\")[0].appendChild(s);\n",
       "}\n",
       "\n",
       "if(typeof(LDAvis) !== \"undefined\"){\n",
       "   // already loaded: just create the visualization\n",
       "   !function(LDAvis){\n",
       "       new LDAvis(\"#\" + \"ldavis_el1092825453930778321845650668\", ldavis_el1092825453930778321845650668_data);\n",
       "   }(LDAvis);\n",
       "}else if(typeof define === \"function\" && define.amd){\n",
       "   // require.js is available: use it to load d3/LDAvis\n",
       "   require.config({paths: {d3: \"https://cdnjs.cloudflare.com/ajax/libs/d3/3.5.5/d3.min\"}});\n",
       "   require([\"d3\"], function(d3){\n",
       "      window.d3 = d3;\n",
       "      LDAvis_load_lib(\"https://cdn.rawgit.com/bmabey/pyLDAvis/files/ldavis.v1.0.0.js\", function(){\n",
       "        new LDAvis(\"#\" + \"ldavis_el1092825453930778321845650668\", ldavis_el1092825453930778321845650668_data);\n",
       "      });\n",
       "    });\n",
       "}else{\n",
       "    // require.js not available: dynamically load d3 & LDAvis\n",
       "    LDAvis_load_lib(\"https://cdnjs.cloudflare.com/ajax/libs/d3/3.5.5/d3.min.js\", function(){\n",
       "         LDAvis_load_lib(\"https://cdn.rawgit.com/bmabey/pyLDAvis/files/ldavis.v1.0.0.js\", function(){\n",
       "                 new LDAvis(\"#\" + \"ldavis_el1092825453930778321845650668\", ldavis_el1092825453930778321845650668_data);\n",
       "            })\n",
       "         });\n",
       "}\n",
       "</script>"
      ],
      "text/plain": [
       "<IPython.core.display.HTML object>"
      ]
     },
     "execution_count": 170,
     "metadata": {},
     "output_type": "execute_result"
    }
   ],
   "source": [
    "# 시각화 결과 출력/저장\n",
    "import pyLDAvis.gensim\n",
    "pyLDAvis.enable_notebook()\n",
    "vis = pyLDAvis.gensim.prepare(ldamodel_t1, corpus_t1, dictionary)\n",
    "pyLDAvis.display(vis)"
   ]
  },
  {
   "cell_type": "code",
   "execution_count": null,
   "metadata": {},
   "outputs": [],
   "source": []
  },
  {
   "cell_type": "code",
   "execution_count": 171,
   "metadata": {},
   "outputs": [],
   "source": [
    "df3_t2 = df3[df3['WEEK']=='2021-45W']\n",
    "\n",
    "tokenized_list_t2 = []\n",
    "\n",
    "for text in df3_t2['REVIEW']:\n",
    "    tokenized_list_t2.append(tokenize_korean_text(text))\n",
    "    \n",
    "# text가 비어있는 list 제거\n",
    "for text in tokenized_list_t2:\n",
    "    if len(text) <= 0 :\n",
    "        del tokenized_list_t2[tokenized_list_t2.index(text)]\n",
    "\n",
    "bigram_t2 = Phrases(tokenized_list_t2, min_count=4, threshold=10)\n",
    "bigram_mod_t2 = Phraser(bigram)\n",
    "\n",
    "words_bigram_t2 = [bigram_mod[doc] for doc in tokenized_list_t2]\n",
    "\n",
    "corpus_t2 = [dictionary.doc2bow(text) for text in words_bigram_t2]\n",
    "\n",
    "ldamodel_t2 = gensim.models.ldamodel.LdaModel(corpus_t2, id2word=dictionary, \n",
    "                                           num_topics = num_topics,\n",
    "                                           chunksize = chunksize,\n",
    "                                           passes=passes,\n",
    "                                           iterations = iterations)"
   ]
  },
  {
   "cell_type": "code",
   "execution_count": 172,
   "metadata": {},
   "outputs": [
    {
     "data": {
      "text/plain": [
       "[(0, '0.012*\"어요\" + 0.009*\"잘\" + 0.009*\"있\" + 0.006*\"배송\"'),\n",
       " (1, '0.012*\"좋아요\" + 0.009*\"맛\" + 0.006*\"달\" + 0.006*\"고소\"'),\n",
       " (2, '0.021*\"어요\" + 0.017*\"맛\" + 0.014*\"잘\" + 0.012*\"고소\"'),\n",
       " (3, '0.016*\"어요\" + 0.012*\"고소\" + 0.012*\"좋아요\" + 0.010*\"아몬드\"'),\n",
       " (4, '0.019*\"좋아요\" + 0.016*\"맛\" + 0.008*\"같아요\" + 0.008*\"빨대\"'),\n",
       " (5, '0.036*\"좋아요\" + 0.017*\"달\" + 0.011*\"빨대\" + 0.009*\"요\"'),\n",
       " (6, '0.017*\"잘\" + 0.015*\"먹겠습니다\" + 0.014*\"아몬드\" + 0.010*\"감사\"'),\n",
       " (7, '0.014*\"두유\" + 0.009*\"구매\" + 0.009*\"않아서\" + 0.006*\"어요\"'),\n",
       " (8, '0.029*\"맛\" + 0.020*\"어요\" + 0.011*\"먹\" + 0.009*\"두유\"'),\n",
       " (9, '0.020*\"받았습니다\" + 0.007*\"방금\" + 0.004*\"함\" + 0.004*\"다음\"')]"
      ]
     },
     "execution_count": 172,
     "metadata": {},
     "output_type": "execute_result"
    }
   ],
   "source": [
    "topics_t2 = ldamodel_t2.print_topics(num_words=4)\n",
    "topics_t2"
   ]
  },
  {
   "cell_type": "code",
   "execution_count": 178,
   "metadata": {},
   "outputs": [
    {
     "name": "stdout",
     "output_type": "stream",
     "text": [
      "text count 142\n",
      "\n",
      "Cpherence -11.476286323196945\n",
      "\n",
      "Perplexity:  -7.710632218548298\n"
     ]
    }
   ],
   "source": [
    "# 평가 수치 확인/출력\n",
    "cm = CoherenceModel(model=ldamodel_t2, corpus=corpus_t2, coherence='u_mass')\n",
    "coherence = cm.get_coherence()\n",
    "print('text count',len(df3_t2))\n",
    "print(\"\\nCpherence\",coherence)\n",
    "print('\\nPerplexity: ', ldamodel_t2.log_perplexity(corpus_t2))"
   ]
  },
  {
   "cell_type": "code",
   "execution_count": null,
   "metadata": {},
   "outputs": [],
   "source": []
  },
  {
   "cell_type": "code",
   "execution_count": null,
   "metadata": {},
   "outputs": [],
   "source": []
  }
 ],
 "metadata": {
  "kernelspec": {
   "display_name": "Python 3",
   "language": "python",
   "name": "python3"
  },
  "language_info": {
   "codemirror_mode": {
    "name": "ipython",
    "version": 3
   },
   "file_extension": ".py",
   "mimetype": "text/x-python",
   "name": "python",
   "nbconvert_exporter": "python",
   "pygments_lexer": "ipython3",
   "version": "3.7.6"
  }
 },
 "nbformat": 4,
 "nbformat_minor": 4
}
