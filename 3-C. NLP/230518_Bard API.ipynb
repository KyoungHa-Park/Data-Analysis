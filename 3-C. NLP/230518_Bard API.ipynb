{
 "cells": [
  {
   "cell_type": "code",
   "execution_count": 1,
   "id": "ceb613ee",
   "metadata": {},
   "outputs": [],
   "source": [
    "# https://docs.kanaries.net/ko/articles/google-bard-api\n",
    "# https://github.com/dsdanielpark/Bard-API"
   ]
  },
  {
   "cell_type": "code",
   "execution_count": null,
   "id": "5d7bdce7",
   "metadata": {},
   "outputs": [],
   "source": []
  },
  {
   "cell_type": "code",
   "execution_count": null,
   "id": "be45e6eb",
   "metadata": {},
   "outputs": [],
   "source": []
  },
  {
   "cell_type": "code",
   "execution_count": null,
   "id": "49c8a2c0",
   "metadata": {},
   "outputs": [],
   "source": []
  },
  {
   "cell_type": "code",
   "execution_count": 6,
   "id": "4ba63aed",
   "metadata": {},
   "outputs": [],
   "source": [
    "import bardapi\n",
    "import os\n",
    "\n",
    "# set your __Secure-1PSID value to key\n",
    "os.environ['_BARD_API_KEY']=\"WQjHgr6dQRqOggAb5J5hRYWnKEGXizf02abcrrEi8tVxS0erX4TrH1G_MkNJfT53avev3A.\"\n",
    "\n",
    "# set your input text\n",
    "input_text = \"나와 내 동년배들이 좋아하는 뉴진스에 대해서 알려줘\"\n",
    "\n",
    "# Send an API request and get a response.\n",
    "response = bardapi.core.Bard().get_answer(input_text)"
   ]
  },
  {
   "cell_type": "code",
   "execution_count": 9,
   "id": "c91b5c16",
   "metadata": {},
   "outputs": [
    {
     "data": {
      "text/plain": [
       "\"뉴진스는 2022년 7월 22일에 데뷔한 대한민국의 5인조 걸 그룹으로, 소속사는 하이브 산하의 레이블인 어도어입니다. SM 엔터테인먼트 디렉터 출신으로 하이브에 영입된 민희진이 프로듀서로 나서서 발굴한 걸그룹입니다.\\n\\n그룹명 뉴진스는 '대중음악은 일상과 초근접해 있는 문화이기 때문에 마치 매일 입는 옷과 같다. 특히 진(Jean)은 시대를 불문해 남녀노소 모두에게 사랑받아 온 아이템이다. 뉴진스(NewJeans)에는 매일 찾게 되고 언제 입어도 질리지 않는 진처럼 시대의 아이콘이 되겠다는 포부와 New Genes가 되겠다는 각오가 담겨 있다.'라는 의미를 담고 있습니다.\\n\\n뉴진스의 멤버는 민지, 하니, 다니엘, 해린, 혜인으로, 모두 실력과 비주얼을 겸비한 다재다능한 멤버들로 구성되어 있습니다. 데뷔곡 'Attention'은 중독성 강한 멜로디와 파워풀한 퍼포먼스로 많은 사랑을 받았으며, 'Zero', 'OMG', 'Cookie' 등의 곡으로 꾸준히 활동을 이어오고 있습니다.\\n\\n뉴진스는 데뷔한 지 1년이 채 되지 않았음에도 불구하고, 탄탄한 실력과 개성 넘치는 매력으로 많은 팬들의 사랑을 받고 있습니다. 앞으로 뉴진스가 어떤 음악과 퍼포먼스로 대중을 사로잡을지 기대가 됩니다.\""
      ]
     },
     "execution_count": 9,
     "metadata": {},
     "output_type": "execute_result"
    }
   ],
   "source": [
    "response['content']"
   ]
  },
  {
   "cell_type": "code",
   "execution_count": null,
   "id": "e9dce604",
   "metadata": {},
   "outputs": [],
   "source": []
  },
  {
   "cell_type": "code",
   "execution_count": 12,
   "id": "89e77c03",
   "metadata": {},
   "outputs": [],
   "source": [
    "text = '1. 배송 \\n어제 주문했는데 오늘 도착!!! \\n돌체 라떼 포함 다른 음료랑 총 3 박스 다 같이 하루 만에 도착했어요~ 총알 배송 만족스럽습니다.\\n2. 포장\\n박스에 안전하게 포장되어서 제품 파손 없이 도착했고, 얼음 팩이 녹기 전에 집에 도착했네요~ 얼른 냉장고에 보관했네요^^\\n3. 가격\\n라방에서 구입해서 우주 최저가로 샀네요! 이 보다 더 좋을 수는 없겠죠?\\n4. 맛\\n제가 돌체라떼를 워낙 좋아해서 별 다방에 가면 여름에는 시원한 콜드브루 돌체라떼 마시고, 겨울에는 따신 돌체 마십니다. 바리스타 돌체라떼 신제품이 나왔다길래 얼른 한 상자 사고 다른 음료도 get get!! \\n제가 너무 단 음료는 목이 말라서 싫어하는데 바리스타룰스 돌체라떼는 연유의 자연스러운 달달함과 부드러운 맛이 커피에 잘 어우러져서 인위적이지 않은 달달한 풍미가 느껴지는 제가 딱 원하는 라떼네요^^ 냉장 보관해서 외출할 때 하나씩 가지고 나가서 마셔도 좋고, 집에서 마실 때는 얼음 동~동 띄워서 마시면 더 시원하고 맛있습니다. \\n ****** 총평 ******\\n배송, 포장, 맛, 가격 하나 나무랄 것 없이 정말 만족스럽습니다. 다 먹으면 또 사려구요^^ 재 구매 의사 10000000% 입니다. 다 마시면 다시 사러 올게요^^\\n돌체라떼 또한 바리스타룰스 다른 제품처럼 아마 대박 날 것 같아요^^ 앞으로도 좋은 제품 만들어주시면 구매로 보답할게요^^'\n",
    "input_text = '다음 내용에 대해, 최대한 공손한 말투로 적절한 답변 예시를 작성해 줘. ' + text.replace('\\n', ' ')\n",
    "\n",
    "# Send an API request and get a response.\n",
    "response = bardapi.core.Bard().get_answer(input_text)"
   ]
  },
  {
   "cell_type": "code",
   "execution_count": 15,
   "id": "af3cab42",
   "metadata": {},
   "outputs": [
    {
     "data": {
      "text/plain": [
       "'안녕하세요,저희 제품에 대해 만족해 주셔서 감사합니다. 배송, 포장, 맛, 가격 등 모든 면에서 만족해 주셔서 기쁩니다.저희는 항상 고객 만족을 최우선으로 생각하며, 앞으로도 좋은 제품을 만들기 위해 노력하겠습니다.다시 한 번 저희 제품을 선택해 주셔서 감사합니다.'"
      ]
     },
     "execution_count": 15,
     "metadata": {},
     "output_type": "execute_result"
    }
   ],
   "source": [
    "response['content'].replace('\\n', ' ')"
   ]
  },
  {
   "cell_type": "code",
   "execution_count": null,
   "id": "c375b952",
   "metadata": {},
   "outputs": [],
   "source": []
  },
  {
   "cell_type": "code",
   "execution_count": null,
   "id": "c77ecb5e",
   "metadata": {},
   "outputs": [],
   "source": []
  }
 ],
 "metadata": {
  "kernelspec": {
   "display_name": "Python 3 (ipykernel)",
   "language": "python",
   "name": "python3"
  },
  "language_info": {
   "codemirror_mode": {
    "name": "ipython",
    "version": 3
   },
   "file_extension": ".py",
   "mimetype": "text/x-python",
   "name": "python",
   "nbconvert_exporter": "python",
   "pygments_lexer": "ipython3",
   "version": "3.11.2"
  }
 },
 "nbformat": 4,
 "nbformat_minor": 5
}
