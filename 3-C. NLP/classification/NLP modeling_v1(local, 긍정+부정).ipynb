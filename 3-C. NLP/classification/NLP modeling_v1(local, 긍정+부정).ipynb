{
 "cells": [
  {
   "cell_type": "code",
   "execution_count": null,
   "metadata": {
    "id": "6QoaBQ2XmK_Q"
   },
   "outputs": [],
   "source": []
  },
  {
   "cell_type": "markdown",
   "metadata": {
    "id": "2RiQt_2mmK_X"
   },
   "source": [
    "+ **목적** : 리뷰글의 긍정/부정 예측을 위한 모델 생성\n",
    "+ **진행순서**\n",
    "  + 1.자료 불러오기 : Naver쇼핑 리뷰\n",
    "  + 2.데이터 전처리/Set 분류\n",
    "  + 3.데이터 정제/토큰화\n",
    "  + 4.단어와 길이 분포 확인하기 \n",
    "  + 5.정수 인코딩 : \n",
    "  + 6.패딩 : 샘플들의 길이를 동일하게 맞춰주는 작업\n",
    "  + 7.모델링 : 1D-CNN\n",
    "  + 8.모델링 : biLSTM\n",
    "  + 9.결과평가"
   ]
  },
  {
   "cell_type": "code",
   "execution_count": null,
   "metadata": {
    "id": "CaVy8fKxmzOs"
   },
   "outputs": [],
   "source": []
  },
  {
   "cell_type": "code",
   "execution_count": 1,
   "metadata": {
    "colab": {
     "base_uri": "https://localhost:8080/",
     "height": 1000
    },
    "executionInfo": {
     "elapsed": 188311,
     "status": "ok",
     "timestamp": 1602821543511,
     "user": {
      "displayName": "박경하",
      "photoUrl": "",
      "userId": "14970276928355419245"
     },
     "user_tz": -540
    },
    "id": "Cl8DGdSbmK_Y",
    "outputId": "29b1a123-ff3d-4d54-b3c9-b5d38b5fbdd5"
   },
   "outputs": [],
   "source": [
    "# Colab에 Mecab 설치\n",
    "# !git clone https://github.com/SOMJANG/Mecab-ko-for-Google-Colab.git\n",
    "# %cd Mecab-ko-for-Google-Colab\n",
    "# !bash install_mecab-ko_on_colab190912.sh"
   ]
  },
  {
   "cell_type": "code",
   "execution_count": null,
   "metadata": {},
   "outputs": [],
   "source": [
    "# PyKoSpacing 설치\n",
    "# !pip install git+https://github.com/haven-jeon/PyKoSpacing.git"
   ]
  },
  {
   "cell_type": "code",
   "execution_count": null,
   "metadata": {
    "id": "qIv50KTXmK_f"
   },
   "outputs": [],
   "source": []
  },
  {
   "cell_type": "code",
   "execution_count": 1,
   "metadata": {
    "executionInfo": {
     "elapsed": 190833,
     "status": "ok",
     "timestamp": 1602821546046,
     "user": {
      "displayName": "박경하",
      "photoUrl": "",
      "userId": "14970276928355419245"
     },
     "user_tz": -540
    },
    "id": "u1F34_CkmK_j"
   },
   "outputs": [],
   "source": [
    "import pandas as pd\n",
    "import numpy as np\n",
    "import matplotlib.pyplot as plt\n",
    "import urllib.request\n",
    "from collections import Counter\n",
    "# from konlpy.tag import Mecab\n",
    "from konlpy.tag import Okt\n",
    "from sklearn.model_selection import train_test_split\n",
    "from tensorflow.keras.preprocessing.text import Tokenizer\n",
    "from tensorflow.keras.preprocessing.sequence import pad_sequences\n"
   ]
  },
  {
   "cell_type": "code",
   "execution_count": null,
   "metadata": {
    "executionInfo": {
     "elapsed": 190826,
     "status": "ok",
     "timestamp": 1602821546048,
     "user": {
      "displayName": "박경하",
      "photoUrl": "",
      "userId": "14970276928355419245"
     },
     "user_tz": -540
    },
    "id": "uvxI43XAmK_n"
   },
   "outputs": [],
   "source": []
  },
  {
   "cell_type": "markdown",
   "metadata": {
    "id": "c8bSEL65mK_r"
   },
   "source": [
    "### 1.자료 불러오기 : 라이브 커머스 방송뎃글"
   ]
  },
  {
   "cell_type": "code",
   "execution_count": 3,
   "metadata": {
    "colab": {
     "base_uri": "https://localhost:8080/",
     "height": 35
    },
    "executionInfo": {
     "elapsed": 192006,
     "status": "ok",
     "timestamp": 1602821547251,
     "user": {
      "displayName": "박경하",
      "photoUrl": "",
      "userId": "14970276928355419245"
     },
     "user_tz": -540
    },
    "id": "jxf9P0lymK_s",
    "outputId": "1116e36a-a4f5-4cca-db30-b06ea3c32d63"
   },
   "outputs": [],
   "source": [
    "# 필요한 자료 다운로드\n",
    "# urllib.request.urlretrieve(\"https://raw.githubusercontent.com/bab2min/corpus/master/sentiment/naver_shopping.txt\", filename=\"ratings_total.txt\")"
   ]
  },
  {
   "cell_type": "code",
   "execution_count": null,
   "metadata": {
    "colab": {
     "base_uri": "https://localhost:8080/",
     "height": 204
    },
    "executionInfo": {
     "elapsed": 192251,
     "status": "ok",
     "timestamp": 1602821547536,
     "user": {
      "displayName": "박경하",
      "photoUrl": "",
      "userId": "14970276928355419245"
     },
     "user_tz": -540
    },
    "id": "1B4YOSNkmK_5",
    "outputId": "2fb0a33d-10f2-498d-dcf5-fd4747e19ee2"
   },
   "outputs": [],
   "source": []
  },
  {
   "cell_type": "code",
   "execution_count": 5,
   "metadata": {
    "executionInfo": {
     "elapsed": 192113,
     "status": "ok",
     "timestamp": 1602821547538,
     "user": {
      "displayName": "박경하",
      "photoUrl": "",
      "userId": "14970276928355419245"
     },
     "user_tz": -540
    },
    "id": "E_DolrjNmK_9"
   },
   "outputs": [
    {
     "name": "stdout",
     "output_type": "stream",
     "text": [
      "전체 리뷰 개수(자세제품) : 5787\n"
     ]
    }
   ],
   "source": [
    "# data2 불러오기\n",
    "total_data = pd.read_excel('./201103_train_data_LIVECOMM.xlsx','Sheet1')\n",
    "total_data = total_data[['REVIEW', 'REVIEW_CAT2']]\n",
    "total_data.rename(columns = {'REVIEW' : 'reviews', 'REVIEW_CAT2' : 'label'}, inplace = True)\n",
    "print('전체 리뷰 개수(자세제품) :',len(total_data)) # 전체 리뷰 개수 출력"
   ]
  },
  {
   "cell_type": "code",
   "execution_count": null,
   "metadata": {},
   "outputs": [],
   "source": [
    "# total_data2['reviews'] = total_data2['reviews'].str.replace(\"[^ㄱ-ㅎㅏ-ㅣ가-힣 ]\",\"\") # 정규 표현식 수행\n",
    "# total_data2['reviews'] = total_data2['reviews'].replace(\"\\n\", \" \")"
   ]
  },
  {
   "cell_type": "code",
   "execution_count": null,
   "metadata": {},
   "outputs": [],
   "source": [
    "total_data"
   ]
  },
  {
   "cell_type": "code",
   "execution_count": null,
   "metadata": {},
   "outputs": [],
   "source": [
    "# %%time\n",
    "\n",
    "# from hanspell import spell_checker\n",
    "\n",
    "# total_data2['reviews_adj'] = ''\n",
    "\n",
    "# # len(total_data2)\n",
    "# for i in range(0, len(total_data2)):\n",
    "#     spelled_sent = spelled_sent = spell_checker.check(total_data2['reviews'][i])\n",
    "#     total_data2['reviews_adj'][i] = spelled_sent.checked"
   ]
  },
  {
   "cell_type": "code",
   "execution_count": null,
   "metadata": {},
   "outputs": [],
   "source": []
  },
  {
   "cell_type": "code",
   "execution_count": null,
   "metadata": {},
   "outputs": [],
   "source": []
  },
  {
   "cell_type": "code",
   "execution_count": null,
   "metadata": {},
   "outputs": [],
   "source": []
  },
  {
   "cell_type": "code",
   "execution_count": null,
   "metadata": {},
   "outputs": [],
   "source": []
  },
  {
   "cell_type": "markdown",
   "metadata": {
    "id": "yiRHHDVemLAL"
   },
   "source": [
    "### 2.데이터 전처리/Set 분류"
   ]
  },
  {
   "cell_type": "code",
   "execution_count": 6,
   "metadata": {
    "executionInfo": {
     "elapsed": 1169,
     "status": "ok",
     "timestamp": 1602821548724,
     "user": {
      "displayName": "박경하",
      "photoUrl": "",
      "userId": "14970276928355419245"
     },
     "user_tz": -540
    },
    "id": "417N2Fy1mLAM"
   },
   "outputs": [],
   "source": [
    "# 긍종/부정으로 나누기\n",
    "# total_data['label'] = np.select([total_data.ratings > 3], [1], default=0)\n",
    "\n",
    "# 중복 제거\n",
    "total_data['label'].nunique()\n",
    "total_data.drop_duplicates(subset=['reviews'], inplace=True) "
   ]
  },
  {
   "cell_type": "code",
   "execution_count": 7,
   "metadata": {
    "colab": {
     "base_uri": "https://localhost:8080/",
     "height": 35
    },
    "executionInfo": {
     "elapsed": 1148,
     "status": "ok",
     "timestamp": 1602821548729,
     "user": {
      "displayName": "박경하",
      "photoUrl": "",
      "userId": "14970276928355419245"
     },
     "user_tz": -540
    },
    "id": "WUB118e1mLAS",
    "outputId": "e94eed24-5e64-40a1-ca24-89f0fef8a5ba"
   },
   "outputs": [
    {
     "name": "stdout",
     "output_type": "stream",
     "text": [
      "총 샘플의 수 : 5103\n"
     ]
    }
   ],
   "source": [
    "print('총 샘플의 수 :',len(total_data))"
   ]
  },
  {
   "cell_type": "code",
   "execution_count": 8,
   "metadata": {
    "executionInfo": {
     "elapsed": 1145,
     "status": "ok",
     "timestamp": 1602821548731,
     "user": {
      "displayName": "박경하",
      "photoUrl": "",
      "userId": "14970276928355419245"
     },
     "user_tz": -540
    },
    "id": "s7x25jYRmLAY"
   },
   "outputs": [],
   "source": [
    "# train_data['label'].value_counts().plot(kind = 'bar')\n",
    "# plt.show()"
   ]
  },
  {
   "cell_type": "code",
   "execution_count": 9,
   "metadata": {
    "colab": {
     "base_uri": "https://localhost:8080/",
     "height": 53
    },
    "executionInfo": {
     "elapsed": 1134,
     "status": "ok",
     "timestamp": 1602821548736,
     "user": {
      "displayName": "박경하",
      "photoUrl": "",
      "userId": "14970276928355419245"
     },
     "user_tz": -540
    },
    "id": "WeaGcVn5mLAh",
    "outputId": "4bdaeea1-f342-4f38-e15d-35b433815004"
   },
   "outputs": [
    {
     "name": "stdout",
     "output_type": "stream",
     "text": [
      "훈련용 리뷰의 개수 : 3827\n",
      "테스트용 리뷰의 개수 : 1276\n"
     ]
    }
   ],
   "source": [
    "# train/test Set 분류\n",
    "train_data, test_data = train_test_split(total_data, test_size = 0.25, random_state = 42)\n",
    "print('훈련용 리뷰의 개수 :', len(train_data))\n",
    "print('테스트용 리뷰의 개수 :', len(test_data))"
   ]
  },
  {
   "cell_type": "code",
   "execution_count": null,
   "metadata": {
    "executionInfo": {
     "elapsed": 1133,
     "status": "ok",
     "timestamp": 1602821548738,
     "user": {
      "displayName": "박경하",
      "photoUrl": "",
      "userId": "14970276928355419245"
     },
     "user_tz": -540
    },
    "id": "9nxnBAIzmLAl"
   },
   "outputs": [],
   "source": []
  },
  {
   "cell_type": "code",
   "execution_count": null,
   "metadata": {
    "id": "XF4F7AnfmLAp"
   },
   "outputs": [],
   "source": []
  },
  {
   "cell_type": "code",
   "execution_count": null,
   "metadata": {
    "id": "-_QNhbGimLAu"
   },
   "outputs": [],
   "source": []
  },
  {
   "cell_type": "markdown",
   "metadata": {
    "id": "hDy2WfPMmLAx"
   },
   "source": [
    "### 3.데이터 정제/토큰화"
   ]
  },
  {
   "cell_type": "code",
   "execution_count": 10,
   "metadata": {},
   "outputs": [
    {
     "name": "stderr",
     "output_type": "stream",
     "text": [
      "C:\\ProgramData\\Anaconda3\\lib\\site-packages\\ipykernel_launcher.py:2: SettingWithCopyWarning: \n",
      "A value is trying to be set on a copy of a slice from a DataFrame\n",
      "\n",
      "See the caveats in the documentation: https://pandas.pydata.org/pandas-docs/stable/user_guide/indexing.html#returning-a-view-versus-a-copy\n",
      "  \n",
      "C:\\ProgramData\\Anaconda3\\lib\\site-packages\\pandas\\core\\generic.py:6746: SettingWithCopyWarning: \n",
      "A value is trying to be set on a copy of a slice from a DataFrame\n",
      "\n",
      "See the caveats in the documentation: https://pandas.pydata.org/pandas-docs/stable/user_guide/indexing.html#returning-a-view-versus-a-copy\n",
      "  self._update_inplace(new_data)\n"
     ]
    }
   ],
   "source": [
    "# 정규 표현식 수행 : train\n",
    "train_data.drop_duplicates(subset = ['reviews'], inplace=True) # 중복 제거\n",
    "# train_data['reviews'] = train_data['reviews'].str.replace(\"[^ㄱ-ㅎㅏ-ㅣ가-힣 ]\",\"\") # 정규 표현식 수행\n",
    "\n",
    "# Null 값 제거 : train\n",
    "train_data['reviews'].replace('', np.nan, inplace=True) # 공백은 Null 값으로 변경\n",
    "train_data = train_data.dropna(how='any') # Null 값 제거"
   ]
  },
  {
   "cell_type": "code",
   "execution_count": null,
   "metadata": {},
   "outputs": [],
   "source": []
  },
  {
   "cell_type": "code",
   "execution_count": 11,
   "metadata": {
    "colab": {
     "base_uri": "https://localhost:8080/",
     "height": 593
    },
    "executionInfo": {
     "elapsed": 2095,
     "status": "ok",
     "timestamp": 1602821549714,
     "user": {
      "displayName": "박경하",
      "photoUrl": "",
      "userId": "14970276928355419245"
     },
     "user_tz": -540
    },
    "id": "qHajxGKomLAy",
    "outputId": "753b6574-c714-4309-a6b3-4091bcf827dc"
   },
   "outputs": [
    {
     "name": "stderr",
     "output_type": "stream",
     "text": [
      "C:\\ProgramData\\Anaconda3\\lib\\site-packages\\ipykernel_launcher.py:2: SettingWithCopyWarning: \n",
      "A value is trying to be set on a copy of a slice from a DataFrame\n",
      "\n",
      "See the caveats in the documentation: https://pandas.pydata.org/pandas-docs/stable/user_guide/indexing.html#returning-a-view-versus-a-copy\n",
      "  \n"
     ]
    }
   ],
   "source": [
    "\n",
    "# 정규 표현식 수행 : test\n",
    "test_data.drop_duplicates(subset = ['reviews'], inplace=True) # 중복 제거\n",
    "# test_data['reviews'] = test_data['reviews'].str.replace(\"[^ㄱ-ㅎㅏ-ㅣ가-힣 ]\",\"\") # 정규 표현식 수행\n",
    "\n",
    "# Null 값 제거 : test\n",
    "test_data['reviews'].replace('', np.nan, inplace=True) # 공백은 Null 값으로 변경\n",
    "test_data = test_data.dropna(how='any') # Null 값 제거"
   ]
  },
  {
   "cell_type": "code",
   "execution_count": 12,
   "metadata": {
    "colab": {
     "base_uri": "https://localhost:8080/",
     "height": 53
    },
    "executionInfo": {
     "elapsed": 2080,
     "status": "ok",
     "timestamp": 1602821549718,
     "user": {
      "displayName": "박경하",
      "photoUrl": "",
      "userId": "14970276928355419245"
     },
     "user_tz": -540
    },
    "id": "AciWxMPImLA5",
    "outputId": "ed494ec9-7b5b-4c27-b519-0255eddae46f"
   },
   "outputs": [
    {
     "name": "stdout",
     "output_type": "stream",
     "text": [
      "전처리 후 훈련 샘플의 개수 : 3827\n",
      "전처리 후 테스트 샘플의 개수 : 1276\n"
     ]
    }
   ],
   "source": [
    "print('전처리 후 훈련 샘플의 개수 :',len(train_data))\n",
    "print('전처리 후 테스트 샘플의 개수 :',len(test_data))"
   ]
  },
  {
   "cell_type": "code",
   "execution_count": null,
   "metadata": {
    "id": "so5bjX9imLA9"
   },
   "outputs": [],
   "source": []
  },
  {
   "cell_type": "code",
   "execution_count": 13,
   "metadata": {
    "executionInfo": {
     "elapsed": 26793,
     "status": "ok",
     "timestamp": 1602821588206,
     "user": {
      "displayName": "박경하",
      "photoUrl": "",
      "userId": "14970276928355419245"
     },
     "user_tz": -540
    },
    "id": "tOJJg1lBmLBB"
   },
   "outputs": [
    {
     "name": "stderr",
     "output_type": "stream",
     "text": [
      "C:\\ProgramData\\Anaconda3\\lib\\site-packages\\jpype\\_core.py:210: UserWarning: \n",
      "-------------------------------------------------------------------------------\n",
      "Deprecated: convertStrings was not specified when starting the JVM. The default\n",
      "behavior in JPype will be False starting in JPype 0.8. The recommended setting\n",
      "for new code is convertStrings=False.  The legacy value of True was assumed for\n",
      "this session. If you are a user of an application that reported this warning,\n",
      "please file a ticket with the developer.\n",
      "-------------------------------------------------------------------------------\n",
      "\n",
      "  \"\"\")\n"
     ]
    },
    {
     "name": "stdout",
     "output_type": "stream",
     "text": [
      "Wall time: 12 s\n"
     ]
    }
   ],
   "source": [
    "%%time\n",
    "\n",
    "okt = Okt()\n",
    "\n",
    "# token화\n",
    "# mecab = Mecab()\n",
    "# print(okt.morphs('와 이런 것도 상품이라고 차라리 내가 만드는 게 나을 뻔'))\n",
    "stopwords = ['도', '는', '다', '의', '가', '이', '은', '한', '에', '하', '고', '을', '를', '인', '듯', '과', '와', '네', '들', '듯', '지', '임', '게', '요', '로', '하고', '으로']\n",
    "\n",
    "# token화 : train\n",
    "train_data['tokenized'] = train_data['reviews'].apply(okt.morphs)\n",
    "train_data['tokenized'] = train_data['tokenized'].apply(lambda x: [item for item in x if item not in stopwords])\n",
    "\n",
    "# token화 : test\n",
    "test_data['tokenized'] = test_data['reviews'].apply(okt.morphs)\n",
    "test_data['tokenized'] = test_data['tokenized'].apply(lambda x: [item for item in x if item not in stopwords])"
   ]
  },
  {
   "cell_type": "code",
   "execution_count": null,
   "metadata": {
    "id": "vnrOWCbzmLBG"
   },
   "outputs": [],
   "source": []
  },
  {
   "cell_type": "code",
   "execution_count": null,
   "metadata": {
    "id": "fslihDsCmLBK"
   },
   "outputs": [],
   "source": []
  },
  {
   "cell_type": "code",
   "execution_count": null,
   "metadata": {
    "id": "jt4OpOAPmLBN"
   },
   "outputs": [],
   "source": []
  },
  {
   "cell_type": "markdown",
   "metadata": {
    "id": "gjeCNV13mLBQ"
   },
   "source": [
    "### 4.단어와 길이 분포 확인하기 "
   ]
  },
  {
   "cell_type": "code",
   "execution_count": 14,
   "metadata": {
    "executionInfo": {
     "elapsed": 1989,
     "status": "ok",
     "timestamp": 1602821590211,
     "user": {
      "displayName": "박경하",
      "photoUrl": "",
      "userId": "14970276928355419245"
     },
     "user_tz": -540
    },
    "id": "QXe8cXlsmLBR"
   },
   "outputs": [],
   "source": [
    "negative_words = np.hstack(train_data[train_data.label == 0]['tokenized'].values)\n",
    "positive_words = np.hstack(train_data[train_data.label == 1]['tokenized'].values)"
   ]
  },
  {
   "cell_type": "code",
   "execution_count": 15,
   "metadata": {
    "colab": {
     "base_uri": "https://localhost:8080/",
     "height": 73
    },
    "executionInfo": {
     "elapsed": 3379,
     "status": "ok",
     "timestamp": 1602821591606,
     "user": {
      "displayName": "박경하",
      "photoUrl": "",
      "userId": "14970276928355419245"
     },
     "user_tz": -540
    },
    "id": "vmMGPuMemLBU",
    "outputId": "989352aa-8559-49ab-9fe3-2735c0caf09b"
   },
   "outputs": [
    {
     "name": "stdout",
     "output_type": "stream",
     "text": [
      "[('두유', 308), ('맛', 211), ('?', 177), ('좋네요', 174), ('초코', 165), ('썬', 127), ('대박', 124), ('가격', 122), ('업', 111), ('너무', 102), ('매', 101), ('매일', 97), ('일', 92), ('맛있어요', 82), ('품절', 79), ('혜택', 78), ('~', 75), ('진짜', 64), ('.', 61), ('구성', 60)]\n",
      "\n",
      "[('구매', 261), ('두유', 219), ('했어요', 134), ('완료', 124), ('매', 116), ('박스', 115), ('썬', 111), ('~', 97), ('업', 97), ('일', 92)]\n"
     ]
    }
   ],
   "source": [
    "negative_word_count = Counter(negative_words)\n",
    "positive_word_count = Counter(positive_words)\n",
    "\n",
    "print(negative_word_count.most_common(20))\n",
    "print('')\n",
    "print(positive_word_count.most_common(10))"
   ]
  },
  {
   "cell_type": "code",
   "execution_count": 16,
   "metadata": {
    "executionInfo": {
     "elapsed": 3391,
     "status": "ok",
     "timestamp": 1602821591623,
     "user": {
      "displayName": "박경하",
      "photoUrl": "",
      "userId": "14970276928355419245"
     },
     "user_tz": -540
    },
    "id": "Yx3rTGiumLBX"
   },
   "outputs": [],
   "source": [
    "X_train = train_data['tokenized'].values\n",
    "y_train = train_data['label'].values\n",
    "X_test= test_data['tokenized'].values\n",
    "y_test = test_data['label'].values"
   ]
  },
  {
   "cell_type": "code",
   "execution_count": 17,
   "metadata": {
    "id": "altFQnfTmLBa"
   },
   "outputs": [],
   "source": [
    "# negative_word_count.most_common(20)"
   ]
  },
  {
   "cell_type": "code",
   "execution_count": null,
   "metadata": {
    "id": "HXPXXPUTmLBe"
   },
   "outputs": [],
   "source": []
  },
  {
   "cell_type": "code",
   "execution_count": null,
   "metadata": {
    "id": "wKwOOPFumLBh"
   },
   "outputs": [],
   "source": []
  },
  {
   "cell_type": "markdown",
   "metadata": {
    "id": "qJgbIC0amLBk"
   },
   "source": [
    "### 5.정수 인코딩 "
   ]
  },
  {
   "cell_type": "code",
   "execution_count": 18,
   "metadata": {
    "colab": {
     "base_uri": "https://localhost:8080/",
     "height": 89
    },
    "executionInfo": {
     "elapsed": 5449,
     "status": "ok",
     "timestamp": 1602821593685,
     "user": {
      "displayName": "박경하",
      "photoUrl": "",
      "userId": "14970276928355419245"
     },
     "user_tz": -540
    },
    "id": "ffsu-A3MmLBk",
    "outputId": "5fbff022-ba05-42a3-8899-baba0c32af34"
   },
   "outputs": [
    {
     "name": "stdout",
     "output_type": "stream",
     "text": [
      "단어 집합(vocabulary)의 크기 : 3692\n",
      "등장 빈도가 1번 이하인 희귀 단어의 수: 2243\n",
      "단어 집합에서 희귀 단어의 비율: 60.75297941495125\n",
      "전체 등장 빈도에서 희귀 단어 등장 빈도 비율: 12.594048287478946\n"
     ]
    }
   ],
   "source": [
    "tokenizer = Tokenizer()\n",
    "tokenizer.fit_on_texts(X_train)\n",
    "\n",
    "threshold = 2\n",
    "total_cnt = len(tokenizer.word_index) # 단어의 수\n",
    "rare_cnt = 0 # 등장 빈도수가 threshold보다 작은 단어의 개수를 카운트\n",
    "total_freq = 0 # 훈련 데이터의 전체 단어 빈도수 총 합\n",
    "rare_freq = 0 # 등장 빈도수가 threshold보다 작은 단어의 등장 빈도수의 총 합\n",
    "\n",
    "# 단어와 빈도수의 쌍(pair)을 key와 value로 받는다.\n",
    "for key, value in tokenizer.word_counts.items():\n",
    "    total_freq = total_freq + value\n",
    "\n",
    "    # 단어의 등장 빈도수가 threshold보다 작으면\n",
    "    if(value < threshold):\n",
    "        rare_cnt = rare_cnt + 1\n",
    "        rare_freq = rare_freq + value\n",
    "\n",
    "print('단어 집합(vocabulary)의 크기 :',total_cnt)\n",
    "print('등장 빈도가 %s번 이하인 희귀 단어의 수: %s'%(threshold - 1, rare_cnt))\n",
    "print(\"단어 집합에서 희귀 단어의 비율:\", (rare_cnt / total_cnt)*100)\n",
    "print(\"전체 등장 빈도에서 희귀 단어 등장 빈도 비율:\", (rare_freq / total_freq)*100)"
   ]
  },
  {
   "cell_type": "code",
   "execution_count": 19,
   "metadata": {
    "colab": {
     "base_uri": "https://localhost:8080/",
     "height": 35
    },
    "executionInfo": {
     "elapsed": 5447,
     "status": "ok",
     "timestamp": 1602821593686,
     "user": {
      "displayName": "박경하",
      "photoUrl": "",
      "userId": "14970276928355419245"
     },
     "user_tz": -540
    },
    "id": "_1yDt1OjmLBo",
    "outputId": "1c94f655-5c31-4f21-dd0f-eb9dcda86918"
   },
   "outputs": [
    {
     "name": "stdout",
     "output_type": "stream",
     "text": [
      "단어 집합의 크기 : 1451\n"
     ]
    }
   ],
   "source": [
    "# 전체 단어 개수 중 빈도수 2이하인 단어 개수는 제거.\n",
    "# 0번 패딩 토큰과 1번 OOV 토큰을 고려하여 +2\n",
    "vocab_size = total_cnt - rare_cnt + 2\n",
    "print('단어 집합의 크기 :',vocab_size)"
   ]
  },
  {
   "cell_type": "code",
   "execution_count": 20,
   "metadata": {
    "executionInfo": {
     "elapsed": 9679,
     "status": "ok",
     "timestamp": 1602821597922,
     "user": {
      "displayName": "박경하",
      "photoUrl": "",
      "userId": "14970276928355419245"
     },
     "user_tz": -540
    },
    "id": "TrcKqJm6mLBq"
   },
   "outputs": [],
   "source": [
    "tokenizer = Tokenizer(vocab_size, oov_token = 'OOV') \n",
    "tokenizer.fit_on_texts(X_train)\n",
    "X_train = tokenizer.texts_to_sequences(X_train)\n",
    "X_test = tokenizer.texts_to_sequences(X_test)"
   ]
  },
  {
   "cell_type": "code",
   "execution_count": null,
   "metadata": {
    "id": "g6roRYRsmLBu"
   },
   "outputs": [],
   "source": []
  },
  {
   "cell_type": "code",
   "execution_count": null,
   "metadata": {
    "id": "AK6_2VvRmLBy"
   },
   "outputs": [],
   "source": []
  },
  {
   "cell_type": "code",
   "execution_count": null,
   "metadata": {
    "id": "s29NuwmfmLB0"
   },
   "outputs": [],
   "source": []
  },
  {
   "cell_type": "markdown",
   "metadata": {
    "id": "ZfXKG7-0mLB3"
   },
   "source": [
    "### 6.패딩 : 샘플들의 길이를 동일하게 맞춰주는 작업"
   ]
  },
  {
   "cell_type": "code",
   "execution_count": 21,
   "metadata": {
    "colab": {
     "base_uri": "https://localhost:8080/",
     "height": 315
    },
    "executionInfo": {
     "elapsed": 10218,
     "status": "ok",
     "timestamp": 1602821598464,
     "user": {
      "displayName": "박경하",
      "photoUrl": "",
      "userId": "14970276928355419245"
     },
     "user_tz": -540
    },
    "id": "XxkFXyhSmLB4",
    "outputId": "9da9c533-ec99-4853-b403-b1c0716acd2d"
   },
   "outputs": [
    {
     "name": "stdout",
     "output_type": "stream",
     "text": [
      "리뷰의 최대 길이 : 30\n",
      "리뷰의 평균 길이 : 4.653775803501437\n"
     ]
    },
    {
     "data": {
      "image/png": "[encoded data removed]",
      "text/plain": [
       "<Figure size 432x288 with 1 Axes>"
      ]
     },
     "metadata": {
      "needs_background": "light"
     },
     "output_type": "display_data"
    }
   ],
   "source": [
    "print('리뷰의 최대 길이 :',max(len(l) for l in X_train))\n",
    "print('리뷰의 평균 길이 :',sum(map(len, X_train))/len(X_train))\n",
    "plt.hist([len(s) for s in X_train], bins=50)\n",
    "plt.xlabel('length of samples')\n",
    "plt.ylabel('number of samples')\n",
    "plt.show()"
   ]
  },
  {
   "cell_type": "code",
   "execution_count": 22,
   "metadata": {
    "executionInfo": {
     "elapsed": 10216,
     "status": "ok",
     "timestamp": 1602821598465,
     "user": {
      "displayName": "박경하",
      "photoUrl": "",
      "userId": "14970276928355419245"
     },
     "user_tz": -540
    },
    "id": "Lf1vqQOTmLB7"
   },
   "outputs": [],
   "source": [
    "def below_threshold_len(max_len, nested_list):\n",
    "    cnt = 0\n",
    "    for s in nested_list:\n",
    "        if(len(s) <= max_len):\n",
    "            cnt = cnt + 1\n",
    "    print('전체 샘플 중 길이가 %s 이하인 샘플의 비율: %s'%(max_len, (cnt / len(nested_list))*100))"
   ]
  },
  {
   "cell_type": "code",
   "execution_count": 23,
   "metadata": {
    "colab": {
     "base_uri": "https://localhost:8080/",
     "height": 35
    },
    "executionInfo": {
     "elapsed": 10213,
     "status": "ok",
     "timestamp": 1602821598466,
     "user": {
      "displayName": "박경하",
      "photoUrl": "",
      "userId": "14970276928355419245"
     },
     "user_tz": -540
    },
    "id": "8ez5GDKDmLCC",
    "outputId": "6c8eb910-f7a1-4849-c23d-9c81d4aff184"
   },
   "outputs": [
    {
     "name": "stdout",
     "output_type": "stream",
     "text": [
      "전체 샘플 중 길이가 20 이하인 샘플의 비율: 99.79095897569898\n"
     ]
    }
   ],
   "source": [
    "max_len = 20\n",
    "below_threshold_len(max_len, X_train)"
   ]
  },
  {
   "cell_type": "code",
   "execution_count": 24,
   "metadata": {
    "executionInfo": {
     "elapsed": 11042,
     "status": "ok",
     "timestamp": 1602821599299,
     "user": {
      "displayName": "박경하",
      "photoUrl": "",
      "userId": "14970276928355419245"
     },
     "user_tz": -540
    },
    "id": "XsRt3WAEmLCI"
   },
   "outputs": [],
   "source": [
    "X_train = pad_sequences(X_train, maxlen = max_len)\n",
    "X_test = pad_sequences(X_test, maxlen = max_len)"
   ]
  },
  {
   "cell_type": "code",
   "execution_count": null,
   "metadata": {
    "executionInfo": {
     "elapsed": 11039,
     "status": "ok",
     "timestamp": 1602821599300,
     "user": {
      "displayName": "박경하",
      "photoUrl": "",
      "userId": "14970276928355419245"
     },
     "user_tz": -540
    },
    "id": "LaxwTLh2mLCM"
   },
   "outputs": [],
   "source": []
  },
  {
   "cell_type": "code",
   "execution_count": null,
   "metadata": {
    "executionInfo": {
     "elapsed": 11037,
     "status": "ok",
     "timestamp": 1602821599301,
     "user": {
      "displayName": "박경하",
      "photoUrl": "",
      "userId": "14970276928355419245"
     },
     "user_tz": -540
    },
    "id": "5UPyHy02mLCP"
   },
   "outputs": [],
   "source": []
  },
  {
   "cell_type": "markdown",
   "metadata": {
    "id": "37xlLvfJmLCT"
   },
   "source": [
    "### 7.모델링 : 1D CNN\n",
    " + Activation : sigmoid\n",
    " + Optimizer : RMSprop\n",
    " + Metrics : binary_crossentropy"
   ]
  },
  {
   "cell_type": "code",
   "execution_count": 25,
   "metadata": {
    "executionInfo": {
     "elapsed": 11034,
     "status": "ok",
     "timestamp": 1602821599301,
     "user": {
      "displayName": "박경하",
      "photoUrl": "",
      "userId": "14970276928355419245"
     },
     "user_tz": -540
    },
    "id": "hhzJFyNmmLCU"
   },
   "outputs": [],
   "source": [
    "from tensorflow.keras.layers import Embedding, Dense, GRU\n",
    "from tensorflow.keras.models import Sequential\n",
    "from tensorflow.keras.models import load_model\n",
    "from tensorflow.keras.callbacks import EarlyStopping, ModelCheckpoint"
   ]
  },
  {
   "cell_type": "code",
   "execution_count": 26,
   "metadata": {
    "executionInfo": {
     "elapsed": 12001,
     "status": "ok",
     "timestamp": 1602821600272,
     "user": {
      "displayName": "박경하",
      "photoUrl": "",
      "userId": "14970276928355419245"
     },
     "user_tz": -540
    },
    "id": "np9MKN0ZmLCX"
   },
   "outputs": [],
   "source": [
    "model = Sequential()\n",
    "model.add(Embedding(vocab_size, 20))\n",
    "model.add(GRU(64))\n",
    "model.add(Dense(1, activation='relu'))"
   ]
  },
  {
   "cell_type": "code",
   "execution_count": 27,
   "metadata": {
    "colab": {
     "base_uri": "https://localhost:8080/",
     "height": 269
    },
    "executionInfo": {
     "elapsed": 9995,
     "status": "ok",
     "timestamp": 1602821600274,
     "user": {
      "displayName": "박경하",
      "photoUrl": "",
      "userId": "14970276928355419245"
     },
     "user_tz": -540
    },
    "id": "auMKYGMXmLCc",
    "outputId": "50ac42b9-baf0-4560-d518-10e6f8b08028"
   },
   "outputs": [
    {
     "name": "stdout",
     "output_type": "stream",
     "text": [
      "Model: \"sequential\"\n",
      "_________________________________________________________________\n",
      "Layer (type)                 Output Shape              Param #   \n",
      "=================================================================\n",
      "embedding (Embedding)        (None, None, 20)          29020     \n",
      "_________________________________________________________________\n",
      "gru (GRU)                    (None, 64)                16512     \n",
      "_________________________________________________________________\n",
      "dense (Dense)                (None, 1)                 65        \n",
      "=================================================================\n",
      "Total params: 45,597\n",
      "Trainable params: 45,597\n",
      "Non-trainable params: 0\n",
      "_________________________________________________________________\n"
     ]
    }
   ],
   "source": [
    "model.summary()"
   ]
  },
  {
   "cell_type": "code",
   "execution_count": 28,
   "metadata": {
    "executionInfo": {
     "elapsed": 715,
     "status": "ok",
     "timestamp": 1602821603272,
     "user": {
      "displayName": "박경하",
      "photoUrl": "",
      "userId": "14970276928355419245"
     },
     "user_tz": -540
    },
    "id": "psayXfSjmLCf"
   },
   "outputs": [],
   "source": [
    "es = EarlyStopping(monitor='val_loss', mode='min', verbose=1, patience=4)\n",
    "mc = ModelCheckpoint('201103_model_1DCNN.h5', monitor='val_acc', mode='max', verbose=1, save_best_only=True)"
   ]
  },
  {
   "cell_type": "code",
   "execution_count": 29,
   "metadata": {
    "colab": {
     "base_uri": "https://localhost:8080/",
     "height": 683
    },
    "executionInfo": {
     "elapsed": 2565414,
     "status": "ok",
     "timestamp": 1602824169962,
     "user": {
      "displayName": "박경하",
      "photoUrl": "",
      "userId": "14970276928355419245"
     },
     "user_tz": -540
    },
    "id": "AOOl-0LqmLCi",
    "outputId": "bba10d8c-8ca2-4fcf-c6c0-e2810c8b12f9"
   },
   "outputs": [
    {
     "name": "stdout",
     "output_type": "stream",
     "text": [
      "Epoch 1/15\n",
      "52/52 [==============================] - ETA: 0s - loss: 0.8906 - acc: 0.5802\n",
      "Epoch 00001: val_acc improved from -inf to 0.57311, saving model to 201103_model_1DCNN.h5\n",
      "52/52 [==============================] - 1s 20ms/step - loss: 0.8906 - acc: 0.5802 - val_loss: 0.6378 - val_acc: 0.5731\n",
      "Epoch 2/15\n",
      "51/52 [============================>.] - ETA: 0s - loss: 0.5548 - acc: 0.7686\n",
      "Epoch 00002: val_acc improved from 0.57311 to 0.79504, saving model to 201103_model_1DCNN.h5\n",
      "52/52 [==============================] - 1s 14ms/step - loss: 0.5547 - acc: 0.7687 - val_loss: 0.5037 - val_acc: 0.7950\n",
      "Epoch 3/15\n",
      "49/52 [===========================>..] - ETA: 0s - loss: 0.3672 - acc: 0.8704\n",
      "Epoch 00003: val_acc improved from 0.79504 to 0.82637, saving model to 201103_model_1DCNN.h5\n",
      "52/52 [==============================] - 1s 13ms/step - loss: 0.3654 - acc: 0.8713 - val_loss: 0.5688 - val_acc: 0.8264\n",
      "Epoch 4/15\n",
      "51/52 [============================>.] - ETA: 0s - loss: 0.3395 - acc: 0.8696\n",
      "Epoch 00004: val_acc did not improve from 0.82637\n",
      "52/52 [==============================] - 1s 16ms/step - loss: 0.3394 - acc: 0.8697 - val_loss: 0.6003 - val_acc: 0.8198\n",
      "Epoch 5/15\n",
      "48/52 [==========================>...] - ETA: 0s - loss: 0.2806 - acc: 0.8997\n",
      "Epoch 00005: val_acc did not improve from 0.82637\n",
      "52/52 [==============================] - 1s 15ms/step - loss: 0.2813 - acc: 0.8994 - val_loss: 0.6400 - val_acc: 0.8211\n",
      "Epoch 6/15\n",
      "50/52 [===========================>..] - ETA: 0s - loss: 0.2262 - acc: 0.9147\n",
      "Epoch 00006: val_acc improved from 0.82637 to 0.82768, saving model to 201103_model_1DCNN.h5\n",
      "52/52 [==============================] - 1s 13ms/step - loss: 0.2298 - acc: 0.9141 - val_loss: 0.7560 - val_acc: 0.8277\n",
      "Epoch 00006: early stopping\n"
     ]
    }
   ],
   "source": [
    "model.compile(optimizer='adam', loss='binary_crossentropy', metrics=['acc'])\n",
    "history = model.fit(X_train, y_train, epochs=15, callbacks=[es, mc], batch_size=60, validation_split=0.2)"
   ]
  },
  {
   "cell_type": "code",
   "execution_count": 30,
   "metadata": {
    "colab": {
     "base_uri": "https://localhost:8080/",
     "height": 295
    },
    "executionInfo": {
     "elapsed": 1015,
     "status": "ok",
     "timestamp": 1602824809512,
     "user": {
      "displayName": "박경하",
      "photoUrl": "",
      "userId": "14970276928355419245"
     },
     "user_tz": -540
    },
    "id": "kkMEa_cAmLCn",
    "outputId": "12ceb45f-5436-4e3c-eaee-e5dd5e435bfa"
   },
   "outputs": [
    {
     "data": {
      "image/png": "[encoded data removed]",
      "text/plain": [
       "<Figure size 1080x288 with 2 Axes>"
      ]
     },
     "metadata": {
      "needs_background": "light"
     },
     "output_type": "display_data"
    }
   ],
   "source": [
    "# 5. model evalustion : v1\n",
    "plt.figure(figsize=(15,4))\n",
    "plt.subplot(1,2,1)\n",
    "epochs = range(1, len(history.history['acc']) + 1)\n",
    "plt.plot(epochs, history.history['acc'])\n",
    "plt.plot(epochs, history.history['val_acc'])\n",
    "plt.title('model accuracy')\n",
    "plt.ylabel('accuracy')\n",
    "plt.xlabel('epochs')\n",
    "plt.legend(['train_accuracy', 'test_accuracy'], loc='lower right')\n",
    "\n",
    "plt.subplot(1,2,2)\n",
    "epochs = range(1, len(history.history['loss']) + 1)\n",
    "plt.plot(epochs, history.history['loss'])\n",
    "plt.plot(epochs, history.history['val_loss'])\n",
    "plt.title('model loss')\n",
    "plt.ylabel('loss')\n",
    "plt.xlabel('epochs')\n",
    "plt.legend(['train_loss', 'test_loss'], loc='upper right')\n",
    "plt.show()"
   ]
  },
  {
   "cell_type": "code",
   "execution_count": null,
   "metadata": {
    "executionInfo": {
     "elapsed": 1075,
     "status": "ok",
     "timestamp": 1602828456407,
     "user": {
      "displayName": "박경하",
      "photoUrl": "",
      "userId": "14970276928355419245"
     },
     "user_tz": -540
    },
    "id": "pDFQRypGzuq0"
   },
   "outputs": [],
   "source": [
    "# history.save('best_model_1DCNN.h5')"
   ]
  },
  {
   "cell_type": "code",
   "execution_count": null,
   "metadata": {
    "id": "b1uxJXk6mLCq"
   },
   "outputs": [],
   "source": []
  },
  {
   "cell_type": "code",
   "execution_count": null,
   "metadata": {
    "id": "SDB7yhRKmLCw"
   },
   "outputs": [],
   "source": []
  },
  {
   "cell_type": "code",
   "execution_count": null,
   "metadata": {
    "id": "yVAl0PubmLCy"
   },
   "outputs": [],
   "source": []
  },
  {
   "cell_type": "markdown",
   "metadata": {
    "id": "VItLS6RdmLC2"
   },
   "source": [
    "### 8.모델링 : biLSTM"
   ]
  },
  {
   "cell_type": "code",
   "execution_count": 60,
   "metadata": {
    "executionInfo": {
     "elapsed": 909,
     "status": "ok",
     "timestamp": 1602824817398,
     "user": {
      "displayName": "박경하",
      "photoUrl": "",
      "userId": "14970276928355419245"
     },
     "user_tz": -540
    },
    "id": "npeIMyaQmLC2"
   },
   "outputs": [],
   "source": [
    "import re\n",
    "from tensorflow.keras.layers import Embedding, Dense, LSTM, Bidirectional\n",
    "from tensorflow.keras.models import Sequential\n",
    "from tensorflow.keras.models import load_model\n",
    "from tensorflow.keras.callbacks import EarlyStopping, ModelCheckpoint\n"
   ]
  },
  {
   "cell_type": "code",
   "execution_count": 61,
   "metadata": {},
   "outputs": [],
   "source": [
    "import graphviz "
   ]
  },
  {
   "cell_type": "code",
   "execution_count": 62,
   "metadata": {
    "executionInfo": {
     "elapsed": 435,
     "status": "ok",
     "timestamp": 1602824817745,
     "user": {
      "displayName": "박경하",
      "photoUrl": "",
      "userId": "14970276928355419245"
     },
     "user_tz": -540
    },
    "id": "bwTWT9PRzcC3"
   },
   "outputs": [],
   "source": [
    "import tensorflow as tf\n",
    "from tensorflow.keras.utils import plot_model"
   ]
  },
  {
   "cell_type": "code",
   "execution_count": 75,
   "metadata": {
    "executionInfo": {
     "elapsed": 1180,
     "status": "ok",
     "timestamp": 1602824819710,
     "user": {
      "displayName": "박경하",
      "photoUrl": "",
      "userId": "14970276928355419245"
     },
     "user_tz": -540
    },
    "id": "VoegeW0FmLC5"
   },
   "outputs": [],
   "source": [
    "model = Sequential()\n",
    "model.add(Embedding(vocab_size, 100))\n",
    "model.add(Bidirectional(LSTM(100)))\n",
    "# model.add(Bidirectional(LSTM(100)))\n",
    "model.add(Dense(1, activation='relu'))"
   ]
  },
  {
   "cell_type": "code",
   "execution_count": 76,
   "metadata": {},
   "outputs": [
    {
     "name": "stdout",
     "output_type": "stream",
     "text": [
      "Model: \"sequential_6\"\n",
      "_________________________________________________________________\n",
      "Layer (type)                 Output Shape              Param #   \n",
      "=================================================================\n",
      "embedding_6 (Embedding)      (None, None, 100)         145100    \n",
      "_________________________________________________________________\n",
      "bidirectional_7 (Bidirection (None, 200)               160800    \n",
      "_________________________________________________________________\n",
      "dense_4 (Dense)              (None, 1)                 201       \n",
      "=================================================================\n",
      "Total params: 306,101\n",
      "Trainable params: 306,101\n",
      "Non-trainable params: 0\n",
      "_________________________________________________________________\n"
     ]
    }
   ],
   "source": [
    "model.summary()"
   ]
  },
  {
   "cell_type": "code",
   "execution_count": 77,
   "metadata": {
    "colab": {
     "base_uri": "https://localhost:8080/",
     "height": 269
    },
    "executionInfo": {
     "elapsed": 712,
     "status": "ok",
     "timestamp": 1602824822647,
     "user": {
      "displayName": "박경하",
      "photoUrl": "",
      "userId": "14970276928355419245"
     },
     "user_tz": -540
    },
    "id": "tUdG6ZOunYcO",
    "outputId": "38f73575-9d5d-4fe9-e219-d7554bfb4d17"
   },
   "outputs": [],
   "source": [
    "# tf.keras.utils.plot_model(model, show_shapes=True, dpi=100)"
   ]
  },
  {
   "cell_type": "code",
   "execution_count": 78,
   "metadata": {},
   "outputs": [],
   "source": [
    "# plot_model(model)"
   ]
  },
  {
   "cell_type": "code",
   "execution_count": 84,
   "metadata": {
    "executionInfo": {
     "elapsed": 694,
     "status": "ok",
     "timestamp": 1602824828048,
     "user": {
      "displayName": "박경하",
      "photoUrl": "",
      "userId": "14970276928355419245"
     },
     "user_tz": -540
    },
    "id": "HfoZiNDGmLC9"
   },
   "outputs": [],
   "source": [
    "es = EarlyStopping(monitor='val_loss', mode='min', verbose=10, patience=40)\n",
    "mc = ModelCheckpoint('201103_model_biLSTM.h5', monitor='val_acc', mode='max', verbose=1, save_best_only=True)"
   ]
  },
  {
   "cell_type": "code",
   "execution_count": 85,
   "metadata": {
    "colab": {
     "base_uri": "https://localhost:8080/",
     "height": 775
    },
    "executionInfo": {
     "elapsed": 3624704,
     "status": "ok",
     "timestamp": 1602828455311,
     "user": {
      "displayName": "박경하",
      "photoUrl": "",
      "userId": "14970276928355419245"
     },
     "user_tz": -540
    },
    "id": "XzLQaSHZnau1",
    "outputId": "08a55c5f-917e-4c57-e529-ad48679bbeee",
    "scrolled": false
   },
   "outputs": [
    {
     "name": "stdout",
     "output_type": "stream",
     "text": [
      "Epoch 1/150\n",
      "12/12 [==============================] - ETA: 0s - loss: 0.1389 - acc: 0.9530- ETA: 0s - loss: 0.1408 - acc:\n",
      "Epoch 00001: val_acc improved from -inf to 0.86292, saving model to 201103_model_biLSTM.h5\n",
      "12/12 [==============================] - 4s 292ms/step - loss: 0.1389 - acc: 0.9530 - val_loss: 0.7854 - val_acc: 0.8629\n",
      "Epoch 2/150\n",
      "12/12 [==============================] - ETA: 0s - loss: 0.1314 - acc: 0.9585\n",
      "Epoch 00002: val_acc did not improve from 0.86292\n",
      "12/12 [==============================] - 2s 202ms/step - loss: 0.1314 - acc: 0.9585 - val_loss: 0.7995 - val_acc: 0.8629\n",
      "Epoch 3/150\n",
      "12/12 [==============================] - ETA: 0s - loss: 0.1205 - acc: 0.9592\n",
      "Epoch 00003: val_acc did not improve from 0.86292\n",
      "12/12 [==============================] - 2s 205ms/step - loss: 0.1205 - acc: 0.9592 - val_loss: 0.8689 - val_acc: 0.8551\n",
      "Epoch 4/150\n",
      "12/12 [==============================] - ETA: 0s - loss: 0.1159 - acc: 0.9618\n",
      "Epoch 00004: val_acc did not improve from 0.86292\n",
      "12/12 [==============================] - 2s 200ms/step - loss: 0.1159 - acc: 0.9618 - val_loss: 0.9214 - val_acc: 0.8577\n",
      "Epoch 5/150\n",
      "12/12 [==============================] - ETA: 0s - loss: 0.1131 - acc: 0.9637\n",
      "Epoch 00005: val_acc did not improve from 0.86292\n",
      "12/12 [==============================] - 3s 215ms/step - loss: 0.1131 - acc: 0.9637 - val_loss: 0.9047 - val_acc: 0.8564\n",
      "Epoch 6/150\n",
      "12/12 [==============================] - ETA: 0s - loss: 0.1099 - acc: 0.9611\n",
      "Epoch 00006: val_acc improved from 0.86292 to 0.86423, saving model to 201103_model_biLSTM.h5\n",
      "12/12 [==============================] - 3s 221ms/step - loss: 0.1099 - acc: 0.9611 - val_loss: 0.9329 - val_acc: 0.8642\n",
      "Epoch 7/150\n",
      "12/12 [==============================] - ETA: 0s - loss: 0.1053 - acc: 0.9654\n",
      "Epoch 00007: val_acc did not improve from 0.86423\n",
      "12/12 [==============================] - 3s 215ms/step - loss: 0.1053 - acc: 0.9654 - val_loss: 1.0162 - val_acc: 0.8616\n",
      "Epoch 8/150\n",
      "12/12 [==============================] - ETA: 0s - loss: 0.1024 - acc: 0.9667\n",
      "Epoch 00008: val_acc did not improve from 0.86423\n",
      "12/12 [==============================] - 3s 242ms/step - loss: 0.1024 - acc: 0.9667 - val_loss: 1.0549 - val_acc: 0.8603\n",
      "Epoch 9/150\n",
      "12/12 [==============================] - ETA: 0s - loss: 0.1041 - acc: 0.9677\n",
      "Epoch 00009: val_acc did not improve from 0.86423\n",
      "12/12 [==============================] - 3s 259ms/step - loss: 0.1041 - acc: 0.9677 - val_loss: 1.1499 - val_acc: 0.8616\n",
      "Epoch 10/150\n",
      "12/12 [==============================] - ETA: 0s - loss: 0.0985 - acc: 0.9696\n",
      "Epoch 00010: val_acc did not improve from 0.86423\n",
      "12/12 [==============================] - 3s 218ms/step - loss: 0.0985 - acc: 0.9696 - val_loss: 1.1129 - val_acc: 0.8590\n",
      "Epoch 11/150\n",
      "12/12 [==============================] - ETA: 0s - loss: 0.0948 - acc: 0.9706\n",
      "Epoch 00011: val_acc did not improve from 0.86423\n",
      "12/12 [==============================] - 3s 227ms/step - loss: 0.0948 - acc: 0.9706 - val_loss: 1.1806 - val_acc: 0.8616\n",
      "Epoch 12/150\n",
      "12/12 [==============================] - ETA: 0s - loss: 0.0933 - acc: 0.9722\n",
      "Epoch 00012: val_acc did not improve from 0.86423\n",
      "12/12 [==============================] - 3s 230ms/step - loss: 0.0933 - acc: 0.9722 - val_loss: 1.2787 - val_acc: 0.8590\n",
      "Epoch 13/150\n",
      "12/12 [==============================] - ETA: 0s - loss: 0.0912 - acc: 0.9726\n",
      "Epoch 00013: val_acc did not improve from 0.86423\n",
      "12/12 [==============================] - 3s 231ms/step - loss: 0.0912 - acc: 0.9726 - val_loss: 1.2963 - val_acc: 0.8564\n",
      "Epoch 14/150\n",
      "12/12 [==============================] - ETA: 0s - loss: 0.0898 - acc: 0.9729\n",
      "Epoch 00014: val_acc did not improve from 0.86423\n",
      "12/12 [==============================] - 3s 222ms/step - loss: 0.0898 - acc: 0.9729 - val_loss: 1.2962 - val_acc: 0.8577\n",
      "Epoch 15/150\n",
      "12/12 [==============================] - ETA: 0s - loss: 0.0917 - acc: 0.974 - ETA: 0s - loss: 0.0880 - acc: 0.9742\n",
      "Epoch 00015: val_acc did not improve from 0.86423\n",
      "12/12 [==============================] - 3s 212ms/step - loss: 0.0880 - acc: 0.9742 - val_loss: 1.3206 - val_acc: 0.8577\n",
      "Epoch 16/150\n",
      "12/12 [==============================] - ETA: 0s - loss: 0.0866 - acc: 0.9748\n",
      "Epoch 00016: val_acc did not improve from 0.86423\n",
      "12/12 [==============================] - 3s 229ms/step - loss: 0.0866 - acc: 0.9748 - val_loss: 1.3323 - val_acc: 0.8564\n",
      "Epoch 17/150\n",
      "12/12 [==============================] - ETA: 0s - loss: 0.0854 - acc: 0.9739\n",
      "Epoch 00017: val_acc did not improve from 0.86423\n",
      "12/12 [==============================] - 3s 215ms/step - loss: 0.0854 - acc: 0.9739 - val_loss: 1.3687 - val_acc: 0.8577\n",
      "Epoch 18/150\n",
      "12/12 [==============================] - ETA: 0s - loss: 0.0867 - acc: 0.9732\n",
      "Epoch 00018: val_acc did not improve from 0.86423\n",
      "12/12 [==============================] - 3s 222ms/step - loss: 0.0867 - acc: 0.9732 - val_loss: 1.4056 - val_acc: 0.8577\n",
      "Epoch 19/150\n",
      "12/12 [==============================] - ETA: 0s - loss: 0.0846 - acc: 0.9735\n",
      "Epoch 00019: val_acc did not improve from 0.86423\n",
      "12/12 [==============================] - 3s 226ms/step - loss: 0.0846 - acc: 0.9735 - val_loss: 1.4288 - val_acc: 0.8577\n",
      "Epoch 20/150\n",
      "12/12 [==============================] - ETA: 0s - loss: 0.0826 - acc: 0.9748\n",
      "Epoch 00020: val_acc did not improve from 0.86423\n",
      "12/12 [==============================] - 3s 242ms/step - loss: 0.0826 - acc: 0.9748 - val_loss: 1.4019 - val_acc: 0.8577\n",
      "Epoch 21/150\n",
      "12/12 [==============================] - ETA: 0s - loss: 0.0830 - acc: 0.9748\n",
      "Epoch 00021: val_acc did not improve from 0.86423\n",
      "12/12 [==============================] - 3s 212ms/step - loss: 0.0830 - acc: 0.9748 - val_loss: 1.4784 - val_acc: 0.8551\n",
      "Epoch 22/150\n",
      "12/12 [==============================] - ETA: 0s - loss: 0.0822 - acc: 0.9755\n",
      "Epoch 00022: val_acc did not improve from 0.86423\n",
      "12/12 [==============================] - 3s 217ms/step - loss: 0.0822 - acc: 0.9755 - val_loss: 1.4611 - val_acc: 0.8577\n",
      "Epoch 23/150\n",
      "12/12 [==============================] - ETA: 0s - loss: 0.0828 - acc: 0.9755\n",
      "Epoch 00023: val_acc did not improve from 0.86423\n",
      "12/12 [==============================] - 3s 216ms/step - loss: 0.0828 - acc: 0.9755 - val_loss: 1.4820 - val_acc: 0.8551\n",
      "Epoch 24/150\n",
      "12/12 [==============================] - ETA: 0s - loss: 0.0817 - acc: 0.9752\n",
      "Epoch 00024: val_acc did not improve from 0.86423\n",
      "12/12 [==============================] - 3s 228ms/step - loss: 0.0817 - acc: 0.9752 - val_loss: 1.5527 - val_acc: 0.8590\n",
      "Epoch 25/150\n",
      "12/12 [==============================] - ETA: 0s - loss: 0.0796 - acc: 0.9781\n",
      "Epoch 00025: val_acc did not improve from 0.86423\n",
      "12/12 [==============================] - 3s 225ms/step - loss: 0.0796 - acc: 0.9781 - val_loss: 1.5797 - val_acc: 0.8577\n",
      "Epoch 26/150\n",
      "12/12 [==============================] - ETA: 0s - loss: 0.0785 - acc: 0.9771\n",
      "Epoch 00026: val_acc did not improve from 0.86423\n",
      "12/12 [==============================] - 3s 223ms/step - loss: 0.0785 - acc: 0.9771 - val_loss: 1.5871 - val_acc: 0.8486\n",
      "Epoch 27/150\n",
      "12/12 [==============================] - ETA: 0s - loss: 0.0773 - acc: 0.9781\n",
      "Epoch 00027: val_acc did not improve from 0.86423\n",
      "12/12 [==============================] - 4s 322ms/step - loss: 0.0773 - acc: 0.9781 - val_loss: 1.6318 - val_acc: 0.8512\n",
      "Epoch 28/150\n",
      "12/12 [==============================] - ETA: 0s - loss: 0.0764 - acc: 0.9781\n",
      "Epoch 00028: val_acc did not improve from 0.86423\n",
      "12/12 [==============================] - 4s 298ms/step - loss: 0.0764 - acc: 0.9781 - val_loss: 1.6169 - val_acc: 0.8486\n",
      "Epoch 29/150\n",
      "12/12 [==============================] - ETA: 0s - loss: 0.0762 - acc: 0.9765\n",
      "Epoch 00029: val_acc did not improve from 0.86423\n",
      "12/12 [==============================] - 3s 286ms/step - loss: 0.0762 - acc: 0.9765 - val_loss: 1.5705 - val_acc: 0.8486\n",
      "Epoch 30/150\n",
      "12/12 [==============================] - ETA: 0s - loss: 0.0757 - acc: 0.9784\n",
      "Epoch 00030: val_acc did not improve from 0.86423\n",
      "12/12 [==============================] - 3s 291ms/step - loss: 0.0757 - acc: 0.9784 - val_loss: 1.5680 - val_acc: 0.8512\n",
      "Epoch 31/150\n",
      "12/12 [==============================] - ETA: 0s - loss: 0.0741 - acc: 0.9797\n",
      "Epoch 00031: val_acc did not improve from 0.86423\n",
      "12/12 [==============================] - 3s 251ms/step - loss: 0.0741 - acc: 0.9797 - val_loss: 1.5835 - val_acc: 0.8512\n"
     ]
    },
    {
     "name": "stdout",
     "output_type": "stream",
     "text": [
      "Epoch 32/150\n",
      "12/12 [==============================] - ETA: 0s - loss: 0.0735 - acc: 0.9801\n",
      "Epoch 00032: val_acc did not improve from 0.86423\n",
      "12/12 [==============================] - 3s 236ms/step - loss: 0.0735 - acc: 0.9801 - val_loss: 1.6009 - val_acc: 0.8512\n",
      "Epoch 33/150\n",
      "12/12 [==============================] - ETA: 0s - loss: 0.0726 - acc: 0.9804\n",
      "Epoch 00033: val_acc did not improve from 0.86423\n",
      "12/12 [==============================] - 3s 235ms/step - loss: 0.0726 - acc: 0.9804 - val_loss: 1.6035 - val_acc: 0.8486\n",
      "Epoch 34/150\n",
      "12/12 [==============================] - ETA: 0s - loss: 0.0719 - acc: 0.9804\n",
      "Epoch 00034: val_acc did not improve from 0.86423\n",
      "12/12 [==============================] - 3s 240ms/step - loss: 0.0719 - acc: 0.9804 - val_loss: 1.6246 - val_acc: 0.8512\n",
      "Epoch 35/150\n",
      "12/12 [==============================] - ETA: 0s - loss: 0.0713 - acc: 0.9820\n",
      "Epoch 00035: val_acc did not improve from 0.86423\n",
      "12/12 [==============================] - 3s 255ms/step - loss: 0.0713 - acc: 0.9820 - val_loss: 1.6295 - val_acc: 0.8473\n",
      "Epoch 36/150\n",
      "12/12 [==============================] - ETA: 0s - loss: 0.0725 - acc: 0.9804\n",
      "Epoch 00036: val_acc did not improve from 0.86423\n",
      "12/12 [==============================] - 3s 260ms/step - loss: 0.0725 - acc: 0.9804 - val_loss: 1.6082 - val_acc: 0.8446\n",
      "Epoch 37/150\n",
      "12/12 [==============================] - ETA: 0s - loss: 0.0805 - acc: 0.9791\n",
      "Epoch 00037: val_acc did not improve from 0.86423\n",
      "12/12 [==============================] - 4s 299ms/step - loss: 0.0805 - acc: 0.9791 - val_loss: 1.6014 - val_acc: 0.8564\n",
      "Epoch 38/150\n",
      "12/12 [==============================] - ETA: 0s - loss: 0.1429 - acc: 0.9709\n",
      "Epoch 00038: val_acc did not improve from 0.86423\n",
      "12/12 [==============================] - 3s 267ms/step - loss: 0.1429 - acc: 0.9709 - val_loss: 1.6108 - val_acc: 0.8407\n",
      "Epoch 39/150\n",
      "12/12 [==============================] - ETA: 0s - loss: 0.1527 - acc: 0.9703\n",
      "Epoch 00039: val_acc did not improve from 0.86423\n",
      "12/12 [==============================] - 3s 252ms/step - loss: 0.1527 - acc: 0.9703 - val_loss: 1.4330 - val_acc: 0.8486\n",
      "Epoch 40/150\n",
      "12/12 [==============================] - ETA: 0s - loss: 0.1150 - acc: 0.9748\n",
      "Epoch 00040: val_acc did not improve from 0.86423\n",
      "12/12 [==============================] - 3s 240ms/step - loss: 0.1150 - acc: 0.9748 - val_loss: 1.3620 - val_acc: 0.8551\n",
      "Epoch 41/150\n",
      "12/12 [==============================] - ETA: 0s - loss: 0.0991 - acc: 0.9762\n",
      "Epoch 00041: val_acc did not improve from 0.86423\n",
      "12/12 [==============================] - 3s 225ms/step - loss: 0.0991 - acc: 0.9762 - val_loss: 1.3624 - val_acc: 0.8603\n",
      "Epoch 00041: early stopping\n"
     ]
    }
   ],
   "source": [
    "model.compile(optimizer='adam', loss='binary_crossentropy', metrics=['acc'])\n",
    "model2_hist = model.fit(X_train, y_train, epochs=150, callbacks=[es, mc], batch_size=256, validation_split=0.2)"
   ]
  },
  {
   "cell_type": "code",
   "execution_count": 86,
   "metadata": {
    "colab": {
     "base_uri": "https://localhost:8080/",
     "height": 255
    },
    "executionInfo": {
     "elapsed": 1007,
     "status": "ok",
     "timestamp": 1602828460096,
     "user": {
      "displayName": "박경하",
      "photoUrl": "",
      "userId": "14970276928355419245"
     },
     "user_tz": -540
    },
    "id": "4J13cZ_Yna2Q",
    "outputId": "be8bf1cd-828e-404a-a1cf-c1d8eeecb240"
   },
   "outputs": [
    {
     "data": {
      "image/png": "[encoded data removed]",
      "text/plain": [
       "<Figure size 1080x288 with 2 Axes>"
      ]
     },
     "metadata": {
      "needs_background": "light"
     },
     "output_type": "display_data"
    }
   ],
   "source": [
    "# 5. model evalustion : v1\n",
    "plt.figure(figsize=(15,4))\n",
    "plt.subplot(1,2,1)\n",
    "epochs = range(1, len(model2_hist.history['acc']) + 1)\n",
    "plt.plot(epochs, model2_hist.history['acc'])\n",
    "plt.plot(epochs, model2_hist.history['val_acc'])\n",
    "plt.title('model accuracy')\n",
    "plt.ylabel('accuracy')\n",
    "plt.xlabel('epochs')\n",
    "plt.legend(['train', 'test'], loc='lower right')\n",
    "\n",
    "plt.subplot(1,2,2)\n",
    "epochs = range(1, len(model2_hist.history['loss']) + 1)\n",
    "plt.plot(epochs, model2_hist.history['loss'])\n",
    "plt.plot(epochs, model2_hist.history['val_loss'])\n",
    "plt.title('model loss')\n",
    "plt.ylabel('loss')\n",
    "plt.xlabel('epochs')\n",
    "plt.legend(['train', 'test'], loc='upper right')\n",
    "plt.show()"
   ]
  },
  {
   "cell_type": "code",
   "execution_count": 105,
   "metadata": {
    "executionInfo": {
     "elapsed": 694,
     "status": "ok",
     "timestamp": 1602837214580,
     "user": {
      "displayName": "박경하",
      "photoUrl": "",
      "userId": "14970276928355419245"
     },
     "user_tz": -540
    },
    "id": "20IfTvGYna0G"
   },
   "outputs": [],
   "source": []
  },
  {
   "cell_type": "code",
   "execution_count": null,
   "metadata": {},
   "outputs": [],
   "source": []
  },
  {
   "cell_type": "code",
   "execution_count": null,
   "metadata": {},
   "outputs": [],
   "source": []
  },
  {
   "cell_type": "markdown",
   "metadata": {},
   "source": [
    "### 8.모델링 : biLSTM"
   ]
  },
  {
   "cell_type": "code",
   "execution_count": 25,
   "metadata": {},
   "outputs": [],
   "source": [
    "import tensorflow_hub as hub"
   ]
  },
  {
   "cell_type": "code",
   "execution_count": 26,
   "metadata": {},
   "outputs": [
    {
     "name": "stderr",
     "output_type": "stream",
     "text": [
      "Using TensorFlow backend.\n"
     ]
    }
   ],
   "source": [
    "# import tensorflow_hub as hub\n",
    "import tensorflow as tf\n",
    "from keras import backend as K\n",
    "import urllib.request\n",
    "import pandas as pd\n",
    "import numpy as np"
   ]
  },
  {
   "cell_type": "code",
   "execution_count": 27,
   "metadata": {},
   "outputs": [
    {
     "ename": "RuntimeError",
     "evalue": "It looks like you are trying to use a version of multi-backend Keras that does not support TensorFlow 2.0. We recommend using `tf.keras`, or alternatively, downgrading to TensorFlow 1.14.",
     "output_type": "error",
     "traceback": [
      "\u001b[1;31m---------------------------------------------------------------------------\u001b[0m",
      "\u001b[1;31mAttributeError\u001b[0m                            Traceback (most recent call last)",
      "\u001b[1;32mC:\\ProgramData\\Anaconda3\\lib\\site-packages\\keras\\backend\\tensorflow_backend.py\u001b[0m in \u001b[0;36m_get_default_graph\u001b[1;34m()\u001b[0m\n\u001b[0;32m     65\u001b[0m     \u001b[1;32mtry\u001b[0m\u001b[1;33m:\u001b[0m\u001b[1;33m\u001b[0m\u001b[1;33m\u001b[0m\u001b[0m\n\u001b[1;32m---> 66\u001b[1;33m         \u001b[1;32mreturn\u001b[0m \u001b[0mtf\u001b[0m\u001b[1;33m.\u001b[0m\u001b[0mget_default_graph\u001b[0m\u001b[1;33m(\u001b[0m\u001b[1;33m)\u001b[0m\u001b[1;33m\u001b[0m\u001b[1;33m\u001b[0m\u001b[0m\n\u001b[0m\u001b[0;32m     67\u001b[0m     \u001b[1;32mexcept\u001b[0m \u001b[0mAttributeError\u001b[0m\u001b[1;33m:\u001b[0m\u001b[1;33m\u001b[0m\u001b[1;33m\u001b[0m\u001b[0m\n",
      "\u001b[1;31mAttributeError\u001b[0m: module 'tensorflow' has no attribute 'get_default_graph'",
      "\nDuring handling of the above exception, another exception occurred:\n",
      "\u001b[1;31mRuntimeError\u001b[0m                              Traceback (most recent call last)",
      "\u001b[1;32m<ipython-input-27-cf68a4874f8c>\u001b[0m in \u001b[0;36m<module>\u001b[1;34m\u001b[0m\n\u001b[0;32m      2\u001b[0m \u001b[1;32mfrom\u001b[0m \u001b[0mkeras\u001b[0m\u001b[1;33m.\u001b[0m\u001b[0mlayers\u001b[0m \u001b[1;32mimport\u001b[0m \u001b[0mDense\u001b[0m\u001b[1;33m,\u001b[0m \u001b[0mLambda\u001b[0m\u001b[1;33m,\u001b[0m \u001b[0mInput\u001b[0m\u001b[1;33m\u001b[0m\u001b[1;33m\u001b[0m\u001b[0m\n\u001b[0;32m      3\u001b[0m \u001b[1;33m\u001b[0m\u001b[0m\n\u001b[1;32m----> 4\u001b[1;33m \u001b[0minput_text\u001b[0m \u001b[1;33m=\u001b[0m \u001b[0mInput\u001b[0m\u001b[1;33m(\u001b[0m\u001b[0mshape\u001b[0m\u001b[1;33m=\u001b[0m\u001b[1;33m(\u001b[0m\u001b[1;36m1\u001b[0m\u001b[1;33m,\u001b[0m\u001b[1;33m)\u001b[0m\u001b[1;33m,\u001b[0m \u001b[0mdtype\u001b[0m\u001b[1;33m=\u001b[0m\u001b[0mtf\u001b[0m\u001b[1;33m.\u001b[0m\u001b[0mstring\u001b[0m\u001b[1;33m)\u001b[0m\u001b[1;33m\u001b[0m\u001b[1;33m\u001b[0m\u001b[0m\n\u001b[0m\u001b[0;32m      5\u001b[0m \u001b[0membedding_layer\u001b[0m \u001b[1;33m=\u001b[0m \u001b[0mLambda\u001b[0m\u001b[1;33m(\u001b[0m\u001b[0mELMoEmbedding\u001b[0m\u001b[1;33m,\u001b[0m \u001b[0moutput_shape\u001b[0m\u001b[1;33m=\u001b[0m\u001b[1;33m(\u001b[0m\u001b[1;36m1024\u001b[0m\u001b[1;33m,\u001b[0m \u001b[1;33m)\u001b[0m\u001b[1;33m)\u001b[0m\u001b[1;33m(\u001b[0m\u001b[0minput_text\u001b[0m\u001b[1;33m)\u001b[0m\u001b[1;33m\u001b[0m\u001b[1;33m\u001b[0m\u001b[0m\n\u001b[0;32m      6\u001b[0m \u001b[0mhidden_layer\u001b[0m \u001b[1;33m=\u001b[0m \u001b[0mDense\u001b[0m\u001b[1;33m(\u001b[0m\u001b[1;36m256\u001b[0m\u001b[1;33m,\u001b[0m \u001b[0mactivation\u001b[0m\u001b[1;33m=\u001b[0m\u001b[1;34m'relu'\u001b[0m\u001b[1;33m)\u001b[0m\u001b[1;33m(\u001b[0m\u001b[0membedding_layer\u001b[0m\u001b[1;33m)\u001b[0m\u001b[1;33m\u001b[0m\u001b[1;33m\u001b[0m\u001b[0m\n",
      "\u001b[1;32mC:\\ProgramData\\Anaconda3\\lib\\site-packages\\keras\\engine\\input_layer.py\u001b[0m in \u001b[0;36mInput\u001b[1;34m(shape, batch_shape, name, dtype, sparse, tensor)\u001b[0m\n\u001b[0;32m    176\u001b[0m                              \u001b[0mname\u001b[0m\u001b[1;33m=\u001b[0m\u001b[0mname\u001b[0m\u001b[1;33m,\u001b[0m \u001b[0mdtype\u001b[0m\u001b[1;33m=\u001b[0m\u001b[0mdtype\u001b[0m\u001b[1;33m,\u001b[0m\u001b[1;33m\u001b[0m\u001b[1;33m\u001b[0m\u001b[0m\n\u001b[0;32m    177\u001b[0m                              \u001b[0msparse\u001b[0m\u001b[1;33m=\u001b[0m\u001b[0msparse\u001b[0m\u001b[1;33m,\u001b[0m\u001b[1;33m\u001b[0m\u001b[1;33m\u001b[0m\u001b[0m\n\u001b[1;32m--> 178\u001b[1;33m                              input_tensor=tensor)\n\u001b[0m\u001b[0;32m    179\u001b[0m     \u001b[1;31m# Return tensor including _keras_shape and _keras_history.\u001b[0m\u001b[1;33m\u001b[0m\u001b[1;33m\u001b[0m\u001b[1;33m\u001b[0m\u001b[0m\n\u001b[0;32m    180\u001b[0m     \u001b[1;31m# Note that in this case train_output and test_output are the same pointer.\u001b[0m\u001b[1;33m\u001b[0m\u001b[1;33m\u001b[0m\u001b[1;33m\u001b[0m\u001b[0m\n",
      "\u001b[1;32mC:\\ProgramData\\Anaconda3\\lib\\site-packages\\keras\\legacy\\interfaces.py\u001b[0m in \u001b[0;36mwrapper\u001b[1;34m(*args, **kwargs)\u001b[0m\n\u001b[0;32m     89\u001b[0m                 warnings.warn('Update your `' + object_name + '` call to the ' +\n\u001b[0;32m     90\u001b[0m                               'Keras 2 API: ' + signature, stacklevel=2)\n\u001b[1;32m---> 91\u001b[1;33m             \u001b[1;32mreturn\u001b[0m \u001b[0mfunc\u001b[0m\u001b[1;33m(\u001b[0m\u001b[1;33m*\u001b[0m\u001b[0margs\u001b[0m\u001b[1;33m,\u001b[0m \u001b[1;33m**\u001b[0m\u001b[0mkwargs\u001b[0m\u001b[1;33m)\u001b[0m\u001b[1;33m\u001b[0m\u001b[1;33m\u001b[0m\u001b[0m\n\u001b[0m\u001b[0;32m     92\u001b[0m         \u001b[0mwrapper\u001b[0m\u001b[1;33m.\u001b[0m\u001b[0m_original_function\u001b[0m \u001b[1;33m=\u001b[0m \u001b[0mfunc\u001b[0m\u001b[1;33m\u001b[0m\u001b[1;33m\u001b[0m\u001b[0m\n\u001b[0;32m     93\u001b[0m         \u001b[1;32mreturn\u001b[0m \u001b[0mwrapper\u001b[0m\u001b[1;33m\u001b[0m\u001b[1;33m\u001b[0m\u001b[0m\n",
      "\u001b[1;32mC:\\ProgramData\\Anaconda3\\lib\\site-packages\\keras\\engine\\input_layer.py\u001b[0m in \u001b[0;36m__init__\u001b[1;34m(self, input_shape, batch_size, batch_input_shape, dtype, input_tensor, sparse, name)\u001b[0m\n\u001b[0;32m     37\u001b[0m         \u001b[1;32mif\u001b[0m \u001b[1;32mnot\u001b[0m \u001b[0mname\u001b[0m\u001b[1;33m:\u001b[0m\u001b[1;33m\u001b[0m\u001b[1;33m\u001b[0m\u001b[0m\n\u001b[0;32m     38\u001b[0m             \u001b[0mprefix\u001b[0m \u001b[1;33m=\u001b[0m \u001b[1;34m'input'\u001b[0m\u001b[1;33m\u001b[0m\u001b[1;33m\u001b[0m\u001b[0m\n\u001b[1;32m---> 39\u001b[1;33m             \u001b[0mname\u001b[0m \u001b[1;33m=\u001b[0m \u001b[0mprefix\u001b[0m \u001b[1;33m+\u001b[0m \u001b[1;34m'_'\u001b[0m \u001b[1;33m+\u001b[0m \u001b[0mstr\u001b[0m\u001b[1;33m(\u001b[0m\u001b[0mK\u001b[0m\u001b[1;33m.\u001b[0m\u001b[0mget_uid\u001b[0m\u001b[1;33m(\u001b[0m\u001b[0mprefix\u001b[0m\u001b[1;33m)\u001b[0m\u001b[1;33m)\u001b[0m\u001b[1;33m\u001b[0m\u001b[1;33m\u001b[0m\u001b[0m\n\u001b[0m\u001b[0;32m     40\u001b[0m         \u001b[0msuper\u001b[0m\u001b[1;33m(\u001b[0m\u001b[0mInputLayer\u001b[0m\u001b[1;33m,\u001b[0m \u001b[0mself\u001b[0m\u001b[1;33m)\u001b[0m\u001b[1;33m.\u001b[0m\u001b[0m__init__\u001b[0m\u001b[1;33m(\u001b[0m\u001b[0mdtype\u001b[0m\u001b[1;33m=\u001b[0m\u001b[0mdtype\u001b[0m\u001b[1;33m,\u001b[0m \u001b[0mname\u001b[0m\u001b[1;33m=\u001b[0m\u001b[0mname\u001b[0m\u001b[1;33m)\u001b[0m\u001b[1;33m\u001b[0m\u001b[1;33m\u001b[0m\u001b[0m\n\u001b[0;32m     41\u001b[0m \u001b[1;33m\u001b[0m\u001b[0m\n",
      "\u001b[1;32mC:\\ProgramData\\Anaconda3\\lib\\site-packages\\keras\\backend\\tensorflow_backend.py\u001b[0m in \u001b[0;36mget_uid\u001b[1;34m(prefix)\u001b[0m\n\u001b[0;32m     84\u001b[0m     \"\"\"\n\u001b[0;32m     85\u001b[0m     \u001b[1;32mglobal\u001b[0m \u001b[0m_GRAPH_UID_DICTS\u001b[0m\u001b[1;33m\u001b[0m\u001b[1;33m\u001b[0m\u001b[0m\n\u001b[1;32m---> 86\u001b[1;33m     \u001b[0mgraph\u001b[0m \u001b[1;33m=\u001b[0m \u001b[0m_get_default_graph\u001b[0m\u001b[1;33m(\u001b[0m\u001b[1;33m)\u001b[0m\u001b[1;33m\u001b[0m\u001b[1;33m\u001b[0m\u001b[0m\n\u001b[0m\u001b[0;32m     87\u001b[0m     \u001b[1;32mif\u001b[0m \u001b[0mgraph\u001b[0m \u001b[1;32mnot\u001b[0m \u001b[1;32min\u001b[0m \u001b[0m_GRAPH_UID_DICTS\u001b[0m\u001b[1;33m:\u001b[0m\u001b[1;33m\u001b[0m\u001b[1;33m\u001b[0m\u001b[0m\n\u001b[0;32m     88\u001b[0m         \u001b[0m_GRAPH_UID_DICTS\u001b[0m\u001b[1;33m[\u001b[0m\u001b[0mgraph\u001b[0m\u001b[1;33m]\u001b[0m \u001b[1;33m=\u001b[0m \u001b[0mdefaultdict\u001b[0m\u001b[1;33m(\u001b[0m\u001b[0mint\u001b[0m\u001b[1;33m)\u001b[0m\u001b[1;33m\u001b[0m\u001b[1;33m\u001b[0m\u001b[0m\n",
      "\u001b[1;32mC:\\ProgramData\\Anaconda3\\lib\\site-packages\\keras\\backend\\tensorflow_backend.py\u001b[0m in \u001b[0;36m_get_default_graph\u001b[1;34m()\u001b[0m\n\u001b[0;32m     67\u001b[0m     \u001b[1;32mexcept\u001b[0m \u001b[0mAttributeError\u001b[0m\u001b[1;33m:\u001b[0m\u001b[1;33m\u001b[0m\u001b[1;33m\u001b[0m\u001b[0m\n\u001b[0;32m     68\u001b[0m         raise RuntimeError(\n\u001b[1;32m---> 69\u001b[1;33m             \u001b[1;34m'It looks like you are trying to use '\u001b[0m\u001b[1;33m\u001b[0m\u001b[1;33m\u001b[0m\u001b[0m\n\u001b[0m\u001b[0;32m     70\u001b[0m             \u001b[1;34m'a version of multi-backend Keras that '\u001b[0m\u001b[1;33m\u001b[0m\u001b[1;33m\u001b[0m\u001b[0m\n\u001b[0;32m     71\u001b[0m             \u001b[1;34m'does not support TensorFlow 2.0. We recommend '\u001b[0m\u001b[1;33m\u001b[0m\u001b[1;33m\u001b[0m\u001b[0m\n",
      "\u001b[1;31mRuntimeError\u001b[0m: It looks like you are trying to use a version of multi-backend Keras that does not support TensorFlow 2.0. We recommend using `tf.keras`, or alternatively, downgrading to TensorFlow 1.14."
     ]
    }
   ],
   "source": [
    "from keras.models import Model\n",
    "from keras.layers import Dense, Lambda, Input\n",
    "\n",
    "input_text = Input(shape=(1,), dtype=tf.string)\n",
    "embedding_layer = Lambda(ELMoEmbedding, output_shape=(1024, ))(input_text)\n",
    "hidden_layer = Dense(256, activation='relu')(embedding_layer)\n",
    "output_layer = Dense(1, activation='sigmoid')(hidden_layer)\n",
    "model = Model(inputs=[input_text], outputs=output_layer)\n",
    "model.compile(loss='binary_crossentropy', optimizer='adam', metrics=['accuracy'])"
   ]
  },
  {
   "cell_type": "code",
   "execution_count": 28,
   "metadata": {},
   "outputs": [
    {
     "ename": "NameError",
     "evalue": "name 'Sequential' is not defined",
     "output_type": "error",
     "traceback": [
      "\u001b[1;31m---------------------------------------------------------------------------\u001b[0m",
      "\u001b[1;31mNameError\u001b[0m                                 Traceback (most recent call last)",
      "\u001b[1;32m<ipython-input-28-f9626b0479f0>\u001b[0m in \u001b[0;36m<module>\u001b[1;34m\u001b[0m\n\u001b[1;32m----> 1\u001b[1;33m \u001b[0mmodel\u001b[0m \u001b[1;33m=\u001b[0m \u001b[0mSequential\u001b[0m\u001b[1;33m(\u001b[0m\u001b[1;33m)\u001b[0m\u001b[1;33m\u001b[0m\u001b[1;33m\u001b[0m\u001b[0m\n\u001b[0m\u001b[0;32m      2\u001b[0m \u001b[0mmodel\u001b[0m\u001b[1;33m.\u001b[0m\u001b[0madd\u001b[0m\u001b[1;33m(\u001b[0m\u001b[0mEmbedding\u001b[0m\u001b[1;33m(\u001b[0m\u001b[0mvocab_size\u001b[0m\u001b[1;33m,\u001b[0m \u001b[1;36m100\u001b[0m\u001b[1;33m)\u001b[0m\u001b[1;33m)\u001b[0m\u001b[1;33m\u001b[0m\u001b[1;33m\u001b[0m\u001b[0m\n\u001b[0;32m      3\u001b[0m \u001b[0mmodel\u001b[0m\u001b[1;33m.\u001b[0m\u001b[0madd\u001b[0m\u001b[1;33m(\u001b[0m\u001b[0mBidirectional\u001b[0m\u001b[1;33m(\u001b[0m\u001b[0mLSTM\u001b[0m\u001b[1;33m(\u001b[0m\u001b[1;36m100\u001b[0m\u001b[1;33m)\u001b[0m\u001b[1;33m)\u001b[0m\u001b[1;33m)\u001b[0m\u001b[1;33m\u001b[0m\u001b[1;33m\u001b[0m\u001b[0m\n\u001b[0;32m      4\u001b[0m \u001b[0mmodel\u001b[0m\u001b[1;33m.\u001b[0m\u001b[0madd\u001b[0m\u001b[1;33m(\u001b[0m\u001b[0mDense\u001b[0m\u001b[1;33m(\u001b[0m\u001b[1;36m1\u001b[0m\u001b[1;33m,\u001b[0m \u001b[0mactivation\u001b[0m\u001b[1;33m=\u001b[0m\u001b[1;34m'sigmoid'\u001b[0m\u001b[1;33m)\u001b[0m\u001b[1;33m)\u001b[0m\u001b[1;33m\u001b[0m\u001b[1;33m\u001b[0m\u001b[0m\n",
      "\u001b[1;31mNameError\u001b[0m: name 'Sequential' is not defined"
     ]
    }
   ],
   "source": [
    "model = Sequential()\n",
    "model.add(Embedding(vocab_size, 100))\n",
    "model.add(Bidirectional(LSTM(100)))\n",
    "model.add(Dense(1, activation='sigmoid'))"
   ]
  },
  {
   "cell_type": "code",
   "execution_count": null,
   "metadata": {},
   "outputs": [],
   "source": []
  },
  {
   "cell_type": "code",
   "execution_count": null,
   "metadata": {},
   "outputs": [],
   "source": []
  },
  {
   "cell_type": "code",
   "execution_count": null,
   "metadata": {
    "id": "UJIkGvq1nar_"
   },
   "outputs": [],
   "source": []
  },
  {
   "cell_type": "markdown",
   "metadata": {
    "id": "tTiPKDHmmLDA"
   },
   "source": [
    "### 9.결과평가"
   ]
  },
  {
   "cell_type": "code",
   "execution_count": null,
   "metadata": {
    "id": "reC6KdhBnapT"
   },
   "outputs": [],
   "source": []
  },
  {
   "cell_type": "code",
   "execution_count": null,
   "metadata": {
    "id": "onPCL3zxmLDB"
   },
   "outputs": [],
   "source": []
  },
  {
   "cell_type": "code",
   "execution_count": null,
   "metadata": {
    "executionInfo": {
     "elapsed": 1935,
     "status": "ok",
     "timestamp": 1602828749855,
     "user": {
      "displayName": "박경하",
      "photoUrl": "",
      "userId": "14970276928355419245"
     },
     "user_tz": -540
    },
    "id": "19AGT9rNmLDJ"
   },
   "outputs": [],
   "source": []
  },
  {
   "cell_type": "code",
   "execution_count": 31,
   "metadata": {
    "executionInfo": {
     "elapsed": 1566,
     "status": "ok",
     "timestamp": 1602828733587,
     "user": {
      "displayName": "박경하",
      "photoUrl": "",
      "userId": "14970276928355419245"
     },
     "user_tz": -540
    },
    "id": "o1h_nIYWmLDF"
   },
   "outputs": [],
   "source": []
  },
  {
   "cell_type": "code",
   "execution_count": 35,
   "metadata": {
    "executionInfo": {
     "elapsed": 620,
     "status": "ok",
     "timestamp": 1602828777576,
     "user": {
      "displayName": "박경하",
      "photoUrl": "",
      "userId": "14970276928355419245"
     },
     "user_tz": -540
    },
    "id": "nUo41e2xmLDM"
   },
   "outputs": [],
   "source": [
    "# test\n",
    "test_sentense = '늘주문하는거라 잘먹는데요\\n오늘도착예정이라는 말도없이 도착했다는말도없이 문앞에 두고가셨네요\\n이건 냉장제품인데 아무리 아이스박스에 담아뒀다해도 냉매 다녹았던데 왜 연락이없으신건지 이러다 상하면 애기. 어찌먹이나요\\n제가 아기재우고 10시반에나가니 문앞에 있는거보고 좀어이없어서'\n",
    "test_sentense = test_sentense.replace(\"\\n\", \" \")\n",
    "\n",
    "loaded_model = load_model('201019_model_1DCNN.h5')\n",
    "\n",
    "def sentiment_predict(new_sentence):\n",
    "    new_sentence = okt.morphs(new_sentence) # 토큰화\n",
    "    new_sentence = [word for word in new_sentence if not word in stopwords] # 불용어 제거\n",
    "    encoded = tokenizer.texts_to_sequences([new_sentence]) # 정수 인코딩\n",
    "    pad_new = pad_sequences(encoded, maxlen = max_len) # 패딩\n",
    "    score = float(loaded_model.predict(pad_new)) # 예측\n",
    "    if(score > 0.5):\n",
    "        print(\"{:.2f}% 확률로 긍정 리뷰입니다.(score : {})\".format(score * 100, score))\n",
    "    else:\n",
    "        print(\"{:.2f}% 확률로 부정 리뷰입니다.(score : {})\".format((1 - score) * 100, score))"
   ]
  },
  {
   "cell_type": "code",
   "execution_count": 36,
   "metadata": {
    "colab": {
     "base_uri": "https://localhost:8080/",
     "height": 35
    },
    "executionInfo": {
     "elapsed": 1096,
     "status": "ok",
     "timestamp": 1602828779328,
     "user": {
      "displayName": "박경하",
      "photoUrl": "",
      "userId": "14970276928355419245"
     },
     "user_tz": -540
    },
    "id": "GxjIPB7bmLDP",
    "outputId": "c44a5f67-1fbe-4589-e0e0-781f0c7aba65"
   },
   "outputs": [
    {
     "name": "stdout",
     "output_type": "stream",
     "text": [
      "98.89% 확률로 부정 리뷰입니다.(score : 0.011074423789978027)\n"
     ]
    }
   ],
   "source": [
    "# sentiment_predict(test_sentense)"
   ]
  },
  {
   "cell_type": "code",
   "execution_count": 69,
   "metadata": {
    "id": "3ZlCwVc_n4k8"
   },
   "outputs": [
    {
     "name": "stdout",
     "output_type": "stream",
     "text": [
      "원문 : 배송 암청 빠릅니다\n",
      "\n",
      "86.89% 확률로 긍정 리뷰입니다.(score : 0.8689199090003967)\n"
     ]
    }
   ],
   "source": [
    "i = 15500\n",
    "text, scroe = total_data2['reviews'][i], total_data2['ratings'][i]\n",
    "print('원문 : {}\\n'.format(text))\n",
    "sentiment_predict(text)"
   ]
  },
  {
   "cell_type": "code",
   "execution_count": 51,
   "metadata": {
    "id": "xmxxifwCn4iQ"
   },
   "outputs": [],
   "source": [
    "score_list = [] \n",
    "for i in range(1500):\n",
    "    text, scroe = total_data2['reviews'][i], total_data2['ratings'][i]\n",
    "    new_sentence = okt.morphs(text) # 토큰화\n",
    "    new_sentence = [word for word in new_sentence if not word in stopwords] # 불용어 제거\n",
    "    encoded = tokenizer.texts_to_sequences([new_sentence]) # 정수 인코딩\n",
    "    pad_new = pad_sequences(encoded, maxlen = max_len) # 패딩\n",
    "    score_list.append(float(loaded_model.predict(pad_new))) # 예측\n"
   ]
  },
  {
   "cell_type": "code",
   "execution_count": 68,
   "metadata": {},
   "outputs": [
    {
     "data": {
      "text/plain": [
       "'배송 암청 빠릅니다'"
      ]
     },
     "execution_count": 68,
     "metadata": {},
     "output_type": "execute_result"
    }
   ],
   "source": [
    "total_data2['reviews'][15500]"
   ]
  },
  {
   "cell_type": "code",
   "execution_count": 56,
   "metadata": {},
   "outputs": [
    {
     "data": {
      "text/plain": [
       "['떨어지기', '전', '구매', '하는', '상품', '임다']"
      ]
     },
     "execution_count": 56,
     "metadata": {},
     "output_type": "execute_result"
    }
   ],
   "source": [
    "new_sentence"
   ]
  },
  {
   "cell_type": "code",
   "execution_count": 58,
   "metadata": {},
   "outputs": [
    {
     "data": {
      "text/plain": [
       "[[2049, 150, 7, 123, 70, 6242]]"
      ]
     },
     "execution_count": 58,
     "metadata": {},
     "output_type": "execute_result"
    }
   ],
   "source": [
    "encoded"
   ]
  },
  {
   "cell_type": "code",
   "execution_count": 59,
   "metadata": {},
   "outputs": [
    {
     "data": {
      "text/plain": [
       "array([[   0,    0,    0,    0,    0,    0,    0,    0,    0,    0,    0,\n",
       "           0,    0,    0,    0,    0,    0,    0,    0,    0,    0,    0,\n",
       "           0,    0,    0,    0,    0,    0,    0,    0,    0,    0,    0,\n",
       "           0,    0,    0,    0,    0,    0,    0,    0,    0,    0,    0,\n",
       "           0,    0,    0,    0,    0,    0,    0,    0,    0,    0,    0,\n",
       "           0,    0,    0,    0,    0,    0,    0,    0,    0,    0,    0,\n",
       "           0,    0,    0,    0,    0,    0,    0,    0, 2049,  150,    7,\n",
       "         123,   70, 6242]])"
      ]
     },
     "execution_count": 59,
     "metadata": {},
     "output_type": "execute_result"
    }
   ],
   "source": [
    "pad_new"
   ]
  },
  {
   "cell_type": "code",
   "execution_count": null,
   "metadata": {},
   "outputs": [],
   "source": []
  },
  {
   "cell_type": "code",
   "execution_count": 52,
   "metadata": {
    "executionInfo": {
     "elapsed": 964,
     "status": "ok",
     "timestamp": 1602828820842,
     "user": {
      "displayName": "박경하",
      "photoUrl": "",
      "userId": "14970276928355419245"
     },
     "user_tz": -540
    },
    "id": "l5eRW2bgmLDS"
   },
   "outputs": [],
   "source": [
    "# score_list"
   ]
  },
  {
   "cell_type": "code",
   "execution_count": 54,
   "metadata": {
    "executionInfo": {
     "elapsed": 1338,
     "status": "ok",
     "timestamp": 1602828821645,
     "user": {
      "displayName": "박경하",
      "photoUrl": "",
      "userId": "14970276928355419245"
     },
     "user_tz": -540
    },
    "id": "f1-j7oxxmLDV"
   },
   "outputs": [
    {
     "data": {
      "image/png": "[encoded data removed]",
      "text/plain": [
       "<Figure size 432x288 with 1 Axes>"
      ]
     },
     "metadata": {
      "needs_background": "light"
     },
     "output_type": "display_data"
    }
   ],
   "source": [
    "import seaborn as sns\n",
    "sns.distplot(score_list, bins =10)\n",
    "plt.show()"
   ]
  },
  {
   "cell_type": "code",
   "execution_count": null,
   "metadata": {
    "colab": {
     "base_uri": "https://localhost:8080/",
     "height": 35
    },
    "executionInfo": {
     "elapsed": 1484,
     "status": "ok",
     "timestamp": 1602828829139,
     "user": {
      "displayName": "박경하",
      "photoUrl": "",
      "userId": "14970276928355419245"
     },
     "user_tz": -540
    },
    "id": "NwUowrsGCs64",
    "outputId": "18aa784e-9b9f-4f48-9bea-1681bed3b5fe"
   },
   "outputs": [],
   "source": []
  },
  {
   "cell_type": "code",
   "execution_count": null,
   "metadata": {
    "id": "BJ4dbSlcCvm9"
   },
   "outputs": [],
   "source": []
  },
  {
   "cell_type": "code",
   "execution_count": 35,
   "metadata": {
    "executionInfo": {
     "elapsed": 19386,
     "status": "ok",
     "timestamp": 1602829763391,
     "user": {
      "displayName": "박경하",
      "photoUrl": "",
      "userId": "14970276928355419245"
     },
     "user_tz": -540
    },
    "id": "rjahsYjTFOpL"
   },
   "outputs": [],
   "source": [
    "df2 = pd.read_excel('./20200923_NAVER_REVIEW_INFO.xlsx','Sheet1')"
   ]
  },
  {
   "cell_type": "code",
   "execution_count": 36,
   "metadata": {
    "colab": {
     "base_uri": "https://localhost:8080/",
     "height": 289
    },
    "executionInfo": {
     "elapsed": 13046,
     "status": "ok",
     "timestamp": 1602829763394,
     "user": {
      "displayName": "박경하",
      "photoUrl": "",
      "userId": "14970276928355419245"
     },
     "user_tz": -540
    },
    "id": "ITsvUEqxFOtA",
    "outputId": "917bb49f-041f-47d0-d0b4-4d60dc422ebb"
   },
   "outputs": [
    {
     "data": {
      "text/html": [
       "<div>\n",
       "<style scoped>\n",
       "    .dataframe tbody tr th:only-of-type {\n",
       "        vertical-align: middle;\n",
       "    }\n",
       "\n",
       "    .dataframe tbody tr th {\n",
       "        vertical-align: top;\n",
       "    }\n",
       "\n",
       "    .dataframe thead th {\n",
       "        text-align: right;\n",
       "    }\n",
       "</style>\n",
       "<table border=\"1\" class=\"dataframe\">\n",
       "  <thead>\n",
       "    <tr style=\"text-align: right;\">\n",
       "      <th></th>\n",
       "      <th>NAME</th>\n",
       "      <th>REVIEW</th>\n",
       "      <th>REVIEW_SCORE</th>\n",
       "    </tr>\n",
       "  </thead>\n",
       "  <tbody>\n",
       "    <tr>\n",
       "      <th>431425</th>\n",
       "      <td>[매일유업] 바리스타룰스 코스타리카 330ml 12팩</td>\n",
       "      <td>연하지 않고 딱 좋네요</td>\n",
       "      <td>5</td>\n",
       "    </tr>\n",
       "    <tr>\n",
       "      <th>431426</th>\n",
       "      <td>[매일유업] 바리스타룰스 코스타리카 330ml 12팩</td>\n",
       "      <td>빠른 배송 감사합니다.</td>\n",
       "      <td>5</td>\n",
       "    </tr>\n",
       "    <tr>\n",
       "      <th>431427</th>\n",
       "      <td>[매일유업] 바리스타룰스 코스타리카 330ml 12팩</td>\n",
       "      <td>잘마시겠습니다 좋아요</td>\n",
       "      <td>4</td>\n",
       "    </tr>\n",
       "    <tr>\n",
       "      <th>431428</th>\n",
       "      <td>[매일유업] 바리스타룰스 코스타리카 330ml 12팩</td>\n",
       "      <td>발송 늦는다고 하셨는데 그렇게 안늦었네요</td>\n",
       "      <td>5</td>\n",
       "    </tr>\n",
       "    <tr>\n",
       "      <th>431429</th>\n",
       "      <td>[매일유업] 바리스타룰스 코스타리카 330ml 12팩</td>\n",
       "      <td>빠른배송   좋아요</td>\n",
       "      <td>5</td>\n",
       "    </tr>\n",
       "  </tbody>\n",
       "</table>\n",
       "</div>"
      ],
      "text/plain": [
       "                                 NAME                  REVIEW  REVIEW_SCORE\n",
       "431425  [매일유업] 바리스타룰스 코스타리카 330ml 12팩            연하지 않고 딱 좋네요             5\n",
       "431426  [매일유업] 바리스타룰스 코스타리카 330ml 12팩            빠른 배송 감사합니다.             5\n",
       "431427  [매일유업] 바리스타룰스 코스타리카 330ml 12팩             잘마시겠습니다 좋아요             4\n",
       "431428  [매일유업] 바리스타룰스 코스타리카 330ml 12팩  발송 늦는다고 하셨는데 그렇게 안늦었네요             5\n",
       "431429  [매일유업] 바리스타룰스 코스타리카 330ml 12팩              빠른배송   좋아요             5"
      ]
     },
     "execution_count": 36,
     "metadata": {},
     "output_type": "execute_result"
    }
   ],
   "source": [
    "df2.tail()"
   ]
  },
  {
   "cell_type": "code",
   "execution_count": null,
   "metadata": {
    "id": "ZhwQkQ5OFZSA"
   },
   "outputs": [],
   "source": []
  },
  {
   "cell_type": "code",
   "execution_count": 62,
   "metadata": {
    "executionInfo": {
     "elapsed": 769,
     "status": "ok",
     "timestamp": 1602830152140,
     "user": {
      "displayName": "박경하",
      "photoUrl": "",
      "userId": "14970276928355419245"
     },
     "user_tz": -540
    },
    "id": "MWXxy1mnFZPD"
   },
   "outputs": [],
   "source": [
    "df2['predict_biLSTM'] = 0"
   ]
  },
  {
   "cell_type": "code",
   "execution_count": 63,
   "metadata": {
    "colab": {
     "base_uri": "https://localhost:8080/",
     "height": 127
    },
    "executionInfo": {
     "elapsed": 477979,
     "status": "ok",
     "timestamp": 1602837976234,
     "user": {
      "displayName": "박경하",
      "photoUrl": "",
      "userId": "14970276928355419245"
     },
     "user_tz": -540
    },
    "id": "WBGcRgotFOmZ",
    "outputId": "b4ff567a-acaa-456f-b496-97c966a2c34f",
    "scrolled": false
   },
   "outputs": [
    {
     "name": "stderr",
     "output_type": "stream",
     "text": [
      "C:\\ProgramData\\Anaconda3\\lib\\site-packages\\ipykernel_launcher.py:11: SettingWithCopyWarning: \n",
      "A value is trying to be set on a copy of a slice from a DataFrame\n",
      "\n",
      "See the caveats in the documentation: https://pandas.pydata.org/pandas-docs/stable/user_guide/indexing.html#returning-a-view-versus-a-copy\n",
      "  # This is added back by InteractiveShellApp.init_path()\n"
     ]
    },
    {
     "name": "stdout",
     "output_type": "stream",
     "text": [
      "0 번째 자료까지 예측 완료! (진행율 : 0.0% / 2020-10-19 13:22:07.855222)\n",
      "1000 번째 자료까지 예측 완료! (진행율 : 0.2% / 2020-10-19 13:24:59.352651)\n",
      "2000 번째 자료까지 예측 완료! (진행율 : 0.5% / 2020-10-19 13:30:19.274690)\n",
      "3000 번째 자료까지 예측 완료! (진행율 : 0.7000000000000001% / 2020-10-19 13:32:20.364262)\n",
      "4000 번째 자료까지 예측 완료! (진행율 : 0.8999999999999999% / 2020-10-19 13:34:03.742988)\n",
      "5000 번째 자료까지 예측 완료! (진행율 : 1.2% / 2020-10-19 13:40:19.855041)\n",
      "6000 번째 자료까지 예측 완료! (진행율 : 1.4000000000000001% / 2020-10-19 13:42:14.231386)\n",
      "7000 번째 자료까지 예측 완료! (진행율 : 1.6% / 2020-10-19 13:44:24.627130)\n",
      "8000 번째 자료까지 예측 완료! (진행율 : 1.9% / 2020-10-19 13:46:15.020573)\n",
      "9000 번째 자료까지 예측 완료! (진행율 : 2.1% / 2020-10-19 13:57:14.760995)\n",
      "10000 번째 자료까지 예측 완료! (진행율 : 2.3% / 2020-10-19 13:59:32.061179)\n",
      "11000 번째 자료까지 예측 완료! (진행율 : 2.5% / 2020-10-19 14:02:24.991931)\n",
      "12000 번째 자료까지 예측 완료! (진행율 : 2.8000000000000003% / 2020-10-19 14:07:20.356814)\n",
      "13000 번째 자료까지 예측 완료! (진행율 : 3.0% / 2020-10-19 14:26:55.848239)\n",
      "14000 번째 자료까지 예측 완료! (진행율 : 3.2% / 2020-10-19 14:28:26.537262)\n",
      "15000 번째 자료까지 예측 완료! (진행율 : 3.5000000000000004% / 2020-10-19 14:29:43.131851)\n",
      "16000 번째 자료까지 예측 완료! (진행율 : 3.6999999999999997% / 2020-10-19 14:31:09.484398)\n",
      "17000 번째 자료까지 예측 완료! (진행율 : 3.9% / 2020-10-19 14:32:48.911263)\n",
      "18000 번째 자료까지 예측 완료! (진행율 : 4.2% / 2020-10-19 14:34:36.765659)\n",
      "19000 번째 자료까지 예측 완료! (진행율 : 4.3999999999999995% / 2020-10-19 15:03:04.057258)\n",
      "20000 번째 자료까지 예측 완료! (진행율 : 4.6% / 2020-10-19 15:05:07.000559)\n",
      "21000 번째 자료까지 예측 완료! (진행율 : 4.9% / 2020-10-19 15:07:06.695414)\n",
      "22000 번째 자료까지 예측 완료! (진행율 : 5.1% / 2020-10-19 15:09:08.308096)\n"
     ]
    },
    {
     "ename": "ResourceExhaustedError",
     "evalue": " OOM when allocating tensor with shape[42019,100] and type float on /job:localhost/replica:0/task:0/device:CPU:0 by allocator cpu\n\t [[node sequential/embedding/embedding_lookup/Read/ReadVariableOp (defined at C:\\ProgramData\\Anaconda3\\lib\\site-packages\\tensorflow_core\\python\\framework\\ops.py:1751) ]]\nHint: If you want to see a list of allocated tensors when OOM happens, add report_tensor_allocations_upon_oom to RunOptions for current allocation info.\n [Op:__inference_distributed_function_632287]\n\nFunction call stack:\ndistributed_function\n",
     "output_type": "error",
     "traceback": [
      "\u001b[1;31m---------------------------------------------------------------------------\u001b[0m",
      "\u001b[1;31mResourceExhaustedError\u001b[0m                    Traceback (most recent call last)",
      "\u001b[1;32m<ipython-input-63-02113e1cfec9>\u001b[0m in \u001b[0;36m<module>\u001b[1;34m\u001b[0m\n\u001b[0;32m      9\u001b[0m     \u001b[0mencoded\u001b[0m \u001b[1;33m=\u001b[0m \u001b[0mtokenizer\u001b[0m\u001b[1;33m.\u001b[0m\u001b[0mtexts_to_sequences\u001b[0m\u001b[1;33m(\u001b[0m\u001b[1;33m[\u001b[0m\u001b[0mnew_sentence\u001b[0m\u001b[1;33m]\u001b[0m\u001b[1;33m)\u001b[0m                    \u001b[1;31m# 정수 인코딩\u001b[0m\u001b[1;33m\u001b[0m\u001b[1;33m\u001b[0m\u001b[0m\n\u001b[0;32m     10\u001b[0m     \u001b[0mpad_new\u001b[0m \u001b[1;33m=\u001b[0m \u001b[0mpad_sequences\u001b[0m\u001b[1;33m(\u001b[0m\u001b[0mencoded\u001b[0m\u001b[1;33m,\u001b[0m \u001b[0mmaxlen\u001b[0m \u001b[1;33m=\u001b[0m \u001b[0mmax_len\u001b[0m\u001b[1;33m)\u001b[0m                        \u001b[1;31m# 패딩\u001b[0m\u001b[1;33m\u001b[0m\u001b[1;33m\u001b[0m\u001b[0m\n\u001b[1;32m---> 11\u001b[1;33m     \u001b[0mdf2\u001b[0m\u001b[1;33m[\u001b[0m\u001b[1;34m'predict_biLSTM'\u001b[0m\u001b[1;33m]\u001b[0m\u001b[1;33m[\u001b[0m\u001b[0mi\u001b[0m\u001b[1;33m]\u001b[0m \u001b[1;33m=\u001b[0m \u001b[0mfloat\u001b[0m\u001b[1;33m(\u001b[0m\u001b[0mloaded_model_biLSTM\u001b[0m\u001b[1;33m.\u001b[0m\u001b[0mpredict\u001b[0m\u001b[1;33m(\u001b[0m\u001b[0mpad_new\u001b[0m\u001b[1;33m)\u001b[0m\u001b[1;33m)\u001b[0m    \u001b[1;31m# 예측\u001b[0m\u001b[1;33m\u001b[0m\u001b[1;33m\u001b[0m\u001b[0m\n\u001b[0m\u001b[0;32m     12\u001b[0m     \u001b[1;32mif\u001b[0m \u001b[0mi\u001b[0m \u001b[1;33m%\u001b[0m \u001b[1;36m1000\u001b[0m \u001b[1;33m==\u001b[0m \u001b[1;36m0\u001b[0m\u001b[1;33m:\u001b[0m\u001b[1;33m\u001b[0m\u001b[1;33m\u001b[0m\u001b[0m\n\u001b[0;32m     13\u001b[0m         \u001b[0mprint\u001b[0m\u001b[1;33m(\u001b[0m\u001b[1;34m'{} 번째 자료까지 예측 완료! (진행율 : {}% / {})'\u001b[0m\u001b[1;33m.\u001b[0m\u001b[0mformat\u001b[0m\u001b[1;33m(\u001b[0m\u001b[0mi\u001b[0m\u001b[1;33m,\u001b[0m \u001b[0mround\u001b[0m\u001b[1;33m(\u001b[0m\u001b[0mi\u001b[0m\u001b[1;33m/\u001b[0m\u001b[0mlen\u001b[0m\u001b[1;33m(\u001b[0m\u001b[0mdf2\u001b[0m\u001b[1;33m[\u001b[0m\u001b[1;34m'REVIEW'\u001b[0m\u001b[1;33m]\u001b[0m\u001b[1;33m)\u001b[0m\u001b[1;33m,\u001b[0m\u001b[1;36m3\u001b[0m\u001b[1;33m)\u001b[0m\u001b[1;33m*\u001b[0m\u001b[1;36m100\u001b[0m\u001b[1;33m,\u001b[0m  \u001b[0mstr\u001b[0m\u001b[1;33m(\u001b[0m\u001b[0mdatetime\u001b[0m\u001b[1;33m.\u001b[0m\u001b[0mnow\u001b[0m\u001b[1;33m(\u001b[0m\u001b[1;33m)\u001b[0m\u001b[1;33m)\u001b[0m\u001b[1;33m)\u001b[0m \u001b[1;33m)\u001b[0m\u001b[1;33m\u001b[0m\u001b[1;33m\u001b[0m\u001b[0m\n",
      "\u001b[1;32mC:\\ProgramData\\Anaconda3\\lib\\site-packages\\tensorflow_core\\python\\keras\\engine\\training.py\u001b[0m in \u001b[0;36mpredict\u001b[1;34m(self, x, batch_size, verbose, steps, callbacks, max_queue_size, workers, use_multiprocessing)\u001b[0m\n\u001b[0;32m    907\u001b[0m         \u001b[0mmax_queue_size\u001b[0m\u001b[1;33m=\u001b[0m\u001b[0mmax_queue_size\u001b[0m\u001b[1;33m,\u001b[0m\u001b[1;33m\u001b[0m\u001b[1;33m\u001b[0m\u001b[0m\n\u001b[0;32m    908\u001b[0m         \u001b[0mworkers\u001b[0m\u001b[1;33m=\u001b[0m\u001b[0mworkers\u001b[0m\u001b[1;33m,\u001b[0m\u001b[1;33m\u001b[0m\u001b[1;33m\u001b[0m\u001b[0m\n\u001b[1;32m--> 909\u001b[1;33m         use_multiprocessing=use_multiprocessing)\n\u001b[0m\u001b[0;32m    910\u001b[0m \u001b[1;33m\u001b[0m\u001b[0m\n\u001b[0;32m    911\u001b[0m   \u001b[1;32mdef\u001b[0m \u001b[0mreset_metrics\u001b[0m\u001b[1;33m(\u001b[0m\u001b[0mself\u001b[0m\u001b[1;33m)\u001b[0m\u001b[1;33m:\u001b[0m\u001b[1;33m\u001b[0m\u001b[1;33m\u001b[0m\u001b[0m\n",
      "\u001b[1;32mC:\\ProgramData\\Anaconda3\\lib\\site-packages\\tensorflow_core\\python\\keras\\engine\\training_v2.py\u001b[0m in \u001b[0;36mpredict\u001b[1;34m(self, model, x, batch_size, verbose, steps, callbacks, **kwargs)\u001b[0m\n\u001b[0;32m    460\u001b[0m     return self._model_iteration(\n\u001b[0;32m    461\u001b[0m         \u001b[0mmodel\u001b[0m\u001b[1;33m,\u001b[0m \u001b[0mModeKeys\u001b[0m\u001b[1;33m.\u001b[0m\u001b[0mPREDICT\u001b[0m\u001b[1;33m,\u001b[0m \u001b[0mx\u001b[0m\u001b[1;33m=\u001b[0m\u001b[0mx\u001b[0m\u001b[1;33m,\u001b[0m \u001b[0mbatch_size\u001b[0m\u001b[1;33m=\u001b[0m\u001b[0mbatch_size\u001b[0m\u001b[1;33m,\u001b[0m \u001b[0mverbose\u001b[0m\u001b[1;33m=\u001b[0m\u001b[0mverbose\u001b[0m\u001b[1;33m,\u001b[0m\u001b[1;33m\u001b[0m\u001b[1;33m\u001b[0m\u001b[0m\n\u001b[1;32m--> 462\u001b[1;33m         steps=steps, callbacks=callbacks, **kwargs)\n\u001b[0m\u001b[0;32m    463\u001b[0m \u001b[1;33m\u001b[0m\u001b[0m\n\u001b[0;32m    464\u001b[0m \u001b[1;33m\u001b[0m\u001b[0m\n",
      "\u001b[1;32mC:\\ProgramData\\Anaconda3\\lib\\site-packages\\tensorflow_core\\python\\keras\\engine\\training_v2.py\u001b[0m in \u001b[0;36m_model_iteration\u001b[1;34m(self, model, mode, x, y, batch_size, verbose, sample_weight, steps, callbacks, **kwargs)\u001b[0m\n\u001b[0;32m    442\u001b[0m               \u001b[0mmode\u001b[0m\u001b[1;33m=\u001b[0m\u001b[0mmode\u001b[0m\u001b[1;33m,\u001b[0m\u001b[1;33m\u001b[0m\u001b[1;33m\u001b[0m\u001b[0m\n\u001b[0;32m    443\u001b[0m               \u001b[0mtraining_context\u001b[0m\u001b[1;33m=\u001b[0m\u001b[0mtraining_context\u001b[0m\u001b[1;33m,\u001b[0m\u001b[1;33m\u001b[0m\u001b[1;33m\u001b[0m\u001b[0m\n\u001b[1;32m--> 444\u001b[1;33m               total_epochs=1)\n\u001b[0m\u001b[0;32m    445\u001b[0m           \u001b[0mcbks\u001b[0m\u001b[1;33m.\u001b[0m\u001b[0mmake_logs\u001b[0m\u001b[1;33m(\u001b[0m\u001b[0mmodel\u001b[0m\u001b[1;33m,\u001b[0m \u001b[0mepoch_logs\u001b[0m\u001b[1;33m,\u001b[0m \u001b[0mresult\u001b[0m\u001b[1;33m,\u001b[0m \u001b[0mmode\u001b[0m\u001b[1;33m)\u001b[0m\u001b[1;33m\u001b[0m\u001b[1;33m\u001b[0m\u001b[0m\n\u001b[0;32m    446\u001b[0m \u001b[1;33m\u001b[0m\u001b[0m\n",
      "\u001b[1;32mC:\\ProgramData\\Anaconda3\\lib\\site-packages\\tensorflow_core\\python\\keras\\engine\\training_v2.py\u001b[0m in \u001b[0;36mrun_one_epoch\u001b[1;34m(model, iterator, execution_function, dataset_size, batch_size, strategy, steps_per_epoch, num_samples, mode, training_context, total_epochs)\u001b[0m\n\u001b[0;32m    121\u001b[0m         step=step, mode=mode, size=current_batch_size) as batch_logs:\n\u001b[0;32m    122\u001b[0m       \u001b[1;32mtry\u001b[0m\u001b[1;33m:\u001b[0m\u001b[1;33m\u001b[0m\u001b[1;33m\u001b[0m\u001b[0m\n\u001b[1;32m--> 123\u001b[1;33m         \u001b[0mbatch_outs\u001b[0m \u001b[1;33m=\u001b[0m \u001b[0mexecution_function\u001b[0m\u001b[1;33m(\u001b[0m\u001b[0miterator\u001b[0m\u001b[1;33m)\u001b[0m\u001b[1;33m\u001b[0m\u001b[1;33m\u001b[0m\u001b[0m\n\u001b[0m\u001b[0;32m    124\u001b[0m       \u001b[1;32mexcept\u001b[0m \u001b[1;33m(\u001b[0m\u001b[0mStopIteration\u001b[0m\u001b[1;33m,\u001b[0m \u001b[0merrors\u001b[0m\u001b[1;33m.\u001b[0m\u001b[0mOutOfRangeError\u001b[0m\u001b[1;33m)\u001b[0m\u001b[1;33m:\u001b[0m\u001b[1;33m\u001b[0m\u001b[1;33m\u001b[0m\u001b[0m\n\u001b[0;32m    125\u001b[0m         \u001b[1;31m# TODO(kaftan): File bug about tf function and errors.OutOfRangeError?\u001b[0m\u001b[1;33m\u001b[0m\u001b[1;33m\u001b[0m\u001b[1;33m\u001b[0m\u001b[0m\n",
      "\u001b[1;32mC:\\ProgramData\\Anaconda3\\lib\\site-packages\\tensorflow_core\\python\\keras\\engine\\training_v2_utils.py\u001b[0m in \u001b[0;36mexecution_function\u001b[1;34m(input_fn)\u001b[0m\n\u001b[0;32m     84\u001b[0m     \u001b[1;31m# `numpy` translates Tensors to values in Eager mode.\u001b[0m\u001b[1;33m\u001b[0m\u001b[1;33m\u001b[0m\u001b[1;33m\u001b[0m\u001b[0m\n\u001b[0;32m     85\u001b[0m     return nest.map_structure(_non_none_constant_value,\n\u001b[1;32m---> 86\u001b[1;33m                               distributed_function(input_fn))\n\u001b[0m\u001b[0;32m     87\u001b[0m \u001b[1;33m\u001b[0m\u001b[0m\n\u001b[0;32m     88\u001b[0m   \u001b[1;32mreturn\u001b[0m \u001b[0mexecution_function\u001b[0m\u001b[1;33m\u001b[0m\u001b[1;33m\u001b[0m\u001b[0m\n",
      "\u001b[1;32mC:\\ProgramData\\Anaconda3\\lib\\site-packages\\tensorflow_core\\python\\eager\\def_function.py\u001b[0m in \u001b[0;36m__call__\u001b[1;34m(self, *args, **kwds)\u001b[0m\n\u001b[0;32m    455\u001b[0m \u001b[1;33m\u001b[0m\u001b[0m\n\u001b[0;32m    456\u001b[0m     \u001b[0mtracing_count\u001b[0m \u001b[1;33m=\u001b[0m \u001b[0mself\u001b[0m\u001b[1;33m.\u001b[0m\u001b[0m_get_tracing_count\u001b[0m\u001b[1;33m(\u001b[0m\u001b[1;33m)\u001b[0m\u001b[1;33m\u001b[0m\u001b[1;33m\u001b[0m\u001b[0m\n\u001b[1;32m--> 457\u001b[1;33m     \u001b[0mresult\u001b[0m \u001b[1;33m=\u001b[0m \u001b[0mself\u001b[0m\u001b[1;33m.\u001b[0m\u001b[0m_call\u001b[0m\u001b[1;33m(\u001b[0m\u001b[1;33m*\u001b[0m\u001b[0margs\u001b[0m\u001b[1;33m,\u001b[0m \u001b[1;33m**\u001b[0m\u001b[0mkwds\u001b[0m\u001b[1;33m)\u001b[0m\u001b[1;33m\u001b[0m\u001b[1;33m\u001b[0m\u001b[0m\n\u001b[0m\u001b[0;32m    458\u001b[0m     \u001b[1;32mif\u001b[0m \u001b[0mtracing_count\u001b[0m \u001b[1;33m==\u001b[0m \u001b[0mself\u001b[0m\u001b[1;33m.\u001b[0m\u001b[0m_get_tracing_count\u001b[0m\u001b[1;33m(\u001b[0m\u001b[1;33m)\u001b[0m\u001b[1;33m:\u001b[0m\u001b[1;33m\u001b[0m\u001b[1;33m\u001b[0m\u001b[0m\n\u001b[0;32m    459\u001b[0m       \u001b[0mself\u001b[0m\u001b[1;33m.\u001b[0m\u001b[0m_call_counter\u001b[0m\u001b[1;33m.\u001b[0m\u001b[0mcalled_without_tracing\u001b[0m\u001b[1;33m(\u001b[0m\u001b[1;33m)\u001b[0m\u001b[1;33m\u001b[0m\u001b[1;33m\u001b[0m\u001b[0m\n",
      "\u001b[1;32mC:\\ProgramData\\Anaconda3\\lib\\site-packages\\tensorflow_core\\python\\eager\\def_function.py\u001b[0m in \u001b[0;36m_call\u001b[1;34m(self, *args, **kwds)\u001b[0m\n\u001b[0;32m    492\u001b[0m       \u001b[1;31m# In this case we have not created variables on the first call. So we can\u001b[0m\u001b[1;33m\u001b[0m\u001b[1;33m\u001b[0m\u001b[1;33m\u001b[0m\u001b[0m\n\u001b[0;32m    493\u001b[0m       \u001b[1;31m# run the first trace but we should fail if variables are created.\u001b[0m\u001b[1;33m\u001b[0m\u001b[1;33m\u001b[0m\u001b[1;33m\u001b[0m\u001b[0m\n\u001b[1;32m--> 494\u001b[1;33m       \u001b[0mresults\u001b[0m \u001b[1;33m=\u001b[0m \u001b[0mself\u001b[0m\u001b[1;33m.\u001b[0m\u001b[0m_stateful_fn\u001b[0m\u001b[1;33m(\u001b[0m\u001b[1;33m*\u001b[0m\u001b[0margs\u001b[0m\u001b[1;33m,\u001b[0m \u001b[1;33m**\u001b[0m\u001b[0mkwds\u001b[0m\u001b[1;33m)\u001b[0m\u001b[1;33m\u001b[0m\u001b[1;33m\u001b[0m\u001b[0m\n\u001b[0m\u001b[0;32m    495\u001b[0m       \u001b[1;32mif\u001b[0m \u001b[0mself\u001b[0m\u001b[1;33m.\u001b[0m\u001b[0m_created_variables\u001b[0m\u001b[1;33m:\u001b[0m\u001b[1;33m\u001b[0m\u001b[1;33m\u001b[0m\u001b[0m\n\u001b[0;32m    496\u001b[0m         raise ValueError(\"Creating variables on a non-first call to a function\"\n",
      "\u001b[1;32mC:\\ProgramData\\Anaconda3\\lib\\site-packages\\tensorflow_core\\python\\eager\\function.py\u001b[0m in \u001b[0;36m__call__\u001b[1;34m(self, *args, **kwargs)\u001b[0m\n\u001b[0;32m   1821\u001b[0m     \u001b[1;34m\"\"\"Calls a graph function specialized to the inputs.\"\"\"\u001b[0m\u001b[1;33m\u001b[0m\u001b[1;33m\u001b[0m\u001b[0m\n\u001b[0;32m   1822\u001b[0m     \u001b[0mgraph_function\u001b[0m\u001b[1;33m,\u001b[0m \u001b[0margs\u001b[0m\u001b[1;33m,\u001b[0m \u001b[0mkwargs\u001b[0m \u001b[1;33m=\u001b[0m \u001b[0mself\u001b[0m\u001b[1;33m.\u001b[0m\u001b[0m_maybe_define_function\u001b[0m\u001b[1;33m(\u001b[0m\u001b[0margs\u001b[0m\u001b[1;33m,\u001b[0m \u001b[0mkwargs\u001b[0m\u001b[1;33m)\u001b[0m\u001b[1;33m\u001b[0m\u001b[1;33m\u001b[0m\u001b[0m\n\u001b[1;32m-> 1823\u001b[1;33m     \u001b[1;32mreturn\u001b[0m \u001b[0mgraph_function\u001b[0m\u001b[1;33m.\u001b[0m\u001b[0m_filtered_call\u001b[0m\u001b[1;33m(\u001b[0m\u001b[0margs\u001b[0m\u001b[1;33m,\u001b[0m \u001b[0mkwargs\u001b[0m\u001b[1;33m)\u001b[0m  \u001b[1;31m# pylint: disable=protected-access\u001b[0m\u001b[1;33m\u001b[0m\u001b[1;33m\u001b[0m\u001b[0m\n\u001b[0m\u001b[0;32m   1824\u001b[0m \u001b[1;33m\u001b[0m\u001b[0m\n\u001b[0;32m   1825\u001b[0m   \u001b[1;33m@\u001b[0m\u001b[0mproperty\u001b[0m\u001b[1;33m\u001b[0m\u001b[1;33m\u001b[0m\u001b[0m\n",
      "\u001b[1;32mC:\\ProgramData\\Anaconda3\\lib\\site-packages\\tensorflow_core\\python\\eager\\function.py\u001b[0m in \u001b[0;36m_filtered_call\u001b[1;34m(self, args, kwargs)\u001b[0m\n\u001b[0;32m   1139\u001b[0m          if isinstance(t, (ops.Tensor,\n\u001b[0;32m   1140\u001b[0m                            resource_variable_ops.BaseResourceVariable))),\n\u001b[1;32m-> 1141\u001b[1;33m         self.captured_inputs)\n\u001b[0m\u001b[0;32m   1142\u001b[0m \u001b[1;33m\u001b[0m\u001b[0m\n\u001b[0;32m   1143\u001b[0m   \u001b[1;32mdef\u001b[0m \u001b[0m_call_flat\u001b[0m\u001b[1;33m(\u001b[0m\u001b[0mself\u001b[0m\u001b[1;33m,\u001b[0m \u001b[0margs\u001b[0m\u001b[1;33m,\u001b[0m \u001b[0mcaptured_inputs\u001b[0m\u001b[1;33m,\u001b[0m \u001b[0mcancellation_manager\u001b[0m\u001b[1;33m=\u001b[0m\u001b[1;32mNone\u001b[0m\u001b[1;33m)\u001b[0m\u001b[1;33m:\u001b[0m\u001b[1;33m\u001b[0m\u001b[1;33m\u001b[0m\u001b[0m\n",
      "\u001b[1;32mC:\\ProgramData\\Anaconda3\\lib\\site-packages\\tensorflow_core\\python\\eager\\function.py\u001b[0m in \u001b[0;36m_call_flat\u001b[1;34m(self, args, captured_inputs, cancellation_manager)\u001b[0m\n\u001b[0;32m   1222\u001b[0m     \u001b[1;32mif\u001b[0m \u001b[0mexecuting_eagerly\u001b[0m\u001b[1;33m:\u001b[0m\u001b[1;33m\u001b[0m\u001b[1;33m\u001b[0m\u001b[0m\n\u001b[0;32m   1223\u001b[0m       flat_outputs = forward_function.call(\n\u001b[1;32m-> 1224\u001b[1;33m           ctx, args, cancellation_manager=cancellation_manager)\n\u001b[0m\u001b[0;32m   1225\u001b[0m     \u001b[1;32melse\u001b[0m\u001b[1;33m:\u001b[0m\u001b[1;33m\u001b[0m\u001b[1;33m\u001b[0m\u001b[0m\n\u001b[0;32m   1226\u001b[0m       \u001b[0mgradient_name\u001b[0m \u001b[1;33m=\u001b[0m \u001b[0mself\u001b[0m\u001b[1;33m.\u001b[0m\u001b[0m_delayed_rewrite_functions\u001b[0m\u001b[1;33m.\u001b[0m\u001b[0mregister\u001b[0m\u001b[1;33m(\u001b[0m\u001b[1;33m)\u001b[0m\u001b[1;33m\u001b[0m\u001b[1;33m\u001b[0m\u001b[0m\n",
      "\u001b[1;32mC:\\ProgramData\\Anaconda3\\lib\\site-packages\\tensorflow_core\\python\\eager\\function.py\u001b[0m in \u001b[0;36mcall\u001b[1;34m(self, ctx, args, cancellation_manager)\u001b[0m\n\u001b[0;32m    509\u001b[0m               \u001b[0minputs\u001b[0m\u001b[1;33m=\u001b[0m\u001b[0margs\u001b[0m\u001b[1;33m,\u001b[0m\u001b[1;33m\u001b[0m\u001b[1;33m\u001b[0m\u001b[0m\n\u001b[0;32m    510\u001b[0m               \u001b[0mattrs\u001b[0m\u001b[1;33m=\u001b[0m\u001b[1;33m(\u001b[0m\u001b[1;34m\"executor_type\"\u001b[0m\u001b[1;33m,\u001b[0m \u001b[0mexecutor_type\u001b[0m\u001b[1;33m,\u001b[0m \u001b[1;34m\"config_proto\"\u001b[0m\u001b[1;33m,\u001b[0m \u001b[0mconfig\u001b[0m\u001b[1;33m)\u001b[0m\u001b[1;33m,\u001b[0m\u001b[1;33m\u001b[0m\u001b[1;33m\u001b[0m\u001b[0m\n\u001b[1;32m--> 511\u001b[1;33m               ctx=ctx)\n\u001b[0m\u001b[0;32m    512\u001b[0m         \u001b[1;32melse\u001b[0m\u001b[1;33m:\u001b[0m\u001b[1;33m\u001b[0m\u001b[1;33m\u001b[0m\u001b[0m\n\u001b[0;32m    513\u001b[0m           outputs = execute.execute_with_cancellation(\n",
      "\u001b[1;32mC:\\ProgramData\\Anaconda3\\lib\\site-packages\\tensorflow_core\\python\\eager\\execute.py\u001b[0m in \u001b[0;36mquick_execute\u001b[1;34m(op_name, num_outputs, inputs, attrs, ctx, name)\u001b[0m\n\u001b[0;32m     65\u001b[0m     \u001b[1;32melse\u001b[0m\u001b[1;33m:\u001b[0m\u001b[1;33m\u001b[0m\u001b[1;33m\u001b[0m\u001b[0m\n\u001b[0;32m     66\u001b[0m       \u001b[0mmessage\u001b[0m \u001b[1;33m=\u001b[0m \u001b[0me\u001b[0m\u001b[1;33m.\u001b[0m\u001b[0mmessage\u001b[0m\u001b[1;33m\u001b[0m\u001b[1;33m\u001b[0m\u001b[0m\n\u001b[1;32m---> 67\u001b[1;33m     \u001b[0msix\u001b[0m\u001b[1;33m.\u001b[0m\u001b[0mraise_from\u001b[0m\u001b[1;33m(\u001b[0m\u001b[0mcore\u001b[0m\u001b[1;33m.\u001b[0m\u001b[0m_status_to_exception\u001b[0m\u001b[1;33m(\u001b[0m\u001b[0me\u001b[0m\u001b[1;33m.\u001b[0m\u001b[0mcode\u001b[0m\u001b[1;33m,\u001b[0m \u001b[0mmessage\u001b[0m\u001b[1;33m)\u001b[0m\u001b[1;33m,\u001b[0m \u001b[1;32mNone\u001b[0m\u001b[1;33m)\u001b[0m\u001b[1;33m\u001b[0m\u001b[1;33m\u001b[0m\u001b[0m\n\u001b[0m\u001b[0;32m     68\u001b[0m   \u001b[1;32mexcept\u001b[0m \u001b[0mTypeError\u001b[0m \u001b[1;32mas\u001b[0m \u001b[0me\u001b[0m\u001b[1;33m:\u001b[0m\u001b[1;33m\u001b[0m\u001b[1;33m\u001b[0m\u001b[0m\n\u001b[0;32m     69\u001b[0m     keras_symbolic_tensors = [\n",
      "\u001b[1;32mC:\\ProgramData\\Anaconda3\\lib\\site-packages\\six.py\u001b[0m in \u001b[0;36mraise_from\u001b[1;34m(value, from_value)\u001b[0m\n",
      "\u001b[1;31mResourceExhaustedError\u001b[0m:  OOM when allocating tensor with shape[42019,100] and type float on /job:localhost/replica:0/task:0/device:CPU:0 by allocator cpu\n\t [[node sequential/embedding/embedding_lookup/Read/ReadVariableOp (defined at C:\\ProgramData\\Anaconda3\\lib\\site-packages\\tensorflow_core\\python\\framework\\ops.py:1751) ]]\nHint: If you want to see a list of allocated tensors when OOM happens, add report_tensor_allocations_upon_oom to RunOptions for current allocation info.\n [Op:__inference_distributed_function_632287]\n\nFunction call stack:\ndistributed_function\n"
     ]
    }
   ],
   "source": [
    "from datetime import date, time, datetime\n",
    "\n",
    "loaded_model_biLSTM = load_model('201019_model_1DCNN.h5')\n",
    "# predict_score = []\n",
    "\n",
    "for i in range(len(df2['REVIEW'])):\n",
    "    new_sentence = okt.morphs(df2['REVIEW'][i])                               # 토큰화\n",
    "    new_sentence = [word for word in new_sentence if not word in stopwords] # 불용어 제거\n",
    "    encoded = tokenizer.texts_to_sequences([new_sentence])                    # 정수 인코딩\n",
    "    pad_new = pad_sequences(encoded, maxlen = max_len)                        # 패딩\n",
    "    df2['predict_biLSTM'][i] = float(loaded_model_biLSTM.predict(pad_new))    # 예측\n",
    "    if i % 1000 == 0:\n",
    "        print('{} 번째 자료까지 예측 완료! (진행율 : {}% / {})'.format(i, round(i/len(df2['REVIEW'])*100,3),  str(datetime.now())) )\n"
   ]
  },
  {
   "cell_type": "code",
   "execution_count": null,
   "metadata": {
    "executionInfo": {
     "elapsed": 473104,
     "status": "ok",
     "timestamp": 1602837976236,
     "user": {
      "displayName": "박경하",
      "photoUrl": "",
      "userId": "14970276928355419245"
     },
     "user_tz": -540
    },
    "id": "EKitfHZ7jWxo"
   },
   "outputs": [],
   "source": []
  },
  {
   "cell_type": "code",
   "execution_count": null,
   "metadata": {
    "executionInfo": {
     "elapsed": 460132,
     "status": "ok",
     "timestamp": 1602837976237,
     "user": {
      "displayName": "박경하",
      "photoUrl": "",
      "userId": "14970276928355419245"
     },
     "user_tz": -540
    },
    "id": "UP9bfpu6jZON"
   },
   "outputs": [],
   "source": []
  },
  {
   "cell_type": "code",
   "execution_count": null,
   "metadata": {
    "executionInfo": {
     "elapsed": 1301,
     "status": "ok",
     "timestamp": 1602837977560,
     "user": {
      "displayName": "박경하",
      "photoUrl": "",
      "userId": "14970276928355419245"
     },
     "user_tz": -540
    },
    "id": "VxI7a72LIup7"
   },
   "outputs": [],
   "source": []
  },
  {
   "cell_type": "code",
   "execution_count": null,
   "metadata": {
    "id": "-VXdXBd5Lqp7"
   },
   "outputs": [],
   "source": []
  },
  {
   "cell_type": "code",
   "execution_count": null,
   "metadata": {
    "id": "6y6ru5O5Lu_K"
   },
   "outputs": [],
   "source": []
  },
  {
   "cell_type": "code",
   "execution_count": null,
   "metadata": {
    "id": "m0rclVCfjn3g"
   },
   "outputs": [],
   "source": []
  },
  {
   "cell_type": "code",
   "execution_count": null,
   "metadata": {
    "colab": {
     "base_uri": "https://localhost:8080/",
     "height": 172
    },
    "executionInfo": {
     "elapsed": 664,
     "status": "error",
     "timestamp": 1602830246483,
     "user": {
      "displayName": "박경하",
      "photoUrl": "",
      "userId": "14970276928355419245"
     },
     "user_tz": -540
    },
    "id": "yNAH5Ff3GlLp",
    "outputId": "1a15dd04-b76d-4ce9-93a6-db2db16183b4"
   },
   "outputs": [],
   "source": []
  },
  {
   "cell_type": "code",
   "execution_count": 123,
   "metadata": {
    "executionInfo": {
     "elapsed": 73770,
     "status": "ok",
     "timestamp": 1602838176319,
     "user": {
      "displayName": "박경하",
      "photoUrl": "",
      "userId": "14970276928355419245"
     },
     "user_tz": -540
    },
    "id": "c04vj5soGucx"
   },
   "outputs": [],
   "source": [
    "df2.to_excel('20200923_NAVER_REVIEW_INFO_v2.xlsx', sheet_name= 'Sheet1' )"
   ]
  },
  {
   "cell_type": "code",
   "execution_count": null,
   "metadata": {
    "id": "xQSld5FOH0v6"
   },
   "outputs": [],
   "source": []
  }
 ],
 "metadata": {
  "colab": {
   "collapsed_sections": [],
   "name": "201016_일반화 모형(1D_CNN, 네이버 상품평).ipynb",
   "provenance": []
  },
  "kernelspec": {
   "display_name": "Python 3",
   "language": "python",
   "name": "python3"
  },
  "language_info": {
   "codemirror_mode": {
    "name": "ipython",
    "version": 3
   },
   "file_extension": ".py",
   "mimetype": "text/x-python",
   "name": "python",
   "nbconvert_exporter": "python",
   "pygments_lexer": "ipython3",
   "version": "3.7.6"
  }
 },
 "nbformat": 4,
 "nbformat_minor": 1
}
