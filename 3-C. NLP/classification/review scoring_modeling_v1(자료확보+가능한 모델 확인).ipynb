{
 "cells": [
  {
   "cell_type": "code",
   "execution_count": null,
   "metadata": {},
   "outputs": [],
   "source": [
    "# 1 to 5 Star Ratings — Classification or Regression?\n",
    "# https://towardsdatascience.com/1-to-5-star-ratings-classification-or-regression-b0462708a4df"
   ]
  },
  {
   "cell_type": "code",
   "execution_count": null,
   "metadata": {},
   "outputs": [],
   "source": []
  },
  {
   "cell_type": "markdown",
   "metadata": {},
   "source": [
    "+ **목적** : 리뷰글의 1~5점 예측을 위한 모델 생성\n",
    "+ **진행순서**\n",
    "  + 1.자료 확보\n",
    "  + 2.데이터 전처리/Set 분류\n",
    "  + 3.데이터 정제/토큰화\n",
    "  + 4.단어와 길이 분포 확인하기 \n",
    "  + 5.정수 인코딩 : \n",
    "  + 6.패딩 : 샘플들의 길이를 동일하게 맞춰주는 작업\n",
    "  + 7.모델링 : 1D-CNN\n",
    "  + 8.모델링 : biLSTM\n",
    "  + 9.결과평가\n",
    "  \n",
    "  \n",
    "+ 문서관리\n",
    "  + v1 : 모델 설정\n",
    "    + (LSTM) Classification + Regression \n",
    "    + (biLSTM) Classification + Regression\n",
    "    + (1D-CNN) Classification + Regression\n",
    "  + v1.2 : hyper parameter tuning\n",
    "    + TEB\n",
    "  + v2 : 결과 비교\n",
    "    + (transfomer) sangrimlee/bert-base-multilingual-cased-nsmc\n",
    "    + (transfomer) snunlp/KR-FinBert-SC\n",
    "    + (transfomer) daekeun-ml/koelectra-small-v3-nsmc\n",
    "    + (transfomer) Huffon/klue-roberta-base-nli\n",
    "\n"
   ]
  },
  {
   "cell_type": "code",
   "execution_count": null,
   "metadata": {},
   "outputs": [],
   "source": []
  },
  {
   "cell_type": "code",
   "execution_count": null,
   "metadata": {},
   "outputs": [],
   "source": []
  },
  {
   "cell_type": "code",
   "execution_count": 1,
   "metadata": {},
   "outputs": [
    {
     "name": "stderr",
     "output_type": "stream",
     "text": [
      "C:\\ProgramData\\Anaconda3\\lib\\site-packages\\konlpy\\tag\\_okt.py:16: UserWarning: \"Twitter\" has changed to \"Okt\" since KoNLPy v0.4.5.\n",
      "  warn('\"Twitter\" has changed to \"Okt\" since KoNLPy v0.4.5.')\n"
     ]
    }
   ],
   "source": [
    "# DB접속\n",
    "import pymysql\n",
    "import pandas as pd\n",
    "import numpy as np\n",
    "import os\n",
    "\n",
    "# 그래프\n",
    "import matplotlib as mpl\n",
    "import matplotlib.pyplot as plt\n",
    "import matplotlib.font_manager as fm\n",
    "path = 'C:/windows/Fonts/malgun.ttf'                           # 폰트:맑은고딕\n",
    "font_name = fm.FontProperties(fname=path, size=24).get_name()  \n",
    "plt.rc('font', family=font_name)\n",
    "\n",
    "# 한글정제 KoNLPy\n",
    "from ckonlpy.tag import Twitter\n",
    "twitter = Twitter()\n",
    "\n",
    "# 시간기록\n",
    "from datetime import datetime, timedelta\n",
    "import time \n",
    "from dateutil.relativedelta import relativedelta\n",
    "\n",
    "#폴더 내용 불러오기\n",
    "from glob import glob\n",
    "import os \n",
    "from google.cloud import bigquery\n",
    "\n",
    "import warnings\n",
    "warnings.filterwarnings(\"ignore\")"
   ]
  },
  {
   "cell_type": "code",
   "execution_count": 4,
   "metadata": {},
   "outputs": [
    {
     "data": {
      "text/plain": [
       "'1.19.5'"
      ]
     },
     "execution_count": 4,
     "metadata": {},
     "output_type": "execute_result"
    }
   ],
   "source": [
    "np.__version__"
   ]
  },
  {
   "cell_type": "code",
   "execution_count": null,
   "metadata": {},
   "outputs": [],
   "source": []
  },
  {
   "cell_type": "markdown",
   "metadata": {},
   "source": [
    "### 1. 자료 확보"
   ]
  },
  {
   "cell_type": "code",
   "execution_count": 6,
   "metadata": {},
   "outputs": [],
   "source": [
    "#########\n",
    "# 2.자료 추출 : BigQuery\n",
    "###\n",
    "\n",
    "# 접속 정보 \n",
    "os.environ[\"GOOGLE_APPLICATION_CREDENTIALS\"]=\"./vision API-06a448b64428.json\"\n",
    "client = bigquery.Client()\n",
    "\n",
    "# 쿼리실행\n",
    "sql = \"\"\"SELECT REVIEW\n",
    "         , SCORE\n",
    "         FROM `thermal-rain-234004.review.review_all` A\n",
    "         where SCORE in (1,2)\n",
    "         order by CAST(A.DATE AS DATETIME) desc\"\"\"\n",
    "df1 = client.query(sql).to_dataframe()\n",
    "df1 = df1.replace('kakaomakers', '카카오 선물하기')"
   ]
  },
  {
   "cell_type": "code",
   "execution_count": null,
   "metadata": {},
   "outputs": [],
   "source": []
  },
  {
   "cell_type": "code",
   "execution_count": 15,
   "metadata": {},
   "outputs": [],
   "source": [
    "###############\n",
    "# 2.자료 추출 : MySQL\n",
    "#####\n",
    "# 접속 정보 \n",
    "conn = pymysql.connect(host = '10.223.7.4', user ='MAEIL_CS', password = \"Maeil01!@\", database='MAEIL_CS')\n",
    "cursor = conn.cursor(pymysql.cursors.DictCursor)\n",
    "\n",
    "# 쿼리실행: 전체리뷰\n",
    "sql= '''select distinct A.CONTENTS as REVIEW\n",
    "        , A.GRADE as SCORE\n",
    "        FROM MAEIL_REVIEW A\n",
    "        where A.GRADE in (1,2)\n",
    "        and CAST(STR_TO_DATE(A.WRITE_DT, '%Y%m%d') AS DATETIME) between DATE_SUB(current_date(), INTERVAL 365 DAY) and DATE_SUB(current_date(), INTERVAL -1 DAY)\n",
    "        '''\n",
    "cursor.execute(sql)\n",
    "df2 = cursor.fetchall()\n",
    "df2 = pd.DataFrame(df2)\n",
    "df2 = df2.replace('25 카카오 톡스토어(20.12.2~미사용)', '25 카카오톡')\n",
    "df2.SCORE = df2.SCORE.astype(int)"
   ]
  },
  {
   "cell_type": "code",
   "execution_count": 71,
   "metadata": {},
   "outputs": [],
   "source": [
    "###############\n",
    "# 2.자료 추출 : MySQL\n",
    "#####\n",
    "# 접속 정보 \n",
    "conn = pymysql.connect(host = '10.223.7.4', user ='MAEIL_CS', password = \"Maeil01!@\", database='MAEIL_CS')\n",
    "cursor = conn.cursor(pymysql.cursors.DictCursor)\n",
    "\n",
    "# 쿼리실행: 전체리뷰\n",
    "sql= '''select distinct A.CONTENTS as REVIEW\n",
    "        , A.GRADE as SCORE\n",
    "        FROM MAEIL_REVIEW A\n",
    "        where A.GRADE in (3)\n",
    "        and CAST(STR_TO_DATE(A.WRITE_DT, '%Y%m%d') AS DATETIME) between DATE_SUB(current_date(), INTERVAL 180 DAY) and DATE_SUB(current_date(), INTERVAL -1 DAY)\n",
    "        order by rand() limit 3000\n",
    "        '''\n",
    "cursor.execute(sql)\n",
    "df3 = cursor.fetchall()\n",
    "df3 = pd.DataFrame(df3)\n",
    "df3.SCORE = df3.SCORE.astype(int)"
   ]
  },
  {
   "cell_type": "code",
   "execution_count": 72,
   "metadata": {},
   "outputs": [],
   "source": [
    "# 쿼리실행: 전체리뷰\n",
    "sql= '''select distinct A.CONTENTS as REVIEW\n",
    "        , A.GRADE as SCORE\n",
    "        FROM MAEIL_REVIEW A\n",
    "        where A.GRADE in (4)\n",
    "        and CAST(STR_TO_DATE(A.WRITE_DT, '%Y%m%d') AS DATETIME) between DATE_SUB(current_date(), INTERVAL 180 DAY) and DATE_SUB(current_date(), INTERVAL -1 DAY)\n",
    "        order by rand() limit 3000\n",
    "        '''\n",
    "cursor.execute(sql)\n",
    "df4 = cursor.fetchall()\n",
    "df4 = pd.DataFrame(df4)\n",
    "df4.SCORE = df4.SCORE.astype(int)"
   ]
  },
  {
   "cell_type": "code",
   "execution_count": 74,
   "metadata": {},
   "outputs": [],
   "source": [
    "# 쿼리실행: 전체리뷰\n",
    "sql= '''select distinct A.CONTENTS as REVIEW\n",
    "        , A.GRADE as SCORE\n",
    "        FROM MAEIL_REVIEW A\n",
    "        where A.GRADE in (5)\n",
    "        and CAST(STR_TO_DATE(A.WRITE_DT, '%Y%m%d') AS DATETIME) between DATE_SUB(current_date(), INTERVAL 180 DAY) and DATE_SUB(current_date(), INTERVAL -1 DAY)\n",
    "        order by rand() limit 3000\n",
    "        '''\n",
    "cursor.execute(sql)\n",
    "df5 = cursor.fetchall()\n",
    "df5 = pd.DataFrame(df5)\n",
    "df5.SCORE = df5.SCORE.astype(int)"
   ]
  },
  {
   "cell_type": "code",
   "execution_count": 75,
   "metadata": {},
   "outputs": [],
   "source": [
    "###############\n",
    "# 3.자료 추출 : 과거 수집된 내용\n",
    "#####\n",
    "df6 = pd.read_excel('./ratings_maeil.xlsx','sheet1')\n",
    "df6 = df6[['reviews', 'ratings', ]]\n",
    "df6.rename(columns = {'reviews' : 'REVIEW', 'ratings' : 'SCORE'}, inplace = True)"
   ]
  },
  {
   "cell_type": "code",
   "execution_count": 76,
   "metadata": {},
   "outputs": [],
   "source": [
    "df_maeil = pd.concat([df1,df2, df3, df4, df5, df6], ignore_index=True)\n",
    "df_maeil = df_maeil.drop_duplicates().reset_index(drop=True)"
   ]
  },
  {
   "cell_type": "code",
   "execution_count": 97,
   "metadata": {},
   "outputs": [],
   "source": [
    "# Excel 저장\n",
    "date2 = datetime.today().strftime('%Y%m%d')\n",
    "excel_name = date2 +'_review_data.xlsx'\n",
    "df_maeil.to_excel(excel_name, sheet_name= 'Sheet1' )"
   ]
  },
  {
   "cell_type": "code",
   "execution_count": null,
   "metadata": {},
   "outputs": [],
   "source": []
  },
  {
   "cell_type": "code",
   "execution_count": null,
   "metadata": {},
   "outputs": [],
   "source": []
  },
  {
   "cell_type": "code",
   "execution_count": null,
   "metadata": {},
   "outputs": [],
   "source": []
  },
  {
   "cell_type": "code",
   "execution_count": null,
   "metadata": {},
   "outputs": [],
   "source": []
  },
  {
   "cell_type": "code",
   "execution_count": null,
   "metadata": {},
   "outputs": [],
   "source": []
  },
  {
   "cell_type": "code",
   "execution_count": null,
   "metadata": {},
   "outputs": [],
   "source": []
  },
  {
   "cell_type": "markdown",
   "metadata": {},
   "source": [
    "### 2.데이터 전처리/Set 분류"
   ]
  },
  {
   "cell_type": "code",
   "execution_count": 2,
   "metadata": {},
   "outputs": [],
   "source": [
    "df_maeil2 = pd.read_excel('./20220615_review_data.xlsx','Sheet1')\n",
    "df_maeil2 = df_maeil2[['REVIEW', 'SCORE', ]]\n",
    "# df6.rename(columns = {'reviews' : 'REVIEW', 'ratings' : 'SCORE'}, inplace = True)\n",
    "\n",
    "# 네이버 자료 불러오기\n",
    "df_naver = pd.read_table('ratings_total.txt', names=['SCORE', 'REVIEW'])\n",
    "df_naver = df_naver[['REVIEW', 'SCORE']]"
   ]
  },
  {
   "cell_type": "code",
   "execution_count": 3,
   "metadata": {},
   "outputs": [],
   "source": [
    "df = pd.concat([df_maeil2, df_naver], ignore_index=True)"
   ]
  },
  {
   "cell_type": "code",
   "execution_count": 4,
   "metadata": {},
   "outputs": [],
   "source": [
    "# df = df_maeil.copy()"
   ]
  },
  {
   "cell_type": "code",
   "execution_count": 5,
   "metadata": {},
   "outputs": [
    {
     "name": "stdout",
     "output_type": "stream",
     "text": [
      "<class 'pandas.core.frame.DataFrame'>\n",
      "RangeIndex: 214623 entries, 0 to 214622\n",
      "Data columns (total 2 columns):\n",
      " #   Column  Non-Null Count   Dtype \n",
      "---  ------  --------------   ----- \n",
      " 0   REVIEW  214619 non-null  object\n",
      " 1   SCORE   214623 non-null  int64 \n",
      "dtypes: int64(1), object(1)\n",
      "memory usage: 3.3+ MB\n"
     ]
    }
   ],
   "source": [
    "df.info()"
   ]
  },
  {
   "cell_type": "code",
   "execution_count": 6,
   "metadata": {},
   "outputs": [],
   "source": [
    "df['REVIEW'] = df['REVIEW'].str.replace(\"[^ㄱ-ㅎㅏ-ㅣ가-힣 ]\",\"\") # 정규 표현식 수행\n",
    "df['REVIEW'] = df['REVIEW'].replace(\"\\n\", \" \")"
   ]
  },
  {
   "cell_type": "code",
   "execution_count": null,
   "metadata": {},
   "outputs": [],
   "source": []
  },
  {
   "cell_type": "code",
   "execution_count": 7,
   "metadata": {},
   "outputs": [],
   "source": [
    "# 긍종/부정으로 나누기\n",
    "df['label'] = np.select([df.SCORE > 3], [1], default=0)\n",
    "\n",
    "# 중복 제거\n",
    "df['SCORE'].nunique(), df['REVIEW'].nunique(), df['label'].nunique()\n",
    "df.drop_duplicates(subset=['REVIEW'], inplace=True) "
   ]
  },
  {
   "cell_type": "code",
   "execution_count": 8,
   "metadata": {},
   "outputs": [],
   "source": [
    "from konlpy.tag import Okt\n",
    "from sklearn.model_selection import train_test_split\n",
    "from tensorflow.keras.preprocessing.text import Tokenizer\n",
    "from tensorflow.keras.preprocessing.sequence import pad_sequences"
   ]
  },
  {
   "cell_type": "code",
   "execution_count": 9,
   "metadata": {},
   "outputs": [
    {
     "name": "stdout",
     "output_type": "stream",
     "text": [
      "훈련용 리뷰의 개수 : 168734\n",
      "테스트용 리뷰의 개수 : 44854\n"
     ]
    }
   ],
   "source": [
    "train_data, test_data = train_test_split(df, test_size = 0.21, random_state = 17)\n",
    "print('훈련용 리뷰의 개수 :', len(train_data))\n",
    "print('테스트용 리뷰의 개수 :', len(test_data))"
   ]
  },
  {
   "cell_type": "code",
   "execution_count": 10,
   "metadata": {},
   "outputs": [
    {
     "data": {
      "image/png": "[encoded data removed]",
      "text/plain": [
       "<Figure size 576x216 with 2 Axes>"
      ]
     },
     "metadata": {},
     "output_type": "display_data"
    }
   ],
   "source": [
    "\n",
    "mpl.rc('figure', figsize=(8, 3))\n",
    "fig = plt.figure( facecolor='#eeeeee')\n",
    "\n",
    "plt.subplot(1,2,1)\n",
    "plt.title('train_set', fontsize='x-large')\n",
    "plt.bar(train_data.groupby(['SCORE']).count().index, train_data.groupby(['SCORE']).count()['REVIEW'].values)\n",
    "\n",
    "plt.subplot(1,2,2)\n",
    "plt.title('test_data',fontsize='x-large')\n",
    "plt.bar(test_data.groupby(['SCORE']).count().index, test_data.groupby(['SCORE']).count()['REVIEW'].values)\n",
    "\n",
    "plt.show()"
   ]
  },
  {
   "cell_type": "code",
   "execution_count": 11,
   "metadata": {},
   "outputs": [
    {
     "data": {
      "image/png": "[encoded data removed]",
      "text/plain": [
       "<Figure size 576x216 with 2 Axes>"
      ]
     },
     "metadata": {},
     "output_type": "display_data"
    }
   ],
   "source": [
    "\n",
    "mpl.rc('figure', figsize=(8, 3))\n",
    "fig = plt.figure( facecolor='#eeeeee')\n",
    "\n",
    "plt.subplot(1,2,1)\n",
    "plt.title('train_set', fontsize='x-large')\n",
    "plt.bar(train_data.groupby(['label']).count().index, train_data.groupby(['label']).count()['REVIEW'].values)\n",
    "\n",
    "plt.subplot(1,2,2)\n",
    "plt.title('test_data',fontsize='x-large')\n",
    "plt.bar(test_data.groupby(['label']).count().index, test_data.groupby(['label']).count()['REVIEW'].values)\n",
    "\n",
    "plt.show()"
   ]
  },
  {
   "cell_type": "code",
   "execution_count": null,
   "metadata": {},
   "outputs": [],
   "source": []
  },
  {
   "cell_type": "code",
   "execution_count": null,
   "metadata": {},
   "outputs": [],
   "source": []
  },
  {
   "cell_type": "markdown",
   "metadata": {},
   "source": [
    "### 3.데이터 정제/토큰화"
   ]
  },
  {
   "cell_type": "code",
   "execution_count": null,
   "metadata": {},
   "outputs": [],
   "source": []
  },
  {
   "cell_type": "code",
   "execution_count": 12,
   "metadata": {},
   "outputs": [],
   "source": [
    "# 정규 표현식 수행 : train\n",
    "train_data.drop_duplicates(subset = ['REVIEW'], inplace=True) # 중복 제거\n",
    "train_data['REVIEW'] = train_data['REVIEW'].str.replace(\"[^ㄱ-ㅎㅏ-ㅣ가-힣 ]\",\"\") # 정규 표현식 수행\n",
    "\n",
    "# Null 값 제거 : train\n",
    "train_data['REVIEW'].replace('', np.nan, inplace=True) # 공백은 Null 값으로 변경\n",
    "train_data = train_data.dropna(how='any') # Null 값 제거\n",
    "\n",
    "\n",
    "# 정규 표현식 수행 : test\n",
    "test_data.drop_duplicates(subset = ['REVIEW'], inplace=True) # 중복 제거\n",
    "test_data['REVIEW'] = test_data['REVIEW'].str.replace(\"[^ㄱ-ㅎㅏ-ㅣ가-힣 ]\",\"\") # 정규 표현식 수행\n",
    "\n",
    "# Null 값 제거 : test\n",
    "test_data['REVIEW'].replace('', np.nan, inplace=True) # 공백은 Null 값으로 변경\n",
    "test_data = test_data.dropna(how='any') # Null 값 제거"
   ]
  },
  {
   "cell_type": "code",
   "execution_count": null,
   "metadata": {},
   "outputs": [],
   "source": []
  },
  {
   "cell_type": "code",
   "execution_count": 13,
   "metadata": {},
   "outputs": [
    {
     "name": "stdout",
     "output_type": "stream",
     "text": [
      "Wall time: 38min 57s\n"
     ]
    }
   ],
   "source": [
    "%%time\n",
    "\n",
    "okt = Okt()\n",
    "\n",
    "# token화\n",
    "# mecab = Mecab()\n",
    "# print(okt.morphs('와 이런 것도 상품이라고 차라리 내가 만드는 게 나을 뻔'))\n",
    "stopwords = ['도', '는', '다', '의', '가', '이', '은', '한', '에', '하', '고', '을', '를', '인', '듯', '과', '와',\n",
    "             '네', '들', '듯', '지', '임', '게', '요', '로', '하고', '으로', '안', '너무', '잘', ]\n",
    "\n",
    "# token화 : train\n",
    "train_data['tokenized'] = train_data['REVIEW'].apply(okt.morphs)\n",
    "train_data['tokenized'] = train_data['tokenized'].apply(lambda x: [item for item in x if item not in stopwords])\n",
    "\n",
    "# token화 : test\n",
    "test_data['tokenized'] = test_data['REVIEW'].apply(okt.morphs)\n",
    "test_data['tokenized'] = test_data['tokenized'].apply(lambda x: [item for item in x if item not in stopwords])"
   ]
  },
  {
   "cell_type": "code",
   "execution_count": null,
   "metadata": {},
   "outputs": [],
   "source": []
  },
  {
   "cell_type": "code",
   "execution_count": null,
   "metadata": {},
   "outputs": [],
   "source": []
  },
  {
   "cell_type": "code",
   "execution_count": null,
   "metadata": {},
   "outputs": [],
   "source": []
  },
  {
   "cell_type": "markdown",
   "metadata": {},
   "source": [
    "### 4.단어와 길이 분포 확인하기"
   ]
  },
  {
   "cell_type": "code",
   "execution_count": 14,
   "metadata": {},
   "outputs": [],
   "source": [
    "from collections import Counter"
   ]
  },
  {
   "cell_type": "code",
   "execution_count": 15,
   "metadata": {},
   "outputs": [],
   "source": [
    "negative_words = np.hstack(train_data[train_data.label == 0]['tokenized'].values)\n",
    "positive_words = np.hstack(train_data[train_data.label == 1]['tokenized'].values)"
   ]
  },
  {
   "cell_type": "code",
   "execution_count": 16,
   "metadata": {},
   "outputs": [
    {
     "name": "stdout",
     "output_type": "stream",
     "text": [
      "[('배송', 11454), ('그냥', 9483), ('맛', 7066), ('했는데', 6548), ('별로', 6102), ('제품', 5965), ('좀', 5769), ('못', 5714), ('생각', 5633), ('보다', 5595)]\n",
      "[('좋아요', 16068), ('배송', 13773), ('재구매', 9126), ('구매', 7968), ('사용', 5734), ('가격', 5460), ('같아요', 4952), ('좋네요', 4530), ('제품', 4502), ('보다', 4441)]\n"
     ]
    }
   ],
   "source": [
    "negative_word_count = Counter(negative_words)\n",
    "positive_word_count = Counter(positive_words)\n",
    "\n",
    "print(negative_word_count.most_common(10))\n",
    "print(positive_word_count.most_common(10))"
   ]
  },
  {
   "cell_type": "code",
   "execution_count": 17,
   "metadata": {},
   "outputs": [],
   "source": [
    "X_train = train_data['tokenized'].values\n",
    "y_train = train_data['label'].values\n",
    "X_test= test_data['tokenized'].values\n",
    "y_test = test_data['label'].values"
   ]
  },
  {
   "cell_type": "code",
   "execution_count": 33,
   "metadata": {},
   "outputs": [],
   "source": [
    "df = pd.concat([train_data[['REVIEW', 'label']], test_data[['REVIEW', 'label']]]).reset_index(drop=True)"
   ]
  },
  {
   "cell_type": "code",
   "execution_count": 34,
   "metadata": {},
   "outputs": [],
   "source": [
    "df.to_csv('./data.csv', index=False)"
   ]
  },
  {
   "cell_type": "code",
   "execution_count": null,
   "metadata": {},
   "outputs": [],
   "source": []
  },
  {
   "cell_type": "markdown",
   "metadata": {},
   "source": [
    "### 5.정수 인코딩 "
   ]
  },
  {
   "cell_type": "code",
   "execution_count": 18,
   "metadata": {},
   "outputs": [
    {
     "name": "stdout",
     "output_type": "stream",
     "text": [
      "단어 집합(vocabulary)의 크기 : 101595\n",
      "등장 빈도가 1번 이하인 희귀 단어의 수: 56372\n",
      "단어 집합에서 희귀 단어의 비율: 55.48698262709779\n",
      "전체 등장 빈도에서 희귀 단어 등장 빈도 비율: 2.798538675504645\n"
     ]
    }
   ],
   "source": [
    "tokenizer = Tokenizer()\n",
    "tokenizer.fit_on_texts(X_train)\n",
    "\n",
    "threshold = 2\n",
    "total_cnt = len(tokenizer.word_index) # 단어의 수\n",
    "rare_cnt = 0 # 등장 빈도수가 threshold보다 작은 단어의 개수를 카운트\n",
    "total_freq = 0 # 훈련 데이터의 전체 단어 빈도수 총 합\n",
    "rare_freq = 0 # 등장 빈도수가 threshold보다 작은 단어의 등장 빈도수의 총 합\n",
    "\n",
    "# 단어와 빈도수의 쌍(pair)을 key와 value로 받는다.\n",
    "for key, value in tokenizer.word_counts.items():\n",
    "    total_freq = total_freq + value\n",
    "\n",
    "    # 단어의 등장 빈도수가 threshold보다 작으면\n",
    "    if(value < threshold):\n",
    "        rare_cnt = rare_cnt + 1\n",
    "        rare_freq = rare_freq + value\n",
    "\n",
    "print('단어 집합(vocabulary)의 크기 :',total_cnt)\n",
    "print('등장 빈도가 %s번 이하인 희귀 단어의 수: %s'%(threshold - 1, rare_cnt))\n",
    "print(\"단어 집합에서 희귀 단어의 비율:\", (rare_cnt / total_cnt)*100)\n",
    "print(\"전체 등장 빈도에서 희귀 단어 등장 빈도 비율:\", (rare_freq / total_freq)*100)"
   ]
  },
  {
   "cell_type": "code",
   "execution_count": 19,
   "metadata": {},
   "outputs": [
    {
     "name": "stdout",
     "output_type": "stream",
     "text": [
      "단어 집합의 크기 : 45225\n"
     ]
    }
   ],
   "source": [
    "# 전체 단어 개수 중 빈도수 2이하인 단어 개수는 제거.\n",
    "# 0번 패딩 토큰과 1번 OOV 토큰을 고려하여 +2\n",
    "vocab_size = total_cnt - rare_cnt + 2\n",
    "print('단어 집합의 크기 :',vocab_size)"
   ]
  },
  {
   "cell_type": "code",
   "execution_count": 20,
   "metadata": {},
   "outputs": [],
   "source": [
    "tokenizer = Tokenizer(vocab_size, oov_token = 'OOV') \n",
    "tokenizer.fit_on_texts(X_train)\n",
    "X_train = tokenizer.texts_to_sequences(X_train)\n",
    "X_test = tokenizer.texts_to_sequences(X_test)"
   ]
  },
  {
   "cell_type": "code",
   "execution_count": null,
   "metadata": {},
   "outputs": [],
   "source": []
  },
  {
   "cell_type": "code",
   "execution_count": null,
   "metadata": {},
   "outputs": [],
   "source": []
  },
  {
   "cell_type": "code",
   "execution_count": null,
   "metadata": {},
   "outputs": [],
   "source": []
  },
  {
   "cell_type": "markdown",
   "metadata": {},
   "source": [
    "### 6.패딩 : 샘플들의 길이를 동일하게 맞춰주는 작업"
   ]
  },
  {
   "cell_type": "code",
   "execution_count": 21,
   "metadata": {},
   "outputs": [
    {
     "name": "stdout",
     "output_type": "stream",
     "text": [
      "리뷰의 최대 길이 : 254\n",
      "리뷰의 평균 길이 : 11.93801449627518\n"
     ]
    },
    {
     "data": {
      "image/png": "[encoded data removed]",
      "text/plain": [
       "<Figure size 576x216 with 1 Axes>"
      ]
     },
     "metadata": {
      "needs_background": "light"
     },
     "output_type": "display_data"
    }
   ],
   "source": [
    "print('리뷰의 최대 길이 :',max(len(l) for l in X_train))\n",
    "print('리뷰의 평균 길이 :',sum(map(len, X_train))/len(X_train))\n",
    "plt.hist([len(s) for s in X_train], bins=50)\n",
    "plt.xlabel('length of samples')\n",
    "plt.ylabel('number of samples')\n",
    "plt.show()"
   ]
  },
  {
   "cell_type": "code",
   "execution_count": 22,
   "metadata": {},
   "outputs": [],
   "source": [
    "def below_threshold_len(max_len, nested_list):\n",
    "    cnt = 0\n",
    "    for s in nested_list:\n",
    "        if(len(s) <= max_len):\n",
    "            cnt = cnt + 1\n",
    "    print('전체 샘플 중 길이가 %s 이하인 샘플의 비율: %s'%(max_len, (cnt / len(nested_list))*100))"
   ]
  },
  {
   "cell_type": "code",
   "execution_count": 23,
   "metadata": {},
   "outputs": [
    {
     "name": "stdout",
     "output_type": "stream",
     "text": [
      "전체 샘플 중 길이가 80 이하인 샘플의 비율: 99.92236254911606\n"
     ]
    }
   ],
   "source": [
    "max_len = 80\n",
    "below_threshold_len(max_len, X_train)"
   ]
  },
  {
   "cell_type": "code",
   "execution_count": 24,
   "metadata": {},
   "outputs": [],
   "source": [
    "X_train = pad_sequences(X_train, maxlen = max_len)\n",
    "X_test = pad_sequences(X_test, maxlen = max_len)"
   ]
  },
  {
   "cell_type": "code",
   "execution_count": null,
   "metadata": {},
   "outputs": [],
   "source": []
  },
  {
   "cell_type": "code",
   "execution_count": null,
   "metadata": {},
   "outputs": [],
   "source": []
  },
  {
   "cell_type": "code",
   "execution_count": null,
   "metadata": {},
   "outputs": [],
   "source": []
  },
  {
   "cell_type": "code",
   "execution_count": null,
   "metadata": {},
   "outputs": [],
   "source": []
  },
  {
   "cell_type": "markdown",
   "metadata": {},
   "source": [
    "### 7.모델링 : GRU"
   ]
  },
  {
   "cell_type": "code",
   "execution_count": 25,
   "metadata": {},
   "outputs": [],
   "source": [
    "from tensorflow.keras.layers import Embedding, Dense, GRU\n",
    "from tensorflow.keras.models import Sequential\n",
    "from tensorflow.keras.models import load_model\n",
    "from tensorflow.keras.callbacks import EarlyStopping, ModelCheckpoint\n",
    "from tensorflow import keras\n",
    "import pickle\n",
    "\n",
    "embedding_dim = 100\n",
    "hidden_units = 128\n",
    "vocab_size = 45225\n",
    "\n",
    "model = Sequential()\n",
    "model.add(Embedding(vocab_size, embedding_dim))\n",
    "model.add(GRU(hidden_units))\n",
    "model.add(Dense(1, activation='sigmoid'))\n",
    "\n",
    "es = EarlyStopping(monitor='val_loss', mode='min', verbose=1, patience=4)\n",
    "mc = ModelCheckpoint('best_model.h5', monitor='val_acc', mode='max', verbose=1, save_best_only=True)\n",
    "\n",
    "model.compile(optimizer='rmsprop', loss='binary_crossentropy', metrics=['acc'])"
   ]
  },
  {
   "cell_type": "code",
   "execution_count": 26,
   "metadata": {},
   "outputs": [
    {
     "name": "stdout",
     "output_type": "stream",
     "text": [
      "Model: \"sequential\"\n",
      "_________________________________________________________________\n",
      "Layer (type)                 Output Shape              Param #   \n",
      "=================================================================\n",
      "embedding (Embedding)        (None, None, 100)         4522500   \n",
      "_________________________________________________________________\n",
      "gru (GRU)                    (None, 128)               88320     \n",
      "_________________________________________________________________\n",
      "dense (Dense)                (None, 1)                 129       \n",
      "=================================================================\n",
      "Total params: 4,610,949\n",
      "Trainable params: 4,610,949\n",
      "Non-trainable params: 0\n",
      "_________________________________________________________________\n"
     ]
    }
   ],
   "source": [
    "model.summary()"
   ]
  },
  {
   "cell_type": "code",
   "execution_count": null,
   "metadata": {},
   "outputs": [],
   "source": []
  },
  {
   "cell_type": "code",
   "execution_count": 27,
   "metadata": {},
   "outputs": [
    {
     "name": "stdout",
     "output_type": "stream",
     "text": [
      "Epoch 1/15\n",
      "2110/2110 [==============================] - 361s 169ms/step - loss: 0.3002 - acc: 0.8833 - val_loss: 0.2683 - val_acc: 0.8984\n",
      "\n",
      "Epoch 00001: val_acc improved from -inf to 0.89839, saving model to best_model.h5\n",
      "Epoch 2/15\n",
      "2110/2110 [==============================] - 334s 159ms/step - loss: 0.2458 - acc: 0.9091 - val_loss: 0.2537 - val_acc: 0.9041\n",
      "\n",
      "Epoch 00002: val_acc improved from 0.89839 to 0.90411, saving model to best_model.h5\n",
      "Epoch 3/15\n",
      "2110/2110 [==============================] - 334s 159ms/step - loss: 0.2254 - acc: 0.9185 - val_loss: 0.2473 - val_acc: 0.9065\n",
      "\n",
      "Epoch 00003: val_acc improved from 0.90411 to 0.90651, saving model to best_model.h5\n",
      "Epoch 4/15\n",
      "2110/2110 [==============================] - 394s 187ms/step - loss: 0.2099 - acc: 0.9253 - val_loss: 0.2532 - val_acc: 0.9059\n",
      "\n",
      "Epoch 00004: val_acc did not improve from 0.90651\n",
      "Epoch 5/15\n",
      "2110/2110 [==============================] - 403s 191ms/step - loss: 0.1976 - acc: 0.9301 - val_loss: 0.2617 - val_acc: 0.9047\n",
      "\n",
      "Epoch 00005: val_acc did not improve from 0.90651\n",
      "Epoch 6/15\n",
      "2110/2110 [==============================] - 408s 193ms/step - loss: 0.1865 - acc: 0.9342 - val_loss: 0.2614 - val_acc: 0.9003\n",
      "\n",
      "Epoch 00006: val_acc did not improve from 0.90651\n",
      "Epoch 7/15\n",
      "2110/2110 [==============================] - 402s 190ms/step - loss: 0.1748 - acc: 0.9387 - val_loss: 0.2610 - val_acc: 0.9014\n",
      "\n",
      "Epoch 00007: val_acc did not improve from 0.90651\n",
      "Epoch 00007: early stopping\n"
     ]
    }
   ],
   "source": [
    "# training \n",
    "history = model.fit(X_train, y_train, epochs=15, callbacks=[es, mc], batch_size=64, validation_split=0.2)"
   ]
  },
  {
   "cell_type": "code",
   "execution_count": null,
   "metadata": {},
   "outputs": [],
   "source": []
  },
  {
   "cell_type": "code",
   "execution_count": null,
   "metadata": {},
   "outputs": [],
   "source": []
  },
  {
   "cell_type": "code",
   "execution_count": null,
   "metadata": {},
   "outputs": [],
   "source": []
  },
  {
   "cell_type": "code",
   "execution_count": null,
   "metadata": {},
   "outputs": [],
   "source": []
  },
  {
   "cell_type": "code",
   "execution_count": 28,
   "metadata": {},
   "outputs": [],
   "source": [
    "# save\n",
    "\n",
    "# model\n",
    "model.save(\"GRU_model_200708.h5\")\n",
    "\n",
    "# tokenzier\n",
    "with open('GRU_model_200708_tokenizer.pickle', 'wb') as handle:\n",
    "    pickle.dump(tokenizer, handle, protocol=pickle.HIGHEST_PROTOCOL)"
   ]
  },
  {
   "cell_type": "code",
   "execution_count": null,
   "metadata": {},
   "outputs": [],
   "source": []
  },
  {
   "cell_type": "code",
   "execution_count": null,
   "metadata": {},
   "outputs": [],
   "source": []
  },
  {
   "cell_type": "code",
   "execution_count": 14,
   "metadata": {},
   "outputs": [],
   "source": [
    "from tensorflow.keras.layers import Embedding, Dense, GRU\n",
    "from tensorflow.keras.models import Sequential\n",
    "from tensorflow.keras.callbacks import EarlyStopping, ModelCheckpoint\n",
    "\n",
    "\n",
    "from tensorflow.keras.models import load_model\n",
    "from tensorflow import keras\n",
    "import pickle\n",
    "import re\n",
    "from konlpy.tag import Okt\n",
    "from tensorflow.keras.preprocessing.sequence import pad_sequences"
   ]
  },
  {
   "cell_type": "code",
   "execution_count": 10,
   "metadata": {},
   "outputs": [],
   "source": [
    "# load\n",
    "\n",
    "# model\n",
    "loaded_model = keras.models.load_model('GRU_model_200708.h5')\n",
    "\n",
    "# tokenzier\n",
    "with open('GRU_model_200708_tokenizer.pickle', 'rb') as handle:\n",
    "    tokenizer = pickle.load(handle)\n"
   ]
  },
  {
   "cell_type": "code",
   "execution_count": 17,
   "metadata": {},
   "outputs": [],
   "source": []
  },
  {
   "cell_type": "code",
   "execution_count": 19,
   "metadata": {},
   "outputs": [],
   "source": [
    "\n",
    "def sentiment_predict(new_sentence):\n",
    "    new_sentence = re.sub(r'[^ㄱ-ㅎㅏ-ㅣ가-힣 ]','', new_sentence)\n",
    "    new_sentence = okt.morphs(new_sentence)\n",
    "    new_sentence = [word for word in new_sentence if not word in stopwords]\n",
    "    encoded = tokenizer.texts_to_sequences([new_sentence])\n",
    "    pad_new = pad_sequences(encoded, maxlen = max_len)\n",
    "    score = float(loaded_model.predict(pad_new))\n",
    "    print(score)\n",
    "#     if(score < 0.4):\n",
    "#         print(\"{:.2f}% 확률로 긍정 리뷰입니다.\".format(score * 100))\n",
    "#     else:\n",
    "#         print(\"{:.2f}% 확률로 부정 리뷰입니다.\".format((1 - score) * 100))"
   ]
  },
  {
   "cell_type": "code",
   "execution_count": 20,
   "metadata": {},
   "outputs": [],
   "source": [
    "okt = Okt()\n",
    "\n",
    "stopwords = ['도', '는', '다', '의', '가', '이', '은', '한', '에', '하', '고', '을', '를', '인', '듯', '과', '와',\n",
    "             '네', '들', '듯', '지', '임', '게', '요', '로', '하고', '으로', '안', '너무', '잘', ]"
   ]
  },
  {
   "cell_type": "code",
   "execution_count": 22,
   "metadata": {
    "scrolled": false
   },
   "outputs": [
    {
     "name": "stdout",
     "output_type": "stream",
     "text": [
      "0.9318230748176575\n"
     ]
    }
   ],
   "source": [
    "sentiment_predict('진짜 고소하고 맛있어용')"
   ]
  },
  {
   "cell_type": "code",
   "execution_count": null,
   "metadata": {},
   "outputs": [],
   "source": []
  },
  {
   "cell_type": "code",
   "execution_count": 23,
   "metadata": {},
   "outputs": [
    {
     "name": "stdout",
     "output_type": "stream",
     "text": [
      "0.1976781189441681\n"
     ]
    }
   ],
   "source": [
    "sentiment_predict('너무 달아요. 단맛을 줄여주세요')"
   ]
  },
  {
   "cell_type": "code",
   "execution_count": 24,
   "metadata": {},
   "outputs": [
    {
     "name": "stdout",
     "output_type": "stream",
     "text": [
      "0.036034464836120605\n"
     ]
    }
   ],
   "source": [
    "sentiment_predict('저는 재구매..안합니다. 사실 매일이기에 기대했어요. 그런데 탄산도 그렇고 달기도 그렇고 밍밍해요~ 오히려 연예인이 선전하는 물에 타먹는게 더 맛있네요')"
   ]
  },
  {
   "cell_type": "code",
   "execution_count": 25,
   "metadata": {},
   "outputs": [
    {
     "name": "stdout",
     "output_type": "stream",
     "text": [
      "0.0012753307819366455\n"
     ]
    }
   ],
   "source": [
    "text = '6팩인줄 알았는데 6개일줄이야...달랑 커피 6개에 컵??!!? 이건 닫히지도 않고 누가 쓰던컵? 같은? 암튼 반품하기 귀찮아서 그냥둡니다.'\n",
    "sentiment_predict(text)"
   ]
  },
  {
   "cell_type": "code",
   "execution_count": 26,
   "metadata": {},
   "outputs": [
    {
     "name": "stdout",
     "output_type": "stream",
     "text": [
      "0.0027833282947540283\n"
     ]
    }
   ],
   "source": [
    "text = '이게 6팩이 6페트를 의미하는거였나요?ㅠ 라이브 알림 보고 정확히 확인 안한 탓이라고 할수도 있지만 보통 6팩이라고 하면 포장된 6개의 팩을 의미하지 않나요? 6개가 포장된 6팩 즉 36개 커피라고 생각했는데 커피 6개라니 상품 정보에 오해소지가 너무 크내요 이걸 이유로 환불하기엔 환불 배송료가 너무 커서 그냥 먹긴해야겠내요.  또 리유저블 컵은 커피 껍질 재활용이라지만 딱봐도 누가 쓰던 컵인것 같아서 별로라고 생각됩니다.  저보다 먼저 리뷰 쓰신분들 진짜 허스키 컵 마음에 들어서 긍정적인 리뷰 쓴거 맞나요? 저랑 다른 퀄리티의 허스키 컵인가요?'\n",
    "sentiment_predict(text)"
   ]
  },
  {
   "cell_type": "code",
   "execution_count": null,
   "metadata": {},
   "outputs": [],
   "source": []
  },
  {
   "cell_type": "code",
   "execution_count": null,
   "metadata": {},
   "outputs": [],
   "source": []
  },
  {
   "cell_type": "code",
   "execution_count": 38,
   "metadata": {},
   "outputs": [],
   "source": []
  },
  {
   "cell_type": "code",
   "execution_count": null,
   "metadata": {},
   "outputs": [],
   "source": []
  },
  {
   "cell_type": "code",
   "execution_count": 46,
   "metadata": {},
   "outputs": [],
   "source": [
    "import pandas as pd\n",
    "df_1 = pd.read_excel('20220712_review_data2.xlsx',0)\n",
    "\n",
    "review_list = list(df_1.REVIEW.str.replace('\\n', ' '))"
   ]
  },
  {
   "cell_type": "code",
   "execution_count": 47,
   "metadata": {},
   "outputs": [
    {
     "data": {
      "text/plain": [
       "588"
      ]
     },
     "execution_count": 47,
     "metadata": {},
     "output_type": "execute_result"
    }
   ],
   "source": [
    "len(review_list)"
   ]
  },
  {
   "cell_type": "code",
   "execution_count": 60,
   "metadata": {},
   "outputs": [],
   "source": [
    "def sentiment_predict2(new_sentence):\n",
    "    new_sentence = re.sub(r'[^ㄱ-ㅎㅏ-ㅣ가-힣 ]','', new_sentence)\n",
    "    new_sentence = okt.morphs(new_sentence)\n",
    "    new_sentence = [word for word in new_sentence if not word in stopwords]\n",
    "    encoded = tokenizer.texts_to_sequences([new_sentence])\n",
    "    pad_new = pad_sequences(encoded, maxlen = max_len)\n",
    "    score = float(loaded_model.predict(pad_new))\n",
    "    if score <= 0.2:\n",
    "        result = '부정'\n",
    "    else:\n",
    "        result = '중립/긍정'\n",
    "    return result, round( (1-score)*100,2)"
   ]
  },
  {
   "cell_type": "code",
   "execution_count": null,
   "metadata": {},
   "outputs": [],
   "source": []
  },
  {
   "cell_type": "code",
   "execution_count": 66,
   "metadata": {},
   "outputs": [],
   "source": [
    "review_predict = []\n",
    "review_ratio   = []\n",
    "\n",
    "for text_ in review_list:\n",
    "    try:\n",
    "        (data_, ratio)  = sentiment_predict2(text_)\n",
    "    except:\n",
    "        (data_, ratio) = ('', '')\n",
    "    review_predict.append(data_)\n",
    "    review_ratio.append(ratio)"
   ]
  },
  {
   "cell_type": "code",
   "execution_count": 67,
   "metadata": {},
   "outputs": [],
   "source": [
    "df_1['PREDICT'] = review_predict\n",
    "df_1['NEGATIVE_RATIO'] = review_ratio"
   ]
  },
  {
   "cell_type": "code",
   "execution_count": 69,
   "metadata": {},
   "outputs": [
    {
     "data": {
      "text/html": [
       "<div>\n",
       "<style scoped>\n",
       "    .dataframe tbody tr th:only-of-type {\n",
       "        vertical-align: middle;\n",
       "    }\n",
       "\n",
       "    .dataframe tbody tr th {\n",
       "        vertical-align: top;\n",
       "    }\n",
       "\n",
       "    .dataframe thead th {\n",
       "        text-align: right;\n",
       "    }\n",
       "</style>\n",
       "<table border=\"1\" class=\"dataframe\">\n",
       "  <thead>\n",
       "    <tr style=\"text-align: right;\">\n",
       "      <th></th>\n",
       "      <th>USER</th>\n",
       "      <th>REG_DTM</th>\n",
       "      <th>REG_DT</th>\n",
       "      <th>REG_WEEK</th>\n",
       "      <th>CHANNEL</th>\n",
       "      <th>PRODUCT</th>\n",
       "      <th>SCORE</th>\n",
       "      <th>REVIEW</th>\n",
       "      <th>PREDICT</th>\n",
       "      <th>NEGATIVE_RATIO</th>\n",
       "    </tr>\n",
       "  </thead>\n",
       "  <tbody>\n",
       "    <tr>\n",
       "      <th>0</th>\n",
       "      <td>okmi*****</td>\n",
       "      <td>2022-06-30</td>\n",
       "      <td>2022-06</td>\n",
       "      <td>2022Y-26W</td>\n",
       "      <td>3 네이버</td>\n",
       "      <td>더그레잇티 콤부차 [ 베리리치 ] [ 300ML ] ,더그레잇티 콤부차 [ 오리지널...</td>\n",
       "      <td>5</td>\n",
       "      <td>할인기간에 잘 구입했어요.\\n맛은 그냥 먹을만하고 양은 300ml로 좀 작아요</td>\n",
       "      <td>부정</td>\n",
       "      <td>81.47</td>\n",
       "    </tr>\n",
       "    <tr>\n",
       "      <th>3</th>\n",
       "      <td>rlat********</td>\n",
       "      <td>2022-06-30</td>\n",
       "      <td>2022-06</td>\n",
       "      <td>2022Y-26W</td>\n",
       "      <td>3 네이버</td>\n",
       "      <td>더그레잇티 콤부차 [ 베리리치 ] [ 300ML ] ,더그레잇티 콤부차 [ 오리지널...</td>\n",
       "      <td>5</td>\n",
       "      <td>유통기한은 올해 11월 12월이에요\\n베리리치맛마셔봣는데\\n콤부차 특유의 톡쏨이 덜...</td>\n",
       "      <td>부정</td>\n",
       "      <td>93.94</td>\n",
       "    </tr>\n",
       "    <tr>\n",
       "      <th>57</th>\n",
       "      <td>keun*********</td>\n",
       "      <td>2022-06-30</td>\n",
       "      <td>2022-06</td>\n",
       "      <td>2022Y-26W</td>\n",
       "      <td>3 네이버</td>\n",
       "      <td>더그레잇티 콤부차 [ 베리리치 ] [ 300ML ] ,더그레잇티 콤부차 [ 오리지널...</td>\n",
       "      <td>5</td>\n",
       "      <td>맛은 그냥 데미소다 느낌이에요. 1+1이라 해서 샀는데 12개에 이가격이면 그냥 쏘...</td>\n",
       "      <td>부정</td>\n",
       "      <td>89.79</td>\n",
       "    </tr>\n",
       "    <tr>\n",
       "      <th>73</th>\n",
       "      <td>minj*****</td>\n",
       "      <td>2022-06-30</td>\n",
       "      <td>2022-06</td>\n",
       "      <td>2022Y-26W</td>\n",
       "      <td>3 네이버</td>\n",
       "      <td>더그레잇티 콤부차 [ 베리리치 ] [ 300ML ] ,더그레잇티 콤부차 [ 오리지널...</td>\n",
       "      <td>3</td>\n",
       "      <td>1박스에 6개씩 다른맛으로 2박스시켰는데, 한박스에 오리지널 12개, 베리리치 12...</td>\n",
       "      <td>부정</td>\n",
       "      <td>97.86</td>\n",
       "    </tr>\n",
       "    <tr>\n",
       "      <th>114</th>\n",
       "      <td>yo****</td>\n",
       "      <td>2022-06-29</td>\n",
       "      <td>2022-06</td>\n",
       "      <td>2022Y-26W</td>\n",
       "      <td>3 네이버</td>\n",
       "      <td>더그레잇티 콤부차 [ 오리지널 ] [ 300ML ]</td>\n",
       "      <td>5</td>\n",
       "      <td>탄산감은 너무 좋고, 맛은 얼***보단 덜 새콤한것같아서 살짝 아쉽긴했지만 반대로 ...</td>\n",
       "      <td>부정</td>\n",
       "      <td>99.28</td>\n",
       "    </tr>\n",
       "    <tr>\n",
       "      <th>124</th>\n",
       "      <td>cold*****</td>\n",
       "      <td>2022-06-28</td>\n",
       "      <td>2022-06</td>\n",
       "      <td>2022Y-26W</td>\n",
       "      <td>3 네이버</td>\n",
       "      <td>더그레잇티 콤부차 [ 베리리치 ] [ 300ML ] ,더그레잇티 콤부차 [ 오리지널...</td>\n",
       "      <td>3</td>\n",
       "      <td>그럭저럭 괜찮은 정도</td>\n",
       "      <td>부정</td>\n",
       "      <td>92.63</td>\n",
       "    </tr>\n",
       "    <tr>\n",
       "      <th>141</th>\n",
       "      <td>pigg***</td>\n",
       "      <td>2022-06-27</td>\n",
       "      <td>2022-06</td>\n",
       "      <td>2022Y-26W</td>\n",
       "      <td>3 네이버</td>\n",
       "      <td>더그레잇티 콤부차 [ 오리지널 ] [ 300ML ]</td>\n",
       "      <td>4</td>\n",
       "      <td>에구6천원이나 더 주고 사서 아깝네요. ㅠ\\n라이브방송에서 싸게 사서 좋아서 더 살...</td>\n",
       "      <td>부정</td>\n",
       "      <td>99.15</td>\n",
       "    </tr>\n",
       "    <tr>\n",
       "      <th>169</th>\n",
       "      <td>boan*****</td>\n",
       "      <td>2022-06-25</td>\n",
       "      <td>2022-06</td>\n",
       "      <td>2022Y-25W</td>\n",
       "      <td>3 네이버</td>\n",
       "      <td>더그레잇티 콤부차 [ 베리리치 ] [ 300ML ] ,더그레잇티 콤부차 [ 오리지널...</td>\n",
       "      <td>5</td>\n",
       "      <td>박스가 찌그러져있고 쪼금만 망가졌으면 열릴것같은 상태였지만 다행히 그렇진 않았어요....</td>\n",
       "      <td>부정</td>\n",
       "      <td>87.10</td>\n",
       "    </tr>\n",
       "    <tr>\n",
       "      <th>205</th>\n",
       "      <td>leom****</td>\n",
       "      <td>2022-06-24</td>\n",
       "      <td>2022-06</td>\n",
       "      <td>2022Y-25W</td>\n",
       "      <td>3 네이버</td>\n",
       "      <td>더그레잇티 콤부차 [ 베리리치 ] [ 300ML ] ,더그레잇티 콤부차 [ 오리지널...</td>\n",
       "      <td>5</td>\n",
       "      <td>생각보다 많이 시큼해요. 특히 오리지널이 그래요. 여성분들은 좋아할 것 같아요. 발...</td>\n",
       "      <td>부정</td>\n",
       "      <td>96.78</td>\n",
       "    </tr>\n",
       "    <tr>\n",
       "      <th>218</th>\n",
       "      <td>jeso******</td>\n",
       "      <td>2022-06-23</td>\n",
       "      <td>2022-06</td>\n",
       "      <td>2022Y-25W</td>\n",
       "      <td>3 네이버</td>\n",
       "      <td>더그레잇티 콤부차 [ 베리리치 ] [ 300ML ] ,더그레잇티 콤부차 [ 오리지널...</td>\n",
       "      <td>4</td>\n",
       "      <td>달아요 당을 줄였음 좋겠네요\\n탄산은 약한편인데 나쁘지않아요</td>\n",
       "      <td>부정</td>\n",
       "      <td>85.98</td>\n",
       "    </tr>\n",
       "    <tr>\n",
       "      <th>238</th>\n",
       "      <td>qhfm*******</td>\n",
       "      <td>2022-06-22</td>\n",
       "      <td>2022-06</td>\n",
       "      <td>2022Y-25W</td>\n",
       "      <td>3 네이버</td>\n",
       "      <td>더그레잇티 콤부차 [ 베리리치 ] [ 300ML ] ,더그레잇티 콤부차 [ 오리지널...</td>\n",
       "      <td>3</td>\n",
       "      <td>음.... 맛...없어요 타먹는 콤부차보다 맛있을까하고 주문했지만 똑같아요 ㅋㅋㅋ</td>\n",
       "      <td>부정</td>\n",
       "      <td>86.62</td>\n",
       "    </tr>\n",
       "    <tr>\n",
       "      <th>297</th>\n",
       "      <td>jlov****</td>\n",
       "      <td>2022-06-21</td>\n",
       "      <td>2022-06</td>\n",
       "      <td>2022Y-25W</td>\n",
       "      <td>3 네이버</td>\n",
       "      <td>더그레잇티 콤부차 [ 베리리치 ] [ 300ML ] ,더그레잇티 콤부차 [ 오리지널...</td>\n",
       "      <td>2</td>\n",
       "      <td>저는 재구매..안합니다.\\n사실 매일이기에 기대했어요.그런데 \\n탄산도 그렇고 달기...</td>\n",
       "      <td>부정</td>\n",
       "      <td>96.40</td>\n",
       "    </tr>\n",
       "    <tr>\n",
       "      <th>309</th>\n",
       "      <td>nrbs****</td>\n",
       "      <td>2022-06-21</td>\n",
       "      <td>2022-06</td>\n",
       "      <td>2022Y-25W</td>\n",
       "      <td>3 네이버</td>\n",
       "      <td>더그레잇티 콤부차 [ 베리리치 ] [ 300ML ] ,더그레잇티 콤부차 [ 오리지널...</td>\n",
       "      <td>5</td>\n",
       "      <td>시고 달고 여름음료 같음</td>\n",
       "      <td>부정</td>\n",
       "      <td>89.19</td>\n",
       "    </tr>\n",
       "    <tr>\n",
       "      <th>383</th>\n",
       "      <td>love*****</td>\n",
       "      <td>2022-06-20</td>\n",
       "      <td>2022-06</td>\n",
       "      <td>2022Y-25W</td>\n",
       "      <td>3 네이버</td>\n",
       "      <td>더그레잇티 콤부차 [ 베리리치 ] [ 300ML ] ,더그레잇티 콤부차 [ 오리지널...</td>\n",
       "      <td>4</td>\n",
       "      <td>사과식초 약하게 탄산음료랑 마시는 기분이래요</td>\n",
       "      <td>부정</td>\n",
       "      <td>94.12</td>\n",
       "    </tr>\n",
       "    <tr>\n",
       "      <th>386</th>\n",
       "      <td>my****</td>\n",
       "      <td>2022-06-20</td>\n",
       "      <td>2022-06</td>\n",
       "      <td>2022Y-25W</td>\n",
       "      <td>3 네이버</td>\n",
       "      <td>더그레잇티 콤부차 [ 베리리치 ] [ 300ML ] ,더그레잇티 콤부차 [ 오리지널...</td>\n",
       "      <td>4</td>\n",
       "      <td>당성분 좀더 줄였으면 더좋았을거같음</td>\n",
       "      <td>부정</td>\n",
       "      <td>93.83</td>\n",
       "    </tr>\n",
       "    <tr>\n",
       "      <th>406</th>\n",
       "      <td>jmk6***</td>\n",
       "      <td>2022-06-19</td>\n",
       "      <td>2022-06</td>\n",
       "      <td>2022Y-24W</td>\n",
       "      <td>3 네이버</td>\n",
       "      <td>더그레잇티 콤부차 [ 오리지널 ] [ 300ML ]</td>\n",
       "      <td>5</td>\n",
       "      <td>하루만에 배송와서 깜놀했네요</td>\n",
       "      <td>부정</td>\n",
       "      <td>93.72</td>\n",
       "    </tr>\n",
       "    <tr>\n",
       "      <th>408</th>\n",
       "      <td>kh****</td>\n",
       "      <td>2022-06-19</td>\n",
       "      <td>2022-06</td>\n",
       "      <td>2022Y-24W</td>\n",
       "      <td>3 네이버</td>\n",
       "      <td>더그레잇티 콤부차 [ 오리지널 ] [ 300ML ]</td>\n",
       "      <td>3</td>\n",
       "      <td>무설탕인줄 알고샀는데 설탕이있네요ㅋㅋ 다이어트중이라 샀는데..자세히 안본 제잘못입니...</td>\n",
       "      <td>부정</td>\n",
       "      <td>80.92</td>\n",
       "    </tr>\n",
       "    <tr>\n",
       "      <th>416</th>\n",
       "      <td>neoz***</td>\n",
       "      <td>2022-06-19</td>\n",
       "      <td>2022-06</td>\n",
       "      <td>2022Y-24W</td>\n",
       "      <td>3 네이버</td>\n",
       "      <td>더그레잇티 콤부차 [ 오리지널 ] [ 300ML ]</td>\n",
       "      <td>4</td>\n",
       "      <td>입문자용 콤부차라고 생각하면 될 것 같아요.  탄산이 훨씬 강하고 매우 달아요.  ...</td>\n",
       "      <td>부정</td>\n",
       "      <td>89.51</td>\n",
       "    </tr>\n",
       "    <tr>\n",
       "      <th>419</th>\n",
       "      <td>qdam****</td>\n",
       "      <td>2022-06-19</td>\n",
       "      <td>2022-06</td>\n",
       "      <td>2022Y-24W</td>\n",
       "      <td>3 네이버</td>\n",
       "      <td>더그레잇티 콤부차 [ 오리지널 ] [ 300ML ]</td>\n",
       "      <td>4</td>\n",
       "      <td>배송 빠르고 라이브바송때 구입해 저렴히 구입했어요. 탄산많구요 달달합니다. 맛나게 ...</td>\n",
       "      <td>부정</td>\n",
       "      <td>96.57</td>\n",
       "    </tr>\n",
       "    <tr>\n",
       "      <th>420</th>\n",
       "      <td>saem****</td>\n",
       "      <td>2022-06-19</td>\n",
       "      <td>2022-06</td>\n",
       "      <td>2022Y-24W</td>\n",
       "      <td>3 네이버</td>\n",
       "      <td>더그레잇티 콤부차 [ 오리지널 ] [ 300ML ]</td>\n",
       "      <td>3</td>\n",
       "      <td>괜찮은데 마이구미향같은게 너무 강해서 그게단점  이네요</td>\n",
       "      <td>부정</td>\n",
       "      <td>99.47</td>\n",
       "    </tr>\n",
       "    <tr>\n",
       "      <th>435</th>\n",
       "      <td>olle***</td>\n",
       "      <td>2022-06-18</td>\n",
       "      <td>2022-06</td>\n",
       "      <td>2022Y-24W</td>\n",
       "      <td>3 네이버</td>\n",
       "      <td>더그레잇티 콤부차 [ 베리리치 ] [ 300ML ] ,더그레잇티 콤부차 [ 오리지널...</td>\n",
       "      <td>5</td>\n",
       "      <td>매일유업 좋아해서 신제품 나오는 건 거의 다 사 마시고 있는데, 이번 건 조금 애매...</td>\n",
       "      <td>부정</td>\n",
       "      <td>93.45</td>\n",
       "    </tr>\n",
       "    <tr>\n",
       "      <th>444</th>\n",
       "      <td>sunn********</td>\n",
       "      <td>2022-06-18</td>\n",
       "      <td>2022-06</td>\n",
       "      <td>2022Y-24W</td>\n",
       "      <td>3 네이버</td>\n",
       "      <td>더그레잇티 콤부차 [ 베리리치 ] [ 300ML ] ,더그레잇티 콤부차 [ 오리지널...</td>\n",
       "      <td>3</td>\n",
       "      <td>배송 빠르네요 근데 제품 유통기한이 넘 짧아요 싼이유가 있었네요 아쉽네요</td>\n",
       "      <td>부정</td>\n",
       "      <td>83.24</td>\n",
       "    </tr>\n",
       "    <tr>\n",
       "      <th>526</th>\n",
       "      <td>geor***</td>\n",
       "      <td>2022-06-15</td>\n",
       "      <td>2022-06</td>\n",
       "      <td>2022Y-24W</td>\n",
       "      <td>3 네이버</td>\n",
       "      <td>더그레잇티 콤부차 [ 오리지널 ] [ 300ML ]</td>\n",
       "      <td>5</td>\n",
       "      <td>6개씩 포장돼있어요. 아임*라이브 제품으로 콤부차 입문했는데 기대보다 차이가 크네요...</td>\n",
       "      <td>부정</td>\n",
       "      <td>98.60</td>\n",
       "    </tr>\n",
       "    <tr>\n",
       "      <th>556</th>\n",
       "      <td>komd***</td>\n",
       "      <td>2022-06-13</td>\n",
       "      <td>2022-06</td>\n",
       "      <td>2022Y-24W</td>\n",
       "      <td>3 네이버</td>\n",
       "      <td>더그레잇티 콤부차 [ 베리리치 ] [ 300ML ]</td>\n",
       "      <td>5</td>\n",
       "      <td>탄산이 강해요 베리리치가 무슨맛인지 궁금했는데 리치맛이에요 리치맛 때문에 콤부차 특...</td>\n",
       "      <td>부정</td>\n",
       "      <td>80.09</td>\n",
       "    </tr>\n",
       "  </tbody>\n",
       "</table>\n",
       "</div>"
      ],
      "text/plain": [
       "              USER    REG_DTM   REG_DT   REG_WEEK CHANNEL  \\\n",
       "0        okmi***** 2022-06-30  2022-06  2022Y-26W   3 네이버   \n",
       "3     rlat******** 2022-06-30  2022-06  2022Y-26W   3 네이버   \n",
       "57   keun********* 2022-06-30  2022-06  2022Y-26W   3 네이버   \n",
       "73       minj***** 2022-06-30  2022-06  2022Y-26W   3 네이버   \n",
       "114         yo**** 2022-06-29  2022-06  2022Y-26W   3 네이버   \n",
       "124      cold***** 2022-06-28  2022-06  2022Y-26W   3 네이버   \n",
       "141        pigg*** 2022-06-27  2022-06  2022Y-26W   3 네이버   \n",
       "169      boan***** 2022-06-25  2022-06  2022Y-25W   3 네이버   \n",
       "205       leom**** 2022-06-24  2022-06  2022Y-25W   3 네이버   \n",
       "218     jeso****** 2022-06-23  2022-06  2022Y-25W   3 네이버   \n",
       "238    qhfm******* 2022-06-22  2022-06  2022Y-25W   3 네이버   \n",
       "297       jlov**** 2022-06-21  2022-06  2022Y-25W   3 네이버   \n",
       "309       nrbs**** 2022-06-21  2022-06  2022Y-25W   3 네이버   \n",
       "383      love***** 2022-06-20  2022-06  2022Y-25W   3 네이버   \n",
       "386         my**** 2022-06-20  2022-06  2022Y-25W   3 네이버   \n",
       "406        jmk6*** 2022-06-19  2022-06  2022Y-24W   3 네이버   \n",
       "408         kh**** 2022-06-19  2022-06  2022Y-24W   3 네이버   \n",
       "416        neoz*** 2022-06-19  2022-06  2022Y-24W   3 네이버   \n",
       "419       qdam**** 2022-06-19  2022-06  2022Y-24W   3 네이버   \n",
       "420       saem**** 2022-06-19  2022-06  2022Y-24W   3 네이버   \n",
       "435        olle*** 2022-06-18  2022-06  2022Y-24W   3 네이버   \n",
       "444   sunn******** 2022-06-18  2022-06  2022Y-24W   3 네이버   \n",
       "526        geor*** 2022-06-15  2022-06  2022Y-24W   3 네이버   \n",
       "556        komd*** 2022-06-13  2022-06  2022Y-24W   3 네이버   \n",
       "\n",
       "                                               PRODUCT  SCORE  \\\n",
       "0    더그레잇티 콤부차 [ 베리리치 ] [ 300ML ] ,더그레잇티 콤부차 [ 오리지널...      5   \n",
       "3    더그레잇티 콤부차 [ 베리리치 ] [ 300ML ] ,더그레잇티 콤부차 [ 오리지널...      5   \n",
       "57   더그레잇티 콤부차 [ 베리리치 ] [ 300ML ] ,더그레잇티 콤부차 [ 오리지널...      5   \n",
       "73   더그레잇티 콤부차 [ 베리리치 ] [ 300ML ] ,더그레잇티 콤부차 [ 오리지널...      3   \n",
       "114                      더그레잇티 콤부차 [ 오리지널 ] [ 300ML ]       5   \n",
       "124  더그레잇티 콤부차 [ 베리리치 ] [ 300ML ] ,더그레잇티 콤부차 [ 오리지널...      3   \n",
       "141                      더그레잇티 콤부차 [ 오리지널 ] [ 300ML ]       4   \n",
       "169  더그레잇티 콤부차 [ 베리리치 ] [ 300ML ] ,더그레잇티 콤부차 [ 오리지널...      5   \n",
       "205  더그레잇티 콤부차 [ 베리리치 ] [ 300ML ] ,더그레잇티 콤부차 [ 오리지널...      5   \n",
       "218  더그레잇티 콤부차 [ 베리리치 ] [ 300ML ] ,더그레잇티 콤부차 [ 오리지널...      4   \n",
       "238  더그레잇티 콤부차 [ 베리리치 ] [ 300ML ] ,더그레잇티 콤부차 [ 오리지널...      3   \n",
       "297  더그레잇티 콤부차 [ 베리리치 ] [ 300ML ] ,더그레잇티 콤부차 [ 오리지널...      2   \n",
       "309  더그레잇티 콤부차 [ 베리리치 ] [ 300ML ] ,더그레잇티 콤부차 [ 오리지널...      5   \n",
       "383  더그레잇티 콤부차 [ 베리리치 ] [ 300ML ] ,더그레잇티 콤부차 [ 오리지널...      4   \n",
       "386  더그레잇티 콤부차 [ 베리리치 ] [ 300ML ] ,더그레잇티 콤부차 [ 오리지널...      4   \n",
       "406                      더그레잇티 콤부차 [ 오리지널 ] [ 300ML ]       5   \n",
       "408                      더그레잇티 콤부차 [ 오리지널 ] [ 300ML ]       3   \n",
       "416                      더그레잇티 콤부차 [ 오리지널 ] [ 300ML ]       4   \n",
       "419                      더그레잇티 콤부차 [ 오리지널 ] [ 300ML ]       4   \n",
       "420                      더그레잇티 콤부차 [ 오리지널 ] [ 300ML ]       3   \n",
       "435  더그레잇티 콤부차 [ 베리리치 ] [ 300ML ] ,더그레잇티 콤부차 [ 오리지널...      5   \n",
       "444  더그레잇티 콤부차 [ 베리리치 ] [ 300ML ] ,더그레잇티 콤부차 [ 오리지널...      3   \n",
       "526                      더그레잇티 콤부차 [ 오리지널 ] [ 300ML ]       5   \n",
       "556                      더그레잇티 콤부차 [ 베리리치 ] [ 300ML ]       5   \n",
       "\n",
       "                                                REVIEW PREDICT  NEGATIVE_RATIO  \n",
       "0          할인기간에 잘 구입했어요.\\n맛은 그냥 먹을만하고 양은 300ml로 좀 작아요      부정           81.47  \n",
       "3    유통기한은 올해 11월 12월이에요\\n베리리치맛마셔봣는데\\n콤부차 특유의 톡쏨이 덜...      부정           93.94  \n",
       "57   맛은 그냥 데미소다 느낌이에요. 1+1이라 해서 샀는데 12개에 이가격이면 그냥 쏘...      부정           89.79  \n",
       "73   1박스에 6개씩 다른맛으로 2박스시켰는데, 한박스에 오리지널 12개, 베리리치 12...      부정           97.86  \n",
       "114  탄산감은 너무 좋고, 맛은 얼***보단 덜 새콤한것같아서 살짝 아쉽긴했지만 반대로 ...      부정           99.28  \n",
       "124                                        그럭저럭 괜찮은 정도      부정           92.63  \n",
       "141  에구6천원이나 더 주고 사서 아깝네요. ㅠ\\n라이브방송에서 싸게 사서 좋아서 더 살...      부정           99.15  \n",
       "169  박스가 찌그러져있고 쪼금만 망가졌으면 열릴것같은 상태였지만 다행히 그렇진 않았어요....      부정           87.10  \n",
       "205  생각보다 많이 시큼해요. 특히 오리지널이 그래요. 여성분들은 좋아할 것 같아요. 발...      부정           96.78  \n",
       "218                  달아요 당을 줄였음 좋겠네요\\n탄산은 약한편인데 나쁘지않아요      부정           85.98  \n",
       "238      음.... 맛...없어요 타먹는 콤부차보다 맛있을까하고 주문했지만 똑같아요 ㅋㅋㅋ      부정           86.62  \n",
       "297  저는 재구매..안합니다.\\n사실 매일이기에 기대했어요.그런데 \\n탄산도 그렇고 달기...      부정           96.40  \n",
       "309                                      시고 달고 여름음료 같음      부정           89.19  \n",
       "383                           사과식초 약하게 탄산음료랑 마시는 기분이래요      부정           94.12  \n",
       "386                                당성분 좀더 줄였으면 더좋았을거같음      부정           93.83  \n",
       "406                                    하루만에 배송와서 깜놀했네요      부정           93.72  \n",
       "408  무설탕인줄 알고샀는데 설탕이있네요ㅋㅋ 다이어트중이라 샀는데..자세히 안본 제잘못입니...      부정           80.92  \n",
       "416  입문자용 콤부차라고 생각하면 될 것 같아요.  탄산이 훨씬 강하고 매우 달아요.  ...      부정           89.51  \n",
       "419  배송 빠르고 라이브바송때 구입해 저렴히 구입했어요. 탄산많구요 달달합니다. 맛나게 ...      부정           96.57  \n",
       "420                     괜찮은데 마이구미향같은게 너무 강해서 그게단점  이네요      부정           99.47  \n",
       "435  매일유업 좋아해서 신제품 나오는 건 거의 다 사 마시고 있는데, 이번 건 조금 애매...      부정           93.45  \n",
       "444           배송 빠르네요 근데 제품 유통기한이 넘 짧아요 싼이유가 있었네요 아쉽네요      부정           83.24  \n",
       "526  6개씩 포장돼있어요. 아임*라이브 제품으로 콤부차 입문했는데 기대보다 차이가 크네요...      부정           98.60  \n",
       "556  탄산이 강해요 베리리치가 무슨맛인지 궁금했는데 리치맛이에요 리치맛 때문에 콤부차 특...      부정           80.09  "
      ]
     },
     "execution_count": 69,
     "metadata": {},
     "output_type": "execute_result"
    }
   ],
   "source": [
    "df_1[(df_1['PREDICT'] =='부정') ]"
   ]
  },
  {
   "cell_type": "code",
   "execution_count": null,
   "metadata": {},
   "outputs": [],
   "source": []
  }
 ],
 "metadata": {
  "kernelspec": {
   "display_name": "Python 3",
   "language": "python",
   "name": "python3"
  },
  "language_info": {
   "codemirror_mode": {
    "name": "ipython",
    "version": 3
   },
   "file_extension": ".py",
   "mimetype": "text/x-python",
   "name": "python",
   "nbconvert_exporter": "python",
   "pygments_lexer": "ipython3",
   "version": "3.7.6"
  }
 },
 "nbformat": 4,
 "nbformat_minor": 4
}
