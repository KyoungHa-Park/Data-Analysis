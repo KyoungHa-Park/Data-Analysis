{
 "cells": [
  {
   "cell_type": "code",
   "execution_count": null,
   "metadata": {},
   "outputs": [],
   "source": []
  },
  {
   "cell_type": "code",
   "execution_count": null,
   "metadata": {},
   "outputs": [],
   "source": [
    "# https://heegyukim.medium.com/huggingface-koelectra%EB%A1%9C-nsmc-%EA%B0%90%EC%84%B1%EB%B6%84%EB%A5%98%EB%AA%A8%EB%8D%B8%ED%95%99%EC%8A%B5%ED%95%98%EA%B8%B0-1a23a0c704af"
   ]
  },
  {
   "cell_type": "markdown",
   "metadata": {},
   "source": [
    "+ 목적 : Pre-train된 모형(transformer)을 통해, 리뷰 값을 예측 및 정확도를 평가함\n",
    "\n",
    "+ (Precision, Recall)수행모델 : 정밀도, 재현율\n",
    "  + [ ] (0.59, 0.86) koelectra-small-v3-nsmc\n",
    "  + [ ] (0.62, 0.71) bert-base-multilingual-cased-nsmc\n",
    "  + [ ] (이용  불가) klue-roberta-base-nli\n",
    "  + [ ] (이용  불가) snunlp/KR-FinBert-SC\n",
    "\n",
    "+ 이슈사항\n",
    "  + [ ] koelectra-small-v3-nsmc : 비꼬는 내용은 인지 불가\n",
    "  + [ ] bert-base-multilingual-cased-nsmc : 비꼬는 내용은 인지 불가\n",
    "  + [ ] klue-roberta-base-nli\n",
    "  "
   ]
  },
  {
   "cell_type": "code",
   "execution_count": null,
   "metadata": {},
   "outputs": [],
   "source": []
  },
  {
   "cell_type": "code",
   "execution_count": null,
   "metadata": {},
   "outputs": [],
   "source": []
  },
  {
   "cell_type": "code",
   "execution_count": 1,
   "metadata": {},
   "outputs": [
    {
     "name": "stderr",
     "output_type": "stream",
     "text": [
      "C:\\ProgramData\\Anaconda3\\lib\\site-packages\\numpy\\_distributor_init.py:32: UserWarning: loaded more than 1 DLL from .libs:\n",
      "C:\\ProgramData\\Anaconda3\\lib\\site-packages\\numpy\\.libs\\libopenblas.WCDJNK7YVMPZQ2ME2ZZHJJRJ3JIKNDB7.gfortran-win_amd64.dll\n",
      "C:\\ProgramData\\Anaconda3\\lib\\site-packages\\numpy\\.libs\\libopenblas.XWYDX2IKJW2NMTWSFYNGFUWKQU3LYTCZ.gfortran-win_amd64.dll\n",
      "  stacklevel=1)\n"
     ]
    }
   ],
   "source": [
    "import pandas as pd\n",
    "import numpy as np\n",
    "import urllib.request\n",
    "import os\n",
    "from tqdm import tqdm\n",
    "from transformers import BertTokenizer\n",
    "from sentence_transformers import SentenceTransformer"
   ]
  },
  {
   "cell_type": "code",
   "execution_count": 3,
   "metadata": {},
   "outputs": [],
   "source": [
    "# df_ = pd.read_excel('./20220620_kurly_review.xlsx', 0)\n",
    "# df_ = df_[['REVIEW', 'SCORE', ]]"
   ]
  },
  {
   "cell_type": "code",
   "execution_count": null,
   "metadata": {},
   "outputs": [],
   "source": []
  },
  {
   "cell_type": "code",
   "execution_count": 4,
   "metadata": {},
   "outputs": [],
   "source": [
    "df_maeil2 = pd.read_excel('./20220615_review_data.xlsx','Sheet1')\n",
    "df_maeil2 = df_maeil2[['REVIEW', 'SCORE', ]]"
   ]
  },
  {
   "cell_type": "code",
   "execution_count": 5,
   "metadata": {},
   "outputs": [
    {
     "name": "stderr",
     "output_type": "stream",
     "text": [
      "C:\\ProgramData\\Anaconda3\\lib\\site-packages\\ipykernel_launcher.py:3: FutureWarning: The default value of regex will change from True to False in a future version.\n",
      "  This is separate from the ipykernel package so we can avoid doing imports until\n"
     ]
    }
   ],
   "source": [
    "df = df_maeil2.copy()\n",
    "\n",
    "df['REVIEW'] = df['REVIEW'].str.replace(\"[^ㄱ-ㅎㅏ-ㅣ가-힣 ]\",\"\") # 정규 표현식 수행\n",
    "df['REVIEW'] = df['REVIEW'].replace(\"\\n\", \" \")\n",
    "\n",
    "# 긍종/부정으로 나누기\n",
    "df['label'] = np.select([df.SCORE > 3], [1], default=0)\n",
    "\n",
    "# 중복 제거\n",
    "# df['SCORE'].nunique(), df['REVIEW'].nunique(), df['label'].nunique()\n",
    "# df.drop_duplicates(subset=['REVIEW'], inplace=True)"
   ]
  },
  {
   "cell_type": "code",
   "execution_count": null,
   "metadata": {},
   "outputs": [],
   "source": []
  },
  {
   "cell_type": "code",
   "execution_count": 14,
   "metadata": {},
   "outputs": [
    {
     "data": {
      "text/plain": [
       "0    2\n",
       "1    2\n",
       "2    2\n",
       "3    2\n",
       "4    2\n",
       "5    2\n",
       "6    2\n",
       "7    2\n",
       "8    2\n",
       "9    2\n",
       "Name: SCORE, dtype: int64"
      ]
     },
     "execution_count": 14,
     "metadata": {},
     "output_type": "execute_result"
    }
   ],
   "source": [
    "df.SCORE[:10]"
   ]
  },
  {
   "cell_type": "code",
   "execution_count": null,
   "metadata": {},
   "outputs": [],
   "source": []
  },
  {
   "cell_type": "markdown",
   "metadata": {},
   "source": [
    "### 1.koelectra-small-v3-nsmc"
   ]
  },
  {
   "cell_type": "code",
   "execution_count": 6,
   "metadata": {},
   "outputs": [],
   "source": [
    "from transformers import pipeline\n",
    "classifier = pipeline( \"sentiment-analysis\", model=\"daekeun-ml/koelectra-small-v3-nsmc\" )"
   ]
  },
  {
   "cell_type": "code",
   "execution_count": 21,
   "metadata": {},
   "outputs": [
    {
     "data": {
      "text/plain": [
       "('1', 0.8639047741889954)"
      ]
     },
     "execution_count": 21,
     "metadata": {},
     "output_type": "execute_result"
    }
   ],
   "source": [
    "# test\n",
    "t1 = classifier(\"ㅜㅜ완모에서 혼합으로가려는데  즈이애가 안먹네요ㅜ\")\n",
    "list(t1[0].values())[0], list(t1[0].values())[1] "
   ]
  },
  {
   "cell_type": "code",
   "execution_count": 12,
   "metadata": {},
   "outputs": [
    {
     "data": {
      "text/plain": [
       "[{'label': '0', 'score': 0.997473418712616}]"
      ]
     },
     "execution_count": 12,
     "metadata": {},
     "output_type": "execute_result"
    }
   ],
   "source": [
    "t1"
   ]
  },
  {
   "cell_type": "code",
   "execution_count": 20,
   "metadata": {
    "scrolled": false
   },
   "outputs": [
    {
     "name": "stdout",
     "output_type": "stream",
     "text": [
      "0 0.01 흠 그다지 좋지는 않네요 애매모호\n",
      "0 0.03 ㅜㅜ 아이가안먹네요\n",
      "0 0.03 ㅜㅜ 좁쌀두드레기 약하게올라와서 밥먹이는거 중단하고 우유만먹였는데 늘먹던거라 리뉴얼되었다고 이럴줄은 생각도 못해서ㅜㅜ 완전 두드레기 엄청올라오고 병원가서 알레르기검사한다고 피까지 뽑았네요 하맛  단 편이에요용해  보통이에요\n",
      "0 0.07 ㅜㅜ맘큐 좋아서 제휴업체꺼도 구입했는데 맘큐 제품만 좋은가바여 전 사진에 나와있는 길쭉한 팩으로 시켰는데 더 저렴한 사각팩으로 보내어요 인터넷에찾아봐도 가격다르고 여기서도 분명 가격 달랐는데 제휴업체는 같다고 계속 말하니 제휴업체 말로는 이게 리뉴얼돼서 없어다는데 재구매는 안하려고 알겟어요 하고 대답하고 걍 먹여요 그 이후에 마켓컬리에서 팔길래 산 길쭉한 팩은 유통기한도 더 길어요뭔가 이상 맘큐 개선 부탁드려요 애정하는 몰인데ㅜㅜㅜㅜㅜㅜ\n",
      "0 0.01 ㅜㅜ맛이별론가봐요 방송보고 추천해서샀는데 아이가안먹어요 두박스나샀는데ㅜㅜ\n",
      "0 0.06 ㅜㅜ아이가안먹어요 제가먹어야겠네요\n",
      "1 4.32 ㅜㅜ완모에서 혼합으로가려는데  즈이애가 안먹네요ㅜ\n",
      "1 4.96 ㅠㅠ 너무 달아요 건강 챙기려고 주문했는데 당뇨병 걸릴거같아요 너뮤 달아\n",
      "0 0.01 ㅠㅠ 살때는 유통기한 안써있었는데ㅠㅠ 뭔가 사기당한기분ㅠㅠ 큰사이즈랑 두개 구매했는데 이거 먼저 하루에 두개씩 먹여야겠어요 항상 구매하는데 이번에는 좀 실망입니다\n",
      "0 0.01 ㅠㅠ 안먹어요 한입먹어보더니 보기만해도 싫더네요 우쉬워요   ㅠㅠ\n"
     ]
    }
   ],
   "source": [
    "# test2\n",
    "text = list(df.REVIEW.tail(10))\n",
    "score_list = []\n",
    "\n",
    "for i in range(len(text)):\n",
    "    try:\n",
    "        t1 = classifier(text[i])\n",
    "        gubun, score = list(t1[0].values())[0], list(t1[0].values())[1] \n",
    "        if gubun == '0':\n",
    "            print(gubun, round((1-score)*5, 2), text[i])\n",
    "        elif gubun == '1':\n",
    "            print(gubun, round((score)*5, 2), text[i])\n",
    "        else:\n",
    "            print(gubun, round(score*5, 2), text[i])\n",
    "    except:\n",
    "        pass"
   ]
  },
  {
   "cell_type": "code",
   "execution_count": null,
   "metadata": {},
   "outputs": [],
   "source": []
  },
  {
   "cell_type": "code",
   "execution_count": 95,
   "metadata": {
    "scrolled": true
   },
   "outputs": [
    {
     "name": "stderr",
     "output_type": "stream",
     "text": [
      "100%|████████████████████████████████████████████████████████████████████████████| 14623/14623 [08:30<00:00, 28.63it/s]\n"
     ]
    }
   ],
   "source": [
    "text = list(df.REVIEW)\n",
    "score_list = []\n",
    "\n",
    "for i in tqdm(range(len(text))):\n",
    "    try:\n",
    "        t1 = classifier(text[i])\n",
    "        gubun, score = list(t1[0].values())[0], list(t1[0].values())[1] \n",
    "        if gubun == '0':\n",
    "            score_list.append(1-score) \n",
    "        else:\n",
    "            score_list.append(score)\n",
    "    except:\n",
    "        score_list.append(0)"
   ]
  },
  {
   "cell_type": "code",
   "execution_count": 96,
   "metadata": {},
   "outputs": [],
   "source": [
    "df1 = df.copy()\n",
    "df1['label_model'] = score_list\n",
    "df1['label_model'] = round(df1['label_model']*5,0)"
   ]
  },
  {
   "cell_type": "code",
   "execution_count": 97,
   "metadata": {},
   "outputs": [],
   "source": [
    "# Excel 저장\n",
    "# date2 = datetime.today().strftime('%Y%m%d')\n",
    "# excel_name = '_review_data2.xlsx'\n",
    "# df1.to_excel(excel_name, sheet_name= 'Sheet1' )"
   ]
  },
  {
   "cell_type": "code",
   "execution_count": 99,
   "metadata": {},
   "outputs": [],
   "source": [
    "df1 = df.copy()\n",
    "\n",
    "df1['SCORE_model'] = score_list\n",
    "df1['SCORE_model'] = round(df1['SCORE_model']*5,0)\n",
    "\n",
    "df1['label_model'] = np.select([df1.SCORE_model > 3], [1], default=0)\n",
    "\n",
    "TN = df1.groupby(['label','label_model'])['SCORE'].count().reset_index()[0:1]['SCORE'].values\n",
    "FP = df1.groupby(['label','label_model'])['SCORE'].count().reset_index()[1:2]['SCORE'].values\n",
    "FN = df1.groupby(['label','label_model'])['SCORE'].count().reset_index()[2:3]['SCORE'].values\n",
    "TP = df1.groupby(['label','label_model'])['SCORE'].count().reset_index()[3:4]['SCORE'].values\n",
    "\n",
    "model1_precision = TP/(TP+FP)\n",
    "model1_recall    = TP/(TP+FN)"
   ]
  },
  {
   "cell_type": "code",
   "execution_count": 104,
   "metadata": {},
   "outputs": [
    {
     "name": "stdout",
     "output_type": "stream",
     "text": [
      "< 긍정/부정 분류에 대한 결과 비교 >\n",
      "precision : 0.59278\n",
      "recall    : 0.86783\n"
     ]
    }
   ],
   "source": [
    "print('< 긍정/부정 분류에 대한 결과 비교 >')\n",
    "print('precision : {}'.format(round(model1_precision[0],5)))\n",
    "print('recall    : {}'.format(round(model1_recall[0],5)))"
   ]
  },
  {
   "cell_type": "code",
   "execution_count": null,
   "metadata": {},
   "outputs": [],
   "source": []
  },
  {
   "cell_type": "code",
   "execution_count": null,
   "metadata": {},
   "outputs": [],
   "source": []
  },
  {
   "cell_type": "code",
   "execution_count": null,
   "metadata": {},
   "outputs": [],
   "source": []
  },
  {
   "cell_type": "markdown",
   "metadata": {},
   "source": [
    "### 2. sangrimlee/bert-base-multilingual-cased-nsmc"
   ]
  },
  {
   "cell_type": "code",
   "execution_count": 134,
   "metadata": {},
   "outputs": [
    {
     "data": {
      "text/html": [
       "<div>\n",
       "<style scoped>\n",
       "    .dataframe tbody tr th:only-of-type {\n",
       "        vertical-align: middle;\n",
       "    }\n",
       "\n",
       "    .dataframe tbody tr th {\n",
       "        vertical-align: top;\n",
       "    }\n",
       "\n",
       "    .dataframe thead th {\n",
       "        text-align: right;\n",
       "    }\n",
       "</style>\n",
       "<table border=\"1\" class=\"dataframe\">\n",
       "  <thead>\n",
       "    <tr style=\"text-align: right;\">\n",
       "      <th></th>\n",
       "      <th>REVIEW</th>\n",
       "      <th>SCORE</th>\n",
       "    </tr>\n",
       "  </thead>\n",
       "  <tbody>\n",
       "    <tr>\n",
       "      <th>0</th>\n",
       "      <td>아기가잘먹아주네요~~~</td>\n",
       "      <td>NaN</td>\n",
       "    </tr>\n",
       "    <tr>\n",
       "      <th>1</th>\n",
       "      <td>처음에는 못먹더니 이제 적응했는지 잘먹네오</td>\n",
       "      <td>NaN</td>\n",
       "    </tr>\n",
       "    <tr>\n",
       "      <th>2</th>\n",
       "      <td>아기용으로 자주사요</td>\n",
       "      <td>NaN</td>\n",
       "    </tr>\n",
       "    <tr>\n",
       "      <th>3</th>\n",
       "      <td>자주 사 먹이는데 아기가 좋아해요</td>\n",
       "      <td>NaN</td>\n",
       "    </tr>\n",
       "    <tr>\n",
       "      <th>4</th>\n",
       "      <td>집에 떨어지지않게 늘 재구매</td>\n",
       "      <td>NaN</td>\n",
       "    </tr>\n",
       "    <tr>\n",
       "      <th>...</th>\n",
       "      <td>...</td>\n",
       "      <td>...</td>\n",
       "    </tr>\n",
       "    <tr>\n",
       "      <th>245</th>\n",
       "      <td>차스타 소스 굿이에요.</td>\n",
       "      <td>NaN</td>\n",
       "    </tr>\n",
       "    <tr>\n",
       "      <th>246</th>\n",
       "      <td>상하키친~ 파스타만 삶아서 소스 부어주고 편해요</td>\n",
       "      <td>NaN</td>\n",
       "    </tr>\n",
       "    <tr>\n",
       "      <th>247</th>\n",
       "      <td>아기가 잘 먹어주면 좋겠어요</td>\n",
       "      <td>NaN</td>\n",
       "    </tr>\n",
       "    <tr>\n",
       "      <th>248</th>\n",
       "      <td>맛도 궁금하고 먹여보고 싶어서 구매</td>\n",
       "      <td>NaN</td>\n",
       "    </tr>\n",
       "    <tr>\n",
       "      <th>249</th>\n",
       "      <td>만들어보기전에 참고할겸 샀습니다</td>\n",
       "      <td>NaN</td>\n",
       "    </tr>\n",
       "  </tbody>\n",
       "</table>\n",
       "<p>250 rows × 2 columns</p>\n",
       "</div>"
      ],
      "text/plain": [
       "                         REVIEW  SCORE\n",
       "0                  아기가잘먹아주네요~~~    NaN\n",
       "1       처음에는 못먹더니 이제 적응했는지 잘먹네오    NaN\n",
       "2                    아기용으로 자주사요    NaN\n",
       "3            자주 사 먹이는데 아기가 좋아해요    NaN\n",
       "4               집에 떨어지지않게 늘 재구매    NaN\n",
       "..                          ...    ...\n",
       "245                차스타 소스 굿이에요.    NaN\n",
       "246  상하키친~ 파스타만 삶아서 소스 부어주고 편해요    NaN\n",
       "247             아기가 잘 먹어주면 좋겠어요    NaN\n",
       "248         맛도 궁금하고 먹여보고 싶어서 구매    NaN\n",
       "249           만들어보기전에 참고할겸 샀습니다    NaN\n",
       "\n",
       "[250 rows x 2 columns]"
      ]
     },
     "execution_count": 134,
     "metadata": {},
     "output_type": "execute_result"
    }
   ],
   "source": [
    "df_"
   ]
  },
  {
   "cell_type": "code",
   "execution_count": 13,
   "metadata": {},
   "outputs": [],
   "source": [
    "from transformers import pipeline\n",
    "classifier = pipeline(\"sentiment-analysis\", model=\"sangrimlee/bert-base-multilingual-cased-nsmc\")"
   ]
  },
  {
   "cell_type": "code",
   "execution_count": 140,
   "metadata": {},
   "outputs": [
    {
     "data": {
      "text/plain": [
       "('Default', 0.8754841685295105)"
      ]
     },
     "execution_count": 140,
     "metadata": {},
     "output_type": "execute_result"
    }
   ],
   "source": [
    "# test1\n",
    "t1 = classifier(\"옆에 틈이 벌어졌어요 다 샜어요 어떡하나요?\")\n",
    "list(t1[0].values())[0], (list(t1[0].values())[1] )"
   ]
  },
  {
   "cell_type": "code",
   "execution_count": 135,
   "metadata": {},
   "outputs": [
    {
     "name": "stdout",
     "output_type": "stream",
     "text": [
      "Default 5.0 제일 잘 먹는 카레라 자주 시켜요\n",
      "Default 4.0 상하키친 포크 카레 맛있어요\n",
      "Default 5.0 맛있고 건강한 재료로 만들어서 자주 사먹으려구요\n",
      "Default 5.0 뻑뻑해서 우유넣고. . 치즈넣고. . \n",
      "식구들은 잘먹었지만 저하고는 안맞았어요. .\n",
      "사진은 다른 제품입니다;;\n",
      "Default 5.0 맛있는데 좀 가격이 있는 편인듯\n",
      "재구매 고민좀\n",
      "Default 5.0 차스타 소스 굿이에요.\n",
      "Default 5.0 상하키친~ 파스타만 삶아서 소스 부어주고 편해요\n",
      "Default 5.0 아기가 잘 먹어주면 좋겠어요\n",
      "Default 5.0 맛도 궁금하고 먹여보고 싶어서 구매\n",
      "Default 5.0 만들어보기전에 참고할겸 샀습니다\n"
     ]
    }
   ],
   "source": [
    "# test2\n",
    "text = list(df_.REVIEW.tail(10))\n",
    "score_list = []\n",
    "\n",
    "for i in range(len(text)):\n",
    "    try:\n",
    "        t1 = classifier(text[i])\n",
    "        gubun, score = list(t1[0].values())[0], list(t1[0].values())[1] \n",
    "        if gubun == 'negative':\n",
    "            print(gubun, round((1-score)*5, 0), text[i])\n",
    "        else:\n",
    "            print(gubun, round(score*5, 0), text[i])\n",
    "    except:\n",
    "        pass"
   ]
  },
  {
   "cell_type": "code",
   "execution_count": 18,
   "metadata": {},
   "outputs": [
    {
     "name": "stderr",
     "output_type": "stream",
     "text": [
      "  7%|█████▌                                                                       | 1066/14623 [01:53<28:22,  7.96it/s]Token indices sequence length is longer than the specified maximum sequence length for this model (519 > 512). Running this sequence through the model will result in indexing errors\n",
      "100%|████████████████████████████████████████████████████████████████████████████| 14623/14623 [23:34<00:00, 10.34it/s]\n"
     ]
    }
   ],
   "source": [
    "text = list(df.REVIEW)\n",
    "score_list = []\n",
    "\n",
    "for i in tqdm(range(len(text))):\n",
    "    try:\n",
    "        t1 = classifier(text[i])\n",
    "        gubun, score = list(t1[0].values())[0], list(t1[0].values())[1] \n",
    "        if gubun == 'negative':\n",
    "            score_list.append(1-score) \n",
    "        else:\n",
    "            score_list.append(score)\n",
    "    except:\n",
    "        score_list.append(0)"
   ]
  },
  {
   "cell_type": "code",
   "execution_count": 24,
   "metadata": {},
   "outputs": [],
   "source": [
    "df2['SCORE_model'] = score_list\n",
    "df2['SCORE_model'] = round(df2['SCORE_model']*5,0)\n",
    "\n",
    "df2['label_model'] = np.select([df2.SCORE_model > 3], [1], default=0)\n",
    "\n",
    "TN = df2.groupby(['label','label_model'])['SCORE'].count().reset_index()[0:1]['SCORE'].values\n",
    "FP = df2.groupby(['label','label_model'])['SCORE'].count().reset_index()[1:2]['SCORE'].values\n",
    "FN = df2.groupby(['label','label_model'])['SCORE'].count().reset_index()[2:3]['SCORE'].values\n",
    "TP = df2.groupby(['label','label_model'])['SCORE'].count().reset_index()[3:4]['SCORE'].values\n",
    "\n",
    "model2_precision = TP/(TP+FP)\n",
    "model2_recall    = TP/(TP+FN)"
   ]
  },
  {
   "cell_type": "code",
   "execution_count": 71,
   "metadata": {},
   "outputs": [
    {
     "name": "stdout",
     "output_type": "stream",
     "text": [
      "긍정/부정 분류에 대한 결과 비교\n",
      "precision : 0.61859\n",
      "recall    : 0.71333\n"
     ]
    }
   ],
   "source": [
    "print('< 긍정/부정 분류에 대한 결과 비교 >')\n",
    "print('precision : {}'.format(round(model2_precision[0],5)))\n",
    "print('recall    : {}'.format(round(model2_recall[0],5)))"
   ]
  },
  {
   "cell_type": "code",
   "execution_count": 70,
   "metadata": {},
   "outputs": [],
   "source": [
    "# Excel 저장\n",
    "# date2 = datetime.today().strftime('%Y%m%d')\n",
    "# excel_name = '_review_data3.xlsx'\n",
    "# df.to_excel(excel_name, sheet_name= 'Sheet1' )"
   ]
  },
  {
   "cell_type": "code",
   "execution_count": null,
   "metadata": {},
   "outputs": [],
   "source": []
  },
  {
   "cell_type": "code",
   "execution_count": null,
   "metadata": {},
   "outputs": [],
   "source": []
  },
  {
   "cell_type": "code",
   "execution_count": null,
   "metadata": {},
   "outputs": [],
   "source": []
  },
  {
   "cell_type": "code",
   "execution_count": 106,
   "metadata": {},
   "outputs": [
    {
     "data": {
      "application/vnd.jupyter.widget-view+json": {
       "model_id": "1ca2d3a79e554f789482f60c8eabb7f0",
       "version_major": 2,
       "version_minor": 0
      },
      "text/plain": [
       "Downloading:   0%|          | 0.00/926 [00:00<?, ?B/s]"
      ]
     },
     "metadata": {},
     "output_type": "display_data"
    },
    {
     "data": {
      "application/vnd.jupyter.widget-view+json": {
       "model_id": "1b3d3c15de6340a289420cda57e35789",
       "version_major": 2,
       "version_minor": 0
      },
      "text/plain": [
       "Downloading:   0%|          | 0.00/422M [00:00<?, ?B/s]"
      ]
     },
     "metadata": {},
     "output_type": "display_data"
    },
    {
     "data": {
      "application/vnd.jupyter.widget-view+json": {
       "model_id": "c6821519ab5441ceab15bf254d8d0f2f",
       "version_major": 2,
       "version_minor": 0
      },
      "text/plain": [
       "Downloading:   0%|          | 0.00/499 [00:00<?, ?B/s]"
      ]
     },
     "metadata": {},
     "output_type": "display_data"
    },
    {
     "data": {
      "application/vnd.jupyter.widget-view+json": {
       "model_id": "ebcb58e996144abe885cad3c52050298",
       "version_major": 2,
       "version_minor": 0
      },
      "text/plain": [
       "Downloading:   0%|          | 0.00/243k [00:00<?, ?B/s]"
      ]
     },
     "metadata": {},
     "output_type": "display_data"
    },
    {
     "data": {
      "application/vnd.jupyter.widget-view+json": {
       "model_id": "e2b6464a7b2542a99cae007d1c7cbb22",
       "version_major": 2,
       "version_minor": 0
      },
      "text/plain": [
       "Downloading:   0%|          | 0.00/483k [00:00<?, ?B/s]"
      ]
     },
     "metadata": {},
     "output_type": "display_data"
    },
    {
     "data": {
      "application/vnd.jupyter.widget-view+json": {
       "model_id": "3d81462cced04cb3b1cfc6483521d8a4",
       "version_major": 2,
       "version_minor": 0
      },
      "text/plain": [
       "Downloading:   0%|          | 0.00/112 [00:00<?, ?B/s]"
      ]
     },
     "metadata": {},
     "output_type": "display_data"
    }
   ],
   "source": [
    "model_nm =\"Huffon/klue-roberta-base-nli\"\n",
    "classifier = pipeline(\"sentiment-analysis\", model=model_nm)"
   ]
  },
  {
   "cell_type": "code",
   "execution_count": 110,
   "metadata": {},
   "outputs": [
    {
     "data": {
      "text/plain": [
       "('ENTAILMENT', 0.9895753860473633)"
      ]
     },
     "execution_count": 110,
     "metadata": {},
     "output_type": "execute_result"
    }
   ],
   "source": [
    "# test1\n",
    "t1 = classifier(\"흠 그다지 좋지는 않네요 애매모호\")\n",
    "list(t1[0].values())[0], list(t1[0].values())[1] "
   ]
  },
  {
   "cell_type": "code",
   "execution_count": 109,
   "metadata": {},
   "outputs": [
    {
     "data": {
      "text/plain": [
       "[{'label': 'NEUTRAL', 'score': 0.9959205389022827}]"
      ]
     },
     "execution_count": 109,
     "metadata": {},
     "output_type": "execute_result"
    }
   ],
   "source": [
    "t1"
   ]
  },
  {
   "cell_type": "code",
   "execution_count": 111,
   "metadata": {},
   "outputs": [
    {
     "name": "stdout",
     "output_type": "stream",
     "text": [
      "ENTAILMENT 5.0 흠 그다지 좋지는 않네요 애매모호\n",
      "NEUTRAL 4.0 ㅜㅜ 아이가안먹네요\n",
      "NEUTRAL 5.0 ㅜㅜ 좁쌀두드레기 약하게올라와서 밥먹이는거 중단하고 우유만먹였는데 늘먹던거라 리뉴얼되었다고 이럴줄은 생각도 못해서ㅜㅜ 완전 두드레기 엄청올라오고 병원가서 알레르기검사한다고 피까지 뽑았네요 하맛  단 편이에요용해  보통이에요\n",
      "NEUTRAL 5.0 ㅜㅜ맘큐 좋아서 제휴업체꺼도 구입했는데 맘큐 제품만 좋은가바여 전 사진에 나와있는 길쭉한 팩으로 시켰는데 더 저렴한 사각팩으로 보내어요 인터넷에찾아봐도 가격다르고 여기서도 분명 가격 달랐는데 제휴업체는 같다고 계속 말하니 제휴업체 말로는 이게 리뉴얼돼서 없어다는데 재구매는 안하려고 알겟어요 하고 대답하고 걍 먹여요 그 이후에 마켓컬리에서 팔길래 산 길쭉한 팩은 유통기한도 더 길어요뭔가 이상 맘큐 개선 부탁드려요 애정하는 몰인데ㅜㅜㅜㅜㅜㅜ\n",
      "NEUTRAL 5.0 ㅜㅜ맛이별론가봐요 방송보고 추천해서샀는데 아이가안먹어요 두박스나샀는데ㅜㅜ\n",
      "NEUTRAL 5.0 ㅜㅜ아이가안먹어요 제가먹어야겠네요\n",
      "NEUTRAL 5.0 ㅜㅜ완모에서 혼합으로가려는데  즈이애가 안먹네요ㅜ\n",
      "NEUTRAL 3.0 ㅠㅠ 너무 달아요 건강 챙기려고 주문했는데 당뇨병 걸릴거같아요 너뮤 달아\n",
      "NEUTRAL 5.0 ㅠㅠ 살때는 유통기한 안써있었는데ㅠㅠ 뭔가 사기당한기분ㅠㅠ 큰사이즈랑 두개 구매했는데 이거 먼저 하루에 두개씩 먹여야겠어요 항상 구매하는데 이번에는 좀 실망입니다\n",
      "CONTRADICTION 5.0 ㅠㅠ 안먹어요 한입먹어보더니 보기만해도 싫더네요 우쉬워요   ㅠㅠ\n"
     ]
    }
   ],
   "source": [
    "# test2\n",
    "text = list(df.REVIEW.tail(10))\n",
    "score_list = []\n",
    "\n",
    "for i in range(len(text)):\n",
    "    try:\n",
    "        t1 = classifier(text[i])\n",
    "        gubun, score = list(t1[0].values())[0], list(t1[0].values())[1] \n",
    "        if gubun == 'negative':\n",
    "            print(gubun, round((1-score)*5, 0), text[i])\n",
    "        else:\n",
    "            print(gubun, round(score*5, 0), text[i])\n",
    "    except:\n",
    "        pass"
   ]
  },
  {
   "cell_type": "code",
   "execution_count": null,
   "metadata": {},
   "outputs": [],
   "source": []
  },
  {
   "cell_type": "code",
   "execution_count": null,
   "metadata": {},
   "outputs": [],
   "source": []
  },
  {
   "cell_type": "code",
   "execution_count": null,
   "metadata": {},
   "outputs": [],
   "source": []
  },
  {
   "cell_type": "code",
   "execution_count": 112,
   "metadata": {},
   "outputs": [],
   "source": [
    "model_nm =\"snunlp/KR-FinBert-SC\"\n",
    "classifier = pipeline(\"sentiment-analysis\", model=model_nm)"
   ]
  },
  {
   "cell_type": "code",
   "execution_count": 113,
   "metadata": {},
   "outputs": [
    {
     "data": {
      "text/plain": [
       "('neutral', 0.8784013390541077)"
      ]
     },
     "execution_count": 113,
     "metadata": {},
     "output_type": "execute_result"
    }
   ],
   "source": [
    "# test1\n",
    "t1 = classifier(\"흠 그다지 좋지는 않네요 애매모호\")\n",
    "list(t1[0].values())[0], list(t1[0].values())[1] "
   ]
  },
  {
   "cell_type": "code",
   "execution_count": 115,
   "metadata": {},
   "outputs": [
    {
     "name": "stdout",
     "output_type": "stream",
     "text": [
      "neutral 4.0 흠 그다지 좋지는 않네요 애매모호\n",
      "neutral 5.0 ㅜㅜ 아이가안먹네요\n",
      "neutral 5.0 ㅜㅜ 좁쌀두드레기 약하게올라와서 밥먹이는거 중단하고 우유만먹였는데 늘먹던거라 리뉴얼되었다고 이럴줄은 생각도 못해서ㅜㅜ 완전 두드레기 엄청올라오고 병원가서 알레르기검사한다고 피까지 뽑았네요 하맛  단 편이에요용해  보통이에요\n",
      "neutral 5.0 ㅜㅜ맘큐 좋아서 제휴업체꺼도 구입했는데 맘큐 제품만 좋은가바여 전 사진에 나와있는 길쭉한 팩으로 시켰는데 더 저렴한 사각팩으로 보내어요 인터넷에찾아봐도 가격다르고 여기서도 분명 가격 달랐는데 제휴업체는 같다고 계속 말하니 제휴업체 말로는 이게 리뉴얼돼서 없어다는데 재구매는 안하려고 알겟어요 하고 대답하고 걍 먹여요 그 이후에 마켓컬리에서 팔길래 산 길쭉한 팩은 유통기한도 더 길어요뭔가 이상 맘큐 개선 부탁드려요 애정하는 몰인데ㅜㅜㅜㅜㅜㅜ\n",
      "neutral 5.0 ㅜㅜ맛이별론가봐요 방송보고 추천해서샀는데 아이가안먹어요 두박스나샀는데ㅜㅜ\n",
      "neutral 5.0 ㅜㅜ아이가안먹어요 제가먹어야겠네요\n",
      "neutral 5.0 ㅜㅜ완모에서 혼합으로가려는데  즈이애가 안먹네요ㅜ\n",
      "neutral 5.0 ㅠㅠ 너무 달아요 건강 챙기려고 주문했는데 당뇨병 걸릴거같아요 너뮤 달아\n",
      "neutral 5.0 ㅠㅠ 살때는 유통기한 안써있었는데ㅠㅠ 뭔가 사기당한기분ㅠㅠ 큰사이즈랑 두개 구매했는데 이거 먼저 하루에 두개씩 먹여야겠어요 항상 구매하는데 이번에는 좀 실망입니다\n",
      "neutral 5.0 ㅠㅠ 안먹어요 한입먹어보더니 보기만해도 싫더네요 우쉬워요   ㅠㅠ\n"
     ]
    }
   ],
   "source": [
    "# test2\n",
    "text = list(df.REVIEW.tail(10))\n",
    "score_list = []\n",
    "\n",
    "for i in range(len(text)):\n",
    "    try:\n",
    "        t1 = classifier(text[i])\n",
    "        gubun, score = list(t1[0].values())[0], list(t1[0].values())[1] \n",
    "        if gubun == 'negative':\n",
    "            print(gubun, round((1-score)*5, 0), text[i])\n",
    "        else:\n",
    "            print(gubun, round(score*5, 0), text[i])\n",
    "    except:\n",
    "        pass"
   ]
  },
  {
   "cell_type": "code",
   "execution_count": null,
   "metadata": {},
   "outputs": [],
   "source": []
  },
  {
   "cell_type": "code",
   "execution_count": null,
   "metadata": {},
   "outputs": [],
   "source": []
  },
  {
   "cell_type": "code",
   "execution_count": 116,
   "metadata": {},
   "outputs": [
    {
     "data": {
      "application/vnd.jupyter.widget-view+json": {
       "model_id": "a86040743c2a46aea00909d429fa8b7e",
       "version_major": 2,
       "version_minor": 0
      },
      "text/plain": [
       "Downloading:   0%|          | 0.00/934 [00:00<?, ?B/s]"
      ]
     },
     "metadata": {},
     "output_type": "display_data"
    },
    {
     "data": {
      "application/vnd.jupyter.widget-view+json": {
       "model_id": "910579d3cb264c67affcc73955073807",
       "version_major": 2,
       "version_minor": 0
      },
      "text/plain": [
       "Downloading:   0%|          | 0.00/1.04G [00:00<?, ?B/s]"
      ]
     },
     "metadata": {},
     "output_type": "display_data"
    },
    {
     "data": {
      "application/vnd.jupyter.widget-view+json": {
       "model_id": "266852bd16754ae99d714b16a3cce418",
       "version_major": 2,
       "version_minor": 0
      },
      "text/plain": [
       "Downloading:   0%|          | 0.00/398 [00:00<?, ?B/s]"
      ]
     },
     "metadata": {},
     "output_type": "display_data"
    },
    {
     "data": {
      "application/vnd.jupyter.widget-view+json": {
       "model_id": "2619b7ec9a9f4091aebef4863cd6b7e3",
       "version_major": 2,
       "version_minor": 0
      },
      "text/plain": [
       "Downloading:   0%|          | 0.00/4.83M [00:00<?, ?B/s]"
      ]
     },
     "metadata": {},
     "output_type": "display_data"
    },
    {
     "data": {
      "application/vnd.jupyter.widget-view+json": {
       "model_id": "69e8e2aaa0b5465fbf7b79ddbb8ff8a7",
       "version_major": 2,
       "version_minor": 0
      },
      "text/plain": [
       "Downloading:   0%|          | 0.00/8.66M [00:00<?, ?B/s]"
      ]
     },
     "metadata": {},
     "output_type": "display_data"
    },
    {
     "data": {
      "application/vnd.jupyter.widget-view+json": {
       "model_id": "3c64d9c072fe4b6087b4a58cd6b39dd2",
       "version_major": 2,
       "version_minor": 0
      },
      "text/plain": [
       "Downloading:   0%|          | 0.00/239 [00:00<?, ?B/s]"
      ]
     },
     "metadata": {},
     "output_type": "display_data"
    }
   ],
   "source": [
    "model_nm = \"saattrupdan/verdict-classifier\"\n",
    "classifier = pipeline(\"sentiment-analysis\", model=model_nm)"
   ]
  },
  {
   "cell_type": "code",
   "execution_count": 117,
   "metadata": {},
   "outputs": [
    {
     "data": {
      "text/plain": [
       "('misinformation', 0.9964070916175842)"
      ]
     },
     "execution_count": 117,
     "metadata": {},
     "output_type": "execute_result"
    }
   ],
   "source": [
    "# test1\n",
    "t1 = classifier(\"흠 그다지 좋지는 않네요 애매모호\")\n",
    "list(t1[0].values())[0], list(t1[0].values())[1] "
   ]
  },
  {
   "cell_type": "code",
   "execution_count": 119,
   "metadata": {},
   "outputs": [
    {
     "name": "stdout",
     "output_type": "stream",
     "text": [
      "misinformation 0.0 흠 그다지 좋지는 않네요 애매모호\n",
      "misinformation 0.0 ㅜㅜ 아이가안먹네요\n",
      "other 5.0 ㅜㅜ 좁쌀두드레기 약하게올라와서 밥먹이는거 중단하고 우유만먹였는데 늘먹던거라 리뉴얼되었다고 이럴줄은 생각도 못해서ㅜㅜ 완전 두드레기 엄청올라오고 병원가서 알레르기검사한다고 피까지 뽑았네요 하맛  단 편이에요용해  보통이에요\n",
      "other 5.0 ㅜㅜ맘큐 좋아서 제휴업체꺼도 구입했는데 맘큐 제품만 좋은가바여 전 사진에 나와있는 길쭉한 팩으로 시켰는데 더 저렴한 사각팩으로 보내어요 인터넷에찾아봐도 가격다르고 여기서도 분명 가격 달랐는데 제휴업체는 같다고 계속 말하니 제휴업체 말로는 이게 리뉴얼돼서 없어다는데 재구매는 안하려고 알겟어요 하고 대답하고 걍 먹여요 그 이후에 마켓컬리에서 팔길래 산 길쭉한 팩은 유통기한도 더 길어요뭔가 이상 맘큐 개선 부탁드려요 애정하는 몰인데ㅜㅜㅜㅜㅜㅜ\n",
      "other 5.0 ㅜㅜ맛이별론가봐요 방송보고 추천해서샀는데 아이가안먹어요 두박스나샀는데ㅜㅜ\n",
      "misinformation 0.0 ㅜㅜ아이가안먹어요 제가먹어야겠네요\n",
      "misinformation 0.0 ㅜㅜ완모에서 혼합으로가려는데  즈이애가 안먹네요ㅜ\n",
      "misinformation 0.0 ㅠㅠ 너무 달아요 건강 챙기려고 주문했는데 당뇨병 걸릴거같아요 너뮤 달아\n",
      "other 5.0 ㅠㅠ 살때는 유통기한 안써있었는데ㅠㅠ 뭔가 사기당한기분ㅠㅠ 큰사이즈랑 두개 구매했는데 이거 먼저 하루에 두개씩 먹여야겠어요 항상 구매하는데 이번에는 좀 실망입니다\n",
      "other 5.0 ㅠㅠ 안먹어요 한입먹어보더니 보기만해도 싫더네요 우쉬워요   ㅠㅠ\n"
     ]
    }
   ],
   "source": [
    "# test2\n",
    "text = list(df.REVIEW.tail(10))\n",
    "score_list = []\n",
    "\n",
    "for i in range(len(text)):\n",
    "    try:\n",
    "        t1 = classifier(text[i])\n",
    "        gubun, score = list(t1[0].values())[0], list(t1[0].values())[1] \n",
    "        if gubun == 'misinformation':\n",
    "            print(gubun, round((1-score)*5, 0), text[i])\n",
    "        else:\n",
    "            print(gubun, round(score*5, 0), text[i])\n",
    "    except:\n",
    "        pass"
   ]
  },
  {
   "cell_type": "code",
   "execution_count": null,
   "metadata": {},
   "outputs": [],
   "source": []
  },
  {
   "cell_type": "code",
   "execution_count": 120,
   "metadata": {},
   "outputs": [
    {
     "data": {
      "application/vnd.jupyter.widget-view+json": {
       "model_id": "aa36e4312ebe4ddab25282549a6208dd",
       "version_major": 2,
       "version_minor": 0
      },
      "text/plain": [
       "Downloading:   0%|          | 0.00/715 [00:00<?, ?B/s]"
      ]
     },
     "metadata": {},
     "output_type": "display_data"
    },
    {
     "data": {
      "application/vnd.jupyter.widget-view+json": {
       "model_id": "b8788dde844f4223b763c248e97d4f90",
       "version_major": 2,
       "version_minor": 0
      },
      "text/plain": [
       "Downloading:   0%|          | 0.00/375M [00:00<?, ?B/s]"
      ]
     },
     "metadata": {},
     "output_type": "display_data"
    },
    {
     "data": {
      "application/vnd.jupyter.widget-view+json": {
       "model_id": "59257a67cb7d4f228a69d67b95f7b685",
       "version_major": 2,
       "version_minor": 0
      },
      "text/plain": [
       "Downloading:   0%|          | 0.00/78.0 [00:00<?, ?B/s]"
      ]
     },
     "metadata": {},
     "output_type": "display_data"
    },
    {
     "data": {
      "application/vnd.jupyter.widget-view+json": {
       "model_id": "b9c3fb543dad4f3a886eb3f94228b8b3",
       "version_major": 2,
       "version_minor": 0
      },
      "text/plain": [
       "Downloading:   0%|          | 0.00/339k [00:00<?, ?B/s]"
      ]
     },
     "metadata": {},
     "output_type": "display_data"
    },
    {
     "data": {
      "application/vnd.jupyter.widget-view+json": {
       "model_id": "a7f48913c5664dc3b64e193961189bc7",
       "version_major": 2,
       "version_minor": 0
      },
      "text/plain": [
       "Downloading:   0%|          | 0.00/239k [00:00<?, ?B/s]"
      ]
     },
     "metadata": {},
     "output_type": "display_data"
    },
    {
     "data": {
      "application/vnd.jupyter.widget-view+json": {
       "model_id": "f4f550e4f0a041888e55c82a398f7ee8",
       "version_major": 2,
       "version_minor": 0
      },
      "text/plain": [
       "Downloading:   0%|          | 0.00/239 [00:00<?, ?B/s]"
      ]
     },
     "metadata": {},
     "output_type": "display_data"
    }
   ],
   "source": [
    "model_nm = \"jason9693/SoongsilBERT-base-beep\"\n",
    "classifier = pipeline(\"sentiment-analysis\", model=model_nm)"
   ]
  },
  {
   "cell_type": "code",
   "execution_count": 121,
   "metadata": {},
   "outputs": [
    {
     "data": {
      "text/plain": [
       "('none', 0.9931035041809082)"
      ]
     },
     "execution_count": 121,
     "metadata": {},
     "output_type": "execute_result"
    }
   ],
   "source": [
    "# test1\n",
    "t1 = classifier(\"흠 그다지 좋지는 않네요 애매모호\")\n",
    "list(t1[0].values())[0], list(t1[0].values())[1] "
   ]
  },
  {
   "cell_type": "code",
   "execution_count": 123,
   "metadata": {},
   "outputs": [
    {
     "name": "stdout",
     "output_type": "stream",
     "text": [
      "none 5.0 그냥 쏘쏘 왜 비싼지 몰겠음\n",
      "none 5.0 땅콩 들어있어요 상품 설명 보시면 고한  견과류 캐슈넛이 들어있다고 되어 있고 땅콩이 있다는 설명이 없어서 샀는네 땅콩이 들어있어요 제가 땅콩 알려지거 좀 있어서 땅콩 든건 안먹는데 광고에 베리류랑 캐슈넛만 나와 있어서 샀다가 낭패봤습니다그래뇰라만으로도 달달한데 화이트초코까지 있어서 매우답니다 재구매 의사는 없습니다\n",
      "none 5.0 아침대용으로 운동전에 먹을 꺼예요\n",
      "none 5.0 일단고농축이라 믿고 잘먹어부겠습니다\n",
      "none 5.0 맛나요\n",
      "none 5.0 집앞까지 무거운 우유들 배송에 감사요\n",
      "none 5.0 부드럽고 맛있어요 흰우유 안먹는 살 아이 초코우유 잘먹네요 근데 날짜가 짧긴하네요\n",
      "none 5.0 맛좋아요잘먹ㄹ게요\n",
      "none 5.0 맛도 괜찮고 좋아요\n",
      "none 5.0 맛은 찐한것같은데 달아요\n"
     ]
    }
   ],
   "source": [
    "# test2\n",
    "text = list(df.REVIEW.head(10))\n",
    "score_list = []\n",
    "\n",
    "for i in range(len(text)):\n",
    "    try:\n",
    "        t1 = classifier(text[i])\n",
    "        gubun, score = list(t1[0].values())[0], list(t1[0].values())[1] \n",
    "        if gubun == 'misinformation':\n",
    "            print(gubun, round((1-score)*5, 0), text[i])\n",
    "        else:\n",
    "            print(gubun, round(score*5, 0), text[i])\n",
    "    except:\n",
    "        pass"
   ]
  },
  {
   "cell_type": "code",
   "execution_count": null,
   "metadata": {},
   "outputs": [],
   "source": []
  },
  {
   "cell_type": "code",
   "execution_count": 124,
   "metadata": {},
   "outputs": [
    {
     "data": {
      "application/vnd.jupyter.widget-view+json": {
       "model_id": "fced55d6697a4b61b66fbb8b12b5ba23",
       "version_major": 2,
       "version_minor": 0
      },
      "text/plain": [
       "Downloading:   0%|          | 0.00/1.11k [00:00<?, ?B/s]"
      ]
     },
     "metadata": {},
     "output_type": "display_data"
    },
    {
     "data": {
      "application/vnd.jupyter.widget-view+json": {
       "model_id": "ef5d1f424cc34ffebcc9d857a4e93089",
       "version_major": 2,
       "version_minor": 0
      },
      "text/plain": [
       "Downloading:   0%|          | 0.00/63.4M [00:00<?, ?B/s]"
      ]
     },
     "metadata": {},
     "output_type": "display_data"
    },
    {
     "data": {
      "application/vnd.jupyter.widget-view+json": {
       "model_id": "bc9c92d463f54198b7aec196963da043",
       "version_major": 2,
       "version_minor": 0
      },
      "text/plain": [
       "Downloading:   0%|          | 0.00/545 [00:00<?, ?B/s]"
      ]
     },
     "metadata": {},
     "output_type": "display_data"
    },
    {
     "data": {
      "application/vnd.jupyter.widget-view+json": {
       "model_id": "61b3d8600eb64bb4ba882811881cbd3f",
       "version_major": 2,
       "version_minor": 0
      },
      "text/plain": [
       "Downloading:   0%|          | 0.00/439k [00:00<?, ?B/s]"
      ]
     },
     "metadata": {},
     "output_type": "display_data"
    },
    {
     "data": {
      "application/vnd.jupyter.widget-view+json": {
       "model_id": "ba1e0d075d3a4393be554d2870f15f8a",
       "version_major": 2,
       "version_minor": 0
      },
      "text/plain": [
       "Downloading:   0%|          | 0.00/1.25M [00:00<?, ?B/s]"
      ]
     },
     "metadata": {},
     "output_type": "display_data"
    },
    {
     "data": {
      "application/vnd.jupyter.widget-view+json": {
       "model_id": "d8f9e5121f2a40a099612aa41562213f",
       "version_major": 2,
       "version_minor": 0
      },
      "text/plain": [
       "Downloading:   0%|          | 0.00/112 [00:00<?, ?B/s]"
      ]
     },
     "metadata": {},
     "output_type": "display_data"
    }
   ],
   "source": [
    "model_nm ='jason9693/KcELECTRA-small-v2022-apeach'\n",
    "classifier = pipeline(\"sentiment-analysis\", model=model_nm)"
   ]
  },
  {
   "cell_type": "code",
   "execution_count": 125,
   "metadata": {},
   "outputs": [
    {
     "data": {
      "text/plain": [
       "('Default', 0.9445276856422424)"
      ]
     },
     "execution_count": 125,
     "metadata": {},
     "output_type": "execute_result"
    }
   ],
   "source": [
    "# test1\n",
    "t1 = classifier(\"흠 그다지 좋지는 않네요 애매모호\")\n",
    "list(t1[0].values())[0], list(t1[0].values())[1] "
   ]
  },
  {
   "cell_type": "code",
   "execution_count": 128,
   "metadata": {},
   "outputs": [
    {
     "name": "stdout",
     "output_type": "stream",
     "text": [
      "Default 0.0 흠 그다지 좋지는 않네요 애매모호\n",
      "Default 0.0 ㅜㅜ 아이가안먹네요\n",
      "Default 1.0 ㅜㅜ 좁쌀두드레기 약하게올라와서 밥먹이는거 중단하고 우유만먹였는데 늘먹던거라 리뉴얼되었다고 이럴줄은 생각도 못해서ㅜㅜ 완전 두드레기 엄청올라오고 병원가서 알레르기검사한다고 피까지 뽑았네요 하맛  단 편이에요용해  보통이에요\n",
      "Default 0.0 ㅜㅜ맘큐 좋아서 제휴업체꺼도 구입했는데 맘큐 제품만 좋은가바여 전 사진에 나와있는 길쭉한 팩으로 시켰는데 더 저렴한 사각팩으로 보내어요 인터넷에찾아봐도 가격다르고 여기서도 분명 가격 달랐는데 제휴업체는 같다고 계속 말하니 제휴업체 말로는 이게 리뉴얼돼서 없어다는데 재구매는 안하려고 알겟어요 하고 대답하고 걍 먹여요 그 이후에 마켓컬리에서 팔길래 산 길쭉한 팩은 유통기한도 더 길어요뭔가 이상 맘큐 개선 부탁드려요 애정하는 몰인데ㅜㅜㅜㅜㅜㅜ\n",
      "Default 0.0 ㅜㅜ맛이별론가봐요 방송보고 추천해서샀는데 아이가안먹어요 두박스나샀는데ㅜㅜ\n",
      "Default 0.0 ㅜㅜ아이가안먹어요 제가먹어야겠네요\n",
      "Default 1.0 ㅜㅜ완모에서 혼합으로가려는데  즈이애가 안먹네요ㅜ\n",
      "Default 1.0 ㅠㅠ 너무 달아요 건강 챙기려고 주문했는데 당뇨병 걸릴거같아요 너뮤 달아\n",
      "Default 0.0 ㅠㅠ 살때는 유통기한 안써있었는데ㅠㅠ 뭔가 사기당한기분ㅠㅠ 큰사이즈랑 두개 구매했는데 이거 먼저 하루에 두개씩 먹여야겠어요 항상 구매하는데 이번에는 좀 실망입니다\n",
      "Default 1.0 ㅠㅠ 안먹어요 한입먹어보더니 보기만해도 싫더네요 우쉬워요   ㅠㅠ\n"
     ]
    }
   ],
   "source": [
    "# test2\n",
    "text = list(df.REVIEW.tail(10))\n",
    "score_list = []\n",
    "\n",
    "for i in range(len(text)):\n",
    "    try:\n",
    "        t1 = classifier(text[i])\n",
    "        gubun, score = list(t1[0].values())[0], list(t1[0].values())[1] \n",
    "        if gubun == 'Default':\n",
    "            print(gubun, round((1-score)*5, 0), text[i])\n",
    "        else:\n",
    "            print(gubun, round(score*5, 0), text[i])\n",
    "    except:\n",
    "        pass"
   ]
  },
  {
   "cell_type": "code",
   "execution_count": null,
   "metadata": {},
   "outputs": [],
   "source": []
  },
  {
   "cell_type": "code",
   "execution_count": null,
   "metadata": {},
   "outputs": [],
   "source": []
  },
  {
   "cell_type": "code",
   "execution_count": null,
   "metadata": {},
   "outputs": [],
   "source": []
  },
  {
   "cell_type": "code",
   "execution_count": null,
   "metadata": {},
   "outputs": [],
   "source": []
  },
  {
   "cell_type": "code",
   "execution_count": null,
   "metadata": {},
   "outputs": [],
   "source": []
  }
 ],
 "metadata": {
  "kernelspec": {
   "display_name": "Python 3",
   "language": "python",
   "name": "python3"
  },
  "language_info": {
   "codemirror_mode": {
    "name": "ipython",
    "version": 3
   },
   "file_extension": ".py",
   "mimetype": "text/x-python",
   "name": "python",
   "nbconvert_exporter": "python",
   "pygments_lexer": "ipython3",
   "version": "3.7.6"
  }
 },
 "nbformat": 4,
 "nbformat_minor": 4
}
