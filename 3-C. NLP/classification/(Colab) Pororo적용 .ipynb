{
 "cells": [
  {
   "cell_type": "code",
   "execution_count": 1,
   "metadata": {
    "colab": {
     "base_uri": "https://localhost:8080/"
    },
    "executionInfo": {
     "elapsed": 229836,
     "status": "ok",
     "timestamp": 1645771730057,
     "user": {
      "displayName": "박경하",
      "photoUrl": "https://lh3.googleusercontent.com/a/default-user=s64",
      "userId": "14970276928355419245"
     },
     "user_tz": -540
    },
    "id": "CdUunYbYn0y6",
    "outputId": "2804f972-3398-4696-9977-663d8b788f51"
   },
   "outputs": [
    {
     "name": "stdout",
     "output_type": "stream",
     "text": [
      "\u001b[K     |██████████████████████████████▎ | 834.1 MB 1.5 MB/s eta 0:00:32tcmalloc: large alloc 1147494400 bytes == 0x5608cd404000 @  0x7f8f99801615 0x5608688e73bc 0x5608689c818a 0x5608688ea1cd 0x5608689dcb3d 0x56086895e458 0x56086895902f 0x5608688ebaba 0x56086895e2c0 0x56086895902f 0x5608688ebaba 0x56086895acd4 0x5608689dd986 0x56086895a350 0x5608689dd986 0x56086895a350 0x5608689dd986 0x56086895a350 0x5608688ebf19 0x56086892fa79 0x5608688eab32 0x56086895e1dd 0x56086895902f 0x5608688ebaba 0x56086895acd4 0x56086895902f 0x5608688ebaba 0x560868959eae 0x5608688eb9da 0x56086895a108 0x56086895902f\n",
      "\u001b[K     |████████████████████████████████| 881.9 MB 1.5 kB/s \n",
      "\u001b[31mERROR: pip's dependency resolver does not currently take into account all the packages that are installed. This behaviour is the source of the following dependency conflicts.\n",
      "torchvision 0.11.1+cu111 requires torch==1.10.0, but you have torch 1.10.2 which is incompatible.\n",
      "torchtext 0.11.0 requires torch==1.10.0, but you have torch 1.10.2 which is incompatible.\n",
      "torchaudio 0.10.0+cu111 requires torch==1.10.0, but you have torch 1.10.2 which is incompatible.\u001b[0m\n",
      "\u001b[K     |████████████████████████████████| 256 kB 21.5 MB/s \n",
      "\u001b[K     |████████████████████████████████| 79 kB 8.2 MB/s \n",
      "\u001b[K     |████████████████████████████████| 5.9 MB 48.2 MB/s \n",
      "\u001b[K     |████████████████████████████████| 1.5 MB 48.1 MB/s \n",
      "\u001b[K     |████████████████████████████████| 3.1 MB 62.9 MB/s \n",
      "\u001b[K     |████████████████████████████████| 468 kB 48.0 MB/s \n",
      "\u001b[K     |████████████████████████████████| 3.5 MB 54.4 MB/s \n",
      "\u001b[K     |████████████████████████████████| 1.2 MB 44.6 MB/s \n",
      "\u001b[K     |████████████████████████████████| 42.4 MB 1.3 MB/s \n",
      "\u001b[K     |████████████████████████████████| 748.8 MB 17 kB/s \n",
      "\u001b[K     |████████████████████████████████| 1.7 MB 35.9 MB/s \n",
      "\u001b[K     |████████████████████████████████| 145 kB 59.4 MB/s \n",
      "\u001b[K     |████████████████████████████████| 90 kB 9.0 MB/s \n",
      "\u001b[K     |████████████████████████████████| 748 kB 53.9 MB/s \n",
      "\u001b[K     |████████████████████████████████| 1.2 MB 49.7 MB/s \n",
      "\u001b[K     |████████████████████████████████| 67 kB 3.4 MB/s \n",
      "\u001b[K     |████████████████████████████████| 596 kB 49.8 MB/s \n",
      "\u001b[K     |████████████████████████████████| 895 kB 59.4 MB/s \n",
      "\u001b[K     |████████████████████████████████| 6.8 MB 44.2 MB/s \n",
      "\u001b[K     |████████████████████████████████| 180 kB 55.6 MB/s \n",
      "\u001b[K     |████████████████████████████████| 74 kB 3.0 MB/s \n",
      "\u001b[K     |████████████████████████████████| 112 kB 60.3 MB/s \n",
      "\u001b[K     |████████████████████████████████| 174 kB 58.8 MB/s \n",
      "\u001b[?25h  Building wheel for sentence-transformers (setup.py) ... \u001b[?25l\u001b[?25hdone\n",
      "  Building wheel for distance (setup.py) ... \u001b[?25l\u001b[?25hdone\n",
      "  Building wheel for antlr4-python3-runtime (setup.py) ... \u001b[?25l\u001b[?25hdone\n",
      "  Building wheel for kss (setup.py) ... \u001b[?25l\u001b[?25hdone\n",
      "  Building wheel for emoji (setup.py) ... \u001b[?25l\u001b[?25hdone\n",
      "  Building wheel for wget (setup.py) ... \u001b[?25l\u001b[?25hdone\n",
      "\u001b[31mERROR: pip's dependency resolver does not currently take into account all the packages that are installed. This behaviour is the source of the following dependency conflicts.\n",
      "torchtext 0.11.0 requires torch==1.10.0, but you have torch 1.6.0 which is incompatible.\n",
      "torchaudio 0.10.0+cu111 requires torch==1.10.0, but you have torch 1.6.0 which is incompatible.\u001b[0m\n"
     ]
    }
   ],
   "source": [
    "!pip install torch --upgrade -qqq\n",
    "!pip install Pororo -qqq\n",
    "!pip install emoji -qqq"
   ]
  },
  {
   "cell_type": "code",
   "execution_count": 2,
   "metadata": {
    "executionInfo": {
     "elapsed": 444,
     "status": "ok",
     "timestamp": 1645771730493,
     "user": {
      "displayName": "박경하",
      "photoUrl": "https://lh3.googleusercontent.com/a/default-user=s64",
      "userId": "14970276928355419245"
     },
     "user_tz": -540
    },
    "id": "7xw7B4g_oA6X"
   },
   "outputs": [],
   "source": [
    "from google.cloud import bigquery\n",
    "import pandas as pd\n",
    "from datetime import datetime, timedelta\n",
    "import numpy as np\n",
    "import re\n",
    "import time \n",
    "from tqdm import trange"
   ]
  },
  {
   "cell_type": "code",
   "execution_count": 3,
   "metadata": {
    "colab": {
     "base_uri": "https://localhost:8080/"
    },
    "executionInfo": {
     "elapsed": 35335,
     "status": "ok",
     "timestamp": 1645771765827,
     "user": {
      "displayName": "박경하",
      "photoUrl": "https://lh3.googleusercontent.com/a/default-user=s64",
      "userId": "14970276928355419245"
     },
     "user_tz": -540
    },
    "id": "zI8BbJSNoBNX",
    "outputId": "eb4e702d-349d-4aba-c574-2996dc364f8b"
   },
   "outputs": [
    {
     "name": "stderr",
     "output_type": "stream",
     "text": [
      "\n",
      "\n"
     ]
    }
   ],
   "source": [
    "from pororo import Pororo\n",
    "review = Pororo(task=\"review\", lang=\"ko\")"
   ]
  },
  {
   "cell_type": "code",
   "execution_count": null,
   "metadata": {
    "id": "sE1ogcZXoBP4"
   },
   "outputs": [],
   "source": []
  },
  {
   "cell_type": "code",
   "execution_count": null,
   "metadata": {
    "id": "k1nAW4hRoNJR"
   },
   "outputs": [],
   "source": []
  },
  {
   "cell_type": "code",
   "execution_count": 4,
   "metadata": {
    "executionInfo": {
     "elapsed": 608,
     "status": "ok",
     "timestamp": 1645771766431,
     "user": {
      "displayName": "박경하",
      "photoUrl": "https://lh3.googleusercontent.com/a/default-user=s64",
      "userId": "14970276928355419245"
     },
     "user_tz": -540
    },
    "id": "1eofv_SBoNMU"
   },
   "outputs": [],
   "source": [
    "# 자료 불러오기\n",
    "df = pd.read_excel('./20220225_review_data.xlsx',0)\n",
    "df= df[df.columns[1:]]\n",
    "# doc = df.REVIEW"
   ]
  },
  {
   "cell_type": "code",
   "execution_count": 5,
   "metadata": {
    "colab": {
     "base_uri": "https://localhost:8080/"
    },
    "executionInfo": {
     "elapsed": 302785,
     "status": "ok",
     "timestamp": 1645772077287,
     "user": {
      "displayName": "박경하",
      "photoUrl": "https://lh3.googleusercontent.com/a/default-user=s64",
      "userId": "14970276928355419245"
     },
     "user_tz": -540
    },
    "id": "rQG6LCIroBSl",
    "outputId": "1e8044bf-5b31-46d1-bee2-6282aea07fd5"
   },
   "outputs": [
    {
     "name": "stderr",
     "output_type": "stream",
     "text": [
      "100%|██████████| 1879/1879 [05:02<00:00,  6.21it/s]\n"
     ]
    }
   ],
   "source": [
    "score_adj = []\n",
    "for i in trange(0, len(df)):\n",
    "  score_ = review(df['REVIEW'][i])\n",
    "  score_adj.append(score_)"
   ]
  },
  {
   "cell_type": "code",
   "execution_count": 8,
   "metadata": {
    "executionInfo": {
     "elapsed": 320,
     "status": "ok",
     "timestamp": 1645772137625,
     "user": {
      "displayName": "박경하",
      "photoUrl": "https://lh3.googleusercontent.com/a/default-user=s64",
      "userId": "14970276928355419245"
     },
     "user_tz": -540
    },
    "id": "m1CfPciIoBVP"
   },
   "outputs": [],
   "source": [
    "df['SCORE_ADJ'] = score_adj"
   ]
  },
  {
   "cell_type": "code",
   "execution_count": 9,
   "metadata": {
    "colab": {
     "base_uri": "https://localhost:8080/",
     "height": 143
    },
    "executionInfo": {
     "elapsed": 6,
     "status": "ok",
     "timestamp": 1645772137993,
     "user": {
      "displayName": "박경하",
      "photoUrl": "https://lh3.googleusercontent.com/a/default-user=s64",
      "userId": "14970276928355419245"
     },
     "user_tz": -540
    },
    "id": "q2wYQS4CoBX5",
    "outputId": "18d7441a-a349-495d-aaec-e5c7c0af670b"
   },
   "outputs": [
    {
     "data": {
      "text/html": [
       "\n",
       "  <div id=\"df-52b9285f-cdee-4a3e-8ee5-c639fcadd0a8\">\n",
       "    <div class=\"colab-df-container\">\n",
       "      <div>\n",
       "<style scoped>\n",
       "    .dataframe tbody tr th:only-of-type {\n",
       "        vertical-align: middle;\n",
       "    }\n",
       "\n",
       "    .dataframe tbody tr th {\n",
       "        vertical-align: top;\n",
       "    }\n",
       "\n",
       "    .dataframe thead th {\n",
       "        text-align: right;\n",
       "    }\n",
       "</style>\n",
       "<table border=\"1\" class=\"dataframe\">\n",
       "  <thead>\n",
       "    <tr style=\"text-align: right;\">\n",
       "      <th></th>\n",
       "      <th>USER</th>\n",
       "      <th>REG_DTM</th>\n",
       "      <th>REG_DT</th>\n",
       "      <th>CHANNEL</th>\n",
       "      <th>PRODUCT</th>\n",
       "      <th>REVIEW</th>\n",
       "      <th>SCORE</th>\n",
       "      <th>SCORE_ADJ</th>\n",
       "    </tr>\n",
       "  </thead>\n",
       "  <tbody>\n",
       "    <tr>\n",
       "      <th>1876</th>\n",
       "      <td>nam6****</td>\n",
       "      <td>2022-02-09</td>\n",
       "      <td>2022-02</td>\n",
       "      <td>3 네이버</td>\n",
       "      <td>어메이징 오트 [ 바리스타 ] [ 950ML ]</td>\n",
       "      <td>고소하고 맛있어요! 양도 많고 좋아요</td>\n",
       "      <td>5</td>\n",
       "      <td>4.75</td>\n",
       "    </tr>\n",
       "    <tr>\n",
       "      <th>1877</th>\n",
       "      <td>djgm****</td>\n",
       "      <td>2022-02-09</td>\n",
       "      <td>2022-02</td>\n",
       "      <td>3 네이버</td>\n",
       "      <td>어메이징 오트 [ 바리스타 ] [ 950ML ]</td>\n",
       "      <td>맛있어요...\\n꼬소하고...\\n 근데 포장이 문제인건지 위에 캡부분이 눌려서\\n다...</td>\n",
       "      <td>4</td>\n",
       "      <td>2.53</td>\n",
       "    </tr>\n",
       "    <tr>\n",
       "      <th>1878</th>\n",
       "      <td>hyul****</td>\n",
       "      <td>2022-02-09</td>\n",
       "      <td>2022-02</td>\n",
       "      <td>3 네이버</td>\n",
       "      <td>어메이징 오트 [ 바리스타 ] [ 950ML ]</td>\n",
       "      <td>일반 오트밀 먹다 커피 전용이라고 해서 구매해봤어요~~♡</td>\n",
       "      <td>5</td>\n",
       "      <td>4.48</td>\n",
       "    </tr>\n",
       "  </tbody>\n",
       "</table>\n",
       "</div>\n",
       "      <button class=\"colab-df-convert\" onclick=\"convertToInteractive('df-52b9285f-cdee-4a3e-8ee5-c639fcadd0a8')\"\n",
       "              title=\"Convert this dataframe to an interactive table.\"\n",
       "              style=\"display:none;\">\n",
       "        \n",
       "  <svg xmlns=\"http://www.w3.org/2000/svg\" height=\"24px\"viewBox=\"0 0 24 24\"\n",
       "       width=\"24px\">\n",
       "    <path d=\"M0 0h24v24H0V0z\" fill=\"none\"/>\n",
       "    <path d=\"M18.56 5.44l.94 2.06.94-2.06 2.06-.94-2.06-.94-.94-2.06-.94 2.06-2.06.94zm-11 1L8.5 8.5l.94-2.06 2.06-.94-2.06-.94L8.5 2.5l-.94 2.06-2.06.94zm10 10l.94 2.06.94-2.06 2.06-.94-2.06-.94-.94-2.06-.94 2.06-2.06.94z\"/><path d=\"M17.41 7.96l-1.37-1.37c-.4-.4-.92-.59-1.43-.59-.52 0-1.04.2-1.43.59L10.3 9.45l-7.72 7.72c-.78.78-.78 2.05 0 2.83L4 21.41c.39.39.9.59 1.41.59.51 0 1.02-.2 1.41-.59l7.78-7.78 2.81-2.81c.8-.78.8-2.07 0-2.86zM5.41 20L4 18.59l7.72-7.72 1.47 1.35L5.41 20z\"/>\n",
       "  </svg>\n",
       "      </button>\n",
       "      \n",
       "  <style>\n",
       "    .colab-df-container {\n",
       "      display:flex;\n",
       "      flex-wrap:wrap;\n",
       "      gap: 12px;\n",
       "    }\n",
       "\n",
       "    .colab-df-convert {\n",
       "      background-color: #E8F0FE;\n",
       "      border: none;\n",
       "      border-radius: 50%;\n",
       "      cursor: pointer;\n",
       "      display: none;\n",
       "      fill: #1967D2;\n",
       "      height: 32px;\n",
       "      padding: 0 0 0 0;\n",
       "      width: 32px;\n",
       "    }\n",
       "\n",
       "    .colab-df-convert:hover {\n",
       "      background-color: #E2EBFA;\n",
       "      box-shadow: 0px 1px 2px rgba(60, 64, 67, 0.3), 0px 1px 3px 1px rgba(60, 64, 67, 0.15);\n",
       "      fill: #174EA6;\n",
       "    }\n",
       "\n",
       "    [theme=dark] .colab-df-convert {\n",
       "      background-color: #3B4455;\n",
       "      fill: #D2E3FC;\n",
       "    }\n",
       "\n",
       "    [theme=dark] .colab-df-convert:hover {\n",
       "      background-color: #434B5C;\n",
       "      box-shadow: 0px 1px 3px 1px rgba(0, 0, 0, 0.15);\n",
       "      filter: drop-shadow(0px 1px 2px rgba(0, 0, 0, 0.3));\n",
       "      fill: #FFFFFF;\n",
       "    }\n",
       "  </style>\n",
       "\n",
       "      <script>\n",
       "        const buttonEl =\n",
       "          document.querySelector('#df-52b9285f-cdee-4a3e-8ee5-c639fcadd0a8 button.colab-df-convert');\n",
       "        buttonEl.style.display =\n",
       "          google.colab.kernel.accessAllowed ? 'block' : 'none';\n",
       "\n",
       "        async function convertToInteractive(key) {\n",
       "          const element = document.querySelector('#df-52b9285f-cdee-4a3e-8ee5-c639fcadd0a8');\n",
       "          const dataTable =\n",
       "            await google.colab.kernel.invokeFunction('convertToInteractive',\n",
       "                                                     [key], {});\n",
       "          if (!dataTable) return;\n",
       "\n",
       "          const docLinkHtml = 'Like what you see? Visit the ' +\n",
       "            '<a target=\"_blank\" href=https://colab.research.google.com/notebooks/data_table.ipynb>data table notebook</a>'\n",
       "            + ' to learn more about interactive tables.';\n",
       "          element.innerHTML = '';\n",
       "          dataTable['output_type'] = 'display_data';\n",
       "          await google.colab.output.renderOutput(dataTable, element);\n",
       "          const docLink = document.createElement('div');\n",
       "          docLink.innerHTML = docLinkHtml;\n",
       "          element.appendChild(docLink);\n",
       "        }\n",
       "      </script>\n",
       "    </div>\n",
       "  </div>\n",
       "  "
      ],
      "text/plain": [
       "          USER    REG_DTM  ... SCORE SCORE_ADJ\n",
       "1876  nam6**** 2022-02-09  ...     5      4.75\n",
       "1877  djgm**** 2022-02-09  ...     4      2.53\n",
       "1878  hyul**** 2022-02-09  ...     5      4.48\n",
       "\n",
       "[3 rows x 8 columns]"
      ]
     },
     "execution_count": 9,
     "metadata": {},
     "output_type": "execute_result"
    }
   ],
   "source": [
    "df.tail(3)"
   ]
  },
  {
   "cell_type": "code",
   "execution_count": null,
   "metadata": {
    "id": "X6bh9FTmpQpu"
   },
   "outputs": [],
   "source": []
  },
  {
   "cell_type": "code",
   "execution_count": null,
   "metadata": {
    "id": "AWFDzbb9pQtm"
   },
   "outputs": [],
   "source": []
  },
  {
   "cell_type": "code",
   "execution_count": null,
   "metadata": {
    "id": "GZ28q_v2pQwU"
   },
   "outputs": [],
   "source": []
  },
  {
   "cell_type": "code",
   "execution_count": 12,
   "metadata": {
    "executionInfo": {
     "elapsed": 994,
     "status": "ok",
     "timestamp": 1645772475761,
     "user": {
      "displayName": "박경하",
      "photoUrl": "https://lh3.googleusercontent.com/a/default-user=s64",
      "userId": "14970276928355419245"
     },
     "user_tz": -540
    },
    "id": "dBiQvCoFpQzA"
   },
   "outputs": [],
   "source": [
    "# Excel 자료 저장 v2\n",
    "# now = datetime.today()    # 현재\n",
    "# date = start_dt.strftime('%Y%m%d')\n",
    "\n",
    "writer = pd.ExcelWriter('./_review_data_v2.xlsx')\n",
    "df.to_excel(writer, 'Sheet1')\n",
    "writer.save()"
   ]
  },
  {
   "cell_type": "code",
   "execution_count": null,
   "metadata": {
    "id": "bC21-65hqjpf"
   },
   "outputs": [],
   "source": []
  }
 ],
 "metadata": {
  "colab": {
   "authorship_tag": "ABX9TyNnIsfTT7fiwgTI+5emzJFo",
   "collapsed_sections": [],
   "name": "220225_(Colab) Pororo적용 .ipynb",
   "provenance": []
  },
  "kernelspec": {
   "display_name": "Python 3",
   "language": "python",
   "name": "python3"
  },
  "language_info": {
   "codemirror_mode": {
    "name": "ipython",
    "version": 3
   },
   "file_extension": ".py",
   "mimetype": "text/x-python",
   "name": "python",
   "nbconvert_exporter": "python",
   "pygments_lexer": "ipython3",
   "version": "3.7.6"
  }
 },
 "nbformat": 4,
 "nbformat_minor": 1
}
