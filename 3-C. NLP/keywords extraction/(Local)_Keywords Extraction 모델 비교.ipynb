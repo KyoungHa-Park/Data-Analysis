{
 "cells": [
  {
   "cell_type": "code",
   "execution_count": 35,
   "metadata": {
    "id": "RfuvwraLsUon"
   },
   "outputs": [],
   "source": [
    "# https://medium.com/towards-data-science/keyword-extraction-python-tf-idf-textrank-topicrank-yake-bert-7405d51cd839"
   ]
  },
  {
   "cell_type": "code",
   "execution_count": null,
   "metadata": {
    "id": "Y5Hx7nv6sas6"
   },
   "outputs": [],
   "source": []
  },
  {
   "attachments": {},
   "cell_type": "markdown",
   "metadata": {
    "id": "A1yqXKJ8sbnJ"
   },
   "source": [
    "Index\n",
    "+ [x] TF-IDF  \n",
    "+ [x] TextRank \n",
    "+ [x] YAKE!\n",
    "+ [x] KeyBERT : "
   ]
  },
  {
   "cell_type": "code",
   "execution_count": 36,
   "metadata": {
    "colab": {
     "base_uri": "https://localhost:8080/"
    },
    "executionInfo": {
     "elapsed": 89863,
     "status": "ok",
     "timestamp": 1649141414140,
     "user": {
      "displayName": "박경하",
      "userId": "14970276928355419245"
     },
     "user_tz": -540
    },
    "id": "d7Wornoxupi5",
    "outputId": "79390b29-9568-4b12-c9ab-247fbaaf2772"
   },
   "outputs": [],
   "source": [
    "# !pip install trafilatura -qqq\n",
    "# !pip install summa -qqq\n",
    "# !pip install git+https://github.com/smirnov-am/pytopicrank.git#egg=pytopicrank -qqq\n",
    "# !pip install git+https://github.com/LIAAD/yake -qqq\n",
    "# !pip install keyBERT -qqq\n",
    "# !pip install konlpy -qqq"
   ]
  },
  {
   "cell_type": "code",
   "execution_count": 37,
   "metadata": {
    "colab": {
     "base_uri": "https://localhost:8080/"
    },
    "executionInfo": {
     "elapsed": 3717,
     "status": "ok",
     "timestamp": 1649140943262,
     "user": {
      "displayName": "박경하",
      "userId": "14970276928355419245"
     },
     "user_tz": -540
    },
    "id": "jZrLuxysuppC",
    "outputId": "76fa2ab3-42d5-4ba2-b6be-54c042fe81df"
   },
   "outputs": [],
   "source": []
  },
  {
   "cell_type": "code",
   "execution_count": 1,
   "metadata": {
    "id": "2tsDL8ahsavr"
   },
   "outputs": [],
   "source": [
    "import numpy as np\n",
    "import itertools\n",
    "import pandas as pd\n",
    "import re\n",
    "\n",
    "from konlpy.tag import Okt\n",
    "from sklearn.feature_extraction.text import CountVectorizer\n",
    "from sklearn.metrics.pairwise import cosine_similarity\n",
    "\n",
    "import nltk"
   ]
  },
  {
   "cell_type": "code",
   "execution_count": 2,
   "metadata": {
    "id": "Ih-_M6gwsayp"
   },
   "outputs": [],
   "source": [
    "# Data Load\n",
    "df = pd.read_excel('./20230316_kurly_review.xlsx',0)"
   ]
  },
  {
   "cell_type": "code",
   "execution_count": null,
   "metadata": {
    "id": "9Kb3nOZBtH1M"
   },
   "outputs": [],
   "source": []
  },
  {
   "cell_type": "code",
   "execution_count": 16,
   "metadata": {
    "id": "d2S3nM0EtH5J"
   },
   "outputs": [],
   "source": [
    "def listToString(s):  \n",
    "    str1 = \"\"  \n",
    "    for ele in s:  \n",
    "        str1 += \" \" + ele.strip()  \n",
    "    return str1\n",
    "\n",
    "def clean_str(text):\n",
    "    pattern = '([a-zA-Z0-9_.+-]+@[a-zA-Z0-9-]+\\.[a-zA-Z0-9-.]+)' # E-mail제거\n",
    "    text = re.sub(pattern=pattern, repl=' ', string=text)\n",
    "    pattern = '(http|ftp|https)://(?:[-\\w.]|(?:%[\\da-fA-F]{2}))+' # URL제거\n",
    "    text = re.sub(pattern=pattern, repl='', string=text)\n",
    "    pattern = '<[^>]*>'         # HTML 태그 제거\n",
    "    text = re.sub(pattern=pattern, repl=' ', string=text)\n",
    "    pattern = '[^\\w\\s]'         # 특수기호제거\n",
    "    text = re.sub(pattern=pattern, repl=' ', string=text)\n",
    "    return text   "
   ]
  },
  {
   "cell_type": "code",
   "execution_count": 31,
   "metadata": {},
   "outputs": [
    {
     "data": {
      "text/plain": [
       "array(['[오트사이드] 초콜릿맛 귀리 우유 1L', '[오틀리] 식물성 귀리음료 초코 1L',\n",
       "       '[오틀리] 식물성 귀리음료 초코 250ml'], dtype=object)"
      ]
     },
     "execution_count": 31,
     "metadata": {},
     "output_type": "execute_result"
    }
   ],
   "source": [
    "df.PRODUCT.unique()"
   ]
  },
  {
   "cell_type": "code",
   "execution_count": 21,
   "metadata": {
    "id": "m31zv78xtH9H"
   },
   "outputs": [],
   "source": [
    "# Text Cleansing\n",
    "text1 = clean_str(listToString(df[df['PRODUCT'] =='[오트사이드] 초콜릿맛 귀리 우유 1L'].REVIEW.sample(frac = 0.7)))\n",
    "text2 = clean_str(listToString(df[df['PRODUCT'] =='[오트사이드] 초콜릿맛 귀리 우유 1L'].REVIEW.sample(frac = 0.7)))\n",
    "text3 = clean_str(listToString(df[df['PRODUCT'] =='[오틀리] 식물성 귀리음료 초코 250ml'].REVIEW.sample(frac = 0.7)))\n",
    "text_list = [text1, text2, text3]"
   ]
  },
  {
   "cell_type": "code",
   "execution_count": null,
   "metadata": {},
   "outputs": [],
   "source": []
  },
  {
   "cell_type": "code",
   "execution_count": 22,
   "metadata": {
    "id": "4g7ZcG5furLj"
   },
   "outputs": [],
   "source": [
    "# Text Cleansing\n",
    "corpus = []\n",
    "for text_ in text_list:\n",
    "    corpus.append(clean_str(text_))"
   ]
  },
  {
   "cell_type": "code",
   "execution_count": null,
   "metadata": {
    "colab": {
     "base_uri": "https://localhost:8080/",
     "height": 54
    },
    "executionInfo": {
     "elapsed": 11,
     "status": "ok",
     "timestamp": 1649140949798,
     "user": {
      "displayName": "박경하",
      "userId": "14970276928355419245"
     },
     "user_tz": -540
    },
    "id": "fr6Ba4UJuq3u",
    "outputId": "7e8a4c14-c834-4456-d5b0-d4bcf47d5742"
   },
   "outputs": [],
   "source": []
  },
  {
   "cell_type": "code",
   "execution_count": null,
   "metadata": {
    "id": "va4BXLxyuq8d"
   },
   "outputs": [],
   "source": []
  },
  {
   "cell_type": "code",
   "execution_count": null,
   "metadata": {},
   "outputs": [],
   "source": []
  },
  {
   "attachments": {},
   "cell_type": "markdown",
   "metadata": {},
   "source": [
    "### 1.TF-IDF"
   ]
  },
  {
   "cell_type": "code",
   "execution_count": null,
   "metadata": {
    "id": "re4ip8nKurPX"
   },
   "outputs": [],
   "source": []
  },
  {
   "cell_type": "code",
   "execution_count": 53,
   "metadata": {},
   "outputs": [],
   "source": [
    "from sklearn.feature_extraction.text import TfidfVectorizer\n",
    "from numpy import array, log\n",
    "from tqdm.notebook import tqdm\n",
    "\n",
    "vectorizer = TfidfVectorizer().fit(corpus)\n",
    "tf = vectorizer.fit_transform(corpus)\n",
    "tf = tf.toarray()\n",
    "tf = log(tf + 1)"
   ]
  },
  {
   "cell_type": "code",
   "execution_count": 33,
   "metadata": {},
   "outputs": [
    {
     "data": {
      "application/vnd.jupyter.widget-view+json": {
       "model_id": "e37b33d99d5e4704a7cb3b6cce251aa9",
       "version_major": 2,
       "version_minor": 0
      },
      "text/plain": [
       "  0%|          | 0/2905 [00:00<?, ?it/s]"
      ]
     },
     "metadata": {},
     "output_type": "display_data"
    }
   ],
   "source": [
    "tfidf = tf.copy()\n",
    "words = array(vectorizer.get_feature_names_out())\n",
    "\n",
    "for k in tqdm(vectorizer.vocabulary_.keys()):\n",
    "    if k in words:\n",
    "        tfidf[:, words == k] = tfidf[:, words == k] * vectorizer.vocabulary_[k]"
   ]
  },
  {
   "cell_type": "code",
   "execution_count": null,
   "metadata": {},
   "outputs": [],
   "source": []
  },
  {
   "cell_type": "code",
   "execution_count": 40,
   "metadata": {},
   "outputs": [
    {
     "name": "stdout",
     "output_type": "stream",
     "text": [
      "1 [오트사이드] 초콜릿맛 귀리 우유 1L Keywords : \n",
      " ['좋아요' '맛있어요' '초코우유' '진하고' '초코' '진짜' '자주' '진한' '초코맛이' '초콜릿맛']\n",
      "2 [오틀리] 식물성 귀리음료 초코 1L Keywords : \n",
      " ['좋아요' '맛있어요' '초코우유' '진하고' '초콜릿맛' '초코' '진짜' '진한' '자주' '초코맛']\n",
      "3 [오틀리] 식물성 귀리음료 초코 250ml Keywords : \n",
      " ['좋아요' '초코우유' '맛있어요' '초코맛' '초코' '자주' '오틀리' '아이가' '초코우유보다' '좋아해요']\n"
     ]
    }
   ],
   "source": [
    "for j in range(tfidf.shape[0]):\n",
    "    print(str(j+1), df.PRODUCT.unique()[j], \"Keywords : \\n\", words[tfidf[j, :].argsort()[-10:][::-1]])"
   ]
  },
  {
   "cell_type": "code",
   "execution_count": null,
   "metadata": {},
   "outputs": [],
   "source": []
  },
  {
   "cell_type": "code",
   "execution_count": null,
   "metadata": {},
   "outputs": [],
   "source": []
  },
  {
   "cell_type": "code",
   "execution_count": null,
   "metadata": {},
   "outputs": [],
   "source": []
  },
  {
   "attachments": {},
   "cell_type": "markdown",
   "metadata": {
    "id": "jEHZ1BW_urVg"
   },
   "source": [
    "### 2.TextRank"
   ]
  },
  {
   "cell_type": "code",
   "execution_count": 42,
   "metadata": {
    "id": "cjg14MEtjmcG"
   },
   "outputs": [],
   "source": [
    "from summa import keywords"
   ]
  },
  {
   "cell_type": "code",
   "execution_count": 44,
   "metadata": {
    "colab": {
     "base_uri": "https://localhost:8080/",
     "height": 321
    },
    "executionInfo": {
     "elapsed": 438,
     "status": "error",
     "timestamp": 1649142799678,
     "user": {
      "displayName": "박경하",
      "userId": "14970276928355419245"
     },
     "user_tz": -540
    },
    "id": "wPesL_vXtH_-",
    "outputId": "da793a90-2d16-4d82-e173-c7fa4bf7bba0"
   },
   "outputs": [
    {
     "name": "stdout",
     "output_type": "stream",
     "text": [
      "1 [오트사이드] 초콜릿맛 귀리 우유 1L Keywords : \n",
      " ['너무 맛있어요', '좋아요', '초코우유', '많이']\n",
      "2 [오틀리] 식물성 귀리음료 초코 1L Keywords : \n",
      " ['맛있어요', '좋아요', '초코우유', '너무', '자주']\n",
      "3 [오틀리] 식물성 귀리음료 초코 250ml Keywords : \n",
      " ['맛있어요', '좋아요', '초코우유', '초코맛', '가끔']\n"
     ]
    }
   ],
   "source": [
    "for j in range(len(text_list)):\n",
    "    print(str(j+1), df.PRODUCT.unique()[j], \"Keywords : \\n\", (keywords.keywords(text_list[j], words=5)).split(\"\\n\"))"
   ]
  },
  {
   "cell_type": "code",
   "execution_count": null,
   "metadata": {
    "id": "W0ajkf4wuxGw"
   },
   "outputs": [],
   "source": []
  },
  {
   "cell_type": "code",
   "execution_count": null,
   "metadata": {},
   "outputs": [],
   "source": []
  },
  {
   "attachments": {},
   "cell_type": "markdown",
   "metadata": {
    "id": "pIf7UjHSs18z"
   },
   "source": [
    "### 3.YAKE! "
   ]
  },
  {
   "cell_type": "code",
   "execution_count": 51,
   "metadata": {},
   "outputs": [],
   "source": [
    "from yake import KeywordExtractor\n",
    "kw_extractor = KeywordExtractor(lan=\"ko\", n=1, top=5)"
   ]
  },
  {
   "cell_type": "code",
   "execution_count": 52,
   "metadata": {},
   "outputs": [
    {
     "name": "stdout",
     "output_type": "stream",
     "text": [
      "1 [오트사이드] 초콜릿맛 귀리 우유 1L Keywords : \n",
      " ['맛있어요', '좋아요', '초코우유', '진하고', '맛있어서']\n",
      "2 [오틀리] 식물성 귀리음료 초코 1L Keywords : \n",
      " ['맛있어요', '좋아요', '초코우유', '진하고', '맛있어서']\n",
      "3 [오틀리] 식물성 귀리음료 초코 250ml Keywords : \n",
      " ['맛있어요', '좋아요', '초코우유', '초코맛', '오틀리']\n"
     ]
    }
   ],
   "source": [
    "for j in range(len(text_list)):\n",
    "    keywords = kw_extractor.extract_keywords(text=text_list[j])\n",
    "    keywords = [x for x, y in keywords]\n",
    "    print(str(j+1), df.PRODUCT.unique()[j], \"Keywords : \\n\", keywords)"
   ]
  },
  {
   "cell_type": "code",
   "execution_count": null,
   "metadata": {},
   "outputs": [],
   "source": []
  },
  {
   "cell_type": "code",
   "execution_count": null,
   "metadata": {},
   "outputs": [],
   "source": []
  },
  {
   "attachments": {},
   "cell_type": "markdown",
   "metadata": {},
   "source": [
    "### 4.KeyBERT"
   ]
  },
  {
   "cell_type": "code",
   "execution_count": 49,
   "metadata": {
    "id": "Y66VJzjacIRc"
   },
   "outputs": [],
   "source": [
    "from keybert import KeyBERT\n",
    "kw_extractor = KeyBERT('distilbert-base-nli-mean-tokens')"
   ]
  },
  {
   "cell_type": "code",
   "execution_count": null,
   "metadata": {
    "id": "T946IUTDuxak"
   },
   "outputs": [],
   "source": [
    "for j in range(len(text_list)):\n",
    "    keywords = kw_extractor.extract_keywords(text_list[j], keyphrase_length=1 )\n",
    "    print(str(j+1), df.PRODUCT.unique()[j], \"Keywords : \\n\", keywords)"
   ]
  },
  {
   "cell_type": "code",
   "execution_count": 55,
   "metadata": {
    "id": "Mp8rzff0uxfb"
   },
   "outputs": [
    {
     "ename": "TypeError",
     "evalue": "KeywordExtractor.extract_keywords() got an unexpected keyword argument 'keyphrase_length'",
     "output_type": "error",
     "traceback": [
      "\u001b[1;31m---------------------------------------------------------------------------\u001b[0m",
      "\u001b[1;31mTypeError\u001b[0m                                 Traceback (most recent call last)",
      "Cell \u001b[1;32mIn[55], line 2\u001b[0m\n\u001b[0;32m      1\u001b[0m \u001b[39mfor\u001b[39;00m j \u001b[39min\u001b[39;00m \u001b[39mrange\u001b[39m(\u001b[39mlen\u001b[39m(text_list)):\n\u001b[1;32m----> 2\u001b[0m     keywords \u001b[39m=\u001b[39m kw_extractor\u001b[39m.\u001b[39;49mextract_keywords(text_list[j], keyphrase_length\u001b[39m=\u001b[39;49m\u001b[39m1\u001b[39;49m, stop_words\u001b[39m=\u001b[39;49m\u001b[39m'\u001b[39;49m\u001b[39menglish\u001b[39;49m\u001b[39m'\u001b[39;49m)\n\u001b[0;32m      3\u001b[0m     \u001b[39mprint\u001b[39m(\u001b[39m\"\u001b[39m\u001b[39mKeywords of article\u001b[39m\u001b[39m\"\u001b[39m, \u001b[39mstr\u001b[39m(j\u001b[39m+\u001b[39m\u001b[39m1\u001b[39m), \u001b[39m\"\u001b[39m\u001b[39m\\n\u001b[39;00m\u001b[39m\"\u001b[39m, keywords)\n",
      "\u001b[1;31mTypeError\u001b[0m: KeywordExtractor.extract_keywords() got an unexpected keyword argument 'keyphrase_length'"
     ]
    }
   ],
   "source": [
    "for j in range(len(text_list)):\n",
    "    keywords = kw_extractor.extract_keywords(text_list[j], keyphrase_length=1, stop_words='english')\n",
    "    print(\"Keywords of article\", str(j+1), \"\\n\", keywords)"
   ]
  },
  {
   "cell_type": "code",
   "execution_count": null,
   "metadata": {
    "id": "0ula7id6uA5M"
   },
   "outputs": [],
   "source": []
  },
  {
   "cell_type": "code",
   "execution_count": null,
   "metadata": {
    "colab": {
     "base_uri": "https://localhost:8080/"
    },
    "executionInfo": {
     "elapsed": 10152,
     "status": "ok",
     "timestamp": 1649135737781,
     "user": {
      "displayName": "박경하",
      "userId": "14970276928355419245"
     },
     "user_tz": -540
    },
    "id": "RU23OVQjsa1P",
    "outputId": "aaa71aba-8ffe-4f89-fa5f-269c42c6d4e9"
   },
   "outputs": [],
   "source": []
  }
 ],
 "metadata": {
  "colab": {
   "authorship_tag": "ABX9TyOGvn3DyyBAxr/P5wWhALd9",
   "collapsed_sections": [],
   "name": "2204049(Colba)_Keyword 분석 모델 비교.ipynb",
   "provenance": []
  },
  "kernelspec": {
   "display_name": "Python 3",
   "language": "python",
   "name": "python3"
  },
  "language_info": {
   "codemirror_mode": {
    "name": "ipython",
    "version": 3
   },
   "file_extension": ".py",
   "mimetype": "text/x-python",
   "name": "python",
   "nbconvert_exporter": "python",
   "pygments_lexer": "ipython3",
   "version": "3.11.4"
  }
 },
 "nbformat": 4,
 "nbformat_minor": 1
}
