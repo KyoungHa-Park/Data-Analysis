{
 "cells": [
  {
   "cell_type": "code",
   "execution_count": null,
   "metadata": {},
   "outputs": [],
   "source": [
    "# 출처 : https://jxnjxn.tistory.com/49"
   ]
  },
  {
   "cell_type": "code",
   "execution_count": null,
   "metadata": {},
   "outputs": [],
   "source": []
  },
  {
   "cell_type": "code",
   "execution_count": null,
   "metadata": {},
   "outputs": [],
   "source": [
    "# !pip install glove_python_binary"
   ]
  },
  {
   "cell_type": "code",
   "execution_count": 263,
   "metadata": {},
   "outputs": [
    {
     "name": "stderr",
     "output_type": "stream",
     "text": [
      "C:\\ProgramData\\Anaconda3\\lib\\site-packages\\konlpy\\tag\\_okt.py:16: UserWarning: \"Twitter\" has changed to \"Okt\" since KoNLPy v0.4.5.\n",
      "  warn('\"Twitter\" has changed to \"Okt\" since KoNLPy v0.4.5.')\n"
     ]
    }
   ],
   "source": [
    "# 한글정제 KoNLPy\n",
    "from ckonlpy.tag import Twitter\n",
    "twitter = Twitter()\n",
    "\n",
    "#폴더 내용 불러오기\n",
    "from glob import glob\n",
    "import os \n",
    "import pandas as pd\n",
    "\n",
    "# 시간기록\n",
    "from datetime import datetime, timedelta\n",
    "import time \n",
    "\n",
    "# 분석2 : wordcloud 준비\n",
    "import matplotlib as mpl\n",
    "import matplotlib.pyplot as plt\n",
    "import matplotlib.font_manager as fm\n",
    "path = 'C:/windows/Fonts/malgun.ttf'                           # 폰트:맑은고딕\n",
    "font_name = fm.FontProperties(fname=path, size=24).get_name()  \n",
    "plt.rc('font', family=font_name)\n",
    "from wordcloud import WordCloud\n",
    "\n",
    "\n",
    "from gensim import corpora\n",
    "import gensim"
   ]
  },
  {
   "cell_type": "code",
   "execution_count": 230,
   "metadata": {},
   "outputs": [],
   "source": [
    "df = pd.read_excel('./21년KPI.xlsx',0)"
   ]
  },
  {
   "cell_type": "code",
   "execution_count": 231,
   "metadata": {},
   "outputs": [
    {
     "data": {
      "text/html": [
       "<div>\n",
       "<style scoped>\n",
       "    .dataframe tbody tr th:only-of-type {\n",
       "        vertical-align: middle;\n",
       "    }\n",
       "\n",
       "    .dataframe tbody tr th {\n",
       "        vertical-align: top;\n",
       "    }\n",
       "\n",
       "    .dataframe thead th {\n",
       "        text-align: right;\n",
       "    }\n",
       "</style>\n",
       "<table border=\"1\" class=\"dataframe\">\n",
       "  <thead>\n",
       "    <tr style=\"text-align: right;\">\n",
       "      <th></th>\n",
       "      <th>사번</th>\n",
       "      <th>조직</th>\n",
       "      <th>직급</th>\n",
       "      <th>KPI선택</th>\n",
       "      <th>KPI</th>\n",
       "    </tr>\n",
       "  </thead>\n",
       "  <tbody>\n",
       "    <tr>\n",
       "      <th>5338</th>\n",
       "      <td>507101</td>\n",
       "      <td>감사팀</td>\n",
       "      <td>P4</td>\n",
       "      <td>직접입력</td>\n",
       "      <td>누수구역 자체 개선 건수</td>\n",
       "    </tr>\n",
       "    <tr>\n",
       "      <th>5339</th>\n",
       "      <td>507101</td>\n",
       "      <td>감사팀</td>\n",
       "      <td>P4</td>\n",
       "      <td>직접입력</td>\n",
       "      <td>공사 완료 기간 내 단축 달성도</td>\n",
       "    </tr>\n",
       "  </tbody>\n",
       "</table>\n",
       "</div>"
      ],
      "text/plain": [
       "          사번   조직  직급 KPI선택                KPI\n",
       "5338  507101  감사팀  P4  직접입력      누수구역 자체 개선 건수\n",
       "5339  507101  감사팀  P4  직접입력  공사 완료 기간 내 단축 달성도"
      ]
     },
     "execution_count": 231,
     "metadata": {},
     "output_type": "execute_result"
    }
   ],
   "source": [
    "df.tail(2)"
   ]
  },
  {
   "cell_type": "code",
   "execution_count": 251,
   "metadata": {},
   "outputs": [],
   "source": [
    "# 사전에 고유 명사 추가\n",
    "twitter.add_dictionary('셀렉스', 'Noun')\n",
    "twitter.add_dictionary('클레임', 'Noun')\n",
    "twitter.add_dictionary('최소화', 'Noun')\n",
    "twitter.add_dictionary('시행률', 'Noun')\n",
    "twitter.add_dictionary('매출액', 'Noun')\n",
    "twitter.add_dictionary('매출 액', 'Noun')\n",
    "twitter.add_dictionary('재구매', 'Noun')\n",
    "twitter.add_dictionary('안정성', 'Noun')\n",
    "twitter.add_dictionary('달성율', 'Noun')\n",
    "twitter.add_dictionary('직접이익', 'Noun')\n",
    "twitter.add_dictionary('영업이익', 'Noun')\n",
    "twitter.add_dictionary('미출', 'Noun')\n",
    "\n",
    "\n",
    "def tokenize(doc):\n",
    "    try:\n",
    "        result = ['/'.join(t) for t in twitter.pos(doc, norm=True, stem=True)] # ex '더빙/Norm', '나다/Verb'\n",
    "    except:\n",
    "        result = ''\n",
    "    return result \n",
    "\n",
    "\n",
    "def tokenize2(doc):\n",
    "    try:\n",
    "        result = [t1  for t1,t2 in okt.pos(doc, norm=True, stem=True)] # ex '더빙/Norm', '나다/Verb'\n",
    "    except:\n",
    "        result = ''\n",
    "    return result \n",
    "\n",
    "def listToString(s):  \n",
    "    str1 = \"\"  \n",
    "    for ele in s:  \n",
    "        str1 += \" \" + ele.strip()  \n",
    "    return str1\n"
   ]
  },
  {
   "cell_type": "code",
   "execution_count": null,
   "metadata": {},
   "outputs": [],
   "source": []
  },
  {
   "cell_type": "code",
   "execution_count": 252,
   "metadata": {},
   "outputs": [
    {
     "name": "stdout",
     "output_type": "stream",
     "text": [
      "회계업무 프로세스 정립을 통한 재무제표 도출\n"
     ]
    },
    {
     "data": {
      "text/plain": [
       "['회계', '업무', '프로세스', '정립', '을', '통한', '재무제표', '도출']"
      ]
     },
     "execution_count": 252,
     "metadata": {},
     "output_type": "execute_result"
    }
   ],
   "source": [
    "# test\n",
    "print(df_product['KPI'][0])\n",
    "tokenize2(df_product['KPI'][0])"
   ]
  },
  {
   "cell_type": "code",
   "execution_count": null,
   "metadata": {},
   "outputs": [],
   "source": []
  },
  {
   "cell_type": "code",
   "execution_count": 253,
   "metadata": {},
   "outputs": [
    {
     "name": "stderr",
     "output_type": "stream",
     "text": [
      "C:\\ProgramData\\Anaconda3\\lib\\site-packages\\ipykernel_launcher.py:14: FutureWarning: The default value of regex will change from True to False in a future version.\n",
      "  \n"
     ]
    }
   ],
   "source": [
    "#토큰화 : 전체리뷰자료\n",
    "df_temp1 = df['KPI'].replace(\"[^ㄱ-ㅎㅏ-ㅣ가-힣 ]\",\"\")\n",
    "\n",
    "# regex to konlpy\n",
    "# token_all = [tokenize2(row) for row in df_temp1 ]  \n",
    "token_all = [list(dict.fromkeys(tokenize2(row))) for row in df_temp1]\n",
    "\n",
    "data_trim2 = []\n",
    "for i in range(len(df)):\n",
    "    t = ' '.join(token_all[i])\n",
    "    data_trim2.append(t.replace(\"[^ㄱ-ㅎㅏ-ㅣ가-힣 ]\",\"\"))\n",
    "    \n",
    "df_temp1 = pd.DataFrame(data_trim2)\n",
    "df_temp1 = df_temp1[0].str.replace(\"[^ㄱ-ㅎㅏ-ㅣ가-힣 ]\",\"\")\n",
    "\n"
   ]
  },
  {
   "cell_type": "code",
   "execution_count": null,
   "metadata": {},
   "outputs": [],
   "source": []
  },
  {
   "cell_type": "code",
   "execution_count": 254,
   "metadata": {},
   "outputs": [],
   "source": [
    "df['token2'] = df_temp1\n",
    "df['token1'] = token_all"
   ]
  },
  {
   "cell_type": "code",
   "execution_count": 255,
   "metadata": {},
   "outputs": [],
   "source": [
    "# df.groupby('조직')['KPI'].count().head(10)"
   ]
  },
  {
   "cell_type": "code",
   "execution_count": 256,
   "metadata": {},
   "outputs": [],
   "source": [
    "df.token2= df.token2.str.replace(' 액', '액')\n",
    "df.token2= df.token2.str.replace(' 량', '량')\n",
    "df.token2= df.token2.str.replace(' 율', '율')\n",
    "df.token2= df.token2.str.replace('클레 임', '클레임')\n",
    "df.token2= df.token2.str.replace('연 평균', '연 평균')\n",
    "df.token2= df.token2.str.replace('최소 화', '최소화')\n",
    "df.token2= df.token2.str.replace('최소 화', '최소화')\n",
    "df.token2= df.token2.str.replace('영업 이익', '영업이익')"
   ]
  },
  {
   "cell_type": "code",
   "execution_count": 257,
   "metadata": {},
   "outputs": [
    {
     "data": {
      "text/html": [
       "<div>\n",
       "<style scoped>\n",
       "    .dataframe tbody tr th:only-of-type {\n",
       "        vertical-align: middle;\n",
       "    }\n",
       "\n",
       "    .dataframe tbody tr th {\n",
       "        vertical-align: top;\n",
       "    }\n",
       "\n",
       "    .dataframe thead th {\n",
       "        text-align: right;\n",
       "    }\n",
       "</style>\n",
       "<table border=\"1\" class=\"dataframe\">\n",
       "  <thead>\n",
       "    <tr style=\"text-align: right;\">\n",
       "      <th></th>\n",
       "      <th>사번</th>\n",
       "      <th>조직</th>\n",
       "      <th>직급</th>\n",
       "      <th>KPI선택</th>\n",
       "      <th>KPI</th>\n",
       "      <th>token2</th>\n",
       "      <th>token1</th>\n",
       "    </tr>\n",
       "  </thead>\n",
       "  <tbody>\n",
       "    <tr>\n",
       "      <th>220</th>\n",
       "      <td>512101</td>\n",
       "      <td>MC팀</td>\n",
       "      <td>P3</td>\n",
       "      <td>직접입력</td>\n",
       "      <td>목표 대비 달성율</td>\n",
       "      <td>목표 대비 달성율</td>\n",
       "      <td>[목표, 대비, 달성, 율]</td>\n",
       "    </tr>\n",
       "    <tr>\n",
       "      <th>221</th>\n",
       "      <td>512101</td>\n",
       "      <td>MC팀</td>\n",
       "      <td>P3</td>\n",
       "      <td>직접입력</td>\n",
       "      <td>강의 거래처수\\n만족도점수(5점척도)</td>\n",
       "      <td>강의 거래처 수  만족도 점수   점 척도</td>\n",
       "      <td>[강의, 거래처, 수, \\n, 만족도, 점수, (, 5, 점, 척도, )]</td>\n",
       "    </tr>\n",
       "    <tr>\n",
       "      <th>222</th>\n",
       "      <td>809105</td>\n",
       "      <td>MC팀</td>\n",
       "      <td>P2</td>\n",
       "      <td>직접입력</td>\n",
       "      <td>목표대비 달성율 - 실적/목표 * 100%</td>\n",
       "      <td>목표 대비 달성율  실적</td>\n",
       "      <td>[목표, 대비, 달성, 율, -, 실적, /, *, 100%]</td>\n",
       "    </tr>\n",
       "    <tr>\n",
       "      <th>223</th>\n",
       "      <td>809105</td>\n",
       "      <td>MC팀</td>\n",
       "      <td>P2</td>\n",
       "      <td>직접입력</td>\n",
       "      <td>목표대비 달성율</td>\n",
       "      <td>목표 대비 달성율</td>\n",
       "      <td>[목표, 대비, 달성, 율]</td>\n",
       "    </tr>\n",
       "    <tr>\n",
       "      <th>224</th>\n",
       "      <td>809105</td>\n",
       "      <td>MC팀</td>\n",
       "      <td>P2</td>\n",
       "      <td>직접입력</td>\n",
       "      <td>목표대비 달성율</td>\n",
       "      <td>목표 대비 달성율</td>\n",
       "      <td>[목표, 대비, 달성, 율]</td>\n",
       "    </tr>\n",
       "    <tr>\n",
       "      <th>225</th>\n",
       "      <td>809105</td>\n",
       "      <td>MC팀</td>\n",
       "      <td>P2</td>\n",
       "      <td>직접입력</td>\n",
       "      <td>목표대비 달성율 - 실적/목표 * 100%</td>\n",
       "      <td>목표 대비 달성율  실적</td>\n",
       "      <td>[목표, 대비, 달성, 율, -, 실적, /, *, 100%]</td>\n",
       "    </tr>\n",
       "    <tr>\n",
       "      <th>226</th>\n",
       "      <td>809105</td>\n",
       "      <td>MC팀</td>\n",
       "      <td>P2</td>\n",
       "      <td>직접입력</td>\n",
       "      <td>강의 거래처수\\n만족도점수(5점척도)</td>\n",
       "      <td>강의 거래처 수  만족도 점수   점 척도</td>\n",
       "      <td>[강의, 거래처, 수, \\n, 만족도, 점수, (, 5, 점, 척도, )]</td>\n",
       "    </tr>\n",
       "    <tr>\n",
       "      <th>227</th>\n",
       "      <td>903205</td>\n",
       "      <td>MC팀</td>\n",
       "      <td>P3</td>\n",
       "      <td>직접입력</td>\n",
       "      <td>목표대비 달성율</td>\n",
       "      <td>목표 대비 달성율</td>\n",
       "      <td>[목표, 대비, 달성, 율]</td>\n",
       "    </tr>\n",
       "    <tr>\n",
       "      <th>228</th>\n",
       "      <td>903205</td>\n",
       "      <td>MC팀</td>\n",
       "      <td>P3</td>\n",
       "      <td>직접입력</td>\n",
       "      <td>목표대비 달성율</td>\n",
       "      <td>목표 대비 달성율</td>\n",
       "      <td>[목표, 대비, 달성, 율]</td>\n",
       "    </tr>\n",
       "    <tr>\n",
       "      <th>229</th>\n",
       "      <td>903205</td>\n",
       "      <td>MC팀</td>\n",
       "      <td>P3</td>\n",
       "      <td>직접입력</td>\n",
       "      <td>강의 거래처수\\n만족도점수(5점척도)</td>\n",
       "      <td>강의 거래처 수  만족도 점수   점 척도</td>\n",
       "      <td>[강의, 거래처, 수, \\n, 만족도, 점수, (, 5, 점, 척도, )]</td>\n",
       "    </tr>\n",
       "  </tbody>\n",
       "</table>\n",
       "</div>"
      ],
      "text/plain": [
       "         사번   조직  직급 KPI선택                      KPI                    token2  \\\n",
       "220  512101  MC팀  P3  직접입력                목표 대비 달성율                 목표 대비 달성율   \n",
       "221  512101  MC팀  P3  직접입력     강의 거래처수\\n만족도점수(5점척도)  강의 거래처 수  만족도 점수   점 척도    \n",
       "222  809105  MC팀  P2  직접입력  목표대비 달성율 - 실적/목표 * 100%          목표 대비 달성율  실적      \n",
       "223  809105  MC팀  P2  직접입력                 목표대비 달성율                 목표 대비 달성율   \n",
       "224  809105  MC팀  P2  직접입력                 목표대비 달성율                 목표 대비 달성율   \n",
       "225  809105  MC팀  P2  직접입력  목표대비 달성율 - 실적/목표 * 100%          목표 대비 달성율  실적      \n",
       "226  809105  MC팀  P2  직접입력     강의 거래처수\\n만족도점수(5점척도)  강의 거래처 수  만족도 점수   점 척도    \n",
       "227  903205  MC팀  P3  직접입력                 목표대비 달성율                 목표 대비 달성율   \n",
       "228  903205  MC팀  P3  직접입력                 목표대비 달성율                 목표 대비 달성율   \n",
       "229  903205  MC팀  P3  직접입력     강의 거래처수\\n만족도점수(5점척도)  강의 거래처 수  만족도 점수   점 척도    \n",
       "\n",
       "                                        token1  \n",
       "220                            [목표, 대비, 달성, 율]  \n",
       "221  [강의, 거래처, 수, \\n, 만족도, 점수, (, 5, 점, 척도, )]  \n",
       "222         [목표, 대비, 달성, 율, -, 실적, /, *, 100%]  \n",
       "223                            [목표, 대비, 달성, 율]  \n",
       "224                            [목표, 대비, 달성, 율]  \n",
       "225         [목표, 대비, 달성, 율, -, 실적, /, *, 100%]  \n",
       "226  [강의, 거래처, 수, \\n, 만족도, 점수, (, 5, 점, 척도, )]  \n",
       "227                            [목표, 대비, 달성, 율]  \n",
       "228                            [목표, 대비, 달성, 율]  \n",
       "229  [강의, 거래처, 수, \\n, 만족도, 점수, (, 5, 점, 척도, )]  "
      ]
     },
     "execution_count": 257,
     "metadata": {},
     "output_type": "execute_result"
    }
   ],
   "source": [
    "df[220:230]"
   ]
  },
  {
   "cell_type": "code",
   "execution_count": null,
   "metadata": {},
   "outputs": [],
   "source": []
  },
  {
   "cell_type": "code",
   "execution_count": 258,
   "metadata": {},
   "outputs": [],
   "source": [
    "x_data = listToString(df['token2'])\n",
    "tokens = x_data.split(' ')\n",
    "my_dict = nltk.FreqDist(tokens)\n",
    "df2 = pd.DataFrame(list(my_dict.items()),columns = ['column1','column2']) \n",
    "# df2['column3'] = text\n",
    "df2 = df2.sort_values(by='column2', ascending=False)"
   ]
  },
  {
   "cell_type": "code",
   "execution_count": null,
   "metadata": {},
   "outputs": [],
   "source": []
  },
  {
   "cell_type": "code",
   "execution_count": 270,
   "metadata": {},
   "outputs": [],
   "source": [
    "# def wordcloud_gen(dataset, color):\n",
    "#     text = dataset.to_list()\n",
    "#     text_all = listToString(text)\n",
    "#     wc1 = WordCloud(font_path= path, stopwords = stopword, width = 600, height = 600, background_color=\"white\", repeat=True, colormap = color)\n",
    "#     return wc1.generate(text_all)\n",
    "\n",
    "\n",
    "stopword = ['먹다', '하다', '좋다'  , '예요', '이에요', '있다', '맛있다', '같다', '없다', '보통', '최고', '주문', '보다', '매일',\n",
    "         '구매', '에서', '먹이다', '않다', '자다'  , '들다', '사다'  , '되다', '으로', 'ㅠㅠ', 'ㅜㅜ', '말다', '이다', '받다',\n",
    "         '아직', '이다', '보이다', '이나', '오다'  , '이라', '우유'  , '배달', '배송', '가정', '제품', '신청', '문의', '되어다',\n",
    "         '넘다', 'ㅋㅋ', 'ㅋㅋㅋ', 'ㅎㅎ', '진짜'  , '너무', '이', '는', '요', '은', '에', '기', '다', '도', '원', '구', '개', '랑','가',\n",
    "         '도', '임시', '이미지', '확인', '후', '을', '안' ,'되다', '하', '심', '고객', '님', '어요', '좀', '것', '니', '어보', '타',\n",
    "         '생각', '지만', '잘', '제', '니다', '네', '해', '그래도', '엄청', '하고', '번', '그', '나다', '시', '다가', '한', '해서', '로',\n",
    "         '더', '못', '에는', '던데', '일단', '나요', '아하', '이적','이고', '려고', '이라고', '고', '어서','를', '그냥', '만', '짧다',\n",
    "         '유통기한', '인데', '박스', '까지', '일', '월', '두', '팩','어요', '요','다', '한', '있다', '라', '나', '게', '거', '데',\n",
    "         '더니','달', '보', '이번', '이네', '내주', '하나', '수', '저', '이렇다', '이렇게', 'ㅠ', '때', '늘', '또', '편', '늘','감사',\n",
    "         '항상', '여', '아해', '들', '중', '열', '영', '분', '세', '뭐', '루', '알', '용', '통', '함', '무', '생', '물', '리', '새',\n",
    "         '적', 'hellip', '빠르다', '도착', '배송', '택배', '두유', '아주', '지', '아몬드브리즈', '아몬드 브리즈', '브리', '즈', '아주',\n",
    "         '씩', '오리', '널', '에요', '에도', '네요','잇다', '알다', '포장', '옵션', '상품', '많이', '대하',\n",
    "         '어도', '오전', '오후', '안녕', '인가요', '안되다','변경', '뜨다', '혹시', '언제','반품', '환불', '가능', '가요','번호', \n",
    "         '질문', '이메일','내용', '물건', '완료', '총' '건가', '빨', '어떻다', '오늘','건가', '주소', '연락', '부탁', '세요', '면' ,'총',\n",
    "         '출고', '준비', '중이', '철회', '금요일', '바라다','아야', '라고', '리좀', '기사','드리다', '일부', '부터', '조회', '날', '서',\n",
    "         '터', '답변', '시작', '드립', '취소', '발송', '수요일', '요청', '송장', '왜', '궁금하자', '쯤', '매일유업', '재', '입다', '해주',\n",
    "         '돼다', '아니', '다시', '싶다', '명' , '연락처', '궁금하다', '주', '해주시', '회' ,'아니다', '자명', '상태', '건', '늘다', \n",
    "         '보내다','중인', '문자', '해도', '회수', '쇼핑', '편이', '에요', '여요' '꾸다', '라고', '이건', '다른', '면', '그렇다', '니까',\n",
    "         '다고', '만족도' , '엔', '음번'\n",
    "         ]"
   ]
  },
  {
   "cell_type": "code",
   "execution_count": 241,
   "metadata": {},
   "outputs": [],
   "source": [
    "# plt.subplots_adjust(left=0.125, bottom=0.1,  right=0.9, top=0.9, wspace=0.2, hspace=0.3)\n",
    "# plt.xticks([]); plt.yticks([]); plt.grid(False)\n",
    "# plt.imshow(wordcloud_gen((df[df['조직']=='FS국내영업1팀']['token']), None), cmap=plt.cm.binary)\n",
    "# plt.title('전체리뷰',fontsize='large')\n",
    "# plt.show()"
   ]
  },
  {
   "cell_type": "code",
   "execution_count": null,
   "metadata": {},
   "outputs": [],
   "source": []
  },
  {
   "cell_type": "code",
   "execution_count": 260,
   "metadata": {},
   "outputs": [],
   "source": []
  },
  {
   "cell_type": "code",
   "execution_count": null,
   "metadata": {},
   "outputs": [],
   "source": []
  },
  {
   "cell_type": "code",
   "execution_count": 267,
   "metadata": {},
   "outputs": [],
   "source": [
    "################\n",
    "#한글 토큰화\n",
    "#####\n",
    "\n",
    "# 1차 가공 : koNLpy to token\n",
    "def tokenize(doc):\n",
    "    result = [t for t in okt.pos(doc, norm=True, stem=True)] # ex '더빙/Norm', '나다/Verb'\n",
    "    return result \n",
    "\n",
    "token_data1 = [tokenize(row) for row in df['KPI']]  "
   ]
  },
  {
   "cell_type": "code",
   "execution_count": 268,
   "metadata": {},
   "outputs": [],
   "source": [
    "token_data2 = []\n",
    "for i in range(0, len(token_data1)):\n",
    "    r = []\n",
    "    for word in token_data1[i]:\n",
    "        if not word[1] in [\"Josa\", \"Punctuation\", \"Foreign\", \"Suffix\", \"Eomi\"]:\n",
    "            r.append(word[0])\n",
    "    token_data2.append(r)"
   ]
  },
  {
   "cell_type": "code",
   "execution_count": 272,
   "metadata": {},
   "outputs": [],
   "source": [
    "X_train = []\n",
    "for sentence in token_data2:\n",
    "    temp_X = [word for word in sentence if not word in stopword] # 불용어 제거\n",
    "    X_train.append(temp_X)"
   ]
  },
  {
   "cell_type": "code",
   "execution_count": 273,
   "metadata": {},
   "outputs": [],
   "source": [
    "def make_topictable_per_doc(ldamodel, corpus):\n",
    "    topic_table = pd.DataFrame()\n",
    "    for i, topic_list in enumerate(ldamodel[corpus]):\n",
    "        doc = topic_list[0] if ldamodel.per_word_topics else topic_list            \n",
    "        doc = sorted(doc, key=lambda x: (x[1]), reverse=True)\n",
    "\n",
    "        # 모든 문서에 대해서 각각 아래를 수행\n",
    "        for j, (topic_num, prop_topic) in enumerate(doc): #  몇 번 토픽인지와 비중을 나눠서 저장한다.\n",
    "            if j == 0:  # 정렬을 한 상태이므로 가장 앞에 있는 것이 가장 비중이 높은 토픽\n",
    "                topic_table = topic_table.append(pd.Series([int(topic_num), round(prop_topic,4), topic_list]), ignore_index=True)\n",
    "            else:\n",
    "                break\n",
    "    return(topic_table)"
   ]
  },
  {
   "cell_type": "code",
   "execution_count": 284,
   "metadata": {},
   "outputs": [],
   "source": [
    "# 사전 및 단어집 만들기\n",
    "dictionary = corpora.Dictionary(X_train)\n",
    "corpus = [dictionary.doc2bow(text) for text in X_train]\n",
    "\n",
    "# 토픽 겟수 설정 : 20개\n",
    "NUM_TOPICS = 20 \n",
    "\n",
    "# LAD 모델링\n",
    "ldamodel = gensim.models.ldamodel.LdaModel(corpus, num_topics = NUM_TOPICS, id2word=dictionary, passes=16)\n",
    "topics = ldamodel.print_topics(num_words=5)"
   ]
  },
  {
   "cell_type": "code",
   "execution_count": 285,
   "metadata": {},
   "outputs": [
    {
     "data": {
      "text/plain": [
       "[(0, '0.116*\"평균\" + 0.090*\"매장\" + 0.070*\"12월\" + 0.066*\"대비\" + 0.059*\"4월\"'),\n",
       " (1, '0.074*\"취득\" + 0.057*\"전\" + 0.050*\"자격증\" + 0.043*\"횟수\" + 0.042*\"년\"'),\n",
       " (2, '0.094*\"과제\" + 0.083*\"사업\" + 0.049*\"POS\" + 0.045*\"분석\" + 0.044*\"계획\"'),\n",
       " (3, '0.072*\"개인\" + 0.045*\"별\" + 0.042*\"점수\" + 0.034*\"개선\" + 0.031*\"사용\"'),\n",
       " (4, '0.172*\"FS\" + 0.132*\"기준\" + 0.121*\"MS\" + 0.050*\"백색\" + 0.046*\"달성\"'),\n",
       " (5, '0.088*\"및\" + 0.079*\"보고\" + 0.068*\"사항\" + 0.067*\"조직\" + 0.047*\"적발\"'),\n",
       " (6, '0.226*\"달성\" + 0.223*\"율\" + 0.123*\"매출\" + 0.101*\"목표\" + 0.095*\"액\"'),\n",
       " (7, '0.133*\"금액\" + 0.082*\"절감\" + 0.074*\"원가\" + 0.072*\"생산\" + 0.048*\"kg\"'),\n",
       " (8, '0.058*\"거래처\" + 0.053*\"유\" + 0.047*\"발효\" + 0.044*\"주요\" + 0.032*\"지점\"'),\n",
       " (9, '0.310*\"이익\" + 0.192*\"직접\" + 0.137*\"영업\" + 0.037*\"카테고리\" + 0.027*\"전환\"'),\n",
       " (10, '0.083*\"상하\" + 0.068*\"개선\" + 0.057*\"업무\" + 0.042*\"프로세스\" + 0.041*\"유기농\"'),\n",
       " (11, '0.092*\"준수\" + 0.089*\"율\" + 0.068*\"확대\" + 0.060*\"취급\" + 0.047*\"SKU\"'),\n",
       " (12, '0.231*\"개선\" + 0.105*\"대리점\" + 0.101*\"구조\" + 0.036*\"실행\" + 0.030*\"별\"'),\n",
       " (13, '0.144*\"타겟\" + 0.112*\"품질\" + 0.109*\"이슈\" + 0.060*\"이상\" + 0.035*\"제로\"'),\n",
       " (14, '0.151*\"관리\" + 0.056*\"내\" + 0.055*\"교육\" + 0.038*\"및\" + 0.036*\"시스템\"'),\n",
       " (15, '0.322*\"건수\" + 0.043*\"발생\" + 0.043*\"제안\" + 0.032*\"활동\" + 0.028*\"MIT\"'),\n",
       " (16, '0.108*\"평가\" + 0.063*\"임\" + 0.060*\"클레\" + 0.048*\"정성\" + 0.035*\"률\"'),\n",
       " (17, '0.102*\"채널\" + 0.086*\"치즈\" + 0.082*\"신규\" + 0.059*\"개척\" + 0.056*\"GT\"'),\n",
       " (18, '0.138*\"2\" + 0.117*\"1\" + 0.061*\"3\" + 0.047*\"육성\" + 0.046*\"보고서\"'),\n",
       " (19, '0.162*\"액\" + 0.153*\"매출\" + 0.063*\"신제품\" + 0.022*\"수입\" + 0.022*\"및\"')]"
      ]
     },
     "execution_count": 285,
     "metadata": {},
     "output_type": "execute_result"
    }
   ],
   "source": [
    "topics"
   ]
  },
  {
   "cell_type": "code",
   "execution_count": null,
   "metadata": {},
   "outputs": [],
   "source": [
    "[\"보고서\",\n",
    " (1, '0.255*\"직접\" + 0.079*\"별\" + 0.046*\"확대\" + 0.036*\"건수\" + 0.036*\"전환\"'),\n",
    " '영업이익율 달성\",\n",
    " '신규 금액 투입',\n",
    " \"FS/GT 실적\",\n",
    " \"MS 기준\",\n",
    " \"대리점 통합\",\n",
    " '클레임',\n",
    " \"일정 준수\",\n",
    " \"매장 프로그램 개발\",\n",
    " '매출액 목표 달성',\n",
    " '상하 유기농 사업부',\n",
    " \"100 이상 취득\",\n",
    " \"교육\",\n",
    " \"제안 활동\",\n",
    " '개척 목표 달성',\n",
    " '대리점 구조 개선',\n",
    " \"정성 평가 진행\",\n",
    " \"품질 이슈\",\n",
    " \"생산 원가 절감\" ]"
   ]
  },
  {
   "cell_type": "code",
   "execution_count": null,
   "metadata": {},
   "outputs": [],
   "source": []
  },
  {
   "cell_type": "code",
   "execution_count": 278,
   "metadata": {},
   "outputs": [],
   "source": [
    "topictable = make_topictable_per_doc(ldamodel, corpus)\n",
    "topictable = topictable.reset_index() # 문서 번호을 의미하는 열(column)로 사용하기 위해서 인덱스 열을 하나 더 만든다.\n",
    "topictable.columns = ['문서 번호', '가장 비중이 높은 토픽', '가장 높은 토픽의 비중', '각 토픽의 비중']\n",
    "\n",
    "# topictable['(code)구매제품'] = list(result0['(code)구매제품'])\n",
    "# topictable['내용'] = list(result0['내용'])"
   ]
  },
  {
   "cell_type": "code",
   "execution_count": 280,
   "metadata": {
    "scrolled": true
   },
   "outputs": [
    {
     "data": {
      "text/html": [
       "<div>\n",
       "<style scoped>\n",
       "    .dataframe tbody tr th:only-of-type {\n",
       "        vertical-align: middle;\n",
       "    }\n",
       "\n",
       "    .dataframe tbody tr th {\n",
       "        vertical-align: top;\n",
       "    }\n",
       "\n",
       "    .dataframe thead th {\n",
       "        text-align: right;\n",
       "    }\n",
       "</style>\n",
       "<table border=\"1\" class=\"dataframe\">\n",
       "  <thead>\n",
       "    <tr style=\"text-align: right;\">\n",
       "      <th></th>\n",
       "      <th>문서 번호</th>\n",
       "      <th>가장 비중이 높은 토픽</th>\n",
       "      <th>가장 높은 토픽의 비중</th>\n",
       "      <th>각 토픽의 비중</th>\n",
       "    </tr>\n",
       "  </thead>\n",
       "  <tbody>\n",
       "    <tr>\n",
       "      <th>0</th>\n",
       "      <td>0</td>\n",
       "      <td>4.0</td>\n",
       "      <td>0.3813</td>\n",
       "      <td>[(4, 0.3812588), (11, 0.25622952), (16, 0.1312...</td>\n",
       "    </tr>\n",
       "    <tr>\n",
       "      <th>1</th>\n",
       "      <td>1</td>\n",
       "      <td>17.0</td>\n",
       "      <td>0.2625</td>\n",
       "      <td>[(0, 0.012501147), (1, 0.012501147), (2, 0.012...</td>\n",
       "    </tr>\n",
       "    <tr>\n",
       "      <th>2</th>\n",
       "      <td>2</td>\n",
       "      <td>11.0</td>\n",
       "      <td>0.2912</td>\n",
       "      <td>[(3, 0.15252127), (4, 0.13465723), (9, 0.17129...</td>\n",
       "    </tr>\n",
       "    <tr>\n",
       "      <th>3</th>\n",
       "      <td>3</td>\n",
       "      <td>16.0</td>\n",
       "      <td>0.3503</td>\n",
       "      <td>[(0, 0.016682014), (1, 0.016682014), (2, 0.016...</td>\n",
       "    </tr>\n",
       "    <tr>\n",
       "      <th>4</th>\n",
       "      <td>4</td>\n",
       "      <td>16.0</td>\n",
       "      <td>0.3500</td>\n",
       "      <td>[(0, 0.016666884), (1, 0.016666884), (2, 0.016...</td>\n",
       "    </tr>\n",
       "  </tbody>\n",
       "</table>\n",
       "</div>"
      ],
      "text/plain": [
       "   문서 번호  가장 비중이 높은 토픽  가장 높은 토픽의 비중  \\\n",
       "0      0           4.0        0.3813   \n",
       "1      1          17.0        0.2625   \n",
       "2      2          11.0        0.2912   \n",
       "3      3          16.0        0.3503   \n",
       "4      4          16.0        0.3500   \n",
       "\n",
       "                                            각 토픽의 비중  \n",
       "0  [(4, 0.3812588), (11, 0.25622952), (16, 0.1312...  \n",
       "1  [(0, 0.012501147), (1, 0.012501147), (2, 0.012...  \n",
       "2  [(3, 0.15252127), (4, 0.13465723), (9, 0.17129...  \n",
       "3  [(0, 0.016682014), (1, 0.016682014), (2, 0.016...  \n",
       "4  [(0, 0.016666884), (1, 0.016666884), (2, 0.016...  "
      ]
     },
     "execution_count": 280,
     "metadata": {},
     "output_type": "execute_result"
    }
   ],
   "source": [
    "topictable.head()"
   ]
  },
  {
   "cell_type": "code",
   "execution_count": null,
   "metadata": {},
   "outputs": [],
   "source": []
  },
  {
   "cell_type": "code",
   "execution_count": 283,
   "metadata": {},
   "outputs": [],
   "source": [
    "# Excel 자료 저장 v2\n",
    "now = datetime.today()    # 현재\n",
    "date = now.strftime('%Y%m%d')\n",
    "\n",
    "writer = pd.ExcelWriter('./'+ date+ '_KPI_v2.xlsx')\n",
    "df.to_excel(writer, 'Sheet1')\n",
    "df2.to_excel(writer, 'single')\n",
    "topictable.to_excel(writer, 'topic')\n",
    "writer.save()"
   ]
  },
  {
   "cell_type": "code",
   "execution_count": null,
   "metadata": {},
   "outputs": [],
   "source": []
  },
  {
   "cell_type": "code",
   "execution_count": null,
   "metadata": {},
   "outputs": [],
   "source": []
  },
  {
   "cell_type": "code",
   "execution_count": null,
   "metadata": {},
   "outputs": [],
   "source": []
  }
 ],
 "metadata": {
  "kernelspec": {
   "display_name": "Python 3",
   "language": "python",
   "name": "python3"
  },
  "language_info": {
   "codemirror_mode": {
    "name": "ipython",
    "version": 3
   },
   "file_extension": ".py",
   "mimetype": "text/x-python",
   "name": "python",
   "nbconvert_exporter": "python",
   "pygments_lexer": "ipython3",
   "version": "3.7.6"
  }
 },
 "nbformat": 4,
 "nbformat_minor": 2
}
