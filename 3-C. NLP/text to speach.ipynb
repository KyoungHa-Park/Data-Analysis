{
 "cells": [
  {
   "cell_type": "code",
   "execution_count": 5,
   "metadata": {},
   "outputs": [],
   "source": [
    "# https://gtts.readthedocs.io/en/latest/"
   ]
  },
  {
   "cell_type": "code",
   "execution_count": 1,
   "metadata": {},
   "outputs": [],
   "source": []
  },
  {
   "cell_type": "code",
   "execution_count": 1,
   "metadata": {},
   "outputs": [],
   "source": [
    "from gtts import gTTS\n",
    "import os\n",
    "import glob\n",
    "\n",
    "def text_to_speach(file_names):\n",
    "    # .txt file read\n",
    "    f = open(file_names, encoding='UTF8')\n",
    "    text = f.read().replace('\\n', '')\n",
    "    f.close()\n",
    "\n",
    "    # converting text to speach \n",
    "    my_obj = gTTS(text=text, lang='en', slow=False)\n",
    "    my_obj.save(file_names.replace('.txt','.mp3'))\n",
    "    return print('[{}] is generated & saved!'.format(file_names.replace('.txt','.mp3') ))"
   ]
  },
  {
   "cell_type": "code",
   "execution_count": 2,
   "metadata": {},
   "outputs": [
    {
     "name": "stdout",
     "output_type": "stream",
     "text": [
      "[resume_01.mp3] is generated & saved!\n"
     ]
    }
   ],
   "source": [
    "file_list = glob.glob(\"*.txt\")\n",
    "\n",
    "for file_ in file_list:\n",
    "     text_to_speach(file_)"
   ]
  },
  {
   "cell_type": "code",
   "execution_count": 29,
   "metadata": {},
   "outputs": [
    {
     "name": "stdout",
     "output_type": "stream",
     "text": [
      "[resume_01.txt] is generated & saved!\n",
      "[resume_02.txt] is generated & saved!\n",
      "[resume_03.txt] is generated & saved!\n",
      "[resume_04.txt] is generated & saved!\n",
      "[resume_05.txt] is generated & saved!\n"
     ]
    }
   ],
   "source": [
    "file_list = glob.glob(\"*.txt\")\n",
    "\n",
    "for file_ in file_list:\n",
    "     text_to_speach(file_)"
   ]
  },
  {
   "cell_type": "code",
   "execution_count": null,
   "metadata": {},
   "outputs": [],
   "source": [
    "file_list = glob.glob(\"resume_*.txt\")\n"
   ]
  },
  {
   "cell_type": "code",
   "execution_count": null,
   "metadata": {},
   "outputs": [],
   "source": []
  },
  {
   "cell_type": "code",
   "execution_count": null,
   "metadata": {},
   "outputs": [],
   "source": []
  },
  {
   "cell_type": "code",
   "execution_count": null,
   "metadata": {},
   "outputs": [],
   "source": []
  },
  {
   "cell_type": "code",
   "execution_count": 10,
   "metadata": {},
   "outputs": [],
   "source": [
    "text = \"Hello, this is an example of text to speech using the gTTS library in Python.\"\n",
    "\n",
    "# Language in which you want to convert\n",
    "language = 'en'\n",
    "\n",
    "# Passing the text and language to the engine, \n",
    "# here we have marked slow=False. Which tells \n",
    "# the module that the converted audio should \n",
    "# have a high speed\n",
    "myobj = gTTS(text=text, lang=language, slow=False)\n",
    "\n",
    "# Saving the converted audio in a mp3 file named\n",
    "# welcome \n",
    "myobj.save(\"welcome_v0.mp3\")\n",
    "\n",
    "# # Playing the converted file\n",
    "# os.system(\"mpg321 welcome.mp3\")"
   ]
  },
  {
   "cell_type": "code",
   "execution_count": 11,
   "metadata": {},
   "outputs": [],
   "source": []
  },
  {
   "cell_type": "code",
   "execution_count": 12,
   "metadata": {},
   "outputs": [],
   "source": [
    "myobj_2 = gTTS(text=text, lang=language, tld='co.uk', slow=False)\n",
    "myobj_2.save(\"welcome_v2.mp3\")\n"
   ]
  },
  {
   "cell_type": "code",
   "execution_count": 13,
   "metadata": {},
   "outputs": [],
   "source": [
    "myobj_3 = gTTS(text=text, lang=language, tld='ca', slow=False)\n",
    "myobj_3.save(\"welcome_v3.mp3\")\n"
   ]
  },
  {
   "cell_type": "code",
   "execution_count": null,
   "metadata": {},
   "outputs": [],
   "source": []
  }
 ],
 "metadata": {
  "kernelspec": {
   "display_name": "Python 3",
   "language": "python",
   "name": "python3"
  },
  "language_info": {
   "codemirror_mode": {
    "name": "ipython",
    "version": 3
   },
   "file_extension": ".py",
   "mimetype": "text/x-python",
   "name": "python",
   "nbconvert_exporter": "python",
   "pygments_lexer": "ipython3",
   "version": "3.11.4"
  },
  "orig_nbformat": 4
 },
 "nbformat": 4,
 "nbformat_minor": 2
}
