{
 "cells": [
  {
   "cell_type": "code",
   "execution_count": null,
   "metadata": {
    "executionInfo": {
     "elapsed": 5,
     "status": "ok",
     "timestamp": 1670564656470,
     "user": {
      "displayName": "박경하",
      "userId": "14970276928355419245"
     },
     "user_tz": -540
    },
    "id": "tQyd30mUaUaW"
   },
   "outputs": [],
   "source": []
  },
  {
   "cell_type": "code",
   "execution_count": 1,
   "metadata": {
    "executionInfo": {
     "elapsed": 266,
     "status": "ok",
     "timestamp": 1670569438447,
     "user": {
      "displayName": "박경하",
      "userId": "14970276928355419245"
     },
     "user_tz": -540
    },
    "id": "5Dv32rxqaVYX"
   },
   "outputs": [],
   "source": [
    "from tensorflow.keras.models import load_model\n",
    "from tensorflow import keras\n",
    "import pickle\n",
    "import re\n",
    "from konlpy.tag import Okt\n",
    "from tensorflow.keras.preprocessing.sequence import pad_sequences"
   ]
  },
  {
   "cell_type": "code",
   "execution_count": 13,
   "metadata": {
    "executionInfo": {
     "elapsed": 2749,
     "status": "ok",
     "timestamp": 1670569501989,
     "user": {
      "displayName": "박경하",
      "userId": "14970276928355419245"
     },
     "user_tz": -540
    },
    "id": "AvywEMWsss4n"
   },
   "outputs": [],
   "source": [
    "max_len = 80\n",
    "okt = Okt()\n",
    "stopwords = ['도', '는', '다', '의', '가', '이', '은', '한', '에', '하', '고', '을', '를', '인', '듯', '과', '와',\n",
    "             '네', '들', '듯', '지', '임', '게', '요', '로', '하고', '으로', '안', '너무', '잘', ]\n"
   ]
  },
  {
   "cell_type": "code",
   "execution_count": 14,
   "metadata": {
    "executionInfo": {
     "elapsed": 3,
     "status": "ok",
     "timestamp": 1670569502995,
     "user": {
      "displayName": "박경하",
      "userId": "14970276928355419245"
     },
     "user_tz": -540
    },
    "id": "zodjIb0TaVar"
   },
   "outputs": [],
   "source": [
    "text = '다른 회사 두유는 비린내??같은게 너무 심해서 못마시는데 매일우유는 고소하고 담백해서 좋아요.'"
   ]
  },
  {
   "cell_type": "code",
   "execution_count": 15,
   "metadata": {
    "executionInfo": {
     "elapsed": 7569,
     "status": "ok",
     "timestamp": 1670569511309,
     "user": {
      "displayName": "박경하",
      "userId": "14970276928355419245"
     },
     "user_tz": -540
    },
    "id": "p8gp-ZVSsWBx"
   },
   "outputs": [],
   "source": [
    "new_sentence = re.sub(r'[^ㄱ-ㅎㅏ-ㅣ가-힣 ]','', text)\n",
    "new_sentence = okt.morphs(new_sentence)\n",
    "new_sentence = [word for word in new_sentence if not word in stopwords]\n",
    "encoded = tokenizer.texts_to_sequences([new_sentence])\n",
    "pad_new = pad_sequences(encoded, maxlen = max_len)"
   ]
  },
  {
   "cell_type": "code",
   "execution_count": 17,
   "metadata": {
    "colab": {
     "base_uri": "https://localhost:8080/"
    },
    "executionInfo": {
     "elapsed": 265,
     "status": "ok",
     "timestamp": 1670569519982,
     "user": {
      "displayName": "박경하",
      "userId": "14970276928355419245"
     },
     "user_tz": -540
    },
    "id": "5MiTawxSs-Tf",
    "outputId": "185958e2-ee76-4dec-dea2-3683238261bb"
   },
   "outputs": [
    {
     "data": {
      "text/plain": [
       "[[38, 771, 704, 4440, 1066, 1249, 21, 6070, 194, 71, 169, 1361, 8707, 3]]"
      ]
     },
     "execution_count": 17,
     "metadata": {},
     "output_type": "execute_result"
    }
   ],
   "source": [
    "encoded"
   ]
  },
  {
   "cell_type": "code",
   "execution_count": 16,
   "metadata": {
    "colab": {
     "base_uri": "https://localhost:8080/"
    },
    "executionInfo": {
     "elapsed": 17,
     "status": "ok",
     "timestamp": 1670569511310,
     "user": {
      "displayName": "박경하",
      "userId": "14970276928355419245"
     },
     "user_tz": -540
    },
    "id": "lCjpwOjBsWEg",
    "outputId": "e0cb952b-eae8-487f-b06e-90c8e746e905"
   },
   "outputs": [
    {
     "data": {
      "text/plain": [
       "array([[   0,    0,    0,    0,    0,    0,    0,    0,    0,    0,    0,\n",
       "           0,    0,    0,    0,    0,    0,    0,    0,    0,    0,    0,\n",
       "           0,    0,    0,    0,    0,    0,    0,    0,    0,    0,    0,\n",
       "           0,    0,    0,    0,    0,    0,    0,    0,    0,    0,    0,\n",
       "           0,    0,    0,    0,    0,    0,    0,    0,    0,    0,    0,\n",
       "           0,    0,    0,    0,    0,    0,    0,    0,    0,    0,    0,\n",
       "          38,  771,  704, 4440, 1066, 1249,   21, 6070,  194,   71,  169,\n",
       "        1361, 8707,    3]], dtype=int32)"
      ]
     },
     "execution_count": 16,
     "metadata": {},
     "output_type": "execute_result"
    }
   ],
   "source": [
    "pad_new"
   ]
  },
  {
   "cell_type": "code",
   "execution_count": null,
   "metadata": {
    "id": "hjgE0LPLsWHE"
   },
   "outputs": [],
   "source": []
  },
  {
   "cell_type": "code",
   "execution_count": 6,
   "metadata": {
    "executionInfo": {
     "elapsed": 431,
     "status": "ok",
     "timestamp": 1670569348792,
     "user": {
      "displayName": "박경하",
      "userId": "14970276928355419245"
     },
     "user_tz": -540
    },
    "id": "ldP5ldBkaVdV"
   },
   "outputs": [],
   "source": [
    "# load tokenzier\n",
    "with open('./GRU_model_200708_tokenizer.pickle', 'rb') as handle:\n",
    "    tokenizer = pickle.load(handle)"
   ]
  },
  {
   "cell_type": "code",
   "execution_count": 4,
   "metadata": {
    "colab": {
     "base_uri": "https://localhost:8080/"
    },
    "executionInfo": {
     "elapsed": 5,
     "status": "ok",
     "timestamp": 1670564876065,
     "user": {
      "displayName": "박경하",
      "userId": "14970276928355419245"
     },
     "user_tz": -540
    },
    "id": "MJtsUZ0qaVfv",
    "outputId": "add9365a-c65e-4d9b-ebcb-a38f844a0a1f"
   },
   "outputs": [
    {
     "data": {
      "text/plain": [
       "[[629, 1890]]"
      ]
     },
     "execution_count": 4,
     "metadata": {},
     "output_type": "execute_result"
    }
   ],
   "source": [
    "new_sentence = ['우리', '카드']\n",
    "tokenizer.texts_to_sequences([new_sentence])"
   ]
  },
  {
   "cell_type": "code",
   "execution_count": null,
   "metadata": {},
   "outputs": [],
   "source": []
  },
  {
   "cell_type": "code",
   "execution_count": null,
   "metadata": {},
   "outputs": [],
   "source": []
  },
  {
   "cell_type": "code",
   "execution_count": 3,
   "metadata": {},
   "outputs": [],
   "source": [
    "from keras.models import load_model\n",
    "import h5py\n",
    "import gcsfs\n",
    "import pickle\n",
    "\n",
    "PROJECT_NAME = '*********'\n",
    "CREDENTIALS  = \"./***************************.json\"\n",
    "MODEL_PATH   = 'gs://npl_text_v2/GRU_model_200708.h5'\n",
    "TOKEN_PATH   = 'gs://npl_text_v2/GRU_model_200708_tokenizer.pickle'\n",
    "\n",
    "FS = gcsfs.GCSFileSystem(project=PROJECT_NAME, token=CREDENTIALS)"
   ]
  },
  {
   "cell_type": "code",
   "execution_count": null,
   "metadata": {},
   "outputs": [],
   "source": []
  },
  {
   "cell_type": "code",
   "execution_count": 8,
   "metadata": {},
   "outputs": [],
   "source": [
    "with FS.open(TOKEN_PATH, 'rb') as handle:\n",
    "     tokenizer = pickle.load(handle)"
   ]
  },
  {
   "cell_type": "code",
   "execution_count": 9,
   "metadata": {
    "id": "ktZo-VnzaViL"
   },
   "outputs": [
    {
     "data": {
      "text/plain": [
       "[[629, 1890]]"
      ]
     },
     "execution_count": 9,
     "metadata": {},
     "output_type": "execute_result"
    }
   ],
   "source": [
    "new_sentence = ['우리', '카드']\n",
    "tokenizer.texts_to_sequences([new_sentence])"
   ]
  },
  {
   "cell_type": "code",
   "execution_count": null,
   "metadata": {
    "id": "L4bZ92T0aVkr"
   },
   "outputs": [],
   "source": []
  },
  {
   "cell_type": "code",
   "execution_count": null,
   "metadata": {},
   "outputs": [],
   "source": []
  },
  {
   "cell_type": "code",
   "execution_count": 12,
   "metadata": {},
   "outputs": [],
   "source": [
    "with FS.open(MODEL_PATH, 'rb') as model_file:\n",
    "    model_gcs = h5py.File(model_file, 'r')\n",
    "    myModel = load_model(model_gcs)"
   ]
  },
  {
   "cell_type": "code",
   "execution_count": 16,
   "metadata": {},
   "outputs": [],
   "source": [
    "def sentiment_predict2(new_sentence):\n",
    "    encoded = tokenizer.texts_to_sequences([new_sentence])\n",
    "    pad_new = pad_sequences(encoded, maxlen = max_len)\n",
    "    score = float(myModel.predict(pad_new))\n",
    "    if score <= 0.15:\n",
    "        result = '부정'\n",
    "    else:\n",
    "        result = '중립/긍정'\n",
    "    return result, round( (1-score)*100,2)"
   ]
  },
  {
   "cell_type": "code",
   "execution_count": 19,
   "metadata": {},
   "outputs": [
    {
     "name": "stdout",
     "output_type": "stream",
     "text": [
      "1/1 [==============================] - 0s 41ms/step\n"
     ]
    }
   ],
   "source": [
    "max_len = 80\n",
    "result__ =  sentiment_predict2(new_sentence)"
   ]
  },
  {
   "cell_type": "code",
   "execution_count": 20,
   "metadata": {},
   "outputs": [
    {
     "data": {
      "text/plain": [
       "('중립/긍정', 64.41)"
      ]
     },
     "execution_count": 20,
     "metadata": {},
     "output_type": "execute_result"
    }
   ],
   "source": [
    "result__"
   ]
  },
  {
   "cell_type": "code",
   "execution_count": null,
   "metadata": {},
   "outputs": [],
   "source": []
  }
 ],
 "metadata": {
  "colab": {
   "authorship_tag": "ABX9TyMC4AqI5EVIxA7YgIK4f5KW",
   "provenance": []
  },
  "kernelspec": {
   "display_name": "Python 3",
   "language": "python",
   "name": "python3"
  },
  "language_info": {
   "codemirror_mode": {
    "name": "ipython",
    "version": 3
   },
   "file_extension": ".py",
   "mimetype": "text/x-python",
   "name": "python",
   "nbconvert_exporter": "python",
   "pygments_lexer": "ipython3",
   "version": "3.11.4"
  }
 },
 "nbformat": 4,
 "nbformat_minor": 1
}
