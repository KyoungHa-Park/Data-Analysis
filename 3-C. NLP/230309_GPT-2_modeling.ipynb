{
 "cells": [
  {
   "cell_type": "code",
   "execution_count": 1,
   "id": "21891303",
   "metadata": {},
   "outputs": [],
   "source": [
    "import numpy as np\n",
    "import random\n",
    "import tensorflow as tf\n",
    "from transformers import AutoTokenizer\n",
    "from transformers import TFGPT2LMHeadModel"
   ]
  },
  {
   "cell_type": "code",
   "execution_count": null,
   "id": "636adac7",
   "metadata": {},
   "outputs": [],
   "source": []
  },
  {
   "cell_type": "code",
   "execution_count": null,
   "id": "7db53236",
   "metadata": {},
   "outputs": [],
   "source": []
  },
  {
   "cell_type": "code",
   "execution_count": 2,
   "id": "eedffd3f",
   "metadata": {},
   "outputs": [
    {
     "data": {
      "application/vnd.jupyter.widget-view+json": {
       "model_id": "846e4d2a9397427bafaac982a0a19db4",
       "version_major": 2,
       "version_minor": 0
      },
      "text/plain": [
       "Downloading (…)lve/main/config.json:   0%|          | 0.00/1.00k [00:00<?, ?B/s]"
      ]
     },
     "metadata": {},
     "output_type": "display_data"
    },
    {
     "name": "stderr",
     "output_type": "stream",
     "text": [
      "C:\\Users\\MAEIL\\AppData\\Roaming\\Python\\Python37\\site-packages\\huggingface_hub\\file_download.py:133: UserWarning: `huggingface_hub` cache-system uses symlinks by default to efficiently store duplicated files but your machine does not support them in C:\\Users\\MAEIL\\.cache\\huggingface\\hub. Caching files will still work but in a degraded version that might require more space on your disk. This warning can be disabled by setting the `HF_HUB_DISABLE_SYMLINKS_WARNING` environment variable. For more details, see https://huggingface.co/docs/huggingface_hub/how-to-cache#limitations.\n",
      "To support symlinks on Windows, you either need to activate Developer Mode or to run Python as an administrator. In order to see activate developer mode, see this article: https://docs.microsoft.com/en-us/windows/apps/get-started/enable-your-device-for-development\n",
      "  warnings.warn(message)\n"
     ]
    },
    {
     "data": {
      "application/vnd.jupyter.widget-view+json": {
       "model_id": "0450907d0b0949c0bd3a2302dceb8d89",
       "version_major": 2,
       "version_minor": 0
      },
      "text/plain": [
       "Downloading pytorch_model.bin:   0%|          | 0.00/513M [00:00<?, ?B/s]"
      ]
     },
     "metadata": {},
     "output_type": "display_data"
    },
    {
     "name": "stderr",
     "output_type": "stream",
     "text": [
      "Some weights of the PyTorch model were not used when initializing the TF 2.0 model TFGPT2LMHeadModel: ['transformer.h.9.attn.masked_bias', 'transformer.h.1.attn.masked_bias', 'transformer.h.3.attn.masked_bias', 'transformer.h.7.attn.masked_bias', 'transformer.h.2.attn.masked_bias', 'lm_head.weight', 'transformer.h.5.attn.masked_bias', 'transformer.h.10.attn.masked_bias', 'transformer.h.0.attn.masked_bias', 'transformer.h.11.attn.masked_bias', 'transformer.h.6.attn.masked_bias', 'transformer.h.4.attn.masked_bias', 'transformer.h.8.attn.masked_bias']\n",
      "- This IS expected if you are initializing TFGPT2LMHeadModel from a PyTorch model trained on another task or with another architecture (e.g. initializing a TFBertForSequenceClassification model from a BertForPreTraining model).\n",
      "- This IS NOT expected if you are initializing TFGPT2LMHeadModel from a PyTorch model that you expect to be exactly identical (e.g. initializing a TFBertForSequenceClassification model from a BertForSequenceClassification model).\n",
      "All the weights of TFGPT2LMHeadModel were initialized from the PyTorch model.\n",
      "If your task is similar to the task the model of the checkpoint was trained on, you can already use TFGPT2LMHeadModel for predictions without further training.\n"
     ]
    },
    {
     "data": {
      "application/vnd.jupyter.widget-view+json": {
       "model_id": "7b9083f4516946158a742e73cd2a9b0b",
       "version_major": 2,
       "version_minor": 0
      },
      "text/plain": [
       "Downloading (…)/main/tokenizer.json:   0%|          | 0.00/2.83M [00:00<?, ?B/s]"
      ]
     },
     "metadata": {},
     "output_type": "display_data"
    },
    {
     "name": "stderr",
     "output_type": "stream",
     "text": [
      "Special tokens have been added in the vocabulary, make sure the associated word embeddings are fine-tuned or trained.\n"
     ]
    }
   ],
   "source": [
    "model = TFGPT2LMHeadModel.from_pretrained('skt/kogpt2-base-v2', from_pt=True)\n",
    "tokenizer = AutoTokenizer.from_pretrained('skt/kogpt2-base-v2')"
   ]
  },
  {
   "cell_type": "code",
   "execution_count": 3,
   "id": "1f1e081e",
   "metadata": {},
   "outputs": [],
   "source": [
    "sent = '근육이 커지기 위해서는'"
   ]
  },
  {
   "cell_type": "code",
   "execution_count": 4,
   "id": "96fe4939",
   "metadata": {},
   "outputs": [
    {
     "name": "stdout",
     "output_type": "stream",
     "text": [
      "tf.Tensor([[33245 10114 12748 11357]], shape=(1, 4), dtype=int32)\n"
     ]
    }
   ],
   "source": [
    "input_ids = tokenizer.encode(sent)\n",
    "input_ids = tf.convert_to_tensor([input_ids])\n",
    "print(input_ids)"
   ]
  },
  {
   "cell_type": "code",
   "execution_count": 5,
   "id": "b3bd466c",
   "metadata": {},
   "outputs": [
    {
     "name": "stderr",
     "output_type": "stream",
     "text": [
      "Special tokens have been added in the vocabulary, make sure the associated word embeddings are fine-tuned or trained.\n"
     ]
    }
   ],
   "source": [
    "tokenizer = AutoTokenizer.from_pretrained('skt/kogpt2-base-v2', bos_token='', eos_token='', pad_token='')"
   ]
  },
  {
   "cell_type": "code",
   "execution_count": 8,
   "id": "e55928fc",
   "metadata": {},
   "outputs": [
    {
     "name": "stdout",
     "output_type": "stream",
     "text": [
      "['▁친구', '네', '▁집에서', '▁마', '셔', '보고', '▁깜짝', '▁놀라', '서', '▁바로', '▁주문', '했', '어', '요.', '▁이제', '▁카페', '▁갈', '▁일', '▁없', '겠', '어', '요', '!', '▁따', '듯한', '▁커피', '만', '▁드', '시', '던', '▁엄', '마도', '▁제가', '▁만들어', '▁드리', '니', '▁아이', '스로', '▁오', '트라', '떼', '만', '▁드', '신', '대', '요', '!', '▁이제', '▁꿀', '조합', '▁레', '시피', '▁갑', '니', '다', '!\\n', '<unk>', '\\n', '<unk>', '\\n', '1.', '▁얼', '음을', '▁2', '-3', '개', '▁넣고', '▁오', '트라', '떼', '를', '▁4', '/2', '▁따른다.\\n', '2.', '▁커피', '를', '▁내린다.\\n', '3.', '▁다시', '▁오', '트라', '떼', '를', '▁따른다.\\n', '4.', '▁그대로', '▁마신', '다.', '▁(', '휘', '휘', '▁저', '으면', '▁맛이', '▁조금', '▁떨어져', '요', '▁', 'ᄏ', '<unk>', '<unk>', '▁', 'ᄏ', '<unk>', '<unk>', '▁)', '▁3', '팩', '만', '▁주문', '했는데,', '▁엄', '마가', '▁10', '팩', '▁더', '▁주문', '▁하', '라고', '▁하시', '네', '요', '😆', '▁맛있는', '▁홈', '카', '페', '가', '▁완성', '됐', '어', '요', '!']\n"
     ]
    }
   ],
   "source": [
    "print(tokenizer.tokenize(\"친구네 집에서 마셔보고 깜짝 놀라서 바로 주문했어요. 이제 카페 갈 일 없겠어요! 따듯한 커피만 드시던 엄마도 제가 만들어 드리니 아이스로 오트라떼만 드신대요! 이제 꿀조합 레시피 갑니다!\\n🍯\\n🍯\\n1. 얼음을 2-3개 넣고 오트라떼를 4/2 따른다.\\n2. 커피를 내린다.\\n3. 다시 오트라떼를 따른다.\\n4. 그대로 마신다. (휘휘 저으면 맛이 조금 떨어져요 ㅋ꙼̈ ㅋ꙼̈ ) 3팩만 주문했는데, 엄마가 10팩 더 주문 하라고 하시네요😆 맛있는 홈카페가 완성됐어요!\"))"
   ]
  },
  {
   "cell_type": "markdown",
   "id": "20d115d3",
   "metadata": {},
   "source": []
  },
  {
   "cell_type": "code",
   "execution_count": null,
   "id": "8b6d2bf1",
   "metadata": {},
   "outputs": [],
   "source": []
  },
  {
   "cell_type": "code",
   "execution_count": null,
   "id": "013d04b0",
   "metadata": {},
   "outputs": [],
   "source": []
  },
  {
   "cell_type": "code",
   "execution_count": null,
   "id": "b99f6f04",
   "metadata": {},
   "outputs": [],
   "source": []
  },
  {
   "cell_type": "code",
   "execution_count": null,
   "id": "8dab44f4",
   "metadata": {},
   "outputs": [],
   "source": []
  },
  {
   "cell_type": "code",
   "execution_count": null,
   "id": "49b9b01e",
   "metadata": {},
   "outputs": [],
   "source": []
  },
  {
   "cell_type": "code",
   "execution_count": null,
   "id": "0923ccf0",
   "metadata": {},
   "outputs": [],
   "source": []
  }
 ],
 "metadata": {
  "kernelspec": {
   "display_name": "Python 3",
   "language": "python",
   "name": "python3"
  },
  "language_info": {
   "codemirror_mode": {
    "name": "ipython",
    "version": 3
   },
   "file_extension": ".py",
   "mimetype": "text/x-python",
   "name": "python",
   "nbconvert_exporter": "python",
   "pygments_lexer": "ipython3",
   "version": "3.7.6"
  }
 },
 "nbformat": 4,
 "nbformat_minor": 5
}
