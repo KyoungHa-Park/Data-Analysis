{
 "cells": [
  {
   "cell_type": "code",
   "execution_count": null,
   "metadata": {},
   "outputs": [],
   "source": []
  },
  {
   "cell_type": "code",
   "execution_count": 3,
   "metadata": {},
   "outputs": [],
   "source": [
    "#libraries\n",
    "import pandas as pd\n",
    "import numpy as np\n",
    "import matplotlib.pyplot as plt\n",
    "import seaborn as sns\n",
    "from textblob import TextBlob\n",
    "# from wordcloud import WordCloud\n",
    "# from google.colab import files"
   ]
  },
  {
   "cell_type": "code",
   "execution_count": 4,
   "metadata": {},
   "outputs": [],
   "source": [
    "# load the data\n",
    "reviews_df = pd.read_csv(\"https://raw.githubusercontent.com/AlvarezJoe/Datasets/main/reviews.csv\")\n",
    "reviews_llm45_df = pd.read_csv(\"https://raw.githubusercontent.com/AlvarezJoe/Datasets/main/reviews_llm45.csv\")\n",
    "reviews_llm90_df = pd.read_csv(\"https://raw.githubusercontent.com/AlvarezJoe/Datasets/main/reviews_llm90.csv\")"
   ]
  },
  {
   "cell_type": "code",
   "execution_count": 5,
   "metadata": {},
   "outputs": [
    {
     "name": "stdout",
     "output_type": "stream",
     "text": [
      "<class 'pandas.core.frame.DataFrame'>\n",
      "RangeIndex: 10766 entries, 0 to 10765\n",
      "Data columns (total 6 columns):\n",
      " #   Column          Non-Null Count  Dtype  \n",
      "---  ------          --------------  -----  \n",
      " 0   CompanyName     10766 non-null  object \n",
      " 1   Review          10764 non-null  object \n",
      " 2   Date            10766 non-null  object \n",
      " 3   OwnershipType   10766 non-null  object \n",
      " 4   ReviewLen       10766 non-null  int64  \n",
      " 5   AvgSentenceLen  10766 non-null  float64\n",
      "dtypes: float64(1), int64(1), object(4)\n",
      "memory usage: 504.8+ KB\n"
     ]
    }
   ],
   "source": [
    "#display info\n",
    "reviews_df.info()"
   ]
  },
  {
   "cell_type": "code",
   "execution_count": 8,
   "metadata": {},
   "outputs": [
    {
     "name": "stdout",
     "output_type": "stream",
     "text": [
      "<class 'pandas.core.frame.DataFrame'>\n",
      "Index: 10764 entries, 0 to 10765\n",
      "Data columns (total 6 columns):\n",
      " #   Column          Non-Null Count  Dtype  \n",
      "---  ------          --------------  -----  \n",
      " 0   CompanyName     10764 non-null  object \n",
      " 1   Review          10764 non-null  object \n",
      " 2   Date            10764 non-null  object \n",
      " 3   OwnershipType   10764 non-null  object \n",
      " 4   ReviewLen       10764 non-null  int64  \n",
      " 5   AvgSentenceLen  10764 non-null  float64\n",
      "dtypes: float64(1), int64(1), object(4)\n",
      "memory usage: 588.7+ KB\n"
     ]
    }
   ],
   "source": [
    "#drop nulls\n",
    "reviews_df = reviews_df.dropna()\n"
   ]
  },
  {
   "cell_type": "code",
   "execution_count": 9,
   "metadata": {},
   "outputs": [
    {
     "data": {
      "text/html": [
       "<div>\n",
       "<style scoped>\n",
       "    .dataframe tbody tr th:only-of-type {\n",
       "        vertical-align: middle;\n",
       "    }\n",
       "\n",
       "    .dataframe tbody tr th {\n",
       "        vertical-align: top;\n",
       "    }\n",
       "\n",
       "    .dataframe thead th {\n",
       "        text-align: right;\n",
       "    }\n",
       "</style>\n",
       "<table border=\"1\" class=\"dataframe\">\n",
       "  <thead>\n",
       "    <tr style=\"text-align: right;\">\n",
       "      <th></th>\n",
       "      <th>CompanyName</th>\n",
       "      <th>Review</th>\n",
       "      <th>Date</th>\n",
       "      <th>OwnershipType</th>\n",
       "      <th>ReviewLen</th>\n",
       "      <th>AvgSentenceLen</th>\n",
       "    </tr>\n",
       "  </thead>\n",
       "  <tbody>\n",
       "    <tr>\n",
       "      <th>10761</th>\n",
       "      <td>american_republic</td>\n",
       "      <td>Abusive unexplained rate increases and unexpla...</td>\n",
       "      <td>2006-08-01</td>\n",
       "      <td>Private</td>\n",
       "      <td>512</td>\n",
       "      <td>28.44</td>\n",
       "    </tr>\n",
       "    <tr>\n",
       "      <th>10762</th>\n",
       "      <td>american_republic</td>\n",
       "      <td>Despite a deductible of $4000 and a co-insuran...</td>\n",
       "      <td>2006-01-29</td>\n",
       "      <td>Private</td>\n",
       "      <td>667</td>\n",
       "      <td>37.06</td>\n",
       "    </tr>\n",
       "    <tr>\n",
       "      <th>10763</th>\n",
       "      <td>american_republic</td>\n",
       "      <td>I have 2 complaints against this company. We s...</td>\n",
       "      <td>2005-08-26</td>\n",
       "      <td>Private</td>\n",
       "      <td>2263</td>\n",
       "      <td>125.72</td>\n",
       "    </tr>\n",
       "    <tr>\n",
       "      <th>10764</th>\n",
       "      <td>american_republic</td>\n",
       "      <td>We had insurance on both our sons, one who liv...</td>\n",
       "      <td>2005-08-02</td>\n",
       "      <td>Private</td>\n",
       "      <td>1036</td>\n",
       "      <td>57.56</td>\n",
       "    </tr>\n",
       "    <tr>\n",
       "      <th>10765</th>\n",
       "      <td>american_republic</td>\n",
       "      <td>First off, the reason I cancelled this company...</td>\n",
       "      <td>2003-01-17</td>\n",
       "      <td>Private</td>\n",
       "      <td>2076</td>\n",
       "      <td>115.33</td>\n",
       "    </tr>\n",
       "  </tbody>\n",
       "</table>\n",
       "</div>"
      ],
      "text/plain": [
       "             CompanyName                                             Review  \\\n",
       "10761  american_republic  Abusive unexplained rate increases and unexpla...   \n",
       "10762  american_republic  Despite a deductible of $4000 and a co-insuran...   \n",
       "10763  american_republic  I have 2 complaints against this company. We s...   \n",
       "10764  american_republic  We had insurance on both our sons, one who liv...   \n",
       "10765  american_republic  First off, the reason I cancelled this company...   \n",
       "\n",
       "             Date OwnershipType  ReviewLen  AvgSentenceLen  \n",
       "10761  2006-08-01       Private        512           28.44  \n",
       "10762  2006-01-29       Private        667           37.06  \n",
       "10763  2005-08-26       Private       2263          125.72  \n",
       "10764  2005-08-02       Private       1036           57.56  \n",
       "10765  2003-01-17       Private       2076          115.33  "
      ]
     },
     "execution_count": 9,
     "metadata": {},
     "output_type": "execute_result"
    }
   ],
   "source": [
    "reviews_df.tail(5)"
   ]
  },
  {
   "cell_type": "code",
   "execution_count": 10,
   "metadata": {},
   "outputs": [],
   "source": []
  },
  {
   "cell_type": "code",
   "execution_count": 13,
   "metadata": {},
   "outputs": [],
   "source": [
    "#create subjective and polarity columns\n",
    "def getSubjectivity(text):\n",
    "    return TextBlob(text).sentiment.subjectivity\n",
    "\n",
    "#get polarity with a function\n",
    "def getPolarity(text):\n",
    "    return TextBlob(text).sentiment.polarity"
   ]
  },
  {
   "cell_type": "code",
   "execution_count": 21,
   "metadata": {},
   "outputs": [
    {
     "name": "stdout",
     "output_type": "stream",
     "text": [
      "- 객관성(Subjectivity) : 0.29234693877551016\n",
      "- 양극성(Polarity) : 0.14744897959183675\n",
      "\n",
      "I've been with United American Insurance for lots of years and I just pay my bill every month. Once a year, I get a letter that they're increasing their rates, which I would prefer they didn't, but I can understand that it has to. A lot of my friends have HMOs but I like that with my insurance, I can go to whichever doctor I want. I've not had one doctor say they don't accept this insurance. Whatever Medicare paid, United American Insurance paid the other 20%. I am pleased with the service I'm getting, where everything is covered and the choices are mine. Others have to go for a second opinion but I don't. If I feel I need to see a special doctor, I can make an appointment and go. So, the flexibility is worth the money.\n"
     ]
    }
   ],
   "source": [
    "# sample\n",
    "print('- 객관성(Subjectivity) : {}'.format( getSubjectivity(reviews_df['Review'][0]) ) )\n",
    "print('- 양극성(Polarity) : {}'.format( getPolarity(reviews_df['Review'][0]) ) )\n",
    "print('')\n",
    "print(reviews_df['Review'][0])\n"
   ]
  },
  {
   "cell_type": "code",
   "execution_count": null,
   "metadata": {},
   "outputs": [],
   "source": []
  },
  {
   "cell_type": "code",
   "execution_count": 14,
   "metadata": {},
   "outputs": [],
   "source": [
    "#create subjective and polarity columns\n",
    "reviews_df['Subjectivity'] = reviews_df['Review'].apply(getSubjectivity)\n",
    "reviews_df['Polarity'] = reviews_df['Review'].apply(getPolarity)"
   ]
  },
  {
   "cell_type": "code",
   "execution_count": 15,
   "metadata": {},
   "outputs": [
    {
     "data": {
      "text/html": [
       "<div>\n",
       "<style scoped>\n",
       "    .dataframe tbody tr th:only-of-type {\n",
       "        vertical-align: middle;\n",
       "    }\n",
       "\n",
       "    .dataframe tbody tr th {\n",
       "        vertical-align: top;\n",
       "    }\n",
       "\n",
       "    .dataframe thead th {\n",
       "        text-align: right;\n",
       "    }\n",
       "</style>\n",
       "<table border=\"1\" class=\"dataframe\">\n",
       "  <thead>\n",
       "    <tr style=\"text-align: right;\">\n",
       "      <th></th>\n",
       "      <th>CompanyName</th>\n",
       "      <th>Review</th>\n",
       "      <th>Date</th>\n",
       "      <th>OwnershipType</th>\n",
       "      <th>ReviewLen</th>\n",
       "      <th>AvgSentenceLen</th>\n",
       "      <th>WordsPerReview</th>\n",
       "      <th>Subjectivity</th>\n",
       "      <th>Polarity</th>\n",
       "    </tr>\n",
       "  </thead>\n",
       "  <tbody>\n",
       "    <tr>\n",
       "      <th>10761</th>\n",
       "      <td>american_republic</td>\n",
       "      <td>Abusive unexplained rate increases and unexpla...</td>\n",
       "      <td>2006-08-01</td>\n",
       "      <td>Private</td>\n",
       "      <td>512</td>\n",
       "      <td>28.44</td>\n",
       "      <td>86</td>\n",
       "      <td>0.304107</td>\n",
       "      <td>0.101250</td>\n",
       "    </tr>\n",
       "    <tr>\n",
       "      <th>10762</th>\n",
       "      <td>american_republic</td>\n",
       "      <td>Despite a deductible of $4000 and a co-insuran...</td>\n",
       "      <td>2006-01-29</td>\n",
       "      <td>Private</td>\n",
       "      <td>667</td>\n",
       "      <td>37.06</td>\n",
       "      <td>113</td>\n",
       "      <td>0.313021</td>\n",
       "      <td>0.023958</td>\n",
       "    </tr>\n",
       "    <tr>\n",
       "      <th>10763</th>\n",
       "      <td>american_republic</td>\n",
       "      <td>I have 2 complaints against this company. We s...</td>\n",
       "      <td>2005-08-26</td>\n",
       "      <td>Private</td>\n",
       "      <td>2263</td>\n",
       "      <td>125.72</td>\n",
       "      <td>422</td>\n",
       "      <td>0.388492</td>\n",
       "      <td>0.024206</td>\n",
       "    </tr>\n",
       "    <tr>\n",
       "      <th>10764</th>\n",
       "      <td>american_republic</td>\n",
       "      <td>We had insurance on both our sons, one who liv...</td>\n",
       "      <td>2005-08-02</td>\n",
       "      <td>Private</td>\n",
       "      <td>1036</td>\n",
       "      <td>57.56</td>\n",
       "      <td>188</td>\n",
       "      <td>0.248077</td>\n",
       "      <td>-0.030769</td>\n",
       "    </tr>\n",
       "    <tr>\n",
       "      <th>10765</th>\n",
       "      <td>american_republic</td>\n",
       "      <td>First off, the reason I cancelled this company...</td>\n",
       "      <td>2003-01-17</td>\n",
       "      <td>Private</td>\n",
       "      <td>2076</td>\n",
       "      <td>115.33</td>\n",
       "      <td>395</td>\n",
       "      <td>0.431481</td>\n",
       "      <td>0.022222</td>\n",
       "    </tr>\n",
       "  </tbody>\n",
       "</table>\n",
       "</div>"
      ],
      "text/plain": [
       "             CompanyName                                             Review  \\\n",
       "10761  american_republic  Abusive unexplained rate increases and unexpla...   \n",
       "10762  american_republic  Despite a deductible of $4000 and a co-insuran...   \n",
       "10763  american_republic  I have 2 complaints against this company. We s...   \n",
       "10764  american_republic  We had insurance on both our sons, one who liv...   \n",
       "10765  american_republic  First off, the reason I cancelled this company...   \n",
       "\n",
       "             Date OwnershipType  ReviewLen  AvgSentenceLen  WordsPerReview  \\\n",
       "10761  2006-08-01       Private        512           28.44              86   \n",
       "10762  2006-01-29       Private        667           37.06             113   \n",
       "10763  2005-08-26       Private       2263          125.72             422   \n",
       "10764  2005-08-02       Private       1036           57.56             188   \n",
       "10765  2003-01-17       Private       2076          115.33             395   \n",
       "\n",
       "       Subjectivity  Polarity  \n",
       "10761      0.304107  0.101250  \n",
       "10762      0.313021  0.023958  \n",
       "10763      0.388492  0.024206  \n",
       "10764      0.248077 -0.030769  \n",
       "10765      0.431481  0.022222  "
      ]
     },
     "execution_count": 15,
     "metadata": {},
     "output_type": "execute_result"
    }
   ],
   "source": [
    "reviews_df.tail(5)"
   ]
  },
  {
   "cell_type": "code",
   "execution_count": null,
   "metadata": {},
   "outputs": [],
   "source": []
  },
  {
   "cell_type": "code",
   "execution_count": 22,
   "metadata": {},
   "outputs": [],
   "source": [
    "def getAnalysis(score):\n",
    "    if score<-.05:\n",
    "        return 'Negative'\n",
    "    elif score>.05:\n",
    "        return 'Positive'\n",
    "    else:\n",
    "        return 'Neutral'"
   ]
  },
  {
   "cell_type": "code",
   "execution_count": 23,
   "metadata": {},
   "outputs": [],
   "source": [
    "reviews_df['Analysis'] = reviews_df['Polarity'].apply(getAnalysis)"
   ]
  },
  {
   "cell_type": "code",
   "execution_count": null,
   "metadata": {},
   "outputs": [],
   "source": []
  },
  {
   "cell_type": "code",
   "execution_count": null,
   "metadata": {},
   "outputs": [],
   "source": []
  },
  {
   "cell_type": "code",
   "execution_count": null,
   "metadata": {},
   "outputs": [],
   "source": []
  },
  {
   "cell_type": "code",
   "execution_count": null,
   "metadata": {},
   "outputs": [],
   "source": []
  },
  {
   "cell_type": "code",
   "execution_count": null,
   "metadata": {},
   "outputs": [],
   "source": []
  }
 ],
 "metadata": {
  "kernelspec": {
   "display_name": "Python 3",
   "language": "python",
   "name": "python3"
  },
  "language_info": {
   "codemirror_mode": {
    "name": "ipython",
    "version": 3
   },
   "file_extension": ".py",
   "mimetype": "text/x-python",
   "name": "python",
   "nbconvert_exporter": "python",
   "pygments_lexer": "ipython3",
   "version": "3.11.4"
  },
  "orig_nbformat": 4
 },
 "nbformat": 4,
 "nbformat_minor": 2
}
