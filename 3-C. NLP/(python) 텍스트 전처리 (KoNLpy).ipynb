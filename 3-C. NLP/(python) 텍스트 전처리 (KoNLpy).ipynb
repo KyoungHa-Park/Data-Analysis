{
 "cells": [
  {
   "cell_type": "markdown",
   "metadata": {},
   "source": [
    "\n",
    "+ [x] 1.텍스트 자료 전처리(text 가공)\n",
    "+ [x] 2.token 결과 비교\n",
    "  + [x] A.KoNLPy test\n",
    "  + [x] B.명사 : okt.nouns(u'text')\n",
    "  + [ ] C.말뭉치 : okt.phrases(u'text')\n",
    "  + [x] D.tag : okt.morphs(u'text')\n",
    "  + [x] E.tag & 조사제거  :okt.pos(u'text', norm=True, stem=True)\n"
   ]
  },
  {
   "cell_type": "code",
   "execution_count": 1,
   "metadata": {},
   "outputs": [
    {
     "name": "stderr",
     "output_type": "stream",
     "text": [
      "C:\\ProgramData\\Anaconda3\\lib\\site-packages\\jpype\\_core.py:210: UserWarning: \n",
      "-------------------------------------------------------------------------------\n",
      "Deprecated: convertStrings was not specified when starting the JVM. The default\n",
      "behavior in JPype will be False starting in JPype 0.8. The recommended setting\n",
      "for new code is convertStrings=False.  The legacy value of True was assumed for\n",
      "this session. If you are a user of an application that reported this warning,\n",
      "please file a ticket with the developer.\n",
      "-------------------------------------------------------------------------------\n",
      "\n",
      "  \"\"\")\n"
     ]
    }
   ],
   "source": [
    "import pandas as pd\n",
    "import numpy as np\n",
    "\n",
    "from konlpy.tag import Okt\n",
    "okt = Okt(\"C:/Program Files/Java/jdk-12.0.1/bin/server/jvm.dll\")\n",
    "\n",
    "import cx_Oracle as oci\n",
    "import os\n",
    "# os.environ[\"NLS_LANG\"] = \".KO16MSWIN949\"  #encodring이 CP949(euc-kr)인 경우\n",
    "os.environ[\"NLS_LANG\"] = \".AL32UTF8\"      #encodring이 UTF-8 인 경우\n"
   ]
  },
  {
   "cell_type": "code",
   "execution_count": null,
   "metadata": {},
   "outputs": [],
   "source": []
  },
  {
   "cell_type": "markdown",
   "metadata": {},
   "source": [
    "### 1.텍스트 자료 전처리(text 가공)"
   ]
  },
  {
   "cell_type": "code",
   "execution_count": 2,
   "metadata": {},
   "outputs": [],
   "source": [
    "# 자료 불러오기 :Excel \n",
    "# data = pd.read_excel('./TCH_CUST_OPNN.xls')"
   ]
  },
  {
   "cell_type": "code",
   "execution_count": 3,
   "metadata": {},
   "outputs": [],
   "source": [
    "# 자료 불러오기 :SQL\n",
    "# 접속정보\n",
    "con_text = open(\"C:/conn_info.txt\", 'r', encoding='utf8')\n",
    "con_text = con_text.read()\n",
    "\n",
    "# DB 접속\n",
    "conn = oci.connect(con_text)\n",
    "\n",
    "# query 열기\n",
    "f = open(\"./query_text data.txt\", 'r')\n",
    "line = f.read()\n",
    "f.close()\n",
    "\n",
    "## query 실행( =자료 추출)\n",
    "df = pd.read_sql(line, con = conn)"
   ]
  },
  {
   "cell_type": "code",
   "execution_count": 22,
   "metadata": {},
   "outputs": [],
   "source": [
    "# 데이터 타입 변경\n",
    "##text 길이가 긴 경우, (LOB)Objects로 처리되므로, 이에 대한 변환 필요\n",
    "df['CTT'] = df['CTT'].astype(str)"
   ]
  },
  {
   "cell_type": "code",
   "execution_count": 42,
   "metadata": {},
   "outputs": [
    {
     "name": "stdout",
     "output_type": "stream",
     "text": [
      "<class 'pandas.core.frame.DataFrame'>\n",
      "RangeIndex: 10165 entries, 0 to 10164\n",
      "Data columns (total 4 columns):\n",
      " #   Column       Non-Null Count  Dtype \n",
      "---  ------       --------------  ----- \n",
      " 0   OPNN_DV_CD   10165 non-null  object\n",
      " 1   TITLE_GUBUN  10165 non-null  object\n",
      " 2   TITE         10165 non-null  object\n",
      " 3   CTT          10165 non-null  object\n",
      "dtypes: object(4)\n",
      "memory usage: 317.8+ KB\n"
     ]
    }
   ],
   "source": [
    "df.info()"
   ]
  },
  {
   "cell_type": "code",
   "execution_count": null,
   "metadata": {},
   "outputs": [],
   "source": []
  },
  {
   "cell_type": "code",
   "execution_count": 73,
   "metadata": {},
   "outputs": [
    {
     "data": {
      "text/html": [
       "<div>\n",
       "<style scoped>\n",
       "    .dataframe tbody tr th:only-of-type {\n",
       "        vertical-align: middle;\n",
       "    }\n",
       "\n",
       "    .dataframe tbody tr th {\n",
       "        vertical-align: top;\n",
       "    }\n",
       "\n",
       "    .dataframe thead th {\n",
       "        text-align: right;\n",
       "    }\n",
       "</style>\n",
       "<table border=\"1\" class=\"dataframe\">\n",
       "  <thead>\n",
       "    <tr style=\"text-align: right;\">\n",
       "      <th></th>\n",
       "      <th>OPNN_DV_CD</th>\n",
       "      <th>TITLE_GUBUN</th>\n",
       "      <th>TITE</th>\n",
       "      <th>CTT</th>\n",
       "      <th>clean_CTT</th>\n",
       "    </tr>\n",
       "  </thead>\n",
       "  <tbody>\n",
       "    <tr>\n",
       "      <th>10171</th>\n",
       "      <td>Q</td>\n",
       "      <td>기타</td>\n",
       "      <td>매일두카드 유효기간</td>\n",
       "      <td>매일두 카드 유효기간\\n티몬에서 구입한 카드도\\n마지막 충전일 또는\\n마지막 사용일...</td>\n",
       "      <td>매일 두 카드 유효 기간  티몬 에서 구입 한 카드 도  마지막 충전 일 또는  마...</td>\n",
       "    </tr>\n",
       "  </tbody>\n",
       "</table>\n",
       "</div>"
      ],
      "text/plain": [
       "      OPNN_DV_CD TITLE_GUBUN        TITE  \\\n",
       "10171          Q          기타  매일두카드 유효기간   \n",
       "\n",
       "                                                     CTT  \\\n",
       "10171  매일두 카드 유효기간\\n티몬에서 구입한 카드도\\n마지막 충전일 또는\\n마지막 사용일...   \n",
       "\n",
       "                                               clean_CTT  \n",
       "10171  매일 두 카드 유효 기간  티몬 에서 구입 한 카드 도  마지막 충전 일 또는  마...  "
      ]
     },
     "execution_count": 73,
     "metadata": {},
     "output_type": "execute_result"
    }
   ],
   "source": [
    "# 자료 확인\n",
    "df.tail(1)"
   ]
  },
  {
   "cell_type": "code",
   "execution_count": null,
   "metadata": {},
   "outputs": [],
   "source": []
  },
  {
   "cell_type": "code",
   "execution_count": null,
   "metadata": {},
   "outputs": [],
   "source": []
  },
  {
   "cell_type": "markdown",
   "metadata": {},
   "source": [
    "### 2-A .token 결과 비교 : KoNLPy test"
   ]
  },
  {
   "cell_type": "code",
   "execution_count": null,
   "metadata": {},
   "outputs": [],
   "source": []
  },
  {
   "cell_type": "code",
   "execution_count": 11,
   "metadata": {},
   "outputs": [
    {
     "name": "stdout",
     "output_type": "stream",
     "text": [
      "['단독', '입찰', '보다', '복수', '입찰', '의', '경우']\n"
     ]
    }
   ],
   "source": [
    "print(okt.morphs(u'단독입찰보다 복수입찰의 경우'))"
   ]
  },
  {
   "cell_type": "code",
   "execution_count": 10,
   "metadata": {},
   "outputs": [
    {
     "name": "stdout",
     "output_type": "stream",
     "text": [
      "사진찍기\n"
     ]
    }
   ],
   "source": [
    "print(df.CTT[0])"
   ]
  },
  {
   "cell_type": "code",
   "execution_count": 23,
   "metadata": {},
   "outputs": [
    {
     "data": {
      "text/plain": [
       "'칭찬 테스트'"
      ]
     },
     "execution_count": 23,
     "metadata": {},
     "output_type": "execute_result"
    }
   ],
   "source": [
    "df.TITE[0]"
   ]
  },
  {
   "cell_type": "code",
   "execution_count": null,
   "metadata": {},
   "outputs": [],
   "source": []
  },
  {
   "cell_type": "code",
   "execution_count": null,
   "metadata": {},
   "outputs": [],
   "source": []
  },
  {
   "cell_type": "markdown",
   "metadata": {},
   "source": [
    "### 2-B .token 결과 비교 : 명사(okt.nouns)"
   ]
  },
  {
   "cell_type": "code",
   "execution_count": 26,
   "metadata": {},
   "outputs": [],
   "source": [
    "# 1차 가공 : koNLpy 정제\n",
    "\n",
    "def tokenize1(doc):\n",
    "    result = ['/'.join(t) for t in okt.pos(doc, norm=True, stem=True)] # ex '더빙/Norm', '나다/Verb'\n",
    "    return result \n",
    "\n",
    "data_trim1 = [tokenize1(row) for row in df['CTT']  ]  "
   ]
  },
  {
   "cell_type": "code",
   "execution_count": 41,
   "metadata": {},
   "outputs": [
    {
     "name": "stdout",
     "output_type": "stream",
     "text": [
      "['안녕하다/Adjective', '6월/Number', '달에/Foreign', '아기/Noun', '가/Josa', '2010/Number', 'g/Alpha', '저체중/Noun', '으로/Josa', '태어나다/Verb', '프리/Noun', '밉다/Adjective', '먹이/Noun', '게/Josa', '되어다/Verb', '그런데/Conjunction', '이제/Noun', '3/Number', '키로/Noun', '가/Josa', '되어다/Verb', '일/Modifier', '반/Modifier', '분유/Noun', '를/Josa', '먹이/Noun', '고/Josa', '싶다/Verb', '\\n/Foreign', '혹시/Noun', '제/Noun', '가/Josa', '가지다/Verb', '프리/Noun', '밉다/Adjective', '매일유업/Noun', '의/Josa', '명작/Noun', '이랑/Josa', '교환/Noun', '해주다/Verb', '서비스/Noun', '같다/Adjective', '없다/Adjective', '?/Punctuation', '\\n/Foreign', '프리/Noun', '밉다/Adjective', '새/Modifier', '제품/Noun', '3/Number', '통/Noun', '이나/Josa', '남다/Verb', 'ㅠ/KoreanParticle', '\\n/Foreign', '아니다/Adjective', '제/Noun', '가/Josa', '명작/Noun', '을/Josa', '구매/Noun', '하다/Verb', '명작/Noun', '이랑/Josa', '프리/Noun', '밉다/Adjective', '섞다/Verb', '먹이/Noun', '면/Josa', '어떻다/Adjective', '되다/Verb', '??/Punctuation']\n"
     ]
    }
   ],
   "source": [
    "print(data_trim1[10160])"
   ]
  },
  {
   "cell_type": "code",
   "execution_count": 40,
   "metadata": {},
   "outputs": [
    {
     "data": {
      "text/plain": [
       "'안녕하세요 \\n6월달에 아기가 2010g 저체중으로 태어나 프리미를 먹이게되었어요 그런데 이제 3키로가 되어 일반분유를 먹이고 싶은데\\n혹시 제가 가진 프리미랑 매일유업의 명작이랑 교환해주는 서비스같은건 없나요?\\n프리미 새제품 3통이나 남았네요 ㅠ\\n아니면 제가 명작을 구매해서 명작이랑 프리미랑 섞어 먹이면 어떻게 되나요??'"
      ]
     },
     "execution_count": 40,
     "metadata": {},
     "output_type": "execute_result"
    }
   ],
   "source": [
    "df['CTT'][10160]"
   ]
  },
  {
   "cell_type": "code",
   "execution_count": 57,
   "metadata": {},
   "outputs": [],
   "source": [
    "# 1차 가공 : koNLpy 정제\n",
    "\n",
    "def tokenize2(doc):\n",
    "    result = [''.join(t) for t in okt.nouns(doc)] # 명사 ex ['더빙', '나다', ...]\n",
    "    return result \n",
    "\n",
    "data_trim2 = [tokenize2(row) for row in df['CTT']  ]  "
   ]
  },
  {
   "cell_type": "code",
   "execution_count": 56,
   "metadata": {},
   "outputs": [
    {
     "ename": "IndexError",
     "evalue": "list index out of range",
     "output_type": "error",
     "traceback": [
      "\u001b[1;31m---------------------------------------------------------------------------\u001b[0m",
      "\u001b[1;31mIndexError\u001b[0m                                Traceback (most recent call last)",
      "\u001b[1;32m<ipython-input-56-247f2892be19>\u001b[0m in \u001b[0;36m<module>\u001b[1;34m\u001b[0m\n\u001b[1;32m----> 1\u001b[1;33m \u001b[0mprint\u001b[0m\u001b[1;33m(\u001b[0m\u001b[0mdata_trim2\u001b[0m\u001b[1;33m[\u001b[0m\u001b[1;36m10160\u001b[0m\u001b[1;33m]\u001b[0m\u001b[1;33m)\u001b[0m\u001b[1;33m\u001b[0m\u001b[1;33m\u001b[0m\u001b[0m\n\u001b[0m",
      "\u001b[1;31mIndexError\u001b[0m: list index out of range"
     ]
    }
   ],
   "source": [
    "print(data_trim2[10160])"
   ]
  },
  {
   "cell_type": "code",
   "execution_count": null,
   "metadata": {},
   "outputs": [],
   "source": []
  },
  {
   "cell_type": "code",
   "execution_count": 46,
   "metadata": {},
   "outputs": [],
   "source": [
    "# 1차 가공 : koNLpy 정제\n",
    "\n",
    "def tokenize3(doc):\n",
    "    result = [''.join(t) for t in okt.morphs(doc)] # 말뭉치(명사+ a) ex ['더빙', '나다', ...]\n",
    "    return result \n",
    "\n",
    "data_trim3 = [tokenize3(row) for row in df['CTT']  ]  "
   ]
  },
  {
   "cell_type": "code",
   "execution_count": 47,
   "metadata": {
    "scrolled": true
   },
   "outputs": [
    {
     "name": "stdout",
     "output_type": "stream",
     "text": [
      "['안녕하세요', '6월', '달에', '아기', '가', '2010', 'g', '저체중', '으로', '태어나', '프리', '미를', '먹이', '게', '되었어요', '그런데', '이제', '3', '키로', '가', '되어', '일', '반', '분유', '를', '먹이', '고', '싶은데', '\\n', '혹시', '제', '가', '가진', '프리', '미랑', '매일유업', '의', '명작', '이랑', '교환', '해주는', '서비스', '같은건', '없나요', '?', '\\n', '프리', '미', '새', '제품', '3', '통', '이나', '남았네요', 'ㅠ', '\\n', '아니면', '제', '가', '명작', '을', '구매', '해서', '명작', '이랑', '프리', '미랑', '섞어', '먹이', '면', '어떻게', '되나요', '??']\n"
     ]
    }
   ],
   "source": [
    "print(data_trim3[10160])"
   ]
  },
  {
   "cell_type": "code",
   "execution_count": null,
   "metadata": {},
   "outputs": [],
   "source": []
  },
  {
   "cell_type": "code",
   "execution_count": null,
   "metadata": {},
   "outputs": [],
   "source": []
  },
  {
   "cell_type": "code",
   "execution_count": null,
   "metadata": {},
   "outputs": [],
   "source": []
  },
  {
   "cell_type": "code",
   "execution_count": null,
   "metadata": {},
   "outputs": [],
   "source": []
  },
  {
   "cell_type": "code",
   "execution_count": 55,
   "metadata": {},
   "outputs": [
    {
     "name": "stdout",
     "output_type": "stream",
     "text": [
      "안녕하세요 \n",
      "6월달에 아기가 2010g 저체중으로 태어나 프리미를 먹이게되었어요 그런데 이제 3키로가 되어 일반분유를 먹이고 싶은데\n",
      "혹시 제가 가진 프리미랑 매일유업의 명작이랑 교환해주는 서비스같은건 없나요?\n",
      "프리미 새제품 3통이나 남았네요 ㅠ\n",
      "아니면 제가 명작을 구매해서 명작이랑 프리미랑 섞어 먹이면 어떻게 되나요??\n",
      "----------------------------------\n"
     ]
    },
    {
     "ename": "IndexError",
     "evalue": "list index out of range",
     "output_type": "error",
     "traceback": [
      "\u001b[1;31m---------------------------------------------------------------------------\u001b[0m",
      "\u001b[1;31mIndexError\u001b[0m                                Traceback (most recent call last)",
      "\u001b[1;32m<ipython-input-55-bcab3ab976bc>\u001b[0m in \u001b[0;36m<module>\u001b[1;34m\u001b[0m\n\u001b[0;32m      3\u001b[0m \u001b[0mprint\u001b[0m\u001b[1;33m(\u001b[0m\u001b[0mdf\u001b[0m\u001b[1;33m[\u001b[0m\u001b[1;34m'CTT'\u001b[0m\u001b[1;33m]\u001b[0m\u001b[1;33m[\u001b[0m\u001b[1;36m10160\u001b[0m\u001b[1;33m]\u001b[0m\u001b[1;33m)\u001b[0m   \u001b[1;31m# 원본\u001b[0m\u001b[1;33m\u001b[0m\u001b[1;33m\u001b[0m\u001b[0m\n\u001b[0;32m      4\u001b[0m \u001b[0mprint\u001b[0m\u001b[1;33m(\u001b[0m\u001b[1;34m'----------------------------------'\u001b[0m\u001b[1;33m)\u001b[0m\u001b[1;33m\u001b[0m\u001b[1;33m\u001b[0m\u001b[0m\n\u001b[1;32m----> 5\u001b[1;33m \u001b[0mprint\u001b[0m\u001b[1;33m(\u001b[0m\u001b[0mdata_trim2\u001b[0m\u001b[1;33m[\u001b[0m\u001b[1;36m10160\u001b[0m\u001b[1;33m]\u001b[0m\u001b[1;33m)\u001b[0m   \u001b[1;31m# KoNLpy이후\u001b[0m\u001b[1;33m\u001b[0m\u001b[1;33m\u001b[0m\u001b[0m\n\u001b[0m",
      "\u001b[1;31mIndexError\u001b[0m: list index out of range"
     ]
    }
   ],
   "source": [
    "# 1차 가공 결과 비교\n",
    "\n",
    "print(df['CTT'][10160])   # 원본\n",
    "print('----------------------------------')\n",
    "print(data_trim2[10160])   # KoNLpy이후"
   ]
  },
  {
   "cell_type": "code",
   "execution_count": null,
   "metadata": {},
   "outputs": [],
   "source": []
  },
  {
   "cell_type": "code",
   "execution_count": 59,
   "metadata": {},
   "outputs": [],
   "source": [
    "# 2차 가공 : 역토큰화 후, 한글만 남김\n",
    "data_trim2 = []\n",
    "for i in range(len(df)):\n",
    "    t = ' '.join(data_trim1[i])\n",
    "    data_trim2.append(t)\n",
    "\n",
    "df['clean_CTT'] = data_trim2\n",
    "df['clean_CTT'] = df['clean_CTT'].str.replace(\"[^ㄱ-ㅎㅏ-ㅣ가-힣 ]\",\"\")"
   ]
  },
  {
   "cell_type": "code",
   "execution_count": 61,
   "metadata": {
    "scrolled": true
   },
   "outputs": [
    {
     "name": "stdout",
     "output_type": "stream",
     "text": [
      "안녕하세요 \n",
      "6월달에 아기가 2010g 저체중으로 태어나 프리미를 먹이게되었어요 그런데 이제 3키로가 되어 일반분유를 먹이고 싶은데\n",
      "혹시 제가 가진 프리미랑 매일유업의 명작이랑 교환해주는 서비스같은건 없나요?\n",
      "프리미 새제품 3통이나 남았네요 ㅠ\n",
      "아니면 제가 명작을 구매해서 명작이랑 프리미랑 섞어 먹이면 어떻게 되나요??\n",
      "----------------------------------\n",
      "안녕하다 월 달에 아기 가   저체중 으로 태어나다 프리 밉다 먹이 게 되어다 그런데 이제  키로 가 되어다 일 반 분유 를 먹이 고 싶다  혹시 제 가 가지다 프리 밉다 매일유업 의 명작 이랑 교환 해주다 서비스 같다 없다   프리 밉다 새 제품  통 이나 남다 ㅠ  아니다 제 가 명작 을 구매 하다 명작 이랑 프리 밉다 섞다 먹이 면 어떻다 되다 \n"
     ]
    }
   ],
   "source": [
    "# 2차 가공 결과 비교\n",
    "\n",
    "print(df['CTT'][10160])         # 원본\n",
    "print('----------------------------------')\n",
    "print(df['clean_CTT'][10160])   # 최종 변환"
   ]
  },
  {
   "cell_type": "code",
   "execution_count": null,
   "metadata": {},
   "outputs": [],
   "source": []
  },
  {
   "cell_type": "code",
   "execution_count": null,
   "metadata": {},
   "outputs": [],
   "source": []
  },
  {
   "cell_type": "markdown",
   "metadata": {},
   "source": [
    "### 3-3. 토픽 모델링(Topic Modeling)"
   ]
  },
  {
   "cell_type": "code",
   "execution_count": 62,
   "metadata": {},
   "outputs": [
    {
     "data": {
      "text/plain": [
       "(10172, 2000)"
      ]
     },
     "execution_count": 62,
     "metadata": {},
     "output_type": "execute_result"
    }
   ],
   "source": [
    "# text to token\n",
    "from sklearn.feature_extraction.text import TfidfVectorizer\n",
    "\n",
    "vectorizer = TfidfVectorizer(max_features= 2000, # 상위 1,000개의 단어를 보존 \n",
    "                             max_df = 0.5, \n",
    "                             smooth_idf=True)\n",
    "\n",
    "X = vectorizer.fit_transform(df['clean_CTT'])\n",
    "X.shape # TF-IDF 행렬의 크기 확인"
   ]
  },
  {
   "cell_type": "code",
   "execution_count": 67,
   "metadata": {},
   "outputs": [
    {
     "name": "stdout",
     "output_type": "stream",
     "text": [
      "  (0, 383)\t0.1529493669795418\n",
      "  (0, 37)\t0.16530579410238133\n",
      "  (0, 923)\t0.11992330115625238\n",
      "  (0, 1417)\t0.10284364644805871\n",
      "  (0, 1878)\t0.5735070996451251\n",
      "  (0, 1806)\t0.12954110423697676\n",
      "  (0, 1821)\t0.11283321170624391\n",
      "  (0, 684)\t0.5058566237396179\n",
      "  (0, 1958)\t0.08721925852752309\n",
      "  (0, 1370)\t0.0979942819651523\n",
      "  (0, 1382)\t0.2318889723240731\n",
      "  (0, 918)\t0.10892144967009669\n",
      "  (0, 291)\t0.09354019086348449\n",
      "  (0, 601)\t0.24299391119636524\n",
      "  (0, 1047)\t0.0818511196346838\n",
      "  (0, 624)\t0.22412962637169212\n",
      "  (0, 154)\t0.07523477980919649\n",
      "  (0, 153)\t0.08578895816396946\n",
      "  (0, 463)\t0.13691219876449925\n",
      "  (0, 1156)\t0.059405847871201595\n",
      "  (0, 1067)\t0.07950978056191071\n",
      "  (0, 1591)\t0.07744939582182607\n",
      "  (0, 593)\t0.10565210803787556\n",
      "  (0, 193)\t0.10594139793436858\n",
      "  (0, 1103)\t0.07676221424227608\n",
      "  (0, 48)\t0.07150707415629891\n",
      "  (0, 1070)\t0.07284902113999957\n",
      "  (0, 1938)\t0.06788512867067718\n",
      "  (0, 1344)\t0.060200047342763116\n",
      "  (0, 1184)\t0.056721018324342745\n",
      "  (0, 462)\t0.04666119482874151\n",
      "  (0, 805)\t0.049927178923789936\n"
     ]
    }
   ],
   "source": [
    "print(X[10160])"
   ]
  },
  {
   "cell_type": "code",
   "execution_count": 74,
   "metadata": {},
   "outputs": [
    {
     "data": {
      "text/plain": [
       "20"
      ]
     },
     "execution_count": 74,
     "metadata": {},
     "output_type": "execute_result"
    }
   ],
   "source": [
    "# token to SVD(demention reduction)\n",
    "from sklearn.decomposition import TruncatedSVD\n",
    "svd_model = TruncatedSVD(n_components=20, algorithm='randomized', n_iter=100, random_state=122)\n",
    "svd_model.fit(X)\n",
    "len(svd_model.components_)"
   ]
  },
  {
   "cell_type": "code",
   "execution_count": 69,
   "metadata": {},
   "outputs": [],
   "source": [
    "terms = vectorizer.get_feature_names() # 단어 집합. 1,000개의 단어가 저장됨.\n",
    "\n",
    "def get_topics(components, feature_names, n=4):\n",
    "    for idx, topic in enumerate(components):\n",
    "        print(\"Topic %d:\" % (idx+1), [feature_names[i] for i in topic.argsort()[:-n - 1:-1]])"
   ]
  },
  {
   "cell_type": "code",
   "execution_count": null,
   "metadata": {},
   "outputs": [],
   "source": []
  },
  {
   "cell_type": "markdown",
   "metadata": {},
   "source": [
    "### 3-4. 결과"
   ]
  },
  {
   "cell_type": "code",
   "execution_count": 70,
   "metadata": {},
   "outputs": [
    {
     "name": "stdout",
     "output_type": "stream",
     "text": [
      "Topic 1: ['적립', '포인트']\n",
      "Topic 2: ['단계', '스푼']\n",
      "Topic 3: ['폴바', '사용']\n",
      "Topic 4: ['코드', '확인']\n",
      "Topic 5: ['스푼', '신청']\n",
      "Topic 6: ['스푼', '신청']\n",
      "Topic 7: ['어떻다', '하나요']\n",
      "Topic 8: ['쿠폰', '적립']\n",
      "Topic 9: ['어떻다', '하나요']\n",
      "Topic 10: ['안되다', '사용']\n",
      "Topic 11: ['되다', '등록']\n",
      "Topic 12: ['쿠폰', '안되다']\n",
      "Topic 13: ['포인트', '지워지다']\n",
      "Topic 14: ['등록', '분유']\n",
      "Topic 15: ['해주다', '받다']\n",
      "Topic 16: ['분유', '신청']\n",
      "Topic 17: ['있다', '지워지다']\n",
      "Topic 18: ['사진', '안되다']\n",
      "Topic 19: ['해주다', '스푼']\n",
      "Topic 20: ['사진', '첨부']\n"
     ]
    }
   ],
   "source": [
    "get_topics(svd_model.components_,terms, 2)"
   ]
  },
  {
   "cell_type": "code",
   "execution_count": 71,
   "metadata": {
    "scrolled": true
   },
   "outputs": [
    {
     "name": "stdout",
     "output_type": "stream",
     "text": [
      "Topic 1: ['적립', '포인트', '안되다', '분유']\n",
      "Topic 2: ['단계', '스푼', '먹이다', '있다']\n",
      "Topic 3: ['폴바', '사용', '쿠폰', '회원']\n",
      "Topic 4: ['코드', '확인', '부탁드리다', '번호']\n",
      "Topic 5: ['스푼', '신청', '포인트', '어떻다']\n",
      "Topic 6: ['스푼', '신청', '안되다', '회원']\n",
      "Topic 7: ['어떻다', '하나요', '지워지다', '코드']\n",
      "Topic 8: ['쿠폰', '적립', '언제', '생일']\n",
      "Topic 9: ['어떻다', '하나요', '확인', '신청']\n",
      "Topic 10: ['안되다', '사용', '등록', '카드']\n",
      "Topic 11: ['되다', '등록', '언제', '입력']\n",
      "Topic 12: ['쿠폰', '안되다', '어떻다', '받다']\n",
      "Topic 13: ['포인트', '지워지다', '단계', '가입']\n",
      "Topic 14: ['등록', '분유', '포인트', '되다']\n",
      "Topic 15: ['해주다', '받다', '선물', '사진']\n",
      "Topic 16: ['분유', '신청', '쿠폰', '해주다']\n",
      "Topic 17: ['있다', '지워지다', '입력', '받다']\n",
      "Topic 18: ['사진', '안되다', '코드', '첨부']\n",
      "Topic 19: ['해주다', '스푼', '단계', '코드']\n",
      "Topic 20: ['사진', '첨부', '번호', '문의']\n"
     ]
    }
   ],
   "source": [
    "get_topics(svd_model.components_,terms, 4)"
   ]
  },
  {
   "cell_type": "code",
   "execution_count": null,
   "metadata": {},
   "outputs": [],
   "source": []
  },
  {
   "cell_type": "code",
   "execution_count": null,
   "metadata": {},
   "outputs": [],
   "source": []
  },
  {
   "cell_type": "code",
   "execution_count": null,
   "metadata": {},
   "outputs": [],
   "source": []
  }
 ],
 "metadata": {
  "kernelspec": {
   "display_name": "Python 3",
   "language": "python",
   "name": "python3"
  },
  "language_info": {
   "codemirror_mode": {
    "name": "ipython",
    "version": 3
   },
   "file_extension": ".py",
   "mimetype": "text/x-python",
   "name": "python",
   "nbconvert_exporter": "python",
   "pygments_lexer": "ipython3",
   "version": "3.7.6"
  }
 },
 "nbformat": 4,
 "nbformat_minor": 2
}
