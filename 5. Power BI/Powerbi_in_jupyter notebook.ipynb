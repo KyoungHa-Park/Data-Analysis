{
 "cells": [
  {
   "cell_type": "code",
   "execution_count": null,
   "metadata": {},
   "outputs": [],
   "source": [
    "# https://thiago-bernardes-carvalho.medium.com/create-power-bi-reports-in-jupyter-notebooks-2447edb14a8b"
   ]
  },
  {
   "cell_type": "code",
   "execution_count": null,
   "metadata": {},
   "outputs": [],
   "source": [
    "# !pip install powerbiclient"
   ]
  },
  {
   "cell_type": "code",
   "execution_count": 1,
   "metadata": {},
   "outputs": [],
   "source": [
    "from powerbiclient import QuickVisualize, get_dataset_config, Report\n",
    "from powerbiclient.authentication import DeviceCodeLoginAuthentication"
   ]
  },
  {
   "cell_type": "code",
   "execution_count": 6,
   "metadata": {},
   "outputs": [],
   "source": [
    "# data read\n",
    "\n",
    "import pandas as pd\n",
    "df = pd.read_csv(r'C:/Users/khpark/Downloads/ikea.csv')"
   ]
  },
  {
   "cell_type": "code",
   "execution_count": null,
   "metadata": {},
   "outputs": [],
   "source": []
  },
  {
   "cell_type": "code",
   "execution_count": 7,
   "metadata": {},
   "outputs": [
    {
     "name": "stdout",
     "output_type": "stream",
     "text": [
      "Performing device flow authentication. Please follow the instructions below.\n",
      "To sign in, use a web browser to open the page https://microsoft.com/devicelogin and enter the code N47RHCSXH to authenticate.\n"
     ]
    },
    {
     "ename": "KeyboardInterrupt",
     "evalue": "",
     "output_type": "error",
     "traceback": [
      "\u001b[1;31m---------------------------------------------------------------------------\u001b[0m",
      "\u001b[1;31mKeyboardInterrupt\u001b[0m                         Traceback (most recent call last)",
      "Cell \u001b[1;32mIn[7], line 1\u001b[0m\n\u001b[1;32m----> 1\u001b[0m device_auth \u001b[39m=\u001b[39m DeviceCodeLoginAuthentication()\n",
      "File \u001b[1;32mc:\\Users\\khpark\\AppData\\Local\\Programs\\Python\\Python311\\Lib\\site-packages\\powerbiclient\\authentication.py:78\u001b[0m, in \u001b[0;36mDeviceCodeLoginAuthentication.__init__\u001b[1;34m(self, tenant_id)\u001b[0m\n\u001b[0;32m     76\u001b[0m \u001b[39msuper\u001b[39m()\u001b[39m.\u001b[39m\u001b[39m__init__\u001b[39m()\n\u001b[0;32m     77\u001b[0m CheckGlobalAuth()\n\u001b[1;32m---> 78\u001b[0m \u001b[39mself\u001b[39;49m\u001b[39m.\u001b[39;49m_acquire_token_device_code(tenant_id)\n",
      "File \u001b[1;32mc:\\Users\\khpark\\AppData\\Local\\Programs\\Python\\Python311\\Lib\\site-packages\\powerbiclient\\authentication.py:98\u001b[0m, in \u001b[0;36mDeviceCodeLoginAuthentication._acquire_token_device_code\u001b[1;34m(self, tenant_id)\u001b[0m\n\u001b[0;32m     94\u001b[0m \u001b[39mprint\u001b[39m(\u001b[39m\"\u001b[39m\u001b[39mPerforming device flow authentication. Please follow the instructions below.\u001b[39m\u001b[39m\\n\u001b[39;00m\u001b[39m{0}\u001b[39;00m\u001b[39m\"\u001b[39m\u001b[39m.\u001b[39mformat(\n\u001b[0;32m     95\u001b[0m     flow[\u001b[39m\"\u001b[39m\u001b[39mmessage\u001b[39m\u001b[39m\"\u001b[39m]))\n\u001b[0;32m     97\u001b[0m \u001b[39m# Ideally you should wait here, in order to save some unnecessary polling\u001b[39;00m\n\u001b[1;32m---> 98\u001b[0m result \u001b[39m=\u001b[39m app\u001b[39m.\u001b[39;49macquire_token_by_device_flow(flow)\n\u001b[0;32m     99\u001b[0m \u001b[39m# By default it will block\u001b[39;00m\n\u001b[0;32m    100\u001b[0m \u001b[39m# You can follow this instruction to shorten the block time\u001b[39;00m\n\u001b[0;32m    101\u001b[0m \u001b[39m#    https://msal-python.readthedocs.io/en/latest/#msal.PublicClientApplication.acquire_token_by_device_flow\u001b[39;00m\n\u001b[0;32m    102\u001b[0m \u001b[39m# or you may even turn off the blocking behavior,\u001b[39;00m\n\u001b[0;32m    103\u001b[0m \u001b[39m# and then keep calling acquire_token_by_device_flow(flow) in your own customized loop.\u001b[39;00m\n\u001b[0;32m    105\u001b[0m \u001b[39mif\u001b[39;00m \u001b[39m\"\u001b[39m\u001b[39maccess_token\u001b[39m\u001b[39m\"\u001b[39m \u001b[39min\u001b[39;00m result:\n",
      "File \u001b[1;32mc:\\Users\\khpark\\AppData\\Local\\Programs\\Python\\Python311\\Lib\\site-packages\\msal\\application.py:2006\u001b[0m, in \u001b[0;36mPublicClientApplication.acquire_token_by_device_flow\u001b[1;34m(self, flow, claims_challenge, **kwargs)\u001b[0m\n\u001b[0;32m   1985\u001b[0m \u001b[39m\u001b[39m\u001b[39m\"\"\"Obtain token by a device flow object, with customizable polling effect.\u001b[39;00m\n\u001b[0;32m   1986\u001b[0m \n\u001b[0;32m   1987\u001b[0m \u001b[39m:param dict flow:\u001b[39;00m\n\u001b[1;32m   (...)\u001b[0m\n\u001b[0;32m   2001\u001b[0m \u001b[39m    - an error response would contain \"error\" and usually \"error_description\".\u001b[39;00m\n\u001b[0;32m   2002\u001b[0m \u001b[39m\"\"\"\u001b[39;00m\n\u001b[0;32m   2003\u001b[0m telemetry_context \u001b[39m=\u001b[39m \u001b[39mself\u001b[39m\u001b[39m.\u001b[39m_build_telemetry_context(\n\u001b[0;32m   2004\u001b[0m     \u001b[39mself\u001b[39m\u001b[39m.\u001b[39mACQUIRE_TOKEN_BY_DEVICE_FLOW_ID,\n\u001b[0;32m   2005\u001b[0m     correlation_id\u001b[39m=\u001b[39mflow\u001b[39m.\u001b[39mget(\u001b[39mself\u001b[39m\u001b[39m.\u001b[39mDEVICE_FLOW_CORRELATION_ID))\n\u001b[1;32m-> 2006\u001b[0m response \u001b[39m=\u001b[39m _clean_up(\u001b[39mself\u001b[39;49m\u001b[39m.\u001b[39;49mclient\u001b[39m.\u001b[39;49mobtain_token_by_device_flow(\n\u001b[0;32m   2007\u001b[0m     flow,\n\u001b[0;32m   2008\u001b[0m     data\u001b[39m=\u001b[39;49m\u001b[39mdict\u001b[39;49m(\n\u001b[0;32m   2009\u001b[0m         kwargs\u001b[39m.\u001b[39;49mpop(\u001b[39m\"\u001b[39;49m\u001b[39mdata\u001b[39;49m\u001b[39m\"\u001b[39;49m, {}),\n\u001b[0;32m   2010\u001b[0m         code\u001b[39m=\u001b[39;49mflow[\u001b[39m\"\u001b[39;49m\u001b[39mdevice_code\u001b[39;49m\u001b[39m\"\u001b[39;49m],  \u001b[39m# 2018-10-4 Hack:\u001b[39;49;00m\n\u001b[0;32m   2011\u001b[0m             \u001b[39m# during transition period,\u001b[39;49;00m\n\u001b[0;32m   2012\u001b[0m             \u001b[39m# service seemingly need both device_code and code parameter.\u001b[39;49;00m\n\u001b[0;32m   2013\u001b[0m         claims\u001b[39m=\u001b[39;49m_merge_claims_challenge_and_capabilities(\n\u001b[0;32m   2014\u001b[0m             \u001b[39mself\u001b[39;49m\u001b[39m.\u001b[39;49m_client_capabilities, claims_challenge),\n\u001b[0;32m   2015\u001b[0m         ),\n\u001b[0;32m   2016\u001b[0m     headers\u001b[39m=\u001b[39;49mtelemetry_context\u001b[39m.\u001b[39;49mgenerate_headers(),\n\u001b[0;32m   2017\u001b[0m     \u001b[39m*\u001b[39;49m\u001b[39m*\u001b[39;49mkwargs))\n\u001b[0;32m   2018\u001b[0m telemetry_context\u001b[39m.\u001b[39mupdate_telemetry(response)\n\u001b[0;32m   2019\u001b[0m \u001b[39mreturn\u001b[39;00m response\n",
      "File \u001b[1;32mc:\\Users\\khpark\\AppData\\Local\\Programs\\Python\\Python311\\Lib\\site-packages\\msal\\oauth2cli\\oauth2.py:389\u001b[0m, in \u001b[0;36mClient.obtain_token_by_device_flow\u001b[1;34m(self, flow, exit_condition, **kwargs)\u001b[0m\n\u001b[0;32m    387\u001b[0m \u001b[39mif\u001b[39;00m exit_condition(flow):\n\u001b[0;32m    388\u001b[0m     \u001b[39mreturn\u001b[39;00m result\n\u001b[1;32m--> 389\u001b[0m time\u001b[39m.\u001b[39msleep(\u001b[39m1\u001b[39m)\n",
      "\u001b[1;31mKeyboardInterrupt\u001b[0m: "
     ]
    }
   ],
   "source": [
    "# \n",
    "# 회사 계정이 있어야 진행 가능\n",
    "device_auth = DeviceCodeLoginAuthentication()"
   ]
  },
  {
   "cell_type": "code",
   "execution_count": null,
   "metadata": {},
   "outputs": [],
   "source": [
    "PBI_visualize = QuickVisualize(get_dataset_config(df), auth=device_auth)\n",
    "PBI_visualize"
   ]
  },
  {
   "cell_type": "code",
   "execution_count": null,
   "metadata": {},
   "outputs": [],
   "source": []
  },
  {
   "cell_type": "code",
   "execution_count": null,
   "metadata": {},
   "outputs": [],
   "source": []
  },
  {
   "cell_type": "code",
   "execution_count": null,
   "metadata": {},
   "outputs": [],
   "source": []
  }
 ],
 "metadata": {
  "kernelspec": {
   "display_name": "Python 3",
   "language": "python",
   "name": "python3"
  },
  "language_info": {
   "codemirror_mode": {
    "name": "ipython",
    "version": 3
   },
   "file_extension": ".py",
   "mimetype": "text/x-python",
   "name": "python",
   "nbconvert_exporter": "python",
   "pygments_lexer": "ipython3",
   "version": "3.11.4"
  },
  "orig_nbformat": 4
 },
 "nbformat": 4,
 "nbformat_minor": 2
}
