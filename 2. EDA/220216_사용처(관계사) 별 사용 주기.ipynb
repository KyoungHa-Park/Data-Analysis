{
 "cells": [
  {
   "cell_type": "code",
   "execution_count": null,
   "metadata": {},
   "outputs": [],
   "source": []
  },
  {
   "cell_type": "code",
   "execution_count": 2,
   "metadata": {},
   "outputs": [
    {
     "name": "stderr",
     "output_type": "stream",
     "text": [
      "C:\\Users\\MAEIL\\AppData\\Roaming\\Python\\Python37\\site-packages\\pandas\\compat\\_optional.py:138: UserWarning: Pandas requires version '2.7.0' or newer of 'numexpr' (version '2.6.8' currently installed).\n",
      "  warnings.warn(msg, UserWarning)\n"
     ]
    }
   ],
   "source": [
    "\n",
    "###############\n",
    "# 1. import\n",
    "#####\n",
    "\n",
    "import pandas as pd\n",
    "from datetime import datetime, timedelta\n",
    "import re\n",
    "import time \n",
    "\n",
    "# local only\n",
    "import os\n",
    "import cx_Oracle as oci\n",
    "import pandas as pd\n",
    "import matplotlib.pyplot as plt\n",
    "\n",
    "import numpy as np\n",
    "\n",
    "import matplotlib as mpl\n",
    "import matplotlib.pyplot as plt\n",
    "import matplotlib.font_manager as fm\n",
    "\n",
    "path = 'C:/windows/Fonts/malgun.ttf'                           # 폰트:맑은고딕\n",
    "font_name = fm.FontProperties(fname=path, size=24).get_name()  \n",
    "plt.rc('font', family=font_name)\n"
   ]
  },
  {
   "cell_type": "code",
   "execution_count": 3,
   "metadata": {},
   "outputs": [],
   "source": [
    "###############\n",
    "# 1.데이터 불러오기\n",
    "#####\n",
    "# DB접속 : 접속정보 읽기\n",
    "con_text = open(\"C:/Users/MAEIL/conn_info_MMBSHIP.txt\", 'r', encoding='utf8')\n",
    "con_text = con_text.read()\n",
    "\n",
    "# DB 접속 : 실제 접속\n",
    "conn = oci.connect(con_text[1:], encoding='UTF-8', nencoding='UTF-8')"
   ]
  },
  {
   "cell_type": "code",
   "execution_count": null,
   "metadata": {},
   "outputs": [],
   "source": []
  },
  {
   "cell_type": "code",
   "execution_count": 4,
   "metadata": {},
   "outputs": [],
   "source": [
    "###############\n",
    "# 2.데이터 정렬\n",
    "#####\n",
    "query = '''\n",
    "        --포인트 적립/사용 + 기프트카드사용\n",
    "        select unfy_mmb_no\n",
    "        , (select code_nm from mmbship.JT_CODE where code_grp_id = 'PM001' and trsc_typ_cd = code) as trsc_typ_cd\n",
    "        , coopco_cd\n",
    "        , tot_sel_amt\n",
    "        , reg_dtm as reg_dtm\n",
    "        from mmbship.TP_TRSC_PTCL\n",
    "        where unfy_mmb_no is not null \n",
    "        and tot_sel_amt > 0 \n",
    "        and reg_dtm between ADD_MONTHS( TRUNC(sysdate,'MM'), -25 ) and ADD_MONTHS( LAST_DAY(sysdate), -1 )\n",
    "        and trsc_typ_cd in ( 'G40', '200', '300')\n",
    "        union all\n",
    "        --쿠폰 사용\n",
    "        select A.unfy_mmb_no\n",
    "        , '쿠폰사용' as trsc_typ_cd\n",
    "        , U.coopco_cd\n",
    "        , u.dc_tgt_amt as tot_sel_amt\n",
    "        , A.reg_dtm as reg_dtm\n",
    "        from mmbship.TPM_CPN_ISSU A, mmbship.TPM_CPN B, mmbship.TPM_CPN_use U\n",
    "        where A.CPN_CD = B.cpn_cd \n",
    "        and cpn_st_cd ='2' \n",
    "        and A.CPN_issu_CD = U.CPN_issu_CD\n",
    "        and U.coopco_cd in (7050, 7060)\n",
    "        and A.unfy_mmb_no is not null\n",
    "        and A.reg_dtm between ADD_MONTHS( TRUNC(sysdate,'MM'), -25 ) and ADD_MONTHS( LAST_DAY(sysdate), -1 )\n",
    "        '''\n",
    "\n",
    "df = pd.read_sql(query, con = conn )"
   ]
  },
  {
   "cell_type": "code",
   "execution_count": 23,
   "metadata": {},
   "outputs": [],
   "source": [
    "df = df.sort_values(by=['UNFY_MMB_NO', 'REG_DTM'], axis=0)\n",
    "df = df.reset_index(drop=True)"
   ]
  },
  {
   "cell_type": "code",
   "execution_count": 24,
   "metadata": {},
   "outputs": [
    {
     "name": "stdout",
     "output_type": "stream",
     "text": [
      "<class 'pandas.core.frame.DataFrame'>\n",
      "RangeIndex: 705386 entries, 0 to 705385\n",
      "Data columns (total 5 columns):\n",
      " #   Column       Non-Null Count   Dtype         \n",
      "---  ------       --------------   -----         \n",
      " 0   UNFY_MMB_NO  705386 non-null  int64         \n",
      " 1   TRSC_TYP_CD  705386 non-null  object        \n",
      " 2   COOPCO_CD    705386 non-null  object        \n",
      " 3   TOT_SEL_AMT  705386 non-null  int64         \n",
      " 4   REG_DTM      705386 non-null  datetime64[ns]\n",
      "dtypes: datetime64[ns](1), int64(2), object(2)\n",
      "memory usage: 26.9+ MB\n"
     ]
    }
   ],
   "source": [
    "df.info()"
   ]
  },
  {
   "cell_type": "code",
   "execution_count": 12,
   "metadata": {},
   "outputs": [],
   "source": [
    "# df['REG_DTM'] = pd.to_datetime(df['REG_DTM'],format='YY/MM/DD')"
   ]
  },
  {
   "cell_type": "code",
   "execution_count": 25,
   "metadata": {},
   "outputs": [
    {
     "data": {
      "text/plain": [
       "Timestamp('2022-01-31 08:50:11')"
      ]
     },
     "execution_count": 25,
     "metadata": {},
     "output_type": "execute_result"
    }
   ],
   "source": [
    "df.REG_DTM.max()"
   ]
  },
  {
   "cell_type": "code",
   "execution_count": 26,
   "metadata": {},
   "outputs": [
    {
     "data": {
      "text/html": [
       "<div>\n",
       "<style scoped>\n",
       "    .dataframe tbody tr th:only-of-type {\n",
       "        vertical-align: middle;\n",
       "    }\n",
       "\n",
       "    .dataframe tbody tr th {\n",
       "        vertical-align: top;\n",
       "    }\n",
       "\n",
       "    .dataframe thead th {\n",
       "        text-align: right;\n",
       "    }\n",
       "</style>\n",
       "<table border=\"1\" class=\"dataframe\">\n",
       "  <thead>\n",
       "    <tr style=\"text-align: right;\">\n",
       "      <th></th>\n",
       "      <th>UNFY_MMB_NO</th>\n",
       "      <th>TRSC_TYP_CD</th>\n",
       "      <th>COOPCO_CD</th>\n",
       "      <th>TOT_SEL_AMT</th>\n",
       "      <th>REG_DTM</th>\n",
       "    </tr>\n",
       "  </thead>\n",
       "  <tbody>\n",
       "    <tr>\n",
       "      <th>0</th>\n",
       "      <td>381692</td>\n",
       "      <td>포인트 적립/적립취소</td>\n",
       "      <td>7040</td>\n",
       "      <td>102920</td>\n",
       "      <td>2021-05-01 01:07:33</td>\n",
       "    </tr>\n",
       "    <tr>\n",
       "      <th>1</th>\n",
       "      <td>381692</td>\n",
       "      <td>포인트 사용/사용취소</td>\n",
       "      <td>7040</td>\n",
       "      <td>48000</td>\n",
       "      <td>2021-05-13 14:17:34</td>\n",
       "    </tr>\n",
       "    <tr>\n",
       "      <th>2</th>\n",
       "      <td>381692</td>\n",
       "      <td>포인트 적립/적립취소</td>\n",
       "      <td>7040</td>\n",
       "      <td>48000</td>\n",
       "      <td>2021-05-18 01:07:28</td>\n",
       "    </tr>\n",
       "    <tr>\n",
       "      <th>3</th>\n",
       "      <td>381692</td>\n",
       "      <td>포인트 적립/적립취소</td>\n",
       "      <td>7040</td>\n",
       "      <td>40206</td>\n",
       "      <td>2021-05-28 01:09:47</td>\n",
       "    </tr>\n",
       "    <tr>\n",
       "      <th>4</th>\n",
       "      <td>381692</td>\n",
       "      <td>포인트 적립/적립취소</td>\n",
       "      <td>7040</td>\n",
       "      <td>44800</td>\n",
       "      <td>2021-06-27 01:09:34</td>\n",
       "    </tr>\n",
       "    <tr>\n",
       "      <th>5</th>\n",
       "      <td>381692</td>\n",
       "      <td>포인트 사용/사용취소</td>\n",
       "      <td>7040</td>\n",
       "      <td>22880</td>\n",
       "      <td>2021-11-02 07:21:16</td>\n",
       "    </tr>\n",
       "    <tr>\n",
       "      <th>6</th>\n",
       "      <td>381692</td>\n",
       "      <td>포인트 적립/적립취소</td>\n",
       "      <td>7040</td>\n",
       "      <td>25880</td>\n",
       "      <td>2021-11-06 01:09:44</td>\n",
       "    </tr>\n",
       "    <tr>\n",
       "      <th>7</th>\n",
       "      <td>381692</td>\n",
       "      <td>포인트 적립/적립취소</td>\n",
       "      <td>7040</td>\n",
       "      <td>40148</td>\n",
       "      <td>2022-01-07 01:07:06</td>\n",
       "    </tr>\n",
       "    <tr>\n",
       "      <th>8</th>\n",
       "      <td>382221</td>\n",
       "      <td>포인트 적립/적립취소</td>\n",
       "      <td>7040</td>\n",
       "      <td>51000</td>\n",
       "      <td>2020-12-14 10:13:01</td>\n",
       "    </tr>\n",
       "    <tr>\n",
       "      <th>9</th>\n",
       "      <td>382749</td>\n",
       "      <td>기프트카드사용/사용취소</td>\n",
       "      <td>7030</td>\n",
       "      <td>7000</td>\n",
       "      <td>2021-09-14 12:33:11</td>\n",
       "    </tr>\n",
       "  </tbody>\n",
       "</table>\n",
       "</div>"
      ],
      "text/plain": [
       "   UNFY_MMB_NO   TRSC_TYP_CD COOPCO_CD  TOT_SEL_AMT             REG_DTM\n",
       "0       381692   포인트 적립/적립취소      7040       102920 2021-05-01 01:07:33\n",
       "1       381692   포인트 사용/사용취소      7040        48000 2021-05-13 14:17:34\n",
       "2       381692   포인트 적립/적립취소      7040        48000 2021-05-18 01:07:28\n",
       "3       381692   포인트 적립/적립취소      7040        40206 2021-05-28 01:09:47\n",
       "4       381692   포인트 적립/적립취소      7040        44800 2021-06-27 01:09:34\n",
       "5       381692   포인트 사용/사용취소      7040        22880 2021-11-02 07:21:16\n",
       "6       381692   포인트 적립/적립취소      7040        25880 2021-11-06 01:09:44\n",
       "7       381692   포인트 적립/적립취소      7040        40148 2022-01-07 01:07:06\n",
       "8       382221   포인트 적립/적립취소      7040        51000 2020-12-14 10:13:01\n",
       "9       382749  기프트카드사용/사용취소      7030         7000 2021-09-14 12:33:11"
      ]
     },
     "execution_count": 26,
     "metadata": {},
     "output_type": "execute_result"
    }
   ],
   "source": [
    "df.head(10)"
   ]
  },
  {
   "cell_type": "code",
   "execution_count": null,
   "metadata": {},
   "outputs": [],
   "source": []
  },
  {
   "cell_type": "code",
   "execution_count": 31,
   "metadata": {},
   "outputs": [],
   "source": []
  },
  {
   "cell_type": "code",
   "execution_count": 17,
   "metadata": {},
   "outputs": [],
   "source": [
    "dataD = df.copy()\n",
    "dataD = dataD.sort_values(by=['UNFY_MMB_NO', 'REG_DTM'], axis=0)\n",
    "dataD = dataD.dropna()\n",
    "\n",
    "#충전과 충전 사이의 gap에 대한 계산\n",
    "dataD['DIFF'] = dataD.groupby(['UNFY_MMB_NO'])['REG_DTM'].transform(lambda x: x.diff()).dt.days"
   ]
  },
  {
   "cell_type": "code",
   "execution_count": 18,
   "metadata": {},
   "outputs": [],
   "source": []
  },
  {
   "cell_type": "code",
   "execution_count": 19,
   "metadata": {},
   "outputs": [
    {
     "data": {
      "text/html": [
       "<div>\n",
       "<style scoped>\n",
       "    .dataframe tbody tr th:only-of-type {\n",
       "        vertical-align: middle;\n",
       "    }\n",
       "\n",
       "    .dataframe tbody tr th {\n",
       "        vertical-align: top;\n",
       "    }\n",
       "\n",
       "    .dataframe thead th {\n",
       "        text-align: right;\n",
       "    }\n",
       "</style>\n",
       "<table border=\"1\" class=\"dataframe\">\n",
       "  <thead>\n",
       "    <tr style=\"text-align: right;\">\n",
       "      <th></th>\n",
       "      <th>UNFY_MMB_NO</th>\n",
       "      <th>TRSC_TYP_CD</th>\n",
       "      <th>COOPCO_CD</th>\n",
       "      <th>TOT_SEL_AMT</th>\n",
       "      <th>REG_DTM</th>\n",
       "      <th>DIFF</th>\n",
       "    </tr>\n",
       "  </thead>\n",
       "  <tbody>\n",
       "    <tr>\n",
       "      <th>561112</th>\n",
       "      <td>381692</td>\n",
       "      <td>포인트 적립/적립취소</td>\n",
       "      <td>7040</td>\n",
       "      <td>102920</td>\n",
       "      <td>2021-05-01 01:07:33</td>\n",
       "      <td>NaN</td>\n",
       "    </tr>\n",
       "    <tr>\n",
       "      <th>548482</th>\n",
       "      <td>381692</td>\n",
       "      <td>포인트 사용/사용취소</td>\n",
       "      <td>7040</td>\n",
       "      <td>48000</td>\n",
       "      <td>2021-05-13 14:17:34</td>\n",
       "      <td>12.0</td>\n",
       "    </tr>\n",
       "    <tr>\n",
       "      <th>542690</th>\n",
       "      <td>381692</td>\n",
       "      <td>포인트 적립/적립취소</td>\n",
       "      <td>7040</td>\n",
       "      <td>48000</td>\n",
       "      <td>2021-05-18 01:07:28</td>\n",
       "      <td>4.0</td>\n",
       "    </tr>\n",
       "    <tr>\n",
       "      <th>541783</th>\n",
       "      <td>381692</td>\n",
       "      <td>포인트 적립/적립취소</td>\n",
       "      <td>7040</td>\n",
       "      <td>40206</td>\n",
       "      <td>2021-05-28 01:09:47</td>\n",
       "      <td>10.0</td>\n",
       "    </tr>\n",
       "    <tr>\n",
       "      <th>577021</th>\n",
       "      <td>381692</td>\n",
       "      <td>포인트 적립/적립취소</td>\n",
       "      <td>7040</td>\n",
       "      <td>44800</td>\n",
       "      <td>2021-06-27 01:09:34</td>\n",
       "      <td>29.0</td>\n",
       "    </tr>\n",
       "    <tr>\n",
       "      <th>649865</th>\n",
       "      <td>381692</td>\n",
       "      <td>포인트 사용/사용취소</td>\n",
       "      <td>7040</td>\n",
       "      <td>22880</td>\n",
       "      <td>2021-11-02 07:21:16</td>\n",
       "      <td>128.0</td>\n",
       "    </tr>\n",
       "    <tr>\n",
       "      <th>623781</th>\n",
       "      <td>381692</td>\n",
       "      <td>포인트 적립/적립취소</td>\n",
       "      <td>7040</td>\n",
       "      <td>25880</td>\n",
       "      <td>2021-11-06 01:09:44</td>\n",
       "      <td>3.0</td>\n",
       "    </tr>\n",
       "    <tr>\n",
       "      <th>679624</th>\n",
       "      <td>381692</td>\n",
       "      <td>포인트 적립/적립취소</td>\n",
       "      <td>7040</td>\n",
       "      <td>40148</td>\n",
       "      <td>2022-01-07 01:07:06</td>\n",
       "      <td>61.0</td>\n",
       "    </tr>\n",
       "    <tr>\n",
       "      <th>433637</th>\n",
       "      <td>382221</td>\n",
       "      <td>포인트 적립/적립취소</td>\n",
       "      <td>7040</td>\n",
       "      <td>51000</td>\n",
       "      <td>2020-12-14 10:13:01</td>\n",
       "      <td>NaN</td>\n",
       "    </tr>\n",
       "    <tr>\n",
       "      <th>622185</th>\n",
       "      <td>382749</td>\n",
       "      <td>기프트카드사용/사용취소</td>\n",
       "      <td>7030</td>\n",
       "      <td>7000</td>\n",
       "      <td>2021-09-14 12:33:11</td>\n",
       "      <td>NaN</td>\n",
       "    </tr>\n",
       "  </tbody>\n",
       "</table>\n",
       "</div>"
      ],
      "text/plain": [
       "        UNFY_MMB_NO   TRSC_TYP_CD COOPCO_CD  TOT_SEL_AMT             REG_DTM  \\\n",
       "561112       381692   포인트 적립/적립취소      7040       102920 2021-05-01 01:07:33   \n",
       "548482       381692   포인트 사용/사용취소      7040        48000 2021-05-13 14:17:34   \n",
       "542690       381692   포인트 적립/적립취소      7040        48000 2021-05-18 01:07:28   \n",
       "541783       381692   포인트 적립/적립취소      7040        40206 2021-05-28 01:09:47   \n",
       "577021       381692   포인트 적립/적립취소      7040        44800 2021-06-27 01:09:34   \n",
       "649865       381692   포인트 사용/사용취소      7040        22880 2021-11-02 07:21:16   \n",
       "623781       381692   포인트 적립/적립취소      7040        25880 2021-11-06 01:09:44   \n",
       "679624       381692   포인트 적립/적립취소      7040        40148 2022-01-07 01:07:06   \n",
       "433637       382221   포인트 적립/적립취소      7040        51000 2020-12-14 10:13:01   \n",
       "622185       382749  기프트카드사용/사용취소      7030         7000 2021-09-14 12:33:11   \n",
       "\n",
       "         DIFF  \n",
       "561112    NaN  \n",
       "548482   12.0  \n",
       "542690    4.0  \n",
       "541783   10.0  \n",
       "577021   29.0  \n",
       "649865  128.0  \n",
       "623781    3.0  \n",
       "679624   61.0  \n",
       "433637    NaN  \n",
       "622185    NaN  "
      ]
     },
     "execution_count": 19,
     "metadata": {},
     "output_type": "execute_result"
    }
   ],
   "source": [
    "dataD.head(10)"
   ]
  },
  {
   "cell_type": "code",
   "execution_count": 20,
   "metadata": {},
   "outputs": [],
   "source": [
    "# pd.pivot_table(dataD, values='DIFF', index=['UNFY_MMB_NO'], columns=['COOPCO_CD'],  aggfunc=np.average)"
   ]
  },
  {
   "cell_type": "code",
   "execution_count": 20,
   "metadata": {},
   "outputs": [
    {
     "data": {
      "text/plain": [
       "COOPCO_CD\n",
       "7010    85.308776\n",
       "7020    41.638424\n",
       "7030    30.732539\n",
       "7040    30.934381\n",
       "7050    29.383519\n",
       "7060    19.829121\n",
       "Name: DIFF, dtype: float64"
      ]
     },
     "execution_count": 20,
     "metadata": {},
     "output_type": "execute_result"
    }
   ],
   "source": [
    "dataD.dropna().groupby(['COOPCO_CD'])['DIFF'].sum() / dataD.dropna().groupby(['COOPCO_CD'])['DIFF'].count()"
   ]
  },
  {
   "cell_type": "code",
   "execution_count": 21,
   "metadata": {},
   "outputs": [
    {
     "data": {
      "text/plain": [
       "COOPCO_CD\n",
       "7010       923\n",
       "7020    321111\n",
       "7030    142907\n",
       "7040     70452\n",
       "7050      6808\n",
       "7060      2651\n",
       "Name: DIFF, dtype: int64"
      ]
     },
     "execution_count": 21,
     "metadata": {},
     "output_type": "execute_result"
    }
   ],
   "source": [
    "dataD.dropna().groupby(['COOPCO_CD'])['DIFF'].count()"
   ]
  },
  {
   "cell_type": "code",
   "execution_count": 22,
   "metadata": {},
   "outputs": [
    {
     "data": {
      "text/plain": [
       "COOPCO_CD\n",
       "7010       78740.0\n",
       "7020    13370556.0\n",
       "7030     4391895.0\n",
       "7040     2179389.0\n",
       "7050      200043.0\n",
       "7060       52567.0\n",
       "Name: DIFF, dtype: float64"
      ]
     },
     "execution_count": 22,
     "metadata": {},
     "output_type": "execute_result"
    }
   ],
   "source": [
    "dataD.dropna().groupby(['COOPCO_CD'])['DIFF'].sum()"
   ]
  },
  {
   "cell_type": "code",
   "execution_count": null,
   "metadata": {},
   "outputs": [],
   "source": []
  }
 ],
 "metadata": {
  "kernelspec": {
   "display_name": "Python 3",
   "language": "python",
   "name": "python3"
  },
  "language_info": {
   "codemirror_mode": {
    "name": "ipython",
    "version": 3
   },
   "file_extension": ".py",
   "mimetype": "text/x-python",
   "name": "python",
   "nbconvert_exporter": "python",
   "pygments_lexer": "ipython3",
   "version": "3.7.6"
  }
 },
 "nbformat": 4,
 "nbformat_minor": 4
}
