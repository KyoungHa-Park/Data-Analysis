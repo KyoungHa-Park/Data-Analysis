{
 "cells": [
  {
   "cell_type": "code",
   "execution_count": null,
   "metadata": {},
   "outputs": [],
   "source": [
    "# 출처 : https://www.analyticsvidhya.com/blog/2020/10/a-definitive-guide-for-predicting-customer-lifetime-value-clv/"
   ]
  },
  {
   "cell_type": "code",
   "execution_count": 1,
   "metadata": {},
   "outputs": [],
   "source": [
    "# DB접속\n",
    "import os\n",
    "from os import listdir\n",
    "import cx_Oracle as oci\n",
    "import numpy as np\n",
    "import pandas as pd\n",
    "\n",
    "from datetime import datetime, timedelta\n",
    "\n",
    "# 그래프\n",
    "import seaborn as sns\n",
    "import matplotlib as mpl\n",
    "import matplotlib.pyplot as plt\n",
    "import matplotlib.font_manager as fm\n",
    "path = 'C:/windows/Fonts/malgun.ttf'                           # 폰트:맑은고딕\n",
    "font_name = fm.FontProperties(fname=path, size=24).get_name()  \n",
    "plt.rc('font', family=font_name)\n"
   ]
  },
  {
   "cell_type": "code",
   "execution_count": 2,
   "metadata": {},
   "outputs": [],
   "source": [
    "# DB접속 : 접속정보 읽기\n",
    "con_text = open(\"C:/Users/MAEIL/conn_info_MMBSHIP.txt\", 'r', encoding='utf8')\n",
    "con_text = con_text.read()\n",
    "\n",
    "# DB 접속 : 실제 접속\n",
    "conn = oci.connect(con_text[1:], encoding='UTF-8', nencoding='UTF-8')"
   ]
  },
  {
   "cell_type": "code",
   "execution_count": null,
   "metadata": {},
   "outputs": [],
   "source": []
  },
  {
   "cell_type": "code",
   "execution_count": null,
   "metadata": {},
   "outputs": [],
   "source": []
  },
  {
   "cell_type": "markdown",
   "metadata": {},
   "source": [
    "### 1.데이터 불러오기"
   ]
  },
  {
   "cell_type": "code",
   "execution_count": 3,
   "metadata": {},
   "outputs": [],
   "source": [
    "###############\n",
    "# 1.데이터 불러오기 : 최근1년간, 방문회원  \n",
    "#####\n",
    "\n",
    "# query run\n",
    "query1 = '''select unfy_mmb_no\n",
    "            , (select code_nm from mmbship.JT_CODE where code_grp_id = 'PM001' and trsc_typ_cd = code) as trsc_typ_cd\n",
    "            , coopco_cd\n",
    "            , tot_sel_amt\n",
    "            , to_char(reg_dtm, 'YY/MM/DD') as reg_dtm\n",
    "            from mmbship.TP_TRSC_PTCL\n",
    "            where unfy_mmb_no is not null \n",
    "            and tot_sel_amt > 0 \n",
    "            and to_char(reg_dtm, 'YYYY') = '2021'\n",
    "            and trsc_typ_cd in ( 'G40', '200', '300')\n",
    "            union all\n",
    "\n",
    "            --쿠폰 사용\n",
    "            select A.unfy_mmb_no\n",
    "            , '쿠폰사용' as trsc_typ_cd\n",
    "            , U.coopco_cd\n",
    "            , u.dc_tgt_amt as tot_sel_amt\n",
    "            , to_char(A.reg_dtm, 'YY/MM/DD') as reg_dtm\n",
    "            from mmbship.TPM_CPN_ISSU A, mmbship.TPM_CPN B, mmbship.TPM_CPN_use U\n",
    "            where A.CPN_CD = B.cpn_cd \n",
    "            and cpn_st_cd ='2' \n",
    "            and A.CPN_issu_CD = U.CPN_issu_CD\n",
    "            and coopco_cd in (7050, 7060)\n",
    "            and to_char(A.reg_dtm, 'YYYY') = '2021'\n",
    "        '''\n",
    "df1_A = pd.read_sql(query1, con = conn )\n"
   ]
  },
  {
   "cell_type": "code",
   "execution_count": 4,
   "metadata": {},
   "outputs": [],
   "source": [
    "df1_A['REG_DTM'] = pd.to_datetime(df1_A['REG_DTM'],format = '%y/%m/%d')\n",
    "# df['REG_DTM'] = df['REG_DTM']\n",
    "df1_A['UNFY_MMB_NO'] = df1_A['UNFY_MMB_NO'].astype(object)"
   ]
  },
  {
   "cell_type": "code",
   "execution_count": 5,
   "metadata": {},
   "outputs": [
    {
     "name": "stdout",
     "output_type": "stream",
     "text": [
      "<class 'pandas.core.frame.DataFrame'>\n",
      "RangeIndex: 246730 entries, 0 to 246729\n",
      "Data columns (total 5 columns):\n",
      " #   Column       Non-Null Count   Dtype         \n",
      "---  ------       --------------   -----         \n",
      " 0   UNFY_MMB_NO  246706 non-null  object        \n",
      " 1   TRSC_TYP_CD  246730 non-null  object        \n",
      " 2   COOPCO_CD    246730 non-null  object        \n",
      " 3   TOT_SEL_AMT  246730 non-null  int64         \n",
      " 4   REG_DTM      246730 non-null  datetime64[ns]\n",
      "dtypes: datetime64[ns](1), int64(1), object(3)\n",
      "memory usage: 9.4+ MB\n"
     ]
    }
   ],
   "source": [
    "df1_A.info()"
   ]
  },
  {
   "cell_type": "code",
   "execution_count": 6,
   "metadata": {},
   "outputs": [
    {
     "data": {
      "text/html": [
       "<div>\n",
       "<style scoped>\n",
       "    .dataframe tbody tr th:only-of-type {\n",
       "        vertical-align: middle;\n",
       "    }\n",
       "\n",
       "    .dataframe tbody tr th {\n",
       "        vertical-align: top;\n",
       "    }\n",
       "\n",
       "    .dataframe thead th {\n",
       "        text-align: right;\n",
       "    }\n",
       "</style>\n",
       "<table border=\"1\" class=\"dataframe\">\n",
       "  <thead>\n",
       "    <tr style=\"text-align: right;\">\n",
       "      <th></th>\n",
       "      <th>UNFY_MMB_NO</th>\n",
       "      <th>TRSC_TYP_CD</th>\n",
       "      <th>COOPCO_CD</th>\n",
       "      <th>TOT_SEL_AMT</th>\n",
       "      <th>REG_DTM</th>\n",
       "    </tr>\n",
       "  </thead>\n",
       "  <tbody>\n",
       "    <tr>\n",
       "      <th>246728</th>\n",
       "      <td>6499433.0</td>\n",
       "      <td>쿠폰사용</td>\n",
       "      <td>7050</td>\n",
       "      <td>45000</td>\n",
       "      <td>2021-12-23</td>\n",
       "    </tr>\n",
       "    <tr>\n",
       "      <th>246729</th>\n",
       "      <td>5216322.0</td>\n",
       "      <td>쿠폰사용</td>\n",
       "      <td>7050</td>\n",
       "      <td>30000</td>\n",
       "      <td>2021-12-27</td>\n",
       "    </tr>\n",
       "  </tbody>\n",
       "</table>\n",
       "</div>"
      ],
      "text/plain": [
       "       UNFY_MMB_NO TRSC_TYP_CD COOPCO_CD  TOT_SEL_AMT    REG_DTM\n",
       "246728   6499433.0        쿠폰사용      7050        45000 2021-12-23\n",
       "246729   5216322.0        쿠폰사용      7050        30000 2021-12-27"
      ]
     },
     "execution_count": 6,
     "metadata": {},
     "output_type": "execute_result"
    }
   ],
   "source": [
    "df1_A.tail(2)"
   ]
  },
  {
   "cell_type": "code",
   "execution_count": 10,
   "metadata": {},
   "outputs": [],
   "source": [
    "# df1_A"
   ]
  },
  {
   "cell_type": "code",
   "execution_count": 7,
   "metadata": {},
   "outputs": [],
   "source": [
    "df_sub = pd.pivot_table(df1_A, values='UNFY_MMB_NO', index=['COOPCO_CD'],columns=['TRSC_TYP_CD'],  aggfunc='count').fillna(0)"
   ]
  },
  {
   "cell_type": "code",
   "execution_count": 8,
   "metadata": {},
   "outputs": [
    {
     "data": {
      "text/html": [
       "<div>\n",
       "<style scoped>\n",
       "    .dataframe tbody tr th:only-of-type {\n",
       "        vertical-align: middle;\n",
       "    }\n",
       "\n",
       "    .dataframe tbody tr th {\n",
       "        vertical-align: top;\n",
       "    }\n",
       "\n",
       "    .dataframe thead th {\n",
       "        text-align: right;\n",
       "    }\n",
       "</style>\n",
       "<table border=\"1\" class=\"dataframe\">\n",
       "  <thead>\n",
       "    <tr style=\"text-align: right;\">\n",
       "      <th>TRSC_TYP_CD</th>\n",
       "      <th>기프트카드사용/사용취소</th>\n",
       "      <th>쿠폰사용</th>\n",
       "      <th>포인트 사용/사용취소</th>\n",
       "      <th>포인트 적립/적립취소</th>\n",
       "    </tr>\n",
       "    <tr>\n",
       "      <th>COOPCO_CD</th>\n",
       "      <th></th>\n",
       "      <th></th>\n",
       "      <th></th>\n",
       "      <th></th>\n",
       "    </tr>\n",
       "  </thead>\n",
       "  <tbody>\n",
       "    <tr>\n",
       "      <th>7010</th>\n",
       "      <td>504.0</td>\n",
       "      <td>0.0</td>\n",
       "      <td>0.0</td>\n",
       "      <td>0.0</td>\n",
       "    </tr>\n",
       "    <tr>\n",
       "      <th>7020</th>\n",
       "      <td>5787.0</td>\n",
       "      <td>0.0</td>\n",
       "      <td>50870.0</td>\n",
       "      <td>67837.0</td>\n",
       "    </tr>\n",
       "    <tr>\n",
       "      <th>7030</th>\n",
       "      <td>50984.0</td>\n",
       "      <td>0.0</td>\n",
       "      <td>2833.0</td>\n",
       "      <td>16082.0</td>\n",
       "    </tr>\n",
       "    <tr>\n",
       "      <th>7040</th>\n",
       "      <td>1918.0</td>\n",
       "      <td>0.0</td>\n",
       "      <td>9255.0</td>\n",
       "      <td>35787.0</td>\n",
       "    </tr>\n",
       "    <tr>\n",
       "      <th>7050</th>\n",
       "      <td>1426.0</td>\n",
       "      <td>577.0</td>\n",
       "      <td>42.0</td>\n",
       "      <td>1635.0</td>\n",
       "    </tr>\n",
       "    <tr>\n",
       "      <th>7060</th>\n",
       "      <td>155.0</td>\n",
       "      <td>377.0</td>\n",
       "      <td>10.0</td>\n",
       "      <td>627.0</td>\n",
       "    </tr>\n",
       "  </tbody>\n",
       "</table>\n",
       "</div>"
      ],
      "text/plain": [
       "TRSC_TYP_CD  기프트카드사용/사용취소   쿠폰사용  포인트 사용/사용취소  포인트 적립/적립취소\n",
       "COOPCO_CD                                                 \n",
       "7010                504.0    0.0          0.0          0.0\n",
       "7020               5787.0    0.0      50870.0      67837.0\n",
       "7030              50984.0    0.0       2833.0      16082.0\n",
       "7040               1918.0    0.0       9255.0      35787.0\n",
       "7050               1426.0  577.0         42.0       1635.0\n",
       "7060                155.0  377.0         10.0        627.0"
      ]
     },
     "execution_count": 8,
     "metadata": {},
     "output_type": "execute_result"
    }
   ],
   "source": [
    "df_sub"
   ]
  },
  {
   "cell_type": "code",
   "execution_count": null,
   "metadata": {},
   "outputs": [],
   "source": []
  },
  {
   "cell_type": "code",
   "execution_count": null,
   "metadata": {},
   "outputs": [],
   "source": []
  },
  {
   "cell_type": "code",
   "execution_count": null,
   "metadata": {},
   "outputs": [],
   "source": []
  },
  {
   "cell_type": "markdown",
   "metadata": {},
   "source": [
    "### 2.자료변환"
   ]
  },
  {
   "cell_type": "markdown",
   "metadata": {},
   "source": [
    "![nn](https://cdn-images-1.medium.com/max/800/1*M9THB3FONFSF2lQHd-9cHg.png)"
   ]
  },
  {
   "cell_type": "code",
   "execution_count": null,
   "metadata": {},
   "outputs": [],
   "source": []
  },
  {
   "cell_type": "code",
   "execution_count": 10,
   "metadata": {},
   "outputs": [],
   "source": [
    "df = df1_A.copy()"
   ]
  },
  {
   "cell_type": "code",
   "execution_count": 16,
   "metadata": {},
   "outputs": [],
   "source": [
    "# today_date = datetime(2021, 12, 31) # We have to set today date in order to calculate Recency metric\n",
    "customer = df.groupby('UNFY_MMB_NO').agg({'REG_DTM': lambda x: x.min().month,\n",
    "                                     'UNFY_MMB_NO': lambda num: num.count(), # Frequency calculation\n",
    "                                     'TOT_SEL_AMT': lambda TotalPrice: TotalPrice.sum()}) # Monetary calculation"
   ]
  },
  {
   "cell_type": "code",
   "execution_count": 19,
   "metadata": {},
   "outputs": [],
   "source": [
    "customer.columns = ['Start_Month', 'Frequency', 'TotalSales'] # Changing column names"
   ]
  },
  {
   "cell_type": "code",
   "execution_count": 20,
   "metadata": {},
   "outputs": [
    {
     "data": {
      "text/html": [
       "<div>\n",
       "<style scoped>\n",
       "    .dataframe tbody tr th:only-of-type {\n",
       "        vertical-align: middle;\n",
       "    }\n",
       "\n",
       "    .dataframe tbody tr th {\n",
       "        vertical-align: top;\n",
       "    }\n",
       "\n",
       "    .dataframe thead th {\n",
       "        text-align: right;\n",
       "    }\n",
       "</style>\n",
       "<table border=\"1\" class=\"dataframe\">\n",
       "  <thead>\n",
       "    <tr style=\"text-align: right;\">\n",
       "      <th></th>\n",
       "      <th>Start_Month</th>\n",
       "      <th>Frequency</th>\n",
       "      <th>TotalSales</th>\n",
       "    </tr>\n",
       "    <tr>\n",
       "      <th>UNFY_MMB_NO</th>\n",
       "      <th></th>\n",
       "      <th></th>\n",
       "      <th></th>\n",
       "    </tr>\n",
       "  </thead>\n",
       "  <tbody>\n",
       "    <tr>\n",
       "      <th>381692.0</th>\n",
       "      <td>5</td>\n",
       "      <td>7</td>\n",
       "      <td>332686</td>\n",
       "    </tr>\n",
       "    <tr>\n",
       "      <th>382749.0</th>\n",
       "      <td>9</td>\n",
       "      <td>1</td>\n",
       "      <td>7000</td>\n",
       "    </tr>\n",
       "    <tr>\n",
       "      <th>383331.0</th>\n",
       "      <td>2</td>\n",
       "      <td>5</td>\n",
       "      <td>74480</td>\n",
       "    </tr>\n",
       "    <tr>\n",
       "      <th>383516.0</th>\n",
       "      <td>1</td>\n",
       "      <td>5</td>\n",
       "      <td>92960</td>\n",
       "    </tr>\n",
       "    <tr>\n",
       "      <th>384101.0</th>\n",
       "      <td>4</td>\n",
       "      <td>1</td>\n",
       "      <td>42770</td>\n",
       "    </tr>\n",
       "  </tbody>\n",
       "</table>\n",
       "</div>"
      ],
      "text/plain": [
       "             Start_Month  Frequency  TotalSales\n",
       "UNFY_MMB_NO                                    \n",
       "381692.0               5          7      332686\n",
       "382749.0               9          1        7000\n",
       "383331.0               2          5       74480\n",
       "383516.0               1          5       92960\n",
       "384101.0               4          1       42770"
      ]
     },
     "execution_count": 20,
     "metadata": {},
     "output_type": "execute_result"
    }
   ],
   "source": [
    "customer.head()"
   ]
  },
  {
   "cell_type": "code",
   "execution_count": null,
   "metadata": {},
   "outputs": [],
   "source": []
  },
  {
   "cell_type": "markdown",
   "metadata": {},
   "source": [
    "![nx](https://cdn-images-1.medium.com/max/800/1*vqZcIDGu64VPWWoQuUzUIw.png)"
   ]
  },
  {
   "cell_type": "code",
   "execution_count": 21,
   "metadata": {},
   "outputs": [],
   "source": [
    "month = ['Jan', 'Feb', 'March', 'Apr', 'May', 'Jun', 'Jul', 'Aug', 'Sep' 'Oct', 'Nov', 'Dec']\n",
    "Monthly_CLV = []\n",
    "Profit_margin = 0.05\n",
    "\n",
    "for i in range(1,13):\n",
    "    customer_m = customer[customer['Start_Month'] ==i]\n",
    "\n",
    "    Average_sales = round(np.mean(customer_m['TotalSales']), 2) \n",
    "    Purchase_freq = round(np.mean(customer_m['Frequency']), 2)\n",
    "    Retention_rate = customer_m[customer_m['Frequency']>1].shape[0]/customer_m.shape[0]\n",
    "    churn = round(1 - Retention_rate, 2)\n",
    "    \n",
    "    CLV = round( (Average_sales * Purchase_freq / churn) * Profit_margin,2  )\n",
    "    Monthly_CLV.append(CLV)\n"
   ]
  },
  {
   "cell_type": "code",
   "execution_count": 26,
   "metadata": {},
   "outputs": [
    {
     "data": {
      "text/plain": [
       "[<matplotlib.lines.Line2D at 0x18e70dd9188>]"
      ]
     },
     "execution_count": 26,
     "metadata": {},
     "output_type": "execute_result"
    },
    {
     "data": {
      "image/png": "[encoded data removed]",
      "text/plain": [
       "<Figure size 432x288 with 1 Axes>"
      ]
     },
     "metadata": {
      "needs_background": "light"
     },
     "output_type": "display_data"
    }
   ],
   "source": [
    "plt.plot(Monthly_CLV)"
   ]
  },
  {
   "cell_type": "code",
   "execution_count": null,
   "metadata": {},
   "outputs": [],
   "source": []
  },
  {
   "cell_type": "code",
   "execution_count": null,
   "metadata": {},
   "outputs": [],
   "source": []
  },
  {
   "cell_type": "code",
   "execution_count": null,
   "metadata": {},
   "outputs": [],
   "source": []
  }
 ],
 "metadata": {
  "kernelspec": {
   "display_name": "Python 3",
   "language": "python",
   "name": "python3"
  },
  "language_info": {
   "codemirror_mode": {
    "name": "ipython",
    "version": 3
   },
   "file_extension": ".py",
   "mimetype": "text/x-python",
   "name": "python",
   "nbconvert_exporter": "python",
   "pygments_lexer": "ipython3",
   "version": "3.7.6"
  }
 },
 "nbformat": 4,
 "nbformat_minor": 4
}
