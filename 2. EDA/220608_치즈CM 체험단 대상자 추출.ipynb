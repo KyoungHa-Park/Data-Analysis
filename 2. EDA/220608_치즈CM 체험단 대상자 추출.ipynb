{
 "cells": [
  {
   "cell_type": "code",
   "execution_count": 1,
   "metadata": {},
   "outputs": [
    {
     "name": "stderr",
     "output_type": "stream",
     "text": [
      "C:\\ProgramData\\Anaconda3\\lib\\site-packages\\numpy\\_distributor_init.py:32: UserWarning: loaded more than 1 DLL from .libs:\n",
      "C:\\ProgramData\\Anaconda3\\lib\\site-packages\\numpy\\.libs\\libopenblas.WCDJNK7YVMPZQ2ME2ZZHJJRJ3JIKNDB7.gfortran-win_amd64.dll\n",
      "C:\\ProgramData\\Anaconda3\\lib\\site-packages\\numpy\\.libs\\libopenblas.XWYDX2IKJW2NMTWSFYNGFUWKQU3LYTCZ.gfortran-win_amd64.dll\n",
      "  stacklevel=1)\n"
     ]
    }
   ],
   "source": [
    "\n",
    "###############\n",
    "# 1. import\n",
    "#####\n",
    "\n",
    "import pandas as pd\n",
    "from datetime import datetime, timedelta\n",
    "import re\n",
    "import time \n",
    "\n",
    "# local only\n",
    "import os\n",
    "import cx_Oracle as oci\n",
    "import pandas as pd\n",
    "import matplotlib.pyplot as plt\n",
    "\n",
    "import numpy as np\n",
    "\n",
    "import matplotlib as mpl\n",
    "import matplotlib.pyplot as plt\n",
    "import matplotlib.font_manager as fm\n",
    "\n",
    "path = 'C:/windows/Fonts/malgun.ttf'                           # 폰트:맑은고딕\n",
    "font_name = fm.FontProperties(fname=path, size=24).get_name()  \n",
    "plt.rc('font', family=font_name)"
   ]
  },
  {
   "cell_type": "code",
   "execution_count": null,
   "metadata": {},
   "outputs": [],
   "source": []
  },
  {
   "cell_type": "code",
   "execution_count": null,
   "metadata": {},
   "outputs": [],
   "source": []
  },
  {
   "cell_type": "code",
   "execution_count": 2,
   "metadata": {},
   "outputs": [],
   "source": [
    "\n",
    "# # DB접속 : 폴 바셋\n",
    "# con_text = open(\"C:/Users/MAEIL/conn_MCRM.txt\", 'r', encoding='utf8')\n",
    "# con_text = con_text.read()\n",
    "\n",
    "\n",
    "# # DB접속 : 셀렉스몰\n",
    "# con_text = open(\"C:/Users/MAEIL/conn_SELEX.txt\", 'r', encoding='utf8')\n",
    "# con_text = con_text.read()\n"
   ]
  },
  {
   "cell_type": "code",
   "execution_count": 8,
   "metadata": {},
   "outputs": [],
   "source": [
    "###############\n",
    "# 1.데이터 불러오기\n",
    "#####\n",
    "# DB접속 : 통합멤버십\n",
    "con_text = open(\"C:/Users/MAEIL/conn_CRM.txt\", 'r', encoding='utf8')\n",
    "con_text = con_text.read()\n",
    "\n",
    "# DB 접속 : 실제 접속\n",
    "conn = oci.connect(con_text, encoding='UTF-8', nencoding='UTF-8')"
   ]
  },
  {
   "cell_type": "code",
   "execution_count": null,
   "metadata": {},
   "outputs": [],
   "source": []
  },
  {
   "cell_type": "code",
   "execution_count": null,
   "metadata": {},
   "outputs": [],
   "source": []
  },
  {
   "cell_type": "code",
   "execution_count": 9,
   "metadata": {},
   "outputs": [],
   "source": [
    "###############\n",
    "# 1.데이터 불러오기\n",
    "#####\n",
    "# DB접속 : CRM\n",
    "con_text = open(\"C:/Users/MAEIL/conn_CRM.txt\", 'r', encoding='utf8')\n",
    "con_text = con_text.read()\n",
    "\n",
    "# DB 접속 : 실제 접속\n",
    "conn = oci.connect(con_text, encoding='UTF-8', nencoding='UTF-8')\n",
    "\n",
    "query = '''\n",
    "        select  M.USERID\n",
    "        , I.member_no\n",
    "        , 2022-to_char(C.birthday, 'YYYY') as age\n",
    "        , (case when C.sex in ('1', '3') then 'M' when C.sex in ('2', '4') then 'F' end) as gender\n",
    "        , D.PRODUCT_CODE\n",
    "        , (case when D.PRODUCT_CODE = 'P03151' then '매일두유 고단백'\n",
    "                when D.PRODUCT_CODE = 'P03152' then '허쉬 프로틴'\n",
    "                when D.PRODUCT_CODE = 'P00827' then '아몬드브리즈 프로틴'\n",
    "                end ) as PRODUCT_NAME_GUBUN\n",
    "        , D.PRODUCT_QTY as PRODUCT_COUNT\n",
    "        , to_char(M.YMDD, 'YYYY-MM-DD') as PAY_DATE\n",
    "        , to_char(M.YMDD, 'HH24') as PAY_TIME\n",
    "        from maeil.maeil_ds_delivery M, maeil.MAEIL_DS_DELIVERY_DETAIL D, crm.customer C, crm.member I, mmbship.tm_mmb_info F\n",
    "        where M.ORDERNO = D.ORDERNO\n",
    "        and I.userid = M.userid\n",
    "        and I.member_no = F.unfy_mmb_no\n",
    "        and F.stff_dv_cd <> '1'\n",
    "        and D.Product_code in ( 'P03151', 'P03152', 'P00827')\n",
    "        and M.USERID = C.id(+) \n",
    "        and M.YMDD between sysdate-365 and sysdate\n",
    "        '''\n",
    "\n",
    "df_maeili = pd.read_sql(query, con = conn )\n"
   ]
  },
  {
   "cell_type": "code",
   "execution_count": 10,
   "metadata": {},
   "outputs": [
    {
     "name": "stdout",
     "output_type": "stream",
     "text": [
      "<class 'pandas.core.frame.DataFrame'>\n",
      "RangeIndex: 607 entries, 0 to 606\n",
      "Data columns (total 9 columns):\n",
      " #   Column              Non-Null Count  Dtype  \n",
      "---  ------              --------------  -----  \n",
      " 0   USERID              607 non-null    object \n",
      " 1   MEMBER_NO           607 non-null    int64  \n",
      " 2   AGE                 559 non-null    float64\n",
      " 3   GENDER              555 non-null    object \n",
      " 4   PRODUCT_CODE        607 non-null    object \n",
      " 5   PRODUCT_NAME_GUBUN  607 non-null    object \n",
      " 6   PRODUCT_COUNT       607 non-null    object \n",
      " 7   PAY_DATE            607 non-null    object \n",
      " 8   PAY_TIME            607 non-null    object \n",
      "dtypes: float64(1), int64(1), object(7)\n",
      "memory usage: 42.8+ KB\n"
     ]
    }
   ],
   "source": [
    "df_maeili.info()"
   ]
  },
  {
   "cell_type": "code",
   "execution_count": null,
   "metadata": {},
   "outputs": [],
   "source": []
  },
  {
   "cell_type": "code",
   "execution_count": null,
   "metadata": {},
   "outputs": [],
   "source": []
  },
  {
   "cell_type": "code",
   "execution_count": 17,
   "metadata": {},
   "outputs": [],
   "source": [
    "###############\n",
    "# 1.데이터 불러오기\n",
    "#####\n",
    "# DB접속 : CRM\n",
    "con_text = open(\"C:/Users/MAEIL/conn_info_MMBSHIP.txt\", 'r', encoding='utf8')\n",
    "con_text = con_text.read()\n",
    "\n",
    "# DB 접속 : 실제 접속\n",
    "conn = oci.connect(con_text[1:], encoding='UTF-8', nencoding='UTF-8')\n",
    "\n",
    "query = '''\n",
    "        with buy_product as (\n",
    "            select replace(수령자전화, '-', '') as cellno , 수령자명, 상품명, 배정일, to_date(배정일,'YYYYMMDD') as reg_dtm\n",
    "            from lkh_emp_master\n",
    "            where 수령자전화 is not null\n",
    "            and length(replace(수령자전화, '-', '')) = 11 and to_date(배정일,'YYYYMMDD') between sysdate-365 and sysdate  \n",
    "            and 상품명 like '%프로틴%' \n",
    "            ),\n",
    "        user_info as(\n",
    "            select unfy_mmb_no, mmb_nm, wrls_tel_no1 || wrls_tel_no2 || wrls_tel_no3 as cellno\n",
    "            from tm_mmb_info \n",
    "            where mmb_st_cd = '1'\n",
    "            )\n",
    "        select U.unfy_mmb_no, B.*\n",
    "        from buy_product B, user_info U, tm_mktg_recv_agrm A\n",
    "        where B.cellno = U.cellno\n",
    "        and B.상품명 not like '%판촉물%'\n",
    "        and B.수령자명 = u.mmb_nm\n",
    "        and A.unfy_mmb_no = U.unfy_mmb_no\n",
    "        and A.coopco_Cd = '7010' \n",
    "        and a.sms_recv_dv_cd = '1'\n",
    "        '''\n",
    "\n",
    "df_naver = pd.read_sql(query, con = conn )"
   ]
  },
  {
   "cell_type": "code",
   "execution_count": null,
   "metadata": {},
   "outputs": [],
   "source": []
  },
  {
   "cell_type": "code",
   "execution_count": null,
   "metadata": {},
   "outputs": [],
   "source": []
  },
  {
   "cell_type": "code",
   "execution_count": null,
   "metadata": {},
   "outputs": [],
   "source": []
  },
  {
   "cell_type": "code",
   "execution_count": null,
   "metadata": {},
   "outputs": [],
   "source": []
  },
  {
   "cell_type": "code",
   "execution_count": 6,
   "metadata": {},
   "outputs": [],
   "source": [
    "###############\n",
    "# 1.데이터 불러오기\n",
    "#####\n",
    "# DB접속 : 셀렉스\n",
    "con_text = open(\"C:/Users/MAEIL/conn_SELEX.txt\", 'r', encoding='utf8')\n",
    "con_text = con_text.read()\n",
    "\n",
    "# DB 접속 : 실제 접속\n",
    "conn = oci.connect(con_text[1:], encoding='UTF-8', nencoding='UTF-8')\n",
    "\n",
    "###############\n",
    "# 2.데이터 정렬\n",
    "#####\n",
    "query = '''\n",
    "        select trim(I.CI) as CI\n",
    "        , I.login_id as ID\n",
    "        , I.name\n",
    "        , to_char(sysdate, 'YYYY')-to_char(I.birth, 'YYYY') as AGE\n",
    "        , I.phone_number as cellno\n",
    "        , (case when U.sex in( 'W','w') then 'F' else 'M' end) as gender\n",
    "        , U.REG_DATE as reg_dtm\n",
    "        , round(sysdate - U.REG_DATE, 0) as time_lag\n",
    "        , U.address as ADDR\n",
    "        , substr(trim(u.address),1,2) as addr_lv1\n",
    "        from selexfit.user_ I, userinfo U\n",
    "        where I.login_id = U.id\n",
    "        and I.ci is not null\n",
    "        and U.sms_receive = 'Y'\n",
    "        and U.sex = 'W'\n",
    "        and GROUP_NAME = '일반'\n",
    "        and (U.address like '%서울%' or U.address like '%경기%' or U.address like '%인천%')\n",
    "        and to_char(sysdate, 'YYYY')-to_char(I.birth, 'YYYY') between 30 and 49\n",
    "        and  U.REG_DATE between sysdate-40 and sysdate\n",
    "        '''\n",
    "\n",
    "df_selex = pd.read_sql(query, con = conn )\n"
   ]
  },
  {
   "cell_type": "code",
   "execution_count": null,
   "metadata": {},
   "outputs": [],
   "source": []
  },
  {
   "cell_type": "code",
   "execution_count": 7,
   "metadata": {},
   "outputs": [],
   "source": [
    "df_selex['GUBUN'] ='셀렉스몰'\n",
    "df_maeili['GUBUN'] ='매일아이'"
   ]
  },
  {
   "cell_type": "code",
   "execution_count": 8,
   "metadata": {},
   "outputs": [],
   "source": [
    "df = pd.concat([df_maeili, df_selex ], ignore_index= True)"
   ]
  },
  {
   "cell_type": "code",
   "execution_count": 9,
   "metadata": {},
   "outputs": [
    {
     "data": {
      "text/plain": [
       "1271"
      ]
     },
     "execution_count": 9,
     "metadata": {},
     "output_type": "execute_result"
    }
   ],
   "source": [
    "len(df)"
   ]
  },
  {
   "cell_type": "code",
   "execution_count": 10,
   "metadata": {},
   "outputs": [],
   "source": [
    "df2 = df.drop_duplicates(subset= 'CI')"
   ]
  },
  {
   "cell_type": "code",
   "execution_count": 11,
   "metadata": {},
   "outputs": [
    {
     "name": "stdout",
     "output_type": "stream",
     "text": [
      "<class 'pandas.core.frame.DataFrame'>\n",
      "Int64Index: 1271 entries, 0 to 1270\n",
      "Data columns (total 11 columns):\n",
      " #   Column    Non-Null Count  Dtype         \n",
      "---  ------    --------------  -----         \n",
      " 0   CI        1271 non-null   object        \n",
      " 1   ID        1271 non-null   object        \n",
      " 2   NAME      1271 non-null   object        \n",
      " 3   AGE       1271 non-null   int64         \n",
      " 4   GENDER    1271 non-null   object        \n",
      " 5   CELLNO    1271 non-null   object        \n",
      " 6   REG_DTM   1271 non-null   datetime64[ns]\n",
      " 7   TIME_LAG  1271 non-null   int64         \n",
      " 8   ADDR      1271 non-null   object        \n",
      " 9   ADDR_LV1  1271 non-null   object        \n",
      " 10  GUBUN     1271 non-null   object        \n",
      "dtypes: datetime64[ns](1), int64(2), object(8)\n",
      "memory usage: 119.2+ KB\n"
     ]
    }
   ],
   "source": [
    "df2.info()"
   ]
  },
  {
   "cell_type": "code",
   "execution_count": 12,
   "metadata": {},
   "outputs": [
    {
     "data": {
      "text/plain": [
       "Timestamp('2022-04-02 10:28:15')"
      ]
     },
     "execution_count": 12,
     "metadata": {},
     "output_type": "execute_result"
    }
   ],
   "source": [
    "df2.REG_DTM.min()"
   ]
  },
  {
   "cell_type": "code",
   "execution_count": null,
   "metadata": {},
   "outputs": [],
   "source": []
  },
  {
   "cell_type": "code",
   "execution_count": null,
   "metadata": {},
   "outputs": [],
   "source": []
  },
  {
   "cell_type": "code",
   "execution_count": 17,
   "metadata": {},
   "outputs": [],
   "source": [
    "# Excel 다운로드\n",
    "date2 = datetime.today().strftime('%Y%m%d')\n",
    "excel_name = date2 +'_PBS_targetting_rawdata.xlsx'\n",
    "df3.to_excel(excel_name, sheet_name= 'Sheet1' )"
   ]
  },
  {
   "cell_type": "code",
   "execution_count": 13,
   "metadata": {},
   "outputs": [],
   "source": []
  },
  {
   "cell_type": "code",
   "execution_count": null,
   "metadata": {},
   "outputs": [],
   "source": []
  },
  {
   "cell_type": "code",
   "execution_count": null,
   "metadata": {},
   "outputs": [],
   "source": []
  },
  {
   "cell_type": "code",
   "execution_count": 44,
   "metadata": {},
   "outputs": [],
   "source": [
    "df1 = pd.read_excel('./220628_cheese_send_list.xlsx', 0)\n",
    "df2 = pd.read_excel('./220628_cheese_send_list.xlsx', 1)"
   ]
  },
  {
   "cell_type": "code",
   "execution_count": null,
   "metadata": {},
   "outputs": [],
   "source": []
  },
  {
   "cell_type": "code",
   "execution_count": 45,
   "metadata": {},
   "outputs": [],
   "source": [
    "df1['LAST_ORDER_DT'] = pd.to_datetime(df1['LAST_ORDER_DT'])\n",
    "df2['LAST_ORDER_DT'] = pd.to_datetime(df2['LAST_ORDER_DT'])\n",
    "\n",
    "df1['GUBUN'] = 'MMS_SEND'\n",
    "df2['GUBUN'] = 'LMS_SEND'\n",
    "df = pd.concat([df1, df2]).reset_index(drop=True)\n"
   ]
  },
  {
   "cell_type": "code",
   "execution_count": 46,
   "metadata": {},
   "outputs": [
    {
     "name": "stdout",
     "output_type": "stream",
     "text": [
      "<class 'pandas.core.frame.DataFrame'>\n",
      "RangeIndex: 5000 entries, 0 to 4999\n",
      "Data columns (total 7 columns):\n",
      " #   Column         Non-Null Count  Dtype         \n",
      "---  ------         --------------  -----         \n",
      " 0   MEMBER_NO      5000 non-null   int64         \n",
      " 1   CUSTOMERNAME   4999 non-null   object        \n",
      " 2   CELLNO         5000 non-null   object        \n",
      " 3   AGE            4981 non-null   float64       \n",
      " 4   LAST_ORDER_DT  5000 non-null   datetime64[ns]\n",
      " 5   date_diff      5000 non-null   int64         \n",
      " 6   GUBUN          5000 non-null   object        \n",
      "dtypes: datetime64[ns](1), float64(1), int64(2), object(3)\n",
      "memory usage: 273.6+ KB\n"
     ]
    }
   ],
   "source": [
    "df.info()"
   ]
  },
  {
   "cell_type": "code",
   "execution_count": null,
   "metadata": {},
   "outputs": [],
   "source": []
  },
  {
   "cell_type": "code",
   "execution_count": null,
   "metadata": {},
   "outputs": [],
   "source": []
  },
  {
   "cell_type": "code",
   "execution_count": 23,
   "metadata": {},
   "outputs": [],
   "source": [
    "import seaborn as sns"
   ]
  },
  {
   "cell_type": "code",
   "execution_count": null,
   "metadata": {},
   "outputs": [],
   "source": []
  },
  {
   "cell_type": "code",
   "execution_count": null,
   "metadata": {},
   "outputs": [],
   "source": []
  },
  {
   "cell_type": "code",
   "execution_count": 25,
   "metadata": {},
   "outputs": [
    {
     "data": {
      "image/png": "[encoded data removed]",
      "text/plain": [
       "<Figure size 360x144 with 1 Axes>"
      ]
     },
     "metadata": {},
     "output_type": "display_data"
    }
   ],
   "source": [
    "mpl.rc('figure', figsize=(5, 2), facecolor='#eeeeee' )\n",
    "sns.boxplot(x=\"AGE\", y=\"GUBUN\", data=df)\n",
    "# plt.title(\"요일 별 전체 팁의 Box Plot\")\n",
    "plt.show()"
   ]
  },
  {
   "cell_type": "code",
   "execution_count": null,
   "metadata": {},
   "outputs": [],
   "source": []
  },
  {
   "cell_type": "code",
   "execution_count": 51,
   "metadata": {},
   "outputs": [
    {
     "data": {
      "image/png": "[encoded data removed]",
      "text/plain": [
       "<Figure size 1008x1296 with 2 Axes>"
      ]
     },
     "metadata": {},
     "output_type": "display_data"
    }
   ],
   "source": [
    "fig = plt.figure(figsize=(14, 18), facecolor='#eeeeee' )\n",
    "\n",
    "# 그래프1 : 채널별 \n",
    "ax3 = plt.subplot2grid((4, 4), (1, 0), colspan=2)\n",
    "# plt.subplots_adjust(left=0.125, bottom=0.1,  right=0.9, top=0.9, wspace=0.2, hspace=1)\n",
    "plt.bar(list(df1.date_diff.value_counts().sort_index().index), list(df1.date_diff.value_counts().sort_index()))\n",
    "plt.grid(True, axis='y')\n",
    "plt.xticks(rotation=90)\n",
    "plt.title('MMS 발송자 구매시점',fontsize='x-large')\n",
    "plt.ylabel('인원(명)')\n",
    "\n",
    "ax4 = plt.subplot2grid((4, 4), (1, 2), colspan=2)\n",
    "plt.bar(list(df2.date_diff.value_counts().sort_index().index), list(df2.date_diff.value_counts().sort_index()))\n",
    "plt.grid(True, axis='y')\n",
    "plt.xticks(rotation=90)\n",
    "plt.title('LMS 발송자 구매시점',fontsize='x-large')\n",
    "plt.ylabel('인원(명)')\n",
    "\n",
    "\n",
    "plt.show()"
   ]
  },
  {
   "cell_type": "code",
   "execution_count": null,
   "metadata": {},
   "outputs": [],
   "source": []
  },
  {
   "cell_type": "code",
   "execution_count": null,
   "metadata": {},
   "outputs": [],
   "source": []
  },
  {
   "cell_type": "code",
   "execution_count": 23,
   "metadata": {},
   "outputs": [
    {
     "data": {
      "image/png": "[encoded data removed]",
      "text/plain": [
       "<Figure size 1008x1296 with 4 Axes>"
      ]
     },
     "metadata": {},
     "output_type": "display_data"
    }
   ],
   "source": [
    "fig = plt.figure(figsize=(14, 18), facecolor='#eeeeee' )\n",
    "\n",
    "# 그래프1 : 채널별 \n",
    "\n",
    "ax1 = plt.subplot2grid((4, 4), (0, 0), colspan=2)\n",
    "plt.pie(df2.groupby(['GUBUN', ])['CI'].count(), \n",
    "        labels=df2.groupby(['GUBUN', ])['CI'].count().index, autopct='%.1f%%')\n",
    "# plt.legend(, loc=\"lower\")\n",
    "plt.title('회원 분포',fontsize='x-large')\n",
    "\n",
    "ax2 = plt.subplot2grid((4, 4), (0, 2), colspan=2)\n",
    "sns.boxplot(x=\"AGE\", y=\"GUBUN\", data=df)\n",
    "plt.title('그룹별 연령 분포',fontsize='x-large')\n",
    "\n",
    "\n",
    "# 그래프1 : 채널별 \n",
    "ax3 = plt.subplot2grid((4, 4), (1, 0), colspan=2)\n",
    "# plt.subplots_adjust(left=0.125, bottom=0.1,  right=0.9, top=0.9, wspace=0.2, hspace=1)\n",
    "plt.bar(list(df2.AGE.value_counts().sort_index().index), list(df2.AGE.value_counts().sort_index()))\n",
    "plt.grid(True, axis='y')\n",
    "plt.xticks(rotation=90)\n",
    "plt.title('연령 분포',fontsize='x-large')\n",
    "plt.ylabel('인원(명)')\n",
    "\n",
    "ax4 = plt.subplot2grid((4, 4), (1, 2), colspan=2)\n",
    "# plt.subplots_adjust(left=0.125, bottom=0.1,  right=0.9, top=0.9, wspace=0.2, hspace=1)\n",
    "plt.bar(list(df2.TIME_LAG.value_counts().sort_index().index), list(df2.TIME_LAG.value_counts().sort_index()))\n",
    "plt.grid(True, axis='y')\n",
    "plt.xticks(rotation=90)\n",
    "plt.title('가입일자 분포 : 회원가입일자 기준',fontsize='x-large')\n",
    "plt.ylabel('인원(명)')\n",
    "\n",
    "plt.show()"
   ]
  },
  {
   "cell_type": "code",
   "execution_count": null,
   "metadata": {},
   "outputs": [],
   "source": []
  }
 ],
 "metadata": {
  "kernelspec": {
   "display_name": "Python 3",
   "language": "python",
   "name": "python3"
  },
  "language_info": {
   "codemirror_mode": {
    "name": "ipython",
    "version": 3
   },
   "file_extension": ".py",
   "mimetype": "text/x-python",
   "name": "python",
   "nbconvert_exporter": "python",
   "pygments_lexer": "ipython3",
   "version": "3.7.6"
  }
 },
 "nbformat": 4,
 "nbformat_minor": 4
}
