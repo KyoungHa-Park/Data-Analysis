{
 "cells": [
  {
   "cell_type": "code",
   "execution_count": null,
   "metadata": {},
   "outputs": [],
   "source": [
    "# 출처 : https://medium.com/@nurlan.imanov/customer-segmentation-using-rfm-analysis-d2df1dfa2f9f"
   ]
  },
  {
   "cell_type": "code",
   "execution_count": 1,
   "metadata": {},
   "outputs": [],
   "source": [
    "# DB접속\n",
    "import os\n",
    "from os import listdir\n",
    "import cx_Oracle as oci\n",
    "import numpy as np\n",
    "import pandas as pd\n",
    "\n",
    "from datetime import datetime, timedelta\n",
    "\n",
    "# 그래프\n",
    "import seaborn as sns\n",
    "import matplotlib as mpl\n",
    "import matplotlib.pyplot as plt\n",
    "import matplotlib.font_manager as fm\n",
    "path = 'C:/windows/Fonts/malgun.ttf'                           # 폰트:맑은고딕\n",
    "font_name = fm.FontProperties(fname=path, size=24).get_name()  \n",
    "plt.rc('font', family=font_name)\n"
   ]
  },
  {
   "cell_type": "code",
   "execution_count": 2,
   "metadata": {},
   "outputs": [],
   "source": [
    "# DB접속 : 접속정보 읽기\n",
    "con_text = open(\"C:/Users/MAEIL/conn_info_MMBSHIP.txt\", 'r', encoding='utf8')\n",
    "con_text = con_text.read()\n",
    "\n",
    "# DB 접속 : 실제 접속\n",
    "conn = oci.connect(con_text[1:], encoding='UTF-8', nencoding='UTF-8')"
   ]
  },
  {
   "cell_type": "code",
   "execution_count": null,
   "metadata": {},
   "outputs": [],
   "source": []
  },
  {
   "cell_type": "code",
   "execution_count": null,
   "metadata": {},
   "outputs": [],
   "source": []
  },
  {
   "attachments": {},
   "cell_type": "markdown",
   "metadata": {},
   "source": [
    "### 1.데이터 불러오기"
   ]
  },
  {
   "cell_type": "code",
   "execution_count": 6,
   "metadata": {},
   "outputs": [],
   "source": [
    "###############\n",
    "# 1.데이터 불러오기 : 최근 25개월간, 방문회원  \n",
    "#####\n",
    "\n",
    "# query run\n",
    "query1 = '''\n",
    "        select * from (\n",
    "        /*통합멤버십 : 쿠폰 운영현황(이벤트성)*/\n",
    "        select M.CPN_CD   AS 쿠폰코드\n",
    "        , (case when M.USE_COOPCO_CD=7060 then 'ILP' when M.USE_COOPCO_CD=7050 then 'CYK' else 'PBS' end )AS 관계사\n",
    "        , (select code_nm from JT_CODE\twhere code_grp_id = 'CM041' and M.OFFR_TYP_CD=code)   AS 쿠폰유형\n",
    "        , M.CPN_NM        AS 쿠폰이름\n",
    "        , M.APCL_STR_DT   AS 시작일자\n",
    "        , substr(M.APCL_STR_DT,1,6)   AS 시작일자_구분\n",
    "        , M.APCL_END_DT   AS 종료일자\n",
    "        , (case when M.APCL_END_DT > to_char(sysdate-1, 'YYYYMMDD') then '진행중' else '종료' end) as \"진행여부\"\n",
    "        , A.발급인원 as \"발급인원(명)\"\n",
    "        , B.사용인원 as \"사용인원(명)\"\n",
    "        , round(B.사용인원/A.발급인원,4)*100 as \"사용율(%)\" \n",
    "        , B.총결제금액 as \"총결제금액(원)\"\n",
    "        , B.할인금액 as \"할인금액(원)\"\n",
    "        , B.사용일자 as \"최종사용일\"\n",
    "\n",
    "        from mmbship.TPM_CPN M\n",
    "\n",
    "          --A. 다운로드 인원*\n",
    "          left join (select cpn_cd\n",
    "          , count(*) as 발급인원\n",
    "          from mmbship.TPM_CPN_ISSU\n",
    "          group by cpn_cd\n",
    "          ) A\n",
    "          on M.cpn_cd = A.cpn_cd\n",
    "\n",
    "          --B. 사용 및 할인 금액\n",
    "          left join (select I.cpn_cd\n",
    "          , count(I.unfy_mmb_no) as 사용인원\n",
    "           , sum(P.tot_sel_amt) as 총결제금액\n",
    "           , sum(U.DC_AMT) as 할인금액\n",
    "           , max(U.apv_dt) as 사용일자\n",
    "           from mmbship.TPM_CPN_use U, mmbship.TPM_CPN_ISSU I, tp_trsc_ptcl P\n",
    "           where I.CPN_ISSU_CD = U.CPN_ISSU_CD\n",
    "           and P.apv_no = U.apv_no\n",
    "           and I.cpn_st_cd ='2'\n",
    "           and U.can_apv_dt is null\n",
    "           group by I.cpn_cd\n",
    "          ) B\n",
    "          on M.cpn_cd = B.cpn_cd\n",
    "\n",
    "        where M.USE_YN ='Y'\n",
    "        --AND M.CUR_ISSU_QNT IS NOT NULL\n",
    "        and M.APCL_END_DT not in (29991231, 99991231, 20170807, 20171203, 20171209)\n",
    "        ORDER BY M.APCL_STR_DT\n",
    "        ) where 쿠폰이름 like '%발렌타인%' \n",
    "        '''\n",
    "df1_A = pd.read_sql(query1, con = conn )"
   ]
  },
  {
   "cell_type": "code",
   "execution_count": 8,
   "metadata": {},
   "outputs": [],
   "source": [
    "df1_A = df1_A[df1_A['관계사']!='PBS']"
   ]
  },
  {
   "cell_type": "code",
   "execution_count": 9,
   "metadata": {},
   "outputs": [
    {
     "data": {
      "text/html": [
       "<div>\n",
       "<style scoped>\n",
       "    .dataframe tbody tr th:only-of-type {\n",
       "        vertical-align: middle;\n",
       "    }\n",
       "\n",
       "    .dataframe tbody tr th {\n",
       "        vertical-align: top;\n",
       "    }\n",
       "\n",
       "    .dataframe thead th {\n",
       "        text-align: right;\n",
       "    }\n",
       "</style>\n",
       "<table border=\"1\" class=\"dataframe\">\n",
       "  <thead>\n",
       "    <tr style=\"text-align: right;\">\n",
       "      <th></th>\n",
       "      <th>쿠폰코드</th>\n",
       "      <th>관계사</th>\n",
       "      <th>쿠폰유형</th>\n",
       "      <th>쿠폰이름</th>\n",
       "      <th>시작일자</th>\n",
       "      <th>시작일자_구분</th>\n",
       "      <th>종료일자</th>\n",
       "      <th>진행여부</th>\n",
       "      <th>발급인원(명)</th>\n",
       "      <th>사용인원(명)</th>\n",
       "      <th>사용율(%)</th>\n",
       "      <th>총결제금액(원)</th>\n",
       "      <th>할인금액(원)</th>\n",
       "      <th>최종사용일</th>\n",
       "    </tr>\n",
       "  </thead>\n",
       "  <tbody>\n",
       "    <tr>\n",
       "      <th>0</th>\n",
       "      <td>CP190212002</td>\n",
       "      <td>ILP</td>\n",
       "      <td>할인권</td>\n",
       "      <td>[Maeil Do!] 발렌타인데이 이벤트 쿠폰</td>\n",
       "      <td>20190213</td>\n",
       "      <td>201902</td>\n",
       "      <td>20190217</td>\n",
       "      <td>종료</td>\n",
       "      <td>9447</td>\n",
       "      <td>27.0</td>\n",
       "      <td>0.29</td>\n",
       "      <td>1353000.0</td>\n",
       "      <td>270000.0</td>\n",
       "      <td>20190217</td>\n",
       "    </tr>\n",
       "    <tr>\n",
       "      <th>1</th>\n",
       "      <td>CP190212001</td>\n",
       "      <td>CYK</td>\n",
       "      <td>할인권</td>\n",
       "      <td>[Maeil Do!] 발렌타인데이 이벤트 쿠폰</td>\n",
       "      <td>20190213</td>\n",
       "      <td>201902</td>\n",
       "      <td>20190217</td>\n",
       "      <td>종료</td>\n",
       "      <td>9447</td>\n",
       "      <td>59.0</td>\n",
       "      <td>0.62</td>\n",
       "      <td>2584000.0</td>\n",
       "      <td>590000.0</td>\n",
       "      <td>20190217</td>\n",
       "    </tr>\n",
       "    <tr>\n",
       "      <th>2</th>\n",
       "      <td>CP200211001</td>\n",
       "      <td>CYK</td>\n",
       "      <td>할인권</td>\n",
       "      <td>[Maeil Do!] 발렌타인데이 이벤트 쿠폰</td>\n",
       "      <td>20200212</td>\n",
       "      <td>202002</td>\n",
       "      <td>20200216</td>\n",
       "      <td>종료</td>\n",
       "      <td>155</td>\n",
       "      <td>30.0</td>\n",
       "      <td>19.35</td>\n",
       "      <td>1805900.0</td>\n",
       "      <td>600000.0</td>\n",
       "      <td>20200216</td>\n",
       "    </tr>\n",
       "    <tr>\n",
       "      <th>3</th>\n",
       "      <td>CP200211002</td>\n",
       "      <td>ILP</td>\n",
       "      <td>할인권</td>\n",
       "      <td>[Maeil Do!] 발렌타인데이 이벤트 쿠폰</td>\n",
       "      <td>20200212</td>\n",
       "      <td>202002</td>\n",
       "      <td>20200216</td>\n",
       "      <td>종료</td>\n",
       "      <td>138</td>\n",
       "      <td>22.0</td>\n",
       "      <td>15.94</td>\n",
       "      <td>1490500.0</td>\n",
       "      <td>440000.0</td>\n",
       "      <td>20200216</td>\n",
       "    </tr>\n",
       "    <tr>\n",
       "      <th>4</th>\n",
       "      <td>CP210205002</td>\n",
       "      <td>ILP</td>\n",
       "      <td>할인권</td>\n",
       "      <td>[Maeil Do] 2021 설&amp;발렌타인 할인 쿠폰</td>\n",
       "      <td>20210208</td>\n",
       "      <td>202102</td>\n",
       "      <td>20210214</td>\n",
       "      <td>종료</td>\n",
       "      <td>202</td>\n",
       "      <td>11.0</td>\n",
       "      <td>5.45</td>\n",
       "      <td>682000.0</td>\n",
       "      <td>220000.0</td>\n",
       "      <td>20210214</td>\n",
       "    </tr>\n",
       "    <tr>\n",
       "      <th>6</th>\n",
       "      <td>CP210205001</td>\n",
       "      <td>CYK</td>\n",
       "      <td>할인권</td>\n",
       "      <td>[Maeil Do] 2021 설&amp;발렌타인 할인 쿠폰</td>\n",
       "      <td>20210208</td>\n",
       "      <td>202102</td>\n",
       "      <td>20210214</td>\n",
       "      <td>종료</td>\n",
       "      <td>203</td>\n",
       "      <td>19.0</td>\n",
       "      <td>9.36</td>\n",
       "      <td>1125500.0</td>\n",
       "      <td>380000.0</td>\n",
       "      <td>20210214</td>\n",
       "    </tr>\n",
       "    <tr>\n",
       "      <th>7</th>\n",
       "      <td>CP220210002</td>\n",
       "      <td>ILP</td>\n",
       "      <td>할인권</td>\n",
       "      <td>[Maeil Do!] 2022 발렌타인데이 이벤트 쿠폰</td>\n",
       "      <td>20220211</td>\n",
       "      <td>202202</td>\n",
       "      <td>20220220</td>\n",
       "      <td>종료</td>\n",
       "      <td>265</td>\n",
       "      <td>19.0</td>\n",
       "      <td>7.17</td>\n",
       "      <td>1442500.0</td>\n",
       "      <td>380000.0</td>\n",
       "      <td>20220220</td>\n",
       "    </tr>\n",
       "    <tr>\n",
       "      <th>8</th>\n",
       "      <td>CP220210001</td>\n",
       "      <td>CYK</td>\n",
       "      <td>할인권</td>\n",
       "      <td>[Maeil Do!] 2022 발렌타인데이 이벤트 쿠폰</td>\n",
       "      <td>20220211</td>\n",
       "      <td>202202</td>\n",
       "      <td>20220220</td>\n",
       "      <td>종료</td>\n",
       "      <td>330</td>\n",
       "      <td>130.0</td>\n",
       "      <td>39.39</td>\n",
       "      <td>8179400.0</td>\n",
       "      <td>2600000.0</td>\n",
       "      <td>20220220</td>\n",
       "    </tr>\n",
       "  </tbody>\n",
       "</table>\n",
       "</div>"
      ],
      "text/plain": [
       "          쿠폰코드  관계사 쿠폰유형                            쿠폰이름      시작일자 시작일자_구분  \\\n",
       "0  CP190212002  ILP  할인권       [Maeil Do!] 발렌타인데이 이벤트 쿠폰  20190213  201902   \n",
       "1  CP190212001  CYK  할인권       [Maeil Do!] 발렌타인데이 이벤트 쿠폰  20190213  201902   \n",
       "2  CP200211001  CYK  할인권       [Maeil Do!] 발렌타인데이 이벤트 쿠폰  20200212  202002   \n",
       "3  CP200211002  ILP  할인권       [Maeil Do!] 발렌타인데이 이벤트 쿠폰  20200212  202002   \n",
       "4  CP210205002  ILP  할인권    [Maeil Do] 2021 설&발렌타인 할인 쿠폰  20210208  202102   \n",
       "6  CP210205001  CYK  할인권    [Maeil Do] 2021 설&발렌타인 할인 쿠폰  20210208  202102   \n",
       "7  CP220210002  ILP  할인권  [Maeil Do!] 2022 발렌타인데이 이벤트 쿠폰  20220211  202202   \n",
       "8  CP220210001  CYK  할인권  [Maeil Do!] 2022 발렌타인데이 이벤트 쿠폰  20220211  202202   \n",
       "\n",
       "       종료일자 진행여부  발급인원(명)  사용인원(명)  사용율(%)   총결제금액(원)    할인금액(원)     최종사용일  \n",
       "0  20190217   종료     9447     27.0    0.29  1353000.0   270000.0  20190217  \n",
       "1  20190217   종료     9447     59.0    0.62  2584000.0   590000.0  20190217  \n",
       "2  20200216   종료      155     30.0   19.35  1805900.0   600000.0  20200216  \n",
       "3  20200216   종료      138     22.0   15.94  1490500.0   440000.0  20200216  \n",
       "4  20210214   종료      202     11.0    5.45   682000.0   220000.0  20210214  \n",
       "6  20210214   종료      203     19.0    9.36  1125500.0   380000.0  20210214  \n",
       "7  20220220   종료      265     19.0    7.17  1442500.0   380000.0  20220220  \n",
       "8  20220220   종료      330    130.0   39.39  8179400.0  2600000.0  20220220  "
      ]
     },
     "execution_count": 9,
     "metadata": {},
     "output_type": "execute_result"
    }
   ],
   "source": [
    "df1_A"
   ]
  },
  {
   "cell_type": "code",
   "execution_count": 10,
   "metadata": {},
   "outputs": [
    {
     "data": {
      "text/html": [
       "<div>\n",
       "<style scoped>\n",
       "    .dataframe tbody tr th:only-of-type {\n",
       "        vertical-align: middle;\n",
       "    }\n",
       "\n",
       "    .dataframe tbody tr th {\n",
       "        vertical-align: top;\n",
       "    }\n",
       "\n",
       "    .dataframe thead th {\n",
       "        text-align: right;\n",
       "    }\n",
       "</style>\n",
       "<table border=\"1\" class=\"dataframe\">\n",
       "  <thead>\n",
       "    <tr style=\"text-align: right;\">\n",
       "      <th>관계사</th>\n",
       "      <th>CYK</th>\n",
       "      <th>ILP</th>\n",
       "    </tr>\n",
       "    <tr>\n",
       "      <th>시작일자_구분</th>\n",
       "      <th></th>\n",
       "      <th></th>\n",
       "    </tr>\n",
       "  </thead>\n",
       "  <tbody>\n",
       "    <tr>\n",
       "      <th>201902</th>\n",
       "      <td>59.0</td>\n",
       "      <td>27.0</td>\n",
       "    </tr>\n",
       "    <tr>\n",
       "      <th>202002</th>\n",
       "      <td>30.0</td>\n",
       "      <td>22.0</td>\n",
       "    </tr>\n",
       "    <tr>\n",
       "      <th>202102</th>\n",
       "      <td>19.0</td>\n",
       "      <td>11.0</td>\n",
       "    </tr>\n",
       "    <tr>\n",
       "      <th>202202</th>\n",
       "      <td>130.0</td>\n",
       "      <td>19.0</td>\n",
       "    </tr>\n",
       "  </tbody>\n",
       "</table>\n",
       "</div>"
      ],
      "text/plain": [
       "관계사        CYK   ILP\n",
       "시작일자_구분             \n",
       "201902    59.0  27.0\n",
       "202002    30.0  22.0\n",
       "202102    19.0  11.0\n",
       "202202   130.0  19.0"
      ]
     },
     "execution_count": 10,
     "metadata": {},
     "output_type": "execute_result"
    }
   ],
   "source": [
    "pd.pivot_table(df1_A, values='사용인원(명)', index=['시작일자_구분'],columns=['관계사'],  aggfunc='sum')"
   ]
  },
  {
   "cell_type": "code",
   "execution_count": null,
   "metadata": {},
   "outputs": [],
   "source": []
  },
  {
   "cell_type": "code",
   "execution_count": null,
   "metadata": {},
   "outputs": [],
   "source": []
  },
  {
   "cell_type": "code",
   "execution_count": null,
   "metadata": {},
   "outputs": [],
   "source": []
  },
  {
   "attachments": {},
   "cell_type": "markdown",
   "metadata": {},
   "source": [
    "### 2.쿠폰 발급자 성향 "
   ]
  },
  {
   "cell_type": "code",
   "execution_count": 36,
   "metadata": {},
   "outputs": [],
   "source": [
    "###############\n",
    "# 1.데이터 불러오기 : 최근 25개월간, 방문회원  \n",
    "#####\n",
    "\n",
    "# query run\n",
    "query2 = '''\n",
    "        select A.unfy_mmb_no\n",
    "        , to_char(A.reg_DTM, 'YYYY-MM-DD') as USE_DT\n",
    "        , to_char(B.reg_DTM, 'YYYY-MM-DD') as 쿠폰사용일\n",
    "        , (case when a.cpn_st_cd = '2' then '사용' else '미사용' end) as 쿠폰사용\n",
    "        , I.mmb_id\n",
    "        , to_char(sysdate, 'YYYY')-substr(I.btdy,1,4) as 연령\n",
    "        , (case when to_char(sysdate, 'YYYY')-substr(I.btdy,1,4) between 20 and 49\n",
    "               then substr(to_char(sysdate, 'YYYY')-substr(I.btdy,1,4),1,1) || '0대'\n",
    "               when to_char(sysdate, 'YYYY')-substr(I.btdy,1,4) between 50 and 89\n",
    "               then '50대 이상' else null end)  as 연령대\n",
    "        , (case when I.GNDR_DV_CD in( '2','4') then 'F' else 'M' end) as 성별\n",
    "        , substr(trim(D.ZIP_BASE_ADDR),1,2) as 지역\n",
    "        , (select P.tot_sel_amt from tp_trsc_ptcl P where P.apv_no = B.apv_no) as 결제금액\n",
    "        , B.DC_AMT as 할인금액\n",
    "\n",
    "        , B.stor_no as STOR_CD\n",
    "        , (select STOR_NM from TC_AFLTSTOR where B.stor_no = stor_no) as 사용매장_구분\n",
    "\n",
    "        from mmbship.TPM_CPN_use B, mmbship.TPM_CPN_ISSU A, mmbship.tm_mmb_info I, mmbship.TM_MMB_ADDR D\n",
    "        where A.CPN_ISSU_CD = B.CPN_ISSU_CD(+)\n",
    "        and B.can_apv_dt is null\n",
    "        and A.unfy_mmb_no = I.unfy_mmb_no(+)\n",
    "        and A.unfy_mmb_no = D.unfy_mmb_no(+)\n",
    "        and A.cpn_cd in( 'CP220210002' )\n",
    "        order by B.reg_DTM\n",
    "        '''\n",
    "df2 = pd.read_sql(query2, con = conn )\n",
    "df2['UNFY_MMB_NO'] = df2['UNFY_MMB_NO'].astype(object)"
   ]
  },
  {
   "cell_type": "code",
   "execution_count": 147,
   "metadata": {},
   "outputs": [],
   "source": [
    "###############\n",
    "# 1.데이터 불러오기 : 최근 25개월간, 방문회원  \n",
    "#####\n",
    "\n",
    "# query run\n",
    "query2 = '''\n",
    "        with user_info as \n",
    "            (select A.unfy_mmb_no\n",
    "             from  mmbship.TPM_CPN_ISSU A\n",
    "             where A.cpn_cd in( 'CP220210002' )\n",
    "             )\n",
    "        select I.unfy_mmb_no, to_char(H.reg_dtm , 'YYYY-MM') as REG_DT, count(*) as CNT\n",
    "        from mmbship.tm_lgn_hist H, user_info I \n",
    "        where I.unfy_mmb_no = H.unfy_mmb_no\n",
    "        and H.lgn_path  in ( '371', '372')\n",
    "        and H.reg_dtm between sysdate-365 and sysdate\n",
    "        group by I.unfy_mmb_no, to_char(H.reg_dtm , 'YYYY-MM')\n",
    "        '''\n",
    "df2_lgn = pd.read_sql(query2, con = conn )\n",
    "df2_lgn['UNFY_MMB_NO'] = df2_lgn['UNFY_MMB_NO'].astype(object)"
   ]
  },
  {
   "cell_type": "code",
   "execution_count": 148,
   "metadata": {},
   "outputs": [],
   "source": [
    "df2_lgn_avg = pd.DataFrame(df2_lgn.groupby('UNFY_MMB_NO')['CNT'].mean()) "
   ]
  },
  {
   "cell_type": "code",
   "execution_count": null,
   "metadata": {},
   "outputs": [],
   "source": []
  },
  {
   "cell_type": "code",
   "execution_count": 149,
   "metadata": {},
   "outputs": [],
   "source": [
    "df2_user = pd.merge(df2, df2_lgn_avg, on =['UNFY_MMB_NO'], how ='left')"
   ]
  },
  {
   "cell_type": "code",
   "execution_count": 150,
   "metadata": {
    "scrolled": true
   },
   "outputs": [
    {
     "data": {
      "text/html": [
       "<div>\n",
       "<style scoped>\n",
       "    .dataframe tbody tr th:only-of-type {\n",
       "        vertical-align: middle;\n",
       "    }\n",
       "\n",
       "    .dataframe tbody tr th {\n",
       "        vertical-align: top;\n",
       "    }\n",
       "\n",
       "    .dataframe thead th {\n",
       "        text-align: right;\n",
       "    }\n",
       "</style>\n",
       "<table border=\"1\" class=\"dataframe\">\n",
       "  <thead>\n",
       "    <tr style=\"text-align: right;\">\n",
       "      <th></th>\n",
       "      <th>CNT</th>\n",
       "    </tr>\n",
       "    <tr>\n",
       "      <th>쿠폰사용</th>\n",
       "      <th></th>\n",
       "    </tr>\n",
       "  </thead>\n",
       "  <tbody>\n",
       "    <tr>\n",
       "      <th>미사용</th>\n",
       "      <td>5.744561</td>\n",
       "    </tr>\n",
       "    <tr>\n",
       "      <th>사용</th>\n",
       "      <td>6.773408</td>\n",
       "    </tr>\n",
       "  </tbody>\n",
       "</table>\n",
       "</div>"
      ],
      "text/plain": [
       "           CNT\n",
       "쿠폰사용          \n",
       "미사용   5.744561\n",
       "사용    6.773408"
      ]
     },
     "execution_count": 150,
     "metadata": {},
     "output_type": "execute_result"
    }
   ],
   "source": [
    "pd.DataFrame(df2_user.groupby('쿠폰사용')['CNT'].mean()) "
   ]
  },
  {
   "cell_type": "code",
   "execution_count": null,
   "metadata": {},
   "outputs": [],
   "source": []
  },
  {
   "cell_type": "code",
   "execution_count": 37,
   "metadata": {},
   "outputs": [],
   "source": [
    "# query run\n",
    "query3 = '''\n",
    "        /* 기프트카드 사용이력*/\n",
    "        select M.unfy_mmb_no\n",
    "        , sum(A.use_amt) as use_amt\n",
    "        from mmbship.tpr_crd_mstr M ,  mmbship.tpr_crd_actv_amt_use_hist A\n",
    "        where M.crd_id = A.crd_id\n",
    "        and A.coopco_cd = 7060\n",
    "        and A.use_dt between '20210201' and '20220211'\n",
    "        and  M.unfy_mmb_no is not null\n",
    "        group by M.unfy_mmb_no\n",
    "        '''\n",
    "df3 = pd.read_sql(query3, con = conn )\n",
    "df3['UNFY_MMB_NO'] = df3['UNFY_MMB_NO'].astype(object)"
   ]
  },
  {
   "cell_type": "code",
   "execution_count": 38,
   "metadata": {},
   "outputs": [],
   "source": [
    "# query run\n",
    "query4 = '''\n",
    "        /* 기프트카드 유형별 잔액 */\n",
    "        select M.unfy_mmb_no\n",
    "        , (select C.usage_coopco_Cd  from  tpr_crd_kind_mstr C where C.crd_kind = M.crd_kind) as usage_coopco_Cd\n",
    "        , (select C.crd_kind_nm  from  tpr_crd_kind_mstr C where C.crd_kind = M.crd_kind) as crd_kind\n",
    "        , M.actv_amt - M.use_amt as remain_amt\n",
    "        from  mmbship.tpr_crd_mstr M ,  mmbship.tpr_crd_actv_amt_use_hist A\n",
    "        where M.crd_id = A.crd_id\n",
    "        and A.coopco_cd = 7060\n",
    "        and A.use_dt between '20210201' and '20220211'\n",
    "        and  M.unfy_mmb_no is not null\n",
    "        '''\n",
    "df4 = pd.read_sql(query4, con = conn )\n",
    "df4['UNFY_MMB_NO'] = df4['UNFY_MMB_NO'].astype(object)"
   ]
  },
  {
   "cell_type": "code",
   "execution_count": 39,
   "metadata": {},
   "outputs": [],
   "source": [
    "df_a = pd.merge(df2, df3,  on =['UNFY_MMB_NO'], how ='left')\n",
    "# df_a = pd.merge(df_a, df4, on =['UNFY_MMB_NO'], how ='left')"
   ]
  },
  {
   "cell_type": "code",
   "execution_count": null,
   "metadata": {},
   "outputs": [],
   "source": []
  },
  {
   "cell_type": "code",
   "execution_count": null,
   "metadata": {},
   "outputs": [],
   "source": []
  },
  {
   "cell_type": "code",
   "execution_count": 40,
   "metadata": {},
   "outputs": [],
   "source": [
    "#####\n",
    "\n",
    "s_dt1= (datetime.today()- timedelta(0)).strftime('%Y%m%d')\n",
    "\n",
    "excel_name = s_dt1+ '_promotion_data_CJ.xlsx'\n",
    "writer = pd.ExcelWriter(excel_name)\n",
    "df_a.to_excel(writer, 'Sheet1')\n",
    "df4.to_excel(writer, 'Sheet2')\n",
    "writer.save()\n",
    "writer.close()\n"
   ]
  },
  {
   "cell_type": "code",
   "execution_count": 190,
   "metadata": {},
   "outputs": [
    {
     "data": {
      "text/plain": [
       "(125116.06060606061, 207511.11111111112)"
      ]
     },
     "execution_count": 190,
     "metadata": {},
     "output_type": "execute_result"
    }
   ],
   "source": [
    "df_a['USE_AMT'].mean(), df_a[df_a['쿠폰사용'] =='사용']['USE_AMT'].mean()"
   ]
  },
  {
   "cell_type": "code",
   "execution_count": 195,
   "metadata": {},
   "outputs": [
    {
     "data": {
      "text/plain": [
       "(194506.61971830987, 235039.0579710145)"
      ]
     },
     "execution_count": 195,
     "metadata": {},
     "output_type": "execute_result"
    }
   ],
   "source": [
    "df_a['USE_AMT'].mean(), df_a[df_a['쿠폰사용'] =='사용']['USE_AMT'].mean()"
   ]
  },
  {
   "cell_type": "code",
   "execution_count": null,
   "metadata": {},
   "outputs": [],
   "source": []
  },
  {
   "cell_type": "code",
   "execution_count": null,
   "metadata": {},
   "outputs": [],
   "source": [
    "235039.057971"
   ]
  },
  {
   "cell_type": "code",
   "execution_count": null,
   "metadata": {},
   "outputs": [],
   "source": []
  },
  {
   "cell_type": "code",
   "execution_count": null,
   "metadata": {},
   "outputs": [],
   "source": []
  },
  {
   "cell_type": "code",
   "execution_count": null,
   "metadata": {},
   "outputs": [],
   "source": []
  },
  {
   "cell_type": "code",
   "execution_count": 197,
   "metadata": {
    "scrolled": false
   },
   "outputs": [],
   "source": [
    "# pd.DataFrame(df_a[df_a['USE_AMT']>=0].groupby('CRD_KIND')['UNFY_MMB_NO'].count())"
   ]
  },
  {
   "cell_type": "code",
   "execution_count": null,
   "metadata": {},
   "outputs": [],
   "source": []
  },
  {
   "attachments": {},
   "cell_type": "markdown",
   "metadata": {},
   "source": [
    "### 3.LMS 발송자 분석"
   ]
  },
  {
   "cell_type": "code",
   "execution_count": 36,
   "metadata": {},
   "outputs": [],
   "source": [
    "# query run\n",
    "query5 = '''\n",
    "        select member_id as unfy_mmb_no, 'Y' as send_yn\n",
    "        from tms_camp_send_list_02@dblink_tms\n",
    "        where channel_type = 'SM'\n",
    "        and post_id = '2022021000008'\n",
    "        '''\n",
    "df5 = pd.read_sql(query5, con = conn )\n",
    "df5['UNFY_MMB_NO'] = df5['UNFY_MMB_NO'].astype(int)\n",
    "df5['UNFY_MMB_NO'] = df5['UNFY_MMB_NO'].astype(object)"
   ]
  },
  {
   "cell_type": "code",
   "execution_count": null,
   "metadata": {},
   "outputs": [],
   "source": []
  },
  {
   "cell_type": "code",
   "execution_count": 37,
   "metadata": {},
   "outputs": [],
   "source": [
    "df_b = pd.merge(df2, df5, on ='UNFY_MMB_NO', how ='left')"
   ]
  },
  {
   "cell_type": "code",
   "execution_count": 38,
   "metadata": {},
   "outputs": [
    {
     "data": {
      "text/html": [
       "<div>\n",
       "<style scoped>\n",
       "    .dataframe tbody tr th:only-of-type {\n",
       "        vertical-align: middle;\n",
       "    }\n",
       "\n",
       "    .dataframe tbody tr th {\n",
       "        vertical-align: top;\n",
       "    }\n",
       "\n",
       "    .dataframe thead th {\n",
       "        text-align: right;\n",
       "    }\n",
       "</style>\n",
       "<table border=\"1\" class=\"dataframe\">\n",
       "  <thead>\n",
       "    <tr style=\"text-align: right;\">\n",
       "      <th></th>\n",
       "      <th>UNFY_MMB_NO</th>\n",
       "      <th>USE_DT</th>\n",
       "      <th>쿠폰사용일</th>\n",
       "      <th>쿠폰사용</th>\n",
       "      <th>MMB_ID</th>\n",
       "      <th>연령</th>\n",
       "      <th>연령대</th>\n",
       "      <th>성별</th>\n",
       "      <th>지역</th>\n",
       "      <th>결제금액</th>\n",
       "      <th>할인금액</th>\n",
       "      <th>STOR_CD</th>\n",
       "      <th>사용매장_구분</th>\n",
       "      <th>SEND_YN</th>\n",
       "    </tr>\n",
       "  </thead>\n",
       "  <tbody>\n",
       "    <tr>\n",
       "      <th>263</th>\n",
       "      <td>2624711</td>\n",
       "      <td>2022-02-16</td>\n",
       "      <td>None</td>\n",
       "      <td>미사용</td>\n",
       "      <td>jungeun99</td>\n",
       "      <td>41</td>\n",
       "      <td>40대</td>\n",
       "      <td>F</td>\n",
       "      <td>서울</td>\n",
       "      <td>NaN</td>\n",
       "      <td>NaN</td>\n",
       "      <td>None</td>\n",
       "      <td>None</td>\n",
       "      <td>Y</td>\n",
       "    </tr>\n",
       "    <tr>\n",
       "      <th>264</th>\n",
       "      <td>4778486</td>\n",
       "      <td>2022-02-11</td>\n",
       "      <td>None</td>\n",
       "      <td>미사용</td>\n",
       "      <td>gong909</td>\n",
       "      <td>49</td>\n",
       "      <td>40대</td>\n",
       "      <td>F</td>\n",
       "      <td>서울</td>\n",
       "      <td>NaN</td>\n",
       "      <td>NaN</td>\n",
       "      <td>None</td>\n",
       "      <td>None</td>\n",
       "      <td>Y</td>\n",
       "    </tr>\n",
       "  </tbody>\n",
       "</table>\n",
       "</div>"
      ],
      "text/plain": [
       "    UNFY_MMB_NO      USE_DT 쿠폰사용일 쿠폰사용     MMB_ID  연령  연령대 성별  지역  결제금액  할인금액  \\\n",
       "263     2624711  2022-02-16  None  미사용  jungeun99  41  40대  F  서울   NaN   NaN   \n",
       "264     4778486  2022-02-11  None  미사용    gong909  49  40대  F  서울   NaN   NaN   \n",
       "\n",
       "    STOR_CD 사용매장_구분 SEND_YN  \n",
       "263    None    None       Y  \n",
       "264    None    None       Y  "
      ]
     },
     "execution_count": 38,
     "metadata": {},
     "output_type": "execute_result"
    }
   ],
   "source": [
    "df_b.tail(2)"
   ]
  },
  {
   "cell_type": "code",
   "execution_count": 39,
   "metadata": {},
   "outputs": [
    {
     "data": {
      "text/html": [
       "<div>\n",
       "<style scoped>\n",
       "    .dataframe tbody tr th:only-of-type {\n",
       "        vertical-align: middle;\n",
       "    }\n",
       "\n",
       "    .dataframe tbody tr th {\n",
       "        vertical-align: top;\n",
       "    }\n",
       "\n",
       "    .dataframe thead th {\n",
       "        text-align: right;\n",
       "    }\n",
       "</style>\n",
       "<table border=\"1\" class=\"dataframe\">\n",
       "  <thead>\n",
       "    <tr style=\"text-align: right;\">\n",
       "      <th></th>\n",
       "      <th></th>\n",
       "      <th>UNFY_MMB_NO</th>\n",
       "      <th>USE_DT</th>\n",
       "      <th>쿠폰사용일</th>\n",
       "      <th>MMB_ID</th>\n",
       "      <th>연령</th>\n",
       "      <th>연령대</th>\n",
       "      <th>성별</th>\n",
       "      <th>지역</th>\n",
       "      <th>결제금액</th>\n",
       "      <th>할인금액</th>\n",
       "      <th>STOR_CD</th>\n",
       "      <th>사용매장_구분</th>\n",
       "    </tr>\n",
       "    <tr>\n",
       "      <th>쿠폰사용</th>\n",
       "      <th>SEND_YN</th>\n",
       "      <th></th>\n",
       "      <th></th>\n",
       "      <th></th>\n",
       "      <th></th>\n",
       "      <th></th>\n",
       "      <th></th>\n",
       "      <th></th>\n",
       "      <th></th>\n",
       "      <th></th>\n",
       "      <th></th>\n",
       "      <th></th>\n",
       "      <th></th>\n",
       "    </tr>\n",
       "  </thead>\n",
       "  <tbody>\n",
       "    <tr>\n",
       "      <th>미사용</th>\n",
       "      <th>Y</th>\n",
       "      <td>164</td>\n",
       "      <td>164</td>\n",
       "      <td>0</td>\n",
       "      <td>164</td>\n",
       "      <td>164</td>\n",
       "      <td>164</td>\n",
       "      <td>164</td>\n",
       "      <td>87</td>\n",
       "      <td>0</td>\n",
       "      <td>0</td>\n",
       "      <td>0</td>\n",
       "      <td>0</td>\n",
       "    </tr>\n",
       "    <tr>\n",
       "      <th>사용</th>\n",
       "      <th>Y</th>\n",
       "      <td>16</td>\n",
       "      <td>16</td>\n",
       "      <td>16</td>\n",
       "      <td>16</td>\n",
       "      <td>16</td>\n",
       "      <td>16</td>\n",
       "      <td>16</td>\n",
       "      <td>5</td>\n",
       "      <td>16</td>\n",
       "      <td>16</td>\n",
       "      <td>16</td>\n",
       "      <td>16</td>\n",
       "    </tr>\n",
       "  </tbody>\n",
       "</table>\n",
       "</div>"
      ],
      "text/plain": [
       "              UNFY_MMB_NO  USE_DT  쿠폰사용일  MMB_ID   연령  연령대   성별  지역  결제금액  \\\n",
       "쿠폰사용 SEND_YN                                                                \n",
       "미사용  Y                164     164      0     164  164  164  164  87     0   \n",
       "사용   Y                 16      16     16      16   16   16   16   5    16   \n",
       "\n",
       "              할인금액  STOR_CD  사용매장_구분  \n",
       "쿠폰사용 SEND_YN                          \n",
       "미사용  Y           0        0        0  \n",
       "사용   Y          16       16       16  "
      ]
     },
     "execution_count": 39,
     "metadata": {},
     "output_type": "execute_result"
    }
   ],
   "source": [
    "df_b.groupby(['쿠폰사용', 'SEND_YN']).count()"
   ]
  },
  {
   "cell_type": "code",
   "execution_count": 109,
   "metadata": {},
   "outputs": [
    {
     "data": {
      "text/plain": [
       "쿠폰사용\n",
       "미사용    200\n",
       "사용     130\n",
       "Name: UNFY_MMB_NO, dtype: int64"
      ]
     },
     "execution_count": 109,
     "metadata": {},
     "output_type": "execute_result"
    }
   ],
   "source": [
    "df_b.groupby(['쿠폰사용'])['UNFY_MMB_NO'].count()"
   ]
  },
  {
   "cell_type": "code",
   "execution_count": 110,
   "metadata": {},
   "outputs": [
    {
     "data": {
      "text/plain": [
       "쿠폰사용  SEND_YN\n",
       "미사용   Y          0.635000\n",
       "사용    Y          0.646154\n",
       "Name: UNFY_MMB_NO, dtype: float64"
      ]
     },
     "execution_count": 110,
     "metadata": {},
     "output_type": "execute_result"
    }
   ],
   "source": [
    "df_b.groupby(['쿠폰사용', 'SEND_YN'])['UNFY_MMB_NO'].count() / df_b.groupby(['쿠폰사용'])['UNFY_MMB_NO'].count()"
   ]
  },
  {
   "cell_type": "code",
   "execution_count": null,
   "metadata": {},
   "outputs": [],
   "source": []
  },
  {
   "cell_type": "code",
   "execution_count": null,
   "metadata": {},
   "outputs": [],
   "source": []
  },
  {
   "attachments": {},
   "cell_type": "markdown",
   "metadata": {},
   "source": [
    "### 4.과거 쿠폰이용 고객"
   ]
  },
  {
   "cell_type": "code",
   "execution_count": 143,
   "metadata": {},
   "outputs": [],
   "source": [
    "# query run\n",
    "query6 = '''\n",
    "        select unfy_mmb_no, count(*) as coupon_CNT\n",
    "        from (\n",
    "        select A.unfy_mmb_no\n",
    "        , B.stor_no as STOR_CD\n",
    "        , (select STOR_NM from TC_AFLTSTOR where B.stor_no = stor_no) as 사용매장_구분\n",
    "        from mmbship.TPM_CPN_use B, mmbship.TPM_CPN_ISSU A\n",
    "        where A.CPN_ISSU_CD = B.CPN_ISSU_CD\n",
    "        and B.coopco_cd = '7050' \n",
    "        and a.cpn_st_cd = '2'\n",
    "        and A.unfy_mmb_no not in ('4922343' )\n",
    "        and A.reg_DTM between sysdate-365 and sysdate-35)\n",
    "        group by unfy_mmb_no\n",
    "        order by count(*) desc\n",
    "        '''\n",
    "df6 = pd.read_sql(query6, con = conn )\n",
    "df6['UNFY_MMB_NO'] = df6['UNFY_MMB_NO'].astype(object)"
   ]
  },
  {
   "cell_type": "code",
   "execution_count": 144,
   "metadata": {},
   "outputs": [],
   "source": [
    "df_c = pd.merge(df2, df6, on ='UNFY_MMB_NO', how ='left')"
   ]
  },
  {
   "cell_type": "code",
   "execution_count": 145,
   "metadata": {},
   "outputs": [
    {
     "data": {
      "text/plain": [
       "쿠폰사용\n",
       "미사용    62\n",
       "사용     62\n",
       "Name: COUPON_CNT, dtype: int64"
      ]
     },
     "execution_count": 145,
     "metadata": {},
     "output_type": "execute_result"
    }
   ],
   "source": [
    "df_c.groupby('쿠폰사용')['COUPON_CNT'].count()"
   ]
  },
  {
   "cell_type": "code",
   "execution_count": null,
   "metadata": {},
   "outputs": [],
   "source": []
  },
  {
   "cell_type": "code",
   "execution_count": null,
   "metadata": {},
   "outputs": [],
   "source": []
  },
  {
   "cell_type": "code",
   "execution_count": 85,
   "metadata": {},
   "outputs": [],
   "source": [
    "# query run\n",
    "query7 = '''\n",
    "        /* 포인트 적립 이력*/ \n",
    "        select unfy_mmb_no\n",
    "        , sum(acml_pint) as acml_amt\n",
    "        from mmbship.tp_pint_acml\n",
    "        where coopco_cd = '7050'\n",
    "        and apv_dt between '20210211' and '20220221'\n",
    "        and unfy_mmb_no is not null\n",
    "        group by unfy_mmb_no\n",
    "        '''\n",
    "df7 = pd.read_sql(query7, con = conn )\n",
    "df7['UNFY_MMB_NO'] = df7['UNFY_MMB_NO'].astype(object)"
   ]
  },
  {
   "cell_type": "code",
   "execution_count": 86,
   "metadata": {},
   "outputs": [],
   "source": [
    "# query run\n",
    "query8 = '''\n",
    "        /* 포인트 사용*/\n",
    "        select unfy_mmb_no\n",
    "        , sum(use_pint) as use_amt\n",
    "        from mmbship.tp_pint_use\n",
    "        where coopco_cd = '7050'\n",
    "        and use_dt between '20210211' and '20220221'\n",
    "        and unfy_mmb_no is not null\n",
    "        group by unfy_mmb_no\n",
    "        '''\n",
    "df8 = pd.read_sql(query8, con = conn )\n",
    "df8['UNFY_MMB_NO'] = df8['UNFY_MMB_NO'].astype(object)"
   ]
  },
  {
   "cell_type": "code",
   "execution_count": 87,
   "metadata": {},
   "outputs": [],
   "source": [
    "df_d = pd.merge(df2, df7, on ='UNFY_MMB_NO', how ='left')"
   ]
  },
  {
   "cell_type": "code",
   "execution_count": 114,
   "metadata": {},
   "outputs": [],
   "source": [
    "df_e = pd.merge(df2, df8, on ='UNFY_MMB_NO', how ='left')\n",
    "df_f = pd.merge(df_e, df7, on ='UNFY_MMB_NO', how ='left').fillna(0)"
   ]
  },
  {
   "cell_type": "code",
   "execution_count": 122,
   "metadata": {},
   "outputs": [
    {
     "data": {
      "text/plain": [
       "(1, 32)"
      ]
     },
     "execution_count": 122,
     "metadata": {},
     "output_type": "execute_result"
    }
   ],
   "source": [
    "len(df_f[(df_f['쿠폰사용']=='사용') & (df_f['USE_AMT']>0) & (df_f['ACML_AMT']<=0) ]), len(df_e[(df_e['USE_AMT']>0) ])"
   ]
  },
  {
   "cell_type": "code",
   "execution_count": 123,
   "metadata": {},
   "outputs": [
    {
     "data": {
      "text/plain": [
       "(31, 97)"
      ]
     },
     "execution_count": 123,
     "metadata": {},
     "output_type": "execute_result"
    }
   ],
   "source": [
    "len(df_f[(df_f['쿠폰사용']=='사용') & (df_f['USE_AMT']<=0) & (df_f['ACML_AMT']>0) ]), len(df_d[(df_d['ACML_AMT']>0) ])"
   ]
  },
  {
   "cell_type": "code",
   "execution_count": 124,
   "metadata": {},
   "outputs": [
    {
     "data": {
      "text/plain": [
       "(22, 31)"
      ]
     },
     "execution_count": 124,
     "metadata": {},
     "output_type": "execute_result"
    }
   ],
   "source": [
    "len(df_f[(df_f['쿠폰사용']=='사용') & (df_f['ACML_AMT']>0) & (df_f['USE_AMT']>0) ]), len(df_f[(df_f['ACML_AMT']>0) & (df_f['USE_AMT']>0) ])"
   ]
  },
  {
   "cell_type": "code",
   "execution_count": 92,
   "metadata": {},
   "outputs": [
    {
     "data": {
      "text/plain": [
       "(22639.0625, 19147.82608695652)"
      ]
     },
     "execution_count": 92,
     "metadata": {},
     "output_type": "execute_result"
    }
   ],
   "source": [
    "#포인트 사용 : 전체, 쿠폰이용자\n",
    "df_e.USE_AMT.mean(), df_e[df_e['쿠폰사용']=='사용'].USE_AMT.mean()"
   ]
  },
  {
   "cell_type": "code",
   "execution_count": null,
   "metadata": {},
   "outputs": [],
   "source": []
  },
  {
   "cell_type": "code",
   "execution_count": 1,
   "metadata": {},
   "outputs": [],
   "source": [
    "# df_f[(df_f['쿠폰사용']=='사용') & (df_f['USE_AMT']<=0) & (df_f['ACML_AMT']>0) ]"
   ]
  },
  {
   "cell_type": "code",
   "execution_count": null,
   "metadata": {},
   "outputs": [],
   "source": []
  },
  {
   "cell_type": "code",
   "execution_count": null,
   "metadata": {},
   "outputs": [],
   "source": []
  },
  {
   "cell_type": "code",
   "execution_count": null,
   "metadata": {},
   "outputs": [],
   "source": []
  },
  {
   "cell_type": "code",
   "execution_count": null,
   "metadata": {},
   "outputs": [],
   "source": []
  },
  {
   "cell_type": "code",
   "execution_count": null,
   "metadata": {},
   "outputs": [],
   "source": []
  },
  {
   "cell_type": "code",
   "execution_count": null,
   "metadata": {},
   "outputs": [],
   "source": []
  },
  {
   "cell_type": "code",
   "execution_count": null,
   "metadata": {},
   "outputs": [],
   "source": []
  },
  {
   "cell_type": "code",
   "execution_count": null,
   "metadata": {},
   "outputs": [],
   "source": []
  },
  {
   "cell_type": "code",
   "execution_count": null,
   "metadata": {},
   "outputs": [],
   "source": []
  },
  {
   "cell_type": "code",
   "execution_count": null,
   "metadata": {},
   "outputs": [],
   "source": []
  },
  {
   "cell_type": "code",
   "execution_count": null,
   "metadata": {},
   "outputs": [],
   "source": []
  },
  {
   "cell_type": "code",
   "execution_count": null,
   "metadata": {},
   "outputs": [],
   "source": []
  },
  {
   "cell_type": "code",
   "execution_count": 11,
   "metadata": {},
   "outputs": [],
   "source": [
    "###############\n",
    "# 1.데이터 불러오기 : 최근 25개월간, 방문회원  \n",
    "#####\n",
    "\n",
    "# query run\n",
    "query1 = '''with employee_list as \n",
    "                (select A.unfy_mmb_no\n",
    "                 , (case when a.cpn_st_cd = '2' then 'Y' else 'N' end) as gubun\n",
    "                 from mmbship.TPM_CPN_use B, mmbship.TPM_CPN_ISSU A\n",
    "                 where A.CPN_ISSU_CD = B.CPN_ISSU_CD(+)\n",
    "                 and B.can_apv_dt is null\n",
    "                 and A.cpn_cd in( 'CP220210001' )\n",
    "                 order by B.reg_DTM)\n",
    "\n",
    "            --포인트 적립/사용 + 기프트카드사용\n",
    "            select T.unfy_mmb_no\n",
    "            , (select code_nm from mmbship.JT_CODE where code_grp_id = 'PM001' and trsc_typ_cd = code) as trsc_typ_cd\n",
    "            , T.coopco_cd\n",
    "            , (case when acml_pint = 0 then use_pint else acml_pint end) as use_amt\n",
    "            , T.tot_sel_amt\n",
    "            , T.reg_dtm as reg_dtm\n",
    "            , round((TRUNC(sysdate,'YY') - TO_DATE(btdy, 'YYYYMMDD'))/365,0) as age\n",
    "            , (substr(I.btdy,1,4)) as AGE_YEAR\n",
    "            , (case when E.gubun is null then 'T' else E.gubun end) as gubun\n",
    "            from mmbship.TP_TRSC_PTCL T, employee_list E, tm_mmb_info I\n",
    "            where T.unfy_mmb_no is not null \n",
    "            and T.tot_sel_amt > 0 \n",
    "            and T.unfy_mmb_no = I.unfy_mmb_no \n",
    "            and T.unfy_mmb_no = E.unfy_mmb_no(+)\n",
    "            and T.reg_dtm between ADD_MONTHS( TRUNC(sysdate,'MM'), -13 ) and ADD_MONTHS( LAST_DAY(sysdate), -2 )\n",
    "            and T.trsc_typ_cd in ( 'G40', '200', '300')\n",
    "            order by T.unfy_mmb_no, T.reg_dtm asc\n",
    "        '''\n",
    "df2_CJ = pd.read_sql(query1, con = conn )\n",
    "df2_CJ['UNFY_MMB_NO'] = df2_CJ['UNFY_MMB_NO'].astype(object)"
   ]
  },
  {
   "cell_type": "code",
   "execution_count": 13,
   "metadata": {},
   "outputs": [
    {
     "data": {
      "text/plain": [
       "(Timestamp('2021-02-01 00:03:16'), Timestamp('2022-01-31 16:55:53'))"
      ]
     },
     "execution_count": 13,
     "metadata": {},
     "output_type": "execute_result"
    }
   ],
   "source": [
    "df2_CJ.REG_DTM.min(), df2_CJ.REG_DTM.max()"
   ]
  },
  {
   "cell_type": "code",
   "execution_count": 12,
   "metadata": {},
   "outputs": [],
   "source": [
    "df = df2_CJ.copy()"
   ]
  },
  {
   "cell_type": "code",
   "execution_count": null,
   "metadata": {},
   "outputs": [],
   "source": []
  },
  {
   "cell_type": "code",
   "execution_count": 14,
   "metadata": {},
   "outputs": [],
   "source": [
    "today_date = datetime(2022, 2, 1) # We have to set today date in order to calculate Recency metric\n",
    "rfm = df.groupby('UNFY_MMB_NO').agg({'REG_DTM': lambda date: (today_date - date.max()).days, # Recency calclation\n",
    "                                     'UNFY_MMB_NO': lambda num: num.count(), # Frequency calculation\n",
    "                                     'TOT_SEL_AMT': lambda TotalPrice: TotalPrice.sum()}) # Monetary calculation\n",
    "\n",
    "rfm.columns = ['Recency', 'Frequency', 'Monetary'] # Changing column names\n",
    "\n",
    "# Converting\n",
    "rfm['recency_score']   = pd.qcut(rfm['Recency'], 5, [5, 4, 3, 2,1])\n",
    "rfm['frequency_score'] = pd.qcut(rfm['Frequency'].rank(method='first'), 5, [1, 2, 3, 4, 5]) \n",
    "rfm['monetary_score']  = pd.qcut(rfm['Monetary'], 5, [1, 2, 3, 4, 5]) \n",
    "\n",
    "# Calculating RFM score\n",
    "rfm['RFM_SCORE'] = (rfm['recency_score'].astype('str') + rfm['frequency_score'].astype('str'))\n",
    "\n",
    "seg_map = {\n",
    "    r'[1-2][1-2]': '10.hibernating', # For instance means: If F is 1 or 2 and If R is 1 or 2 give hibernating \n",
    "    r'[1-2]5': '09.cant_loose',\n",
    "    r'[1-2][3-4]': '08.at_Risk',\n",
    "    r'3[1-2]': '07.about_to_sleep',\n",
    "    r'33': '06.need_attention',\n",
    "    r'41': '05.promising',\n",
    "    r'51': '04.new_customers',\n",
    "    r'[4-5][2-3]': '03.potential_loyalists',\n",
    "    r'[3-4][4-5]': '02.loyal_customers',\n",
    "    r'5[4-5]': '01.champions'\n",
    "}\n",
    "\n",
    "rfm['segment'] = rfm['RFM_SCORE'].replace(seg_map, regex=True)"
   ]
  },
  {
   "cell_type": "code",
   "execution_count": 15,
   "metadata": {},
   "outputs": [],
   "source": [
    "rfm = rfm.reset_index()"
   ]
  },
  {
   "cell_type": "code",
   "execution_count": 16,
   "metadata": {},
   "outputs": [],
   "source": [
    "df2 = pd.merge(rfm, df[['UNFY_MMB_NO', 'GUBUN']].drop_duplicates(), on ='UNFY_MMB_NO', how = 'left' )"
   ]
  },
  {
   "cell_type": "code",
   "execution_count": 17,
   "metadata": {},
   "outputs": [
    {
     "data": {
      "text/html": [
       "<div>\n",
       "<style scoped>\n",
       "    .dataframe tbody tr th:only-of-type {\n",
       "        vertical-align: middle;\n",
       "    }\n",
       "\n",
       "    .dataframe tbody tr th {\n",
       "        vertical-align: top;\n",
       "    }\n",
       "\n",
       "    .dataframe thead th {\n",
       "        text-align: right;\n",
       "    }\n",
       "</style>\n",
       "<table border=\"1\" class=\"dataframe\">\n",
       "  <thead>\n",
       "    <tr style=\"text-align: right;\">\n",
       "      <th>GUBUN</th>\n",
       "      <th>N</th>\n",
       "      <th>T</th>\n",
       "      <th>Y</th>\n",
       "    </tr>\n",
       "    <tr>\n",
       "      <th>segment</th>\n",
       "      <th></th>\n",
       "      <th></th>\n",
       "      <th></th>\n",
       "    </tr>\n",
       "  </thead>\n",
       "  <tbody>\n",
       "    <tr>\n",
       "      <th>01.champions</th>\n",
       "      <td>84</td>\n",
       "      <td>8717</td>\n",
       "      <td>54</td>\n",
       "    </tr>\n",
       "    <tr>\n",
       "      <th>02.loyal_customers</th>\n",
       "      <td>33</td>\n",
       "      <td>12050</td>\n",
       "      <td>14</td>\n",
       "    </tr>\n",
       "    <tr>\n",
       "      <th>03.potential_loyalists</th>\n",
       "      <td>10</td>\n",
       "      <td>8683</td>\n",
       "      <td>6</td>\n",
       "    </tr>\n",
       "    <tr>\n",
       "      <th>04.new_customers</th>\n",
       "      <td>4</td>\n",
       "      <td>1323</td>\n",
       "      <td>2</td>\n",
       "    </tr>\n",
       "    <tr>\n",
       "      <th>05.promising</th>\n",
       "      <td>4</td>\n",
       "      <td>1927</td>\n",
       "      <td>0</td>\n",
       "    </tr>\n",
       "    <tr>\n",
       "      <th>06.need_attention</th>\n",
       "      <td>1</td>\n",
       "      <td>3284</td>\n",
       "      <td>1</td>\n",
       "    </tr>\n",
       "    <tr>\n",
       "      <th>07.about_to_sleep</th>\n",
       "      <td>0</td>\n",
       "      <td>4651</td>\n",
       "      <td>3</td>\n",
       "    </tr>\n",
       "    <tr>\n",
       "      <th>08.at_Risk</th>\n",
       "      <td>9</td>\n",
       "      <td>8933</td>\n",
       "      <td>9</td>\n",
       "    </tr>\n",
       "    <tr>\n",
       "      <th>09.cant_loose</th>\n",
       "      <td>3</td>\n",
       "      <td>1733</td>\n",
       "      <td>1</td>\n",
       "    </tr>\n",
       "    <tr>\n",
       "      <th>10.hibernating</th>\n",
       "      <td>6</td>\n",
       "      <td>16475</td>\n",
       "      <td>5</td>\n",
       "    </tr>\n",
       "  </tbody>\n",
       "</table>\n",
       "</div>"
      ],
      "text/plain": [
       "GUBUN                    N      T   Y\n",
       "segment                              \n",
       "01.champions            84   8717  54\n",
       "02.loyal_customers      33  12050  14\n",
       "03.potential_loyalists  10   8683   6\n",
       "04.new_customers         4   1323   2\n",
       "05.promising             4   1927   0\n",
       "06.need_attention        1   3284   1\n",
       "07.about_to_sleep        0   4651   3\n",
       "08.at_Risk               9   8933   9\n",
       "09.cant_loose            3   1733   1\n",
       "10.hibernating           6  16475   5"
      ]
     },
     "execution_count": 17,
     "metadata": {},
     "output_type": "execute_result"
    }
   ],
   "source": [
    "pd.crosstab(index =df2.segment, columns = df2.GUBUN)"
   ]
  },
  {
   "cell_type": "code",
   "execution_count": null,
   "metadata": {},
   "outputs": [],
   "source": []
  },
  {
   "cell_type": "code",
   "execution_count": null,
   "metadata": {},
   "outputs": [],
   "source": []
  },
  {
   "cell_type": "code",
   "execution_count": null,
   "metadata": {},
   "outputs": [],
   "source": []
  },
  {
   "cell_type": "code",
   "execution_count": null,
   "metadata": {},
   "outputs": [],
   "source": []
  },
  {
   "cell_type": "code",
   "execution_count": null,
   "metadata": {},
   "outputs": [],
   "source": []
  },
  {
   "cell_type": "code",
   "execution_count": 3,
   "metadata": {},
   "outputs": [],
   "source": [
    "###############\n",
    "# 1.데이터 불러오기 : 최근 25개월간, 방문회원  \n",
    "#####\n",
    "\n",
    "# query run\n",
    "query1 = '''with employee_list as \n",
    "                (select A.unfy_mmb_no\n",
    "                 , (case when a.cpn_st_cd = '2' then 'Y' else 'N' end) as gubun\n",
    "                 from mmbship.TPM_CPN_use B, mmbship.TPM_CPN_ISSU A\n",
    "                 where A.CPN_ISSU_CD = B.CPN_ISSU_CD(+)\n",
    "                 and B.can_apv_dt is null\n",
    "                 and A.cpn_cd in( 'CP220210002' )\n",
    "                 order by B.reg_DTM)\n",
    "\n",
    "            --포인트 적립/사용 + 기프트카드사용\n",
    "            select T.unfy_mmb_no\n",
    "            , (select code_nm from mmbship.JT_CODE where code_grp_id = 'PM001' and trsc_typ_cd = code) as trsc_typ_cd\n",
    "            , T.coopco_cd\n",
    "            , (case when acml_pint = 0 then use_pint else acml_pint end) as use_amt\n",
    "            , T.tot_sel_amt\n",
    "            , T.reg_dtm as reg_dtm\n",
    "            , round((TRUNC(sysdate,'YY') - TO_DATE(btdy, 'YYYYMMDD'))/365,0) as age\n",
    "            , (substr(I.btdy,1,4)) as AGE_YEAR\n",
    "            , (case when E.gubun is null then 'T' else E.gubun end) as gubun\n",
    "            from mmbship.TP_TRSC_PTCL T, employee_list E, tm_mmb_info I\n",
    "            where T.unfy_mmb_no is not null \n",
    "            and T.tot_sel_amt > 0 \n",
    "            and T.unfy_mmb_no = I.unfy_mmb_no \n",
    "            and T.unfy_mmb_no = E.unfy_mmb_no(+)\n",
    "            and T.reg_dtm between ADD_MONTHS( TRUNC(sysdate,'MM'), -13 ) and ADD_MONTHS( LAST_DAY(sysdate), -2 )\n",
    "            and T.trsc_typ_cd in ( 'G40', '200', '300')\n",
    "            order by T.unfy_mmb_no, T.reg_dtm asc\n",
    "         '''\n",
    "df2_ILP = pd.read_sql(query1, con = conn )\n",
    "df2_ILP['UNFY_MMB_NO'] = df2_ILP['UNFY_MMB_NO'].astype(object)"
   ]
  },
  {
   "cell_type": "code",
   "execution_count": 5,
   "metadata": {},
   "outputs": [
    {
     "data": {
      "text/plain": [
       "(Timestamp('2021-02-01 00:03:16'), Timestamp('2022-01-31 16:55:53'))"
      ]
     },
     "execution_count": 5,
     "metadata": {},
     "output_type": "execute_result"
    }
   ],
   "source": [
    "df2_ILP.REG_DTM.min(), df2_ILP.REG_DTM.max()"
   ]
  },
  {
   "cell_type": "code",
   "execution_count": 4,
   "metadata": {},
   "outputs": [],
   "source": [
    "df = df2_ILP.copy()"
   ]
  },
  {
   "cell_type": "code",
   "execution_count": null,
   "metadata": {},
   "outputs": [],
   "source": []
  },
  {
   "cell_type": "code",
   "execution_count": 6,
   "metadata": {},
   "outputs": [],
   "source": [
    "today_date = datetime(2022, 2, 1) # We have to set today date in order to calculate Recency metric\n",
    "rfm = df.groupby('UNFY_MMB_NO').agg({'REG_DTM': lambda date: (today_date - date.max()).days, # Recency calclation\n",
    "                                     'UNFY_MMB_NO': lambda num: num.count(), # Frequency calculation\n",
    "                                     'TOT_SEL_AMT': lambda TotalPrice: TotalPrice.sum()}) # Monetary calculation\n",
    "\n",
    "rfm.columns = ['Recency', 'Frequency', 'Monetary'] # Changing column names\n",
    "\n",
    "# Converting\n",
    "rfm['recency_score']   = pd.qcut(rfm['Recency'], 5, [5, 4, 3, 2,1])\n",
    "rfm['frequency_score'] = pd.qcut(rfm['Frequency'].rank(method='first'), 5, [1, 2, 3, 4, 5]) \n",
    "rfm['monetary_score']  = pd.qcut(rfm['Monetary'], 5, [1, 2, 3, 4, 5]) \n",
    "\n",
    "# Calculating RFM score\n",
    "rfm['RFM_SCORE'] = (rfm['recency_score'].astype('str') + rfm['frequency_score'].astype('str'))\n",
    "\n",
    "seg_map = {\n",
    "    r'[1-2][1-2]': '10.hibernating', # For instance means: If F is 1 or 2 and If R is 1 or 2 give hibernating \n",
    "    r'[1-2]5': '09.cant_loose',\n",
    "    r'[1-2][3-4]': '08.at_Risk',\n",
    "    r'3[1-2]': '07.about_to_sleep',\n",
    "    r'33': '06.need_attention',\n",
    "    r'41': '05.promising',\n",
    "    r'51': '04.new_customers',\n",
    "    r'[4-5][2-3]': '03.potential_loyalists',\n",
    "    r'[3-4][4-5]': '02.loyal_customers',\n",
    "    r'5[4-5]': '01.champions'\n",
    "}\n",
    "\n",
    "rfm['segment'] = rfm['RFM_SCORE'].replace(seg_map, regex=True)"
   ]
  },
  {
   "cell_type": "code",
   "execution_count": 7,
   "metadata": {},
   "outputs": [],
   "source": [
    "rfm = rfm.reset_index()"
   ]
  },
  {
   "cell_type": "code",
   "execution_count": 8,
   "metadata": {},
   "outputs": [],
   "source": [
    "df3 = pd.merge(rfm, df[['UNFY_MMB_NO', 'GUBUN']].drop_duplicates(), on ='UNFY_MMB_NO', how = 'left' )"
   ]
  },
  {
   "cell_type": "code",
   "execution_count": 10,
   "metadata": {},
   "outputs": [
    {
     "data": {
      "text/html": [
       "<div>\n",
       "<style scoped>\n",
       "    .dataframe tbody tr th:only-of-type {\n",
       "        vertical-align: middle;\n",
       "    }\n",
       "\n",
       "    .dataframe tbody tr th {\n",
       "        vertical-align: top;\n",
       "    }\n",
       "\n",
       "    .dataframe thead th {\n",
       "        text-align: right;\n",
       "    }\n",
       "</style>\n",
       "<table border=\"1\" class=\"dataframe\">\n",
       "  <thead>\n",
       "    <tr style=\"text-align: right;\">\n",
       "      <th>GUBUN</th>\n",
       "      <th>N</th>\n",
       "      <th>T</th>\n",
       "      <th>Y</th>\n",
       "    </tr>\n",
       "    <tr>\n",
       "      <th>segment</th>\n",
       "      <th></th>\n",
       "      <th></th>\n",
       "      <th></th>\n",
       "    </tr>\n",
       "  </thead>\n",
       "  <tbody>\n",
       "    <tr>\n",
       "      <th>01.champions</th>\n",
       "      <td>111</td>\n",
       "      <td>8734</td>\n",
       "      <td>10</td>\n",
       "    </tr>\n",
       "    <tr>\n",
       "      <th>02.loyal_customers</th>\n",
       "      <td>38</td>\n",
       "      <td>12057</td>\n",
       "      <td>2</td>\n",
       "    </tr>\n",
       "    <tr>\n",
       "      <th>03.potential_loyalists</th>\n",
       "      <td>12</td>\n",
       "      <td>8686</td>\n",
       "      <td>1</td>\n",
       "    </tr>\n",
       "    <tr>\n",
       "      <th>04.new_customers</th>\n",
       "      <td>5</td>\n",
       "      <td>1324</td>\n",
       "      <td>0</td>\n",
       "    </tr>\n",
       "    <tr>\n",
       "      <th>05.promising</th>\n",
       "      <td>3</td>\n",
       "      <td>1928</td>\n",
       "      <td>0</td>\n",
       "    </tr>\n",
       "    <tr>\n",
       "      <th>06.need_attention</th>\n",
       "      <td>1</td>\n",
       "      <td>3285</td>\n",
       "      <td>0</td>\n",
       "    </tr>\n",
       "    <tr>\n",
       "      <th>07.about_to_sleep</th>\n",
       "      <td>1</td>\n",
       "      <td>4653</td>\n",
       "      <td>0</td>\n",
       "    </tr>\n",
       "    <tr>\n",
       "      <th>08.at_Risk</th>\n",
       "      <td>17</td>\n",
       "      <td>8933</td>\n",
       "      <td>1</td>\n",
       "    </tr>\n",
       "    <tr>\n",
       "      <th>09.cant_loose</th>\n",
       "      <td>3</td>\n",
       "      <td>1734</td>\n",
       "      <td>0</td>\n",
       "    </tr>\n",
       "    <tr>\n",
       "      <th>10.hibernating</th>\n",
       "      <td>9</td>\n",
       "      <td>16477</td>\n",
       "      <td>0</td>\n",
       "    </tr>\n",
       "  </tbody>\n",
       "</table>\n",
       "</div>"
      ],
      "text/plain": [
       "GUBUN                     N      T   Y\n",
       "segment                               \n",
       "01.champions            111   8734  10\n",
       "02.loyal_customers       38  12057   2\n",
       "03.potential_loyalists   12   8686   1\n",
       "04.new_customers          5   1324   0\n",
       "05.promising              3   1928   0\n",
       "06.need_attention         1   3285   0\n",
       "07.about_to_sleep         1   4653   0\n",
       "08.at_Risk               17   8933   1\n",
       "09.cant_loose             3   1734   0\n",
       "10.hibernating            9  16477   0"
      ]
     },
     "execution_count": 10,
     "metadata": {},
     "output_type": "execute_result"
    }
   ],
   "source": [
    "pd.crosstab(index =df3.segment, columns = df3.GUBUN)"
   ]
  },
  {
   "cell_type": "code",
   "execution_count": null,
   "metadata": {},
   "outputs": [],
   "source": []
  }
 ],
 "metadata": {
  "kernelspec": {
   "display_name": "Python 3",
   "language": "python",
   "name": "python3"
  },
  "language_info": {
   "codemirror_mode": {
    "name": "ipython",
    "version": 3
   },
   "file_extension": ".py",
   "mimetype": "text/x-python",
   "name": "python",
   "nbconvert_exporter": "python",
   "pygments_lexer": "ipython3",
   "version": "3.7.3"
  }
 },
 "nbformat": 4,
 "nbformat_minor": 4
}
