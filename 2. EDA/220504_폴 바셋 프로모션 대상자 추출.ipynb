{
 "cells": [
  {
   "cell_type": "code",
   "execution_count": 1,
   "metadata": {},
   "outputs": [],
   "source": [
    "\n",
    "###############\n",
    "# 1. import\n",
    "#####\n",
    "\n",
    "import pandas as pd\n",
    "from datetime import datetime, timedelta\n",
    "import re\n",
    "import time \n",
    "\n",
    "# local only\n",
    "import os\n",
    "import cx_Oracle as oci\n",
    "import pandas as pd\n",
    "import matplotlib.pyplot as plt\n",
    "\n",
    "import numpy as np\n",
    "\n",
    "import matplotlib as mpl\n",
    "import matplotlib.pyplot as plt\n",
    "import matplotlib.font_manager as fm\n",
    "\n",
    "path = 'C:/windows/Fonts/malgun.ttf'                           # 폰트:맑은고딕\n",
    "font_name = fm.FontProperties(fname=path, size=24).get_name()  \n",
    "plt.rc('font', family=font_name)\n"
   ]
  },
  {
   "cell_type": "code",
   "execution_count": null,
   "metadata": {},
   "outputs": [],
   "source": []
  },
  {
   "cell_type": "code",
   "execution_count": null,
   "metadata": {},
   "outputs": [],
   "source": []
  },
  {
   "cell_type": "code",
   "execution_count": 3,
   "metadata": {},
   "outputs": [],
   "source": [
    "\n",
    "# # DB접속 : 폴 바셋\n",
    "# con_text = open(\"C:/Users/MAEIL/conn_MCRM.txt\", 'r', encoding='utf8')\n",
    "# con_text = con_text.read()\n",
    "\n",
    "\n",
    "# # DB접속 : 셀렉스몰\n",
    "# con_text = open(\"C:/Users/MAEIL/conn_SELEX.txt\", 'r', encoding='utf8')\n",
    "# con_text = con_text.read()\n"
   ]
  },
  {
   "cell_type": "code",
   "execution_count": 2,
   "metadata": {},
   "outputs": [],
   "source": [
    "###############\n",
    "# 1.데이터 불러오기\n",
    "#####\n",
    "# DB접속 : 통합멤버십\n",
    "con_text = open(\"C:/Users/MAEIL/conn_info_MMBSHIP.txt\", 'r', encoding='utf8')\n",
    "con_text = con_text.read()\n",
    "\n",
    "# DB 접속 : 실제 접속\n",
    "conn = oci.connect(con_text[1:], encoding='UTF-8', nencoding='UTF-8')"
   ]
  },
  {
   "cell_type": "code",
   "execution_count": null,
   "metadata": {},
   "outputs": [],
   "source": []
  },
  {
   "cell_type": "code",
   "execution_count": null,
   "metadata": {},
   "outputs": [],
   "source": []
  },
  {
   "cell_type": "code",
   "execution_count": 4,
   "metadata": {},
   "outputs": [],
   "source": [
    "###############\n",
    "# 1.데이터 불러오기\n",
    "#####\n",
    "# DB접속 : 통합멤버십\n",
    "con_text = open(\"C:/Users/MAEIL/conn_info_MMBSHIP.txt\", 'r', encoding='utf8')\n",
    "con_text = con_text.read()\n",
    "\n",
    "# DB 접속 : 실제 접속\n",
    "conn = oci.connect(con_text[1:], encoding='UTF-8', nencoding='UTF-8')\n",
    "\n",
    "query = '''\n",
    "        select trim(I.sef_cert_CI) as CI\n",
    "        , I.mmb_id as ID \n",
    "        , I.mmb_nm as NAME\n",
    "        , to_char(sysdate, 'YYYY')-substr(I.btdy,1,4) as Age\n",
    "        , (case when I.GNDR_DV_CD in( '2','4') then 'F' else 'M' end) as gender\n",
    "        , I.wrls_tel_no1 || I.wrls_tel_no2 || I.wrls_tel_no3 as cellno\n",
    "        , I.reg_dtm\n",
    "        , round(sysdate - I.reg_dtm, 0) as time_lag\n",
    "        , trim(AD.rozip_base_addr) as addr\n",
    "        , substr(trim(AD.rozip_base_addr),1,2) as addr_lv1\n",
    "        from mmbship.tm_mmb_info I, mmbship.tm_mmb_addr AD, mmbship.tm_stpl_agrm A, mmbship.tm_mktg_recv_agrm M\n",
    "        where I.mmb_st_cd = '1'\n",
    "        and I.mmb_id is not null\n",
    "        AND I.stff_dv_cd <> '1'\n",
    "        and to_char(sysdate, 'YYYY')-substr(I.btdy,1,4) between 30 and 49\n",
    "        and I.reg_dtm between sysdate-40 and sysdate\n",
    "        and I.GNDR_DV_CD in( '2','4')\n",
    "        and I.unfy_mmb_no = AD.unfy_mmb_no (+) \n",
    "        and (trim(AD.rozip_base_addr) like '서울%' or trim(AD.rozip_base_addr) like '경기%' or trim(AD.rozip_base_addr) like '인천%') --주소정보\n",
    "        and I.unfy_mmb_no = A.unfy_mmb_no \n",
    "        and A.coopco_cd = '7010' and A.agrm_yn = 'Y'    --메일아이 제3자 동의\n",
    "        and I.unfy_mmb_no = M.unfy_mmb_no \n",
    "        and M.coopco_Cd  = '7010' and m.sms_recv_dv_cd = 1\n",
    "        '''\n",
    "\n",
    "df_maeili = pd.read_sql(query, con = conn )\n"
   ]
  },
  {
   "cell_type": "code",
   "execution_count": 5,
   "metadata": {},
   "outputs": [
    {
     "name": "stdout",
     "output_type": "stream",
     "text": [
      "<class 'pandas.core.frame.DataFrame'>\n",
      "RangeIndex: 588 entries, 0 to 587\n",
      "Data columns (total 10 columns):\n",
      " #   Column    Non-Null Count  Dtype         \n",
      "---  ------    --------------  -----         \n",
      " 0   CI        588 non-null    object        \n",
      " 1   ID        588 non-null    object        \n",
      " 2   NAME      588 non-null    object        \n",
      " 3   AGE       588 non-null    int64         \n",
      " 4   GENDER    588 non-null    object        \n",
      " 5   CELLNO    588 non-null    object        \n",
      " 6   REG_DTM   588 non-null    datetime64[ns]\n",
      " 7   TIME_LAG  588 non-null    int64         \n",
      " 8   ADDR      588 non-null    object        \n",
      " 9   ADDR_LV1  588 non-null    object        \n",
      "dtypes: datetime64[ns](1), int64(2), object(7)\n",
      "memory usage: 46.1+ KB\n"
     ]
    }
   ],
   "source": [
    "df_maeili.info()"
   ]
  },
  {
   "cell_type": "code",
   "execution_count": null,
   "metadata": {},
   "outputs": [],
   "source": []
  },
  {
   "cell_type": "code",
   "execution_count": null,
   "metadata": {},
   "outputs": [],
   "source": []
  },
  {
   "cell_type": "code",
   "execution_count": null,
   "metadata": {},
   "outputs": [],
   "source": []
  },
  {
   "cell_type": "code",
   "execution_count": null,
   "metadata": {},
   "outputs": [],
   "source": []
  },
  {
   "cell_type": "code",
   "execution_count": null,
   "metadata": {},
   "outputs": [],
   "source": []
  },
  {
   "cell_type": "code",
   "execution_count": null,
   "metadata": {},
   "outputs": [],
   "source": []
  },
  {
   "cell_type": "code",
   "execution_count": null,
   "metadata": {},
   "outputs": [],
   "source": []
  },
  {
   "cell_type": "code",
   "execution_count": 6,
   "metadata": {},
   "outputs": [],
   "source": [
    "###############\n",
    "# 1.데이터 불러오기\n",
    "#####\n",
    "# DB접속 : 셀렉스\n",
    "con_text = open(\"C:/Users/MAEIL/conn_SELEX.txt\", 'r', encoding='utf8')\n",
    "con_text = con_text.read()\n",
    "\n",
    "# DB 접속 : 실제 접속\n",
    "conn = oci.connect(con_text[1:], encoding='UTF-8', nencoding='UTF-8')\n",
    "\n",
    "###############\n",
    "# 2.데이터 정렬\n",
    "#####\n",
    "query = '''\n",
    "        select trim(I.CI) as CI\n",
    "        , I.login_id as ID\n",
    "        , I.name\n",
    "        , to_char(sysdate, 'YYYY')-to_char(I.birth, 'YYYY') as AGE\n",
    "        , I.phone_number as cellno\n",
    "        , (case when U.sex in( 'W','w') then 'F' else 'M' end) as gender\n",
    "        , U.REG_DATE as reg_dtm\n",
    "        , round(sysdate - U.REG_DATE, 0) as time_lag\n",
    "        , U.address as ADDR\n",
    "        , substr(trim(u.address),1,2) as addr_lv1\n",
    "        from selexfit.user_ I, userinfo U\n",
    "        where I.login_id = U.id\n",
    "        and I.ci is not null\n",
    "        and U.sms_receive = 'Y'\n",
    "        and U.sex = 'W'\n",
    "        and GROUP_NAME = '일반'\n",
    "        and (U.address like '%서울%' or U.address like '%경기%' or U.address like '%인천%')\n",
    "        and to_char(sysdate, 'YYYY')-to_char(I.birth, 'YYYY') between 30 and 49\n",
    "        and  U.REG_DATE between sysdate-40 and sysdate\n",
    "        '''\n",
    "\n",
    "df_selex = pd.read_sql(query, con = conn )\n"
   ]
  },
  {
   "cell_type": "code",
   "execution_count": null,
   "metadata": {},
   "outputs": [],
   "source": []
  },
  {
   "cell_type": "code",
   "execution_count": 7,
   "metadata": {},
   "outputs": [],
   "source": [
    "df_selex['GUBUN'] ='셀렉스몰'\n",
    "df_maeili['GUBUN'] ='매일아이'"
   ]
  },
  {
   "cell_type": "code",
   "execution_count": 8,
   "metadata": {},
   "outputs": [],
   "source": [
    "df = pd.concat([df_maeili, df_selex ], ignore_index= True)"
   ]
  },
  {
   "cell_type": "code",
   "execution_count": 9,
   "metadata": {},
   "outputs": [
    {
     "data": {
      "text/plain": [
       "1271"
      ]
     },
     "execution_count": 9,
     "metadata": {},
     "output_type": "execute_result"
    }
   ],
   "source": [
    "len(df)"
   ]
  },
  {
   "cell_type": "code",
   "execution_count": 10,
   "metadata": {},
   "outputs": [],
   "source": [
    "df2 = df.drop_duplicates(subset= 'CI')"
   ]
  },
  {
   "cell_type": "code",
   "execution_count": 11,
   "metadata": {},
   "outputs": [
    {
     "name": "stdout",
     "output_type": "stream",
     "text": [
      "<class 'pandas.core.frame.DataFrame'>\n",
      "Int64Index: 1271 entries, 0 to 1270\n",
      "Data columns (total 11 columns):\n",
      " #   Column    Non-Null Count  Dtype         \n",
      "---  ------    --------------  -----         \n",
      " 0   CI        1271 non-null   object        \n",
      " 1   ID        1271 non-null   object        \n",
      " 2   NAME      1271 non-null   object        \n",
      " 3   AGE       1271 non-null   int64         \n",
      " 4   GENDER    1271 non-null   object        \n",
      " 5   CELLNO    1271 non-null   object        \n",
      " 6   REG_DTM   1271 non-null   datetime64[ns]\n",
      " 7   TIME_LAG  1271 non-null   int64         \n",
      " 8   ADDR      1271 non-null   object        \n",
      " 9   ADDR_LV1  1271 non-null   object        \n",
      " 10  GUBUN     1271 non-null   object        \n",
      "dtypes: datetime64[ns](1), int64(2), object(8)\n",
      "memory usage: 119.2+ KB\n"
     ]
    }
   ],
   "source": [
    "df2.info()"
   ]
  },
  {
   "cell_type": "code",
   "execution_count": 12,
   "metadata": {},
   "outputs": [
    {
     "data": {
      "text/plain": [
       "Timestamp('2022-04-02 10:28:15')"
      ]
     },
     "execution_count": 12,
     "metadata": {},
     "output_type": "execute_result"
    }
   ],
   "source": [
    "df2.REG_DTM.min()"
   ]
  },
  {
   "cell_type": "code",
   "execution_count": null,
   "metadata": {},
   "outputs": [],
   "source": []
  },
  {
   "cell_type": "code",
   "execution_count": null,
   "metadata": {},
   "outputs": [],
   "source": []
  },
  {
   "cell_type": "code",
   "execution_count": 13,
   "metadata": {},
   "outputs": [],
   "source": [
    "###############\n",
    "# 1.데이터 불러오기\n",
    "#####\n",
    "# DB접속 : 폴 바셋\n",
    "con_text = open(\"C:/Users/MAEIL/conn_MCRM.txt\", 'r', encoding='utf8')\n",
    "con_text = con_text.read()\n",
    "\n",
    "# DB 접속 : 실제 접속\n",
    "conn = oci.connect(con_text, encoding='UTF-8', nencoding='UTF-8')\n"
   ]
  },
  {
   "cell_type": "code",
   "execution_count": null,
   "metadata": {},
   "outputs": [],
   "source": []
  },
  {
   "cell_type": "code",
   "execution_count": 14,
   "metadata": {},
   "outputs": [],
   "source": [
    "###############\n",
    "# 2.데이터 정렬\n",
    "#####\n",
    "query = '''\n",
    "        select trim(mobile_ci) as CI, cust_id\n",
    "        from c_cust\n",
    "        where mobile_ci is not null\n",
    "        and cust_stat not in ('8', '9')\n",
    "        and cash_use_dt is null\n",
    "        and sav_cash = 0\n",
    "        '''\n",
    "\n",
    "df_pbs = pd.read_sql(query, con = conn )\n"
   ]
  },
  {
   "cell_type": "code",
   "execution_count": 15,
   "metadata": {},
   "outputs": [],
   "source": [
    "df3 = pd.merge(df2, df_pbs, on='CI', how='left')"
   ]
  },
  {
   "cell_type": "code",
   "execution_count": 1,
   "metadata": {},
   "outputs": [],
   "source": [
    "# df3.dropna()"
   ]
  },
  {
   "cell_type": "code",
   "execution_count": null,
   "metadata": {},
   "outputs": [],
   "source": []
  },
  {
   "cell_type": "code",
   "execution_count": null,
   "metadata": {},
   "outputs": [],
   "source": []
  },
  {
   "cell_type": "code",
   "execution_count": 17,
   "metadata": {},
   "outputs": [],
   "source": [
    "# Excel 다운로드\n",
    "date2 = datetime.today().strftime('%Y%m%d')\n",
    "excel_name = date2 +'_PBS_targetting_rawdata.xlsx'\n",
    "df3.to_excel(excel_name, sheet_name= 'Sheet1' )"
   ]
  },
  {
   "cell_type": "code",
   "execution_count": null,
   "metadata": {},
   "outputs": [],
   "source": []
  },
  {
   "cell_type": "code",
   "execution_count": 23,
   "metadata": {},
   "outputs": [
    {
     "data": {
      "image/png": "[encoded data removed]",
      "text/plain": [
       "<Figure size 1008x1296 with 4 Axes>"
      ]
     },
     "metadata": {},
     "output_type": "display_data"
    }
   ],
   "source": [
    "fig = plt.figure(figsize=(14, 18), facecolor='#eeeeee' )\n",
    "\n",
    "# 그래프1 : 채널별 \n",
    "\n",
    "ax1 = plt.subplot2grid((4, 4), (0, 0), colspan=2)\n",
    "plt.pie(df2.groupby(['GUBUN', ])['CI'].count(), \n",
    "        labels=df2.groupby(['GUBUN', ])['CI'].count().index, autopct='%.1f%%')\n",
    "# plt.legend(, loc=\"lower\")\n",
    "plt.title('회원 분포',fontsize='x-large')\n",
    "\n",
    "ax2 = plt.subplot2grid((4, 4), (0, 2), colspan=2)\n",
    "plt.pie(df2.groupby(['GUBUN', 'ADDR_LV1'])['CI'].count(), \n",
    "        labels=df2.groupby(['GUBUN', 'ADDR_LV1'])['CI'].count().index, autopct='%.1f%%')\n",
    "# plt.legend(, loc=\"lower\")\n",
    "plt.title('회원+지역 분포',fontsize='x-large')\n",
    "\n",
    "\n",
    "# 그래프1 : 채널별 \n",
    "ax3 = plt.subplot2grid((4, 4), (1, 0), colspan=2)\n",
    "# plt.subplots_adjust(left=0.125, bottom=0.1,  right=0.9, top=0.9, wspace=0.2, hspace=1)\n",
    "plt.bar(list(df2.AGE.value_counts().sort_index().index), list(df2.AGE.value_counts().sort_index()))\n",
    "plt.grid(True, axis='y')\n",
    "plt.xticks(rotation=90)\n",
    "plt.title('연령 분포',fontsize='x-large')\n",
    "plt.ylabel('인원(명)')\n",
    "\n",
    "ax4 = plt.subplot2grid((4, 4), (1, 2), colspan=2)\n",
    "# plt.subplots_adjust(left=0.125, bottom=0.1,  right=0.9, top=0.9, wspace=0.2, hspace=1)\n",
    "plt.bar(list(df2.TIME_LAG.value_counts().sort_index().index), list(df2.TIME_LAG.value_counts().sort_index()))\n",
    "plt.grid(True, axis='y')\n",
    "plt.xticks(rotation=90)\n",
    "plt.title('가입일자 분포 : 회원가입일자 기준',fontsize='x-large')\n",
    "plt.ylabel('인원(명)')\n",
    "\n",
    "plt.show()"
   ]
  },
  {
   "cell_type": "code",
   "execution_count": null,
   "metadata": {},
   "outputs": [],
   "source": []
  }
 ],
 "metadata": {
  "kernelspec": {
   "display_name": "Python 3",
   "language": "python",
   "name": "python3"
  },
  "language_info": {
   "codemirror_mode": {
    "name": "ipython",
    "version": 3
   },
   "file_extension": ".py",
   "mimetype": "text/x-python",
   "name": "python",
   "nbconvert_exporter": "python",
   "pygments_lexer": "ipython3",
   "version": "3.7.3"
  }
 },
 "nbformat": 4,
 "nbformat_minor": 4
}
