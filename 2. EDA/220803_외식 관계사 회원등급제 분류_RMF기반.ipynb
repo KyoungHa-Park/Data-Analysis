{
 "cells": [
  {
   "cell_type": "code",
   "execution_count": null,
   "metadata": {},
   "outputs": [],
   "source": [
    "# RFM 출처 : https://medium.com/@nurlan.imanov/customer-segmentation-using-rfm-analysis-d2df1dfa2f9f\n",
    "# OOO 출처 : https://assaeunji.github.io/statistics/2022-04-15-ltv/"
   ]
  },
  {
   "cell_type": "code",
   "execution_count": null,
   "metadata": {},
   "outputs": [],
   "source": []
  },
  {
   "attachments": {},
   "cell_type": "markdown",
   "metadata": {},
   "source": [
    "목적 \n",
    "+ RMF 고객등급 분류\n",
    "+ 각 등급별 방문횟수/구매금액/미래방문횟수/미래구매금액 표기\n",
    "\n",
    "\n",
    "지표\n",
    "+ RMF : 고객등급 분류 $\\to$ VIP 산정방식 고려\n",
    "+ BG/NBD 모형 : 미래 구매횟수\n",
    "+ Gamma/Gamma 모형 : 미래 구매 금액 $\\to$ 쿠폰금액 결정"
   ]
  },
  {
   "cell_type": "code",
   "execution_count": null,
   "metadata": {},
   "outputs": [],
   "source": []
  },
  {
   "attachments": {},
   "cell_type": "markdown",
   "metadata": {},
   "source": [
    "1. 데이터 불러오기\n",
    "2. RMF 분류\n",
    "3. 예측값 모델링\n",
    "  + BG/NBD 모형\n",
    "  + Gamma/Gamma 모형\n",
    "4. 관련 내용 설명(예시)"
   ]
  },
  {
   "cell_type": "code",
   "execution_count": null,
   "metadata": {},
   "outputs": [],
   "source": []
  },
  {
   "cell_type": "code",
   "execution_count": null,
   "metadata": {},
   "outputs": [],
   "source": []
  },
  {
   "cell_type": "code",
   "execution_count": 1,
   "metadata": {},
   "outputs": [],
   "source": [
    "# DB접속\n",
    "import os\n",
    "from os import listdir\n",
    "import cx_Oracle as oci\n",
    "import numpy as np\n",
    "import pandas as pd\n",
    "\n",
    "from datetime import datetime, timedelta\n",
    "\n",
    "# 그래프\n",
    "import seaborn as sns\n",
    "import matplotlib as mpl\n",
    "import matplotlib.pyplot as plt\n",
    "import matplotlib.font_manager as fm\n",
    "path = 'C:/windows/Fonts/malgun.ttf'                           # 폰트:맑은고딕\n",
    "font_name = fm.FontProperties(fname=path, size=24).get_name()  \n",
    "plt.rc('font', family=font_name)\n"
   ]
  },
  {
   "cell_type": "code",
   "execution_count": 2,
   "metadata": {},
   "outputs": [],
   "source": [
    "# DB접속 : 접속정보 읽기\n",
    "con_text = open(\"C:/Users/MAEIL/conn_info_MMBSHIP.txt\", 'r', encoding='utf8')\n",
    "con_text = con_text.read()\n",
    "\n",
    "# DB 접속 : 실제 접속\n",
    "conn = oci.connect(con_text[1:], encoding='UTF-8', nencoding='UTF-8')"
   ]
  },
  {
   "cell_type": "code",
   "execution_count": null,
   "metadata": {},
   "outputs": [],
   "source": []
  },
  {
   "cell_type": "code",
   "execution_count": null,
   "metadata": {},
   "outputs": [],
   "source": []
  },
  {
   "cell_type": "code",
   "execution_count": null,
   "metadata": {},
   "outputs": [],
   "source": []
  },
  {
   "attachments": {},
   "cell_type": "markdown",
   "metadata": {},
   "source": [
    "### 1.데이터 불러오기"
   ]
  },
  {
   "cell_type": "code",
   "execution_count": 3,
   "metadata": {},
   "outputs": [],
   "source": [
    "###############\n",
    "# 1.데이터 불러오기 : 최근 12개월간,쿠폰 이용\n",
    "#####\n",
    "\n",
    "# query run\n",
    "query1 = '''\n",
    "    with employee_list as \n",
    "        ( select distinct unfy_mmb_no, 'Y' as gubun\n",
    "        from mmbship.tpr_crd_mstr\n",
    "        where crd_kind = '998')\n",
    "\n",
    "    --쿠폰 사용\n",
    "    select I.unfy_mmb_no\n",
    "    , '쿠폰 사용' as TRSC_TYP_CD , U.coopco_CD, U.dc_amt as USE_AMT, U.dc_tgt_amt as TOT_SEL_AMT, U.reg_dtm as reg_dtm\n",
    "    , (case when round((TRUNC(sysdate,'YY') - TO_DATE(btdy, 'YYYYMMDD'))/365,0) > 100 then 45 else  round((TRUNC(sysdate,'YY') - TO_DATE(btdy, 'YYYYMMDD'))/365,0) end) as age\n",
    "    , (case when E.gubun is null then 'N' else E.gubun end) as gubun\n",
    "    from mmbship.tpm_cpn_use U, mmbship.tpm_cpn_issu C, employee_list E, tm_mmb_info I\n",
    "    where C.unfy_mmb_no = I.unfy_mmb_no \n",
    "    and C.unfy_mmb_no = E.unfy_mmb_no(+)\n",
    "    and C.cpn_issu_cd = U.cpn_issu_cd\n",
    "    and C.cpn_st_Cd = '2'\n",
    "    and U.coopco_CD in ('7050', '7060') \n",
    "    and I.mmb_st_cd = '1'\n",
    "    and C.unfy_mmb_no not in ('443986')\n",
    "    and to_char(U.reg_dtm, 'YYYY') = to_char(sysdate, 'YYYY')\n",
    "    --and U.reg_dtm between ADD_MONTHS( TRUNC(sysdate,'MM'), -7 ) and ADD_MONTHS( LAST_DAY(sysdate), -1 )           \n",
    "    union all\n",
    "    --포인트 적립/사용\n",
    "    select T.unfy_mmb_no\n",
    "    , (select code_nm from mmbship.JT_CODE where code_grp_id = 'PM001' and trsc_typ_cd = code) as trsc_typ_cd\n",
    "    , T.coopco_cd, (case when acml_pint = 0 then use_pint else acml_pint end) as use_amt , T.tot_sel_amt, T.reg_dtm as reg_dtm\n",
    "    , (case when round((TRUNC(sysdate,'YY') - TO_DATE(btdy, 'YYYYMMDD'))/365,0) > 100 then 45 else  round((TRUNC(sysdate,'YY') - TO_DATE(btdy, 'YYYYMMDD'))/365,0) end) as age\n",
    "    , (case when E.gubun is null then 'N' else E.gubun end) as gubun\n",
    "    from mmbship.TP_TRSC_PTCL T, employee_list E, tm_mmb_info I\n",
    "    where T.unfy_mmb_no is not null \n",
    "    and T.tot_sel_amt > 0 \n",
    "    and T.unfy_mmb_no = I.unfy_mmb_no \n",
    "    and I.mmb_st_cd = '1'\n",
    "    and T.unfy_mmb_no = E.unfy_mmb_no(+)\n",
    "    and to_char(T.reg_dtm, 'YYYY') = to_char(sysdate, 'YYYY')\n",
    "    --and T.reg_dtm between ADD_MONTHS( TRUNC(sysdate,'MM'), -7 ) and ADD_MONTHS( LAST_DAY(sysdate), -1 )\n",
    "    and T.trsc_typ_cd in ( '200', '300')\n",
    "    and T.COOPCO_CD in ('7050', '7060')\n",
    "    union all\n",
    "    --기프트카드사용\n",
    "    select T.unfy_mmb_no\n",
    "    , (select code_nm from mmbship.JT_CODE where code_grp_id = 'PM001' and trsc_typ_cd = code) as trsc_typ_cd\n",
    "    , T.coopco_cd, H.use_amt, T.tot_sel_amt, T.reg_dtm as reg_dtm\n",
    "    , (case when round((TRUNC(sysdate,'YY') - TO_DATE(btdy, 'YYYYMMDD'))/365,0) > 100 then 45 else  round((TRUNC(sysdate,'YY') - TO_DATE(btdy, 'YYYYMMDD'))/365,0) end) as age\n",
    "    , (case when E.gubun is null then 'N' else E.gubun end) as gubun\n",
    "    from mmbship.TP_TRSC_PTCL T, employee_list E, mmbship.tm_mmb_info I, mmbship.tpr_crd_actv_amt_use_hist H\n",
    "    where T.unfy_mmb_no is not null \n",
    "    and T.tot_sel_amt > 0 \n",
    "    and H.use_idx = T.apv_no\n",
    "    and T.unfy_mmb_no = I.unfy_mmb_no \n",
    "    and I.mmb_st_cd = '1'\n",
    "    and T.unfy_mmb_no = E.unfy_mmb_no(+)\n",
    "    and to_char(T.reg_dtm, 'YYYY') = to_char(sysdate, 'YYYY')\n",
    "    --and T.reg_dtm between ADD_MONTHS( TRUNC(sysdate,'MM'), -7 ) and ADD_MONTHS( LAST_DAY(sysdate), -1 )\n",
    "    and T.trsc_typ_cd in ( 'G40')\n",
    "    and T.COOPCO_CD in ('7050', '7060')\n",
    "        '''\n",
    "df_all = pd.read_sql(query1, con = conn )\n",
    "\n",
    "df_all['UNFY_MMB_NO'] = df_all['UNFY_MMB_NO'].astype(object)\n",
    "\n",
    "# 임직원 제외\n",
    "df_all = df_all[df_all['GUBUN']=='N'].reset_index(drop=True)"
   ]
  },
  {
   "cell_type": "code",
   "execution_count": 4,
   "metadata": {},
   "outputs": [
    {
     "name": "stdout",
     "output_type": "stream",
     "text": [
      "- 해당인원 : 936\n",
      "  + 최초   시점 : 2022-01-01 11:18:58\n",
      "  + 마지막 시점 : 2022-08-21 19:28:02\n"
     ]
    }
   ],
   "source": [
    "print('- 해당인원 : {}'.format(len(df_all.UNFY_MMB_NO.unique())))\n",
    "print('  + 최초   시점 : {}'.format(df_all.REG_DTM.min()))\n",
    "print('  + 마지막 시점 : {}'.format(df_all.REG_DTM.max()))"
   ]
  },
  {
   "cell_type": "code",
   "execution_count": 5,
   "metadata": {},
   "outputs": [],
   "source": [
    "# 분석 대상 관계사 지정\n",
    "df = df_all[df_all.COOPCO_CD =='7050'].reset_index(drop=True)"
   ]
  },
  {
   "cell_type": "code",
   "execution_count": null,
   "metadata": {},
   "outputs": [],
   "source": []
  },
  {
   "cell_type": "code",
   "execution_count": null,
   "metadata": {},
   "outputs": [],
   "source": []
  },
  {
   "cell_type": "code",
   "execution_count": null,
   "metadata": {},
   "outputs": [],
   "source": []
  },
  {
   "cell_type": "code",
   "execution_count": null,
   "metadata": {},
   "outputs": [],
   "source": []
  },
  {
   "attachments": {},
   "cell_type": "markdown",
   "metadata": {},
   "source": [
    "### 2.RFM 계산"
   ]
  },
  {
   "cell_type": "code",
   "execution_count": 282,
   "metadata": {},
   "outputs": [],
   "source": [
    "from lifetimes import BetaGeoFitter\n",
    "from lifetimes import GammaGammaFitter\n",
    "from lifetimes.plotting import plot_period_transactions\n",
    "from sklearn.preprocessing import MinMaxScaler\n",
    "\n",
    "from lifetimes.utils import summary_data_from_transaction_data"
   ]
  },
  {
   "cell_type": "code",
   "execution_count": 283,
   "metadata": {},
   "outputs": [],
   "source": [
    "# df = df2.copy()"
   ]
  },
  {
   "cell_type": "code",
   "execution_count": 348,
   "metadata": {},
   "outputs": [],
   "source": [
    "today_date = datetime(2022, 8, 1) # We have to set today date in order to calculate Recency metric\n",
    "period_end_date = (datetime.today()+ timedelta(days=-1))\n",
    "rfm = df.groupby('UNFY_MMB_NO').agg({'REG_DTM': lambda date: (period_end_date - date.max()).days, # Recency calclation\n",
    "                                     'UNFY_MMB_NO': lambda num: num.count(), # Frequency calculation\n",
    "                                     'TOT_SEL_AMT': lambda TotalPrice: TotalPrice.sum()}) # Monetary calculation\n",
    "\n",
    "rfm.columns = ['Recency', 'Frequency', 'Monetary'] # Changing column names\n",
    "\n",
    "# Converting\n",
    "rfm['recency_score']   = pd.qcut(rfm['Recency'], 5, [5, 4, 3, 2,1])\n",
    "rfm['frequency_score'] = pd.qcut(rfm['Frequency'].rank(method='first'), 5, [1, 2, 3, 4, 5]) \n",
    "rfm['monetary_score']  = pd.qcut(rfm['Monetary'], 5, [1, 2, 3, 4, 5]) \n",
    "\n",
    "# Calculating RFM score\n",
    "rfm['RFM_SCORE'] = (rfm['recency_score'].astype('str') + rfm['frequency_score'].astype('str'))\n",
    "\n",
    "seg_map = {\n",
    "    r'[1-2][1-2]': '10.hibernating', # For instance means: If F is 1 or 2 and If R is 1 or 2 give hibernating \n",
    "    r'[1-2]5': '09.cant_loose',\n",
    "    r'[1-2][3-4]': '08.at_Risk',\n",
    "    r'3[1-2]': '07.about_to_sleep',\n",
    "    r'33': '06.need_attention',\n",
    "    r'41': '05.promising',\n",
    "    r'51': '04.new_customers',\n",
    "    r'[4-5][2-3]': '03.potential_loyalists',\n",
    "    r'[3-4][4-5]': '02.loyal_customers',\n",
    "    r'5[4-5]': '01.champions'\n",
    "}\n",
    "\n",
    "rfm['segment'] = rfm['RFM_SCORE'].replace(seg_map, regex=True)\n",
    "\n",
    "rfm2 = pd.merge(rfm, df[['UNFY_MMB_NO', 'AGE']].drop_duplicates(), left_on='UNFY_MMB_NO', right_on='UNFY_MMB_NO', how='left')\n",
    "\n",
    "\n",
    "summary = summary_data_from_transaction_data(df, 'UNFY_MMB_NO', 'REG_DTM', observation_period_end=df.REG_DTM.max().strftime('%Y-%m-%d'))\n",
    "summary = summary.reset_index()\n",
    "rfm_lifetime = rfm2[['UNFY_MMB_NO', 'segment']]\n",
    "\n",
    "summary = pd.merge( summary, rfm_lifetime, on ='UNFY_MMB_NO', how ='left')\n"
   ]
  },
  {
   "cell_type": "code",
   "execution_count": 347,
   "metadata": {},
   "outputs": [
    {
     "data": {
      "text/plain": [
       "'2022-08-08'"
      ]
     },
     "execution_count": 347,
     "metadata": {},
     "output_type": "execute_result"
    }
   ],
   "source": []
  },
  {
   "cell_type": "code",
   "execution_count": null,
   "metadata": {},
   "outputs": [],
   "source": []
  },
  {
   "cell_type": "code",
   "execution_count": null,
   "metadata": {},
   "outputs": [],
   "source": []
  },
  {
   "cell_type": "code",
   "execution_count": null,
   "metadata": {},
   "outputs": [],
   "source": []
  },
  {
   "attachments": {},
   "cell_type": "markdown",
   "metadata": {},
   "source": [
    "### 3.예측값 모델링"
   ]
  },
  {
   "cell_type": "code",
   "execution_count": 285,
   "metadata": {},
   "outputs": [],
   "source": [
    "# Gamma/Gamma 모형 : 예상 사용금액 추정\n",
    "bgf = BetaGeoFitter(penalizer_coef=0.01)\n",
    "bgf.fit(summary['frequency'], summary['recency'], summary['T'])\n",
    "data = summary.copy()\n",
    "\n",
    "t = 15\n",
    "data['predicted_purchases'] = bgf.conditional_expected_number_of_purchases_up_to_time(t, data['frequency'], data['recency'], data['T'])\n",
    "BGF_15t = list(data.groupby('segment')['predicted_purchases'].mean())\n",
    "\n",
    "t = 30\n",
    "data['predicted_purchases'] = bgf.conditional_expected_number_of_purchases_up_to_time(t, data['frequency'], data['recency'], data['T'])\n",
    "BGF_30t = list(data.groupby('segment')['predicted_purchases'].mean())\n"
   ]
  },
  {
   "cell_type": "code",
   "execution_count": null,
   "metadata": {},
   "outputs": [],
   "source": []
  },
  {
   "cell_type": "code",
   "execution_count": 334,
   "metadata": {},
   "outputs": [],
   "source": [
    "# Gamma/Gamma 모형 : 예상 사용금액 추정\n",
    "ggf = GammaGammaFitter(penalizer_coef=0.01)\n",
    "ggf.fit(rfm2['Frequency'], rfm2['Monetary'])\n",
    "\n",
    "ggf.conditional_expected_average_profit(rfm2['Frequency'], rfm2['Monetary']).head(10)\n",
    "ggf.conditional_expected_average_profit(rfm2['Frequency'], rfm2['Monetary']).sort_values(ascending=False).head(10)\n",
    "\n",
    "rfm2[\"expected_average_profit\"] = ggf.conditional_expected_average_profit(rfm2['Frequency'],rfm2['Monetary'])"
   ]
  },
  {
   "cell_type": "code",
   "execution_count": 339,
   "metadata": {},
   "outputs": [],
   "source": [
    "# 최종 결과 정리\n",
    "\n",
    "report_04 = pd.pivot_table(rfm2, \n",
    "                         values=['Monetary',  'Frequency', 'expected_average_profit','AGE'], \n",
    "                         index=['segment'],  \n",
    "                         aggfunc=np.mean).fillna(0)\n",
    "\n",
    "\n",
    "report_04 = report_04.reset_index()\n",
    "report_04['Monetary(Pred.)'] = report_04['expected_average_profit'] - report_04['Monetary']\n",
    "# df_sub3['BGF_15t'] = BGF_15t\n",
    "report_04['Frequency(Pred.)'] = BGF_30t\n",
    "\n",
    "report_04['COUNT'] = list(summary.groupby('segment')['T'].count())\n",
    "report_04 = report_04[['segment','AGE','COUNT', 'Frequency', 'Monetary','Frequency(Pred.)', 'Monetary(Pred.)', ]]\n",
    "pd.options.display.float_format = '{:0,.1f}'.format"
   ]
  },
  {
   "cell_type": "code",
   "execution_count": 340,
   "metadata": {},
   "outputs": [
    {
     "data": {
      "text/html": [
       "<div>\n",
       "<style scoped>\n",
       "    .dataframe tbody tr th:only-of-type {\n",
       "        vertical-align: middle;\n",
       "    }\n",
       "\n",
       "    .dataframe tbody tr th {\n",
       "        vertical-align: top;\n",
       "    }\n",
       "\n",
       "    .dataframe thead th {\n",
       "        text-align: right;\n",
       "    }\n",
       "</style>\n",
       "<table border=\"1\" class=\"dataframe\">\n",
       "  <thead>\n",
       "    <tr style=\"text-align: right;\">\n",
       "      <th></th>\n",
       "      <th>segment</th>\n",
       "      <th>AGE</th>\n",
       "      <th>COUNT</th>\n",
       "      <th>Frequency</th>\n",
       "      <th>Monetary</th>\n",
       "      <th>Frequency(Pred.)</th>\n",
       "      <th>Monetary(Pred.)</th>\n",
       "    </tr>\n",
       "  </thead>\n",
       "  <tbody>\n",
       "    <tr>\n",
       "      <th>0</th>\n",
       "      <td>01.champions</td>\n",
       "      <td>43.6</td>\n",
       "      <td>93</td>\n",
       "      <td>7.3</td>\n",
       "      <td>957,160.4</td>\n",
       "      <td>0.7</td>\n",
       "      <td>43,136.6</td>\n",
       "    </tr>\n",
       "    <tr>\n",
       "      <th>1</th>\n",
       "      <td>02.loyal_customers</td>\n",
       "      <td>44.2</td>\n",
       "      <td>126</td>\n",
       "      <td>5.2</td>\n",
       "      <td>479,375.4</td>\n",
       "      <td>0.4</td>\n",
       "      <td>33,021.2</td>\n",
       "    </tr>\n",
       "    <tr>\n",
       "      <th>2</th>\n",
       "      <td>03.potential_loyalists</td>\n",
       "      <td>41.1</td>\n",
       "      <td>107</td>\n",
       "      <td>1.3</td>\n",
       "      <td>112,068.9</td>\n",
       "      <td>0.2</td>\n",
       "      <td>45,199.3</td>\n",
       "    </tr>\n",
       "    <tr>\n",
       "      <th>3</th>\n",
       "      <td>04.new_customers</td>\n",
       "      <td>44.8</td>\n",
       "      <td>6</td>\n",
       "      <td>1.0</td>\n",
       "      <td>70,312.5</td>\n",
       "      <td>0.2</td>\n",
       "      <td>41,487.8</td>\n",
       "    </tr>\n",
       "    <tr>\n",
       "      <th>4</th>\n",
       "      <td>05.promising</td>\n",
       "      <td>42.8</td>\n",
       "      <td>26</td>\n",
       "      <td>1.0</td>\n",
       "      <td>87,857.7</td>\n",
       "      <td>0.1</td>\n",
       "      <td>51,839.4</td>\n",
       "    </tr>\n",
       "    <tr>\n",
       "      <th>5</th>\n",
       "      <td>06.need_attention</td>\n",
       "      <td>42.8</td>\n",
       "      <td>28</td>\n",
       "      <td>1.8</td>\n",
       "      <td>122,167.9</td>\n",
       "      <td>0.1</td>\n",
       "      <td>35,095.0</td>\n",
       "    </tr>\n",
       "    <tr>\n",
       "      <th>6</th>\n",
       "      <td>07.about_to_sleep</td>\n",
       "      <td>40.2</td>\n",
       "      <td>69</td>\n",
       "      <td>1.0</td>\n",
       "      <td>66,187.0</td>\n",
       "      <td>0.1</td>\n",
       "      <td>39,053.7</td>\n",
       "    </tr>\n",
       "    <tr>\n",
       "      <th>7</th>\n",
       "      <td>08.at_Risk</td>\n",
       "      <td>41.0</td>\n",
       "      <td>111</td>\n",
       "      <td>2.3</td>\n",
       "      <td>172,403.6</td>\n",
       "      <td>0.1</td>\n",
       "      <td>33,255.3</td>\n",
       "    </tr>\n",
       "    <tr>\n",
       "      <th>8</th>\n",
       "      <td>09.cant_loose</td>\n",
       "      <td>42.2</td>\n",
       "      <td>29</td>\n",
       "      <td>6.3</td>\n",
       "      <td>486,403.4</td>\n",
       "      <td>0.2</td>\n",
       "      <td>31,008.0</td>\n",
       "    </tr>\n",
       "    <tr>\n",
       "      <th>9</th>\n",
       "      <td>10.hibernating</td>\n",
       "      <td>42.1</td>\n",
       "      <td>175</td>\n",
       "      <td>1.0</td>\n",
       "      <td>69,510.3</td>\n",
       "      <td>0.1</td>\n",
       "      <td>41,014.5</td>\n",
       "    </tr>\n",
       "  </tbody>\n",
       "</table>\n",
       "</div>"
      ],
      "text/plain": [
       "                  segment  AGE  COUNT  Frequency  Monetary  Frequency(Pred.)  \\\n",
       "0            01.champions 43.6     93        7.3 957,160.4               0.7   \n",
       "1      02.loyal_customers 44.2    126        5.2 479,375.4               0.4   \n",
       "2  03.potential_loyalists 41.1    107        1.3 112,068.9               0.2   \n",
       "3        04.new_customers 44.8      6        1.0  70,312.5               0.2   \n",
       "4            05.promising 42.8     26        1.0  87,857.7               0.1   \n",
       "5       06.need_attention 42.8     28        1.8 122,167.9               0.1   \n",
       "6       07.about_to_sleep 40.2     69        1.0  66,187.0               0.1   \n",
       "7              08.at_Risk 41.0    111        2.3 172,403.6               0.1   \n",
       "8           09.cant_loose 42.2     29        6.3 486,403.4               0.2   \n",
       "9          10.hibernating 42.1    175        1.0  69,510.3               0.1   \n",
       "\n",
       "   Monetary(Pred.)  \n",
       "0         43,136.6  \n",
       "1         33,021.2  \n",
       "2         45,199.3  \n",
       "3         41,487.8  \n",
       "4         51,839.4  \n",
       "5         35,095.0  \n",
       "6         39,053.7  \n",
       "7         33,255.3  \n",
       "8         31,008.0  \n",
       "9         41,014.5  "
      ]
     },
     "execution_count": 340,
     "metadata": {},
     "output_type": "execute_result"
    }
   ],
   "source": [
    "report_04"
   ]
  },
  {
   "cell_type": "code",
   "execution_count": null,
   "metadata": {},
   "outputs": [],
   "source": []
  },
  {
   "attachments": {},
   "cell_type": "markdown",
   "metadata": {},
   "source": [
    "### 4. 관련 내용 설명(예시)"
   ]
  },
  {
   "cell_type": "code",
   "execution_count": 344,
   "metadata": {},
   "outputs": [
    {
     "name": "stdout",
     "output_type": "stream",
     "text": [
      "[01.champions] 등급에 해당되는 인원은 93명이며, 기간 내 7.3회 방문하는 동안, 1인당 총 957,160원(기간누적)을 사용하였다.\n",
      "해당 등급 인원은, 66.8% 정도가 30일 이내 (1회)재방문 할 것으로 보이며, 이 때 43,137원 상당의 추가 구매가 발생할 것으로 예측됨\n"
     ]
    }
   ],
   "source": [
    "group_ = '01.champions'\n",
    "value1 = report_04[report_04.segment ==group_]['COUNT'].values[0]\n",
    "value2 = report_04[report_04.segment ==group_]['Frequency'].values[0]\n",
    "value3 = report_04[report_04.segment ==group_]['Monetary'].values[0]\n",
    "\n",
    "value5 = report_04[report_04.segment ==group_]['Frequency(Pred.)'].values[0]*100\n",
    "value6 =report_04[report_04.segment ==group_]['Monetary(Pred.)'].values[0]\n",
    "\n",
    "comment1 = '[{}] 등급에 해당되는 인원은 {:0,.0f}명이며, 기간 내 {:0,.1f}회 방문하는 동안, 1인당 총 {:0,.0f}원(기간누적)을 사용하였다.'.format(group_, value1, value2, value3)\n",
    "comment2 = '해당 등급 인원은, {:0,.1f}% 정도가 30일 이내 (1회)재방문 할 것으로 보이며, 이 때 {:0,.0f}원 상당의 추가 구매가 발생할 것으로 예측됨'.format(value5, value6)\n",
    "\n",
    "print(comment1)\n",
    "print(comment2)\n"
   ]
  },
  {
   "cell_type": "code",
   "execution_count": null,
   "metadata": {},
   "outputs": [],
   "source": []
  },
  {
   "cell_type": "code",
   "execution_count": 290,
   "metadata": {},
   "outputs": [
    {
     "name": "stdout",
     "output_type": "stream",
     "text": [
      "반면, [10.hibernating] 등급에 해당되는 인원은 175명이며, 기간 내 1.0회 방문하는 동안, 1인당 총 69,510원(기간누적)을 사용하였다.\n",
      "해당 등급 인원은, 6.2% 정도가 30일 이내 (1회)재방문 할 것으로 보이며, 이 때 41,014원 상당의 추가 구매가 발생할 것으로 예측됨\n"
     ]
    }
   ],
   "source": [
    "group_ = '10.hibernating'\n",
    "value1 = df_sub3[df_sub3.segment ==group_]['COUNT'].values[0]\n",
    "value2 = df_sub3[df_sub3.segment ==group_]['Frequency'].values[0]\n",
    "value3 = df_sub3[df_sub3.segment ==group_]['Monetary'].values[0]\n",
    "\n",
    "value5 = df_sub3[df_sub3.segment ==group_]['Frequency(Pred.)'].values[0]*100\n",
    "value6 = df_sub3[df_sub3.segment ==group_]['Monetary(Pred.)'].values[0]\n",
    "\n",
    "print('반면, [{}] 등급에 해당되는 인원은 {:0,.0f}명이며, 기간 내 {:0,.1f}회 방문하는 동안, 1인당 총 {:0,.0f}원(기간누적)을 사용하였다.'.format(group_, value1, value2, value3))\n",
    "print('해당 등급 인원은, {:0,.1f}% 정도가 30일 이내 (1회)재방문 할 것으로 보이며, 이 때 {:0,.0f}원 상당의 추가 구매가 발생할 것으로 예측됨'.format(value5, value6))\n"
   ]
  },
  {
   "cell_type": "code",
   "execution_count": null,
   "metadata": {},
   "outputs": [],
   "source": []
  },
  {
   "cell_type": "code",
   "execution_count": null,
   "metadata": {},
   "outputs": [],
   "source": []
  },
  {
   "cell_type": "code",
   "execution_count": null,
   "metadata": {},
   "outputs": [],
   "source": []
  },
  {
   "cell_type": "code",
   "execution_count": null,
   "metadata": {},
   "outputs": [],
   "source": []
  },
  {
   "cell_type": "code",
   "execution_count": 352,
   "metadata": {},
   "outputs": [],
   "source": [
    "# rfm2['Frequency2'] = rfm2['Frequency']\n",
    "rfm2.loc[rfm2[\"Frequency\"] >= 5, \"Frequency2\"] = '6+'"
   ]
  },
  {
   "cell_type": "code",
   "execution_count": 353,
   "metadata": {},
   "outputs": [
    {
     "data": {
      "text/html": [
       "<div>\n",
       "<style scoped>\n",
       "    .dataframe tbody tr th:only-of-type {\n",
       "        vertical-align: middle;\n",
       "    }\n",
       "\n",
       "    .dataframe tbody tr th {\n",
       "        vertical-align: top;\n",
       "    }\n",
       "\n",
       "    .dataframe thead th {\n",
       "        text-align: right;\n",
       "    }\n",
       "</style>\n",
       "<table border=\"1\" class=\"dataframe\">\n",
       "  <thead>\n",
       "    <tr style=\"text-align: right;\">\n",
       "      <th>Frequency2</th>\n",
       "      <th>6+</th>\n",
       "    </tr>\n",
       "    <tr>\n",
       "      <th>segment</th>\n",
       "      <th></th>\n",
       "    </tr>\n",
       "  </thead>\n",
       "  <tbody>\n",
       "    <tr>\n",
       "      <th>01.champions</th>\n",
       "      <td>54</td>\n",
       "    </tr>\n",
       "    <tr>\n",
       "      <th>02.loyal_customers</th>\n",
       "      <td>55</td>\n",
       "    </tr>\n",
       "    <tr>\n",
       "      <th>09.cant_loose</th>\n",
       "      <td>21</td>\n",
       "    </tr>\n",
       "  </tbody>\n",
       "</table>\n",
       "</div>"
      ],
      "text/plain": [
       "Frequency2          6+\n",
       "segment               \n",
       "01.champions        54\n",
       "02.loyal_customers  55\n",
       "09.cant_loose       21"
      ]
     },
     "execution_count": 353,
     "metadata": {},
     "output_type": "execute_result"
    }
   ],
   "source": [
    "pd.pivot_table(rfm2, values='UNFY_MMB_NO', index=['segment',], columns=['Frequency2'], aggfunc='count').fillna('')"
   ]
  },
  {
   "cell_type": "code",
   "execution_count": null,
   "metadata": {},
   "outputs": [],
   "source": []
  },
  {
   "cell_type": "code",
   "execution_count": null,
   "metadata": {},
   "outputs": [],
   "source": []
  },
  {
   "cell_type": "code",
   "execution_count": null,
   "metadata": {},
   "outputs": [],
   "source": []
  },
  {
   "cell_type": "code",
   "execution_count": 173,
   "metadata": {},
   "outputs": [],
   "source": [
    "# s_dt1= (datetime.today()- timedelta(0)).strftime('%Y%m%d')\n",
    "\n",
    "# excel_name = s_dt1+ '_CJ_PREDICT_v2.xlsx'\n",
    "# writer = pd.ExcelWriter(excel_name)\n",
    "# rfm2.to_excel(writer, 'Sheet1')\n",
    "# data.to_excel(writer, 'Sheet2')\n",
    "# writer.save()\n",
    "\n",
    "# writer.close()"
   ]
  },
  {
   "cell_type": "code",
   "execution_count": null,
   "metadata": {},
   "outputs": [],
   "source": []
  },
  {
   "cell_type": "code",
   "execution_count": 292,
   "metadata": {},
   "outputs": [
    {
     "data": {
      "text/html": [
       "<div>\n",
       "<style scoped>\n",
       "    .dataframe tbody tr th:only-of-type {\n",
       "        vertical-align: middle;\n",
       "    }\n",
       "\n",
       "    .dataframe tbody tr th {\n",
       "        vertical-align: top;\n",
       "    }\n",
       "\n",
       "    .dataframe thead th {\n",
       "        text-align: right;\n",
       "    }\n",
       "</style>\n",
       "<table border=\"1\" class=\"dataframe\">\n",
       "  <thead>\n",
       "    <tr style=\"text-align: right;\">\n",
       "      <th></th>\n",
       "      <th>UNFY_MMB_NO</th>\n",
       "      <th>Recency</th>\n",
       "      <th>Frequency</th>\n",
       "      <th>Monetary</th>\n",
       "      <th>recency_score</th>\n",
       "      <th>frequency_score</th>\n",
       "      <th>monetary_score</th>\n",
       "      <th>RFM_SCORE</th>\n",
       "      <th>segment</th>\n",
       "      <th>AGE</th>\n",
       "      <th>expected_average_profit</th>\n",
       "    </tr>\n",
       "  </thead>\n",
       "  <tbody>\n",
       "    <tr>\n",
       "      <th>0</th>\n",
       "      <td>509909</td>\n",
       "      <td>42</td>\n",
       "      <td>1</td>\n",
       "      <td>63000</td>\n",
       "      <td>4</td>\n",
       "      <td>1</td>\n",
       "      <td>2</td>\n",
       "      <td>41</td>\n",
       "      <td>05.promising</td>\n",
       "      <td>50</td>\n",
       "      <td>100,173.4</td>\n",
       "    </tr>\n",
       "    <tr>\n",
       "      <th>1</th>\n",
       "      <td>534776</td>\n",
       "      <td>38</td>\n",
       "      <td>2</td>\n",
       "      <td>485000</td>\n",
       "      <td>4</td>\n",
       "      <td>3</td>\n",
       "      <td>5</td>\n",
       "      <td>43</td>\n",
       "      <td>03.potential_loyalists</td>\n",
       "      <td>50</td>\n",
       "      <td>595,483.6</td>\n",
       "    </tr>\n",
       "    <tr>\n",
       "      <th>2</th>\n",
       "      <td>624510</td>\n",
       "      <td>147</td>\n",
       "      <td>1</td>\n",
       "      <td>208000</td>\n",
       "      <td>2</td>\n",
       "      <td>1</td>\n",
       "      <td>4</td>\n",
       "      <td>21</td>\n",
       "      <td>10.hibernating</td>\n",
       "      <td>48</td>\n",
       "      <td>330,723.0</td>\n",
       "    </tr>\n",
       "    <tr>\n",
       "      <th>3</th>\n",
       "      <td>666052</td>\n",
       "      <td>20</td>\n",
       "      <td>4</td>\n",
       "      <td>261000</td>\n",
       "      <td>5</td>\n",
       "      <td>4</td>\n",
       "      <td>4</td>\n",
       "      <td>54</td>\n",
       "      <td>01.champions</td>\n",
       "      <td>48</td>\n",
       "      <td>287,688.6</td>\n",
       "    </tr>\n",
       "    <tr>\n",
       "      <th>4</th>\n",
       "      <td>693601</td>\n",
       "      <td>202</td>\n",
       "      <td>1</td>\n",
       "      <td>45000</td>\n",
       "      <td>1</td>\n",
       "      <td>1</td>\n",
       "      <td>1</td>\n",
       "      <td>11</td>\n",
       "      <td>10.hibernating</td>\n",
       "      <td>47</td>\n",
       "      <td>71,553.5</td>\n",
       "    </tr>\n",
       "    <tr>\n",
       "      <th>...</th>\n",
       "      <td>...</td>\n",
       "      <td>...</td>\n",
       "      <td>...</td>\n",
       "      <td>...</td>\n",
       "      <td>...</td>\n",
       "      <td>...</td>\n",
       "      <td>...</td>\n",
       "      <td>...</td>\n",
       "      <td>...</td>\n",
       "      <td>...</td>\n",
       "      <td>...</td>\n",
       "    </tr>\n",
       "    <tr>\n",
       "      <th>782</th>\n",
       "      <td>6602797</td>\n",
       "      <td>6</td>\n",
       "      <td>1</td>\n",
       "      <td>63500</td>\n",
       "      <td>5</td>\n",
       "      <td>3</td>\n",
       "      <td>2</td>\n",
       "      <td>53</td>\n",
       "      <td>03.potential_loyalists</td>\n",
       "      <td>43</td>\n",
       "      <td>100,968.4</td>\n",
       "    </tr>\n",
       "    <tr>\n",
       "      <th>783</th>\n",
       "      <td>6604273</td>\n",
       "      <td>3</td>\n",
       "      <td>1</td>\n",
       "      <td>62000</td>\n",
       "      <td>5</td>\n",
       "      <td>3</td>\n",
       "      <td>2</td>\n",
       "      <td>53</td>\n",
       "      <td>03.potential_loyalists</td>\n",
       "      <td>61</td>\n",
       "      <td>98,583.4</td>\n",
       "    </tr>\n",
       "    <tr>\n",
       "      <th>784</th>\n",
       "      <td>6604894</td>\n",
       "      <td>2</td>\n",
       "      <td>1</td>\n",
       "      <td>89000</td>\n",
       "      <td>5</td>\n",
       "      <td>3</td>\n",
       "      <td>3</td>\n",
       "      <td>53</td>\n",
       "      <td>03.potential_loyalists</td>\n",
       "      <td>42</td>\n",
       "      <td>141,513.3</td>\n",
       "    </tr>\n",
       "    <tr>\n",
       "      <th>785</th>\n",
       "      <td>6605212</td>\n",
       "      <td>2</td>\n",
       "      <td>1</td>\n",
       "      <td>274900</td>\n",
       "      <td>5</td>\n",
       "      <td>3</td>\n",
       "      <td>4</td>\n",
       "      <td>53</td>\n",
       "      <td>03.potential_loyalists</td>\n",
       "      <td>35</td>\n",
       "      <td>437,093.8</td>\n",
       "    </tr>\n",
       "    <tr>\n",
       "      <th>786</th>\n",
       "      <td>6606051</td>\n",
       "      <td>-1</td>\n",
       "      <td>2</td>\n",
       "      <td>88000</td>\n",
       "      <td>5</td>\n",
       "      <td>4</td>\n",
       "      <td>3</td>\n",
       "      <td>54</td>\n",
       "      <td>01.champions</td>\n",
       "      <td>55</td>\n",
       "      <td>108,047.6</td>\n",
       "    </tr>\n",
       "  </tbody>\n",
       "</table>\n",
       "<p>787 rows × 11 columns</p>\n",
       "</div>"
      ],
      "text/plain": [
       "     UNFY_MMB_NO  Recency  Frequency  Monetary recency_score frequency_score  \\\n",
       "0         509909       42          1     63000             4               1   \n",
       "1         534776       38          2    485000             4               3   \n",
       "2         624510      147          1    208000             2               1   \n",
       "3         666052       20          4    261000             5               4   \n",
       "4         693601      202          1     45000             1               1   \n",
       "..           ...      ...        ...       ...           ...             ...   \n",
       "782      6602797        6          1     63500             5               3   \n",
       "783      6604273        3          1     62000             5               3   \n",
       "784      6604894        2          1     89000             5               3   \n",
       "785      6605212        2          1    274900             5               3   \n",
       "786      6606051       -1          2     88000             5               4   \n",
       "\n",
       "    monetary_score RFM_SCORE                 segment  AGE  \\\n",
       "0                2        41            05.promising   50   \n",
       "1                5        43  03.potential_loyalists   50   \n",
       "2                4        21          10.hibernating   48   \n",
       "3                4        54            01.champions   48   \n",
       "4                1        11          10.hibernating   47   \n",
       "..             ...       ...                     ...  ...   \n",
       "782              2        53  03.potential_loyalists   43   \n",
       "783              2        53  03.potential_loyalists   61   \n",
       "784              3        53  03.potential_loyalists   42   \n",
       "785              4        53  03.potential_loyalists   35   \n",
       "786              3        54            01.champions   55   \n",
       "\n",
       "     expected_average_profit  \n",
       "0                  100,173.4  \n",
       "1                  595,483.6  \n",
       "2                  330,723.0  \n",
       "3                  287,688.6  \n",
       "4                   71,553.5  \n",
       "..                       ...  \n",
       "782                100,968.4  \n",
       "783                 98,583.4  \n",
       "784                141,513.3  \n",
       "785                437,093.8  \n",
       "786                108,047.6  \n",
       "\n",
       "[787 rows x 11 columns]"
      ]
     },
     "execution_count": 292,
     "metadata": {},
     "output_type": "execute_result"
    }
   ],
   "source": [
    "rfm2"
   ]
  },
  {
   "cell_type": "code",
   "execution_count": 325,
   "metadata": {},
   "outputs": [
    {
     "data": {
      "image/png": "[encoded data removed]",
      "text/plain": [
       "<Figure size 432x216 with 1 Axes>"
      ]
     },
     "metadata": {},
     "output_type": "display_data"
    }
   ],
   "source": [
    "mpl.rc('figure', figsize=(6, 3))\n",
    "fig = plt.figure( facecolor='#eeeeee')\n",
    "\n",
    "sample_list =  list(rfm2[rfm2.segment == '01.champions']['UNFY_MMB_NO'].sample(3))\n",
    "days_since_birth = 365\n",
    "\n",
    "for no_ in sample_list:\n",
    "    plt.subplot(1,3, int(sample_list.index(no_))+1)\n",
    "    sp_trans = df_all[df_all.UNFY_MMB_NO == no_ ]\n",
    "    plot_history_alive(bgf, days_since_birth, sp_trans, 'REG_DTM')\n",
    "    plt.xticks(rotation=45)\n",
    "    plt.title('[History Graph] : 01.champions(sample)',fontsize='x-large')\n",
    "    \n",
    "# plt.show()"
   ]
  },
  {
   "cell_type": "code",
   "execution_count": null,
   "metadata": {},
   "outputs": [],
   "source": []
  },
  {
   "cell_type": "code",
   "execution_count": 331,
   "metadata": {},
   "outputs": [
    {
     "data": {
      "image/png": "[encoded data removed]",
      "text/plain": [
       "<Figure size 432x216 with 1 Axes>"
      ]
     },
     "metadata": {},
     "output_type": "display_data"
    }
   ],
   "source": [
    "mpl.rc('figure', figsize=(6, 3))\n",
    "fig = plt.figure( facecolor='#eeeeee')\n",
    "\n",
    "sample_list =  list(rfm2[rfm2.segment == '08.at_Risk']['UNFY_MMB_NO'].sample(3))\n",
    "days_since_birth = 365\n",
    "\n",
    "for no_ in sample_list:\n",
    "    plt.subplot(1,3, int(sample_list.index(no_))+1)\n",
    "    sp_trans = df_all[df_all.UNFY_MMB_NO == no_ ]\n",
    "    plot_history_alive(bgf, days_since_birth, sp_trans, 'REG_DTM')\n",
    "    plt.xticks(rotation=45)\n",
    "    plt.title('[History Graph] : 08.at_Risk(sample)',fontsize='x-large')\n",
    "    "
   ]
  },
  {
   "cell_type": "code",
   "execution_count": 326,
   "metadata": {
    "scrolled": true
   },
   "outputs": [
    {
     "ename": "ValueError",
     "evalue": "min() arg is an empty sequence",
     "output_type": "error",
     "traceback": [
      "\u001b[1;31m---------------------------------------------------------------------------\u001b[0m",
      "\u001b[1;31mValueError\u001b[0m                                Traceback (most recent call last)",
      "\u001b[1;32m<ipython-input-326-ac41e1e0e6af>\u001b[0m in \u001b[0;36m<module>\u001b[1;34m\u001b[0m\n\u001b[0;32m      1\u001b[0m \u001b[0mdays_since_birth\u001b[0m \u001b[1;33m=\u001b[0m \u001b[1;36m300\u001b[0m\u001b[1;33m\u001b[0m\u001b[1;33m\u001b[0m\u001b[0m\n\u001b[0;32m      2\u001b[0m \u001b[0msp_trans\u001b[0m \u001b[1;33m=\u001b[0m \u001b[0mdf_A\u001b[0m\u001b[1;33m.\u001b[0m\u001b[0mloc\u001b[0m\u001b[1;33m[\u001b[0m\u001b[0mdf_A\u001b[0m\u001b[1;33m.\u001b[0m\u001b[0mUNFY_MMB_NO\u001b[0m \u001b[1;33m==\u001b[0m \u001b[1;36m544040\u001b[0m\u001b[1;33m]\u001b[0m\u001b[1;33m\u001b[0m\u001b[1;33m\u001b[0m\u001b[0m\n\u001b[1;32m----> 3\u001b[1;33m \u001b[0mplot_history_alive\u001b[0m\u001b[1;33m(\u001b[0m\u001b[0mbgf\u001b[0m\u001b[1;33m,\u001b[0m \u001b[0mdays_since_birth\u001b[0m\u001b[1;33m,\u001b[0m \u001b[0msp_trans\u001b[0m\u001b[1;33m,\u001b[0m \u001b[1;34m'REG_DTM'\u001b[0m\u001b[1;33m)\u001b[0m\u001b[1;33m\u001b[0m\u001b[1;33m\u001b[0m\u001b[0m\n\u001b[0m\u001b[0;32m      4\u001b[0m \u001b[0mplt\u001b[0m\u001b[1;33m.\u001b[0m\u001b[0mxticks\u001b[0m\u001b[1;33m(\u001b[0m\u001b[0mrotation\u001b[0m\u001b[1;33m=\u001b[0m\u001b[1;36m45\u001b[0m\u001b[1;33m)\u001b[0m\u001b[1;33m\u001b[0m\u001b[1;33m\u001b[0m\u001b[0m\n\u001b[0;32m      5\u001b[0m \u001b[0mplt\u001b[0m\u001b[1;33m.\u001b[0m\u001b[0mtitle\u001b[0m\u001b[1;33m(\u001b[0m\u001b[1;34m'[History Graph] : 08.at_Risk(sample)'\u001b[0m\u001b[1;33m,\u001b[0m\u001b[0mfontsize\u001b[0m\u001b[1;33m=\u001b[0m\u001b[1;34m'x-large'\u001b[0m\u001b[1;33m)\u001b[0m\u001b[1;33m\u001b[0m\u001b[1;33m\u001b[0m\u001b[0m\n",
      "\u001b[1;32mC:\\ProgramData\\Anaconda3\\lib\\site-packages\\lifetimes\\plotting.py\u001b[0m in \u001b[0;36mplot_history_alive\u001b[1;34m(model, t, transactions, datetime_col, freq, start_date, ax, **kwargs)\u001b[0m\n\u001b[0;32m    358\u001b[0m \u001b[1;33m\u001b[0m\u001b[0m\n\u001b[0;32m    359\u001b[0m     \u001b[1;32mif\u001b[0m \u001b[0mstart_date\u001b[0m \u001b[1;32mis\u001b[0m \u001b[1;32mNone\u001b[0m\u001b[1;33m:\u001b[0m\u001b[1;33m\u001b[0m\u001b[1;33m\u001b[0m\u001b[0m\n\u001b[1;32m--> 360\u001b[1;33m         \u001b[0mstart_date\u001b[0m \u001b[1;33m=\u001b[0m \u001b[0mmin\u001b[0m\u001b[1;33m(\u001b[0m\u001b[0mtransactions\u001b[0m\u001b[1;33m[\u001b[0m\u001b[0mdatetime_col\u001b[0m\u001b[1;33m]\u001b[0m\u001b[1;33m)\u001b[0m\u001b[1;33m\u001b[0m\u001b[1;33m\u001b[0m\u001b[0m\n\u001b[0m\u001b[0;32m    361\u001b[0m \u001b[1;33m\u001b[0m\u001b[0m\n\u001b[0;32m    362\u001b[0m     \u001b[1;32mif\u001b[0m \u001b[0max\u001b[0m \u001b[1;32mis\u001b[0m \u001b[1;32mNone\u001b[0m\u001b[1;33m:\u001b[0m\u001b[1;33m\u001b[0m\u001b[1;33m\u001b[0m\u001b[0m\n",
      "\u001b[1;31mValueError\u001b[0m: min() arg is an empty sequence"
     ]
    }
   ],
   "source": [
    "days_since_birth = 300\n",
    "sp_trans = df_A.loc[df_A.UNFY_MMB_NO == 544040]\n",
    "plot_history_alive(bgf, days_since_birth, sp_trans, 'REG_DTM')\n",
    "plt.xticks(rotation=45)\n",
    "plt.title('[History Graph] : 08.at_Risk(sample)',fontsize='x-large')\n",
    "plt.show()"
   ]
  },
  {
   "cell_type": "code",
   "execution_count": 277,
   "metadata": {},
   "outputs": [
    {
     "data": {
      "image/png": "[encoded data removed]",
      "text/plain": [
       "<Figure size 1080x216 with 3 Axes>"
      ]
     },
     "metadata": {
      "needs_background": "light"
     },
     "output_type": "display_data"
    }
   ],
   "source": [
    "fig = plt.figure(figsize=(15, 3))\n",
    "\n",
    "ax = plt.subplot2grid((1, 3), (0, 0), colspan=1)\n",
    "# ax.set_ylim([0, 300])\n",
    "sns.boxplot(x=\"segment\", y=\"Recency\", data=rfm, order=sorted(rfm.segment.unique()) ) \n",
    "plt.title('Recency : boxplot',fontsize='x-large')\n",
    "plt.xticks(rotation=90)\n",
    "\n",
    "ax = plt.subplot2grid((1, 3), (0, 1), colspan=1)\n",
    "ax.set_ylim([0, 20])\n",
    "sns.boxplot(x=\"segment\", y=\"Frequency\", data=rfm, order=sorted(rfm.segment.unique()) ) \n",
    "plt.title('Frequency : boxplot',fontsize='x-large')\n",
    "plt.xticks(rotation=90)\n",
    "\n",
    "ax = plt.subplot2grid((1, 3), (0, 2), colspan=1)\n",
    "ax.set_ylim([0, 2000000])\n",
    "sns.boxplot(x=\"segment\", y=\"Monetary\",data=rfm, order=sorted(rfm.segment.unique()) )\n",
    "plt.title('Monetary : boxplot',fontsize='x-large')\n",
    "plt.xticks(rotation=90)\n",
    "\n",
    "plt.show()"
   ]
  },
  {
   "cell_type": "code",
   "execution_count": null,
   "metadata": {},
   "outputs": [],
   "source": []
  }
 ],
 "metadata": {
  "kernelspec": {
   "display_name": "Python 3",
   "language": "python",
   "name": "python3"
  },
  "language_info": {
   "codemirror_mode": {
    "name": "ipython",
    "version": 3
   },
   "file_extension": ".py",
   "mimetype": "text/x-python",
   "name": "python",
   "nbconvert_exporter": "python",
   "pygments_lexer": "ipython3",
   "version": "3.7.6"
  }
 },
 "nbformat": 4,
 "nbformat_minor": 4
}
