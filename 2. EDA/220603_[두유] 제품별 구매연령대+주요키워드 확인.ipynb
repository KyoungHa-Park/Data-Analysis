{
 "cells": [
  {
   "cell_type": "code",
   "execution_count": null,
   "metadata": {},
   "outputs": [],
   "source": []
  },
  {
   "attachments": {},
   "cell_type": "markdown",
   "metadata": {},
   "source": [
    "**EDA**\n",
    "  + data load\n",
    "  + data cleansing\n",
    "  + data summary"
   ]
  },
  {
   "cell_type": "code",
   "execution_count": null,
   "metadata": {},
   "outputs": [],
   "source": []
  },
  {
   "cell_type": "code",
   "execution_count": 1,
   "metadata": {},
   "outputs": [],
   "source": [
    "###############\n",
    "# 1. import\n",
    "#####\n",
    "\n",
    "import pandas as pd\n",
    "from datetime import datetime, timedelta\n",
    "import re\n",
    "import time \n",
    "\n",
    "# local only\n",
    "import os\n",
    "import cx_Oracle as oci\n",
    "import pandas as pd\n",
    "import matplotlib.pyplot as plt\n",
    "\n",
    "import numpy as np\n",
    "\n",
    "import matplotlib as mpl\n",
    "import matplotlib.pyplot as plt\n",
    "import matplotlib.font_manager as fm\n",
    "import seaborn as sns\n",
    "\n",
    "path = 'C:/windows/Fonts/malgun.ttf'                           # 폰트:맑은고딕\n",
    "font_name = fm.FontProperties(fname=path, size=24).get_name()  \n",
    "plt.rc('font', family=font_name)\n"
   ]
  },
  {
   "cell_type": "code",
   "execution_count": null,
   "metadata": {},
   "outputs": [],
   "source": []
  },
  {
   "cell_type": "code",
   "execution_count": null,
   "metadata": {},
   "outputs": [],
   "source": []
  },
  {
   "cell_type": "code",
   "execution_count": 2,
   "metadata": {},
   "outputs": [],
   "source": [
    "\n",
    "# # DB접속 : 폴 바셋\n",
    "# con_text = open(\"C:/Users/MAEIL/conn_MCRM.txt\", 'r', encoding='utf8')\n",
    "# con_text = con_text.read()\n",
    "\n",
    "\n",
    "# # DB접속 : 셀렉스몰\n",
    "# con_text = open(\"C:/Users/MAEIL/conn_SELEX.txt\", 'r', encoding='utf8')\n",
    "# con_text = con_text.read()\n"
   ]
  },
  {
   "cell_type": "code",
   "execution_count": 3,
   "metadata": {},
   "outputs": [],
   "source": [
    "###############\n",
    "# 1.데이터 불러오기\n",
    "#####\n",
    "# DB접속 : CRM\n",
    "con_text = open(\"C:/Users/MAEIL/conn_CRM.txt\", 'r', encoding='utf8')\n",
    "con_text = con_text.read()\n",
    "\n",
    "# DB 접속 : 실제 접속\n",
    "conn = oci.connect(con_text, encoding='UTF-8', nencoding='UTF-8')"
   ]
  },
  {
   "cell_type": "code",
   "execution_count": 4,
   "metadata": {},
   "outputs": [],
   "source": [
    "\n",
    "query = '''\n",
    "    select  M.USERID\n",
    "    , I.member_no\n",
    "    , 2022-to_char(C.birthday, 'YYYY') as age\n",
    "    , (case when C.sex in ('1', '3') then 'M' when C.sex in ('2', '4') then 'F' end) as gender\n",
    "    , D.PRODUCT_CODE\n",
    "    , (case when D.PRODUCT_CODE = 'P00830' then '(곡물)매일두유'\n",
    "            when D.PRODUCT_CODE = 'P03150' then '(곡물)매일두유'\n",
    "            when D.PRODUCT_CODE = 'P00144' then '(곡물)매일두유'\n",
    "            when D.PRODUCT_CODE = 'P03151' then '(곡물)매일두유'\n",
    "            when D.PRODUCT_CODE = 'P00142' then '(곡물)매일두유'\n",
    "            when D.PRODUCT_CODE = 'P00145' then '(곡물)매일두유'\n",
    "            \n",
    "            when D.PRODUCT_CODE = 'P00138' then '(곡물)아몬드브리즈'\n",
    "            when D.PRODUCT_CODE = 'P00137' then '(곡물)아몬드브리즈'\n",
    "            when D.PRODUCT_CODE = 'P00827' then '(곡물)아몬드브리즈'\n",
    "            when D.PRODUCT_CODE = 'P00139' then '(곡물)아몬드브리즈'\n",
    "            when D.PRODUCT_CODE = 'P00140' then '(곡물)아몬드브리즈'\n",
    "\n",
    "            when D.PRODUCT_CODE = 'P03154' then '(곡물)어메이징오트'\n",
    "            when D.PRODUCT_CODE = 'P03153' then '(곡물)어메이징오트'\n",
    "\n",
    "            when D.PRODUCT_CODE = 'P03156' then '(커피)바리스타룰스'\n",
    "            when D.PRODUCT_CODE = 'P03155' then '(커피)바리스타룰스'\n",
    "            when D.PRODUCT_CODE = 'P00383' then '(커피)바리스타룰스'\n",
    "\n",
    "            end ) as PRODUCT_NAME_GUBUN\n",
    "    , D.PRODUCT_PRICE\n",
    "    , D.PRODUCT_QTY as PRODUCT_COUNT\n",
    "    , to_char(M.YMDD, 'YYYY-MM-DD') as PAY_DATE\n",
    "    , to_char(M.YMDD, 'HH24') as PAY_TIME\n",
    "    from maeil.maeil_ds_delivery M, maeil.MAEIL_DS_DELIVERY_DETAIL D, crm.customer C, crm.member I, mmbship.tm_mmb_info F\n",
    "    where M.ORDERNO = D.ORDERNO\n",
    "    and I.userid = M.userid\n",
    "    and I.member_no = F.unfy_mmb_no\n",
    "    and F.stff_dv_cd <> '1'\n",
    "    and D.Product_code in ('P00830', 'P03150', 'P00144', 'P03151', 'P00142', 'P00145', \n",
    "                           'P00138', 'P00137', 'P00827', 'P00139', 'P00140',\n",
    "                           'P03154', 'P03153', \n",
    "                           'P03156', 'P03155', 'P00383' )\n",
    "    and M.USERID = C.id(+) \n",
    "    and M.YMDD between sysdate-730 and sysdate\n",
    "        '''\n",
    "\n",
    "df_total = pd.read_sql(query, con = conn )"
   ]
  },
  {
   "cell_type": "code",
   "execution_count": null,
   "metadata": {},
   "outputs": [],
   "source": []
  },
  {
   "cell_type": "code",
   "execution_count": 5,
   "metadata": {},
   "outputs": [],
   "source": [
    "\n",
    "query = '''\n",
    "    select  M.USERID\n",
    "    , I.member_no\n",
    "    , 2022-to_char(C.birthday, 'YYYY') as age\n",
    "    , (case when C.sex in ('1', '3') then 'M' when C.sex in ('2', '4') then 'F' end) as gender\n",
    "    , D.PRODUCT_CODE\n",
    "    , (case when D.PRODUCT_CODE = 'P00830' then '매일두유 검은콩'\n",
    "            when D.PRODUCT_CODE = 'P03150' then '매일두유 저당'\n",
    "            when D.PRODUCT_CODE = 'P00144' then '매일두유 식이섬유'\n",
    "            when D.PRODUCT_CODE = 'P03151' then '매일두유 고단백'\n",
    "            when D.PRODUCT_CODE = 'P00142' then '매일두유 초콜릿'\n",
    "            when D.PRODUCT_CODE = 'P00145' then '매일두유 99.9'\n",
    "            end ) as PRODUCT_NAME_GUBUN\n",
    "    , D.PRODUCT_PRICE\n",
    "    , D.PRODUCT_QTY as PRODUCT_COUNT\n",
    "    , to_char(M.YMDD, 'YYYY-MM-DD') as PAY_DATE\n",
    "    , to_char(M.YMDD, 'HH24') as PAY_TIME\n",
    "    from maeil.maeil_ds_delivery M, maeil.MAEIL_DS_DELIVERY_DETAIL D, crm.customer C, crm.member I, mmbship.tm_mmb_info F\n",
    "    where M.ORDERNO = D.ORDERNO\n",
    "    and I.userid = M.userid\n",
    "    and I.member_no = F.unfy_mmb_no\n",
    "    and F.stff_dv_cd <> '1'\n",
    "    and D.Product_code in ('P00830', 'P03150', 'P00144', 'P03151', 'P00142', 'P00145')\n",
    "    and M.USERID = C.id(+) \n",
    "    and M.YMDD between sysdate-730 and sysdate\n",
    "        '''\n",
    "\n",
    "df_soy = pd.read_sql(query, con = conn )\n"
   ]
  },
  {
   "cell_type": "code",
   "execution_count": 6,
   "metadata": {},
   "outputs": [],
   "source": [
    "query = '''\n",
    "        with buy_product as (\n",
    "            select replace(수령자전화, '-', '') as cellno , \"수령자명\", 상품명, 배정일, to_date(\"배정일\",'YYYYMMDD') as reg_dtm\n",
    "            from mmbship.lkh_emp_master\n",
    "            where 수령자전화 is not null\n",
    "            and length(replace(수령자전화, '-', '')) = 11 and to_date(배정일,'YYYYMMDD') between sysdate-365 and sysdate  and 상품명 like '%두유%' \n",
    "            ),\n",
    "        user_info as(\n",
    "            select unfy_mmb_no\n",
    "            , mmb_nm\n",
    "            , wrls_tel_no1 || wrls_tel_no2 || wrls_tel_no3 as cellno\n",
    "            , to_char(sysdate, 'YYYY') - substr(btdy, 1,4 ) as age\n",
    "            , (case when gndr_dv_cd in ('1', '3') then 'M' when gndr_dv_cd in ('2', '4') then 'F' end) as gender\n",
    "            from mmbship.tm_mmb_info \n",
    "            where mmb_st_cd = '1'\n",
    "            )\n",
    "        select U.unfy_mmb_no, U.age, U.gender, B.상품명 as PRODUCT_NAME_GUBUN, B.REG_DTM\n",
    "        from buy_product B, user_info U\n",
    "        where B.cellno = U.cellno\n",
    "        and B.상품명 not like '%판촉물%'\n",
    "        and B.상품명 not like '%단계%'\n",
    "        and B.상품명 not like '%롤케이크%'\n",
    "        and B.수령자명 = u.mmb_nm\n",
    "        '''\n",
    "df_soy2 = pd.read_sql(query, con = conn )"
   ]
  },
  {
   "cell_type": "code",
   "execution_count": 7,
   "metadata": {},
   "outputs": [],
   "source": [
    "df_soy2 = df_soy2.replace('멸균 매일두유 [ 6본 ] [ 검은콩 ] [ 190ML ]', '멸균 매일두유 [ 검은콩 ] [ 190ml ]')\n",
    "df_soy2 = df_soy2.replace('멸균 매일두유 [ 12본 ] [ 99.89 ] [ 190ML ]', '멸균 매일두유 [ 검은콩 ] [ 190ml ]')\n",
    "df_soy2 = df_soy2.replace('멸균 매일두유 [ 12본 ] [ 검은콩 ] [ 190ML ]', '멸균 매일두유 [ 99.89 ] [ 190ml ]')\n",
    "df_soy2 = df_soy2.replace('멸균 매일두유 [ 99.9 ] [ 190ML ]', '멸균 매일두유 [ 99.89 ] [ 190ml ]')\n",
    "df_soy2 = df_soy2.replace('멸균 매일두유 [ 12본 ] [ 99.9 ] [ 190ML X 12 ]', '멸균 매일두유 [ 99.89 ] [ 190ml ]')\n",
    "df_soy2 = df_soy2.replace('멸균 매일두유 [ 99.9 ] [ NEW ] [ 950ML ] ', '멸균 매일두유 [ 99.9 ] [ 950ML ] ')\n",
    "df_soy2 = df_soy2.replace('멸균 매일두유 [ 99.89 ] [ 950ML ] ', '멸균 매일두유 [ 99.9 ] [ 950ML ] ')"
   ]
  },
  {
   "cell_type": "code",
   "execution_count": null,
   "metadata": {},
   "outputs": [],
   "source": []
  },
  {
   "cell_type": "code",
   "execution_count": null,
   "metadata": {},
   "outputs": [],
   "source": []
  },
  {
   "cell_type": "code",
   "execution_count": null,
   "metadata": {},
   "outputs": [],
   "source": []
  },
  {
   "cell_type": "code",
   "execution_count": 8,
   "metadata": {},
   "outputs": [
    {
     "data": {
      "image/png": "[encoded data removed]",
      "text/plain": [
       "<Figure size 432x216 with 1 Axes>"
      ]
     },
     "metadata": {},
     "output_type": "display_data"
    }
   ],
   "source": [
    "mpl.rc('figure', figsize=(6, 3), facecolor='#eeeeee' )\n",
    "sns.boxplot(x=\"AGE\", y=\"PRODUCT_NAME_GUBUN\", data=df_total)\n",
    "# plt.title(\"요일 별 전체 팁의 Box Plot\")\n",
    "plt.show()"
   ]
  },
  {
   "cell_type": "code",
   "execution_count": 9,
   "metadata": {},
   "outputs": [
    {
     "data": {
      "text/html": [
       "<div>\n",
       "<style scoped>\n",
       "    .dataframe tbody tr th:only-of-type {\n",
       "        vertical-align: middle;\n",
       "    }\n",
       "\n",
       "    .dataframe tbody tr th {\n",
       "        vertical-align: top;\n",
       "    }\n",
       "\n",
       "    .dataframe thead th {\n",
       "        text-align: right;\n",
       "    }\n",
       "</style>\n",
       "<table border=\"1\" class=\"dataframe\">\n",
       "  <thead>\n",
       "    <tr style=\"text-align: right;\">\n",
       "      <th>PRODUCT_NAME_GUBUN</th>\n",
       "      <th>(곡물)매일두유</th>\n",
       "      <th>(곡물)아몬드브리즈</th>\n",
       "      <th>(곡물)어메이징오트</th>\n",
       "      <th>(커피)바리스타룰스</th>\n",
       "    </tr>\n",
       "    <tr>\n",
       "      <th>GENDER</th>\n",
       "      <th></th>\n",
       "      <th></th>\n",
       "      <th></th>\n",
       "      <th></th>\n",
       "    </tr>\n",
       "  </thead>\n",
       "  <tbody>\n",
       "    <tr>\n",
       "      <th>F</th>\n",
       "      <td>4377</td>\n",
       "      <td>2384</td>\n",
       "      <td>284</td>\n",
       "      <td>299</td>\n",
       "    </tr>\n",
       "    <tr>\n",
       "      <th>M</th>\n",
       "      <td>519</td>\n",
       "      <td>309</td>\n",
       "      <td>28</td>\n",
       "      <td>52</td>\n",
       "    </tr>\n",
       "  </tbody>\n",
       "</table>\n",
       "</div>"
      ],
      "text/plain": [
       "PRODUCT_NAME_GUBUN  (곡물)매일두유  (곡물)아몬드브리즈  (곡물)어메이징오트  (커피)바리스타룰스\n",
       "GENDER                                                          \n",
       "F                       4377        2384         284         299\n",
       "M                        519         309          28          52"
      ]
     },
     "execution_count": 9,
     "metadata": {},
     "output_type": "execute_result"
    }
   ],
   "source": [
    "# pd.DataFrame(df_maeili.groupby(['PRODUCT_NAME_GUBUN', 'GENDER' ])['AGE'].count())\n",
    "pd.pivot_table(df_total, values='AGE', index=['PRODUCT_NAME_GUBUN',], columns = 'GENDER', aggfunc='count').T"
   ]
  },
  {
   "cell_type": "code",
   "execution_count": null,
   "metadata": {},
   "outputs": [],
   "source": []
  },
  {
   "cell_type": "code",
   "execution_count": 10,
   "metadata": {},
   "outputs": [
    {
     "data": {
      "image/png": "[encoded data removed]",
      "text/plain": [
       "<Figure size 432x360 with 1 Axes>"
      ]
     },
     "metadata": {},
     "output_type": "display_data"
    }
   ],
   "source": [
    "mpl.rc('figure', figsize=(6, 5), facecolor='#eeeeee' )\n",
    "sns.boxplot(x=\"AGE\", y=\"PRODUCT_NAME_GUBUN\", data=df_soy2)\n",
    "# plt.title(\"요일 별 전체 팁의 Box Plot\")\n",
    "plt.show()"
   ]
  },
  {
   "cell_type": "code",
   "execution_count": 11,
   "metadata": {},
   "outputs": [
    {
     "data": {
      "text/html": [
       "<div>\n",
       "<style scoped>\n",
       "    .dataframe tbody tr th:only-of-type {\n",
       "        vertical-align: middle;\n",
       "    }\n",
       "\n",
       "    .dataframe tbody tr th {\n",
       "        vertical-align: top;\n",
       "    }\n",
       "\n",
       "    .dataframe thead th {\n",
       "        text-align: right;\n",
       "    }\n",
       "</style>\n",
       "<table border=\"1\" class=\"dataframe\">\n",
       "  <thead>\n",
       "    <tr style=\"text-align: right;\">\n",
       "      <th>GENDER</th>\n",
       "      <th>F</th>\n",
       "      <th>M</th>\n",
       "    </tr>\n",
       "    <tr>\n",
       "      <th>PRODUCT_NAME_GUBUN</th>\n",
       "      <th></th>\n",
       "      <th></th>\n",
       "    </tr>\n",
       "  </thead>\n",
       "  <tbody>\n",
       "    <tr>\n",
       "      <th>멸균 매일두유 [ 99.89 ] [ 190ml ]</th>\n",
       "      <td>5518</td>\n",
       "      <td>600</td>\n",
       "    </tr>\n",
       "    <tr>\n",
       "      <th>멸균 매일두유 [ 99.9 ] [ 190ML X 24 ]</th>\n",
       "      <td>1187</td>\n",
       "      <td>123</td>\n",
       "    </tr>\n",
       "    <tr>\n",
       "      <th>멸균 매일두유 [ 99.9 ] [ 950ML ]</th>\n",
       "      <td>214</td>\n",
       "      <td>41</td>\n",
       "    </tr>\n",
       "    <tr>\n",
       "      <th>멸균 매일두유 [ 검은콩 ] [ 190ml ]</th>\n",
       "      <td>6313</td>\n",
       "      <td>556</td>\n",
       "    </tr>\n",
       "    <tr>\n",
       "      <th>멸균 매일두유 [ 고단백 ] [ 190ml ]</th>\n",
       "      <td>4346</td>\n",
       "      <td>358</td>\n",
       "    </tr>\n",
       "    <tr>\n",
       "      <th>멸균 매일두유 [ 고칼슘 검은콩 ] [ 190ml ]</th>\n",
       "      <td>661</td>\n",
       "      <td>106</td>\n",
       "    </tr>\n",
       "    <tr>\n",
       "      <th>멸균 매일두유 [ 식이섬유 ] [ 190ml ]</th>\n",
       "      <td>1586</td>\n",
       "      <td>146</td>\n",
       "    </tr>\n",
       "    <tr>\n",
       "      <th>멸균 매일두유 [ 식이섬유 저당 ] [ 190ML ]</th>\n",
       "      <td>2286</td>\n",
       "      <td>178</td>\n",
       "    </tr>\n",
       "    <tr>\n",
       "      <th>멸균 매일두유 [ 초콜릿 ] [ 190ml ]</th>\n",
       "      <td>1488</td>\n",
       "      <td>114</td>\n",
       "    </tr>\n",
       "    <tr>\n",
       "      <th>멸균 뼈칼두유 [ 고칼슘 플레인 ] [ 190ml ]</th>\n",
       "      <td>133</td>\n",
       "      <td>35</td>\n",
       "    </tr>\n",
       "  </tbody>\n",
       "</table>\n",
       "</div>"
      ],
      "text/plain": [
       "GENDER                              F    M\n",
       "PRODUCT_NAME_GUBUN                        \n",
       "멸균 매일두유 [ 99.89 ] [ 190ml ]      5518  600\n",
       "멸균 매일두유 [ 99.9 ] [ 190ML X 24 ]  1187  123\n",
       "멸균 매일두유 [ 99.9 ] [ 950ML ]        214   41\n",
       "멸균 매일두유 [ 검은콩 ] [ 190ml ]        6313  556\n",
       "멸균 매일두유 [ 고단백 ] [ 190ml ]        4346  358\n",
       "멸균 매일두유 [ 고칼슘 검은콩 ] [ 190ml ]     661  106\n",
       "멸균 매일두유 [ 식이섬유 ] [ 190ml ]       1586  146\n",
       "멸균 매일두유 [ 식이섬유 저당 ] [ 190ML ]    2286  178\n",
       "멸균 매일두유 [ 초콜릿 ] [ 190ml ]        1488  114\n",
       "멸균 뼈칼두유 [ 고칼슘 플레인 ] [ 190ml ]     133   35"
      ]
     },
     "execution_count": 11,
     "metadata": {},
     "output_type": "execute_result"
    }
   ],
   "source": [
    "# pd.DataFrame(df_maeili.groupby(['PRODUCT_NAME_GUBUN', 'GENDER' ])['AGE'].count())\n",
    "pd.pivot_table(df_soy2, values='AGE', index=['PRODUCT_NAME_GUBUN',], columns = 'GENDER', aggfunc='count')"
   ]
  },
  {
   "cell_type": "code",
   "execution_count": 12,
   "metadata": {},
   "outputs": [
    {
     "data": {
      "image/png": "[encoded data removed]",
      "text/plain": [
       "<Figure size 432x216 with 1 Axes>"
      ]
     },
     "metadata": {},
     "output_type": "display_data"
    }
   ],
   "source": [
    "mpl.rc('figure', figsize=(6, 3), facecolor='#eeeeee' )\n",
    "sns.boxplot(x=\"AGE\", y=\"PRODUCT_NAME_GUBUN\", data=df_soy)\n",
    "# plt.title(\"요일 별 전체 팁의 Box Plot\")\n",
    "plt.show()"
   ]
  },
  {
   "cell_type": "code",
   "execution_count": 13,
   "metadata": {},
   "outputs": [
    {
     "data": {
      "text/html": [
       "<div>\n",
       "<style scoped>\n",
       "    .dataframe tbody tr th:only-of-type {\n",
       "        vertical-align: middle;\n",
       "    }\n",
       "\n",
       "    .dataframe tbody tr th {\n",
       "        vertical-align: top;\n",
       "    }\n",
       "\n",
       "    .dataframe thead th {\n",
       "        text-align: right;\n",
       "    }\n",
       "</style>\n",
       "<table border=\"1\" class=\"dataframe\">\n",
       "  <thead>\n",
       "    <tr style=\"text-align: right;\">\n",
       "      <th>PRODUCT_NAME_GUBUN</th>\n",
       "      <th>매일두유 99.9</th>\n",
       "      <th>매일두유 검은콩</th>\n",
       "      <th>매일두유 고단백</th>\n",
       "      <th>매일두유 식이섬유</th>\n",
       "      <th>매일두유 저당</th>\n",
       "      <th>매일두유 초콜릿</th>\n",
       "    </tr>\n",
       "    <tr>\n",
       "      <th>GENDER</th>\n",
       "      <th></th>\n",
       "      <th></th>\n",
       "      <th></th>\n",
       "      <th></th>\n",
       "      <th></th>\n",
       "      <th></th>\n",
       "    </tr>\n",
       "  </thead>\n",
       "  <tbody>\n",
       "    <tr>\n",
       "      <th>F</th>\n",
       "      <td>1320</td>\n",
       "      <td>1576</td>\n",
       "      <td>181</td>\n",
       "      <td>690</td>\n",
       "      <td>114</td>\n",
       "      <td>496</td>\n",
       "    </tr>\n",
       "    <tr>\n",
       "      <th>M</th>\n",
       "      <td>183</td>\n",
       "      <td>185</td>\n",
       "      <td>24</td>\n",
       "      <td>58</td>\n",
       "      <td>12</td>\n",
       "      <td>57</td>\n",
       "    </tr>\n",
       "  </tbody>\n",
       "</table>\n",
       "</div>"
      ],
      "text/plain": [
       "PRODUCT_NAME_GUBUN  매일두유 99.9  매일두유 검은콩  매일두유 고단백  매일두유 식이섬유  매일두유 저당  \\\n",
       "GENDER                                                                  \n",
       "F                        1320      1576       181        690      114   \n",
       "M                         183       185        24         58       12   \n",
       "\n",
       "PRODUCT_NAME_GUBUN  매일두유 초콜릿  \n",
       "GENDER                        \n",
       "F                        496  \n",
       "M                         57  "
      ]
     },
     "execution_count": 13,
     "metadata": {},
     "output_type": "execute_result"
    }
   ],
   "source": [
    "pd.pivot_table(df_soy, values='AGE', index=['PRODUCT_NAME_GUBUN',], columns = 'GENDER', aggfunc='count').T"
   ]
  },
  {
   "cell_type": "code",
   "execution_count": null,
   "metadata": {},
   "outputs": [],
   "source": []
  },
  {
   "cell_type": "code",
   "execution_count": null,
   "metadata": {},
   "outputs": [],
   "source": []
  },
  {
   "cell_type": "code",
   "execution_count": null,
   "metadata": {},
   "outputs": [],
   "source": []
  },
  {
   "cell_type": "code",
   "execution_count": null,
   "metadata": {},
   "outputs": [],
   "source": []
  },
  {
   "cell_type": "code",
   "execution_count": null,
   "metadata": {},
   "outputs": [],
   "source": []
  },
  {
   "cell_type": "code",
   "execution_count": 14,
   "metadata": {},
   "outputs": [
    {
     "ename": "NameError",
     "evalue": "name 'df_grain' is not defined",
     "output_type": "error",
     "traceback": [
      "\u001b[1;31m---------------------------------------------------------------------------\u001b[0m",
      "\u001b[1;31mNameError\u001b[0m                                 Traceback (most recent call last)",
      "\u001b[1;32m<ipython-input-14-2974ec8efc0c>\u001b[0m in \u001b[0;36m<module>\u001b[1;34m\u001b[0m\n\u001b[1;32m----> 1\u001b[1;33m \u001b[0msns\u001b[0m\u001b[1;33m.\u001b[0m\u001b[0mboxplot\u001b[0m\u001b[1;33m(\u001b[0m\u001b[0mx\u001b[0m\u001b[1;33m=\u001b[0m\u001b[1;34m\"AGE\"\u001b[0m\u001b[1;33m,\u001b[0m \u001b[0my\u001b[0m\u001b[1;33m=\u001b[0m\u001b[1;34m\"PRODUCT_NAME_GUBUN\"\u001b[0m\u001b[1;33m,\u001b[0m \u001b[0mhue\u001b[0m\u001b[1;33m=\u001b[0m\u001b[1;34m\"GENDER\"\u001b[0m\u001b[1;33m,\u001b[0m \u001b[0mdata\u001b[0m\u001b[1;33m=\u001b[0m\u001b[0mdf_grain\u001b[0m\u001b[1;33m)\u001b[0m\u001b[1;33m\u001b[0m\u001b[1;33m\u001b[0m\u001b[0m\n\u001b[0m\u001b[0;32m      2\u001b[0m \u001b[1;31m# plt.title(\"요일 별, 성별 전체 팁의 Box Plot\")\u001b[0m\u001b[1;33m\u001b[0m\u001b[1;33m\u001b[0m\u001b[1;33m\u001b[0m\u001b[0m\n\u001b[0;32m      3\u001b[0m \u001b[0mplt\u001b[0m\u001b[1;33m.\u001b[0m\u001b[0mshow\u001b[0m\u001b[1;33m(\u001b[0m\u001b[1;33m)\u001b[0m\u001b[1;33m\u001b[0m\u001b[1;33m\u001b[0m\u001b[0m\n",
      "\u001b[1;31mNameError\u001b[0m: name 'df_grain' is not defined"
     ]
    }
   ],
   "source": [
    "sns.boxplot(x=\"AGE\", y=\"PRODUCT_NAME_GUBUN\", hue=\"GENDER\", data=df_grain)\n",
    "# plt.title(\"요일 별, 성별 전체 팁의 Box Plot\")\n",
    "plt.show()"
   ]
  },
  {
   "cell_type": "code",
   "execution_count": 15,
   "metadata": {},
   "outputs": [
    {
     "data": {
      "image/png": "[encoded data removed]",
      "text/plain": [
       "<Figure size 504x360 with 1 Axes>"
      ]
     },
     "metadata": {},
     "output_type": "display_data"
    }
   ],
   "source": [
    "mpl.rc('figure', figsize=(7, 5), facecolor='#eeeeee' )\n",
    "sns.boxplot(x=\"AGE\", y=\"PRODUCT_NAME_GUBUN\", hue=\"GENDER\", data=df_soy)\n",
    "# plt.title(\"요일 별, 성별 전체 팁의 Box Plot\")\n",
    "plt.show()"
   ]
  },
  {
   "cell_type": "code",
   "execution_count": 95,
   "metadata": {},
   "outputs": [
    {
     "data": {
      "image/png": "[encoded data removed]",
      "text/plain": [
       "<Figure size 1008x360 with 2 Axes>"
      ]
     },
     "metadata": {},
     "output_type": "display_data"
    }
   ],
   "source": [
    "mpl.rc('figure', figsize=(14, 5), facecolor='#eeeeee' )\n",
    "\n",
    "ax1 = plt.subplot2grid((1, 2), (0, 0))\n",
    "sns.boxplot(x=\"AGE\", y=\"PRODUCT_NAME_GUBUN\", hue=\"GENDER\", data=df_soy2)\n",
    "\n",
    "# data=[[1,2,3],\n",
    "#       [5,6,7],\n",
    "#       [8,9,10]]\n",
    "# column_labels=[\"Column 1\", \"Column 2\", \"Column 3\"]\n",
    "\n",
    "\n",
    "ax2 = plt.subplot2grid((1, 2), (0, 1))\n",
    "df=pd.pivot_table(df_soy2, values='AGE', index=['PRODUCT_NAME_GUBUN',], columns = 'GENDER', aggfunc='count').reset_index()\n",
    "# ax2.axis('tight')\n",
    "ax2.axis('off')\n",
    "ax2.table(cellText=df.values, colLabels=df.columns, colColours =[\"skyblue\"] * 3, loc=\"center\").auto_set_font_size(False)\n",
    "\n",
    "# plt.title(\"요일 별, 성별 전체 팁의 Box Plot\")\n",
    "plt.show()"
   ]
  },
  {
   "cell_type": "code",
   "execution_count": null,
   "metadata": {},
   "outputs": [],
   "source": []
  },
  {
   "cell_type": "code",
   "execution_count": null,
   "metadata": {},
   "outputs": [],
   "source": []
  },
  {
   "cell_type": "code",
   "execution_count": null,
   "metadata": {},
   "outputs": [],
   "source": []
  },
  {
   "cell_type": "code",
   "execution_count": null,
   "metadata": {},
   "outputs": [],
   "source": []
  },
  {
   "cell_type": "code",
   "execution_count": 26,
   "metadata": {},
   "outputs": [
    {
     "data": {
      "image/png": "[encoded data removed]",
      "text/plain": [
       "<Figure size 576x360 with 1 Axes>"
      ]
     },
     "metadata": {},
     "output_type": "display_data"
    }
   ],
   "source": [
    "mpl.rc('figure', figsize=(8, 5), facecolor='#eeeeee' )\n",
    "sns.violinplot(x=\"AGE\", y=\"PRODUCT_NAME_GUBUN\", data=df_maeili)\n",
    "# plt.title(\"요일 별 전체 팁의 Box Plot\")\n",
    "plt.show()"
   ]
  },
  {
   "cell_type": "code",
   "execution_count": null,
   "metadata": {},
   "outputs": [],
   "source": []
  },
  {
   "cell_type": "code",
   "execution_count": null,
   "metadata": {},
   "outputs": [],
   "source": []
  },
  {
   "cell_type": "code",
   "execution_count": null,
   "metadata": {},
   "outputs": [],
   "source": []
  },
  {
   "cell_type": "code",
   "execution_count": null,
   "metadata": {},
   "outputs": [],
   "source": []
  },
  {
   "cell_type": "code",
   "execution_count": 96,
   "metadata": {},
   "outputs": [
    {
     "name": "stderr",
     "output_type": "stream",
     "text": [
      "C:\\ProgramData\\Anaconda3\\lib\\site-packages\\konlpy\\tag\\_okt.py:16: UserWarning: \"Twitter\" has changed to \"Okt\" since KoNLPy v0.4.5.\n",
      "  warn('\"Twitter\" has changed to \"Okt\" since KoNLPy v0.4.5.')\n"
     ]
    }
   ],
   "source": [
    "# DB접속\n",
    "import pymysql\n",
    "import pandas as pd\n",
    "import numpy as np\n",
    "import os\n",
    "\n",
    "# 그래프\n",
    "import matplotlib as mpl\n",
    "import matplotlib.pyplot as plt\n",
    "import matplotlib.font_manager as fm\n",
    "path = 'C:/windows/Fonts/malgun.ttf'                           # 폰트:맑은고딕\n",
    "font_name = fm.FontProperties(fname=path, size=24).get_name()  \n",
    "plt.rc('font', family=font_name)\n",
    "\n",
    "# 한글정제 KoNLPy\n",
    "from ckonlpy.tag import Twitter\n",
    "twitter = Twitter()\n",
    "\n",
    "# 시간기록\n",
    "from datetime import datetime, timedelta\n",
    "import time \n",
    "from dateutil.relativedelta import relativedelta\n",
    "\n",
    "# 내용공유(e-mail, 회사) \n",
    "# import send_email as se\n",
    "from jinja2 import Template\n",
    "\n",
    "import warnings\n",
    "warnings.filterwarnings(\"ignore\")\n",
    "\n",
    "#폴더 내용 불러오기\n",
    "from glob import glob\n",
    "import os \n",
    "from google.cloud import bigquery\n",
    "from nltk import FreqDist\n",
    "\n",
    "import gspread"
   ]
  },
  {
   "cell_type": "code",
   "execution_count": null,
   "metadata": {},
   "outputs": [],
   "source": []
  },
  {
   "cell_type": "code",
   "execution_count": 97,
   "metadata": {},
   "outputs": [],
   "source": [
    "def data_get_90day(category_group, category_keyword):\n",
    "    ###############\n",
    "    # 2.자료 추출 : MySQL\n",
    "    #####\n",
    "    # BigQuery 접속 정보 \n",
    "    os.environ[\"GOOGLE_APPLICATION_CREDENTIALS\"]=\"./********************************.json\"\n",
    "    client = bigquery.Client()\n",
    "    # 쿼리실행\n",
    "    sql = \"\"\"SELECT USER\n",
    "             , FORMAT_DATETIME('%Y-%m-%d', CAST(A.DATE AS DATETIME)) as REG_DTM\n",
    "             , FORMAT_DATETIME('%Y-%m', CAST(A.DATE AS DATETIME)) as REG_DT\n",
    "             , FORMAT_DATETIME('%YY-%VW', CAST(A.DATE AS DATETIME)) as REG_WEEK\n",
    "             , CHANNEL\n",
    "             , PRODUCT\n",
    "             , REVIEW\n",
    "             , SCORE\n",
    "             FROM `thermal-rain-234004.review.review_all` A\n",
    "             where PRODUCT like '%\"\"\"+category_group+\"\"\"%'\n",
    "             and PRODUCT like '%\"\"\"+category_keyword+\"\"\"%'\n",
    "             and CAST(A.DATE AS DATETIME) between DATE_SUB(current_date(), INTERVAL 90 DAY) and DATE_SUB(current_date(), INTERVAL -1 DAY)\n",
    "             order by CAST(A.DATE AS DATETIME) desc\"\"\"\n",
    "    df1 = client.query(sql).to_dataframe()\n",
    "    df1 = df1.replace('kakaomakers', '카카오 선물하기')\n",
    "\n",
    "    ###############\n",
    "    # 2.자료 추출 : MySQL\n",
    "    #####\n",
    "    # 접속 정보 \n",
    "    conn = pymysql.connect(host = '**.***.*.*', user ='__USER_ID__', password = \"__PASSWORD__\", database='__DATABASE__')\n",
    "    cursor = conn.cursor(pymysql.cursors.DictCursor)\n",
    "\n",
    "    # 쿼리실행: 전체리뷰\n",
    "    sql= '''select A.WRITER as USER\n",
    "            , (STR_TO_DATE(A.WRITE_DT, '%Y%m%d'))  as REG_DTM \n",
    "            , left((STR_TO_DATE(A.WRITE_DT, '%Y%m%d')),7)  as REG_DT \n",
    "            , DATE_FORMAT(STR_TO_DATE(A.WRITE_DT, '%Y%m%d'),'%YY-%uW' )  as REG_WEEK \n",
    "            , (SELECT CODE_NM FROM JT_CODE B WHERE A.COMPANY_CODE = B.CODE AND B.CODE_GRP_ID = 'DEALER_ID') as CHANNEL \n",
    "            , group_concat(distinct B.CODE_NM order by CODE_NM asc) as PRODUCT\n",
    "            , A.GRADE as SCORE\n",
    "            , trim(A.CONTENTS) as REVIEW\n",
    "            FROM MAEIL_REVIEW A, JT_CODE B\n",
    "            where A.GRADE in (1,2,3,4,5)\n",
    "            and CAST(STR_TO_DATE(A.WRITE_DT, '%Y%m%d') AS DATETIME) between DATE_SUB(current_date(), INTERVAL 90 DAY) and DATE_SUB(current_date(), INTERVAL -1 DAY)\n",
    "            and A.PRODUCT_CODE = B.CODE \n",
    "            AND B.CODE_NM like '%'''+category_group +'''%'\n",
    "            AND B.CODE_NM like '%'''+category_keyword +'''%'\n",
    "            and B.CODE not like'G_%'\n",
    "            group by A.WRITER, A.WRITE_DT, A.COMPANY_CODE, GRADE, CONTENTS\n",
    "            order by A.WRITE_DT desc\n",
    "            '''\n",
    "    cursor.execute(sql)\n",
    "    df2 = cursor.fetchall()\n",
    "    df2 = pd.DataFrame(df2)\n",
    "\n",
    "    df2 = df2.replace('25 카카오 톡스토어(20.12.2~미사용)', '25 카카오톡')\n",
    "\n",
    "    df = pd.concat([df1, df2], ignore_index=True)\n",
    "    df['REG_DTM'] = pd.to_datetime(df['REG_DTM'],format = '%Y-%m-%d')\n",
    "    # df['REG_DTM'] = df['REG_DTM']\n",
    "    df.PRODUCT = df.PRODUCT.str.lower() \n",
    "    df['SCORE'] = df['SCORE'].astype(float)\n",
    "    df['REVIEW'] = df['REVIEW'].str.replace('\\n', ' ')\n",
    "    df['lenght'] = df['REVIEW'].str.len()\n",
    "\n",
    "    df = df[df.lenght != 0]\n",
    "    df = df.reset_index(drop=True)\n",
    "    return df"
   ]
  },
  {
   "cell_type": "code",
   "execution_count": 98,
   "metadata": {},
   "outputs": [],
   "source": [
    "category_group, category_keyword  = '오트', '오리지널'\n",
    "df_1 = data_get_90day(category_group, category_keyword)"
   ]
  },
  {
   "cell_type": "code",
   "execution_count": 99,
   "metadata": {},
   "outputs": [],
   "source": [
    "category_group, category_keyword  = '두유', '저당'\n",
    "df_2 = data_get_90day(category_group, category_keyword)"
   ]
  },
  {
   "cell_type": "code",
   "execution_count": 100,
   "metadata": {},
   "outputs": [],
   "source": [
    "category_group, category_keyword  = '두유', '99'\n",
    "df_3 = data_get_90day(category_group, category_keyword)"
   ]
  },
  {
   "cell_type": "code",
   "execution_count": 101,
   "metadata": {},
   "outputs": [],
   "source": [
    "category_group, category_keyword  = '두유', '검은콩'\n",
    "df_4 = data_get_90day(category_group, category_keyword)"
   ]
  },
  {
   "cell_type": "code",
   "execution_count": 102,
   "metadata": {},
   "outputs": [],
   "source": [
    "category_group, category_keyword  = '두유', '초콜릿'\n",
    "df_5 = data_get_90day(category_group, category_keyword)"
   ]
  },
  {
   "cell_type": "code",
   "execution_count": 103,
   "metadata": {},
   "outputs": [],
   "source": [
    "category_group, category_keyword  = '두유', '[ 식이섬유 ]'\n",
    "df_6 = data_get_90day(category_group, category_keyword)"
   ]
  },
  {
   "cell_type": "code",
   "execution_count": 117,
   "metadata": {},
   "outputs": [],
   "source": [
    "category_group, category_keyword  = '오트', '언스위트'\n",
    "df_7 = data_get_90day(category_group, category_keyword)"
   ]
  },
  {
   "cell_type": "code",
   "execution_count": 116,
   "metadata": {},
   "outputs": [],
   "source": [
    "category_group, category_keyword  = '오트', '바리스타'\n",
    "df_8 = data_get_90day(category_group, category_keyword)"
   ]
  },
  {
   "cell_type": "code",
   "execution_count": null,
   "metadata": {},
   "outputs": [],
   "source": []
  },
  {
   "cell_type": "code",
   "execution_count": null,
   "metadata": {},
   "outputs": [],
   "source": []
  },
  {
   "cell_type": "code",
   "execution_count": null,
   "metadata": {},
   "outputs": [],
   "source": []
  },
  {
   "cell_type": "code",
   "execution_count": null,
   "metadata": {},
   "outputs": [],
   "source": []
  },
  {
   "cell_type": "code",
   "execution_count": 118,
   "metadata": {},
   "outputs": [],
   "source": [
    "df = pd.concat([df_1, df_2, df_3, df_4, df_5, df_6, df_7, df_8], ignore_index=True)"
   ]
  },
  {
   "cell_type": "code",
   "execution_count": 143,
   "metadata": {},
   "outputs": [],
   "source": [
    "df = df.replace('매일두유: 선택3. 매일두유 초콜릿 190ml 24팩', '멸균 매일두유 [ 99.89 ] [ 190ml ]')\n",
    "df = df.replace('매일두유: 선택4. 매일두유 검은콩 190ml 24팩', '멸균 매일두유 [ 검은콩 ] [ 190ml ]')\n",
    "df = df.replace('매일유업 매일두유 식이섬유 저당 190ml x 24팩', '멸균 매일두유 [ 식이섬유 저당 ] [ 190ml ]')\n",
    "df = df.replace('어메이징 오트 오리지널 190ml 24팩', '어메이징 오트 [ 오리지널 ] [ 190ml ]')\n",
    "df = df.replace('어메이징 오트 오리지널 190ml 48팩', '어메이징 오트 [ 오리지널 ] [ 190ml ]')\n",
    "df = df.replace('선택: 어메이징 오트 오리지널', '어메이징 오트 [ 오리지널 ] [ 190ml ]')\n",
    "df = df.replace('뼈로가는 칼슘두유: 검은콩 190ml 24팩', '멸균 매일두유 [ 고칼슘 검은콩 ] [ 190ml ]')\n",
    "df = df.replace('멸균 매일두유 [ 99.89 ] [ 950ml ] ,멸균 매일두유 [ 99.9 ] [ new ] [ 950ml ] ', '멸균 매일두유 [ 99.89 ] [ 950ml ]')\n",
    "df = df.replace('멸균 매일두유 [ 99.89 ] [ 950ml ] ', '멸균 매일두유 [ 99.89 ] [ 950ml ]')\n",
    "\n",
    "df = df.replace('[매일유업] 어메이징오트 바리스타 950ml x 3팩', '어메이징 오트 [ 바리스타 ] [ 950ml ]')\n",
    "df = df.replace('매일유업 어메이징 오트 바리스타 950ml 3팩', '어메이징 오트 [ 바리스타 ] [ 950ml ]')\n",
    "\n",
    "df = df.replace('어메이징 오트 언스위트 190ml 48팩', '어메이징 오트 [ 언스위트 ] [ 190ml ]')"
   ]
  },
  {
   "cell_type": "code",
   "execution_count": 144,
   "metadata": {},
   "outputs": [],
   "source": [
    "\n",
    "df.loc[df['PRODUCT'] =='어메이징 오트 [ 바리스타 ] [ 950ml ]', 'PRODUCT_GUBUN'] = '어메이징오트 바리스타'\n",
    "df.loc[df['PRODUCT'] =='어메이징 오트 [ 오리지널 ] [ 190ml ]', 'PRODUCT_GUBUN'] = '어메이징오트 오리지널'\n",
    "df.loc[df['PRODUCT'] =='어메이징 오트 [ 언스위트 ] [ 190ml ]', 'PRODUCT_GUBUN'] = '어메이징오트 언스위트'\n",
    "df.loc[df['PRODUCT'] =='멸균 매일두유 [ 99.89 ] [ 190ml ]',    'PRODUCT_GUBUN'] = '두유 오리지널'\n",
    "df.loc[df['PRODUCT'] =='멸균 매일두유 [ 99.89 ] [ 950ml ]',    'PRODUCT_GUBUN'] = '두유 오리지널'\n",
    "df.loc[df['PRODUCT'] =='멸균 매일두유 [ 검은콩 ] [ 190ml ]',   'PRODUCT_GUBUN'] = '두유 검은콩'\n",
    "df.loc[df['PRODUCT'] =='멸균 매일두유 [ 고칼슘 검은콩 ] [ 190ml ]','PRODUCT_GUBUN'] = '두유 고칼슘 검은콩'\n",
    "df.loc[df['PRODUCT'] =='멸균 매일두유 [ 식이섬유 ] [ 190ml ]', 'PRODUCT_GUBUN'] = '두유 식이섬유'\n",
    "df.loc[df['PRODUCT'] =='멸균 매일두유 [ 식이섬유 저당 ] [ 190ml ]','PRODUCT_GUBUN'] = '두유 식이섬유저당'\n",
    "df.loc[df['PRODUCT'] =='멸균 매일두유 [ 초콜릿 ] [ 190ml ]',    'PRODUCT_GUBUN'] = '두유 초콜릿'\n",
    "\n"
   ]
  },
  {
   "cell_type": "code",
   "execution_count": 148,
   "metadata": {},
   "outputs": [],
   "source": [
    "df = df.dropna()"
   ]
  },
  {
   "cell_type": "code",
   "execution_count": 153,
   "metadata": {},
   "outputs": [
    {
     "data": {
      "text/html": [
       "<div>\n",
       "<style scoped>\n",
       "    .dataframe tbody tr th:only-of-type {\n",
       "        vertical-align: middle;\n",
       "    }\n",
       "\n",
       "    .dataframe tbody tr th {\n",
       "        vertical-align: top;\n",
       "    }\n",
       "\n",
       "    .dataframe thead th {\n",
       "        text-align: right;\n",
       "    }\n",
       "</style>\n",
       "<table border=\"1\" class=\"dataframe\">\n",
       "  <thead>\n",
       "    <tr style=\"text-align: right;\">\n",
       "      <th></th>\n",
       "      <th>PRODUCT</th>\n",
       "      <th>PRODUCT_GUBUN</th>\n",
       "    </tr>\n",
       "  </thead>\n",
       "  <tbody>\n",
       "    <tr>\n",
       "      <th>0</th>\n",
       "      <td>어메이징 오트 [ 오리지널 ] [ 190ml ]</td>\n",
       "      <td>9427</td>\n",
       "    </tr>\n",
       "    <tr>\n",
       "      <th>1</th>\n",
       "      <td>멸균 매일두유 [ 99.89 ] [ 190ml ]</td>\n",
       "      <td>5950</td>\n",
       "    </tr>\n",
       "    <tr>\n",
       "      <th>2</th>\n",
       "      <td>멸균 매일두유 [ 검은콩 ] [ 190ml ]</td>\n",
       "      <td>3484</td>\n",
       "    </tr>\n",
       "    <tr>\n",
       "      <th>3</th>\n",
       "      <td>어메이징 오트 [ 바리스타 ] [ 950ml ]</td>\n",
       "      <td>3387</td>\n",
       "    </tr>\n",
       "    <tr>\n",
       "      <th>4</th>\n",
       "      <td>어메이징 오트 [ 언스위트 ] [ 190ml ]</td>\n",
       "      <td>2625</td>\n",
       "    </tr>\n",
       "    <tr>\n",
       "      <th>5</th>\n",
       "      <td>멸균 매일두유 [ 식이섬유 저당 ] [ 190ml ]</td>\n",
       "      <td>2523</td>\n",
       "    </tr>\n",
       "    <tr>\n",
       "      <th>6</th>\n",
       "      <td>멸균 매일두유 [ 식이섬유 ] [ 190ml ]</td>\n",
       "      <td>1172</td>\n",
       "    </tr>\n",
       "    <tr>\n",
       "      <th>7</th>\n",
       "      <td>멸균 매일두유 [ 초콜릿 ] [ 190ml ]</td>\n",
       "      <td>582</td>\n",
       "    </tr>\n",
       "    <tr>\n",
       "      <th>8</th>\n",
       "      <td>멸균 매일두유 [ 99.89 ] [ 950ml ]</td>\n",
       "      <td>335</td>\n",
       "    </tr>\n",
       "    <tr>\n",
       "      <th>9</th>\n",
       "      <td>멸균 매일두유 [ 고칼슘 검은콩 ] [ 190ml ]</td>\n",
       "      <td>197</td>\n",
       "    </tr>\n",
       "  </tbody>\n",
       "</table>\n",
       "</div>"
      ],
      "text/plain": [
       "                         PRODUCT  PRODUCT_GUBUN\n",
       "0     어메이징 오트 [ 오리지널 ] [ 190ml ]           9427\n",
       "1    멸균 매일두유 [ 99.89 ] [ 190ml ]           5950\n",
       "2      멸균 매일두유 [ 검은콩 ] [ 190ml ]           3484\n",
       "3     어메이징 오트 [ 바리스타 ] [ 950ml ]           3387\n",
       "4     어메이징 오트 [ 언스위트 ] [ 190ml ]           2625\n",
       "5  멸균 매일두유 [ 식이섬유 저당 ] [ 190ml ]           2523\n",
       "6     멸균 매일두유 [ 식이섬유 ] [ 190ml ]           1172\n",
       "7      멸균 매일두유 [ 초콜릿 ] [ 190ml ]            582\n",
       "8    멸균 매일두유 [ 99.89 ] [ 950ml ]            335\n",
       "9  멸균 매일두유 [ 고칼슘 검은콩 ] [ 190ml ]            197"
      ]
     },
     "execution_count": 153,
     "metadata": {},
     "output_type": "execute_result"
    }
   ],
   "source": [
    "pd.DataFrame(df.groupby('PRODUCT')['PRODUCT_GUBUN'].count().sort_values(ascending = False)).reset_index()"
   ]
  },
  {
   "cell_type": "code",
   "execution_count": 157,
   "metadata": {},
   "outputs": [
    {
     "data": {
      "text/html": [
       "<div>\n",
       "<style scoped>\n",
       "    .dataframe tbody tr th:only-of-type {\n",
       "        vertical-align: middle;\n",
       "    }\n",
       "\n",
       "    .dataframe tbody tr th {\n",
       "        vertical-align: top;\n",
       "    }\n",
       "\n",
       "    .dataframe thead th {\n",
       "        text-align: right;\n",
       "    }\n",
       "</style>\n",
       "<table border=\"1\" class=\"dataframe\">\n",
       "  <thead>\n",
       "    <tr style=\"text-align: right;\">\n",
       "      <th></th>\n",
       "      <th>USER</th>\n",
       "      <th>REG_DTM</th>\n",
       "      <th>REG_DT</th>\n",
       "      <th>REG_WEEK</th>\n",
       "      <th>CHANNEL</th>\n",
       "      <th>PRODUCT</th>\n",
       "      <th>REVIEW</th>\n",
       "      <th>SCORE</th>\n",
       "      <th>lenght</th>\n",
       "      <th>PRODUCT_GUBUN</th>\n",
       "    </tr>\n",
       "  </thead>\n",
       "  <tbody>\n",
       "    <tr>\n",
       "      <th>18612</th>\n",
       "      <td>625e7658672b281c884e69ea</td>\n",
       "      <td>2022-04-19</td>\n",
       "      <td>2022-04</td>\n",
       "      <td>2022Y-16W</td>\n",
       "      <td>카카오 선물하기</td>\n",
       "      <td>멸균 매일두유 [ 검은콩 ] [ 190ml ]</td>\n",
       "      <td>맛있어요 담백하고 고소하고 달지않아 좋네요~단백질 함유량도 꽤 되니 더 ㅈᆢㅎ아요</td>\n",
       "      <td>5.0</td>\n",
       "      <td>45</td>\n",
       "      <td>두유 검은콩</td>\n",
       "    </tr>\n",
       "    <tr>\n",
       "      <th>18613</th>\n",
       "      <td>624fc56122618f58eada2ba2</td>\n",
       "      <td>2022-04-08</td>\n",
       "      <td>2022-04</td>\n",
       "      <td>2022Y-14W</td>\n",
       "      <td>카카오 선물하기</td>\n",
       "      <td>멸균 매일두유 [ 검은콩 ] [ 190ml ]</td>\n",
       "      <td>빠른배송감사합니다~~~~~</td>\n",
       "      <td>5.0</td>\n",
       "      <td>14</td>\n",
       "      <td>두유 검은콩</td>\n",
       "    </tr>\n",
       "    <tr>\n",
       "      <th>18614</th>\n",
       "      <td>624c1eba09769135bdd31cd3</td>\n",
       "      <td>2022-04-05</td>\n",
       "      <td>2022-04</td>\n",
       "      <td>2022Y-14W</td>\n",
       "      <td>카카오 선물하기</td>\n",
       "      <td>멸균 매일두유 [ 검은콩 ] [ 190ml ]</td>\n",
       "      <td>건강을 생각해주는 따뜻한 마음까지 기분 좋네요</td>\n",
       "      <td>5.0</td>\n",
       "      <td>25</td>\n",
       "      <td>두유 검은콩</td>\n",
       "    </tr>\n",
       "    <tr>\n",
       "      <th>18620</th>\n",
       "      <td>wogu*******</td>\n",
       "      <td>2022-06-08</td>\n",
       "      <td>2022-06</td>\n",
       "      <td>2022Y-23W</td>\n",
       "      <td>3 네이버</td>\n",
       "      <td>멸균 매일두유 [ 검은콩 ] [ 190ml ]</td>\n",
       "      <td>항상배송빠르고 믿고 주문합니다</td>\n",
       "      <td>5.0</td>\n",
       "      <td>16</td>\n",
       "      <td>두유 검은콩</td>\n",
       "    </tr>\n",
       "    <tr>\n",
       "      <th>18621</th>\n",
       "      <td>wooj*****</td>\n",
       "      <td>2022-06-08</td>\n",
       "      <td>2022-06</td>\n",
       "      <td>2022Y-23W</td>\n",
       "      <td>3 네이버</td>\n",
       "      <td>멸균 매일두유 [ 검은콩 ] [ 190ml ]</td>\n",
       "      <td>만족해요 달지않고 맛있어요 !</td>\n",
       "      <td>5.0</td>\n",
       "      <td>16</td>\n",
       "      <td>두유 검은콩</td>\n",
       "    </tr>\n",
       "    <tr>\n",
       "      <th>18622</th>\n",
       "      <td>xxmi****</td>\n",
       "      <td>2022-06-08</td>\n",
       "      <td>2022-06</td>\n",
       "      <td>2022Y-23W</td>\n",
       "      <td>3 네이버</td>\n",
       "      <td>멸균 매일두유 [ 검은콩 ] [ 190ml ]</td>\n",
       "      <td>좋아요 만족합니다 굿굿</td>\n",
       "      <td>5.0</td>\n",
       "      <td>12</td>\n",
       "      <td>두유 검은콩</td>\n",
       "    </tr>\n",
       "    <tr>\n",
       "      <th>18623</th>\n",
       "      <td>yam7***</td>\n",
       "      <td>2022-06-08</td>\n",
       "      <td>2022-06</td>\n",
       "      <td>2022Y-23W</td>\n",
       "      <td>3 네이버</td>\n",
       "      <td>멸균 매일두유 [ 검은콩 ] [ 190ml ]</td>\n",
       "      <td>아몬드부터 99.9까지 종류별로 다 마시고 있어요. 텁텁하거나 비리지 않아요. 건강...</td>\n",
       "      <td>5.0</td>\n",
       "      <td>66</td>\n",
       "      <td>두유 검은콩</td>\n",
       "    </tr>\n",
       "    <tr>\n",
       "      <th>18624</th>\n",
       "      <td>yuna****</td>\n",
       "      <td>2022-06-08</td>\n",
       "      <td>2022-06</td>\n",
       "      <td>2022Y-23W</td>\n",
       "      <td>3 네이버</td>\n",
       "      <td>멸균 매일두유 [ 검은콩 ] [ 190ml ]</td>\n",
       "      <td>배송빨랐구용 포장상태 훌륭합니다.  매일흰우유만 시켜먹다가 검은콩두유 첨시켜보는데 ...</td>\n",
       "      <td>5.0</td>\n",
       "      <td>64</td>\n",
       "      <td>두유 검은콩</td>\n",
       "    </tr>\n",
       "    <tr>\n",
       "      <th>18625</th>\n",
       "      <td>soob*****</td>\n",
       "      <td>2022-06-08</td>\n",
       "      <td>2022-06</td>\n",
       "      <td>2022Y-23W</td>\n",
       "      <td>3 네이버</td>\n",
       "      <td>멸균 매일두유 [ 검은콩 ] [ 190ml ]</td>\n",
       "      <td>매일! 매일! 매일! 매일! 매일!</td>\n",
       "      <td>5.0</td>\n",
       "      <td>19</td>\n",
       "      <td>두유 검은콩</td>\n",
       "    </tr>\n",
       "    <tr>\n",
       "      <th>18626</th>\n",
       "      <td>tcr0****</td>\n",
       "      <td>2022-06-08</td>\n",
       "      <td>2022-06</td>\n",
       "      <td>2022Y-23W</td>\n",
       "      <td>3 네이버</td>\n",
       "      <td>멸균 매일두유 [ 검은콩 ] [ 190ml ]</td>\n",
       "      <td>좀덜달지만 맛있어요!</td>\n",
       "      <td>5.0</td>\n",
       "      <td>11</td>\n",
       "      <td>두유 검은콩</td>\n",
       "    </tr>\n",
       "  </tbody>\n",
       "</table>\n",
       "</div>"
      ],
      "text/plain": [
       "                           USER    REG_DTM   REG_DT   REG_WEEK   CHANNEL  \\\n",
       "18612  625e7658672b281c884e69ea 2022-04-19  2022-04  2022Y-16W  카카오 선물하기   \n",
       "18613  624fc56122618f58eada2ba2 2022-04-08  2022-04  2022Y-14W  카카오 선물하기   \n",
       "18614  624c1eba09769135bdd31cd3 2022-04-05  2022-04  2022Y-14W  카카오 선물하기   \n",
       "18620               wogu******* 2022-06-08  2022-06  2022Y-23W     3 네이버   \n",
       "18621                 wooj***** 2022-06-08  2022-06  2022Y-23W     3 네이버   \n",
       "18622                  xxmi**** 2022-06-08  2022-06  2022Y-23W     3 네이버   \n",
       "18623                   yam7*** 2022-06-08  2022-06  2022Y-23W     3 네이버   \n",
       "18624                  yuna**** 2022-06-08  2022-06  2022Y-23W     3 네이버   \n",
       "18625                 soob***** 2022-06-08  2022-06  2022Y-23W     3 네이버   \n",
       "18626                  tcr0**** 2022-06-08  2022-06  2022Y-23W     3 네이버   \n",
       "\n",
       "                         PRODUCT  \\\n",
       "18612  멸균 매일두유 [ 검은콩 ] [ 190ml ]   \n",
       "18613  멸균 매일두유 [ 검은콩 ] [ 190ml ]   \n",
       "18614  멸균 매일두유 [ 검은콩 ] [ 190ml ]   \n",
       "18620  멸균 매일두유 [ 검은콩 ] [ 190ml ]   \n",
       "18621  멸균 매일두유 [ 검은콩 ] [ 190ml ]   \n",
       "18622  멸균 매일두유 [ 검은콩 ] [ 190ml ]   \n",
       "18623  멸균 매일두유 [ 검은콩 ] [ 190ml ]   \n",
       "18624  멸균 매일두유 [ 검은콩 ] [ 190ml ]   \n",
       "18625  멸균 매일두유 [ 검은콩 ] [ 190ml ]   \n",
       "18626  멸균 매일두유 [ 검은콩 ] [ 190ml ]   \n",
       "\n",
       "                                                  REVIEW  SCORE  lenght  \\\n",
       "18612      맛있어요 담백하고 고소하고 달지않아 좋네요~단백질 함유량도 꽤 되니 더 ㅈᆢㅎ아요    5.0      45   \n",
       "18613                                     빠른배송감사합니다~~~~~    5.0      14   \n",
       "18614                          건강을 생각해주는 따뜻한 마음까지 기분 좋네요    5.0      25   \n",
       "18620                                   항상배송빠르고 믿고 주문합니다    5.0      16   \n",
       "18621                                   만족해요 달지않고 맛있어요 !    5.0      16   \n",
       "18622                                       좋아요 만족합니다 굿굿    5.0      12   \n",
       "18623  아몬드부터 99.9까지 종류별로 다 마시고 있어요. 텁텁하거나 비리지 않아요. 건강...    5.0      66   \n",
       "18624  배송빨랐구용 포장상태 훌륭합니다.  매일흰우유만 시켜먹다가 검은콩두유 첨시켜보는데 ...    5.0      64   \n",
       "18625                                매일! 매일! 매일! 매일! 매일!    5.0      19   \n",
       "18626                                        좀덜달지만 맛있어요!    5.0      11   \n",
       "\n",
       "      PRODUCT_GUBUN  \n",
       "18612        두유 검은콩  \n",
       "18613        두유 검은콩  \n",
       "18614        두유 검은콩  \n",
       "18620        두유 검은콩  \n",
       "18621        두유 검은콩  \n",
       "18622        두유 검은콩  \n",
       "18623        두유 검은콩  \n",
       "18624        두유 검은콩  \n",
       "18625        두유 검은콩  \n",
       "18626        두유 검은콩  "
      ]
     },
     "execution_count": 157,
     "metadata": {},
     "output_type": "execute_result"
    }
   ],
   "source": [
    "df[df['PRODUCT']=='멸균 매일두유 [ 검은콩 ] [ 190ml ]'].head(10)"
   ]
  },
  {
   "cell_type": "code",
   "execution_count": null,
   "metadata": {},
   "outputs": [],
   "source": [
    "import text_to_token as tt\n",
    "\n",
    "df5 = tt.text_to_token(df)"
   ]
  },
  {
   "cell_type": "code",
   "execution_count": null,
   "metadata": {},
   "outputs": [],
   "source": [
    "\n",
    "def get_keyword(keyword, gubun1, gubun2 ):\n",
    "    df.loc[(df['token'].str.contains(str(keyword))), 'KEYWORD'] = keyword\n",
    "    df.loc[(df['KEYWORD'] ==keyword), 'GROUP2'] = gubun2\n",
    "    df.loc[(df['KEYWORD'] ==keyword), 'GROUP1'] = gubun1\n",
    "\n",
    "\n",
    "\n",
    "df['GROUP2'] = '(미분류)'\n",
    "df['GROUP1'] = '(미분류)'\n",
    "\n",
    "\n",
    "keyword8 = ['맛', '밍밍', '고소', '비리다', '냄새', '맛없다', '달다', \n",
    "            '단백','담백', '칼로리', '달달', '담백', '꿀', '꿀맛',\n",
    "            '취향', '고소하', '향료', '식물성', '무설탕', '고소한', '은은한', \n",
    "            '짜다', '당뇨',\n",
    "           ]\n",
    "for word in keyword8:\n",
    "    get_keyword(word, '제품', '맛(미각)')\n",
    "\n",
    "    \n",
    "keyword8 = ['맛', '밍밍', '고소', '비리다', '냄새', '맛없다', '달다', \n",
    "            '단백','담백', '칼로리', '달달', '담백', '꿀', '꿀맛',\n",
    "            '취향', '고소하', '향료', '식물성', '무설탕', '고소한', '은은한', \n",
    "            '짜다', '당뇨',\n",
    "           ]\n",
    "for word in keyword8:\n",
    "    get_keyword(word, '제품', '맛(성분)')\n",
    "\n",
    "\n",
    "keyword8 = ['향료', '비리다', '냄새',\n",
    "            '텁텁', '진하다', '풍미', '거품', '부드럽다', '걸쭉',]\n",
    "for word in keyword8:\n",
    "    get_keyword(word, '제품', '맛(촉각/후각)')\n",
    "\n"
   ]
  },
  {
   "cell_type": "code",
   "execution_count": 23,
   "metadata": {},
   "outputs": [],
   "source": [
    "# # Excel 다운로드\n",
    "# date2 = datetime.today().strftime('%Y%m%d')\n",
    "# excel_name = date2 +'_PBS_targetting_rawdata.xlsx'\n",
    "# df3.to_excel(excel_name, sheet_name= 'Sheet1' )"
   ]
  },
  {
   "cell_type": "code",
   "execution_count": null,
   "metadata": {},
   "outputs": [],
   "source": []
  },
  {
   "cell_type": "code",
   "execution_count": null,
   "metadata": {},
   "outputs": [],
   "source": []
  },
  {
   "cell_type": "code",
   "execution_count": null,
   "metadata": {},
   "outputs": [],
   "source": []
  }
 ],
 "metadata": {
  "kernelspec": {
   "display_name": "Python 3",
   "language": "python",
   "name": "python3"
  },
  "language_info": {
   "codemirror_mode": {
    "name": "ipython",
    "version": 3
   },
   "file_extension": ".py",
   "mimetype": "text/x-python",
   "name": "python",
   "nbconvert_exporter": "python",
   "pygments_lexer": "ipython3",
   "version": "3.7.6"
  }
 },
 "nbformat": 4,
 "nbformat_minor": 4
}
