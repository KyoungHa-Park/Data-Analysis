{
 "cells": [
  {
   "cell_type": "code",
   "execution_count": null,
   "metadata": {},
   "outputs": [],
   "source": []
  },
  {
   "cell_type": "code",
   "execution_count": null,
   "metadata": {},
   "outputs": [],
   "source": []
  },
  {
   "attachments": {},
   "cell_type": "markdown",
   "metadata": {},
   "source": [
    "1. 목적 : 회귀분석 모형 작성 및 해석에 대한 정기적인 연습\n",
    "2. 활용모듈/분석\n",
    "    + statsmodels\n",
    "        + [x] 다변량 회귀분석(OLS : ordinary least squares)\n",
    "        + [ ] 다변량 회귀분석(WLS : weighted least squares)\n",
    "        + [ ] 다변량 회귀분석(GLS : generalized least squares)\n",
    "        + [ ] 로지스틱 회귀분석\n",
    "        + [ ] 능형회귀분석"
   ]
  },
  {
   "cell_type": "code",
   "execution_count": null,
   "metadata": {},
   "outputs": [],
   "source": []
  },
  {
   "cell_type": "code",
   "execution_count": 2,
   "metadata": {},
   "outputs": [],
   "source": [
    "import numpy as np\n",
    "import pandas as pd\n",
    "\n",
    "import seaborn as sns\n",
    "import matplotlib.pylab as plt\n",
    "\n",
    "from sklearn import linear_model\n",
    "import statsmodels.api as sm\n"
   ]
  },
  {
   "cell_type": "code",
   "execution_count": 3,
   "metadata": {},
   "outputs": [],
   "source": [
    "df = pd.read_csv(r'C:\\Users\\khpark\\epi_r.csv')\n",
    "df = df[[ 'rating', 'calories', 'protein', 'fat', 'sodium']]\n",
    "df = df.dropna().reset_index(drop=True)\n",
    "\n",
    "y = df['rating']\n",
    "X = df[['calories', 'protein', 'fat', 'sodium']]"
   ]
  },
  {
   "cell_type": "code",
   "execution_count": null,
   "metadata": {},
   "outputs": [],
   "source": []
  },
  {
   "cell_type": "code",
   "execution_count": 1,
   "metadata": {},
   "outputs": [],
   "source": [
    "# sns.pairplot(df.sample(500), corner=True)"
   ]
  },
  {
   "cell_type": "code",
   "execution_count": null,
   "metadata": {},
   "outputs": [],
   "source": []
  },
  {
   "cell_type": "code",
   "execution_count": null,
   "metadata": {},
   "outputs": [],
   "source": []
  },
  {
   "cell_type": "code",
   "execution_count": 40,
   "metadata": {},
   "outputs": [],
   "source": [
    "reg = linear_model.LinearRegression().fit(X, y)"
   ]
  },
  {
   "cell_type": "code",
   "execution_count": 41,
   "metadata": {},
   "outputs": [
    {
     "name": "stdout",
     "output_type": "stream",
     "text": [
      "3.7601965331497653 [ 0.00000000e+00 -1.51476218e-06  9.15286928e-06  1.33595140e-05\n",
      "  7.71162312e-07] 0.00022213584473107506\n"
     ]
    }
   ],
   "source": [
    "#display regression coefficients and R-squared value of model\n",
    "print(reg.intercept_, reg.coef_, reg.score(X, y))"
   ]
  },
  {
   "cell_type": "code",
   "execution_count": null,
   "metadata": {},
   "outputs": [],
   "source": []
  },
  {
   "cell_type": "code",
   "execution_count": 37,
   "metadata": {},
   "outputs": [],
   "source": [
    "X = sm.add_constant(X)\n",
    "mod = sm.OLS(y, X).fit()"
   ]
  },
  {
   "cell_type": "code",
   "execution_count": 39,
   "metadata": {},
   "outputs": [
    {
     "name": "stdout",
     "output_type": "stream",
     "text": [
      "                            OLS Regression Results                            \n",
      "==============================================================================\n",
      "Dep. Variable:                 rating   R-squared:                       0.000\n",
      "Model:                            OLS   Adj. R-squared:                 -0.000\n",
      "Method:                 Least Squares   F-statistic:                    0.8809\n",
      "Date:                Wed, 05 Jul 2023   Prob (F-statistic):              0.474\n",
      "Time:                        11:57:10   Log-Likelihood:                -26492.\n",
      "No. Observations:               15864   AIC:                         5.299e+04\n",
      "Df Residuals:                   15859   BIC:                         5.303e+04\n",
      "Df Model:                           4                                         \n",
      "Covariance Type:            nonrobust                                         \n",
      "==============================================================================\n",
      "                 coef    std err          t      P>|t|      [0.025      0.975]\n",
      "------------------------------------------------------------------------------\n",
      "const          3.7602      0.010    367.527      0.000       3.740       3.780\n",
      "calories   -1.515e-06   3.68e-06     -0.411      0.681   -8.73e-06    5.71e-06\n",
      "protein     9.153e-06   9.27e-06      0.987      0.324   -9.02e-06    2.73e-05\n",
      "fat         1.336e-05   3.46e-05      0.387      0.699   -5.44e-05    8.11e-05\n",
      "sodium      7.712e-07   1.81e-06      0.425      0.671   -2.79e-06    4.33e-06\n",
      "==============================================================================\n",
      "Omnibus:                     5872.810   Durbin-Watson:                   2.013\n",
      "Prob(Omnibus):                  0.000   Jarque-Bera (JB):            17594.343\n",
      "Skew:                          -1.989   Prob(JB):                         0.00\n",
      "Kurtosis:                       6.286   Cond. No.                     4.92e+05\n",
      "==============================================================================\n",
      "\n",
      "Notes:\n",
      "[1] Standard Errors assume that the covariance matrix of the errors is correctly specified.\n",
      "[2] The condition number is large, 4.92e+05. This might indicate that there are\n",
      "strong multicollinearity or other numerical problems.\n"
     ]
    }
   ],
   "source": [
    "print(mod.summary())"
   ]
  },
  {
   "cell_type": "code",
   "execution_count": null,
   "metadata": {},
   "outputs": [],
   "source": []
  },
  {
   "cell_type": "code",
   "execution_count": 26,
   "metadata": {},
   "outputs": [],
   "source": [
    "from tensorflow.keras.layers import Input, Dense\n",
    "from tensorflow.keras.models import Model\n",
    "from tensorflow.keras import optimizers\n",
    "\n",
    "inputs = Input(shape=(4,))\n",
    "output = Dense(1, activation='sigmoid')(inputs)\n",
    "linear_model = Model(inputs, output)\n",
    "\n",
    "sgd = optimizers.SGD(learning_rate=0.01)\n",
    "linear_model.compile(optimizer=sgd, loss='mse', metrics=['mse'])\n"
   ]
  },
  {
   "cell_type": "code",
   "execution_count": 35,
   "metadata": {},
   "outputs": [
    {
     "name": "stdout",
     "output_type": "stream",
     "text": [
      "Epoch 1/3\n",
      "496/496 [==============================] - 1s 2ms/step - loss: 9.2759 - mse: 9.2759\n",
      "Epoch 2/3\n",
      "496/496 [==============================] - 1s 2ms/step - loss: 9.2759 - mse: 9.2759\n",
      "Epoch 3/3\n",
      "496/496 [==============================] - 1s 2ms/step - loss: 9.2759 - mse: 9.2759\n",
      "CPU times: total: 4.2 s\n",
      "Wall time: 3.32 s\n"
     ]
    }
   ],
   "source": [
    "%%time\n",
    "history1 = linear_model.fit(X, y, epochs=3)"
   ]
  },
  {
   "cell_type": "code",
   "execution_count": 28,
   "metadata": {},
   "outputs": [],
   "source": [
    "import tensorflow as tf\n",
    "class LinearRegression(tf.keras.Model):\n",
    "  def __init__(self):\n",
    "    super(LinearRegression, self).__init__()\n",
    "    self.linear_layer = tf.keras.layers.Dense(1, input_dim=4, activation='linear')\n",
    "\n",
    "  def call(self, x):\n",
    "    y_pred = self.linear_layer(x)\n",
    "    return y_pred\n",
    "\n",
    "model = LinearRegression()\n",
    "\n",
    "sgd = optimizers.SGD(learning_rate=0.01)\n",
    "model.compile(optimizer=sgd, loss='mse', metrics=['mse'])"
   ]
  },
  {
   "cell_type": "code",
   "execution_count": 36,
   "metadata": {},
   "outputs": [
    {
     "name": "stdout",
     "output_type": "stream",
     "text": [
      "Epoch 1/3\n",
      "  1/496 [..............................] - ETA: 4s - loss: nan - mse: nan"
     ]
    },
    {
     "name": "stdout",
     "output_type": "stream",
     "text": [
      "496/496 [==============================] - 1s 3ms/step - loss: nan - mse: nan\n",
      "Epoch 2/3\n",
      "496/496 [==============================] - 1s 3ms/step - loss: nan - mse: nan\n",
      "Epoch 3/3\n",
      "496/496 [==============================] - 1s 2ms/step - loss: nan - mse: nan\n",
      "CPU times: total: 4.61 s\n",
      "Wall time: 3.95 s\n"
     ]
    }
   ],
   "source": [
    "%%time\n",
    "history2 = model.fit(X, y, epochs=3)"
   ]
  },
  {
   "cell_type": "code",
   "execution_count": null,
   "metadata": {},
   "outputs": [],
   "source": []
  },
  {
   "cell_type": "code",
   "execution_count": null,
   "metadata": {},
   "outputs": [],
   "source": []
  },
  {
   "cell_type": "code",
   "execution_count": null,
   "metadata": {},
   "outputs": [],
   "source": []
  }
 ],
 "metadata": {
  "kernelspec": {
   "display_name": "Python 3",
   "language": "python",
   "name": "python3"
  },
  "language_info": {
   "codemirror_mode": {
    "name": "ipython",
    "version": 3
   },
   "file_extension": ".py",
   "mimetype": "text/x-python",
   "name": "python",
   "nbconvert_exporter": "python",
   "pygments_lexer": "ipython3",
   "version": "3.11.4"
  },
  "orig_nbformat": 4
 },
 "nbformat": 4,
 "nbformat_minor": 2
}
