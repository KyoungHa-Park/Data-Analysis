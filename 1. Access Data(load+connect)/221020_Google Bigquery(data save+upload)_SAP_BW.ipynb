{
 "cells": [
  {
   "cell_type": "code",
   "execution_count": null,
   "metadata": {},
   "outputs": [],
   "source": []
  },
  {
   "attachments": {},
   "cell_type": "markdown",
   "metadata": {},
   "source": [
    "+ 1.BigQuery에 테이블 생성\n",
    "+ 2.Excel 자료(DataFrame) 불러오기\n",
    "+ 3.BigQuery에 Excel자료(DataFrame) 저장하기"
   ]
  },
  {
   "cell_type": "code",
   "execution_count": 3,
   "metadata": {},
   "outputs": [],
   "source": [
    "import os\n",
    "from google.cloud import bigquery\n",
    "\n",
    "import pandas as pd\n",
    "from datetime import datetime, timedelta\n",
    "import numpy as np\n",
    "from tqdm import trange\n",
    "\n",
    "os.environ[\"GOOGLE_APPLICATION_CREDENTIALS\"]=\"./boxwood-**************.json\"\n",
    "\n",
    "client = bigquery.Client()\n"
   ]
  },
  {
   "cell_type": "code",
   "execution_count": null,
   "metadata": {},
   "outputs": [],
   "source": []
  },
  {
   "cell_type": "code",
   "execution_count": null,
   "metadata": {},
   "outputs": [],
   "source": []
  },
  {
   "attachments": {},
   "cell_type": "markdown",
   "metadata": {},
   "source": [
    "### 1.BigQuery에 테이블 생성"
   ]
  },
  {
   "cell_type": "code",
   "execution_count": 1,
   "metadata": {},
   "outputs": [],
   "source": []
  },
  {
   "cell_type": "code",
   "execution_count": 5,
   "metadata": {},
   "outputs": [
    {
     "name": "stdout",
     "output_type": "stream",
     "text": [
      "Created table boxwood-chassis-356100.SAP_BW.ZPB_PP_Q001\n"
     ]
    }
   ],
   "source": [
    "# 1.생산현황\n",
    "project_name = 'boxwood-**************'\n",
    "dataset_name = 'SAP_BW'\n",
    "table_name = 'ZPB_PP_Q001'\n",
    "\n",
    "table_id = project_name + '.' + dataset_name + '.' + table_name\n",
    "\n",
    "schema = [\n",
    "    bigquery.SchemaField(\"EIS_1LV\",         \"STRING\",   mode=\"REQUIRED\"),\n",
    "    bigquery.SchemaField(\"EIS_2LV\",         \"STRING\",   mode=\"REQUIRED\"),\n",
    "    bigquery.SchemaField(\"EIS_3LV\",         \"STRING\",   mode=\"REQUIRED\"),\n",
    "    bigquery.SchemaField(\"SKU_CODE\",        \"STRING\",   mode=\"REQUIRED\"),\n",
    "    bigquery.SchemaField(\"SKU_NAME\",        \"STRING\",   mode=\"REQUIRED\"),\n",
    "    bigquery.SchemaField(\"DATE\",            \"TIMESTAMP\",mode=\"REQUIRED\"),\n",
    "    bigquery.SchemaField(\"PLANT_CODE\",      \"STRING\",   mode=\"REQUIRED\"),\n",
    "    bigquery.SchemaField(\"PLANT_NAME\",      \"STRING\",   mode=\"REQUIRED\"),\n",
    "    bigquery.SchemaField(\"PRODUCE_CNT_PALN\",\"FLOAT\",    mode=\"REQUIRED\"),\n",
    "    bigquery.SchemaField(\"PRODUCE_VOL_PALN\",\"FLOAT\",    mode=\"REQUIRED\"),\n",
    "    bigquery.SchemaField(\"PRODUCE_CNT\",     \"FLOAT\",    mode=\"REQUIRED\"),\n",
    "    bigquery.SchemaField(\"PRODUCE_VOL\",     \"FLOAT\",    mode=\"REQUIRED\"),\n",
    "]\n",
    "\n",
    "table = bigquery.Table(table_id, schema=schema)\n",
    "table = client.create_table(table)  # API request\n",
    "print(\n",
    "    \"Created table {}.{}.{}\".format(table.project, table.dataset_id, table.table_id)\n",
    ")"
   ]
  },
  {
   "cell_type": "code",
   "execution_count": null,
   "metadata": {},
   "outputs": [],
   "source": []
  },
  {
   "cell_type": "code",
   "execution_count": null,
   "metadata": {},
   "outputs": [],
   "source": []
  },
  {
   "cell_type": "code",
   "execution_count": null,
   "metadata": {},
   "outputs": [],
   "source": []
  },
  {
   "cell_type": "code",
   "execution_count": null,
   "metadata": {},
   "outputs": [],
   "source": [
    "# 3.일별 수주현황(계획대비실적)\n",
    "project_name = 'boxwood-**************'\n",
    "dataset_name = 'SAP_BW'\n",
    "table_name = 'ZPB_SD_Q013'\n",
    "\n",
    "table_id = project_name + '.' + dataset_name + '.' + table_name\n",
    "\n",
    "schema = [\n",
    "    bigquery.SchemaField(\"EIS_1LV\",         \"STRING\",   mode=\"REQUIRED\"),\n",
    "    bigquery.SchemaField(\"EIS_2LV\",         \"STRING\",   mode=\"REQUIRED\"),\n",
    "    bigquery.SchemaField(\"EIS_3LV\",         \"STRING\",   mode=\"REQUIRED\"),\n",
    "    bigquery.SchemaField(\"SKU_CODE\",        \"STRING\",   mode=\"REQUIRED\"),\n",
    "    bigquery.SchemaField(\"SKU_NAME\",        \"STRING\",   mode=\"REQUIRED\"),\n",
    "    bigquery.SchemaField(\"TEAM_3LV\",        \"STRING\",   mode=\"REQUIRED\"),\n",
    "    bigquery.SchemaField(\"TEAM_NAME\",       \"STRING\",   mode=\"REQUIRED\"),\n",
    "    bigquery.SchemaField(\"DATE\",            \"TIMESTAMP\",mode=\"REQUIRED\"),\n",
    "    bigquery.SchemaField(\"SELLER_1LV\",      \"STRING\",   mode=\"REQUIRED\"),\n",
    "    bigquery.SchemaField(\"SELLER_3LV\",      \"STRING\",   mode=\"REQUIRED\"),\n",
    "    bigquery.SchemaField(\"ORDER_CNT_PLAN\",  \"FLOAT\",    mode=\"REQUIRED\"),\n",
    "    bigquery.SchemaField(\"ORDER_CNT\",       \"FLOAT\",    mode=\"REQUIRED\"),\n",
    "    bigquery.SchemaField(\"ORDER_VOL_PLAN\",  \"FLOAT\",    mode=\"REQUIRED\"),\n",
    "    bigquery.SchemaField(\"ORDER_VOL\",       \"FLOAT\",    mode=\"REQUIRED\"),\n",
    "    bigquery.SchemaField(\"ORDER_AMT_PLAN\",  \"FLOAT\",    mode=\"REQUIRED\"),\n",
    "    bigquery.SchemaField(\"ORDER_AMT\",       \"FLOAT\",    mode=\"REQUIRED\"),\n",
    "]\n",
    "\n",
    "table = bigquery.Table(table_id, schema=schema)\n",
    "table = client.create_table(table)  # API request\n",
    "print(\n",
    "    \"Created table {}.{}.{}\".format(table.project, table.dataset_id, table.table_id)\n",
    ")"
   ]
  },
  {
   "cell_type": "code",
   "execution_count": null,
   "metadata": {},
   "outputs": [],
   "source": []
  },
  {
   "cell_type": "code",
   "execution_count": null,
   "metadata": {},
   "outputs": [],
   "source": []
  },
  {
   "cell_type": "code",
   "execution_count": null,
   "metadata": {},
   "outputs": [],
   "source": [
    "# 3.일별 수주현황(계획대비실적)\n",
    "project_name = 'boxwood-**************'\n",
    "dataset_name = 'SAP_BW'\n",
    "table_name = 'ZPB_SD_Q013'\n",
    "\n",
    "table_id = project_name + '.' + dataset_name + '.' + table_name\n",
    "\n",
    "schema = [\n",
    "    bigquery.SchemaField(\"EIS_1LV\",         \"STRING\",   mode=\"REQUIRED\"),\n",
    "    bigquery.SchemaField(\"EIS_2LV\",         \"STRING\",   mode=\"REQUIRED\"),\n",
    "    bigquery.SchemaField(\"EIS_3LV\",         \"STRING\",   mode=\"REQUIRED\"),\n",
    "    bigquery.SchemaField(\"SKU_CODE\",        \"STRING\",   mode=\"REQUIRED\"),\n",
    "    bigquery.SchemaField(\"SKU_NAME\",        \"STRING\",   mode=\"REQUIRED\"),\n",
    "    bigquery.SchemaField(\"TEAM_3LV\",        \"STRING\",   mode=\"REQUIRED\"),\n",
    "    bigquery.SchemaField(\"TEAM_NAME\",       \"STRING\",   mode=\"REQUIRED\"),\n",
    "    bigquery.SchemaField(\"DATE\",            \"TIMESTAMP\",mode=\"REQUIRED\"),\n",
    "    bigquery.SchemaField(\"SELLER_1LV\",      \"STRING\",   mode=\"REQUIRED\"),\n",
    "    bigquery.SchemaField(\"SELLER_3LV\",      \"STRING\",   mode=\"REQUIRED\"),\n",
    "    bigquery.SchemaField(\"ORDER_CNT_PLAN\",  \"FLOAT\",    mode=\"REQUIRED\"),\n",
    "    bigquery.SchemaField(\"ORDER_CNT\",       \"FLOAT\",    mode=\"REQUIRED\"),\n",
    "    bigquery.SchemaField(\"ORDER_VOL_PLAN\",  \"FLOAT\",    mode=\"REQUIRED\"),\n",
    "    bigquery.SchemaField(\"ORDER_VOL\",       \"FLOAT\",    mode=\"REQUIRED\"),\n",
    "    bigquery.SchemaField(\"ORDER_AMT_PLAN\",  \"FLOAT\",    mode=\"REQUIRED\"),\n",
    "    bigquery.SchemaField(\"ORDER_AMT\",       \"FLOAT\",    mode=\"REQUIRED\"),\n",
    "]\n",
    "\n",
    "table = bigquery.Table(table_id, schema=schema)\n",
    "table = client.create_table(table)  # API request\n",
    "print(\n",
    "    \"Created table {}.{}.{}\".format(table.project, table.dataset_id, table.table_id)\n",
    ")"
   ]
  },
  {
   "cell_type": "code",
   "execution_count": null,
   "metadata": {},
   "outputs": [],
   "source": []
  },
  {
   "cell_type": "code",
   "execution_count": null,
   "metadata": {},
   "outputs": [],
   "source": []
  },
  {
   "cell_type": "code",
   "execution_count": null,
   "metadata": {},
   "outputs": [],
   "source": []
  },
  {
   "cell_type": "code",
   "execution_count": 4,
   "metadata": {},
   "outputs": [],
   "source": [
    "# 1.생산현황\n",
    "import pandas_gbq"
   ]
  },
  {
   "cell_type": "code",
   "execution_count": 34,
   "metadata": {},
   "outputs": [],
   "source": [
    "df_temp = pd.read_excel('./20230216_data.xlsx', sheet_name=0)"
   ]
  },
  {
   "cell_type": "code",
   "execution_count": 35,
   "metadata": {},
   "outputs": [
    {
     "name": "stdout",
     "output_type": "stream",
     "text": [
      "<class 'pandas.core.frame.DataFrame'>\n",
      "RangeIndex: 154 entries, 0 to 153\n",
      "Data columns (total 6 columns):\n",
      " #   Column       Non-Null Count  Dtype         \n",
      "---  ------       --------------  -----         \n",
      " 0   itmNm        154 non-null    object        \n",
      " 1   prdDe        154 non-null    datetime64[ns]\n",
      " 2   prdSe        154 non-null    object        \n",
      " 3   statJipyoId  154 non-null    int64         \n",
      " 4   statJipyoNm  154 non-null    object        \n",
      " 5   val          154 non-null    int64         \n",
      "dtypes: datetime64[ns](1), int64(2), object(3)\n",
      "memory usage: 7.3+ KB\n"
     ]
    }
   ],
   "source": [
    "df_temp.info()"
   ]
  },
  {
   "cell_type": "code",
   "execution_count": 27,
   "metadata": {},
   "outputs": [],
   "source": [
    "# df_temp['statJipyoId'] = df_temp['statJipyoId'].astype(object)\n",
    "# df_temp['val'] = df_temp['val'].astype(float)"
   ]
  },
  {
   "cell_type": "code",
   "execution_count": 32,
   "metadata": {},
   "outputs": [
    {
     "name": "stdout",
     "output_type": "stream",
     "text": [
      "Created table boxwood-chassis-356100.openAPI.kosis_Birthrate\n"
     ]
    }
   ],
   "source": [
    "# 3.일별 수주현황(계획대비실적)\n",
    "project_name = 'boxwood-**************'\n",
    "dataset_name = 'openAPI'\n",
    "table_name = 'kosis_Birthrate'\n",
    "\n",
    "table_id = project_name + '.' + dataset_name + '.' + table_name\n",
    "\n",
    "schema = [\n",
    "    bigquery.SchemaField(\"itmNm\",         \"STRING\",   mode=\"REQUIRED\"),\n",
    "    bigquery.SchemaField(\"prdDe\",         \"TIMESTAMP\",mode=\"REQUIRED\"),\n",
    "    bigquery.SchemaField(\"prdSe\",         \"STRING\",   mode=\"REQUIRED\"),\n",
    "    bigquery.SchemaField(\"statJipyoId\",   \"INTEGER\",  mode=\"REQUIRED\"),\n",
    "    bigquery.SchemaField(\"statJipyoNm\",   \"STRING\",   mode=\"REQUIRED\"),\n",
    "    bigquery.SchemaField(\"val\",           \"INTEGER\",  mode=\"REQUIRED\"),\n",
    "]\n",
    "\n",
    "table = bigquery.Table(table_id, schema=schema)\n",
    "table = client.create_table(table)  # API request\n",
    "print(\n",
    "    \"Created table {}.{}.{}\".format(table.project, table.dataset_id, table.table_id)\n",
    ")"
   ]
  },
  {
   "cell_type": "code",
   "execution_count": 33,
   "metadata": {},
   "outputs": [],
   "source": [
    "client = bigquery.Client()\n",
    "project = 'boxwood-**************'\n",
    "dataset_id = 'openAPI'\n",
    "table_id = 'kosis_Birthrate'\n",
    "table_name = dataset_id +'.' +table_id"
   ]
  },
  {
   "cell_type": "code",
   "execution_count": 36,
   "metadata": {},
   "outputs": [
    {
     "name": "stderr",
     "output_type": "stream",
     "text": [
      "100%|████████████████████████████████████████████████████████████████████████████████████████████| 1/1 [00:00<?, ?it/s]\n"
     ]
    }
   ],
   "source": [
    "pandas_gbq.to_gbq(df_temp, table_name, project_id=project, if_exists = 'append' )"
   ]
  },
  {
   "cell_type": "code",
   "execution_count": null,
   "metadata": {},
   "outputs": [],
   "source": []
  },
  {
   "cell_type": "code",
   "execution_count": 31,
   "metadata": {},
   "outputs": [
    {
     "name": "stdout",
     "output_type": "stream",
     "text": [
      "<class 'pandas.core.frame.DataFrame'>\n",
      "RangeIndex: 154 entries, 0 to 153\n",
      "Data columns (total 6 columns):\n",
      " #   Column       Non-Null Count  Dtype         \n",
      "---  ------       --------------  -----         \n",
      " 0   itmNm        154 non-null    object        \n",
      " 1   prdDe        154 non-null    datetime64[ns]\n",
      " 2   prdSe        154 non-null    object        \n",
      " 3   statJipyoId  154 non-null    int64         \n",
      " 4   statJipyoNm  154 non-null    object        \n",
      " 5   val          154 non-null    float64       \n",
      "dtypes: datetime64[ns](1), float64(1), int64(1), object(3)\n",
      "memory usage: 7.3+ KB\n"
     ]
    }
   ],
   "source": [
    "df_temp.info()"
   ]
  },
  {
   "cell_type": "code",
   "execution_count": null,
   "metadata": {},
   "outputs": [],
   "source": []
  }
 ],
 "metadata": {
  "kernelspec": {
   "display_name": "Python 3",
   "language": "python",
   "name": "python3"
  }
 },
 "nbformat": 4,
 "nbformat_minor": 4
}
