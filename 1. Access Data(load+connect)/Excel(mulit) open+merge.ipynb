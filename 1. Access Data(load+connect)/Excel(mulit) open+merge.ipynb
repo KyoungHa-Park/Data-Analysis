{
 "cells": [
  {
   "cell_type": "code",
   "execution_count": 1,
   "metadata": {},
   "outputs": [],
   "source": [
    "import pandas as pd\n",
    "from os import listdir\n",
    "from datetime import datetime, timedelta"
   ]
  },
  {
   "cell_type": "code",
   "execution_count": null,
   "metadata": {},
   "outputs": [],
   "source": []
  },
  {
   "cell_type": "code",
   "execution_count": 2,
   "metadata": {},
   "outputs": [
    {
     "name": "stdout",
     "output_type": "stream",
     "text": [
      "Merge 대상 파일 : 14개\n"
     ]
    }
   ],
   "source": [
    "##########\n",
    "# 자료 불러오기\n",
    "#####\n",
    "\n",
    "# 경로 설정\n",
    "directory_name = \"./rawdata_망고플레이트\"\n",
    "\n",
    "# 파일명 가져오기\n",
    "file_names = listdir(directory_name)\n",
    "\n",
    "# 불필요한 파일 삭제\n",
    "# file_names.remove('자료확보 기준.JPG')\n",
    "print('Merge 대상 파일 : {}개'.format(len(file_names)))"
   ]
  },
  {
   "cell_type": "code",
   "execution_count": null,
   "metadata": {},
   "outputs": [],
   "source": []
  },
  {
   "cell_type": "code",
   "execution_count": 4,
   "metadata": {},
   "outputs": [],
   "source": [
    "data = pd.DataFrame()\n",
    "\n",
    "# 전체 자료 불러오기 & 병합\n",
    "for open_file in file_names:\n",
    "    df_temp = pd.read_excel(directory_name +'/'+ open_file,'Sheet1')\n",
    "    data = pd.concat([data, df_temp], ignore_index=True)"
   ]
  },
  {
   "cell_type": "code",
   "execution_count": null,
   "metadata": {},
   "outputs": [],
   "source": []
  },
  {
   "cell_type": "code",
   "execution_count": 33,
   "metadata": {},
   "outputs": [
    {
     "data": {
      "text/html": [
       "<div>\n",
       "<style scoped>\n",
       "    .dataframe tbody tr th:only-of-type {\n",
       "        vertical-align: middle;\n",
       "    }\n",
       "\n",
       "    .dataframe tbody tr th {\n",
       "        vertical-align: top;\n",
       "    }\n",
       "\n",
       "    .dataframe thead th {\n",
       "        text-align: right;\n",
       "    }\n",
       "</style>\n",
       "<table border=\"1\" class=\"dataframe\">\n",
       "  <thead>\n",
       "    <tr style=\"text-align: right;\">\n",
       "      <th></th>\n",
       "      <th>Unnamed: 0</th>\n",
       "      <th>주문매장</th>\n",
       "      <th>채널</th>\n",
       "      <th>주문일자</th>\n",
       "      <th>주문자명</th>\n",
       "      <th>주문메뉴</th>\n",
       "      <th>점수</th>\n",
       "      <th>리뷰</th>\n",
       "    </tr>\n",
       "  </thead>\n",
       "  <tbody>\n",
       "    <tr>\n",
       "      <th>465</th>\n",
       "      <td>2</td>\n",
       "      <td>폴바셋 현대모터스튜디오서울점</td>\n",
       "      <td>배달의민족</td>\n",
       "      <td>작년</td>\n",
       "      <td>덤보맘</td>\n",
       "      <td>카페라떼룽고</td>\n",
       "      <td>5</td>\n",
       "      <td>폴바셋 라떼가 제일 맛있어요</td>\n",
       "    </tr>\n",
       "    <tr>\n",
       "      <th>466</th>\n",
       "      <td>3</td>\n",
       "      <td>폴바셋 현대모터스튜디오서울점</td>\n",
       "      <td>배달의민족</td>\n",
       "      <td>작년</td>\n",
       "      <td>doy.****</td>\n",
       "      <td>카페라떼</td>\n",
       "      <td>5</td>\n",
       "      <td>세심하고 완벽한 서비스에 감동합니다!! 최고에욤!!</td>\n",
       "    </tr>\n",
       "  </tbody>\n",
       "</table>\n",
       "</div>"
      ],
      "text/plain": [
       "     Unnamed: 0              주문매장     채널 주문일자      주문자명    주문메뉴  점수  \\\n",
       "465           2  폴바셋 현대모터스튜디오서울점   배달의민족   작년       덤보맘  카페라떼룽고   5   \n",
       "466           3  폴바셋 현대모터스튜디오서울점   배달의민족   작년  doy.****    카페라떼   5   \n",
       "\n",
       "                               리뷰  \n",
       "465               폴바셋 라떼가 제일 맛있어요  \n",
       "466  세심하고 완벽한 서비스에 감동합니다!! 최고에욤!!  "
      ]
     },
     "execution_count": 33,
     "metadata": {},
     "output_type": "execute_result"
    }
   ],
   "source": [
    "data.tail(2)"
   ]
  },
  {
   "cell_type": "code",
   "execution_count": null,
   "metadata": {},
   "outputs": [],
   "source": []
  },
  {
   "cell_type": "code",
   "execution_count": 34,
   "metadata": {},
   "outputs": [],
   "source": [
    "# 불필요한 column 제거\n",
    "data = data[list(data.columns)[1:]]"
   ]
  },
  {
   "cell_type": "code",
   "execution_count": 35,
   "metadata": {},
   "outputs": [
    {
     "data": {
      "text/html": [
       "<div>\n",
       "<style scoped>\n",
       "    .dataframe tbody tr th:only-of-type {\n",
       "        vertical-align: middle;\n",
       "    }\n",
       "\n",
       "    .dataframe tbody tr th {\n",
       "        vertical-align: top;\n",
       "    }\n",
       "\n",
       "    .dataframe thead th {\n",
       "        text-align: right;\n",
       "    }\n",
       "</style>\n",
       "<table border=\"1\" class=\"dataframe\">\n",
       "  <thead>\n",
       "    <tr style=\"text-align: right;\">\n",
       "      <th></th>\n",
       "      <th>주문매장</th>\n",
       "      <th>채널</th>\n",
       "      <th>주문일자</th>\n",
       "      <th>주문자명</th>\n",
       "      <th>주문메뉴</th>\n",
       "      <th>점수</th>\n",
       "      <th>리뷰</th>\n",
       "    </tr>\n",
       "  </thead>\n",
       "  <tbody>\n",
       "    <tr>\n",
       "      <th>465</th>\n",
       "      <td>폴바셋 현대모터스튜디오서울점</td>\n",
       "      <td>배달의민족</td>\n",
       "      <td>작년</td>\n",
       "      <td>덤보맘</td>\n",
       "      <td>카페라떼룽고</td>\n",
       "      <td>5</td>\n",
       "      <td>폴바셋 라떼가 제일 맛있어요</td>\n",
       "    </tr>\n",
       "    <tr>\n",
       "      <th>466</th>\n",
       "      <td>폴바셋 현대모터스튜디오서울점</td>\n",
       "      <td>배달의민족</td>\n",
       "      <td>작년</td>\n",
       "      <td>doy.****</td>\n",
       "      <td>카페라떼</td>\n",
       "      <td>5</td>\n",
       "      <td>세심하고 완벽한 서비스에 감동합니다!! 최고에욤!!</td>\n",
       "    </tr>\n",
       "  </tbody>\n",
       "</table>\n",
       "</div>"
      ],
      "text/plain": [
       "                 주문매장     채널 주문일자      주문자명    주문메뉴  점수  \\\n",
       "465  폴바셋 현대모터스튜디오서울점   배달의민족   작년       덤보맘  카페라떼룽고   5   \n",
       "466  폴바셋 현대모터스튜디오서울점   배달의민족   작년  doy.****    카페라떼   5   \n",
       "\n",
       "                               리뷰  \n",
       "465               폴바셋 라떼가 제일 맛있어요  \n",
       "466  세심하고 완벽한 서비스에 감동합니다!! 최고에욤!!  "
      ]
     },
     "execution_count": 35,
     "metadata": {},
     "output_type": "execute_result"
    }
   ],
   "source": [
    "data.tail(2)"
   ]
  },
  {
   "cell_type": "code",
   "execution_count": null,
   "metadata": {},
   "outputs": [],
   "source": []
  },
  {
   "cell_type": "code",
   "execution_count": 5,
   "metadata": {},
   "outputs": [],
   "source": [
    "##########\n",
    "# 자료저장(DataFrame to Excel)\n",
    "#####\n",
    "\n",
    "s_dt1= (datetime.today()- timedelta(0)).strftime('%Y%m%d')\n",
    "\n",
    "name = s_dt1+ '_망고플레이트_review_data.xlsx'\n",
    "writer = pd.ExcelWriter(name)\n",
    "data.to_excel(writer, 'Sheet1')\n",
    "writer.save()"
   ]
  },
  {
   "cell_type": "code",
   "execution_count": null,
   "metadata": {},
   "outputs": [],
   "source": []
  }
 ],
 "metadata": {
  "kernelspec": {
   "display_name": "Python 3",
   "language": "python",
   "name": "python3"
  },
  "language_info": {
   "codemirror_mode": {
    "name": "ipython",
    "version": 3
   },
   "file_extension": ".py",
   "mimetype": "text/x-python",
   "name": "python",
   "nbconvert_exporter": "python",
   "pygments_lexer": "ipython3",
   "version": "3.7.3"
  }
 },
 "nbformat": 4,
 "nbformat_minor": 4
}
