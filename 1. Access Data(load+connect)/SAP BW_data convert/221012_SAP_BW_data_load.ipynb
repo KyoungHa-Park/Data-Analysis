{
 "cells": [
  {
   "cell_type": "code",
   "execution_count": null,
   "metadata": {},
   "outputs": [],
   "source": []
  },
  {
   "cell_type": "code",
   "execution_count": null,
   "metadata": {},
   "outputs": [],
   "source": [
    "# https://blogs.sap.com/2020/06/09/connecting-python-with-sap-step-by-step-guide/\n",
    "# https://github.com/SAP/PyRFC\n",
    "# https://kminito.tistory.com/77"
   ]
  },
  {
   "attachments": {},
   "cell_type": "markdown",
   "metadata": {},
   "source": [
    "**SAP BW 자료확보**\n",
    "\n",
    "+ 이슈사항 : Power BI에서 1.0 구성을 지원하지 않음  [Link](https://learn.microsoft.com/en-us/power-query/connectors/sap-bw/application-setup-and-connect)\n",
    "\n",
    "+ 기술명칭 : RFC(Remote Function Call)\n",
    "\n",
    "+ 대응방향 : python을 이용한 별도 DB upoad\n",
    "  + 참조1 : 깃허브 공식문서 [Link](https://sap.github.io/PyRFC/index.html)\n",
    "  + 참조2 : [Link](https://blogs.sap.com/2020/06/09/connecting-python-with-sap-step-by-step-guide/)\n",
    "  + 참조3 : 한글로 된 내용 [Link](https://kminito.tistory.com/77)\n",
    "  + 참조4 : SAP Function [Link](https://jitterbit.jjackson.design/plausible-documentation/guide-to-using-rfc-read-table-to-query-sap-tables/)\n",
    "  (https://wiki.scn.sap.com/wiki/display/BI/SAP+Business+Warehouse+Home)\n",
    "  + 참조5 : Power BI와 같이 자료를 수집하기! [Link](https://learn.microsoft.com/ko-kr/power-query/connectors/sap-bw/sap-bw-troubleshooting)\n",
    "  + 참조6 : parameter 확인(Metadata) [Link](https://www.sapdatasheet.org/abap/prog/saplrsob.html)"
   ]
  },
  {
   "cell_type": "code",
   "execution_count": null,
   "metadata": {},
   "outputs": [],
   "source": []
  },
  {
   "cell_type": "code",
   "execution_count": null,
   "metadata": {},
   "outputs": [],
   "source": []
  },
  {
   "cell_type": "code",
   "execution_count": null,
   "metadata": {},
   "outputs": [],
   "source": []
  },
  {
   "cell_type": "code",
   "execution_count": 1,
   "metadata": {},
   "outputs": [],
   "source": [
    "from pyrfc import Connection\n",
    "import pandas as pd"
   ]
  },
  {
   "cell_type": "code",
   "execution_count": 3,
   "metadata": {},
   "outputs": [
    {
     "ename": "LogonError",
     "evalue": "RFC_LOGON_FAILURE (rc=2): key=RFC_LOGON_FAILURE, message=00024error during logon [MSG: class=, type=, number=, v1-4:=;;;]",
     "output_type": "error",
     "traceback": [
      "\u001b[1;31m---------------------------------------------------------------------------\u001b[0m",
      "\u001b[1;31mLogonError\u001b[0m                                Traceback (most recent call last)",
      "\u001b[1;32m<ipython-input-3-2f964722fa5b>\u001b[0m in \u001b[0;36m<module>\u001b[1;34m\u001b[0m\n\u001b[1;32m----> 1\u001b[1;33m \u001b[0mconn\u001b[0m \u001b[1;33m=\u001b[0m \u001b[0mConnection\u001b[0m\u001b[1;33m(\u001b[0m\u001b[0mashost\u001b[0m\u001b[1;33m=\u001b[0m\u001b[1;34m'172.16.10.16'\u001b[0m\u001b[1;33m,\u001b[0m \u001b[0msysnr\u001b[0m\u001b[1;33m=\u001b[0m\u001b[1;34m'00'\u001b[0m\u001b[1;33m,\u001b[0m \u001b[0mclient\u001b[0m\u001b[1;33m=\u001b[0m\u001b[1;34m'001'\u001b[0m\u001b[1;33m,\u001b[0m \u001b[0muser\u001b[0m\u001b[1;33m=\u001b[0m\u001b[1;34m'2101119'\u001b[0m\u001b[1;33m,\u001b[0m \u001b[0mpasswd\u001b[0m\u001b[1;33m=\u001b[0m\u001b[1;34m'maeil01!@'\u001b[0m\u001b[1;33m,\u001b[0m \u001b[0mlang\u001b[0m \u001b[1;33m=\u001b[0m \u001b[1;34m'KO'\u001b[0m\u001b[1;33m)\u001b[0m\u001b[1;33m\u001b[0m\u001b[1;33m\u001b[0m\u001b[0m\n\u001b[0m",
      "\u001b[1;32msrc/pyrfc/_pyrfc.pyx\u001b[0m in \u001b[0;36mpyrfc.pyrfc.Connection.__init__\u001b[1;34m()\u001b[0m\n",
      "\u001b[1;32msrc/pyrfc/_pyrfc.pyx\u001b[0m in \u001b[0;36mpyrfc.pyrfc.Connection._open\u001b[1;34m()\u001b[0m\n",
      "\u001b[1;32msrc/pyrfc/_pyrfc.pyx\u001b[0m in \u001b[0;36mpyrfc.pyrfc.Connection._error\u001b[1;34m()\u001b[0m\n",
      "\u001b[1;31mLogonError\u001b[0m: RFC_LOGON_FAILURE (rc=2): key=RFC_LOGON_FAILURE, message=00024error during logon [MSG: class=, type=, number=, v1-4:=;;;]"
     ]
    }
   ],
   "source": [
    "conn = Connection(ashost='***.**.*.*', sysnr='00', client='001', user='__USER_ID__', passwd='__PASSWORD__', lang = 'KO')"
   ]
  },
  {
   "cell_type": "code",
   "execution_count": 3,
   "metadata": {},
   "outputs": [],
   "source": [
    "# help(conn.call)"
   ]
  },
  {
   "cell_type": "code",
   "execution_count": 4,
   "metadata": {},
   "outputs": [],
   "source": [
    "# conn.get_connection_attributes()"
   ]
  },
  {
   "cell_type": "code",
   "execution_count": null,
   "metadata": {},
   "outputs": [],
   "source": [
    "# 연결 확인\n",
    "result = conn.call('STFC_CONNECTION', REQUTEXT=u'Hello SAP!')\n",
    "print (result)"
   ]
  },
  {
   "cell_type": "code",
   "execution_count": 6,
   "metadata": {},
   "outputs": [
    {
     "name": "stdout",
     "output_type": "stream",
     "text": [
      "{'CURRENT_RESOURCES': 75, 'MAXIMAL_RESOURCES': 95, 'RECOMMENDED_DELAY': 0, 'RFCSI_EXPORT': {'RFCPROTO': '011', 'RFCCHARTYP': '4103', 'RFCINTTYP': 'LIT', 'RFCFLOTYP': 'IE3', 'RFCDEST': 'maeil-sapbi1_BIP_00', 'RFCHOST': 'maeil-sa', 'RFCSYSID': 'BIP', 'RFCDATABS': 'BIP', 'RFCDBHOST': 'maeil-sapbi1', 'RFCDBSYS': 'DB6', 'RFCSAPRL': '700', 'RFCMACH': '  390', 'RFCOPSYS': 'Linux', 'RFCTZONE': ' 32400', 'RFCDAYST': '', 'RFCIPADDR': '172.16.10.16', 'RFCKERNRL': '722', 'RFCHOST2': 'maeil-sapbi1', 'RFCSI_RESV': '', 'RFCIPV6ADDR': '172.16.10.16'}}\n"
     ]
    }
   ],
   "source": [
    "# 시스템 정보 확인\n",
    "result = conn.call('RFC_SYSTEM_INFO')\n",
    "print (result)"
   ]
  },
  {
   "cell_type": "code",
   "execution_count": 5,
   "metadata": {},
   "outputs": [
    {
     "name": "stdout",
     "output_type": "stream",
     "text": [
      "{'ET_COMPLAYER': [{'MODEL_ID': '0000000700', 'COMP_TYPE': 'S', 'LAYER_LVL': '01', 'LAYER_DESC': 'NetWeaver Basis Components'}, {'MODEL_ID': '0000000700', 'COMP_TYPE': 'X', 'LAYER_LVL': '02', 'LAYER_DESC': 'NetWeaver PlugIns'}, {'MODEL_ID': '0000000700', 'COMP_TYPE': 'W', 'LAYER_LVL': '03', 'LAYER_DESC': 'NetWeaver Add-Ons'}, {'MODEL_ID': '0000000700', 'COMP_TYPE': 'V', 'LAYER_LVL': '04', 'LAYER_DESC': 'Application Platform Components'}, {'MODEL_ID': '0000000700', 'COMP_TYPE': 'R', 'LAYER_LVL': '05', 'LAYER_DESC': 'Application Components'}, {'MODEL_ID': '0000000700', 'COMP_TYPE': 'P', 'LAYER_LVL': '06', 'LAYER_DESC': 'Application PlugIns'}, {'MODEL_ID': '0000000700', 'COMP_TYPE': 'O', 'LAYER_LVL': '07', 'LAYER_DESC': 'Common Objects f. Application Extensions'}, {'MODEL_ID': '0000000700', 'COMP_TYPE': 'N', 'LAYER_LVL': '08', 'LAYER_DESC': 'Application Extensions'}, {'MODEL_ID': '0000000700', 'COMP_TYPE': 'I', 'LAYER_LVL': '09', 'LAYER_DESC': 'Industry Solutions - Layer 1'}, {'MODEL_ID': '0000000700', 'COMP_TYPE': 'H', 'LAYER_LVL': '10', 'LAYER_DESC': 'Industry Solutions - Layer 2'}, {'MODEL_ID': '0000000700', 'COMP_TYPE': 'G', 'LAYER_LVL': '11', 'LAYER_DESC': 'Industry Solutions - Layer 3'}, {'MODEL_ID': '0000000700', 'COMP_TYPE': 'F', 'LAYER_LVL': '12', 'LAYER_DESC': 'Industry Solutions - Layer 4'}, {'MODEL_ID': '0000000700', 'COMP_TYPE': 'E', 'LAYER_LVL': '13', 'LAYER_DESC': 'Industry Solutions - Layer 5'}, {'MODEL_ID': '0000000700', 'COMP_TYPE': 'C', 'LAYER_LVL': '14', 'LAYER_DESC': 'Projects'}], 'ET_CVERS_SUB': [], 'TT_COMPTAB': [{'COMPONENT': 'SAP_ABA', 'RELEASE': '700', 'EXTRELEASE': '0015', 'COMP_TYPE': 'S', 'LANGU': '3', 'DESC_TEXT': '어플리케이션 전반 구성요소'}, {'COMPONENT': 'SAP_BASIS', 'RELEASE': '700', 'EXTRELEASE': '0015', 'COMP_TYPE': 'S', 'LANGU': '3', 'DESC_TEXT': 'SAP Basis Component'}, {'COMPONENT': 'PI_BASIS', 'RELEASE': '2005_1_700', 'EXTRELEASE': '0015', 'COMP_TYPE': 'X', 'LANGU': '3', 'DESC_TEXT': 'PI_BASIS 2005_1_700'}, {'COMPONENT': 'ST-PI', 'RELEASE': '2005_1_700', 'EXTRELEASE': '0006', 'COMP_TYPE': 'X', 'LANGU': 'E', 'DESC_TEXT': 'SAP Solution Tools Plug-In'}, {'COMPONENT': 'SAP_BW', 'RELEASE': '700', 'EXTRELEASE': '0017', 'COMP_TYPE': 'W', 'LANGU': '3', 'DESC_TEXT': 'SAP NetWeaver BI 7.0'}, {'COMPONENT': 'BI_CONT', 'RELEASE': '703', 'EXTRELEASE': '0010', 'COMP_TYPE': 'I', 'LANGU': '3', 'DESC_TEXT': '비즈니스 인텔리전스 컨텐트'}, {'COMPONENT': 'ST-A/PI', 'RELEASE': '01K_BCO700', 'EXTRELEASE': '0000', 'COMP_TYPE': 'C', 'LANGU': 'E', 'DESC_TEXT': 'Servicetools for other App./Netweaver 04'}]}\n"
     ]
    }
   ],
   "source": [
    "# 소프트웨어 버전 확인?\n",
    "result = conn.call('OCS_GET_INSTALLED_COMPS')\n",
    "print (result)"
   ]
  },
  {
   "cell_type": "code",
   "execution_count": null,
   "metadata": {},
   "outputs": [],
   "source": []
  },
  {
   "cell_type": "code",
   "execution_count": 11,
   "metadata": {
    "scrolled": true
   },
   "outputs": [],
   "source": [
    "# 기본 메타데이터 가져오기\n",
    "# result = conn.call('BAPI_MDPROVIDER_GET_CUBES')\n",
    "# print (result)"
   ]
  },
  {
   "attachments": {},
   "cell_type": "markdown",
   "metadata": {},
   "source": [
    "### 1. MDPROVIDER"
   ]
  },
  {
   "cell_type": "code",
   "execution_count": 10,
   "metadata": {},
   "outputs": [
    {
     "data": {
      "text/plain": [
       "{'CAT_NAM': 'ZSDOPLM07',\n",
       " 'CUBE_NAM': 'ZSDOPLM07/ZPB_SD_Q002',\n",
       " 'CUBE_TYPE': 'QUERY CUBE',\n",
       " 'CUBE_UID': '48KL1L4KHQ5AROY1J7GYE579S',\n",
       " 'CREATED_ON': '20221110071355',\n",
       " 'LST_SCHEMA_UPD': '20221110071351',\n",
       " 'SCHEMA_UPD_BY': 'POWERBI',\n",
       " 'LST_DATA_UPD': '20221228030335',\n",
       " 'DATA_UPD_BY': '',\n",
       " 'DSCRPTN': '[Business View] 미출현황'}"
      ]
     },
     "execution_count": 10,
     "metadata": {},
     "output_type": "execute_result"
    }
   ],
   "source": [
    "# Delivers a List of CUBES \n",
    "result = conn.call(\"BAPI_MDPROVIDER_GET_CUBES\", CUBE_NAM='ZSDOPLM07/ZPB_SD_Q002')\n",
    "result['CUBES'][0]"
   ]
  },
  {
   "cell_type": "code",
   "execution_count": 32,
   "metadata": {},
   "outputs": [
    {
     "name": "stdout",
     "output_type": "stream",
     "text": [
      "[Business View] 재고현황\n",
      "[Business View] 생산현황\n",
      "[Business View] 일별 수주현황\n",
      "[Business View] 수주현황(계획대비실적)\n",
      "[Business View] 미출현황\n",
      "[Business View] 일별 매출현황\n",
      "[Business View] 판매현황(계획대비실적)\n",
      "[Business View] 손익현황\n"
     ]
    }
   ],
   "source": [
    "cube_list = [\n",
    "             'ZLEST01/ZPB_LE_Q001',\n",
    "             'ZPPACTM02/ZPB_PP_Q001',\n",
    "             'ZSDORM06/ZPB_SD_Q001',\n",
    "             'ZSDOPLM01/ZPB_SD_Q011',\n",
    "             'ZSDOPLM07/ZPB_SD_Q002',\n",
    "#              'ZSDSLM10/ZPB_SD_Q004',\n",
    "#              'ZSDOPLM01/ZPB_SD_Q014',\n",
    "#              'ZHYPAM12/ZPB_CO_Q001'\n",
    "            ]\n",
    "for nm in cube_list:\n",
    "    result = conn.call(\"BAPI_MDPROVIDER_GET_CUBES\", CUBE_NAM=nm)\n",
    "    print(result['CUBES'][0]['DSCRPTN'])"
   ]
  },
  {
   "cell_type": "code",
   "execution_count": null,
   "metadata": {},
   "outputs": [],
   "source": []
  },
  {
   "cell_type": "code",
   "execution_count": 30,
   "metadata": {},
   "outputs": [],
   "source": [
    "# Delivers a list of DIMENSIONS  \n",
    "result = conn.call('BAPI_MDPROVIDER_GET_DIMENSIONS', CUBE_NAM='ZSDORM06/ZPB_SD_Q001')"
   ]
  },
  {
   "cell_type": "code",
   "execution_count": 31,
   "metadata": {},
   "outputs": [
    {
     "data": {
      "text/html": [
       "<div>\n",
       "<style scoped>\n",
       "    .dataframe tbody tr th:only-of-type {\n",
       "        vertical-align: middle;\n",
       "    }\n",
       "\n",
       "    .dataframe tbody tr th {\n",
       "        vertical-align: top;\n",
       "    }\n",
       "\n",
       "    .dataframe thead th {\n",
       "        text-align: right;\n",
       "    }\n",
       "</style>\n",
       "<table border=\"1\" class=\"dataframe\">\n",
       "  <thead>\n",
       "    <tr style=\"text-align: right;\">\n",
       "      <th></th>\n",
       "      <th>CAT_NAM</th>\n",
       "      <th>CUBE_NAM</th>\n",
       "      <th>DIM_NAM</th>\n",
       "      <th>DIM_UNAM</th>\n",
       "      <th>DIM_UID</th>\n",
       "      <th>DIM_CAP</th>\n",
       "      <th>DIM_ORDINAL</th>\n",
       "      <th>DIM_TYPE</th>\n",
       "      <th>DIM_CARDINALITY</th>\n",
       "      <th>DFLT_HRY</th>\n",
       "      <th>DSCRPTN</th>\n",
       "    </tr>\n",
       "  </thead>\n",
       "  <tbody>\n",
       "    <tr>\n",
       "      <th>14</th>\n",
       "      <td>ZSDORM06</td>\n",
       "      <td>ZSDORM06/ZPB_SD_Q001</td>\n",
       "      <td>ZMATERIAL</td>\n",
       "      <td>[ZMATERIAL]</td>\n",
       "      <td>8YSSVLCFL80YR0211RLNFCDG0</td>\n",
       "      <td>자재</td>\n",
       "      <td>0014</td>\n",
       "      <td>3</td>\n",
       "      <td>232756</td>\n",
       "      <td>[ZMATERIAL                     ZMATHIER]</td>\n",
       "      <td>자재</td>\n",
       "    </tr>\n",
       "    <tr>\n",
       "      <th>15</th>\n",
       "      <td>ZSDORM06</td>\n",
       "      <td>ZSDORM06/ZPB_SD_Q001</td>\n",
       "      <td>ZMATERIAL__0PROD_HIER</td>\n",
       "      <td>[ZMATERIAL__0PROD_HIER]</td>\n",
       "      <td>8FM9JLP38SCXGGEZ4U7XUFL00</td>\n",
       "      <td>제품계층구조(N)</td>\n",
       "      <td>0015</td>\n",
       "      <td>3</td>\n",
       "      <td>001177</td>\n",
       "      <td>[ZMATERIAL__0PROD_HIER]</td>\n",
       "      <td>제품계층구조(N)</td>\n",
       "    </tr>\n",
       "    <tr>\n",
       "      <th>16</th>\n",
       "      <td>ZSDORM06</td>\n",
       "      <td>ZSDORM06/ZPB_SD_Q001</td>\n",
       "      <td>ZMATERIAL__ZEIS_L1</td>\n",
       "      <td>[ZMATERIAL__ZEIS_L1]</td>\n",
       "      <td>89833LTB4N4X0XVAHV3DBGNIO</td>\n",
       "      <td>EIS 표준계층구조 1레벨</td>\n",
       "      <td>0016</td>\n",
       "      <td>3</td>\n",
       "      <td>000064</td>\n",
       "      <td>[ZMATERIAL__ZEIS_L1]</td>\n",
       "      <td>EIS 표준계층구조 1레벨</td>\n",
       "    </tr>\n",
       "    <tr>\n",
       "      <th>17</th>\n",
       "      <td>ZSDORM06</td>\n",
       "      <td>ZSDORM06/ZPB_SD_Q001</td>\n",
       "      <td>ZMATERIAL__ZEIS_L2</td>\n",
       "      <td>[ZMATERIAL__ZEIS_L2]</td>\n",
       "      <td>873CY9UPR9E8VROQA7DUH50CW</td>\n",
       "      <td>EIS 표준계층구조 2레벨</td>\n",
       "      <td>0017</td>\n",
       "      <td>3</td>\n",
       "      <td>000293</td>\n",
       "      <td>[ZMATERIAL__ZEIS_L2]</td>\n",
       "      <td>EIS 표준계층구조 2레벨</td>\n",
       "    </tr>\n",
       "    <tr>\n",
       "      <th>18</th>\n",
       "      <td>ZSDORM06</td>\n",
       "      <td>ZSDORM06/ZPB_SD_Q001</td>\n",
       "      <td>ZMATERIAL__ZEIS_L3</td>\n",
       "      <td>[ZMATERIAL__ZEIS_L3]</td>\n",
       "      <td>84YMSXW4DVNKQLI62JOBMTD74</td>\n",
       "      <td>EIS 표준계층구조 3레벨</td>\n",
       "      <td>0018</td>\n",
       "      <td>3</td>\n",
       "      <td>002180</td>\n",
       "      <td>[ZMATERIAL__ZEIS_L3]</td>\n",
       "      <td>EIS 표준계층구조 3레벨</td>\n",
       "    </tr>\n",
       "    <tr>\n",
       "      <th>19</th>\n",
       "      <td>ZSDORM06</td>\n",
       "      <td>ZSDORM06/ZPB_SD_Q001</td>\n",
       "      <td>ZPLANT</td>\n",
       "      <td>[ZPLANT]</td>\n",
       "      <td>9329699MBZIB1CF5H30P3ZNRK</td>\n",
       "      <td>플랜트</td>\n",
       "      <td>0019</td>\n",
       "      <td>3</td>\n",
       "      <td>000099</td>\n",
       "      <td>[ZPLANT]</td>\n",
       "      <td>플랜트</td>\n",
       "    </tr>\n",
       "    <tr>\n",
       "      <th>20</th>\n",
       "      <td>ZSDORM06</td>\n",
       "      <td>ZSDORM06/ZPB_SD_Q001</td>\n",
       "      <td>0CALDAY</td>\n",
       "      <td>[0CALDAY]</td>\n",
       "      <td>8BCT8XRWI0VL641UPISW5SAOG</td>\n",
       "      <td>달력일</td>\n",
       "      <td>0020</td>\n",
       "      <td>1</td>\n",
       "      <td>011765</td>\n",
       "      <td>[0CALDAY]</td>\n",
       "      <td>달력일</td>\n",
       "    </tr>\n",
       "    <tr>\n",
       "      <th>21</th>\n",
       "      <td>ZSDORM06</td>\n",
       "      <td>ZSDORM06/ZPB_SD_Q001</td>\n",
       "      <td>0CALMONTH</td>\n",
       "      <td>[0CALMONTH]</td>\n",
       "      <td>8O564XJGQBBM1557ZH217Q5N4</td>\n",
       "      <td>달력연도/월</td>\n",
       "      <td>0021</td>\n",
       "      <td>1</td>\n",
       "      <td>000263</td>\n",
       "      <td>[0CALMONTH]</td>\n",
       "      <td>달력연도/월</td>\n",
       "    </tr>\n",
       "    <tr>\n",
       "      <th>22</th>\n",
       "      <td>ZSDORM06</td>\n",
       "      <td>ZSDORM06/ZPB_SD_Q001</td>\n",
       "      <td>0CALWEEK</td>\n",
       "      <td>[0CALWEEK]</td>\n",
       "      <td>9FUM2916K9YBWDIIR19U5XIQ8</td>\n",
       "      <td>달력연도/주</td>\n",
       "      <td>0022</td>\n",
       "      <td>1</td>\n",
       "      <td>001117</td>\n",
       "      <td>[0CALWEEK]</td>\n",
       "      <td>달력연도/주</td>\n",
       "    </tr>\n",
       "    <tr>\n",
       "      <th>23</th>\n",
       "      <td>ZSDORM06</td>\n",
       "      <td>ZSDORM06/ZPB_SD_Q001</td>\n",
       "      <td>Measures</td>\n",
       "      <td>[Measures]</td>\n",
       "      <td></td>\n",
       "      <td>주요 지표</td>\n",
       "      <td>0024</td>\n",
       "      <td>2</td>\n",
       "      <td>000004</td>\n",
       "      <td>[Measures]</td>\n",
       "      <td>주요 지표</td>\n",
       "    </tr>\n",
       "  </tbody>\n",
       "</table>\n",
       "</div>"
      ],
      "text/plain": [
       "     CAT_NAM              CUBE_NAM                DIM_NAM  \\\n",
       "14  ZSDORM06  ZSDORM06/ZPB_SD_Q001              ZMATERIAL   \n",
       "15  ZSDORM06  ZSDORM06/ZPB_SD_Q001  ZMATERIAL__0PROD_HIER   \n",
       "16  ZSDORM06  ZSDORM06/ZPB_SD_Q001     ZMATERIAL__ZEIS_L1   \n",
       "17  ZSDORM06  ZSDORM06/ZPB_SD_Q001     ZMATERIAL__ZEIS_L2   \n",
       "18  ZSDORM06  ZSDORM06/ZPB_SD_Q001     ZMATERIAL__ZEIS_L3   \n",
       "19  ZSDORM06  ZSDORM06/ZPB_SD_Q001                 ZPLANT   \n",
       "20  ZSDORM06  ZSDORM06/ZPB_SD_Q001                0CALDAY   \n",
       "21  ZSDORM06  ZSDORM06/ZPB_SD_Q001              0CALMONTH   \n",
       "22  ZSDORM06  ZSDORM06/ZPB_SD_Q001               0CALWEEK   \n",
       "23  ZSDORM06  ZSDORM06/ZPB_SD_Q001               Measures   \n",
       "\n",
       "                   DIM_UNAM                    DIM_UID         DIM_CAP  \\\n",
       "14              [ZMATERIAL]  8YSSVLCFL80YR0211RLNFCDG0              자재   \n",
       "15  [ZMATERIAL__0PROD_HIER]  8FM9JLP38SCXGGEZ4U7XUFL00       제품계층구조(N)   \n",
       "16     [ZMATERIAL__ZEIS_L1]  89833LTB4N4X0XVAHV3DBGNIO  EIS 표준계층구조 1레벨   \n",
       "17     [ZMATERIAL__ZEIS_L2]  873CY9UPR9E8VROQA7DUH50CW  EIS 표준계층구조 2레벨   \n",
       "18     [ZMATERIAL__ZEIS_L3]  84YMSXW4DVNKQLI62JOBMTD74  EIS 표준계층구조 3레벨   \n",
       "19                 [ZPLANT]  9329699MBZIB1CF5H30P3ZNRK             플랜트   \n",
       "20                [0CALDAY]  8BCT8XRWI0VL641UPISW5SAOG             달력일   \n",
       "21              [0CALMONTH]  8O564XJGQBBM1557ZH217Q5N4          달력연도/월   \n",
       "22               [0CALWEEK]  9FUM2916K9YBWDIIR19U5XIQ8          달력연도/주   \n",
       "23               [Measures]                                      주요 지표   \n",
       "\n",
       "   DIM_ORDINAL DIM_TYPE DIM_CARDINALITY  \\\n",
       "14        0014        3          232756   \n",
       "15        0015        3          001177   \n",
       "16        0016        3          000064   \n",
       "17        0017        3          000293   \n",
       "18        0018        3          002180   \n",
       "19        0019        3          000099   \n",
       "20        0020        1          011765   \n",
       "21        0021        1          000263   \n",
       "22        0022        1          001117   \n",
       "23        0024        2          000004   \n",
       "\n",
       "                                    DFLT_HRY         DSCRPTN  \n",
       "14  [ZMATERIAL                     ZMATHIER]              자재  \n",
       "15                   [ZMATERIAL__0PROD_HIER]       제품계층구조(N)  \n",
       "16                      [ZMATERIAL__ZEIS_L1]  EIS 표준계층구조 1레벨  \n",
       "17                      [ZMATERIAL__ZEIS_L2]  EIS 표준계층구조 2레벨  \n",
       "18                      [ZMATERIAL__ZEIS_L3]  EIS 표준계층구조 3레벨  \n",
       "19                                  [ZPLANT]             플랜트  \n",
       "20                                 [0CALDAY]             달력일  \n",
       "21                               [0CALMONTH]          달력연도/월  \n",
       "22                                [0CALWEEK]          달력연도/주  \n",
       "23                                [Measures]           주요 지표  "
      ]
     },
     "execution_count": 31,
     "metadata": {},
     "output_type": "execute_result"
    }
   ],
   "source": [
    "pd.DataFrame(result['DIMENSIONS']).tail(10)"
   ]
  },
  {
   "cell_type": "code",
   "execution_count": null,
   "metadata": {},
   "outputs": [],
   "source": []
  },
  {
   "cell_type": "code",
   "execution_count": null,
   "metadata": {},
   "outputs": [],
   "source": []
  },
  {
   "cell_type": "code",
   "execution_count": 32,
   "metadata": {},
   "outputs": [],
   "source": [
    "# Delivers a list of DIMENSIONS  \n",
    "result = conn.call('BAPI_MDPROVIDER_GET_HIERARCHYS', CUBE_NAM='ZSDORM06/ZPB_SD_Q001', DIM_UNAM = '[ZMATERIAL__ZEIS_L1]')"
   ]
  },
  {
   "cell_type": "code",
   "execution_count": 33,
   "metadata": {
    "scrolled": false
   },
   "outputs": [
    {
     "data": {
      "text/html": [
       "<div>\n",
       "<style scoped>\n",
       "    .dataframe tbody tr th:only-of-type {\n",
       "        vertical-align: middle;\n",
       "    }\n",
       "\n",
       "    .dataframe tbody tr th {\n",
       "        vertical-align: top;\n",
       "    }\n",
       "\n",
       "    .dataframe thead th {\n",
       "        text-align: right;\n",
       "    }\n",
       "</style>\n",
       "<table border=\"1\" class=\"dataframe\">\n",
       "  <thead>\n",
       "    <tr style=\"text-align: right;\">\n",
       "      <th></th>\n",
       "      <th>CAT_NAM</th>\n",
       "      <th>CUBE_NAM</th>\n",
       "      <th>DIM_UNAM</th>\n",
       "      <th>HRY_NAM</th>\n",
       "      <th>HRY_UNAM</th>\n",
       "      <th>HRY_UID</th>\n",
       "      <th>HRY_CAP</th>\n",
       "      <th>DIM_TYPE</th>\n",
       "      <th>HRY_CARDINALITY</th>\n",
       "      <th>DFLT_MEM</th>\n",
       "      <th>ALL_MEM</th>\n",
       "      <th>DSCRPTN</th>\n",
       "    </tr>\n",
       "  </thead>\n",
       "  <tbody>\n",
       "    <tr>\n",
       "      <th>0</th>\n",
       "      <td>ZSDORM06</td>\n",
       "      <td>ZSDORM06/ZPB_SD_Q001</td>\n",
       "      <td>[ZMATERIAL__ZEIS_L1]</td>\n",
       "      <td></td>\n",
       "      <td>[ZMATERIAL__ZEIS_L1]</td>\n",
       "      <td></td>\n",
       "      <td>EIS 표준계층구조 1레벨</td>\n",
       "      <td>3</td>\n",
       "      <td>000064</td>\n",
       "      <td>[ZMATERIAL__ZEIS_L1].[All]</td>\n",
       "      <td>[ZMATERIAL__ZEIS_L1].[All]</td>\n",
       "      <td>EIS 표준계층구조 1레벨</td>\n",
       "    </tr>\n",
       "  </tbody>\n",
       "</table>\n",
       "</div>"
      ],
      "text/plain": [
       "    CAT_NAM              CUBE_NAM              DIM_UNAM HRY_NAM  \\\n",
       "0  ZSDORM06  ZSDORM06/ZPB_SD_Q001  [ZMATERIAL__ZEIS_L1]           \n",
       "\n",
       "               HRY_UNAM HRY_UID         HRY_CAP DIM_TYPE HRY_CARDINALITY  \\\n",
       "0  [ZMATERIAL__ZEIS_L1]          EIS 표준계층구조 1레벨        3          000064   \n",
       "\n",
       "                     DFLT_MEM                     ALL_MEM         DSCRPTN  \n",
       "0  [ZMATERIAL__ZEIS_L1].[All]  [ZMATERIAL__ZEIS_L1].[All]  EIS 표준계층구조 1레벨  "
      ]
     },
     "execution_count": 33,
     "metadata": {},
     "output_type": "execute_result"
    }
   ],
   "source": [
    "pd.DataFrame(result['HIERARCHIES'])"
   ]
  },
  {
   "cell_type": "code",
   "execution_count": null,
   "metadata": {},
   "outputs": [],
   "source": []
  },
  {
   "cell_type": "code",
   "execution_count": null,
   "metadata": {},
   "outputs": [],
   "source": []
  },
  {
   "cell_type": "code",
   "execution_count": null,
   "metadata": {},
   "outputs": [],
   "source": []
  },
  {
   "cell_type": "code",
   "execution_count": 36,
   "metadata": {},
   "outputs": [],
   "source": [
    "result = conn.call('BAPI_MDPROVIDER_GET_MEMBERS', CUBE_NAM='ZSDORM06/ZPB_SD_Q001', DIM_UNAM = '[ZMATERIAL__ZEIS_L1]')"
   ]
  },
  {
   "cell_type": "code",
   "execution_count": 46,
   "metadata": {},
   "outputs": [
    {
     "data": {
      "text/html": [
       "<div>\n",
       "<style scoped>\n",
       "    .dataframe tbody tr th:only-of-type {\n",
       "        vertical-align: middle;\n",
       "    }\n",
       "\n",
       "    .dataframe tbody tr th {\n",
       "        vertical-align: top;\n",
       "    }\n",
       "\n",
       "    .dataframe thead th {\n",
       "        text-align: right;\n",
       "    }\n",
       "</style>\n",
       "<table border=\"1\" class=\"dataframe\">\n",
       "  <thead>\n",
       "    <tr style=\"text-align: right;\">\n",
       "      <th></th>\n",
       "      <th>LVL_NUMBER</th>\n",
       "      <th>MEM_NAM</th>\n",
       "      <th>MEM_UNAM</th>\n",
       "      <th>MEM_TYPE</th>\n",
       "      <th>MEM_UID</th>\n",
       "      <th>MEM_CAP</th>\n",
       "      <th>MEM_ORDINAL</th>\n",
       "      <th>CHILDREN</th>\n",
       "      <th>PARENT_LVL</th>\n",
       "      <th>PARENT_UNAM</th>\n",
       "      <th>DSCRPTN</th>\n",
       "    </tr>\n",
       "  </thead>\n",
       "  <tbody>\n",
       "    <tr>\n",
       "      <th>0</th>\n",
       "      <td>00</td>\n",
       "      <td>All</td>\n",
       "      <td>[ZMATERIAL__ZEIS_L1].[All]</td>\n",
       "      <td>02</td>\n",
       "      <td></td>\n",
       "      <td>모두 EIS 표준계층구조 1레벨</td>\n",
       "      <td>000000</td>\n",
       "      <td>000064</td>\n",
       "      <td>01</td>\n",
       "      <td></td>\n",
       "      <td>모두 EIS 표준계층구조 1레벨</td>\n",
       "    </tr>\n",
       "    <tr>\n",
       "      <th>1</th>\n",
       "      <td>01</td>\n",
       "      <td>00000000000000000000000000010101</td>\n",
       "      <td>[ZMATERIAL__ZEIS_L1].[000000000000000000000000...</td>\n",
       "      <td>01</td>\n",
       "      <td></td>\n",
       "      <td>유음료 제품군</td>\n",
       "      <td>000001</td>\n",
       "      <td>000000</td>\n",
       "      <td>00</td>\n",
       "      <td>[ZMATERIAL__ZEIS_L1].[All]</td>\n",
       "      <td>유음료 제품군</td>\n",
       "    </tr>\n",
       "    <tr>\n",
       "      <th>2</th>\n",
       "      <td>01</td>\n",
       "      <td>00000000000000000000000000010201</td>\n",
       "      <td>[ZMATERIAL__ZEIS_L1].[000000000000000000000000...</td>\n",
       "      <td>01</td>\n",
       "      <td></td>\n",
       "      <td>상하목장 제품군</td>\n",
       "      <td>000002</td>\n",
       "      <td>000000</td>\n",
       "      <td>00</td>\n",
       "      <td>[ZMATERIAL__ZEIS_L1].[All]</td>\n",
       "      <td>상하목장 제품군</td>\n",
       "    </tr>\n",
       "    <tr>\n",
       "      <th>3</th>\n",
       "      <td>01</td>\n",
       "      <td>00000000000000000000000000010301</td>\n",
       "      <td>[ZMATERIAL__ZEIS_L1].[000000000000000000000000...</td>\n",
       "      <td>01</td>\n",
       "      <td></td>\n",
       "      <td>Plant&amp; 제품군</td>\n",
       "      <td>000003</td>\n",
       "      <td>000000</td>\n",
       "      <td>00</td>\n",
       "      <td>[ZMATERIAL__ZEIS_L1].[All]</td>\n",
       "      <td>Plant&amp; 제품군</td>\n",
       "    </tr>\n",
       "  </tbody>\n",
       "</table>\n",
       "</div>"
      ],
      "text/plain": [
       "  LVL_NUMBER                           MEM_NAM  \\\n",
       "0         00                               All   \n",
       "1         01  00000000000000000000000000010101   \n",
       "2         01  00000000000000000000000000010201   \n",
       "3         01  00000000000000000000000000010301   \n",
       "\n",
       "                                            MEM_UNAM MEM_TYPE MEM_UID  \\\n",
       "0                         [ZMATERIAL__ZEIS_L1].[All]       02           \n",
       "1  [ZMATERIAL__ZEIS_L1].[000000000000000000000000...       01           \n",
       "2  [ZMATERIAL__ZEIS_L1].[000000000000000000000000...       01           \n",
       "3  [ZMATERIAL__ZEIS_L1].[000000000000000000000000...       01           \n",
       "\n",
       "             MEM_CAP MEM_ORDINAL CHILDREN PARENT_LVL  \\\n",
       "0  모두 EIS 표준계층구조 1레벨      000000   000064         01   \n",
       "1            유음료 제품군      000001   000000         00   \n",
       "2           상하목장 제품군      000002   000000         00   \n",
       "3         Plant& 제품군      000003   000000         00   \n",
       "\n",
       "                  PARENT_UNAM            DSCRPTN  \n",
       "0                              모두 EIS 표준계층구조 1레벨  \n",
       "1  [ZMATERIAL__ZEIS_L1].[All]            유음료 제품군  \n",
       "2  [ZMATERIAL__ZEIS_L1].[All]           상하목장 제품군  \n",
       "3  [ZMATERIAL__ZEIS_L1].[All]         Plant& 제품군  "
      ]
     },
     "execution_count": 46,
     "metadata": {},
     "output_type": "execute_result"
    }
   ],
   "source": [
    "pd.DataFrame(result['MEMBERS']).head(4)"
   ]
  },
  {
   "cell_type": "code",
   "execution_count": null,
   "metadata": {},
   "outputs": [],
   "source": []
  },
  {
   "cell_type": "code",
   "execution_count": null,
   "metadata": {},
   "outputs": [],
   "source": []
  },
  {
   "cell_type": "code",
   "execution_count": 16,
   "metadata": {},
   "outputs": [],
   "source": [
    "result = conn.call('BAPI_MDPROVIDER_GET_MEASURES', CUBE_NAM='ZSDORM06/ZPB_SD_Q001')"
   ]
  },
  {
   "cell_type": "code",
   "execution_count": 21,
   "metadata": {},
   "outputs": [
    {
     "data": {
      "text/html": [
       "<div>\n",
       "<style scoped>\n",
       "    .dataframe tbody tr th:only-of-type {\n",
       "        vertical-align: middle;\n",
       "    }\n",
       "\n",
       "    .dataframe tbody tr th {\n",
       "        vertical-align: top;\n",
       "    }\n",
       "\n",
       "    .dataframe thead th {\n",
       "        text-align: right;\n",
       "    }\n",
       "</style>\n",
       "<table border=\"1\" class=\"dataframe\">\n",
       "  <thead>\n",
       "    <tr style=\"text-align: right;\">\n",
       "      <th></th>\n",
       "      <th>CAT_NAM</th>\n",
       "      <th>CUBE_NAM</th>\n",
       "      <th>MES_NAM</th>\n",
       "      <th>MES_UNAM</th>\n",
       "      <th>MES_CAP</th>\n",
       "      <th>MES_UID</th>\n",
       "      <th>MES_AGGREGATOR</th>\n",
       "      <th>DATA_TYPE</th>\n",
       "      <th>NUM_PREC</th>\n",
       "      <th>NUM_SCALE</th>\n",
       "      <th>MES_UNITS</th>\n",
       "      <th>DSCRPTN</th>\n",
       "    </tr>\n",
       "  </thead>\n",
       "  <tbody>\n",
       "    <tr>\n",
       "      <th>0</th>\n",
       "      <td>ZSDORM06</td>\n",
       "      <td>ZSDORM06/ZPB_SD_Q001</td>\n",
       "      <td>9M8SI8WYOF6CBW27E0EEOWG7K</td>\n",
       "      <td>[Measures].[9M8SI8WYOF6CBW27E0EEOWG7K]</td>\n",
       "      <td>수주수량</td>\n",
       "      <td></td>\n",
       "      <td>001</td>\n",
       "      <td>FLTP</td>\n",
       "      <td>0</td>\n",
       "      <td>0</td>\n",
       "      <td></td>\n",
       "      <td>수주수량</td>\n",
       "    </tr>\n",
       "    <tr>\n",
       "      <th>1</th>\n",
       "      <td>ZSDORM06</td>\n",
       "      <td>ZSDORM06/ZPB_SD_Q001</td>\n",
       "      <td>9ODINKVK1SX0H28RLO3XJ83DC</td>\n",
       "      <td>[Measures].[9ODINKVK1SX0H28RLO3XJ83DC]</td>\n",
       "      <td>환산수주수량(N)</td>\n",
       "      <td></td>\n",
       "      <td>000</td>\n",
       "      <td>FLTP</td>\n",
       "      <td>0</td>\n",
       "      <td>0</td>\n",
       "      <td></td>\n",
       "      <td>환산수주수량(N)</td>\n",
       "    </tr>\n",
       "    <tr>\n",
       "      <th>2</th>\n",
       "      <td>ZSDORM06</td>\n",
       "      <td>ZSDORM06/ZPB_SD_Q001</td>\n",
       "      <td>9QI8SWU5F6NOM8FBTBTGDJQJ4</td>\n",
       "      <td>[Measures].[9QI8SWU5F6NOM8FBTBTGDJQJ4]</td>\n",
       "      <td>수주환산용량(N)</td>\n",
       "      <td></td>\n",
       "      <td>001</td>\n",
       "      <td>FLTP</td>\n",
       "      <td>0</td>\n",
       "      <td>3</td>\n",
       "      <td></td>\n",
       "      <td>수주환산용량(N)</td>\n",
       "    </tr>\n",
       "    <tr>\n",
       "      <th>3</th>\n",
       "      <td>ZSDORM06</td>\n",
       "      <td>ZSDORM06/ZPB_SD_Q001</td>\n",
       "      <td>9SMYY8SQSKECRELW0ZIZ7VDOW</td>\n",
       "      <td>[Measures].[9SMYY8SQSKECRELW0ZIZ7VDOW]</td>\n",
       "      <td>수주금액</td>\n",
       "      <td></td>\n",
       "      <td>001</td>\n",
       "      <td>FLTP</td>\n",
       "      <td>0</td>\n",
       "      <td>0</td>\n",
       "      <td></td>\n",
       "      <td>수주금액</td>\n",
       "    </tr>\n",
       "  </tbody>\n",
       "</table>\n",
       "</div>"
      ],
      "text/plain": [
       "    CAT_NAM              CUBE_NAM                    MES_NAM  \\\n",
       "0  ZSDORM06  ZSDORM06/ZPB_SD_Q001  9M8SI8WYOF6CBW27E0EEOWG7K   \n",
       "1  ZSDORM06  ZSDORM06/ZPB_SD_Q001  9ODINKVK1SX0H28RLO3XJ83DC   \n",
       "2  ZSDORM06  ZSDORM06/ZPB_SD_Q001  9QI8SWU5F6NOM8FBTBTGDJQJ4   \n",
       "3  ZSDORM06  ZSDORM06/ZPB_SD_Q001  9SMYY8SQSKECRELW0ZIZ7VDOW   \n",
       "\n",
       "                                 MES_UNAM    MES_CAP MES_UID MES_AGGREGATOR  \\\n",
       "0  [Measures].[9M8SI8WYOF6CBW27E0EEOWG7K]       수주수량                    001   \n",
       "1  [Measures].[9ODINKVK1SX0H28RLO3XJ83DC]  환산수주수량(N)                    000   \n",
       "2  [Measures].[9QI8SWU5F6NOM8FBTBTGDJQJ4]  수주환산용량(N)                    001   \n",
       "3  [Measures].[9SMYY8SQSKECRELW0ZIZ7VDOW]       수주금액                    001   \n",
       "\n",
       "  DATA_TYPE NUM_PREC NUM_SCALE MES_UNITS    DSCRPTN  \n",
       "0      FLTP        0         0                 수주수량  \n",
       "1      FLTP        0         0            환산수주수량(N)  \n",
       "2      FLTP        0         3            수주환산용량(N)  \n",
       "3      FLTP        0         0                 수주금액  "
      ]
     },
     "execution_count": 21,
     "metadata": {},
     "output_type": "execute_result"
    }
   ],
   "source": [
    "pd.DataFrame(result['MEASURES'])"
   ]
  },
  {
   "cell_type": "code",
   "execution_count": null,
   "metadata": {},
   "outputs": [],
   "source": []
  },
  {
   "cell_type": "code",
   "execution_count": 8,
   "metadata": {},
   "outputs": [],
   "source": [
    "result = conn.call('BAPI_MDPROVIDER_GET_HIERARCHYS', CUBE_NAM='ZSDORM06/ZPB_SD_Q001')"
   ]
  },
  {
   "cell_type": "code",
   "execution_count": 10,
   "metadata": {
    "scrolled": false
   },
   "outputs": [
    {
     "data": {
      "text/html": [
       "<div>\n",
       "<style scoped>\n",
       "    .dataframe tbody tr th:only-of-type {\n",
       "        vertical-align: middle;\n",
       "    }\n",
       "\n",
       "    .dataframe tbody tr th {\n",
       "        vertical-align: top;\n",
       "    }\n",
       "\n",
       "    .dataframe thead th {\n",
       "        text-align: right;\n",
       "    }\n",
       "</style>\n",
       "<table border=\"1\" class=\"dataframe\">\n",
       "  <thead>\n",
       "    <tr style=\"text-align: right;\">\n",
       "      <th></th>\n",
       "      <th>CAT_NAM</th>\n",
       "      <th>CUBE_NAM</th>\n",
       "      <th>DIM_UNAM</th>\n",
       "      <th>HRY_NAM</th>\n",
       "      <th>HRY_UNAM</th>\n",
       "      <th>HRY_UID</th>\n",
       "      <th>HRY_CAP</th>\n",
       "      <th>DIM_TYPE</th>\n",
       "      <th>HRY_CARDINALITY</th>\n",
       "      <th>DFLT_MEM</th>\n",
       "      <th>ALL_MEM</th>\n",
       "      <th>DSCRPTN</th>\n",
       "    </tr>\n",
       "  </thead>\n",
       "  <tbody>\n",
       "    <tr>\n",
       "      <th>35</th>\n",
       "      <td>ZSDORM06</td>\n",
       "      <td>ZSDORM06/ZPB_SD_Q001</td>\n",
       "      <td>[ZPLANT]</td>\n",
       "      <td></td>\n",
       "      <td>[ZPLANT]</td>\n",
       "      <td></td>\n",
       "      <td>플랜트</td>\n",
       "      <td>3</td>\n",
       "      <td>000099</td>\n",
       "      <td>[ZPLANT].[All]</td>\n",
       "      <td>[ZPLANT].[All]</td>\n",
       "      <td>플랜트</td>\n",
       "    </tr>\n",
       "    <tr>\n",
       "      <th>36</th>\n",
       "      <td>ZSDORM06</td>\n",
       "      <td>ZSDORM06/ZPB_SD_Q001</td>\n",
       "      <td>[0CALDAY]</td>\n",
       "      <td></td>\n",
       "      <td>[0CALDAY]</td>\n",
       "      <td></td>\n",
       "      <td>달력일</td>\n",
       "      <td>1</td>\n",
       "      <td>011765</td>\n",
       "      <td>[0CALDAY].[All]</td>\n",
       "      <td>[0CALDAY].[All]</td>\n",
       "      <td>달력일</td>\n",
       "    </tr>\n",
       "    <tr>\n",
       "      <th>37</th>\n",
       "      <td>ZSDORM06</td>\n",
       "      <td>ZSDORM06/ZPB_SD_Q001</td>\n",
       "      <td>[0CALMONTH]</td>\n",
       "      <td></td>\n",
       "      <td>[0CALMONTH]</td>\n",
       "      <td></td>\n",
       "      <td>달력연도/월</td>\n",
       "      <td>1</td>\n",
       "      <td>000263</td>\n",
       "      <td>[0CALMONTH].[All]</td>\n",
       "      <td>[0CALMONTH].[All]</td>\n",
       "      <td>달력연도/월</td>\n",
       "    </tr>\n",
       "    <tr>\n",
       "      <th>38</th>\n",
       "      <td>ZSDORM06</td>\n",
       "      <td>ZSDORM06/ZPB_SD_Q001</td>\n",
       "      <td>[0CALWEEK]</td>\n",
       "      <td></td>\n",
       "      <td>[0CALWEEK]</td>\n",
       "      <td></td>\n",
       "      <td>달력연도/주</td>\n",
       "      <td>1</td>\n",
       "      <td>001117</td>\n",
       "      <td>[0CALWEEK].[All]</td>\n",
       "      <td>[0CALWEEK].[All]</td>\n",
       "      <td>달력연도/주</td>\n",
       "    </tr>\n",
       "    <tr>\n",
       "      <th>39</th>\n",
       "      <td>ZSDORM06</td>\n",
       "      <td>ZSDORM06/ZPB_SD_Q001</td>\n",
       "      <td>[Measures]</td>\n",
       "      <td></td>\n",
       "      <td>[Measures]</td>\n",
       "      <td></td>\n",
       "      <td>주요 지표</td>\n",
       "      <td>2</td>\n",
       "      <td>000004</td>\n",
       "      <td>[Measures].[9M8SI8WYOF6CBW27E0EEOWG7K]</td>\n",
       "      <td></td>\n",
       "      <td></td>\n",
       "    </tr>\n",
       "  </tbody>\n",
       "</table>\n",
       "</div>"
      ],
      "text/plain": [
       "     CAT_NAM              CUBE_NAM     DIM_UNAM HRY_NAM     HRY_UNAM HRY_UID  \\\n",
       "35  ZSDORM06  ZSDORM06/ZPB_SD_Q001     [ZPLANT]             [ZPLANT]           \n",
       "36  ZSDORM06  ZSDORM06/ZPB_SD_Q001    [0CALDAY]            [0CALDAY]           \n",
       "37  ZSDORM06  ZSDORM06/ZPB_SD_Q001  [0CALMONTH]          [0CALMONTH]           \n",
       "38  ZSDORM06  ZSDORM06/ZPB_SD_Q001   [0CALWEEK]           [0CALWEEK]           \n",
       "39  ZSDORM06  ZSDORM06/ZPB_SD_Q001   [Measures]           [Measures]           \n",
       "\n",
       "   HRY_CAP DIM_TYPE HRY_CARDINALITY                                DFLT_MEM  \\\n",
       "35     플랜트        3          000099                          [ZPLANT].[All]   \n",
       "36     달력일        1          011765                         [0CALDAY].[All]   \n",
       "37  달력연도/월        1          000263                       [0CALMONTH].[All]   \n",
       "38  달력연도/주        1          001117                        [0CALWEEK].[All]   \n",
       "39   주요 지표        2          000004  [Measures].[9M8SI8WYOF6CBW27E0EEOWG7K]   \n",
       "\n",
       "              ALL_MEM DSCRPTN  \n",
       "35     [ZPLANT].[All]     플랜트  \n",
       "36    [0CALDAY].[All]     달력일  \n",
       "37  [0CALMONTH].[All]  달력연도/월  \n",
       "38   [0CALWEEK].[All]  달력연도/주  \n",
       "39                             "
      ]
     },
     "execution_count": 10,
     "metadata": {},
     "output_type": "execute_result"
    }
   ],
   "source": [
    "pd.DataFrame(result['HIERARCHIES']).tail(5)"
   ]
  },
  {
   "cell_type": "code",
   "execution_count": null,
   "metadata": {},
   "outputs": [],
   "source": []
  },
  {
   "cell_type": "code",
   "execution_count": 24,
   "metadata": {},
   "outputs": [],
   "source": [
    "result = conn.call('BAPI_MDPROVIDER_GET_STREAMINFO', CUBE_NAM='ZSDORM06/ZPB_SD_Q001')"
   ]
  },
  {
   "cell_type": "code",
   "execution_count": 27,
   "metadata": {
    "scrolled": false
   },
   "outputs": [
    {
     "data": {
      "text/html": [
       "<div>\n",
       "<style scoped>\n",
       "    .dataframe tbody tr th:only-of-type {\n",
       "        vertical-align: middle;\n",
       "    }\n",
       "\n",
       "    .dataframe tbody tr th {\n",
       "        vertical-align: top;\n",
       "    }\n",
       "\n",
       "    .dataframe thead th {\n",
       "        text-align: right;\n",
       "    }\n",
       "</style>\n",
       "<table border=\"1\" class=\"dataframe\">\n",
       "  <thead>\n",
       "    <tr style=\"text-align: right;\">\n",
       "      <th></th>\n",
       "      <th>CAT_NAM</th>\n",
       "      <th>CUBE_NAM</th>\n",
       "      <th>VAR_NAM</th>\n",
       "      <th>VAR_CAP</th>\n",
       "      <th>VAR_UID</th>\n",
       "      <th>VAR_ORDINAL</th>\n",
       "      <th>VAR_TYPE</th>\n",
       "      <th>DATA_TYPE</th>\n",
       "      <th>CHR_MAX_LEN</th>\n",
       "      <th>VAR_PROC_TYPE</th>\n",
       "      <th>VAR_SELC_TYPE</th>\n",
       "      <th>VAR_ENTRY_TYPE</th>\n",
       "      <th>REF_DIM</th>\n",
       "      <th>REF_HRY</th>\n",
       "      <th>DFLT_LOW</th>\n",
       "      <th>DFLT_HIGH</th>\n",
       "      <th>DFLT_LOW_CAP</th>\n",
       "      <th>DFLT_HIGH_CAP</th>\n",
       "      <th>DSCRPTN</th>\n",
       "    </tr>\n",
       "  </thead>\n",
       "  <tbody>\n",
       "    <tr>\n",
       "      <th>0</th>\n",
       "      <td>ZSDORM06</td>\n",
       "      <td>ZSDORM06/ZPB_SD_Q001</td>\n",
       "      <td>[ZUISAGRP]</td>\n",
       "      <td>영업그룹(복수,선택)</td>\n",
       "      <td>3S4GGCUTTKHYIRCW2GQH9W46I</td>\n",
       "      <td>000001</td>\n",
       "      <td>1</td>\n",
       "      <td>CHAR</td>\n",
       "      <td>143</td>\n",
       "      <td>1</td>\n",
       "      <td>3</td>\n",
       "      <td>0</td>\n",
       "      <td>[ZCUSTOMER__0SALES_GRP]</td>\n",
       "      <td>[ZCUSTOMER__0SALES_GRP]</td>\n",
       "      <td></td>\n",
       "      <td></td>\n",
       "      <td></td>\n",
       "      <td></td>\n",
       "      <td>영업그룹(복수,선택)</td>\n",
       "    </tr>\n",
       "    <tr>\n",
       "      <th>1</th>\n",
       "      <td>ZSDORM06</td>\n",
       "      <td>ZSDORM06/ZPB_SD_Q001</td>\n",
       "      <td>[ZDAY_1]</td>\n",
       "      <td>기간일자</td>\n",
       "      <td>47NJGD065TDYVH1DBF5X4EHW2</td>\n",
       "      <td>000002</td>\n",
       "      <td>1</td>\n",
       "      <td>CHAR</td>\n",
       "      <td>143</td>\n",
       "      <td>1</td>\n",
       "      <td>2</td>\n",
       "      <td>1</td>\n",
       "      <td>[0CALDAY]</td>\n",
       "      <td>[0CALDAY]</td>\n",
       "      <td></td>\n",
       "      <td></td>\n",
       "      <td></td>\n",
       "      <td></td>\n",
       "      <td>기간일자</td>\n",
       "    </tr>\n",
       "    <tr>\n",
       "      <th>2</th>\n",
       "      <td>ZSDORM06</td>\n",
       "      <td>ZSDORM06/ZPB_SD_Q001</td>\n",
       "      <td>[!V000003]</td>\n",
       "      <td>EIS 제품계층구조 1레벨</td>\n",
       "      <td>4ASYKSCVW0UTD80EVIAIMKFM8</td>\n",
       "      <td>000003</td>\n",
       "      <td>1</td>\n",
       "      <td>CHAR</td>\n",
       "      <td>143</td>\n",
       "      <td>1</td>\n",
       "      <td>1</td>\n",
       "      <td>0</td>\n",
       "      <td>[ZMATERIAL__ZEIS_L1]</td>\n",
       "      <td>[ZMATERIAL__ZEIS_L1]</td>\n",
       "      <td></td>\n",
       "      <td></td>\n",
       "      <td></td>\n",
       "      <td></td>\n",
       "      <td>EIS 제품계층구조 1레벨</td>\n",
       "    </tr>\n",
       "    <tr>\n",
       "      <th>3</th>\n",
       "      <td>ZSDORM06</td>\n",
       "      <td>ZSDORM06/ZPB_SD_Q001</td>\n",
       "      <td>[!V000004]</td>\n",
       "      <td>EIS 제품계층구조 2레벨</td>\n",
       "      <td>4BBIT97DVP0TP9VKEQSYYYL8W</td>\n",
       "      <td>000004</td>\n",
       "      <td>1</td>\n",
       "      <td>CHAR</td>\n",
       "      <td>143</td>\n",
       "      <td>1</td>\n",
       "      <td>1</td>\n",
       "      <td>0</td>\n",
       "      <td>[ZMATERIAL__ZEIS_L2]</td>\n",
       "      <td>[ZMATERIAL__ZEIS_L2]</td>\n",
       "      <td></td>\n",
       "      <td></td>\n",
       "      <td></td>\n",
       "      <td></td>\n",
       "      <td>EIS 제품계층구조 2레벨</td>\n",
       "    </tr>\n",
       "    <tr>\n",
       "      <th>4</th>\n",
       "      <td>ZSDORM06</td>\n",
       "      <td>ZSDORM06/ZPB_SD_Q001</td>\n",
       "      <td>[!V000005]</td>\n",
       "      <td>EIS 제품계층구조 3레벨</td>\n",
       "      <td>4BBITCELS42GGNZAU9S35S1ZK</td>\n",
       "      <td>000005</td>\n",
       "      <td>1</td>\n",
       "      <td>CHAR</td>\n",
       "      <td>143</td>\n",
       "      <td>1</td>\n",
       "      <td>1</td>\n",
       "      <td>0</td>\n",
       "      <td>[ZMATERIAL__ZEIS_L3]</td>\n",
       "      <td>[ZMATERIAL__ZEIS_L3]</td>\n",
       "      <td></td>\n",
       "      <td></td>\n",
       "      <td></td>\n",
       "      <td></td>\n",
       "      <td>EIS 제품계층구조 3레벨</td>\n",
       "    </tr>\n",
       "  </tbody>\n",
       "</table>\n",
       "</div>"
      ],
      "text/plain": [
       "    CAT_NAM              CUBE_NAM     VAR_NAM         VAR_CAP  \\\n",
       "0  ZSDORM06  ZSDORM06/ZPB_SD_Q001  [ZUISAGRP]     영업그룹(복수,선택)   \n",
       "1  ZSDORM06  ZSDORM06/ZPB_SD_Q001    [ZDAY_1]            기간일자   \n",
       "2  ZSDORM06  ZSDORM06/ZPB_SD_Q001  [!V000003]  EIS 제품계층구조 1레벨   \n",
       "3  ZSDORM06  ZSDORM06/ZPB_SD_Q001  [!V000004]  EIS 제품계층구조 2레벨   \n",
       "4  ZSDORM06  ZSDORM06/ZPB_SD_Q001  [!V000005]  EIS 제품계층구조 3레벨   \n",
       "\n",
       "                     VAR_UID VAR_ORDINAL VAR_TYPE DATA_TYPE CHR_MAX_LEN  \\\n",
       "0  3S4GGCUTTKHYIRCW2GQH9W46I      000001        1      CHAR         143   \n",
       "1  47NJGD065TDYVH1DBF5X4EHW2      000002        1      CHAR         143   \n",
       "2  4ASYKSCVW0UTD80EVIAIMKFM8      000003        1      CHAR         143   \n",
       "3  4BBIT97DVP0TP9VKEQSYYYL8W      000004        1      CHAR         143   \n",
       "4  4BBITCELS42GGNZAU9S35S1ZK      000005        1      CHAR         143   \n",
       "\n",
       "  VAR_PROC_TYPE VAR_SELC_TYPE VAR_ENTRY_TYPE                  REF_DIM  \\\n",
       "0             1             3              0  [ZCUSTOMER__0SALES_GRP]   \n",
       "1             1             2              1                [0CALDAY]   \n",
       "2             1             1              0     [ZMATERIAL__ZEIS_L1]   \n",
       "3             1             1              0     [ZMATERIAL__ZEIS_L2]   \n",
       "4             1             1              0     [ZMATERIAL__ZEIS_L3]   \n",
       "\n",
       "                   REF_HRY DFLT_LOW DFLT_HIGH DFLT_LOW_CAP DFLT_HIGH_CAP  \\\n",
       "0  [ZCUSTOMER__0SALES_GRP]                                                 \n",
       "1                [0CALDAY]                                                 \n",
       "2     [ZMATERIAL__ZEIS_L1]                                                 \n",
       "3     [ZMATERIAL__ZEIS_L2]                                                 \n",
       "4     [ZMATERIAL__ZEIS_L3]                                                 \n",
       "\n",
       "          DSCRPTN  \n",
       "0     영업그룹(복수,선택)  \n",
       "1            기간일자  \n",
       "2  EIS 제품계층구조 1레벨  \n",
       "3  EIS 제품계층구조 2레벨  \n",
       "4  EIS 제품계층구조 3레벨  "
      ]
     },
     "execution_count": 27,
     "metadata": {},
     "output_type": "execute_result"
    }
   ],
   "source": [
    "# pd.DataFrame(result['VARIABLES'])"
   ]
  },
  {
   "cell_type": "code",
   "execution_count": null,
   "metadata": {},
   "outputs": [],
   "source": []
  },
  {
   "cell_type": "code",
   "execution_count": 6,
   "metadata": {},
   "outputs": [],
   "source": [
    "# result = conn.call('BAPI_MDPROVIDER_GET_MEMBERS', CUBE_NAM='ZSDORM06/ZPB_SD_Q001')"
   ]
  },
  {
   "cell_type": "code",
   "execution_count": 47,
   "metadata": {
    "scrolled": true
   },
   "outputs": [],
   "source": [
    "result = conn.call('BAPI_MDPROVIDER_GET_PROPERTIES', CUBE_NAM='ZSDORM06/ZPB_SD_Q001', DIM_UNAM = '[ZPLANT]')"
   ]
  },
  {
   "cell_type": "code",
   "execution_count": 51,
   "metadata": {
    "scrolled": true
   },
   "outputs": [
    {
     "data": {
      "text/html": [
       "<div>\n",
       "<style scoped>\n",
       "    .dataframe tbody tr th:only-of-type {\n",
       "        vertical-align: middle;\n",
       "    }\n",
       "\n",
       "    .dataframe tbody tr th {\n",
       "        vertical-align: top;\n",
       "    }\n",
       "\n",
       "    .dataframe thead th {\n",
       "        text-align: right;\n",
       "    }\n",
       "</style>\n",
       "<table border=\"1\" class=\"dataframe\">\n",
       "  <thead>\n",
       "    <tr style=\"text-align: right;\">\n",
       "      <th></th>\n",
       "      <th>CAT_NAM</th>\n",
       "      <th>CUBE_NAM</th>\n",
       "      <th>DIM_UNAM</th>\n",
       "      <th>HRY_UNAM</th>\n",
       "      <th>LVL_UNAM</th>\n",
       "      <th>MEM_UNAM</th>\n",
       "      <th>PRPTY_TYPE</th>\n",
       "      <th>PRPTY_NAM</th>\n",
       "      <th>PRPTY_CAP</th>\n",
       "      <th>DATA_TYPE</th>\n",
       "      <th>CHR_MAX_LEN</th>\n",
       "      <th>CHR_OCT_LEN</th>\n",
       "      <th>NUM_PREC</th>\n",
       "      <th>NUM_SCALE</th>\n",
       "      <th>DSCRPTN</th>\n",
       "    </tr>\n",
       "  </thead>\n",
       "  <tbody>\n",
       "    <tr>\n",
       "      <th>50</th>\n",
       "      <td>ZSDORM06</td>\n",
       "      <td>ZSDORM06/ZPB_SD_Q001</td>\n",
       "      <td>[ZPLANT]</td>\n",
       "      <td>[ZPLANT]</td>\n",
       "      <td>[ZPLANT].[LEVEL01]</td>\n",
       "      <td></td>\n",
       "      <td>1</td>\n",
       "      <td>[20SALES_DIST]</td>\n",
       "      <td>영업지역 (키)</td>\n",
       "      <td>CHAR</td>\n",
       "      <td>006</td>\n",
       "      <td>006</td>\n",
       "      <td></td>\n",
       "      <td></td>\n",
       "      <td>영업지역 (키)</td>\n",
       "    </tr>\n",
       "    <tr>\n",
       "      <th>51</th>\n",
       "      <td>ZSDORM06</td>\n",
       "      <td>ZSDORM06/ZPB_SD_Q001</td>\n",
       "      <td>[ZPLANT]</td>\n",
       "      <td>[ZPLANT]</td>\n",
       "      <td>[ZPLANT].[LEVEL01]</td>\n",
       "      <td></td>\n",
       "      <td>1</td>\n",
       "      <td>[10SALES_DIST]</td>\n",
       "      <td>영업지역 (이름)</td>\n",
       "      <td>CHAR</td>\n",
       "      <td>020</td>\n",
       "      <td>020</td>\n",
       "      <td></td>\n",
       "      <td></td>\n",
       "      <td>영업지역 (이름)</td>\n",
       "    </tr>\n",
       "    <tr>\n",
       "      <th>52</th>\n",
       "      <td>ZSDORM06</td>\n",
       "      <td>ZSDORM06/ZPB_SD_Q001</td>\n",
       "      <td>[ZPLANT]</td>\n",
       "      <td>[ZPLANT]</td>\n",
       "      <td>[ZPLANT].[LEVEL01]</td>\n",
       "      <td></td>\n",
       "      <td>1</td>\n",
       "      <td>[20SRCID]</td>\n",
       "      <td>GeoLoct.데이타소스ID (키)</td>\n",
       "      <td>CHAR</td>\n",
       "      <td>004</td>\n",
       "      <td>004</td>\n",
       "      <td></td>\n",
       "      <td></td>\n",
       "      <td>GeoLoct.데이타소스ID (키)</td>\n",
       "    </tr>\n",
       "  </tbody>\n",
       "</table>\n",
       "</div>"
      ],
      "text/plain": [
       "     CAT_NAM              CUBE_NAM  DIM_UNAM  HRY_UNAM            LVL_UNAM  \\\n",
       "50  ZSDORM06  ZSDORM06/ZPB_SD_Q001  [ZPLANT]  [ZPLANT]  [ZPLANT].[LEVEL01]   \n",
       "51  ZSDORM06  ZSDORM06/ZPB_SD_Q001  [ZPLANT]  [ZPLANT]  [ZPLANT].[LEVEL01]   \n",
       "52  ZSDORM06  ZSDORM06/ZPB_SD_Q001  [ZPLANT]  [ZPLANT]  [ZPLANT].[LEVEL01]   \n",
       "\n",
       "   MEM_UNAM PRPTY_TYPE       PRPTY_NAM            PRPTY_CAP DATA_TYPE  \\\n",
       "50                   1  [20SALES_DIST]             영업지역 (키)      CHAR   \n",
       "51                   1  [10SALES_DIST]            영업지역 (이름)      CHAR   \n",
       "52                   1       [20SRCID]  GeoLoct.데이타소스ID (키)      CHAR   \n",
       "\n",
       "   CHR_MAX_LEN CHR_OCT_LEN NUM_PREC NUM_SCALE              DSCRPTN  \n",
       "50         006         006                                영업지역 (키)  \n",
       "51         020         020                               영업지역 (이름)  \n",
       "52         004         004                     GeoLoct.데이타소스ID (키)  "
      ]
     },
     "execution_count": 51,
     "metadata": {},
     "output_type": "execute_result"
    }
   ],
   "source": [
    "pd.DataFrame(result['PROPERTIES']).tail(3)"
   ]
  },
  {
   "cell_type": "code",
   "execution_count": null,
   "metadata": {},
   "outputs": [],
   "source": []
  },
  {
   "cell_type": "code",
   "execution_count": null,
   "metadata": {},
   "outputs": [],
   "source": []
  },
  {
   "cell_type": "code",
   "execution_count": 33,
   "metadata": {},
   "outputs": [
    {
     "ename": "ABAPApplicationError",
     "evalue": "RFC_ABAP_EXCEPTION (rc=5): key=TABLE_NOT_AVAILABLE, message=ID:SV Type:E Number:029 ZPB_SD_Q001 [MSG: class=SV, type=E, number=029, v1-4:=ZPB_SD_Q001;;;]",
     "output_type": "error",
     "traceback": [
      "\u001b[1;31m---------------------------------------------------------------------------\u001b[0m",
      "\u001b[1;31mABAPApplicationError\u001b[0m                      Traceback (most recent call last)",
      "\u001b[1;32m<ipython-input-33-14925c3ec8fc>\u001b[0m in \u001b[0;36m<module>\u001b[1;34m\u001b[0m\n\u001b[0;32m      5\u001b[0m                               \u001b[1;33m{\u001b[0m\u001b[1;34m'TEXT'\u001b[0m\u001b[1;33m:\u001b[0m \u001b[1;34m\"[!V000003] = '00000000000000000000000000010301'\"\u001b[0m \u001b[1;33m}\u001b[0m\u001b[1;33m,\u001b[0m\u001b[1;33m\u001b[0m\u001b[1;33m\u001b[0m\u001b[0m\n\u001b[0;32m      6\u001b[0m                              ], \n\u001b[1;32m----> 7\u001b[1;33m                    DELIMITER = \",\")\n\u001b[0m",
      "\u001b[1;32msrc/pyrfc/_pyrfc.pyx\u001b[0m in \u001b[0;36mpyrfc.pyrfc.Connection.call\u001b[1;34m()\u001b[0m\n",
      "\u001b[1;32msrc/pyrfc/_pyrfc.pyx\u001b[0m in \u001b[0;36mpyrfc.pyrfc.Connection._error\u001b[1;34m()\u001b[0m\n",
      "\u001b[1;31mABAPApplicationError\u001b[0m: RFC_ABAP_EXCEPTION (rc=5): key=TABLE_NOT_AVAILABLE, message=ID:SV Type:E Number:029 ZPB_SD_Q001 [MSG: class=SV, type=E, number=029, v1-4:=ZPB_SD_Q001;;;]"
     ]
    }
   ],
   "source": [
    "result = conn.call(\"RFC_READ_TABLE\", \n",
    "                   QUERY_TABLE='ZSDORM06/ZPB_SD_Q001', \n",
    "#                    DIM_NAM = Measures, \n",
    "                   OPTIONS = [{'TEXT': \"[ZDAY_1] = {20220901 - 20220902}\"},\n",
    "                              {'TEXT': \"[!V000003] = '00000000000000000000000000010301'\" }, \n",
    "                             ], \n",
    "                   DELIMITER = \",\")"
   ]
  },
  {
   "cell_type": "code",
   "execution_count": null,
   "metadata": {},
   "outputs": [],
   "source": [
    "result = conn.call(\"RFC_READ_TABLE\", QUERY_TABLE='MCHB', FIELDS = fields, OPTIONS = [{'TEXT': \"WERKS = 'KR18'\"}])"
   ]
  },
  {
   "cell_type": "code",
   "execution_count": null,
   "metadata": {},
   "outputs": [],
   "source": []
  },
  {
   "cell_type": "code",
   "execution_count": null,
   "metadata": {},
   "outputs": [],
   "source": [
    "= Cube.Transform(#\"ZSDORM06/ZPB_SD_Q001\",\n",
    "        {\n",
    "            {Cube.ApplyParameter, \"[ZDAY_1]\", {20220901 - 20220902}},\n",
    "            {Cube.ApplyParameter, \"[!V000003]\", {\"[ZMATERIAL__ZEIS_L1].[00000000000000000000000000010301]\"}},\n",
    "            {Cube.AddAndExpandDimensionColumn, \"[ZMATERIAL__ZEIS_L1]\", {\"[ZMATERIAL__ZEIS_L1].[LEVEL01]\"}, {\"EIS 표준계층구조 1레벨.EIS 표준계층구조 1레벨 레벨 01\"}},\n",
    "            {Cube.AddAndExpandDimensionColumn, \"[0CALDAY]\", {\"[0CALDAY].[LEVEL01]\"}, {\"달력일.달력일 레벨 01\"}},\n",
    "            {Cube.AddMeasureColumn, \"수주금액\", \"[Measures].[9SMYY8SQSKECRELW0ZIZ7VDOW]\"},\n",
    "            {Cube.AddMeasureColumn, \"수주수량\", \"[Measures].[9M8SI8WYOF6CBW27E0EEOWG7K]\"}\n",
    "        })"
   ]
  },
  {
   "cell_type": "code",
   "execution_count": 15,
   "metadata": {},
   "outputs": [
    {
     "ename": "ABAPApplicationError",
     "evalue": "RFC_ABAP_EXCEPTION (rc=5): key=FU_NOT_FOUND, message=ID:FL Type:E Number:046 BAPI_MATERIAL_GET_ALL [MSG: class=FL, type=E, number=046, v1-4:=BAPI_MATERIAL_GET_ALL;;;]",
     "output_type": "error",
     "traceback": [
      "\u001b[1;31m---------------------------------------------------------------------------\u001b[0m",
      "\u001b[1;31mABAPApplicationError\u001b[0m                      Traceback (most recent call last)",
      "\u001b[1;32m<ipython-input-15-81fd4de2ec8f>\u001b[0m in \u001b[0;36m<module>\u001b[1;34m\u001b[0m\n\u001b[0;32m      1\u001b[0m \u001b[1;31m# fields =  ['ZSALEAMNT' ]\u001b[0m\u001b[1;33m\u001b[0m\u001b[1;33m\u001b[0m\u001b[1;33m\u001b[0m\u001b[0m\n\u001b[1;32m----> 2\u001b[1;33m \u001b[0mresult\u001b[0m \u001b[1;33m=\u001b[0m \u001b[0mconn\u001b[0m\u001b[1;33m.\u001b[0m\u001b[0mcall\u001b[0m\u001b[1;33m(\u001b[0m\u001b[1;34m\"BAPI_MATERIAL_GET_ALL\"\u001b[0m\u001b[1;33m)\u001b[0m\u001b[1;33m\u001b[0m\u001b[1;33m\u001b[0m\u001b[0m\n\u001b[0m\u001b[0;32m      3\u001b[0m \u001b[0mprint\u001b[0m\u001b[1;33m(\u001b[0m\u001b[0mresult\u001b[0m\u001b[1;33m)\u001b[0m\u001b[1;33m\u001b[0m\u001b[1;33m\u001b[0m\u001b[0m\n",
      "\u001b[1;32msrc/pyrfc/_pyrfc.pyx\u001b[0m in \u001b[0;36mpyrfc.pyrfc.Connection.call\u001b[1;34m()\u001b[0m\n",
      "\u001b[1;32msrc/pyrfc/_pyrfc.pyx\u001b[0m in \u001b[0;36mpyrfc.pyrfc.Connection._error\u001b[1;34m()\u001b[0m\n",
      "\u001b[1;31mABAPApplicationError\u001b[0m: RFC_ABAP_EXCEPTION (rc=5): key=FU_NOT_FOUND, message=ID:FL Type:E Number:046 BAPI_MATERIAL_GET_ALL [MSG: class=FL, type=E, number=046, v1-4:=BAPI_MATERIAL_GET_ALL;;;]"
     ]
    }
   ],
   "source": [
    "# fields =  ['ZSALEAMNT' ]\n",
    "result = conn.call(\"BAPI_MATERIAL_GET_ALL\")\n",
    "print(result)"
   ]
  },
  {
   "cell_type": "code",
   "execution_count": 25,
   "metadata": {},
   "outputs": [
    {
     "name": "stdout",
     "output_type": "stream",
     "text": [
      "{'TYPE': 'E', 'ID': 'RS_EXCEPTION', 'NUMBER': '000', 'MESSAGE': 'Exception CX_RSR_MDX_EMPTY occurred (program: CL_R SR_MDX_COMMAND============CP, include: CL_RSR_MDX_ COMMAND============CM001, line: 15).', 'LOG_NO': '', 'LOG_MSG_NO': '000000', 'MESSAGE_V1': 'Exception CX_RSR_MDX_EMPTY occurred (program: CL_R', 'MESSAGE_V2': 'SR_MDX_COMMAND============CP, include: CL_RSR_MDX_', 'MESSAGE_V3': 'COMMAND============CM001, line: 15).', 'MESSAGE_V4': '', 'PARAMETER': '', 'ROW': 0, 'FIELD': '', 'SYSTEM': 'BIPCLNT001'}\n"
     ]
    }
   ],
   "source": [
    "fields =  ['ZSALEAMNT' ]\n",
    "result = conn.call(\"RFC_READ_TABLE\", QUERY_TABLE=u'ZSDOPLM01/ZPB_SD_Q014', FIELDS = fields\n",
    "                   , OPTIONS = [{'TEXT': \"ZC_PMO01 = '2022.10'\"},\n",
    "                                {'TEXT': \"ZUSMLV01 = '00000000000000000000000000010301'\" }, \n",
    "                                {'TEXT': \"ZCALMON1 = '2022.09 - 2022.09'\" } ], \n",
    "                   DELIMITER = \",\")"
   ]
  },
  {
   "cell_type": "code",
   "execution_count": null,
   "metadata": {},
   "outputs": [],
   "source": []
  },
  {
   "cell_type": "code",
   "execution_count": null,
   "metadata": {},
   "outputs": [],
   "source": []
  },
  {
   "cell_type": "code",
   "execution_count": null,
   "metadata": {},
   "outputs": [],
   "source": [
    "# result = conn.call('BAPI_MDPROVIDER_GET_MEASURES')\n",
    "# print (result)"
   ]
  },
  {
   "cell_type": "code",
   "execution_count": null,
   "metadata": {},
   "outputs": [],
   "source": [
    "# result = conn.call('BAPI_MDPROVIDER_GET_DIMENSIONS')\n",
    "# print (result)"
   ]
  },
  {
   "cell_type": "code",
   "execution_count": null,
   "metadata": {},
   "outputs": [],
   "source": []
  },
  {
   "cell_type": "code",
   "execution_count": 79,
   "metadata": {},
   "outputs": [
    {
     "ename": "ABAPApplicationError",
     "evalue": "RFC_ABAP_EXCEPTION (rc=5): key=FU_NOT_FOUND, message=ID:FL Type:E Number:046 RSRTS_ACTIVATE_R3IS [MSG: class=FL, type=E, number=046, v1-4:=RSRTS_ACTIVATE_R3IS;;;]",
     "output_type": "error",
     "traceback": [
      "\u001b[1;31m---------------------------------------------------------------------------\u001b[0m",
      "\u001b[1;31mABAPApplicationError\u001b[0m                      Traceback (most recent call last)",
      "\u001b[1;32m<ipython-input-79-f220421843c6>\u001b[0m in \u001b[0;36m<module>\u001b[1;34m\u001b[0m\n\u001b[0;32m      1\u001b[0m \u001b[1;31m# ???\u001b[0m\u001b[1;33m\u001b[0m\u001b[1;33m\u001b[0m\u001b[1;33m\u001b[0m\u001b[0m\n\u001b[1;32m----> 2\u001b[1;33m \u001b[0mresult\u001b[0m \u001b[1;33m=\u001b[0m \u001b[0mconn\u001b[0m\u001b[1;33m.\u001b[0m\u001b[0mcall\u001b[0m\u001b[1;33m(\u001b[0m\u001b[1;34m'RSRTS_ACTIVATE_R3IS'\u001b[0m\u001b[1;33m)\u001b[0m\u001b[1;33m\u001b[0m\u001b[1;33m\u001b[0m\u001b[0m\n\u001b[0m\u001b[0;32m      3\u001b[0m \u001b[0mprint\u001b[0m \u001b[1;33m(\u001b[0m\u001b[0mresult\u001b[0m\u001b[1;33m)\u001b[0m\u001b[1;33m\u001b[0m\u001b[1;33m\u001b[0m\u001b[0m\n",
      "\u001b[1;32msrc/pyrfc/_pyrfc.pyx\u001b[0m in \u001b[0;36mpyrfc.pyrfc.Connection.call\u001b[1;34m()\u001b[0m\n",
      "\u001b[1;32msrc/pyrfc/_pyrfc.pyx\u001b[0m in \u001b[0;36mpyrfc.pyrfc.Connection._error\u001b[1;34m()\u001b[0m\n",
      "\u001b[1;31mABAPApplicationError\u001b[0m: RFC_ABAP_EXCEPTION (rc=5): key=FU_NOT_FOUND, message=ID:FL Type:E Number:046 RSRTS_ACTIVATE_R3IS [MSG: class=FL, type=E, number=046, v1-4:=RSRTS_ACTIVATE_R3IS;;;]"
     ]
    }
   ],
   "source": [
    "# ???\n",
    "result = conn.call('RSRTS_ACTIVATE_R3IS')\n",
    "print (result)"
   ]
  },
  {
   "cell_type": "code",
   "execution_count": null,
   "metadata": {},
   "outputs": [],
   "source": []
  },
  {
   "cell_type": "code",
   "execution_count": null,
   "metadata": {},
   "outputs": [],
   "source": []
  },
  {
   "cell_type": "code",
   "execution_count": null,
   "metadata": {},
   "outputs": [],
   "source": []
  },
  {
   "cell_type": "code",
   "execution_count": null,
   "metadata": {},
   "outputs": [],
   "source": []
  },
  {
   "cell_type": "code",
   "execution_count": null,
   "metadata": {},
   "outputs": [],
   "source": []
  },
  {
   "cell_type": "code",
   "execution_count": null,
   "metadata": {},
   "outputs": [],
   "source": []
  },
  {
   "cell_type": "code",
   "execution_count": null,
   "metadata": {},
   "outputs": [],
   "source": [
    "= Cube.Transform(#\"ZSDORM06/ZPB_SD_Q001\",\n",
    "        {\n",
    "            {Cube.ApplyParameter, \"[ZDAY_1]\", {20220901 - 20220902}},\n",
    "            {Cube.ApplyParameter, \"[!V000003]\", {\"[ZMATERIAL__ZEIS_L1].[00000000000000000000000000010301]\"}},\n",
    "            {Cube.AddAndExpandDimensionColumn, \"[ZMATERIAL__ZEIS_L1]\", {\"[ZMATERIAL__ZEIS_L1].[LEVEL01]\"}, {\"EIS 표준계층구조 1레벨.EIS 표준계층구조 1레벨 레벨 01\"}},\n",
    "            {Cube.AddAndExpandDimensionColumn, \"[0CALDAY]\", {\"[0CALDAY].[LEVEL01]\"}, {\"달력일.달력일 레벨 01\"}},\n",
    "            {Cube.AddMeasureColumn, \"수주금액\", \"[Measures].[9SMYY8SQSKECRELW0ZIZ7VDOW]\"},\n",
    "            {Cube.AddMeasureColumn, \"수주수량\", \"[Measures].[9M8SI8WYOF6CBW27E0EEOWG7K]\"}\n",
    "        })"
   ]
  }
 ],
 "metadata": {
  "kernelspec": {
   "display_name": "Python 3",
   "language": "python",
   "name": "python3"
  }
 },
 "nbformat": 4,
 "nbformat_minor": 4
}
