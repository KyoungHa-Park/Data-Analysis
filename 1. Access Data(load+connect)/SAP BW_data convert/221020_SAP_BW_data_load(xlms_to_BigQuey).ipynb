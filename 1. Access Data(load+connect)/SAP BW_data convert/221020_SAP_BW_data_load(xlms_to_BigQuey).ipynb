{
 "cells": [
  {
   "cell_type": "code",
   "execution_count": null,
   "metadata": {},
   "outputs": [],
   "source": []
  },
  {
   "attachments": {},
   "cell_type": "markdown",
   "metadata": {},
   "source": [
    "+ xlms 자료 구분(text 기준)\n",
    "+ xlms 자료 읽기(특정범위)\n",
    "+ xlms data 변환(data fill)\n",
    "+ xlms data merge\n",
    "+ bigquery upload"
   ]
  },
  {
   "cell_type": "code",
   "execution_count": null,
   "metadata": {},
   "outputs": [],
   "source": []
  },
  {
   "cell_type": "code",
   "execution_count": 29,
   "metadata": {},
   "outputs": [],
   "source": [
    "import csv\n",
    "import xlrd\n",
    "import pandas as pd\n",
    "from pandas import DataFrame\n",
    "import os\n",
    "from os import listdir\n",
    "from datetime import datetime, timedelta\n",
    "\n",
    "\n",
    "import pandas as pd\n",
    "from datetime import datetime, timedelta\n",
    "import time \n",
    "import re\n",
    "from google.cloud import bigquery\n",
    "\n",
    "# 접속 정보 : local\n",
    "import os\n",
    "os.environ[\"GOOGLE_APPLICATION_CREDENTIALS\"]=\"./boxwood****************************.json\"\n",
    "client = bigquery.Client()"
   ]
  },
  {
   "cell_type": "code",
   "execution_count": null,
   "metadata": {},
   "outputs": [],
   "source": []
  },
  {
   "attachments": {},
   "cell_type": "markdown",
   "metadata": {},
   "source": [
    "### xlsm 자료 변환"
   ]
  },
  {
   "cell_type": "code",
   "execution_count": null,
   "metadata": {},
   "outputs": [],
   "source": []
  },
  {
   "cell_type": "code",
   "execution_count": 44,
   "metadata": {},
   "outputs": [],
   "source": [
    "# 경로 설정\n",
    "directory_name = \"C:/Users/MAEIL/Desktop/SAP BW\"\n",
    "\n",
    "# 파일명 가져오기\n",
    "file_dir = listdir(directory_name)"
   ]
  },
  {
   "cell_type": "code",
   "execution_count": 45,
   "metadata": {},
   "outputs": [
    {
     "data": {
      "text/plain": [
       "['221021_check_list.xlsx',\n",
       " 'ZPB_SD_Q003_202204.xlsm',\n",
       " 'ZPB_SD_Q003_202205.xlsm',\n",
       " 'ZPB_SD_Q003_202206.xlsm',\n",
       " 'ZPB_SD_Q003_202207.xlsm',\n",
       " 'ZPB_SD_Q003_202208.xlsm',\n",
       " 'ZPB_SD_Q016_202101.xlsm',\n",
       " 'ZPB_SD_Q016_202102.xlsm',\n",
       " 'ZPB_SD_Q016_202103.xlsm',\n",
       " 'ZPB_SD_Q016_202104.xlsm',\n",
       " '[Business View] 미출현황',\n",
       " '[Business View] 생산현황',\n",
       " '[Business View] 손익현황',\n",
       " '[Business View] 일별 수주현황(계획대비실적)',\n",
       " '[Business View] 일별매출현황',\n",
       " '[Business View] 일별판매현황(계획대비실적)',\n",
       " '[Business View] 재고현황',\n",
       " '[Business View] 취급율 현황',\n",
       " '~$221021_check_list.xlsx',\n",
       " '~$ZPB_SD_Q003_202208.xlsm',\n",
       " '~$ZPB_SD_Q016_202104.xlsm']"
      ]
     },
     "execution_count": 45,
     "metadata": {},
     "output_type": "execute_result"
    }
   ],
   "source": [
    "file_dir"
   ]
  },
  {
   "cell_type": "code",
   "execution_count": null,
   "metadata": {},
   "outputs": [],
   "source": []
  },
  {
   "cell_type": "code",
   "execution_count": 5,
   "metadata": {},
   "outputs": [],
   "source": [
    "# 경로 설정\n",
    "directory_name = \"C:/Users/MAEIL/Desktop/SAP BW\" + '/'+file_dir[3] \n",
    "\n",
    "# 파일명 가져오기\n",
    "file_list = listdir(directory_name)"
   ]
  },
  {
   "cell_type": "code",
   "execution_count": 6,
   "metadata": {},
   "outputs": [
    {
     "data": {
      "text/plain": [
       "['ZPB_SD_Q013_202101.xlsm',\n",
       " 'ZPB_SD_Q013_202102.xlsm',\n",
       " 'ZPB_SD_Q013_202103.xlsm',\n",
       " 'ZPB_SD_Q013_202104.xlsm',\n",
       " 'ZPB_SD_Q013_202105.xlsm',\n",
       " 'ZPB_SD_Q013_202106.xlsm',\n",
       " 'ZPB_SD_Q013_202107.xlsm',\n",
       " 'ZPB_SD_Q013_202108.xlsm',\n",
       " 'ZPB_SD_Q013_202109.xlsm',\n",
       " 'ZPB_SD_Q013_202110.xlsm',\n",
       " 'ZPB_SD_Q013_202111.xlsm',\n",
       " 'ZPB_SD_Q013_202112.xlsm',\n",
       " 'ZPB_SD_Q013_202201.xlsm',\n",
       " 'ZPB_SD_Q013_202202.xlsm',\n",
       " 'ZPB_SD_Q013_202203.xlsm',\n",
       " 'ZPB_SD_Q013_202204.xlsm',\n",
       " 'ZPB_SD_Q013_202205.xlsm',\n",
       " 'ZPB_SD_Q013_202206.xlsm',\n",
       " 'ZPB_SD_Q013_202207.xlsm',\n",
       " 'ZPB_SD_Q013_202208.xlsm',\n",
       " 'ZPB_SD_Q013_202209.xlsm']"
      ]
     },
     "execution_count": 6,
     "metadata": {},
     "output_type": "execute_result"
    }
   ],
   "source": [
    "file_list"
   ]
  },
  {
   "cell_type": "code",
   "execution_count": null,
   "metadata": {},
   "outputs": [],
   "source": []
  },
  {
   "cell_type": "code",
   "execution_count": 11,
   "metadata": {},
   "outputs": [],
   "source": [
    "def read_data(f_name):\n",
    "    df_temp = pd.read_excel(f_name, sheet_name='Table')\n",
    "    df_temp = df_temp[13:][list(df_temp.columns[6:])].reset_index(drop=True)\n",
    "    df_temp.loc[0, 'Unnamed: 10'] = 'SKU'\n",
    "    df_temp.loc[0, 'Unnamed: 12'] = '조직명'\n",
    "    new_header = df_temp.iloc[0] #grab the first row for the header\n",
    "    df_temp = df_temp[1:] #take the data less the header row\n",
    "    df_temp.columns = new_header #set the header row as the df header\n",
    "    df_temp = df_temp.fillna(method='ffill')\n",
    "    df_temp = df_temp.reset_index(drop=True)\n",
    "    df_temp['달력일'] = pd.to_datetime(df_temp['달력일'])\n",
    "    return df_temp"
   ]
  },
  {
   "cell_type": "code",
   "execution_count": null,
   "metadata": {},
   "outputs": [],
   "source": []
  },
  {
   "cell_type": "code",
   "execution_count": 12,
   "metadata": {},
   "outputs": [],
   "source": [
    "df_01 = read_data(directory_name + '/'+file_list[0])\n",
    "# df_02 = read_data(directory_name + '/'+file_list[1])\n",
    "# df_03 = read_data(directory_name + '/'+file_list[2])\n",
    "# df_04 = read_data(directory_name + '/'+file_list[3])\n",
    "# df_05 = read_data(directory_name + '/'+file_list[4])\n",
    "# df_06 = read_data(directory_name + '/'+file_list[5])\n",
    "# df_07 = read_data(directory_name + '/'+file_list[6])\n",
    "# df_08 = read_data(directory_name + '/'+file_list[7])\n",
    "# df_09 = read_data(directory_name + '/'+file_list[8])"
   ]
  },
  {
   "cell_type": "code",
   "execution_count": 13,
   "metadata": {},
   "outputs": [
    {
     "data": {
      "text/html": [
       "<div>\n",
       "<style scoped>\n",
       "    .dataframe tbody tr th:only-of-type {\n",
       "        vertical-align: middle;\n",
       "    }\n",
       "\n",
       "    .dataframe tbody tr th {\n",
       "        vertical-align: top;\n",
       "    }\n",
       "\n",
       "    .dataframe thead th {\n",
       "        text-align: right;\n",
       "    }\n",
       "</style>\n",
       "<table border=\"1\" class=\"dataframe\">\n",
       "  <thead>\n",
       "    <tr style=\"text-align: right;\">\n",
       "      <th></th>\n",
       "      <th>EIS 표준계층구조 1레벨</th>\n",
       "      <th>EIS 표준계층구조 2레벨</th>\n",
       "      <th>EIS 표준계층구조 3레벨</th>\n",
       "      <th>자재</th>\n",
       "      <th>SKU</th>\n",
       "      <th>조직구분3(N)</th>\n",
       "      <th>조직명</th>\n",
       "      <th>달력일</th>\n",
       "      <th>고객계층구조레벨 1(N</th>\n",
       "      <th>고객계층구조레벨 3(N</th>\n",
       "      <th>판매계획수량</th>\n",
       "      <th>수주수량</th>\n",
       "      <th>판매계획수주환산용량</th>\n",
       "      <th>수주환산용량</th>\n",
       "      <th>판매계획금액</th>\n",
       "      <th>수주금액</th>\n",
       "    </tr>\n",
       "  </thead>\n",
       "  <tbody>\n",
       "    <tr>\n",
       "      <th>0</th>\n",
       "      <td>Plant&amp; 제품군</td>\n",
       "      <td>두유</td>\n",
       "      <td>칼슘두유</td>\n",
       "      <td>101352</td>\n",
       "      <td>매일두유고칼슘플레인190ML*24</td>\n",
       "      <td>100</td>\n",
       "      <td>본사</td>\n",
       "      <td>2021-01-02</td>\n",
       "      <td>온라인</td>\n",
       "      <td>B2C_쿠팡(VF)</td>\n",
       "      <td>0</td>\n",
       "      <td>3864</td>\n",
       "      <td>0</td>\n",
       "      <td>734.16</td>\n",
       "      <td>0</td>\n",
       "      <td>823032.0</td>\n",
       "    </tr>\n",
       "    <tr>\n",
       "      <th>1</th>\n",
       "      <td>Plant&amp; 제품군</td>\n",
       "      <td>두유</td>\n",
       "      <td>칼슘두유</td>\n",
       "      <td>101352</td>\n",
       "      <td>매일두유고칼슘플레인190ML*24</td>\n",
       "      <td>100</td>\n",
       "      <td>본사</td>\n",
       "      <td>2021-01-02</td>\n",
       "      <td>온라인</td>\n",
       "      <td>B2C_우아한형제들</td>\n",
       "      <td>0</td>\n",
       "      <td>48</td>\n",
       "      <td>0</td>\n",
       "      <td>9.12</td>\n",
       "      <td>0</td>\n",
       "      <td>12960.0</td>\n",
       "    </tr>\n",
       "    <tr>\n",
       "      <th>2</th>\n",
       "      <td>Plant&amp; 제품군</td>\n",
       "      <td>두유</td>\n",
       "      <td>칼슘두유</td>\n",
       "      <td>101352</td>\n",
       "      <td>매일두유고칼슘플레인190ML*24</td>\n",
       "      <td>100</td>\n",
       "      <td>본사</td>\n",
       "      <td>2021-01-04</td>\n",
       "      <td>특수채널</td>\n",
       "      <td>어린이집</td>\n",
       "      <td>0</td>\n",
       "      <td>4</td>\n",
       "      <td>0</td>\n",
       "      <td>0.76</td>\n",
       "      <td>0</td>\n",
       "      <td>1924.0</td>\n",
       "    </tr>\n",
       "    <tr>\n",
       "      <th>3</th>\n",
       "      <td>Plant&amp; 제품군</td>\n",
       "      <td>두유</td>\n",
       "      <td>칼슘두유</td>\n",
       "      <td>101352</td>\n",
       "      <td>매일두유고칼슘플레인190ML*24</td>\n",
       "      <td>100</td>\n",
       "      <td>본사</td>\n",
       "      <td>2021-01-04</td>\n",
       "      <td>온라인</td>\n",
       "      <td>B2C_쿠팡(VF)</td>\n",
       "      <td>0</td>\n",
       "      <td>8712</td>\n",
       "      <td>0</td>\n",
       "      <td>1655.28</td>\n",
       "      <td>0</td>\n",
       "      <td>1855656.0</td>\n",
       "    </tr>\n",
       "    <tr>\n",
       "      <th>4</th>\n",
       "      <td>Plant&amp; 제품군</td>\n",
       "      <td>두유</td>\n",
       "      <td>칼슘두유</td>\n",
       "      <td>101352</td>\n",
       "      <td>매일두유고칼슘플레인190ML*24</td>\n",
       "      <td>100</td>\n",
       "      <td>본사</td>\n",
       "      <td>2021-01-04</td>\n",
       "      <td>온라인</td>\n",
       "      <td>B2C_이베이코리아</td>\n",
       "      <td>0</td>\n",
       "      <td>4560</td>\n",
       "      <td>0</td>\n",
       "      <td>866.40</td>\n",
       "      <td>0</td>\n",
       "      <td>1755600.0</td>\n",
       "    </tr>\n",
       "    <tr>\n",
       "      <th>...</th>\n",
       "      <td>...</td>\n",
       "      <td>...</td>\n",
       "      <td>...</td>\n",
       "      <td>...</td>\n",
       "      <td>...</td>\n",
       "      <td>...</td>\n",
       "      <td>...</td>\n",
       "      <td>...</td>\n",
       "      <td>...</td>\n",
       "      <td>...</td>\n",
       "      <td>...</td>\n",
       "      <td>...</td>\n",
       "      <td>...</td>\n",
       "      <td>...</td>\n",
       "      <td>...</td>\n",
       "      <td>...</td>\n",
       "    </tr>\n",
       "    <tr>\n",
       "      <th>12479</th>\n",
       "      <td>Plant&amp; 제품군</td>\n",
       "      <td>수입버터</td>\n",
       "      <td>수입버터기타</td>\n",
       "      <td>204357</td>\n",
       "      <td>MFC 데빅 판버터 2KG*5</td>\n",
       "      <td>400</td>\n",
       "      <td>FS/특수지점</td>\n",
       "      <td>2021-01-30</td>\n",
       "      <td>지역FS(대리점)</td>\n",
       "      <td>FS대리점</td>\n",
       "      <td>0</td>\n",
       "      <td>40</td>\n",
       "      <td>0</td>\n",
       "      <td>80.00</td>\n",
       "      <td>0</td>\n",
       "      <td>720000.0</td>\n",
       "    </tr>\n",
       "    <tr>\n",
       "      <th>12480</th>\n",
       "      <td>Plant&amp; 제품군</td>\n",
       "      <td>수입버터</td>\n",
       "      <td>수입버터기타</td>\n",
       "      <td>204357</td>\n",
       "      <td>MFC 데빅 판버터 2KG*5</td>\n",
       "      <td>400</td>\n",
       "      <td>FS/특수지점</td>\n",
       "      <td>2021-01-31</td>\n",
       "      <td>특수채널</td>\n",
       "      <td>어린이집대리점</td>\n",
       "      <td>0</td>\n",
       "      <td>-5</td>\n",
       "      <td>0</td>\n",
       "      <td>-10.00</td>\n",
       "      <td>0</td>\n",
       "      <td>-90000.0</td>\n",
       "    </tr>\n",
       "    <tr>\n",
       "      <th>12481</th>\n",
       "      <td>Plant&amp; 제품군</td>\n",
       "      <td>수입버터</td>\n",
       "      <td>수입버터기타</td>\n",
       "      <td>204357</td>\n",
       "      <td>MFC 데빅 판버터 2KG*5</td>\n",
       "      <td>400</td>\n",
       "      <td>FS/특수지점</td>\n",
       "      <td>2021-01-31</td>\n",
       "      <td>본부FS</td>\n",
       "      <td>캐터링 대리점</td>\n",
       "      <td>0</td>\n",
       "      <td>-5</td>\n",
       "      <td>0</td>\n",
       "      <td>-10.00</td>\n",
       "      <td>0</td>\n",
       "      <td>-90000.0</td>\n",
       "    </tr>\n",
       "    <tr>\n",
       "      <th>12482</th>\n",
       "      <td>Plant&amp; 제품군</td>\n",
       "      <td>수입버터</td>\n",
       "      <td>수입버터기타</td>\n",
       "      <td>204357</td>\n",
       "      <td>MFC 데빅 판버터 2KG*5</td>\n",
       "      <td>400</td>\n",
       "      <td>FS/특수지점</td>\n",
       "      <td>2021-01-31</td>\n",
       "      <td>지역FS(대리점)</td>\n",
       "      <td>FS대리점</td>\n",
       "      <td>0</td>\n",
       "      <td>-4</td>\n",
       "      <td>0</td>\n",
       "      <td>-8.00</td>\n",
       "      <td>0</td>\n",
       "      <td>-72000.0</td>\n",
       "    </tr>\n",
       "    <tr>\n",
       "      <th>12483</th>\n",
       "      <td>Plant&amp; 제품군</td>\n",
       "      <td>수입버터</td>\n",
       "      <td>수입버터기타</td>\n",
       "      <td>204357</td>\n",
       "      <td>MFC 데빅 판버터 2KG*5</td>\n",
       "      <td>400</td>\n",
       "      <td>FS/특수지점</td>\n",
       "      <td>2021-01-31</td>\n",
       "      <td>지역FS(대리점)</td>\n",
       "      <td>식자재유통</td>\n",
       "      <td>0</td>\n",
       "      <td>-5</td>\n",
       "      <td>0</td>\n",
       "      <td>-10.00</td>\n",
       "      <td>0</td>\n",
       "      <td>-90000.0</td>\n",
       "    </tr>\n",
       "  </tbody>\n",
       "</table>\n",
       "<p>12484 rows × 16 columns</p>\n",
       "</div>"
      ],
      "text/plain": [
       "0     EIS 표준계층구조 1레벨 EIS 표준계층구조 2레벨 EIS 표준계층구조 3레벨      자재  \\\n",
       "0         Plant& 제품군             두유           칼슘두유  101352   \n",
       "1         Plant& 제품군             두유           칼슘두유  101352   \n",
       "2         Plant& 제품군             두유           칼슘두유  101352   \n",
       "3         Plant& 제품군             두유           칼슘두유  101352   \n",
       "4         Plant& 제품군             두유           칼슘두유  101352   \n",
       "...              ...            ...            ...     ...   \n",
       "12479     Plant& 제품군           수입버터         수입버터기타  204357   \n",
       "12480     Plant& 제품군           수입버터         수입버터기타  204357   \n",
       "12481     Plant& 제품군           수입버터         수입버터기타  204357   \n",
       "12482     Plant& 제품군           수입버터         수입버터기타  204357   \n",
       "12483     Plant& 제품군           수입버터         수입버터기타  204357   \n",
       "\n",
       "0                     SKU 조직구분3(N)      조직명        달력일 고객계층구조레벨 1(N  \\\n",
       "0      매일두유고칼슘플레인190ML*24      100       본사 2021-01-02          온라인   \n",
       "1      매일두유고칼슘플레인190ML*24      100       본사 2021-01-02          온라인   \n",
       "2      매일두유고칼슘플레인190ML*24      100       본사 2021-01-04         특수채널   \n",
       "3      매일두유고칼슘플레인190ML*24      100       본사 2021-01-04          온라인   \n",
       "4      매일두유고칼슘플레인190ML*24      100       본사 2021-01-04          온라인   \n",
       "...                   ...      ...      ...        ...          ...   \n",
       "12479    MFC 데빅 판버터 2KG*5      400  FS/특수지점 2021-01-30    지역FS(대리점)   \n",
       "12480    MFC 데빅 판버터 2KG*5      400  FS/특수지점 2021-01-31         특수채널   \n",
       "12481    MFC 데빅 판버터 2KG*5      400  FS/특수지점 2021-01-31         본부FS   \n",
       "12482    MFC 데빅 판버터 2KG*5      400  FS/특수지점 2021-01-31    지역FS(대리점)   \n",
       "12483    MFC 데빅 판버터 2KG*5      400  FS/특수지점 2021-01-31    지역FS(대리점)   \n",
       "\n",
       "0     고객계층구조레벨 3(N  판매계획수량  수주수량  판매계획수주환산용량   수주환산용량  판매계획금액       수주금액  \n",
       "0       B2C_쿠팡(VF)       0  3864           0   734.16       0   823032.0  \n",
       "1       B2C_우아한형제들       0    48           0     9.12       0    12960.0  \n",
       "2             어린이집       0     4           0     0.76       0     1924.0  \n",
       "3       B2C_쿠팡(VF)       0  8712           0  1655.28       0  1855656.0  \n",
       "4       B2C_이베이코리아       0  4560           0   866.40       0  1755600.0  \n",
       "...            ...     ...   ...         ...      ...     ...        ...  \n",
       "12479        FS대리점       0    40           0    80.00       0   720000.0  \n",
       "12480      어린이집대리점       0    -5           0   -10.00       0   -90000.0  \n",
       "12481      캐터링 대리점       0    -5           0   -10.00       0   -90000.0  \n",
       "12482        FS대리점       0    -4           0    -8.00       0   -72000.0  \n",
       "12483        식자재유통       0    -5           0   -10.00       0   -90000.0  \n",
       "\n",
       "[12484 rows x 16 columns]"
      ]
     },
     "execution_count": 13,
     "metadata": {},
     "output_type": "execute_result"
    }
   ],
   "source": [
    "df_01"
   ]
  },
  {
   "cell_type": "code",
   "execution_count": null,
   "metadata": {},
   "outputs": [],
   "source": []
  },
  {
   "cell_type": "code",
   "execution_count": null,
   "metadata": {},
   "outputs": [],
   "source": [
    "# Excel 저장\n",
    "excel_name = file_list[0].replace('.xlsm', '.xlsx')\n",
    "writer = pd.ExcelWriter(excel_name)\n",
    "df_01.to_excel(writer, 'Sheet1')\n",
    "writer.save()\n",
    "writer.close()"
   ]
  },
  {
   "cell_type": "code",
   "execution_count": 213,
   "metadata": {},
   "outputs": [],
   "source": []
  },
  {
   "cell_type": "code",
   "execution_count": 252,
   "metadata": {
    "scrolled": true
   },
   "outputs": [],
   "source": [
    "# df_2.to_csv('C:/Users/MAEIL/Desktop/SAP BW/ZPB_PP_Q001_202201.csv', \n",
    "#             sep=',', na_rep='NaN', float_format = '%.2f', index = False)\n"
   ]
  },
  {
   "attachments": {},
   "cell_type": "markdown",
   "metadata": {},
   "source": [
    "### BigQuery에 테이블 생성"
   ]
  },
  {
   "cell_type": "code",
   "execution_count": 18,
   "metadata": {},
   "outputs": [
    {
     "data": {
      "text/plain": [
       "'ZPB_SD_Q013_202101.xlsm'"
      ]
     },
     "execution_count": 18,
     "metadata": {},
     "output_type": "execute_result"
    }
   ],
   "source": [
    "file_list[0]"
   ]
  },
  {
   "cell_type": "code",
   "execution_count": 20,
   "metadata": {},
   "outputs": [
    {
     "data": {
      "text/html": [
       "<div>\n",
       "<style scoped>\n",
       "    .dataframe tbody tr th:only-of-type {\n",
       "        vertical-align: middle;\n",
       "    }\n",
       "\n",
       "    .dataframe tbody tr th {\n",
       "        vertical-align: top;\n",
       "    }\n",
       "\n",
       "    .dataframe thead th {\n",
       "        text-align: right;\n",
       "    }\n",
       "</style>\n",
       "<table border=\"1\" class=\"dataframe\">\n",
       "  <thead>\n",
       "    <tr style=\"text-align: right;\">\n",
       "      <th></th>\n",
       "      <th>EIS 표준계층구조 1레벨</th>\n",
       "      <th>EIS 표준계층구조 2레벨</th>\n",
       "      <th>EIS 표준계층구조 3레벨</th>\n",
       "      <th>자재</th>\n",
       "      <th>SKU</th>\n",
       "      <th>조직구분3(N)</th>\n",
       "      <th>조직명</th>\n",
       "      <th>달력일</th>\n",
       "      <th>고객계층구조레벨 1(N</th>\n",
       "      <th>고객계층구조레벨 3(N</th>\n",
       "      <th>판매계획수량</th>\n",
       "      <th>수주수량</th>\n",
       "      <th>판매계획수주환산용량</th>\n",
       "      <th>수주환산용량</th>\n",
       "      <th>판매계획금액</th>\n",
       "      <th>수주금액</th>\n",
       "    </tr>\n",
       "  </thead>\n",
       "  <tbody>\n",
       "    <tr>\n",
       "      <th>12483</th>\n",
       "      <td>Plant&amp; 제품군</td>\n",
       "      <td>수입버터</td>\n",
       "      <td>수입버터기타</td>\n",
       "      <td>204357</td>\n",
       "      <td>MFC 데빅 판버터 2KG*5</td>\n",
       "      <td>400</td>\n",
       "      <td>FS/특수지점</td>\n",
       "      <td>2021-01-31</td>\n",
       "      <td>지역FS(대리점)</td>\n",
       "      <td>식자재유통</td>\n",
       "      <td>0</td>\n",
       "      <td>-5</td>\n",
       "      <td>0</td>\n",
       "      <td>-10.0</td>\n",
       "      <td>0</td>\n",
       "      <td>-90000.0</td>\n",
       "    </tr>\n",
       "  </tbody>\n",
       "</table>\n",
       "</div>"
      ],
      "text/plain": [
       "0     EIS 표준계층구조 1레벨 EIS 표준계층구조 2레벨 EIS 표준계층구조 3레벨      자재               SKU  \\\n",
       "12483     Plant& 제품군           수입버터         수입버터기타  204357  MFC 데빅 판버터 2KG*5   \n",
       "\n",
       "0     조직구분3(N)      조직명        달력일 고객계층구조레벨 1(N 고객계층구조레벨 3(N  판매계획수량  수주수량  \\\n",
       "12483      400  FS/특수지점 2021-01-31    지역FS(대리점)        식자재유통       0    -5   \n",
       "\n",
       "0      판매계획수주환산용량  수주환산용량  판매계획금액     수주금액  \n",
       "12483           0   -10.0       0 -90000.0  "
      ]
     },
     "execution_count": 20,
     "metadata": {},
     "output_type": "execute_result"
    }
   ],
   "source": [
    "df_01.tail(1)"
   ]
  },
  {
   "cell_type": "code",
   "execution_count": null,
   "metadata": {},
   "outputs": [],
   "source": [
    "# Set table_id to the ID of the table to create\n",
    "project_name = '**************************'\n",
    "dataset_name = 'SAP_BW'\n",
    "table_name = 'ZPB_SD_Q013'\n",
    "\n",
    "table_id = project_name + '.' + dataset_name + '.' + table_name\n",
    "\n",
    "schema = [\n",
    "    bigquery.SchemaField(\"EIS_1LV\",         \"STRING\",   mode=\"REQUIRED\"),\n",
    "    bigquery.SchemaField(\"EIS_2LV\",         \"STRING\",   mode=\"REQUIRED\"),\n",
    "    bigquery.SchemaField(\"EIS_3LV\",         \"STRING\",   mode=\"REQUIRED\"),\n",
    "    bigquery.SchemaField(\"SKU_CODE\",        \"STRING\",   mode=\"REQUIRED\"),\n",
    "    bigquery.SchemaField(\"SKU_NAME\",        \"STRING\",   mode=\"REQUIRED\"),\n",
    "    bigquery.SchemaField(\"TEAM_CODE\",       \"STRING\",   mode=\"REQUIRED\"),\n",
    "    bigquery.SchemaField(\"TEAM_NAME\",       \"STRING\",   mode=\"REQUIRED\"),\n",
    "    bigquery.SchemaField(\"DATE\",            \"TIMESTAMP\",mode=\"REQUIRED\"),\n",
    "    bigquery.SchemaField(\"PLANT_1LV\",       \"STRING\",   mode=\"REQUIRED\"),\n",
    "    bigquery.SchemaField(\"PLANT_3LV\",       \"STRING\",   mode=\"REQUIRED\"),\n",
    "    bigquery.SchemaField(\"ORDER_CNT_PLAN\",  \"FLOAT\",    mode=\"REQUIRED\"),\n",
    "    bigquery.SchemaField(\"ORDER_CNT\",       \"FLOAT\",    mode=\"REQUIRED\"),\n",
    "    bigquery.SchemaField(\"ORDER_VOL_PLAN\",  \"FLOAT\",    mode=\"REQUIRED\"),\n",
    "    bigquery.SchemaField(\"ORDER_VOL\",       \"FLOAT\",    mode=\"REQUIRED\"),\n",
    "    bigquery.SchemaField(\"ORDER_AMT_PALN\",  \"FLOAT\",    mode=\"REQUIRED\"),\n",
    "    bigquery.SchemaField(\"ORDER_AMT\",       \"FLOAT\",    mode=\"REQUIRED\"),\n",
    "]\n",
    "\n",
    "table = bigquery.Table(table_id, schema=schema)\n",
    "table = client.create_table(table)  # API request\n",
    "print(\n",
    "    \"Created table {}.{}.{}\".format(table.project, table.dataset_id, table.table_id)\n",
    ")"
   ]
  },
  {
   "cell_type": "code",
   "execution_count": null,
   "metadata": {},
   "outputs": [],
   "source": []
  },
  {
   "cell_type": "code",
   "execution_count": null,
   "metadata": {},
   "outputs": [],
   "source": []
  },
  {
   "cell_type": "code",
   "execution_count": null,
   "metadata": {},
   "outputs": [],
   "source": []
  },
  {
   "attachments": {},
   "cell_type": "markdown",
   "metadata": {},
   "source": [
    "### BigQuery에 자료 저장"
   ]
  },
  {
   "cell_type": "code",
   "execution_count": 266,
   "metadata": {
    "scrolled": true
   },
   "outputs": [],
   "source": []
  },
  {
   "cell_type": "code",
   "execution_count": null,
   "metadata": {},
   "outputs": [],
   "source": []
  },
  {
   "cell_type": "code",
   "execution_count": 30,
   "metadata": {},
   "outputs": [],
   "source": [
    "project = '**************************'\n",
    "dataset_id = 'SAP_BW'\n",
    "table_id = 'ZPB_SD_Q013'\n",
    "table_ref = client.dataset(dataset_id).table(table_id)\n",
    "Table = client.get_table(table_ref)  # API request"
   ]
  },
  {
   "cell_type": "code",
   "execution_count": 31,
   "metadata": {},
   "outputs": [
    {
     "data": {
      "text/plain": [
       "Table(TableReference(DatasetReference('boxwood-chassis-356100', 'SAP_BW'), 'ZPB_PP_Q001'))"
      ]
     },
     "execution_count": 31,
     "metadata": {},
     "output_type": "execute_result"
    }
   ],
   "source": [
    "Table"
   ]
  },
  {
   "cell_type": "code",
   "execution_count": 21,
   "metadata": {},
   "outputs": [
    {
     "data": {
      "text/html": [
       "<div>\n",
       "<style scoped>\n",
       "    .dataframe tbody tr th:only-of-type {\n",
       "        vertical-align: middle;\n",
       "    }\n",
       "\n",
       "    .dataframe tbody tr th {\n",
       "        vertical-align: top;\n",
       "    }\n",
       "\n",
       "    .dataframe thead th {\n",
       "        text-align: right;\n",
       "    }\n",
       "</style>\n",
       "<table border=\"1\" class=\"dataframe\">\n",
       "  <thead>\n",
       "    <tr style=\"text-align: right;\">\n",
       "      <th></th>\n",
       "      <th>EIS 표준계층구조 1레벨</th>\n",
       "      <th>EIS 표준계층구조 2레벨</th>\n",
       "      <th>EIS 표준계층구조 3레벨</th>\n",
       "      <th>자재</th>\n",
       "      <th>SKU</th>\n",
       "      <th>조직구분3(N)</th>\n",
       "      <th>조직명</th>\n",
       "      <th>달력일</th>\n",
       "      <th>고객계층구조레벨 1(N</th>\n",
       "      <th>고객계층구조레벨 3(N</th>\n",
       "      <th>판매계획수량</th>\n",
       "      <th>수주수량</th>\n",
       "      <th>판매계획수주환산용량</th>\n",
       "      <th>수주환산용량</th>\n",
       "      <th>판매계획금액</th>\n",
       "      <th>수주금액</th>\n",
       "    </tr>\n",
       "  </thead>\n",
       "  <tbody>\n",
       "    <tr>\n",
       "      <th>12483</th>\n",
       "      <td>Plant&amp; 제품군</td>\n",
       "      <td>수입버터</td>\n",
       "      <td>수입버터기타</td>\n",
       "      <td>204357</td>\n",
       "      <td>MFC 데빅 판버터 2KG*5</td>\n",
       "      <td>400</td>\n",
       "      <td>FS/특수지점</td>\n",
       "      <td>2021-01-31</td>\n",
       "      <td>지역FS(대리점)</td>\n",
       "      <td>식자재유통</td>\n",
       "      <td>0</td>\n",
       "      <td>-5</td>\n",
       "      <td>0</td>\n",
       "      <td>-10.0</td>\n",
       "      <td>0</td>\n",
       "      <td>-90000.0</td>\n",
       "    </tr>\n",
       "  </tbody>\n",
       "</table>\n",
       "</div>"
      ],
      "text/plain": [
       "0     EIS 표준계층구조 1레벨 EIS 표준계층구조 2레벨 EIS 표준계층구조 3레벨      자재               SKU  \\\n",
       "12483     Plant& 제품군           수입버터         수입버터기타  204357  MFC 데빅 판버터 2KG*5   \n",
       "\n",
       "0     조직구분3(N)      조직명        달력일 고객계층구조레벨 1(N 고객계층구조레벨 3(N  판매계획수량  수주수량  \\\n",
       "12483      400  FS/특수지점 2021-01-31    지역FS(대리점)        식자재유통       0    -5   \n",
       "\n",
       "0      판매계획수주환산용량  수주환산용량  판매계획금액     수주금액  \n",
       "12483           0   -10.0       0 -90000.0  "
      ]
     },
     "execution_count": 21,
     "metadata": {},
     "output_type": "execute_result"
    }
   ],
   "source": [
    "df_01.tail(1)"
   ]
  },
  {
   "cell_type": "code",
   "execution_count": 34,
   "metadata": {},
   "outputs": [],
   "source": [
    "def dataupload_Bigquery(dataset):\n",
    "    for i in range(len(dataset)):\n",
    "            rows_to_insert = [(dataset['EIS 표준계층구조 1레벨'][i],\n",
    "                               dataset['EIS 표준계층구조 2레벨'][i],  \n",
    "                               dataset['EIS 표준계층구조 3레벨'][i], \n",
    "                               dataset['자재'][i],\n",
    "                               dataset['SKU'][i], \n",
    "                               dataset['조직구분3(N)'][i],\n",
    "                               dataset['조직명'][i], \n",
    "                               dataset['달력일'][i].strftime('%Y-%m-%d %H:%M:%S'),\n",
    "                               dataset['고객계층구조레벨 1(N'][i],\n",
    "                               dataset['고객계층구조레벨 3(N'][i], \n",
    "                               int(dataset['판매계획수량'][i]),\n",
    "                               int(dataset['수주수량'][i]),\n",
    "                               int(dataset['판매계획수주환산용량'][i]),\n",
    "                               int(dataset['수주환산용량'][i]),\n",
    "                               int(dataset['판매계획금액'][i]),\n",
    "                               int(dataset['수주금액'][i]),\n",
    "                               )]\n",
    "#             print(rows_to_insert)\n",
    "#             client.insert_rows(Table, rows_to_insert)\n",
    "    return f'finished!'\n"
   ]
  },
  {
   "cell_type": "code",
   "execution_count": 35,
   "metadata": {},
   "outputs": [
    {
     "data": {
      "text/plain": [
       "'finished!'"
      ]
     },
     "execution_count": 35,
     "metadata": {},
     "output_type": "execute_result"
    }
   ],
   "source": [
    "dataupload_Bigquery(df_01[:5])"
   ]
  },
  {
   "cell_type": "code",
   "execution_count": null,
   "metadata": {},
   "outputs": [],
   "source": []
  },
  {
   "cell_type": "code",
   "execution_count": null,
   "metadata": {},
   "outputs": [],
   "source": []
  }
 ],
 "metadata": {
  "kernelspec": {
   "display_name": "Python 3",
   "language": "python",
   "name": "python3"
  },
  "language_info": {
   "codemirror_mode": {
    "name": "ipython",
    "version": 3
   },
   "file_extension": ".py",
   "mimetype": "text/x-python",
   "name": "python",
   "nbconvert_exporter": "python",
   "pygments_lexer": "ipython3",
   "version": "3.7.6"
  }
 },
 "nbformat": 4,
 "nbformat_minor": 4
}
