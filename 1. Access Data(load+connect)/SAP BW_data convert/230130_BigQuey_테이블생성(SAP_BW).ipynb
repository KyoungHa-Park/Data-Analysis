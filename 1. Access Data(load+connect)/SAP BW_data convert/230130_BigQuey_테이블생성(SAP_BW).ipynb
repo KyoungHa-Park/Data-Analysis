{
 "cells": [
  {
   "cell_type": "code",
   "execution_count": null,
   "metadata": {},
   "outputs": [],
   "source": []
  },
  {
   "attachments": {},
   "cell_type": "markdown",
   "metadata": {},
   "source": [
    "+ xlms 자료 구분(text 기준)\n",
    "+ xlms 자료 읽기(특정범위)\n",
    "+ xlms data 변환(data fill)\n",
    "+ xlms data merge\n",
    "+ bigquery upload"
   ]
  },
  {
   "cell_type": "code",
   "execution_count": null,
   "metadata": {},
   "outputs": [],
   "source": []
  },
  {
   "cell_type": "code",
   "execution_count": 1,
   "metadata": {},
   "outputs": [],
   "source": [
    "import csv\n",
    "import xlrd\n",
    "from pandas import DataFrame\n",
    "import os\n",
    "from os import listdir\n",
    "from datetime import datetime, timedelta\n",
    "\n",
    "import pandas as pd\n",
    "import pandas_gbq\n",
    "from datetime import datetime, timedelta\n",
    "import time \n",
    "import re\n",
    "from google.cloud import bigquery\n",
    "from pandas.tseries.offsets import MonthEnd\n",
    "\n",
    "# 접속 정보 : local\n",
    "os.environ[\"GOOGLE_APPLICATION_CREDENTIALS\"]=\"./auto_send/boxwood-**************.json\"\n",
    "client = bigquery.Client()"
   ]
  },
  {
   "cell_type": "code",
   "execution_count": null,
   "metadata": {},
   "outputs": [],
   "source": []
  },
  {
   "cell_type": "code",
   "execution_count": null,
   "metadata": {
    "scrolled": true
   },
   "outputs": [],
   "source": []
  },
  {
   "attachments": {},
   "cell_type": "markdown",
   "metadata": {},
   "source": [
    "### BigQuery에 테이블 생성"
   ]
  },
  {
   "cell_type": "code",
   "execution_count": null,
   "metadata": {},
   "outputs": [],
   "source": []
  },
  {
   "cell_type": "code",
   "execution_count": null,
   "metadata": {
    "scrolled": false
   },
   "outputs": [],
   "source": []
  },
  {
   "cell_type": "code",
   "execution_count": null,
   "metadata": {},
   "outputs": [],
   "source": []
  },
  {
   "cell_type": "code",
   "execution_count": 2,
   "metadata": {},
   "outputs": [
    {
     "name": "stdout",
     "output_type": "stream",
     "text": [
      "Created table boxwood-chassis-356100.test.F_Order_Plan_test\n"
     ]
    }
   ],
   "source": [
    "# Set table_id to the ID of the table to create\n",
    "project_name = 'boxwood-**************'\n",
    "dataset_name = 'test'\n",
    "table_name = 'F_Order_Plan_test'\n",
    "\n",
    "table_id = project_name + '.' + dataset_name + '.' + table_name\n",
    "\n",
    "schema = [\n",
    "    bigquery.SchemaField(\"EIS1\",          \"STRING\",   mode=\"REQUIRED\"),\n",
    "    bigquery.SchemaField(\"EIS2\",          \"STRING\",   mode=\"REQUIRED\"),\n",
    "    bigquery.SchemaField(\"EIS3\",          \"STRING\",   mode=\"REQUIRED\"),\n",
    "    bigquery.SchemaField(\"PrdCode\",       \"STRING\",   mode=\"REQUIRED\"),\n",
    "    bigquery.SchemaField(\"PrdName\",       \"STRING\",   mode=\"REQUIRED\"),\n",
    "    bigquery.SchemaField(\"Date\",          \"TIMESTAMP\",mode=\"REQUIRED\"),\n",
    "    bigquery.SchemaField(\"Chnl1\",         \"STRING\",   mode=\"REQUIRED\"),\n",
    "    bigquery.SchemaField(\"Chnl2\",         \"STRING\",   mode=\"REQUIRED\"),\n",
    "    bigquery.SchemaField(\"Chnl3\",         \"STRING\",   mode=\"REQUIRED\"),\n",
    "    \n",
    "    bigquery.SchemaField(\"OrderAmt_plan\", \"FLOAT\",    mode=\"REQUIRED\"),\n",
    "    bigquery.SchemaField(\"OrderQty_plan\", \"FLOAT\",    mode=\"REQUIRED\"),\n",
    "    bigquery.SchemaField(\"OrderVol_plan\", \"FLOAT\",    mode=\"REQUIRED\"),\n",
    "]\n",
    "\n",
    "table = bigquery.Table(table_id, schema=schema)\n",
    "table = client.create_table(table)  # API request\n",
    "print(\n",
    "    \"Created table {}.{}.{}\".format(table.project, table.dataset_id, table.table_id)\n",
    ")"
   ]
  },
  {
   "cell_type": "code",
   "execution_count": null,
   "metadata": {},
   "outputs": [],
   "source": []
  },
  {
   "cell_type": "code",
   "execution_count": 3,
   "metadata": {},
   "outputs": [
    {
     "ename": "Conflict",
     "evalue": "409 POST https://bigquery.googleapis.com/bigquery/v2/projects/boxwood-chassis-356100/datasets/SAP_BW/tables?prettyPrint=false: Already Exists: Table boxwood-chassis-356100:SAP_BW.F_Order_Actual",
     "output_type": "error",
     "traceback": [
      "\u001b[1;31m---------------------------------------------------------------------------\u001b[0m",
      "\u001b[1;31mConflict\u001b[0m                                  Traceback (most recent call last)",
      "\u001b[1;32m<ipython-input-3-058e6950a019>\u001b[0m in \u001b[0;36m<module>\u001b[1;34m\u001b[0m\n\u001b[0;32m     23\u001b[0m \u001b[1;33m\u001b[0m\u001b[0m\n\u001b[0;32m     24\u001b[0m \u001b[0mtable\u001b[0m \u001b[1;33m=\u001b[0m \u001b[0mbigquery\u001b[0m\u001b[1;33m.\u001b[0m\u001b[0mTable\u001b[0m\u001b[1;33m(\u001b[0m\u001b[0mtable_id\u001b[0m\u001b[1;33m,\u001b[0m \u001b[0mschema\u001b[0m\u001b[1;33m=\u001b[0m\u001b[0mschema\u001b[0m\u001b[1;33m)\u001b[0m\u001b[1;33m\u001b[0m\u001b[1;33m\u001b[0m\u001b[0m\n\u001b[1;32m---> 25\u001b[1;33m \u001b[0mtable\u001b[0m \u001b[1;33m=\u001b[0m \u001b[0mclient\u001b[0m\u001b[1;33m.\u001b[0m\u001b[0mcreate_table\u001b[0m\u001b[1;33m(\u001b[0m\u001b[0mtable\u001b[0m\u001b[1;33m)\u001b[0m  \u001b[1;31m# API request\u001b[0m\u001b[1;33m\u001b[0m\u001b[1;33m\u001b[0m\u001b[0m\n\u001b[0m\u001b[0;32m     26\u001b[0m print(\n\u001b[0;32m     27\u001b[0m     \u001b[1;34m\"Created table {}.{}.{}\"\u001b[0m\u001b[1;33m.\u001b[0m\u001b[0mformat\u001b[0m\u001b[1;33m(\u001b[0m\u001b[0mtable\u001b[0m\u001b[1;33m.\u001b[0m\u001b[0mproject\u001b[0m\u001b[1;33m,\u001b[0m \u001b[0mtable\u001b[0m\u001b[1;33m.\u001b[0m\u001b[0mdataset_id\u001b[0m\u001b[1;33m,\u001b[0m \u001b[0mtable\u001b[0m\u001b[1;33m.\u001b[0m\u001b[0mtable_id\u001b[0m\u001b[1;33m)\u001b[0m\u001b[1;33m\u001b[0m\u001b[1;33m\u001b[0m\u001b[0m\n",
      "\u001b[1;32m~\\AppData\\Roaming\\Python\\Python37\\site-packages\\google\\cloud\\bigquery\\client.py\u001b[0m in \u001b[0;36mcreate_table\u001b[1;34m(self, table, exists_ok, retry, timeout)\u001b[0m\n\u001b[0;32m    730\u001b[0m                 \u001b[0mpath\u001b[0m\u001b[1;33m=\u001b[0m\u001b[0mpath\u001b[0m\u001b[1;33m,\u001b[0m\u001b[1;33m\u001b[0m\u001b[1;33m\u001b[0m\u001b[0m\n\u001b[0;32m    731\u001b[0m                 \u001b[0mdata\u001b[0m\u001b[1;33m=\u001b[0m\u001b[0mdata\u001b[0m\u001b[1;33m,\u001b[0m\u001b[1;33m\u001b[0m\u001b[1;33m\u001b[0m\u001b[0m\n\u001b[1;32m--> 732\u001b[1;33m                 \u001b[0mtimeout\u001b[0m\u001b[1;33m=\u001b[0m\u001b[0mtimeout\u001b[0m\u001b[1;33m,\u001b[0m\u001b[1;33m\u001b[0m\u001b[1;33m\u001b[0m\u001b[0m\n\u001b[0m\u001b[0;32m    733\u001b[0m             )\n\u001b[0;32m    734\u001b[0m             \u001b[1;32mreturn\u001b[0m \u001b[0mTable\u001b[0m\u001b[1;33m.\u001b[0m\u001b[0mfrom_api_repr\u001b[0m\u001b[1;33m(\u001b[0m\u001b[0mapi_response\u001b[0m\u001b[1;33m)\u001b[0m\u001b[1;33m\u001b[0m\u001b[1;33m\u001b[0m\u001b[0m\n",
      "\u001b[1;32m~\\AppData\\Roaming\\Python\\Python37\\site-packages\\google\\cloud\\bigquery\\client.py\u001b[0m in \u001b[0;36m_call_api\u001b[1;34m(self, retry, span_name, span_attributes, job_ref, headers, **kwargs)\u001b[0m\n\u001b[0;32m    757\u001b[0m                 \u001b[0mname\u001b[0m\u001b[1;33m=\u001b[0m\u001b[0mspan_name\u001b[0m\u001b[1;33m,\u001b[0m \u001b[0mattributes\u001b[0m\u001b[1;33m=\u001b[0m\u001b[0mspan_attributes\u001b[0m\u001b[1;33m,\u001b[0m \u001b[0mclient\u001b[0m\u001b[1;33m=\u001b[0m\u001b[0mself\u001b[0m\u001b[1;33m,\u001b[0m \u001b[0mjob_ref\u001b[0m\u001b[1;33m=\u001b[0m\u001b[0mjob_ref\u001b[0m\u001b[1;33m\u001b[0m\u001b[1;33m\u001b[0m\u001b[0m\n\u001b[0;32m    758\u001b[0m             ):\n\u001b[1;32m--> 759\u001b[1;33m                 \u001b[1;32mreturn\u001b[0m \u001b[0mcall\u001b[0m\u001b[1;33m(\u001b[0m\u001b[1;33m)\u001b[0m\u001b[1;33m\u001b[0m\u001b[1;33m\u001b[0m\u001b[0m\n\u001b[0m\u001b[0;32m    760\u001b[0m \u001b[1;33m\u001b[0m\u001b[0m\n\u001b[0;32m    761\u001b[0m         \u001b[1;32mreturn\u001b[0m \u001b[0mcall\u001b[0m\u001b[1;33m(\u001b[0m\u001b[1;33m)\u001b[0m\u001b[1;33m\u001b[0m\u001b[1;33m\u001b[0m\u001b[0m\n",
      "\u001b[1;32m~\\AppData\\Roaming\\Python\\Python37\\site-packages\\google\\api_core\\retry.py\u001b[0m in \u001b[0;36mretry_wrapped_func\u001b[1;34m(*args, **kwargs)\u001b[0m\n\u001b[0;32m    286\u001b[0m                 \u001b[0msleep_generator\u001b[0m\u001b[1;33m,\u001b[0m\u001b[1;33m\u001b[0m\u001b[1;33m\u001b[0m\u001b[0m\n\u001b[0;32m    287\u001b[0m                 \u001b[0mself\u001b[0m\u001b[1;33m.\u001b[0m\u001b[0m_deadline\u001b[0m\u001b[1;33m,\u001b[0m\u001b[1;33m\u001b[0m\u001b[1;33m\u001b[0m\u001b[0m\n\u001b[1;32m--> 288\u001b[1;33m                 \u001b[0mon_error\u001b[0m\u001b[1;33m=\u001b[0m\u001b[0mon_error\u001b[0m\u001b[1;33m,\u001b[0m\u001b[1;33m\u001b[0m\u001b[1;33m\u001b[0m\u001b[0m\n\u001b[0m\u001b[0;32m    289\u001b[0m             )\n\u001b[0;32m    290\u001b[0m \u001b[1;33m\u001b[0m\u001b[0m\n",
      "\u001b[1;32m~\\AppData\\Roaming\\Python\\Python37\\site-packages\\google\\api_core\\retry.py\u001b[0m in \u001b[0;36mretry_target\u001b[1;34m(target, predicate, sleep_generator, deadline, on_error)\u001b[0m\n\u001b[0;32m    188\u001b[0m     \u001b[1;32mfor\u001b[0m \u001b[0msleep\u001b[0m \u001b[1;32min\u001b[0m \u001b[0msleep_generator\u001b[0m\u001b[1;33m:\u001b[0m\u001b[1;33m\u001b[0m\u001b[1;33m\u001b[0m\u001b[0m\n\u001b[0;32m    189\u001b[0m         \u001b[1;32mtry\u001b[0m\u001b[1;33m:\u001b[0m\u001b[1;33m\u001b[0m\u001b[1;33m\u001b[0m\u001b[0m\n\u001b[1;32m--> 190\u001b[1;33m             \u001b[1;32mreturn\u001b[0m \u001b[0mtarget\u001b[0m\u001b[1;33m(\u001b[0m\u001b[1;33m)\u001b[0m\u001b[1;33m\u001b[0m\u001b[1;33m\u001b[0m\u001b[0m\n\u001b[0m\u001b[0;32m    191\u001b[0m \u001b[1;33m\u001b[0m\u001b[0m\n\u001b[0;32m    192\u001b[0m         \u001b[1;31m# pylint: disable=broad-except\u001b[0m\u001b[1;33m\u001b[0m\u001b[1;33m\u001b[0m\u001b[1;33m\u001b[0m\u001b[0m\n",
      "\u001b[1;32m~\\AppData\\Roaming\\Python\\Python37\\site-packages\\google\\cloud\\_http\\__init__.py\u001b[0m in \u001b[0;36mapi_request\u001b[1;34m(self, method, path, query_params, data, content_type, headers, api_base_url, api_version, expect_json, _target_object, timeout, extra_api_info)\u001b[0m\n\u001b[0;32m    492\u001b[0m \u001b[1;33m\u001b[0m\u001b[0m\n\u001b[0;32m    493\u001b[0m         \u001b[1;32mif\u001b[0m \u001b[1;32mnot\u001b[0m \u001b[1;36m200\u001b[0m \u001b[1;33m<=\u001b[0m \u001b[0mresponse\u001b[0m\u001b[1;33m.\u001b[0m\u001b[0mstatus_code\u001b[0m \u001b[1;33m<\u001b[0m \u001b[1;36m300\u001b[0m\u001b[1;33m:\u001b[0m\u001b[1;33m\u001b[0m\u001b[1;33m\u001b[0m\u001b[0m\n\u001b[1;32m--> 494\u001b[1;33m             \u001b[1;32mraise\u001b[0m \u001b[0mexceptions\u001b[0m\u001b[1;33m.\u001b[0m\u001b[0mfrom_http_response\u001b[0m\u001b[1;33m(\u001b[0m\u001b[0mresponse\u001b[0m\u001b[1;33m)\u001b[0m\u001b[1;33m\u001b[0m\u001b[1;33m\u001b[0m\u001b[0m\n\u001b[0m\u001b[0;32m    495\u001b[0m \u001b[1;33m\u001b[0m\u001b[0m\n\u001b[0;32m    496\u001b[0m         \u001b[1;32mif\u001b[0m \u001b[0mexpect_json\u001b[0m \u001b[1;32mand\u001b[0m \u001b[0mresponse\u001b[0m\u001b[1;33m.\u001b[0m\u001b[0mcontent\u001b[0m\u001b[1;33m:\u001b[0m\u001b[1;33m\u001b[0m\u001b[1;33m\u001b[0m\u001b[0m\n",
      "\u001b[1;31mConflict\u001b[0m: 409 POST https://bigquery.googleapis.com/bigquery/v2/projects/boxwood-chassis-356100/datasets/SAP_BW/tables?prettyPrint=false: Already Exists: Table boxwood-chassis-356100:SAP_BW.F_Order_Actual"
     ]
    }
   ],
   "source": [
    "# Set table_id to the ID of the table to create\n",
    "project_name = 'boxwood-**************'\n",
    "dataset_name = 'SAP_BW'\n",
    "table_name = 'F_Order_Actual'\n",
    "\n",
    "table_id = project_name + '.' + dataset_name + '.' + table_name\n",
    "\n",
    "schema = [\n",
    "    bigquery.SchemaField(\"EIS1\",          \"STRING\",   mode=\"REQUIRED\"),\n",
    "    bigquery.SchemaField(\"EIS2\",          \"STRING\",   mode=\"REQUIRED\"),\n",
    "    bigquery.SchemaField(\"EIS3\",          \"STRING\",   mode=\"REQUIRED\"),\n",
    "    bigquery.SchemaField(\"PrdCode\",       \"STRING\",   mode=\"REQUIRED\"),\n",
    "    bigquery.SchemaField(\"PrdName\",       \"STRING\",   mode=\"REQUIRED\"),\n",
    "    bigquery.SchemaField(\"Date\",          \"TIMESTAMP\",mode=\"REQUIRED\"),\n",
    "    bigquery.SchemaField(\"Chnl1\",         \"STRING\",   mode=\"REQUIRED\"),\n",
    "    bigquery.SchemaField(\"Chnl2\",         \"STRING\",   mode=\"REQUIRED\"),\n",
    "    bigquery.SchemaField(\"Chnl3\",         \"STRING\",   mode=\"REQUIRED\"),\n",
    "    \n",
    "    bigquery.SchemaField(\"OrderAmt\",      \"FLOAT\",    mode=\"REQUIRED\"),\n",
    "    bigquery.SchemaField(\"OrderQty\",      \"FLOAT\",    mode=\"REQUIRED\"),\n",
    "    bigquery.SchemaField(\"OrderVol\",      \"FLOAT\",    mode=\"REQUIRED\"),\n",
    "]\n",
    "\n",
    "table = bigquery.Table(table_id, schema=schema)\n",
    "table = client.create_table(table)  # API request\n",
    "print(\n",
    "    \"Created table {}.{}.{}\".format(table.project, table.dataset_id, table.table_id)\n",
    ")"
   ]
  },
  {
   "cell_type": "code",
   "execution_count": null,
   "metadata": {},
   "outputs": [],
   "source": []
  },
  {
   "cell_type": "code",
   "execution_count": null,
   "metadata": {},
   "outputs": [],
   "source": []
  },
  {
   "cell_type": "code",
   "execution_count": 3,
   "metadata": {},
   "outputs": [
    {
     "name": "stdout",
     "output_type": "stream",
     "text": [
      "Created table boxwood-chassis-356100.SAP_BW.F_Profit_Plan\n"
     ]
    }
   ],
   "source": [
    "# Set table_id to the ID of the table to create\n",
    "project_name = 'boxwood-**************'\n",
    "dataset_name = 'SAP_BW'\n",
    "table_name = 'F_Profit_Plan'\n",
    "\n",
    "table_id = project_name + '.' + dataset_name + '.' + table_name\n",
    "\n",
    "schema = [\n",
    "    bigquery.SchemaField(\"EIS1\",          \"STRING\",   mode=\"REQUIRED\"),\n",
    "    bigquery.SchemaField(\"EIS2\",          \"STRING\",   mode=\"REQUIRED\"),\n",
    "    bigquery.SchemaField(\"EIS3\",          \"STRING\",   mode=\"REQUIRED\"),\n",
    "    bigquery.SchemaField(\"PrdCode\",       \"STRING\",   mode=\"REQUIRED\"),\n",
    "    bigquery.SchemaField(\"PrdName\",       \"STRING\",   mode=\"REQUIRED\"),\n",
    "    bigquery.SchemaField(\"Date\",          \"TIMESTAMP\",mode=\"REQUIRED\"),\n",
    "    bigquery.SchemaField(\"Chnl1\",         \"STRING\",   mode=\"REQUIRED\"),\n",
    "    bigquery.SchemaField(\"Chnl2\",         \"STRING\",   mode=\"REQUIRED\"),\n",
    "    bigquery.SchemaField(\"Chnl3\",         \"STRING\",   mode=\"REQUIRED\"),\n",
    "    \n",
    "    bigquery.SchemaField(\"SalesQty_Plan\",     \"FLOAT\",    mode=\"REQUIRED\"),\n",
    "    bigquery.SchemaField(\"SalesVol_Plan\",     \"FLOAT\",    mode=\"REQUIRED\"),\n",
    "    \n",
    "    bigquery.SchemaField(\"Revenue_gross_Plan\",\"FLOAT\",    mode=\"REQUIRED\"),\n",
    "    bigquery.SchemaField(\"Revenue_nr_Plan\",   \"FLOAT\",    mode=\"REQUIRED\"),\n",
    "    bigquery.SchemaField(\"SalesCost_Plan\",    \"FLOAT\",    mode=\"REQUIRED\"),\n",
    "    bigquery.SchemaField(\"Profit_op_Plan\",    \"FLOAT\",    mode=\"REQUIRED\"),\n",
    "#     bigquery.SchemaField(\"Revenue_dc_Plan\",   \"FLOAT\",    mode=\"REQUIRED\"),\n",
    "#     bigquery.SchemaField(\"Profit_admin_Plan\", \"FLOAT\",    mode=\"REQUIRED\"),\n",
    "#     bigquery.SchemaField(\"Profit_direct_Plan\",\"FLOAT\",    mode=\"REQUIRED\"),\n",
    "#     bigquery.SchemaField(\"TE1_Plan\",          \"FLOAT\",    mode=\"REQUIRED\"),\n",
    "#     bigquery.SchemaField(\"TE2_Plan\",          \"FLOAT\",    mode=\"REQUIRED\"),\n",
    "#     bigquery.SchemaField(\"TE3_Plan\",          \"FLOAT\",    mode=\"REQUIRED\"),\n",
    "]\n",
    "\n",
    "table = bigquery.Table(table_id, schema=schema)\n",
    "table = client.create_table(table)  # API request\n",
    "print(\n",
    "    \"Created table {}.{}.{}\".format(table.project, table.dataset_id, table.table_id)\n",
    ")"
   ]
  },
  {
   "cell_type": "code",
   "execution_count": null,
   "metadata": {},
   "outputs": [],
   "source": []
  },
  {
   "cell_type": "code",
   "execution_count": null,
   "metadata": {},
   "outputs": [],
   "source": []
  },
  {
   "cell_type": "code",
   "execution_count": 4,
   "metadata": {},
   "outputs": [
    {
     "name": "stdout",
     "output_type": "stream",
     "text": [
      "Created table boxwood-chassis-356100.SAP_BW.F_Profit_Actual\n"
     ]
    }
   ],
   "source": [
    "# Set table_id to the ID of the table to create\n",
    "project_name = 'boxwood-**************'\n",
    "dataset_name = 'SAP_BW'\n",
    "table_name = 'F_Profit_Actual'\n",
    "\n",
    "table_id = project_name + '.' + dataset_name + '.' + table_name\n",
    "\n",
    "schema = [\n",
    "    bigquery.SchemaField(\"EIS1\",          \"STRING\",   mode=\"REQUIRED\"),\n",
    "    bigquery.SchemaField(\"EIS2\",          \"STRING\",   mode=\"REQUIRED\"),\n",
    "    bigquery.SchemaField(\"EIS3\",          \"STRING\",   mode=\"REQUIRED\"),\n",
    "    bigquery.SchemaField(\"PrdCode\",       \"STRING\",   mode=\"REQUIRED\"),\n",
    "    bigquery.SchemaField(\"PrdName\",       \"STRING\",   mode=\"REQUIRED\"),\n",
    "    bigquery.SchemaField(\"Date\",          \"TIMESTAMP\",mode=\"REQUIRED\"),\n",
    "    bigquery.SchemaField(\"Chnl1\",         \"STRING\",   mode=\"REQUIRED\"),\n",
    "    bigquery.SchemaField(\"Chnl2\",         \"STRING\",   mode=\"REQUIRED\"),\n",
    "    bigquery.SchemaField(\"Chnl3\",         \"STRING\",   mode=\"REQUIRED\"),\n",
    "    \n",
    "    bigquery.SchemaField(\"SalesQty\",     \"FLOAT\",    mode=\"REQUIRED\"),\n",
    "    bigquery.SchemaField(\"SalesVol\",     \"FLOAT\",    mode=\"REQUIRED\"),\n",
    "    \n",
    "    bigquery.SchemaField(\"Revenue_gross\",\"FLOAT\",    mode=\"REQUIRED\"),\n",
    "    bigquery.SchemaField(\"Revenue_nr\",   \"FLOAT\",    mode=\"REQUIRED\"),\n",
    "    bigquery.SchemaField(\"SalesCost\",    \"FLOAT\",    mode=\"REQUIRED\"),\n",
    "    bigquery.SchemaField(\"Profit_op\",    \"FLOAT\",    mode=\"REQUIRED\"),\n",
    "#     bigquery.SchemaField(\"Revenue_dc_Plan\",   \"FLOAT\",    mode=\"REQUIRED\"),\n",
    "#     bigquery.SchemaField(\"Profit_admin_Plan\", \"FLOAT\",    mode=\"REQUIRED\"),\n",
    "#     bigquery.SchemaField(\"Profit_direct_Plan\",\"FLOAT\",    mode=\"REQUIRED\"),\n",
    "#     bigquery.SchemaField(\"TE1_Plan\",          \"FLOAT\",    mode=\"REQUIRED\"),\n",
    "#     bigquery.SchemaField(\"TE2_Plan\",          \"FLOAT\",    mode=\"REQUIRED\"),\n",
    "#     bigquery.SchemaField(\"TE3_Plan\",          \"FLOAT\",    mode=\"REQUIRED\"),\n",
    "]\n",
    "\n",
    "table = bigquery.Table(table_id, schema=schema)\n",
    "table = client.create_table(table)  # API request\n",
    "print(\n",
    "    \"Created table {}.{}.{}\".format(table.project, table.dataset_id, table.table_id)\n",
    ")"
   ]
  },
  {
   "cell_type": "code",
   "execution_count": null,
   "metadata": {},
   "outputs": [],
   "source": []
  },
  {
   "cell_type": "code",
   "execution_count": null,
   "metadata": {},
   "outputs": [],
   "source": []
  },
  {
   "cell_type": "code",
   "execution_count": null,
   "metadata": {},
   "outputs": [],
   "source": []
  },
  {
   "cell_type": "code",
   "execution_count": null,
   "metadata": {},
   "outputs": [],
   "source": []
  },
  {
   "cell_type": "code",
   "execution_count": null,
   "metadata": {},
   "outputs": [],
   "source": []
  },
  {
   "attachments": {},
   "cell_type": "markdown",
   "metadata": {},
   "source": [
    "### BigQuery에 자료 저장"
   ]
  },
  {
   "cell_type": "code",
   "execution_count": 212,
   "metadata": {
    "scrolled": false
   },
   "outputs": [
    {
     "data": {
      "text/plain": [
       "Index(['PROD_LV1', 'PROD_LV2', 'PROD_LV3', 'PROD_CODE', 'PROD_NAME',\n",
       "       'CHANNEL_LV1', 'CHANNEL_LV2', 'CHANNEL_LV3', 'YYYY_MM', 'TEAM_LV2_CODE',\n",
       "       'TEAM_LV2', 'TEAM_LV3_CODE', 'TEAM_LV3', 'SALES_QTY', 'SALES_VOL',\n",
       "       'REVENUE_TOTAL', 'TE1_DC', 'REVENUE_DC', 'TE2', 'REVENUE', 'COST_SALES',\n",
       "       'PROFIT_GROSS', 'TE3', 'PROFIT_ADMIN', 'PROFIT_DIRECT',\n",
       "       'PROFIT_OP_BEFORE', 'PROFIT_OP', 'DATE'],\n",
       "      dtype='object', name=0)"
      ]
     },
     "execution_count": 212,
     "metadata": {},
     "output_type": "execute_result"
    }
   ],
   "source": [
    "(df_2110.columns)"
   ]
  },
  {
   "cell_type": "code",
   "execution_count": 25,
   "metadata": {},
   "outputs": [],
   "source": [
    "def rename_table(dataset):\n",
    "    dataset['SALES_QTY']        = dataset['SALES_QTY'].astype(float)\n",
    "    dataset['SALES_VOL']        = dataset['SALES_VOL'].astype(float)\n",
    "    dataset['REVENUE_TOTAL']    = dataset['REVENUE_TOTAL'].astype(float)\n",
    "    dataset['TE1_DC']           = dataset['TE1_DC'].astype(float)\n",
    "    dataset['REVENUE_DC']       = dataset['REVENUE_DC'].astype(float)\n",
    "    dataset['TE2']              = dataset['TE2'].astype(float)\n",
    "    dataset['REVENUE']          = dataset['REVENUE'].astype(float)\n",
    "    dataset['COST_SALES']       = dataset['COST_SALES'].astype(float)\n",
    "    dataset['PROFIT_GROSS']     = dataset['PROFIT_GROSS'].astype(float)\n",
    "    dataset['TE3']              = dataset['TE3'].astype(float)\n",
    "    dataset['PROFIT_ADMIN']     = dataset['PROFIT_ADMIN'].astype(float)\n",
    "    dataset['PROFIT_DIRECT']    = dataset['PROFIT_DIRECT'].astype(float)\n",
    "    dataset['PROFIT_OP_BEFORE'] = dataset['PROFIT_OP_BEFORE'].astype(float)\n",
    "    dataset['PROFIT_OP']        = dataset['PROFIT_OP'].astype(float)\n",
    "    \n",
    "    dataset = dataset[['PROD_LV1', 'PROD_LV2', 'PROD_LV3', 'PROD_CODE', 'PROD_NAME',\n",
    "                       'CHANNEL_LV1', 'CHANNEL_LV2', 'CHANNEL_LV3', 'YYYY_MM', 'TEAM_LV2_CODE',\n",
    "                       'TEAM_LV2', 'TEAM_LV3_CODE', 'TEAM_LV3', 'SALES_QTY', 'SALES_VOL',\n",
    "                       'REVENUE_TOTAL', 'TE1_DC', 'REVENUE_DC', 'TE2', 'REVENUE', 'COST_SALES',\n",
    "                       'PROFIT_GROSS', 'TE3', 'PROFIT_ADMIN', 'PROFIT_DIRECT',\n",
    "                       'PROFIT_OP_BEFORE', 'PROFIT_OP', 'DATE']]\n",
    "    return dataset"
   ]
  },
  {
   "cell_type": "code",
   "execution_count": null,
   "metadata": {},
   "outputs": [],
   "source": []
  },
  {
   "cell_type": "code",
   "execution_count": null,
   "metadata": {},
   "outputs": [],
   "source": []
  },
  {
   "cell_type": "code",
   "execution_count": null,
   "metadata": {},
   "outputs": [],
   "source": []
  },
  {
   "cell_type": "code",
   "execution_count": 26,
   "metadata": {},
   "outputs": [],
   "source": [
    "client = bigquery.Client()\n",
    "project = 'boxwood-chassis-356100'\n",
    "dataset_id = 'SAP_BW'\n",
    "table_id = 'ZPB_CO_Q001_P'\n",
    "table_name = dataset_id +'.' +table_id"
   ]
  },
  {
   "cell_type": "code",
   "execution_count": null,
   "metadata": {},
   "outputs": [],
   "source": []
  },
  {
   "cell_type": "code",
   "execution_count": null,
   "metadata": {},
   "outputs": [],
   "source": []
  },
  {
   "cell_type": "code",
   "execution_count": 27,
   "metadata": {},
   "outputs": [
    {
     "name": "stderr",
     "output_type": "stream",
     "text": [
      "100%|████████████████████████████████████████████████████████████████████████████████████████████| 1/1 [00:00<?, ?it/s]\n",
      "100%|████████████████████████████████████████████████████████████████████████████████████████████| 1/1 [00:00<?, ?it/s]\n",
      "100%|██████████████████████████████████████████████████████████████████████████████████| 1/1 [00:00<00:00, 6052.39it/s]"
     ]
    },
    {
     "name": "stdout",
     "output_type": "stream",
     "text": [
      "Wall time: 17.2 s\n"
     ]
    },
    {
     "name": "stderr",
     "output_type": "stream",
     "text": [
      "\n"
     ]
    }
   ],
   "source": [
    "%%time\n",
    "# pandas_gbq.to_gbq(rename_table(df_2201), table_name, project_id=project, if_exists = 'append' )\n",
    "# pandas_gbq.to_gbq(rename_table(df_2202), table_name, project_id=project, if_exists = 'append' )\n",
    "# pandas_gbq.to_gbq(rename_table(df_2203), table_name, project_id=project, if_exists = 'append' )\n",
    "# pandas_gbq.to_gbq(rename_table(df_2204), table_name, project_id=project, if_exists = 'append' )\n",
    "# pandas_gbq.to_gbq(rename_table(df_2205), table_name, project_id=project, if_exists = 'append' )\n",
    "# pandas_gbq.to_gbq(rename_table(df_2206), table_name, project_id=project, if_exists = 'append' )\n",
    "# pandas_gbq.to_gbq(rename_table(df_2207), table_name, project_id=project, if_exists = 'append' )\n",
    "# pandas_gbq.to_gbq(rename_table(df_2208), table_name, project_id=project, if_exists = 'append' )\n",
    "# pandas_gbq.to_gbq(rename_table(df_2209), table_name, project_id=project, if_exists = 'append' )\n",
    "\n",
    "pandas_gbq.to_gbq(rename_table(df_2210), table_name, project_id=project, if_exists = 'append' )\n",
    "pandas_gbq.to_gbq(rename_table(df_2211), table_name, project_id=project, if_exists = 'append' )\n",
    "pandas_gbq.to_gbq(rename_table(df_2212), table_name, project_id=project, if_exists = 'append' )"
   ]
  },
  {
   "cell_type": "code",
   "execution_count": 34,
   "metadata": {},
   "outputs": [],
   "source": []
  },
  {
   "cell_type": "code",
   "execution_count": null,
   "metadata": {},
   "outputs": [],
   "source": []
  },
  {
   "cell_type": "code",
   "execution_count": null,
   "metadata": {},
   "outputs": [],
   "source": []
  },
  {
   "attachments": {},
   "cell_type": "markdown",
   "metadata": {},
   "source": [
    "### data check"
   ]
  },
  {
   "cell_type": "code",
   "execution_count": 28,
   "metadata": {},
   "outputs": [
    {
     "name": "stderr",
     "output_type": "stream",
     "text": [
      "Downloading: 100%|███████████████████████████████████████████████████████████████████| 24/24 [00:00<00:00, 49.16rows/s]\n"
     ]
    },
    {
     "data": {
      "text/html": [
       "<div>\n",
       "<style scoped>\n",
       "    .dataframe tbody tr th:only-of-type {\n",
       "        vertical-align: middle;\n",
       "    }\n",
       "\n",
       "    .dataframe tbody tr th {\n",
       "        vertical-align: top;\n",
       "    }\n",
       "\n",
       "    .dataframe thead th {\n",
       "        text-align: right;\n",
       "    }\n",
       "</style>\n",
       "<table border=\"1\" class=\"dataframe\">\n",
       "  <thead>\n",
       "    <tr style=\"text-align: right;\">\n",
       "      <th></th>\n",
       "      <th>YYYY_MM</th>\n",
       "      <th>count</th>\n",
       "    </tr>\n",
       "  </thead>\n",
       "  <tbody>\n",
       "    <tr>\n",
       "      <th>0</th>\n",
       "      <td>202101</td>\n",
       "      <td>5022</td>\n",
       "    </tr>\n",
       "    <tr>\n",
       "      <th>1</th>\n",
       "      <td>202102</td>\n",
       "      <td>5046</td>\n",
       "    </tr>\n",
       "    <tr>\n",
       "      <th>2</th>\n",
       "      <td>202103</td>\n",
       "      <td>5167</td>\n",
       "    </tr>\n",
       "    <tr>\n",
       "      <th>3</th>\n",
       "      <td>202104</td>\n",
       "      <td>5339</td>\n",
       "    </tr>\n",
       "    <tr>\n",
       "      <th>4</th>\n",
       "      <td>202105</td>\n",
       "      <td>5591</td>\n",
       "    </tr>\n",
       "    <tr>\n",
       "      <th>5</th>\n",
       "      <td>202106</td>\n",
       "      <td>5600</td>\n",
       "    </tr>\n",
       "    <tr>\n",
       "      <th>6</th>\n",
       "      <td>202107</td>\n",
       "      <td>5641</td>\n",
       "    </tr>\n",
       "    <tr>\n",
       "      <th>7</th>\n",
       "      <td>202108</td>\n",
       "      <td>5684</td>\n",
       "    </tr>\n",
       "    <tr>\n",
       "      <th>8</th>\n",
       "      <td>202109</td>\n",
       "      <td>5843</td>\n",
       "    </tr>\n",
       "    <tr>\n",
       "      <th>9</th>\n",
       "      <td>202110</td>\n",
       "      <td>5893</td>\n",
       "    </tr>\n",
       "    <tr>\n",
       "      <th>10</th>\n",
       "      <td>202111</td>\n",
       "      <td>6031</td>\n",
       "    </tr>\n",
       "    <tr>\n",
       "      <th>11</th>\n",
       "      <td>202112</td>\n",
       "      <td>6089</td>\n",
       "    </tr>\n",
       "    <tr>\n",
       "      <th>12</th>\n",
       "      <td>202201</td>\n",
       "      <td>6052</td>\n",
       "    </tr>\n",
       "    <tr>\n",
       "      <th>13</th>\n",
       "      <td>202202</td>\n",
       "      <td>6288</td>\n",
       "    </tr>\n",
       "    <tr>\n",
       "      <th>14</th>\n",
       "      <td>202203</td>\n",
       "      <td>6557</td>\n",
       "    </tr>\n",
       "    <tr>\n",
       "      <th>15</th>\n",
       "      <td>202204</td>\n",
       "      <td>6591</td>\n",
       "    </tr>\n",
       "    <tr>\n",
       "      <th>16</th>\n",
       "      <td>202205</td>\n",
       "      <td>6893</td>\n",
       "    </tr>\n",
       "    <tr>\n",
       "      <th>17</th>\n",
       "      <td>202206</td>\n",
       "      <td>6781</td>\n",
       "    </tr>\n",
       "    <tr>\n",
       "      <th>18</th>\n",
       "      <td>202207</td>\n",
       "      <td>6723</td>\n",
       "    </tr>\n",
       "    <tr>\n",
       "      <th>19</th>\n",
       "      <td>202208</td>\n",
       "      <td>6772</td>\n",
       "    </tr>\n",
       "    <tr>\n",
       "      <th>20</th>\n",
       "      <td>202209</td>\n",
       "      <td>6919</td>\n",
       "    </tr>\n",
       "    <tr>\n",
       "      <th>21</th>\n",
       "      <td>202210</td>\n",
       "      <td>7132</td>\n",
       "    </tr>\n",
       "    <tr>\n",
       "      <th>22</th>\n",
       "      <td>202211</td>\n",
       "      <td>5390</td>\n",
       "    </tr>\n",
       "    <tr>\n",
       "      <th>23</th>\n",
       "      <td>202212</td>\n",
       "      <td>5358</td>\n",
       "    </tr>\n",
       "  </tbody>\n",
       "</table>\n",
       "</div>"
      ],
      "text/plain": [
       "   YYYY_MM  count\n",
       "0   202101   5022\n",
       "1   202102   5046\n",
       "2   202103   5167\n",
       "3   202104   5339\n",
       "4   202105   5591\n",
       "5   202106   5600\n",
       "6   202107   5641\n",
       "7   202108   5684\n",
       "8   202109   5843\n",
       "9   202110   5893\n",
       "10  202111   6031\n",
       "11  202112   6089\n",
       "12  202201   6052\n",
       "13  202202   6288\n",
       "14  202203   6557\n",
       "15  202204   6591\n",
       "16  202205   6893\n",
       "17  202206   6781\n",
       "18  202207   6723\n",
       "19  202208   6772\n",
       "20  202209   6919\n",
       "21  202210   7132\n",
       "22  202211   5390\n",
       "23  202212   5358"
      ]
     },
     "execution_count": 28,
     "metadata": {},
     "output_type": "execute_result"
    }
   ],
   "source": [
    "import pandas_gbq\n",
    "\n",
    "client = bigquery.Client()\n",
    "# TODO: Set project_id to your Google Cloud Platform project ID.\n",
    "project_id = 'boxwood-**************'\n",
    "\n",
    "sql = \"\"\"\n",
    "SELECT YYYY_MM, count(*) as count\n",
    "FROM `boxwood-**************.SAP_BW.ZPB_CO_Q001_P`\n",
    "group by YYYY_MM\n",
    "\"\"\"\n",
    "df1 = pandas_gbq.read_gbq(sql, project_id=project_id)\n",
    "df1 = df1.sort_values(by=['YYYY_MM']).reset_index(drop=True)\n",
    "df1"
   ]
  },
  {
   "cell_type": "code",
   "execution_count": 17,
   "metadata": {},
   "outputs": [],
   "source": [
    "# df.sort_values(by=['YYYY_MM']).reset_index(drop=True)"
   ]
  },
  {
   "cell_type": "code",
   "execution_count": null,
   "metadata": {},
   "outputs": [],
   "source": []
  },
  {
   "cell_type": "code",
   "execution_count": null,
   "metadata": {},
   "outputs": [],
   "source": []
  }
 ],
 "metadata": {
  "kernelspec": {
   "display_name": "Python 3",
   "language": "python",
   "name": "python3"
  },
  "language_info": {
   "codemirror_mode": {
    "name": "ipython",
    "version": 3
   },
   "file_extension": ".py",
   "mimetype": "text/x-python",
   "name": "python",
   "nbconvert_exporter": "python",
   "pygments_lexer": "ipython3",
   "version": "3.7.6"
  }
 },
 "nbformat": 4,
 "nbformat_minor": 4
}
