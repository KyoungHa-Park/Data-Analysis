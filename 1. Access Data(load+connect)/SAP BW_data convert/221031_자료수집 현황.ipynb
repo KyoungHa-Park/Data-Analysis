{
 "cells": [
  {
   "cell_type": "code",
   "execution_count": null,
   "metadata": {},
   "outputs": [],
   "source": []
  },
  {
   "cell_type": "code",
   "execution_count": 1,
   "metadata": {},
   "outputs": [],
   "source": [
    "import csv\n",
    "import xlrd\n",
    "from pandas import DataFrame\n",
    "import os\n",
    "from os import listdir\n",
    "from datetime import datetime, timedelta\n",
    "\n",
    "import pandas as pd\n",
    "import pandas_gbq\n",
    "from datetime import datetime, timedelta\n",
    "import time \n",
    "import re\n",
    "from google.cloud import bigquery\n",
    "\n",
    "# 접속 정보 : local\n",
    "os.environ[\"GOOGLE_APPLICATION_CREDENTIALS\"]=\"./boxwood-**************************.json\"\n",
    "client = bigquery.Client()\n",
    "\n",
    "import matplotlib as mpl\n",
    "import matplotlib.pyplot as plt\n",
    "import matplotlib.font_manager as fm\n",
    "\n",
    "path = 'C:/windows/Fonts/malgun.ttf'                           # 폰트:맑은고딕\n",
    "font_name = fm.FontProperties(fname=path, size=24).get_name()  \n",
    "plt.rc('font', family=font_name)\n"
   ]
  },
  {
   "cell_type": "code",
   "execution_count": null,
   "metadata": {},
   "outputs": [],
   "source": []
  },
  {
   "cell_type": "code",
   "execution_count": 2,
   "metadata": {},
   "outputs": [],
   "source": [
    "project = 'boxwood-******************'\n",
    "dataset_id = 'SAP_BW'\n",
    "project_id = project"
   ]
  },
  {
   "cell_type": "code",
   "execution_count": null,
   "metadata": {},
   "outputs": [],
   "source": []
  },
  {
   "cell_type": "code",
   "execution_count": 3,
   "metadata": {},
   "outputs": [
    {
     "name": "stderr",
     "output_type": "stream",
     "text": [
      "Downloading: 100%|███████████████████████████████████████████████████████████████████| 11/11 [00:00<00:00, 27.98rows/s]\n"
     ]
    }
   ],
   "source": [
    "sql = \"\"\"\n",
    "SELECT FORMAT_DATETIME('%y/%m', CAST(DATE AS DATETIME)) as DATE, count(*) as CNT\n",
    "FROM `boxwood-******************.SAP_BW.ZPB_PP_Q001`\n",
    "where PROD_LV1 = 'Plant& 제품군'\n",
    "group by FORMAT_DATETIME('%y/%m', CAST(DATE AS DATETIME))\n",
    "\"\"\"\n",
    "df1 = pandas_gbq.read_gbq(sql, project_id=project_id)\n",
    "df1 = df1.sort_values(by=['DATE']).reset_index(drop=True)"
   ]
  },
  {
   "cell_type": "code",
   "execution_count": null,
   "metadata": {},
   "outputs": [],
   "source": []
  },
  {
   "cell_type": "code",
   "execution_count": null,
   "metadata": {},
   "outputs": [],
   "source": []
  },
  {
   "cell_type": "code",
   "execution_count": 4,
   "metadata": {},
   "outputs": [
    {
     "name": "stderr",
     "output_type": "stream",
     "text": [
      "Downloading: 100%|███████████████████████████████████████████████████████████████████| 11/11 [00:00<00:00, 23.37rows/s]\n"
     ]
    }
   ],
   "source": [
    "sql = \"\"\"\n",
    "SELECT FORMAT_DATETIME('%y/%m', CAST(DATE AS DATETIME)) as DATE, count(*) as CNT\n",
    "FROM `boxwood-******************.SAP_BW.ZPB_LE_Q001`\n",
    "where PROD_LV1 = 'Plant& 제품군'\n",
    "group by FORMAT_DATETIME('%y/%m', CAST(DATE AS DATETIME))\n",
    "\"\"\"\n",
    "df2 = pandas_gbq.read_gbq(sql, project_id=project_id)\n",
    "df2 = df2.sort_values(by=['DATE']).reset_index(drop=True)"
   ]
  },
  {
   "cell_type": "code",
   "execution_count": null,
   "metadata": {},
   "outputs": [],
   "source": []
  },
  {
   "cell_type": "code",
   "execution_count": 11,
   "metadata": {},
   "outputs": [
    {
     "name": "stderr",
     "output_type": "stream",
     "text": [
      "Downloading: 100%|███████████████████████████████████████████████████████████████████| 23/23 [00:00<00:00, 60.11rows/s]\n"
     ]
    }
   ],
   "source": [
    "sql = \"\"\"\n",
    "SELECT FORMAT_DATETIME('%y/%m', CAST(DATE AS DATETIME)) as DATE, count(*) as CNT\n",
    "FROM `boxwood-******************.SAP_BW.ZPB_SD_Q013`\n",
    "where PROD_LV1 = 'Plant& 제품군'\n",
    "group by FORMAT_DATETIME('%y/%m', CAST(DATE AS DATETIME))\n",
    "\"\"\"\n",
    "df3 = pandas_gbq.read_gbq(sql, project_id=project_id)\n",
    "df3 = df3.sort_values(by=['DATE']).reset_index(drop=True)"
   ]
  },
  {
   "cell_type": "code",
   "execution_count": null,
   "metadata": {},
   "outputs": [],
   "source": []
  },
  {
   "cell_type": "code",
   "execution_count": 6,
   "metadata": {},
   "outputs": [
    {
     "name": "stderr",
     "output_type": "stream",
     "text": [
      "Downloading: 100%|███████████████████████████████████████████████████████████████████| 23/23 [00:00<00:00, 59.30rows/s]\n"
     ]
    }
   ],
   "source": [
    "sql = \"\"\"\n",
    "SELECT FORMAT_DATETIME('%y/%m', CAST(DATE AS DATETIME)) as DATE, count(*) as CNT\n",
    "FROM `boxwood-******************.SAP_BW.ZPB_SD_Q002`\n",
    "where PROD_LV1 = 'Plant& 제품군'\n",
    "group by FORMAT_DATETIME('%y/%m', CAST(DATE AS DATETIME))\n",
    "\"\"\"\n",
    "df4 = pandas_gbq.read_gbq(sql, project_id=project_id)\n",
    "df4 = df4.sort_values(by=['DATE']).reset_index(drop=True)"
   ]
  },
  {
   "cell_type": "code",
   "execution_count": null,
   "metadata": {},
   "outputs": [],
   "source": []
  },
  {
   "cell_type": "code",
   "execution_count": 7,
   "metadata": {},
   "outputs": [
    {
     "name": "stderr",
     "output_type": "stream",
     "text": [
      "Downloading: 100%|███████████████████████████████████████████████████████████████████| 23/23 [00:00<00:00, 59.40rows/s]\n"
     ]
    }
   ],
   "source": [
    "sql = \"\"\"\n",
    "SELECT FORMAT_DATETIME('%y/%m', CAST(DATE AS DATETIME)) as DATE, count(*) as CNT\n",
    "FROM `boxwood-******************.SAP_BW.ZPB_SD_Q016`\n",
    "where PROD_LV1 = 'Plant& 제품군'\n",
    "group by FORMAT_DATETIME('%y/%m', CAST(DATE AS DATETIME))\n",
    "\"\"\"\n",
    "df5 = pandas_gbq.read_gbq(sql, project_id=project_id)\n",
    "df5 = df5.sort_values(by=['DATE']).reset_index(drop=True)"
   ]
  },
  {
   "cell_type": "code",
   "execution_count": null,
   "metadata": {},
   "outputs": [],
   "source": []
  },
  {
   "cell_type": "code",
   "execution_count": 8,
   "metadata": {},
   "outputs": [
    {
     "name": "stderr",
     "output_type": "stream",
     "text": [
      "Downloading: 100%|███████████████████████████████████████████████████████████████████| 24/24 [00:00<00:00, 70.70rows/s]\n"
     ]
    }
   ],
   "source": [
    "sql = \"\"\"\n",
    "SELECT FORMAT_DATETIME('%y/%m', CAST(DATE AS DATETIME)) as DATE, count(*) as CNT\n",
    "FROM `boxwood-**************.SAP_BW.ZPB_CO_Q001_P`\n",
    "where PROD_LV1 = 'Plant& 제품군'\n",
    "group by FORMAT_DATETIME('%y/%m', CAST(DATE AS DATETIME))\n",
    "\"\"\"\n",
    "df6 = pandas_gbq.read_gbq(sql, project_id=project_id)\n",
    "df6 = df6.sort_values(by=['DATE']).reset_index(drop=True)"
   ]
  },
  {
   "cell_type": "code",
   "execution_count": null,
   "metadata": {},
   "outputs": [],
   "source": []
  },
  {
   "cell_type": "code",
   "execution_count": 9,
   "metadata": {},
   "outputs": [
    {
     "name": "stderr",
     "output_type": "stream",
     "text": [
      "Downloading: 100%|███████████████████████████████████████████████████████████████████| 22/22 [00:00<00:00, 56.83rows/s]\n"
     ]
    }
   ],
   "source": [
    "sql = \"\"\"\n",
    "SELECT FORMAT_DATETIME('%y/%m', CAST(DATE AS DATETIME)) as DATE, count(*) as CNT\n",
    "FROM `boxwood-**************.SAP_BW.ZPB_CO_Q001_R`\n",
    "where PROD_LV1 = 'Plant& 제품군'\n",
    "group by FORMAT_DATETIME('%y/%m', CAST(DATE AS DATETIME))\n",
    "\"\"\"\n",
    "df7 = pandas_gbq.read_gbq(sql, project_id=project_id)\n",
    "df7 = df7.sort_values(by=['DATE']).reset_index(drop=True)"
   ]
  },
  {
   "cell_type": "code",
   "execution_count": null,
   "metadata": {},
   "outputs": [],
   "source": []
  },
  {
   "cell_type": "code",
   "execution_count": 14,
   "metadata": {},
   "outputs": [
    {
     "data": {
      "image/png": "[encoded data removed]",
      "text/plain": [
       "<Figure size 1296x432 with 7 Axes>"
      ]
     },
     "metadata": {},
     "output_type": "display_data"
    }
   ],
   "source": [
    "fig = plt.figure(figsize=(18, 6), facecolor='#eeeeee' )\n",
    "\n",
    "\n",
    "plt.subplot(2,4,1)\n",
    "plt.subplots_adjust(left=0.125, bottom=0.1,  right=0.9, top=0.9, wspace=0.2, hspace=0.5)\n",
    "plt.bar(df1.DATE, df1.CNT)\n",
    "plt.xticks(rotation=90)\n",
    "plt.title('{} : 자료 수\\n({})'.format('생산현황', 'ZPB_PP_Q001'),fontsize='x-large')\n",
    "\n",
    "\n",
    "plt.subplot(2,4, 2)\n",
    "plt.bar(df2.DATE, df2.CNT)\n",
    "plt.xticks(rotation=90)\n",
    "plt.title('{} : 자료 수\\n({})'.format('재고현황', 'ZPB_LE_Q001'),fontsize='x-large')\n",
    "\n",
    "\n",
    "plt.subplot(2,4, 3)\n",
    "plt.bar(df3.DATE, df3.CNT)\n",
    "plt.xticks(rotation=90)\n",
    "plt.title('{} : 자료 수\\n({})'.format('일별수주현황(계획/실적)', 'ZPB_SD_Q013'),fontsize='x-large')\n",
    "\n",
    "plt.subplot(2,4, 4)\n",
    "plt.bar(df4.DATE, df4.CNT)\n",
    "plt.xticks(rotation=90)\n",
    "plt.title('{} : 자료 수\\n({})'.format('미출현황', 'ZPB_SD_Q002'),fontsize='x-large')\n",
    "\n",
    "plt.subplot(2,4, 5)\n",
    "plt.subplots_adjust(left=0.125, bottom=0.1,  right=0.9, top=1, wspace=0.2, hspace=0.5)\n",
    "plt.bar(df5.DATE, df5.CNT)\n",
    "plt.xticks(rotation=90)\n",
    "plt.title('{} : 자료 수\\n({})'.format('일별판매현황(계획/실적)', 'ZPB_SD_Q016'),fontsize='x-large')\n",
    "\n",
    "plt.subplot(2,4, 6)\n",
    "plt.subplots_adjust(left=0.125, bottom=0.1,  right=0.9, top=1, wspace=0.2, hspace=0.5)\n",
    "plt.bar(df6.DATE, df6.CNT, color = 'gray')\n",
    "plt.xticks(rotation=90)\n",
    "plt.title('{} : 자료 수\\n({})'.format('손익현황(계획)', 'ZPB_CO_Q001_P'),fontsize='x-large')\n",
    "\n",
    "plt.subplot(2,4, 7)\n",
    "plt.subplots_adjust(left=0.125, bottom=0.1,  right=0.9, top=1, wspace=0.2, hspace=0.5)\n",
    "plt.bar(df7.DATE, df7.CNT, color = 'gray')\n",
    "plt.xticks(rotation=90)\n",
    "plt.title('{} : 자료 수\\n({})'.format('손익현황(실적)', 'ZPB_CO_Q001_R'),fontsize='x-large')\n",
    "\n",
    "plt.show()"
   ]
  },
  {
   "cell_type": "code",
   "execution_count": null,
   "metadata": {},
   "outputs": [],
   "source": []
  },
  {
   "cell_type": "code",
   "execution_count": null,
   "metadata": {},
   "outputs": [],
   "source": []
  },
  {
   "cell_type": "code",
   "execution_count": null,
   "metadata": {},
   "outputs": [],
   "source": []
  }
 ],
 "metadata": {
  "kernelspec": {
   "display_name": "Python 3",
   "language": "python",
   "name": "python3"
  },
  "language_info": {
   "codemirror_mode": {
    "name": "ipython",
    "version": 3
   },
   "file_extension": ".py",
   "mimetype": "text/x-python",
   "name": "python",
   "nbconvert_exporter": "python",
   "pygments_lexer": "ipython3",
   "version": "3.7.6"
  }
 },
 "nbformat": 4,
 "nbformat_minor": 4
}
