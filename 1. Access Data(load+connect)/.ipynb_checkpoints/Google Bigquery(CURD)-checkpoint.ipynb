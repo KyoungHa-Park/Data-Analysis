{
 "cells": [
  {
   "cell_type": "code",
   "execution_count": null,
   "metadata": {},
   "outputs": [],
   "source": [
    "# 출처 : https://cloud.google.com/bigquery/docs/managing-datasets?hl=ko#renaming_datasets"
   ]
  },
  {
   "cell_type": "markdown",
   "metadata": {},
   "source": [
    "**Index**\n",
    "\n",
    "1. [ ] 환경설정\n",
    "2. [ ] 테이블 생성\n",
    "  + [ ] 데이터세트(=스키마)\n",
    "  + [ ] 테이블\n",
    "3. 자료 불러오기\n",
    "4. 자료 업데이트\n",
    "5. 자료 삭제"
   ]
  },
  {
   "cell_type": "code",
   "execution_count": null,
   "metadata": {},
   "outputs": [],
   "source": []
  },
  {
   "cell_type": "markdown",
   "metadata": {},
   "source": [
    "### 1.환경설정"
   ]
  },
  {
   "cell_type": "code",
   "execution_count": 4,
   "metadata": {},
   "outputs": [],
   "source": [
    "###########\n",
    "# 1.환경설정\n",
    "####\n",
    "\n",
    "import os\n",
    "from google.cloud import bigquery\n",
    "\n",
    "os.environ[\"GOOGLE_APPLICATION_CREDENTIALS\"]=\"C:/vision API-06a448b64428.json\"\n",
    "client = bigquery.Client()"
   ]
  },
  {
   "cell_type": "code",
   "execution_count": 5,
   "metadata": {},
   "outputs": [
    {
     "data": {
      "text/plain": [
       "'thermal-rain-234004'"
      ]
     },
     "execution_count": 5,
     "metadata": {},
     "output_type": "execute_result"
    }
   ],
   "source": [
    "# 계정 확인\n",
    "client.project"
   ]
  },
  {
   "cell_type": "code",
   "execution_count": null,
   "metadata": {},
   "outputs": [],
   "source": []
  },
  {
   "cell_type": "code",
   "execution_count": null,
   "metadata": {},
   "outputs": [],
   "source": []
  },
  {
   "cell_type": "markdown",
   "metadata": {},
   "source": [
    "### 2.테이터세트 생성/삭제\n",
    ": RDB의 스키마와 같은 Level(즉, table 상위 Level)"
   ]
  },
  {
   "cell_type": "code",
   "execution_count": 7,
   "metadata": {},
   "outputs": [
    {
     "name": "stdout",
     "output_type": "stream",
     "text": [
      "Created dataset thermal-rain-234004.instagram_data\n"
     ]
    }
   ],
   "source": [
    "###########\n",
    "# 데이터세트 만들기\n",
    "#####\n",
    "\n",
    "dataset_id = \"{}.instagram_data\".format(client.project)\n",
    "\n",
    "# Construct a full Dataset object to send to the API.\n",
    "dataset = bigquery.Dataset(dataset_id)\n",
    "\n",
    "# TODO(developer): Specify the geographic location where the dataset should reside.\n",
    "dataset.location = \"US\"\n",
    "\n",
    "# Send the dataset to the API for creation.\n",
    "# Raises google.api_core.exceptions.Conflict if the Dataset already\n",
    "# exists within the project.\n",
    "dataset = client.create_dataset(dataset)  # API request\n",
    "print(\"Created dataset {}.{}\".format(client.project, dataset.dataset_id))"
   ]
  },
  {
   "cell_type": "code",
   "execution_count": 6,
   "metadata": {},
   "outputs": [
    {
     "name": "stdout",
     "output_type": "stream",
     "text": [
      "Deleted dataset 'thermal-rain-234004.instagram_test'.\n"
     ]
    }
   ],
   "source": [
    "###########\n",
    "# 데이터세트 삭제\n",
    "#####\n",
    "\n",
    "# client.delete_dataset(dataset_id, delete_contents=True, not_found_ok=True)\n",
    "# print(\"Deleted dataset '{}'.\".format(dataset_id))"
   ]
  },
  {
   "cell_type": "code",
   "execution_count": 4,
   "metadata": {},
   "outputs": [
    {
     "data": {
      "text/plain": [
       "'thermal-rain-234004'"
      ]
     },
     "execution_count": 4,
     "metadata": {},
     "output_type": "execute_result"
    }
   ],
   "source": [
    "client.project"
   ]
  },
  {
   "cell_type": "code",
   "execution_count": 6,
   "metadata": {},
   "outputs": [
    {
     "ename": "NameError",
     "evalue": "name 'dataset' is not defined",
     "output_type": "error",
     "traceback": [
      "\u001b[1;31m---------------------------------------------------------------------------\u001b[0m",
      "\u001b[1;31mNameError\u001b[0m                                 Traceback (most recent call last)",
      "\u001b[1;32m<ipython-input-6-e7101fef26f3>\u001b[0m in \u001b[0;36m<module>\u001b[1;34m\u001b[0m\n\u001b[1;32m----> 1\u001b[1;33m \u001b[0mclient\u001b[0m\u001b[1;33m.\u001b[0m\u001b[0mproject\u001b[0m\u001b[1;33m,\u001b[0m \u001b[0mdataset\u001b[0m\u001b[1;33m.\u001b[0m\u001b[0mdataset_id\u001b[0m\u001b[1;33m\u001b[0m\u001b[1;33m\u001b[0m\u001b[0m\n\u001b[0m",
      "\u001b[1;31mNameError\u001b[0m: name 'dataset' is not defined"
     ]
    }
   ],
   "source": [
    "client.project, dataset.dataset_id"
   ]
  },
  {
   "cell_type": "code",
   "execution_count": null,
   "metadata": {},
   "outputs": [],
   "source": []
  },
  {
   "cell_type": "code",
   "execution_count": 14,
   "metadata": {},
   "outputs": [
    {
     "name": "stdout",
     "output_type": "stream",
     "text": [
      "Created table thermal-rain-234004.instagram_data.hashtag_count\n"
     ]
    }
   ],
   "source": [
    "###########\n",
    "# 테이블 생성\n",
    "#####\n",
    "\n",
    "# TODO(developer): Construct a BigQuery client object.\n",
    "# client = bigquery.Client()\n",
    "\n",
    "# Set table_id to the ID of the table to create\n",
    "project_name = client.project\n",
    "dataset_name = dataset.dataset_id\n",
    "table_name = 'hashtag_count'\n",
    "\n",
    "table_id = project_name + '.' + dataset_name + '.' + table_name\n",
    "\n",
    "schema = [\n",
    "    bigquery.SchemaField(\"DATE\",            \"DATETIME\", mode=\"REQUIRED\"),\n",
    "    bigquery.SchemaField(\"keyword\",         \"STRING\",   mode=\"REQUIRED\"),\n",
    "    bigquery.SchemaField(\"COUNT\",           \"INTEGER\",  mode=\"REQUIRED\"),\n",
    "    bigquery.SchemaField(\"Hashtag_related\", \"STRING\",   mode=\"REQUIRED\"),\n",
    "]\n",
    "\n",
    "table = bigquery.Table(table_id, schema=schema)\n",
    "table = client.create_table(table)  # API request\n",
    "print(\n",
    "    \"Created table {}.{}.{}\".format(table.project, table.dataset_id, table.table_id)\n",
    ")"
   ]
  },
  {
   "cell_type": "code",
   "execution_count": null,
   "metadata": {},
   "outputs": [],
   "source": []
  },
  {
   "cell_type": "code",
   "execution_count": null,
   "metadata": {},
   "outputs": [],
   "source": []
  },
  {
   "cell_type": "markdown",
   "metadata": {},
   "source": [
    "### 3. 데이터 불러오기"
   ]
  },
  {
   "cell_type": "code",
   "execution_count": null,
   "metadata": {},
   "outputs": [],
   "source": []
  },
  {
   "cell_type": "code",
   "execution_count": 7,
   "metadata": {},
   "outputs": [
    {
     "name": "stdout",
     "output_type": "stream",
     "text": [
      "Tables:\n",
      "\thashtag_count\n"
     ]
    }
   ],
   "source": [
    "###########\n",
    "# 데이터세트 내 테이블 정보 가져오기\n",
    "#####\n",
    "\n",
    "dataset_id = \"{}.instagram_data\".format(client.project)\n",
    "dataset = bigquery.Dataset(dataset_id)\n",
    "\n",
    "print(\"Tables:\")\n",
    "\n",
    "tables = list(client.list_tables(dataset))  # API request(s)\n",
    "if tables:\n",
    "    for table in tables:\n",
    "        print(\"\\t{}\".format(table.table_id))\n",
    "else:\n",
    "    print(\"\\tThis dataset does not contain any tables.\")"
   ]
  },
  {
   "cell_type": "code",
   "execution_count": 8,
   "metadata": {},
   "outputs": [],
   "source": [
    "# 쿼리 실행\n",
    "%load_ext google.cloud.bigquery"
   ]
  },
  {
   "cell_type": "code",
   "execution_count": 10,
   "metadata": {},
   "outputs": [
    {
     "data": {
      "text/html": [
       "<div>\n",
       "<style scoped>\n",
       "    .dataframe tbody tr th:only-of-type {\n",
       "        vertical-align: middle;\n",
       "    }\n",
       "\n",
       "    .dataframe tbody tr th {\n",
       "        vertical-align: top;\n",
       "    }\n",
       "\n",
       "    .dataframe thead th {\n",
       "        text-align: right;\n",
       "    }\n",
       "</style>\n",
       "<table border=\"1\" class=\"dataframe\">\n",
       "  <thead>\n",
       "    <tr style=\"text-align: right;\">\n",
       "      <th></th>\n",
       "      <th>DATE</th>\n",
       "      <th>keyword</th>\n",
       "      <th>COUNT</th>\n",
       "      <th>Hashtag_related</th>\n",
       "    </tr>\n",
       "  </thead>\n",
       "  <tbody>\n",
       "    <tr>\n",
       "      <th>0</th>\n",
       "      <td>2020-07-15 09:08:14</td>\n",
       "      <td>바리스타룰스</td>\n",
       "      <td>0</td>\n",
       "      <td></td>\n",
       "    </tr>\n",
       "    <tr>\n",
       "      <th>1</th>\n",
       "      <td>2020-07-14 09:13:50</td>\n",
       "      <td>바리스타룰스</td>\n",
       "      <td>0</td>\n",
       "      <td></td>\n",
       "    </tr>\n",
       "    <tr>\n",
       "      <th>2</th>\n",
       "      <td>2020-07-14 09:08:13</td>\n",
       "      <td>바리스타룰스</td>\n",
       "      <td>0</td>\n",
       "      <td></td>\n",
       "    </tr>\n",
       "    <tr>\n",
       "      <th>3</th>\n",
       "      <td>2020-07-13 13:53:42</td>\n",
       "      <td>바리스타룰스</td>\n",
       "      <td>0</td>\n",
       "      <td></td>\n",
       "    </tr>\n",
       "    <tr>\n",
       "      <th>4</th>\n",
       "      <td>2020-07-01 01:09:01</td>\n",
       "      <td>바리스타룰스</td>\n",
       "      <td>13044</td>\n",
       "      <td></td>\n",
       "    </tr>\n",
       "    <tr>\n",
       "      <th>5</th>\n",
       "      <td>2020-06-30 16:28:25</td>\n",
       "      <td>바리스타룰스</td>\n",
       "      <td>13045</td>\n",
       "      <td></td>\n",
       "    </tr>\n",
       "    <tr>\n",
       "      <th>6</th>\n",
       "      <td>2020-06-12 09:08:43</td>\n",
       "      <td>바리스타룰스</td>\n",
       "      <td>10085</td>\n",
       "      <td></td>\n",
       "    </tr>\n",
       "    <tr>\n",
       "      <th>7</th>\n",
       "      <td>2020-06-11 09:08:39</td>\n",
       "      <td>바리스타룰스</td>\n",
       "      <td>10037</td>\n",
       "      <td></td>\n",
       "    </tr>\n",
       "    <tr>\n",
       "      <th>8</th>\n",
       "      <td>2020-06-10 09:08:40</td>\n",
       "      <td>바리스타룰스</td>\n",
       "      <td>9961</td>\n",
       "      <td></td>\n",
       "    </tr>\n",
       "    <tr>\n",
       "      <th>9</th>\n",
       "      <td>2020-06-09 09:08:35</td>\n",
       "      <td>바리스타룰스</td>\n",
       "      <td>9903</td>\n",
       "      <td></td>\n",
       "    </tr>\n",
       "  </tbody>\n",
       "</table>\n",
       "</div>"
      ],
      "text/plain": [
       "                 DATE keyword  COUNT Hashtag_related\n",
       "0 2020-07-15 09:08:14  바리스타룰스      0                \n",
       "1 2020-07-14 09:13:50  바리스타룰스      0                \n",
       "2 2020-07-14 09:08:13  바리스타룰스      0                \n",
       "3 2020-07-13 13:53:42  바리스타룰스      0                \n",
       "4 2020-07-01 01:09:01  바리스타룰스  13044                \n",
       "5 2020-06-30 16:28:25  바리스타룰스  13045                \n",
       "6 2020-06-12 09:08:43  바리스타룰스  10085                \n",
       "7 2020-06-11 09:08:39  바리스타룰스  10037                \n",
       "8 2020-06-10 09:08:40  바리스타룰스   9961                \n",
       "9 2020-06-09 09:08:35  바리스타룰스   9903                "
      ]
     },
     "execution_count": 10,
     "metadata": {},
     "output_type": "execute_result"
    }
   ],
   "source": [
    "%%bigquery\n",
    "\n",
    "SELECT * \n",
    "FROM `thermal-rain-234004.instagram_data.hashtag_count` \n",
    "where keyword = '바리스타룰스'\n",
    "order by DATE desc\n",
    "LIMIT 10"
   ]
  },
  {
   "cell_type": "code",
   "execution_count": null,
   "metadata": {},
   "outputs": [],
   "source": []
  },
  {
   "cell_type": "code",
   "execution_count": null,
   "metadata": {},
   "outputs": [],
   "source": []
  },
  {
   "cell_type": "code",
   "execution_count": 42,
   "metadata": {},
   "outputs": [],
   "source": [
    "# 쿼리 실행 : Pandas DataFrames 형태로 지정\n",
    "\n",
    "# job_config = bigquery.QueryJobConfig(dry_run=True, use_query_cache=False)\n",
    "\n",
    "# Start the query, passing in the extra configuration.\n",
    "sql = \"\"\"SELECT * \n",
    "         FROM `thermal-rain-234004.instagram_data.hashtag_count` \n",
    "         where keyword = '바리스타룰스'\n",
    "         \"\"\"\n",
    "\n",
    "df = client.query(sql).to_dataframe()\n"
   ]
  },
  {
   "cell_type": "code",
   "execution_count": 43,
   "metadata": {},
   "outputs": [
    {
     "data": {
      "text/html": [
       "<div>\n",
       "<style scoped>\n",
       "    .dataframe tbody tr th:only-of-type {\n",
       "        vertical-align: middle;\n",
       "    }\n",
       "\n",
       "    .dataframe tbody tr th {\n",
       "        vertical-align: top;\n",
       "    }\n",
       "\n",
       "    .dataframe thead th {\n",
       "        text-align: right;\n",
       "    }\n",
       "</style>\n",
       "<table border=\"1\" class=\"dataframe\">\n",
       "  <thead>\n",
       "    <tr style=\"text-align: right;\">\n",
       "      <th></th>\n",
       "      <th>DATE</th>\n",
       "      <th>keyword</th>\n",
       "      <th>COUNT</th>\n",
       "      <th>Hashtag_related</th>\n",
       "    </tr>\n",
       "  </thead>\n",
       "  <tbody>\n",
       "    <tr>\n",
       "      <th>0</th>\n",
       "      <td>2020-03-02 09:53:55</td>\n",
       "      <td>바리스타룰스</td>\n",
       "      <td>8178</td>\n",
       "      <td>#생후499일#유아복쇼핑몰#생후366일#등하원복#유아슈트#음식물쓰레기#둘이라서좋아#...</td>\n",
       "    </tr>\n",
       "    <tr>\n",
       "      <th>1</th>\n",
       "      <td>2020-02-21 14:40:32</td>\n",
       "      <td>바리스타룰스</td>\n",
       "      <td>8164</td>\n",
       "      <td>#칠곡군출장샵#유투브채널#외도동카페#브라이언#상주수제케이크#누가보면#뽀드득뽀드득❄️...</td>\n",
       "    </tr>\n",
       "    <tr>\n",
       "      <th>2</th>\n",
       "      <td>2020-02-24 09:24:54</td>\n",
       "      <td>바리스타룰스</td>\n",
       "      <td>8165</td>\n",
       "      <td>#안국역육개장#얼베인#막걸리한잔#사쿠사쿠#울산우정사진#엘츠#고기짬뽕#서울예쁜꽃집#기업답례</td>\n",
       "    </tr>\n",
       "    <tr>\n",
       "      <th>3</th>\n",
       "      <td>2020-02-24 17:23:18</td>\n",
       "      <td>바리스타룰스</td>\n",
       "      <td>8164</td>\n",
       "      <td>#안국역육개장#얼베인#막걸리한잔#사쿠사쿠#울산우정사진#엘츠#고기짬뽕#서울예쁜꽃집#기업답례</td>\n",
       "    </tr>\n",
       "    <tr>\n",
       "      <th>4</th>\n",
       "      <td>2020-02-25 10:25:42</td>\n",
       "      <td>바리스타룰스</td>\n",
       "      <td>8162</td>\n",
       "      <td>#불고기파스타#동대문이베리코맛집#구일역#classypet2019#황도#존잼꿀잼#중상...</td>\n",
       "    </tr>\n",
       "  </tbody>\n",
       "</table>\n",
       "</div>"
      ],
      "text/plain": [
       "                 DATE keyword  COUNT  \\\n",
       "0 2020-03-02 09:53:55  바리스타룰스   8178   \n",
       "1 2020-02-21 14:40:32  바리스타룰스   8164   \n",
       "2 2020-02-24 09:24:54  바리스타룰스   8165   \n",
       "3 2020-02-24 17:23:18  바리스타룰스   8164   \n",
       "4 2020-02-25 10:25:42  바리스타룰스   8162   \n",
       "\n",
       "                                     Hashtag_related  \n",
       "0  #생후499일#유아복쇼핑몰#생후366일#등하원복#유아슈트#음식물쓰레기#둘이라서좋아#...  \n",
       "1  #칠곡군출장샵#유투브채널#외도동카페#브라이언#상주수제케이크#누가보면#뽀드득뽀드득❄️...  \n",
       "2  #안국역육개장#얼베인#막걸리한잔#사쿠사쿠#울산우정사진#엘츠#고기짬뽕#서울예쁜꽃집#기업답례  \n",
       "3  #안국역육개장#얼베인#막걸리한잔#사쿠사쿠#울산우정사진#엘츠#고기짬뽕#서울예쁜꽃집#기업답례  \n",
       "4  #불고기파스타#동대문이베리코맛집#구일역#classypet2019#황도#존잼꿀잼#중상...  "
      ]
     },
     "execution_count": 43,
     "metadata": {},
     "output_type": "execute_result"
    }
   ],
   "source": [
    "df.head()"
   ]
  },
  {
   "cell_type": "code",
   "execution_count": null,
   "metadata": {},
   "outputs": [],
   "source": []
  },
  {
   "cell_type": "code",
   "execution_count": null,
   "metadata": {
    "scrolled": false
   },
   "outputs": [],
   "source": []
  },
  {
   "cell_type": "code",
   "execution_count": null,
   "metadata": {},
   "outputs": [],
   "source": []
  },
  {
   "cell_type": "code",
   "execution_count": null,
   "metadata": {},
   "outputs": [],
   "source": []
  },
  {
   "cell_type": "code",
   "execution_count": null,
   "metadata": {},
   "outputs": [],
   "source": []
  },
  {
   "cell_type": "code",
   "execution_count": 9,
   "metadata": {},
   "outputs": [],
   "source": [
    "# 파일 업로드(local)\n",
    "\n",
    "# from google.cloud import bigquery\n",
    "# client = bigquery.Client()\n",
    "bucket_name = 'khpark_bucket'\n",
    "\n",
    "project = 'thermal-rain-234004'\n",
    "dataset_id = 'instagram_data'\n",
    "table_id = 'hashtag_count'\n",
    "\n",
    "destination_uri = \"gs://{}/{}\".format(bucket_name, \"insta_test.json\")\n",
    "dataset_ref = client.dataset(dataset_id, project=project)\n",
    "table_ref = dataset_ref.table(table_id)"
   ]
  },
  {
   "cell_type": "code",
   "execution_count": 10,
   "metadata": {},
   "outputs": [
    {
     "data": {
      "text/plain": [
       "TableReference(DatasetReference('thermal-rain-234004', 'instagram_data'), 'hashtag_count')"
      ]
     },
     "execution_count": 10,
     "metadata": {},
     "output_type": "execute_result"
    }
   ],
   "source": [
    "table_ref"
   ]
  },
  {
   "cell_type": "code",
   "execution_count": 11,
   "metadata": {},
   "outputs": [
    {
     "name": "stdout",
     "output_type": "stream",
     "text": [
      "Exported thermal-rain-234004:instagram_data.hashtag_count to gs://khpark_bucket/insta_test.json\n"
     ]
    }
   ],
   "source": [
    "extract_job = client.extract_table(\n",
    "    table_ref,\n",
    "    destination_uri,\n",
    "    # Location must match that of the source table.\n",
    "    location=\"US\",\n",
    ")  # API request\n",
    "extract_job.result()  # Waits for job to complete.\n",
    "\n",
    "print(\n",
    "    \"Exported {}:{}.{} to {}\".format(project, dataset_id, table_id, destination_uri)\n",
    ")"
   ]
  },
  {
   "cell_type": "code",
   "execution_count": null,
   "metadata": {},
   "outputs": [],
   "source": [
    "# file 삭제\n",
    "if os.path.isfile(file):\n",
    "    os.remove(file)"
   ]
  },
  {
   "cell_type": "code",
   "execution_count": null,
   "metadata": {},
   "outputs": [],
   "source": []
  },
  {
   "cell_type": "markdown",
   "metadata": {},
   "source": [
    "`표준 SQL 데이터 유형`\n",
    "\n",
    "| 이름 | 데이터 유형 | 설명 |   \n",
    "|:---:|:---:|:---:|\n",
    "| 정수 |\tINT64 |\t소수 구성요소가 없는 숫자 값  |\n",
    "| 부동 | 소수점 |\tFLOAT64\t소수 구성요소가 있는 대략적인 숫자 값  |\n",
    "| 숫자 |\tNUMERIC |\t소수 구성요소가 있는 정확한 숫자 값  \n",
    "| 부울 |\tBOOL |\tTRUE 또는 FALSE(대소문자 구분)  \n",
    "| 문자열 |\tSTRING |\t가변 길이 문자(유니코드) 데이터  \n",
    "| 바이트 |\tBYTES |\t가변 길이 바이너리 데이터  \n",
    "| 날짜 |\tDATE |\t논리적 달력 날짜  \n",
    "| 날짜/시간 |\tDATETIME |\t년, 월, 일, 시간, 분, 초, 초 미만  \n",
    "| 시간 |\tTIME |\t특정 날짜와 무관한 시간  \n",
    "| 타임스탬프 |\tTIMESTAMP |\t마이크로초 정밀도의 절대 시점  \n",
    "| 구조(레코드) |\tSTRUCT |\t각각 유형(필수)과 필드 이름(선택사항)이 있는 정렬된 필드의 컨테이너  \n",
    "| 지리 |\tGEOGRAPHY |\t지구 표면의 점 집합(WGS84 참조 회전 타원체상의 점, 선, 다각형으로 구성된 집합, 측지 에지 포함)  "
   ]
  },
  {
   "cell_type": "code",
   "execution_count": null,
   "metadata": {},
   "outputs": [],
   "source": []
  },
  {
   "cell_type": "code",
   "execution_count": 8,
   "metadata": {},
   "outputs": [],
   "source": [
    "import json # import json module\n",
    "\n",
    "# with statement\n",
    "with open('./insta_test.json') as json_file:\n",
    "    json_data = json.load(json_file)"
   ]
  },
  {
   "cell_type": "code",
   "execution_count": 9,
   "metadata": {},
   "outputs": [
    {
     "data": {
      "text/plain": [
       "{'DATE': {'0': 1579255472000,\n",
       "  '1': 1579255472000,\n",
       "  '2': 1579255472000,\n",
       "  '3': 1579255472000,\n",
       "  '4': 1579255472000,\n",
       "  '5': 1579255472000,\n",
       "  '6': 1579255472000},\n",
       " 'keyword': {'0': '더키친살바토레쿠오모',\n",
       "  '1': '살바토레쿠오모',\n",
       "  '2': '더키친살바토레앤바',\n",
       "  '3': '피자는살바토레',\n",
       "  '4': '살바토레와함께',\n",
       "  '5': '크리스탈제이드',\n",
       "  '6': '상하치즈'},\n",
       " 'COUNT': {'0': 9142,\n",
       "  '1': 16376,\n",
       "  '2': 2138,\n",
       "  '3': 294,\n",
       "  '4': 161,\n",
       "  '5': 35274,\n",
       "  '6': 6080},\n",
       " 'Hashtag_related': {'0': '#이한치한#한국라면#역곡카페#미미진#빵야빵야',\n",
       "  '1': '#맛나요#성게알비빔밥#보쌈',\n",
       "  '2': '',\n",
       "  '3': '',\n",
       "  '4': '',\n",
       "  '5': '#길거리음식#음료수',\n",
       "  '6': '#우리아이간식#스푼#중상맛#고모가사랑해'}}"
      ]
     },
     "execution_count": 9,
     "metadata": {},
     "output_type": "execute_result"
    }
   ],
   "source": [
    "json_data"
   ]
  },
  {
   "cell_type": "code",
   "execution_count": 17,
   "metadata": {},
   "outputs": [
    {
     "data": {
      "text/plain": [
       "{'0': '더키친살바토레쿠오모',\n",
       " '1': '살바토레쿠오모',\n",
       " '2': '더키친살바토레앤바',\n",
       " '3': '피자는살바토레',\n",
       " '4': '살바토레와함께',\n",
       " '5': '크리스탈제이드',\n",
       " '6': '상하치즈'}"
      ]
     },
     "execution_count": 17,
     "metadata": {},
     "output_type": "execute_result"
    }
   ],
   "source": [
    "json_data[\"keyword\"]"
   ]
  },
  {
   "cell_type": "code",
   "execution_count": null,
   "metadata": {},
   "outputs": [],
   "source": []
  },
  {
   "cell_type": "code",
   "execution_count": 6,
   "metadata": {},
   "outputs": [],
   "source": [
    "date_value = json_data[\"DATE\"]"
   ]
  },
  {
   "cell_type": "code",
   "execution_count": 26,
   "metadata": {},
   "outputs": [
    {
     "data": {
      "text/html": [
       "<div>\n",
       "<style scoped>\n",
       "    .dataframe tbody tr th:only-of-type {\n",
       "        vertical-align: middle;\n",
       "    }\n",
       "\n",
       "    .dataframe tbody tr th {\n",
       "        vertical-align: top;\n",
       "    }\n",
       "\n",
       "    .dataframe thead th {\n",
       "        text-align: right;\n",
       "    }\n",
       "</style>\n",
       "<table border=\"1\" class=\"dataframe\">\n",
       "  <thead>\n",
       "    <tr style=\"text-align: right;\">\n",
       "      <th></th>\n",
       "      <th>0</th>\n",
       "      <th>1</th>\n",
       "      <th>2</th>\n",
       "      <th>3</th>\n",
       "      <th>4</th>\n",
       "      <th>5</th>\n",
       "      <th>6</th>\n",
       "    </tr>\n",
       "  </thead>\n",
       "  <tbody>\n",
       "    <tr>\n",
       "      <th>0</th>\n",
       "      <td>1579255472000</td>\n",
       "      <td>1579255472000</td>\n",
       "      <td>1579255472000</td>\n",
       "      <td>1579255472000</td>\n",
       "      <td>1579255472000</td>\n",
       "      <td>1579255472000</td>\n",
       "      <td>1579255472000</td>\n",
       "    </tr>\n",
       "  </tbody>\n",
       "</table>\n",
       "</div>"
      ],
      "text/plain": [
       "               0              1              2              3              4  \\\n",
       "0  1579255472000  1579255472000  1579255472000  1579255472000  1579255472000   \n",
       "\n",
       "               5              6  \n",
       "0  1579255472000  1579255472000  "
      ]
     },
     "execution_count": 26,
     "metadata": {},
     "output_type": "execute_result"
    }
   ],
   "source": [
    "from pandas.io.json import json_normalize\n",
    "\n",
    "json_normalize(json_data[\"DATE\"])"
   ]
  },
  {
   "cell_type": "code",
   "execution_count": 25,
   "metadata": {},
   "outputs": [
    {
     "data": {
      "text/plain": [
       "{'0': 1579255472000,\n",
       " '1': 1579255472000,\n",
       " '2': 1579255472000,\n",
       " '3': 1579255472000,\n",
       " '4': 1579255472000,\n",
       " '5': 1579255472000,\n",
       " '6': 1579255472000}"
      ]
     },
     "execution_count": 25,
     "metadata": {},
     "output_type": "execute_result"
    }
   ],
   "source": [
    "json_data[\"DATE\"]"
   ]
  },
  {
   "cell_type": "code",
   "execution_count": 35,
   "metadata": {},
   "outputs": [],
   "source": [
    "###########\n",
    "# 스트리밍 삽입\n",
    "#####\n",
    "\n",
    "project = 'thermal-rain-234004'\n",
    "dataset_id = 'instagram_data'\n",
    "table_id = 'hashtag_count'\n",
    "\n",
    "table_ref = client.dataset(dataset_id).table(table_id)\n",
    "table = client.get_table(table_ref)  # API request\n"
   ]
  },
  {
   "cell_type": "code",
   "execution_count": 38,
   "metadata": {},
   "outputs": [
    {
     "data": {
      "text/plain": [
       "Table(TableReference(DatasetReference('thermal-rain-234004', 'instagram_data'), 'hashtag_count'))"
      ]
     },
     "execution_count": 38,
     "metadata": {},
     "output_type": "execute_result"
    }
   ],
   "source": [
    "table"
   ]
  },
  {
   "cell_type": "code",
   "execution_count": 47,
   "metadata": {},
   "outputs": [],
   "source": [
    "# dummuy file\n",
    "rows_to_insert = [\n",
    "    ('2020-01-01', '더키친살바토레쿠오모', 9142, '#이한치한#한국라면#역곡카페#미미진#빵야빵야'),\n",
    "]\n",
    "\n",
    "errors = client.insert_rows(table, rows_to_insert)  # API request"
   ]
  },
  {
   "cell_type": "code",
   "execution_count": 48,
   "metadata": {},
   "outputs": [
    {
     "data": {
      "text/plain": [
       "[]"
      ]
     },
     "execution_count": 48,
     "metadata": {},
     "output_type": "execute_result"
    }
   ],
   "source": [
    "errors"
   ]
  },
  {
   "cell_type": "code",
   "execution_count": null,
   "metadata": {},
   "outputs": [],
   "source": []
  }
 ],
 "metadata": {
  "kernelspec": {
   "display_name": "Python 3",
   "language": "python",
   "name": "python3"
  },
  "language_info": {
   "codemirror_mode": {
    "name": "ipython",
    "version": 3
   },
   "file_extension": ".py",
   "mimetype": "text/x-python",
   "name": "python",
   "nbconvert_exporter": "python",
   "pygments_lexer": "ipython3",
   "version": "3.7.6"
  }
 },
 "nbformat": 4,
 "nbformat_minor": 2
}
