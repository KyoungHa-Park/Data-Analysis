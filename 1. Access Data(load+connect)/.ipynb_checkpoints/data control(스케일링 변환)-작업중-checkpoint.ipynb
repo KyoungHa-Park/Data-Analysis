{
 "cells": [
  {
   "cell_type": "markdown",
   "metadata": {},
   "source": [
    "## data contraol Overview\n",
    "\n",
    "+ [ ] 1.data load : local(CSV)\n",
    "+ [ ] 2.missing value 변환\n",
    "  + [ ] 1.describe  \n",
    "  + [ ] 2.missing value 삭제\n",
    "  + [ ] 3.outlier 제거\n",
    "+ [ ] 3.value type 변환\n",
    "  + [ ] 2.time to objedt\n",
    "  + [ ] 3.objedt to time \n",
    "  + [ ] 4.objedt to Categorical \n",
    "  + [ ] 5.Categorical to embedding columns \n",
    "+ [ ] 4.data 변환/가공\n",
    "  + [ ] 1.한글폰트 전역설정\n",
    "  + [ ] 2.groupby\n",
    "    + [ ] date value\n",
    "    + [ ] key value \n",
    "  + [ ] 3.crosstab\n",
    "  + [ ] 4.data 필터링\n",
    "    + [ ] 포함조건\n",
    "    + [ ] 제외조건\n",
    "+ [ ] 4.data 시각화\n",
    "  + [ ] bar\n",
    "  + [ ] line\n",
    "  + [ ] 개인별 timestamp\n",
    "+ [ ] 6.data 분석 : TEB"
   ]
  },
  {
   "cell_type": "code",
   "execution_count": 2,
   "metadata": {},
   "outputs": [],
   "source": [
    "import pandas as pd\n",
    "import os\n",
    "import numpy as np\n",
    "\n",
    "import datetime\n",
    "import matplotlib as mpl\n",
    "import matplotlib.pyplot as plt\n",
    "import matplotlib.font_manager as fm\n",
    "import matplotlib.dates as mdates\n",
    "%matplotlib inline\n",
    "\n",
    "import seaborn as sns\n",
    "sns.set(style=\"white\")\n",
    "sns.set(style=\"whitegrid\", color_codes=True)\n",
    "\n",
    "path = 'C:/windows/Fonts/malgun.ttf'                           # 폰트:맑은고딕\n",
    "font_name = fm.FontProperties(fname=path, size=24).get_name()  \n",
    "plt.rc('font', family=font_name)                               # 한글폰트 설정(전역)\n",
    "\n",
    "import warnings\n",
    "warnings.filterwarnings('ignore')"
   ]
  },
  {
   "cell_type": "code",
   "execution_count": null,
   "metadata": {},
   "outputs": [],
   "source": []
  },
  {
   "cell_type": "markdown",
   "metadata": {},
   "source": [
    "## 1. data load"
   ]
  },
  {
   "cell_type": "code",
   "execution_count": 3,
   "metadata": {},
   "outputs": [
    {
     "name": "stdout",
     "output_type": "stream",
     "text": [
      "<class 'pandas.core.frame.DataFrame'>\n",
      "RangeIndex: 467 entries, 0 to 466\n",
      "Data columns (total 9 columns):\n",
      "DEAL              467 non-null int64\n",
      "SCORE             467 non-null int64\n",
      "BUY_ITEM          467 non-null object\n",
      "BUY_ITEM_GUBUN    467 non-null object\n",
      "REVIEW            467 non-null object\n",
      "IMAGE_COUNT       467 non-null int64\n",
      "REG_DATE          467 non-null object\n",
      "RECOMMEND         467 non-null int64\n",
      "ID                467 non-null object\n",
      "dtypes: int64(4), object(5)\n",
      "memory usage: 33.0+ KB\n"
     ]
    }
   ],
   "source": [
    "df1 = pd.read_csv('./190726_t-mon_review.csv', encoding = 'cp949', low_memory=False)\n",
    "df1.info()"
   ]
  },
  {
   "cell_type": "code",
   "execution_count": 4,
   "metadata": {},
   "outputs": [
    {
     "data": {
      "text/html": [
       "<div>\n",
       "<style scoped>\n",
       "    .dataframe tbody tr th:only-of-type {\n",
       "        vertical-align: middle;\n",
       "    }\n",
       "\n",
       "    .dataframe tbody tr th {\n",
       "        vertical-align: top;\n",
       "    }\n",
       "\n",
       "    .dataframe thead th {\n",
       "        text-align: right;\n",
       "    }\n",
       "</style>\n",
       "<table border=\"1\" class=\"dataframe\">\n",
       "  <thead>\n",
       "    <tr style=\"text-align: right;\">\n",
       "      <th></th>\n",
       "      <th>DEAL</th>\n",
       "      <th>SCORE</th>\n",
       "      <th>BUY_ITEM</th>\n",
       "      <th>BUY_ITEM_GUBUN</th>\n",
       "      <th>REVIEW</th>\n",
       "      <th>IMAGE_COUNT</th>\n",
       "      <th>REG_DATE</th>\n",
       "      <th>RECOMMEND</th>\n",
       "      <th>ID</th>\n",
       "    </tr>\n",
       "  </thead>\n",
       "  <tbody>\n",
       "    <tr>\n",
       "      <th>0</th>\n",
       "      <td>2220310102</td>\n",
       "      <td>4</td>\n",
       "      <td>매일유업 매일두 1만원 기프트카드</td>\n",
       "      <td>1만원</td>\n",
       "      <td>폴바셋 비싸지만 맛나요</td>\n",
       "      <td>0</td>\n",
       "      <td>2019-07-22</td>\n",
       "      <td>0</td>\n",
       "      <td>alfk***</td>\n",
       "    </tr>\n",
       "    <tr>\n",
       "      <th>1</th>\n",
       "      <td>2220310102</td>\n",
       "      <td>3</td>\n",
       "      <td>매일유업 매일두 1만원 기프트카드</td>\n",
       "      <td>1만원</td>\n",
       "      <td>할인받아서 좋긴한데 앱다운받아야하는 번거러움</td>\n",
       "      <td>0</td>\n",
       "      <td>2019-07-18</td>\n",
       "      <td>0</td>\n",
       "      <td>roza***</td>\n",
       "    </tr>\n",
       "  </tbody>\n",
       "</table>\n",
       "</div>"
      ],
      "text/plain": [
       "         DEAL  SCORE            BUY_ITEM BUY_ITEM_GUBUN  \\\n",
       "0  2220310102      4  매일유업 매일두 1만원 기프트카드            1만원   \n",
       "1  2220310102      3  매일유업 매일두 1만원 기프트카드            1만원   \n",
       "\n",
       "                     REVIEW  IMAGE_COUNT    REG_DATE  RECOMMEND       ID  \n",
       "0              폴바셋 비싸지만 맛나요            0  2019-07-22          0  alfk***  \n",
       "1  할인받아서 좋긴한데 앱다운받아야하는 번거러움            0  2019-07-18          0  roza***  "
      ]
     },
     "execution_count": 4,
     "metadata": {},
     "output_type": "execute_result"
    }
   ],
   "source": [
    "df1.head(2)"
   ]
  },
  {
   "cell_type": "code",
   "execution_count": 5,
   "metadata": {},
   "outputs": [
    {
     "name": "stdout",
     "output_type": "stream",
     "text": [
      "<data overview>\n",
      "별점 평균 : 4.786 점.\n",
      "별점 상위 99% : 5.00 점, \n",
      "이미지 첨부 평균 : 0.26개, \n",
      "리뷰 기간 : 2018-10-25 ~ 2019-07-24\n"
     ]
    }
   ],
   "source": [
    "print(\"<data overview>\")\n",
    "print(\"별점 평균 : {:.3f} 점.\".format(df1['SCORE'].mean()))\n",
    "print(\"별점 상위 99% : {:.2f} 점, \".format(df1['SCORE'].quantile(0.99)))\n",
    "print(\"이미지 첨부 평균 : {:.2f}개, \".format(df1['IMAGE_COUNT'].mean()))\n",
    "print(\"리뷰 기간 : {} ~ {}\".format(df1['REG_DATE'].min(), df1['REG_DATE'].max()))"
   ]
  },
  {
   "cell_type": "code",
   "execution_count": null,
   "metadata": {},
   "outputs": [],
   "source": []
  },
  {
   "cell_type": "code",
   "execution_count": null,
   "metadata": {},
   "outputs": [],
   "source": []
  },
  {
   "cell_type": "markdown",
   "metadata": {},
   "source": [
    "## 2.missing value 변환"
   ]
  },
  {
   "cell_type": "code",
   "execution_count": 6,
   "metadata": {},
   "outputs": [
    {
     "name": "stdout",
     "output_type": "stream",
     "text": [
      "<class 'pandas.core.frame.DataFrame'>\n",
      "RangeIndex: 467 entries, 0 to 466\n",
      "Data columns (total 9 columns):\n",
      "DEAL              467 non-null int64\n",
      "SCORE             467 non-null int64\n",
      "BUY_ITEM          467 non-null object\n",
      "BUY_ITEM_GUBUN    467 non-null object\n",
      "REVIEW            467 non-null object\n",
      "IMAGE_COUNT       467 non-null int64\n",
      "REG_DATE          467 non-null object\n",
      "RECOMMEND         467 non-null int64\n",
      "ID                467 non-null object\n",
      "dtypes: int64(4), object(5)\n",
      "memory usage: 33.0+ KB\n"
     ]
    }
   ],
   "source": [
    "df1 = df1.fillna(0)   # missing value 삭제\n",
    "df1.info()"
   ]
  },
  {
   "cell_type": "code",
   "execution_count": null,
   "metadata": {},
   "outputs": [],
   "source": []
  },
  {
   "cell_type": "code",
   "execution_count": null,
   "metadata": {},
   "outputs": [],
   "source": []
  },
  {
   "cell_type": "markdown",
   "metadata": {},
   "source": [
    "## 3.value type 변환"
   ]
  },
  {
   "cell_type": "code",
   "execution_count": 7,
   "metadata": {},
   "outputs": [
    {
     "data": {
      "text/html": [
       "<div>\n",
       "<style scoped>\n",
       "    .dataframe tbody tr th:only-of-type {\n",
       "        vertical-align: middle;\n",
       "    }\n",
       "\n",
       "    .dataframe tbody tr th {\n",
       "        vertical-align: top;\n",
       "    }\n",
       "\n",
       "    .dataframe thead th {\n",
       "        text-align: right;\n",
       "    }\n",
       "</style>\n",
       "<table border=\"1\" class=\"dataframe\">\n",
       "  <thead>\n",
       "    <tr style=\"text-align: right;\">\n",
       "      <th></th>\n",
       "      <th>DEAL</th>\n",
       "      <th>SCORE</th>\n",
       "      <th>BUY_ITEM</th>\n",
       "      <th>BUY_ITEM_GUBUN</th>\n",
       "      <th>REVIEW</th>\n",
       "      <th>IMAGE_COUNT</th>\n",
       "      <th>REG_DATE</th>\n",
       "      <th>RECOMMEND</th>\n",
       "      <th>ID</th>\n",
       "    </tr>\n",
       "  </thead>\n",
       "  <tbody>\n",
       "    <tr>\n",
       "      <th>0</th>\n",
       "      <td>2220310102</td>\n",
       "      <td>4</td>\n",
       "      <td>매일유업 매일두 1만원 기프트카드</td>\n",
       "      <td>1만원</td>\n",
       "      <td>폴바셋 비싸지만 맛나요</td>\n",
       "      <td>0</td>\n",
       "      <td>2019-07-22</td>\n",
       "      <td>0</td>\n",
       "      <td>alfk***</td>\n",
       "    </tr>\n",
       "    <tr>\n",
       "      <th>1</th>\n",
       "      <td>2220310102</td>\n",
       "      <td>3</td>\n",
       "      <td>매일유업 매일두 1만원 기프트카드</td>\n",
       "      <td>1만원</td>\n",
       "      <td>할인받아서 좋긴한데 앱다운받아야하는 번거러움</td>\n",
       "      <td>0</td>\n",
       "      <td>2019-07-18</td>\n",
       "      <td>0</td>\n",
       "      <td>roza***</td>\n",
       "    </tr>\n",
       "  </tbody>\n",
       "</table>\n",
       "</div>"
      ],
      "text/plain": [
       "         DEAL  SCORE            BUY_ITEM BUY_ITEM_GUBUN  \\\n",
       "0  2220310102      4  매일유업 매일두 1만원 기프트카드            1만원   \n",
       "1  2220310102      3  매일유업 매일두 1만원 기프트카드            1만원   \n",
       "\n",
       "                     REVIEW  IMAGE_COUNT    REG_DATE  RECOMMEND       ID  \n",
       "0              폴바셋 비싸지만 맛나요            0  2019-07-22          0  alfk***  \n",
       "1  할인받아서 좋긴한데 앱다운받아야하는 번거러움            0  2019-07-18          0  roza***  "
      ]
     },
     "execution_count": 7,
     "metadata": {},
     "output_type": "execute_result"
    }
   ],
   "source": [
    "df1.head(2)"
   ]
  },
  {
   "cell_type": "code",
   "execution_count": null,
   "metadata": {},
   "outputs": [],
   "source": []
  },
  {
   "cell_type": "code",
   "execution_count": 10,
   "metadata": {},
   "outputs": [],
   "source": [
    "df2 = df1.copy()\n",
    "df2['REG_DATE']  = pd.to_datetime(df2['REG_DATE'],format=None) # object to datetime64\n",
    "df2['REG_DATE2'] = df2.REG_DATE.astype(object)                  # datetime64 to object \n",
    "df2['YYYYMM'] = df1['REG_DATE'].str[:-3]\n",
    "\n",
    "\n",
    "df2['BUY_ITEM_GUBUN'] = pd.Categorical(df2['BUY_ITEM_GUBUN'])   # object to Categorical\n",
    "df2['BUY_ITEM_GUBUN'] = df2.BUY_ITEM_GUBUN.cat.codes\n",
    "\n",
    "\n",
    "age = feature_column.numeric_column(\"age\")\n"
   ]
  },
  {
   "cell_type": "code",
   "execution_count": 12,
   "metadata": {},
   "outputs": [
    {
     "data": {
      "text/html": [
       "<div>\n",
       "<style scoped>\n",
       "    .dataframe tbody tr th:only-of-type {\n",
       "        vertical-align: middle;\n",
       "    }\n",
       "\n",
       "    .dataframe tbody tr th {\n",
       "        vertical-align: top;\n",
       "    }\n",
       "\n",
       "    .dataframe thead th {\n",
       "        text-align: right;\n",
       "    }\n",
       "</style>\n",
       "<table border=\"1\" class=\"dataframe\">\n",
       "  <thead>\n",
       "    <tr style=\"text-align: right;\">\n",
       "      <th></th>\n",
       "      <th>DEAL</th>\n",
       "      <th>SCORE</th>\n",
       "      <th>BUY_ITEM</th>\n",
       "      <th>BUY_ITEM_GUBUN</th>\n",
       "      <th>REVIEW</th>\n",
       "      <th>IMAGE_COUNT</th>\n",
       "      <th>REG_DATE</th>\n",
       "      <th>RECOMMEND</th>\n",
       "      <th>ID</th>\n",
       "      <th>REG_DATE2</th>\n",
       "      <th>YYYYMM</th>\n",
       "    </tr>\n",
       "  </thead>\n",
       "  <tbody>\n",
       "    <tr>\n",
       "      <th>0</th>\n",
       "      <td>2220310102</td>\n",
       "      <td>4</td>\n",
       "      <td>매일유업 매일두 1만원 기프트카드</td>\n",
       "      <td>0</td>\n",
       "      <td>폴바셋 비싸지만 맛나요</td>\n",
       "      <td>0</td>\n",
       "      <td>2019-07-22</td>\n",
       "      <td>0</td>\n",
       "      <td>alfk***</td>\n",
       "      <td>2019-07-22 00:00:00</td>\n",
       "      <td>2019-07</td>\n",
       "    </tr>\n",
       "    <tr>\n",
       "      <th>1</th>\n",
       "      <td>2220310102</td>\n",
       "      <td>3</td>\n",
       "      <td>매일유업 매일두 1만원 기프트카드</td>\n",
       "      <td>0</td>\n",
       "      <td>할인받아서 좋긴한데 앱다운받아야하는 번거러움</td>\n",
       "      <td>0</td>\n",
       "      <td>2019-07-18</td>\n",
       "      <td>0</td>\n",
       "      <td>roza***</td>\n",
       "      <td>2019-07-18 00:00:00</td>\n",
       "      <td>2019-07</td>\n",
       "    </tr>\n",
       "  </tbody>\n",
       "</table>\n",
       "</div>"
      ],
      "text/plain": [
       "         DEAL  SCORE            BUY_ITEM  BUY_ITEM_GUBUN  \\\n",
       "0  2220310102      4  매일유업 매일두 1만원 기프트카드               0   \n",
       "1  2220310102      3  매일유업 매일두 1만원 기프트카드               0   \n",
       "\n",
       "                     REVIEW  IMAGE_COUNT   REG_DATE  RECOMMEND       ID  \\\n",
       "0              폴바셋 비싸지만 맛나요            0 2019-07-22          0  alfk***   \n",
       "1  할인받아서 좋긴한데 앱다운받아야하는 번거러움            0 2019-07-18          0  roza***   \n",
       "\n",
       "             REG_DATE2   YYYYMM  \n",
       "0  2019-07-22 00:00:00  2019-07  \n",
       "1  2019-07-18 00:00:00  2019-07  "
      ]
     },
     "execution_count": 12,
     "metadata": {},
     "output_type": "execute_result"
    }
   ],
   "source": [
    "df2.head(2)"
   ]
  },
  {
   "cell_type": "code",
   "execution_count": 13,
   "metadata": {},
   "outputs": [
    {
     "name": "stdout",
     "output_type": "stream",
     "text": [
      "<class 'pandas.core.frame.DataFrame'>\n",
      "RangeIndex: 467 entries, 0 to 466\n",
      "Data columns (total 11 columns):\n",
      "DEAL              467 non-null int64\n",
      "SCORE             467 non-null int64\n",
      "BUY_ITEM          467 non-null object\n",
      "BUY_ITEM_GUBUN    467 non-null int8\n",
      "REVIEW            467 non-null object\n",
      "IMAGE_COUNT       467 non-null int64\n",
      "REG_DATE          467 non-null datetime64[ns]\n",
      "RECOMMEND         467 non-null int64\n",
      "ID                467 non-null object\n",
      "REG_DATE2         467 non-null object\n",
      "YYYYMM            467 non-null object\n",
      "dtypes: datetime64[ns](1), int64(4), int8(1), object(5)\n",
      "memory usage: 37.1+ KB\n"
     ]
    }
   ],
   "source": [
    "df2.info()"
   ]
  },
  {
   "cell_type": "code",
   "execution_count": 81,
   "metadata": {
    "scrolled": true
   },
   "outputs": [
    {
     "data": {
      "text/html": [
       "<div>\n",
       "<style scoped>\n",
       "    .dataframe tbody tr th:only-of-type {\n",
       "        vertical-align: middle;\n",
       "    }\n",
       "\n",
       "    .dataframe tbody tr th {\n",
       "        vertical-align: top;\n",
       "    }\n",
       "\n",
       "    .dataframe thead th {\n",
       "        text-align: right;\n",
       "    }\n",
       "</style>\n",
       "<table border=\"1\" class=\"dataframe\">\n",
       "  <thead>\n",
       "    <tr style=\"text-align: right;\">\n",
       "      <th></th>\n",
       "      <th>count</th>\n",
       "      <th>mean</th>\n",
       "      <th>std</th>\n",
       "      <th>min</th>\n",
       "      <th>25%</th>\n",
       "      <th>50%</th>\n",
       "      <th>75%</th>\n",
       "      <th>max</th>\n",
       "    </tr>\n",
       "  </thead>\n",
       "  <tbody>\n",
       "    <tr>\n",
       "      <th>DEAL</th>\n",
       "      <td>467.0</td>\n",
       "      <td>1.970783e+09</td>\n",
       "      <td>2.724775e+08</td>\n",
       "      <td>1.576697e+09</td>\n",
       "      <td>1.748519e+09</td>\n",
       "      <td>2.171945e+09</td>\n",
       "      <td>2.171945e+09</td>\n",
       "      <td>2.220310e+09</td>\n",
       "    </tr>\n",
       "    <tr>\n",
       "      <th>SCORE</th>\n",
       "      <td>467.0</td>\n",
       "      <td>4.785867e+00</td>\n",
       "      <td>6.785916e-01</td>\n",
       "      <td>1.000000e+00</td>\n",
       "      <td>5.000000e+00</td>\n",
       "      <td>5.000000e+00</td>\n",
       "      <td>5.000000e+00</td>\n",
       "      <td>5.000000e+00</td>\n",
       "    </tr>\n",
       "    <tr>\n",
       "      <th>IMAGE_COUNT</th>\n",
       "      <td>467.0</td>\n",
       "      <td>2.569593e-01</td>\n",
       "      <td>5.953411e-01</td>\n",
       "      <td>0.000000e+00</td>\n",
       "      <td>0.000000e+00</td>\n",
       "      <td>0.000000e+00</td>\n",
       "      <td>0.000000e+00</td>\n",
       "      <td>4.000000e+00</td>\n",
       "    </tr>\n",
       "    <tr>\n",
       "      <th>RECOMMEND</th>\n",
       "      <td>467.0</td>\n",
       "      <td>7.708779e-02</td>\n",
       "      <td>3.045606e-01</td>\n",
       "      <td>0.000000e+00</td>\n",
       "      <td>0.000000e+00</td>\n",
       "      <td>0.000000e+00</td>\n",
       "      <td>0.000000e+00</td>\n",
       "      <td>3.000000e+00</td>\n",
       "    </tr>\n",
       "  </tbody>\n",
       "</table>\n",
       "</div>"
      ],
      "text/plain": [
       "             count          mean           std           min           25%  \\\n",
       "DEAL         467.0  1.970783e+09  2.724775e+08  1.576697e+09  1.748519e+09   \n",
       "SCORE        467.0  4.785867e+00  6.785916e-01  1.000000e+00  5.000000e+00   \n",
       "IMAGE_COUNT  467.0  2.569593e-01  5.953411e-01  0.000000e+00  0.000000e+00   \n",
       "RECOMMEND    467.0  7.708779e-02  3.045606e-01  0.000000e+00  0.000000e+00   \n",
       "\n",
       "                      50%           75%           max  \n",
       "DEAL         2.171945e+09  2.171945e+09  2.220310e+09  \n",
       "SCORE        5.000000e+00  5.000000e+00  5.000000e+00  \n",
       "IMAGE_COUNT  0.000000e+00  0.000000e+00  4.000000e+00  \n",
       "RECOMMEND    0.000000e+00  0.000000e+00  3.000000e+00  "
      ]
     },
     "execution_count": 81,
     "metadata": {},
     "output_type": "execute_result"
    }
   ],
   "source": [
    "df1.describe().T"
   ]
  },
  {
   "cell_type": "code",
   "execution_count": null,
   "metadata": {},
   "outputs": [],
   "source": []
  },
  {
   "cell_type": "code",
   "execution_count": null,
   "metadata": {},
   "outputs": [],
   "source": []
  },
  {
   "cell_type": "code",
   "execution_count": null,
   "metadata": {},
   "outputs": [],
   "source": []
  },
  {
   "cell_type": "code",
   "execution_count": 83,
   "metadata": {},
   "outputs": [],
   "source": [
    "df1_M1 = df1.groupby(by = ['REG_DATE'],as_index=False)['DEAL'].count()\n",
    "df2_M1 = df2.groupby(by = ['YYYYMM'],as_index=False)['DEAL'].count()"
   ]
  },
  {
   "cell_type": "code",
   "execution_count": null,
   "metadata": {},
   "outputs": [],
   "source": []
  },
  {
   "cell_type": "code",
   "execution_count": 89,
   "metadata": {},
   "outputs": [
    {
     "data": {
      "image/png": "[encoded data removed]",
      "text/plain": [
       "<Figure size 1152x360 with 2 Axes>"
      ]
     },
     "metadata": {
      "needs_background": "light"
     },
     "output_type": "display_data"
    }
   ],
   "source": [
    "mpl.rc('figure', figsize=(16, 5))\n",
    "\n",
    "ax = plt.subplot(1,2,1)\n",
    "pd.crosstab(df1.REG_DATE, df1.SCORE, df1.DEAL, aggfunc=\"count\").plot.bar(stacked=True, ax = ax)\n",
    "plt.legend(loc='upper center', bbox_to_anchor=(0.5, -0.24), fancybox=True, shadow=True, ncol=5)\n",
    "# plt.axvspan(10.5, 12.5, color='gray', alpha=0.3)\n",
    "# plt.axvspan(12.5, 15.5, color='red', alpha=0.2)\n",
    "plt.title('title1',fontsize=15)\n",
    "plt.xlabel('x_label')\n",
    "plt.ylabel('y_label')\n",
    "\n",
    "ax = plt.subplot(1,2,2)\n",
    "pd.crosstab(df2.YYYYMM, df2.SCORE, df2.DEAL, aggfunc=\"count\").plot.bar(stacked=True,  ax = ax)\n",
    "plt.legend(loc='upper center', bbox_to_anchor=(0.5, -0.24), fancybox=True, shadow=True, ncol=5)\n",
    "# # plt.legend(loc='center left', bbox_to_anchor=(1, 0.5))\n",
    "plt.title('title2',fontsize=15)\n",
    "plt.xlabel('x_label')\n",
    "plt.ylabel('y_label')\n",
    "\n",
    "plt.show()"
   ]
  },
  {
   "cell_type": "code",
   "execution_count": null,
   "metadata": {},
   "outputs": [],
   "source": []
  },
  {
   "cell_type": "code",
   "execution_count": 94,
   "metadata": {},
   "outputs": [
    {
     "data": {
      "image/png": "[encoded data removed]",
      "text/plain": [
       "<Figure size 1152x360 with 2 Axes>"
      ]
     },
     "metadata": {
      "needs_background": "light"
     },
     "output_type": "display_data"
    }
   ],
   "source": [
    "mpl.rc('figure', figsize=(16, 5))\n",
    "\n",
    "ax = plt.subplot(1,2,1)\n",
    "pd.crosstab(df1.REG_DATE, df1.SCORE, df1.DEAL, aggfunc=\"count\").plot.bar(stacked=True, ax = ax)\n",
    "plt.legend(loc='upper center', bbox_to_anchor=(0.5, -0.24), fancybox=True, shadow=True, ncol=5)\n",
    "plt.axvspan(-0.5, 0.5, color='gray', alpha=0.3)\n",
    "plt.axvspan(7.5, 8.5, color='red', alpha=0.2)\n",
    "plt.title('title1',fontsize=15)\n",
    "plt.xlabel('x_label')\n",
    "plt.ylabel('y_label')\n",
    "\n",
    "ax = plt.subplot(1,2,2)\n",
    "pd.crosstab(df2.YYYYMM, df2.SCORE, df2.DEAL, aggfunc=\"count\").plot.bar(stacked=True,  ax = ax)\n",
    "plt.legend(loc='upper center', bbox_to_anchor=(0.5, -0.24), fancybox=True, shadow=True, ncol=5)\n",
    "plt.axvspan(-0.5, 0.5, color='gray', alpha=0.3)\n",
    "plt.axvspan(7.5, 8.5, color='red', alpha=0.2)\n",
    "plt.title('title2',fontsize=15)\n",
    "plt.xlabel('x_label')\n",
    "plt.ylabel('y_label')\n",
    "\n",
    "plt.show()"
   ]
  },
  {
   "cell_type": "code",
   "execution_count": null,
   "metadata": {},
   "outputs": [],
   "source": []
  },
  {
   "cell_type": "code",
   "execution_count": null,
   "metadata": {},
   "outputs": [],
   "source": []
  },
  {
   "cell_type": "code",
   "execution_count": null,
   "metadata": {},
   "outputs": [],
   "source": []
  }
 ],
 "metadata": {
  "kernelspec": {
   "display_name": "Python 3",
   "language": "python",
   "name": "python3"
  },
  "language_info": {
   "codemirror_mode": {
    "name": "ipython",
    "version": 3
   },
   "file_extension": ".py",
   "mimetype": "text/x-python",
   "name": "python",
   "nbconvert_exporter": "python",
   "pygments_lexer": "ipython3",
   "version": "3.7.6"
  }
 },
 "nbformat": 4,
 "nbformat_minor": 2
}
