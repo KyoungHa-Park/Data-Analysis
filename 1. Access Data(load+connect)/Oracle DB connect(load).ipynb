{
 "cells": [
  {
   "cell_type": "code",
   "execution_count": null,
   "metadata": {},
   "outputs": [],
   "source": []
  },
  {
   "cell_type": "markdown",
   "metadata": {},
   "source": [
    "**Index**\n",
    "+ [x] version 0 : basic\n",
    "+ [x] version 1 : Query text\n",
    "+ [x] version 2 : Load Query text"
   ]
  },
  {
   "cell_type": "code",
   "execution_count": null,
   "metadata": {},
   "outputs": [],
   "source": []
  },
  {
   "cell_type": "markdown",
   "metadata": {},
   "source": [
    "### version 0"
   ]
  },
  {
   "cell_type": "code",
   "execution_count": null,
   "metadata": {},
   "outputs": [],
   "source": [
    "# version 0\n",
    "import cx_Oracle as oci\n",
    "import pandas as pd\n",
    "\n",
    "## DB 접속\n",
    "conn = oci.connect('__ID__/__PW__@0.0.0.0:8080/__SID__')\n",
    "\n",
    "## query 실행( =자료 추출)\n",
    "df_sso = pd.read_sql(\"select substr(fst_acc_sst_cd,1,4) as acc_1st, \"+\n",
    "                     \"(case when length(acc_sst_cd) =4 then acc_sst_cd else substr(acc_sst_cd,6,4) end ) as acc_2nd \"+\n",
    "                     \"from jsso_sst_acc_hist \" \n",
    "                      , con = conn)\n",
    "conn.close()"
   ]
  },
  {
   "cell_type": "code",
   "execution_count": null,
   "metadata": {},
   "outputs": [],
   "source": []
  },
  {
   "cell_type": "markdown",
   "metadata": {},
   "source": [
    "### version 1"
   ]
  },
  {
   "cell_type": "code",
   "execution_count": 2,
   "metadata": {},
   "outputs": [],
   "source": [
    "# version 1\n",
    "import cx_Oracle as oci\n",
    "import pandas as pd\n",
    "\n",
    "# 접속정보\n",
    "con_text = open(\"C:/conn_info.txt\", 'r', encoding='utf8')\n",
    "con_text = con_text.read()\n",
    "\n",
    "# DB 접속\n",
    "conn = oci.connect(con_text)\n",
    "\n",
    "## query 실행( =자료 추출)\n",
    "df_sso_date = pd.read_sql(\"select min(fst_lin_dt) as start_dt, max(fst_lin_dt) as end_dt from jsso_sst_acc_hist  \" \n",
    "                      , con = conn)\n",
    "\n",
    "df_sso = pd.read_sql(\"select substr(fst_acc_sst_cd,1,4) as acc_1st, \"+\n",
    "                     \"(case when length(acc_sst_cd) =4 then acc_sst_cd else substr(acc_sst_cd,6,4) end ) as acc_2nd, \"+\n",
    "                     \" 1 as CNT \" +\n",
    "                     \"from jsso_sst_acc_hist \" \n",
    "                      , con = conn)\n",
    "\n",
    "# close는 넣지 않아도 됨\n",
    "# conn.close()"
   ]
  },
  {
   "cell_type": "code",
   "execution_count": 4,
   "metadata": {},
   "outputs": [
    {
     "data": {
      "text/html": [
       "<div>\n",
       "<style scoped>\n",
       "    .dataframe tbody tr th:only-of-type {\n",
       "        vertical-align: middle;\n",
       "    }\n",
       "\n",
       "    .dataframe tbody tr th {\n",
       "        vertical-align: top;\n",
       "    }\n",
       "\n",
       "    .dataframe thead th {\n",
       "        text-align: right;\n",
       "    }\n",
       "</style>\n",
       "<table border=\"1\" class=\"dataframe\">\n",
       "  <thead>\n",
       "    <tr style=\"text-align: right;\">\n",
       "      <th></th>\n",
       "      <th>START_DT</th>\n",
       "      <th>END_DT</th>\n",
       "    </tr>\n",
       "  </thead>\n",
       "  <tbody>\n",
       "    <tr>\n",
       "      <th>0</th>\n",
       "      <td>2020-06-15 23:50:53</td>\n",
       "      <td>2020-07-16 13:47:10</td>\n",
       "    </tr>\n",
       "  </tbody>\n",
       "</table>\n",
       "</div>"
      ],
      "text/plain": [
       "             START_DT              END_DT\n",
       "0 2020-06-15 23:50:53 2020-07-16 13:47:10"
      ]
     },
     "execution_count": 4,
     "metadata": {},
     "output_type": "execute_result"
    }
   ],
   "source": [
    "df_sso_date"
   ]
  },
  {
   "cell_type": "code",
   "execution_count": 3,
   "metadata": {},
   "outputs": [
    {
     "data": {
      "text/html": [
       "<div>\n",
       "<style scoped>\n",
       "    .dataframe tbody tr th:only-of-type {\n",
       "        vertical-align: middle;\n",
       "    }\n",
       "\n",
       "    .dataframe tbody tr th {\n",
       "        vertical-align: top;\n",
       "    }\n",
       "\n",
       "    .dataframe thead th {\n",
       "        text-align: right;\n",
       "    }\n",
       "</style>\n",
       "<table border=\"1\" class=\"dataframe\">\n",
       "  <thead>\n",
       "    <tr style=\"text-align: right;\">\n",
       "      <th></th>\n",
       "      <th>ACC_1ST</th>\n",
       "      <th>ACC_2ND</th>\n",
       "      <th>CNT</th>\n",
       "    </tr>\n",
       "  </thead>\n",
       "  <tbody>\n",
       "    <tr>\n",
       "      <th>418495</th>\n",
       "      <td>7020</td>\n",
       "      <td>7020</td>\n",
       "      <td>1</td>\n",
       "    </tr>\n",
       "    <tr>\n",
       "      <th>418496</th>\n",
       "      <td>7000</td>\n",
       "      <td>7017</td>\n",
       "      <td>1</td>\n",
       "    </tr>\n",
       "  </tbody>\n",
       "</table>\n",
       "</div>"
      ],
      "text/plain": [
       "       ACC_1ST ACC_2ND  CNT\n",
       "418495    7020    7020    1\n",
       "418496    7000    7017    1"
      ]
     },
     "execution_count": 3,
     "metadata": {},
     "output_type": "execute_result"
    }
   ],
   "source": [
    "df_sso.tail(2)"
   ]
  },
  {
   "cell_type": "code",
   "execution_count": null,
   "metadata": {},
   "outputs": [],
   "source": []
  },
  {
   "cell_type": "markdown",
   "metadata": {},
   "source": [
    "### version 2 "
   ]
  },
  {
   "cell_type": "code",
   "execution_count": 5,
   "metadata": {},
   "outputs": [],
   "source": [
    "# version 2 : test1\n",
    "\n",
    "import cx_Oracle as oci\n",
    "import pandas as pd\n",
    "\n",
    "# 접속정보\n",
    "con_text = open(\"C:/Users/MAEIL/conn_info_MMBSHIP.txt\", 'r', encoding='utf8')\n",
    "con_text = con_text.read()\n",
    "\n",
    "# DB 접속\n",
    "conn = oci.connect(con_text)\n",
    "\n",
    "# query 열기\n",
    "f = open(\"C:/Users/MAEIL/query_coupon.txt\", 'r')\n",
    "line = f.read()\n",
    "f.close()\n",
    "\n",
    "## query 실행( =자료 추출)\n",
    "df = pd.read_sql(line, con = conn)\n"
   ]
  },
  {
   "cell_type": "code",
   "execution_count": 10,
   "metadata": {},
   "outputs": [
    {
     "name": "stdout",
     "output_type": "stream",
     "text": [
      "<class 'pandas.core.frame.DataFrame'>\n",
      "RangeIndex: 144 entries, 0 to 143\n",
      "Data columns (total 13 columns):\n",
      " #   Column    Non-Null Count  Dtype  \n",
      "---  ------    --------------  -----  \n",
      " 0   쿠폰코드      144 non-null    object \n",
      " 1   관계사       144 non-null    object \n",
      " 2   쿠폰유형      144 non-null    object \n",
      " 3   쿠폰이름      144 non-null    object \n",
      " 4   시작일자      144 non-null    object \n",
      " 5   종료일자      144 non-null    object \n",
      " 6   진행여부      144 non-null    object \n",
      " 7   발급인원(명)   144 non-null    int64  \n",
      " 8   사용인원(명)   128 non-null    float64\n",
      " 9   사용율(%)    128 non-null    float64\n",
      " 10  총결제금액(원)  128 non-null    float64\n",
      " 11  할인금액(원)   128 non-null    float64\n",
      " 12  최종사용일     128 non-null    object \n",
      "dtypes: float64(4), int64(1), object(8)\n",
      "memory usage: 14.8+ KB\n"
     ]
    }
   ],
   "source": [
    "df.info()"
   ]
  },
  {
   "cell_type": "code",
   "execution_count": null,
   "metadata": {},
   "outputs": [],
   "source": []
  },
  {
   "cell_type": "code",
   "execution_count": null,
   "metadata": {},
   "outputs": [],
   "source": []
  },
  {
   "cell_type": "code",
   "execution_count": null,
   "metadata": {},
   "outputs": [],
   "source": []
  }
 ],
 "metadata": {
  "kernelspec": {
   "display_name": "Python 3",
   "language": "python",
   "name": "python3"
  },
  "language_info": {
   "codemirror_mode": {
    "name": "ipython",
    "version": 3
   },
   "file_extension": ".py",
   "mimetype": "text/x-python",
   "name": "python",
   "nbconvert_exporter": "python",
   "pygments_lexer": "ipython3",
   "version": "3.7.6"
  }
 },
 "nbformat": 4,
 "nbformat_minor": 4
}
