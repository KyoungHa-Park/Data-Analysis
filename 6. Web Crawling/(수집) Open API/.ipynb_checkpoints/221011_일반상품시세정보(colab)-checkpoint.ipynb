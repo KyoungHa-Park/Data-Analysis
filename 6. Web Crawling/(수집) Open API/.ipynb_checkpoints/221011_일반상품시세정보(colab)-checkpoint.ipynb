{
 "cells": [
  {
   "cell_type": "code",
   "execution_count": null,
   "metadata": {
    "id": "tV5wHGQ8lICA"
   },
   "outputs": [],
   "source": []
  },
  {
   "cell_type": "code",
   "execution_count": null,
   "metadata": {
    "id": "VvwueaXUlICD"
   },
   "outputs": [],
   "source": [
    "# https://www.data.go.kr/tcs/dss/selectApiDataDetailView.do?publicDataPk=15094805"
   ]
  },
  {
   "cell_type": "code",
   "execution_count": 32,
   "metadata": {
    "executionInfo": {
     "elapsed": 49,
     "status": "ok",
     "timestamp": 1665467210647,
     "user": {
      "displayName": "박경하",
      "userId": "14970276928355419245"
     },
     "user_tz": -540
    },
    "id": "rRhiKrLilICE"
   },
   "outputs": [],
   "source": [
    "import requests\n",
    "import re\n",
    "from pandas import json_normalize\n",
    "import pandas as pd\n",
    "from datetime import datetime, timedelta\n",
    "import time \n",
    "import json"
   ]
  },
  {
   "cell_type": "code",
   "execution_count": 10,
   "metadata": {
    "colab": {
     "base_uri": "https://localhost:8080/",
     "height": 620
    },
    "executionInfo": {
     "elapsed": 883,
     "status": "error",
     "timestamp": 1665467452832,
     "user": {
      "displayName": "박경하",
      "userId": "14970276928355419245"
     },
     "user_tz": -540
    },
    "id": "PgMn4UePlICI",
    "outputId": "04bf2647-e9f7-47e3-9816-9134917a0e3a"
   },
   "outputs": [],
   "source": [
    "url = 'https://apis.data.go.kr/1160100/service/GetGeneralProductInfoService/getOilPriceInfo?serviceKey=7TF3DZB/E1jVpaj4/EMdykMU1ur0mo4kEmWzN5M+L3hGoEFgO7qpmX/QH5QoD8NexZcqsTn0/6TWMpjGiNpYrw==&stdt=20221002&resultType=json'\n",
    "# lm_json = requests.post(url, verify=False)"
   ]
  },
  {
   "cell_type": "code",
   "execution_count": 24,
   "metadata": {
    "colab": {
     "base_uri": "https://localhost:8080/",
     "height": 620
    },
    "executionInfo": {
     "elapsed": 1915,
     "status": "error",
     "timestamp": 1665467212531,
     "user": {
      "displayName": "박경하",
      "userId": "14970276928355419245"
     },
     "user_tz": -540
    },
    "id": "KnmJIeG3lICK",
    "outputId": "4e880a60-dc14-49cc-d91d-7149dcaf138a"
   },
   "outputs": [],
   "source": [
    "AUTHKEY = '7TF3DZB%2FE1jVpaj4%2FEMdykMU1ur0mo4kEmWzN5M%2BL3hGoEFgO7qpmX%2FQH5QoD8NexZcqsTn0%2F6TWMpjGiNpYrw%3D%3D'\n",
    "STDT = (datetime.today() + timedelta(hours=0) - timedelta(0)).strftime('%Y%m%d')\n",
    "url = 'https://apis.data.go.kr/1160100/service/GetGeneralProductInfoService/getOilPriceInfo?serviceKey='+AUTHKEY + '&resultType=json&stdt=' + str(STDT)\n",
    "# lm_json = requests.get(url)"
   ]
  },
  {
   "cell_type": "code",
   "execution_count": 41,
   "metadata": {},
   "outputs": [
    {
     "data": {
      "text/plain": [
       "'20221011'"
      ]
     },
     "execution_count": 41,
     "metadata": {},
     "output_type": "execute_result"
    }
   ],
   "source": [
    "STDT"
   ]
  },
  {
   "cell_type": "code",
   "execution_count": 25,
   "metadata": {},
   "outputs": [],
   "source": [
    "import ssl\n",
    "\n",
    "from urllib3 import PoolManager\n",
    "from urllib3.util.ssl_ import create_urllib3_context\n",
    "\n",
    "ctx = create_urllib3_context()\n",
    "ctx.load_default_certs()\n",
    "ctx.options |= ssl.OP_ENABLE_MIDDLEBOX_COMPAT\n",
    "\n",
    "with PoolManager(ssl_context=ctx) as pool:\n",
    "    resp = pool.request(\"GET\", url)"
   ]
  },
  {
   "cell_type": "code",
   "execution_count": 33,
   "metadata": {},
   "outputs": [],
   "source": [
    "data = json.loads(resp.data)"
   ]
  },
  {
   "cell_type": "code",
   "execution_count": 42,
   "metadata": {
    "id": "4J4mFhzVlICM"
   },
   "outputs": [],
   "source": [
    "# data['response']['body']['items']['item']"
   ]
  },
  {
   "cell_type": "code",
   "execution_count": null,
   "metadata": {
    "id": "VOOpjLS3lICN"
   },
   "outputs": [],
   "source": []
  },
  {
   "cell_type": "code",
   "execution_count": null,
   "metadata": {
    "id": "X_FJQenulICO"
   },
   "outputs": [],
   "source": []
  }
 ],
 "metadata": {
  "colab": {
   "provenance": []
  },
  "kernelspec": {
   "display_name": "Python 3",
   "language": "python",
   "name": "python3"
  }
 },
 "nbformat": 4,
 "nbformat_minor": 1
}
