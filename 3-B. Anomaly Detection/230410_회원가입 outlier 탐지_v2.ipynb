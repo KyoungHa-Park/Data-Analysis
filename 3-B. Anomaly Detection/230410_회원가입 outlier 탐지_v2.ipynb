{
 "cells": [
  {
   "cell_type": "code",
   "execution_count": null,
   "metadata": {},
   "outputs": [],
   "source": []
  },
  {
   "cell_type": "code",
   "execution_count": null,
   "metadata": {},
   "outputs": [],
   "source": [
    "# 참조 : https://towardsdatascience.com/5-ways-to-detect-outliers-that-every-data-scientist-should-know-python-code-70a54335a623\n",
    "# https://medium.com/@sztistvan/anomaly-detection-in-time-series-using-chatgpt-3fc48f958c88\n"
   ]
  },
  {
   "cell_type": "markdown",
   "metadata": {},
   "source": [
    "+ [ ] 0.Data & check\n",
    "+ [ ] 1.distribution(boxplot)\n",
    "    + [x] Isolation Forest\n",
    "    + [ ] RandomForest(Robust)\n",
    "    + [ ] DBScan Clustering\n",
    "    + [x] AutoEncorder\n",
    "    + [x] ARIMA"
   ]
  },
  {
   "cell_type": "code",
   "execution_count": null,
   "metadata": {},
   "outputs": [],
   "source": []
  },
  {
   "cell_type": "code",
   "execution_count": null,
   "metadata": {},
   "outputs": [],
   "source": []
  },
  {
   "cell_type": "code",
   "execution_count": null,
   "metadata": {},
   "outputs": [],
   "source": []
  },
  {
   "cell_type": "code",
   "execution_count": 1,
   "metadata": {},
   "outputs": [],
   "source": [
    "from sklearn.ensemble import IsolationForest\n",
    "from sklearn.neighbors import LocalOutlierFactor\n",
    "\n",
    "import cx_Oracle as oci\n",
    "import pandas as pd\n",
    "import numpy as np\n",
    "\n",
    "import matplotlib as mpl\n",
    "import matplotlib.pyplot as plt\n",
    "import matplotlib.font_manager as fm\n",
    "\n",
    "path = 'C:/windows/Fonts/malgun.ttf'                           # 폰트:맑은고딕\n",
    "font_name = fm.FontProperties(fname=path, size=24).get_name()  \n",
    "plt.rc('font', family=font_name)"
   ]
  },
  {
   "cell_type": "code",
   "execution_count": null,
   "metadata": {},
   "outputs": [],
   "source": []
  },
  {
   "cell_type": "code",
   "execution_count": null,
   "metadata": {},
   "outputs": [],
   "source": []
  },
  {
   "cell_type": "markdown",
   "metadata": {},
   "source": [
    "### 0.Data & check"
   ]
  },
  {
   "cell_type": "code",
   "execution_count": 2,
   "metadata": {},
   "outputs": [],
   "source": [
    "# 접속정보\n",
    "con_text = open(\"C:/conn_info.txt\", 'r', encoding='utf8')\n",
    "con_text = con_text.read()\n",
    "\n",
    "# DB 접속\n",
    "conn = oci.connect(con_text)"
   ]
  },
  {
   "cell_type": "code",
   "execution_count": 3,
   "metadata": {},
   "outputs": [
    {
     "name": "stderr",
     "output_type": "stream",
     "text": [
      "C:\\Users\\MAEIL\\AppData\\Local\\Temp\\ipykernel_25636\\4206971142.py:7: UserWarning: pandas only supports SQLAlchemy connectable (engine/connection) or database string URI or sqlite3 DBAPI2 connection. Other DBAPI2 objects are not tested. Please consider using SQLAlchemy.\n",
      "  df1_test = pd.read_sql(sql_test , con = conn)\n",
      "C:\\Users\\MAEIL\\AppData\\Local\\Temp\\ipykernel_25636\\4206971142.py:14: UserWarning: pandas only supports SQLAlchemy connectable (engine/connection) or database string URI or sqlite3 DBAPI2 connection. Other DBAPI2 objects are not tested. Please consider using SQLAlchemy.\n",
      "  df1_real = pd.read_sql(sql_real , con = conn)\n"
     ]
    }
   ],
   "source": [
    "## 최근 90일 회원가입자 수\n",
    "sql_test = '''select trunc(reg_dtm) as reg_dmt, count(*) as cnt \n",
    "              from tm_mmb_info \n",
    "              where reg_dtm between sysdate -366 and sysdate-1 \n",
    "              group by trunc(reg_dtm) '''\n",
    "\n",
    "df1_test = pd.read_sql(sql_test , con = conn)\n",
    "\n",
    "sql_real = '''select trunc(reg_dtm) as reg_dmt, count(*) as cnt \n",
    "              from tm_mmb_info \n",
    "              where reg_dtm between sysdate - 61 and sysdate-1 \n",
    "              group by trunc(reg_dtm) '''\n",
    "\n",
    "df1_real = pd.read_sql(sql_real , con = conn)"
   ]
  },
  {
   "cell_type": "code",
   "execution_count": 4,
   "metadata": {},
   "outputs": [
    {
     "name": "stderr",
     "output_type": "stream",
     "text": [
      "C:\\Users\\MAEIL\\AppData\\Local\\Temp\\ipykernel_25636\\2036910967.py:15: UserWarning: pandas only supports SQLAlchemy connectable (engine/connection) or database string URI or sqlite3 DBAPI2 connection. Other DBAPI2 objects are not tested. Please consider using SQLAlchemy.\n",
      "  df2_regular = pd.read_sql(sql2_r, con = conn)\n",
      "C:\\Users\\MAEIL\\AppData\\Local\\Temp\\ipykernel_25636\\2036910967.py:16: UserWarning: pandas only supports SQLAlchemy connectable (engine/connection) or database string URI or sqlite3 DBAPI2 connection. Other DBAPI2 objects are not tested. Please consider using SQLAlchemy.\n",
      "  df2_social  = pd.read_sql(sql2_s, con = conn)\n"
     ]
    }
   ],
   "source": [
    "sql2_r = '''select trunc(reg_dtm) as reg_dtm, count(*) as cnt, 'regular' as gubun\n",
    "            from tm_mmb_info\n",
    "            where reg_dtm between sysdate - 61 and sysdate-1\n",
    "            and soc_mmb_yn='N' and mmb_st_cd = '1'\n",
    "            group by trunc(reg_dtm)\n",
    "            '''\n",
    "\n",
    "sql2_s = '''select trunc(reg_dtm) as reg_dtm, count(*) as cnt, 'kakao_scyn' as gubun\n",
    "            from tm_mmb_kakao_sync\n",
    "            where reg_dtm between sysdate - 61 and sysdate-1\n",
    "            group by trunc(reg_dtm)\n",
    "            order by trunc(reg_dtm)\n",
    "            '''\n",
    "\n",
    "df2_regular = pd.read_sql(sql2_r, con = conn)\n",
    "df2_social  = pd.read_sql(sql2_s, con = conn)\n"
   ]
  },
  {
   "cell_type": "code",
   "execution_count": 5,
   "metadata": {},
   "outputs": [],
   "source": [
    "df2 = pd.concat([df2_regular, df2_social])"
   ]
  },
  {
   "cell_type": "code",
   "execution_count": 6,
   "metadata": {},
   "outputs": [
    {
     "data": {
      "text/html": [
       "<div>\n",
       "<style scoped>\n",
       "    .dataframe tbody tr th:only-of-type {\n",
       "        vertical-align: middle;\n",
       "    }\n",
       "\n",
       "    .dataframe tbody tr th {\n",
       "        vertical-align: top;\n",
       "    }\n",
       "\n",
       "    .dataframe thead th {\n",
       "        text-align: right;\n",
       "    }\n",
       "</style>\n",
       "<table border=\"1\" class=\"dataframe\">\n",
       "  <thead>\n",
       "    <tr style=\"text-align: right;\">\n",
       "      <th></th>\n",
       "      <th>REG_DTM</th>\n",
       "      <th>CNT</th>\n",
       "      <th>GUBUN</th>\n",
       "    </tr>\n",
       "  </thead>\n",
       "  <tbody>\n",
       "    <tr>\n",
       "      <th>0</th>\n",
       "      <td>2023-02-19</td>\n",
       "      <td>60</td>\n",
       "      <td>regular</td>\n",
       "    </tr>\n",
       "    <tr>\n",
       "      <th>1</th>\n",
       "      <td>2023-02-20</td>\n",
       "      <td>164</td>\n",
       "      <td>regular</td>\n",
       "    </tr>\n",
       "    <tr>\n",
       "      <th>2</th>\n",
       "      <td>2023-02-21</td>\n",
       "      <td>155</td>\n",
       "      <td>regular</td>\n",
       "    </tr>\n",
       "    <tr>\n",
       "      <th>3</th>\n",
       "      <td>2023-02-22</td>\n",
       "      <td>146</td>\n",
       "      <td>regular</td>\n",
       "    </tr>\n",
       "    <tr>\n",
       "      <th>4</th>\n",
       "      <td>2023-02-23</td>\n",
       "      <td>184</td>\n",
       "      <td>regular</td>\n",
       "    </tr>\n",
       "    <tr>\n",
       "      <th>...</th>\n",
       "      <td>...</td>\n",
       "      <td>...</td>\n",
       "      <td>...</td>\n",
       "    </tr>\n",
       "    <tr>\n",
       "      <th>56</th>\n",
       "      <td>2023-04-16</td>\n",
       "      <td>110</td>\n",
       "      <td>kakao_scyn</td>\n",
       "    </tr>\n",
       "    <tr>\n",
       "      <th>57</th>\n",
       "      <td>2023-04-17</td>\n",
       "      <td>166</td>\n",
       "      <td>kakao_scyn</td>\n",
       "    </tr>\n",
       "    <tr>\n",
       "      <th>58</th>\n",
       "      <td>2023-04-18</td>\n",
       "      <td>121</td>\n",
       "      <td>kakao_scyn</td>\n",
       "    </tr>\n",
       "    <tr>\n",
       "      <th>59</th>\n",
       "      <td>2023-04-19</td>\n",
       "      <td>143</td>\n",
       "      <td>kakao_scyn</td>\n",
       "    </tr>\n",
       "    <tr>\n",
       "      <th>60</th>\n",
       "      <td>2023-04-20</td>\n",
       "      <td>99</td>\n",
       "      <td>kakao_scyn</td>\n",
       "    </tr>\n",
       "  </tbody>\n",
       "</table>\n",
       "<p>122 rows × 3 columns</p>\n",
       "</div>"
      ],
      "text/plain": [
       "      REG_DTM  CNT       GUBUN\n",
       "0  2023-02-19   60     regular\n",
       "1  2023-02-20  164     regular\n",
       "2  2023-02-21  155     regular\n",
       "3  2023-02-22  146     regular\n",
       "4  2023-02-23  184     regular\n",
       "..        ...  ...         ...\n",
       "56 2023-04-16  110  kakao_scyn\n",
       "57 2023-04-17  166  kakao_scyn\n",
       "58 2023-04-18  121  kakao_scyn\n",
       "59 2023-04-19  143  kakao_scyn\n",
       "60 2023-04-20   99  kakao_scyn\n",
       "\n",
       "[122 rows x 3 columns]"
      ]
     },
     "execution_count": 6,
     "metadata": {},
     "output_type": "execute_result"
    }
   ],
   "source": [
    "df2"
   ]
  },
  {
   "cell_type": "code",
   "execution_count": null,
   "metadata": {},
   "outputs": [],
   "source": [
    "CREATE OR REPLACE MODEL advdata.keras_fraud_detection \n",
    "OPTIONS(model_type='tensorflow',   \n",
    "        model_path='gs://BUCKETNAME/bqexample/export/*')\n",
    "SELECT d4, Class\n",
    "FROM ML.PREDICT( MODEL advdata.keras_fraud_detection,\n",
    "  (SELECT * FROM `bigquery-public-data.ml_datasets.ulb_fraud_detection` WHERE Time = 85285.0)\n",
    ")"
   ]
  },
  {
   "cell_type": "code",
   "execution_count": null,
   "metadata": {},
   "outputs": [],
   "source": [
    "'''\n",
    "select unfy_mmb_no\n",
    ", trsc_typ_cd\n",
    ", (select code_nm from jt_code J where J.code_grp_id = 'PM001' and J.code = trsc_typ_cd) as code_lv1\n",
    ", trsc_rsn_cd\n",
    ", (select code_nm from jt_code J where J.code_grp_id = 'PM034' and J.code = trsc_rsn_cd) as code_lv2\n",
    ", acml_pint\n",
    ", use_pint\n",
    ", tot_sel_amt\n",
    ", reg_dtm\n",
    "from tp_trsc_ptcl\n",
    "where reg_dtm between sysdate -30 and sysdate\n",
    "and unfy_mmb_no is not null \n",
    "and trsc_rsn_cd in ('RR01', 'RR04')\n",
    "--and unfy_mmb_no = '4264108'\n",
    "'''\n",
    "\n",
    "\n",
    "'''\n",
    "select unfy_mmb_no\n",
    ", mmb_baby_seq_no\n",
    ", to_char(reg_dtm, 'YYYY-MM') as REG_DM\n",
    ", count(*) as cnt_all\n",
    ", count(*) / mmb_baby_seq_no as cnt_avg\n",
    "from tp_trsc_ptcl\n",
    "where reg_dtm between ADD_MONTHS( TRUNC(sysdate,'MM'), -1 ) and ADD_MONTHS( LAST_DAY(sysdate), 0 )\n",
    "and unfy_mmb_no is not null \n",
    "--and unfy_mmb_no ='3982669'\n",
    "and trsc_rsn_cd in ('RR01', 'RR04')\n",
    "group by  unfy_mmb_no, mmb_baby_seq_no, to_char(reg_dtm, 'YYYY-MM')\n",
    "HAVING count(*) / mmb_baby_seq_no > 6\n",
    "order by 5 desc\n",
    "--) group by REG_DM\n",
    "'''\n",
    "\n",
    "\n",
    "\n",
    "\n",
    "'''\n",
    "select * from tp_trsc_ptcl\n",
    "where reg_dtm between ADD_MONTHS( TRUNC(sysdate,'MM'), -1 ) and ADD_MONTHS( LAST_DAY(sysdate), 0 )\n",
    "and unfy_mmb_no ='6330009'\n",
    "--and trsc_rsn_cd in ('RR01', 'RR04')\n",
    "'''\n",
    ";\n",
    "\n",
    "'''\n",
    "select  M.USERID\n",
    ", I.member_no\n",
    ", 2020-to_char(C.birthday, 'YYYY') as age\n",
    ", (case when C.sex in ('1', '3') then 'M' when C.sex in ('2', '4') then 'F' end) as gender\n",
    ", D.PRODUCT_CODE\n",
    ", (select product_name from maeil.MAEIL_PRODUCT where product_code  = D.PRODUCT_CODE ) as product_name\n",
    ", (case when D.PRODUCT_CODE = 'P00962' then 'SPORTS 복숭아'\n",
    "        when D.PRODUCT_CODE = 'P00963' then 'SPORTS 초콜릿'\n",
    "        end ) as PRODUCT_NAME_GUBUN\n",
    ", D.PRODUCT_PRICE\n",
    ", D.PRODUCT_QTY as PRODUCT_COUNT\n",
    "--, M.SEND_AMT\n",
    ", to_char(M.YMDD, 'YYYY-MM-DD') as PAY_DATE\n",
    ", to_char(M.YMDD, 'HH24') as PAY_TIME\n",
    "from maeil.maeil_ds_delivery M, maeil.MAEIL_DS_DELIVERY_DETAIL D, crm.customer C, crm.member I\n",
    "where M.ORDERNO = D.ORDERNO\n",
    "and I.member_no in ( '5791394', '6330009', '6552104', '6570325', '6803863', '6698550', '6636268')\n",
    "and I.userid = M.userid\n",
    "and M.YMDD between sysdate -90 and sysdate\n",
    "and M.USERID = C.id(+) \n",
    "'''\n"
   ]
  },
  {
   "cell_type": "code",
   "execution_count": null,
   "metadata": {},
   "outputs": [],
   "source": []
  },
  {
   "cell_type": "code",
   "execution_count": null,
   "metadata": {},
   "outputs": [],
   "source": []
  },
  {
   "cell_type": "code",
   "execution_count": null,
   "metadata": {},
   "outputs": [],
   "source": []
  },
  {
   "cell_type": "code",
   "execution_count": 4,
   "metadata": {},
   "outputs": [],
   "source": [
    "import pandas as pd\n",
    "from sklearn.ensemble import IsolationForest\n",
    "\n",
    "def detect_anomalies_with_isolation_forest(series):\n",
    "    # Convert the series to a 2D NumPy array\n",
    "    data = series.values.reshape(-1, 1)\n",
    "    \n",
    "    # Create an instance of the IsolationForest class\n",
    "    #model = IsolationForest(n_estimators=100, contamination='auto', random_state=42)\n",
    "    model = IsolationForest(n_estimators=100, contamination=0.1, random_state=42)\n",
    "\n",
    "    # Fit the model to the data and predict anomalies\n",
    "    model.fit(data)\n",
    "    anomalies = model.predict(data)\n",
    "    \n",
    "    # Convert the predictions back to a Pandas series and return it\n",
    "    anomalies_series = pd.Series(anomalies, index=series.index)\n",
    "    return anomalies_series\n"
   ]
  },
  {
   "cell_type": "code",
   "execution_count": 18,
   "metadata": {},
   "outputs": [],
   "source": [
    "# IsolationForest\n",
    "result1 = detect_anomalies_with_isolation_forest(df1_test.CNT)\n",
    "result1 = result1.tolist()"
   ]
  },
  {
   "cell_type": "code",
   "execution_count": null,
   "metadata": {},
   "outputs": [],
   "source": []
  },
  {
   "cell_type": "code",
   "execution_count": 48,
   "metadata": {},
   "outputs": [],
   "source": [
    "import numpy as np\n",
    "import pandas as pd\n",
    "from tensorflow import keras\n",
    "\n",
    "def detect_anomalies_with_autoencoder(series, window_size=20, latent_dim=3, epochs=100):\n",
    "    # Prepare the input data\n",
    "    X = []\n",
    "    for i in range(len(series) - window_size):\n",
    "        X.append(series[i:i+window_size])\n",
    "    X = np.array(X)\n",
    "    \n",
    "    # Define the autoencoder architecture\n",
    "    model = keras.Sequential([\n",
    "        keras.layers.Dense(64, activation='relu', input_shape=(window_size,)),\n",
    "        keras.layers.Dense(latent_dim, activation='relu'),\n",
    "        keras.layers.Dense(64, activation='relu'),\n",
    "        keras.layers.Dense(window_size, activation='linear')\n",
    "    ])\n",
    "    \n",
    "    # Train the autoencoder\n",
    "    model.compile(optimizer='adam', loss='mse')\n",
    "    model.fit(X, X, epochs=epochs, verbose=0)\n",
    "    \n",
    "    # Use the trained autoencoder to detect anomalies\n",
    "    X_pred = model.predict(X)\n",
    "    mse = np.mean(np.power(X - X_pred, 2), axis=1)\n",
    "    threshold = np.percentile(mse, 95)\n",
    "    anomalies = series.iloc[window_size:][mse >= threshold]\n",
    "    anomalies_series = pd.Series(anomalies, index=series.index)\n",
    "\n",
    "#     return threshold\n",
    "    return anomalies_series"
   ]
  },
  {
   "cell_type": "code",
   "execution_count": null,
   "metadata": {},
   "outputs": [],
   "source": []
  },
  {
   "cell_type": "code",
   "execution_count": 54,
   "metadata": {},
   "outputs": [
    {
     "name": "stdout",
     "output_type": "stream",
     "text": [
      "11/11 [==============================] - 0s 5ms/step\n"
     ]
    }
   ],
   "source": [
    "# AE\n",
    "result2 = detect_anomalies_with_autoencoder(df1_test.CNT)\n",
    "# result2 = result2.tolist()"
   ]
  },
  {
   "cell_type": "code",
   "execution_count": null,
   "metadata": {},
   "outputs": [],
   "source": []
  },
  {
   "cell_type": "code",
   "execution_count": null,
   "metadata": {},
   "outputs": [],
   "source": []
  },
  {
   "cell_type": "code",
   "execution_count": null,
   "metadata": {},
   "outputs": [],
   "source": []
  },
  {
   "cell_type": "code",
   "execution_count": null,
   "metadata": {},
   "outputs": [],
   "source": []
  },
  {
   "cell_type": "code",
   "execution_count": null,
   "metadata": {},
   "outputs": [],
   "source": []
  },
  {
   "cell_type": "markdown",
   "metadata": {},
   "source": [
    "### 1.회원가입 추이"
   ]
  },
  {
   "cell_type": "code",
   "execution_count": 7,
   "metadata": {},
   "outputs": [],
   "source": [
    "data_test = np.array(df1_test.CNT).reshape(-1,1)\n",
    "data_real = np.array(df1_real.CNT).reshape(-1,1)\n",
    "\n",
    "# clf = IsolationForest()\n",
    "clf = LocalOutlierFactor()\n",
    "model = clf.fit(data_test)\n",
    "result = model.fit_predict(data_real)\n",
    "result = result.tolist()"
   ]
  },
  {
   "cell_type": "code",
   "execution_count": 9,
   "metadata": {},
   "outputs": [],
   "source": [
    "df1_real['color'] = result\n",
    "df1_real['color'] = df1_real['color'].replace({-1: 'red', 1: 'blue'})"
   ]
  },
  {
   "cell_type": "code",
   "execution_count": 10,
   "metadata": {},
   "outputs": [],
   "source": [
    "df3 = pd.pivot_table(df2, values='CNT', index=['GUBUN'],columns=['REG_DTM'],  aggfunc='sum')"
   ]
  },
  {
   "cell_type": "code",
   "execution_count": 11,
   "metadata": {},
   "outputs": [
    {
     "ename": "NameError",
     "evalue": "name 'df2_social2' is not defined",
     "output_type": "error",
     "traceback": [
      "\u001b[1;31m---------------------------------------------------------------------------\u001b[0m",
      "\u001b[1;31mNameError\u001b[0m                                 Traceback (most recent call last)",
      "Cell \u001b[1;32mIn[11], line 1\u001b[0m\n\u001b[1;32m----> 1\u001b[0m df4 \u001b[38;5;241m=\u001b[39m pd\u001b[38;5;241m.\u001b[39mpivot_table(\u001b[43mdf2_social2\u001b[49m, values\u001b[38;5;241m=\u001b[39m\u001b[38;5;124m'\u001b[39m\u001b[38;5;124mCNT\u001b[39m\u001b[38;5;124m'\u001b[39m, index\u001b[38;5;241m=\u001b[39m[\u001b[38;5;124m'\u001b[39m\u001b[38;5;124mCHNL_UUID\u001b[39m\u001b[38;5;124m'\u001b[39m],columns\u001b[38;5;241m=\u001b[39m[\u001b[38;5;124m'\u001b[39m\u001b[38;5;124mREG_DTM\u001b[39m\u001b[38;5;124m'\u001b[39m],  aggfunc\u001b[38;5;241m=\u001b[39m\u001b[38;5;124m'\u001b[39m\u001b[38;5;124msum\u001b[39m\u001b[38;5;124m'\u001b[39m)\n",
      "\u001b[1;31mNameError\u001b[0m: name 'df2_social2' is not defined"
     ]
    }
   ],
   "source": [
    "df4 = pd.pivot_table(df2_social2, values='CNT', index=['CHNL_UUID'],columns=['REG_DTM'],  aggfunc='sum')"
   ]
  },
  {
   "cell_type": "code",
   "execution_count": 12,
   "metadata": {
    "scrolled": false
   },
   "outputs": [
    {
     "data": {
      "image/png": "[encoded data removed]",
      "text/plain": [
       "<Figure size 1200x800 with 4 Axes>"
      ]
     },
     "metadata": {},
     "output_type": "display_data"
    }
   ],
   "source": [
    "plt.figure(figsize=(12, 8))\n",
    "\n",
    "ax1 = plt.subplot2grid((2, 4), (0, 0), colspan=3)\n",
    "plt.bar(df1_real.REG_DMT, df1_real.CNT, color = df1_real.color)\n",
    "plt.xticks(rotation=45)\n",
    "plt.title('회원가입 추이(최근90일) : 전체가입자 수')\n",
    "\n",
    "ax2 = plt.subplot2grid((2, 4), (0, 3))\n",
    "plt.boxplot(df1_real.CNT, labels=['전제회원'])\n",
    "\n",
    "ax3 = plt.subplot2grid((2, 4), (1, 0), colspan=3)\n",
    "plt.subplots_adjust(left=0.125, bottom=0.1,  right=0.9, top=0.9, wspace=0.2, hspace=0.5)\n",
    "plt.plot(df3.iloc[[0]].T[1:],  marker=\"o\", color = 'orange', markerfacecolor='w', label='카카오싱크')\n",
    "plt.plot(df3.iloc[[1]].T[1:],  marker=\"o\", color = 'green',  markerfacecolor='w', label='정회원')\n",
    "lgd = plt.legend(loc='best', fancybox=True, shadow=True)\n",
    "plt.xticks(rotation=45)\n",
    "plt.title('회원가입 추이(최근90일) : 가입 유형별')\n",
    "\n",
    "ax4 = plt.subplot2grid((2, 4), (1, 3))\n",
    "plt.boxplot(df3.T[['kakao_scyn', 'regular']], labels=['카카오싱크', '정회원'] )\n",
    "# plt.boxplot(df3.T['regular'], labels=['정회원'] )\n",
    "\n",
    "plt.show()"
   ]
  },
  {
   "cell_type": "code",
   "execution_count": null,
   "metadata": {},
   "outputs": [],
   "source": []
  },
  {
   "cell_type": "code",
   "execution_count": null,
   "metadata": {},
   "outputs": [],
   "source": []
  },
  {
   "cell_type": "code",
   "execution_count": null,
   "metadata": {},
   "outputs": [],
   "source": []
  },
  {
   "cell_type": "markdown",
   "metadata": {},
   "source": [
    "### 2.분유적립 추이"
   ]
  },
  {
   "cell_type": "code",
   "execution_count": 18,
   "metadata": {},
   "outputs": [],
   "source": [
    "# df2.head(2)"
   ]
  },
  {
   "cell_type": "code",
   "execution_count": 69,
   "metadata": {},
   "outputs": [
    {
     "data": {
      "text/plain": [
       "twitter.api.Api"
      ]
     },
     "execution_count": 69,
     "metadata": {},
     "output_type": "execute_result"
    }
   ],
   "source": [
    "twitter.api.Api"
   ]
  },
  {
   "cell_type": "code",
   "execution_count": null,
   "metadata": {},
   "outputs": [],
   "source": []
  },
  {
   "cell_type": "code",
   "execution_count": null,
   "metadata": {},
   "outputs": [],
   "source": []
  },
  {
   "cell_type": "code",
   "execution_count": null,
   "metadata": {},
   "outputs": [],
   "source": []
  },
  {
   "cell_type": "code",
   "execution_count": 84,
   "metadata": {},
   "outputs": [],
   "source": [
    "# ci = 1.96 * np.std(df.CNT)/np.mean(df.CNT)\n",
    "\n",
    "# fig, ax = plt.subplots(1, 2, 2)\n",
    "# ax.plot(df.CNT)\n",
    "# ax.fill_between( (df.CNT-ci), (df.CNT+ci), color='b', alpha=.1)\n",
    "# plt.show()"
   ]
  },
  {
   "cell_type": "code",
   "execution_count": null,
   "metadata": {},
   "outputs": [],
   "source": []
  },
  {
   "cell_type": "code",
   "execution_count": 85,
   "metadata": {},
   "outputs": [],
   "source": [
    "# from sklearn import svm\n",
    "# from sklearn.datasets import make_moons, make_blobs\n",
    "# from sklearn.covariance import EllipticEnvelope\n",
    "# from sklearn.ensemble import IsolationForest\n",
    "# from sklearn.neighbors import LocalOutlierFactor\n",
    "\n",
    "# outliers_fraction = 0.15\n",
    "\n",
    "# # define outlier/anomaly detection methods to be compared\n",
    "# anomaly_algorithms = [ (\"Robust covariance\",   EllipticEnvelope(contamination=outliers_fraction)),\n",
    "#                        (\"One-Class SVM\",       svm.OneClassSVM(nu=outliers_fraction, kernel=\"rbf\",gamma=0.1)),\n",
    "#                        (\"Isolation Forest\",    IsolationForest(behaviour='new', contamination=outliers_fraction, random_state=42)),\n",
    "#                        (\"Local Outlier Factor\",LocalOutlierFactor(n_neighbors=35, contamination=outliers_fraction))\n",
    "#                      ]"
   ]
  },
  {
   "cell_type": "code",
   "execution_count": 86,
   "metadata": {},
   "outputs": [],
   "source": [
    "# for i_dataset, X in enumerate(datasets):\n",
    "#     # Add outliers\n",
    "#     X = np.concatenate([X, rng.uniform(low=-6, high=6,\n",
    "#                        size=(n_outliers, 2))], axis=0)\n",
    "\n",
    "#     for name, algorithm in anomaly_algorithms:\n",
    "#         t0 = time.time()\n",
    "#         algorithm.fit(X)\n",
    "#         t1 = time.time()\n",
    "#         plt.subplot(len(datasets), len(anomaly_algorithms), plot_num)\n",
    "#         if i_dataset == 0:\n",
    "#             plt.title(name, size=18)\n",
    "\n",
    "#         # fit the data and tag outliers\n",
    "#         if name == \"Local Outlier Factor\":\n",
    "#             y_pred = algorithm.fit_predict(X)\n",
    "#         else:\n",
    "#             y_pred = algorithm.fit(X).predict(X)\n",
    "\n",
    "#         # plot the levels lines and the points\n",
    "#         if name != \"Local Outlier Factor\":  # LOF does not implement predict\n",
    "#             Z = algorithm.predict(np.c_[xx.ravel(), yy.ravel()])\n",
    "#             Z = Z.reshape(xx.shape)\n",
    "#             plt.contour(xx, yy, Z, levels=[0], linewidths=2, colors='black')\n",
    "\n",
    "#         colors = np.array(['#377eb8', '#ff7f00'])\n",
    "#         plt.scatter(X[:, 0], X[:, 1], s=10, color=colors[(y_pred + 1) // 2])\n",
    "\n",
    "#         plt.xlim(-7, 7)\n",
    "#         plt.ylim(-7, 7)\n",
    "#         plt.xticks(())\n",
    "#         plt.yticks(())\n",
    "#         plt.text(.99, .01, ('%.2fs' % (t1 - t0)).lstrip('0'),\n",
    "#                  transform=plt.gca().transAxes, size=15,\n",
    "#                  horizontalalignment='right')\n",
    "#         plot_num += 1"
   ]
  },
  {
   "cell_type": "code",
   "execution_count": 12,
   "metadata": {},
   "outputs": [],
   "source": [
    "X = df.CNT.to_numpy()"
   ]
  },
  {
   "cell_type": "code",
   "execution_count": 13,
   "metadata": {},
   "outputs": [],
   "source": [
    "X_test = X[-1].reshape(1, -1)\n",
    "X_train = X[:-2].reshape(1, -1)"
   ]
  },
  {
   "cell_type": "code",
   "execution_count": null,
   "metadata": {},
   "outputs": [],
   "source": []
  },
  {
   "cell_type": "code",
   "execution_count": 14,
   "metadata": {},
   "outputs": [
    {
     "name": "stderr",
     "output_type": "stream",
     "text": [
      "C:\\ProgramData\\Anaconda3\\lib\\site-packages\\sklearn\\ensemble\\_iforest.py:475: RuntimeWarning: invalid value encountered in true_divide\n",
      "  * _average_path_length([self.max_samples_]))\n"
     ]
    }
   ],
   "source": [
    "# IsolationForest\n",
    "\n",
    "clf = IsolationForest()\n",
    "result = clf.fit(X_train)\n",
    "result = result.fit_predict(X_train)\n",
    "\n",
    "# if result[0] == 1:\n",
    "#     print('이상치 있음')\n",
    "# else:\n",
    "#     print('이상치 없음')"
   ]
  },
  {
   "cell_type": "code",
   "execution_count": 15,
   "metadata": {},
   "outputs": [
    {
     "data": {
      "text/plain": [
       "array([1])"
      ]
     },
     "execution_count": 15,
     "metadata": {},
     "output_type": "execute_result"
    }
   ],
   "source": [
    "result"
   ]
  },
  {
   "cell_type": "code",
   "execution_count": null,
   "metadata": {},
   "outputs": [],
   "source": []
  },
  {
   "cell_type": "code",
   "execution_count": 26,
   "metadata": {},
   "outputs": [
    {
     "name": "stdout",
     "output_type": "stream",
     "text": [
      "이상치 있음\n"
     ]
    }
   ],
   "source": [
    "from sklearn.cluster import DBSCAN\n",
    "\n",
    "outlier_detection = DBSCAN(min_samples = 2, eps = 3)\n",
    "clusters = outlier_detection.fit_predict(X)\n",
    "\n",
    "# total number of noisy points\n",
    "result2 = list(clusters).count(-1)\n",
    "if result2 > 0:\n",
    "    print('이상치 있음')\n",
    "#     print('이상치 겟수 : {}'.format(result2) )"
   ]
  },
  {
   "cell_type": "code",
   "execution_count": null,
   "metadata": {},
   "outputs": [],
   "source": []
  },
  {
   "cell_type": "code",
   "execution_count": 73,
   "metadata": {},
   "outputs": [
    {
     "data": {
      "text/plain": [
       "NearestNeighbors(n_neighbors=1)"
      ]
     },
     "execution_count": 73,
     "metadata": {},
     "output_type": "execute_result"
    }
   ],
   "source": [
    "# from sklearn.neighbors import LocalOutlierFactor\n",
    "from sklearn.neighbors import NearestNeighbors\n",
    "# clf = LocalOutlierFactor(n_neighbors=2)\n",
    "neigh = NearestNeighbors(n_neighbors=1)\n",
    "neigh.fit(X)"
   ]
  },
  {
   "cell_type": "code",
   "execution_count": 17,
   "metadata": {},
   "outputs": [
    {
     "ename": "ValueError",
     "evalue": "Expected 2D array, got 1D array instead:\narray=[1698 3200 1931 1414 1228 1147  934 1101 1173 1462 1467 1572 1433 1638\n 1396 1423 1337 1496 1355 1607 1469 1250 1132 1150 1296 1587 1775 2557\n 1723 1018  979 1057  985 1016 1057  943 1006 1143 1046 1122 1126 1186\n  943  850  966 1215 1367  924  798  764  697  703  810  753  845  796\n  619  689 1668 1384  859  708  746  694  727  787  924  956  951 1149\n 1201  789  888 1048 1815 1693 1854 1719 1160 1244 1412 1482 1762 1988\n 1622 1418 2604 2564 1765 1738 1171].\nReshape your data either using array.reshape(-1, 1) if your data has a single feature or array.reshape(1, -1) if it contains a single sample.",
     "output_type": "error",
     "traceback": [
      "\u001b[1;31m---------------------------------------------------------------------------\u001b[0m",
      "\u001b[1;31mValueError\u001b[0m                                Traceback (most recent call last)",
      "\u001b[1;32m<ipython-input-17-2252540c53cc>\u001b[0m in \u001b[0;36m<module>\u001b[1;34m\u001b[0m\n\u001b[1;32m----> 1\u001b[1;33m \u001b[0mclf\u001b[0m\u001b[1;33m.\u001b[0m\u001b[0mfit_predict\u001b[0m\u001b[1;33m(\u001b[0m\u001b[0mX\u001b[0m\u001b[1;33m)\u001b[0m\u001b[1;33m\u001b[0m\u001b[1;33m\u001b[0m\u001b[0m\n\u001b[0m",
      "\u001b[1;32mC:\\ProgramData\\Anaconda3\\lib\\site-packages\\sklearn\\base.py\u001b[0m in \u001b[0;36mfit_predict\u001b[1;34m(self, X, y)\u001b[0m\n\u001b[0;32m    738\u001b[0m         \"\"\"\n\u001b[0;32m    739\u001b[0m         \u001b[1;31m# override for transductive outlier detectors like LocalOulierFactor\u001b[0m\u001b[1;33m\u001b[0m\u001b[1;33m\u001b[0m\u001b[1;33m\u001b[0m\u001b[0m\n\u001b[1;32m--> 740\u001b[1;33m         \u001b[1;32mreturn\u001b[0m \u001b[0mself\u001b[0m\u001b[1;33m.\u001b[0m\u001b[0mfit\u001b[0m\u001b[1;33m(\u001b[0m\u001b[0mX\u001b[0m\u001b[1;33m)\u001b[0m\u001b[1;33m.\u001b[0m\u001b[0mpredict\u001b[0m\u001b[1;33m(\u001b[0m\u001b[0mX\u001b[0m\u001b[1;33m)\u001b[0m\u001b[1;33m\u001b[0m\u001b[1;33m\u001b[0m\u001b[0m\n\u001b[0m\u001b[0;32m    741\u001b[0m \u001b[1;33m\u001b[0m\u001b[0m\n\u001b[0;32m    742\u001b[0m \u001b[1;33m\u001b[0m\u001b[0m\n",
      "\u001b[1;32mC:\\ProgramData\\Anaconda3\\lib\\site-packages\\sklearn\\ensemble\\_iforest.py\u001b[0m in \u001b[0;36mfit\u001b[1;34m(self, X, y, sample_weight)\u001b[0m\n\u001b[0;32m    261\u001b[0m                 )\n\u001b[0;32m    262\u001b[0m \u001b[1;33m\u001b[0m\u001b[0m\n\u001b[1;32m--> 263\u001b[1;33m         \u001b[0mX\u001b[0m \u001b[1;33m=\u001b[0m \u001b[0mcheck_array\u001b[0m\u001b[1;33m(\u001b[0m\u001b[0mX\u001b[0m\u001b[1;33m,\u001b[0m \u001b[0maccept_sparse\u001b[0m\u001b[1;33m=\u001b[0m\u001b[1;33m[\u001b[0m\u001b[1;34m'csc'\u001b[0m\u001b[1;33m]\u001b[0m\u001b[1;33m)\u001b[0m\u001b[1;33m\u001b[0m\u001b[1;33m\u001b[0m\u001b[0m\n\u001b[0m\u001b[0;32m    264\u001b[0m         \u001b[1;32mif\u001b[0m \u001b[0missparse\u001b[0m\u001b[1;33m(\u001b[0m\u001b[0mX\u001b[0m\u001b[1;33m)\u001b[0m\u001b[1;33m:\u001b[0m\u001b[1;33m\u001b[0m\u001b[1;33m\u001b[0m\u001b[0m\n\u001b[0;32m    265\u001b[0m             \u001b[1;31m# Pre-sort indices to avoid that each individual tree of the\u001b[0m\u001b[1;33m\u001b[0m\u001b[1;33m\u001b[0m\u001b[1;33m\u001b[0m\u001b[0m\n",
      "\u001b[1;32mC:\\ProgramData\\Anaconda3\\lib\\site-packages\\sklearn\\utils\\validation.py\u001b[0m in \u001b[0;36minner_f\u001b[1;34m(*args, **kwargs)\u001b[0m\n\u001b[0;32m     71\u001b[0m                           FutureWarning)\n\u001b[0;32m     72\u001b[0m         \u001b[0mkwargs\u001b[0m\u001b[1;33m.\u001b[0m\u001b[0mupdate\u001b[0m\u001b[1;33m(\u001b[0m\u001b[1;33m{\u001b[0m\u001b[0mk\u001b[0m\u001b[1;33m:\u001b[0m \u001b[0marg\u001b[0m \u001b[1;32mfor\u001b[0m \u001b[0mk\u001b[0m\u001b[1;33m,\u001b[0m \u001b[0marg\u001b[0m \u001b[1;32min\u001b[0m \u001b[0mzip\u001b[0m\u001b[1;33m(\u001b[0m\u001b[0msig\u001b[0m\u001b[1;33m.\u001b[0m\u001b[0mparameters\u001b[0m\u001b[1;33m,\u001b[0m \u001b[0margs\u001b[0m\u001b[1;33m)\u001b[0m\u001b[1;33m}\u001b[0m\u001b[1;33m)\u001b[0m\u001b[1;33m\u001b[0m\u001b[1;33m\u001b[0m\u001b[0m\n\u001b[1;32m---> 73\u001b[1;33m         \u001b[1;32mreturn\u001b[0m \u001b[0mf\u001b[0m\u001b[1;33m(\u001b[0m\u001b[1;33m**\u001b[0m\u001b[0mkwargs\u001b[0m\u001b[1;33m)\u001b[0m\u001b[1;33m\u001b[0m\u001b[1;33m\u001b[0m\u001b[0m\n\u001b[0m\u001b[0;32m     74\u001b[0m     \u001b[1;32mreturn\u001b[0m \u001b[0minner_f\u001b[0m\u001b[1;33m\u001b[0m\u001b[1;33m\u001b[0m\u001b[0m\n\u001b[0;32m     75\u001b[0m \u001b[1;33m\u001b[0m\u001b[0m\n",
      "\u001b[1;32mC:\\ProgramData\\Anaconda3\\lib\\site-packages\\sklearn\\utils\\validation.py\u001b[0m in \u001b[0;36mcheck_array\u001b[1;34m(array, accept_sparse, accept_large_sparse, dtype, order, copy, force_all_finite, ensure_2d, allow_nd, ensure_min_samples, ensure_min_features, estimator)\u001b[0m\n\u001b[0;32m    622\u001b[0m                     \u001b[1;34m\"Reshape your data either using array.reshape(-1, 1) if \"\u001b[0m\u001b[1;33m\u001b[0m\u001b[1;33m\u001b[0m\u001b[0m\n\u001b[0;32m    623\u001b[0m                     \u001b[1;34m\"your data has a single feature or array.reshape(1, -1) \"\u001b[0m\u001b[1;33m\u001b[0m\u001b[1;33m\u001b[0m\u001b[0m\n\u001b[1;32m--> 624\u001b[1;33m                     \"if it contains a single sample.\".format(array))\n\u001b[0m\u001b[0;32m    625\u001b[0m \u001b[1;33m\u001b[0m\u001b[0m\n\u001b[0;32m    626\u001b[0m         \u001b[1;31m# in the future np.flexible dtypes will be handled like object dtypes\u001b[0m\u001b[1;33m\u001b[0m\u001b[1;33m\u001b[0m\u001b[1;33m\u001b[0m\u001b[0m\n",
      "\u001b[1;31mValueError\u001b[0m: Expected 2D array, got 1D array instead:\narray=[1698 3200 1931 1414 1228 1147  934 1101 1173 1462 1467 1572 1433 1638\n 1396 1423 1337 1496 1355 1607 1469 1250 1132 1150 1296 1587 1775 2557\n 1723 1018  979 1057  985 1016 1057  943 1006 1143 1046 1122 1126 1186\n  943  850  966 1215 1367  924  798  764  697  703  810  753  845  796\n  619  689 1668 1384  859  708  746  694  727  787  924  956  951 1149\n 1201  789  888 1048 1815 1693 1854 1719 1160 1244 1412 1482 1762 1988\n 1622 1418 2604 2564 1765 1738 1171].\nReshape your data either using array.reshape(-1, 1) if your data has a single feature or array.reshape(1, -1) if it contains a single sample."
     ]
    }
   ],
   "source": [
    "clf.fit_predict(X)"
   ]
  },
  {
   "cell_type": "code",
   "execution_count": null,
   "metadata": {},
   "outputs": [],
   "source": []
  }
 ],
 "metadata": {
  "kernelspec": {
   "display_name": "Python 3 (ipykernel)",
   "language": "python",
   "name": "python3"
  },
  "language_info": {
   "codemirror_mode": {
    "name": "ipython",
    "version": 3
   },
   "file_extension": ".py",
   "mimetype": "text/x-python",
   "name": "python",
   "nbconvert_exporter": "python",
   "pygments_lexer": "ipython3",
   "version": "3.11.2"
  }
 },
 "nbformat": 4,
 "nbformat_minor": 4
}
