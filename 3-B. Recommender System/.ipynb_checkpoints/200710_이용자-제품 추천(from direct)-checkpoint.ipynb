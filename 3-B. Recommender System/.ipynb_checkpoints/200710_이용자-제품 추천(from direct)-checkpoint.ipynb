{
 "cells": [
  {
   "cell_type": "code",
   "execution_count": null,
   "metadata": {},
   "outputs": [],
   "source": []
  },
  {
   "cell_type": "markdown",
   "metadata": {},
   "source": [
    "### Recommendation System\n",
    "**1. 목적**  \n",
    "  + [x] Personalized recommender(개인별 상품 추천)\n",
    "  + [ ] Non-personalized recommender(유사 상품 추천)\n",
    "  + [ ] Attribute-based recommender(콘텐츠 기반 추천)\n",
    "---\n",
    "**2. 방법 : 협업 필터링(Collaborative Filtering : CF)**  \n",
    "  + [ ] User-based CF $\\to$ Segment 용도\n",
    "  + [x] Item-based CF $\\to$ 제품추천 용도\n",
    "---\n",
    "**3. 모델기반 방법(Model-based Methods)**\n",
    "  - [x] SVD(Singular Value Decomposition)\n",
    "  - [x] PCA(Principal Component Analysis)\n"
   ]
  },
  {
   "cell_type": "code",
   "execution_count": null,
   "metadata": {},
   "outputs": [],
   "source": []
  },
  {
   "cell_type": "code",
   "execution_count": null,
   "metadata": {},
   "outputs": [],
   "source": []
  },
  {
   "cell_type": "code",
   "execution_count": 3,
   "metadata": {},
   "outputs": [],
   "source": [
    "#######\n",
    "# import\n",
    "###\n",
    "import cx_Oracle as oci\n",
    "import pandas as pd\n",
    "import numpy as np\n",
    "\n",
    "import matplotlib.pyplot  as plt\n",
    "%matplotlib inline\n",
    "\n",
    "# import seaborn as sns\n",
    "# sns.set(style=\"white\")\n",
    "# sns.set(style=\"whitegrid\", color_codes=True)"
   ]
  },
  {
   "cell_type": "code",
   "execution_count": null,
   "metadata": {},
   "outputs": [],
   "source": []
  },
  {
   "cell_type": "code",
   "execution_count": 4,
   "metadata": {},
   "outputs": [],
   "source": [
    "# data 준비\n",
    "def dataload(query_dir):\n",
    "    # # DB 접속\n",
    "    con_text = open(\"C:\\conn_CRM.txt\", 'r', encoding='utf8')\n",
    "    con_text = con_text.read()\n",
    "    conn = oci.connect(con_text)\n",
    "\n",
    "    # query 실행(txt 파일 )\n",
    "    f = open(query_dir, 'r')\n",
    "    line = f.read()\n",
    "    f.close()\n",
    "    name = pd.read_sql(line, con = conn)\n",
    "\n",
    "    ## DB 접속종료\n",
    "    conn.close()\n",
    "    \n",
    "    return name"
   ]
  },
  {
   "cell_type": "code",
   "execution_count": 5,
   "metadata": {},
   "outputs": [],
   "source": [
    "#  sale : 최근 180일 이내 구매\n",
    "df1 = dataload(\"./query(oracle)/direct_sale.txt\")"
   ]
  },
  {
   "cell_type": "code",
   "execution_count": 4,
   "metadata": {},
   "outputs": [],
   "source": [
    "# df1 = pd.read_csv('./190726_t-mon_review.csv', encoding = 'cp949', low_memory=False)"
   ]
  },
  {
   "cell_type": "code",
   "execution_count": 6,
   "metadata": {},
   "outputs": [],
   "source": [
    "df1 = df1.astype({'PRODUCT_COUNT': int, 'MEMBER_NO': object})"
   ]
  },
  {
   "cell_type": "code",
   "execution_count": 7,
   "metadata": {},
   "outputs": [
    {
     "data": {
      "text/html": [
       "<div>\n",
       "<style scoped>\n",
       "    .dataframe tbody tr th:only-of-type {\n",
       "        vertical-align: middle;\n",
       "    }\n",
       "\n",
       "    .dataframe tbody tr th {\n",
       "        vertical-align: top;\n",
       "    }\n",
       "\n",
       "    .dataframe thead th {\n",
       "        text-align: right;\n",
       "    }\n",
       "</style>\n",
       "<table border=\"1\" class=\"dataframe\">\n",
       "  <thead>\n",
       "    <tr style=\"text-align: right;\">\n",
       "      <th></th>\n",
       "      <th>USERID</th>\n",
       "      <th>MEMBER_NO</th>\n",
       "      <th>AGE</th>\n",
       "      <th>GENDER</th>\n",
       "      <th>FAMILY_NM</th>\n",
       "      <th>PRODUCT_CODE</th>\n",
       "      <th>PRM_PRODUCT_CODE</th>\n",
       "      <th>PRODUCT_NAME</th>\n",
       "      <th>ORG_PRICE</th>\n",
       "      <th>SALE_PRICE</th>\n",
       "      <th>PRODUCT_COUNT</th>\n",
       "      <th>SALE_AMT</th>\n",
       "      <th>PAY_DATE</th>\n",
       "    </tr>\n",
       "  </thead>\n",
       "  <tbody>\n",
       "    <tr>\n",
       "      <th>67983</th>\n",
       "      <td>seedintears</td>\n",
       "      <td>4685771</td>\n",
       "      <td>41.0</td>\n",
       "      <td>F</td>\n",
       "      <td>매일두유</td>\n",
       "      <td>P00142</td>\n",
       "      <td>104152</td>\n",
       "      <td>매일두유 초콜릿 190ml*24팩</td>\n",
       "      <td>19200</td>\n",
       "      <td>15200</td>\n",
       "      <td>1</td>\n",
       "      <td>15200</td>\n",
       "      <td>2020-07-08</td>\n",
       "    </tr>\n",
       "    <tr>\n",
       "      <th>67984</th>\n",
       "      <td>youee81</td>\n",
       "      <td>5959829</td>\n",
       "      <td>39.0</td>\n",
       "      <td>F</td>\n",
       "      <td>상하슬로우키친</td>\n",
       "      <td>P00333</td>\n",
       "      <td>None</td>\n",
       "      <td>상하목장 슬로우키친 카레 비프*3개/치킨스프*3개</td>\n",
       "      <td>17800</td>\n",
       "      <td>17800</td>\n",
       "      <td>1</td>\n",
       "      <td>17800</td>\n",
       "      <td>2020-07-08</td>\n",
       "    </tr>\n",
       "    <tr>\n",
       "      <th>67985</th>\n",
       "      <td>glory1221</td>\n",
       "      <td>4949487</td>\n",
       "      <td>37.0</td>\n",
       "      <td>F</td>\n",
       "      <td>매일두유</td>\n",
       "      <td>P00145</td>\n",
       "      <td>104154</td>\n",
       "      <td>매일두유 99.89 190mL*24</td>\n",
       "      <td>19200</td>\n",
       "      <td>15200</td>\n",
       "      <td>1</td>\n",
       "      <td>15200</td>\n",
       "      <td>2020-07-08</td>\n",
       "    </tr>\n",
       "  </tbody>\n",
       "</table>\n",
       "</div>"
      ],
      "text/plain": [
       "            USERID MEMBER_NO   AGE GENDER FAMILY_NM PRODUCT_CODE  \\\n",
       "67983  seedintears   4685771  41.0      F      매일두유       P00142   \n",
       "67984      youee81   5959829  39.0      F   상하슬로우키친       P00333   \n",
       "67985    glory1221   4949487  37.0      F      매일두유       P00145   \n",
       "\n",
       "      PRM_PRODUCT_CODE                 PRODUCT_NAME  ORG_PRICE  SALE_PRICE  \\\n",
       "67983           104152           매일두유 초콜릿 190ml*24팩      19200       15200   \n",
       "67984             None  상하목장 슬로우키친 카레 비프*3개/치킨스프*3개      17800       17800   \n",
       "67985           104154          매일두유 99.89 190mL*24      19200       15200   \n",
       "\n",
       "       PRODUCT_COUNT  SALE_AMT    PAY_DATE  \n",
       "67983              1     15200  2020-07-08  \n",
       "67984              1     17800  2020-07-08  \n",
       "67985              1     15200  2020-07-08  "
      ]
     },
     "execution_count": 7,
     "metadata": {},
     "output_type": "execute_result"
    }
   ],
   "source": [
    "df1.tail(3)"
   ]
  },
  {
   "cell_type": "code",
   "execution_count": 8,
   "metadata": {},
   "outputs": [],
   "source": [
    "df1_simple = df1[['MEMBER_NO', 'PRM_PRODUCT_CODE', 'PRODUCT_COUNT']].dropna()"
   ]
  },
  {
   "cell_type": "code",
   "execution_count": null,
   "metadata": {},
   "outputs": [],
   "source": []
  },
  {
   "cell_type": "code",
   "execution_count": 9,
   "metadata": {},
   "outputs": [
    {
     "name": "stdout",
     "output_type": "stream",
     "text": [
      "<class 'pandas.core.frame.DataFrame'>\n",
      "Int64Index: 60604 entries, 0 to 67985\n",
      "Data columns (total 3 columns):\n",
      " #   Column            Non-Null Count  Dtype \n",
      "---  ------            --------------  ----- \n",
      " 0   MEMBER_NO         60604 non-null  object\n",
      " 1   PRM_PRODUCT_CODE  60604 non-null  object\n",
      " 2   PRODUCT_COUNT     60604 non-null  int32 \n",
      "dtypes: int32(1), object(2)\n",
      "memory usage: 1.6+ MB\n"
     ]
    }
   ],
   "source": [
    "df1_simple.info()"
   ]
  },
  {
   "cell_type": "code",
   "execution_count": 9,
   "metadata": {},
   "outputs": [
    {
     "data": {
      "text/html": [
       "<div>\n",
       "<style scoped>\n",
       "    .dataframe tbody tr th:only-of-type {\n",
       "        vertical-align: middle;\n",
       "    }\n",
       "\n",
       "    .dataframe tbody tr th {\n",
       "        vertical-align: top;\n",
       "    }\n",
       "\n",
       "    .dataframe thead th {\n",
       "        text-align: right;\n",
       "    }\n",
       "</style>\n",
       "<table border=\"1\" class=\"dataframe\">\n",
       "  <thead>\n",
       "    <tr style=\"text-align: right;\">\n",
       "      <th></th>\n",
       "      <th>MEMBER_NO</th>\n",
       "      <th>PRM_PRODUCT_CODE</th>\n",
       "      <th>PRODUCT_COUNT</th>\n",
       "    </tr>\n",
       "  </thead>\n",
       "  <tbody>\n",
       "    <tr>\n",
       "      <th>67575</th>\n",
       "      <td>5552473</td>\n",
       "      <td>103776</td>\n",
       "      <td>2</td>\n",
       "    </tr>\n",
       "    <tr>\n",
       "      <th>67576</th>\n",
       "      <td>5955486</td>\n",
       "      <td>103962</td>\n",
       "      <td>1</td>\n",
       "    </tr>\n",
       "    <tr>\n",
       "      <th>67577</th>\n",
       "      <td>5955541</td>\n",
       "      <td>104400</td>\n",
       "      <td>1</td>\n",
       "    </tr>\n",
       "    <tr>\n",
       "      <th>67578</th>\n",
       "      <td>5955563</td>\n",
       "      <td>104410</td>\n",
       "      <td>1</td>\n",
       "    </tr>\n",
       "    <tr>\n",
       "      <th>67580</th>\n",
       "      <td>5598766</td>\n",
       "      <td>104410</td>\n",
       "      <td>1</td>\n",
       "    </tr>\n",
       "  </tbody>\n",
       "</table>\n",
       "</div>"
      ],
      "text/plain": [
       "      MEMBER_NO PRM_PRODUCT_CODE  PRODUCT_COUNT\n",
       "67575   5552473           103776              2\n",
       "67576   5955486           103962              1\n",
       "67577   5955541           104400              1\n",
       "67578   5955563           104410              1\n",
       "67580   5598766           104410              1"
      ]
     },
     "execution_count": 9,
     "metadata": {},
     "output_type": "execute_result"
    }
   ],
   "source": [
    "df1_simple.tail()"
   ]
  },
  {
   "cell_type": "code",
   "execution_count": 10,
   "metadata": {},
   "outputs": [],
   "source": [
    "df_table = pd.crosstab(df1_simple[\"MEMBER_NO\"], df1_simple[\"PRM_PRODUCT_CODE\"],  df1_simple[\"PRODUCT_COUNT\"], aggfunc='sum').fillna(0).sort_values(by ='MEMBER_NO', ascending = True)"
   ]
  },
  {
   "cell_type": "code",
   "execution_count": null,
   "metadata": {},
   "outputs": [],
   "source": []
  },
  {
   "cell_type": "code",
   "execution_count": 11,
   "metadata": {
    "scrolled": false
   },
   "outputs": [
    {
     "data": {
      "text/html": [
       "<div>\n",
       "<style scoped>\n",
       "    .dataframe tbody tr th:only-of-type {\n",
       "        vertical-align: middle;\n",
       "    }\n",
       "\n",
       "    .dataframe tbody tr th {\n",
       "        vertical-align: top;\n",
       "    }\n",
       "\n",
       "    .dataframe thead th {\n",
       "        text-align: right;\n",
       "    }\n",
       "</style>\n",
       "<table border=\"1\" class=\"dataframe\">\n",
       "  <thead>\n",
       "    <tr style=\"text-align: right;\">\n",
       "      <th>PRM_PRODUCT_CODE</th>\n",
       "      <th>101200</th>\n",
       "      <th>101348</th>\n",
       "      <th>101352</th>\n",
       "      <th>101556</th>\n",
       "      <th>101557</th>\n",
       "      <th>101558</th>\n",
       "      <th>101600</th>\n",
       "      <th>102025</th>\n",
       "      <th>102080</th>\n",
       "      <th>102081</th>\n",
       "      <th>...</th>\n",
       "      <th>106035</th>\n",
       "      <th>106054</th>\n",
       "      <th>106055</th>\n",
       "      <th>106093</th>\n",
       "      <th>201826</th>\n",
       "      <th>203567</th>\n",
       "      <th>203568</th>\n",
       "      <th>910516</th>\n",
       "      <th>910577</th>\n",
       "      <th>a107</th>\n",
       "    </tr>\n",
       "    <tr>\n",
       "      <th>MEMBER_NO</th>\n",
       "      <th></th>\n",
       "      <th></th>\n",
       "      <th></th>\n",
       "      <th></th>\n",
       "      <th></th>\n",
       "      <th></th>\n",
       "      <th></th>\n",
       "      <th></th>\n",
       "      <th></th>\n",
       "      <th></th>\n",
       "      <th></th>\n",
       "      <th></th>\n",
       "      <th></th>\n",
       "      <th></th>\n",
       "      <th></th>\n",
       "      <th></th>\n",
       "      <th></th>\n",
       "      <th></th>\n",
       "      <th></th>\n",
       "      <th></th>\n",
       "      <th></th>\n",
       "    </tr>\n",
       "  </thead>\n",
       "  <tbody>\n",
       "    <tr>\n",
       "      <th>388823</th>\n",
       "      <td>0.0</td>\n",
       "      <td>0.0</td>\n",
       "      <td>0.0</td>\n",
       "      <td>0.0</td>\n",
       "      <td>0.0</td>\n",
       "      <td>0.0</td>\n",
       "      <td>0.0</td>\n",
       "      <td>0.0</td>\n",
       "      <td>0.0</td>\n",
       "      <td>0.0</td>\n",
       "      <td>...</td>\n",
       "      <td>0.0</td>\n",
       "      <td>0.0</td>\n",
       "      <td>0.0</td>\n",
       "      <td>0.0</td>\n",
       "      <td>0.0</td>\n",
       "      <td>0.0</td>\n",
       "      <td>0.0</td>\n",
       "      <td>0.0</td>\n",
       "      <td>0.0</td>\n",
       "      <td>0.0</td>\n",
       "    </tr>\n",
       "    <tr>\n",
       "      <th>396017</th>\n",
       "      <td>0.0</td>\n",
       "      <td>0.0</td>\n",
       "      <td>0.0</td>\n",
       "      <td>0.0</td>\n",
       "      <td>0.0</td>\n",
       "      <td>0.0</td>\n",
       "      <td>0.0</td>\n",
       "      <td>0.0</td>\n",
       "      <td>0.0</td>\n",
       "      <td>0.0</td>\n",
       "      <td>...</td>\n",
       "      <td>0.0</td>\n",
       "      <td>0.0</td>\n",
       "      <td>0.0</td>\n",
       "      <td>0.0</td>\n",
       "      <td>0.0</td>\n",
       "      <td>0.0</td>\n",
       "      <td>0.0</td>\n",
       "      <td>0.0</td>\n",
       "      <td>0.0</td>\n",
       "      <td>0.0</td>\n",
       "    </tr>\n",
       "    <tr>\n",
       "      <th>396900</th>\n",
       "      <td>0.0</td>\n",
       "      <td>0.0</td>\n",
       "      <td>0.0</td>\n",
       "      <td>0.0</td>\n",
       "      <td>0.0</td>\n",
       "      <td>0.0</td>\n",
       "      <td>0.0</td>\n",
       "      <td>0.0</td>\n",
       "      <td>0.0</td>\n",
       "      <td>0.0</td>\n",
       "      <td>...</td>\n",
       "      <td>0.0</td>\n",
       "      <td>0.0</td>\n",
       "      <td>0.0</td>\n",
       "      <td>0.0</td>\n",
       "      <td>0.0</td>\n",
       "      <td>0.0</td>\n",
       "      <td>0.0</td>\n",
       "      <td>0.0</td>\n",
       "      <td>0.0</td>\n",
       "      <td>0.0</td>\n",
       "    </tr>\n",
       "    <tr>\n",
       "      <th>397622</th>\n",
       "      <td>0.0</td>\n",
       "      <td>0.0</td>\n",
       "      <td>0.0</td>\n",
       "      <td>0.0</td>\n",
       "      <td>0.0</td>\n",
       "      <td>0.0</td>\n",
       "      <td>2.0</td>\n",
       "      <td>0.0</td>\n",
       "      <td>0.0</td>\n",
       "      <td>0.0</td>\n",
       "      <td>...</td>\n",
       "      <td>3.0</td>\n",
       "      <td>2.0</td>\n",
       "      <td>1.0</td>\n",
       "      <td>1.0</td>\n",
       "      <td>0.0</td>\n",
       "      <td>0.0</td>\n",
       "      <td>0.0</td>\n",
       "      <td>0.0</td>\n",
       "      <td>82.0</td>\n",
       "      <td>44.0</td>\n",
       "    </tr>\n",
       "    <tr>\n",
       "      <th>398152</th>\n",
       "      <td>0.0</td>\n",
       "      <td>0.0</td>\n",
       "      <td>0.0</td>\n",
       "      <td>0.0</td>\n",
       "      <td>0.0</td>\n",
       "      <td>0.0</td>\n",
       "      <td>0.0</td>\n",
       "      <td>0.0</td>\n",
       "      <td>0.0</td>\n",
       "      <td>0.0</td>\n",
       "      <td>...</td>\n",
       "      <td>1.0</td>\n",
       "      <td>1.0</td>\n",
       "      <td>3.0</td>\n",
       "      <td>6.0</td>\n",
       "      <td>0.0</td>\n",
       "      <td>0.0</td>\n",
       "      <td>0.0</td>\n",
       "      <td>0.0</td>\n",
       "      <td>56.0</td>\n",
       "      <td>38.0</td>\n",
       "    </tr>\n",
       "    <tr>\n",
       "      <th>...</th>\n",
       "      <td>...</td>\n",
       "      <td>...</td>\n",
       "      <td>...</td>\n",
       "      <td>...</td>\n",
       "      <td>...</td>\n",
       "      <td>...</td>\n",
       "      <td>...</td>\n",
       "      <td>...</td>\n",
       "      <td>...</td>\n",
       "      <td>...</td>\n",
       "      <td>...</td>\n",
       "      <td>...</td>\n",
       "      <td>...</td>\n",
       "      <td>...</td>\n",
       "      <td>...</td>\n",
       "      <td>...</td>\n",
       "      <td>...</td>\n",
       "      <td>...</td>\n",
       "      <td>...</td>\n",
       "      <td>...</td>\n",
       "      <td>...</td>\n",
       "    </tr>\n",
       "    <tr>\n",
       "      <th>5977790</th>\n",
       "      <td>0.0</td>\n",
       "      <td>0.0</td>\n",
       "      <td>0.0</td>\n",
       "      <td>0.0</td>\n",
       "      <td>0.0</td>\n",
       "      <td>0.0</td>\n",
       "      <td>0.0</td>\n",
       "      <td>0.0</td>\n",
       "      <td>0.0</td>\n",
       "      <td>0.0</td>\n",
       "      <td>...</td>\n",
       "      <td>0.0</td>\n",
       "      <td>0.0</td>\n",
       "      <td>0.0</td>\n",
       "      <td>2.0</td>\n",
       "      <td>0.0</td>\n",
       "      <td>0.0</td>\n",
       "      <td>0.0</td>\n",
       "      <td>0.0</td>\n",
       "      <td>0.0</td>\n",
       "      <td>0.0</td>\n",
       "    </tr>\n",
       "    <tr>\n",
       "      <th>5978253</th>\n",
       "      <td>1.0</td>\n",
       "      <td>0.0</td>\n",
       "      <td>0.0</td>\n",
       "      <td>0.0</td>\n",
       "      <td>0.0</td>\n",
       "      <td>0.0</td>\n",
       "      <td>0.0</td>\n",
       "      <td>0.0</td>\n",
       "      <td>0.0</td>\n",
       "      <td>0.0</td>\n",
       "      <td>...</td>\n",
       "      <td>0.0</td>\n",
       "      <td>0.0</td>\n",
       "      <td>0.0</td>\n",
       "      <td>0.0</td>\n",
       "      <td>0.0</td>\n",
       "      <td>0.0</td>\n",
       "      <td>0.0</td>\n",
       "      <td>0.0</td>\n",
       "      <td>0.0</td>\n",
       "      <td>0.0</td>\n",
       "    </tr>\n",
       "    <tr>\n",
       "      <th>5978327</th>\n",
       "      <td>0.0</td>\n",
       "      <td>0.0</td>\n",
       "      <td>0.0</td>\n",
       "      <td>0.0</td>\n",
       "      <td>0.0</td>\n",
       "      <td>0.0</td>\n",
       "      <td>0.0</td>\n",
       "      <td>0.0</td>\n",
       "      <td>0.0</td>\n",
       "      <td>0.0</td>\n",
       "      <td>...</td>\n",
       "      <td>0.0</td>\n",
       "      <td>0.0</td>\n",
       "      <td>0.0</td>\n",
       "      <td>0.0</td>\n",
       "      <td>0.0</td>\n",
       "      <td>0.0</td>\n",
       "      <td>0.0</td>\n",
       "      <td>0.0</td>\n",
       "      <td>0.0</td>\n",
       "      <td>0.0</td>\n",
       "    </tr>\n",
       "    <tr>\n",
       "      <th>5978479</th>\n",
       "      <td>0.0</td>\n",
       "      <td>1.0</td>\n",
       "      <td>0.0</td>\n",
       "      <td>0.0</td>\n",
       "      <td>0.0</td>\n",
       "      <td>0.0</td>\n",
       "      <td>0.0</td>\n",
       "      <td>0.0</td>\n",
       "      <td>0.0</td>\n",
       "      <td>0.0</td>\n",
       "      <td>...</td>\n",
       "      <td>0.0</td>\n",
       "      <td>0.0</td>\n",
       "      <td>0.0</td>\n",
       "      <td>0.0</td>\n",
       "      <td>0.0</td>\n",
       "      <td>1.0</td>\n",
       "      <td>0.0</td>\n",
       "      <td>0.0</td>\n",
       "      <td>0.0</td>\n",
       "      <td>0.0</td>\n",
       "    </tr>\n",
       "    <tr>\n",
       "      <th>5978719</th>\n",
       "      <td>0.0</td>\n",
       "      <td>0.0</td>\n",
       "      <td>0.0</td>\n",
       "      <td>0.0</td>\n",
       "      <td>0.0</td>\n",
       "      <td>0.0</td>\n",
       "      <td>0.0</td>\n",
       "      <td>0.0</td>\n",
       "      <td>0.0</td>\n",
       "      <td>0.0</td>\n",
       "      <td>...</td>\n",
       "      <td>0.0</td>\n",
       "      <td>0.0</td>\n",
       "      <td>0.0</td>\n",
       "      <td>0.0</td>\n",
       "      <td>0.0</td>\n",
       "      <td>0.0</td>\n",
       "      <td>0.0</td>\n",
       "      <td>0.0</td>\n",
       "      <td>0.0</td>\n",
       "      <td>0.0</td>\n",
       "    </tr>\n",
       "  </tbody>\n",
       "</table>\n",
       "<p>26913 rows × 176 columns</p>\n",
       "</div>"
      ],
      "text/plain": [
       "PRM_PRODUCT_CODE  101200  101348  101352  101556  101557  101558  101600  \\\n",
       "MEMBER_NO                                                                  \n",
       "388823               0.0     0.0     0.0     0.0     0.0     0.0     0.0   \n",
       "396017               0.0     0.0     0.0     0.0     0.0     0.0     0.0   \n",
       "396900               0.0     0.0     0.0     0.0     0.0     0.0     0.0   \n",
       "397622               0.0     0.0     0.0     0.0     0.0     0.0     2.0   \n",
       "398152               0.0     0.0     0.0     0.0     0.0     0.0     0.0   \n",
       "...                  ...     ...     ...     ...     ...     ...     ...   \n",
       "5977790              0.0     0.0     0.0     0.0     0.0     0.0     0.0   \n",
       "5978253              1.0     0.0     0.0     0.0     0.0     0.0     0.0   \n",
       "5978327              0.0     0.0     0.0     0.0     0.0     0.0     0.0   \n",
       "5978479              0.0     1.0     0.0     0.0     0.0     0.0     0.0   \n",
       "5978719              0.0     0.0     0.0     0.0     0.0     0.0     0.0   \n",
       "\n",
       "PRM_PRODUCT_CODE  102025  102080  102081  ...  106035  106054  106055  106093  \\\n",
       "MEMBER_NO                                 ...                                   \n",
       "388823               0.0     0.0     0.0  ...     0.0     0.0     0.0     0.0   \n",
       "396017               0.0     0.0     0.0  ...     0.0     0.0     0.0     0.0   \n",
       "396900               0.0     0.0     0.0  ...     0.0     0.0     0.0     0.0   \n",
       "397622               0.0     0.0     0.0  ...     3.0     2.0     1.0     1.0   \n",
       "398152               0.0     0.0     0.0  ...     1.0     1.0     3.0     6.0   \n",
       "...                  ...     ...     ...  ...     ...     ...     ...     ...   \n",
       "5977790              0.0     0.0     0.0  ...     0.0     0.0     0.0     2.0   \n",
       "5978253              0.0     0.0     0.0  ...     0.0     0.0     0.0     0.0   \n",
       "5978327              0.0     0.0     0.0  ...     0.0     0.0     0.0     0.0   \n",
       "5978479              0.0     0.0     0.0  ...     0.0     0.0     0.0     0.0   \n",
       "5978719              0.0     0.0     0.0  ...     0.0     0.0     0.0     0.0   \n",
       "\n",
       "PRM_PRODUCT_CODE  201826  203567  203568  910516  910577  a107  \n",
       "MEMBER_NO                                                       \n",
       "388823               0.0     0.0     0.0     0.0     0.0   0.0  \n",
       "396017               0.0     0.0     0.0     0.0     0.0   0.0  \n",
       "396900               0.0     0.0     0.0     0.0     0.0   0.0  \n",
       "397622               0.0     0.0     0.0     0.0    82.0  44.0  \n",
       "398152               0.0     0.0     0.0     0.0    56.0  38.0  \n",
       "...                  ...     ...     ...     ...     ...   ...  \n",
       "5977790              0.0     0.0     0.0     0.0     0.0   0.0  \n",
       "5978253              0.0     0.0     0.0     0.0     0.0   0.0  \n",
       "5978327              0.0     0.0     0.0     0.0     0.0   0.0  \n",
       "5978479              0.0     1.0     0.0     0.0     0.0   0.0  \n",
       "5978719              0.0     0.0     0.0     0.0     0.0   0.0  \n",
       "\n",
       "[26913 rows x 176 columns]"
      ]
     },
     "execution_count": 11,
     "metadata": {},
     "output_type": "execute_result"
    }
   ],
   "source": [
    "df_table"
   ]
  },
  {
   "cell_type": "code",
   "execution_count": null,
   "metadata": {},
   "outputs": [],
   "source": []
  },
  {
   "cell_type": "code",
   "execution_count": null,
   "metadata": {},
   "outputs": [],
   "source": []
  },
  {
   "cell_type": "code",
   "execution_count": null,
   "metadata": {},
   "outputs": [],
   "source": []
  },
  {
   "cell_type": "markdown",
   "metadata": {},
   "source": [
    "### 2.Matrix Factorization : SDV 적용"
   ]
  },
  {
   "cell_type": "code",
   "execution_count": 12,
   "metadata": {},
   "outputs": [],
   "source": [
    "df_array_user = df_table.values\n",
    "df_array_category = df_table.T.values\n",
    "\n",
    "from sklearn.decomposition import TruncatedSVD\n",
    "\n",
    "# 차원축소\n",
    "SVD = TruncatedSVD(n_components=12)\n",
    "SVD_matrix_user = SVD.fit_transform(df_array_user)\n",
    "SVD_matrix_category = SVD.fit_transform(df_array_category)\n",
    "# SVD_matrix.shape\n",
    "\n",
    "# 상관관계\n",
    "corr_SVD_user = np.corrcoef(SVD_matrix_user)\n",
    "corr_SVD_category = np.corrcoef(SVD_matrix_category)\n",
    "# corr_SVD_user.shape"
   ]
  },
  {
   "cell_type": "code",
   "execution_count": 13,
   "metadata": {},
   "outputs": [
    {
     "data": {
      "text/plain": [
       "((26913, 26913), (176, 176))"
      ]
     },
     "execution_count": 13,
     "metadata": {},
     "output_type": "execute_result"
    }
   ],
   "source": [
    "#자료 확인\n",
    "corr_SVD_user.shape, corr_SVD_category.shape"
   ]
  },
  {
   "cell_type": "code",
   "execution_count": 14,
   "metadata": {},
   "outputs": [],
   "source": [
    "df_svd_preds = pd.DataFrame(corr_SVD_user)"
   ]
  },
  {
   "cell_type": "code",
   "execution_count": 15,
   "metadata": {},
   "outputs": [
    {
     "data": {
      "text/html": [
       "<div>\n",
       "<style scoped>\n",
       "    .dataframe tbody tr th:only-of-type {\n",
       "        vertical-align: middle;\n",
       "    }\n",
       "\n",
       "    .dataframe tbody tr th {\n",
       "        vertical-align: top;\n",
       "    }\n",
       "\n",
       "    .dataframe thead th {\n",
       "        text-align: right;\n",
       "    }\n",
       "</style>\n",
       "<table border=\"1\" class=\"dataframe\">\n",
       "  <thead>\n",
       "    <tr style=\"text-align: right;\">\n",
       "      <th></th>\n",
       "      <th>0</th>\n",
       "      <th>1</th>\n",
       "      <th>2</th>\n",
       "      <th>3</th>\n",
       "      <th>4</th>\n",
       "      <th>5</th>\n",
       "      <th>6</th>\n",
       "      <th>7</th>\n",
       "      <th>8</th>\n",
       "      <th>9</th>\n",
       "      <th>...</th>\n",
       "      <th>26903</th>\n",
       "      <th>26904</th>\n",
       "      <th>26905</th>\n",
       "      <th>26906</th>\n",
       "      <th>26907</th>\n",
       "      <th>26908</th>\n",
       "      <th>26909</th>\n",
       "      <th>26910</th>\n",
       "      <th>26911</th>\n",
       "      <th>26912</th>\n",
       "    </tr>\n",
       "  </thead>\n",
       "  <tbody>\n",
       "    <tr>\n",
       "      <th>0</th>\n",
       "      <td>1.0</td>\n",
       "      <td>1.0</td>\n",
       "      <td>0.989819</td>\n",
       "      <td>0.994017</td>\n",
       "      <td>0.999181</td>\n",
       "      <td>1.0</td>\n",
       "      <td>-0.182928</td>\n",
       "      <td>-0.107779</td>\n",
       "      <td>1.0</td>\n",
       "      <td>-0.087444</td>\n",
       "      <td>...</td>\n",
       "      <td>-0.076035</td>\n",
       "      <td>0.019784</td>\n",
       "      <td>-0.062243</td>\n",
       "      <td>-0.093921</td>\n",
       "      <td>-0.069293</td>\n",
       "      <td>0.335441</td>\n",
       "      <td>-0.092598</td>\n",
       "      <td>-0.063869</td>\n",
       "      <td>-0.060513</td>\n",
       "      <td>-0.083556</td>\n",
       "    </tr>\n",
       "    <tr>\n",
       "      <th>1</th>\n",
       "      <td>1.0</td>\n",
       "      <td>1.0</td>\n",
       "      <td>0.989819</td>\n",
       "      <td>0.994017</td>\n",
       "      <td>0.999181</td>\n",
       "      <td>1.0</td>\n",
       "      <td>-0.182928</td>\n",
       "      <td>-0.107779</td>\n",
       "      <td>1.0</td>\n",
       "      <td>-0.087444</td>\n",
       "      <td>...</td>\n",
       "      <td>-0.076035</td>\n",
       "      <td>0.019784</td>\n",
       "      <td>-0.062243</td>\n",
       "      <td>-0.093921</td>\n",
       "      <td>-0.069293</td>\n",
       "      <td>0.335441</td>\n",
       "      <td>-0.092598</td>\n",
       "      <td>-0.063869</td>\n",
       "      <td>-0.060513</td>\n",
       "      <td>-0.083556</td>\n",
       "    </tr>\n",
       "  </tbody>\n",
       "</table>\n",
       "<p>2 rows × 26913 columns</p>\n",
       "</div>"
      ],
      "text/plain": [
       "   0      1         2         3         4      5         6         7      \\\n",
       "0    1.0    1.0  0.989819  0.994017  0.999181    1.0 -0.182928 -0.107779   \n",
       "1    1.0    1.0  0.989819  0.994017  0.999181    1.0 -0.182928 -0.107779   \n",
       "\n",
       "   8         9      ...     26903     26904     26905     26906     26907  \\\n",
       "0    1.0 -0.087444  ... -0.076035  0.019784 -0.062243 -0.093921 -0.069293   \n",
       "1    1.0 -0.087444  ... -0.076035  0.019784 -0.062243 -0.093921 -0.069293   \n",
       "\n",
       "      26908     26909     26910     26911     26912  \n",
       "0  0.335441 -0.092598 -0.063869 -0.060513 -0.083556  \n",
       "1  0.335441 -0.092598 -0.063869 -0.060513 -0.083556  \n",
       "\n",
       "[2 rows x 26913 columns]"
      ]
     },
     "execution_count": 15,
     "metadata": {},
     "output_type": "execute_result"
    }
   ],
   "source": [
    "# 중간점검\n",
    "df_svd_preds.head(2)"
   ]
  },
  {
   "cell_type": "code",
   "execution_count": 17,
   "metadata": {},
   "outputs": [],
   "source": [
    "indices = pd.Series(df_table.index, index=df_svd_preds.index).drop_duplicates()\n",
    "df_indices = pd.DataFrame(indices).reset_index()\n",
    "df_indices = df_indices.rename(columns = {'index' : 'userId'})\n",
    "\n",
    "target = list(df_indices['userId'])"
   ]
  },
  {
   "cell_type": "code",
   "execution_count": 18,
   "metadata": {},
   "outputs": [],
   "source": []
  },
  {
   "cell_type": "code",
   "execution_count": null,
   "metadata": {},
   "outputs": [],
   "source": []
  },
  {
   "cell_type": "code",
   "execution_count": 19,
   "metadata": {},
   "outputs": [
    {
     "name": "stdout",
     "output_type": "stream",
     "text": [
      "Wall time: 1h 9min 40s\n"
     ]
    }
   ],
   "source": [
    "%%time \n",
    "\n",
    "df_indices_result =[]\n",
    "\n",
    "for i in range(0, len(target)):\n",
    "    # 개인을 선택\n",
    "    user_row_number = i\n",
    "\n",
    "    # 선택한 개인의 회원번호\n",
    "    userId = indices.loc[user_row_number]\n",
    "\n",
    "    # 유사 인원에 대한 정렬\n",
    "    sorted_user_predictions = df_svd_preds[user_row_number].sort_values(ascending = False)\n",
    "    sorted_user_predictions = pd.DataFrame(sorted_user_predictions).reset_index()\n",
    "    sorted_user_predictions = sorted_user_predictions.rename(columns = {'index' : 'userId', 1 : 'Predictions'})\n",
    "\n",
    "    #구매 내용에서, 해당고객 추출(ex. 0-> 5369763)\n",
    "    user_data = df1_simple[df1_simple.MEMBER_NO == userId]\n",
    "    user_history = pd.DataFrame(user_data.groupby(['MEMBER_NO', 'PRM_PRODUCT_CODE'])['PRODUCT_COUNT'].sum().reset_index())\n",
    "\n",
    "    # 구매한 제품은 제외\n",
    "    recommandations = df1_simple[~df1_simple['PRM_PRODUCT_CODE'].isin(user_history['PRM_PRODUCT_CODE'])]\n",
    "\n",
    "    # 제품과 유사도 내용을 합친다\n",
    "    recommandations = recommandations.merge(df_indices, on ='MEMBER_NO')\n",
    "    recommandations = recommandations.merge(sorted_user_predictions, on ='userId').rename(columns = {'index' : 'userId', i : 'Predictions'})\n",
    "    recommandations = recommandations.sort_values(by ='Predictions', ascending = False)\n",
    "\n",
    "    #제품별 중복 제거\n",
    "    recommandations = recommandations[['PRM_PRODUCT_CODE']].drop_duplicates(['PRM_PRODUCT_CODE'])[:3]\n",
    "    recommandations = recommandations.T.values\n",
    "\n",
    "    #3개 제품만 선택\n",
    "#     recommandations = recommandations[['CATEGORY_CODE']].drop_duplicates(['CATEGORY_CODE'])[:3]\n",
    "    df_indices_result.append(recommandations)"
   ]
  },
  {
   "cell_type": "code",
   "execution_count": 20,
   "metadata": {},
   "outputs": [
    {
     "name": "stderr",
     "output_type": "stream",
     "text": [
      "C:\\ProgramData\\Anaconda3\\lib\\site-packages\\ipykernel_launcher.py:3: SettingWithCopyWarning: \n",
      "A value is trying to be set on a copy of a slice from a DataFrame\n",
      "\n",
      "See the caveats in the documentation: https://pandas.pydata.org/pandas-docs/stable/user_guide/indexing.html#returning-a-view-versus-a-copy\n",
      "  This is separate from the ipykernel package so we can avoid doing imports until\n"
     ]
    }
   ],
   "source": [
    "df_indices['RECOMMEND'] =''\n",
    "for i in range(0, len(df_indices_result)):\n",
    "    df_indices['RECOMMEND'][i] = df_indices_result[i]"
   ]
  },
  {
   "cell_type": "code",
   "execution_count": 21,
   "metadata": {},
   "outputs": [],
   "source": [
    "df_indices_SDV = df_indices"
   ]
  },
  {
   "cell_type": "code",
   "execution_count": 22,
   "metadata": {},
   "outputs": [
    {
     "data": {
      "text/html": [
       "<div>\n",
       "<style scoped>\n",
       "    .dataframe tbody tr th:only-of-type {\n",
       "        vertical-align: middle;\n",
       "    }\n",
       "\n",
       "    .dataframe tbody tr th {\n",
       "        vertical-align: top;\n",
       "    }\n",
       "\n",
       "    .dataframe thead th {\n",
       "        text-align: right;\n",
       "    }\n",
       "</style>\n",
       "<table border=\"1\" class=\"dataframe\">\n",
       "  <thead>\n",
       "    <tr style=\"text-align: right;\">\n",
       "      <th></th>\n",
       "      <th>userId</th>\n",
       "      <th>MEMBER_NO</th>\n",
       "      <th>RECOMMEND</th>\n",
       "    </tr>\n",
       "  </thead>\n",
       "  <tbody>\n",
       "    <tr>\n",
       "      <th>26908</th>\n",
       "      <td>26908</td>\n",
       "      <td>5977790</td>\n",
       "      <td>[[105781, 106013, 104400]]</td>\n",
       "    </tr>\n",
       "    <tr>\n",
       "      <th>26909</th>\n",
       "      <td>26909</td>\n",
       "      <td>5978253</td>\n",
       "      <td>[[105463, 105901, 104113]]</td>\n",
       "    </tr>\n",
       "    <tr>\n",
       "      <th>26910</th>\n",
       "      <td>26910</td>\n",
       "      <td>5978327</td>\n",
       "      <td>[[105651, 103622, 104840]]</td>\n",
       "    </tr>\n",
       "    <tr>\n",
       "      <th>26911</th>\n",
       "      <td>26911</td>\n",
       "      <td>5978479</td>\n",
       "      <td>[[104412, 104646, 104864]]</td>\n",
       "    </tr>\n",
       "    <tr>\n",
       "      <th>26912</th>\n",
       "      <td>26912</td>\n",
       "      <td>5978719</td>\n",
       "      <td>[[103739, 105622, 105567]]</td>\n",
       "    </tr>\n",
       "  </tbody>\n",
       "</table>\n",
       "</div>"
      ],
      "text/plain": [
       "       userId  MEMBER_NO                   RECOMMEND\n",
       "26908   26908    5977790  [[105781, 106013, 104400]]\n",
       "26909   26909    5978253  [[105463, 105901, 104113]]\n",
       "26910   26910    5978327  [[105651, 103622, 104840]]\n",
       "26911   26911    5978479  [[104412, 104646, 104864]]\n",
       "26912   26912    5978719  [[103739, 105622, 105567]]"
      ]
     },
     "execution_count": 22,
     "metadata": {},
     "output_type": "execute_result"
    }
   ],
   "source": [
    "df_indices_SDV.tail()"
   ]
  },
  {
   "cell_type": "code",
   "execution_count": null,
   "metadata": {},
   "outputs": [],
   "source": []
  },
  {
   "cell_type": "code",
   "execution_count": null,
   "metadata": {},
   "outputs": [],
   "source": []
  },
  {
   "cell_type": "markdown",
   "metadata": {},
   "source": [
    "### 3.Matrix Factorization : PCA 적용"
   ]
  },
  {
   "cell_type": "code",
   "execution_count": 23,
   "metadata": {},
   "outputs": [],
   "source": [
    "df_array_user = df_table.values\n",
    "df_array_category = df_table.T.values\n",
    "\n",
    "from sklearn.decomposition import PCA\n",
    "\n",
    "# 차원축소\n",
    "PCA = PCA(n_components=12)\n",
    "PCA_matrix_user = PCA.fit_transform(df_array_user)\n",
    "PCA_matrix_category = PCA.fit_transform(df_array_category)\n",
    "# SVD_matrix.shape\n",
    "\n",
    "# 상관관계\n",
    "corr_PCA_user = np.corrcoef(PCA_matrix_user)\n",
    "corr_PCA_category = np.corrcoef(PCA_matrix_category)\n",
    "# corr_SVD_user.shape\n",
    "\n",
    "df_pca_preds = pd.DataFrame(corr_PCA_user)\n",
    "\n",
    "indices = pd.Series(df_table.index, index=df_pca_preds.index).drop_duplicates()\n",
    "df_indices = pd.DataFrame(indices).reset_index()\n",
    "df_indices = df_indices.rename(columns = {'index' : 'userId'})\n",
    "\n",
    "target = list(df_indices['userId'])"
   ]
  },
  {
   "cell_type": "code",
   "execution_count": 24,
   "metadata": {},
   "outputs": [
    {
     "name": "stdout",
     "output_type": "stream",
     "text": [
      "Wall time: 1h 40min 13s\n"
     ]
    }
   ],
   "source": [
    "%%time \n",
    "\n",
    "df_indices_result =[]\n",
    "\n",
    "for i in range(0, len(target)):\n",
    "    # 개인을 선택\n",
    "    user_row_number = i\n",
    "\n",
    "    # 선택한 개인의 회원번호\n",
    "    userId = indices.loc[user_row_number]\n",
    "\n",
    "    # 유사 인원에 대한 정렬\n",
    "    sorted_user_predictions = df_pca_preds[user_row_number].sort_values(ascending = False)\n",
    "    sorted_user_predictions = pd.DataFrame(sorted_user_predictions).reset_index()\n",
    "    sorted_user_predictions = sorted_user_predictions.rename(columns = {'index' : 'userId', 1 : 'Predictions'})\n",
    "\n",
    "    #구매 내용에서, 해당고객 추출(ex. 0-> 5369763)\n",
    "    user_data = df1_simple[df1_simple.MEMBER_NO == userId]\n",
    "    user_history = pd.DataFrame(user_data.groupby(['MEMBER_NO', 'PRM_PRODUCT_CODE'])['PRODUCT_COUNT'].sum().reset_index())\n",
    "\n",
    "    # 구매한 제품은 제외\n",
    "    recommandations = df1_simple[~df1_simple['PRM_PRODUCT_CODE'].isin(user_history['PRM_PRODUCT_CODE'])]\n",
    "\n",
    "    # 제품과 유사도 내용을 합친다\n",
    "    recommandations = recommandations.merge(df_indices, on ='MEMBER_NO')\n",
    "    recommandations = recommandations.merge(sorted_user_predictions, on ='userId').rename(columns = {'index' : 'userId', i : 'Predictions'})\n",
    "    recommandations = recommandations.sort_values(by ='Predictions', ascending = False)\n",
    "\n",
    "    #제품별 중복 제거\n",
    "    recommandations = recommandations[['PRM_PRODUCT_CODE']].drop_duplicates(['PRM_PRODUCT_CODE'])[:3]\n",
    "    recommandations = recommandations.T.values\n",
    "\n",
    "    #3개 제품만 선택\n",
    "#     recommandations = recommandations[['CATEGORY_CODE']].drop_duplicates(['CATEGORY_CODE'])[:3]\n",
    "    df_indices_result.append(recommandations)"
   ]
  },
  {
   "cell_type": "code",
   "execution_count": 25,
   "metadata": {},
   "outputs": [
    {
     "name": "stderr",
     "output_type": "stream",
     "text": [
      "C:\\ProgramData\\Anaconda3\\lib\\site-packages\\ipykernel_launcher.py:3: SettingWithCopyWarning: \n",
      "A value is trying to be set on a copy of a slice from a DataFrame\n",
      "\n",
      "See the caveats in the documentation: https://pandas.pydata.org/pandas-docs/stable/user_guide/indexing.html#returning-a-view-versus-a-copy\n",
      "  This is separate from the ipykernel package so we can avoid doing imports until\n"
     ]
    }
   ],
   "source": [
    "df_indices['RECOMMEND'] =''\n",
    "for i in range(0, len(df_indices_result)):\n",
    "    df_indices['RECOMMEND'][i] = df_indices_result[i]"
   ]
  },
  {
   "cell_type": "code",
   "execution_count": 26,
   "metadata": {},
   "outputs": [],
   "source": [
    "df_indices_PCA = df_indices"
   ]
  },
  {
   "cell_type": "code",
   "execution_count": 67,
   "metadata": {},
   "outputs": [
    {
     "data": {
      "text/html": [
       "<div>\n",
       "<style scoped>\n",
       "    .dataframe tbody tr th:only-of-type {\n",
       "        vertical-align: middle;\n",
       "    }\n",
       "\n",
       "    .dataframe tbody tr th {\n",
       "        vertical-align: top;\n",
       "    }\n",
       "\n",
       "    .dataframe thead th {\n",
       "        text-align: right;\n",
       "    }\n",
       "</style>\n",
       "<table border=\"1\" class=\"dataframe\">\n",
       "  <thead>\n",
       "    <tr style=\"text-align: right;\">\n",
       "      <th></th>\n",
       "      <th>userId</th>\n",
       "      <th>MEMBER_NO</th>\n",
       "      <th>RECOMMEND</th>\n",
       "    </tr>\n",
       "  </thead>\n",
       "  <tbody>\n",
       "    <tr>\n",
       "      <th>26908</th>\n",
       "      <td>26908</td>\n",
       "      <td>5977790</td>\n",
       "      <td>[[105053, 910516, 105051]]</td>\n",
       "    </tr>\n",
       "    <tr>\n",
       "      <th>26909</th>\n",
       "      <td>26909</td>\n",
       "      <td>5978253</td>\n",
       "      <td>[[103578, 105724, 104646]]</td>\n",
       "    </tr>\n",
       "    <tr>\n",
       "      <th>26910</th>\n",
       "      <td>26910</td>\n",
       "      <td>5978327</td>\n",
       "      <td>[[103622, 104840, 105621]]</td>\n",
       "    </tr>\n",
       "    <tr>\n",
       "      <th>26911</th>\n",
       "      <td>26911</td>\n",
       "      <td>5978479</td>\n",
       "      <td>[[105379, 105463, 103231]]</td>\n",
       "    </tr>\n",
       "    <tr>\n",
       "      <th>26912</th>\n",
       "      <td>26912</td>\n",
       "      <td>5978719</td>\n",
       "      <td>[[105621, 104650, 105622]]</td>\n",
       "    </tr>\n",
       "  </tbody>\n",
       "</table>\n",
       "</div>"
      ],
      "text/plain": [
       "       userId  MEMBER_NO                   RECOMMEND\n",
       "26908   26908    5977790  [[105053, 910516, 105051]]\n",
       "26909   26909    5978253  [[103578, 105724, 104646]]\n",
       "26910   26910    5978327  [[103622, 104840, 105621]]\n",
       "26911   26911    5978479  [[105379, 105463, 103231]]\n",
       "26912   26912    5978719  [[105621, 104650, 105622]]"
      ]
     },
     "execution_count": 67,
     "metadata": {},
     "output_type": "execute_result"
    }
   ],
   "source": [
    "df_indices.tail()"
   ]
  },
  {
   "cell_type": "code",
   "execution_count": 37,
   "metadata": {},
   "outputs": [],
   "source": [
    "df_indices2 = df_indices.copy()"
   ]
  },
  {
   "cell_type": "code",
   "execution_count": 95,
   "metadata": {},
   "outputs": [
    {
     "data": {
      "text/plain": [
       "array(['105645', '910516', '106035'], dtype=object)"
      ]
     },
     "execution_count": 95,
     "metadata": {},
     "output_type": "execute_result"
    }
   ],
   "source": [
    "df_indices2.RECOMMEND[0][0]"
   ]
  },
  {
   "cell_type": "code",
   "execution_count": 73,
   "metadata": {},
   "outputs": [
    {
     "ename": "AttributeError",
     "evalue": "'Series' object has no attribute 'split'",
     "output_type": "error",
     "traceback": [
      "\u001b[1;31m---------------------------------------------------------------------------\u001b[0m",
      "\u001b[1;31mAttributeError\u001b[0m                            Traceback (most recent call last)",
      "\u001b[1;32m<ipython-input-73-4439ef74281d>\u001b[0m in \u001b[0;36m<module>\u001b[1;34m\u001b[0m\n\u001b[1;32m----> 1\u001b[1;33m \u001b[0mdf_indices2\u001b[0m\u001b[1;33m.\u001b[0m\u001b[0mRECOMMEND\u001b[0m\u001b[1;33m.\u001b[0m\u001b[0msplit\u001b[0m\u001b[1;33m(\u001b[0m\u001b[1;34m','\u001b[0m\u001b[1;33m,\u001b[0m\u001b[0mexpand\u001b[0m\u001b[1;33m=\u001b[0m\u001b[1;32mTrue\u001b[0m\u001b[1;33m,\u001b[0m\u001b[1;33m)\u001b[0m\u001b[1;33m\u001b[0m\u001b[1;33m\u001b[0m\u001b[0m\n\u001b[0m",
      "\u001b[1;32mC:\\ProgramData\\Anaconda3\\lib\\site-packages\\pandas\\core\\generic.py\u001b[0m in \u001b[0;36m__getattr__\u001b[1;34m(self, name)\u001b[0m\n\u001b[0;32m   5272\u001b[0m             \u001b[1;32mif\u001b[0m \u001b[0mself\u001b[0m\u001b[1;33m.\u001b[0m\u001b[0m_info_axis\u001b[0m\u001b[1;33m.\u001b[0m\u001b[0m_can_hold_identifiers_and_holds_name\u001b[0m\u001b[1;33m(\u001b[0m\u001b[0mname\u001b[0m\u001b[1;33m)\u001b[0m\u001b[1;33m:\u001b[0m\u001b[1;33m\u001b[0m\u001b[1;33m\u001b[0m\u001b[0m\n\u001b[0;32m   5273\u001b[0m                 \u001b[1;32mreturn\u001b[0m \u001b[0mself\u001b[0m\u001b[1;33m[\u001b[0m\u001b[0mname\u001b[0m\u001b[1;33m]\u001b[0m\u001b[1;33m\u001b[0m\u001b[1;33m\u001b[0m\u001b[0m\n\u001b[1;32m-> 5274\u001b[1;33m             \u001b[1;32mreturn\u001b[0m \u001b[0mobject\u001b[0m\u001b[1;33m.\u001b[0m\u001b[0m__getattribute__\u001b[0m\u001b[1;33m(\u001b[0m\u001b[0mself\u001b[0m\u001b[1;33m,\u001b[0m \u001b[0mname\u001b[0m\u001b[1;33m)\u001b[0m\u001b[1;33m\u001b[0m\u001b[1;33m\u001b[0m\u001b[0m\n\u001b[0m\u001b[0;32m   5275\u001b[0m \u001b[1;33m\u001b[0m\u001b[0m\n\u001b[0;32m   5276\u001b[0m     \u001b[1;32mdef\u001b[0m \u001b[0m__setattr__\u001b[0m\u001b[1;33m(\u001b[0m\u001b[0mself\u001b[0m\u001b[1;33m,\u001b[0m \u001b[0mname\u001b[0m\u001b[1;33m:\u001b[0m \u001b[0mstr\u001b[0m\u001b[1;33m,\u001b[0m \u001b[0mvalue\u001b[0m\u001b[1;33m)\u001b[0m \u001b[1;33m->\u001b[0m \u001b[1;32mNone\u001b[0m\u001b[1;33m:\u001b[0m\u001b[1;33m\u001b[0m\u001b[1;33m\u001b[0m\u001b[0m\n",
      "\u001b[1;31mAttributeError\u001b[0m: 'Series' object has no attribute 'split'"
     ]
    }
   ],
   "source": [
    "df_indices2.RECOMMEND.split(',',expand=True,)"
   ]
  },
  {
   "cell_type": "code",
   "execution_count": 45,
   "metadata": {},
   "outputs": [
    {
     "data": {
      "text/plain": [
       "'105645'"
      ]
     },
     "execution_count": 45,
     "metadata": {},
     "output_type": "execute_result"
    }
   ],
   "source": [
    "df_indices2['RECOMMEND1'] = df_indices2.RECOMMEND[0][0][0]\n",
    "df_indices2['RECOMMEND1'] = df_indices2.RECOMMEND[0][0][0]"
   ]
  },
  {
   "cell_type": "code",
   "execution_count": 36,
   "metadata": {},
   "outputs": [],
   "source": [
    "# Excel 저장\n",
    "\n",
    "# Create a Pandas Excel writer using XlsxWriter as the engine.\n",
    "writer = pd.ExcelWriter('200721_고객성향분석_direct_v2.xlsx', engine='xlsxwriter')\n",
    "\n",
    "# Write each dataframe to a different worksheet.\n",
    "df_indices_SDV.to_excel(writer, sheet_name= 'SDV' )\n",
    "df_indices_PCA.to_excel(writer, sheet_name= 'PCA' )\n",
    "\n",
    "# Close the Pandas Excel writer and output the Excel file.\n",
    "writer.save()"
   ]
  },
  {
   "cell_type": "code",
   "execution_count": null,
   "metadata": {},
   "outputs": [],
   "source": []
  },
  {
   "cell_type": "markdown",
   "metadata": {},
   "source": [
    "### 4.결과 비교 : SDV vs PCA\n",
    ": 처음 column이 내용을 잘 설명한다는 것을 가정함"
   ]
  },
  {
   "cell_type": "code",
   "execution_count": 29,
   "metadata": {},
   "outputs": [],
   "source": [
    "def graph_corr(i,j):\n",
    "    plt.figure(figsize=(12,5))\n",
    "    plt.subplot(1,2,1); plt.scatter(corr_SVD_user[:,i], corr_SVD_user[:,j])\n",
    "    plt.subplot(1,2,2); plt.scatter(corr_PCA_user[:,i], corr_PCA_user[:,j])\n",
    "    plt.show()"
   ]
  },
  {
   "cell_type": "code",
   "execution_count": 30,
   "metadata": {},
   "outputs": [
    {
     "data": {
      "image/png": "[encoded data removed]",
      "text/plain": [
       "<Figure size 864x360 with 2 Axes>"
      ]
     },
     "metadata": {
      "needs_background": "light"
     },
     "output_type": "display_data"
    }
   ],
   "source": [
    "# 모형의 차이 : sample1\n",
    "graph_corr(0,1)"
   ]
  },
  {
   "cell_type": "code",
   "execution_count": 31,
   "metadata": {},
   "outputs": [
    {
     "data": {
      "image/png": "[encoded data removed]",
      "text/plain": [
       "<Figure size 864x360 with 2 Axes>"
      ]
     },
     "metadata": {
      "needs_background": "light"
     },
     "output_type": "display_data"
    }
   ],
   "source": [
    "# 모형의 차이 : sample2\n",
    "graph_corr(0,2)"
   ]
  },
  {
   "cell_type": "code",
   "execution_count": 32,
   "metadata": {},
   "outputs": [
    {
     "data": {
      "image/png": "[encoded data removed]",
      "text/plain": [
       "<Figure size 864x360 with 2 Axes>"
      ]
     },
     "metadata": {
      "needs_background": "light"
     },
     "output_type": "display_data"
    }
   ],
   "source": [
    "# 모형의 차이 : sample3\n",
    "graph_corr(0,3)"
   ]
  },
  {
   "cell_type": "code",
   "execution_count": null,
   "metadata": {},
   "outputs": [],
   "source": []
  },
  {
   "cell_type": "code",
   "execution_count": 33,
   "metadata": {},
   "outputs": [
    {
     "data": {
      "image/png": "[encoded data removed]",
      "text/plain": [
       "<Figure size 864x360 with 2 Axes>"
      ]
     },
     "metadata": {
      "needs_background": "light"
     },
     "output_type": "display_data"
    }
   ],
   "source": [
    "# 모형의 차이 : sample4\n",
    "graph_corr(0,-3)"
   ]
  },
  {
   "cell_type": "code",
   "execution_count": 34,
   "metadata": {},
   "outputs": [
    {
     "data": {
      "image/png": "[encoded data removed]",
      "text/plain": [
       "<Figure size 864x360 with 2 Axes>"
      ]
     },
     "metadata": {
      "needs_background": "light"
     },
     "output_type": "display_data"
    }
   ],
   "source": [
    "# 모형의 차이 : sample5\n",
    "graph_corr(0,-2)"
   ]
  },
  {
   "cell_type": "code",
   "execution_count": 35,
   "metadata": {},
   "outputs": [
    {
     "data": {
      "image/png": "[encoded data removed]",
      "text/plain": [
       "<Figure size 864x360 with 2 Axes>"
      ]
     },
     "metadata": {
      "needs_background": "light"
     },
     "output_type": "display_data"
    }
   ],
   "source": [
    "# 모형의 차이 : sample6\n",
    "graph_corr(0,-1)"
   ]
  },
  {
   "cell_type": "code",
   "execution_count": null,
   "metadata": {},
   "outputs": [],
   "source": []
  },
  {
   "cell_type": "code",
   "execution_count": null,
   "metadata": {},
   "outputs": [],
   "source": []
  },
  {
   "cell_type": "code",
   "execution_count": null,
   "metadata": {},
   "outputs": [],
   "source": []
  },
  {
   "cell_type": "code",
   "execution_count": null,
   "metadata": {},
   "outputs": [],
   "source": []
  },
  {
   "cell_type": "code",
   "execution_count": null,
   "metadata": {},
   "outputs": [],
   "source": [
    "cosine_similarities = linear_kernel(tfidf_matrix, tfidf_matrix) results = {}\n",
    "for idx, row in ds.iterrows():\n",
    "    similar_indices = cosine_similarities[idx].argsort()[:-100:-1] \n",
    "    similar_items = [(cosine_similarities[idx][i], ds['id'][i]) for i in similar_indices] \n",
    "    results[row['id']] = similar_items[1:]"
   ]
  },
  {
   "cell_type": "code",
   "execution_count": null,
   "metadata": {},
   "outputs": [],
   "source": []
  },
  {
   "cell_type": "code",
   "execution_count": null,
   "metadata": {},
   "outputs": [],
   "source": [
    "def item(id): \n",
    "    return ds.loc[ds['id'] == id]['description'].tolist()[0].split(' - ')[0] \n",
    "\n",
    "# Just reads the results out of the dictionary.def \n",
    "recommend(item_id, num):\n",
    "    print(\"Recommending \" + str(num) + \" products similar to \" + item(item_id) + \"...\")   \n",
    "    print(\"-------\")    recs = results[item_id][:num]   \n",
    "    for rec in recs:\n",
    "        print(\"Recommended: \" + item(rec[1]) + \" (score:\" +      str(rec[0]) + \")\")"
   ]
  },
  {
   "cell_type": "code",
   "execution_count": null,
   "metadata": {},
   "outputs": [],
   "source": []
  },
  {
   "cell_type": "code",
   "execution_count": null,
   "metadata": {},
   "outputs": [],
   "source": []
  },
  {
   "cell_type": "code",
   "execution_count": null,
   "metadata": {},
   "outputs": [],
   "source": []
  },
  {
   "cell_type": "code",
   "execution_count": null,
   "metadata": {},
   "outputs": [],
   "source": []
  },
  {
   "cell_type": "code",
   "execution_count": null,
   "metadata": {},
   "outputs": [],
   "source": []
  },
  {
   "cell_type": "code",
   "execution_count": null,
   "metadata": {},
   "outputs": [],
   "source": []
  },
  {
   "cell_type": "code",
   "execution_count": null,
   "metadata": {},
   "outputs": [],
   "source": []
  },
  {
   "cell_type": "code",
   "execution_count": null,
   "metadata": {},
   "outputs": [],
   "source": []
  },
  {
   "cell_type": "code",
   "execution_count": null,
   "metadata": {},
   "outputs": [],
   "source": []
  }
 ],
 "metadata": {
  "kernelspec": {
   "display_name": "Python 3",
   "language": "python",
   "name": "python3"
  },
  "language_info": {
   "codemirror_mode": {
    "name": "ipython",
    "version": 3
   },
   "file_extension": ".py",
   "mimetype": "text/x-python",
   "name": "python",
   "nbconvert_exporter": "python",
   "pygments_lexer": "ipython3",
   "version": "3.7.6"
  }
 },
 "nbformat": 4,
 "nbformat_minor": 2
}
