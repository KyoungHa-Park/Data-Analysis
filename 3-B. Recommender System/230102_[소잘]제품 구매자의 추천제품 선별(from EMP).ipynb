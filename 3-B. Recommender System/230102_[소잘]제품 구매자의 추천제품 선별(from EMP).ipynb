{
 "cells": [
  {
   "cell_type": "code",
   "execution_count": null,
   "metadata": {
    "colab": {},
    "colab_type": "code",
    "id": "pbEfpDNlihPh"
   },
   "outputs": [],
   "source": []
  },
  {
   "cell_type": "markdown",
   "metadata": {
    "colab_type": "text",
    "id": "tCJIMekqihPm"
   },
   "source": [
    "### 연관구매 분석(지원)\n",
    "**1. 자료 업로드(Oracle $\\to$ BigQuery)**\n",
    "  + [ ] Oracle 자료 불러오기\n",
    "  + [ ] 자료 업로드\n",
    "  + [ ] 동시구매 Query 작성\n",
    "---\n",
    "**2. 조회 쿼리 작성(in BigQuery)**\n",
    "  + [ ] basket by SKU\n",
    "  + [ ] basket by CATEGORY\n",
    "  + [ ] basket by BRAND\n",
    "---\n",
    "**3. ML 모델링 적용(in BigQuery)**\n",
    "  + TEB(현재 비용대비 10배 상승?)\n"
   ]
  },
  {
   "cell_type": "code",
   "execution_count": null,
   "metadata": {
    "colab": {},
    "colab_type": "code",
    "id": "kcrWo7oWihPn"
   },
   "outputs": [],
   "source": []
  },
  {
   "cell_type": "code",
   "execution_count": null,
   "metadata": {
    "colab": {},
    "colab_type": "code",
    "id": "_qOd7a7yihPw"
   },
   "outputs": [],
   "source": []
  },
  {
   "cell_type": "code",
   "execution_count": null,
   "metadata": {
    "colab": {},
    "colab_type": "code",
    "id": "116TbWUIihP1"
   },
   "outputs": [],
   "source": []
  },
  {
   "cell_type": "code",
   "execution_count": 1,
   "metadata": {
    "colab": {
     "base_uri": "https://localhost:8080/",
     "height": 73
    },
    "colab_type": "code",
    "executionInfo": {
     "elapsed": 1722,
     "status": "ok",
     "timestamp": 1595573623162,
     "user": {
      "displayName": "박경하",
      "photoUrl": "",
      "userId": "14970276928355419245"
     },
     "user_tz": -540
    },
    "id": "9sQGnBkjihP4",
    "outputId": "cedfc046-ef7e-4f81-97ca-673a71d1bf42"
   },
   "outputs": [],
   "source": [
    "#######\n",
    "# import\n",
    "###\n",
    "import cx_Oracle as oci\n",
    "import pandas as pd\n",
    "\n",
    "from matplotlib import pyplot as plt\n",
    "\n",
    "import numpy as np\n",
    "import matplotlib.pyplot  as plt\n",
    "import seaborn as sns\n",
    "\n",
    "%matplotlib inline\n",
    "import seaborn as sns\n",
    "sns.set(style=\"white\")\n",
    "sns.set(style=\"whitegrid\", color_codes=True)\n",
    "\n",
    "import xlrd\n",
    "from os import listdir\n",
    "from datetime import datetime, timedelta\n",
    "import glob\n",
    "\n",
    "import pandas_gbq\n",
    "import time \n",
    "import re\n",
    "from google.cloud import bigquery\n"
   ]
  },
  {
   "cell_type": "code",
   "execution_count": 2,
   "metadata": {
    "colab": {},
    "colab_type": "code",
    "executionInfo": {
     "elapsed": 2022,
     "status": "ok",
     "timestamp": 1595573626144,
     "user": {
      "displayName": "박경하",
      "photoUrl": "",
      "userId": "14970276928355419245"
     },
     "user_tz": -540
    },
    "id": "8PEB5rt_ihP7"
   },
   "outputs": [],
   "source": [
    "import os\n",
    "os.environ[\"NLS_LANG\"] = \".AL32UTF8\"      #encodring이 UTF-8 인 경우"
   ]
  },
  {
   "cell_type": "code",
   "execution_count": 5,
   "metadata": {
    "colab": {},
    "colab_type": "code",
    "executionInfo": {
     "elapsed": 1795,
     "status": "ok",
     "timestamp": 1595573626146,
     "user": {
      "displayName": "박경하",
      "photoUrl": "",
      "userId": "14970276928355419245"
     },
     "user_tz": -540
    },
    "id": "ynzfJnCLihP_"
   },
   "outputs": [],
   "source": [
    "# data 준비\n",
    "\n",
    "# DB접속 : 접속정보 읽기\n",
    "con_text = open(\"C:/Users/MAEIL/conn_info_MMBSHIP.txt\", 'r', encoding='utf8')\n",
    "con_text = con_text.read()\n",
    "\n",
    "# DB 접속 : 실제 접속\n",
    "conn = oci.connect(con_text[1:], encoding='UTF-8', nencoding='UTF-8')"
   ]
  },
  {
   "cell_type": "code",
   "execution_count": 6,
   "metadata": {},
   "outputs": [],
   "source": [
    "# query run\n",
    "query0= '''\n",
    "        select M.판매처, substr(M.배정일,1,6) as reg_dt, count(*)\n",
    "        from mmbship.lkh_emp_master M, mmbship.lkh_emp_PRODUCT P\n",
    "        where trim(M.상품명) = trim(P.prod_nm)\n",
    "        and M.상품명 not like '%판촉물%'\n",
    "        and M.배정일 like '202211%'\n",
    "        group by M.판매처, substr(M.배정일,1,6)\n",
    "        order by 3 desc\n",
    "        '''\n",
    "df_test = pd.read_sql(query0, con = conn )\n"
   ]
  },
  {
   "cell_type": "code",
   "execution_count": 54,
   "metadata": {},
   "outputs": [
    {
     "data": {
      "text/html": [
       "<div>\n",
       "<style scoped>\n",
       "    .dataframe tbody tr th:only-of-type {\n",
       "        vertical-align: middle;\n",
       "    }\n",
       "\n",
       "    .dataframe tbody tr th {\n",
       "        vertical-align: top;\n",
       "    }\n",
       "\n",
       "    .dataframe thead th {\n",
       "        text-align: right;\n",
       "    }\n",
       "</style>\n",
       "<table border=\"1\" class=\"dataframe\">\n",
       "  <thead>\n",
       "    <tr style=\"text-align: right;\">\n",
       "      <th></th>\n",
       "      <th>판매처</th>\n",
       "      <th>REG_DT</th>\n",
       "      <th>COUNT(*)</th>\n",
       "    </tr>\n",
       "  </thead>\n",
       "  <tbody>\n",
       "    <tr>\n",
       "      <th>0</th>\n",
       "      <td>네이버(직영)</td>\n",
       "      <td>202211</td>\n",
       "      <td>229957</td>\n",
       "    </tr>\n",
       "    <tr>\n",
       "      <th>1</th>\n",
       "      <td>카카오선물하기</td>\n",
       "      <td>202211</td>\n",
       "      <td>55635</td>\n",
       "    </tr>\n",
       "    <tr>\n",
       "      <th>2</th>\n",
       "      <td>카카오쇼핑하기</td>\n",
       "      <td>202211</td>\n",
       "      <td>33607</td>\n",
       "    </tr>\n",
       "    <tr>\n",
       "      <th>3</th>\n",
       "      <td>쿠팡 아이템마켓(직영)</td>\n",
       "      <td>202211</td>\n",
       "      <td>14339</td>\n",
       "    </tr>\n",
       "    <tr>\n",
       "      <th>4</th>\n",
       "      <td>(HN)셀렉스몰</td>\n",
       "      <td>202211</td>\n",
       "      <td>14008</td>\n",
       "    </tr>\n",
       "    <tr>\n",
       "      <th>5</th>\n",
       "      <td>연금매장(V)</td>\n",
       "      <td>202211</td>\n",
       "      <td>8072</td>\n",
       "    </tr>\n",
       "    <tr>\n",
       "      <th>6</th>\n",
       "      <td>한국인삼공사(정관장몰)</td>\n",
       "      <td>202211</td>\n",
       "      <td>7222</td>\n",
       "    </tr>\n",
       "    <tr>\n",
       "      <th>7</th>\n",
       "      <td>SSG닷컴(직영)</td>\n",
       "      <td>202211</td>\n",
       "      <td>5695</td>\n",
       "    </tr>\n",
       "    <tr>\n",
       "      <th>8</th>\n",
       "      <td>다이렉트몰</td>\n",
       "      <td>202211</td>\n",
       "      <td>5316</td>\n",
       "    </tr>\n",
       "    <tr>\n",
       "      <th>9</th>\n",
       "      <td>올리브영</td>\n",
       "      <td>202211</td>\n",
       "      <td>4136</td>\n",
       "    </tr>\n",
       "  </tbody>\n",
       "</table>\n",
       "</div>"
      ],
      "text/plain": [
       "            판매처  REG_DT  COUNT(*)\n",
       "0       네이버(직영)  202211    229957\n",
       "1       카카오선물하기  202211     55635\n",
       "2       카카오쇼핑하기  202211     33607\n",
       "3  쿠팡 아이템마켓(직영)  202211     14339\n",
       "4      (HN)셀렉스몰  202211     14008\n",
       "5       연금매장(V)  202211      8072\n",
       "6  한국인삼공사(정관장몰)  202211      7222\n",
       "7     SSG닷컴(직영)  202211      5695\n",
       "8         다이렉트몰  202211      5316\n",
       "9          올리브영  202211      4136"
      ]
     },
     "execution_count": 54,
     "metadata": {},
     "output_type": "execute_result"
    }
   ],
   "source": [
    "df_test.head(10)"
   ]
  },
  {
   "cell_type": "code",
   "execution_count": null,
   "metadata": {},
   "outputs": [],
   "source": []
  },
  {
   "cell_type": "code",
   "execution_count": 37,
   "metadata": {},
   "outputs": [],
   "source": [
    "# query run\n",
    "query1= '''\n",
    "select P.PROD_CODE, trim(P.PROD_NM) as PROD_NM, trim(P.PROD_CTGR) as PROD_CTGR,  trim(P.PROD_BRND) as PROD_BRND \n",
    ", M.판매처 as channel, 주문번호 as order_no, to_date(M.배정일, 'YYYYMMDD') as reg_dtm\n",
    "from mmbship.lkh_emp_master M, mmbship.lkh_emp_PRODUCT P\n",
    "where trim(M.상품명) = trim(P.prod_nm)\n",
    "and M.상품명 not like '%판촉물%'\n",
    "and M.판매처 = '네이버(직영)'\n",
    "and M.배정일 like '202211%'\n",
    "        '''\n",
    "df0 = pd.read_sql(query1, con = conn )\n",
    "df0 = df0.drop_duplicates().reset_index(drop=True)"
   ]
  },
  {
   "cell_type": "code",
   "execution_count": 38,
   "metadata": {},
   "outputs": [
    {
     "data": {
      "text/html": [
       "<div>\n",
       "<style scoped>\n",
       "    .dataframe tbody tr th:only-of-type {\n",
       "        vertical-align: middle;\n",
       "    }\n",
       "\n",
       "    .dataframe tbody tr th {\n",
       "        vertical-align: top;\n",
       "    }\n",
       "\n",
       "    .dataframe thead th {\n",
       "        text-align: right;\n",
       "    }\n",
       "</style>\n",
       "<table border=\"1\" class=\"dataframe\">\n",
       "  <thead>\n",
       "    <tr style=\"text-align: right;\">\n",
       "      <th></th>\n",
       "      <th>PROD_CODE</th>\n",
       "      <th>PROD_NM</th>\n",
       "      <th>PROD_CTGR</th>\n",
       "      <th>PROD_BRND</th>\n",
       "      <th>CHANNEL</th>\n",
       "      <th>ORDER_NO</th>\n",
       "      <th>REG_DTM</th>\n",
       "    </tr>\n",
       "  </thead>\n",
       "  <tbody>\n",
       "    <tr>\n",
       "      <th>229037</th>\n",
       "      <td>107109</td>\n",
       "      <td>셀렉스 세라마이드콜라겐음료 [ 125ML ] [ 4X6 ]</td>\n",
       "      <td>건강식</td>\n",
       "      <td>셀렉스</td>\n",
       "      <td>네이버(직영)</td>\n",
       "      <td>2022113099814241</td>\n",
       "      <td>2022-11-30</td>\n",
       "    </tr>\n",
       "    <tr>\n",
       "      <th>229038</th>\n",
       "      <td>107201</td>\n",
       "      <td>셀렉스 프로틴 음료 [ 오리지널 ] [ 190ML ]</td>\n",
       "      <td>건강식</td>\n",
       "      <td>셀렉스</td>\n",
       "      <td>네이버(직영)</td>\n",
       "      <td>2022112999152431</td>\n",
       "      <td>2022-11-30</td>\n",
       "    </tr>\n",
       "  </tbody>\n",
       "</table>\n",
       "</div>"
      ],
      "text/plain": [
       "       PROD_CODE                           PROD_NM PROD_CTGR PROD_BRND  \\\n",
       "229037    107109  셀렉스 세라마이드콜라겐음료 [ 125ML ] [ 4X6 ]       건강식       셀렉스   \n",
       "229038    107201     셀렉스 프로틴 음료 [ 오리지널 ] [ 190ML ]       건강식       셀렉스   \n",
       "\n",
       "        CHANNEL          ORDER_NO    REG_DTM  \n",
       "229037  네이버(직영)  2022113099814241 2022-11-30  \n",
       "229038  네이버(직영)  2022112999152431 2022-11-30  "
      ]
     },
     "execution_count": 38,
     "metadata": {},
     "output_type": "execute_result"
    }
   ],
   "source": [
    "df0.tail(2)"
   ]
  },
  {
   "cell_type": "code",
   "execution_count": null,
   "metadata": {},
   "outputs": [],
   "source": []
  },
  {
   "cell_type": "code",
   "execution_count": null,
   "metadata": {},
   "outputs": [],
   "source": []
  },
  {
   "cell_type": "code",
   "execution_count": null,
   "metadata": {},
   "outputs": [],
   "source": []
  },
  {
   "cell_type": "code",
   "execution_count": 39,
   "metadata": {},
   "outputs": [
    {
     "name": "stderr",
     "output_type": "stream",
     "text": [
      "100%|████████████████████████████████████████████████████████████████████████████████████████████| 1/1 [00:00<?, ?it/s]\n"
     ]
    }
   ],
   "source": [
    "# 접속 정보 : local\n",
    "os.environ[\"GOOGLE_APPLICATION_CREDENTIALS\"]=\"C:/Users/MAEIL/OneDrive - 매일유업/auto_send/boxwood-chassis-356100-a2ec31483acb.json\"\n",
    "client = bigquery.Client()\n",
    "project = 'boxwood-chassis-356100'\n",
    "dataset_id = 'EMP'\n",
    "table_id = 'BASKET_ANALYSIS'\n",
    "table_name = dataset_id +'.' +table_id\n",
    "\n",
    "pandas_gbq.to_gbq(df0, table_name, project_id=project, if_exists = 'append' )"
   ]
  },
  {
   "cell_type": "code",
   "execution_count": null,
   "metadata": {},
   "outputs": [],
   "source": []
  },
  {
   "cell_type": "code",
   "execution_count": 45,
   "metadata": {},
   "outputs": [],
   "source": [
    "# 자료 업로드 현황 확인\n",
    "\n",
    "sql = \"\"\"\n",
    "    SELECT FORMAT_DATETIME('%y/%m', CAST(REG_DTM AS DATETIME)) as DATE\n",
    "    , min(FORMAT_DATETIME('%y/%m/%d', CAST(REG_DTM AS DATETIME))) as DATE_min\n",
    "    , max(FORMAT_DATETIME('%y/%m/%d', CAST(REG_DTM AS DATETIME))) as DATE_max\n",
    "    , count(*)\n",
    "    FROM `boxwood-chassis-356100.EMP.BASKET_ANALYSIS`\n",
    "    where CAST(REG_DTM AS DATETIME) between DATE_SUB(current_date(), INTERVAL 4 month ) and DATE_SUB(current_date(), INTERVAL 0 month)\n",
    "    group by FORMAT_DATETIME('%y/%m', CAST(REG_DTM AS DATETIME))\n",
    "    \"\"\"\n",
    "df_search = client.query(sql).to_dataframe()"
   ]
  },
  {
   "cell_type": "code",
   "execution_count": 46,
   "metadata": {},
   "outputs": [
    {
     "data": {
      "text/html": [
       "<div>\n",
       "<style scoped>\n",
       "    .dataframe tbody tr th:only-of-type {\n",
       "        vertical-align: middle;\n",
       "    }\n",
       "\n",
       "    .dataframe tbody tr th {\n",
       "        vertical-align: top;\n",
       "    }\n",
       "\n",
       "    .dataframe thead th {\n",
       "        text-align: right;\n",
       "    }\n",
       "</style>\n",
       "<table border=\"1\" class=\"dataframe\">\n",
       "  <thead>\n",
       "    <tr style=\"text-align: right;\">\n",
       "      <th></th>\n",
       "      <th>DATE</th>\n",
       "      <th>DATE_min</th>\n",
       "      <th>DATE_max</th>\n",
       "      <th>f0_</th>\n",
       "    </tr>\n",
       "  </thead>\n",
       "  <tbody>\n",
       "    <tr>\n",
       "      <th>0</th>\n",
       "      <td>22/10</td>\n",
       "      <td>22/10/01</td>\n",
       "      <td>22/10/31</td>\n",
       "      <td>198797</td>\n",
       "    </tr>\n",
       "    <tr>\n",
       "      <th>1</th>\n",
       "      <td>22/11</td>\n",
       "      <td>22/11/01</td>\n",
       "      <td>22/11/30</td>\n",
       "      <td>229039</td>\n",
       "    </tr>\n",
       "    <tr>\n",
       "      <th>2</th>\n",
       "      <td>22/09</td>\n",
       "      <td>22/09/05</td>\n",
       "      <td>22/09/30</td>\n",
       "      <td>195331</td>\n",
       "    </tr>\n",
       "  </tbody>\n",
       "</table>\n",
       "</div>"
      ],
      "text/plain": [
       "    DATE  DATE_min  DATE_max     f0_\n",
       "0  22/10  22/10/01  22/10/31  198797\n",
       "1  22/11  22/11/01  22/11/30  229039\n",
       "2  22/09  22/09/05  22/09/30  195331"
      ]
     },
     "execution_count": 46,
     "metadata": {},
     "output_type": "execute_result"
    }
   ],
   "source": [
    "df_search"
   ]
  },
  {
   "cell_type": "code",
   "execution_count": null,
   "metadata": {},
   "outputs": [],
   "source": []
  },
  {
   "cell_type": "code",
   "execution_count": null,
   "metadata": {},
   "outputs": [],
   "source": []
  },
  {
   "cell_type": "code",
   "execution_count": 26,
   "metadata": {},
   "outputs": [],
   "source": [
    "# query run\n",
    "query1= '''\n",
    "        with target_product as (\n",
    "            select 주문번호 as order_no\n",
    "            from mmbship.lkh_emp_master\n",
    "            where 상품명 not like '%판촉물%'\n",
    "            and 판매처 = '네이버(직영)'\n",
    "            and 상품명 like '%어메이징%'\n",
    "            and 배정일 like '202210%' \n",
    "            and 회원고유번호 is not null\n",
    "            and 회원고유번호 <> '0')\n",
    "        select 주문번호 as order_no\n",
    "        , 상품명 as product_nm\n",
    "        , to_date(배정일, 'YYYYMMDD') as reg_dtm \n",
    "        from mmbship.lkh_emp_master M, target_product P\n",
    "        where M.주문번호 = P.order_no\n",
    "        and 상품명 not like '%판촉물%'\n",
    "        and 판매처 = '네이버(직영)'\n",
    "        and 배정일 like '202210%'\n",
    "        and 회원고유번호 is not null\n",
    "        and 회원고유번호 <> '0'\n",
    "        '''\n",
    "df = pd.read_sql(query1, con = conn )"
   ]
  },
  {
   "cell_type": "code",
   "execution_count": 27,
   "metadata": {},
   "outputs": [],
   "source": [
    "df = df.drop_duplicates().reset_index(drop=True)"
   ]
  },
  {
   "cell_type": "code",
   "execution_count": 28,
   "metadata": {},
   "outputs": [
    {
     "data": {
      "text/html": [
       "<div>\n",
       "<style scoped>\n",
       "    .dataframe tbody tr th:only-of-type {\n",
       "        vertical-align: middle;\n",
       "    }\n",
       "\n",
       "    .dataframe tbody tr th {\n",
       "        vertical-align: top;\n",
       "    }\n",
       "\n",
       "    .dataframe thead th {\n",
       "        text-align: right;\n",
       "    }\n",
       "</style>\n",
       "<table border=\"1\" class=\"dataframe\">\n",
       "  <thead>\n",
       "    <tr style=\"text-align: right;\">\n",
       "      <th></th>\n",
       "      <th>ORDER_NO</th>\n",
       "      <th>PRODUCT_NM</th>\n",
       "      <th>REG_DTM</th>\n",
       "    </tr>\n",
       "  </thead>\n",
       "  <tbody>\n",
       "    <tr>\n",
       "      <th>18865</th>\n",
       "      <td>2022102750679201</td>\n",
       "      <td>멸균 소잘우유 [ 저지방 ] [ 190ml ]</td>\n",
       "      <td>2022-10-27</td>\n",
       "    </tr>\n",
       "    <tr>\n",
       "      <th>18866</th>\n",
       "      <td>2022102748986711</td>\n",
       "      <td>멸균 소잘우유 [ 저지방 ] [ 190ml ]</td>\n",
       "      <td>2022-10-27</td>\n",
       "    </tr>\n",
       "  </tbody>\n",
       "</table>\n",
       "</div>"
      ],
      "text/plain": [
       "               ORDER_NO                 PRODUCT_NM    REG_DTM\n",
       "18865  2022102750679201  멸균 소잘우유 [ 저지방 ] [ 190ml ] 2022-10-27\n",
       "18866  2022102748986711  멸균 소잘우유 [ 저지방 ] [ 190ml ] 2022-10-27"
      ]
     },
     "execution_count": 28,
     "metadata": {},
     "output_type": "execute_result"
    }
   ],
   "source": [
    "df.tail(2)"
   ]
  },
  {
   "cell_type": "code",
   "execution_count": 30,
   "metadata": {},
   "outputs": [
    {
     "data": {
      "text/html": [
       "<div>\n",
       "<style scoped>\n",
       "    .dataframe tbody tr th:only-of-type {\n",
       "        vertical-align: middle;\n",
       "    }\n",
       "\n",
       "    .dataframe tbody tr th {\n",
       "        vertical-align: top;\n",
       "    }\n",
       "\n",
       "    .dataframe thead th {\n",
       "        text-align: right;\n",
       "    }\n",
       "</style>\n",
       "<table border=\"1\" class=\"dataframe\">\n",
       "  <thead>\n",
       "    <tr style=\"text-align: right;\">\n",
       "      <th></th>\n",
       "      <th>ORDER_NO</th>\n",
       "    </tr>\n",
       "    <tr>\n",
       "      <th>PRODUCT_NM</th>\n",
       "      <th></th>\n",
       "    </tr>\n",
       "  </thead>\n",
       "  <tbody>\n",
       "    <tr>\n",
       "      <th>1</th>\n",
       "      <td>12590</td>\n",
       "    </tr>\n",
       "    <tr>\n",
       "      <th>2</th>\n",
       "      <td>1523</td>\n",
       "    </tr>\n",
       "    <tr>\n",
       "      <th>3</th>\n",
       "      <td>436</td>\n",
       "    </tr>\n",
       "    <tr>\n",
       "      <th>4</th>\n",
       "      <td>188</td>\n",
       "    </tr>\n",
       "    <tr>\n",
       "      <th>5</th>\n",
       "      <td>95</td>\n",
       "    </tr>\n",
       "    <tr>\n",
       "      <th>6</th>\n",
       "      <td>48</td>\n",
       "    </tr>\n",
       "    <tr>\n",
       "      <th>7</th>\n",
       "      <td>25</td>\n",
       "    </tr>\n",
       "    <tr>\n",
       "      <th>8</th>\n",
       "      <td>11</td>\n",
       "    </tr>\n",
       "    <tr>\n",
       "      <th>9</th>\n",
       "      <td>9</td>\n",
       "    </tr>\n",
       "    <tr>\n",
       "      <th>10</th>\n",
       "      <td>2</td>\n",
       "    </tr>\n",
       "    <tr>\n",
       "      <th>11</th>\n",
       "      <td>4</td>\n",
       "    </tr>\n",
       "  </tbody>\n",
       "</table>\n",
       "</div>"
      ],
      "text/plain": [
       "            ORDER_NO\n",
       "PRODUCT_NM          \n",
       "1              12590\n",
       "2               1523\n",
       "3                436\n",
       "4                188\n",
       "5                 95\n",
       "6                 48\n",
       "7                 25\n",
       "8                 11\n",
       "9                  9\n",
       "10                 2\n",
       "11                 4"
      ]
     },
     "execution_count": 30,
     "metadata": {},
     "output_type": "execute_result"
    }
   ],
   "source": [
    "pd.DataFrame((pd.DataFrame(df.groupby('ORDER_NO')['PRODUCT_NM'].count()).reset_index()).groupby('PRODUCT_NM')['ORDER_NO'].count())"
   ]
  },
  {
   "cell_type": "code",
   "execution_count": null,
   "metadata": {},
   "outputs": [],
   "source": []
  },
  {
   "cell_type": "code",
   "execution_count": 11,
   "metadata": {},
   "outputs": [
    {
     "data": {
      "text/html": [
       "<div>\n",
       "<style scoped>\n",
       "    .dataframe tbody tr th:only-of-type {\n",
       "        vertical-align: middle;\n",
       "    }\n",
       "\n",
       "    .dataframe tbody tr th {\n",
       "        vertical-align: top;\n",
       "    }\n",
       "\n",
       "    .dataframe thead th {\n",
       "        text-align: right;\n",
       "    }\n",
       "</style>\n",
       "<table border=\"1\" class=\"dataframe\">\n",
       "  <thead>\n",
       "    <tr style=\"text-align: right;\">\n",
       "      <th></th>\n",
       "      <th>UNFY_MMB_NO</th>\n",
       "      <th>CELLNO</th>\n",
       "    </tr>\n",
       "  </thead>\n",
       "  <tbody>\n",
       "    <tr>\n",
       "      <th>0</th>\n",
       "      <td>238</td>\n",
       "      <td>010-6375-5659</td>\n",
       "    </tr>\n",
       "    <tr>\n",
       "      <th>1</th>\n",
       "      <td>271</td>\n",
       "      <td>010-6356-2157</td>\n",
       "    </tr>\n",
       "    <tr>\n",
       "      <th>2</th>\n",
       "      <td>280</td>\n",
       "      <td>0502-3313-7349</td>\n",
       "    </tr>\n",
       "    <tr>\n",
       "      <th>3</th>\n",
       "      <td>335</td>\n",
       "      <td>010-8588-4833</td>\n",
       "    </tr>\n",
       "    <tr>\n",
       "      <th>4</th>\n",
       "      <td>361</td>\n",
       "      <td>010-4411-5566</td>\n",
       "    </tr>\n",
       "    <tr>\n",
       "      <th>...</th>\n",
       "      <td>...</td>\n",
       "      <td>...</td>\n",
       "    </tr>\n",
       "    <tr>\n",
       "      <th>138458</th>\n",
       "      <td>4177177</td>\n",
       "      <td>0502-3409-8472</td>\n",
       "    </tr>\n",
       "    <tr>\n",
       "      <th>138459</th>\n",
       "      <td>4177177</td>\n",
       "      <td>0502-3462-0238</td>\n",
       "    </tr>\n",
       "    <tr>\n",
       "      <th>138460</th>\n",
       "      <td>4177177</td>\n",
       "      <td>0503-6950-6862</td>\n",
       "    </tr>\n",
       "    <tr>\n",
       "      <th>138461</th>\n",
       "      <td>4177177</td>\n",
       "      <td>0507-1881-3097</td>\n",
       "    </tr>\n",
       "    <tr>\n",
       "      <th>138462</th>\n",
       "      <td>4177201</td>\n",
       "      <td>010-5101-5633</td>\n",
       "    </tr>\n",
       "  </tbody>\n",
       "</table>\n",
       "<p>138463 rows × 2 columns</p>\n",
       "</div>"
      ],
      "text/plain": [
       "        UNFY_MMB_NO          CELLNO\n",
       "0               238   010-6375-5659\n",
       "1               271   010-6356-2157\n",
       "2               280  0502-3313-7349\n",
       "3               335   010-8588-4833\n",
       "4               361   010-4411-5566\n",
       "...             ...             ...\n",
       "138458      4177177  0502-3409-8472\n",
       "138459      4177177  0502-3462-0238\n",
       "138460      4177177  0503-6950-6862\n",
       "138461      4177177  0507-1881-3097\n",
       "138462      4177201   010-5101-5633\n",
       "\n",
       "[138463 rows x 2 columns]"
      ]
     },
     "execution_count": 11,
     "metadata": {},
     "output_type": "execute_result"
    }
   ],
   "source": [
    "# query run\n",
    "query1= '''\n",
    "        with buy_group as (\n",
    "            select distinct M.회원고유번호 as unfy_mmb_no, 수령자전화 as cellno\n",
    "            from mmbship.lkh_emp_master M\n",
    "            where 판매처 = '네이버(직영)'\n",
    "            and 상품명 like '%어메이징%')\n",
    "        select B.*\n",
    "        from buy_group B\n",
    "        '''\n",
    "df = pd.read_sql(query1, con = conn )\n",
    "df"
   ]
  },
  {
   "cell_type": "code",
   "execution_count": null,
   "metadata": {},
   "outputs": [],
   "source": []
  },
  {
   "cell_type": "code",
   "execution_count": null,
   "metadata": {},
   "outputs": [],
   "source": []
  },
  {
   "cell_type": "code",
   "execution_count": 9,
   "metadata": {},
   "outputs": [],
   "source": [
    "# query run\n",
    "query1= '''\n",
    "        with buy_group as (\n",
    "            select distinct M.회원고유번호 as unfy_mmb_no, 수령자전화 as cellno\n",
    "            from mmbship.lkh_emp_master M\n",
    "            where 판매처 = '네이버(직영)'\n",
    "            and 상품명 like '%어메이징%')\n",
    "        select I.*\n",
    "        from tm_mmb_info I, buy_group B\n",
    "        where I.unfy_mmb_no = B.unfy_mmb_no\n",
    "        and to_char(I.reg_dtm,'YYYYMMDD') between '20221001' and '20230224' \n",
    "        '''\n",
    "df = pd.read_sql(query1, con = conn )"
   ]
  },
  {
   "cell_type": "code",
   "execution_count": 10,
   "metadata": {},
   "outputs": [
    {
     "data": {
      "text/html": [
       "<div>\n",
       "<style scoped>\n",
       "    .dataframe tbody tr th:only-of-type {\n",
       "        vertical-align: middle;\n",
       "    }\n",
       "\n",
       "    .dataframe tbody tr th {\n",
       "        vertical-align: top;\n",
       "    }\n",
       "\n",
       "    .dataframe thead th {\n",
       "        text-align: right;\n",
       "    }\n",
       "</style>\n",
       "<table border=\"1\" class=\"dataframe\">\n",
       "  <thead>\n",
       "    <tr style=\"text-align: right;\">\n",
       "      <th></th>\n",
       "      <th>UNFY_MMB_NO</th>\n",
       "      <th>CUST_NO</th>\n",
       "      <th>MMB_NM</th>\n",
       "      <th>MMB_ID</th>\n",
       "      <th>FRNR_DV_CD</th>\n",
       "      <th>BTDY</th>\n",
       "      <th>BTDY_LUCR_SOCR_DV_CD</th>\n",
       "      <th>GNDR_DV_CD</th>\n",
       "      <th>SEF_CERT_DI</th>\n",
       "      <th>SEF_CERT_CI_VER</th>\n",
       "      <th>...</th>\n",
       "      <th>CBL_TEL_NO3</th>\n",
       "      <th>EML_ADDR</th>\n",
       "      <th>CRD_NO</th>\n",
       "      <th>CRD_REG_DTM</th>\n",
       "      <th>ADDR_FLAG</th>\n",
       "      <th>NTRY_STOR_NO</th>\n",
       "      <th>REG_DTM</th>\n",
       "      <th>UPD_DTM</th>\n",
       "      <th>UNFY_MMB_NO</th>\n",
       "      <th>CELLNO</th>\n",
       "    </tr>\n",
       "  </thead>\n",
       "  <tbody>\n",
       "  </tbody>\n",
       "</table>\n",
       "<p>0 rows × 40 columns</p>\n",
       "</div>"
      ],
      "text/plain": [
       "Empty DataFrame\n",
       "Columns: [UNFY_MMB_NO, CUST_NO, MMB_NM, MMB_ID, FRNR_DV_CD, BTDY, BTDY_LUCR_SOCR_DV_CD, GNDR_DV_CD, SEF_CERT_DI, SEF_CERT_CI_VER, SEF_CERT_CI, SEF_CERT_DV_CD, AG_NTRY_YN, NTRY_COOPCO_CD, NTRY_CHNL_CD, NTRY_PATH, MMB_ST_CD, SOC_MMB_YN, PREM_MMB_YN, PREM_MMB_NTRY_DTM, STFF_DV_CD, STFF_EML_ADDR, STFF_CERT_DT, NTRY_TYP_CD, COOPCO_MMB_ID, WRLS_TEL_NO1, WRLS_TEL_NO2, WRLS_TEL_NO3, CBL_TEL_NO1, CBL_TEL_NO2, CBL_TEL_NO3, EML_ADDR, CRD_NO, CRD_REG_DTM, ADDR_FLAG, NTRY_STOR_NO, REG_DTM, UPD_DTM, UNFY_MMB_NO, CELLNO]\n",
       "Index: []\n",
       "\n",
       "[0 rows x 40 columns]"
      ]
     },
     "execution_count": 10,
     "metadata": {},
     "output_type": "execute_result"
    }
   ],
   "source": [
    "df"
   ]
  },
  {
   "cell_type": "code",
   "execution_count": null,
   "metadata": {},
   "outputs": [],
   "source": []
  },
  {
   "cell_type": "code",
   "execution_count": null,
   "metadata": {},
   "outputs": [],
   "source": []
  },
  {
   "cell_type": "code",
   "execution_count": null,
   "metadata": {
    "colab": {},
    "colab_type": "code",
    "executionInfo": {
     "elapsed": 2122,
     "status": "ok",
     "timestamp": 1595573626697,
     "user": {
      "displayName": "박경하",
      "photoUrl": "",
      "userId": "14970276928355419245"
     },
     "user_tz": -540
    },
    "id": "gpoSHIncihQG"
   },
   "outputs": [],
   "source": []
  },
  {
   "cell_type": "code",
   "execution_count": 32,
   "metadata": {
    "colab": {},
    "colab_type": "code",
    "executionInfo": {
     "elapsed": 1984,
     "status": "ok",
     "timestamp": 1595573626698,
     "user": {
      "displayName": "박경하",
      "photoUrl": "",
      "userId": "14970276928355419245"
     },
     "user_tz": -540
    },
    "id": "hAeIHZ0AihQD"
   },
   "outputs": [],
   "source": [
    "import pandas as pd\n",
    "from mlxtend.frequent_patterns import apriori\n",
    "from mlxtend.frequent_patterns import association_rules"
   ]
  },
  {
   "cell_type": "code",
   "execution_count": 31,
   "metadata": {
    "colab": {
     "base_uri": "https://localhost:8080/",
     "height": 142
    },
    "colab_type": "code",
    "executionInfo": {
     "elapsed": 1608,
     "status": "ok",
     "timestamp": 1595573626700,
     "user": {
      "displayName": "박경하",
      "photoUrl": "",
      "userId": "14970276928355419245"
     },
     "user_tz": -540
    },
    "id": "B_yqsqOuihQM",
    "outputId": "277a876b-b526-4044-9fcf-7434bb08c451"
   },
   "outputs": [
    {
     "data": {
      "text/html": [
       "<div>\n",
       "<style scoped>\n",
       "    .dataframe tbody tr th:only-of-type {\n",
       "        vertical-align: middle;\n",
       "    }\n",
       "\n",
       "    .dataframe tbody tr th {\n",
       "        vertical-align: top;\n",
       "    }\n",
       "\n",
       "    .dataframe thead th {\n",
       "        text-align: right;\n",
       "    }\n",
       "</style>\n",
       "<table border=\"1\" class=\"dataframe\">\n",
       "  <thead>\n",
       "    <tr style=\"text-align: right;\">\n",
       "      <th></th>\n",
       "      <th>ORDER_NO</th>\n",
       "      <th>PRODUCT_NM</th>\n",
       "      <th>REG_DTM</th>\n",
       "    </tr>\n",
       "  </thead>\n",
       "  <tbody>\n",
       "    <tr>\n",
       "      <th>18865</th>\n",
       "      <td>2022102750679201</td>\n",
       "      <td>멸균 소잘우유 [ 저지방 ] [ 190ml ]</td>\n",
       "      <td>2022-10-27</td>\n",
       "    </tr>\n",
       "    <tr>\n",
       "      <th>18866</th>\n",
       "      <td>2022102748986711</td>\n",
       "      <td>멸균 소잘우유 [ 저지방 ] [ 190ml ]</td>\n",
       "      <td>2022-10-27</td>\n",
       "    </tr>\n",
       "  </tbody>\n",
       "</table>\n",
       "</div>"
      ],
      "text/plain": [
       "               ORDER_NO                 PRODUCT_NM    REG_DTM\n",
       "18865  2022102750679201  멸균 소잘우유 [ 저지방 ] [ 190ml ] 2022-10-27\n",
       "18866  2022102748986711  멸균 소잘우유 [ 저지방 ] [ 190ml ] 2022-10-27"
      ]
     },
     "execution_count": 31,
     "metadata": {},
     "output_type": "execute_result"
    }
   ],
   "source": [
    "df.tail(2)"
   ]
  },
  {
   "cell_type": "code",
   "execution_count": 34,
   "metadata": {
    "colab": {},
    "colab_type": "code",
    "executionInfo": {
     "elapsed": 2326,
     "status": "ok",
     "timestamp": 1595573628452,
     "user": {
      "displayName": "박경하",
      "photoUrl": "",
      "userId": "14970276928355419245"
     },
     "user_tz": -540
    },
    "id": "BMZZHMqfihQg"
   },
   "outputs": [],
   "source": [
    "basket = pd.crosstab(df[\"ORDER_NO\"], df[\"PRODUCT_NM\"],  df[\"REG_DTM\"], aggfunc='count').fillna(0).sort_values(by ='ORDER_NO', ascending = True)"
   ]
  },
  {
   "cell_type": "code",
   "execution_count": 10,
   "metadata": {
    "colab": {},
    "colab_type": "code",
    "executionInfo": {
     "elapsed": 642,
     "status": "ok",
     "timestamp": 1595573629034,
     "user": {
      "displayName": "박경하",
      "photoUrl": "",
      "userId": "14970276928355419245"
     },
     "user_tz": -540
    },
    "id": "qcARzyI_ihQj"
   },
   "outputs": [],
   "source": []
  },
  {
   "cell_type": "code",
   "execution_count": 35,
   "metadata": {
    "colab": {
     "base_uri": "https://localhost:8080/",
     "height": 470
    },
    "colab_type": "code",
    "executionInfo": {
     "elapsed": 1155,
     "status": "ok",
     "timestamp": 1595573629991,
     "user": {
      "displayName": "박경하",
      "photoUrl": "",
      "userId": "14970276928355419245"
     },
     "user_tz": -540
    },
    "id": "wfr5gS6lihQm",
    "outputId": "0a00df67-2163-4de3-85c0-a338d253cd07",
    "scrolled": false
   },
   "outputs": [
    {
     "data": {
      "text/html": [
       "<div>\n",
       "<style scoped>\n",
       "    .dataframe tbody tr th:only-of-type {\n",
       "        vertical-align: middle;\n",
       "    }\n",
       "\n",
       "    .dataframe tbody tr th {\n",
       "        vertical-align: top;\n",
       "    }\n",
       "\n",
       "    .dataframe thead th {\n",
       "        text-align: right;\n",
       "    }\n",
       "</style>\n",
       "<table border=\"1\" class=\"dataframe\">\n",
       "  <thead>\n",
       "    <tr style=\"text-align: right;\">\n",
       "      <th>PRODUCT_NM</th>\n",
       "      <th>[ 냉동 ] [ 선물세트 ] 소잘우유+순우유 케이크 [ 730G ]</th>\n",
       "      <th>[ 냉동 ] [ 선물세트 ] 소잘초코+순우유 케이크 [ 750G ]</th>\n",
       "      <th>[ 냉동 ] 검은콩 롤케이크 [ 110G ]</th>\n",
       "      <th>[ 냉동 ] 딸기요거트 [ 롤케이크 ] [ 370G ]</th>\n",
       "      <th>[ 냉동 ] 딸기요거트 [ 미니롤케이크 ] [ 110G ]</th>\n",
       "      <th>[ 냉동 ] 매일두유 롤케이크 [ 110G ]</th>\n",
       "      <th>[ 냉동 ] 미니 바스크 치즈케이크 4종 [ 140G X 4 ]</th>\n",
       "      <th>[ 냉동 ] 밀크 케이크 [ 400G ]</th>\n",
       "      <th>[ 냉동 ] 바스크치즈케이크 [ 470G ]</th>\n",
       "      <th>[ 냉동 ] 상하아이스크림 [ 딸기 ] [ 컵 ] [ 100ML ]</th>\n",
       "      <th>...</th>\n",
       "      <th>페레로 [ 킨더부에노 ] [ 화이트 ] [ T2 X 3 ]</th>\n",
       "      <th>페레로 [ 킨더부에노 ] [ 화이트 ] [ T2 ]</th>\n",
       "      <th>페레로 [ 킨더조이 ] [ 블루 ] [ 제네릭 ] [ T3 ]</th>\n",
       "      <th>페레로 [ 킨더초콜릿 ] [ T4 ]</th>\n",
       "      <th>페레로 [ 킨더초콜릿 ] [ T8 ]</th>\n",
       "      <th>페레로 [ 킨더초콜릿 ] [ 미니 ] [ T20 ]</th>\n",
       "      <th>핑크퐁 X 요미쌀과자 [ 브로콜리 ] [ 1단계 ] [ 25G ]</th>\n",
       "      <th>핑크퐁X요미 미니팝 [ 구운옥수수 ] [ 25G ]</th>\n",
       "      <th>핑크퐁X요미 미니팝 [ 딸기요거트 ] [ 25G ]</th>\n",
       "      <th>핑크퐁X요미 미니팝 [ 트리플치즈 ] [ 25G ]</th>\n",
       "    </tr>\n",
       "    <tr>\n",
       "      <th>ORDER_NO</th>\n",
       "      <th></th>\n",
       "      <th></th>\n",
       "      <th></th>\n",
       "      <th></th>\n",
       "      <th></th>\n",
       "      <th></th>\n",
       "      <th></th>\n",
       "      <th></th>\n",
       "      <th></th>\n",
       "      <th></th>\n",
       "      <th></th>\n",
       "      <th></th>\n",
       "      <th></th>\n",
       "      <th></th>\n",
       "      <th></th>\n",
       "      <th></th>\n",
       "      <th></th>\n",
       "      <th></th>\n",
       "      <th></th>\n",
       "      <th></th>\n",
       "      <th></th>\n",
       "    </tr>\n",
       "  </thead>\n",
       "  <tbody>\n",
       "    <tr>\n",
       "      <th>2022092984329261</th>\n",
       "      <td>0.0</td>\n",
       "      <td>0.0</td>\n",
       "      <td>0.0</td>\n",
       "      <td>0.0</td>\n",
       "      <td>0.0</td>\n",
       "      <td>0.0</td>\n",
       "      <td>0.0</td>\n",
       "      <td>0.0</td>\n",
       "      <td>0.0</td>\n",
       "      <td>0.0</td>\n",
       "      <td>...</td>\n",
       "      <td>0.0</td>\n",
       "      <td>0.0</td>\n",
       "      <td>0.0</td>\n",
       "      <td>0.0</td>\n",
       "      <td>0.0</td>\n",
       "      <td>0.0</td>\n",
       "      <td>0.0</td>\n",
       "      <td>0.0</td>\n",
       "      <td>0.0</td>\n",
       "      <td>0.0</td>\n",
       "    </tr>\n",
       "    <tr>\n",
       "      <th>2022092991946891</th>\n",
       "      <td>0.0</td>\n",
       "      <td>0.0</td>\n",
       "      <td>0.0</td>\n",
       "      <td>0.0</td>\n",
       "      <td>0.0</td>\n",
       "      <td>0.0</td>\n",
       "      <td>0.0</td>\n",
       "      <td>0.0</td>\n",
       "      <td>0.0</td>\n",
       "      <td>0.0</td>\n",
       "      <td>...</td>\n",
       "      <td>0.0</td>\n",
       "      <td>0.0</td>\n",
       "      <td>0.0</td>\n",
       "      <td>0.0</td>\n",
       "      <td>0.0</td>\n",
       "      <td>0.0</td>\n",
       "      <td>0.0</td>\n",
       "      <td>0.0</td>\n",
       "      <td>0.0</td>\n",
       "      <td>0.0</td>\n",
       "    </tr>\n",
       "    <tr>\n",
       "      <th>2022093011331511</th>\n",
       "      <td>0.0</td>\n",
       "      <td>0.0</td>\n",
       "      <td>0.0</td>\n",
       "      <td>0.0</td>\n",
       "      <td>0.0</td>\n",
       "      <td>0.0</td>\n",
       "      <td>0.0</td>\n",
       "      <td>0.0</td>\n",
       "      <td>0.0</td>\n",
       "      <td>0.0</td>\n",
       "      <td>...</td>\n",
       "      <td>0.0</td>\n",
       "      <td>0.0</td>\n",
       "      <td>0.0</td>\n",
       "      <td>0.0</td>\n",
       "      <td>0.0</td>\n",
       "      <td>0.0</td>\n",
       "      <td>0.0</td>\n",
       "      <td>0.0</td>\n",
       "      <td>0.0</td>\n",
       "      <td>0.0</td>\n",
       "    </tr>\n",
       "    <tr>\n",
       "      <th>2022093011753231</th>\n",
       "      <td>0.0</td>\n",
       "      <td>0.0</td>\n",
       "      <td>0.0</td>\n",
       "      <td>0.0</td>\n",
       "      <td>0.0</td>\n",
       "      <td>0.0</td>\n",
       "      <td>0.0</td>\n",
       "      <td>0.0</td>\n",
       "      <td>0.0</td>\n",
       "      <td>0.0</td>\n",
       "      <td>...</td>\n",
       "      <td>0.0</td>\n",
       "      <td>0.0</td>\n",
       "      <td>0.0</td>\n",
       "      <td>0.0</td>\n",
       "      <td>0.0</td>\n",
       "      <td>0.0</td>\n",
       "      <td>0.0</td>\n",
       "      <td>0.0</td>\n",
       "      <td>0.0</td>\n",
       "      <td>0.0</td>\n",
       "    </tr>\n",
       "    <tr>\n",
       "      <th>2022093015433641</th>\n",
       "      <td>0.0</td>\n",
       "      <td>0.0</td>\n",
       "      <td>0.0</td>\n",
       "      <td>0.0</td>\n",
       "      <td>0.0</td>\n",
       "      <td>0.0</td>\n",
       "      <td>0.0</td>\n",
       "      <td>0.0</td>\n",
       "      <td>0.0</td>\n",
       "      <td>0.0</td>\n",
       "      <td>...</td>\n",
       "      <td>0.0</td>\n",
       "      <td>0.0</td>\n",
       "      <td>0.0</td>\n",
       "      <td>0.0</td>\n",
       "      <td>0.0</td>\n",
       "      <td>0.0</td>\n",
       "      <td>0.0</td>\n",
       "      <td>0.0</td>\n",
       "      <td>0.0</td>\n",
       "      <td>0.0</td>\n",
       "    </tr>\n",
       "    <tr>\n",
       "      <th>...</th>\n",
       "      <td>...</td>\n",
       "      <td>...</td>\n",
       "      <td>...</td>\n",
       "      <td>...</td>\n",
       "      <td>...</td>\n",
       "      <td>...</td>\n",
       "      <td>...</td>\n",
       "      <td>...</td>\n",
       "      <td>...</td>\n",
       "      <td>...</td>\n",
       "      <td>...</td>\n",
       "      <td>...</td>\n",
       "      <td>...</td>\n",
       "      <td>...</td>\n",
       "      <td>...</td>\n",
       "      <td>...</td>\n",
       "      <td>...</td>\n",
       "      <td>...</td>\n",
       "      <td>...</td>\n",
       "      <td>...</td>\n",
       "      <td>...</td>\n",
       "    </tr>\n",
       "    <tr>\n",
       "      <th>2022103131222541</th>\n",
       "      <td>0.0</td>\n",
       "      <td>0.0</td>\n",
       "      <td>0.0</td>\n",
       "      <td>0.0</td>\n",
       "      <td>0.0</td>\n",
       "      <td>0.0</td>\n",
       "      <td>0.0</td>\n",
       "      <td>0.0</td>\n",
       "      <td>0.0</td>\n",
       "      <td>0.0</td>\n",
       "      <td>...</td>\n",
       "      <td>0.0</td>\n",
       "      <td>0.0</td>\n",
       "      <td>0.0</td>\n",
       "      <td>0.0</td>\n",
       "      <td>0.0</td>\n",
       "      <td>0.0</td>\n",
       "      <td>0.0</td>\n",
       "      <td>0.0</td>\n",
       "      <td>0.0</td>\n",
       "      <td>0.0</td>\n",
       "    </tr>\n",
       "    <tr>\n",
       "      <th>2022103131240611</th>\n",
       "      <td>0.0</td>\n",
       "      <td>0.0</td>\n",
       "      <td>0.0</td>\n",
       "      <td>0.0</td>\n",
       "      <td>0.0</td>\n",
       "      <td>0.0</td>\n",
       "      <td>0.0</td>\n",
       "      <td>0.0</td>\n",
       "      <td>0.0</td>\n",
       "      <td>0.0</td>\n",
       "      <td>...</td>\n",
       "      <td>0.0</td>\n",
       "      <td>0.0</td>\n",
       "      <td>0.0</td>\n",
       "      <td>0.0</td>\n",
       "      <td>0.0</td>\n",
       "      <td>0.0</td>\n",
       "      <td>0.0</td>\n",
       "      <td>0.0</td>\n",
       "      <td>0.0</td>\n",
       "      <td>0.0</td>\n",
       "    </tr>\n",
       "    <tr>\n",
       "      <th>2022103131258581</th>\n",
       "      <td>0.0</td>\n",
       "      <td>0.0</td>\n",
       "      <td>0.0</td>\n",
       "      <td>0.0</td>\n",
       "      <td>0.0</td>\n",
       "      <td>0.0</td>\n",
       "      <td>0.0</td>\n",
       "      <td>0.0</td>\n",
       "      <td>0.0</td>\n",
       "      <td>0.0</td>\n",
       "      <td>...</td>\n",
       "      <td>0.0</td>\n",
       "      <td>0.0</td>\n",
       "      <td>0.0</td>\n",
       "      <td>0.0</td>\n",
       "      <td>0.0</td>\n",
       "      <td>0.0</td>\n",
       "      <td>0.0</td>\n",
       "      <td>0.0</td>\n",
       "      <td>0.0</td>\n",
       "      <td>0.0</td>\n",
       "    </tr>\n",
       "    <tr>\n",
       "      <th>2022103131270871</th>\n",
       "      <td>0.0</td>\n",
       "      <td>0.0</td>\n",
       "      <td>0.0</td>\n",
       "      <td>0.0</td>\n",
       "      <td>0.0</td>\n",
       "      <td>0.0</td>\n",
       "      <td>0.0</td>\n",
       "      <td>0.0</td>\n",
       "      <td>0.0</td>\n",
       "      <td>0.0</td>\n",
       "      <td>...</td>\n",
       "      <td>0.0</td>\n",
       "      <td>0.0</td>\n",
       "      <td>0.0</td>\n",
       "      <td>0.0</td>\n",
       "      <td>0.0</td>\n",
       "      <td>0.0</td>\n",
       "      <td>0.0</td>\n",
       "      <td>0.0</td>\n",
       "      <td>0.0</td>\n",
       "      <td>0.0</td>\n",
       "    </tr>\n",
       "    <tr>\n",
       "      <th>2022103131291011</th>\n",
       "      <td>0.0</td>\n",
       "      <td>0.0</td>\n",
       "      <td>0.0</td>\n",
       "      <td>0.0</td>\n",
       "      <td>0.0</td>\n",
       "      <td>0.0</td>\n",
       "      <td>0.0</td>\n",
       "      <td>0.0</td>\n",
       "      <td>0.0</td>\n",
       "      <td>0.0</td>\n",
       "      <td>...</td>\n",
       "      <td>0.0</td>\n",
       "      <td>0.0</td>\n",
       "      <td>0.0</td>\n",
       "      <td>0.0</td>\n",
       "      <td>0.0</td>\n",
       "      <td>0.0</td>\n",
       "      <td>0.0</td>\n",
       "      <td>0.0</td>\n",
       "      <td>0.0</td>\n",
       "      <td>0.0</td>\n",
       "    </tr>\n",
       "  </tbody>\n",
       "</table>\n",
       "<p>14931 rows × 263 columns</p>\n",
       "</div>"
      ],
      "text/plain": [
       "PRODUCT_NM        [ 냉동 ] [ 선물세트 ] 소잘우유+순우유 케이크 [ 730G ]   \\\n",
       "ORDER_NO                                                   \n",
       "2022092984329261                                     0.0   \n",
       "2022092991946891                                     0.0   \n",
       "2022093011331511                                     0.0   \n",
       "2022093011753231                                     0.0   \n",
       "2022093015433641                                     0.0   \n",
       "...                                                  ...   \n",
       "2022103131222541                                     0.0   \n",
       "2022103131240611                                     0.0   \n",
       "2022103131258581                                     0.0   \n",
       "2022103131270871                                     0.0   \n",
       "2022103131291011                                     0.0   \n",
       "\n",
       "PRODUCT_NM        [ 냉동 ] [ 선물세트 ] 소잘초코+순우유 케이크 [ 750G ]   \\\n",
       "ORDER_NO                                                   \n",
       "2022092984329261                                     0.0   \n",
       "2022092991946891                                     0.0   \n",
       "2022093011331511                                     0.0   \n",
       "2022093011753231                                     0.0   \n",
       "2022093015433641                                     0.0   \n",
       "...                                                  ...   \n",
       "2022103131222541                                     0.0   \n",
       "2022103131240611                                     0.0   \n",
       "2022103131258581                                     0.0   \n",
       "2022103131270871                                     0.0   \n",
       "2022103131291011                                     0.0   \n",
       "\n",
       "PRODUCT_NM        [ 냉동 ] 검은콩 롤케이크 [ 110G ]  [ 냉동 ] 딸기요거트 [ 롤케이크 ] [ 370G ]  \\\n",
       "ORDER_NO                                                                     \n",
       "2022092984329261                       0.0                             0.0   \n",
       "2022092991946891                       0.0                             0.0   \n",
       "2022093011331511                       0.0                             0.0   \n",
       "2022093011753231                       0.0                             0.0   \n",
       "2022093015433641                       0.0                             0.0   \n",
       "...                                    ...                             ...   \n",
       "2022103131222541                       0.0                             0.0   \n",
       "2022103131240611                       0.0                             0.0   \n",
       "2022103131258581                       0.0                             0.0   \n",
       "2022103131270871                       0.0                             0.0   \n",
       "2022103131291011                       0.0                             0.0   \n",
       "\n",
       "PRODUCT_NM        [ 냉동 ] 딸기요거트 [ 미니롤케이크 ] [ 110G ]  [ 냉동 ] 매일두유 롤케이크 [ 110G ]  \\\n",
       "ORDER_NO                                                                        \n",
       "2022092984329261                               0.0                        0.0   \n",
       "2022092991946891                               0.0                        0.0   \n",
       "2022093011331511                               0.0                        0.0   \n",
       "2022093011753231                               0.0                        0.0   \n",
       "2022093015433641                               0.0                        0.0   \n",
       "...                                            ...                        ...   \n",
       "2022103131222541                               0.0                        0.0   \n",
       "2022103131240611                               0.0                        0.0   \n",
       "2022103131258581                               0.0                        0.0   \n",
       "2022103131270871                               0.0                        0.0   \n",
       "2022103131291011                               0.0                        0.0   \n",
       "\n",
       "PRODUCT_NM        [ 냉동 ] 미니 바스크 치즈케이크 4종 [ 140G X 4 ]  \\\n",
       "ORDER_NO                                                \n",
       "2022092984329261                                  0.0   \n",
       "2022092991946891                                  0.0   \n",
       "2022093011331511                                  0.0   \n",
       "2022093011753231                                  0.0   \n",
       "2022093015433641                                  0.0   \n",
       "...                                               ...   \n",
       "2022103131222541                                  0.0   \n",
       "2022103131240611                                  0.0   \n",
       "2022103131258581                                  0.0   \n",
       "2022103131270871                                  0.0   \n",
       "2022103131291011                                  0.0   \n",
       "\n",
       "PRODUCT_NM        [ 냉동 ] 밀크 케이크 [ 400G ]   [ 냉동 ] 바스크치즈케이크 [ 470G ]  \\\n",
       "ORDER_NO                                                              \n",
       "2022092984329261                      0.0                       0.0   \n",
       "2022092991946891                      0.0                       0.0   \n",
       "2022093011331511                      0.0                       0.0   \n",
       "2022093011753231                      0.0                       0.0   \n",
       "2022093015433641                      0.0                       0.0   \n",
       "...                                   ...                       ...   \n",
       "2022103131222541                      0.0                       0.0   \n",
       "2022103131240611                      0.0                       0.0   \n",
       "2022103131258581                      0.0                       0.0   \n",
       "2022103131270871                      0.0                       0.0   \n",
       "2022103131291011                      0.0                       0.0   \n",
       "\n",
       "PRODUCT_NM        [ 냉동 ] 상하아이스크림 [ 딸기 ] [ 컵 ] [ 100ML ]  ...  \\\n",
       "ORDER_NO                                                 ...   \n",
       "2022092984329261                                    0.0  ...   \n",
       "2022092991946891                                    0.0  ...   \n",
       "2022093011331511                                    0.0  ...   \n",
       "2022093011753231                                    0.0  ...   \n",
       "2022093015433641                                    0.0  ...   \n",
       "...                                                 ...  ...   \n",
       "2022103131222541                                    0.0  ...   \n",
       "2022103131240611                                    0.0  ...   \n",
       "2022103131258581                                    0.0  ...   \n",
       "2022103131270871                                    0.0  ...   \n",
       "2022103131291011                                    0.0  ...   \n",
       "\n",
       "PRODUCT_NM        페레로 [ 킨더부에노 ] [ 화이트 ] [ T2 X 3 ]  \\\n",
       "ORDER_NO                                             \n",
       "2022092984329261                               0.0   \n",
       "2022092991946891                               0.0   \n",
       "2022093011331511                               0.0   \n",
       "2022093011753231                               0.0   \n",
       "2022093015433641                               0.0   \n",
       "...                                            ...   \n",
       "2022103131222541                               0.0   \n",
       "2022103131240611                               0.0   \n",
       "2022103131258581                               0.0   \n",
       "2022103131270871                               0.0   \n",
       "2022103131291011                               0.0   \n",
       "\n",
       "PRODUCT_NM        페레로 [ 킨더부에노 ] [ 화이트 ] [ T2 ]  \\\n",
       "ORDER_NO                                         \n",
       "2022092984329261                           0.0   \n",
       "2022092991946891                           0.0   \n",
       "2022093011331511                           0.0   \n",
       "2022093011753231                           0.0   \n",
       "2022093015433641                           0.0   \n",
       "...                                        ...   \n",
       "2022103131222541                           0.0   \n",
       "2022103131240611                           0.0   \n",
       "2022103131258581                           0.0   \n",
       "2022103131270871                           0.0   \n",
       "2022103131291011                           0.0   \n",
       "\n",
       "PRODUCT_NM        페레로 [ 킨더조이 ] [ 블루 ] [ 제네릭 ] [ T3 ]   페레로 [ 킨더초콜릿 ] [ T4 ]  \\\n",
       "ORDER_NO                                                                      \n",
       "2022092984329261                                  0.0                   0.0   \n",
       "2022092991946891                                  0.0                   0.0   \n",
       "2022093011331511                                  0.0                   0.0   \n",
       "2022093011753231                                  0.0                   0.0   \n",
       "2022093015433641                                  0.0                   0.0   \n",
       "...                                               ...                   ...   \n",
       "2022103131222541                                  0.0                   0.0   \n",
       "2022103131240611                                  0.0                   0.0   \n",
       "2022103131258581                                  0.0                   0.0   \n",
       "2022103131270871                                  0.0                   0.0   \n",
       "2022103131291011                                  0.0                   0.0   \n",
       "\n",
       "PRODUCT_NM        페레로 [ 킨더초콜릿 ] [ T8 ]  페레로 [ 킨더초콜릿 ] [ 미니 ] [ T20 ]  \\\n",
       "ORDER_NO                                                               \n",
       "2022092984329261                   0.0                           0.0   \n",
       "2022092991946891                   0.0                           0.0   \n",
       "2022093011331511                   0.0                           0.0   \n",
       "2022093011753231                   0.0                           0.0   \n",
       "2022093015433641                   0.0                           0.0   \n",
       "...                                ...                           ...   \n",
       "2022103131222541                   0.0                           0.0   \n",
       "2022103131240611                   0.0                           0.0   \n",
       "2022103131258581                   0.0                           0.0   \n",
       "2022103131270871                   0.0                           0.0   \n",
       "2022103131291011                   0.0                           0.0   \n",
       "\n",
       "PRODUCT_NM        핑크퐁 X 요미쌀과자 [ 브로콜리 ] [ 1단계 ] [ 25G ]   \\\n",
       "ORDER_NO                                                  \n",
       "2022092984329261                                    0.0   \n",
       "2022092991946891                                    0.0   \n",
       "2022093011331511                                    0.0   \n",
       "2022093011753231                                    0.0   \n",
       "2022093015433641                                    0.0   \n",
       "...                                                 ...   \n",
       "2022103131222541                                    0.0   \n",
       "2022103131240611                                    0.0   \n",
       "2022103131258581                                    0.0   \n",
       "2022103131270871                                    0.0   \n",
       "2022103131291011                                    0.0   \n",
       "\n",
       "PRODUCT_NM        핑크퐁X요미 미니팝 [ 구운옥수수 ] [ 25G ]  핑크퐁X요미 미니팝 [ 딸기요거트 ] [ 25G ]   \\\n",
       "ORDER_NO                                                                        \n",
       "2022092984329261                           0.0                            0.0   \n",
       "2022092991946891                           0.0                            0.0   \n",
       "2022093011331511                           0.0                            0.0   \n",
       "2022093011753231                           0.0                            0.0   \n",
       "2022093015433641                           0.0                            0.0   \n",
       "...                                        ...                            ...   \n",
       "2022103131222541                           0.0                            0.0   \n",
       "2022103131240611                           0.0                            0.0   \n",
       "2022103131258581                           0.0                            0.0   \n",
       "2022103131270871                           0.0                            0.0   \n",
       "2022103131291011                           0.0                            0.0   \n",
       "\n",
       "PRODUCT_NM        핑크퐁X요미 미니팝 [ 트리플치즈 ] [ 25G ]   \n",
       "ORDER_NO                                         \n",
       "2022092984329261                            0.0  \n",
       "2022092991946891                            0.0  \n",
       "2022093011331511                            0.0  \n",
       "2022093011753231                            0.0  \n",
       "2022093015433641                            0.0  \n",
       "...                                         ...  \n",
       "2022103131222541                            0.0  \n",
       "2022103131240611                            0.0  \n",
       "2022103131258581                            0.0  \n",
       "2022103131270871                            0.0  \n",
       "2022103131291011                            0.0  \n",
       "\n",
       "[14931 rows x 263 columns]"
      ]
     },
     "execution_count": 35,
     "metadata": {},
     "output_type": "execute_result"
    }
   ],
   "source": [
    "basket"
   ]
  },
  {
   "cell_type": "code",
   "execution_count": 11,
   "metadata": {
    "colab": {},
    "colab_type": "code",
    "executionInfo": {
     "elapsed": 2568,
     "status": "ok",
     "timestamp": 1595572806280,
     "user": {
      "displayName": "박경하",
      "photoUrl": "",
      "userId": "14970276928355419245"
     },
     "user_tz": -540
    },
    "id": "y6j0qvlcihQr"
   },
   "outputs": [],
   "source": []
  },
  {
   "cell_type": "code",
   "execution_count": 11,
   "metadata": {
    "colab": {},
    "colab_type": "code",
    "executionInfo": {
     "elapsed": 2334,
     "status": "ok",
     "timestamp": 1595572806283,
     "user": {
      "displayName": "박경하",
      "photoUrl": "",
      "userId": "14970276928355419245"
     },
     "user_tz": -540
    },
    "id": "RIsOPlVmihQv"
   },
   "outputs": [],
   "source": []
  },
  {
   "cell_type": "code",
   "execution_count": 11,
   "metadata": {
    "colab": {},
    "colab_type": "code",
    "executionInfo": {
     "elapsed": 795,
     "status": "ok",
     "timestamp": 1595572810676,
     "user": {
      "displayName": "박경하",
      "photoUrl": "",
      "userId": "14970276928355419245"
     },
     "user_tz": -540
    },
    "id": "0gY32D-PihQ0"
   },
   "outputs": [],
   "source": []
  },
  {
   "cell_type": "code",
   "execution_count": 36,
   "metadata": {
    "colab": {
     "base_uri": "https://localhost:8080/",
     "height": 53
    },
    "colab_type": "code",
    "executionInfo": {
     "elapsed": 5165,
     "status": "ok",
     "timestamp": 1595573638156,
     "user": {
      "displayName": "박경하",
      "photoUrl": "",
      "userId": "14970276928355419245"
     },
     "user_tz": -540
    },
    "id": "aFmo3HYmihQ3",
    "outputId": "be63e429-6a66-4fc3-f25e-e366206fe6d5"
   },
   "outputs": [
    {
     "name": "stdout",
     "output_type": "stream",
     "text": [
      "Wall time: 1.71 s\n"
     ]
    }
   ],
   "source": [
    "%%time \n",
    "\n",
    "df_array_user = basket.values\n",
    "df_array_category = basket.T.values\n",
    "\n",
    "from sklearn.decomposition import TruncatedSVD\n",
    "\n",
    "# 차원축소\n",
    "SVD = TruncatedSVD(n_components=12)\n",
    "SVD_matrix_user = SVD.fit_transform(df_array_user)\n",
    "SVD_matrix_category = SVD.fit_transform(df_array_category)\n",
    "# SVD_matrix.shape\n"
   ]
  },
  {
   "cell_type": "code",
   "execution_count": 37,
   "metadata": {
    "colab": {},
    "colab_type": "code",
    "id": "eNvPtyGamZJv"
   },
   "outputs": [],
   "source": [
    "corr_SVD_user = np.corrcoef(SVD_matrix_user)"
   ]
  },
  {
   "cell_type": "code",
   "execution_count": 38,
   "metadata": {
    "colab": {},
    "colab_type": "code",
    "id": "J_Pmmf4tjLT8"
   },
   "outputs": [],
   "source": [
    "# 상관관계\n",
    "# corr_SVD_user = np.corrcoef(SVD_matrix_user)\n",
    "corr_SVD_category = np.corrcoef(SVD_matrix_category)\n",
    "# corr_SVD_user.shape"
   ]
  },
  {
   "cell_type": "code",
   "execution_count": 39,
   "metadata": {
    "colab": {},
    "colab_type": "code",
    "id": "OvswdnZrihQ7"
   },
   "outputs": [
    {
     "data": {
      "text/plain": [
       "((14931, 14931), (263, 263))"
      ]
     },
     "execution_count": 39,
     "metadata": {},
     "output_type": "execute_result"
    }
   ],
   "source": [
    "#자료 확인\n",
    "corr_SVD_user.shape, corr_SVD_category.shape"
   ]
  },
  {
   "cell_type": "code",
   "execution_count": 40,
   "metadata": {
    "colab": {},
    "colab_type": "code",
    "id": "ieWUb5gdihQ_"
   },
   "outputs": [],
   "source": [
    "df_svd_preds = pd.DataFrame(corr_SVD_user)"
   ]
  },
  {
   "cell_type": "code",
   "execution_count": 42,
   "metadata": {
    "colab": {},
    "colab_type": "code",
    "id": "amIDxhSbihRD"
   },
   "outputs": [],
   "source": [
    "indices = pd.Series(basket.index, index=df_svd_preds.index).drop_duplicates()\n",
    "df_indices = pd.DataFrame(indices).reset_index()\n",
    "df_indices = df_indices.rename(columns = {'index' : 'userId'})"
   ]
  },
  {
   "cell_type": "code",
   "execution_count": null,
   "metadata": {
    "colab": {},
    "colab_type": "code",
    "id": "U9Mu97_bihRJ"
   },
   "outputs": [],
   "source": []
  },
  {
   "cell_type": "code",
   "execution_count": 43,
   "metadata": {
    "colab": {},
    "colab_type": "code",
    "id": "wZe7GatQihRM"
   },
   "outputs": [],
   "source": [
    "target = list(df_indices['userId'])"
   ]
  },
  {
   "cell_type": "code",
   "execution_count": null,
   "metadata": {},
   "outputs": [],
   "source": []
  },
  {
   "cell_type": "code",
   "execution_count": 63,
   "metadata": {
    "colab": {},
    "colab_type": "code",
    "id": "fD7EQMj6ihRP"
   },
   "outputs": [
    {
     "name": "stdout",
     "output_type": "stream",
     "text": [
      "Wall time: 12min 38s\n"
     ]
    }
   ],
   "source": [
    "%%time \n",
    "\n",
    "df_indices_result =[]\n",
    "\n",
    "for i in range(0, len(target)):\n",
    "    # 개인을 선택\n",
    "    user_row_number = i\n",
    "\n",
    "    # 선택한 개인의 회원번호\n",
    "    userId = indices.loc[user_row_number]\n",
    "\n",
    "    # 유사 인원에 대한 정렬\n",
    "    sorted_user_predictions = df_svd_preds[user_row_number].sort_values(ascending = False)\n",
    "    sorted_user_predictions = pd.DataFrame(sorted_user_predictions).reset_index()\n",
    "    sorted_user_predictions = sorted_user_predictions.rename(columns = {'index' : 'userId', 1 : 'Predictions'})\n",
    "\n",
    "    #구매 내용에서, 해당고객 추출(ex. 0-> 5369763)\n",
    "    user_data = df[df.ORDER_NO == userId]\n",
    "    user_history = pd.DataFrame(user_data.groupby(['ORDER_NO', 'PRODUCT_NM'])['REG_DTM'].count().reset_index())\n",
    "\n",
    "    # 구매한 제품은 제외\n",
    "    recommandations = df[~df['PRODUCT_NM'].isin(user_history['PRODUCT_NM'])]\n",
    "\n",
    "    # 제품과 유사도 내용을 합친다\n",
    "    recommandations = recommandations.merge(df_indices, on ='ORDER_NO')\n",
    "    recommandations = recommandations.merge(sorted_user_predictions, on ='userId').rename(columns = {'index' : 'userId', i : 'Predictions'})\n",
    "    recommandations = recommandations.sort_values(by ='Predictions', ascending = False)\n",
    "\n",
    "    #제품별 중복 제거\n",
    "    recommandations = recommandations[['PRODUCT_NM']].drop_duplicates(['PRODUCT_NM'])[:3]\n",
    "    recommandations = recommandations.T.values\n",
    "\n",
    "    #3개 제품만 선택\n",
    "#     recommandations = recommandations[['CATEGORY_CODE']].drop_duplicates(['CATEGORY_CODE'])[:3]\n",
    "    df_indices_result.append(recommandations)"
   ]
  },
  {
   "cell_type": "code",
   "execution_count": 64,
   "metadata": {
    "colab": {},
    "colab_type": "code",
    "id": "ldI5n3arihRS",
    "outputId": "b66dec3b-2daa-45bc-a085-35cdc97fcfbe"
   },
   "outputs": [
    {
     "name": "stderr",
     "output_type": "stream",
     "text": [
      "C:\\ProgramData\\Anaconda3\\lib\\site-packages\\ipykernel_launcher.py:3: SettingWithCopyWarning: \n",
      "A value is trying to be set on a copy of a slice from a DataFrame\n",
      "\n",
      "See the caveats in the documentation: https://pandas.pydata.org/pandas-docs/stable/user_guide/indexing.html#returning-a-view-versus-a-copy\n",
      "  This is separate from the ipykernel package so we can avoid doing imports until\n"
     ]
    }
   ],
   "source": [
    "df_indices['RECOMMEND'] =''\n",
    "for i in range(0, len(df_indices_result)):\n",
    "    df_indices['RECOMMEND'][i] = df_indices_result[i]"
   ]
  },
  {
   "cell_type": "code",
   "execution_count": 65,
   "metadata": {
    "colab": {},
    "colab_type": "code",
    "id": "mArkfGnyihRV",
    "outputId": "e832849d-8e02-4307-cb1a-66e8d2489bef",
    "scrolled": true
   },
   "outputs": [
    {
     "data": {
      "text/html": [
       "<div>\n",
       "<style scoped>\n",
       "    .dataframe tbody tr th:only-of-type {\n",
       "        vertical-align: middle;\n",
       "    }\n",
       "\n",
       "    .dataframe tbody tr th {\n",
       "        vertical-align: top;\n",
       "    }\n",
       "\n",
       "    .dataframe thead th {\n",
       "        text-align: right;\n",
       "    }\n",
       "</style>\n",
       "<table border=\"1\" class=\"dataframe\">\n",
       "  <thead>\n",
       "    <tr style=\"text-align: right;\">\n",
       "      <th></th>\n",
       "      <th>userId</th>\n",
       "      <th>ORDER_NO</th>\n",
       "      <th>RECOMMEND</th>\n",
       "    </tr>\n",
       "  </thead>\n",
       "  <tbody>\n",
       "    <tr>\n",
       "      <th>14926</th>\n",
       "      <td>14926</td>\n",
       "      <td>2022103131222541</td>\n",
       "      <td>[[요미 유기농 주스 [ 4본 ] [ 사과배 ] [ 125ML ], 분유 앱솔루트 ...</td>\n",
       "    </tr>\n",
       "    <tr>\n",
       "      <th>14927</th>\n",
       "      <td>14927</td>\n",
       "      <td>2022103131240611</td>\n",
       "      <td>[[요미 유기농 주스 [ 4본 ] [ 사과배 ] [ 125ML ], 분유 앱솔루트 ...</td>\n",
       "    </tr>\n",
       "    <tr>\n",
       "      <th>14928</th>\n",
       "      <td>14928</td>\n",
       "      <td>2022103131258581</td>\n",
       "      <td>[[요미 유기농 주스 [ 4본 ] [ 사과배 ] [ 125ML ], 분유 앱솔루트 ...</td>\n",
       "    </tr>\n",
       "    <tr>\n",
       "      <th>14929</th>\n",
       "      <td>14929</td>\n",
       "      <td>2022103131270871</td>\n",
       "      <td>[[요미 유기농 주스 [ 4본 ] [ 사과배 ] [ 125ML ], 분유 앱솔루트 ...</td>\n",
       "    </tr>\n",
       "    <tr>\n",
       "      <th>14930</th>\n",
       "      <td>14930</td>\n",
       "      <td>2022103131291011</td>\n",
       "      <td>[[[ 냉동 ] 바스크치즈케이크 [ 470G ], 페레로 [ 로쉐 ] [ T24 ]...</td>\n",
       "    </tr>\n",
       "  </tbody>\n",
       "</table>\n",
       "</div>"
      ],
      "text/plain": [
       "       userId          ORDER_NO  \\\n",
       "14926   14926  2022103131222541   \n",
       "14927   14927  2022103131240611   \n",
       "14928   14928  2022103131258581   \n",
       "14929   14929  2022103131270871   \n",
       "14930   14930  2022103131291011   \n",
       "\n",
       "                                               RECOMMEND  \n",
       "14926  [[요미 유기농 주스 [ 4본 ] [ 사과배 ] [ 125ML ], 분유 앱솔루트 ...  \n",
       "14927  [[요미 유기농 주스 [ 4본 ] [ 사과배 ] [ 125ML ], 분유 앱솔루트 ...  \n",
       "14928  [[요미 유기농 주스 [ 4본 ] [ 사과배 ] [ 125ML ], 분유 앱솔루트 ...  \n",
       "14929  [[요미 유기농 주스 [ 4본 ] [ 사과배 ] [ 125ML ], 분유 앱솔루트 ...  \n",
       "14930  [[[ 냉동 ] 바스크치즈케이크 [ 470G ], 페레로 [ 로쉐 ] [ T24 ]...  "
      ]
     },
     "execution_count": 65,
     "metadata": {},
     "output_type": "execute_result"
    }
   ],
   "source": [
    "df_indices.tail()"
   ]
  },
  {
   "cell_type": "code",
   "execution_count": 66,
   "metadata": {
    "colab": {},
    "colab_type": "code",
    "id": "EwKVJ5z0ihRZ"
   },
   "outputs": [],
   "source": [
    "# Excel 저장\n",
    "name = '230102_고객성향분석_네이버_v3.xlsx'\n",
    "df_indices.to_excel(name, sheet_name= 'SVD' )"
   ]
  },
  {
   "cell_type": "code",
   "execution_count": null,
   "metadata": {
    "colab": {},
    "colab_type": "code",
    "id": "m4_wCjlDihRc"
   },
   "outputs": [],
   "source": []
  },
  {
   "cell_type": "code",
   "execution_count": null,
   "metadata": {
    "colab": {},
    "colab_type": "code",
    "id": "aI63UTRQihRf"
   },
   "outputs": [],
   "source": []
  },
  {
   "cell_type": "code",
   "execution_count": null,
   "metadata": {
    "colab": {},
    "colab_type": "code",
    "id": "E7xJOdKuihRh"
   },
   "outputs": [],
   "source": [
    "df_array_user = df_table.values\n",
    "df_array_category = df_table.T.values\n",
    "\n",
    "from sklearn.decomposition import PCA\n",
    "\n",
    "# 차원축소\n",
    "PCA = PCA(n_components=12)\n",
    "PCA_matrix_user = PCA.fit_transform(df_array_user)\n",
    "PCA_matrix_category = PCA.fit_transform(df_array_category)\n",
    "# SVD_matrix.shape\n",
    "\n",
    "# 상관관계\n",
    "corr_PCA_user = np.corrcoef(PCA_matrix_user)\n",
    "corr_PCA_category = np.corrcoef(PCA_matrix_category)\n",
    "# corr_SVD_user.shape\n",
    "\n",
    "df_pca_preds = pd.DataFrame(corr_PCA_user)\n",
    "\n",
    "indices = pd.Series(df_table.index, index=df_pca_preds.index).drop_duplicates()\n",
    "df_indices = pd.DataFrame(indices).reset_index()\n",
    "df_indices = df_indices.rename(columns = {'index' : 'userId'})"
   ]
  },
  {
   "cell_type": "code",
   "execution_count": null,
   "metadata": {
    "colab": {},
    "colab_type": "code",
    "id": "pHtdQ5_MihRk",
    "outputId": "c0506a21-6dac-4022-8888-349079c5e1b8"
   },
   "outputs": [
    {
     "name": "stdout",
     "output_type": "stream",
     "text": [
      "Wall time: 23min 8s\n"
     ]
    }
   ],
   "source": [
    "%%time \n",
    "\n",
    "df_indices_result =[]\n",
    "\n",
    "for i in range(0, len(target)):\n",
    "    # 개인을 선택\n",
    "    user_row_number = i\n",
    "\n",
    "    # 선택한 개인의 회원번호\n",
    "    userId = indices.loc[user_row_number]\n",
    "\n",
    "    # 유사 인원에 대한 정렬\n",
    "    sorted_user_predictions = df_pca_preds[user_row_number].sort_values(ascending = False)\n",
    "    sorted_user_predictions = pd.DataFrame(sorted_user_predictions).reset_index()\n",
    "    sorted_user_predictions = sorted_user_predictions.rename(columns = {'index' : 'userId', 1 : 'Predictions'})\n",
    "\n",
    "    #구매 내용에서, 해당고객 추출(ex. 0-> 5369763)\n",
    "    user_data = df1_simple[df1_simple.MEMBER_NO == userId]\n",
    "    user_history = pd.DataFrame(user_data.groupby(['MEMBER_NO', 'PRM_PRODUCT_CODE'])['PRODUCT_COUNT'].sum().reset_index())\n",
    "\n",
    "    # 구매한 제품은 제외\n",
    "    recommandations = df1_simple[~df1_simple['PRM_PRODUCT_CODE'].isin(user_history['PRM_PRODUCT_CODE'])]\n",
    "\n",
    "    # 제품과 유사도 내용을 합친다\n",
    "    recommandations = recommandations.merge(df_indices, on ='MEMBER_NO')\n",
    "    recommandations = recommandations.merge(sorted_user_predictions, on ='userId').rename(columns = {'index' : 'userId', i : 'Predictions'})\n",
    "    recommandations = recommandations.sort_values(by ='Predictions', ascending = False)\n",
    "\n",
    "    #제품별 중복 제거\n",
    "    recommandations = recommandations[['PRM_PRODUCT_CODE']].drop_duplicates(['PRM_PRODUCT_CODE'])[:3]\n",
    "    recommandations = recommandations.T.values\n",
    "\n",
    "    #3개 제품만 선택\n",
    "#     recommandations = recommandations[['CATEGORY_CODE']].drop_duplicates(['CATEGORY_CODE'])[:3]\n",
    "    df_indices_result.append(recommandations)"
   ]
  },
  {
   "cell_type": "code",
   "execution_count": null,
   "metadata": {
    "colab": {},
    "colab_type": "code",
    "id": "fNTDW3DEihRn",
    "outputId": "45afea7c-0c46-44b1-f341-0b09dac93cfd"
   },
   "outputs": [
    {
     "name": "stderr",
     "output_type": "stream",
     "text": [
      "C:\\ProgramData\\Anaconda3\\lib\\site-packages\\ipykernel_launcher.py:3: SettingWithCopyWarning: \n",
      "A value is trying to be set on a copy of a slice from a DataFrame\n",
      "\n",
      "See the caveats in the documentation: https://pandas.pydata.org/pandas-docs/stable/user_guide/indexing.html#returning-a-view-versus-a-copy\n",
      "  This is separate from the ipykernel package so we can avoid doing imports until\n"
     ]
    }
   ],
   "source": [
    "df_indices['RECOMMEND'] =''\n",
    "for i in range(0, len(df_indices_result)):\n",
    "    df_indices['RECOMMEND'][i] = df_indices_result[i]"
   ]
  },
  {
   "cell_type": "code",
   "execution_count": null,
   "metadata": {
    "colab": {},
    "colab_type": "code",
    "id": "nwEuIn_FihRr",
    "outputId": "91552891-879d-4100-a1cc-59679bea5961"
   },
   "outputs": [
    {
     "data": {
      "text/html": [
       "<div>\n",
       "<style scoped>\n",
       "    .dataframe tbody tr th:only-of-type {\n",
       "        vertical-align: middle;\n",
       "    }\n",
       "\n",
       "    .dataframe tbody tr th {\n",
       "        vertical-align: top;\n",
       "    }\n",
       "\n",
       "    .dataframe thead th {\n",
       "        text-align: right;\n",
       "    }\n",
       "</style>\n",
       "<table border=\"1\" class=\"dataframe\">\n",
       "  <thead>\n",
       "    <tr style=\"text-align: right;\">\n",
       "      <th></th>\n",
       "      <th>userId</th>\n",
       "      <th>MEMBER_NO</th>\n",
       "      <th>RECOMMEND</th>\n",
       "    </tr>\n",
       "  </thead>\n",
       "  <tbody>\n",
       "    <tr>\n",
       "      <th>9830</th>\n",
       "      <td>9830</td>\n",
       "      <td>970022</td>\n",
       "      <td>[[179799, 270717, 170081]]</td>\n",
       "    </tr>\n",
       "    <tr>\n",
       "      <th>9831</th>\n",
       "      <td>9831</td>\n",
       "      <td>971560</td>\n",
       "      <td>[[179333, 270591, 270990]]</td>\n",
       "    </tr>\n",
       "    <tr>\n",
       "      <th>9832</th>\n",
       "      <td>9832</td>\n",
       "      <td>973510</td>\n",
       "      <td>[[179966, 179203, 179968]]</td>\n",
       "    </tr>\n",
       "    <tr>\n",
       "      <th>9833</th>\n",
       "      <td>9833</td>\n",
       "      <td>973893</td>\n",
       "      <td>[[179982, 271011, 179760]]</td>\n",
       "    </tr>\n",
       "    <tr>\n",
       "      <th>9834</th>\n",
       "      <td>9834</td>\n",
       "      <td>998207</td>\n",
       "      <td>[[179767, 179376, 179876]]</td>\n",
       "    </tr>\n",
       "  </tbody>\n",
       "</table>\n",
       "</div>"
      ],
      "text/plain": [
       "      userId MEMBER_NO                   RECOMMEND\n",
       "9830    9830    970022  [[179799, 270717, 170081]]\n",
       "9831    9831    971560  [[179333, 270591, 270990]]\n",
       "9832    9832    973510  [[179966, 179203, 179968]]\n",
       "9833    9833    973893  [[179982, 271011, 179760]]\n",
       "9834    9834    998207  [[179767, 179376, 179876]]"
      ]
     },
     "execution_count": 24,
     "metadata": {
      "tags": []
     },
     "output_type": "execute_result"
    }
   ],
   "source": [
    "df_indices.tail()"
   ]
  },
  {
   "cell_type": "code",
   "execution_count": null,
   "metadata": {
    "colab": {},
    "colab_type": "code",
    "id": "Myu4kXi2ihRv"
   },
   "outputs": [],
   "source": [
    "# Excel 저장\n",
    "\n",
    "# Create a Pandas Excel writer using XlsxWriter as the engine.\n",
    "writer = pd.ExcelWriter('200721_고객성향분석_direct_v2.xlsx', engine='xlsxwriter')\n",
    "\n",
    "# Write each dataframe to a different worksheet.\n",
    "df_indices_SDV.to_excel(writer, sheet_name= 'SDV' )\n",
    "df_indices_PCA.to_excel(writer, sheet_name= 'PCA' )\n",
    "\n",
    "# Close the Pandas Excel writer and output the Excel file.\n",
    "writer.save()"
   ]
  },
  {
   "cell_type": "code",
   "execution_count": null,
   "metadata": {
    "colab": {},
    "colab_type": "code",
    "id": "RKaoBsG2ihRx"
   },
   "outputs": [],
   "source": []
  },
  {
   "cell_type": "code",
   "execution_count": null,
   "metadata": {
    "colab": {},
    "colab_type": "code",
    "id": "tnELdqN4ihR3"
   },
   "outputs": [],
   "source": []
  },
  {
   "cell_type": "markdown",
   "metadata": {
    "colab_type": "text",
    "id": "SqfGCIJ-ihR7"
   },
   "source": [
    "### 4.결과 비교 : SDV vs PCA\n",
    ": 처음 column이 내용을 잘 설명한다는 것을 가정함"
   ]
  },
  {
   "cell_type": "code",
   "execution_count": null,
   "metadata": {
    "colab": {},
    "colab_type": "code",
    "id": "CdUgJMikihR8"
   },
   "outputs": [],
   "source": [
    "def graph_corr(i,j):\n",
    "    plt.figure(figsize=(12,5))\n",
    "    plt.subplot(1,2,1); plt.scatter(corr_SVD_user[:,i], corr_SVD_user[:,j])\n",
    "    plt.subplot(1,2,2); plt.scatter(corr_PCA_user[:,i], corr_PCA_user[:,j])\n",
    "    plt.show()"
   ]
  },
  {
   "cell_type": "code",
   "execution_count": null,
   "metadata": {
    "colab": {},
    "colab_type": "code",
    "id": "UjtgPbGTihSB",
    "outputId": "ec4c811d-7490-46c5-9a5c-e9354b387ea5"
   },
   "outputs": [
    {
     "data": {
      "image/png": "[encoded data removed]",
      "text/plain": [
       "<Figure size 864x360 with 2 Axes>"
      ]
     },
     "metadata": {
      "tags": []
     },
     "output_type": "display_data"
    }
   ],
   "source": [
    "# 모형의 차이 : sample1\n",
    "graph_corr(0,1)"
   ]
  },
  {
   "cell_type": "code",
   "execution_count": null,
   "metadata": {
    "colab": {},
    "colab_type": "code",
    "id": "SgyziV0IihSF",
    "outputId": "d83d3b57-c00a-42a8-8d3a-139580886800"
   },
   "outputs": [
    {
     "data": {
      "image/png": "[encoded data removed]",
      "text/plain": [
       "<Figure size 864x360 with 2 Axes>"
      ]
     },
     "metadata": {
      "tags": []
     },
     "output_type": "display_data"
    }
   ],
   "source": [
    "# 모형의 차이 : sample1\n",
    "graph_corr(0,2)"
   ]
  },
  {
   "cell_type": "code",
   "execution_count": null,
   "metadata": {
    "colab": {},
    "colab_type": "code",
    "id": "IeCu4WRDihSJ",
    "outputId": "aa0e055e-9759-4a36-f745-200b1a85b0ae"
   },
   "outputs": [
    {
     "data": {
      "image/png": "[encoded data removed]",
      "text/plain": [
       "<Figure size 864x360 with 2 Axes>"
      ]
     },
     "metadata": {
      "tags": []
     },
     "output_type": "display_data"
    }
   ],
   "source": [
    "# 모형의 차이 : sample1\n",
    "graph_corr(0,3)"
   ]
  },
  {
   "cell_type": "code",
   "execution_count": null,
   "metadata": {
    "colab": {},
    "colab_type": "code",
    "id": "aDUIpL1GihSM"
   },
   "outputs": [],
   "source": []
  },
  {
   "cell_type": "code",
   "execution_count": null,
   "metadata": {
    "colab": {},
    "colab_type": "code",
    "id": "mqSXOsFiihSQ",
    "outputId": "6c6892bb-c63c-4f8c-e937-b1a12375a1e0"
   },
   "outputs": [
    {
     "data": {
      "image/png": "[encoded data removed]",
      "text/plain": [
       "<Figure size 864x360 with 2 Axes>"
      ]
     },
     "metadata": {
      "tags": []
     },
     "output_type": "display_data"
    }
   ],
   "source": [
    "# 모형의 차이 : sample4\n",
    "graph_corr(0,-3)"
   ]
  },
  {
   "cell_type": "code",
   "execution_count": null,
   "metadata": {
    "colab": {},
    "colab_type": "code",
    "id": "_t6fYgAeihSU",
    "outputId": "ccd313ec-b53e-4231-b0be-69c7739941cc"
   },
   "outputs": [
    {
     "data": {
      "image/png": "[encoded data removed]",
      "text/plain": [
       "<Figure size 864x360 with 2 Axes>"
      ]
     },
     "metadata": {
      "tags": []
     },
     "output_type": "display_data"
    }
   ],
   "source": [
    "# 모형의 차이 : sample5\n",
    "graph_corr(0,-2)"
   ]
  },
  {
   "cell_type": "code",
   "execution_count": null,
   "metadata": {
    "colab": {},
    "colab_type": "code",
    "id": "vZM41sFDihSX",
    "outputId": "fa8588a8-e821-4036-c357-821d2d5d2e70"
   },
   "outputs": [
    {
     "data": {
      "image/png": "[encoded data removed]",
      "text/plain": [
       "<Figure size 864x360 with 2 Axes>"
      ]
     },
     "metadata": {
      "tags": []
     },
     "output_type": "display_data"
    }
   ],
   "source": [
    "# 모형의 차이 : sample1\n",
    "graph_corr(0,-1)"
   ]
  },
  {
   "cell_type": "code",
   "execution_count": null,
   "metadata": {
    "colab": {},
    "colab_type": "code",
    "id": "vcAMVXBfihSb"
   },
   "outputs": [],
   "source": []
  },
  {
   "cell_type": "code",
   "execution_count": null,
   "metadata": {
    "colab": {},
    "colab_type": "code",
    "id": "VurXLMMQihSd"
   },
   "outputs": [],
   "source": []
  },
  {
   "cell_type": "code",
   "execution_count": null,
   "metadata": {
    "colab": {},
    "colab_type": "code",
    "id": "ZG1tVFsTihSg"
   },
   "outputs": [],
   "source": []
  },
  {
   "cell_type": "code",
   "execution_count": null,
   "metadata": {
    "colab": {},
    "colab_type": "code",
    "id": "0oWzTTQzihSi"
   },
   "outputs": [],
   "source": []
  },
  {
   "cell_type": "code",
   "execution_count": 50,
   "metadata": {
    "colab": {},
    "colab_type": "code",
    "id": "E0f4OD6KihSn"
   },
   "outputs": [],
   "source": [
    "def encode_units(x):\n",
    "    if x <= 0:\n",
    "        return 0\n",
    "    if x >= 1:\n",
    "        return 1\n",
    "basket_sets = basket.applymap(encode_units)\n",
    "# basket_sets.drop('POSTAGE', inplace=True, axis=1)\n",
    "# basket_sets"
   ]
  },
  {
   "cell_type": "code",
   "execution_count": 55,
   "metadata": {
    "colab": {},
    "colab_type": "code",
    "id": "UejikXAVihSr"
   },
   "outputs": [
    {
     "data": {
      "text/html": [
       "<div>\n",
       "<style scoped>\n",
       "    .dataframe tbody tr th:only-of-type {\n",
       "        vertical-align: middle;\n",
       "    }\n",
       "\n",
       "    .dataframe tbody tr th {\n",
       "        vertical-align: top;\n",
       "    }\n",
       "\n",
       "    .dataframe thead th {\n",
       "        text-align: right;\n",
       "    }\n",
       "</style>\n",
       "<table border=\"1\" class=\"dataframe\">\n",
       "  <thead>\n",
       "    <tr style=\"text-align: right;\">\n",
       "      <th></th>\n",
       "      <th>antecedents</th>\n",
       "      <th>consequents</th>\n",
       "      <th>antecedent support</th>\n",
       "      <th>consequent support</th>\n",
       "      <th>support</th>\n",
       "      <th>confidence</th>\n",
       "      <th>lift</th>\n",
       "      <th>leverage</th>\n",
       "      <th>conviction</th>\n",
       "    </tr>\n",
       "  </thead>\n",
       "  <tbody>\n",
       "  </tbody>\n",
       "</table>\n",
       "</div>"
      ],
      "text/plain": [
       "Empty DataFrame\n",
       "Columns: [antecedents, consequents, antecedent support, consequent support, support, confidence, lift, leverage, conviction]\n",
       "Index: []"
      ]
     },
     "execution_count": 55,
     "metadata": {},
     "output_type": "execute_result"
    }
   ],
   "source": [
    "frequent_itemsets = apriori(basket_sets, min_support=0.05, use_colnames=True)\n",
    "rules = association_rules(frequent_itemsets, metric=\"lift\", min_threshold=0.5)\n",
    "# rules.head()"
   ]
  },
  {
   "cell_type": "code",
   "execution_count": 59,
   "metadata": {
    "colab": {},
    "colab_type": "code",
    "id": "5NWNgG_gihSw"
   },
   "outputs": [
    {
     "data": {
      "text/html": [
       "<div>\n",
       "<style scoped>\n",
       "    .dataframe tbody tr th:only-of-type {\n",
       "        vertical-align: middle;\n",
       "    }\n",
       "\n",
       "    .dataframe tbody tr th {\n",
       "        vertical-align: top;\n",
       "    }\n",
       "\n",
       "    .dataframe thead th {\n",
       "        text-align: right;\n",
       "    }\n",
       "</style>\n",
       "<table border=\"1\" class=\"dataframe\">\n",
       "  <thead>\n",
       "    <tr style=\"text-align: right;\">\n",
       "      <th></th>\n",
       "      <th>antecedents</th>\n",
       "      <th>consequents</th>\n",
       "      <th>antecedent support</th>\n",
       "      <th>consequent support</th>\n",
       "      <th>support</th>\n",
       "      <th>confidence</th>\n",
       "      <th>lift</th>\n",
       "      <th>leverage</th>\n",
       "      <th>conviction</th>\n",
       "    </tr>\n",
       "  </thead>\n",
       "  <tbody>\n",
       "  </tbody>\n",
       "</table>\n",
       "</div>"
      ],
      "text/plain": [
       "Empty DataFrame\n",
       "Columns: [antecedents, consequents, antecedent support, consequent support, support, confidence, lift, leverage, conviction]\n",
       "Index: []"
      ]
     },
     "execution_count": 59,
     "metadata": {},
     "output_type": "execute_result"
    }
   ],
   "source": [
    "rules[ (rules['lift'] >= 1) &\n",
    "      (rules['confidence'] >= 0.2) ]"
   ]
  },
  {
   "cell_type": "code",
   "execution_count": null,
   "metadata": {
    "colab": {},
    "colab_type": "code",
    "id": "IF9b-p3JihS0"
   },
   "outputs": [],
   "source": []
  }
 ],
 "metadata": {
  "colab": {
   "name": "200713_제품추천 인원 선별_DS(from EMP).ipynb",
   "provenance": []
  },
  "kernelspec": {
   "display_name": "Python 3",
   "language": "python",
   "name": "python3"
  },
  "language_info": {
   "codemirror_mode": {
    "name": "ipython",
    "version": 3
   },
   "file_extension": ".py",
   "mimetype": "text/x-python",
   "name": "python",
   "nbconvert_exporter": "python",
   "pygments_lexer": "ipython3",
   "version": "3.7.6"
  }
 },
 "nbformat": 4,
 "nbformat_minor": 1
}
